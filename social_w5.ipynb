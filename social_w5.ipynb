{
  "nbformat": 4,
  "nbformat_minor": 0,
  "metadata": {
    "colab": {
      "provenance": [],
      "include_colab_link": true
    },
    "kernelspec": {
      "name": "ir",
      "display_name": "R"
    },
    "language_info": {
      "name": "R"
    }
  },
  "cells": [
    {
      "cell_type": "markdown",
      "metadata": {
        "id": "view-in-github",
        "colab_type": "text"
      },
      "source": [
        "<a href=\"https://colab.research.google.com/github/IsraaFahmy/Statistics-and-Data-Science-Micromasters-/blob/main/social_w5.ipynb\" target=\"_parent\"><img src=\"https://colab.research.google.com/assets/colab-badge.svg\" alt=\"Open In Colab\"/></a>"
      ]
    },
    {
      "cell_type": "markdown",
      "source": [
        "### Sampling and Estimators"
      ],
      "metadata": {
        "id": "yFs_YCTJN40Q"
      }
    },
    {
      "cell_type": "code",
      "source": [
        "library(tidyverse)"
      ],
      "metadata": {
        "id": "HRMG5J7NOPjM"
      },
      "execution_count": null,
      "outputs": []
    },
    {
      "cell_type": "markdown",
      "source": [
        "<div class = \"alert alert-info\">\n",
        "   You are standing in the rain trying to hail a cab in a large city.  While waiting, seven cabs pass by that already have a passenger.  The number on the cabs are:\n",
        "    \n",
        "<center>\n",
        "    <strong>\n",
        "    405 , 73 , 280,  179 , 440 , 301  ,218\n",
        "    </strong>\n",
        "    </center>\n",
        "   Suppose you want to estimate the number of taxis in the city while we are waiting.  Assume these taxis are numbered sequentially from 1 to <strong>N</strong> and all are still in service.\n",
        "\n",
        "</div>"
      ],
      "metadata": {
        "id": "fqjut61ROQuf"
      }
    },
    {
      "cell_type": "markdown",
      "source": [
        "Our goals follow:\n",
        "    \n",
        "- Come up with several methods for approximating the population size.\n",
        "- Determine which of these methods is the \"BEST\" by simulations on a population size 342."
      ],
      "metadata": {
        "id": "DsNIB7jvOnDC"
      }
    },
    {
      "cell_type": "markdown",
      "source": [
        "1. Add the range to the max\n",
        "2. Median x 2\n",
        "3. Mean x 2\n",
        "4. 2 x mean - 1\n",
        "5. N = m + (m/n) - 1\n"
      ],
      "metadata": {
        "id": "-SB9HWYcdum1"
      }
    },
    {
      "cell_type": "code",
      "source": [],
      "metadata": {
        "id": "FiWhvt-uduOn"
      },
      "execution_count": null,
      "outputs": []
    },
    {
      "cell_type": "code",
      "source": [],
      "metadata": {
        "id": "_rHjWcPJduKL"
      },
      "execution_count": null,
      "outputs": []
    },
    {
      "cell_type": "code",
      "source": [],
      "metadata": {
        "id": "t7S-2lzDOsEN"
      },
      "execution_count": null,
      "outputs": []
    },
    {
      "cell_type": "code",
      "source": [],
      "metadata": {
        "id": "uFsQ15X-OsAk"
      },
      "execution_count": null,
      "outputs": []
    },
    {
      "cell_type": "code",
      "source": [],
      "metadata": {
        "id": "OKA_APKlOr9-"
      },
      "execution_count": null,
      "outputs": []
    },
    {
      "cell_type": "code",
      "source": [],
      "metadata": {
        "id": "3Ezjqvy8Or6l"
      },
      "execution_count": null,
      "outputs": []
    },
    {
      "cell_type": "code",
      "source": [],
      "metadata": {
        "id": "hXem_5S0OrSc"
      },
      "execution_count": null,
      "outputs": []
    },
    {
      "cell_type": "markdown",
      "source": [
        "### Confidence Interval Example\n",
        "\n",
        "Sample of 1000 students -- average score was 82%.  Is that the population average?\n",
        "\n",
        "Go test another 1000 students -- average an 82%?\n",
        "\n",
        "Normal distribution captured 66 - 95 -- 99 % of the data within 1, 2, and 3 standard deviations.\n",
        "\n",
        "- Distribution of scores is normal\n",
        "- Standard Deviation is 10.  \n",
        "\n",
        "**EX**: Sample of students on SAT math.\n",
        "\n",
        "Sample Size = 500\n",
        "\n",
        "Standard Deviation of Scores is 100.\n",
        "\n",
        "The scores will be distributed according to a Normal Distribution with mean = sample mean and standard deviation;\n",
        "\n",
        "$$\\sigma/\\sqrt{n}$$\n",
        "$\\mu = 480$?"
      ],
      "metadata": {
        "id": "g6UN0otOO46t"
      }
    },
    {
      "cell_type": "code",
      "source": [
        "upper <- 480 + 2*(100/sqrt(2000))\n",
        "lower <- 480 - 2*(100/sqrt(2000))\n",
        "upper"
      ],
      "metadata": {
        "id": "FaZCwz4tO5rS"
      },
      "execution_count": null,
      "outputs": []
    },
    {
      "cell_type": "markdown",
      "source": [
        "1. The American Psychological Association has conducted a survey of stress levels across the United States.  This year, 720 millenials indicated stress level on a 0 - 10 scale with a mean value of 5.5 and population standard deviation of 2.8.\n",
        "\n",
        "  - Find the margin of error and 95% confidence interval\n",
        "  - Repeat for a 99% confidence interval.\n",
        "\n"
      ],
      "metadata": {
        "id": "uILY71cGO6MW"
      }
    },
    {
      "cell_type": "markdown",
      "source": [
        "1. Margin of error at $\\pm$ 2% at 95% confidence interval.  How many students need to be surveyed?"
      ],
      "metadata": {
        "id": "LLm-pff4O6Ic"
      }
    },
    {
      "cell_type": "code",
      "source": [],
      "metadata": {
        "id": "vNTjbktHPx-6"
      },
      "execution_count": null,
      "outputs": []
    },
    {
      "cell_type": "code",
      "source": [
        "(qnorm(.975)*(100/(.02*480)))^2"
      ],
      "metadata": {
        "id": "TiNZGuL3Sj0d",
        "colab": {
          "base_uri": "https://localhost:8080/",
          "height": 34
        },
        "outputId": "dfcdf2e2-1557-48e3-feab-3dcc0b5b6717"
      },
      "execution_count": null,
      "outputs": [
        {
          "output_type": "display_data",
          "data": {
            "text/html": [
              "416.824958842678"
            ],
            "text/markdown": "416.824958842678",
            "text/latex": "416.824958842678",
            "text/plain": [
              "[1] 416.825"
            ]
          },
          "metadata": {}
        }
      ]
    },
    {
      "cell_type": "code",
      "source": [],
      "metadata": {
        "id": "bLEZbEZQSjvx"
      },
      "execution_count": null,
      "outputs": []
    },
    {
      "cell_type": "markdown",
      "source": [
        "### Control Flow with R"
      ],
      "metadata": {
        "id": "nnv2S3fUSkJk"
      }
    },
    {
      "cell_type": "markdown",
      "source": [
        "```r\n",
        "# if\n",
        "if (condition is true) {\n",
        "  perform action\n",
        "}\n",
        "\n",
        "# if ... else\n",
        "if (condition is true) {\n",
        "  perform action\n",
        "} else {  # that is, if the condition is false,\n",
        "  perform alternative action\n",
        "}\n",
        "```"
      ],
      "metadata": {
        "id": "gcC9lEo6SmUE"
      }
    },
    {
      "cell_type": "code",
      "source": [
        "x <- 8"
      ],
      "metadata": {
        "id": "rENYMiJvSq3q"
      },
      "execution_count": null,
      "outputs": []
    },
    {
      "cell_type": "code",
      "source": [
        "#if x >= 10 print something\n",
        "if (x >= 10){\n",
        "  print(\"x is bigger than 10\")\n",
        "}"
      ],
      "metadata": {
        "id": "YkbdzszJSvoT"
      },
      "execution_count": null,
      "outputs": []
    },
    {
      "cell_type": "code",
      "source": [
        "#if/else\n",
        "if (x >= 10){\n",
        "  print(\"x is bigger than 10\")\n",
        "} else {\n",
        "  print(\"x is not bigger than 10\")\n",
        "}"
      ],
      "metadata": {
        "id": "Kigh29JwS74h",
        "colab": {
          "base_uri": "https://localhost:8080/"
        },
        "outputId": "d08b45b2-6090-4189-95e8-74c6d0b95508"
      },
      "execution_count": null,
      "outputs": [
        {
          "output_type": "stream",
          "name": "stdout",
          "text": [
            "[1] \"x is not bigger than 10\"\n"
          ]
        }
      ]
    },
    {
      "cell_type": "code",
      "source": [
        "#if/else if/else\n",
        "if (x >= 10){\n",
        "  print(\"x is bigger than 10\")\n",
        "} else if (x > 5){\n",
        "  print(\"x is bigger than 5\")\n",
        "} else {\n",
        "  print(\"x is not bigger than 5\")\n",
        "}"
      ],
      "metadata": {
        "id": "jfLDTQecTETI",
        "colab": {
          "base_uri": "https://localhost:8080/"
        },
        "outputId": "09f5ee06-dbde-46b1-8174-c64f7ba794b1"
      },
      "execution_count": null,
      "outputs": [
        {
          "output_type": "stream",
          "name": "stdout",
          "text": [
            "[1] \"x is bigger than 5\"\n"
          ]
        }
      ]
    },
    {
      "cell_type": "code",
      "source": [],
      "metadata": {
        "id": "vcPtaIkaTHli"
      },
      "execution_count": null,
      "outputs": []
    },
    {
      "cell_type": "code",
      "source": [],
      "metadata": {
        "id": "O3TjtNIbTOh_"
      },
      "execution_count": null,
      "outputs": []
    },
    {
      "cell_type": "code",
      "source": [],
      "metadata": {
        "id": "vEcziRTwTOem"
      },
      "execution_count": null,
      "outputs": []
    },
    {
      "cell_type": "markdown",
      "source": [
        "Use an `if()` statement to print a suitable message reporting whether there are any records from 2002 in the gapminder dataset. Now do the same for 2012."
      ],
      "metadata": {
        "id": "hRGustklTPCz"
      }
    },
    {
      "cell_type": "code",
      "source": [
        "install.packages('gapminder')"
      ],
      "metadata": {
        "colab": {
          "base_uri": "https://localhost:8080/"
        },
        "id": "SxVtd_A2TTIF",
        "outputId": "87dbb9f1-bd8a-44b6-88f3-c70093ccaa1f"
      },
      "execution_count": null,
      "outputs": [
        {
          "output_type": "stream",
          "name": "stderr",
          "text": [
            "Installing package into ‘/usr/local/lib/R/site-library’\n",
            "(as ‘lib’ is unspecified)\n",
            "\n"
          ]
        }
      ]
    },
    {
      "cell_type": "code",
      "source": [
        "library(gapminder)"
      ],
      "metadata": {
        "id": "0WwdayeVTRMl"
      },
      "execution_count": null,
      "outputs": []
    },
    {
      "cell_type": "code",
      "source": [
        "head(gapminder)"
      ],
      "metadata": {
        "colab": {
          "base_uri": "https://localhost:8080/",
          "height": 286
        },
        "id": "pddt0uUKTSOg",
        "outputId": "00375635-32f1-4af2-b683-1767abecc384"
      },
      "execution_count": null,
      "outputs": [
        {
          "output_type": "display_data",
          "data": {
            "text/html": [
              "<table class=\"dataframe\">\n",
              "<caption>A tibble: 6 × 6</caption>\n",
              "<thead>\n",
              "\t<tr><th scope=col>country</th><th scope=col>continent</th><th scope=col>year</th><th scope=col>lifeExp</th><th scope=col>pop</th><th scope=col>gdpPercap</th></tr>\n",
              "\t<tr><th scope=col>&lt;fct&gt;</th><th scope=col>&lt;fct&gt;</th><th scope=col>&lt;int&gt;</th><th scope=col>&lt;dbl&gt;</th><th scope=col>&lt;int&gt;</th><th scope=col>&lt;dbl&gt;</th></tr>\n",
              "</thead>\n",
              "<tbody>\n",
              "\t<tr><td>Afghanistan</td><td>Asia</td><td>1952</td><td>28.801</td><td> 8425333</td><td>779.4453</td></tr>\n",
              "\t<tr><td>Afghanistan</td><td>Asia</td><td>1957</td><td>30.332</td><td> 9240934</td><td>820.8530</td></tr>\n",
              "\t<tr><td>Afghanistan</td><td>Asia</td><td>1962</td><td>31.997</td><td>10267083</td><td>853.1007</td></tr>\n",
              "\t<tr><td>Afghanistan</td><td>Asia</td><td>1967</td><td>34.020</td><td>11537966</td><td>836.1971</td></tr>\n",
              "\t<tr><td>Afghanistan</td><td>Asia</td><td>1972</td><td>36.088</td><td>13079460</td><td>739.9811</td></tr>\n",
              "\t<tr><td>Afghanistan</td><td>Asia</td><td>1977</td><td>38.438</td><td>14880372</td><td>786.1134</td></tr>\n",
              "</tbody>\n",
              "</table>\n"
            ],
            "text/markdown": "\nA tibble: 6 × 6\n\n| country &lt;fct&gt; | continent &lt;fct&gt; | year &lt;int&gt; | lifeExp &lt;dbl&gt; | pop &lt;int&gt; | gdpPercap &lt;dbl&gt; |\n|---|---|---|---|---|---|\n| Afghanistan | Asia | 1952 | 28.801 |  8425333 | 779.4453 |\n| Afghanistan | Asia | 1957 | 30.332 |  9240934 | 820.8530 |\n| Afghanistan | Asia | 1962 | 31.997 | 10267083 | 853.1007 |\n| Afghanistan | Asia | 1967 | 34.020 | 11537966 | 836.1971 |\n| Afghanistan | Asia | 1972 | 36.088 | 13079460 | 739.9811 |\n| Afghanistan | Asia | 1977 | 38.438 | 14880372 | 786.1134 |\n\n",
            "text/latex": "A tibble: 6 × 6\n\\begin{tabular}{llllll}\n country & continent & year & lifeExp & pop & gdpPercap\\\\\n <fct> & <fct> & <int> & <dbl> & <int> & <dbl>\\\\\n\\hline\n\t Afghanistan & Asia & 1952 & 28.801 &  8425333 & 779.4453\\\\\n\t Afghanistan & Asia & 1957 & 30.332 &  9240934 & 820.8530\\\\\n\t Afghanistan & Asia & 1962 & 31.997 & 10267083 & 853.1007\\\\\n\t Afghanistan & Asia & 1967 & 34.020 & 11537966 & 836.1971\\\\\n\t Afghanistan & Asia & 1972 & 36.088 & 13079460 & 739.9811\\\\\n\t Afghanistan & Asia & 1977 & 38.438 & 14880372 & 786.1134\\\\\n\\end{tabular}\n",
            "text/plain": [
              "  country     continent year lifeExp pop      gdpPercap\n",
              "1 Afghanistan Asia      1952 28.801   8425333 779.4453 \n",
              "2 Afghanistan Asia      1957 30.332   9240934 820.8530 \n",
              "3 Afghanistan Asia      1962 31.997  10267083 853.1007 \n",
              "4 Afghanistan Asia      1967 34.020  11537966 836.1971 \n",
              "5 Afghanistan Asia      1972 36.088  13079460 739.9811 \n",
              "6 Afghanistan Asia      1977 38.438  14880372 786.1134 "
            ]
          },
          "metadata": {}
        }
      ]
    },
    {
      "cell_type": "code",
      "source": [
        "if (gapminder$year == 2002){\n",
        "  print('Yes its in there')\n",
        "}"
      ],
      "metadata": {
        "id": "Ji0saWFyTaCx",
        "colab": {
          "base_uri": "https://localhost:8080/",
          "height": 97
        },
        "outputId": "9a1901ac-4384-4d9c-9222-5608f2fffbff"
      },
      "execution_count": null,
      "outputs": [
        {
          "output_type": "error",
          "ename": "ERROR",
          "evalue": "ignored",
          "traceback": [
            "Error in if (gapminder$year == 2002) {: the condition has length > 1\nTraceback:\n"
          ]
        }
      ]
    },
    {
      "cell_type": "markdown",
      "source": [
        "```r\n",
        "# ifelse function\n",
        "ifelse(condition is true, perform action, perform alternative action)\n",
        "```"
      ],
      "metadata": {
        "id": "Q2JRPtnxTljl"
      }
    },
    {
      "cell_type": "code",
      "source": [
        "#ifelse example\n",
        "x <- 8\n",
        "ifelse( x >= 10, 'yeah its bigger', 'nah its smaller')"
      ],
      "metadata": {
        "id": "ftkWVcpWTm4A",
        "colab": {
          "base_uri": "https://localhost:8080/",
          "height": 34
        },
        "outputId": "738ccaf6-e2dc-4fcc-88d6-b8d8b6e2a095"
      },
      "execution_count": null,
      "outputs": [
        {
          "output_type": "display_data",
          "data": {
            "text/html": [
              "'nah its smaller'"
            ],
            "text/markdown": "'nah its smaller'",
            "text/latex": "'nah its smaller'",
            "text/plain": [
              "[1] \"nah its smaller\""
            ]
          },
          "metadata": {}
        }
      ]
    },
    {
      "cell_type": "code",
      "source": [
        "#any()\n",
        "any(gapminder$year == 2002)"
      ],
      "metadata": {
        "id": "FJ_M_76CTvIB",
        "colab": {
          "base_uri": "https://localhost:8080/",
          "height": 34
        },
        "outputId": "91bd11d7-8710-4d88-e762-762f3b0b3c09"
      },
      "execution_count": null,
      "outputs": [
        {
          "output_type": "display_data",
          "data": {
            "text/html": [
              "TRUE"
            ],
            "text/markdown": "TRUE",
            "text/latex": "TRUE",
            "text/plain": [
              "[1] TRUE"
            ]
          },
          "metadata": {}
        }
      ]
    },
    {
      "cell_type": "code",
      "source": [
        "#all()\n",
        "all(gapminder$year == 2002)"
      ],
      "metadata": {
        "id": "5Rp0lrcsTz99",
        "colab": {
          "base_uri": "https://localhost:8080/",
          "height": 34
        },
        "outputId": "e8952c0e-b9a3-45a8-f666-8bb18e9b09b9"
      },
      "execution_count": null,
      "outputs": [
        {
          "output_type": "display_data",
          "data": {
            "text/html": [
              "FALSE"
            ],
            "text/markdown": "FALSE",
            "text/latex": "FALSE",
            "text/plain": [
              "[1] FALSE"
            ]
          },
          "metadata": {}
        }
      ]
    },
    {
      "cell_type": "code",
      "source": [],
      "metadata": {
        "id": "3IjEi2vwT6Z_"
      },
      "execution_count": null,
      "outputs": []
    },
    {
      "cell_type": "markdown",
      "source": [
        "#### `for()`\n",
        "\n",
        "```r\n",
        "for (iterator in set of values) {\n",
        "  do a thing\n",
        "}\n",
        "```"
      ],
      "metadata": {
        "id": "T-GZwJApT8bT"
      }
    },
    {
      "cell_type": "code",
      "source": [
        "#print 10 digits\n",
        "for (i in 1:10){\n",
        "  print(i)\n",
        "}"
      ],
      "metadata": {
        "id": "qRm8jW6ST-li",
        "colab": {
          "base_uri": "https://localhost:8080/"
        },
        "outputId": "4a9f551e-66ba-4f1e-b700-68dc883af0c8"
      },
      "execution_count": null,
      "outputs": [
        {
          "output_type": "stream",
          "name": "stdout",
          "text": [
            "[1] 1\n",
            "[1] 2\n",
            "[1] 3\n",
            "[1] 4\n",
            "[1] 5\n",
            "[1] 6\n",
            "[1] 7\n",
            "[1] 8\n",
            "[1] 9\n",
            "[1] 10\n"
          ]
        }
      ]
    },
    {
      "cell_type": "code",
      "source": [
        "#nested loop\n",
        "for (i in 1:4){\n",
        "  for (j in c('a', 'b', 'c')) {\n",
        "    print(paste(i, j))\n",
        "  }\n",
        "}"
      ],
      "metadata": {
        "id": "FzR1FZ0AUE3i",
        "colab": {
          "base_uri": "https://localhost:8080/"
        },
        "outputId": "a3e35e90-4ec9-48c9-c450-052f77695685"
      },
      "execution_count": null,
      "outputs": [
        {
          "output_type": "stream",
          "name": "stdout",
          "text": [
            "[1] \"1 a\"\n",
            "[1] \"1 b\"\n",
            "[1] \"1 c\"\n",
            "[1] \"2 a\"\n",
            "[1] \"2 b\"\n",
            "[1] \"2 c\"\n",
            "[1] \"3 a\"\n",
            "[1] \"3 b\"\n",
            "[1] \"3 c\"\n",
            "[1] \"4 a\"\n",
            "[1] \"4 b\"\n",
            "[1] \"4 c\"\n"
          ]
        }
      ]
    },
    {
      "cell_type": "code",
      "source": [
        "#create a new object\n",
        "output_vector <- c()\n",
        "for (i in 1:4){\n",
        "  for (j in c('a', 'b', 'c')){\n",
        "    temp_output <- paste(i, j)\n",
        "    output_vector <- c(output_vector, temp_output)\n",
        "  }\n",
        "}"
      ],
      "metadata": {
        "id": "D4ceDUnJUI1j"
      },
      "execution_count": null,
      "outputs": []
    },
    {
      "cell_type": "code",
      "source": [
        "output_vector"
      ],
      "metadata": {
        "id": "xqSB9HICUwMQ",
        "colab": {
          "base_uri": "https://localhost:8080/",
          "height": 34
        },
        "outputId": "2d6e3d14-514d-4011-f560-6b7c297a76d3"
      },
      "execution_count": null,
      "outputs": [
        {
          "output_type": "display_data",
          "data": {
            "text/html": [
              "<style>\n",
              ".list-inline {list-style: none; margin:0; padding: 0}\n",
              ".list-inline>li {display: inline-block}\n",
              ".list-inline>li:not(:last-child)::after {content: \"\\00b7\"; padding: 0 .5ex}\n",
              "</style>\n",
              "<ol class=list-inline><li>'1 a'</li><li>'1 b'</li><li>'1 c'</li><li>'2 a'</li><li>'2 b'</li><li>'2 c'</li><li>'3 a'</li><li>'3 b'</li><li>'3 c'</li><li>'4 a'</li><li>'4 b'</li><li>'4 c'</li></ol>\n"
            ],
            "text/markdown": "1. '1 a'\n2. '1 b'\n3. '1 c'\n4. '2 a'\n5. '2 b'\n6. '2 c'\n7. '3 a'\n8. '3 b'\n9. '3 c'\n10. '4 a'\n11. '4 b'\n12. '4 c'\n\n\n",
            "text/latex": "\\begin{enumerate*}\n\\item '1 a'\n\\item '1 b'\n\\item '1 c'\n\\item '2 a'\n\\item '2 b'\n\\item '2 c'\n\\item '3 a'\n\\item '3 b'\n\\item '3 c'\n\\item '4 a'\n\\item '4 b'\n\\item '4 c'\n\\end{enumerate*}\n",
            "text/plain": [
              " [1] \"1 a\" \"1 b\" \"1 c\" \"2 a\" \"2 b\" \"2 c\" \"3 a\" \"3 b\" \"3 c\" \"4 a\" \"4 b\" \"4 c\""
            ]
          },
          "metadata": {}
        }
      ]
    },
    {
      "cell_type": "markdown",
      "source": [
        "#### A Note on Efficiency"
      ],
      "metadata": {
        "id": "E3hOX1XUUbIu"
      }
    },
    {
      "cell_type": "code",
      "source": [
        "output_matrix <- matrix(nrow = 4, ncol = 3)\n",
        "letter_vals <- c('a', 'b', 'c')\n",
        "for (i in 1:4){\n",
        "  for (j in 1:3){\n",
        "    temp_output <- paste(i, letter_vals[j])\n",
        "    output_matrix[i, j] = temp_output\n",
        "  }\n",
        "}"
      ],
      "metadata": {
        "id": "eqFna1fyUdMm"
      },
      "execution_count": null,
      "outputs": []
    },
    {
      "cell_type": "code",
      "source": [
        "output_matrix"
      ],
      "metadata": {
        "id": "g5bl2_ywUgrQ",
        "colab": {
          "base_uri": "https://localhost:8080/",
          "height": 177
        },
        "outputId": "9307e37b-1df7-4852-ae5c-221e40cc5fcc"
      },
      "execution_count": null,
      "outputs": [
        {
          "output_type": "display_data",
          "data": {
            "text/html": [
              "<table class=\"dataframe\">\n",
              "<caption>A matrix: 4 × 3 of type chr</caption>\n",
              "<tbody>\n",
              "\t<tr><td>1 a</td><td>1 b</td><td>1 c</td></tr>\n",
              "\t<tr><td>2 a</td><td>2 b</td><td>2 c</td></tr>\n",
              "\t<tr><td>3 a</td><td>3 b</td><td>3 c</td></tr>\n",
              "\t<tr><td>4 a</td><td>4 b</td><td>4 c</td></tr>\n",
              "</tbody>\n",
              "</table>\n"
            ],
            "text/markdown": "\nA matrix: 4 × 3 of type chr\n\n| 1 a | 1 b | 1 c |\n| 2 a | 2 b | 2 c |\n| 3 a | 3 b | 3 c |\n| 4 a | 4 b | 4 c |\n\n",
            "text/latex": "A matrix: 4 × 3 of type chr\n\\begin{tabular}{lll}\n\t 1 a & 1 b & 1 c\\\\\n\t 2 a & 2 b & 2 c\\\\\n\t 3 a & 3 b & 3 c\\\\\n\t 4 a & 4 b & 4 c\\\\\n\\end{tabular}\n",
            "text/plain": [
              "     [,1] [,2] [,3]\n",
              "[1,] 1 a  1 b  1 c \n",
              "[2,] 2 a  2 b  2 c \n",
              "[3,] 3 a  3 b  3 c \n",
              "[4,] 4 a  4 b  4 c "
            ]
          },
          "metadata": {}
        }
      ]
    },
    {
      "cell_type": "code",
      "source": [],
      "metadata": {
        "id": "fr2B4hQHUgm0"
      },
      "execution_count": null,
      "outputs": []
    },
    {
      "cell_type": "markdown",
      "source": [
        "#### `while()`"
      ],
      "metadata": {
        "id": "QC9I1_zBU01v"
      }
    },
    {
      "cell_type": "markdown",
      "source": [
        "```r\n",
        "while(this condition is true){\n",
        "  do a thing\n",
        "}\n",
        "```"
      ],
      "metadata": {
        "id": "oox_S286Uhen"
      }
    },
    {
      "cell_type": "code",
      "source": [
        "number <- 1\n",
        "while (number < 10){\n",
        "  print(number)\n",
        "  number <- number + 1\n",
        "}"
      ],
      "metadata": {
        "id": "tPYMgymAUknk",
        "colab": {
          "base_uri": "https://localhost:8080/"
        },
        "outputId": "51498680-637e-4bcf-daad-683e154a8c4d"
      },
      "execution_count": null,
      "outputs": [
        {
          "output_type": "stream",
          "name": "stdout",
          "text": [
            "[1] 1\n",
            "[1] 2\n",
            "[1] 3\n",
            "[1] 4\n",
            "[1] 5\n",
            "[1] 6\n",
            "[1] 7\n",
            "[1] 8\n",
            "[1] 9\n"
          ]
        }
      ]
    },
    {
      "cell_type": "markdown",
      "source": [
        "1. Compare the objects output_vector and output_vector2. Are they the same? If not, why not? How would you change the last block of code to make output_vector2 the same as output_vector?"
      ],
      "metadata": {
        "id": "9Fdj6O_jU4mL"
      }
    },
    {
      "cell_type": "code",
      "source": [
        "output_vector2 <- as.vector(output_matrix)\n",
        "output_vector2"
      ],
      "metadata": {
        "id": "gOYlY9sFU8nB",
        "colab": {
          "base_uri": "https://localhost:8080/",
          "height": 34
        },
        "outputId": "cd8c64c6-5d51-46ea-b893-1ce3b03b830d"
      },
      "execution_count": null,
      "outputs": [
        {
          "output_type": "display_data",
          "data": {
            "text/html": [
              "<style>\n",
              ".list-inline {list-style: none; margin:0; padding: 0}\n",
              ".list-inline>li {display: inline-block}\n",
              ".list-inline>li:not(:last-child)::after {content: \"\\00b7\"; padding: 0 .5ex}\n",
              "</style>\n",
              "<ol class=list-inline><li>'1 a'</li><li>'2 a'</li><li>'3 a'</li><li>'4 a'</li><li>'1 b'</li><li>'2 b'</li><li>'3 b'</li><li>'4 b'</li><li>'1 c'</li><li>'2 c'</li><li>'3 c'</li><li>'4 c'</li></ol>\n"
            ],
            "text/markdown": "1. '1 a'\n2. '2 a'\n3. '3 a'\n4. '4 a'\n5. '1 b'\n6. '2 b'\n7. '3 b'\n8. '4 b'\n9. '1 c'\n10. '2 c'\n11. '3 c'\n12. '4 c'\n\n\n",
            "text/latex": "\\begin{enumerate*}\n\\item '1 a'\n\\item '2 a'\n\\item '3 a'\n\\item '4 a'\n\\item '1 b'\n\\item '2 b'\n\\item '3 b'\n\\item '4 b'\n\\item '1 c'\n\\item '2 c'\n\\item '3 c'\n\\item '4 c'\n\\end{enumerate*}\n",
            "text/plain": [
              " [1] \"1 a\" \"2 a\" \"3 a\" \"4 a\" \"1 b\" \"2 b\" \"3 b\" \"4 b\" \"1 c\" \"2 c\" \"3 c\" \"4 c\""
            ]
          },
          "metadata": {}
        }
      ]
    },
    {
      "cell_type": "code",
      "source": [
        "output_vector"
      ],
      "metadata": {
        "id": "ufCOewbgVAYy",
        "colab": {
          "base_uri": "https://localhost:8080/",
          "height": 34
        },
        "outputId": "9f1e3149-ea90-4f1b-e4f1-04e04efbb075"
      },
      "execution_count": null,
      "outputs": [
        {
          "output_type": "display_data",
          "data": {
            "text/html": [
              "<style>\n",
              ".list-inline {list-style: none; margin:0; padding: 0}\n",
              ".list-inline>li {display: inline-block}\n",
              ".list-inline>li:not(:last-child)::after {content: \"\\00b7\"; padding: 0 .5ex}\n",
              "</style>\n",
              "<ol class=list-inline><li>'1 a'</li><li>'1 b'</li><li>'1 c'</li><li>'2 a'</li><li>'2 b'</li><li>'2 c'</li><li>'3 a'</li><li>'3 b'</li><li>'3 c'</li><li>'4 a'</li><li>'4 b'</li><li>'4 c'</li></ol>\n"
            ],
            "text/markdown": "1. '1 a'\n2. '1 b'\n3. '1 c'\n4. '2 a'\n5. '2 b'\n6. '2 c'\n7. '3 a'\n8. '3 b'\n9. '3 c'\n10. '4 a'\n11. '4 b'\n12. '4 c'\n\n\n",
            "text/latex": "\\begin{enumerate*}\n\\item '1 a'\n\\item '1 b'\n\\item '1 c'\n\\item '2 a'\n\\item '2 b'\n\\item '2 c'\n\\item '3 a'\n\\item '3 b'\n\\item '3 c'\n\\item '4 a'\n\\item '4 b'\n\\item '4 c'\n\\end{enumerate*}\n",
            "text/plain": [
              " [1] \"1 a\" \"1 b\" \"1 c\" \"2 a\" \"2 b\" \"2 c\" \"3 a\" \"3 b\" \"3 c\" \"4 a\" \"4 b\" \"4 c\""
            ]
          },
          "metadata": {}
        }
      ]
    },
    {
      "cell_type": "code",
      "source": [
        "output_vector == output_vector2"
      ],
      "metadata": {
        "colab": {
          "base_uri": "https://localhost:8080/",
          "height": 34
        },
        "id": "lqgEHF4RqdMc",
        "outputId": "b3ba0209-34d6-4424-fd78-ba69be9f2cb8"
      },
      "execution_count": null,
      "outputs": [
        {
          "output_type": "display_data",
          "data": {
            "text/html": [
              "<style>\n",
              ".list-inline {list-style: none; margin:0; padding: 0}\n",
              ".list-inline>li {display: inline-block}\n",
              ".list-inline>li:not(:last-child)::after {content: \"\\00b7\"; padding: 0 .5ex}\n",
              "</style>\n",
              "<ol class=list-inline><li>TRUE</li><li>FALSE</li><li>FALSE</li><li>FALSE</li><li>FALSE</li><li>FALSE</li><li>FALSE</li><li>FALSE</li><li>FALSE</li><li>FALSE</li><li>FALSE</li><li>TRUE</li></ol>\n"
            ],
            "text/markdown": "1. TRUE\n2. FALSE\n3. FALSE\n4. FALSE\n5. FALSE\n6. FALSE\n7. FALSE\n8. FALSE\n9. FALSE\n10. FALSE\n11. FALSE\n12. TRUE\n\n\n",
            "text/latex": "\\begin{enumerate*}\n\\item TRUE\n\\item FALSE\n\\item FALSE\n\\item FALSE\n\\item FALSE\n\\item FALSE\n\\item FALSE\n\\item FALSE\n\\item FALSE\n\\item FALSE\n\\item FALSE\n\\item TRUE\n\\end{enumerate*}\n",
            "text/plain": [
              " [1]  TRUE FALSE FALSE FALSE FALSE FALSE FALSE FALSE FALSE FALSE FALSE  TRUE"
            ]
          },
          "metadata": {}
        }
      ]
    },
    {
      "cell_type": "code",
      "source": [
        "t(output_matrix)"
      ],
      "metadata": {
        "id": "wqDTcAMZU_j-",
        "colab": {
          "base_uri": "https://localhost:8080/",
          "height": 146
        },
        "outputId": "8c42bc76-d40d-4b64-b5cd-1b03fc3ac90c"
      },
      "execution_count": null,
      "outputs": [
        {
          "output_type": "display_data",
          "data": {
            "text/html": [
              "<table class=\"dataframe\">\n",
              "<caption>A matrix: 3 × 4 of type chr</caption>\n",
              "<tbody>\n",
              "\t<tr><td>1 a</td><td>2 a</td><td>3 a</td><td>4 a</td></tr>\n",
              "\t<tr><td>1 b</td><td>2 b</td><td>3 b</td><td>4 b</td></tr>\n",
              "\t<tr><td>1 c</td><td>2 c</td><td>3 c</td><td>4 c</td></tr>\n",
              "</tbody>\n",
              "</table>\n"
            ],
            "text/markdown": "\nA matrix: 3 × 4 of type chr\n\n| 1 a | 2 a | 3 a | 4 a |\n| 1 b | 2 b | 3 b | 4 b |\n| 1 c | 2 c | 3 c | 4 c |\n\n",
            "text/latex": "A matrix: 3 × 4 of type chr\n\\begin{tabular}{llll}\n\t 1 a & 2 a & 3 a & 4 a\\\\\n\t 1 b & 2 b & 3 b & 4 b\\\\\n\t 1 c & 2 c & 3 c & 4 c\\\\\n\\end{tabular}\n",
            "text/plain": [
              "     [,1] [,2] [,3] [,4]\n",
              "[1,] 1 a  2 a  3 a  4 a \n",
              "[2,] 1 b  2 b  3 b  4 b \n",
              "[3,] 1 c  2 c  3 c  4 c "
            ]
          },
          "metadata": {}
        }
      ]
    },
    {
      "cell_type": "code",
      "source": [
        "output_vector2 <- as.vector(t(output_matrix))"
      ],
      "metadata": {
        "id": "_nTwQEv2qwRJ"
      },
      "execution_count": null,
      "outputs": []
    },
    {
      "cell_type": "code",
      "source": [
        "output_vector == output_vector2"
      ],
      "metadata": {
        "colab": {
          "base_uri": "https://localhost:8080/",
          "height": 34
        },
        "id": "D_IB3TOJq3ZX",
        "outputId": "6ee4db1c-3d86-4d2e-9907-739896305967"
      },
      "execution_count": null,
      "outputs": [
        {
          "output_type": "display_data",
          "data": {
            "text/html": [
              "<style>\n",
              ".list-inline {list-style: none; margin:0; padding: 0}\n",
              ".list-inline>li {display: inline-block}\n",
              ".list-inline>li:not(:last-child)::after {content: \"\\00b7\"; padding: 0 .5ex}\n",
              "</style>\n",
              "<ol class=list-inline><li>TRUE</li><li>TRUE</li><li>TRUE</li><li>TRUE</li><li>TRUE</li><li>TRUE</li><li>TRUE</li><li>TRUE</li><li>TRUE</li><li>TRUE</li><li>TRUE</li><li>TRUE</li></ol>\n"
            ],
            "text/markdown": "1. TRUE\n2. TRUE\n3. TRUE\n4. TRUE\n5. TRUE\n6. TRUE\n7. TRUE\n8. TRUE\n9. TRUE\n10. TRUE\n11. TRUE\n12. TRUE\n\n\n",
            "text/latex": "\\begin{enumerate*}\n\\item TRUE\n\\item TRUE\n\\item TRUE\n\\item TRUE\n\\item TRUE\n\\item TRUE\n\\item TRUE\n\\item TRUE\n\\item TRUE\n\\item TRUE\n\\item TRUE\n\\item TRUE\n\\end{enumerate*}\n",
            "text/plain": [
              " [1] TRUE TRUE TRUE TRUE TRUE TRUE TRUE TRUE TRUE TRUE TRUE TRUE"
            ]
          },
          "metadata": {}
        }
      ]
    },
    {
      "cell_type": "markdown",
      "source": [
        "2. Write a script that loops through the gapminder data by continent and prints out whether the mean life expectancy is smaller or larger than 50 years."
      ],
      "metadata": {
        "id": "ETTTPaFjU9N1"
      }
    },
    {
      "cell_type": "code",
      "source": [
        "head(gapminder, n=2)"
      ],
      "metadata": {
        "id": "-7zHh1DfVA0I",
        "colab": {
          "base_uri": "https://localhost:8080/",
          "height": 161
        },
        "outputId": "7e2b11e5-a1ad-4cc9-bcda-d6246cf0cd6a"
      },
      "execution_count": null,
      "outputs": [
        {
          "output_type": "display_data",
          "data": {
            "text/html": [
              "<table class=\"dataframe\">\n",
              "<caption>A tibble: 2 × 6</caption>\n",
              "<thead>\n",
              "\t<tr><th scope=col>country</th><th scope=col>continent</th><th scope=col>year</th><th scope=col>lifeExp</th><th scope=col>pop</th><th scope=col>gdpPercap</th></tr>\n",
              "\t<tr><th scope=col>&lt;fct&gt;</th><th scope=col>&lt;fct&gt;</th><th scope=col>&lt;int&gt;</th><th scope=col>&lt;dbl&gt;</th><th scope=col>&lt;int&gt;</th><th scope=col>&lt;dbl&gt;</th></tr>\n",
              "</thead>\n",
              "<tbody>\n",
              "\t<tr><td>Afghanistan</td><td>Asia</td><td>1952</td><td>28.801</td><td>8425333</td><td>779.4453</td></tr>\n",
              "\t<tr><td>Afghanistan</td><td>Asia</td><td>1957</td><td>30.332</td><td>9240934</td><td>820.8530</td></tr>\n",
              "</tbody>\n",
              "</table>\n"
            ],
            "text/markdown": "\nA tibble: 2 × 6\n\n| country &lt;fct&gt; | continent &lt;fct&gt; | year &lt;int&gt; | lifeExp &lt;dbl&gt; | pop &lt;int&gt; | gdpPercap &lt;dbl&gt; |\n|---|---|---|---|---|---|\n| Afghanistan | Asia | 1952 | 28.801 | 8425333 | 779.4453 |\n| Afghanistan | Asia | 1957 | 30.332 | 9240934 | 820.8530 |\n\n",
            "text/latex": "A tibble: 2 × 6\n\\begin{tabular}{llllll}\n country & continent & year & lifeExp & pop & gdpPercap\\\\\n <fct> & <fct> & <int> & <dbl> & <int> & <dbl>\\\\\n\\hline\n\t Afghanistan & Asia & 1952 & 28.801 & 8425333 & 779.4453\\\\\n\t Afghanistan & Asia & 1957 & 30.332 & 9240934 & 820.8530\\\\\n\\end{tabular}\n",
            "text/plain": [
              "  country     continent year lifeExp pop     gdpPercap\n",
              "1 Afghanistan Asia      1952 28.801  8425333 779.4453 \n",
              "2 Afghanistan Asia      1957 30.332  9240934 820.8530 "
            ]
          },
          "metadata": {}
        }
      ]
    },
    {
      "cell_type": "code",
      "source": [
        "continents <- unique(gapminder$continent)\n",
        "for(continent in continents) {\n",
        "  data_sub <- subset(gapminder, continent == continent)\n",
        "  mean_lifeExp <- mean(data_sub$lifeExp)\n",
        "  if(mean_lifeExp > 50) {\n",
        "    print(paste(continent, \": MLE is larger than 50 years\"))\n",
        "  } else {\n",
        "    print(paste(continent, \": MLE is smaller than 50 years\"))\n",
        "  }\n",
        "}"
      ],
      "metadata": {
        "colab": {
          "base_uri": "https://localhost:8080/"
        },
        "id": "YaMhi7oar4J_",
        "outputId": "a89f4256-e435-437e-9081-ca3e0752b37b"
      },
      "execution_count": null,
      "outputs": [
        {
          "output_type": "stream",
          "name": "stdout",
          "text": [
            "[1] \"Asia : MLE is larger than 50 years\"\n",
            "[1] \"Europe : MLE is larger than 50 years\"\n",
            "[1] \"Africa : MLE is larger than 50 years\"\n",
            "[1] \"Americas : MLE is larger than 50 years\"\n",
            "[1] \"Oceania : MLE is larger than 50 years\"\n"
          ]
        }
      ]
    },
    {
      "cell_type": "code",
      "source": [
        "continents <- unique(gapminder$continent)\n",
        "for(continent in continents) {\n",
        "  data_sub <- gapminder[gapminder$continent == continent,]\n",
        "  mean_lifeExp <- mean(data_sub$lifeExp)\n",
        "  if(mean_lifeExp > 50) {\n",
        "    print(paste(continent, \": MLE is larger than 50 years\"))\n",
        "  } else {\n",
        "    print(paste(continent, \": MLE is smaller than 50 years\"))\n",
        "  }\n",
        "}"
      ],
      "metadata": {
        "id": "q1iR-qVCrcG7"
      },
      "execution_count": null,
      "outputs": []
    },
    {
      "cell_type": "markdown",
      "source": [
        "3. Modify the script from Challenge 2 to loop over each country. This time print out whether the life expectancy is smaller than 50, between 50 and 70, or greater than 70."
      ],
      "metadata": {
        "id": "No1zN4GyVBel"
      }
    },
    {
      "cell_type": "code",
      "source": [
        "continents <- unique(gapminder$country)\n",
        "for(continent in continents) {\n",
        "  data_sub <- gapminder[gapminder$country == country,]\n",
        "  mean_lifeExp <- mean(data_sub$lifeExp)\n",
        "  if(mean_lifeExp > 70) {\n",
        "    print(paste(continent, \": MLE is larger than 50 years\"))\n",
        "  } else if (mean_lifeExp > 50) {\n",
        "    print(paste(continent, \": MLE is smaller than 50 years\"))\n",
        "  }\n",
        "}"
      ],
      "metadata": {
        "id": "ijtstS4rVJUy"
      },
      "execution_count": null,
      "outputs": []
    },
    {
      "cell_type": "code",
      "source": [
        "if(mean_lifeExp < 50) {\n",
        "    print(paste(country, \": MLE is smaller than 50\"))\n",
        "  } else if(mean_lifeExp >= 50 & mean_lifeExp <= 70) {\n",
        "    print(paste(country, \": MLE is between 50 and 70\"))\n",
        "  } else {\n",
        "    print(paste(country, \": MLE is greater than 70\"))\n",
        "  }"
      ],
      "metadata": {
        "id": "AVCA58k6VEMK"
      },
      "execution_count": null,
      "outputs": []
    },
    {
      "cell_type": "markdown",
      "source": [
        "4. Write a script that loops over each country in the gapminder dataset, tests whether the country starts with a ‘B’, and graphs life expectancy against time as a line graph if the mean life expectancy is under 50 years."
      ],
      "metadata": {
        "id": "DBknOb68VGyh"
      }
    },
    {
      "cell_type": "code",
      "source": [],
      "metadata": {
        "id": "LNQwDU5DVHse"
      },
      "execution_count": null,
      "outputs": []
    },
    {
      "cell_type": "code",
      "source": [],
      "metadata": {
        "id": "UByqlylPVIxX"
      },
      "execution_count": null,
      "outputs": []
    },
    {
      "cell_type": "markdown",
      "source": [
        "#### sample()"
      ],
      "metadata": {
        "id": "swfP3M86VRvP"
      }
    },
    {
      "cell_type": "code",
      "source": [
        "#basic usage\n",
        "a <- c(1:10)\n",
        "a"
      ],
      "metadata": {
        "id": "yOn23uuEVThu",
        "colab": {
          "base_uri": "https://localhost:8080/",
          "height": 34
        },
        "outputId": "7d61dd0a-bff8-4263-e059-d1359368acce"
      },
      "execution_count": null,
      "outputs": [
        {
          "output_type": "display_data",
          "data": {
            "text/html": [
              "<style>\n",
              ".list-inline {list-style: none; margin:0; padding: 0}\n",
              ".list-inline>li {display: inline-block}\n",
              ".list-inline>li:not(:last-child)::after {content: \"\\00b7\"; padding: 0 .5ex}\n",
              "</style>\n",
              "<ol class=list-inline><li>1</li><li>2</li><li>3</li><li>4</li><li>5</li><li>6</li><li>7</li><li>8</li><li>9</li><li>10</li></ol>\n"
            ],
            "text/markdown": "1. 1\n2. 2\n3. 3\n4. 4\n5. 5\n6. 6\n7. 7\n8. 8\n9. 9\n10. 10\n\n\n",
            "text/latex": "\\begin{enumerate*}\n\\item 1\n\\item 2\n\\item 3\n\\item 4\n\\item 5\n\\item 6\n\\item 7\n\\item 8\n\\item 9\n\\item 10\n\\end{enumerate*}\n",
            "text/plain": [
              " [1]  1  2  3  4  5  6  7  8  9 10"
            ]
          },
          "metadata": {}
        }
      ]
    },
    {
      "cell_type": "code",
      "source": [
        "sample(a, 3, replace = TRUE)"
      ],
      "metadata": {
        "colab": {
          "base_uri": "https://localhost:8080/",
          "height": 34
        },
        "id": "1kyeC9dGxEGE",
        "outputId": "07a740e4-155f-4777-dbbd-1d2231454273"
      },
      "execution_count": null,
      "outputs": [
        {
          "output_type": "display_data",
          "data": {
            "text/html": [
              "<style>\n",
              ".list-inline {list-style: none; margin:0; padding: 0}\n",
              ".list-inline>li {display: inline-block}\n",
              ".list-inline>li:not(:last-child)::after {content: \"\\00b7\"; padding: 0 .5ex}\n",
              "</style>\n",
              "<ol class=list-inline><li>3</li><li>2</li><li>10</li></ol>\n"
            ],
            "text/markdown": "1. 3\n2. 2\n3. 10\n\n\n",
            "text/latex": "\\begin{enumerate*}\n\\item 3\n\\item 2\n\\item 10\n\\end{enumerate*}\n",
            "text/plain": [
              "[1]  3  2 10"
            ]
          },
          "metadata": {}
        }
      ]
    },
    {
      "cell_type": "code",
      "source": [
        "#coin example\n",
        "coin <- c('head', 'tail')\n",
        "flips <- c()\n",
        "for (i in 1:100){\n",
        "  flip <- sample(coin, 1, replace = TRUE)\n",
        "  flips <- c(flips, flip)\n",
        "}"
      ],
      "metadata": {
        "id": "PCmSBAbeVXZV"
      },
      "execution_count": null,
      "outputs": []
    },
    {
      "cell_type": "code",
      "source": [
        "flips"
      ],
      "metadata": {
        "colab": {
          "base_uri": "https://localhost:8080/",
          "height": 139
        },
        "id": "Fj_r8aD0xll5",
        "outputId": "1dddbc76-43eb-40d2-c640-2f135c6e2284"
      },
      "execution_count": null,
      "outputs": [
        {
          "output_type": "display_data",
          "data": {
            "text/html": [
              "<style>\n",
              ".list-inline {list-style: none; margin:0; padding: 0}\n",
              ".list-inline>li {display: inline-block}\n",
              ".list-inline>li:not(:last-child)::after {content: \"\\00b7\"; padding: 0 .5ex}\n",
              "</style>\n",
              "<ol class=list-inline><li>'tail'</li><li>'head'</li><li>'head'</li><li>'tail'</li><li>'head'</li><li>'tail'</li><li>'head'</li><li>'tail'</li><li>'tail'</li><li>'head'</li><li>'head'</li><li>'tail'</li><li>'tail'</li><li>'tail'</li><li>'tail'</li><li>'tail'</li><li>'tail'</li><li>'tail'</li><li>'tail'</li><li>'tail'</li><li>'head'</li><li>'tail'</li><li>'tail'</li><li>'head'</li><li>'tail'</li><li>'tail'</li><li>'tail'</li><li>'head'</li><li>'tail'</li><li>'head'</li><li>'tail'</li><li>'head'</li><li>'tail'</li><li>'tail'</li><li>'tail'</li><li>'head'</li><li>'head'</li><li>'tail'</li><li>'tail'</li><li>'tail'</li><li>'head'</li><li>'head'</li><li>'head'</li><li>'head'</li><li>'tail'</li><li>'head'</li><li>'head'</li><li>'tail'</li><li>'tail'</li><li>'head'</li><li>'tail'</li><li>'tail'</li><li>'head'</li><li>'head'</li><li>'tail'</li><li>'head'</li><li>'tail'</li><li>'tail'</li><li>'head'</li><li>'tail'</li><li>'head'</li><li>'head'</li><li>'tail'</li><li>'head'</li><li>'head'</li><li>'head'</li><li>'tail'</li><li>'head'</li><li>'tail'</li><li>'head'</li><li>'head'</li><li>'tail'</li><li>'tail'</li><li>'tail'</li><li>'tail'</li><li>'head'</li><li>'tail'</li><li>'tail'</li><li>'head'</li><li>'head'</li><li>'tail'</li><li>'tail'</li><li>'head'</li><li>'tail'</li><li>'tail'</li><li>'tail'</li><li>'tail'</li><li>'head'</li><li>'tail'</li><li>'head'</li><li>'head'</li><li>'head'</li><li>'head'</li><li>'head'</li><li>'head'</li><li>'head'</li><li>'tail'</li><li>'tail'</li><li>'head'</li><li>'tail'</li></ol>\n"
            ],
            "text/markdown": "1. 'tail'\n2. 'head'\n3. 'head'\n4. 'tail'\n5. 'head'\n6. 'tail'\n7. 'head'\n8. 'tail'\n9. 'tail'\n10. 'head'\n11. 'head'\n12. 'tail'\n13. 'tail'\n14. 'tail'\n15. 'tail'\n16. 'tail'\n17. 'tail'\n18. 'tail'\n19. 'tail'\n20. 'tail'\n21. 'head'\n22. 'tail'\n23. 'tail'\n24. 'head'\n25. 'tail'\n26. 'tail'\n27. 'tail'\n28. 'head'\n29. 'tail'\n30. 'head'\n31. 'tail'\n32. 'head'\n33. 'tail'\n34. 'tail'\n35. 'tail'\n36. 'head'\n37. 'head'\n38. 'tail'\n39. 'tail'\n40. 'tail'\n41. 'head'\n42. 'head'\n43. 'head'\n44. 'head'\n45. 'tail'\n46. 'head'\n47. 'head'\n48. 'tail'\n49. 'tail'\n50. 'head'\n51. 'tail'\n52. 'tail'\n53. 'head'\n54. 'head'\n55. 'tail'\n56. 'head'\n57. 'tail'\n58. 'tail'\n59. 'head'\n60. 'tail'\n61. 'head'\n62. 'head'\n63. 'tail'\n64. 'head'\n65. 'head'\n66. 'head'\n67. 'tail'\n68. 'head'\n69. 'tail'\n70. 'head'\n71. 'head'\n72. 'tail'\n73. 'tail'\n74. 'tail'\n75. 'tail'\n76. 'head'\n77. 'tail'\n78. 'tail'\n79. 'head'\n80. 'head'\n81. 'tail'\n82. 'tail'\n83. 'head'\n84. 'tail'\n85. 'tail'\n86. 'tail'\n87. 'tail'\n88. 'head'\n89. 'tail'\n90. 'head'\n91. 'head'\n92. 'head'\n93. 'head'\n94. 'head'\n95. 'head'\n96. 'head'\n97. 'tail'\n98. 'tail'\n99. 'head'\n100. 'tail'\n\n\n",
            "text/latex": "\\begin{enumerate*}\n\\item 'tail'\n\\item 'head'\n\\item 'head'\n\\item 'tail'\n\\item 'head'\n\\item 'tail'\n\\item 'head'\n\\item 'tail'\n\\item 'tail'\n\\item 'head'\n\\item 'head'\n\\item 'tail'\n\\item 'tail'\n\\item 'tail'\n\\item 'tail'\n\\item 'tail'\n\\item 'tail'\n\\item 'tail'\n\\item 'tail'\n\\item 'tail'\n\\item 'head'\n\\item 'tail'\n\\item 'tail'\n\\item 'head'\n\\item 'tail'\n\\item 'tail'\n\\item 'tail'\n\\item 'head'\n\\item 'tail'\n\\item 'head'\n\\item 'tail'\n\\item 'head'\n\\item 'tail'\n\\item 'tail'\n\\item 'tail'\n\\item 'head'\n\\item 'head'\n\\item 'tail'\n\\item 'tail'\n\\item 'tail'\n\\item 'head'\n\\item 'head'\n\\item 'head'\n\\item 'head'\n\\item 'tail'\n\\item 'head'\n\\item 'head'\n\\item 'tail'\n\\item 'tail'\n\\item 'head'\n\\item 'tail'\n\\item 'tail'\n\\item 'head'\n\\item 'head'\n\\item 'tail'\n\\item 'head'\n\\item 'tail'\n\\item 'tail'\n\\item 'head'\n\\item 'tail'\n\\item 'head'\n\\item 'head'\n\\item 'tail'\n\\item 'head'\n\\item 'head'\n\\item 'head'\n\\item 'tail'\n\\item 'head'\n\\item 'tail'\n\\item 'head'\n\\item 'head'\n\\item 'tail'\n\\item 'tail'\n\\item 'tail'\n\\item 'tail'\n\\item 'head'\n\\item 'tail'\n\\item 'tail'\n\\item 'head'\n\\item 'head'\n\\item 'tail'\n\\item 'tail'\n\\item 'head'\n\\item 'tail'\n\\item 'tail'\n\\item 'tail'\n\\item 'tail'\n\\item 'head'\n\\item 'tail'\n\\item 'head'\n\\item 'head'\n\\item 'head'\n\\item 'head'\n\\item 'head'\n\\item 'head'\n\\item 'head'\n\\item 'tail'\n\\item 'tail'\n\\item 'head'\n\\item 'tail'\n\\end{enumerate*}\n",
            "text/plain": [
              "  [1] \"tail\" \"head\" \"head\" \"tail\" \"head\" \"tail\" \"head\" \"tail\" \"tail\" \"head\"\n",
              " [11] \"head\" \"tail\" \"tail\" \"tail\" \"tail\" \"tail\" \"tail\" \"tail\" \"tail\" \"tail\"\n",
              " [21] \"head\" \"tail\" \"tail\" \"head\" \"tail\" \"tail\" \"tail\" \"head\" \"tail\" \"head\"\n",
              " [31] \"tail\" \"head\" \"tail\" \"tail\" \"tail\" \"head\" \"head\" \"tail\" \"tail\" \"tail\"\n",
              " [41] \"head\" \"head\" \"head\" \"head\" \"tail\" \"head\" \"head\" \"tail\" \"tail\" \"head\"\n",
              " [51] \"tail\" \"tail\" \"head\" \"head\" \"tail\" \"head\" \"tail\" \"tail\" \"head\" \"tail\"\n",
              " [61] \"head\" \"head\" \"tail\" \"head\" \"head\" \"head\" \"tail\" \"head\" \"tail\" \"head\"\n",
              " [71] \"head\" \"tail\" \"tail\" \"tail\" \"tail\" \"head\" \"tail\" \"tail\" \"head\" \"head\"\n",
              " [81] \"tail\" \"tail\" \"head\" \"tail\" \"tail\" \"tail\" \"tail\" \"head\" \"tail\" \"head\"\n",
              " [91] \"head\" \"head\" \"head\" \"head\" \"head\" \"head\" \"tail\" \"tail\" \"head\" \"tail\""
            ]
          },
          "metadata": {}
        }
      ]
    },
    {
      "cell_type": "code",
      "source": [
        "#replacement or not\n",
        "sample(gapminder$lifeExp, 2)"
      ],
      "metadata": {
        "colab": {
          "base_uri": "https://localhost:8080/",
          "height": 34
        },
        "id": "ikiuGzJAWgkG",
        "outputId": "8aa229c7-b0b4-4a0b-c224-90f01f25946e"
      },
      "execution_count": null,
      "outputs": [
        {
          "output_type": "display_data",
          "data": {
            "text/html": [
              "<style>\n",
              ".list-inline {list-style: none; margin:0; padding: 0}\n",
              ".list-inline>li {display: inline-block}\n",
              ".list-inline>li:not(:last-child)::after {content: \"\\00b7\"; padding: 0 .5ex}\n",
              "</style>\n",
              "<ol class=list-inline><li>42.244</li><li>68.564</li></ol>\n"
            ],
            "text/markdown": "1. 42.244\n2. 68.564\n\n\n",
            "text/latex": "\\begin{enumerate*}\n\\item 42.244\n\\item 68.564\n\\end{enumerate*}\n",
            "text/plain": [
              "[1] 42.244 68.564"
            ]
          },
          "metadata": {}
        }
      ]
    },
    {
      "cell_type": "code",
      "source": [],
      "metadata": {
        "id": "N8cYqr5MWjhm"
      },
      "execution_count": null,
      "outputs": []
    },
    {
      "cell_type": "markdown",
      "source": [
        "1. Gapminder -- take samples of size 10 and compute average GDP.  Plot the distribution."
      ],
      "metadata": {
        "id": "fO_vnC4XVXVt"
      }
    },
    {
      "cell_type": "code",
      "source": [],
      "metadata": {
        "id": "OPOX2r1dVXSC"
      },
      "execution_count": null,
      "outputs": []
    },
    {
      "cell_type": "code",
      "source": [],
      "metadata": {
        "id": "8h4KzV3xVXOq"
      },
      "execution_count": null,
      "outputs": []
    },
    {
      "cell_type": "markdown",
      "source": [
        "2. Return to the german tank problem.  Imagine an army of 500 tanks.  Compare at least 4 different methods by sampling the population and computing suggested statistics.  Plot the distribution.\n",
        "\n",
        "- Add the range to the max\n",
        "- Median x 2\n",
        "- Mean x 2"
      ],
      "metadata": {
        "id": "p1DBpXnhWQ5U"
      }
    },
    {
      "cell_type": "code",
      "source": [
        "tanks <- c(1:500)\n",
        "samp_estimate <- c()\n",
        "for (i in 1:100){\n",
        "  #sample of size 10\n",
        "  s <- sample(tanks, 10, replace = TRUE)\n",
        "  #compute the estimate -- mean x 2\n",
        "  estimate <- mean(s)*2\n",
        "  #tack that on to samp_estimate\n",
        "  samp_estimate <- c(samp_estimate, estimate)\n",
        "}"
      ],
      "metadata": {
        "id": "UiFNYtXCVXKv"
      },
      "execution_count": null,
      "outputs": []
    },
    {
      "cell_type": "code",
      "source": [
        "samp_estimate"
      ],
      "metadata": {
        "id": "e68duREOVXHW",
        "colab": {
          "base_uri": "https://localhost:8080/",
          "height": 139
        },
        "outputId": "eec29aa9-b7e9-4777-8ff5-8280454593de"
      },
      "execution_count": null,
      "outputs": [
        {
          "output_type": "display_data",
          "data": {
            "text/html": [
              "<style>\n",
              ".list-inline {list-style: none; margin:0; padding: 0}\n",
              ".list-inline>li {display: inline-block}\n",
              ".list-inline>li:not(:last-child)::after {content: \"\\00b7\"; padding: 0 .5ex}\n",
              "</style>\n",
              "<ol class=list-inline><li>565.4</li><li>567</li><li>487</li><li>514.8</li><li>549.6</li><li>480.2</li><li>516.6</li><li>378.6</li><li>588.2</li><li>639.6</li><li>585</li><li>531.2</li><li>632.6</li><li>544.4</li><li>565</li><li>524</li><li>632.2</li><li>595.4</li><li>549.2</li><li>522.4</li><li>392.8</li><li>496</li><li>403.4</li><li>512.2</li><li>585</li><li>532</li><li>653.4</li><li>367.2</li><li>523</li><li>417.4</li><li>572</li><li>625</li><li>567</li><li>511</li><li>530.2</li><li>484.6</li><li>493.6</li><li>606.4</li><li>552.8</li><li>579.4</li><li>450</li><li>408</li><li>470.2</li><li>628.6</li><li>585</li><li>424.6</li><li>417.4</li><li>441.8</li><li>420</li><li>511.6</li><li>385</li><li>697.8</li><li>454.4</li><li>517.2</li><li>477.8</li><li>542.8</li><li>330.4</li><li>485.4</li><li>618.8</li><li>453</li><li>420.2</li><li>524.2</li><li>390.4</li><li>576.8</li><li>613</li><li>418.4</li><li>429</li><li>467.8</li><li>495.2</li><li>488.6</li><li>515</li><li>547.4</li><li>582</li><li>491.6</li><li>505</li><li>536.4</li><li>583</li><li>460.6</li><li>576.4</li><li>406.4</li><li>472.2</li><li>565.4</li><li>445.6</li><li>461.8</li><li>548.4</li><li>476.8</li><li>568.2</li><li>556.2</li><li>644.8</li><li>679.8</li><li>626.4</li><li>556.2</li><li>462.6</li><li>424.8</li><li>546.8</li><li>441.8</li><li>439.4</li><li>515.2</li><li>460.4</li><li>470.8</li></ol>\n"
            ],
            "text/markdown": "1. 565.4\n2. 567\n3. 487\n4. 514.8\n5. 549.6\n6. 480.2\n7. 516.6\n8. 378.6\n9. 588.2\n10. 639.6\n11. 585\n12. 531.2\n13. 632.6\n14. 544.4\n15. 565\n16. 524\n17. 632.2\n18. 595.4\n19. 549.2\n20. 522.4\n21. 392.8\n22. 496\n23. 403.4\n24. 512.2\n25. 585\n26. 532\n27. 653.4\n28. 367.2\n29. 523\n30. 417.4\n31. 572\n32. 625\n33. 567\n34. 511\n35. 530.2\n36. 484.6\n37. 493.6\n38. 606.4\n39. 552.8\n40. 579.4\n41. 450\n42. 408\n43. 470.2\n44. 628.6\n45. 585\n46. 424.6\n47. 417.4\n48. 441.8\n49. 420\n50. 511.6\n51. 385\n52. 697.8\n53. 454.4\n54. 517.2\n55. 477.8\n56. 542.8\n57. 330.4\n58. 485.4\n59. 618.8\n60. 453\n61. 420.2\n62. 524.2\n63. 390.4\n64. 576.8\n65. 613\n66. 418.4\n67. 429\n68. 467.8\n69. 495.2\n70. 488.6\n71. 515\n72. 547.4\n73. 582\n74. 491.6\n75. 505\n76. 536.4\n77. 583\n78. 460.6\n79. 576.4\n80. 406.4\n81. 472.2\n82. 565.4\n83. 445.6\n84. 461.8\n85. 548.4\n86. 476.8\n87. 568.2\n88. 556.2\n89. 644.8\n90. 679.8\n91. 626.4\n92. 556.2\n93. 462.6\n94. 424.8\n95. 546.8\n96. 441.8\n97. 439.4\n98. 515.2\n99. 460.4\n100. 470.8\n\n\n",
            "text/latex": "\\begin{enumerate*}\n\\item 565.4\n\\item 567\n\\item 487\n\\item 514.8\n\\item 549.6\n\\item 480.2\n\\item 516.6\n\\item 378.6\n\\item 588.2\n\\item 639.6\n\\item 585\n\\item 531.2\n\\item 632.6\n\\item 544.4\n\\item 565\n\\item 524\n\\item 632.2\n\\item 595.4\n\\item 549.2\n\\item 522.4\n\\item 392.8\n\\item 496\n\\item 403.4\n\\item 512.2\n\\item 585\n\\item 532\n\\item 653.4\n\\item 367.2\n\\item 523\n\\item 417.4\n\\item 572\n\\item 625\n\\item 567\n\\item 511\n\\item 530.2\n\\item 484.6\n\\item 493.6\n\\item 606.4\n\\item 552.8\n\\item 579.4\n\\item 450\n\\item 408\n\\item 470.2\n\\item 628.6\n\\item 585\n\\item 424.6\n\\item 417.4\n\\item 441.8\n\\item 420\n\\item 511.6\n\\item 385\n\\item 697.8\n\\item 454.4\n\\item 517.2\n\\item 477.8\n\\item 542.8\n\\item 330.4\n\\item 485.4\n\\item 618.8\n\\item 453\n\\item 420.2\n\\item 524.2\n\\item 390.4\n\\item 576.8\n\\item 613\n\\item 418.4\n\\item 429\n\\item 467.8\n\\item 495.2\n\\item 488.6\n\\item 515\n\\item 547.4\n\\item 582\n\\item 491.6\n\\item 505\n\\item 536.4\n\\item 583\n\\item 460.6\n\\item 576.4\n\\item 406.4\n\\item 472.2\n\\item 565.4\n\\item 445.6\n\\item 461.8\n\\item 548.4\n\\item 476.8\n\\item 568.2\n\\item 556.2\n\\item 644.8\n\\item 679.8\n\\item 626.4\n\\item 556.2\n\\item 462.6\n\\item 424.8\n\\item 546.8\n\\item 441.8\n\\item 439.4\n\\item 515.2\n\\item 460.4\n\\item 470.8\n\\end{enumerate*}\n",
            "text/plain": [
              "  [1] 565.4 567.0 487.0 514.8 549.6 480.2 516.6 378.6 588.2 639.6 585.0 531.2\n",
              " [13] 632.6 544.4 565.0 524.0 632.2 595.4 549.2 522.4 392.8 496.0 403.4 512.2\n",
              " [25] 585.0 532.0 653.4 367.2 523.0 417.4 572.0 625.0 567.0 511.0 530.2 484.6\n",
              " [37] 493.6 606.4 552.8 579.4 450.0 408.0 470.2 628.6 585.0 424.6 417.4 441.8\n",
              " [49] 420.0 511.6 385.0 697.8 454.4 517.2 477.8 542.8 330.4 485.4 618.8 453.0\n",
              " [61] 420.2 524.2 390.4 576.8 613.0 418.4 429.0 467.8 495.2 488.6 515.0 547.4\n",
              " [73] 582.0 491.6 505.0 536.4 583.0 460.6 576.4 406.4 472.2 565.4 445.6 461.8\n",
              " [85] 548.4 476.8 568.2 556.2 644.8 679.8 626.4 556.2 462.6 424.8 546.8 441.8\n",
              " [97] 439.4 515.2 460.4 470.8"
            ]
          },
          "metadata": {}
        }
      ]
    },
    {
      "cell_type": "code",
      "source": [
        "hist(samp_estimate)"
      ],
      "metadata": {
        "colab": {
          "base_uri": "https://localhost:8080/",
          "height": 437
        },
        "id": "isGtMFInzPxx",
        "outputId": "5d8d3571-565b-45ac-c05b-b14304f6bec1"
      },
      "execution_count": null,
      "outputs": [
        {
          "output_type": "display_data",
          "data": {
            "text/plain": [
              "Plot with title “Histogram of samp_estimate”"
            ],
            "image/png": "[encoded data removed]"
          },
          "metadata": {
            "image/png": {
              "width": 420,
              "height": 420
            }
          }
        }
      ]
    },
    {
      "cell_type": "code",
      "source": [
        "tanks <- c(1:500)\n",
        "samp_estimate <- c()\n",
        "for (i in 1:100){\n",
        "  #sample of size 10\n",
        "  s <- sample(tanks, 10, replace = TRUE)\n",
        "  #compute the estimate -- mean x 2\n",
        "  estimate <- median(s)*2\n",
        "  #tack that on to samp_estimate\n",
        "  samp_estimate <- c(samp_estimate, estimate)\n",
        "}"
      ],
      "metadata": {
        "id": "JClKS8p9zj-o"
      },
      "execution_count": null,
      "outputs": []
    },
    {
      "cell_type": "code",
      "source": [
        "hist(samp_estimate)"
      ],
      "metadata": {
        "colab": {
          "base_uri": "https://localhost:8080/",
          "height": 437
        },
        "id": "3KyT36Q1zxLa",
        "outputId": "32595bbb-6b9e-4da2-d9ae-0f152d29945b"
      },
      "execution_count": null,
      "outputs": [
        {
          "output_type": "display_data",
          "data": {
            "text/plain": [
              "Plot with title “Histogram of samp_estimate”"
            ],
            "image/png": "[encoded data removed]"
          },
          "metadata": {
            "image/png": {
              "width": 420,
              "height": 420
            }
          }
        }
      ]
    },
    {
      "cell_type": "code",
      "source": [
        "tanks <- c(1:500)\n",
        "samp_estimate <- c()\n",
        "for (i in 1:100){\n",
        "  #sample of size 10\n",
        "  s <- sample(tanks, 10, replace = TRUE)\n",
        "  #compute the estimate -- mean x 2\n",
        "  estimate <- (max(s) - min(s)) + max(s)\n",
        "  #tack that on to samp_estimate\n",
        "  samp_estimate <- c(samp_estimate, estimate)\n",
        "}"
      ],
      "metadata": {
        "id": "IUgWQRAKzzVZ"
      },
      "execution_count": null,
      "outputs": []
    },
    {
      "cell_type": "code",
      "source": [
        "hist(samp_estimate)"
      ],
      "metadata": {
        "colab": {
          "base_uri": "https://localhost:8080/",
          "height": 437
        },
        "id": "Vu9hixpJ0BdH",
        "outputId": "057abcb4-9e9a-48f5-e492-f63349d7160b"
      },
      "execution_count": null,
      "outputs": [
        {
          "output_type": "display_data",
          "data": {
            "text/plain": [
              "Plot with title “Histogram of samp_estimate”"
            ],
            "image/png": "[encoded data removed]"
          },
          "metadata": {
            "image/png": {
              "width": 420,
              "height": 420
            }
          }
        }
      ]
    },
    {
      "cell_type": "code",
      "source": [],
      "metadata": {
        "id": "wbN6SvC80UoM"
      },
      "execution_count": null,
      "outputs": []
    }
  ]
}