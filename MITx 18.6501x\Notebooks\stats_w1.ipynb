{
  "nbformat": 4,
  "nbformat_minor": 0,
  "metadata": {
    "colab": {
      "provenance": [],
      "include_colab_link": true
    },
    "kernelspec": {
      "name": "ir",
      "display_name": "R"
    },
    "language_info": {
      "name": "R"
    }
  },
  "cells": [
    {
      "cell_type": "markdown",
      "metadata": {
        "id": "view-in-github",
        "colab_type": "text"
      },
      "source": [
        "<a href=\"https://colab.research.google.com/github/IsraaFahmy/Statistics-and-Data-Science-Micrometers-/blob/main/MITx%2018.6501x%5CNotebooks%5Cstats_w1.ipynb\" target=\"_parent\"><img src=\"https://colab.research.google.com/assets/colab-badge.svg\" alt=\"Open In Colab\"/></a>"
      ]
    },
    {
      "cell_type": "markdown",
      "source": [
        "### Introduction to R"
      ],
      "metadata": {
        "id": "EOhhTPxc2Zjy"
      }
    },
    {
      "cell_type": "code",
      "source": [
        "3 + 5"
      ],
      "metadata": {
        "colab": {
          "base_uri": "https://localhost:8080/",
          "height": 34
        },
        "id": "WQNispju-4Ix",
        "outputId": "8d0203c6-aae6-43b9-a965-749f611f77e8"
      },
      "execution_count": null,
      "outputs": [
        {
          "output_type": "display_data",
          "data": {
            "text/html": [
              "8"
            ],
            "text/markdown": "8",
            "text/latex": "8",
            "text/plain": [
              "[1] 8"
            ]
          },
          "metadata": {}
        }
      ]
    },
    {
      "cell_type": "code",
      "source": [
        "12/7"
      ],
      "metadata": {
        "colab": {
          "base_uri": "https://localhost:8080/",
          "height": 34
        },
        "id": "WV0wWA-T-4Fk",
        "outputId": "e63891e3-2590-49c9-9621-93238055ebad"
      },
      "execution_count": null,
      "outputs": [
        {
          "output_type": "display_data",
          "data": {
            "text/html": [
              "1.71428571428571"
            ],
            "text/markdown": "1.71428571428571",
            "text/latex": "1.71428571428571",
            "text/plain": [
              "[1] 1.714286"
            ]
          },
          "metadata": {}
        }
      ]
    },
    {
      "cell_type": "code",
      "source": [
        "2 ** 4"
      ],
      "metadata": {
        "colab": {
          "base_uri": "https://localhost:8080/",
          "height": 34
        },
        "id": "gzNqX6mG-38t",
        "outputId": "181a798b-8aa8-450e-d303-5aaddb7a0df0"
      },
      "execution_count": null,
      "outputs": [
        {
          "output_type": "display_data",
          "data": {
            "text/html": [
              "16"
            ],
            "text/markdown": "16",
            "text/latex": "16",
            "text/plain": [
              "[1] 16"
            ]
          },
          "metadata": {}
        }
      ]
    },
    {
      "cell_type": "code",
      "source": [
        "2 ^ 4"
      ],
      "metadata": {
        "colab": {
          "base_uri": "https://localhost:8080/",
          "height": 34
        },
        "id": "zQUgKPBx-3np",
        "outputId": "a2bf519f-3881-4950-a2d0-29398620b129"
      },
      "execution_count": null,
      "outputs": [
        {
          "output_type": "display_data",
          "data": {
            "text/html": [
              "16"
            ],
            "text/markdown": "16",
            "text/latex": "16",
            "text/plain": [
              "[1] 16"
            ]
          },
          "metadata": {}
        }
      ]
    },
    {
      "cell_type": "code",
      "source": [
        "# a = 2\n",
        "a <- 2\n",
        "a"
      ],
      "metadata": {
        "colab": {
          "base_uri": "https://localhost:8080/",
          "height": 34
        },
        "id": "V2aotDcN-3kh",
        "outputId": "1664478d-ea3d-47e8-acea-ad23720e9c72"
      },
      "execution_count": null,
      "outputs": [
        {
          "output_type": "display_data",
          "data": {
            "text/html": [
              "2"
            ],
            "text/markdown": "2",
            "text/latex": "2",
            "text/plain": [
              "[1] 2"
            ]
          },
          "metadata": {}
        }
      ]
    },
    {
      "cell_type": "code",
      "source": [
        "b <- 4"
      ],
      "metadata": {
        "id": "BEfYK_aY-3ha"
      },
      "execution_count": null,
      "outputs": []
    },
    {
      "cell_type": "code",
      "source": [
        "(b <- 4) #displays variable"
      ],
      "metadata": {
        "colab": {
          "base_uri": "https://localhost:8080/",
          "height": 34
        },
        "id": "mFCw874z-3dw",
        "outputId": "16bf4944-fd06-46a2-f943-e401e6d8d985"
      },
      "execution_count": null,
      "outputs": [
        {
          "output_type": "display_data",
          "data": {
            "text/html": [
              "4"
            ],
            "text/markdown": "4",
            "text/latex": "4",
            "text/plain": [
              "[1] 4"
            ]
          },
          "metadata": {}
        }
      ]
    },
    {
      "cell_type": "code",
      "source": [
        "b"
      ],
      "metadata": {
        "colab": {
          "base_uri": "https://localhost:8080/",
          "height": 34
        },
        "id": "0qweX06p-3am",
        "outputId": "f93e78f7-de73-4f8c-bc70-a25fcfb7e964"
      },
      "execution_count": null,
      "outputs": [
        {
          "output_type": "display_data",
          "data": {
            "text/html": [
              "4"
            ],
            "text/markdown": "4",
            "text/latex": "4",
            "text/plain": [
              "[1] 4"
            ]
          },
          "metadata": {}
        }
      ]
    },
    {
      "cell_type": "markdown",
      "source": [
        "#### Working with data"
      ],
      "metadata": {
        "id": "3N_W0EgX-4pg"
      }
    },
    {
      "cell_type": "code",
      "source": [
        "library(tidyverse)"
      ],
      "metadata": {
        "id": "kSsFW5IQ3PBP"
      },
      "execution_count": null,
      "outputs": []
    },
    {
      "cell_type": "code",
      "source": [
        "# install.packages(tidyverse)"
      ],
      "metadata": {
        "id": "DusySeiL-yKk"
      },
      "execution_count": null,
      "outputs": []
    },
    {
      "cell_type": "code",
      "source": [
        "interviews <- read.csv('SAFI_clean.csv')"
      ],
      "metadata": {
        "id": "SQDzf-ju-yGq"
      },
      "execution_count": null,
      "outputs": []
    },
    {
      "cell_type": "code",
      "source": [
        "head(interviews)"
      ],
      "metadata": {
        "colab": {
          "base_uri": "https://localhost:8080/",
          "height": 618
        },
        "id": "75oIj7vC-226",
        "outputId": "022b3d4a-d716-4b3c-d3a3-18b8e6269d8c"
      },
      "execution_count": null,
      "outputs": [
        {
          "output_type": "display_data",
          "data": {
            "text/html": [
              "<table class=\"dataframe\">\n",
              "<caption>A data.frame: 6 × 14</caption>\n",
              "<thead>\n",
              "\t<tr><th></th><th scope=col>key_ID</th><th scope=col>village</th><th scope=col>interview_date</th><th scope=col>no_membrs</th><th scope=col>years_liv</th><th scope=col>respondent_wall_type</th><th scope=col>rooms</th><th scope=col>memb_assoc</th><th scope=col>affect_conflicts</th><th scope=col>liv_count</th><th scope=col>items_owned</th><th scope=col>no_meals</th><th scope=col>months_lack_food</th><th scope=col>instanceID</th></tr>\n",
              "\t<tr><th></th><th scope=col>&lt;int&gt;</th><th scope=col>&lt;chr&gt;</th><th scope=col>&lt;chr&gt;</th><th scope=col>&lt;int&gt;</th><th scope=col>&lt;int&gt;</th><th scope=col>&lt;chr&gt;</th><th scope=col>&lt;int&gt;</th><th scope=col>&lt;chr&gt;</th><th scope=col>&lt;chr&gt;</th><th scope=col>&lt;int&gt;</th><th scope=col>&lt;chr&gt;</th><th scope=col>&lt;int&gt;</th><th scope=col>&lt;chr&gt;</th><th scope=col>&lt;chr&gt;</th></tr>\n",
              "</thead>\n",
              "<tbody>\n",
              "\t<tr><th scope=row>1</th><td>1</td><td>God</td><td>2016-11-17T00:00:00Z</td><td> 3</td><td> 4</td><td>muddaub     </td><td>1</td><td>NULL</td><td>NULL</td><td>1</td><td>bicycle;television;solar_panel;table                                        </td><td>2</td><td>Jan                    </td><td>uuid:ec241f2c-0609-46ed-b5e8-fe575f6cefef</td></tr>\n",
              "\t<tr><th scope=row>2</th><td>1</td><td>God</td><td>2016-11-17T00:00:00Z</td><td> 7</td><td> 9</td><td> muddaub    </td><td>1</td><td>yes </td><td>once</td><td>3</td><td>cow_cart;bicycle;radio;cow_plough;solar_panel;solar_torch;table;mobile_phone</td><td>2</td><td>Jan;Sept;Oct;Nov;Dec   </td><td>uuid:099de9c9-3e5e-427b-8452-26250e840d6e</td></tr>\n",
              "\t<tr><th scope=row>3</th><td>3</td><td>God</td><td>2016-11-17T00:00:00Z</td><td>10</td><td>15</td><td> burntbricks</td><td>1</td><td>NULL</td><td>NULL</td><td>1</td><td>solar_torch                                                                 </td><td>2</td><td>Jan;Feb;Mar;Oct;Nov;Dec</td><td>uuid:193d7daf-9582-409b-bf09-027dd36f9007</td></tr>\n",
              "\t<tr><th scope=row>4</th><td>4</td><td>God</td><td>2016-11-17T00:00:00Z</td><td> 7</td><td> 6</td><td> burntbricks</td><td>1</td><td>NULL</td><td>NULL</td><td>2</td><td>bicycle;radio;cow_plough;solar_panel;mobile_phone                           </td><td>2</td><td>Sept;Oct;Nov;Dec       </td><td>uuid:148d1105-778a-4755-aa71-281eadd4a973</td></tr>\n",
              "\t<tr><th scope=row>5</th><td>5</td><td>God</td><td>2016-11-17T00:00:00Z</td><td> 7</td><td>40</td><td>burntbricks </td><td>1</td><td>NULL</td><td>NULL</td><td>4</td><td>motorcyle;radio;cow_plough;mobile_phone                                     </td><td>2</td><td>Aug;Sept;Oct;Nov       </td><td>uuid:2c867811-9696-4966-9866-f35c3e97d02d</td></tr>\n",
              "\t<tr><th scope=row>6</th><td>6</td><td>God</td><td>2016-11-17T00:00:00Z</td><td> 3</td><td> 3</td><td>muddaub     </td><td>1</td><td>NULL</td><td>NULL</td><td>1</td><td>NULL                                                                        </td><td>2</td><td>Aug;Sept;Oct           </td><td>uuid:daa56c91-c8e3-44c3-a663-af6a49a2ca70</td></tr>\n",
              "</tbody>\n",
              "</table>\n"
            ],
            "text/markdown": "\nA data.frame: 6 × 14\n\n| <!--/--> | key_ID &lt;int&gt; | village &lt;chr&gt; | interview_date &lt;chr&gt; | no_membrs &lt;int&gt; | years_liv &lt;int&gt; | respondent_wall_type &lt;chr&gt; | rooms &lt;int&gt; | memb_assoc &lt;chr&gt; | affect_conflicts &lt;chr&gt; | liv_count &lt;int&gt; | items_owned &lt;chr&gt; | no_meals &lt;int&gt; | months_lack_food &lt;chr&gt; | instanceID &lt;chr&gt; |\n|---|---|---|---|---|---|---|---|---|---|---|---|---|---|---|\n| 1 | 1 | God | 2016-11-17T00:00:00Z |  3 |  4 | muddaub      | 1 | NULL | NULL | 1 | bicycle;television;solar_panel;table                                         | 2 | Jan                     | uuid:ec241f2c-0609-46ed-b5e8-fe575f6cefef |\n| 2 | 1 | God | 2016-11-17T00:00:00Z |  7 |  9 |  muddaub     | 1 | yes  | once | 3 | cow_cart;bicycle;radio;cow_plough;solar_panel;solar_torch;table;mobile_phone | 2 | Jan;Sept;Oct;Nov;Dec    | uuid:099de9c9-3e5e-427b-8452-26250e840d6e |\n| 3 | 3 | God | 2016-11-17T00:00:00Z | 10 | 15 |  burntbricks | 1 | NULL | NULL | 1 | solar_torch                                                                  | 2 | Jan;Feb;Mar;Oct;Nov;Dec | uuid:193d7daf-9582-409b-bf09-027dd36f9007 |\n| 4 | 4 | God | 2016-11-17T00:00:00Z |  7 |  6 |  burntbricks | 1 | NULL | NULL | 2 | bicycle;radio;cow_plough;solar_panel;mobile_phone                            | 2 | Sept;Oct;Nov;Dec        | uuid:148d1105-778a-4755-aa71-281eadd4a973 |\n| 5 | 5 | God | 2016-11-17T00:00:00Z |  7 | 40 | burntbricks  | 1 | NULL | NULL | 4 | motorcyle;radio;cow_plough;mobile_phone                                      | 2 | Aug;Sept;Oct;Nov        | uuid:2c867811-9696-4966-9866-f35c3e97d02d |\n| 6 | 6 | God | 2016-11-17T00:00:00Z |  3 |  3 | muddaub      | 1 | NULL | NULL | 1 | NULL                                                                         | 2 | Aug;Sept;Oct            | uuid:daa56c91-c8e3-44c3-a663-af6a49a2ca70 |\n\n",
            "text/latex": "A data.frame: 6 × 14\n\\begin{tabular}{r|llllllllllllll}\n  & key\\_ID & village & interview\\_date & no\\_membrs & years\\_liv & respondent\\_wall\\_type & rooms & memb\\_assoc & affect\\_conflicts & liv\\_count & items\\_owned & no\\_meals & months\\_lack\\_food & instanceID\\\\\n  & <int> & <chr> & <chr> & <int> & <int> & <chr> & <int> & <chr> & <chr> & <int> & <chr> & <int> & <chr> & <chr>\\\\\n\\hline\n\t1 & 1 & God & 2016-11-17T00:00:00Z &  3 &  4 & muddaub      & 1 & NULL & NULL & 1 & bicycle;television;solar\\_panel;table                                         & 2 & Jan                     & uuid:ec241f2c-0609-46ed-b5e8-fe575f6cefef\\\\\n\t2 & 1 & God & 2016-11-17T00:00:00Z &  7 &  9 &  muddaub     & 1 & yes  & once & 3 & cow\\_cart;bicycle;radio;cow\\_plough;solar\\_panel;solar\\_torch;table;mobile\\_phone & 2 & Jan;Sept;Oct;Nov;Dec    & uuid:099de9c9-3e5e-427b-8452-26250e840d6e\\\\\n\t3 & 3 & God & 2016-11-17T00:00:00Z & 10 & 15 &  burntbricks & 1 & NULL & NULL & 1 & solar\\_torch                                                                  & 2 & Jan;Feb;Mar;Oct;Nov;Dec & uuid:193d7daf-9582-409b-bf09-027dd36f9007\\\\\n\t4 & 4 & God & 2016-11-17T00:00:00Z &  7 &  6 &  burntbricks & 1 & NULL & NULL & 2 & bicycle;radio;cow\\_plough;solar\\_panel;mobile\\_phone                            & 2 & Sept;Oct;Nov;Dec        & uuid:148d1105-778a-4755-aa71-281eadd4a973\\\\\n\t5 & 5 & God & 2016-11-17T00:00:00Z &  7 & 40 & burntbricks  & 1 & NULL & NULL & 4 & motorcyle;radio;cow\\_plough;mobile\\_phone                                      & 2 & Aug;Sept;Oct;Nov        & uuid:2c867811-9696-4966-9866-f35c3e97d02d\\\\\n\t6 & 6 & God & 2016-11-17T00:00:00Z &  3 &  3 & muddaub      & 1 & NULL & NULL & 1 & NULL                                                                         & 2 & Aug;Sept;Oct            & uuid:daa56c91-c8e3-44c3-a663-af6a49a2ca70\\\\\n\\end{tabular}\n",
            "text/plain": [
              "  key_ID village interview_date       no_membrs years_liv respondent_wall_type\n",
              "1 1      God     2016-11-17T00:00:00Z  3         4        muddaub             \n",
              "2 1      God     2016-11-17T00:00:00Z  7         9         muddaub            \n",
              "3 3      God     2016-11-17T00:00:00Z 10        15         burntbricks        \n",
              "4 4      God     2016-11-17T00:00:00Z  7         6         burntbricks        \n",
              "5 5      God     2016-11-17T00:00:00Z  7        40        burntbricks         \n",
              "6 6      God     2016-11-17T00:00:00Z  3         3        muddaub             \n",
              "  rooms memb_assoc affect_conflicts liv_count\n",
              "1 1     NULL       NULL             1        \n",
              "2 1     yes        once             3        \n",
              "3 1     NULL       NULL             1        \n",
              "4 1     NULL       NULL             2        \n",
              "5 1     NULL       NULL             4        \n",
              "6 1     NULL       NULL             1        \n",
              "  items_owned                                                                 \n",
              "1 bicycle;television;solar_panel;table                                        \n",
              "2 cow_cart;bicycle;radio;cow_plough;solar_panel;solar_torch;table;mobile_phone\n",
              "3 solar_torch                                                                 \n",
              "4 bicycle;radio;cow_plough;solar_panel;mobile_phone                           \n",
              "5 motorcyle;radio;cow_plough;mobile_phone                                     \n",
              "6 NULL                                                                        \n",
              "  no_meals months_lack_food        instanceID                               \n",
              "1 2        Jan                     uuid:ec241f2c-0609-46ed-b5e8-fe575f6cefef\n",
              "2 2        Jan;Sept;Oct;Nov;Dec    uuid:099de9c9-3e5e-427b-8452-26250e840d6e\n",
              "3 2        Jan;Feb;Mar;Oct;Nov;Dec uuid:193d7daf-9582-409b-bf09-027dd36f9007\n",
              "4 2        Sept;Oct;Nov;Dec        uuid:148d1105-778a-4755-aa71-281eadd4a973\n",
              "5 2        Aug;Sept;Oct;Nov        uuid:2c867811-9696-4966-9866-f35c3e97d02d\n",
              "6 2        Aug;Sept;Oct            uuid:daa56c91-c8e3-44c3-a663-af6a49a2ca70"
            ]
          },
          "metadata": {}
        }
      ]
    },
    {
      "cell_type": "code",
      "source": [
        "class(interviews)"
      ],
      "metadata": {
        "colab": {
          "base_uri": "https://localhost:8080/",
          "height": 34
        },
        "id": "bzgjyx_w-2sO",
        "outputId": "22fb41da-b6ab-48ad-e514-4de3b3f868e2"
      },
      "execution_count": null,
      "outputs": [
        {
          "output_type": "display_data",
          "data": {
            "text/html": [
              "'data.frame'"
            ],
            "text/markdown": "'data.frame'",
            "text/latex": "'data.frame'",
            "text/plain": [
              "[1] \"data.frame\""
            ]
          },
          "metadata": {}
        }
      ]
    },
    {
      "cell_type": "markdown",
      "source": [
        "[Data Description](https://figshare.com/articles/dataset/SAFI_Survey_Results/6262019)"
      ],
      "metadata": {
        "id": "hLXSpHct34n5"
      }
    },
    {
      "cell_type": "code",
      "source": [
        "#examine interviews\n",
        "interviews <- read_csv('SAFI_clean.csv')\n",
        "class(interviews)"
      ],
      "metadata": {
        "colab": {
          "base_uri": "https://localhost:8080/",
          "height": 194
        },
        "id": "E9XAbE6b3wzK",
        "outputId": "3c64b1c9-4819-41fd-a44e-d825d7ad4dbd"
      },
      "execution_count": null,
      "outputs": [
        {
          "output_type": "stream",
          "name": "stderr",
          "text": [
            "\u001b[1mRows: \u001b[22m\u001b[34m131\u001b[39m \u001b[1mColumns: \u001b[22m\u001b[34m14\u001b[39m\n",
            "\u001b[36m──\u001b[39m \u001b[1mColumn specification\u001b[22m \u001b[36m────────────────────────────────────────────────────────\u001b[39m\n",
            "\u001b[1mDelimiter:\u001b[22m \",\"\n",
            "\u001b[31mchr\u001b[39m  (7): village, respondent_wall_type, memb_assoc, affect_conflicts, items...\n",
            "\u001b[32mdbl\u001b[39m  (6): key_ID, no_membrs, years_liv, rooms, liv_count, no_meals\n",
            "\u001b[34mdttm\u001b[39m (1): interview_date\n",
            "\n",
            "\u001b[36mℹ\u001b[39m Use `spec()` to retrieve the full column specification for this data.\n",
            "\u001b[36mℹ\u001b[39m Specify the column types or set `show_col_types = FALSE` to quiet this message.\n"
          ]
        },
        {
          "output_type": "display_data",
          "data": {
            "text/html": [
              "<style>\n",
              ".list-inline {list-style: none; margin:0; padding: 0}\n",
              ".list-inline>li {display: inline-block}\n",
              ".list-inline>li:not(:last-child)::after {content: \"\\00b7\"; padding: 0 .5ex}\n",
              "</style>\n",
              "<ol class=list-inline><li>'spec_tbl_df'</li><li>'tbl_df'</li><li>'tbl'</li><li>'data.frame'</li></ol>\n"
            ],
            "text/markdown": "1. 'spec_tbl_df'\n2. 'tbl_df'\n3. 'tbl'\n4. 'data.frame'\n\n\n",
            "text/latex": "\\begin{enumerate*}\n\\item 'spec\\_tbl\\_df'\n\\item 'tbl\\_df'\n\\item 'tbl'\n\\item 'data.frame'\n\\end{enumerate*}\n",
            "text/plain": [
              "[1] \"spec_tbl_df\" \"tbl_df\"      \"tbl\"         \"data.frame\" "
            ]
          },
          "metadata": {}
        }
      ]
    },
    {
      "cell_type": "code",
      "source": [
        "#what kind of thing\n",
        "head(interviews)"
      ],
      "metadata": {
        "colab": {
          "base_uri": "https://localhost:8080/",
          "height": 618
        },
        "id": "WgY8HX-f3ydp",
        "outputId": "d60bf64d-5dc2-4435-cf47-e241bdf7eec4"
      },
      "execution_count": null,
      "outputs": [
        {
          "output_type": "display_data",
          "data": {
            "text/html": [
              "<table class=\"dataframe\">\n",
              "<caption>A tibble: 6 × 14</caption>\n",
              "<thead>\n",
              "\t<tr><th scope=col>key_ID</th><th scope=col>village</th><th scope=col>interview_date</th><th scope=col>no_membrs</th><th scope=col>years_liv</th><th scope=col>respondent_wall_type</th><th scope=col>rooms</th><th scope=col>memb_assoc</th><th scope=col>affect_conflicts</th><th scope=col>liv_count</th><th scope=col>items_owned</th><th scope=col>no_meals</th><th scope=col>months_lack_food</th><th scope=col>instanceID</th></tr>\n",
              "\t<tr><th scope=col>&lt;dbl&gt;</th><th scope=col>&lt;chr&gt;</th><th scope=col>&lt;dttm&gt;</th><th scope=col>&lt;dbl&gt;</th><th scope=col>&lt;dbl&gt;</th><th scope=col>&lt;chr&gt;</th><th scope=col>&lt;dbl&gt;</th><th scope=col>&lt;chr&gt;</th><th scope=col>&lt;chr&gt;</th><th scope=col>&lt;dbl&gt;</th><th scope=col>&lt;chr&gt;</th><th scope=col>&lt;dbl&gt;</th><th scope=col>&lt;chr&gt;</th><th scope=col>&lt;chr&gt;</th></tr>\n",
              "</thead>\n",
              "<tbody>\n",
              "\t<tr><td>1</td><td>God</td><td>2016-11-17</td><td> 3</td><td> 4</td><td>muddaub    </td><td>1</td><td>NULL</td><td>NULL</td><td>1</td><td>bicycle;television;solar_panel;table                                        </td><td>2</td><td>Jan                    </td><td>uuid:ec241f2c-0609-46ed-b5e8-fe575f6cefef</td></tr>\n",
              "\t<tr><td>1</td><td>God</td><td>2016-11-17</td><td> 7</td><td> 9</td><td>muddaub    </td><td>1</td><td>yes </td><td>once</td><td>3</td><td>cow_cart;bicycle;radio;cow_plough;solar_panel;solar_torch;table;mobile_phone</td><td>2</td><td>Jan;Sept;Oct;Nov;Dec   </td><td>uuid:099de9c9-3e5e-427b-8452-26250e840d6e</td></tr>\n",
              "\t<tr><td>3</td><td>God</td><td>2016-11-17</td><td>10</td><td>15</td><td>burntbricks</td><td>1</td><td>NULL</td><td>NULL</td><td>1</td><td>solar_torch                                                                 </td><td>2</td><td>Jan;Feb;Mar;Oct;Nov;Dec</td><td>uuid:193d7daf-9582-409b-bf09-027dd36f9007</td></tr>\n",
              "\t<tr><td>4</td><td>God</td><td>2016-11-17</td><td> 7</td><td> 6</td><td>burntbricks</td><td>1</td><td>NULL</td><td>NULL</td><td>2</td><td>bicycle;radio;cow_plough;solar_panel;mobile_phone                           </td><td>2</td><td>Sept;Oct;Nov;Dec       </td><td>uuid:148d1105-778a-4755-aa71-281eadd4a973</td></tr>\n",
              "\t<tr><td>5</td><td>God</td><td>2016-11-17</td><td> 7</td><td>40</td><td>burntbricks</td><td>1</td><td>NULL</td><td>NULL</td><td>4</td><td>motorcyle;radio;cow_plough;mobile_phone                                     </td><td>2</td><td>Aug;Sept;Oct;Nov       </td><td>uuid:2c867811-9696-4966-9866-f35c3e97d02d</td></tr>\n",
              "\t<tr><td>6</td><td>God</td><td>2016-11-17</td><td> 3</td><td> 3</td><td>muddaub    </td><td>1</td><td>NULL</td><td>NULL</td><td>1</td><td>NULL                                                                        </td><td>2</td><td>Aug;Sept;Oct           </td><td>uuid:daa56c91-c8e3-44c3-a663-af6a49a2ca70</td></tr>\n",
              "</tbody>\n",
              "</table>\n"
            ],
            "text/markdown": "\nA tibble: 6 × 14\n\n| key_ID &lt;dbl&gt; | village &lt;chr&gt; | interview_date &lt;dttm&gt; | no_membrs &lt;dbl&gt; | years_liv &lt;dbl&gt; | respondent_wall_type &lt;chr&gt; | rooms &lt;dbl&gt; | memb_assoc &lt;chr&gt; | affect_conflicts &lt;chr&gt; | liv_count &lt;dbl&gt; | items_owned &lt;chr&gt; | no_meals &lt;dbl&gt; | months_lack_food &lt;chr&gt; | instanceID &lt;chr&gt; |\n|---|---|---|---|---|---|---|---|---|---|---|---|---|---|\n| 1 | God | 2016-11-17 |  3 |  4 | muddaub     | 1 | NULL | NULL | 1 | bicycle;television;solar_panel;table                                         | 2 | Jan                     | uuid:ec241f2c-0609-46ed-b5e8-fe575f6cefef |\n| 1 | God | 2016-11-17 |  7 |  9 | muddaub     | 1 | yes  | once | 3 | cow_cart;bicycle;radio;cow_plough;solar_panel;solar_torch;table;mobile_phone | 2 | Jan;Sept;Oct;Nov;Dec    | uuid:099de9c9-3e5e-427b-8452-26250e840d6e |\n| 3 | God | 2016-11-17 | 10 | 15 | burntbricks | 1 | NULL | NULL | 1 | solar_torch                                                                  | 2 | Jan;Feb;Mar;Oct;Nov;Dec | uuid:193d7daf-9582-409b-bf09-027dd36f9007 |\n| 4 | God | 2016-11-17 |  7 |  6 | burntbricks | 1 | NULL | NULL | 2 | bicycle;radio;cow_plough;solar_panel;mobile_phone                            | 2 | Sept;Oct;Nov;Dec        | uuid:148d1105-778a-4755-aa71-281eadd4a973 |\n| 5 | God | 2016-11-17 |  7 | 40 | burntbricks | 1 | NULL | NULL | 4 | motorcyle;radio;cow_plough;mobile_phone                                      | 2 | Aug;Sept;Oct;Nov        | uuid:2c867811-9696-4966-9866-f35c3e97d02d |\n| 6 | God | 2016-11-17 |  3 |  3 | muddaub     | 1 | NULL | NULL | 1 | NULL                                                                         | 2 | Aug;Sept;Oct            | uuid:daa56c91-c8e3-44c3-a663-af6a49a2ca70 |\n\n",
            "text/latex": "A tibble: 6 × 14\n\\begin{tabular}{llllllllllllll}\n key\\_ID & village & interview\\_date & no\\_membrs & years\\_liv & respondent\\_wall\\_type & rooms & memb\\_assoc & affect\\_conflicts & liv\\_count & items\\_owned & no\\_meals & months\\_lack\\_food & instanceID\\\\\n <dbl> & <chr> & <dttm> & <dbl> & <dbl> & <chr> & <dbl> & <chr> & <chr> & <dbl> & <chr> & <dbl> & <chr> & <chr>\\\\\n\\hline\n\t 1 & God & 2016-11-17 &  3 &  4 & muddaub     & 1 & NULL & NULL & 1 & bicycle;television;solar\\_panel;table                                         & 2 & Jan                     & uuid:ec241f2c-0609-46ed-b5e8-fe575f6cefef\\\\\n\t 1 & God & 2016-11-17 &  7 &  9 & muddaub     & 1 & yes  & once & 3 & cow\\_cart;bicycle;radio;cow\\_plough;solar\\_panel;solar\\_torch;table;mobile\\_phone & 2 & Jan;Sept;Oct;Nov;Dec    & uuid:099de9c9-3e5e-427b-8452-26250e840d6e\\\\\n\t 3 & God & 2016-11-17 & 10 & 15 & burntbricks & 1 & NULL & NULL & 1 & solar\\_torch                                                                  & 2 & Jan;Feb;Mar;Oct;Nov;Dec & uuid:193d7daf-9582-409b-bf09-027dd36f9007\\\\\n\t 4 & God & 2016-11-17 &  7 &  6 & burntbricks & 1 & NULL & NULL & 2 & bicycle;radio;cow\\_plough;solar\\_panel;mobile\\_phone                            & 2 & Sept;Oct;Nov;Dec        & uuid:148d1105-778a-4755-aa71-281eadd4a973\\\\\n\t 5 & God & 2016-11-17 &  7 & 40 & burntbricks & 1 & NULL & NULL & 4 & motorcyle;radio;cow\\_plough;mobile\\_phone                                      & 2 & Aug;Sept;Oct;Nov        & uuid:2c867811-9696-4966-9866-f35c3e97d02d\\\\\n\t 6 & God & 2016-11-17 &  3 &  3 & muddaub     & 1 & NULL & NULL & 1 & NULL                                                                         & 2 & Aug;Sept;Oct            & uuid:daa56c91-c8e3-44c3-a663-af6a49a2ca70\\\\\n\\end{tabular}\n",
            "text/plain": [
              "  key_ID village interview_date no_membrs years_liv respondent_wall_type rooms\n",
              "1 1      God     2016-11-17      3         4        muddaub              1    \n",
              "2 1      God     2016-11-17      7         9        muddaub              1    \n",
              "3 3      God     2016-11-17     10        15        burntbricks          1    \n",
              "4 4      God     2016-11-17      7         6        burntbricks          1    \n",
              "5 5      God     2016-11-17      7        40        burntbricks          1    \n",
              "6 6      God     2016-11-17      3         3        muddaub              1    \n",
              "  memb_assoc affect_conflicts liv_count\n",
              "1 NULL       NULL             1        \n",
              "2 yes        once             3        \n",
              "3 NULL       NULL             1        \n",
              "4 NULL       NULL             2        \n",
              "5 NULL       NULL             4        \n",
              "6 NULL       NULL             1        \n",
              "  items_owned                                                                 \n",
              "1 bicycle;television;solar_panel;table                                        \n",
              "2 cow_cart;bicycle;radio;cow_plough;solar_panel;solar_torch;table;mobile_phone\n",
              "3 solar_torch                                                                 \n",
              "4 bicycle;radio;cow_plough;solar_panel;mobile_phone                           \n",
              "5 motorcyle;radio;cow_plough;mobile_phone                                     \n",
              "6 NULL                                                                        \n",
              "  no_meals months_lack_food        instanceID                               \n",
              "1 2        Jan                     uuid:ec241f2c-0609-46ed-b5e8-fe575f6cefef\n",
              "2 2        Jan;Sept;Oct;Nov;Dec    uuid:099de9c9-3e5e-427b-8452-26250e840d6e\n",
              "3 2        Jan;Feb;Mar;Oct;Nov;Dec uuid:193d7daf-9582-409b-bf09-027dd36f9007\n",
              "4 2        Sept;Oct;Nov;Dec        uuid:148d1105-778a-4755-aa71-281eadd4a973\n",
              "5 2        Aug;Sept;Oct;Nov        uuid:2c867811-9696-4966-9866-f35c3e97d02d\n",
              "6 2        Aug;Sept;Oct            uuid:daa56c91-c8e3-44c3-a663-af6a49a2ca70"
            ]
          },
          "metadata": {}
        }
      ]
    },
    {
      "cell_type": "code",
      "source": [
        "## first element in the first column of the tibble\n",
        "interviews[1, 1]"
      ],
      "metadata": {
        "colab": {
          "base_uri": "https://localhost:8080/",
          "height": 147
        },
        "id": "D4NOw9QW4WPv",
        "outputId": "9be3c3d9-2a41-470f-d69a-79d73b1a2b2d"
      },
      "execution_count": null,
      "outputs": [
        {
          "output_type": "display_data",
          "data": {
            "text/html": [
              "<table class=\"dataframe\">\n",
              "<caption>A tibble: 1 × 1</caption>\n",
              "<thead>\n",
              "\t<tr><th scope=col>key_ID</th></tr>\n",
              "\t<tr><th scope=col>&lt;dbl&gt;</th></tr>\n",
              "</thead>\n",
              "<tbody>\n",
              "\t<tr><td>1</td></tr>\n",
              "</tbody>\n",
              "</table>\n"
            ],
            "text/markdown": "\nA tibble: 1 × 1\n\n| key_ID &lt;dbl&gt; |\n|---|\n| 1 |\n\n",
            "text/latex": "A tibble: 1 × 1\n\\begin{tabular}{l}\n key\\_ID\\\\\n <dbl>\\\\\n\\hline\n\t 1\\\\\n\\end{tabular}\n",
            "text/plain": [
              "  key_ID\n",
              "1 1     "
            ]
          },
          "metadata": {}
        }
      ]
    },
    {
      "cell_type": "code",
      "source": [
        "## first element in the 6th column of the tibble\n",
        "interviews[1, 6]"
      ],
      "metadata": {
        "colab": {
          "base_uri": "https://localhost:8080/",
          "height": 129
        },
        "id": "CMOnMBnX4Xzl",
        "outputId": "d0ea9815-566c-4cdd-c866-35164eec9178"
      },
      "execution_count": null,
      "outputs": [
        {
          "output_type": "display_data",
          "data": {
            "text/html": [
              "<table class=\"dataframe\">\n",
              "<caption>A tibble: 1 × 1</caption>\n",
              "<thead>\n",
              "\t<tr><th scope=col>respondent_wall_type</th></tr>\n",
              "\t<tr><th scope=col>&lt;chr&gt;</th></tr>\n",
              "</thead>\n",
              "<tbody>\n",
              "\t<tr><td>muddaub</td></tr>\n",
              "</tbody>\n",
              "</table>\n"
            ],
            "text/markdown": "\nA tibble: 1 × 1\n\n| respondent_wall_type &lt;chr&gt; |\n|---|\n| muddaub |\n\n",
            "text/latex": "A tibble: 1 × 1\n\\begin{tabular}{l}\n respondent\\_wall\\_type\\\\\n <chr>\\\\\n\\hline\n\t muddaub\\\\\n\\end{tabular}\n",
            "text/plain": [
              "  respondent_wall_type\n",
              "1 muddaub             "
            ]
          },
          "metadata": {}
        }
      ]
    },
    {
      "cell_type": "code",
      "source": [
        "## first column of the tibble (as a vector)\n",
        "interviews[[1]]"
      ],
      "metadata": {
        "colab": {
          "base_uri": "https://localhost:8080/",
          "height": 86
        },
        "id": "j6ObKmz85d0V",
        "outputId": "1a0eca09-80ee-4572-dde9-32829b6e57a2"
      },
      "execution_count": null,
      "outputs": [
        {
          "output_type": "display_data",
          "data": {
            "text/html": [
              "<style>\n",
              ".list-inline {list-style: none; margin:0; padding: 0}\n",
              ".list-inline>li {display: inline-block}\n",
              ".list-inline>li:not(:last-child)::after {content: \"\\00b7\"; padding: 0 .5ex}\n",
              "</style>\n",
              "<ol class=list-inline><li>1</li><li>1</li><li>3</li><li>4</li><li>5</li><li>6</li><li>7</li><li>8</li><li>9</li><li>10</li><li>11</li><li>12</li><li>13</li><li>14</li><li>15</li><li>16</li><li>17</li><li>18</li><li>19</li><li>20</li><li>21</li><li>22</li><li>23</li><li>24</li><li>25</li><li>26</li><li>27</li><li>28</li><li>29</li><li>30</li><li>31</li><li>32</li><li>33</li><li>34</li><li>35</li><li>36</li><li>37</li><li>38</li><li>39</li><li>40</li><li>41</li><li>42</li><li>43</li><li>44</li><li>45</li><li>46</li><li>47</li><li>48</li><li>49</li><li>50</li><li>51</li><li>52</li><li>21</li><li>54</li><li>55</li><li>56</li><li>57</li><li>58</li><li>59</li><li>60</li><li>61</li><li>62</li><li>63</li><li>64</li><li>65</li><li>66</li><li>67</li><li>68</li><li>69</li><li>70</li><li>71</li><li>127</li><li>133</li><li>152</li><li>153</li><li>155</li><li>178</li><li>177</li><li>180</li><li>181</li><li>182</li><li>186</li><li>187</li><li>195</li><li>196</li><li>197</li><li>198</li><li>201</li><li>202</li><li>72</li><li>73</li><li>76</li><li>83</li><li>85</li><li>89</li><li>101</li><li>103</li><li>102</li><li>78</li><li>80</li><li>104</li><li>105</li><li>106</li><li>109</li><li>110</li><li>113</li><li>118</li><li>125</li><li>119</li><li>115</li><li>108</li><li>116</li><li>117</li><li>144</li><li>143</li><li>150</li><li>159</li><li>160</li><li>165</li><li>166</li><li>167</li><li>174</li><li>175</li><li>189</li><li>191</li><li>192</li><li>126</li><li>193</li><li>194</li><li>199</li><li>200</li></ol>\n"
            ],
            "text/markdown": "1. 1\n2. 1\n3. 3\n4. 4\n5. 5\n6. 6\n7. 7\n8. 8\n9. 9\n10. 10\n11. 11\n12. 12\n13. 13\n14. 14\n15. 15\n16. 16\n17. 17\n18. 18\n19. 19\n20. 20\n21. 21\n22. 22\n23. 23\n24. 24\n25. 25\n26. 26\n27. 27\n28. 28\n29. 29\n30. 30\n31. 31\n32. 32\n33. 33\n34. 34\n35. 35\n36. 36\n37. 37\n38. 38\n39. 39\n40. 40\n41. 41\n42. 42\n43. 43\n44. 44\n45. 45\n46. 46\n47. 47\n48. 48\n49. 49\n50. 50\n51. 51\n52. 52\n53. 21\n54. 54\n55. 55\n56. 56\n57. 57\n58. 58\n59. 59\n60. 60\n61. 61\n62. 62\n63. 63\n64. 64\n65. 65\n66. 66\n67. 67\n68. 68\n69. 69\n70. 70\n71. 71\n72. 127\n73. 133\n74. 152\n75. 153\n76. 155\n77. 178\n78. 177\n79. 180\n80. 181\n81. 182\n82. 186\n83. 187\n84. 195\n85. 196\n86. 197\n87. 198\n88. 201\n89. 202\n90. 72\n91. 73\n92. 76\n93. 83\n94. 85\n95. 89\n96. 101\n97. 103\n98. 102\n99. 78\n100. 80\n101. 104\n102. 105\n103. 106\n104. 109\n105. 110\n106. 113\n107. 118\n108. 125\n109. 119\n110. 115\n111. 108\n112. 116\n113. 117\n114. 144\n115. 143\n116. 150\n117. 159\n118. 160\n119. 165\n120. 166\n121. 167\n122. 174\n123. 175\n124. 189\n125. 191\n126. 192\n127. 126\n128. 193\n129. 194\n130. 199\n131. 200\n\n\n",
            "text/latex": "\\begin{enumerate*}\n\\item 1\n\\item 1\n\\item 3\n\\item 4\n\\item 5\n\\item 6\n\\item 7\n\\item 8\n\\item 9\n\\item 10\n\\item 11\n\\item 12\n\\item 13\n\\item 14\n\\item 15\n\\item 16\n\\item 17\n\\item 18\n\\item 19\n\\item 20\n\\item 21\n\\item 22\n\\item 23\n\\item 24\n\\item 25\n\\item 26\n\\item 27\n\\item 28\n\\item 29\n\\item 30\n\\item 31\n\\item 32\n\\item 33\n\\item 34\n\\item 35\n\\item 36\n\\item 37\n\\item 38\n\\item 39\n\\item 40\n\\item 41\n\\item 42\n\\item 43\n\\item 44\n\\item 45\n\\item 46\n\\item 47\n\\item 48\n\\item 49\n\\item 50\n\\item 51\n\\item 52\n\\item 21\n\\item 54\n\\item 55\n\\item 56\n\\item 57\n\\item 58\n\\item 59\n\\item 60\n\\item 61\n\\item 62\n\\item 63\n\\item 64\n\\item 65\n\\item 66\n\\item 67\n\\item 68\n\\item 69\n\\item 70\n\\item 71\n\\item 127\n\\item 133\n\\item 152\n\\item 153\n\\item 155\n\\item 178\n\\item 177\n\\item 180\n\\item 181\n\\item 182\n\\item 186\n\\item 187\n\\item 195\n\\item 196\n\\item 197\n\\item 198\n\\item 201\n\\item 202\n\\item 72\n\\item 73\n\\item 76\n\\item 83\n\\item 85\n\\item 89\n\\item 101\n\\item 103\n\\item 102\n\\item 78\n\\item 80\n\\item 104\n\\item 105\n\\item 106\n\\item 109\n\\item 110\n\\item 113\n\\item 118\n\\item 125\n\\item 119\n\\item 115\n\\item 108\n\\item 116\n\\item 117\n\\item 144\n\\item 143\n\\item 150\n\\item 159\n\\item 160\n\\item 165\n\\item 166\n\\item 167\n\\item 174\n\\item 175\n\\item 189\n\\item 191\n\\item 192\n\\item 126\n\\item 193\n\\item 194\n\\item 199\n\\item 200\n\\end{enumerate*}\n",
            "text/plain": [
              "  [1]   1   1   3   4   5   6   7   8   9  10  11  12  13  14  15  16  17  18\n",
              " [19]  19  20  21  22  23  24  25  26  27  28  29  30  31  32  33  34  35  36\n",
              " [37]  37  38  39  40  41  42  43  44  45  46  47  48  49  50  51  52  21  54\n",
              " [55]  55  56  57  58  59  60  61  62  63  64  65  66  67  68  69  70  71 127\n",
              " [73] 133 152 153 155 178 177 180 181 182 186 187 195 196 197 198 201 202  72\n",
              " [91]  73  76  83  85  89 101 103 102  78  80 104 105 106 109 110 113 118 125\n",
              "[109] 119 115 108 116 117 144 143 150 159 160 165 166 167 174 175 189 191 192\n",
              "[127] 126 193 194 199 200"
            ]
          },
          "metadata": {}
        }
      ]
    },
    {
      "cell_type": "code",
      "source": [
        "## first column of the tibble\n",
        "interviews[1]d"
      ],
      "metadata": {
        "colab": {
          "base_uri": "https://localhost:8080/",
          "height": 1000
        },
        "id": "XpcT50Sh5hlC",
        "outputId": "6bb28b0e-4899-4d9b-c97b-0e10f8baa7c7"
      },
      "execution_count": null,
      "outputs": [
        {
          "output_type": "display_data",
          "data": {
            "text/html": [
              "<table class=\"dataframe\">\n",
              "<caption>A tibble: 131 × 1</caption>\n",
              "<thead>\n",
              "\t<tr><th scope=col>key_ID</th></tr>\n",
              "\t<tr><th scope=col>&lt;dbl&gt;</th></tr>\n",
              "</thead>\n",
              "<tbody>\n",
              "\t<tr><td> 1</td></tr>\n",
              "\t<tr><td> 1</td></tr>\n",
              "\t<tr><td> 3</td></tr>\n",
              "\t<tr><td> 4</td></tr>\n",
              "\t<tr><td> 5</td></tr>\n",
              "\t<tr><td> 6</td></tr>\n",
              "\t<tr><td> 7</td></tr>\n",
              "\t<tr><td> 8</td></tr>\n",
              "\t<tr><td> 9</td></tr>\n",
              "\t<tr><td>10</td></tr>\n",
              "\t<tr><td>11</td></tr>\n",
              "\t<tr><td>12</td></tr>\n",
              "\t<tr><td>13</td></tr>\n",
              "\t<tr><td>14</td></tr>\n",
              "\t<tr><td>15</td></tr>\n",
              "\t<tr><td>16</td></tr>\n",
              "\t<tr><td>17</td></tr>\n",
              "\t<tr><td>18</td></tr>\n",
              "\t<tr><td>19</td></tr>\n",
              "\t<tr><td>20</td></tr>\n",
              "\t<tr><td>21</td></tr>\n",
              "\t<tr><td>22</td></tr>\n",
              "\t<tr><td>23</td></tr>\n",
              "\t<tr><td>24</td></tr>\n",
              "\t<tr><td>25</td></tr>\n",
              "\t<tr><td>26</td></tr>\n",
              "\t<tr><td>27</td></tr>\n",
              "\t<tr><td>28</td></tr>\n",
              "\t<tr><td>29</td></tr>\n",
              "\t<tr><td>30</td></tr>\n",
              "\t<tr><td>⋮</td></tr>\n",
              "\t<tr><td>105</td></tr>\n",
              "\t<tr><td>106</td></tr>\n",
              "\t<tr><td>109</td></tr>\n",
              "\t<tr><td>110</td></tr>\n",
              "\t<tr><td>113</td></tr>\n",
              "\t<tr><td>118</td></tr>\n",
              "\t<tr><td>125</td></tr>\n",
              "\t<tr><td>119</td></tr>\n",
              "\t<tr><td>115</td></tr>\n",
              "\t<tr><td>108</td></tr>\n",
              "\t<tr><td>116</td></tr>\n",
              "\t<tr><td>117</td></tr>\n",
              "\t<tr><td>144</td></tr>\n",
              "\t<tr><td>143</td></tr>\n",
              "\t<tr><td>150</td></tr>\n",
              "\t<tr><td>159</td></tr>\n",
              "\t<tr><td>160</td></tr>\n",
              "\t<tr><td>165</td></tr>\n",
              "\t<tr><td>166</td></tr>\n",
              "\t<tr><td>167</td></tr>\n",
              "\t<tr><td>174</td></tr>\n",
              "\t<tr><td>175</td></tr>\n",
              "\t<tr><td>189</td></tr>\n",
              "\t<tr><td>191</td></tr>\n",
              "\t<tr><td>192</td></tr>\n",
              "\t<tr><td>126</td></tr>\n",
              "\t<tr><td>193</td></tr>\n",
              "\t<tr><td>194</td></tr>\n",
              "\t<tr><td>199</td></tr>\n",
              "\t<tr><td>200</td></tr>\n",
              "</tbody>\n",
              "</table>\n"
            ],
            "text/markdown": "\nA tibble: 131 × 1\n\n| key_ID &lt;dbl&gt; |\n|---|\n|  1 |\n|  1 |\n|  3 |\n|  4 |\n|  5 |\n|  6 |\n|  7 |\n|  8 |\n|  9 |\n| 10 |\n| 11 |\n| 12 |\n| 13 |\n| 14 |\n| 15 |\n| 16 |\n| 17 |\n| 18 |\n| 19 |\n| 20 |\n| 21 |\n| 22 |\n| 23 |\n| 24 |\n| 25 |\n| 26 |\n| 27 |\n| 28 |\n| 29 |\n| 30 |\n| ⋮ |\n| 105 |\n| 106 |\n| 109 |\n| 110 |\n| 113 |\n| 118 |\n| 125 |\n| 119 |\n| 115 |\n| 108 |\n| 116 |\n| 117 |\n| 144 |\n| 143 |\n| 150 |\n| 159 |\n| 160 |\n| 165 |\n| 166 |\n| 167 |\n| 174 |\n| 175 |\n| 189 |\n| 191 |\n| 192 |\n| 126 |\n| 193 |\n| 194 |\n| 199 |\n| 200 |\n\n",
            "text/latex": "A tibble: 131 × 1\n\\begin{tabular}{l}\n key\\_ID\\\\\n <dbl>\\\\\n\\hline\n\t  1\\\\\n\t  1\\\\\n\t  3\\\\\n\t  4\\\\\n\t  5\\\\\n\t  6\\\\\n\t  7\\\\\n\t  8\\\\\n\t  9\\\\\n\t 10\\\\\n\t 11\\\\\n\t 12\\\\\n\t 13\\\\\n\t 14\\\\\n\t 15\\\\\n\t 16\\\\\n\t 17\\\\\n\t 18\\\\\n\t 19\\\\\n\t 20\\\\\n\t 21\\\\\n\t 22\\\\\n\t 23\\\\\n\t 24\\\\\n\t 25\\\\\n\t 26\\\\\n\t 27\\\\\n\t 28\\\\\n\t 29\\\\\n\t 30\\\\\n\t ⋮\\\\\n\t 105\\\\\n\t 106\\\\\n\t 109\\\\\n\t 110\\\\\n\t 113\\\\\n\t 118\\\\\n\t 125\\\\\n\t 119\\\\\n\t 115\\\\\n\t 108\\\\\n\t 116\\\\\n\t 117\\\\\n\t 144\\\\\n\t 143\\\\\n\t 150\\\\\n\t 159\\\\\n\t 160\\\\\n\t 165\\\\\n\t 166\\\\\n\t 167\\\\\n\t 174\\\\\n\t 175\\\\\n\t 189\\\\\n\t 191\\\\\n\t 192\\\\\n\t 126\\\\\n\t 193\\\\\n\t 194\\\\\n\t 199\\\\\n\t 200\\\\\n\\end{tabular}\n",
            "text/plain": [
              "    key_ID\n",
              "1    1    \n",
              "2    1    \n",
              "3    3    \n",
              "4    4    \n",
              "5    5    \n",
              "6    6    \n",
              "7    7    \n",
              "8    8    \n",
              "9    9    \n",
              "10  10    \n",
              "11  11    \n",
              "12  12    \n",
              "13  13    \n",
              "14  14    \n",
              "15  15    \n",
              "16  16    \n",
              "17  17    \n",
              "18  18    \n",
              "19  19    \n",
              "20  20    \n",
              "21  21    \n",
              "22  22    \n",
              "23  23    \n",
              "24  24    \n",
              "25  25    \n",
              "26  26    \n",
              "27  27    \n",
              "28  28    \n",
              "29  29    \n",
              "30  30    \n",
              "⋮   ⋮     \n",
              "102 105   \n",
              "103 106   \n",
              "104 109   \n",
              "105 110   \n",
              "106 113   \n",
              "107 118   \n",
              "108 125   \n",
              "109 119   \n",
              "110 115   \n",
              "111 108   \n",
              "112 116   \n",
              "113 117   \n",
              "114 144   \n",
              "115 143   \n",
              "116 150   \n",
              "117 159   \n",
              "118 160   \n",
              "119 165   \n",
              "120 166   \n",
              "121 167   \n",
              "122 174   \n",
              "123 175   \n",
              "124 189   \n",
              "125 191   \n",
              "126 192   \n",
              "127 126   \n",
              "128 193   \n",
              "129 194   \n",
              "130 199   \n",
              "131 200   "
            ]
          },
          "metadata": {}
        }
      ]
    },
    {
      "cell_type": "code",
      "source": [
        "interviews['respondent_wall_type']"
      ],
      "metadata": {
        "colab": {
          "base_uri": "https://localhost:8080/",
          "height": 1000
        },
        "id": "T2Wg0puiIHmp",
        "outputId": "fbc7298b-9018-4099-d3b0-231520da00a0"
      },
      "execution_count": null,
      "outputs": [
        {
          "output_type": "display_data",
          "data": {
            "text/html": [
              "<table class=\"dataframe\">\n",
              "<caption>A tibble: 131 × 1</caption>\n",
              "<thead>\n",
              "\t<tr><th scope=col>respondent_wall_type</th></tr>\n",
              "\t<tr><th scope=col>&lt;chr&gt;</th></tr>\n",
              "</thead>\n",
              "<tbody>\n",
              "\t<tr><td>muddaub    </td></tr>\n",
              "\t<tr><td>muddaub    </td></tr>\n",
              "\t<tr><td>burntbricks</td></tr>\n",
              "\t<tr><td>burntbricks</td></tr>\n",
              "\t<tr><td>burntbricks</td></tr>\n",
              "\t<tr><td>muddaub    </td></tr>\n",
              "\t<tr><td>muddaub    </td></tr>\n",
              "\t<tr><td>burntbricks</td></tr>\n",
              "\t<tr><td>burntbricks</td></tr>\n",
              "\t<tr><td>burntbricks</td></tr>\n",
              "\t<tr><td>sunbricks  </td></tr>\n",
              "\t<tr><td>burntbricks</td></tr>\n",
              "\t<tr><td>burntbricks</td></tr>\n",
              "\t<tr><td>burntbricks</td></tr>\n",
              "\t<tr><td>sunbricks  </td></tr>\n",
              "\t<tr><td>muddaub    </td></tr>\n",
              "\t<tr><td>sunbricks  </td></tr>\n",
              "\t<tr><td>muddaub    </td></tr>\n",
              "\t<tr><td>burntbricks</td></tr>\n",
              "\t<tr><td>burntbricks</td></tr>\n",
              "\t<tr><td>burntbricks</td></tr>\n",
              "\t<tr><td>muddaub    </td></tr>\n",
              "\t<tr><td>burntbricks</td></tr>\n",
              "\t<tr><td>burntbricks</td></tr>\n",
              "\t<tr><td>burntbricks</td></tr>\n",
              "\t<tr><td>burntbricks</td></tr>\n",
              "\t<tr><td>burntbricks</td></tr>\n",
              "\t<tr><td>muddaub    </td></tr>\n",
              "\t<tr><td>burntbricks</td></tr>\n",
              "\t<tr><td>muddaub    </td></tr>\n",
              "\t<tr><td>⋮</td></tr>\n",
              "\t<tr><td>sunbricks  </td></tr>\n",
              "\t<tr><td>sunbricks  </td></tr>\n",
              "\t<tr><td>sunbricks  </td></tr>\n",
              "\t<tr><td>sunbricks  </td></tr>\n",
              "\t<tr><td>burntbricks</td></tr>\n",
              "\t<tr><td>muddaub    </td></tr>\n",
              "\t<tr><td>burntbricks</td></tr>\n",
              "\t<tr><td>muddaub    </td></tr>\n",
              "\t<tr><td>sunbricks  </td></tr>\n",
              "\t<tr><td>burntbricks</td></tr>\n",
              "\t<tr><td>burntbricks</td></tr>\n",
              "\t<tr><td>muddaub    </td></tr>\n",
              "\t<tr><td>burntbricks</td></tr>\n",
              "\t<tr><td>burntbricks</td></tr>\n",
              "\t<tr><td>muddaub    </td></tr>\n",
              "\t<tr><td>sunbricks  </td></tr>\n",
              "\t<tr><td>burntbricks</td></tr>\n",
              "\t<tr><td>burntbricks</td></tr>\n",
              "\t<tr><td>muddaub    </td></tr>\n",
              "\t<tr><td>muddaub    </td></tr>\n",
              "\t<tr><td>burntbricks</td></tr>\n",
              "\t<tr><td>burntbricks</td></tr>\n",
              "\t<tr><td>sunbricks  </td></tr>\n",
              "\t<tr><td>burntbricks</td></tr>\n",
              "\t<tr><td>burntbricks</td></tr>\n",
              "\t<tr><td>burntbricks</td></tr>\n",
              "\t<tr><td>cement     </td></tr>\n",
              "\t<tr><td>muddaub    </td></tr>\n",
              "\t<tr><td>burntbricks</td></tr>\n",
              "\t<tr><td>burntbricks</td></tr>\n",
              "</tbody>\n",
              "</table>\n"
            ],
            "text/markdown": "\nA tibble: 131 × 1\n\n| respondent_wall_type &lt;chr&gt; |\n|---|\n| muddaub     |\n| muddaub     |\n| burntbricks |\n| burntbricks |\n| burntbricks |\n| muddaub     |\n| muddaub     |\n| burntbricks |\n| burntbricks |\n| burntbricks |\n| sunbricks   |\n| burntbricks |\n| burntbricks |\n| burntbricks |\n| sunbricks   |\n| muddaub     |\n| sunbricks   |\n| muddaub     |\n| burntbricks |\n| burntbricks |\n| burntbricks |\n| muddaub     |\n| burntbricks |\n| burntbricks |\n| burntbricks |\n| burntbricks |\n| burntbricks |\n| muddaub     |\n| burntbricks |\n| muddaub     |\n| ⋮ |\n| sunbricks   |\n| sunbricks   |\n| sunbricks   |\n| sunbricks   |\n| burntbricks |\n| muddaub     |\n| burntbricks |\n| muddaub     |\n| sunbricks   |\n| burntbricks |\n| burntbricks |\n| muddaub     |\n| burntbricks |\n| burntbricks |\n| muddaub     |\n| sunbricks   |\n| burntbricks |\n| burntbricks |\n| muddaub     |\n| muddaub     |\n| burntbricks |\n| burntbricks |\n| sunbricks   |\n| burntbricks |\n| burntbricks |\n| burntbricks |\n| cement      |\n| muddaub     |\n| burntbricks |\n| burntbricks |\n\n",
            "text/latex": "A tibble: 131 × 1\n\\begin{tabular}{l}\n respondent\\_wall\\_type\\\\\n <chr>\\\\\n\\hline\n\t muddaub    \\\\\n\t muddaub    \\\\\n\t burntbricks\\\\\n\t burntbricks\\\\\n\t burntbricks\\\\\n\t muddaub    \\\\\n\t muddaub    \\\\\n\t burntbricks\\\\\n\t burntbricks\\\\\n\t burntbricks\\\\\n\t sunbricks  \\\\\n\t burntbricks\\\\\n\t burntbricks\\\\\n\t burntbricks\\\\\n\t sunbricks  \\\\\n\t muddaub    \\\\\n\t sunbricks  \\\\\n\t muddaub    \\\\\n\t burntbricks\\\\\n\t burntbricks\\\\\n\t burntbricks\\\\\n\t muddaub    \\\\\n\t burntbricks\\\\\n\t burntbricks\\\\\n\t burntbricks\\\\\n\t burntbricks\\\\\n\t burntbricks\\\\\n\t muddaub    \\\\\n\t burntbricks\\\\\n\t muddaub    \\\\\n\t ⋮\\\\\n\t sunbricks  \\\\\n\t sunbricks  \\\\\n\t sunbricks  \\\\\n\t sunbricks  \\\\\n\t burntbricks\\\\\n\t muddaub    \\\\\n\t burntbricks\\\\\n\t muddaub    \\\\\n\t sunbricks  \\\\\n\t burntbricks\\\\\n\t burntbricks\\\\\n\t muddaub    \\\\\n\t burntbricks\\\\\n\t burntbricks\\\\\n\t muddaub    \\\\\n\t sunbricks  \\\\\n\t burntbricks\\\\\n\t burntbricks\\\\\n\t muddaub    \\\\\n\t muddaub    \\\\\n\t burntbricks\\\\\n\t burntbricks\\\\\n\t sunbricks  \\\\\n\t burntbricks\\\\\n\t burntbricks\\\\\n\t burntbricks\\\\\n\t cement     \\\\\n\t muddaub    \\\\\n\t burntbricks\\\\\n\t burntbricks\\\\\n\\end{tabular}\n",
            "text/plain": [
              "    respondent_wall_type\n",
              "1   muddaub             \n",
              "2   muddaub             \n",
              "3   burntbricks         \n",
              "4   burntbricks         \n",
              "5   burntbricks         \n",
              "6   muddaub             \n",
              "7   muddaub             \n",
              "8   burntbricks         \n",
              "9   burntbricks         \n",
              "10  burntbricks         \n",
              "11  sunbricks           \n",
              "12  burntbricks         \n",
              "13  burntbricks         \n",
              "14  burntbricks         \n",
              "15  sunbricks           \n",
              "16  muddaub             \n",
              "17  sunbricks           \n",
              "18  muddaub             \n",
              "19  burntbricks         \n",
              "20  burntbricks         \n",
              "21  burntbricks         \n",
              "22  muddaub             \n",
              "23  burntbricks         \n",
              "24  burntbricks         \n",
              "25  burntbricks         \n",
              "26  burntbricks         \n",
              "27  burntbricks         \n",
              "28  muddaub             \n",
              "29  burntbricks         \n",
              "30  muddaub             \n",
              "⋮   ⋮                   \n",
              "102 sunbricks           \n",
              "103 sunbricks           \n",
              "104 sunbricks           \n",
              "105 sunbricks           \n",
              "106 burntbricks         \n",
              "107 muddaub             \n",
              "108 burntbricks         \n",
              "109 muddaub             \n",
              "110 sunbricks           \n",
              "111 burntbricks         \n",
              "112 burntbricks         \n",
              "113 muddaub             \n",
              "114 burntbricks         \n",
              "115 burntbricks         \n",
              "116 muddaub             \n",
              "117 sunbricks           \n",
              "118 burntbricks         \n",
              "119 burntbricks         \n",
              "120 muddaub             \n",
              "121 muddaub             \n",
              "122 burntbricks         \n",
              "123 burntbricks         \n",
              "124 sunbricks           \n",
              "125 burntbricks         \n",
              "126 burntbricks         \n",
              "127 burntbricks         \n",
              "128 cement              \n",
              "129 muddaub             \n",
              "130 burntbricks         \n",
              "131 burntbricks         "
            ]
          },
          "metadata": {}
        }
      ]
    },
    {
      "cell_type": "code",
      "source": [
        "## first three elements in the 7th column of the tibble\n",
        "interviews[1:3, 7]"
      ],
      "metadata": {
        "colab": {
          "base_uri": "https://localhost:8080/",
          "height": 209
        },
        "id": "BfsMyZgc5iDS",
        "outputId": "e0f85fde-3e08-4879-c10c-71a853332ecc"
      },
      "execution_count": null,
      "outputs": [
        {
          "output_type": "display_data",
          "data": {
            "text/html": [
              "<table class=\"dataframe\">\n",
              "<caption>A tibble: 3 × 1</caption>\n",
              "<thead>\n",
              "\t<tr><th scope=col>rooms</th></tr>\n",
              "\t<tr><th scope=col>&lt;dbl&gt;</th></tr>\n",
              "</thead>\n",
              "<tbody>\n",
              "\t<tr><td>1</td></tr>\n",
              "\t<tr><td>1</td></tr>\n",
              "\t<tr><td>1</td></tr>\n",
              "</tbody>\n",
              "</table>\n"
            ],
            "text/markdown": "\nA tibble: 3 × 1\n\n| rooms &lt;dbl&gt; |\n|---|\n| 1 |\n| 1 |\n| 1 |\n\n",
            "text/latex": "A tibble: 3 × 1\n\\begin{tabular}{l}\n rooms\\\\\n <dbl>\\\\\n\\hline\n\t 1\\\\\n\t 1\\\\\n\t 1\\\\\n\\end{tabular}\n",
            "text/plain": [
              "  rooms\n",
              "1 1    \n",
              "2 1    \n",
              "3 1    "
            ]
          },
          "metadata": {}
        }
      ]
    },
    {
      "cell_type": "code",
      "source": [
        "## the 3rd row of the tibble\n",
        "interviews[3,]\n"
      ],
      "metadata": {
        "colab": {
          "base_uri": "https://localhost:8080/",
          "height": 201
        },
        "id": "O0P6Wl5D5kaz",
        "outputId": "a9967f19-24b6-4c48-d917-732e02f0099f"
      },
      "execution_count": null,
      "outputs": [
        {
          "output_type": "display_data",
          "data": {
            "text/html": [
              "<table class=\"dataframe\">\n",
              "<caption>A tibble: 1 × 14</caption>\n",
              "<thead>\n",
              "\t<tr><th scope=col>key_ID</th><th scope=col>village</th><th scope=col>interview_date</th><th scope=col>no_membrs</th><th scope=col>years_liv</th><th scope=col>respondent_wall_type</th><th scope=col>rooms</th><th scope=col>memb_assoc</th><th scope=col>affect_conflicts</th><th scope=col>liv_count</th><th scope=col>items_owned</th><th scope=col>no_meals</th><th scope=col>months_lack_food</th><th scope=col>instanceID</th></tr>\n",
              "\t<tr><th scope=col>&lt;dbl&gt;</th><th scope=col>&lt;chr&gt;</th><th scope=col>&lt;dttm&gt;</th><th scope=col>&lt;dbl&gt;</th><th scope=col>&lt;dbl&gt;</th><th scope=col>&lt;chr&gt;</th><th scope=col>&lt;dbl&gt;</th><th scope=col>&lt;chr&gt;</th><th scope=col>&lt;chr&gt;</th><th scope=col>&lt;dbl&gt;</th><th scope=col>&lt;chr&gt;</th><th scope=col>&lt;dbl&gt;</th><th scope=col>&lt;chr&gt;</th><th scope=col>&lt;chr&gt;</th></tr>\n",
              "</thead>\n",
              "<tbody>\n",
              "\t<tr><td>3</td><td>God</td><td>2016-11-17</td><td>10</td><td>15</td><td>burntbricks</td><td>1</td><td>NULL</td><td>NULL</td><td>1</td><td>solar_torch</td><td>2</td><td>Jan;Feb;Mar;Oct;Nov;Dec</td><td>uuid:193d7daf-9582-409b-bf09-027dd36f9007</td></tr>\n",
              "</tbody>\n",
              "</table>\n"
            ],
            "text/markdown": "\nA tibble: 1 × 14\n\n| key_ID &lt;dbl&gt; | village &lt;chr&gt; | interview_date &lt;dttm&gt; | no_membrs &lt;dbl&gt; | years_liv &lt;dbl&gt; | respondent_wall_type &lt;chr&gt; | rooms &lt;dbl&gt; | memb_assoc &lt;chr&gt; | affect_conflicts &lt;chr&gt; | liv_count &lt;dbl&gt; | items_owned &lt;chr&gt; | no_meals &lt;dbl&gt; | months_lack_food &lt;chr&gt; | instanceID &lt;chr&gt; |\n|---|---|---|---|---|---|---|---|---|---|---|---|---|---|\n| 3 | God | 2016-11-17 | 10 | 15 | burntbricks | 1 | NULL | NULL | 1 | solar_torch | 2 | Jan;Feb;Mar;Oct;Nov;Dec | uuid:193d7daf-9582-409b-bf09-027dd36f9007 |\n\n",
            "text/latex": "A tibble: 1 × 14\n\\begin{tabular}{llllllllllllll}\n key\\_ID & village & interview\\_date & no\\_membrs & years\\_liv & respondent\\_wall\\_type & rooms & memb\\_assoc & affect\\_conflicts & liv\\_count & items\\_owned & no\\_meals & months\\_lack\\_food & instanceID\\\\\n <dbl> & <chr> & <dttm> & <dbl> & <dbl> & <chr> & <dbl> & <chr> & <chr> & <dbl> & <chr> & <dbl> & <chr> & <chr>\\\\\n\\hline\n\t 3 & God & 2016-11-17 & 10 & 15 & burntbricks & 1 & NULL & NULL & 1 & solar\\_torch & 2 & Jan;Feb;Mar;Oct;Nov;Dec & uuid:193d7daf-9582-409b-bf09-027dd36f9007\\\\\n\\end{tabular}\n",
            "text/plain": [
              "  key_ID village interview_date no_membrs years_liv respondent_wall_type rooms\n",
              "1 3      God     2016-11-17     10        15        burntbricks          1    \n",
              "  memb_assoc affect_conflicts liv_count items_owned no_meals\n",
              "1 NULL       NULL             1         solar_torch 2       \n",
              "  months_lack_food        instanceID                               \n",
              "1 Jan;Feb;Mar;Oct;Nov;Dec uuid:193d7daf-9582-409b-bf09-027dd36f9007"
            ]
          },
          "metadata": {}
        }
      ]
    },
    {
      "cell_type": "markdown",
      "source": [
        "1. Create a tibble (interviews_100) containing only the data in row 100 of the interviews dataset.\n",
        "\n",
        "2. Notice how nrow() gave you the number of rows in the tibble?\n",
        "\n",
        "- Use that number to pull out just that last row in the tibble.\n",
        "- Compare that with what you see as the last row using tail() to make sure it’s meeting expectations.\n",
        "- Pull out that last row using nrow() instead of the row number.\n",
        "- Create a new tibble (interviews_last) from that last row.\n",
        "\n",
        "3. Using the number of rows in the interviews dataset that you found in question 2, extract the row that is in the middle of the dataset. Store the content of this middle row in an object named interviews_middle. (hint: This dataset has an odd number of rows, so finding the middle is a bit trickier than dividing n_rows by 2. Use the median( ) function and what you’ve learned about sequences in R to extract the middle row!\n",
        "\n",
        "4. Combine nrow() with the - notation above to reproduce the behavior of head(interviews), keeping just the first through 6th rows of the interviews dataset."
      ],
      "metadata": {
        "id": "FE1mN_0-5mGX"
      }
    },
    {
      "cell_type": "code",
      "source": [
        "interviews_100 <- interviews[100,]\n",
        "interviews_100"
      ],
      "metadata": {
        "colab": {
          "base_uri": "https://localhost:8080/",
          "height": 201
        },
        "id": "jbz6g6mRKAQU",
        "outputId": "7e5f9d02-fd06-4afc-89e0-af1c81efc61c"
      },
      "execution_count": null,
      "outputs": [
        {
          "output_type": "display_data",
          "data": {
            "text/html": [
              "<table class=\"dataframe\">\n",
              "<caption>A tibble: 1 × 14</caption>\n",
              "<thead>\n",
              "\t<tr><th scope=col>key_ID</th><th scope=col>village</th><th scope=col>interview_date</th><th scope=col>no_membrs</th><th scope=col>years_liv</th><th scope=col>respondent_wall_type</th><th scope=col>rooms</th><th scope=col>memb_assoc</th><th scope=col>affect_conflicts</th><th scope=col>liv_count</th><th scope=col>items_owned</th><th scope=col>no_meals</th><th scope=col>months_lack_food</th><th scope=col>instanceID</th></tr>\n",
              "\t<tr><th scope=col>&lt;dbl&gt;</th><th scope=col>&lt;chr&gt;</th><th scope=col>&lt;dttm&gt;</th><th scope=col>&lt;dbl&gt;</th><th scope=col>&lt;dbl&gt;</th><th scope=col>&lt;chr&gt;</th><th scope=col>&lt;dbl&gt;</th><th scope=col>&lt;chr&gt;</th><th scope=col>&lt;chr&gt;</th><th scope=col>&lt;dbl&gt;</th><th scope=col>&lt;chr&gt;</th><th scope=col>&lt;dbl&gt;</th><th scope=col>&lt;chr&gt;</th><th scope=col>&lt;chr&gt;</th></tr>\n",
              "</thead>\n",
              "<tbody>\n",
              "\t<tr><td>80</td><td>Ruaca</td><td>2017-04-28</td><td>5</td><td>12</td><td>muddaub</td><td>1</td><td>no</td><td>more_once</td><td>1</td><td>cow_cart;bicycle;radio;cow_plough;solar_panel;solar_torch</td><td>3</td><td>none</td><td>uuid:a85df6df-0336-46fa-a9f4-522bf6f8b438</td></tr>\n",
              "</tbody>\n",
              "</table>\n"
            ],
            "text/markdown": "\nA tibble: 1 × 14\n\n| key_ID &lt;dbl&gt; | village &lt;chr&gt; | interview_date &lt;dttm&gt; | no_membrs &lt;dbl&gt; | years_liv &lt;dbl&gt; | respondent_wall_type &lt;chr&gt; | rooms &lt;dbl&gt; | memb_assoc &lt;chr&gt; | affect_conflicts &lt;chr&gt; | liv_count &lt;dbl&gt; | items_owned &lt;chr&gt; | no_meals &lt;dbl&gt; | months_lack_food &lt;chr&gt; | instanceID &lt;chr&gt; |\n|---|---|---|---|---|---|---|---|---|---|---|---|---|---|\n| 80 | Ruaca | 2017-04-28 | 5 | 12 | muddaub | 1 | no | more_once | 1 | cow_cart;bicycle;radio;cow_plough;solar_panel;solar_torch | 3 | none | uuid:a85df6df-0336-46fa-a9f4-522bf6f8b438 |\n\n",
            "text/latex": "A tibble: 1 × 14\n\\begin{tabular}{llllllllllllll}\n key\\_ID & village & interview\\_date & no\\_membrs & years\\_liv & respondent\\_wall\\_type & rooms & memb\\_assoc & affect\\_conflicts & liv\\_count & items\\_owned & no\\_meals & months\\_lack\\_food & instanceID\\\\\n <dbl> & <chr> & <dttm> & <dbl> & <dbl> & <chr> & <dbl> & <chr> & <chr> & <dbl> & <chr> & <dbl> & <chr> & <chr>\\\\\n\\hline\n\t 80 & Ruaca & 2017-04-28 & 5 & 12 & muddaub & 1 & no & more\\_once & 1 & cow\\_cart;bicycle;radio;cow\\_plough;solar\\_panel;solar\\_torch & 3 & none & uuid:a85df6df-0336-46fa-a9f4-522bf6f8b438\\\\\n\\end{tabular}\n",
            "text/plain": [
              "  key_ID village interview_date no_membrs years_liv respondent_wall_type rooms\n",
              "1 80     Ruaca   2017-04-28     5         12        muddaub              1    \n",
              "  memb_assoc affect_conflicts liv_count\n",
              "1 no         more_once        1        \n",
              "  items_owned                                               no_meals\n",
              "1 cow_cart;bicycle;radio;cow_plough;solar_panel;solar_torch 3       \n",
              "  months_lack_food instanceID                               \n",
              "1 none             uuid:a85df6df-0336-46fa-a9f4-522bf6f8b438"
            ]
          },
          "metadata": {}
        }
      ]
    },
    {
      "cell_type": "code",
      "source": [
        "interviews[nrow(interviews),]"
      ],
      "metadata": {
        "colab": {
          "base_uri": "https://localhost:8080/",
          "height": 201
        },
        "id": "DNFEJDIDJ_zN",
        "outputId": "1a8091ad-8284-4ef2-a8dc-896439d349a8"
      },
      "execution_count": null,
      "outputs": [
        {
          "output_type": "display_data",
          "data": {
            "text/html": [
              "<table class=\"dataframe\">\n",
              "<caption>A tibble: 1 × 14</caption>\n",
              "<thead>\n",
              "\t<tr><th scope=col>key_ID</th><th scope=col>village</th><th scope=col>interview_date</th><th scope=col>no_membrs</th><th scope=col>years_liv</th><th scope=col>respondent_wall_type</th><th scope=col>rooms</th><th scope=col>memb_assoc</th><th scope=col>affect_conflicts</th><th scope=col>liv_count</th><th scope=col>items_owned</th><th scope=col>no_meals</th><th scope=col>months_lack_food</th><th scope=col>instanceID</th></tr>\n",
              "\t<tr><th scope=col>&lt;dbl&gt;</th><th scope=col>&lt;chr&gt;</th><th scope=col>&lt;dttm&gt;</th><th scope=col>&lt;dbl&gt;</th><th scope=col>&lt;dbl&gt;</th><th scope=col>&lt;chr&gt;</th><th scope=col>&lt;dbl&gt;</th><th scope=col>&lt;chr&gt;</th><th scope=col>&lt;chr&gt;</th><th scope=col>&lt;dbl&gt;</th><th scope=col>&lt;chr&gt;</th><th scope=col>&lt;dbl&gt;</th><th scope=col>&lt;chr&gt;</th><th scope=col>&lt;chr&gt;</th></tr>\n",
              "</thead>\n",
              "<tbody>\n",
              "\t<tr><td>200</td><td>Chirodzo</td><td>2017-06-04</td><td>8</td><td>20</td><td>burntbricks</td><td>2</td><td>NULL</td><td>NULL</td><td>3</td><td>radio;cow_plough;solar_panel;solar_torch;table;mobile_phone</td><td>3</td><td>Oct;Nov</td><td>uuid:aa77a0d7-7142-41c8-b494-483a5b68d8a7</td></tr>\n",
              "</tbody>\n",
              "</table>\n"
            ],
            "text/markdown": "\nA tibble: 1 × 14\n\n| key_ID &lt;dbl&gt; | village &lt;chr&gt; | interview_date &lt;dttm&gt; | no_membrs &lt;dbl&gt; | years_liv &lt;dbl&gt; | respondent_wall_type &lt;chr&gt; | rooms &lt;dbl&gt; | memb_assoc &lt;chr&gt; | affect_conflicts &lt;chr&gt; | liv_count &lt;dbl&gt; | items_owned &lt;chr&gt; | no_meals &lt;dbl&gt; | months_lack_food &lt;chr&gt; | instanceID &lt;chr&gt; |\n|---|---|---|---|---|---|---|---|---|---|---|---|---|---|\n| 200 | Chirodzo | 2017-06-04 | 8 | 20 | burntbricks | 2 | NULL | NULL | 3 | radio;cow_plough;solar_panel;solar_torch;table;mobile_phone | 3 | Oct;Nov | uuid:aa77a0d7-7142-41c8-b494-483a5b68d8a7 |\n\n",
            "text/latex": "A tibble: 1 × 14\n\\begin{tabular}{llllllllllllll}\n key\\_ID & village & interview\\_date & no\\_membrs & years\\_liv & respondent\\_wall\\_type & rooms & memb\\_assoc & affect\\_conflicts & liv\\_count & items\\_owned & no\\_meals & months\\_lack\\_food & instanceID\\\\\n <dbl> & <chr> & <dttm> & <dbl> & <dbl> & <chr> & <dbl> & <chr> & <chr> & <dbl> & <chr> & <dbl> & <chr> & <chr>\\\\\n\\hline\n\t 200 & Chirodzo & 2017-06-04 & 8 & 20 & burntbricks & 2 & NULL & NULL & 3 & radio;cow\\_plough;solar\\_panel;solar\\_torch;table;mobile\\_phone & 3 & Oct;Nov & uuid:aa77a0d7-7142-41c8-b494-483a5b68d8a7\\\\\n\\end{tabular}\n",
            "text/plain": [
              "  key_ID village  interview_date no_membrs years_liv respondent_wall_type rooms\n",
              "1 200    Chirodzo 2017-06-04     8         20        burntbricks          2    \n",
              "  memb_assoc affect_conflicts liv_count\n",
              "1 NULL       NULL             3        \n",
              "  items_owned                                                 no_meals\n",
              "1 radio;cow_plough;solar_panel;solar_torch;table;mobile_phone 3       \n",
              "  months_lack_food instanceID                               \n",
              "1 Oct;Nov          uuid:aa77a0d7-7142-41c8-b494-483a5b68d8a7"
            ]
          },
          "metadata": {}
        }
      ]
    },
    {
      "cell_type": "code",
      "source": [
        "tail(interviews, n =1)"
      ],
      "metadata": {
        "colab": {
          "base_uri": "https://localhost:8080/",
          "height": 201
        },
        "id": "PgmgD32iJ_u1",
        "outputId": "d38c6d52-73d6-4f5f-df91-c7b5c558fe09"
      },
      "execution_count": null,
      "outputs": [
        {
          "output_type": "display_data",
          "data": {
            "text/html": [
              "<table class=\"dataframe\">\n",
              "<caption>A tibble: 1 × 14</caption>\n",
              "<thead>\n",
              "\t<tr><th scope=col>key_ID</th><th scope=col>village</th><th scope=col>interview_date</th><th scope=col>no_membrs</th><th scope=col>years_liv</th><th scope=col>respondent_wall_type</th><th scope=col>rooms</th><th scope=col>memb_assoc</th><th scope=col>affect_conflicts</th><th scope=col>liv_count</th><th scope=col>items_owned</th><th scope=col>no_meals</th><th scope=col>months_lack_food</th><th scope=col>instanceID</th></tr>\n",
              "\t<tr><th scope=col>&lt;dbl&gt;</th><th scope=col>&lt;chr&gt;</th><th scope=col>&lt;dttm&gt;</th><th scope=col>&lt;dbl&gt;</th><th scope=col>&lt;dbl&gt;</th><th scope=col>&lt;chr&gt;</th><th scope=col>&lt;dbl&gt;</th><th scope=col>&lt;chr&gt;</th><th scope=col>&lt;chr&gt;</th><th scope=col>&lt;dbl&gt;</th><th scope=col>&lt;chr&gt;</th><th scope=col>&lt;dbl&gt;</th><th scope=col>&lt;chr&gt;</th><th scope=col>&lt;chr&gt;</th></tr>\n",
              "</thead>\n",
              "<tbody>\n",
              "\t<tr><td>200</td><td>Chirodzo</td><td>2017-06-04</td><td>8</td><td>20</td><td>burntbricks</td><td>2</td><td>NULL</td><td>NULL</td><td>3</td><td>radio;cow_plough;solar_panel;solar_torch;table;mobile_phone</td><td>3</td><td>Oct;Nov</td><td>uuid:aa77a0d7-7142-41c8-b494-483a5b68d8a7</td></tr>\n",
              "</tbody>\n",
              "</table>\n"
            ],
            "text/markdown": "\nA tibble: 1 × 14\n\n| key_ID &lt;dbl&gt; | village &lt;chr&gt; | interview_date &lt;dttm&gt; | no_membrs &lt;dbl&gt; | years_liv &lt;dbl&gt; | respondent_wall_type &lt;chr&gt; | rooms &lt;dbl&gt; | memb_assoc &lt;chr&gt; | affect_conflicts &lt;chr&gt; | liv_count &lt;dbl&gt; | items_owned &lt;chr&gt; | no_meals &lt;dbl&gt; | months_lack_food &lt;chr&gt; | instanceID &lt;chr&gt; |\n|---|---|---|---|---|---|---|---|---|---|---|---|---|---|\n| 200 | Chirodzo | 2017-06-04 | 8 | 20 | burntbricks | 2 | NULL | NULL | 3 | radio;cow_plough;solar_panel;solar_torch;table;mobile_phone | 3 | Oct;Nov | uuid:aa77a0d7-7142-41c8-b494-483a5b68d8a7 |\n\n",
            "text/latex": "A tibble: 1 × 14\n\\begin{tabular}{llllllllllllll}\n key\\_ID & village & interview\\_date & no\\_membrs & years\\_liv & respondent\\_wall\\_type & rooms & memb\\_assoc & affect\\_conflicts & liv\\_count & items\\_owned & no\\_meals & months\\_lack\\_food & instanceID\\\\\n <dbl> & <chr> & <dttm> & <dbl> & <dbl> & <chr> & <dbl> & <chr> & <chr> & <dbl> & <chr> & <dbl> & <chr> & <chr>\\\\\n\\hline\n\t 200 & Chirodzo & 2017-06-04 & 8 & 20 & burntbricks & 2 & NULL & NULL & 3 & radio;cow\\_plough;solar\\_panel;solar\\_torch;table;mobile\\_phone & 3 & Oct;Nov & uuid:aa77a0d7-7142-41c8-b494-483a5b68d8a7\\\\\n\\end{tabular}\n",
            "text/plain": [
              "  key_ID village  interview_date no_membrs years_liv respondent_wall_type rooms\n",
              "1 200    Chirodzo 2017-06-04     8         20        burntbricks          2    \n",
              "  memb_assoc affect_conflicts liv_count\n",
              "1 NULL       NULL             3        \n",
              "  items_owned                                                 no_meals\n",
              "1 radio;cow_plough;solar_panel;solar_torch;table;mobile_phone 3       \n",
              "  months_lack_food instanceID                               \n",
              "1 Oct;Nov          uuid:aa77a0d7-7142-41c8-b494-483a5b68d8a7"
            ]
          },
          "metadata": {}
        }
      ]
    },
    {
      "cell_type": "code",
      "source": [
        "interviews_middle <- interviews[median(1:nrow(interviews)), ]\n",
        "interviews_middle"
      ],
      "metadata": {
        "colab": {
          "base_uri": "https://localhost:8080/",
          "height": 201
        },
        "id": "wAVChM2GJ_qT",
        "outputId": "c0c7867c-3e5c-49fc-9af5-7eee65933526"
      },
      "execution_count": null,
      "outputs": [
        {
          "output_type": "display_data",
          "data": {
            "text/html": [
              "<table class=\"dataframe\">\n",
              "<caption>A tibble: 1 × 14</caption>\n",
              "<thead>\n",
              "\t<tr><th scope=col>key_ID</th><th scope=col>village</th><th scope=col>interview_date</th><th scope=col>no_membrs</th><th scope=col>years_liv</th><th scope=col>respondent_wall_type</th><th scope=col>rooms</th><th scope=col>memb_assoc</th><th scope=col>affect_conflicts</th><th scope=col>liv_count</th><th scope=col>items_owned</th><th scope=col>no_meals</th><th scope=col>months_lack_food</th><th scope=col>instanceID</th></tr>\n",
              "\t<tr><th scope=col>&lt;dbl&gt;</th><th scope=col>&lt;chr&gt;</th><th scope=col>&lt;dttm&gt;</th><th scope=col>&lt;dbl&gt;</th><th scope=col>&lt;dbl&gt;</th><th scope=col>&lt;chr&gt;</th><th scope=col>&lt;dbl&gt;</th><th scope=col>&lt;chr&gt;</th><th scope=col>&lt;chr&gt;</th><th scope=col>&lt;dbl&gt;</th><th scope=col>&lt;chr&gt;</th><th scope=col>&lt;dbl&gt;</th><th scope=col>&lt;chr&gt;</th><th scope=col>&lt;chr&gt;</th></tr>\n",
              "</thead>\n",
              "<tbody>\n",
              "\t<tr><td>66</td><td>Chirodzo</td><td>2016-11-16</td><td>10</td><td>37</td><td>burntbricks</td><td>3</td><td>yes</td><td>frequently</td><td>4</td><td>cow_cart;motorcyle;bicycle;television;radio;cow_plough;solar_panel;solar_torch;mobile_phone</td><td>3</td><td>none</td><td>uuid:a457eab8-971b-4417-a971-2e55b8702816</td></tr>\n",
              "</tbody>\n",
              "</table>\n"
            ],
            "text/markdown": "\nA tibble: 1 × 14\n\n| key_ID &lt;dbl&gt; | village &lt;chr&gt; | interview_date &lt;dttm&gt; | no_membrs &lt;dbl&gt; | years_liv &lt;dbl&gt; | respondent_wall_type &lt;chr&gt; | rooms &lt;dbl&gt; | memb_assoc &lt;chr&gt; | affect_conflicts &lt;chr&gt; | liv_count &lt;dbl&gt; | items_owned &lt;chr&gt; | no_meals &lt;dbl&gt; | months_lack_food &lt;chr&gt; | instanceID &lt;chr&gt; |\n|---|---|---|---|---|---|---|---|---|---|---|---|---|---|\n| 66 | Chirodzo | 2016-11-16 | 10 | 37 | burntbricks | 3 | yes | frequently | 4 | cow_cart;motorcyle;bicycle;television;radio;cow_plough;solar_panel;solar_torch;mobile_phone | 3 | none | uuid:a457eab8-971b-4417-a971-2e55b8702816 |\n\n",
            "text/latex": "A tibble: 1 × 14\n\\begin{tabular}{llllllllllllll}\n key\\_ID & village & interview\\_date & no\\_membrs & years\\_liv & respondent\\_wall\\_type & rooms & memb\\_assoc & affect\\_conflicts & liv\\_count & items\\_owned & no\\_meals & months\\_lack\\_food & instanceID\\\\\n <dbl> & <chr> & <dttm> & <dbl> & <dbl> & <chr> & <dbl> & <chr> & <chr> & <dbl> & <chr> & <dbl> & <chr> & <chr>\\\\\n\\hline\n\t 66 & Chirodzo & 2016-11-16 & 10 & 37 & burntbricks & 3 & yes & frequently & 4 & cow\\_cart;motorcyle;bicycle;television;radio;cow\\_plough;solar\\_panel;solar\\_torch;mobile\\_phone & 3 & none & uuid:a457eab8-971b-4417-a971-2e55b8702816\\\\\n\\end{tabular}\n",
            "text/plain": [
              "  key_ID village  interview_date no_membrs years_liv respondent_wall_type rooms\n",
              "1 66     Chirodzo 2016-11-16     10        37        burntbricks          3    \n",
              "  memb_assoc affect_conflicts liv_count\n",
              "1 yes        frequently       4        \n",
              "  items_owned                                                                                \n",
              "1 cow_cart;motorcyle;bicycle;television;radio;cow_plough;solar_panel;solar_torch;mobile_phone\n",
              "  no_meals months_lack_food instanceID                               \n",
              "1 3        none             uuid:a457eab8-971b-4417-a971-2e55b8702816"
            ]
          },
          "metadata": {}
        }
      ]
    },
    {
      "cell_type": "code",
      "source": [
        "interviews[-(7:nrow(interviews)),]"
      ],
      "metadata": {
        "colab": {
          "base_uri": "https://localhost:8080/",
          "height": 618
        },
        "id": "7UVlysHcNUMy",
        "outputId": "aa159b45-2093-4492-b1f4-b51d2bb6c4de"
      },
      "execution_count": null,
      "outputs": [
        {
          "output_type": "display_data",
          "data": {
            "text/html": [
              "<table class=\"dataframe\">\n",
              "<caption>A tibble: 6 × 14</caption>\n",
              "<thead>\n",
              "\t<tr><th scope=col>key_ID</th><th scope=col>village</th><th scope=col>interview_date</th><th scope=col>no_membrs</th><th scope=col>years_liv</th><th scope=col>respondent_wall_type</th><th scope=col>rooms</th><th scope=col>memb_assoc</th><th scope=col>affect_conflicts</th><th scope=col>liv_count</th><th scope=col>items_owned</th><th scope=col>no_meals</th><th scope=col>months_lack_food</th><th scope=col>instanceID</th></tr>\n",
              "\t<tr><th scope=col>&lt;dbl&gt;</th><th scope=col>&lt;chr&gt;</th><th scope=col>&lt;dttm&gt;</th><th scope=col>&lt;dbl&gt;</th><th scope=col>&lt;dbl&gt;</th><th scope=col>&lt;chr&gt;</th><th scope=col>&lt;dbl&gt;</th><th scope=col>&lt;chr&gt;</th><th scope=col>&lt;chr&gt;</th><th scope=col>&lt;dbl&gt;</th><th scope=col>&lt;chr&gt;</th><th scope=col>&lt;dbl&gt;</th><th scope=col>&lt;chr&gt;</th><th scope=col>&lt;chr&gt;</th></tr>\n",
              "</thead>\n",
              "<tbody>\n",
              "\t<tr><td>1</td><td>God</td><td>2016-11-17</td><td> 3</td><td> 4</td><td>muddaub    </td><td>1</td><td>NULL</td><td>NULL</td><td>1</td><td>bicycle;television;solar_panel;table                                        </td><td>2</td><td>Jan                    </td><td>uuid:ec241f2c-0609-46ed-b5e8-fe575f6cefef</td></tr>\n",
              "\t<tr><td>1</td><td>God</td><td>2016-11-17</td><td> 7</td><td> 9</td><td>muddaub    </td><td>1</td><td>yes </td><td>once</td><td>3</td><td>cow_cart;bicycle;radio;cow_plough;solar_panel;solar_torch;table;mobile_phone</td><td>2</td><td>Jan;Sept;Oct;Nov;Dec   </td><td>uuid:099de9c9-3e5e-427b-8452-26250e840d6e</td></tr>\n",
              "\t<tr><td>3</td><td>God</td><td>2016-11-17</td><td>10</td><td>15</td><td>burntbricks</td><td>1</td><td>NULL</td><td>NULL</td><td>1</td><td>solar_torch                                                                 </td><td>2</td><td>Jan;Feb;Mar;Oct;Nov;Dec</td><td>uuid:193d7daf-9582-409b-bf09-027dd36f9007</td></tr>\n",
              "\t<tr><td>4</td><td>God</td><td>2016-11-17</td><td> 7</td><td> 6</td><td>burntbricks</td><td>1</td><td>NULL</td><td>NULL</td><td>2</td><td>bicycle;radio;cow_plough;solar_panel;mobile_phone                           </td><td>2</td><td>Sept;Oct;Nov;Dec       </td><td>uuid:148d1105-778a-4755-aa71-281eadd4a973</td></tr>\n",
              "\t<tr><td>5</td><td>God</td><td>2016-11-17</td><td> 7</td><td>40</td><td>burntbricks</td><td>1</td><td>NULL</td><td>NULL</td><td>4</td><td>motorcyle;radio;cow_plough;mobile_phone                                     </td><td>2</td><td>Aug;Sept;Oct;Nov       </td><td>uuid:2c867811-9696-4966-9866-f35c3e97d02d</td></tr>\n",
              "\t<tr><td>6</td><td>God</td><td>2016-11-17</td><td> 3</td><td> 3</td><td>muddaub    </td><td>1</td><td>NULL</td><td>NULL</td><td>1</td><td>NULL                                                                        </td><td>2</td><td>Aug;Sept;Oct           </td><td>uuid:daa56c91-c8e3-44c3-a663-af6a49a2ca70</td></tr>\n",
              "</tbody>\n",
              "</table>\n"
            ],
            "text/markdown": "\nA tibble: 6 × 14\n\n| key_ID &lt;dbl&gt; | village &lt;chr&gt; | interview_date &lt;dttm&gt; | no_membrs &lt;dbl&gt; | years_liv &lt;dbl&gt; | respondent_wall_type &lt;chr&gt; | rooms &lt;dbl&gt; | memb_assoc &lt;chr&gt; | affect_conflicts &lt;chr&gt; | liv_count &lt;dbl&gt; | items_owned &lt;chr&gt; | no_meals &lt;dbl&gt; | months_lack_food &lt;chr&gt; | instanceID &lt;chr&gt; |\n|---|---|---|---|---|---|---|---|---|---|---|---|---|---|\n| 1 | God | 2016-11-17 |  3 |  4 | muddaub     | 1 | NULL | NULL | 1 | bicycle;television;solar_panel;table                                         | 2 | Jan                     | uuid:ec241f2c-0609-46ed-b5e8-fe575f6cefef |\n| 1 | God | 2016-11-17 |  7 |  9 | muddaub     | 1 | yes  | once | 3 | cow_cart;bicycle;radio;cow_plough;solar_panel;solar_torch;table;mobile_phone | 2 | Jan;Sept;Oct;Nov;Dec    | uuid:099de9c9-3e5e-427b-8452-26250e840d6e |\n| 3 | God | 2016-11-17 | 10 | 15 | burntbricks | 1 | NULL | NULL | 1 | solar_torch                                                                  | 2 | Jan;Feb;Mar;Oct;Nov;Dec | uuid:193d7daf-9582-409b-bf09-027dd36f9007 |\n| 4 | God | 2016-11-17 |  7 |  6 | burntbricks | 1 | NULL | NULL | 2 | bicycle;radio;cow_plough;solar_panel;mobile_phone                            | 2 | Sept;Oct;Nov;Dec        | uuid:148d1105-778a-4755-aa71-281eadd4a973 |\n| 5 | God | 2016-11-17 |  7 | 40 | burntbricks | 1 | NULL | NULL | 4 | motorcyle;radio;cow_plough;mobile_phone                                      | 2 | Aug;Sept;Oct;Nov        | uuid:2c867811-9696-4966-9866-f35c3e97d02d |\n| 6 | God | 2016-11-17 |  3 |  3 | muddaub     | 1 | NULL | NULL | 1 | NULL                                                                         | 2 | Aug;Sept;Oct            | uuid:daa56c91-c8e3-44c3-a663-af6a49a2ca70 |\n\n",
            "text/latex": "A tibble: 6 × 14\n\\begin{tabular}{llllllllllllll}\n key\\_ID & village & interview\\_date & no\\_membrs & years\\_liv & respondent\\_wall\\_type & rooms & memb\\_assoc & affect\\_conflicts & liv\\_count & items\\_owned & no\\_meals & months\\_lack\\_food & instanceID\\\\\n <dbl> & <chr> & <dttm> & <dbl> & <dbl> & <chr> & <dbl> & <chr> & <chr> & <dbl> & <chr> & <dbl> & <chr> & <chr>\\\\\n\\hline\n\t 1 & God & 2016-11-17 &  3 &  4 & muddaub     & 1 & NULL & NULL & 1 & bicycle;television;solar\\_panel;table                                         & 2 & Jan                     & uuid:ec241f2c-0609-46ed-b5e8-fe575f6cefef\\\\\n\t 1 & God & 2016-11-17 &  7 &  9 & muddaub     & 1 & yes  & once & 3 & cow\\_cart;bicycle;radio;cow\\_plough;solar\\_panel;solar\\_torch;table;mobile\\_phone & 2 & Jan;Sept;Oct;Nov;Dec    & uuid:099de9c9-3e5e-427b-8452-26250e840d6e\\\\\n\t 3 & God & 2016-11-17 & 10 & 15 & burntbricks & 1 & NULL & NULL & 1 & solar\\_torch                                                                  & 2 & Jan;Feb;Mar;Oct;Nov;Dec & uuid:193d7daf-9582-409b-bf09-027dd36f9007\\\\\n\t 4 & God & 2016-11-17 &  7 &  6 & burntbricks & 1 & NULL & NULL & 2 & bicycle;radio;cow\\_plough;solar\\_panel;mobile\\_phone                            & 2 & Sept;Oct;Nov;Dec        & uuid:148d1105-778a-4755-aa71-281eadd4a973\\\\\n\t 5 & God & 2016-11-17 &  7 & 40 & burntbricks & 1 & NULL & NULL & 4 & motorcyle;radio;cow\\_plough;mobile\\_phone                                      & 2 & Aug;Sept;Oct;Nov        & uuid:2c867811-9696-4966-9866-f35c3e97d02d\\\\\n\t 6 & God & 2016-11-17 &  3 &  3 & muddaub     & 1 & NULL & NULL & 1 & NULL                                                                         & 2 & Aug;Sept;Oct            & uuid:daa56c91-c8e3-44c3-a663-af6a49a2ca70\\\\\n\\end{tabular}\n",
            "text/plain": [
              "  key_ID village interview_date no_membrs years_liv respondent_wall_type rooms\n",
              "1 1      God     2016-11-17      3         4        muddaub              1    \n",
              "2 1      God     2016-11-17      7         9        muddaub              1    \n",
              "3 3      God     2016-11-17     10        15        burntbricks          1    \n",
              "4 4      God     2016-11-17      7         6        burntbricks          1    \n",
              "5 5      God     2016-11-17      7        40        burntbricks          1    \n",
              "6 6      God     2016-11-17      3         3        muddaub              1    \n",
              "  memb_assoc affect_conflicts liv_count\n",
              "1 NULL       NULL             1        \n",
              "2 yes        once             3        \n",
              "3 NULL       NULL             1        \n",
              "4 NULL       NULL             2        \n",
              "5 NULL       NULL             4        \n",
              "6 NULL       NULL             1        \n",
              "  items_owned                                                                 \n",
              "1 bicycle;television;solar_panel;table                                        \n",
              "2 cow_cart;bicycle;radio;cow_plough;solar_panel;solar_torch;table;mobile_phone\n",
              "3 solar_torch                                                                 \n",
              "4 bicycle;radio;cow_plough;solar_panel;mobile_phone                           \n",
              "5 motorcyle;radio;cow_plough;mobile_phone                                     \n",
              "6 NULL                                                                        \n",
              "  no_meals months_lack_food        instanceID                               \n",
              "1 2        Jan                     uuid:ec241f2c-0609-46ed-b5e8-fe575f6cefef\n",
              "2 2        Jan;Sept;Oct;Nov;Dec    uuid:099de9c9-3e5e-427b-8452-26250e840d6e\n",
              "3 2        Jan;Feb;Mar;Oct;Nov;Dec uuid:193d7daf-9582-409b-bf09-027dd36f9007\n",
              "4 2        Sept;Oct;Nov;Dec        uuid:148d1105-778a-4755-aa71-281eadd4a973\n",
              "5 2        Aug;Sept;Oct;Nov        uuid:2c867811-9696-4966-9866-f35c3e97d02d\n",
              "6 2        Aug;Sept;Oct            uuid:daa56c91-c8e3-44c3-a663-af6a49a2ca70"
            ]
          },
          "metadata": {}
        }
      ]
    },
    {
      "cell_type": "code",
      "source": [
        "c(\"earth\", \"cement\", \"cement\", \"earth\", \"earth\")"
      ],
      "metadata": {
        "colab": {
          "base_uri": "https://localhost:8080/",
          "height": 34
        },
        "id": "0-AJ_sWMOZQk",
        "outputId": "37777296-593a-453c-db14-cc186b9f534c"
      },
      "execution_count": null,
      "outputs": [
        {
          "output_type": "display_data",
          "data": {
            "text/html": [
              "<style>\n",
              ".list-inline {list-style: none; margin:0; padding: 0}\n",
              ".list-inline>li {display: inline-block}\n",
              ".list-inline>li:not(:last-child)::after {content: \"\\00b7\"; padding: 0 .5ex}\n",
              "</style>\n",
              "<ol class=list-inline><li>'earth'</li><li>'cement'</li><li>'cement'</li><li>'earth'</li><li>'earth'</li></ol>\n"
            ],
            "text/markdown": "1. 'earth'\n2. 'cement'\n3. 'cement'\n4. 'earth'\n5. 'earth'\n\n\n",
            "text/latex": "\\begin{enumerate*}\n\\item 'earth'\n\\item 'cement'\n\\item 'cement'\n\\item 'earth'\n\\item 'earth'\n\\end{enumerate*}\n",
            "text/plain": [
              "[1] \"earth\"  \"cement\" \"cement\" \"earth\"  \"earth\" "
            ]
          },
          "metadata": {}
        }
      ]
    },
    {
      "cell_type": "code",
      "source": [
        "#factors\n",
        "respondent_floor_type <- factor(c(\"earth\", \"cement\", \"cement\", \"earth\", \"earth\"))\n",
        "respondent_floor_type"
      ],
      "metadata": {
        "colab": {
          "base_uri": "https://localhost:8080/",
          "height": 69
        },
        "id": "F1zJufR_54X2",
        "outputId": "ffe35529-6951-4b2e-9bda-8b6efde2b2ea"
      },
      "execution_count": null,
      "outputs": [
        {
          "output_type": "display_data",
          "data": {
            "text/html": [
              "<style>\n",
              ".list-inline {list-style: none; margin:0; padding: 0}\n",
              ".list-inline>li {display: inline-block}\n",
              ".list-inline>li:not(:last-child)::after {content: \"\\00b7\"; padding: 0 .5ex}\n",
              "</style>\n",
              "<ol class=list-inline><li>earth</li><li>cement</li><li>cement</li><li>earth</li><li>earth</li></ol>\n",
              "\n",
              "<details>\n",
              "\t<summary style=display:list-item;cursor:pointer>\n",
              "\t\t<strong>Levels</strong>:\n",
              "\t</summary>\n",
              "\t<style>\n",
              "\t.list-inline {list-style: none; margin:0; padding: 0}\n",
              "\t.list-inline>li {display: inline-block}\n",
              "\t.list-inline>li:not(:last-child)::after {content: \"\\00b7\"; padding: 0 .5ex}\n",
              "\t</style>\n",
              "\t<ol class=list-inline><li>'cement'</li><li>'earth'</li></ol>\n",
              "</details>"
            ],
            "text/markdown": "1. earth\n2. cement\n3. cement\n4. earth\n5. earth\n\n\n\n**Levels**: 1. 'cement'\n2. 'earth'\n\n\n",
            "text/latex": "\\begin{enumerate*}\n\\item earth\n\\item cement\n\\item cement\n\\item earth\n\\item earth\n\\end{enumerate*}\n\n\\emph{Levels}: \\begin{enumerate*}\n\\item 'cement'\n\\item 'earth'\n\\end{enumerate*}\n",
            "text/plain": [
              "[1] earth  cement cement earth  earth \n",
              "Levels: cement earth"
            ]
          },
          "metadata": {}
        }
      ]
    },
    {
      "cell_type": "code",
      "source": [
        "head(interviews, n = 1)"
      ],
      "metadata": {
        "colab": {
          "base_uri": "https://localhost:8080/",
          "height": 201
        },
        "id": "rTEr0iX8OnQa",
        "outputId": "e062f07a-4dc9-494e-a097-45966b7eebb7"
      },
      "execution_count": null,
      "outputs": [
        {
          "output_type": "display_data",
          "data": {
            "text/html": [
              "<table class=\"dataframe\">\n",
              "<caption>A tibble: 1 × 14</caption>\n",
              "<thead>\n",
              "\t<tr><th scope=col>key_ID</th><th scope=col>village</th><th scope=col>interview_date</th><th scope=col>no_membrs</th><th scope=col>years_liv</th><th scope=col>respondent_wall_type</th><th scope=col>rooms</th><th scope=col>memb_assoc</th><th scope=col>affect_conflicts</th><th scope=col>liv_count</th><th scope=col>items_owned</th><th scope=col>no_meals</th><th scope=col>months_lack_food</th><th scope=col>instanceID</th></tr>\n",
              "\t<tr><th scope=col>&lt;dbl&gt;</th><th scope=col>&lt;chr&gt;</th><th scope=col>&lt;dttm&gt;</th><th scope=col>&lt;dbl&gt;</th><th scope=col>&lt;dbl&gt;</th><th scope=col>&lt;chr&gt;</th><th scope=col>&lt;dbl&gt;</th><th scope=col>&lt;chr&gt;</th><th scope=col>&lt;chr&gt;</th><th scope=col>&lt;dbl&gt;</th><th scope=col>&lt;chr&gt;</th><th scope=col>&lt;dbl&gt;</th><th scope=col>&lt;chr&gt;</th><th scope=col>&lt;chr&gt;</th></tr>\n",
              "</thead>\n",
              "<tbody>\n",
              "\t<tr><td>1</td><td>God</td><td>2016-11-17</td><td>3</td><td>4</td><td>muddaub</td><td>1</td><td>NULL</td><td>NULL</td><td>1</td><td>bicycle;television;solar_panel;table</td><td>2</td><td>Jan</td><td>uuid:ec241f2c-0609-46ed-b5e8-fe575f6cefef</td></tr>\n",
              "</tbody>\n",
              "</table>\n"
            ],
            "text/markdown": "\nA tibble: 1 × 14\n\n| key_ID &lt;dbl&gt; | village &lt;chr&gt; | interview_date &lt;dttm&gt; | no_membrs &lt;dbl&gt; | years_liv &lt;dbl&gt; | respondent_wall_type &lt;chr&gt; | rooms &lt;dbl&gt; | memb_assoc &lt;chr&gt; | affect_conflicts &lt;chr&gt; | liv_count &lt;dbl&gt; | items_owned &lt;chr&gt; | no_meals &lt;dbl&gt; | months_lack_food &lt;chr&gt; | instanceID &lt;chr&gt; |\n|---|---|---|---|---|---|---|---|---|---|---|---|---|---|\n| 1 | God | 2016-11-17 | 3 | 4 | muddaub | 1 | NULL | NULL | 1 | bicycle;television;solar_panel;table | 2 | Jan | uuid:ec241f2c-0609-46ed-b5e8-fe575f6cefef |\n\n",
            "text/latex": "A tibble: 1 × 14\n\\begin{tabular}{llllllllllllll}\n key\\_ID & village & interview\\_date & no\\_membrs & years\\_liv & respondent\\_wall\\_type & rooms & memb\\_assoc & affect\\_conflicts & liv\\_count & items\\_owned & no\\_meals & months\\_lack\\_food & instanceID\\\\\n <dbl> & <chr> & <dttm> & <dbl> & <dbl> & <chr> & <dbl> & <chr> & <chr> & <dbl> & <chr> & <dbl> & <chr> & <chr>\\\\\n\\hline\n\t 1 & God & 2016-11-17 & 3 & 4 & muddaub & 1 & NULL & NULL & 1 & bicycle;television;solar\\_panel;table & 2 & Jan & uuid:ec241f2c-0609-46ed-b5e8-fe575f6cefef\\\\\n\\end{tabular}\n",
            "text/plain": [
              "  key_ID village interview_date no_membrs years_liv respondent_wall_type rooms\n",
              "1 1      God     2016-11-17     3         4         muddaub              1    \n",
              "  memb_assoc affect_conflicts liv_count items_owned                         \n",
              "1 NULL       NULL             1         bicycle;television;solar_panel;table\n",
              "  no_meals months_lack_food instanceID                               \n",
              "1 2        Jan              uuid:ec241f2c-0609-46ed-b5e8-fe575f6cefef"
            ]
          },
          "metadata": {}
        }
      ]
    },
    {
      "cell_type": "code",
      "source": [
        "## create a vector from the data frame column \"memb_assoc\"\n",
        "memb_assoc <- interviews$memb_assoc\n",
        "\n",
        "## convert it into a factor\n",
        "memb_assoc <- as.factor(memb_assoc)\n",
        "\n",
        "## let's see what it looks like\n",
        "memb_assoc"
      ],
      "metadata": {
        "colab": {
          "base_uri": "https://localhost:8080/",
          "height": 138
        },
        "id": "IriWRTF06Hg7",
        "outputId": "49f5a66a-fbf5-4f15-8d8c-c069c6f0212b"
      },
      "execution_count": null,
      "outputs": [
        {
          "output_type": "display_data",
          "data": {
            "text/html": [
              "<style>\n",
              ".list-inline {list-style: none; margin:0; padding: 0}\n",
              ".list-inline>li {display: inline-block}\n",
              ".list-inline>li:not(:last-child)::after {content: \"\\00b7\"; padding: 0 .5ex}\n",
              "</style>\n",
              "<ol class=list-inline><li>NULL</li><li>yes</li><li>NULL</li><li>NULL</li><li>NULL</li><li>NULL</li><li>no</li><li>yes</li><li>no</li><li>no</li><li>NULL</li><li>yes</li><li>no</li><li>NULL</li><li>yes</li><li>NULL</li><li>NULL</li><li>NULL</li><li>NULL</li><li>NULL</li><li>no</li><li>NULL</li><li>NULL</li><li>no</li><li>no</li><li>no</li><li>NULL</li><li>no</li><li>yes</li><li>NULL</li><li>NULL</li><li>yes</li><li>no</li><li>yes</li><li>yes</li><li>yes</li><li>NULL</li><li>yes</li><li>NULL</li><li>yes</li><li>NULL</li><li>no</li><li>no</li><li>NULL</li><li>no</li><li>no</li><li>yes</li><li>NULL</li><li>NULL</li><li>yes</li><li>NULL</li><li>no</li><li>yes</li><li>no</li><li>NULL</li><li>yes</li><li>no</li><li>no</li><li>NULL</li><li>no</li><li>yes</li><li>NULL</li><li>NULL</li><li>NULL</li><li>no</li><li>yes</li><li>no</li><li>no</li><li>no</li><li>no</li><li>yes</li><li>NULL</li><li>no</li><li>yes</li><li>NULL</li><li>NULL</li><li>yes</li><li>no</li><li>no</li><li>yes</li><li>no</li><li>no</li><li>yes</li><li>no</li><li>yes</li><li>no</li><li>no</li><li>NULL</li><li>yes</li><li>yes</li><li>yes</li><li>yes</li><li>yes</li><li>no</li><li>no</li><li>no</li><li>no</li><li>yes</li><li>no</li><li>no</li><li>yes</li><li>yes</li><li>no</li><li>NULL</li><li>no</li><li>no</li><li>NULL</li><li>no</li><li>no</li><li>NULL</li><li>no</li><li>NULL</li><li>NULL</li><li>no</li><li>no</li><li>no</li><li>no</li><li>yes</li><li>no</li><li>no</li><li>no</li><li>no</li><li>no</li><li>no</li><li>no</li><li>no</li><li>no</li><li>no</li><li>no</li><li>yes</li><li>NULL</li></ol>\n",
              "\n",
              "<details>\n",
              "\t<summary style=display:list-item;cursor:pointer>\n",
              "\t\t<strong>Levels</strong>:\n",
              "\t</summary>\n",
              "\t<style>\n",
              "\t.list-inline {list-style: none; margin:0; padding: 0}\n",
              "\t.list-inline>li {display: inline-block}\n",
              "\t.list-inline>li:not(:last-child)::after {content: \"\\00b7\"; padding: 0 .5ex}\n",
              "\t</style>\n",
              "\t<ol class=list-inline><li>'no'</li><li>'NULL'</li><li>'yes'</li></ol>\n",
              "</details>"
            ],
            "text/markdown": "1. NULL\n2. yes\n3. NULL\n4. NULL\n5. NULL\n6. NULL\n7. no\n8. yes\n9. no\n10. no\n11. NULL\n12. yes\n13. no\n14. NULL\n15. yes\n16. NULL\n17. NULL\n18. NULL\n19. NULL\n20. NULL\n21. no\n22. NULL\n23. NULL\n24. no\n25. no\n26. no\n27. NULL\n28. no\n29. yes\n30. NULL\n31. NULL\n32. yes\n33. no\n34. yes\n35. yes\n36. yes\n37. NULL\n38. yes\n39. NULL\n40. yes\n41. NULL\n42. no\n43. no\n44. NULL\n45. no\n46. no\n47. yes\n48. NULL\n49. NULL\n50. yes\n51. NULL\n52. no\n53. yes\n54. no\n55. NULL\n56. yes\n57. no\n58. no\n59. NULL\n60. no\n61. yes\n62. NULL\n63. NULL\n64. NULL\n65. no\n66. yes\n67. no\n68. no\n69. no\n70. no\n71. yes\n72. NULL\n73. no\n74. yes\n75. NULL\n76. NULL\n77. yes\n78. no\n79. no\n80. yes\n81. no\n82. no\n83. yes\n84. no\n85. yes\n86. no\n87. no\n88. NULL\n89. yes\n90. yes\n91. yes\n92. yes\n93. yes\n94. no\n95. no\n96. no\n97. no\n98. yes\n99. no\n100. no\n101. yes\n102. yes\n103. no\n104. NULL\n105. no\n106. no\n107. NULL\n108. no\n109. no\n110. NULL\n111. no\n112. NULL\n113. NULL\n114. no\n115. no\n116. no\n117. no\n118. yes\n119. no\n120. no\n121. no\n122. no\n123. no\n124. no\n125. no\n126. no\n127. no\n128. no\n129. no\n130. yes\n131. NULL\n\n\n\n**Levels**: 1. 'no'\n2. 'NULL'\n3. 'yes'\n\n\n",
            "text/latex": "\\begin{enumerate*}\n\\item NULL\n\\item yes\n\\item NULL\n\\item NULL\n\\item NULL\n\\item NULL\n\\item no\n\\item yes\n\\item no\n\\item no\n\\item NULL\n\\item yes\n\\item no\n\\item NULL\n\\item yes\n\\item NULL\n\\item NULL\n\\item NULL\n\\item NULL\n\\item NULL\n\\item no\n\\item NULL\n\\item NULL\n\\item no\n\\item no\n\\item no\n\\item NULL\n\\item no\n\\item yes\n\\item NULL\n\\item NULL\n\\item yes\n\\item no\n\\item yes\n\\item yes\n\\item yes\n\\item NULL\n\\item yes\n\\item NULL\n\\item yes\n\\item NULL\n\\item no\n\\item no\n\\item NULL\n\\item no\n\\item no\n\\item yes\n\\item NULL\n\\item NULL\n\\item yes\n\\item NULL\n\\item no\n\\item yes\n\\item no\n\\item NULL\n\\item yes\n\\item no\n\\item no\n\\item NULL\n\\item no\n\\item yes\n\\item NULL\n\\item NULL\n\\item NULL\n\\item no\n\\item yes\n\\item no\n\\item no\n\\item no\n\\item no\n\\item yes\n\\item NULL\n\\item no\n\\item yes\n\\item NULL\n\\item NULL\n\\item yes\n\\item no\n\\item no\n\\item yes\n\\item no\n\\item no\n\\item yes\n\\item no\n\\item yes\n\\item no\n\\item no\n\\item NULL\n\\item yes\n\\item yes\n\\item yes\n\\item yes\n\\item yes\n\\item no\n\\item no\n\\item no\n\\item no\n\\item yes\n\\item no\n\\item no\n\\item yes\n\\item yes\n\\item no\n\\item NULL\n\\item no\n\\item no\n\\item NULL\n\\item no\n\\item no\n\\item NULL\n\\item no\n\\item NULL\n\\item NULL\n\\item no\n\\item no\n\\item no\n\\item no\n\\item yes\n\\item no\n\\item no\n\\item no\n\\item no\n\\item no\n\\item no\n\\item no\n\\item no\n\\item no\n\\item no\n\\item no\n\\item yes\n\\item NULL\n\\end{enumerate*}\n\n\\emph{Levels}: \\begin{enumerate*}\n\\item 'no'\n\\item 'NULL'\n\\item 'yes'\n\\end{enumerate*}\n",
            "text/plain": [
              "  [1] NULL yes  NULL NULL NULL NULL no   yes  no   no   NULL yes  no   NULL yes \n",
              " [16] NULL NULL NULL NULL NULL no   NULL NULL no   no   no   NULL no   yes  NULL\n",
              " [31] NULL yes  no   yes  yes  yes  NULL yes  NULL yes  NULL no   no   NULL no  \n",
              " [46] no   yes  NULL NULL yes  NULL no   yes  no   NULL yes  no   no   NULL no  \n",
              " [61] yes  NULL NULL NULL no   yes  no   no   no   no   yes  NULL no   yes  NULL\n",
              " [76] NULL yes  no   no   yes  no   no   yes  no   yes  no   no   NULL yes  yes \n",
              " [91] yes  yes  yes  no   no   no   no   yes  no   no   yes  yes  no   NULL no  \n",
              "[106] no   NULL no   no   NULL no   NULL NULL no   no   no   no   yes  no   no  \n",
              "[121] no   no   no   no   no   no   no   no   no   yes  NULL\n",
              "Levels: no NULL yes"
            ]
          },
          "metadata": {}
        }
      ]
    },
    {
      "cell_type": "code",
      "source": [
        "## bar plot of the number of interview respondents who were\n",
        "## members of irrigation association:\n",
        "plot(memb_assoc)"
      ],
      "metadata": {
        "colab": {
          "base_uri": "https://localhost:8080/",
          "height": 437
        },
        "id": "uLwNtyH-6KjE",
        "outputId": "e864a494-b77c-403f-9485-b92dd15efdef"
      },
      "execution_count": null,
      "outputs": [
        {
          "output_type": "display_data",
          "data": {
            "text/plain": [
              "plot without title"
            ],
            "image/png": "[encoded data removed]"
          },
          "metadata": {
            "image/png": {
              "width": 420,
              "height": 420
            }
          }
        }
      ]
    },
    {
      "cell_type": "code",
      "source": [
        "interviews <- read_csv('SAFI_clean.csv', na = \"NULL\")"
      ],
      "metadata": {
        "colab": {
          "base_uri": "https://localhost:8080/"
        },
        "id": "1gymIayiQCOq",
        "outputId": "07ae1538-b7ba-4b95-e87e-9fbd966576e4"
      },
      "execution_count": null,
      "outputs": [
        {
          "output_type": "stream",
          "name": "stderr",
          "text": [
            "\u001b[1mRows: \u001b[22m\u001b[34m131\u001b[39m \u001b[1mColumns: \u001b[22m\u001b[34m14\u001b[39m\n",
            "\u001b[36m──\u001b[39m \u001b[1mColumn specification\u001b[22m \u001b[36m────────────────────────────────────────────────────────\u001b[39m\n",
            "\u001b[1mDelimiter:\u001b[22m \",\"\n",
            "\u001b[31mchr\u001b[39m  (7): village, respondent_wall_type, memb_assoc, affect_conflicts, items...\n",
            "\u001b[32mdbl\u001b[39m  (6): key_ID, no_membrs, years_liv, rooms, liv_count, no_meals\n",
            "\u001b[34mdttm\u001b[39m (1): interview_date\n",
            "\n",
            "\u001b[36mℹ\u001b[39m Use `spec()` to retrieve the full column specification for this data.\n",
            "\u001b[36mℹ\u001b[39m Specify the column types or set `show_col_types = FALSE` to quiet this message.\n"
          ]
        }
      ]
    },
    {
      "cell_type": "code",
      "source": [
        "## Let's recreate the vector from the data frame column \"memb_assoc\"\n",
        "memb_assoc <- interviews$memb_assoc\n",
        "\n",
        "## replace the missing data with \"undetermined\"\n",
        "memb_assoc[is.na(memb_assoc)] <- \"undetermined\"\n",
        "\n",
        "memb_assoc"
      ],
      "metadata": {
        "colab": {
          "base_uri": "https://localhost:8080/",
          "height": 156
        },
        "id": "IQLQuRGF6MyQ",
        "outputId": "51a4017e-5401-45be-f1bc-9790eac5c49c"
      },
      "execution_count": null,
      "outputs": [
        {
          "output_type": "display_data",
          "data": {
            "text/html": [
              "<style>\n",
              ".list-inline {list-style: none; margin:0; padding: 0}\n",
              ".list-inline>li {display: inline-block}\n",
              ".list-inline>li:not(:last-child)::after {content: \"\\00b7\"; padding: 0 .5ex}\n",
              "</style>\n",
              "<ol class=list-inline><li>'undetermined'</li><li>'yes'</li><li>'undetermined'</li><li>'undetermined'</li><li>'undetermined'</li><li>'undetermined'</li><li>'no'</li><li>'yes'</li><li>'no'</li><li>'no'</li><li>'undetermined'</li><li>'yes'</li><li>'no'</li><li>'undetermined'</li><li>'yes'</li><li>'undetermined'</li><li>'undetermined'</li><li>'undetermined'</li><li>'undetermined'</li><li>'undetermined'</li><li>'no'</li><li>'undetermined'</li><li>'undetermined'</li><li>'no'</li><li>'no'</li><li>'no'</li><li>'undetermined'</li><li>'no'</li><li>'yes'</li><li>'undetermined'</li><li>'undetermined'</li><li>'yes'</li><li>'no'</li><li>'yes'</li><li>'yes'</li><li>'yes'</li><li>'undetermined'</li><li>'yes'</li><li>'undetermined'</li><li>'yes'</li><li>'undetermined'</li><li>'no'</li><li>'no'</li><li>'undetermined'</li><li>'no'</li><li>'no'</li><li>'yes'</li><li>'undetermined'</li><li>'undetermined'</li><li>'yes'</li><li>'undetermined'</li><li>'no'</li><li>'yes'</li><li>'no'</li><li>'undetermined'</li><li>'yes'</li><li>'no'</li><li>'no'</li><li>'undetermined'</li><li>'no'</li><li>'yes'</li><li>'undetermined'</li><li>'undetermined'</li><li>'undetermined'</li><li>'no'</li><li>'yes'</li><li>'no'</li><li>'no'</li><li>'no'</li><li>'no'</li><li>'yes'</li><li>'undetermined'</li><li>'no'</li><li>'yes'</li><li>'undetermined'</li><li>'undetermined'</li><li>'yes'</li><li>'no'</li><li>'no'</li><li>'yes'</li><li>'no'</li><li>'no'</li><li>'yes'</li><li>'no'</li><li>'yes'</li><li>'no'</li><li>'no'</li><li>'undetermined'</li><li>'yes'</li><li>'yes'</li><li>'yes'</li><li>'yes'</li><li>'yes'</li><li>'no'</li><li>'no'</li><li>'no'</li><li>'no'</li><li>'yes'</li><li>'no'</li><li>'no'</li><li>'yes'</li><li>'yes'</li><li>'no'</li><li>'undetermined'</li><li>'no'</li><li>'no'</li><li>'undetermined'</li><li>'no'</li><li>'no'</li><li>'undetermined'</li><li>'no'</li><li>'undetermined'</li><li>'undetermined'</li><li>'no'</li><li>'no'</li><li>'no'</li><li>'no'</li><li>'yes'</li><li>'no'</li><li>'no'</li><li>'no'</li><li>'no'</li><li>'no'</li><li>'no'</li><li>'no'</li><li>'no'</li><li>'no'</li><li>'no'</li><li>'no'</li><li>'yes'</li><li>'undetermined'</li></ol>\n"
            ],
            "text/markdown": "1. 'undetermined'\n2. 'yes'\n3. 'undetermined'\n4. 'undetermined'\n5. 'undetermined'\n6. 'undetermined'\n7. 'no'\n8. 'yes'\n9. 'no'\n10. 'no'\n11. 'undetermined'\n12. 'yes'\n13. 'no'\n14. 'undetermined'\n15. 'yes'\n16. 'undetermined'\n17. 'undetermined'\n18. 'undetermined'\n19. 'undetermined'\n20. 'undetermined'\n21. 'no'\n22. 'undetermined'\n23. 'undetermined'\n24. 'no'\n25. 'no'\n26. 'no'\n27. 'undetermined'\n28. 'no'\n29. 'yes'\n30. 'undetermined'\n31. 'undetermined'\n32. 'yes'\n33. 'no'\n34. 'yes'\n35. 'yes'\n36. 'yes'\n37. 'undetermined'\n38. 'yes'\n39. 'undetermined'\n40. 'yes'\n41. 'undetermined'\n42. 'no'\n43. 'no'\n44. 'undetermined'\n45. 'no'\n46. 'no'\n47. 'yes'\n48. 'undetermined'\n49. 'undetermined'\n50. 'yes'\n51. 'undetermined'\n52. 'no'\n53. 'yes'\n54. 'no'\n55. 'undetermined'\n56. 'yes'\n57. 'no'\n58. 'no'\n59. 'undetermined'\n60. 'no'\n61. 'yes'\n62. 'undetermined'\n63. 'undetermined'\n64. 'undetermined'\n65. 'no'\n66. 'yes'\n67. 'no'\n68. 'no'\n69. 'no'\n70. 'no'\n71. 'yes'\n72. 'undetermined'\n73. 'no'\n74. 'yes'\n75. 'undetermined'\n76. 'undetermined'\n77. 'yes'\n78. 'no'\n79. 'no'\n80. 'yes'\n81. 'no'\n82. 'no'\n83. 'yes'\n84. 'no'\n85. 'yes'\n86. 'no'\n87. 'no'\n88. 'undetermined'\n89. 'yes'\n90. 'yes'\n91. 'yes'\n92. 'yes'\n93. 'yes'\n94. 'no'\n95. 'no'\n96. 'no'\n97. 'no'\n98. 'yes'\n99. 'no'\n100. 'no'\n101. 'yes'\n102. 'yes'\n103. 'no'\n104. 'undetermined'\n105. 'no'\n106. 'no'\n107. 'undetermined'\n108. 'no'\n109. 'no'\n110. 'undetermined'\n111. 'no'\n112. 'undetermined'\n113. 'undetermined'\n114. 'no'\n115. 'no'\n116. 'no'\n117. 'no'\n118. 'yes'\n119. 'no'\n120. 'no'\n121. 'no'\n122. 'no'\n123. 'no'\n124. 'no'\n125. 'no'\n126. 'no'\n127. 'no'\n128. 'no'\n129. 'no'\n130. 'yes'\n131. 'undetermined'\n\n\n",
            "text/latex": "\\begin{enumerate*}\n\\item 'undetermined'\n\\item 'yes'\n\\item 'undetermined'\n\\item 'undetermined'\n\\item 'undetermined'\n\\item 'undetermined'\n\\item 'no'\n\\item 'yes'\n\\item 'no'\n\\item 'no'\n\\item 'undetermined'\n\\item 'yes'\n\\item 'no'\n\\item 'undetermined'\n\\item 'yes'\n\\item 'undetermined'\n\\item 'undetermined'\n\\item 'undetermined'\n\\item 'undetermined'\n\\item 'undetermined'\n\\item 'no'\n\\item 'undetermined'\n\\item 'undetermined'\n\\item 'no'\n\\item 'no'\n\\item 'no'\n\\item 'undetermined'\n\\item 'no'\n\\item 'yes'\n\\item 'undetermined'\n\\item 'undetermined'\n\\item 'yes'\n\\item 'no'\n\\item 'yes'\n\\item 'yes'\n\\item 'yes'\n\\item 'undetermined'\n\\item 'yes'\n\\item 'undetermined'\n\\item 'yes'\n\\item 'undetermined'\n\\item 'no'\n\\item 'no'\n\\item 'undetermined'\n\\item 'no'\n\\item 'no'\n\\item 'yes'\n\\item 'undetermined'\n\\item 'undetermined'\n\\item 'yes'\n\\item 'undetermined'\n\\item 'no'\n\\item 'yes'\n\\item 'no'\n\\item 'undetermined'\n\\item 'yes'\n\\item 'no'\n\\item 'no'\n\\item 'undetermined'\n\\item 'no'\n\\item 'yes'\n\\item 'undetermined'\n\\item 'undetermined'\n\\item 'undetermined'\n\\item 'no'\n\\item 'yes'\n\\item 'no'\n\\item 'no'\n\\item 'no'\n\\item 'no'\n\\item 'yes'\n\\item 'undetermined'\n\\item 'no'\n\\item 'yes'\n\\item 'undetermined'\n\\item 'undetermined'\n\\item 'yes'\n\\item 'no'\n\\item 'no'\n\\item 'yes'\n\\item 'no'\n\\item 'no'\n\\item 'yes'\n\\item 'no'\n\\item 'yes'\n\\item 'no'\n\\item 'no'\n\\item 'undetermined'\n\\item 'yes'\n\\item 'yes'\n\\item 'yes'\n\\item 'yes'\n\\item 'yes'\n\\item 'no'\n\\item 'no'\n\\item 'no'\n\\item 'no'\n\\item 'yes'\n\\item 'no'\n\\item 'no'\n\\item 'yes'\n\\item 'yes'\n\\item 'no'\n\\item 'undetermined'\n\\item 'no'\n\\item 'no'\n\\item 'undetermined'\n\\item 'no'\n\\item 'no'\n\\item 'undetermined'\n\\item 'no'\n\\item 'undetermined'\n\\item 'undetermined'\n\\item 'no'\n\\item 'no'\n\\item 'no'\n\\item 'no'\n\\item 'yes'\n\\item 'no'\n\\item 'no'\n\\item 'no'\n\\item 'no'\n\\item 'no'\n\\item 'no'\n\\item 'no'\n\\item 'no'\n\\item 'no'\n\\item 'no'\n\\item 'no'\n\\item 'yes'\n\\item 'undetermined'\n\\end{enumerate*}\n",
            "text/plain": [
              "  [1] \"undetermined\" \"yes\"          \"undetermined\" \"undetermined\" \"undetermined\"\n",
              "  [6] \"undetermined\" \"no\"           \"yes\"          \"no\"           \"no\"          \n",
              " [11] \"undetermined\" \"yes\"          \"no\"           \"undetermined\" \"yes\"         \n",
              " [16] \"undetermined\" \"undetermined\" \"undetermined\" \"undetermined\" \"undetermined\"\n",
              " [21] \"no\"           \"undetermined\" \"undetermined\" \"no\"           \"no\"          \n",
              " [26] \"no\"           \"undetermined\" \"no\"           \"yes\"          \"undetermined\"\n",
              " [31] \"undetermined\" \"yes\"          \"no\"           \"yes\"          \"yes\"         \n",
              " [36] \"yes\"          \"undetermined\" \"yes\"          \"undetermined\" \"yes\"         \n",
              " [41] \"undetermined\" \"no\"           \"no\"           \"undetermined\" \"no\"          \n",
              " [46] \"no\"           \"yes\"          \"undetermined\" \"undetermined\" \"yes\"         \n",
              " [51] \"undetermined\" \"no\"           \"yes\"          \"no\"           \"undetermined\"\n",
              " [56] \"yes\"          \"no\"           \"no\"           \"undetermined\" \"no\"          \n",
              " [61] \"yes\"          \"undetermined\" \"undetermined\" \"undetermined\" \"no\"          \n",
              " [66] \"yes\"          \"no\"           \"no\"           \"no\"           \"no\"          \n",
              " [71] \"yes\"          \"undetermined\" \"no\"           \"yes\"          \"undetermined\"\n",
              " [76] \"undetermined\" \"yes\"          \"no\"           \"no\"           \"yes\"         \n",
              " [81] \"no\"           \"no\"           \"yes\"          \"no\"           \"yes\"         \n",
              " [86] \"no\"           \"no\"           \"undetermined\" \"yes\"          \"yes\"         \n",
              " [91] \"yes\"          \"yes\"          \"yes\"          \"no\"           \"no\"          \n",
              " [96] \"no\"           \"no\"           \"yes\"          \"no\"           \"no\"          \n",
              "[101] \"yes\"          \"yes\"          \"no\"           \"undetermined\" \"no\"          \n",
              "[106] \"no\"           \"undetermined\" \"no\"           \"no\"           \"undetermined\"\n",
              "[111] \"no\"           \"undetermined\" \"undetermined\" \"no\"           \"no\"          \n",
              "[116] \"no\"           \"no\"           \"yes\"          \"no\"           \"no\"          \n",
              "[121] \"no\"           \"no\"           \"no\"           \"no\"           \"no\"          \n",
              "[126] \"no\"           \"no\"           \"no\"           \"no\"           \"yes\"         \n",
              "[131] \"undetermined\""
            ]
          },
          "metadata": {}
        }
      ]
    },
    {
      "cell_type": "markdown",
      "source": [
        "### `dplyr`\n",
        "\n",
        "- `select()`: subset columns\n",
        "- `filter()`: subset rows on conditions\n",
        "- `mutate()`: create new columns by using information from other columns\n",
        "- `group_by()` and `summarize()`: create summary statistics on grouped data\n",
        "- `arrange()`: sort results\n",
        "- `count()`: count discrete values"
      ],
      "metadata": {
        "id": "UTwY7_6G6qPj"
      }
    },
    {
      "cell_type": "code",
      "source": [
        "#selecting columns\n",
        "select(interviews, village, no_membrs)\n",
        "interviews[c(\"village\", \"no_membrs\")]"
      ],
      "metadata": {
        "colab": {
          "base_uri": "https://localhost:8080/",
          "height": 1000
        },
        "id": "49uWHD8O66Xo",
        "outputId": "4d261365-8952-4d8d-c4f2-b85e699d795e"
      },
      "execution_count": null,
      "outputs": [
        {
          "output_type": "display_data",
          "data": {
            "text/html": [
              "<table class=\"dataframe\">\n",
              "<caption>A tibble: 131 × 2</caption>\n",
              "<thead>\n",
              "\t<tr><th scope=col>village</th><th scope=col>no_membrs</th></tr>\n",
              "\t<tr><th scope=col>&lt;chr&gt;</th><th scope=col>&lt;dbl&gt;</th></tr>\n",
              "</thead>\n",
              "<tbody>\n",
              "\t<tr><td>God     </td><td> 3</td></tr>\n",
              "\t<tr><td>God     </td><td> 7</td></tr>\n",
              "\t<tr><td>God     </td><td>10</td></tr>\n",
              "\t<tr><td>God     </td><td> 7</td></tr>\n",
              "\t<tr><td>God     </td><td> 7</td></tr>\n",
              "\t<tr><td>God     </td><td> 3</td></tr>\n",
              "\t<tr><td>God     </td><td> 6</td></tr>\n",
              "\t<tr><td>Chirodzo</td><td>12</td></tr>\n",
              "\t<tr><td>Chirodzo</td><td> 8</td></tr>\n",
              "\t<tr><td>Chirodzo</td><td>12</td></tr>\n",
              "\t<tr><td>God     </td><td> 6</td></tr>\n",
              "\t<tr><td>God     </td><td> 7</td></tr>\n",
              "\t<tr><td>God     </td><td> 6</td></tr>\n",
              "\t<tr><td>God     </td><td>10</td></tr>\n",
              "\t<tr><td>God     </td><td> 5</td></tr>\n",
              "\t<tr><td>God     </td><td> 6</td></tr>\n",
              "\t<tr><td>God     </td><td> 8</td></tr>\n",
              "\t<tr><td>God     </td><td> 4</td></tr>\n",
              "\t<tr><td>God     </td><td> 9</td></tr>\n",
              "\t<tr><td>God     </td><td> 6</td></tr>\n",
              "\t<tr><td>God     </td><td> 8</td></tr>\n",
              "\t<tr><td>God     </td><td> 4</td></tr>\n",
              "\t<tr><td>Ruaca   </td><td>10</td></tr>\n",
              "\t<tr><td>Ruaca   </td><td> 6</td></tr>\n",
              "\t<tr><td>Ruaca   </td><td>11</td></tr>\n",
              "\t<tr><td>Ruaca   </td><td> 3</td></tr>\n",
              "\t<tr><td>Ruaca   </td><td> 7</td></tr>\n",
              "\t<tr><td>Ruaca   </td><td> 2</td></tr>\n",
              "\t<tr><td>Ruaca   </td><td> 7</td></tr>\n",
              "\t<tr><td>Ruaca   </td><td> 7</td></tr>\n",
              "\t<tr><td>⋮</td><td>⋮</td></tr>\n",
              "\t<tr><td>Ruaca   </td><td> 6</td></tr>\n",
              "\t<tr><td>God     </td><td>15</td></tr>\n",
              "\t<tr><td>God     </td><td> 4</td></tr>\n",
              "\t<tr><td>Ruaca   </td><td> 6</td></tr>\n",
              "\t<tr><td>Ruaca   </td><td>11</td></tr>\n",
              "\t<tr><td>Ruaca   </td><td> 5</td></tr>\n",
              "\t<tr><td>Ruaca   </td><td> 5</td></tr>\n",
              "\t<tr><td>Ruaca   </td><td> 3</td></tr>\n",
              "\t<tr><td>Ruaca   </td><td> 4</td></tr>\n",
              "\t<tr><td>God     </td><td>15</td></tr>\n",
              "\t<tr><td>Ruaca   </td><td> 5</td></tr>\n",
              "\t<tr><td>Ruaca   </td><td>10</td></tr>\n",
              "\t<tr><td>Ruaca   </td><td> 7</td></tr>\n",
              "\t<tr><td>Ruaca   </td><td>10</td></tr>\n",
              "\t<tr><td>Ruaca   </td><td> 7</td></tr>\n",
              "\t<tr><td>God     </td><td> 4</td></tr>\n",
              "\t<tr><td>God     </td><td> 7</td></tr>\n",
              "\t<tr><td>Ruaca   </td><td> 9</td></tr>\n",
              "\t<tr><td>Ruaca   </td><td>11</td></tr>\n",
              "\t<tr><td>Ruaca   </td><td> 8</td></tr>\n",
              "\t<tr><td>Ruaca   </td><td>12</td></tr>\n",
              "\t<tr><td>Ruaca   </td><td> 7</td></tr>\n",
              "\t<tr><td>Ruaca   </td><td>15</td></tr>\n",
              "\t<tr><td>Ruaca   </td><td>10</td></tr>\n",
              "\t<tr><td>Chirodzo</td><td> 9</td></tr>\n",
              "\t<tr><td>Ruaca   </td><td> 3</td></tr>\n",
              "\t<tr><td>Ruaca   </td><td> 7</td></tr>\n",
              "\t<tr><td>Ruaca   </td><td> 4</td></tr>\n",
              "\t<tr><td>Chirodzo</td><td> 7</td></tr>\n",
              "\t<tr><td>Chirodzo</td><td> 8</td></tr>\n",
              "</tbody>\n",
              "</table>\n"
            ],
            "text/markdown": "\nA tibble: 131 × 2\n\n| village &lt;chr&gt; | no_membrs &lt;dbl&gt; |\n|---|---|\n| God      |  3 |\n| God      |  7 |\n| God      | 10 |\n| God      |  7 |\n| God      |  7 |\n| God      |  3 |\n| God      |  6 |\n| Chirodzo | 12 |\n| Chirodzo |  8 |\n| Chirodzo | 12 |\n| God      |  6 |\n| God      |  7 |\n| God      |  6 |\n| God      | 10 |\n| God      |  5 |\n| God      |  6 |\n| God      |  8 |\n| God      |  4 |\n| God      |  9 |\n| God      |  6 |\n| God      |  8 |\n| God      |  4 |\n| Ruaca    | 10 |\n| Ruaca    |  6 |\n| Ruaca    | 11 |\n| Ruaca    |  3 |\n| Ruaca    |  7 |\n| Ruaca    |  2 |\n| Ruaca    |  7 |\n| Ruaca    |  7 |\n| ⋮ | ⋮ |\n| Ruaca    |  6 |\n| God      | 15 |\n| God      |  4 |\n| Ruaca    |  6 |\n| Ruaca    | 11 |\n| Ruaca    |  5 |\n| Ruaca    |  5 |\n| Ruaca    |  3 |\n| Ruaca    |  4 |\n| God      | 15 |\n| Ruaca    |  5 |\n| Ruaca    | 10 |\n| Ruaca    |  7 |\n| Ruaca    | 10 |\n| Ruaca    |  7 |\n| God      |  4 |\n| God      |  7 |\n| Ruaca    |  9 |\n| Ruaca    | 11 |\n| Ruaca    |  8 |\n| Ruaca    | 12 |\n| Ruaca    |  7 |\n| Ruaca    | 15 |\n| Ruaca    | 10 |\n| Chirodzo |  9 |\n| Ruaca    |  3 |\n| Ruaca    |  7 |\n| Ruaca    |  4 |\n| Chirodzo |  7 |\n| Chirodzo |  8 |\n\n",
            "text/latex": "A tibble: 131 × 2\n\\begin{tabular}{ll}\n village & no\\_membrs\\\\\n <chr> & <dbl>\\\\\n\\hline\n\t God      &  3\\\\\n\t God      &  7\\\\\n\t God      & 10\\\\\n\t God      &  7\\\\\n\t God      &  7\\\\\n\t God      &  3\\\\\n\t God      &  6\\\\\n\t Chirodzo & 12\\\\\n\t Chirodzo &  8\\\\\n\t Chirodzo & 12\\\\\n\t God      &  6\\\\\n\t God      &  7\\\\\n\t God      &  6\\\\\n\t God      & 10\\\\\n\t God      &  5\\\\\n\t God      &  6\\\\\n\t God      &  8\\\\\n\t God      &  4\\\\\n\t God      &  9\\\\\n\t God      &  6\\\\\n\t God      &  8\\\\\n\t God      &  4\\\\\n\t Ruaca    & 10\\\\\n\t Ruaca    &  6\\\\\n\t Ruaca    & 11\\\\\n\t Ruaca    &  3\\\\\n\t Ruaca    &  7\\\\\n\t Ruaca    &  2\\\\\n\t Ruaca    &  7\\\\\n\t Ruaca    &  7\\\\\n\t ⋮ & ⋮\\\\\n\t Ruaca    &  6\\\\\n\t God      & 15\\\\\n\t God      &  4\\\\\n\t Ruaca    &  6\\\\\n\t Ruaca    & 11\\\\\n\t Ruaca    &  5\\\\\n\t Ruaca    &  5\\\\\n\t Ruaca    &  3\\\\\n\t Ruaca    &  4\\\\\n\t God      & 15\\\\\n\t Ruaca    &  5\\\\\n\t Ruaca    & 10\\\\\n\t Ruaca    &  7\\\\\n\t Ruaca    & 10\\\\\n\t Ruaca    &  7\\\\\n\t God      &  4\\\\\n\t God      &  7\\\\\n\t Ruaca    &  9\\\\\n\t Ruaca    & 11\\\\\n\t Ruaca    &  8\\\\\n\t Ruaca    & 12\\\\\n\t Ruaca    &  7\\\\\n\t Ruaca    & 15\\\\\n\t Ruaca    & 10\\\\\n\t Chirodzo &  9\\\\\n\t Ruaca    &  3\\\\\n\t Ruaca    &  7\\\\\n\t Ruaca    &  4\\\\\n\t Chirodzo &  7\\\\\n\t Chirodzo &  8\\\\\n\\end{tabular}\n",
            "text/plain": [
              "    village  no_membrs\n",
              "1   God       3       \n",
              "2   God       7       \n",
              "3   God      10       \n",
              "4   God       7       \n",
              "5   God       7       \n",
              "6   God       3       \n",
              "7   God       6       \n",
              "8   Chirodzo 12       \n",
              "9   Chirodzo  8       \n",
              "10  Chirodzo 12       \n",
              "11  God       6       \n",
              "12  God       7       \n",
              "13  God       6       \n",
              "14  God      10       \n",
              "15  God       5       \n",
              "16  God       6       \n",
              "17  God       8       \n",
              "18  God       4       \n",
              "19  God       9       \n",
              "20  God       6       \n",
              "21  God       8       \n",
              "22  God       4       \n",
              "23  Ruaca    10       \n",
              "24  Ruaca     6       \n",
              "25  Ruaca    11       \n",
              "26  Ruaca     3       \n",
              "27  Ruaca     7       \n",
              "28  Ruaca     2       \n",
              "29  Ruaca     7       \n",
              "30  Ruaca     7       \n",
              "⋮   ⋮        ⋮        \n",
              "102 Ruaca     6       \n",
              "103 God      15       \n",
              "104 God       4       \n",
              "105 Ruaca     6       \n",
              "106 Ruaca    11       \n",
              "107 Ruaca     5       \n",
              "108 Ruaca     5       \n",
              "109 Ruaca     3       \n",
              "110 Ruaca     4       \n",
              "111 God      15       \n",
              "112 Ruaca     5       \n",
              "113 Ruaca    10       \n",
              "114 Ruaca     7       \n",
              "115 Ruaca    10       \n",
              "116 Ruaca     7       \n",
              "117 God       4       \n",
              "118 God       7       \n",
              "119 Ruaca     9       \n",
              "120 Ruaca    11       \n",
              "121 Ruaca     8       \n",
              "122 Ruaca    12       \n",
              "123 Ruaca     7       \n",
              "124 Ruaca    15       \n",
              "125 Ruaca    10       \n",
              "126 Chirodzo  9       \n",
              "127 Ruaca     3       \n",
              "128 Ruaca     7       \n",
              "129 Ruaca     4       \n",
              "130 Chirodzo  7       \n",
              "131 Chirodzo  8       "
            ]
          },
          "metadata": {}
        },
        {
          "output_type": "display_data",
          "data": {
            "text/html": [
              "<table class=\"dataframe\">\n",
              "<caption>A tibble: 131 × 2</caption>\n",
              "<thead>\n",
              "\t<tr><th scope=col>village</th><th scope=col>no_membrs</th></tr>\n",
              "\t<tr><th scope=col>&lt;chr&gt;</th><th scope=col>&lt;dbl&gt;</th></tr>\n",
              "</thead>\n",
              "<tbody>\n",
              "\t<tr><td>God     </td><td> 3</td></tr>\n",
              "\t<tr><td>God     </td><td> 7</td></tr>\n",
              "\t<tr><td>God     </td><td>10</td></tr>\n",
              "\t<tr><td>God     </td><td> 7</td></tr>\n",
              "\t<tr><td>God     </td><td> 7</td></tr>\n",
              "\t<tr><td>God     </td><td> 3</td></tr>\n",
              "\t<tr><td>God     </td><td> 6</td></tr>\n",
              "\t<tr><td>Chirodzo</td><td>12</td></tr>\n",
              "\t<tr><td>Chirodzo</td><td> 8</td></tr>\n",
              "\t<tr><td>Chirodzo</td><td>12</td></tr>\n",
              "\t<tr><td>God     </td><td> 6</td></tr>\n",
              "\t<tr><td>God     </td><td> 7</td></tr>\n",
              "\t<tr><td>God     </td><td> 6</td></tr>\n",
              "\t<tr><td>God     </td><td>10</td></tr>\n",
              "\t<tr><td>God     </td><td> 5</td></tr>\n",
              "\t<tr><td>God     </td><td> 6</td></tr>\n",
              "\t<tr><td>God     </td><td> 8</td></tr>\n",
              "\t<tr><td>God     </td><td> 4</td></tr>\n",
              "\t<tr><td>God     </td><td> 9</td></tr>\n",
              "\t<tr><td>God     </td><td> 6</td></tr>\n",
              "\t<tr><td>God     </td><td> 8</td></tr>\n",
              "\t<tr><td>God     </td><td> 4</td></tr>\n",
              "\t<tr><td>Ruaca   </td><td>10</td></tr>\n",
              "\t<tr><td>Ruaca   </td><td> 6</td></tr>\n",
              "\t<tr><td>Ruaca   </td><td>11</td></tr>\n",
              "\t<tr><td>Ruaca   </td><td> 3</td></tr>\n",
              "\t<tr><td>Ruaca   </td><td> 7</td></tr>\n",
              "\t<tr><td>Ruaca   </td><td> 2</td></tr>\n",
              "\t<tr><td>Ruaca   </td><td> 7</td></tr>\n",
              "\t<tr><td>Ruaca   </td><td> 7</td></tr>\n",
              "\t<tr><td>⋮</td><td>⋮</td></tr>\n",
              "\t<tr><td>Ruaca   </td><td> 6</td></tr>\n",
              "\t<tr><td>God     </td><td>15</td></tr>\n",
              "\t<tr><td>God     </td><td> 4</td></tr>\n",
              "\t<tr><td>Ruaca   </td><td> 6</td></tr>\n",
              "\t<tr><td>Ruaca   </td><td>11</td></tr>\n",
              "\t<tr><td>Ruaca   </td><td> 5</td></tr>\n",
              "\t<tr><td>Ruaca   </td><td> 5</td></tr>\n",
              "\t<tr><td>Ruaca   </td><td> 3</td></tr>\n",
              "\t<tr><td>Ruaca   </td><td> 4</td></tr>\n",
              "\t<tr><td>God     </td><td>15</td></tr>\n",
              "\t<tr><td>Ruaca   </td><td> 5</td></tr>\n",
              "\t<tr><td>Ruaca   </td><td>10</td></tr>\n",
              "\t<tr><td>Ruaca   </td><td> 7</td></tr>\n",
              "\t<tr><td>Ruaca   </td><td>10</td></tr>\n",
              "\t<tr><td>Ruaca   </td><td> 7</td></tr>\n",
              "\t<tr><td>God     </td><td> 4</td></tr>\n",
              "\t<tr><td>God     </td><td> 7</td></tr>\n",
              "\t<tr><td>Ruaca   </td><td> 9</td></tr>\n",
              "\t<tr><td>Ruaca   </td><td>11</td></tr>\n",
              "\t<tr><td>Ruaca   </td><td> 8</td></tr>\n",
              "\t<tr><td>Ruaca   </td><td>12</td></tr>\n",
              "\t<tr><td>Ruaca   </td><td> 7</td></tr>\n",
              "\t<tr><td>Ruaca   </td><td>15</td></tr>\n",
              "\t<tr><td>Ruaca   </td><td>10</td></tr>\n",
              "\t<tr><td>Chirodzo</td><td> 9</td></tr>\n",
              "\t<tr><td>Ruaca   </td><td> 3</td></tr>\n",
              "\t<tr><td>Ruaca   </td><td> 7</td></tr>\n",
              "\t<tr><td>Ruaca   </td><td> 4</td></tr>\n",
              "\t<tr><td>Chirodzo</td><td> 7</td></tr>\n",
              "\t<tr><td>Chirodzo</td><td> 8</td></tr>\n",
              "</tbody>\n",
              "</table>\n"
            ],
            "text/markdown": "\nA tibble: 131 × 2\n\n| village &lt;chr&gt; | no_membrs &lt;dbl&gt; |\n|---|---|\n| God      |  3 |\n| God      |  7 |\n| God      | 10 |\n| God      |  7 |\n| God      |  7 |\n| God      |  3 |\n| God      |  6 |\n| Chirodzo | 12 |\n| Chirodzo |  8 |\n| Chirodzo | 12 |\n| God      |  6 |\n| God      |  7 |\n| God      |  6 |\n| God      | 10 |\n| God      |  5 |\n| God      |  6 |\n| God      |  8 |\n| God      |  4 |\n| God      |  9 |\n| God      |  6 |\n| God      |  8 |\n| God      |  4 |\n| Ruaca    | 10 |\n| Ruaca    |  6 |\n| Ruaca    | 11 |\n| Ruaca    |  3 |\n| Ruaca    |  7 |\n| Ruaca    |  2 |\n| Ruaca    |  7 |\n| Ruaca    |  7 |\n| ⋮ | ⋮ |\n| Ruaca    |  6 |\n| God      | 15 |\n| God      |  4 |\n| Ruaca    |  6 |\n| Ruaca    | 11 |\n| Ruaca    |  5 |\n| Ruaca    |  5 |\n| Ruaca    |  3 |\n| Ruaca    |  4 |\n| God      | 15 |\n| Ruaca    |  5 |\n| Ruaca    | 10 |\n| Ruaca    |  7 |\n| Ruaca    | 10 |\n| Ruaca    |  7 |\n| God      |  4 |\n| God      |  7 |\n| Ruaca    |  9 |\n| Ruaca    | 11 |\n| Ruaca    |  8 |\n| Ruaca    | 12 |\n| Ruaca    |  7 |\n| Ruaca    | 15 |\n| Ruaca    | 10 |\n| Chirodzo |  9 |\n| Ruaca    |  3 |\n| Ruaca    |  7 |\n| Ruaca    |  4 |\n| Chirodzo |  7 |\n| Chirodzo |  8 |\n\n",
            "text/latex": "A tibble: 131 × 2\n\\begin{tabular}{ll}\n village & no\\_membrs\\\\\n <chr> & <dbl>\\\\\n\\hline\n\t God      &  3\\\\\n\t God      &  7\\\\\n\t God      & 10\\\\\n\t God      &  7\\\\\n\t God      &  7\\\\\n\t God      &  3\\\\\n\t God      &  6\\\\\n\t Chirodzo & 12\\\\\n\t Chirodzo &  8\\\\\n\t Chirodzo & 12\\\\\n\t God      &  6\\\\\n\t God      &  7\\\\\n\t God      &  6\\\\\n\t God      & 10\\\\\n\t God      &  5\\\\\n\t God      &  6\\\\\n\t God      &  8\\\\\n\t God      &  4\\\\\n\t God      &  9\\\\\n\t God      &  6\\\\\n\t God      &  8\\\\\n\t God      &  4\\\\\n\t Ruaca    & 10\\\\\n\t Ruaca    &  6\\\\\n\t Ruaca    & 11\\\\\n\t Ruaca    &  3\\\\\n\t Ruaca    &  7\\\\\n\t Ruaca    &  2\\\\\n\t Ruaca    &  7\\\\\n\t Ruaca    &  7\\\\\n\t ⋮ & ⋮\\\\\n\t Ruaca    &  6\\\\\n\t God      & 15\\\\\n\t God      &  4\\\\\n\t Ruaca    &  6\\\\\n\t Ruaca    & 11\\\\\n\t Ruaca    &  5\\\\\n\t Ruaca    &  5\\\\\n\t Ruaca    &  3\\\\\n\t Ruaca    &  4\\\\\n\t God      & 15\\\\\n\t Ruaca    &  5\\\\\n\t Ruaca    & 10\\\\\n\t Ruaca    &  7\\\\\n\t Ruaca    & 10\\\\\n\t Ruaca    &  7\\\\\n\t God      &  4\\\\\n\t God      &  7\\\\\n\t Ruaca    &  9\\\\\n\t Ruaca    & 11\\\\\n\t Ruaca    &  8\\\\\n\t Ruaca    & 12\\\\\n\t Ruaca    &  7\\\\\n\t Ruaca    & 15\\\\\n\t Ruaca    & 10\\\\\n\t Chirodzo &  9\\\\\n\t Ruaca    &  3\\\\\n\t Ruaca    &  7\\\\\n\t Ruaca    &  4\\\\\n\t Chirodzo &  7\\\\\n\t Chirodzo &  8\\\\\n\\end{tabular}\n",
            "text/plain": [
              "    village  no_membrs\n",
              "1   God       3       \n",
              "2   God       7       \n",
              "3   God      10       \n",
              "4   God       7       \n",
              "5   God       7       \n",
              "6   God       3       \n",
              "7   God       6       \n",
              "8   Chirodzo 12       \n",
              "9   Chirodzo  8       \n",
              "10  Chirodzo 12       \n",
              "11  God       6       \n",
              "12  God       7       \n",
              "13  God       6       \n",
              "14  God      10       \n",
              "15  God       5       \n",
              "16  God       6       \n",
              "17  God       8       \n",
              "18  God       4       \n",
              "19  God       9       \n",
              "20  God       6       \n",
              "21  God       8       \n",
              "22  God       4       \n",
              "23  Ruaca    10       \n",
              "24  Ruaca     6       \n",
              "25  Ruaca    11       \n",
              "26  Ruaca     3       \n",
              "27  Ruaca     7       \n",
              "28  Ruaca     2       \n",
              "29  Ruaca     7       \n",
              "30  Ruaca     7       \n",
              "⋮   ⋮        ⋮        \n",
              "102 Ruaca     6       \n",
              "103 God      15       \n",
              "104 God       4       \n",
              "105 Ruaca     6       \n",
              "106 Ruaca    11       \n",
              "107 Ruaca     5       \n",
              "108 Ruaca     5       \n",
              "109 Ruaca     3       \n",
              "110 Ruaca     4       \n",
              "111 God      15       \n",
              "112 Ruaca     5       \n",
              "113 Ruaca    10       \n",
              "114 Ruaca     7       \n",
              "115 Ruaca    10       \n",
              "116 Ruaca     7       \n",
              "117 God       4       \n",
              "118 God       7       \n",
              "119 Ruaca     9       \n",
              "120 Ruaca    11       \n",
              "121 Ruaca     8       \n",
              "122 Ruaca    12       \n",
              "123 Ruaca     7       \n",
              "124 Ruaca    15       \n",
              "125 Ruaca    10       \n",
              "126 Chirodzo  9       \n",
              "127 Ruaca     3       \n",
              "128 Ruaca     7       \n",
              "129 Ruaca     4       \n",
              "130 Chirodzo  7       \n",
              "131 Chirodzo  8       "
            ]
          },
          "metadata": {}
        }
      ]
    },
    {
      "cell_type": "code",
      "source": [
        "#filters observations where village name is \"Chirodzo\"\n",
        "filter(interviews, village == \"Chirodzo\")"
      ],
      "metadata": {
        "colab": {
          "base_uri": "https://localhost:8080/",
          "height": 1000
        },
        "id": "-J0LUIhD7ACR",
        "outputId": "c6831aca-acfa-4c80-f4d1-01cd06a59d2d"
      },
      "execution_count": null,
      "outputs": [
        {
          "output_type": "display_data",
          "data": {
            "text/html": [
              "<table class=\"dataframe\">\n",
              "<caption>A spec_tbl_df: 39 × 14</caption>\n",
              "<thead>\n",
              "\t<tr><th scope=col>key_ID</th><th scope=col>village</th><th scope=col>interview_date</th><th scope=col>no_membrs</th><th scope=col>years_liv</th><th scope=col>respondent_wall_type</th><th scope=col>rooms</th><th scope=col>memb_assoc</th><th scope=col>affect_conflicts</th><th scope=col>liv_count</th><th scope=col>items_owned</th><th scope=col>no_meals</th><th scope=col>months_lack_food</th><th scope=col>instanceID</th></tr>\n",
              "\t<tr><th scope=col>&lt;dbl&gt;</th><th scope=col>&lt;chr&gt;</th><th scope=col>&lt;dttm&gt;</th><th scope=col>&lt;dbl&gt;</th><th scope=col>&lt;dbl&gt;</th><th scope=col>&lt;chr&gt;</th><th scope=col>&lt;dbl&gt;</th><th scope=col>&lt;chr&gt;</th><th scope=col>&lt;chr&gt;</th><th scope=col>&lt;dbl&gt;</th><th scope=col>&lt;chr&gt;</th><th scope=col>&lt;dbl&gt;</th><th scope=col>&lt;chr&gt;</th><th scope=col>&lt;chr&gt;</th></tr>\n",
              "</thead>\n",
              "<tbody>\n",
              "\t<tr><td>  8</td><td>Chirodzo</td><td>2016-11-16</td><td>12</td><td>70</td><td>burntbricks</td><td>3</td><td>yes</td><td>never     </td><td>2</td><td>motorcyle;bicycle;television;radio;cow_plough;solar_panel;solar_torch;table;fridge                                   </td><td>2</td><td>Jan                           </td><td>uuid:d6cee930-7be1-4fd9-88c0-82a08f90fb5a</td></tr>\n",
              "\t<tr><td>  9</td><td>Chirodzo</td><td>2016-11-16</td><td> 8</td><td> 6</td><td>burntbricks</td><td>1</td><td>no </td><td>never     </td><td>3</td><td>television;solar_panel;solar_torch                                                                                   </td><td>3</td><td>Jan;Dec                       </td><td>uuid:846103d2-b1db-4055-b502-9cd510bb7b37</td></tr>\n",
              "\t<tr><td> 10</td><td>Chirodzo</td><td>2016-12-16</td><td>12</td><td>23</td><td>burntbricks</td><td>5</td><td>no </td><td>never     </td><td>2</td><td>cow_cart;motorcyle;bicycle;television;radio;cow_plough;solar_panel;solar_torch;table                                 </td><td>3</td><td>Jan;Oct;Nov;Dec               </td><td>uuid:8f4e49bc-da81-4356-ae34-e0d794a23721</td></tr>\n",
              "\t<tr><td> 34</td><td>Chirodzo</td><td>2016-11-17</td><td> 8</td><td>18</td><td>burntbricks</td><td>3</td><td>yes</td><td>more_once </td><td>3</td><td>television;radio;cow_plough;solar_panel;solar_torch;table;mobile_phone                                               </td><td>2</td><td>Jan;Dec                       </td><td>uuid:14c78c45-a7cc-4b2a-b765-17c82b43feb4</td></tr>\n",
              "\t<tr><td> 35</td><td>Chirodzo</td><td>2016-11-17</td><td> 5</td><td>45</td><td>muddaub    </td><td>1</td><td>yes</td><td>more_once </td><td>2</td><td>bicycle;cow_plough                                                                                                   </td><td>3</td><td>Jan;Sept;Oct;Nov;Dec          </td><td>uuid:ff7496e7-984a-47d3-a8a1-13618b5683ce</td></tr>\n",
              "\t<tr><td> 36</td><td>Chirodzo</td><td>2016-11-17</td><td> 6</td><td>23</td><td>sunbricks  </td><td>1</td><td>yes</td><td>once      </td><td>3</td><td>cow_cart;bicycle;radio;cow_plough;solar_panel;mobile_phone                                                           </td><td>3</td><td>none                          </td><td>uuid:c90eade0-1148-4a12-8c0e-6387a36f45b1</td></tr>\n",
              "\t<tr><td> 37</td><td>Chirodzo</td><td>2016-11-17</td><td> 3</td><td> 8</td><td>burntbricks</td><td>1</td><td>NA </td><td>NA        </td><td>2</td><td>bicycle;television;radio;cow_plough;solar_panel;solar_torch;mobile_phone                                             </td><td>3</td><td>Jan;Nov;Dec                   </td><td>uuid:408c6c93-d723-45ef-8dee-1b1bd3fe20cd</td></tr>\n",
              "\t<tr><td> 43</td><td>Chirodzo</td><td>2016-11-17</td><td> 7</td><td>29</td><td>muddaub    </td><td>1</td><td>no </td><td>never     </td><td>2</td><td>cow_plough;mobile_phone                                                                                              </td><td>2</td><td>Jan;Feb;Oct;Nov;Dec           </td><td>uuid:b4dff49f-ef27-40e5-a9d1-acf287b47358</td></tr>\n",
              "\t<tr><td> 44</td><td>Chirodzo</td><td>2016-11-17</td><td> 2</td><td> 6</td><td>muddaub    </td><td>1</td><td>NA </td><td>NA        </td><td>3</td><td>radio;solar_torch                                                                                                    </td><td>2</td><td>Jan;Dec                       </td><td>uuid:f9fadf44-d040-4fca-86c1-2835f79c4952</td></tr>\n",
              "\t<tr><td> 45</td><td>Chirodzo</td><td>2016-11-17</td><td> 9</td><td> 7</td><td>muddaub    </td><td>1</td><td>no </td><td>never     </td><td>4</td><td>motorcyle;bicycle;television;radio;cow_plough;solar_panel;solar_torch;table;mobile_phone                             </td><td>3</td><td>none                          </td><td>uuid:e3554d22-35b1-4fb9-b386-dd5866ad5792</td></tr>\n",
              "\t<tr><td> 46</td><td>Chirodzo</td><td>2016-11-17</td><td>10</td><td>42</td><td>burntbricks</td><td>2</td><td>no </td><td>once      </td><td>2</td><td>motorcyle;computer;television;sterio;solar_panel;solar_torch;table;mobile_phone                                      </td><td>2</td><td>Sept;Oct;Nov                  </td><td>uuid:35f297e0-aa5d-4149-9b7b-4965004cfc37</td></tr>\n",
              "\t<tr><td> 47</td><td>Chirodzo</td><td>2016-11-17</td><td> 2</td><td> 2</td><td>muddaub    </td><td>1</td><td>yes</td><td>once      </td><td>1</td><td>solar_torch;mobile_phone                                                                                             </td><td>3</td><td>none                          </td><td>uuid:2d0b1936-4f82-4ec3-a3b5-7c3c8cd6cc2b</td></tr>\n",
              "\t<tr><td> 48</td><td>Chirodzo</td><td>2016-11-16</td><td> 7</td><td>58</td><td>muddaub    </td><td>1</td><td>NA </td><td>NA        </td><td>3</td><td>radio                                                                                                                </td><td>3</td><td>June;July;Aug;Sept;Oct;Nov    </td><td>uuid:e180899c-7614-49eb-a97c-40ed013a38a2</td></tr>\n",
              "\t<tr><td> 49</td><td>Chirodzo</td><td>2016-11-16</td><td> 6</td><td>26</td><td>burntbricks</td><td>2</td><td>NA </td><td>NA        </td><td>2</td><td>bicycle;radio;cow_plough;solar_panel;solar_torch;table;mobile_phone                                                  </td><td>3</td><td>Jan;Nov;Dec                   </td><td>uuid:2303ebc1-2b3c-475a-8916-b322ebf18440</td></tr>\n",
              "\t<tr><td> 50</td><td>Chirodzo</td><td>2016-11-16</td><td> 6</td><td> 7</td><td>muddaub    </td><td>1</td><td>yes</td><td>never     </td><td>1</td><td>solar_torch                                                                                                          </td><td>2</td><td>June;July;Aug;Sept;Oct;Nov;Dec</td><td>uuid:4267c33c-53a7-46d9-8bd6-b96f58a4f92c</td></tr>\n",
              "\t<tr><td> 51</td><td>Chirodzo</td><td>2016-11-16</td><td> 5</td><td>30</td><td>muddaub    </td><td>1</td><td>NA </td><td>NA        </td><td>1</td><td>radio                                                                                                                </td><td>3</td><td>Oct;Nov                       </td><td>uuid:18ac8e77-bdaf-47ab-85a2-e4c947c9d3ce</td></tr>\n",
              "\t<tr><td> 52</td><td>Chirodzo</td><td>2016-11-16</td><td>11</td><td>15</td><td>burntbricks</td><td>3</td><td>no </td><td>never     </td><td>3</td><td>motorcyle;television;radio;cow_plough;solar_panel;mobile_phone                                                       </td><td>3</td><td>Aug;Sept;Oct;Nov              </td><td>uuid:6db55cb4-a853-4000-9555-757b7fae2bcf</td></tr>\n",
              "\t<tr><td> 21</td><td>Chirodzo</td><td>2016-11-16</td><td> 8</td><td>16</td><td>burntbricks</td><td>3</td><td>yes</td><td>frequently</td><td>2</td><td>bicycle;radio;mobile_phone                                                                                           </td><td>2</td><td>Nov                           </td><td>uuid:cc7f75c5-d13e-43f3-97e5-4f4c03cb4b12</td></tr>\n",
              "\t<tr><td> 54</td><td>Chirodzo</td><td>2016-11-16</td><td> 7</td><td>15</td><td>muddaub    </td><td>1</td><td>no </td><td>never     </td><td>1</td><td>NA                                                                                                                   </td><td>2</td><td>Sept;Oct;Nov                  </td><td>uuid:273ab27f-9be3-4f3b-83c9-d3e1592de919</td></tr>\n",
              "\t<tr><td> 55</td><td>Chirodzo</td><td>2016-11-16</td><td> 9</td><td>23</td><td>muddaub    </td><td>2</td><td>NA </td><td>NA        </td><td>1</td><td>television;cow_plough;mobile_phone                                                                                   </td><td>2</td><td>Oct;Nov                       </td><td>uuid:883c0433-9891-4121-bc63-744f082c1fa0</td></tr>\n",
              "\t<tr><td> 56</td><td>Chirodzo</td><td>2016-11-16</td><td>12</td><td>23</td><td>burntbricks</td><td>2</td><td>yes</td><td>never     </td><td>2</td><td>motorcyle;bicycle;mobile_phone                                                                                       </td><td>3</td><td>none                          </td><td>uuid:973c4ac6-f887-48e7-aeaf-4476f2cfab76</td></tr>\n",
              "\t<tr><td> 57</td><td>Chirodzo</td><td>2016-11-16</td><td> 4</td><td>27</td><td>burntbricks</td><td>1</td><td>no </td><td>never     </td><td>1</td><td>radio                                                                                                                </td><td>2</td><td>none                          </td><td>uuid:a7184e55-0615-492d-9835-8f44f3b03a71</td></tr>\n",
              "\t<tr><td> 58</td><td>Chirodzo</td><td>2016-11-16</td><td>11</td><td>45</td><td>burntbricks</td><td>3</td><td>no </td><td>never     </td><td>3</td><td>motorcyle;bicycle;television;radio;cow_plough;solar_panel;mobile_phone                                               </td><td>2</td><td>none                          </td><td>uuid:a7a3451f-cd0d-4027-82d9-8dcd1234fcca</td></tr>\n",
              "\t<tr><td> 59</td><td>Chirodzo</td><td>2016-11-16</td><td> 2</td><td>60</td><td>muddaub    </td><td>3</td><td>NA </td><td>NA        </td><td>3</td><td>NA                                                                                                                   </td><td>2</td><td>none                          </td><td>uuid:1936db62-5732-45dc-98ff-9b3ac7a22518</td></tr>\n",
              "\t<tr><td> 60</td><td>Chirodzo</td><td>2016-11-16</td><td> 8</td><td>15</td><td>burntbricks</td><td>2</td><td>no </td><td>never     </td><td>4</td><td>cow_plough                                                                                                           </td><td>2</td><td>none                          </td><td>uuid:85465caf-23e4-4283-bb72-a0ef30e30176</td></tr>\n",
              "\t<tr><td> 61</td><td>Chirodzo</td><td>2016-11-16</td><td>10</td><td>14</td><td>muddaub    </td><td>1</td><td>yes</td><td>more_once </td><td>3</td><td>cow_cart;motorcyle;bicycle;television;radio;cow_plough;solar_panel;table;mobile_phone                                </td><td>3</td><td>Jan;Feb;Dec                   </td><td>uuid:2401cf50-8859-44d9-bd14-1bf9128766f2</td></tr>\n",
              "\t<tr><td> 62</td><td>Chirodzo</td><td>2016-11-16</td><td> 5</td><td> 5</td><td>muddaub    </td><td>1</td><td>NA </td><td>NA        </td><td>1</td><td>bicycle;radio;mobile_phone                                                                                           </td><td>3</td><td>Aug;Sept;Oct;Nov              </td><td>uuid:c6597ecc-cc2a-4c35-a6dc-e62c71b345d6</td></tr>\n",
              "\t<tr><td> 63</td><td>Chirodzo</td><td>2016-11-16</td><td> 4</td><td>10</td><td>muddaub    </td><td>1</td><td>NA </td><td>NA        </td><td>1</td><td>NA                                                                                                                   </td><td>3</td><td>Jan;Oct;Nov;Dec               </td><td>uuid:86ed4328-7688-462f-aac7-d6518414526a</td></tr>\n",
              "\t<tr><td> 64</td><td>Chirodzo</td><td>2016-11-16</td><td> 6</td><td> 1</td><td>muddaub    </td><td>1</td><td>NA </td><td>NA        </td><td>1</td><td>bicycle;solar_torch;table;sofa_set;mobile_phone                                                                      </td><td>3</td><td>Jan;Feb;Dec                   </td><td>uuid:28cfd718-bf62-4d90-8100-55fafbe45d06</td></tr>\n",
              "\t<tr><td> 65</td><td>Chirodzo</td><td>2016-11-16</td><td> 8</td><td>20</td><td>burntbricks</td><td>3</td><td>no </td><td>once      </td><td>3</td><td>motorcyle;radio;cow_plough;table                                                                                     </td><td>3</td><td>Jan;Feb;Mar                   </td><td>uuid:143f7478-0126-4fbc-86e0-5d324339206b</td></tr>\n",
              "\t<tr><td> 66</td><td>Chirodzo</td><td>2016-11-16</td><td>10</td><td>37</td><td>burntbricks</td><td>3</td><td>yes</td><td>frequently</td><td>4</td><td>cow_cart;motorcyle;bicycle;television;radio;cow_plough;solar_panel;solar_torch;mobile_phone                          </td><td>3</td><td>none                          </td><td>uuid:a457eab8-971b-4417-a971-2e55b8702816</td></tr>\n",
              "\t<tr><td> 67</td><td>Chirodzo</td><td>2016-11-16</td><td> 5</td><td>31</td><td>burntbricks</td><td>2</td><td>no </td><td>more_once </td><td>4</td><td>motorcyle;radio;cow_plough;solar_panel;mobile_phone                                                                  </td><td>3</td><td>none                          </td><td>uuid:6c15d667-2860-47e3-a5e7-7f679271e419</td></tr>\n",
              "\t<tr><td> 68</td><td>Chirodzo</td><td>2016-11-16</td><td> 8</td><td>52</td><td>burntbricks</td><td>3</td><td>no </td><td>more_once </td><td>3</td><td>motorcyle;television;sterio;solar_panel;mobile_phone                                                                 </td><td>3</td><td>none                          </td><td>uuid:ef04b3eb-b47d-412e-9b09-4f5e08fc66f9</td></tr>\n",
              "\t<tr><td> 69</td><td>Chirodzo</td><td>2016-11-16</td><td> 4</td><td>12</td><td>muddaub    </td><td>1</td><td>no </td><td>more_once </td><td>1</td><td>bicycle;radio;solar_torch;mobile_phone                                                                               </td><td>3</td><td>none                          </td><td>uuid:f86933a5-12b8-4427-b821-43c5b039401d</td></tr>\n",
              "\t<tr><td> 70</td><td>Chirodzo</td><td>2016-11-16</td><td> 8</td><td>25</td><td>burntbricks</td><td>2</td><td>no </td><td>more_once </td><td>4</td><td>cow_cart;bicycle;radio;cow_plough;solar_panel;mobile_phone                                                           </td><td>2</td><td>none                          </td><td>uuid:1feb0108-4599-4bf9-8a07-1f5e66a50a0a</td></tr>\n",
              "\t<tr><td>127</td><td>Chirodzo</td><td>2016-11-16</td><td> 4</td><td>18</td><td>burntbricks</td><td>8</td><td>NA </td><td>NA        </td><td>1</td><td>mobile_phone                                                                                                         </td><td>2</td><td>Aug;Sept;Oct                  </td><td>uuid:f6d04b41-b539-4e00-868a-0f62b427587d</td></tr>\n",
              "\t<tr><td>192</td><td>Chirodzo</td><td>2017-06-03</td><td> 9</td><td>20</td><td>burntbricks</td><td>1</td><td>no </td><td>once      </td><td>1</td><td>bicycle;television;radio;sterio;solar_panel;solar_torch;table;mobile_phone                                           </td><td>3</td><td>Jan;Nov;Dec                   </td><td>uuid:f94409a6-e461-4e4c-a6fb-0072d3d58b00</td></tr>\n",
              "\t<tr><td>199</td><td>Chirodzo</td><td>2017-06-04</td><td> 7</td><td>17</td><td>burntbricks</td><td>2</td><td>yes</td><td>more_once </td><td>2</td><td>cow_cart;lorry;motorcyle;computer;television;radio;sterio;cow_plough;solar_panel;solar_torch;electricity;mobile_phone</td><td>3</td><td>Nov;Dec                       </td><td>uuid:ffc83162-ff24-4a87-8709-eff17abc0b3b</td></tr>\n",
              "\t<tr><td>200</td><td>Chirodzo</td><td>2017-06-04</td><td> 8</td><td>20</td><td>burntbricks</td><td>2</td><td>NA </td><td>NA        </td><td>3</td><td>radio;cow_plough;solar_panel;solar_torch;table;mobile_phone                                                          </td><td>3</td><td>Oct;Nov                       </td><td>uuid:aa77a0d7-7142-41c8-b494-483a5b68d8a7</td></tr>\n",
              "</tbody>\n",
              "</table>\n"
            ],
            "text/markdown": "\nA spec_tbl_df: 39 × 14\n\n| key_ID &lt;dbl&gt; | village &lt;chr&gt; | interview_date &lt;dttm&gt; | no_membrs &lt;dbl&gt; | years_liv &lt;dbl&gt; | respondent_wall_type &lt;chr&gt; | rooms &lt;dbl&gt; | memb_assoc &lt;chr&gt; | affect_conflicts &lt;chr&gt; | liv_count &lt;dbl&gt; | items_owned &lt;chr&gt; | no_meals &lt;dbl&gt; | months_lack_food &lt;chr&gt; | instanceID &lt;chr&gt; |\n|---|---|---|---|---|---|---|---|---|---|---|---|---|---|\n|   8 | Chirodzo | 2016-11-16 | 12 | 70 | burntbricks | 3 | yes | never      | 2 | motorcyle;bicycle;television;radio;cow_plough;solar_panel;solar_torch;table;fridge                                    | 2 | Jan                            | uuid:d6cee930-7be1-4fd9-88c0-82a08f90fb5a |\n|   9 | Chirodzo | 2016-11-16 |  8 |  6 | burntbricks | 1 | no  | never      | 3 | television;solar_panel;solar_torch                                                                                    | 3 | Jan;Dec                        | uuid:846103d2-b1db-4055-b502-9cd510bb7b37 |\n|  10 | Chirodzo | 2016-12-16 | 12 | 23 | burntbricks | 5 | no  | never      | 2 | cow_cart;motorcyle;bicycle;television;radio;cow_plough;solar_panel;solar_torch;table                                  | 3 | Jan;Oct;Nov;Dec                | uuid:8f4e49bc-da81-4356-ae34-e0d794a23721 |\n|  34 | Chirodzo | 2016-11-17 |  8 | 18 | burntbricks | 3 | yes | more_once  | 3 | television;radio;cow_plough;solar_panel;solar_torch;table;mobile_phone                                                | 2 | Jan;Dec                        | uuid:14c78c45-a7cc-4b2a-b765-17c82b43feb4 |\n|  35 | Chirodzo | 2016-11-17 |  5 | 45 | muddaub     | 1 | yes | more_once  | 2 | bicycle;cow_plough                                                                                                    | 3 | Jan;Sept;Oct;Nov;Dec           | uuid:ff7496e7-984a-47d3-a8a1-13618b5683ce |\n|  36 | Chirodzo | 2016-11-17 |  6 | 23 | sunbricks   | 1 | yes | once       | 3 | cow_cart;bicycle;radio;cow_plough;solar_panel;mobile_phone                                                            | 3 | none                           | uuid:c90eade0-1148-4a12-8c0e-6387a36f45b1 |\n|  37 | Chirodzo | 2016-11-17 |  3 |  8 | burntbricks | 1 | NA  | NA         | 2 | bicycle;television;radio;cow_plough;solar_panel;solar_torch;mobile_phone                                              | 3 | Jan;Nov;Dec                    | uuid:408c6c93-d723-45ef-8dee-1b1bd3fe20cd |\n|  43 | Chirodzo | 2016-11-17 |  7 | 29 | muddaub     | 1 | no  | never      | 2 | cow_plough;mobile_phone                                                                                               | 2 | Jan;Feb;Oct;Nov;Dec            | uuid:b4dff49f-ef27-40e5-a9d1-acf287b47358 |\n|  44 | Chirodzo | 2016-11-17 |  2 |  6 | muddaub     | 1 | NA  | NA         | 3 | radio;solar_torch                                                                                                     | 2 | Jan;Dec                        | uuid:f9fadf44-d040-4fca-86c1-2835f79c4952 |\n|  45 | Chirodzo | 2016-11-17 |  9 |  7 | muddaub     | 1 | no  | never      | 4 | motorcyle;bicycle;television;radio;cow_plough;solar_panel;solar_torch;table;mobile_phone                              | 3 | none                           | uuid:e3554d22-35b1-4fb9-b386-dd5866ad5792 |\n|  46 | Chirodzo | 2016-11-17 | 10 | 42 | burntbricks | 2 | no  | once       | 2 | motorcyle;computer;television;sterio;solar_panel;solar_torch;table;mobile_phone                                       | 2 | Sept;Oct;Nov                   | uuid:35f297e0-aa5d-4149-9b7b-4965004cfc37 |\n|  47 | Chirodzo | 2016-11-17 |  2 |  2 | muddaub     | 1 | yes | once       | 1 | solar_torch;mobile_phone                                                                                              | 3 | none                           | uuid:2d0b1936-4f82-4ec3-a3b5-7c3c8cd6cc2b |\n|  48 | Chirodzo | 2016-11-16 |  7 | 58 | muddaub     | 1 | NA  | NA         | 3 | radio                                                                                                                 | 3 | June;July;Aug;Sept;Oct;Nov     | uuid:e180899c-7614-49eb-a97c-40ed013a38a2 |\n|  49 | Chirodzo | 2016-11-16 |  6 | 26 | burntbricks | 2 | NA  | NA         | 2 | bicycle;radio;cow_plough;solar_panel;solar_torch;table;mobile_phone                                                   | 3 | Jan;Nov;Dec                    | uuid:2303ebc1-2b3c-475a-8916-b322ebf18440 |\n|  50 | Chirodzo | 2016-11-16 |  6 |  7 | muddaub     | 1 | yes | never      | 1 | solar_torch                                                                                                           | 2 | June;July;Aug;Sept;Oct;Nov;Dec | uuid:4267c33c-53a7-46d9-8bd6-b96f58a4f92c |\n|  51 | Chirodzo | 2016-11-16 |  5 | 30 | muddaub     | 1 | NA  | NA         | 1 | radio                                                                                                                 | 3 | Oct;Nov                        | uuid:18ac8e77-bdaf-47ab-85a2-e4c947c9d3ce |\n|  52 | Chirodzo | 2016-11-16 | 11 | 15 | burntbricks | 3 | no  | never      | 3 | motorcyle;television;radio;cow_plough;solar_panel;mobile_phone                                                        | 3 | Aug;Sept;Oct;Nov               | uuid:6db55cb4-a853-4000-9555-757b7fae2bcf |\n|  21 | Chirodzo | 2016-11-16 |  8 | 16 | burntbricks | 3 | yes | frequently | 2 | bicycle;radio;mobile_phone                                                                                            | 2 | Nov                            | uuid:cc7f75c5-d13e-43f3-97e5-4f4c03cb4b12 |\n|  54 | Chirodzo | 2016-11-16 |  7 | 15 | muddaub     | 1 | no  | never      | 1 | NA                                                                                                                    | 2 | Sept;Oct;Nov                   | uuid:273ab27f-9be3-4f3b-83c9-d3e1592de919 |\n|  55 | Chirodzo | 2016-11-16 |  9 | 23 | muddaub     | 2 | NA  | NA         | 1 | television;cow_plough;mobile_phone                                                                                    | 2 | Oct;Nov                        | uuid:883c0433-9891-4121-bc63-744f082c1fa0 |\n|  56 | Chirodzo | 2016-11-16 | 12 | 23 | burntbricks | 2 | yes | never      | 2 | motorcyle;bicycle;mobile_phone                                                                                        | 3 | none                           | uuid:973c4ac6-f887-48e7-aeaf-4476f2cfab76 |\n|  57 | Chirodzo | 2016-11-16 |  4 | 27 | burntbricks | 1 | no  | never      | 1 | radio                                                                                                                 | 2 | none                           | uuid:a7184e55-0615-492d-9835-8f44f3b03a71 |\n|  58 | Chirodzo | 2016-11-16 | 11 | 45 | burntbricks | 3 | no  | never      | 3 | motorcyle;bicycle;television;radio;cow_plough;solar_panel;mobile_phone                                                | 2 | none                           | uuid:a7a3451f-cd0d-4027-82d9-8dcd1234fcca |\n|  59 | Chirodzo | 2016-11-16 |  2 | 60 | muddaub     | 3 | NA  | NA         | 3 | NA                                                                                                                    | 2 | none                           | uuid:1936db62-5732-45dc-98ff-9b3ac7a22518 |\n|  60 | Chirodzo | 2016-11-16 |  8 | 15 | burntbricks | 2 | no  | never      | 4 | cow_plough                                                                                                            | 2 | none                           | uuid:85465caf-23e4-4283-bb72-a0ef30e30176 |\n|  61 | Chirodzo | 2016-11-16 | 10 | 14 | muddaub     | 1 | yes | more_once  | 3 | cow_cart;motorcyle;bicycle;television;radio;cow_plough;solar_panel;table;mobile_phone                                 | 3 | Jan;Feb;Dec                    | uuid:2401cf50-8859-44d9-bd14-1bf9128766f2 |\n|  62 | Chirodzo | 2016-11-16 |  5 |  5 | muddaub     | 1 | NA  | NA         | 1 | bicycle;radio;mobile_phone                                                                                            | 3 | Aug;Sept;Oct;Nov               | uuid:c6597ecc-cc2a-4c35-a6dc-e62c71b345d6 |\n|  63 | Chirodzo | 2016-11-16 |  4 | 10 | muddaub     | 1 | NA  | NA         | 1 | NA                                                                                                                    | 3 | Jan;Oct;Nov;Dec                | uuid:86ed4328-7688-462f-aac7-d6518414526a |\n|  64 | Chirodzo | 2016-11-16 |  6 |  1 | muddaub     | 1 | NA  | NA         | 1 | bicycle;solar_torch;table;sofa_set;mobile_phone                                                                       | 3 | Jan;Feb;Dec                    | uuid:28cfd718-bf62-4d90-8100-55fafbe45d06 |\n|  65 | Chirodzo | 2016-11-16 |  8 | 20 | burntbricks | 3 | no  | once       | 3 | motorcyle;radio;cow_plough;table                                                                                      | 3 | Jan;Feb;Mar                    | uuid:143f7478-0126-4fbc-86e0-5d324339206b |\n|  66 | Chirodzo | 2016-11-16 | 10 | 37 | burntbricks | 3 | yes | frequently | 4 | cow_cart;motorcyle;bicycle;television;radio;cow_plough;solar_panel;solar_torch;mobile_phone                           | 3 | none                           | uuid:a457eab8-971b-4417-a971-2e55b8702816 |\n|  67 | Chirodzo | 2016-11-16 |  5 | 31 | burntbricks | 2 | no  | more_once  | 4 | motorcyle;radio;cow_plough;solar_panel;mobile_phone                                                                   | 3 | none                           | uuid:6c15d667-2860-47e3-a5e7-7f679271e419 |\n|  68 | Chirodzo | 2016-11-16 |  8 | 52 | burntbricks | 3 | no  | more_once  | 3 | motorcyle;television;sterio;solar_panel;mobile_phone                                                                  | 3 | none                           | uuid:ef04b3eb-b47d-412e-9b09-4f5e08fc66f9 |\n|  69 | Chirodzo | 2016-11-16 |  4 | 12 | muddaub     | 1 | no  | more_once  | 1 | bicycle;radio;solar_torch;mobile_phone                                                                                | 3 | none                           | uuid:f86933a5-12b8-4427-b821-43c5b039401d |\n|  70 | Chirodzo | 2016-11-16 |  8 | 25 | burntbricks | 2 | no  | more_once  | 4 | cow_cart;bicycle;radio;cow_plough;solar_panel;mobile_phone                                                            | 2 | none                           | uuid:1feb0108-4599-4bf9-8a07-1f5e66a50a0a |\n| 127 | Chirodzo | 2016-11-16 |  4 | 18 | burntbricks | 8 | NA  | NA         | 1 | mobile_phone                                                                                                          | 2 | Aug;Sept;Oct                   | uuid:f6d04b41-b539-4e00-868a-0f62b427587d |\n| 192 | Chirodzo | 2017-06-03 |  9 | 20 | burntbricks | 1 | no  | once       | 1 | bicycle;television;radio;sterio;solar_panel;solar_torch;table;mobile_phone                                            | 3 | Jan;Nov;Dec                    | uuid:f94409a6-e461-4e4c-a6fb-0072d3d58b00 |\n| 199 | Chirodzo | 2017-06-04 |  7 | 17 | burntbricks | 2 | yes | more_once  | 2 | cow_cart;lorry;motorcyle;computer;television;radio;sterio;cow_plough;solar_panel;solar_torch;electricity;mobile_phone | 3 | Nov;Dec                        | uuid:ffc83162-ff24-4a87-8709-eff17abc0b3b |\n| 200 | Chirodzo | 2017-06-04 |  8 | 20 | burntbricks | 2 | NA  | NA         | 3 | radio;cow_plough;solar_panel;solar_torch;table;mobile_phone                                                           | 3 | Oct;Nov                        | uuid:aa77a0d7-7142-41c8-b494-483a5b68d8a7 |\n\n",
            "text/latex": "A spec\\_tbl\\_df: 39 × 14\n\\begin{tabular}{llllllllllllll}\n key\\_ID & village & interview\\_date & no\\_membrs & years\\_liv & respondent\\_wall\\_type & rooms & memb\\_assoc & affect\\_conflicts & liv\\_count & items\\_owned & no\\_meals & months\\_lack\\_food & instanceID\\\\\n <dbl> & <chr> & <dttm> & <dbl> & <dbl> & <chr> & <dbl> & <chr> & <chr> & <dbl> & <chr> & <dbl> & <chr> & <chr>\\\\\n\\hline\n\t   8 & Chirodzo & 2016-11-16 & 12 & 70 & burntbricks & 3 & yes & never      & 2 & motorcyle;bicycle;television;radio;cow\\_plough;solar\\_panel;solar\\_torch;table;fridge                                    & 2 & Jan                            & uuid:d6cee930-7be1-4fd9-88c0-82a08f90fb5a\\\\\n\t   9 & Chirodzo & 2016-11-16 &  8 &  6 & burntbricks & 1 & no  & never      & 3 & television;solar\\_panel;solar\\_torch                                                                                    & 3 & Jan;Dec                        & uuid:846103d2-b1db-4055-b502-9cd510bb7b37\\\\\n\t  10 & Chirodzo & 2016-12-16 & 12 & 23 & burntbricks & 5 & no  & never      & 2 & cow\\_cart;motorcyle;bicycle;television;radio;cow\\_plough;solar\\_panel;solar\\_torch;table                                  & 3 & Jan;Oct;Nov;Dec                & uuid:8f4e49bc-da81-4356-ae34-e0d794a23721\\\\\n\t  34 & Chirodzo & 2016-11-17 &  8 & 18 & burntbricks & 3 & yes & more\\_once  & 3 & television;radio;cow\\_plough;solar\\_panel;solar\\_torch;table;mobile\\_phone                                                & 2 & Jan;Dec                        & uuid:14c78c45-a7cc-4b2a-b765-17c82b43feb4\\\\\n\t  35 & Chirodzo & 2016-11-17 &  5 & 45 & muddaub     & 1 & yes & more\\_once  & 2 & bicycle;cow\\_plough                                                                                                    & 3 & Jan;Sept;Oct;Nov;Dec           & uuid:ff7496e7-984a-47d3-a8a1-13618b5683ce\\\\\n\t  36 & Chirodzo & 2016-11-17 &  6 & 23 & sunbricks   & 1 & yes & once       & 3 & cow\\_cart;bicycle;radio;cow\\_plough;solar\\_panel;mobile\\_phone                                                            & 3 & none                           & uuid:c90eade0-1148-4a12-8c0e-6387a36f45b1\\\\\n\t  37 & Chirodzo & 2016-11-17 &  3 &  8 & burntbricks & 1 & NA  & NA         & 2 & bicycle;television;radio;cow\\_plough;solar\\_panel;solar\\_torch;mobile\\_phone                                              & 3 & Jan;Nov;Dec                    & uuid:408c6c93-d723-45ef-8dee-1b1bd3fe20cd\\\\\n\t  43 & Chirodzo & 2016-11-17 &  7 & 29 & muddaub     & 1 & no  & never      & 2 & cow\\_plough;mobile\\_phone                                                                                               & 2 & Jan;Feb;Oct;Nov;Dec            & uuid:b4dff49f-ef27-40e5-a9d1-acf287b47358\\\\\n\t  44 & Chirodzo & 2016-11-17 &  2 &  6 & muddaub     & 1 & NA  & NA         & 3 & radio;solar\\_torch                                                                                                     & 2 & Jan;Dec                        & uuid:f9fadf44-d040-4fca-86c1-2835f79c4952\\\\\n\t  45 & Chirodzo & 2016-11-17 &  9 &  7 & muddaub     & 1 & no  & never      & 4 & motorcyle;bicycle;television;radio;cow\\_plough;solar\\_panel;solar\\_torch;table;mobile\\_phone                              & 3 & none                           & uuid:e3554d22-35b1-4fb9-b386-dd5866ad5792\\\\\n\t  46 & Chirodzo & 2016-11-17 & 10 & 42 & burntbricks & 2 & no  & once       & 2 & motorcyle;computer;television;sterio;solar\\_panel;solar\\_torch;table;mobile\\_phone                                       & 2 & Sept;Oct;Nov                   & uuid:35f297e0-aa5d-4149-9b7b-4965004cfc37\\\\\n\t  47 & Chirodzo & 2016-11-17 &  2 &  2 & muddaub     & 1 & yes & once       & 1 & solar\\_torch;mobile\\_phone                                                                                              & 3 & none                           & uuid:2d0b1936-4f82-4ec3-a3b5-7c3c8cd6cc2b\\\\\n\t  48 & Chirodzo & 2016-11-16 &  7 & 58 & muddaub     & 1 & NA  & NA         & 3 & radio                                                                                                                 & 3 & June;July;Aug;Sept;Oct;Nov     & uuid:e180899c-7614-49eb-a97c-40ed013a38a2\\\\\n\t  49 & Chirodzo & 2016-11-16 &  6 & 26 & burntbricks & 2 & NA  & NA         & 2 & bicycle;radio;cow\\_plough;solar\\_panel;solar\\_torch;table;mobile\\_phone                                                   & 3 & Jan;Nov;Dec                    & uuid:2303ebc1-2b3c-475a-8916-b322ebf18440\\\\\n\t  50 & Chirodzo & 2016-11-16 &  6 &  7 & muddaub     & 1 & yes & never      & 1 & solar\\_torch                                                                                                           & 2 & June;July;Aug;Sept;Oct;Nov;Dec & uuid:4267c33c-53a7-46d9-8bd6-b96f58a4f92c\\\\\n\t  51 & Chirodzo & 2016-11-16 &  5 & 30 & muddaub     & 1 & NA  & NA         & 1 & radio                                                                                                                 & 3 & Oct;Nov                        & uuid:18ac8e77-bdaf-47ab-85a2-e4c947c9d3ce\\\\\n\t  52 & Chirodzo & 2016-11-16 & 11 & 15 & burntbricks & 3 & no  & never      & 3 & motorcyle;television;radio;cow\\_plough;solar\\_panel;mobile\\_phone                                                        & 3 & Aug;Sept;Oct;Nov               & uuid:6db55cb4-a853-4000-9555-757b7fae2bcf\\\\\n\t  21 & Chirodzo & 2016-11-16 &  8 & 16 & burntbricks & 3 & yes & frequently & 2 & bicycle;radio;mobile\\_phone                                                                                            & 2 & Nov                            & uuid:cc7f75c5-d13e-43f3-97e5-4f4c03cb4b12\\\\\n\t  54 & Chirodzo & 2016-11-16 &  7 & 15 & muddaub     & 1 & no  & never      & 1 & NA                                                                                                                    & 2 & Sept;Oct;Nov                   & uuid:273ab27f-9be3-4f3b-83c9-d3e1592de919\\\\\n\t  55 & Chirodzo & 2016-11-16 &  9 & 23 & muddaub     & 2 & NA  & NA         & 1 & television;cow\\_plough;mobile\\_phone                                                                                    & 2 & Oct;Nov                        & uuid:883c0433-9891-4121-bc63-744f082c1fa0\\\\\n\t  56 & Chirodzo & 2016-11-16 & 12 & 23 & burntbricks & 2 & yes & never      & 2 & motorcyle;bicycle;mobile\\_phone                                                                                        & 3 & none                           & uuid:973c4ac6-f887-48e7-aeaf-4476f2cfab76\\\\\n\t  57 & Chirodzo & 2016-11-16 &  4 & 27 & burntbricks & 1 & no  & never      & 1 & radio                                                                                                                 & 2 & none                           & uuid:a7184e55-0615-492d-9835-8f44f3b03a71\\\\\n\t  58 & Chirodzo & 2016-11-16 & 11 & 45 & burntbricks & 3 & no  & never      & 3 & motorcyle;bicycle;television;radio;cow\\_plough;solar\\_panel;mobile\\_phone                                                & 2 & none                           & uuid:a7a3451f-cd0d-4027-82d9-8dcd1234fcca\\\\\n\t  59 & Chirodzo & 2016-11-16 &  2 & 60 & muddaub     & 3 & NA  & NA         & 3 & NA                                                                                                                    & 2 & none                           & uuid:1936db62-5732-45dc-98ff-9b3ac7a22518\\\\\n\t  60 & Chirodzo & 2016-11-16 &  8 & 15 & burntbricks & 2 & no  & never      & 4 & cow\\_plough                                                                                                            & 2 & none                           & uuid:85465caf-23e4-4283-bb72-a0ef30e30176\\\\\n\t  61 & Chirodzo & 2016-11-16 & 10 & 14 & muddaub     & 1 & yes & more\\_once  & 3 & cow\\_cart;motorcyle;bicycle;television;radio;cow\\_plough;solar\\_panel;table;mobile\\_phone                                 & 3 & Jan;Feb;Dec                    & uuid:2401cf50-8859-44d9-bd14-1bf9128766f2\\\\\n\t  62 & Chirodzo & 2016-11-16 &  5 &  5 & muddaub     & 1 & NA  & NA         & 1 & bicycle;radio;mobile\\_phone                                                                                            & 3 & Aug;Sept;Oct;Nov               & uuid:c6597ecc-cc2a-4c35-a6dc-e62c71b345d6\\\\\n\t  63 & Chirodzo & 2016-11-16 &  4 & 10 & muddaub     & 1 & NA  & NA         & 1 & NA                                                                                                                    & 3 & Jan;Oct;Nov;Dec                & uuid:86ed4328-7688-462f-aac7-d6518414526a\\\\\n\t  64 & Chirodzo & 2016-11-16 &  6 &  1 & muddaub     & 1 & NA  & NA         & 1 & bicycle;solar\\_torch;table;sofa\\_set;mobile\\_phone                                                                       & 3 & Jan;Feb;Dec                    & uuid:28cfd718-bf62-4d90-8100-55fafbe45d06\\\\\n\t  65 & Chirodzo & 2016-11-16 &  8 & 20 & burntbricks & 3 & no  & once       & 3 & motorcyle;radio;cow\\_plough;table                                                                                      & 3 & Jan;Feb;Mar                    & uuid:143f7478-0126-4fbc-86e0-5d324339206b\\\\\n\t  66 & Chirodzo & 2016-11-16 & 10 & 37 & burntbricks & 3 & yes & frequently & 4 & cow\\_cart;motorcyle;bicycle;television;radio;cow\\_plough;solar\\_panel;solar\\_torch;mobile\\_phone                           & 3 & none                           & uuid:a457eab8-971b-4417-a971-2e55b8702816\\\\\n\t  67 & Chirodzo & 2016-11-16 &  5 & 31 & burntbricks & 2 & no  & more\\_once  & 4 & motorcyle;radio;cow\\_plough;solar\\_panel;mobile\\_phone                                                                   & 3 & none                           & uuid:6c15d667-2860-47e3-a5e7-7f679271e419\\\\\n\t  68 & Chirodzo & 2016-11-16 &  8 & 52 & burntbricks & 3 & no  & more\\_once  & 3 & motorcyle;television;sterio;solar\\_panel;mobile\\_phone                                                                  & 3 & none                           & uuid:ef04b3eb-b47d-412e-9b09-4f5e08fc66f9\\\\\n\t  69 & Chirodzo & 2016-11-16 &  4 & 12 & muddaub     & 1 & no  & more\\_once  & 1 & bicycle;radio;solar\\_torch;mobile\\_phone                                                                                & 3 & none                           & uuid:f86933a5-12b8-4427-b821-43c5b039401d\\\\\n\t  70 & Chirodzo & 2016-11-16 &  8 & 25 & burntbricks & 2 & no  & more\\_once  & 4 & cow\\_cart;bicycle;radio;cow\\_plough;solar\\_panel;mobile\\_phone                                                            & 2 & none                           & uuid:1feb0108-4599-4bf9-8a07-1f5e66a50a0a\\\\\n\t 127 & Chirodzo & 2016-11-16 &  4 & 18 & burntbricks & 8 & NA  & NA         & 1 & mobile\\_phone                                                                                                          & 2 & Aug;Sept;Oct                   & uuid:f6d04b41-b539-4e00-868a-0f62b427587d\\\\\n\t 192 & Chirodzo & 2017-06-03 &  9 & 20 & burntbricks & 1 & no  & once       & 1 & bicycle;television;radio;sterio;solar\\_panel;solar\\_torch;table;mobile\\_phone                                            & 3 & Jan;Nov;Dec                    & uuid:f94409a6-e461-4e4c-a6fb-0072d3d58b00\\\\\n\t 199 & Chirodzo & 2017-06-04 &  7 & 17 & burntbricks & 2 & yes & more\\_once  & 2 & cow\\_cart;lorry;motorcyle;computer;television;radio;sterio;cow\\_plough;solar\\_panel;solar\\_torch;electricity;mobile\\_phone & 3 & Nov;Dec                        & uuid:ffc83162-ff24-4a87-8709-eff17abc0b3b\\\\\n\t 200 & Chirodzo & 2017-06-04 &  8 & 20 & burntbricks & 2 & NA  & NA         & 3 & radio;cow\\_plough;solar\\_panel;solar\\_torch;table;mobile\\_phone                                                           & 3 & Oct;Nov                        & uuid:aa77a0d7-7142-41c8-b494-483a5b68d8a7\\\\\n\\end{tabular}\n",
            "text/plain": [
              "   key_ID village  interview_date no_membrs years_liv respondent_wall_type\n",
              "1    8    Chirodzo 2016-11-16     12        70        burntbricks         \n",
              "2    9    Chirodzo 2016-11-16      8         6        burntbricks         \n",
              "3   10    Chirodzo 2016-12-16     12        23        burntbricks         \n",
              "4   34    Chirodzo 2016-11-17      8        18        burntbricks         \n",
              "5   35    Chirodzo 2016-11-17      5        45        muddaub             \n",
              "6   36    Chirodzo 2016-11-17      6        23        sunbricks           \n",
              "7   37    Chirodzo 2016-11-17      3         8        burntbricks         \n",
              "8   43    Chirodzo 2016-11-17      7        29        muddaub             \n",
              "9   44    Chirodzo 2016-11-17      2         6        muddaub             \n",
              "10  45    Chirodzo 2016-11-17      9         7        muddaub             \n",
              "11  46    Chirodzo 2016-11-17     10        42        burntbricks         \n",
              "12  47    Chirodzo 2016-11-17      2         2        muddaub             \n",
              "13  48    Chirodzo 2016-11-16      7        58        muddaub             \n",
              "14  49    Chirodzo 2016-11-16      6        26        burntbricks         \n",
              "15  50    Chirodzo 2016-11-16      6         7        muddaub             \n",
              "16  51    Chirodzo 2016-11-16      5        30        muddaub             \n",
              "17  52    Chirodzo 2016-11-16     11        15        burntbricks         \n",
              "18  21    Chirodzo 2016-11-16      8        16        burntbricks         \n",
              "19  54    Chirodzo 2016-11-16      7        15        muddaub             \n",
              "20  55    Chirodzo 2016-11-16      9        23        muddaub             \n",
              "21  56    Chirodzo 2016-11-16     12        23        burntbricks         \n",
              "22  57    Chirodzo 2016-11-16      4        27        burntbricks         \n",
              "23  58    Chirodzo 2016-11-16     11        45        burntbricks         \n",
              "24  59    Chirodzo 2016-11-16      2        60        muddaub             \n",
              "25  60    Chirodzo 2016-11-16      8        15        burntbricks         \n",
              "26  61    Chirodzo 2016-11-16     10        14        muddaub             \n",
              "27  62    Chirodzo 2016-11-16      5         5        muddaub             \n",
              "28  63    Chirodzo 2016-11-16      4        10        muddaub             \n",
              "29  64    Chirodzo 2016-11-16      6         1        muddaub             \n",
              "30  65    Chirodzo 2016-11-16      8        20        burntbricks         \n",
              "31  66    Chirodzo 2016-11-16     10        37        burntbricks         \n",
              "32  67    Chirodzo 2016-11-16      5        31        burntbricks         \n",
              "33  68    Chirodzo 2016-11-16      8        52        burntbricks         \n",
              "34  69    Chirodzo 2016-11-16      4        12        muddaub             \n",
              "35  70    Chirodzo 2016-11-16      8        25        burntbricks         \n",
              "36 127    Chirodzo 2016-11-16      4        18        burntbricks         \n",
              "37 192    Chirodzo 2017-06-03      9        20        burntbricks         \n",
              "38 199    Chirodzo 2017-06-04      7        17        burntbricks         \n",
              "39 200    Chirodzo 2017-06-04      8        20        burntbricks         \n",
              "   rooms memb_assoc affect_conflicts liv_count\n",
              "1  3     yes        never            2        \n",
              "2  1     no         never            3        \n",
              "3  5     no         never            2        \n",
              "4  3     yes        more_once        3        \n",
              "5  1     yes        more_once        2        \n",
              "6  1     yes        once             3        \n",
              "7  1     NA         NA               2        \n",
              "8  1     no         never            2        \n",
              "9  1     NA         NA               3        \n",
              "10 1     no         never            4        \n",
              "11 2     no         once             2        \n",
              "12 1     yes        once             1        \n",
              "13 1     NA         NA               3        \n",
              "14 2     NA         NA               2        \n",
              "15 1     yes        never            1        \n",
              "16 1     NA         NA               1        \n",
              "17 3     no         never            3        \n",
              "18 3     yes        frequently       2        \n",
              "19 1     no         never            1        \n",
              "20 2     NA         NA               1        \n",
              "21 2     yes        never            2        \n",
              "22 1     no         never            1        \n",
              "23 3     no         never            3        \n",
              "24 3     NA         NA               3        \n",
              "25 2     no         never            4        \n",
              "26 1     yes        more_once        3        \n",
              "27 1     NA         NA               1        \n",
              "28 1     NA         NA               1        \n",
              "29 1     NA         NA               1        \n",
              "30 3     no         once             3        \n",
              "31 3     yes        frequently       4        \n",
              "32 2     no         more_once        4        \n",
              "33 3     no         more_once        3        \n",
              "34 1     no         more_once        1        \n",
              "35 2     no         more_once        4        \n",
              "36 8     NA         NA               1        \n",
              "37 1     no         once             1        \n",
              "38 2     yes        more_once        2        \n",
              "39 2     NA         NA               3        \n",
              "   items_owned                                                                                                          \n",
              "1  motorcyle;bicycle;television;radio;cow_plough;solar_panel;solar_torch;table;fridge                                   \n",
              "2  television;solar_panel;solar_torch                                                                                   \n",
              "3  cow_cart;motorcyle;bicycle;television;radio;cow_plough;solar_panel;solar_torch;table                                 \n",
              "4  television;radio;cow_plough;solar_panel;solar_torch;table;mobile_phone                                               \n",
              "5  bicycle;cow_plough                                                                                                   \n",
              "6  cow_cart;bicycle;radio;cow_plough;solar_panel;mobile_phone                                                           \n",
              "7  bicycle;television;radio;cow_plough;solar_panel;solar_torch;mobile_phone                                             \n",
              "8  cow_plough;mobile_phone                                                                                              \n",
              "9  radio;solar_torch                                                                                                    \n",
              "10 motorcyle;bicycle;television;radio;cow_plough;solar_panel;solar_torch;table;mobile_phone                             \n",
              "11 motorcyle;computer;television;sterio;solar_panel;solar_torch;table;mobile_phone                                      \n",
              "12 solar_torch;mobile_phone                                                                                             \n",
              "13 radio                                                                                                                \n",
              "14 bicycle;radio;cow_plough;solar_panel;solar_torch;table;mobile_phone                                                  \n",
              "15 solar_torch                                                                                                          \n",
              "16 radio                                                                                                                \n",
              "17 motorcyle;television;radio;cow_plough;solar_panel;mobile_phone                                                       \n",
              "18 bicycle;radio;mobile_phone                                                                                           \n",
              "19 NA                                                                                                                   \n",
              "20 television;cow_plough;mobile_phone                                                                                   \n",
              "21 motorcyle;bicycle;mobile_phone                                                                                       \n",
              "22 radio                                                                                                                \n",
              "23 motorcyle;bicycle;television;radio;cow_plough;solar_panel;mobile_phone                                               \n",
              "24 NA                                                                                                                   \n",
              "25 cow_plough                                                                                                           \n",
              "26 cow_cart;motorcyle;bicycle;television;radio;cow_plough;solar_panel;table;mobile_phone                                \n",
              "27 bicycle;radio;mobile_phone                                                                                           \n",
              "28 NA                                                                                                                   \n",
              "29 bicycle;solar_torch;table;sofa_set;mobile_phone                                                                      \n",
              "30 motorcyle;radio;cow_plough;table                                                                                     \n",
              "31 cow_cart;motorcyle;bicycle;television;radio;cow_plough;solar_panel;solar_torch;mobile_phone                          \n",
              "32 motorcyle;radio;cow_plough;solar_panel;mobile_phone                                                                  \n",
              "33 motorcyle;television;sterio;solar_panel;mobile_phone                                                                 \n",
              "34 bicycle;radio;solar_torch;mobile_phone                                                                               \n",
              "35 cow_cart;bicycle;radio;cow_plough;solar_panel;mobile_phone                                                           \n",
              "36 mobile_phone                                                                                                         \n",
              "37 bicycle;television;radio;sterio;solar_panel;solar_torch;table;mobile_phone                                           \n",
              "38 cow_cart;lorry;motorcyle;computer;television;radio;sterio;cow_plough;solar_panel;solar_torch;electricity;mobile_phone\n",
              "39 radio;cow_plough;solar_panel;solar_torch;table;mobile_phone                                                          \n",
              "   no_meals months_lack_food              \n",
              "1  2        Jan                           \n",
              "2  3        Jan;Dec                       \n",
              "3  3        Jan;Oct;Nov;Dec               \n",
              "4  2        Jan;Dec                       \n",
              "5  3        Jan;Sept;Oct;Nov;Dec          \n",
              "6  3        none                          \n",
              "7  3        Jan;Nov;Dec                   \n",
              "8  2        Jan;Feb;Oct;Nov;Dec           \n",
              "9  2        Jan;Dec                       \n",
              "10 3        none                          \n",
              "11 2        Sept;Oct;Nov                  \n",
              "12 3        none                          \n",
              "13 3        June;July;Aug;Sept;Oct;Nov    \n",
              "14 3        Jan;Nov;Dec                   \n",
              "15 2        June;July;Aug;Sept;Oct;Nov;Dec\n",
              "16 3        Oct;Nov                       \n",
              "17 3        Aug;Sept;Oct;Nov              \n",
              "18 2        Nov                           \n",
              "19 2        Sept;Oct;Nov                  \n",
              "20 2        Oct;Nov                       \n",
              "21 3        none                          \n",
              "22 2        none                          \n",
              "23 2        none                          \n",
              "24 2        none                          \n",
              "25 2        none                          \n",
              "26 3        Jan;Feb;Dec                   \n",
              "27 3        Aug;Sept;Oct;Nov              \n",
              "28 3        Jan;Oct;Nov;Dec               \n",
              "29 3        Jan;Feb;Dec                   \n",
              "30 3        Jan;Feb;Mar                   \n",
              "31 3        none                          \n",
              "32 3        none                          \n",
              "33 3        none                          \n",
              "34 3        none                          \n",
              "35 2        none                          \n",
              "36 2        Aug;Sept;Oct                  \n",
              "37 3        Jan;Nov;Dec                   \n",
              "38 3        Nov;Dec                       \n",
              "39 3        Oct;Nov                       \n",
              "   instanceID                               \n",
              "1  uuid:d6cee930-7be1-4fd9-88c0-82a08f90fb5a\n",
              "2  uuid:846103d2-b1db-4055-b502-9cd510bb7b37\n",
              "3  uuid:8f4e49bc-da81-4356-ae34-e0d794a23721\n",
              "4  uuid:14c78c45-a7cc-4b2a-b765-17c82b43feb4\n",
              "5  uuid:ff7496e7-984a-47d3-a8a1-13618b5683ce\n",
              "6  uuid:c90eade0-1148-4a12-8c0e-6387a36f45b1\n",
              "7  uuid:408c6c93-d723-45ef-8dee-1b1bd3fe20cd\n",
              "8  uuid:b4dff49f-ef27-40e5-a9d1-acf287b47358\n",
              "9  uuid:f9fadf44-d040-4fca-86c1-2835f79c4952\n",
              "10 uuid:e3554d22-35b1-4fb9-b386-dd5866ad5792\n",
              "11 uuid:35f297e0-aa5d-4149-9b7b-4965004cfc37\n",
              "12 uuid:2d0b1936-4f82-4ec3-a3b5-7c3c8cd6cc2b\n",
              "13 uuid:e180899c-7614-49eb-a97c-40ed013a38a2\n",
              "14 uuid:2303ebc1-2b3c-475a-8916-b322ebf18440\n",
              "15 uuid:4267c33c-53a7-46d9-8bd6-b96f58a4f92c\n",
              "16 uuid:18ac8e77-bdaf-47ab-85a2-e4c947c9d3ce\n",
              "17 uuid:6db55cb4-a853-4000-9555-757b7fae2bcf\n",
              "18 uuid:cc7f75c5-d13e-43f3-97e5-4f4c03cb4b12\n",
              "19 uuid:273ab27f-9be3-4f3b-83c9-d3e1592de919\n",
              "20 uuid:883c0433-9891-4121-bc63-744f082c1fa0\n",
              "21 uuid:973c4ac6-f887-48e7-aeaf-4476f2cfab76\n",
              "22 uuid:a7184e55-0615-492d-9835-8f44f3b03a71\n",
              "23 uuid:a7a3451f-cd0d-4027-82d9-8dcd1234fcca\n",
              "24 uuid:1936db62-5732-45dc-98ff-9b3ac7a22518\n",
              "25 uuid:85465caf-23e4-4283-bb72-a0ef30e30176\n",
              "26 uuid:2401cf50-8859-44d9-bd14-1bf9128766f2\n",
              "27 uuid:c6597ecc-cc2a-4c35-a6dc-e62c71b345d6\n",
              "28 uuid:86ed4328-7688-462f-aac7-d6518414526a\n",
              "29 uuid:28cfd718-bf62-4d90-8100-55fafbe45d06\n",
              "30 uuid:143f7478-0126-4fbc-86e0-5d324339206b\n",
              "31 uuid:a457eab8-971b-4417-a971-2e55b8702816\n",
              "32 uuid:6c15d667-2860-47e3-a5e7-7f679271e419\n",
              "33 uuid:ef04b3eb-b47d-412e-9b09-4f5e08fc66f9\n",
              "34 uuid:f86933a5-12b8-4427-b821-43c5b039401d\n",
              "35 uuid:1feb0108-4599-4bf9-8a07-1f5e66a50a0a\n",
              "36 uuid:f6d04b41-b539-4e00-868a-0f62b427587d\n",
              "37 uuid:f94409a6-e461-4e4c-a6fb-0072d3d58b00\n",
              "38 uuid:ffc83162-ff24-4a87-8709-eff17abc0b3b\n",
              "39 uuid:aa77a0d7-7142-41c8-b494-483a5b68d8a7"
            ]
          },
          "metadata": {}
        }
      ]
    },
    {
      "cell_type": "code",
      "source": [
        "# filters observations with \"and\" operator (comma)\n",
        "# output dataframe satisfies ALL specified conditions\n",
        "filter(interviews, village == \"Chirodzo\", rooms > 1)"
      ],
      "metadata": {
        "colab": {
          "base_uri": "https://localhost:8080/",
          "height": 1000
        },
        "id": "J4ZEis8U7HUQ",
        "outputId": "136d2ad1-3a77-4951-ac5f-f04b26ee1254"
      },
      "execution_count": null,
      "outputs": [
        {
          "output_type": "display_data",
          "data": {
            "text/html": [
              "<table class=\"dataframe\">\n",
              "<caption>A spec_tbl_df: 20 × 14</caption>\n",
              "<thead>\n",
              "\t<tr><th scope=col>key_ID</th><th scope=col>village</th><th scope=col>interview_date</th><th scope=col>no_membrs</th><th scope=col>years_liv</th><th scope=col>respondent_wall_type</th><th scope=col>rooms</th><th scope=col>memb_assoc</th><th scope=col>affect_conflicts</th><th scope=col>liv_count</th><th scope=col>items_owned</th><th scope=col>no_meals</th><th scope=col>months_lack_food</th><th scope=col>instanceID</th></tr>\n",
              "\t<tr><th scope=col>&lt;dbl&gt;</th><th scope=col>&lt;chr&gt;</th><th scope=col>&lt;dttm&gt;</th><th scope=col>&lt;dbl&gt;</th><th scope=col>&lt;dbl&gt;</th><th scope=col>&lt;chr&gt;</th><th scope=col>&lt;dbl&gt;</th><th scope=col>&lt;chr&gt;</th><th scope=col>&lt;chr&gt;</th><th scope=col>&lt;dbl&gt;</th><th scope=col>&lt;chr&gt;</th><th scope=col>&lt;dbl&gt;</th><th scope=col>&lt;chr&gt;</th><th scope=col>&lt;chr&gt;</th></tr>\n",
              "</thead>\n",
              "<tbody>\n",
              "\t<tr><td>  8</td><td>Chirodzo</td><td>2016-11-16</td><td>12</td><td>70</td><td>burntbricks</td><td>3</td><td>yes</td><td>never     </td><td>2</td><td>motorcyle;bicycle;television;radio;cow_plough;solar_panel;solar_torch;table;fridge                                   </td><td>2</td><td>Jan             </td><td>uuid:d6cee930-7be1-4fd9-88c0-82a08f90fb5a</td></tr>\n",
              "\t<tr><td> 10</td><td>Chirodzo</td><td>2016-12-16</td><td>12</td><td>23</td><td>burntbricks</td><td>5</td><td>no </td><td>never     </td><td>2</td><td>cow_cart;motorcyle;bicycle;television;radio;cow_plough;solar_panel;solar_torch;table                                 </td><td>3</td><td>Jan;Oct;Nov;Dec </td><td>uuid:8f4e49bc-da81-4356-ae34-e0d794a23721</td></tr>\n",
              "\t<tr><td> 34</td><td>Chirodzo</td><td>2016-11-17</td><td> 8</td><td>18</td><td>burntbricks</td><td>3</td><td>yes</td><td>more_once </td><td>3</td><td>television;radio;cow_plough;solar_panel;solar_torch;table;mobile_phone                                               </td><td>2</td><td>Jan;Dec         </td><td>uuid:14c78c45-a7cc-4b2a-b765-17c82b43feb4</td></tr>\n",
              "\t<tr><td> 46</td><td>Chirodzo</td><td>2016-11-17</td><td>10</td><td>42</td><td>burntbricks</td><td>2</td><td>no </td><td>once      </td><td>2</td><td>motorcyle;computer;television;sterio;solar_panel;solar_torch;table;mobile_phone                                      </td><td>2</td><td>Sept;Oct;Nov    </td><td>uuid:35f297e0-aa5d-4149-9b7b-4965004cfc37</td></tr>\n",
              "\t<tr><td> 49</td><td>Chirodzo</td><td>2016-11-16</td><td> 6</td><td>26</td><td>burntbricks</td><td>2</td><td>NA </td><td>NA        </td><td>2</td><td>bicycle;radio;cow_plough;solar_panel;solar_torch;table;mobile_phone                                                  </td><td>3</td><td>Jan;Nov;Dec     </td><td>uuid:2303ebc1-2b3c-475a-8916-b322ebf18440</td></tr>\n",
              "\t<tr><td> 52</td><td>Chirodzo</td><td>2016-11-16</td><td>11</td><td>15</td><td>burntbricks</td><td>3</td><td>no </td><td>never     </td><td>3</td><td>motorcyle;television;radio;cow_plough;solar_panel;mobile_phone                                                       </td><td>3</td><td>Aug;Sept;Oct;Nov</td><td>uuid:6db55cb4-a853-4000-9555-757b7fae2bcf</td></tr>\n",
              "\t<tr><td> 21</td><td>Chirodzo</td><td>2016-11-16</td><td> 8</td><td>16</td><td>burntbricks</td><td>3</td><td>yes</td><td>frequently</td><td>2</td><td>bicycle;radio;mobile_phone                                                                                           </td><td>2</td><td>Nov             </td><td>uuid:cc7f75c5-d13e-43f3-97e5-4f4c03cb4b12</td></tr>\n",
              "\t<tr><td> 55</td><td>Chirodzo</td><td>2016-11-16</td><td> 9</td><td>23</td><td>muddaub    </td><td>2</td><td>NA </td><td>NA        </td><td>1</td><td>television;cow_plough;mobile_phone                                                                                   </td><td>2</td><td>Oct;Nov         </td><td>uuid:883c0433-9891-4121-bc63-744f082c1fa0</td></tr>\n",
              "\t<tr><td> 56</td><td>Chirodzo</td><td>2016-11-16</td><td>12</td><td>23</td><td>burntbricks</td><td>2</td><td>yes</td><td>never     </td><td>2</td><td>motorcyle;bicycle;mobile_phone                                                                                       </td><td>3</td><td>none            </td><td>uuid:973c4ac6-f887-48e7-aeaf-4476f2cfab76</td></tr>\n",
              "\t<tr><td> 58</td><td>Chirodzo</td><td>2016-11-16</td><td>11</td><td>45</td><td>burntbricks</td><td>3</td><td>no </td><td>never     </td><td>3</td><td>motorcyle;bicycle;television;radio;cow_plough;solar_panel;mobile_phone                                               </td><td>2</td><td>none            </td><td>uuid:a7a3451f-cd0d-4027-82d9-8dcd1234fcca</td></tr>\n",
              "\t<tr><td> 59</td><td>Chirodzo</td><td>2016-11-16</td><td> 2</td><td>60</td><td>muddaub    </td><td>3</td><td>NA </td><td>NA        </td><td>3</td><td>NA                                                                                                                   </td><td>2</td><td>none            </td><td>uuid:1936db62-5732-45dc-98ff-9b3ac7a22518</td></tr>\n",
              "\t<tr><td> 60</td><td>Chirodzo</td><td>2016-11-16</td><td> 8</td><td>15</td><td>burntbricks</td><td>2</td><td>no </td><td>never     </td><td>4</td><td>cow_plough                                                                                                           </td><td>2</td><td>none            </td><td>uuid:85465caf-23e4-4283-bb72-a0ef30e30176</td></tr>\n",
              "\t<tr><td> 65</td><td>Chirodzo</td><td>2016-11-16</td><td> 8</td><td>20</td><td>burntbricks</td><td>3</td><td>no </td><td>once      </td><td>3</td><td>motorcyle;radio;cow_plough;table                                                                                     </td><td>3</td><td>Jan;Feb;Mar     </td><td>uuid:143f7478-0126-4fbc-86e0-5d324339206b</td></tr>\n",
              "\t<tr><td> 66</td><td>Chirodzo</td><td>2016-11-16</td><td>10</td><td>37</td><td>burntbricks</td><td>3</td><td>yes</td><td>frequently</td><td>4</td><td>cow_cart;motorcyle;bicycle;television;radio;cow_plough;solar_panel;solar_torch;mobile_phone                          </td><td>3</td><td>none            </td><td>uuid:a457eab8-971b-4417-a971-2e55b8702816</td></tr>\n",
              "\t<tr><td> 67</td><td>Chirodzo</td><td>2016-11-16</td><td> 5</td><td>31</td><td>burntbricks</td><td>2</td><td>no </td><td>more_once </td><td>4</td><td>motorcyle;radio;cow_plough;solar_panel;mobile_phone                                                                  </td><td>3</td><td>none            </td><td>uuid:6c15d667-2860-47e3-a5e7-7f679271e419</td></tr>\n",
              "\t<tr><td> 68</td><td>Chirodzo</td><td>2016-11-16</td><td> 8</td><td>52</td><td>burntbricks</td><td>3</td><td>no </td><td>more_once </td><td>3</td><td>motorcyle;television;sterio;solar_panel;mobile_phone                                                                 </td><td>3</td><td>none            </td><td>uuid:ef04b3eb-b47d-412e-9b09-4f5e08fc66f9</td></tr>\n",
              "\t<tr><td> 70</td><td>Chirodzo</td><td>2016-11-16</td><td> 8</td><td>25</td><td>burntbricks</td><td>2</td><td>no </td><td>more_once </td><td>4</td><td>cow_cart;bicycle;radio;cow_plough;solar_panel;mobile_phone                                                           </td><td>2</td><td>none            </td><td>uuid:1feb0108-4599-4bf9-8a07-1f5e66a50a0a</td></tr>\n",
              "\t<tr><td>127</td><td>Chirodzo</td><td>2016-11-16</td><td> 4</td><td>18</td><td>burntbricks</td><td>8</td><td>NA </td><td>NA        </td><td>1</td><td>mobile_phone                                                                                                         </td><td>2</td><td>Aug;Sept;Oct    </td><td>uuid:f6d04b41-b539-4e00-868a-0f62b427587d</td></tr>\n",
              "\t<tr><td>199</td><td>Chirodzo</td><td>2017-06-04</td><td> 7</td><td>17</td><td>burntbricks</td><td>2</td><td>yes</td><td>more_once </td><td>2</td><td>cow_cart;lorry;motorcyle;computer;television;radio;sterio;cow_plough;solar_panel;solar_torch;electricity;mobile_phone</td><td>3</td><td>Nov;Dec         </td><td>uuid:ffc83162-ff24-4a87-8709-eff17abc0b3b</td></tr>\n",
              "\t<tr><td>200</td><td>Chirodzo</td><td>2017-06-04</td><td> 8</td><td>20</td><td>burntbricks</td><td>2</td><td>NA </td><td>NA        </td><td>3</td><td>radio;cow_plough;solar_panel;solar_torch;table;mobile_phone                                                          </td><td>3</td><td>Oct;Nov         </td><td>uuid:aa77a0d7-7142-41c8-b494-483a5b68d8a7</td></tr>\n",
              "</tbody>\n",
              "</table>\n"
            ],
            "text/markdown": "\nA spec_tbl_df: 20 × 14\n\n| key_ID &lt;dbl&gt; | village &lt;chr&gt; | interview_date &lt;dttm&gt; | no_membrs &lt;dbl&gt; | years_liv &lt;dbl&gt; | respondent_wall_type &lt;chr&gt; | rooms &lt;dbl&gt; | memb_assoc &lt;chr&gt; | affect_conflicts &lt;chr&gt; | liv_count &lt;dbl&gt; | items_owned &lt;chr&gt; | no_meals &lt;dbl&gt; | months_lack_food &lt;chr&gt; | instanceID &lt;chr&gt; |\n|---|---|---|---|---|---|---|---|---|---|---|---|---|---|\n|   8 | Chirodzo | 2016-11-16 | 12 | 70 | burntbricks | 3 | yes | never      | 2 | motorcyle;bicycle;television;radio;cow_plough;solar_panel;solar_torch;table;fridge                                    | 2 | Jan              | uuid:d6cee930-7be1-4fd9-88c0-82a08f90fb5a |\n|  10 | Chirodzo | 2016-12-16 | 12 | 23 | burntbricks | 5 | no  | never      | 2 | cow_cart;motorcyle;bicycle;television;radio;cow_plough;solar_panel;solar_torch;table                                  | 3 | Jan;Oct;Nov;Dec  | uuid:8f4e49bc-da81-4356-ae34-e0d794a23721 |\n|  34 | Chirodzo | 2016-11-17 |  8 | 18 | burntbricks | 3 | yes | more_once  | 3 | television;radio;cow_plough;solar_panel;solar_torch;table;mobile_phone                                                | 2 | Jan;Dec          | uuid:14c78c45-a7cc-4b2a-b765-17c82b43feb4 |\n|  46 | Chirodzo | 2016-11-17 | 10 | 42 | burntbricks | 2 | no  | once       | 2 | motorcyle;computer;television;sterio;solar_panel;solar_torch;table;mobile_phone                                       | 2 | Sept;Oct;Nov     | uuid:35f297e0-aa5d-4149-9b7b-4965004cfc37 |\n|  49 | Chirodzo | 2016-11-16 |  6 | 26 | burntbricks | 2 | NA  | NA         | 2 | bicycle;radio;cow_plough;solar_panel;solar_torch;table;mobile_phone                                                   | 3 | Jan;Nov;Dec      | uuid:2303ebc1-2b3c-475a-8916-b322ebf18440 |\n|  52 | Chirodzo | 2016-11-16 | 11 | 15 | burntbricks | 3 | no  | never      | 3 | motorcyle;television;radio;cow_plough;solar_panel;mobile_phone                                                        | 3 | Aug;Sept;Oct;Nov | uuid:6db55cb4-a853-4000-9555-757b7fae2bcf |\n|  21 | Chirodzo | 2016-11-16 |  8 | 16 | burntbricks | 3 | yes | frequently | 2 | bicycle;radio;mobile_phone                                                                                            | 2 | Nov              | uuid:cc7f75c5-d13e-43f3-97e5-4f4c03cb4b12 |\n|  55 | Chirodzo | 2016-11-16 |  9 | 23 | muddaub     | 2 | NA  | NA         | 1 | television;cow_plough;mobile_phone                                                                                    | 2 | Oct;Nov          | uuid:883c0433-9891-4121-bc63-744f082c1fa0 |\n|  56 | Chirodzo | 2016-11-16 | 12 | 23 | burntbricks | 2 | yes | never      | 2 | motorcyle;bicycle;mobile_phone                                                                                        | 3 | none             | uuid:973c4ac6-f887-48e7-aeaf-4476f2cfab76 |\n|  58 | Chirodzo | 2016-11-16 | 11 | 45 | burntbricks | 3 | no  | never      | 3 | motorcyle;bicycle;television;radio;cow_plough;solar_panel;mobile_phone                                                | 2 | none             | uuid:a7a3451f-cd0d-4027-82d9-8dcd1234fcca |\n|  59 | Chirodzo | 2016-11-16 |  2 | 60 | muddaub     | 3 | NA  | NA         | 3 | NA                                                                                                                    | 2 | none             | uuid:1936db62-5732-45dc-98ff-9b3ac7a22518 |\n|  60 | Chirodzo | 2016-11-16 |  8 | 15 | burntbricks | 2 | no  | never      | 4 | cow_plough                                                                                                            | 2 | none             | uuid:85465caf-23e4-4283-bb72-a0ef30e30176 |\n|  65 | Chirodzo | 2016-11-16 |  8 | 20 | burntbricks | 3 | no  | once       | 3 | motorcyle;radio;cow_plough;table                                                                                      | 3 | Jan;Feb;Mar      | uuid:143f7478-0126-4fbc-86e0-5d324339206b |\n|  66 | Chirodzo | 2016-11-16 | 10 | 37 | burntbricks | 3 | yes | frequently | 4 | cow_cart;motorcyle;bicycle;television;radio;cow_plough;solar_panel;solar_torch;mobile_phone                           | 3 | none             | uuid:a457eab8-971b-4417-a971-2e55b8702816 |\n|  67 | Chirodzo | 2016-11-16 |  5 | 31 | burntbricks | 2 | no  | more_once  | 4 | motorcyle;radio;cow_plough;solar_panel;mobile_phone                                                                   | 3 | none             | uuid:6c15d667-2860-47e3-a5e7-7f679271e419 |\n|  68 | Chirodzo | 2016-11-16 |  8 | 52 | burntbricks | 3 | no  | more_once  | 3 | motorcyle;television;sterio;solar_panel;mobile_phone                                                                  | 3 | none             | uuid:ef04b3eb-b47d-412e-9b09-4f5e08fc66f9 |\n|  70 | Chirodzo | 2016-11-16 |  8 | 25 | burntbricks | 2 | no  | more_once  | 4 | cow_cart;bicycle;radio;cow_plough;solar_panel;mobile_phone                                                            | 2 | none             | uuid:1feb0108-4599-4bf9-8a07-1f5e66a50a0a |\n| 127 | Chirodzo | 2016-11-16 |  4 | 18 | burntbricks | 8 | NA  | NA         | 1 | mobile_phone                                                                                                          | 2 | Aug;Sept;Oct     | uuid:f6d04b41-b539-4e00-868a-0f62b427587d |\n| 199 | Chirodzo | 2017-06-04 |  7 | 17 | burntbricks | 2 | yes | more_once  | 2 | cow_cart;lorry;motorcyle;computer;television;radio;sterio;cow_plough;solar_panel;solar_torch;electricity;mobile_phone | 3 | Nov;Dec          | uuid:ffc83162-ff24-4a87-8709-eff17abc0b3b |\n| 200 | Chirodzo | 2017-06-04 |  8 | 20 | burntbricks | 2 | NA  | NA         | 3 | radio;cow_plough;solar_panel;solar_torch;table;mobile_phone                                                           | 3 | Oct;Nov          | uuid:aa77a0d7-7142-41c8-b494-483a5b68d8a7 |\n\n",
            "text/latex": "A spec\\_tbl\\_df: 20 × 14\n\\begin{tabular}{llllllllllllll}\n key\\_ID & village & interview\\_date & no\\_membrs & years\\_liv & respondent\\_wall\\_type & rooms & memb\\_assoc & affect\\_conflicts & liv\\_count & items\\_owned & no\\_meals & months\\_lack\\_food & instanceID\\\\\n <dbl> & <chr> & <dttm> & <dbl> & <dbl> & <chr> & <dbl> & <chr> & <chr> & <dbl> & <chr> & <dbl> & <chr> & <chr>\\\\\n\\hline\n\t   8 & Chirodzo & 2016-11-16 & 12 & 70 & burntbricks & 3 & yes & never      & 2 & motorcyle;bicycle;television;radio;cow\\_plough;solar\\_panel;solar\\_torch;table;fridge                                    & 2 & Jan              & uuid:d6cee930-7be1-4fd9-88c0-82a08f90fb5a\\\\\n\t  10 & Chirodzo & 2016-12-16 & 12 & 23 & burntbricks & 5 & no  & never      & 2 & cow\\_cart;motorcyle;bicycle;television;radio;cow\\_plough;solar\\_panel;solar\\_torch;table                                  & 3 & Jan;Oct;Nov;Dec  & uuid:8f4e49bc-da81-4356-ae34-e0d794a23721\\\\\n\t  34 & Chirodzo & 2016-11-17 &  8 & 18 & burntbricks & 3 & yes & more\\_once  & 3 & television;radio;cow\\_plough;solar\\_panel;solar\\_torch;table;mobile\\_phone                                                & 2 & Jan;Dec          & uuid:14c78c45-a7cc-4b2a-b765-17c82b43feb4\\\\\n\t  46 & Chirodzo & 2016-11-17 & 10 & 42 & burntbricks & 2 & no  & once       & 2 & motorcyle;computer;television;sterio;solar\\_panel;solar\\_torch;table;mobile\\_phone                                       & 2 & Sept;Oct;Nov     & uuid:35f297e0-aa5d-4149-9b7b-4965004cfc37\\\\\n\t  49 & Chirodzo & 2016-11-16 &  6 & 26 & burntbricks & 2 & NA  & NA         & 2 & bicycle;radio;cow\\_plough;solar\\_panel;solar\\_torch;table;mobile\\_phone                                                   & 3 & Jan;Nov;Dec      & uuid:2303ebc1-2b3c-475a-8916-b322ebf18440\\\\\n\t  52 & Chirodzo & 2016-11-16 & 11 & 15 & burntbricks & 3 & no  & never      & 3 & motorcyle;television;radio;cow\\_plough;solar\\_panel;mobile\\_phone                                                        & 3 & Aug;Sept;Oct;Nov & uuid:6db55cb4-a853-4000-9555-757b7fae2bcf\\\\\n\t  21 & Chirodzo & 2016-11-16 &  8 & 16 & burntbricks & 3 & yes & frequently & 2 & bicycle;radio;mobile\\_phone                                                                                            & 2 & Nov              & uuid:cc7f75c5-d13e-43f3-97e5-4f4c03cb4b12\\\\\n\t  55 & Chirodzo & 2016-11-16 &  9 & 23 & muddaub     & 2 & NA  & NA         & 1 & television;cow\\_plough;mobile\\_phone                                                                                    & 2 & Oct;Nov          & uuid:883c0433-9891-4121-bc63-744f082c1fa0\\\\\n\t  56 & Chirodzo & 2016-11-16 & 12 & 23 & burntbricks & 2 & yes & never      & 2 & motorcyle;bicycle;mobile\\_phone                                                                                        & 3 & none             & uuid:973c4ac6-f887-48e7-aeaf-4476f2cfab76\\\\\n\t  58 & Chirodzo & 2016-11-16 & 11 & 45 & burntbricks & 3 & no  & never      & 3 & motorcyle;bicycle;television;radio;cow\\_plough;solar\\_panel;mobile\\_phone                                                & 2 & none             & uuid:a7a3451f-cd0d-4027-82d9-8dcd1234fcca\\\\\n\t  59 & Chirodzo & 2016-11-16 &  2 & 60 & muddaub     & 3 & NA  & NA         & 3 & NA                                                                                                                    & 2 & none             & uuid:1936db62-5732-45dc-98ff-9b3ac7a22518\\\\\n\t  60 & Chirodzo & 2016-11-16 &  8 & 15 & burntbricks & 2 & no  & never      & 4 & cow\\_plough                                                                                                            & 2 & none             & uuid:85465caf-23e4-4283-bb72-a0ef30e30176\\\\\n\t  65 & Chirodzo & 2016-11-16 &  8 & 20 & burntbricks & 3 & no  & once       & 3 & motorcyle;radio;cow\\_plough;table                                                                                      & 3 & Jan;Feb;Mar      & uuid:143f7478-0126-4fbc-86e0-5d324339206b\\\\\n\t  66 & Chirodzo & 2016-11-16 & 10 & 37 & burntbricks & 3 & yes & frequently & 4 & cow\\_cart;motorcyle;bicycle;television;radio;cow\\_plough;solar\\_panel;solar\\_torch;mobile\\_phone                           & 3 & none             & uuid:a457eab8-971b-4417-a971-2e55b8702816\\\\\n\t  67 & Chirodzo & 2016-11-16 &  5 & 31 & burntbricks & 2 & no  & more\\_once  & 4 & motorcyle;radio;cow\\_plough;solar\\_panel;mobile\\_phone                                                                   & 3 & none             & uuid:6c15d667-2860-47e3-a5e7-7f679271e419\\\\\n\t  68 & Chirodzo & 2016-11-16 &  8 & 52 & burntbricks & 3 & no  & more\\_once  & 3 & motorcyle;television;sterio;solar\\_panel;mobile\\_phone                                                                  & 3 & none             & uuid:ef04b3eb-b47d-412e-9b09-4f5e08fc66f9\\\\\n\t  70 & Chirodzo & 2016-11-16 &  8 & 25 & burntbricks & 2 & no  & more\\_once  & 4 & cow\\_cart;bicycle;radio;cow\\_plough;solar\\_panel;mobile\\_phone                                                            & 2 & none             & uuid:1feb0108-4599-4bf9-8a07-1f5e66a50a0a\\\\\n\t 127 & Chirodzo & 2016-11-16 &  4 & 18 & burntbricks & 8 & NA  & NA         & 1 & mobile\\_phone                                                                                                          & 2 & Aug;Sept;Oct     & uuid:f6d04b41-b539-4e00-868a-0f62b427587d\\\\\n\t 199 & Chirodzo & 2017-06-04 &  7 & 17 & burntbricks & 2 & yes & more\\_once  & 2 & cow\\_cart;lorry;motorcyle;computer;television;radio;sterio;cow\\_plough;solar\\_panel;solar\\_torch;electricity;mobile\\_phone & 3 & Nov;Dec          & uuid:ffc83162-ff24-4a87-8709-eff17abc0b3b\\\\\n\t 200 & Chirodzo & 2017-06-04 &  8 & 20 & burntbricks & 2 & NA  & NA         & 3 & radio;cow\\_plough;solar\\_panel;solar\\_torch;table;mobile\\_phone                                                           & 3 & Oct;Nov          & uuid:aa77a0d7-7142-41c8-b494-483a5b68d8a7\\\\\n\\end{tabular}\n",
            "text/plain": [
              "   key_ID village  interview_date no_membrs years_liv respondent_wall_type\n",
              "1    8    Chirodzo 2016-11-16     12        70        burntbricks         \n",
              "2   10    Chirodzo 2016-12-16     12        23        burntbricks         \n",
              "3   34    Chirodzo 2016-11-17      8        18        burntbricks         \n",
              "4   46    Chirodzo 2016-11-17     10        42        burntbricks         \n",
              "5   49    Chirodzo 2016-11-16      6        26        burntbricks         \n",
              "6   52    Chirodzo 2016-11-16     11        15        burntbricks         \n",
              "7   21    Chirodzo 2016-11-16      8        16        burntbricks         \n",
              "8   55    Chirodzo 2016-11-16      9        23        muddaub             \n",
              "9   56    Chirodzo 2016-11-16     12        23        burntbricks         \n",
              "10  58    Chirodzo 2016-11-16     11        45        burntbricks         \n",
              "11  59    Chirodzo 2016-11-16      2        60        muddaub             \n",
              "12  60    Chirodzo 2016-11-16      8        15        burntbricks         \n",
              "13  65    Chirodzo 2016-11-16      8        20        burntbricks         \n",
              "14  66    Chirodzo 2016-11-16     10        37        burntbricks         \n",
              "15  67    Chirodzo 2016-11-16      5        31        burntbricks         \n",
              "16  68    Chirodzo 2016-11-16      8        52        burntbricks         \n",
              "17  70    Chirodzo 2016-11-16      8        25        burntbricks         \n",
              "18 127    Chirodzo 2016-11-16      4        18        burntbricks         \n",
              "19 199    Chirodzo 2017-06-04      7        17        burntbricks         \n",
              "20 200    Chirodzo 2017-06-04      8        20        burntbricks         \n",
              "   rooms memb_assoc affect_conflicts liv_count\n",
              "1  3     yes        never            2        \n",
              "2  5     no         never            2        \n",
              "3  3     yes        more_once        3        \n",
              "4  2     no         once             2        \n",
              "5  2     NA         NA               2        \n",
              "6  3     no         never            3        \n",
              "7  3     yes        frequently       2        \n",
              "8  2     NA         NA               1        \n",
              "9  2     yes        never            2        \n",
              "10 3     no         never            3        \n",
              "11 3     NA         NA               3        \n",
              "12 2     no         never            4        \n",
              "13 3     no         once             3        \n",
              "14 3     yes        frequently       4        \n",
              "15 2     no         more_once        4        \n",
              "16 3     no         more_once        3        \n",
              "17 2     no         more_once        4        \n",
              "18 8     NA         NA               1        \n",
              "19 2     yes        more_once        2        \n",
              "20 2     NA         NA               3        \n",
              "   items_owned                                                                                                          \n",
              "1  motorcyle;bicycle;television;radio;cow_plough;solar_panel;solar_torch;table;fridge                                   \n",
              "2  cow_cart;motorcyle;bicycle;television;radio;cow_plough;solar_panel;solar_torch;table                                 \n",
              "3  television;radio;cow_plough;solar_panel;solar_torch;table;mobile_phone                                               \n",
              "4  motorcyle;computer;television;sterio;solar_panel;solar_torch;table;mobile_phone                                      \n",
              "5  bicycle;radio;cow_plough;solar_panel;solar_torch;table;mobile_phone                                                  \n",
              "6  motorcyle;television;radio;cow_plough;solar_panel;mobile_phone                                                       \n",
              "7  bicycle;radio;mobile_phone                                                                                           \n",
              "8  television;cow_plough;mobile_phone                                                                                   \n",
              "9  motorcyle;bicycle;mobile_phone                                                                                       \n",
              "10 motorcyle;bicycle;television;radio;cow_plough;solar_panel;mobile_phone                                               \n",
              "11 NA                                                                                                                   \n",
              "12 cow_plough                                                                                                           \n",
              "13 motorcyle;radio;cow_plough;table                                                                                     \n",
              "14 cow_cart;motorcyle;bicycle;television;radio;cow_plough;solar_panel;solar_torch;mobile_phone                          \n",
              "15 motorcyle;radio;cow_plough;solar_panel;mobile_phone                                                                  \n",
              "16 motorcyle;television;sterio;solar_panel;mobile_phone                                                                 \n",
              "17 cow_cart;bicycle;radio;cow_plough;solar_panel;mobile_phone                                                           \n",
              "18 mobile_phone                                                                                                         \n",
              "19 cow_cart;lorry;motorcyle;computer;television;radio;sterio;cow_plough;solar_panel;solar_torch;electricity;mobile_phone\n",
              "20 radio;cow_plough;solar_panel;solar_torch;table;mobile_phone                                                          \n",
              "   no_meals months_lack_food instanceID                               \n",
              "1  2        Jan              uuid:d6cee930-7be1-4fd9-88c0-82a08f90fb5a\n",
              "2  3        Jan;Oct;Nov;Dec  uuid:8f4e49bc-da81-4356-ae34-e0d794a23721\n",
              "3  2        Jan;Dec          uuid:14c78c45-a7cc-4b2a-b765-17c82b43feb4\n",
              "4  2        Sept;Oct;Nov     uuid:35f297e0-aa5d-4149-9b7b-4965004cfc37\n",
              "5  3        Jan;Nov;Dec      uuid:2303ebc1-2b3c-475a-8916-b322ebf18440\n",
              "6  3        Aug;Sept;Oct;Nov uuid:6db55cb4-a853-4000-9555-757b7fae2bcf\n",
              "7  2        Nov              uuid:cc7f75c5-d13e-43f3-97e5-4f4c03cb4b12\n",
              "8  2        Oct;Nov          uuid:883c0433-9891-4121-bc63-744f082c1fa0\n",
              "9  3        none             uuid:973c4ac6-f887-48e7-aeaf-4476f2cfab76\n",
              "10 2        none             uuid:a7a3451f-cd0d-4027-82d9-8dcd1234fcca\n",
              "11 2        none             uuid:1936db62-5732-45dc-98ff-9b3ac7a22518\n",
              "12 2        none             uuid:85465caf-23e4-4283-bb72-a0ef30e30176\n",
              "13 3        Jan;Feb;Mar      uuid:143f7478-0126-4fbc-86e0-5d324339206b\n",
              "14 3        none             uuid:a457eab8-971b-4417-a971-2e55b8702816\n",
              "15 3        none             uuid:6c15d667-2860-47e3-a5e7-7f679271e419\n",
              "16 3        none             uuid:ef04b3eb-b47d-412e-9b09-4f5e08fc66f9\n",
              "17 2        none             uuid:1feb0108-4599-4bf9-8a07-1f5e66a50a0a\n",
              "18 2        Aug;Sept;Oct     uuid:f6d04b41-b539-4e00-868a-0f62b427587d\n",
              "19 3        Nov;Dec          uuid:ffc83162-ff24-4a87-8709-eff17abc0b3b\n",
              "20 3        Oct;Nov          uuid:aa77a0d7-7142-41c8-b494-483a5b68d8a7"
            ]
          },
          "metadata": {}
        }
      ]
    },
    {
      "cell_type": "code",
      "source": [
        "# filters observations with \"&\" logical operator\n",
        "# output dataframe satisfies ALL specified conditions\n",
        "filter(interviews, village == \"Chirodzo\" & rooms > 1)"
      ],
      "metadata": {
        "colab": {
          "base_uri": "https://localhost:8080/",
          "height": 1000
        },
        "id": "H8r9M5v17LdS",
        "outputId": "b56cf77e-aed8-4d83-b49c-8be4cb7793e0"
      },
      "execution_count": null,
      "outputs": [
        {
          "output_type": "display_data",
          "data": {
            "text/html": [
              "<table class=\"dataframe\">\n",
              "<caption>A spec_tbl_df: 20 × 14</caption>\n",
              "<thead>\n",
              "\t<tr><th scope=col>key_ID</th><th scope=col>village</th><th scope=col>interview_date</th><th scope=col>no_membrs</th><th scope=col>years_liv</th><th scope=col>respondent_wall_type</th><th scope=col>rooms</th><th scope=col>memb_assoc</th><th scope=col>affect_conflicts</th><th scope=col>liv_count</th><th scope=col>items_owned</th><th scope=col>no_meals</th><th scope=col>months_lack_food</th><th scope=col>instanceID</th></tr>\n",
              "\t<tr><th scope=col>&lt;dbl&gt;</th><th scope=col>&lt;chr&gt;</th><th scope=col>&lt;dttm&gt;</th><th scope=col>&lt;dbl&gt;</th><th scope=col>&lt;dbl&gt;</th><th scope=col>&lt;chr&gt;</th><th scope=col>&lt;dbl&gt;</th><th scope=col>&lt;chr&gt;</th><th scope=col>&lt;chr&gt;</th><th scope=col>&lt;dbl&gt;</th><th scope=col>&lt;chr&gt;</th><th scope=col>&lt;dbl&gt;</th><th scope=col>&lt;chr&gt;</th><th scope=col>&lt;chr&gt;</th></tr>\n",
              "</thead>\n",
              "<tbody>\n",
              "\t<tr><td>  8</td><td>Chirodzo</td><td>2016-11-16</td><td>12</td><td>70</td><td>burntbricks</td><td>3</td><td>yes</td><td>never     </td><td>2</td><td>motorcyle;bicycle;television;radio;cow_plough;solar_panel;solar_torch;table;fridge                                   </td><td>2</td><td>Jan             </td><td>uuid:d6cee930-7be1-4fd9-88c0-82a08f90fb5a</td></tr>\n",
              "\t<tr><td> 10</td><td>Chirodzo</td><td>2016-12-16</td><td>12</td><td>23</td><td>burntbricks</td><td>5</td><td>no </td><td>never     </td><td>2</td><td>cow_cart;motorcyle;bicycle;television;radio;cow_plough;solar_panel;solar_torch;table                                 </td><td>3</td><td>Jan;Oct;Nov;Dec </td><td>uuid:8f4e49bc-da81-4356-ae34-e0d794a23721</td></tr>\n",
              "\t<tr><td> 34</td><td>Chirodzo</td><td>2016-11-17</td><td> 8</td><td>18</td><td>burntbricks</td><td>3</td><td>yes</td><td>more_once </td><td>3</td><td>television;radio;cow_plough;solar_panel;solar_torch;table;mobile_phone                                               </td><td>2</td><td>Jan;Dec         </td><td>uuid:14c78c45-a7cc-4b2a-b765-17c82b43feb4</td></tr>\n",
              "\t<tr><td> 46</td><td>Chirodzo</td><td>2016-11-17</td><td>10</td><td>42</td><td>burntbricks</td><td>2</td><td>no </td><td>once      </td><td>2</td><td>motorcyle;computer;television;sterio;solar_panel;solar_torch;table;mobile_phone                                      </td><td>2</td><td>Sept;Oct;Nov    </td><td>uuid:35f297e0-aa5d-4149-9b7b-4965004cfc37</td></tr>\n",
              "\t<tr><td> 49</td><td>Chirodzo</td><td>2016-11-16</td><td> 6</td><td>26</td><td>burntbricks</td><td>2</td><td>NA </td><td>NA        </td><td>2</td><td>bicycle;radio;cow_plough;solar_panel;solar_torch;table;mobile_phone                                                  </td><td>3</td><td>Jan;Nov;Dec     </td><td>uuid:2303ebc1-2b3c-475a-8916-b322ebf18440</td></tr>\n",
              "\t<tr><td> 52</td><td>Chirodzo</td><td>2016-11-16</td><td>11</td><td>15</td><td>burntbricks</td><td>3</td><td>no </td><td>never     </td><td>3</td><td>motorcyle;television;radio;cow_plough;solar_panel;mobile_phone                                                       </td><td>3</td><td>Aug;Sept;Oct;Nov</td><td>uuid:6db55cb4-a853-4000-9555-757b7fae2bcf</td></tr>\n",
              "\t<tr><td> 21</td><td>Chirodzo</td><td>2016-11-16</td><td> 8</td><td>16</td><td>burntbricks</td><td>3</td><td>yes</td><td>frequently</td><td>2</td><td>bicycle;radio;mobile_phone                                                                                           </td><td>2</td><td>Nov             </td><td>uuid:cc7f75c5-d13e-43f3-97e5-4f4c03cb4b12</td></tr>\n",
              "\t<tr><td> 55</td><td>Chirodzo</td><td>2016-11-16</td><td> 9</td><td>23</td><td>muddaub    </td><td>2</td><td>NA </td><td>NA        </td><td>1</td><td>television;cow_plough;mobile_phone                                                                                   </td><td>2</td><td>Oct;Nov         </td><td>uuid:883c0433-9891-4121-bc63-744f082c1fa0</td></tr>\n",
              "\t<tr><td> 56</td><td>Chirodzo</td><td>2016-11-16</td><td>12</td><td>23</td><td>burntbricks</td><td>2</td><td>yes</td><td>never     </td><td>2</td><td>motorcyle;bicycle;mobile_phone                                                                                       </td><td>3</td><td>none            </td><td>uuid:973c4ac6-f887-48e7-aeaf-4476f2cfab76</td></tr>\n",
              "\t<tr><td> 58</td><td>Chirodzo</td><td>2016-11-16</td><td>11</td><td>45</td><td>burntbricks</td><td>3</td><td>no </td><td>never     </td><td>3</td><td>motorcyle;bicycle;television;radio;cow_plough;solar_panel;mobile_phone                                               </td><td>2</td><td>none            </td><td>uuid:a7a3451f-cd0d-4027-82d9-8dcd1234fcca</td></tr>\n",
              "\t<tr><td> 59</td><td>Chirodzo</td><td>2016-11-16</td><td> 2</td><td>60</td><td>muddaub    </td><td>3</td><td>NA </td><td>NA        </td><td>3</td><td>NA                                                                                                                   </td><td>2</td><td>none            </td><td>uuid:1936db62-5732-45dc-98ff-9b3ac7a22518</td></tr>\n",
              "\t<tr><td> 60</td><td>Chirodzo</td><td>2016-11-16</td><td> 8</td><td>15</td><td>burntbricks</td><td>2</td><td>no </td><td>never     </td><td>4</td><td>cow_plough                                                                                                           </td><td>2</td><td>none            </td><td>uuid:85465caf-23e4-4283-bb72-a0ef30e30176</td></tr>\n",
              "\t<tr><td> 65</td><td>Chirodzo</td><td>2016-11-16</td><td> 8</td><td>20</td><td>burntbricks</td><td>3</td><td>no </td><td>once      </td><td>3</td><td>motorcyle;radio;cow_plough;table                                                                                     </td><td>3</td><td>Jan;Feb;Mar     </td><td>uuid:143f7478-0126-4fbc-86e0-5d324339206b</td></tr>\n",
              "\t<tr><td> 66</td><td>Chirodzo</td><td>2016-11-16</td><td>10</td><td>37</td><td>burntbricks</td><td>3</td><td>yes</td><td>frequently</td><td>4</td><td>cow_cart;motorcyle;bicycle;television;radio;cow_plough;solar_panel;solar_torch;mobile_phone                          </td><td>3</td><td>none            </td><td>uuid:a457eab8-971b-4417-a971-2e55b8702816</td></tr>\n",
              "\t<tr><td> 67</td><td>Chirodzo</td><td>2016-11-16</td><td> 5</td><td>31</td><td>burntbricks</td><td>2</td><td>no </td><td>more_once </td><td>4</td><td>motorcyle;radio;cow_plough;solar_panel;mobile_phone                                                                  </td><td>3</td><td>none            </td><td>uuid:6c15d667-2860-47e3-a5e7-7f679271e419</td></tr>\n",
              "\t<tr><td> 68</td><td>Chirodzo</td><td>2016-11-16</td><td> 8</td><td>52</td><td>burntbricks</td><td>3</td><td>no </td><td>more_once </td><td>3</td><td>motorcyle;television;sterio;solar_panel;mobile_phone                                                                 </td><td>3</td><td>none            </td><td>uuid:ef04b3eb-b47d-412e-9b09-4f5e08fc66f9</td></tr>\n",
              "\t<tr><td> 70</td><td>Chirodzo</td><td>2016-11-16</td><td> 8</td><td>25</td><td>burntbricks</td><td>2</td><td>no </td><td>more_once </td><td>4</td><td>cow_cart;bicycle;radio;cow_plough;solar_panel;mobile_phone                                                           </td><td>2</td><td>none            </td><td>uuid:1feb0108-4599-4bf9-8a07-1f5e66a50a0a</td></tr>\n",
              "\t<tr><td>127</td><td>Chirodzo</td><td>2016-11-16</td><td> 4</td><td>18</td><td>burntbricks</td><td>8</td><td>NA </td><td>NA        </td><td>1</td><td>mobile_phone                                                                                                         </td><td>2</td><td>Aug;Sept;Oct    </td><td>uuid:f6d04b41-b539-4e00-868a-0f62b427587d</td></tr>\n",
              "\t<tr><td>199</td><td>Chirodzo</td><td>2017-06-04</td><td> 7</td><td>17</td><td>burntbricks</td><td>2</td><td>yes</td><td>more_once </td><td>2</td><td>cow_cart;lorry;motorcyle;computer;television;radio;sterio;cow_plough;solar_panel;solar_torch;electricity;mobile_phone</td><td>3</td><td>Nov;Dec         </td><td>uuid:ffc83162-ff24-4a87-8709-eff17abc0b3b</td></tr>\n",
              "\t<tr><td>200</td><td>Chirodzo</td><td>2017-06-04</td><td> 8</td><td>20</td><td>burntbricks</td><td>2</td><td>NA </td><td>NA        </td><td>3</td><td>radio;cow_plough;solar_panel;solar_torch;table;mobile_phone                                                          </td><td>3</td><td>Oct;Nov         </td><td>uuid:aa77a0d7-7142-41c8-b494-483a5b68d8a7</td></tr>\n",
              "</tbody>\n",
              "</table>\n"
            ],
            "text/markdown": "\nA spec_tbl_df: 20 × 14\n\n| key_ID &lt;dbl&gt; | village &lt;chr&gt; | interview_date &lt;dttm&gt; | no_membrs &lt;dbl&gt; | years_liv &lt;dbl&gt; | respondent_wall_type &lt;chr&gt; | rooms &lt;dbl&gt; | memb_assoc &lt;chr&gt; | affect_conflicts &lt;chr&gt; | liv_count &lt;dbl&gt; | items_owned &lt;chr&gt; | no_meals &lt;dbl&gt; | months_lack_food &lt;chr&gt; | instanceID &lt;chr&gt; |\n|---|---|---|---|---|---|---|---|---|---|---|---|---|---|\n|   8 | Chirodzo | 2016-11-16 | 12 | 70 | burntbricks | 3 | yes | never      | 2 | motorcyle;bicycle;television;radio;cow_plough;solar_panel;solar_torch;table;fridge                                    | 2 | Jan              | uuid:d6cee930-7be1-4fd9-88c0-82a08f90fb5a |\n|  10 | Chirodzo | 2016-12-16 | 12 | 23 | burntbricks | 5 | no  | never      | 2 | cow_cart;motorcyle;bicycle;television;radio;cow_plough;solar_panel;solar_torch;table                                  | 3 | Jan;Oct;Nov;Dec  | uuid:8f4e49bc-da81-4356-ae34-e0d794a23721 |\n|  34 | Chirodzo | 2016-11-17 |  8 | 18 | burntbricks | 3 | yes | more_once  | 3 | television;radio;cow_plough;solar_panel;solar_torch;table;mobile_phone                                                | 2 | Jan;Dec          | uuid:14c78c45-a7cc-4b2a-b765-17c82b43feb4 |\n|  46 | Chirodzo | 2016-11-17 | 10 | 42 | burntbricks | 2 | no  | once       | 2 | motorcyle;computer;television;sterio;solar_panel;solar_torch;table;mobile_phone                                       | 2 | Sept;Oct;Nov     | uuid:35f297e0-aa5d-4149-9b7b-4965004cfc37 |\n|  49 | Chirodzo | 2016-11-16 |  6 | 26 | burntbricks | 2 | NA  | NA         | 2 | bicycle;radio;cow_plough;solar_panel;solar_torch;table;mobile_phone                                                   | 3 | Jan;Nov;Dec      | uuid:2303ebc1-2b3c-475a-8916-b322ebf18440 |\n|  52 | Chirodzo | 2016-11-16 | 11 | 15 | burntbricks | 3 | no  | never      | 3 | motorcyle;television;radio;cow_plough;solar_panel;mobile_phone                                                        | 3 | Aug;Sept;Oct;Nov | uuid:6db55cb4-a853-4000-9555-757b7fae2bcf |\n|  21 | Chirodzo | 2016-11-16 |  8 | 16 | burntbricks | 3 | yes | frequently | 2 | bicycle;radio;mobile_phone                                                                                            | 2 | Nov              | uuid:cc7f75c5-d13e-43f3-97e5-4f4c03cb4b12 |\n|  55 | Chirodzo | 2016-11-16 |  9 | 23 | muddaub     | 2 | NA  | NA         | 1 | television;cow_plough;mobile_phone                                                                                    | 2 | Oct;Nov          | uuid:883c0433-9891-4121-bc63-744f082c1fa0 |\n|  56 | Chirodzo | 2016-11-16 | 12 | 23 | burntbricks | 2 | yes | never      | 2 | motorcyle;bicycle;mobile_phone                                                                                        | 3 | none             | uuid:973c4ac6-f887-48e7-aeaf-4476f2cfab76 |\n|  58 | Chirodzo | 2016-11-16 | 11 | 45 | burntbricks | 3 | no  | never      | 3 | motorcyle;bicycle;television;radio;cow_plough;solar_panel;mobile_phone                                                | 2 | none             | uuid:a7a3451f-cd0d-4027-82d9-8dcd1234fcca |\n|  59 | Chirodzo | 2016-11-16 |  2 | 60 | muddaub     | 3 | NA  | NA         | 3 | NA                                                                                                                    | 2 | none             | uuid:1936db62-5732-45dc-98ff-9b3ac7a22518 |\n|  60 | Chirodzo | 2016-11-16 |  8 | 15 | burntbricks | 2 | no  | never      | 4 | cow_plough                                                                                                            | 2 | none             | uuid:85465caf-23e4-4283-bb72-a0ef30e30176 |\n|  65 | Chirodzo | 2016-11-16 |  8 | 20 | burntbricks | 3 | no  | once       | 3 | motorcyle;radio;cow_plough;table                                                                                      | 3 | Jan;Feb;Mar      | uuid:143f7478-0126-4fbc-86e0-5d324339206b |\n|  66 | Chirodzo | 2016-11-16 | 10 | 37 | burntbricks | 3 | yes | frequently | 4 | cow_cart;motorcyle;bicycle;television;radio;cow_plough;solar_panel;solar_torch;mobile_phone                           | 3 | none             | uuid:a457eab8-971b-4417-a971-2e55b8702816 |\n|  67 | Chirodzo | 2016-11-16 |  5 | 31 | burntbricks | 2 | no  | more_once  | 4 | motorcyle;radio;cow_plough;solar_panel;mobile_phone                                                                   | 3 | none             | uuid:6c15d667-2860-47e3-a5e7-7f679271e419 |\n|  68 | Chirodzo | 2016-11-16 |  8 | 52 | burntbricks | 3 | no  | more_once  | 3 | motorcyle;television;sterio;solar_panel;mobile_phone                                                                  | 3 | none             | uuid:ef04b3eb-b47d-412e-9b09-4f5e08fc66f9 |\n|  70 | Chirodzo | 2016-11-16 |  8 | 25 | burntbricks | 2 | no  | more_once  | 4 | cow_cart;bicycle;radio;cow_plough;solar_panel;mobile_phone                                                            | 2 | none             | uuid:1feb0108-4599-4bf9-8a07-1f5e66a50a0a |\n| 127 | Chirodzo | 2016-11-16 |  4 | 18 | burntbricks | 8 | NA  | NA         | 1 | mobile_phone                                                                                                          | 2 | Aug;Sept;Oct     | uuid:f6d04b41-b539-4e00-868a-0f62b427587d |\n| 199 | Chirodzo | 2017-06-04 |  7 | 17 | burntbricks | 2 | yes | more_once  | 2 | cow_cart;lorry;motorcyle;computer;television;radio;sterio;cow_plough;solar_panel;solar_torch;electricity;mobile_phone | 3 | Nov;Dec          | uuid:ffc83162-ff24-4a87-8709-eff17abc0b3b |\n| 200 | Chirodzo | 2017-06-04 |  8 | 20 | burntbricks | 2 | NA  | NA         | 3 | radio;cow_plough;solar_panel;solar_torch;table;mobile_phone                                                           | 3 | Oct;Nov          | uuid:aa77a0d7-7142-41c8-b494-483a5b68d8a7 |\n\n",
            "text/latex": "A spec\\_tbl\\_df: 20 × 14\n\\begin{tabular}{llllllllllllll}\n key\\_ID & village & interview\\_date & no\\_membrs & years\\_liv & respondent\\_wall\\_type & rooms & memb\\_assoc & affect\\_conflicts & liv\\_count & items\\_owned & no\\_meals & months\\_lack\\_food & instanceID\\\\\n <dbl> & <chr> & <dttm> & <dbl> & <dbl> & <chr> & <dbl> & <chr> & <chr> & <dbl> & <chr> & <dbl> & <chr> & <chr>\\\\\n\\hline\n\t   8 & Chirodzo & 2016-11-16 & 12 & 70 & burntbricks & 3 & yes & never      & 2 & motorcyle;bicycle;television;radio;cow\\_plough;solar\\_panel;solar\\_torch;table;fridge                                    & 2 & Jan              & uuid:d6cee930-7be1-4fd9-88c0-82a08f90fb5a\\\\\n\t  10 & Chirodzo & 2016-12-16 & 12 & 23 & burntbricks & 5 & no  & never      & 2 & cow\\_cart;motorcyle;bicycle;television;radio;cow\\_plough;solar\\_panel;solar\\_torch;table                                  & 3 & Jan;Oct;Nov;Dec  & uuid:8f4e49bc-da81-4356-ae34-e0d794a23721\\\\\n\t  34 & Chirodzo & 2016-11-17 &  8 & 18 & burntbricks & 3 & yes & more\\_once  & 3 & television;radio;cow\\_plough;solar\\_panel;solar\\_torch;table;mobile\\_phone                                                & 2 & Jan;Dec          & uuid:14c78c45-a7cc-4b2a-b765-17c82b43feb4\\\\\n\t  46 & Chirodzo & 2016-11-17 & 10 & 42 & burntbricks & 2 & no  & once       & 2 & motorcyle;computer;television;sterio;solar\\_panel;solar\\_torch;table;mobile\\_phone                                       & 2 & Sept;Oct;Nov     & uuid:35f297e0-aa5d-4149-9b7b-4965004cfc37\\\\\n\t  49 & Chirodzo & 2016-11-16 &  6 & 26 & burntbricks & 2 & NA  & NA         & 2 & bicycle;radio;cow\\_plough;solar\\_panel;solar\\_torch;table;mobile\\_phone                                                   & 3 & Jan;Nov;Dec      & uuid:2303ebc1-2b3c-475a-8916-b322ebf18440\\\\\n\t  52 & Chirodzo & 2016-11-16 & 11 & 15 & burntbricks & 3 & no  & never      & 3 & motorcyle;television;radio;cow\\_plough;solar\\_panel;mobile\\_phone                                                        & 3 & Aug;Sept;Oct;Nov & uuid:6db55cb4-a853-4000-9555-757b7fae2bcf\\\\\n\t  21 & Chirodzo & 2016-11-16 &  8 & 16 & burntbricks & 3 & yes & frequently & 2 & bicycle;radio;mobile\\_phone                                                                                            & 2 & Nov              & uuid:cc7f75c5-d13e-43f3-97e5-4f4c03cb4b12\\\\\n\t  55 & Chirodzo & 2016-11-16 &  9 & 23 & muddaub     & 2 & NA  & NA         & 1 & television;cow\\_plough;mobile\\_phone                                                                                    & 2 & Oct;Nov          & uuid:883c0433-9891-4121-bc63-744f082c1fa0\\\\\n\t  56 & Chirodzo & 2016-11-16 & 12 & 23 & burntbricks & 2 & yes & never      & 2 & motorcyle;bicycle;mobile\\_phone                                                                                        & 3 & none             & uuid:973c4ac6-f887-48e7-aeaf-4476f2cfab76\\\\\n\t  58 & Chirodzo & 2016-11-16 & 11 & 45 & burntbricks & 3 & no  & never      & 3 & motorcyle;bicycle;television;radio;cow\\_plough;solar\\_panel;mobile\\_phone                                                & 2 & none             & uuid:a7a3451f-cd0d-4027-82d9-8dcd1234fcca\\\\\n\t  59 & Chirodzo & 2016-11-16 &  2 & 60 & muddaub     & 3 & NA  & NA         & 3 & NA                                                                                                                    & 2 & none             & uuid:1936db62-5732-45dc-98ff-9b3ac7a22518\\\\\n\t  60 & Chirodzo & 2016-11-16 &  8 & 15 & burntbricks & 2 & no  & never      & 4 & cow\\_plough                                                                                                            & 2 & none             & uuid:85465caf-23e4-4283-bb72-a0ef30e30176\\\\\n\t  65 & Chirodzo & 2016-11-16 &  8 & 20 & burntbricks & 3 & no  & once       & 3 & motorcyle;radio;cow\\_plough;table                                                                                      & 3 & Jan;Feb;Mar      & uuid:143f7478-0126-4fbc-86e0-5d324339206b\\\\\n\t  66 & Chirodzo & 2016-11-16 & 10 & 37 & burntbricks & 3 & yes & frequently & 4 & cow\\_cart;motorcyle;bicycle;television;radio;cow\\_plough;solar\\_panel;solar\\_torch;mobile\\_phone                           & 3 & none             & uuid:a457eab8-971b-4417-a971-2e55b8702816\\\\\n\t  67 & Chirodzo & 2016-11-16 &  5 & 31 & burntbricks & 2 & no  & more\\_once  & 4 & motorcyle;radio;cow\\_plough;solar\\_panel;mobile\\_phone                                                                   & 3 & none             & uuid:6c15d667-2860-47e3-a5e7-7f679271e419\\\\\n\t  68 & Chirodzo & 2016-11-16 &  8 & 52 & burntbricks & 3 & no  & more\\_once  & 3 & motorcyle;television;sterio;solar\\_panel;mobile\\_phone                                                                  & 3 & none             & uuid:ef04b3eb-b47d-412e-9b09-4f5e08fc66f9\\\\\n\t  70 & Chirodzo & 2016-11-16 &  8 & 25 & burntbricks & 2 & no  & more\\_once  & 4 & cow\\_cart;bicycle;radio;cow\\_plough;solar\\_panel;mobile\\_phone                                                            & 2 & none             & uuid:1feb0108-4599-4bf9-8a07-1f5e66a50a0a\\\\\n\t 127 & Chirodzo & 2016-11-16 &  4 & 18 & burntbricks & 8 & NA  & NA         & 1 & mobile\\_phone                                                                                                          & 2 & Aug;Sept;Oct     & uuid:f6d04b41-b539-4e00-868a-0f62b427587d\\\\\n\t 199 & Chirodzo & 2017-06-04 &  7 & 17 & burntbricks & 2 & yes & more\\_once  & 2 & cow\\_cart;lorry;motorcyle;computer;television;radio;sterio;cow\\_plough;solar\\_panel;solar\\_torch;electricity;mobile\\_phone & 3 & Nov;Dec          & uuid:ffc83162-ff24-4a87-8709-eff17abc0b3b\\\\\n\t 200 & Chirodzo & 2017-06-04 &  8 & 20 & burntbricks & 2 & NA  & NA         & 3 & radio;cow\\_plough;solar\\_panel;solar\\_torch;table;mobile\\_phone                                                           & 3 & Oct;Nov          & uuid:aa77a0d7-7142-41c8-b494-483a5b68d8a7\\\\\n\\end{tabular}\n",
            "text/plain": [
              "   key_ID village  interview_date no_membrs years_liv respondent_wall_type\n",
              "1    8    Chirodzo 2016-11-16     12        70        burntbricks         \n",
              "2   10    Chirodzo 2016-12-16     12        23        burntbricks         \n",
              "3   34    Chirodzo 2016-11-17      8        18        burntbricks         \n",
              "4   46    Chirodzo 2016-11-17     10        42        burntbricks         \n",
              "5   49    Chirodzo 2016-11-16      6        26        burntbricks         \n",
              "6   52    Chirodzo 2016-11-16     11        15        burntbricks         \n",
              "7   21    Chirodzo 2016-11-16      8        16        burntbricks         \n",
              "8   55    Chirodzo 2016-11-16      9        23        muddaub             \n",
              "9   56    Chirodzo 2016-11-16     12        23        burntbricks         \n",
              "10  58    Chirodzo 2016-11-16     11        45        burntbricks         \n",
              "11  59    Chirodzo 2016-11-16      2        60        muddaub             \n",
              "12  60    Chirodzo 2016-11-16      8        15        burntbricks         \n",
              "13  65    Chirodzo 2016-11-16      8        20        burntbricks         \n",
              "14  66    Chirodzo 2016-11-16     10        37        burntbricks         \n",
              "15  67    Chirodzo 2016-11-16      5        31        burntbricks         \n",
              "16  68    Chirodzo 2016-11-16      8        52        burntbricks         \n",
              "17  70    Chirodzo 2016-11-16      8        25        burntbricks         \n",
              "18 127    Chirodzo 2016-11-16      4        18        burntbricks         \n",
              "19 199    Chirodzo 2017-06-04      7        17        burntbricks         \n",
              "20 200    Chirodzo 2017-06-04      8        20        burntbricks         \n",
              "   rooms memb_assoc affect_conflicts liv_count\n",
              "1  3     yes        never            2        \n",
              "2  5     no         never            2        \n",
              "3  3     yes        more_once        3        \n",
              "4  2     no         once             2        \n",
              "5  2     NA         NA               2        \n",
              "6  3     no         never            3        \n",
              "7  3     yes        frequently       2        \n",
              "8  2     NA         NA               1        \n",
              "9  2     yes        never            2        \n",
              "10 3     no         never            3        \n",
              "11 3     NA         NA               3        \n",
              "12 2     no         never            4        \n",
              "13 3     no         once             3        \n",
              "14 3     yes        frequently       4        \n",
              "15 2     no         more_once        4        \n",
              "16 3     no         more_once        3        \n",
              "17 2     no         more_once        4        \n",
              "18 8     NA         NA               1        \n",
              "19 2     yes        more_once        2        \n",
              "20 2     NA         NA               3        \n",
              "   items_owned                                                                                                          \n",
              "1  motorcyle;bicycle;television;radio;cow_plough;solar_panel;solar_torch;table;fridge                                   \n",
              "2  cow_cart;motorcyle;bicycle;television;radio;cow_plough;solar_panel;solar_torch;table                                 \n",
              "3  television;radio;cow_plough;solar_panel;solar_torch;table;mobile_phone                                               \n",
              "4  motorcyle;computer;television;sterio;solar_panel;solar_torch;table;mobile_phone                                      \n",
              "5  bicycle;radio;cow_plough;solar_panel;solar_torch;table;mobile_phone                                                  \n",
              "6  motorcyle;television;radio;cow_plough;solar_panel;mobile_phone                                                       \n",
              "7  bicycle;radio;mobile_phone                                                                                           \n",
              "8  television;cow_plough;mobile_phone                                                                                   \n",
              "9  motorcyle;bicycle;mobile_phone                                                                                       \n",
              "10 motorcyle;bicycle;television;radio;cow_plough;solar_panel;mobile_phone                                               \n",
              "11 NA                                                                                                                   \n",
              "12 cow_plough                                                                                                           \n",
              "13 motorcyle;radio;cow_plough;table                                                                                     \n",
              "14 cow_cart;motorcyle;bicycle;television;radio;cow_plough;solar_panel;solar_torch;mobile_phone                          \n",
              "15 motorcyle;radio;cow_plough;solar_panel;mobile_phone                                                                  \n",
              "16 motorcyle;television;sterio;solar_panel;mobile_phone                                                                 \n",
              "17 cow_cart;bicycle;radio;cow_plough;solar_panel;mobile_phone                                                           \n",
              "18 mobile_phone                                                                                                         \n",
              "19 cow_cart;lorry;motorcyle;computer;television;radio;sterio;cow_plough;solar_panel;solar_torch;electricity;mobile_phone\n",
              "20 radio;cow_plough;solar_panel;solar_torch;table;mobile_phone                                                          \n",
              "   no_meals months_lack_food instanceID                               \n",
              "1  2        Jan              uuid:d6cee930-7be1-4fd9-88c0-82a08f90fb5a\n",
              "2  3        Jan;Oct;Nov;Dec  uuid:8f4e49bc-da81-4356-ae34-e0d794a23721\n",
              "3  2        Jan;Dec          uuid:14c78c45-a7cc-4b2a-b765-17c82b43feb4\n",
              "4  2        Sept;Oct;Nov     uuid:35f297e0-aa5d-4149-9b7b-4965004cfc37\n",
              "5  3        Jan;Nov;Dec      uuid:2303ebc1-2b3c-475a-8916-b322ebf18440\n",
              "6  3        Aug;Sept;Oct;Nov uuid:6db55cb4-a853-4000-9555-757b7fae2bcf\n",
              "7  2        Nov              uuid:cc7f75c5-d13e-43f3-97e5-4f4c03cb4b12\n",
              "8  2        Oct;Nov          uuid:883c0433-9891-4121-bc63-744f082c1fa0\n",
              "9  3        none             uuid:973c4ac6-f887-48e7-aeaf-4476f2cfab76\n",
              "10 2        none             uuid:a7a3451f-cd0d-4027-82d9-8dcd1234fcca\n",
              "11 2        none             uuid:1936db62-5732-45dc-98ff-9b3ac7a22518\n",
              "12 2        none             uuid:85465caf-23e4-4283-bb72-a0ef30e30176\n",
              "13 3        Jan;Feb;Mar      uuid:143f7478-0126-4fbc-86e0-5d324339206b\n",
              "14 3        none             uuid:a457eab8-971b-4417-a971-2e55b8702816\n",
              "15 3        none             uuid:6c15d667-2860-47e3-a5e7-7f679271e419\n",
              "16 3        none             uuid:ef04b3eb-b47d-412e-9b09-4f5e08fc66f9\n",
              "17 2        none             uuid:1feb0108-4599-4bf9-8a07-1f5e66a50a0a\n",
              "18 2        Aug;Sept;Oct     uuid:f6d04b41-b539-4e00-868a-0f62b427587d\n",
              "19 3        Nov;Dec          uuid:ffc83162-ff24-4a87-8709-eff17abc0b3b\n",
              "20 3        Oct;Nov          uuid:aa77a0d7-7142-41c8-b494-483a5b68d8a7"
            ]
          },
          "metadata": {}
        }
      ]
    },
    {
      "cell_type": "code",
      "source": [
        "# filters observations with \"|\" logical operator\n",
        "# output dataframe satisfies AT LEAST ONE of the specified condition\n",
        "# filter(interviews, village == \"Chirodzo\" | village == \"Ruaca\")\n",
        "filter(interviews, village != \"Chirodzo\")"
      ],
      "metadata": {
        "colab": {
          "base_uri": "https://localhost:8080/",
          "height": 1000
        },
        "id": "JtF77G5k7L5d",
        "outputId": "3cbacf10-e3b9-4eb7-84bc-5451ebfe89a2"
      },
      "execution_count": null,
      "outputs": [
        {
          "output_type": "display_data",
          "data": {
            "text/html": [
              "<table class=\"dataframe\">\n",
              "<caption>A spec_tbl_df: 92 × 14</caption>\n",
              "<thead>\n",
              "\t<tr><th scope=col>key_ID</th><th scope=col>village</th><th scope=col>interview_date</th><th scope=col>no_membrs</th><th scope=col>years_liv</th><th scope=col>respondent_wall_type</th><th scope=col>rooms</th><th scope=col>memb_assoc</th><th scope=col>affect_conflicts</th><th scope=col>liv_count</th><th scope=col>items_owned</th><th scope=col>no_meals</th><th scope=col>months_lack_food</th><th scope=col>instanceID</th></tr>\n",
              "\t<tr><th scope=col>&lt;dbl&gt;</th><th scope=col>&lt;chr&gt;</th><th scope=col>&lt;dttm&gt;</th><th scope=col>&lt;dbl&gt;</th><th scope=col>&lt;dbl&gt;</th><th scope=col>&lt;chr&gt;</th><th scope=col>&lt;dbl&gt;</th><th scope=col>&lt;chr&gt;</th><th scope=col>&lt;chr&gt;</th><th scope=col>&lt;dbl&gt;</th><th scope=col>&lt;chr&gt;</th><th scope=col>&lt;dbl&gt;</th><th scope=col>&lt;chr&gt;</th><th scope=col>&lt;chr&gt;</th></tr>\n",
              "</thead>\n",
              "<tbody>\n",
              "\t<tr><td> 1</td><td>God  </td><td>2016-11-17</td><td> 3</td><td> 4</td><td>muddaub    </td><td>1</td><td>NA </td><td>NA        </td><td>1</td><td>bicycle;television;solar_panel;table                                                              </td><td>2</td><td>Jan                                           </td><td>uuid:ec241f2c-0609-46ed-b5e8-fe575f6cefef</td></tr>\n",
              "\t<tr><td> 1</td><td>God  </td><td>2016-11-17</td><td> 7</td><td> 9</td><td>muddaub    </td><td>1</td><td>yes</td><td>once      </td><td>3</td><td>cow_cart;bicycle;radio;cow_plough;solar_panel;solar_torch;table;mobile_phone                      </td><td>2</td><td>Jan;Sept;Oct;Nov;Dec                          </td><td>uuid:099de9c9-3e5e-427b-8452-26250e840d6e</td></tr>\n",
              "\t<tr><td> 3</td><td>God  </td><td>2016-11-17</td><td>10</td><td>15</td><td>burntbricks</td><td>1</td><td>NA </td><td>NA        </td><td>1</td><td>solar_torch                                                                                       </td><td>2</td><td>Jan;Feb;Mar;Oct;Nov;Dec                       </td><td>uuid:193d7daf-9582-409b-bf09-027dd36f9007</td></tr>\n",
              "\t<tr><td> 4</td><td>God  </td><td>2016-11-17</td><td> 7</td><td> 6</td><td>burntbricks</td><td>1</td><td>NA </td><td>NA        </td><td>2</td><td>bicycle;radio;cow_plough;solar_panel;mobile_phone                                                 </td><td>2</td><td>Sept;Oct;Nov;Dec                              </td><td>uuid:148d1105-778a-4755-aa71-281eadd4a973</td></tr>\n",
              "\t<tr><td> 5</td><td>God  </td><td>2016-11-17</td><td> 7</td><td>40</td><td>burntbricks</td><td>1</td><td>NA </td><td>NA        </td><td>4</td><td>motorcyle;radio;cow_plough;mobile_phone                                                           </td><td>2</td><td>Aug;Sept;Oct;Nov                              </td><td>uuid:2c867811-9696-4966-9866-f35c3e97d02d</td></tr>\n",
              "\t<tr><td> 6</td><td>God  </td><td>2016-11-17</td><td> 3</td><td> 3</td><td>muddaub    </td><td>1</td><td>NA </td><td>NA        </td><td>1</td><td>NA                                                                                                </td><td>2</td><td>Aug;Sept;Oct                                  </td><td>uuid:daa56c91-c8e3-44c3-a663-af6a49a2ca70</td></tr>\n",
              "\t<tr><td> 7</td><td>God  </td><td>2016-11-17</td><td> 6</td><td>38</td><td>muddaub    </td><td>1</td><td>no </td><td>never     </td><td>1</td><td>motorcyle;cow_plough                                                                              </td><td>3</td><td>Nov                                           </td><td>uuid:ae20a58d-56f4-43d7-bafa-e7963d850844</td></tr>\n",
              "\t<tr><td>11</td><td>God  </td><td>2016-11-21</td><td> 6</td><td>20</td><td>sunbricks  </td><td>1</td><td>NA </td><td>NA        </td><td>2</td><td>radio;cow_plough                                                                                  </td><td>2</td><td>Oct;Nov                                       </td><td>uuid:d29b44e3-3348-4afc-aa4d-9eb34c89d483</td></tr>\n",
              "\t<tr><td>12</td><td>God  </td><td>2016-11-21</td><td> 7</td><td>20</td><td>burntbricks</td><td>3</td><td>yes</td><td>never     </td><td>2</td><td>cow_cart;bicycle;radio;cow_plough;table                                                           </td><td>3</td><td>Sept;Oct                                      </td><td>uuid:e6ee6269-b467-4e37-91fc-5e9eaf934557</td></tr>\n",
              "\t<tr><td>13</td><td>God  </td><td>2016-11-21</td><td> 6</td><td> 8</td><td>burntbricks</td><td>1</td><td>no </td><td>never     </td><td>3</td><td>bicycle;radio;cow_plough;mobile_phone                                                             </td><td>2</td><td>Sept;Oct;Nov                                  </td><td>uuid:6c00c145-ee3b-409c-8c02-2c8d743b6918</td></tr>\n",
              "\t<tr><td>14</td><td>God  </td><td>2016-11-21</td><td>10</td><td>20</td><td>burntbricks</td><td>3</td><td>NA </td><td>NA        </td><td>3</td><td>bicycle;radio;cow_plough;solar_panel;table;mobile_phone                                           </td><td>3</td><td>June;July;Aug;Sept;Oct;Nov                    </td><td>uuid:9b21467f-1116-4340-a3b1-1ab64f13c87d</td></tr>\n",
              "\t<tr><td>15</td><td>God  </td><td>2016-11-21</td><td> 5</td><td>30</td><td>sunbricks  </td><td>2</td><td>yes</td><td>once      </td><td>3</td><td>bicycle;radio;cow_plough;solar_panel;table                                                        </td><td>2</td><td>Jan;Feb;Mar;Apr;May;June;July;Aug;Sept;Oct;Nov</td><td>uuid:a837e545-ff86-4a1c-a1a5-6186804b985f</td></tr>\n",
              "\t<tr><td>16</td><td>God  </td><td>2016-11-24</td><td> 6</td><td>47</td><td>muddaub    </td><td>1</td><td>NA </td><td>NA        </td><td>4</td><td>radio;cow_plough;solar_panel;solar_torch                                                          </td><td>3</td><td>Jan;Feb                                       </td><td>uuid:d17db52f-4b87-4768-b534-ea8f9704c565</td></tr>\n",
              "\t<tr><td>17</td><td>God  </td><td>2016-11-21</td><td> 8</td><td>20</td><td>sunbricks  </td><td>1</td><td>NA </td><td>NA        </td><td>1</td><td>mobile_phone                                                                                      </td><td>2</td><td>Nov;Dec                                       </td><td>uuid:4707f3dc-df18-4348-9c2c-eec651e89b6b</td></tr>\n",
              "\t<tr><td>18</td><td>God  </td><td>2016-11-21</td><td> 4</td><td>20</td><td>muddaub    </td><td>1</td><td>NA </td><td>NA        </td><td>3</td><td>bicycle;mobile_phone                                                                              </td><td>2</td><td>Oct;Nov                                       </td><td>uuid:7ffe7bd1-a15c-420c-a137-e1f006c317a3</td></tr>\n",
              "\t<tr><td>19</td><td>God  </td><td>2016-11-21</td><td> 9</td><td>23</td><td>burntbricks</td><td>2</td><td>NA </td><td>NA        </td><td>2</td><td>bicycle;radio;cow_plough;solar_panel;solar_torch;mobile_phone                                     </td><td>3</td><td>Oct;Nov;Dec                                   </td><td>uuid:e32f2dc0-0d05-42fb-8e21-605757ddf07d</td></tr>\n",
              "\t<tr><td>20</td><td>God  </td><td>2016-11-21</td><td> 6</td><td> 1</td><td>burntbricks</td><td>1</td><td>NA </td><td>NA        </td><td>1</td><td>bicycle;cow_plough;solar_torch                                                                    </td><td>2</td><td>Oct;Nov                                       </td><td>uuid:d1005274-bf52-4e79-8380-3350dd7c2bac</td></tr>\n",
              "\t<tr><td>21</td><td>God  </td><td>2016-11-21</td><td> 8</td><td>20</td><td>burntbricks</td><td>1</td><td>no </td><td>never     </td><td>3</td><td>NA                                                                                                </td><td>2</td><td>Jan;Feb;Mar;Oct;Nov;Dec                       </td><td>uuid:6570a7d0-6a0b-452c-aa2e-922500e35749</td></tr>\n",
              "\t<tr><td>22</td><td>God  </td><td>2016-11-21</td><td> 4</td><td>20</td><td>muddaub    </td><td>1</td><td>NA </td><td>NA        </td><td>1</td><td>radio                                                                                             </td><td>2</td><td>Jan;Feb;Mar;Apr;Aug;Sept;Oct;Nov;Dec          </td><td>uuid:a51c3006-8847-46ff-9d4e-d29919b8ecf9</td></tr>\n",
              "\t<tr><td>23</td><td>Ruaca</td><td>2016-11-21</td><td>10</td><td>20</td><td>burntbricks</td><td>4</td><td>NA </td><td>NA        </td><td>3</td><td>cow_cart;bicycle;television;radio;cow_plough;solar_panel;electricity;mobile_phone                 </td><td>3</td><td>none                                          </td><td>uuid:58b37b6d-d6cd-4414-8790-b9c68bca98de</td></tr>\n",
              "\t<tr><td>24</td><td>Ruaca</td><td>2016-11-21</td><td> 6</td><td> 4</td><td>burntbricks</td><td>2</td><td>no </td><td>never     </td><td>3</td><td>radio;table;sofa_set;mobile_phone                                                                 </td><td>2</td><td>Nov;Dec                                       </td><td>uuid:661457d3-7e61-45e8-a238-7415e7548f82</td></tr>\n",
              "\t<tr><td>25</td><td>Ruaca</td><td>2016-11-21</td><td>11</td><td> 6</td><td>burntbricks</td><td>3</td><td>no </td><td>never     </td><td>2</td><td>cow_cart;motorcyle;television;radio;cow_plough;solar_panel;solar_torch;table;sofa_set;mobile_phone</td><td>2</td><td>Jan;Feb;Oct                                   </td><td>uuid:45ed84c4-114e-4df0-9f5d-c800806c2bee</td></tr>\n",
              "\t<tr><td>26</td><td>Ruaca</td><td>2016-11-21</td><td> 3</td><td>20</td><td>burntbricks</td><td>2</td><td>no </td><td>never     </td><td>2</td><td>radio;cow_plough;table;mobile_phone                                                               </td><td>2</td><td>none                                          </td><td>uuid:1c54ee24-22c4-4ee9-b1ad-42d483c08e2e</td></tr>\n",
              "\t<tr><td>27</td><td>Ruaca</td><td>2016-11-21</td><td> 7</td><td>36</td><td>burntbricks</td><td>2</td><td>NA </td><td>NA        </td><td>3</td><td>bicycle;radio;cow_plough;solar_panel;solar_torch;mobile_phone                                     </td><td>3</td><td>none                                          </td><td>uuid:3197cded-1fdc-4c0c-9b10-cfcc0bf49c4d</td></tr>\n",
              "\t<tr><td>28</td><td>Ruaca</td><td>2016-11-21</td><td> 2</td><td> 2</td><td>muddaub    </td><td>1</td><td>no </td><td>more_once </td><td>1</td><td>NA                                                                                                </td><td>3</td><td>Aug;Sept;Oct                                  </td><td>uuid:1de53318-a8cf-4736-99b1-8239f8822473</td></tr>\n",
              "\t<tr><td>29</td><td>Ruaca</td><td>2016-11-21</td><td> 7</td><td>10</td><td>burntbricks</td><td>2</td><td>yes</td><td>frequently</td><td>1</td><td>motorcyle;bicycle;radio;table;mobile_phone                                                        </td><td>3</td><td>Jan;Feb                                       </td><td>uuid:adcd7463-8943-4c67-b25f-f72311409476</td></tr>\n",
              "\t<tr><td>30</td><td>Ruaca</td><td>2016-11-21</td><td> 7</td><td>22</td><td>muddaub    </td><td>2</td><td>NA </td><td>NA        </td><td>1</td><td>bicycle;radio;mobile_phone                                                                        </td><td>2</td><td>Jan;Feb                                       </td><td>uuid:59341ead-92be-45a9-8545-6edf9f94fdc6</td></tr>\n",
              "\t<tr><td>31</td><td>Ruaca</td><td>2016-11-21</td><td> 3</td><td> 2</td><td>muddaub    </td><td>1</td><td>NA </td><td>NA        </td><td>1</td><td>NA                                                                                                </td><td>3</td><td>none                                          </td><td>uuid:cb06eb49-dd39-4150-8bbe-a599e074afe8</td></tr>\n",
              "\t<tr><td>32</td><td>Ruaca</td><td>2016-11-21</td><td>19</td><td>69</td><td>muddaub    </td><td>2</td><td>yes</td><td>more_once </td><td>5</td><td>cow_cart;motorcyle;radio;cow_plough;solar_panel;mobile_phone                                      </td><td>2</td><td>none                                          </td><td>uuid:25597af3-cd79-449c-a48a-fb9aea6c48bf</td></tr>\n",
              "\t<tr><td>33</td><td>Ruaca</td><td>2016-11-21</td><td> 8</td><td>34</td><td>muddaub    </td><td>1</td><td>no </td><td>more_once </td><td>2</td><td>cow_cart;lorry;motorcyle;sterio;cow_plough;solar_panel;mobile_phone                               </td><td>2</td><td>none                                          </td><td>uuid:0fbd2df1-2640-4550-9fbd-7317feaa4758</td></tr>\n",
              "\t<tr><td>⋮</td><td>⋮</td><td>⋮</td><td>⋮</td><td>⋮</td><td>⋮</td><td>⋮</td><td>⋮</td><td>⋮</td><td>⋮</td><td>⋮</td><td>⋮</td><td>⋮</td><td>⋮</td></tr>\n",
              "\t<tr><td> 78</td><td>Ruaca</td><td>2017-04-28</td><td> 6</td><td>48</td><td>burntbricks</td><td>1</td><td>no </td><td>more_once </td><td>2</td><td>cow_plough                                                                                                       </td><td>2</td><td>Aug;Sept;Oct         </td><td>uuid:da3fa7cc-5ce9-44fd-9a78-b8982b607515</td></tr>\n",
              "\t<tr><td> 80</td><td>Ruaca</td><td>2017-04-28</td><td> 5</td><td>12</td><td>muddaub    </td><td>1</td><td>no </td><td>more_once </td><td>1</td><td>cow_cart;bicycle;radio;cow_plough;solar_panel;solar_torch                                                        </td><td>3</td><td>none                 </td><td>uuid:a85df6df-0336-46fa-a9f4-522bf6f8b438</td></tr>\n",
              "\t<tr><td>104</td><td>Ruaca</td><td>2017-04-28</td><td>14</td><td>52</td><td>sunbricks  </td><td>1</td><td>yes</td><td>never     </td><td>4</td><td>cow_cart;bicycle;cow_plough                                                                                      </td><td>3</td><td>Jan;Feb;Dec          </td><td>uuid:bb2bb365-7d7d-4fe9-9353-b21269676119</td></tr>\n",
              "\t<tr><td>105</td><td>Ruaca</td><td>2017-04-28</td><td> 6</td><td>40</td><td>sunbricks  </td><td>1</td><td>yes</td><td>frequently</td><td>2</td><td>motorcyle;radio;cow_plough;solar_panel;mobile_phone                                                              </td><td>3</td><td>Jan;Feb;Dec          </td><td>uuid:af0904ee-4fdb-4090-973f-599c81ddf022</td></tr>\n",
              "\t<tr><td>106</td><td>God  </td><td>2017-04-30</td><td>15</td><td>22</td><td>sunbricks  </td><td>5</td><td>no </td><td>never     </td><td>2</td><td>cow_cart;motorcyle;bicycle;radio;sterio;cow_plough;solar_panel;solar_torch;table;mobile_phone                    </td><td>3</td><td>Oct;Nov;Dec          </td><td>uuid:468797c1-4a65-4f35-9c83-e28ce46972a2</td></tr>\n",
              "\t<tr><td>109</td><td>God  </td><td>2017-05-03</td><td> 4</td><td>12</td><td>sunbricks  </td><td>1</td><td>NA </td><td>NA        </td><td>3</td><td>cow_cart;bicycle;radio;cow_plough;table                                                                          </td><td>3</td><td>July;Aug;Sept;Oct;Nov</td><td>uuid:602cd3f6-4a97-49c6-80e3-bcfd5c78dfa4</td></tr>\n",
              "\t<tr><td>110</td><td>Ruaca</td><td>2017-05-03</td><td> 6</td><td>22</td><td>sunbricks  </td><td>3</td><td>no </td><td>never     </td><td>3</td><td>bicycle;radio;cow_plough;table;mobile_phone                                                                      </td><td>2</td><td>none                 </td><td>uuid:e7c51ac4-24e4-475e-88e7-f85e896945e3</td></tr>\n",
              "\t<tr><td>113</td><td>Ruaca</td><td>2017-05-03</td><td>11</td><td>26</td><td>burntbricks</td><td>3</td><td>no </td><td>never     </td><td>4</td><td>cow_cart;motorcyle;bicycle;radio;cow_plough;solar_panel;solar_torch;table;mobile_phone                           </td><td>3</td><td>none                 </td><td>uuid:01210861-aba1-4268-98d0-0260e05f5155</td></tr>\n",
              "\t<tr><td>118</td><td>Ruaca</td><td>2017-05-04</td><td> 5</td><td>25</td><td>muddaub    </td><td>1</td><td>NA </td><td>NA        </td><td>1</td><td>radio;solar_torch;mobile_phone                                                                                   </td><td>3</td><td>Oct;Nov;Dec          </td><td>uuid:77335b2e-8812-4a35-b1e5-ca9ab626dfea</td></tr>\n",
              "\t<tr><td>125</td><td>Ruaca</td><td>2017-05-04</td><td> 5</td><td>14</td><td>burntbricks</td><td>1</td><td>no </td><td>more_once </td><td>2</td><td>bicycle;radio;cow_plough;solar_panel;solar_torch;mobile_phone                                                    </td><td>3</td><td>Jan;Sept;Oct;Nov;Dec </td><td>uuid:02b05c68-302e-4e7a-b229-81cb1377fd29</td></tr>\n",
              "\t<tr><td>119</td><td>Ruaca</td><td>2017-05-04</td><td> 3</td><td>14</td><td>muddaub    </td><td>1</td><td>no </td><td>never     </td><td>4</td><td>bicycle;cow_plough;solar_panel;mobile_phone                                                                      </td><td>3</td><td>none                 </td><td>uuid:fa201fce-4e94-44b8-b435-c558c2e1ed55</td></tr>\n",
              "\t<tr><td>115</td><td>Ruaca</td><td>2017-05-11</td><td> 4</td><td>16</td><td>sunbricks  </td><td>2</td><td>NA </td><td>NA        </td><td>3</td><td>cow_cart;motorcyle;bicycle;television;radio;cow_plough;solar_panel;solar_torch;table;mobile_phone                </td><td>3</td><td>none                 </td><td>uuid:628fe23d-188f-43e4-a203-a4bf3257d461</td></tr>\n",
              "\t<tr><td>108</td><td>God  </td><td>2017-05-11</td><td>15</td><td>22</td><td>burntbricks</td><td>2</td><td>no </td><td>never     </td><td>4</td><td>cow_cart;bicycle;radio;cow_plough;solar_panel;table;mobile_phone                                                 </td><td>3</td><td>Aug;Sept;Oct;Nov     </td><td>uuid:e4f4d6ba-e698-45a5-947f-ba6da88cc22b</td></tr>\n",
              "\t<tr><td>116</td><td>Ruaca</td><td>2017-05-11</td><td> 5</td><td>25</td><td>burntbricks</td><td>3</td><td>NA </td><td>NA        </td><td>3</td><td>motorcyle;bicycle;television;radio;cow_plough;solar_panel;solar_torch;table;mobile_phone                         </td><td>3</td><td>Jan;Nov;Dec          </td><td>uuid:cfee6297-2c0e-4f8a-94cc-9aaee0bd64cb</td></tr>\n",
              "\t<tr><td>117</td><td>Ruaca</td><td>2017-05-11</td><td>10</td><td>28</td><td>muddaub    </td><td>4</td><td>NA </td><td>NA        </td><td>1</td><td>motorcyle;television;radio;solar_panel;solar_torch;table;mobile_phone                                            </td><td>3</td><td>Jan;Feb;Nov;Dec      </td><td>uuid:3fe626b3-c794-48e1-a80f-5bfe440c507b</td></tr>\n",
              "\t<tr><td>144</td><td>Ruaca</td><td>2017-05-18</td><td> 7</td><td> 5</td><td>burntbricks</td><td>4</td><td>no </td><td>frequently</td><td>4</td><td>cow_cart;television;radio;cow_plough;solar_panel;solar_torch;table;mobile_phone                                  </td><td>2</td><td>none                 </td><td>uuid:0670cef6-d233-4852-89d8-36955261b0a3</td></tr>\n",
              "\t<tr><td>143</td><td>Ruaca</td><td>2017-05-18</td><td>10</td><td>24</td><td>burntbricks</td><td>2</td><td>no </td><td>frequently</td><td>3</td><td>cow_cart;motorcyle;television;radio;cow_plough;solar_torch;table;mobile_phone                                    </td><td>3</td><td>Jan;Dec              </td><td>uuid:9a096a12-b335-468c-b3cc-1191180d62de</td></tr>\n",
              "\t<tr><td>150</td><td>Ruaca</td><td>2017-05-18</td><td> 7</td><td> 8</td><td>muddaub    </td><td>1</td><td>no </td><td>never     </td><td>1</td><td>mobile_phone                                                                                                     </td><td>3</td><td>Sept;Oct;Nov         </td><td>uuid:92613d0d-e7b1-4d62-8ea4-451d7cd0a982</td></tr>\n",
              "\t<tr><td>159</td><td>God  </td><td>2017-05-18</td><td> 4</td><td>24</td><td>sunbricks  </td><td>1</td><td>no </td><td>never     </td><td>1</td><td>radio;solar_panel;solar_torch                                                                                    </td><td>3</td><td>Sept;Oct;Nov         </td><td>uuid:37577f91-d665-443e-8d70-b914954cef4b</td></tr>\n",
              "\t<tr><td>160</td><td>God  </td><td>2017-06-03</td><td> 7</td><td>13</td><td>burntbricks</td><td>2</td><td>yes</td><td>frequently</td><td>2</td><td>cow_cart;cow_plough;solar_torch;mobile_phone                                                                     </td><td>2</td><td>Nov                  </td><td>uuid:f22831ec-6bc3-4b73-9197-4b01e01abb66</td></tr>\n",
              "\t<tr><td>165</td><td>Ruaca</td><td>2017-06-03</td><td> 9</td><td>14</td><td>burntbricks</td><td>1</td><td>no </td><td>never     </td><td>3</td><td>cow_cart;motorcyle;bicycle;television;radio;cow_plough;solar_torch;electricity;table;sofa_set;mobile_phone;fridge</td><td>3</td><td>none                 </td><td>uuid:62f3f7af-f0f3-4f88-b9e0-acf8baa49ae4</td></tr>\n",
              "\t<tr><td>166</td><td>Ruaca</td><td>2017-06-03</td><td>11</td><td>16</td><td>muddaub    </td><td>1</td><td>no </td><td>never     </td><td>1</td><td>bicycle;solar_torch;mobile_phone                                                                                 </td><td>2</td><td>Feb;Mar              </td><td>uuid:40aac732-94df-496c-97ba-5b67f59bcc7a</td></tr>\n",
              "\t<tr><td>167</td><td>Ruaca</td><td>2017-06-03</td><td> 8</td><td>24</td><td>muddaub    </td><td>1</td><td>no </td><td>never     </td><td>3</td><td>motorcyle;radio;cow_plough;solar_panel;solar_torch;table;mobile_phone                                            </td><td>2</td><td>Jan;Nov;Dec          </td><td>uuid:a9d1a013-043b-475d-a71b-77ed80abe970</td></tr>\n",
              "\t<tr><td>174</td><td>Ruaca</td><td>2017-06-03</td><td>12</td><td>25</td><td>burntbricks</td><td>2</td><td>no </td><td>never     </td><td>3</td><td>car;lorry;motorcyle;radio;sterio;cow_plough;solar_panel;solar_torch;table;sofa_set;mobile_phone;fridge           </td><td>3</td><td>Jan;Feb;Dec          </td><td>uuid:43ec6132-478c-4f87-878d-fb3c0c4d0c74</td></tr>\n",
              "\t<tr><td>175</td><td>Ruaca</td><td>2017-06-03</td><td> 7</td><td>36</td><td>burntbricks</td><td>1</td><td>no </td><td>never     </td><td>4</td><td>motorcyle;bicycle;radio;sterio;cow_plough;solar_panel;table;mobile_phone                                         </td><td>2</td><td>Jan;Oct;Nov;Dec      </td><td>uuid:64fc743e-8176-40f6-8ae4-36ae97fac1d9</td></tr>\n",
              "\t<tr><td>189</td><td>Ruaca</td><td>2017-06-03</td><td>15</td><td>16</td><td>sunbricks  </td><td>1</td><td>no </td><td>never     </td><td>3</td><td>motorcyle;radio;sterio;cow_plough;solar_panel;table;mobile_phone                                                 </td><td>3</td><td>Nov                  </td><td>uuid:c17e374c-280b-4e78-bf21-74a7c1c73492</td></tr>\n",
              "\t<tr><td>191</td><td>Ruaca</td><td>2017-06-03</td><td>10</td><td> 5</td><td>burntbricks</td><td>4</td><td>no </td><td>never     </td><td>1</td><td>radio;cow_plough;solar_panel;solar_torch;mobile_phone                                                            </td><td>2</td><td>Oct;Nov;Dec          </td><td>uuid:dad53aff-b520-4015-a9e3-f5fdf9168fe1</td></tr>\n",
              "\t<tr><td>126</td><td>Ruaca</td><td>2017-05-18</td><td> 3</td><td> 7</td><td>burntbricks</td><td>1</td><td>no </td><td>more_once </td><td>3</td><td>motorcyle;radio;solar_panel                                                                                      </td><td>3</td><td>Oct;Nov;Dec          </td><td>uuid:69caea81-a4e5-4e8d-83cd-9c18d8e8d965</td></tr>\n",
              "\t<tr><td>193</td><td>Ruaca</td><td>2017-06-04</td><td> 7</td><td>10</td><td>cement     </td><td>3</td><td>no </td><td>more_once </td><td>3</td><td>car;lorry;television;radio;sterio;cow_plough;solar_torch;electricity;table;sofa_set;mobile_phone;fridge          </td><td>3</td><td>none                 </td><td>uuid:5ccc2e5a-ea90-48b5-8542-69400d5334df</td></tr>\n",
              "\t<tr><td>194</td><td>Ruaca</td><td>2017-06-04</td><td> 4</td><td> 5</td><td>muddaub    </td><td>1</td><td>no </td><td>more_once </td><td>1</td><td>radio;solar_panel;solar_torch;mobile_phone                                                                       </td><td>3</td><td>Sept;Oct;Nov         </td><td>uuid:95c11a30-d44f-40c4-8ea8-ec34fca6bbbf</td></tr>\n",
              "</tbody>\n",
              "</table>\n"
            ],
            "text/markdown": "\nA spec_tbl_df: 92 × 14\n\n| key_ID &lt;dbl&gt; | village &lt;chr&gt; | interview_date &lt;dttm&gt; | no_membrs &lt;dbl&gt; | years_liv &lt;dbl&gt; | respondent_wall_type &lt;chr&gt; | rooms &lt;dbl&gt; | memb_assoc &lt;chr&gt; | affect_conflicts &lt;chr&gt; | liv_count &lt;dbl&gt; | items_owned &lt;chr&gt; | no_meals &lt;dbl&gt; | months_lack_food &lt;chr&gt; | instanceID &lt;chr&gt; |\n|---|---|---|---|---|---|---|---|---|---|---|---|---|---|\n|  1 | God   | 2016-11-17 |  3 |  4 | muddaub     | 1 | NA  | NA         | 1 | bicycle;television;solar_panel;table                                                               | 2 | Jan                                            | uuid:ec241f2c-0609-46ed-b5e8-fe575f6cefef |\n|  1 | God   | 2016-11-17 |  7 |  9 | muddaub     | 1 | yes | once       | 3 | cow_cart;bicycle;radio;cow_plough;solar_panel;solar_torch;table;mobile_phone                       | 2 | Jan;Sept;Oct;Nov;Dec                           | uuid:099de9c9-3e5e-427b-8452-26250e840d6e |\n|  3 | God   | 2016-11-17 | 10 | 15 | burntbricks | 1 | NA  | NA         | 1 | solar_torch                                                                                        | 2 | Jan;Feb;Mar;Oct;Nov;Dec                        | uuid:193d7daf-9582-409b-bf09-027dd36f9007 |\n|  4 | God   | 2016-11-17 |  7 |  6 | burntbricks | 1 | NA  | NA         | 2 | bicycle;radio;cow_plough;solar_panel;mobile_phone                                                  | 2 | Sept;Oct;Nov;Dec                               | uuid:148d1105-778a-4755-aa71-281eadd4a973 |\n|  5 | God   | 2016-11-17 |  7 | 40 | burntbricks | 1 | NA  | NA         | 4 | motorcyle;radio;cow_plough;mobile_phone                                                            | 2 | Aug;Sept;Oct;Nov                               | uuid:2c867811-9696-4966-9866-f35c3e97d02d |\n|  6 | God   | 2016-11-17 |  3 |  3 | muddaub     | 1 | NA  | NA         | 1 | NA                                                                                                 | 2 | Aug;Sept;Oct                                   | uuid:daa56c91-c8e3-44c3-a663-af6a49a2ca70 |\n|  7 | God   | 2016-11-17 |  6 | 38 | muddaub     | 1 | no  | never      | 1 | motorcyle;cow_plough                                                                               | 3 | Nov                                            | uuid:ae20a58d-56f4-43d7-bafa-e7963d850844 |\n| 11 | God   | 2016-11-21 |  6 | 20 | sunbricks   | 1 | NA  | NA         | 2 | radio;cow_plough                                                                                   | 2 | Oct;Nov                                        | uuid:d29b44e3-3348-4afc-aa4d-9eb34c89d483 |\n| 12 | God   | 2016-11-21 |  7 | 20 | burntbricks | 3 | yes | never      | 2 | cow_cart;bicycle;radio;cow_plough;table                                                            | 3 | Sept;Oct                                       | uuid:e6ee6269-b467-4e37-91fc-5e9eaf934557 |\n| 13 | God   | 2016-11-21 |  6 |  8 | burntbricks | 1 | no  | never      | 3 | bicycle;radio;cow_plough;mobile_phone                                                              | 2 | Sept;Oct;Nov                                   | uuid:6c00c145-ee3b-409c-8c02-2c8d743b6918 |\n| 14 | God   | 2016-11-21 | 10 | 20 | burntbricks | 3 | NA  | NA         | 3 | bicycle;radio;cow_plough;solar_panel;table;mobile_phone                                            | 3 | June;July;Aug;Sept;Oct;Nov                     | uuid:9b21467f-1116-4340-a3b1-1ab64f13c87d |\n| 15 | God   | 2016-11-21 |  5 | 30 | sunbricks   | 2 | yes | once       | 3 | bicycle;radio;cow_plough;solar_panel;table                                                         | 2 | Jan;Feb;Mar;Apr;May;June;July;Aug;Sept;Oct;Nov | uuid:a837e545-ff86-4a1c-a1a5-6186804b985f |\n| 16 | God   | 2016-11-24 |  6 | 47 | muddaub     | 1 | NA  | NA         | 4 | radio;cow_plough;solar_panel;solar_torch                                                           | 3 | Jan;Feb                                        | uuid:d17db52f-4b87-4768-b534-ea8f9704c565 |\n| 17 | God   | 2016-11-21 |  8 | 20 | sunbricks   | 1 | NA  | NA         | 1 | mobile_phone                                                                                       | 2 | Nov;Dec                                        | uuid:4707f3dc-df18-4348-9c2c-eec651e89b6b |\n| 18 | God   | 2016-11-21 |  4 | 20 | muddaub     | 1 | NA  | NA         | 3 | bicycle;mobile_phone                                                                               | 2 | Oct;Nov                                        | uuid:7ffe7bd1-a15c-420c-a137-e1f006c317a3 |\n| 19 | God   | 2016-11-21 |  9 | 23 | burntbricks | 2 | NA  | NA         | 2 | bicycle;radio;cow_plough;solar_panel;solar_torch;mobile_phone                                      | 3 | Oct;Nov;Dec                                    | uuid:e32f2dc0-0d05-42fb-8e21-605757ddf07d |\n| 20 | God   | 2016-11-21 |  6 |  1 | burntbricks | 1 | NA  | NA         | 1 | bicycle;cow_plough;solar_torch                                                                     | 2 | Oct;Nov                                        | uuid:d1005274-bf52-4e79-8380-3350dd7c2bac |\n| 21 | God   | 2016-11-21 |  8 | 20 | burntbricks | 1 | no  | never      | 3 | NA                                                                                                 | 2 | Jan;Feb;Mar;Oct;Nov;Dec                        | uuid:6570a7d0-6a0b-452c-aa2e-922500e35749 |\n| 22 | God   | 2016-11-21 |  4 | 20 | muddaub     | 1 | NA  | NA         | 1 | radio                                                                                              | 2 | Jan;Feb;Mar;Apr;Aug;Sept;Oct;Nov;Dec           | uuid:a51c3006-8847-46ff-9d4e-d29919b8ecf9 |\n| 23 | Ruaca | 2016-11-21 | 10 | 20 | burntbricks | 4 | NA  | NA         | 3 | cow_cart;bicycle;television;radio;cow_plough;solar_panel;electricity;mobile_phone                  | 3 | none                                           | uuid:58b37b6d-d6cd-4414-8790-b9c68bca98de |\n| 24 | Ruaca | 2016-11-21 |  6 |  4 | burntbricks | 2 | no  | never      | 3 | radio;table;sofa_set;mobile_phone                                                                  | 2 | Nov;Dec                                        | uuid:661457d3-7e61-45e8-a238-7415e7548f82 |\n| 25 | Ruaca | 2016-11-21 | 11 |  6 | burntbricks | 3 | no  | never      | 2 | cow_cart;motorcyle;television;radio;cow_plough;solar_panel;solar_torch;table;sofa_set;mobile_phone | 2 | Jan;Feb;Oct                                    | uuid:45ed84c4-114e-4df0-9f5d-c800806c2bee |\n| 26 | Ruaca | 2016-11-21 |  3 | 20 | burntbricks | 2 | no  | never      | 2 | radio;cow_plough;table;mobile_phone                                                                | 2 | none                                           | uuid:1c54ee24-22c4-4ee9-b1ad-42d483c08e2e |\n| 27 | Ruaca | 2016-11-21 |  7 | 36 | burntbricks | 2 | NA  | NA         | 3 | bicycle;radio;cow_plough;solar_panel;solar_torch;mobile_phone                                      | 3 | none                                           | uuid:3197cded-1fdc-4c0c-9b10-cfcc0bf49c4d |\n| 28 | Ruaca | 2016-11-21 |  2 |  2 | muddaub     | 1 | no  | more_once  | 1 | NA                                                                                                 | 3 | Aug;Sept;Oct                                   | uuid:1de53318-a8cf-4736-99b1-8239f8822473 |\n| 29 | Ruaca | 2016-11-21 |  7 | 10 | burntbricks | 2 | yes | frequently | 1 | motorcyle;bicycle;radio;table;mobile_phone                                                         | 3 | Jan;Feb                                        | uuid:adcd7463-8943-4c67-b25f-f72311409476 |\n| 30 | Ruaca | 2016-11-21 |  7 | 22 | muddaub     | 2 | NA  | NA         | 1 | bicycle;radio;mobile_phone                                                                         | 2 | Jan;Feb                                        | uuid:59341ead-92be-45a9-8545-6edf9f94fdc6 |\n| 31 | Ruaca | 2016-11-21 |  3 |  2 | muddaub     | 1 | NA  | NA         | 1 | NA                                                                                                 | 3 | none                                           | uuid:cb06eb49-dd39-4150-8bbe-a599e074afe8 |\n| 32 | Ruaca | 2016-11-21 | 19 | 69 | muddaub     | 2 | yes | more_once  | 5 | cow_cart;motorcyle;radio;cow_plough;solar_panel;mobile_phone                                       | 2 | none                                           | uuid:25597af3-cd79-449c-a48a-fb9aea6c48bf |\n| 33 | Ruaca | 2016-11-21 |  8 | 34 | muddaub     | 1 | no  | more_once  | 2 | cow_cart;lorry;motorcyle;sterio;cow_plough;solar_panel;mobile_phone                                | 2 | none                                           | uuid:0fbd2df1-2640-4550-9fbd-7317feaa4758 |\n| ⋮ | ⋮ | ⋮ | ⋮ | ⋮ | ⋮ | ⋮ | ⋮ | ⋮ | ⋮ | ⋮ | ⋮ | ⋮ | ⋮ |\n|  78 | Ruaca | 2017-04-28 |  6 | 48 | burntbricks | 1 | no  | more_once  | 2 | cow_plough                                                                                                        | 2 | Aug;Sept;Oct          | uuid:da3fa7cc-5ce9-44fd-9a78-b8982b607515 |\n|  80 | Ruaca | 2017-04-28 |  5 | 12 | muddaub     | 1 | no  | more_once  | 1 | cow_cart;bicycle;radio;cow_plough;solar_panel;solar_torch                                                         | 3 | none                  | uuid:a85df6df-0336-46fa-a9f4-522bf6f8b438 |\n| 104 | Ruaca | 2017-04-28 | 14 | 52 | sunbricks   | 1 | yes | never      | 4 | cow_cart;bicycle;cow_plough                                                                                       | 3 | Jan;Feb;Dec           | uuid:bb2bb365-7d7d-4fe9-9353-b21269676119 |\n| 105 | Ruaca | 2017-04-28 |  6 | 40 | sunbricks   | 1 | yes | frequently | 2 | motorcyle;radio;cow_plough;solar_panel;mobile_phone                                                               | 3 | Jan;Feb;Dec           | uuid:af0904ee-4fdb-4090-973f-599c81ddf022 |\n| 106 | God   | 2017-04-30 | 15 | 22 | sunbricks   | 5 | no  | never      | 2 | cow_cart;motorcyle;bicycle;radio;sterio;cow_plough;solar_panel;solar_torch;table;mobile_phone                     | 3 | Oct;Nov;Dec           | uuid:468797c1-4a65-4f35-9c83-e28ce46972a2 |\n| 109 | God   | 2017-05-03 |  4 | 12 | sunbricks   | 1 | NA  | NA         | 3 | cow_cart;bicycle;radio;cow_plough;table                                                                           | 3 | July;Aug;Sept;Oct;Nov | uuid:602cd3f6-4a97-49c6-80e3-bcfd5c78dfa4 |\n| 110 | Ruaca | 2017-05-03 |  6 | 22 | sunbricks   | 3 | no  | never      | 3 | bicycle;radio;cow_plough;table;mobile_phone                                                                       | 2 | none                  | uuid:e7c51ac4-24e4-475e-88e7-f85e896945e3 |\n| 113 | Ruaca | 2017-05-03 | 11 | 26 | burntbricks | 3 | no  | never      | 4 | cow_cart;motorcyle;bicycle;radio;cow_plough;solar_panel;solar_torch;table;mobile_phone                            | 3 | none                  | uuid:01210861-aba1-4268-98d0-0260e05f5155 |\n| 118 | Ruaca | 2017-05-04 |  5 | 25 | muddaub     | 1 | NA  | NA         | 1 | radio;solar_torch;mobile_phone                                                                                    | 3 | Oct;Nov;Dec           | uuid:77335b2e-8812-4a35-b1e5-ca9ab626dfea |\n| 125 | Ruaca | 2017-05-04 |  5 | 14 | burntbricks | 1 | no  | more_once  | 2 | bicycle;radio;cow_plough;solar_panel;solar_torch;mobile_phone                                                     | 3 | Jan;Sept;Oct;Nov;Dec  | uuid:02b05c68-302e-4e7a-b229-81cb1377fd29 |\n| 119 | Ruaca | 2017-05-04 |  3 | 14 | muddaub     | 1 | no  | never      | 4 | bicycle;cow_plough;solar_panel;mobile_phone                                                                       | 3 | none                  | uuid:fa201fce-4e94-44b8-b435-c558c2e1ed55 |\n| 115 | Ruaca | 2017-05-11 |  4 | 16 | sunbricks   | 2 | NA  | NA         | 3 | cow_cart;motorcyle;bicycle;television;radio;cow_plough;solar_panel;solar_torch;table;mobile_phone                 | 3 | none                  | uuid:628fe23d-188f-43e4-a203-a4bf3257d461 |\n| 108 | God   | 2017-05-11 | 15 | 22 | burntbricks | 2 | no  | never      | 4 | cow_cart;bicycle;radio;cow_plough;solar_panel;table;mobile_phone                                                  | 3 | Aug;Sept;Oct;Nov      | uuid:e4f4d6ba-e698-45a5-947f-ba6da88cc22b |\n| 116 | Ruaca | 2017-05-11 |  5 | 25 | burntbricks | 3 | NA  | NA         | 3 | motorcyle;bicycle;television;radio;cow_plough;solar_panel;solar_torch;table;mobile_phone                          | 3 | Jan;Nov;Dec           | uuid:cfee6297-2c0e-4f8a-94cc-9aaee0bd64cb |\n| 117 | Ruaca | 2017-05-11 | 10 | 28 | muddaub     | 4 | NA  | NA         | 1 | motorcyle;television;radio;solar_panel;solar_torch;table;mobile_phone                                             | 3 | Jan;Feb;Nov;Dec       | uuid:3fe626b3-c794-48e1-a80f-5bfe440c507b |\n| 144 | Ruaca | 2017-05-18 |  7 |  5 | burntbricks | 4 | no  | frequently | 4 | cow_cart;television;radio;cow_plough;solar_panel;solar_torch;table;mobile_phone                                   | 2 | none                  | uuid:0670cef6-d233-4852-89d8-36955261b0a3 |\n| 143 | Ruaca | 2017-05-18 | 10 | 24 | burntbricks | 2 | no  | frequently | 3 | cow_cart;motorcyle;television;radio;cow_plough;solar_torch;table;mobile_phone                                     | 3 | Jan;Dec               | uuid:9a096a12-b335-468c-b3cc-1191180d62de |\n| 150 | Ruaca | 2017-05-18 |  7 |  8 | muddaub     | 1 | no  | never      | 1 | mobile_phone                                                                                                      | 3 | Sept;Oct;Nov          | uuid:92613d0d-e7b1-4d62-8ea4-451d7cd0a982 |\n| 159 | God   | 2017-05-18 |  4 | 24 | sunbricks   | 1 | no  | never      | 1 | radio;solar_panel;solar_torch                                                                                     | 3 | Sept;Oct;Nov          | uuid:37577f91-d665-443e-8d70-b914954cef4b |\n| 160 | God   | 2017-06-03 |  7 | 13 | burntbricks | 2 | yes | frequently | 2 | cow_cart;cow_plough;solar_torch;mobile_phone                                                                      | 2 | Nov                   | uuid:f22831ec-6bc3-4b73-9197-4b01e01abb66 |\n| 165 | Ruaca | 2017-06-03 |  9 | 14 | burntbricks | 1 | no  | never      | 3 | cow_cart;motorcyle;bicycle;television;radio;cow_plough;solar_torch;electricity;table;sofa_set;mobile_phone;fridge | 3 | none                  | uuid:62f3f7af-f0f3-4f88-b9e0-acf8baa49ae4 |\n| 166 | Ruaca | 2017-06-03 | 11 | 16 | muddaub     | 1 | no  | never      | 1 | bicycle;solar_torch;mobile_phone                                                                                  | 2 | Feb;Mar               | uuid:40aac732-94df-496c-97ba-5b67f59bcc7a |\n| 167 | Ruaca | 2017-06-03 |  8 | 24 | muddaub     | 1 | no  | never      | 3 | motorcyle;radio;cow_plough;solar_panel;solar_torch;table;mobile_phone                                             | 2 | Jan;Nov;Dec           | uuid:a9d1a013-043b-475d-a71b-77ed80abe970 |\n| 174 | Ruaca | 2017-06-03 | 12 | 25 | burntbricks | 2 | no  | never      | 3 | car;lorry;motorcyle;radio;sterio;cow_plough;solar_panel;solar_torch;table;sofa_set;mobile_phone;fridge            | 3 | Jan;Feb;Dec           | uuid:43ec6132-478c-4f87-878d-fb3c0c4d0c74 |\n| 175 | Ruaca | 2017-06-03 |  7 | 36 | burntbricks | 1 | no  | never      | 4 | motorcyle;bicycle;radio;sterio;cow_plough;solar_panel;table;mobile_phone                                          | 2 | Jan;Oct;Nov;Dec       | uuid:64fc743e-8176-40f6-8ae4-36ae97fac1d9 |\n| 189 | Ruaca | 2017-06-03 | 15 | 16 | sunbricks   | 1 | no  | never      | 3 | motorcyle;radio;sterio;cow_plough;solar_panel;table;mobile_phone                                                  | 3 | Nov                   | uuid:c17e374c-280b-4e78-bf21-74a7c1c73492 |\n| 191 | Ruaca | 2017-06-03 | 10 |  5 | burntbricks | 4 | no  | never      | 1 | radio;cow_plough;solar_panel;solar_torch;mobile_phone                                                             | 2 | Oct;Nov;Dec           | uuid:dad53aff-b520-4015-a9e3-f5fdf9168fe1 |\n| 126 | Ruaca | 2017-05-18 |  3 |  7 | burntbricks | 1 | no  | more_once  | 3 | motorcyle;radio;solar_panel                                                                                       | 3 | Oct;Nov;Dec           | uuid:69caea81-a4e5-4e8d-83cd-9c18d8e8d965 |\n| 193 | Ruaca | 2017-06-04 |  7 | 10 | cement      | 3 | no  | more_once  | 3 | car;lorry;television;radio;sterio;cow_plough;solar_torch;electricity;table;sofa_set;mobile_phone;fridge           | 3 | none                  | uuid:5ccc2e5a-ea90-48b5-8542-69400d5334df |\n| 194 | Ruaca | 2017-06-04 |  4 |  5 | muddaub     | 1 | no  | more_once  | 1 | radio;solar_panel;solar_torch;mobile_phone                                                                        | 3 | Sept;Oct;Nov          | uuid:95c11a30-d44f-40c4-8ea8-ec34fca6bbbf |\n\n",
            "text/latex": "A spec\\_tbl\\_df: 92 × 14\n\\begin{tabular}{llllllllllllll}\n key\\_ID & village & interview\\_date & no\\_membrs & years\\_liv & respondent\\_wall\\_type & rooms & memb\\_assoc & affect\\_conflicts & liv\\_count & items\\_owned & no\\_meals & months\\_lack\\_food & instanceID\\\\\n <dbl> & <chr> & <dttm> & <dbl> & <dbl> & <chr> & <dbl> & <chr> & <chr> & <dbl> & <chr> & <dbl> & <chr> & <chr>\\\\\n\\hline\n\t  1 & God   & 2016-11-17 &  3 &  4 & muddaub     & 1 & NA  & NA         & 1 & bicycle;television;solar\\_panel;table                                                               & 2 & Jan                                            & uuid:ec241f2c-0609-46ed-b5e8-fe575f6cefef\\\\\n\t  1 & God   & 2016-11-17 &  7 &  9 & muddaub     & 1 & yes & once       & 3 & cow\\_cart;bicycle;radio;cow\\_plough;solar\\_panel;solar\\_torch;table;mobile\\_phone                       & 2 & Jan;Sept;Oct;Nov;Dec                           & uuid:099de9c9-3e5e-427b-8452-26250e840d6e\\\\\n\t  3 & God   & 2016-11-17 & 10 & 15 & burntbricks & 1 & NA  & NA         & 1 & solar\\_torch                                                                                        & 2 & Jan;Feb;Mar;Oct;Nov;Dec                        & uuid:193d7daf-9582-409b-bf09-027dd36f9007\\\\\n\t  4 & God   & 2016-11-17 &  7 &  6 & burntbricks & 1 & NA  & NA         & 2 & bicycle;radio;cow\\_plough;solar\\_panel;mobile\\_phone                                                  & 2 & Sept;Oct;Nov;Dec                               & uuid:148d1105-778a-4755-aa71-281eadd4a973\\\\\n\t  5 & God   & 2016-11-17 &  7 & 40 & burntbricks & 1 & NA  & NA         & 4 & motorcyle;radio;cow\\_plough;mobile\\_phone                                                            & 2 & Aug;Sept;Oct;Nov                               & uuid:2c867811-9696-4966-9866-f35c3e97d02d\\\\\n\t  6 & God   & 2016-11-17 &  3 &  3 & muddaub     & 1 & NA  & NA         & 1 & NA                                                                                                 & 2 & Aug;Sept;Oct                                   & uuid:daa56c91-c8e3-44c3-a663-af6a49a2ca70\\\\\n\t  7 & God   & 2016-11-17 &  6 & 38 & muddaub     & 1 & no  & never      & 1 & motorcyle;cow\\_plough                                                                               & 3 & Nov                                            & uuid:ae20a58d-56f4-43d7-bafa-e7963d850844\\\\\n\t 11 & God   & 2016-11-21 &  6 & 20 & sunbricks   & 1 & NA  & NA         & 2 & radio;cow\\_plough                                                                                   & 2 & Oct;Nov                                        & uuid:d29b44e3-3348-4afc-aa4d-9eb34c89d483\\\\\n\t 12 & God   & 2016-11-21 &  7 & 20 & burntbricks & 3 & yes & never      & 2 & cow\\_cart;bicycle;radio;cow\\_plough;table                                                            & 3 & Sept;Oct                                       & uuid:e6ee6269-b467-4e37-91fc-5e9eaf934557\\\\\n\t 13 & God   & 2016-11-21 &  6 &  8 & burntbricks & 1 & no  & never      & 3 & bicycle;radio;cow\\_plough;mobile\\_phone                                                              & 2 & Sept;Oct;Nov                                   & uuid:6c00c145-ee3b-409c-8c02-2c8d743b6918\\\\\n\t 14 & God   & 2016-11-21 & 10 & 20 & burntbricks & 3 & NA  & NA         & 3 & bicycle;radio;cow\\_plough;solar\\_panel;table;mobile\\_phone                                            & 3 & June;July;Aug;Sept;Oct;Nov                     & uuid:9b21467f-1116-4340-a3b1-1ab64f13c87d\\\\\n\t 15 & God   & 2016-11-21 &  5 & 30 & sunbricks   & 2 & yes & once       & 3 & bicycle;radio;cow\\_plough;solar\\_panel;table                                                         & 2 & Jan;Feb;Mar;Apr;May;June;July;Aug;Sept;Oct;Nov & uuid:a837e545-ff86-4a1c-a1a5-6186804b985f\\\\\n\t 16 & God   & 2016-11-24 &  6 & 47 & muddaub     & 1 & NA  & NA         & 4 & radio;cow\\_plough;solar\\_panel;solar\\_torch                                                           & 3 & Jan;Feb                                        & uuid:d17db52f-4b87-4768-b534-ea8f9704c565\\\\\n\t 17 & God   & 2016-11-21 &  8 & 20 & sunbricks   & 1 & NA  & NA         & 1 & mobile\\_phone                                                                                       & 2 & Nov;Dec                                        & uuid:4707f3dc-df18-4348-9c2c-eec651e89b6b\\\\\n\t 18 & God   & 2016-11-21 &  4 & 20 & muddaub     & 1 & NA  & NA         & 3 & bicycle;mobile\\_phone                                                                               & 2 & Oct;Nov                                        & uuid:7ffe7bd1-a15c-420c-a137-e1f006c317a3\\\\\n\t 19 & God   & 2016-11-21 &  9 & 23 & burntbricks & 2 & NA  & NA         & 2 & bicycle;radio;cow\\_plough;solar\\_panel;solar\\_torch;mobile\\_phone                                      & 3 & Oct;Nov;Dec                                    & uuid:e32f2dc0-0d05-42fb-8e21-605757ddf07d\\\\\n\t 20 & God   & 2016-11-21 &  6 &  1 & burntbricks & 1 & NA  & NA         & 1 & bicycle;cow\\_plough;solar\\_torch                                                                     & 2 & Oct;Nov                                        & uuid:d1005274-bf52-4e79-8380-3350dd7c2bac\\\\\n\t 21 & God   & 2016-11-21 &  8 & 20 & burntbricks & 1 & no  & never      & 3 & NA                                                                                                 & 2 & Jan;Feb;Mar;Oct;Nov;Dec                        & uuid:6570a7d0-6a0b-452c-aa2e-922500e35749\\\\\n\t 22 & God   & 2016-11-21 &  4 & 20 & muddaub     & 1 & NA  & NA         & 1 & radio                                                                                              & 2 & Jan;Feb;Mar;Apr;Aug;Sept;Oct;Nov;Dec           & uuid:a51c3006-8847-46ff-9d4e-d29919b8ecf9\\\\\n\t 23 & Ruaca & 2016-11-21 & 10 & 20 & burntbricks & 4 & NA  & NA         & 3 & cow\\_cart;bicycle;television;radio;cow\\_plough;solar\\_panel;electricity;mobile\\_phone                  & 3 & none                                           & uuid:58b37b6d-d6cd-4414-8790-b9c68bca98de\\\\\n\t 24 & Ruaca & 2016-11-21 &  6 &  4 & burntbricks & 2 & no  & never      & 3 & radio;table;sofa\\_set;mobile\\_phone                                                                  & 2 & Nov;Dec                                        & uuid:661457d3-7e61-45e8-a238-7415e7548f82\\\\\n\t 25 & Ruaca & 2016-11-21 & 11 &  6 & burntbricks & 3 & no  & never      & 2 & cow\\_cart;motorcyle;television;radio;cow\\_plough;solar\\_panel;solar\\_torch;table;sofa\\_set;mobile\\_phone & 2 & Jan;Feb;Oct                                    & uuid:45ed84c4-114e-4df0-9f5d-c800806c2bee\\\\\n\t 26 & Ruaca & 2016-11-21 &  3 & 20 & burntbricks & 2 & no  & never      & 2 & radio;cow\\_plough;table;mobile\\_phone                                                                & 2 & none                                           & uuid:1c54ee24-22c4-4ee9-b1ad-42d483c08e2e\\\\\n\t 27 & Ruaca & 2016-11-21 &  7 & 36 & burntbricks & 2 & NA  & NA         & 3 & bicycle;radio;cow\\_plough;solar\\_panel;solar\\_torch;mobile\\_phone                                      & 3 & none                                           & uuid:3197cded-1fdc-4c0c-9b10-cfcc0bf49c4d\\\\\n\t 28 & Ruaca & 2016-11-21 &  2 &  2 & muddaub     & 1 & no  & more\\_once  & 1 & NA                                                                                                 & 3 & Aug;Sept;Oct                                   & uuid:1de53318-a8cf-4736-99b1-8239f8822473\\\\\n\t 29 & Ruaca & 2016-11-21 &  7 & 10 & burntbricks & 2 & yes & frequently & 1 & motorcyle;bicycle;radio;table;mobile\\_phone                                                         & 3 & Jan;Feb                                        & uuid:adcd7463-8943-4c67-b25f-f72311409476\\\\\n\t 30 & Ruaca & 2016-11-21 &  7 & 22 & muddaub     & 2 & NA  & NA         & 1 & bicycle;radio;mobile\\_phone                                                                         & 2 & Jan;Feb                                        & uuid:59341ead-92be-45a9-8545-6edf9f94fdc6\\\\\n\t 31 & Ruaca & 2016-11-21 &  3 &  2 & muddaub     & 1 & NA  & NA         & 1 & NA                                                                                                 & 3 & none                                           & uuid:cb06eb49-dd39-4150-8bbe-a599e074afe8\\\\\n\t 32 & Ruaca & 2016-11-21 & 19 & 69 & muddaub     & 2 & yes & more\\_once  & 5 & cow\\_cart;motorcyle;radio;cow\\_plough;solar\\_panel;mobile\\_phone                                       & 2 & none                                           & uuid:25597af3-cd79-449c-a48a-fb9aea6c48bf\\\\\n\t 33 & Ruaca & 2016-11-21 &  8 & 34 & muddaub     & 1 & no  & more\\_once  & 2 & cow\\_cart;lorry;motorcyle;sterio;cow\\_plough;solar\\_panel;mobile\\_phone                                & 2 & none                                           & uuid:0fbd2df1-2640-4550-9fbd-7317feaa4758\\\\\n\t ⋮ & ⋮ & ⋮ & ⋮ & ⋮ & ⋮ & ⋮ & ⋮ & ⋮ & ⋮ & ⋮ & ⋮ & ⋮ & ⋮\\\\\n\t  78 & Ruaca & 2017-04-28 &  6 & 48 & burntbricks & 1 & no  & more\\_once  & 2 & cow\\_plough                                                                                                        & 2 & Aug;Sept;Oct          & uuid:da3fa7cc-5ce9-44fd-9a78-b8982b607515\\\\\n\t  80 & Ruaca & 2017-04-28 &  5 & 12 & muddaub     & 1 & no  & more\\_once  & 1 & cow\\_cart;bicycle;radio;cow\\_plough;solar\\_panel;solar\\_torch                                                         & 3 & none                  & uuid:a85df6df-0336-46fa-a9f4-522bf6f8b438\\\\\n\t 104 & Ruaca & 2017-04-28 & 14 & 52 & sunbricks   & 1 & yes & never      & 4 & cow\\_cart;bicycle;cow\\_plough                                                                                       & 3 & Jan;Feb;Dec           & uuid:bb2bb365-7d7d-4fe9-9353-b21269676119\\\\\n\t 105 & Ruaca & 2017-04-28 &  6 & 40 & sunbricks   & 1 & yes & frequently & 2 & motorcyle;radio;cow\\_plough;solar\\_panel;mobile\\_phone                                                               & 3 & Jan;Feb;Dec           & uuid:af0904ee-4fdb-4090-973f-599c81ddf022\\\\\n\t 106 & God   & 2017-04-30 & 15 & 22 & sunbricks   & 5 & no  & never      & 2 & cow\\_cart;motorcyle;bicycle;radio;sterio;cow\\_plough;solar\\_panel;solar\\_torch;table;mobile\\_phone                     & 3 & Oct;Nov;Dec           & uuid:468797c1-4a65-4f35-9c83-e28ce46972a2\\\\\n\t 109 & God   & 2017-05-03 &  4 & 12 & sunbricks   & 1 & NA  & NA         & 3 & cow\\_cart;bicycle;radio;cow\\_plough;table                                                                           & 3 & July;Aug;Sept;Oct;Nov & uuid:602cd3f6-4a97-49c6-80e3-bcfd5c78dfa4\\\\\n\t 110 & Ruaca & 2017-05-03 &  6 & 22 & sunbricks   & 3 & no  & never      & 3 & bicycle;radio;cow\\_plough;table;mobile\\_phone                                                                       & 2 & none                  & uuid:e7c51ac4-24e4-475e-88e7-f85e896945e3\\\\\n\t 113 & Ruaca & 2017-05-03 & 11 & 26 & burntbricks & 3 & no  & never      & 4 & cow\\_cart;motorcyle;bicycle;radio;cow\\_plough;solar\\_panel;solar\\_torch;table;mobile\\_phone                            & 3 & none                  & uuid:01210861-aba1-4268-98d0-0260e05f5155\\\\\n\t 118 & Ruaca & 2017-05-04 &  5 & 25 & muddaub     & 1 & NA  & NA         & 1 & radio;solar\\_torch;mobile\\_phone                                                                                    & 3 & Oct;Nov;Dec           & uuid:77335b2e-8812-4a35-b1e5-ca9ab626dfea\\\\\n\t 125 & Ruaca & 2017-05-04 &  5 & 14 & burntbricks & 1 & no  & more\\_once  & 2 & bicycle;radio;cow\\_plough;solar\\_panel;solar\\_torch;mobile\\_phone                                                     & 3 & Jan;Sept;Oct;Nov;Dec  & uuid:02b05c68-302e-4e7a-b229-81cb1377fd29\\\\\n\t 119 & Ruaca & 2017-05-04 &  3 & 14 & muddaub     & 1 & no  & never      & 4 & bicycle;cow\\_plough;solar\\_panel;mobile\\_phone                                                                       & 3 & none                  & uuid:fa201fce-4e94-44b8-b435-c558c2e1ed55\\\\\n\t 115 & Ruaca & 2017-05-11 &  4 & 16 & sunbricks   & 2 & NA  & NA         & 3 & cow\\_cart;motorcyle;bicycle;television;radio;cow\\_plough;solar\\_panel;solar\\_torch;table;mobile\\_phone                 & 3 & none                  & uuid:628fe23d-188f-43e4-a203-a4bf3257d461\\\\\n\t 108 & God   & 2017-05-11 & 15 & 22 & burntbricks & 2 & no  & never      & 4 & cow\\_cart;bicycle;radio;cow\\_plough;solar\\_panel;table;mobile\\_phone                                                  & 3 & Aug;Sept;Oct;Nov      & uuid:e4f4d6ba-e698-45a5-947f-ba6da88cc22b\\\\\n\t 116 & Ruaca & 2017-05-11 &  5 & 25 & burntbricks & 3 & NA  & NA         & 3 & motorcyle;bicycle;television;radio;cow\\_plough;solar\\_panel;solar\\_torch;table;mobile\\_phone                          & 3 & Jan;Nov;Dec           & uuid:cfee6297-2c0e-4f8a-94cc-9aaee0bd64cb\\\\\n\t 117 & Ruaca & 2017-05-11 & 10 & 28 & muddaub     & 4 & NA  & NA         & 1 & motorcyle;television;radio;solar\\_panel;solar\\_torch;table;mobile\\_phone                                             & 3 & Jan;Feb;Nov;Dec       & uuid:3fe626b3-c794-48e1-a80f-5bfe440c507b\\\\\n\t 144 & Ruaca & 2017-05-18 &  7 &  5 & burntbricks & 4 & no  & frequently & 4 & cow\\_cart;television;radio;cow\\_plough;solar\\_panel;solar\\_torch;table;mobile\\_phone                                   & 2 & none                  & uuid:0670cef6-d233-4852-89d8-36955261b0a3\\\\\n\t 143 & Ruaca & 2017-05-18 & 10 & 24 & burntbricks & 2 & no  & frequently & 3 & cow\\_cart;motorcyle;television;radio;cow\\_plough;solar\\_torch;table;mobile\\_phone                                     & 3 & Jan;Dec               & uuid:9a096a12-b335-468c-b3cc-1191180d62de\\\\\n\t 150 & Ruaca & 2017-05-18 &  7 &  8 & muddaub     & 1 & no  & never      & 1 & mobile\\_phone                                                                                                      & 3 & Sept;Oct;Nov          & uuid:92613d0d-e7b1-4d62-8ea4-451d7cd0a982\\\\\n\t 159 & God   & 2017-05-18 &  4 & 24 & sunbricks   & 1 & no  & never      & 1 & radio;solar\\_panel;solar\\_torch                                                                                     & 3 & Sept;Oct;Nov          & uuid:37577f91-d665-443e-8d70-b914954cef4b\\\\\n\t 160 & God   & 2017-06-03 &  7 & 13 & burntbricks & 2 & yes & frequently & 2 & cow\\_cart;cow\\_plough;solar\\_torch;mobile\\_phone                                                                      & 2 & Nov                   & uuid:f22831ec-6bc3-4b73-9197-4b01e01abb66\\\\\n\t 165 & Ruaca & 2017-06-03 &  9 & 14 & burntbricks & 1 & no  & never      & 3 & cow\\_cart;motorcyle;bicycle;television;radio;cow\\_plough;solar\\_torch;electricity;table;sofa\\_set;mobile\\_phone;fridge & 3 & none                  & uuid:62f3f7af-f0f3-4f88-b9e0-acf8baa49ae4\\\\\n\t 166 & Ruaca & 2017-06-03 & 11 & 16 & muddaub     & 1 & no  & never      & 1 & bicycle;solar\\_torch;mobile\\_phone                                                                                  & 2 & Feb;Mar               & uuid:40aac732-94df-496c-97ba-5b67f59bcc7a\\\\\n\t 167 & Ruaca & 2017-06-03 &  8 & 24 & muddaub     & 1 & no  & never      & 3 & motorcyle;radio;cow\\_plough;solar\\_panel;solar\\_torch;table;mobile\\_phone                                             & 2 & Jan;Nov;Dec           & uuid:a9d1a013-043b-475d-a71b-77ed80abe970\\\\\n\t 174 & Ruaca & 2017-06-03 & 12 & 25 & burntbricks & 2 & no  & never      & 3 & car;lorry;motorcyle;radio;sterio;cow\\_plough;solar\\_panel;solar\\_torch;table;sofa\\_set;mobile\\_phone;fridge            & 3 & Jan;Feb;Dec           & uuid:43ec6132-478c-4f87-878d-fb3c0c4d0c74\\\\\n\t 175 & Ruaca & 2017-06-03 &  7 & 36 & burntbricks & 1 & no  & never      & 4 & motorcyle;bicycle;radio;sterio;cow\\_plough;solar\\_panel;table;mobile\\_phone                                          & 2 & Jan;Oct;Nov;Dec       & uuid:64fc743e-8176-40f6-8ae4-36ae97fac1d9\\\\\n\t 189 & Ruaca & 2017-06-03 & 15 & 16 & sunbricks   & 1 & no  & never      & 3 & motorcyle;radio;sterio;cow\\_plough;solar\\_panel;table;mobile\\_phone                                                  & 3 & Nov                   & uuid:c17e374c-280b-4e78-bf21-74a7c1c73492\\\\\n\t 191 & Ruaca & 2017-06-03 & 10 &  5 & burntbricks & 4 & no  & never      & 1 & radio;cow\\_plough;solar\\_panel;solar\\_torch;mobile\\_phone                                                             & 2 & Oct;Nov;Dec           & uuid:dad53aff-b520-4015-a9e3-f5fdf9168fe1\\\\\n\t 126 & Ruaca & 2017-05-18 &  3 &  7 & burntbricks & 1 & no  & more\\_once  & 3 & motorcyle;radio;solar\\_panel                                                                                       & 3 & Oct;Nov;Dec           & uuid:69caea81-a4e5-4e8d-83cd-9c18d8e8d965\\\\\n\t 193 & Ruaca & 2017-06-04 &  7 & 10 & cement      & 3 & no  & more\\_once  & 3 & car;lorry;television;radio;sterio;cow\\_plough;solar\\_torch;electricity;table;sofa\\_set;mobile\\_phone;fridge           & 3 & none                  & uuid:5ccc2e5a-ea90-48b5-8542-69400d5334df\\\\\n\t 194 & Ruaca & 2017-06-04 &  4 &  5 & muddaub     & 1 & no  & more\\_once  & 1 & radio;solar\\_panel;solar\\_torch;mobile\\_phone                                                                        & 3 & Sept;Oct;Nov          & uuid:95c11a30-d44f-40c4-8ea8-ec34fca6bbbf\\\\\n\\end{tabular}\n",
            "text/plain": [
              "   key_ID village interview_date no_membrs years_liv respondent_wall_type rooms\n",
              "1   1     God     2016-11-17      3         4        muddaub              1    \n",
              "2   1     God     2016-11-17      7         9        muddaub              1    \n",
              "3   3     God     2016-11-17     10        15        burntbricks          1    \n",
              "4   4     God     2016-11-17      7         6        burntbricks          1    \n",
              "5   5     God     2016-11-17      7        40        burntbricks          1    \n",
              "6   6     God     2016-11-17      3         3        muddaub              1    \n",
              "7   7     God     2016-11-17      6        38        muddaub              1    \n",
              "8  11     God     2016-11-21      6        20        sunbricks            1    \n",
              "9  12     God     2016-11-21      7        20        burntbricks          3    \n",
              "10 13     God     2016-11-21      6         8        burntbricks          1    \n",
              "11 14     God     2016-11-21     10        20        burntbricks          3    \n",
              "12 15     God     2016-11-21      5        30        sunbricks            2    \n",
              "13 16     God     2016-11-24      6        47        muddaub              1    \n",
              "14 17     God     2016-11-21      8        20        sunbricks            1    \n",
              "15 18     God     2016-11-21      4        20        muddaub              1    \n",
              "16 19     God     2016-11-21      9        23        burntbricks          2    \n",
              "17 20     God     2016-11-21      6         1        burntbricks          1    \n",
              "18 21     God     2016-11-21      8        20        burntbricks          1    \n",
              "19 22     God     2016-11-21      4        20        muddaub              1    \n",
              "20 23     Ruaca   2016-11-21     10        20        burntbricks          4    \n",
              "21 24     Ruaca   2016-11-21      6         4        burntbricks          2    \n",
              "22 25     Ruaca   2016-11-21     11         6        burntbricks          3    \n",
              "23 26     Ruaca   2016-11-21      3        20        burntbricks          2    \n",
              "24 27     Ruaca   2016-11-21      7        36        burntbricks          2    \n",
              "25 28     Ruaca   2016-11-21      2         2        muddaub              1    \n",
              "26 29     Ruaca   2016-11-21      7        10        burntbricks          2    \n",
              "27 30     Ruaca   2016-11-21      7        22        muddaub              2    \n",
              "28 31     Ruaca   2016-11-21      3         2        muddaub              1    \n",
              "29 32     Ruaca   2016-11-21     19        69        muddaub              2    \n",
              "30 33     Ruaca   2016-11-21      8        34        muddaub              1    \n",
              "⋮  ⋮      ⋮       ⋮              ⋮         ⋮         ⋮                    ⋮    \n",
              "63  78    Ruaca   2017-04-28      6        48        burntbricks          1    \n",
              "64  80    Ruaca   2017-04-28      5        12        muddaub              1    \n",
              "65 104    Ruaca   2017-04-28     14        52        sunbricks            1    \n",
              "66 105    Ruaca   2017-04-28      6        40        sunbricks            1    \n",
              "67 106    God     2017-04-30     15        22        sunbricks            5    \n",
              "68 109    God     2017-05-03      4        12        sunbricks            1    \n",
              "69 110    Ruaca   2017-05-03      6        22        sunbricks            3    \n",
              "70 113    Ruaca   2017-05-03     11        26        burntbricks          3    \n",
              "71 118    Ruaca   2017-05-04      5        25        muddaub              1    \n",
              "72 125    Ruaca   2017-05-04      5        14        burntbricks          1    \n",
              "73 119    Ruaca   2017-05-04      3        14        muddaub              1    \n",
              "74 115    Ruaca   2017-05-11      4        16        sunbricks            2    \n",
              "75 108    God     2017-05-11     15        22        burntbricks          2    \n",
              "76 116    Ruaca   2017-05-11      5        25        burntbricks          3    \n",
              "77 117    Ruaca   2017-05-11     10        28        muddaub              4    \n",
              "78 144    Ruaca   2017-05-18      7         5        burntbricks          4    \n",
              "79 143    Ruaca   2017-05-18     10        24        burntbricks          2    \n",
              "80 150    Ruaca   2017-05-18      7         8        muddaub              1    \n",
              "81 159    God     2017-05-18      4        24        sunbricks            1    \n",
              "82 160    God     2017-06-03      7        13        burntbricks          2    \n",
              "83 165    Ruaca   2017-06-03      9        14        burntbricks          1    \n",
              "84 166    Ruaca   2017-06-03     11        16        muddaub              1    \n",
              "85 167    Ruaca   2017-06-03      8        24        muddaub              1    \n",
              "86 174    Ruaca   2017-06-03     12        25        burntbricks          2    \n",
              "87 175    Ruaca   2017-06-03      7        36        burntbricks          1    \n",
              "88 189    Ruaca   2017-06-03     15        16        sunbricks            1    \n",
              "89 191    Ruaca   2017-06-03     10         5        burntbricks          4    \n",
              "90 126    Ruaca   2017-05-18      3         7        burntbricks          1    \n",
              "91 193    Ruaca   2017-06-04      7        10        cement               3    \n",
              "92 194    Ruaca   2017-06-04      4         5        muddaub              1    \n",
              "   memb_assoc affect_conflicts liv_count\n",
              "1  NA         NA               1        \n",
              "2  yes        once             3        \n",
              "3  NA         NA               1        \n",
              "4  NA         NA               2        \n",
              "5  NA         NA               4        \n",
              "6  NA         NA               1        \n",
              "7  no         never            1        \n",
              "8  NA         NA               2        \n",
              "9  yes        never            2        \n",
              "10 no         never            3        \n",
              "11 NA         NA               3        \n",
              "12 yes        once             3        \n",
              "13 NA         NA               4        \n",
              "14 NA         NA               1        \n",
              "15 NA         NA               3        \n",
              "16 NA         NA               2        \n",
              "17 NA         NA               1        \n",
              "18 no         never            3        \n",
              "19 NA         NA               1        \n",
              "20 NA         NA               3        \n",
              "21 no         never            3        \n",
              "22 no         never            2        \n",
              "23 no         never            2        \n",
              "24 NA         NA               3        \n",
              "25 no         more_once        1        \n",
              "26 yes        frequently       1        \n",
              "27 NA         NA               1        \n",
              "28 NA         NA               1        \n",
              "29 yes        more_once        5        \n",
              "30 no         more_once        2        \n",
              "⋮  ⋮          ⋮                ⋮        \n",
              "63 no         more_once        2        \n",
              "64 no         more_once        1        \n",
              "65 yes        never            4        \n",
              "66 yes        frequently       2        \n",
              "67 no         never            2        \n",
              "68 NA         NA               3        \n",
              "69 no         never            3        \n",
              "70 no         never            4        \n",
              "71 NA         NA               1        \n",
              "72 no         more_once        2        \n",
              "73 no         never            4        \n",
              "74 NA         NA               3        \n",
              "75 no         never            4        \n",
              "76 NA         NA               3        \n",
              "77 NA         NA               1        \n",
              "78 no         frequently       4        \n",
              "79 no         frequently       3        \n",
              "80 no         never            1        \n",
              "81 no         never            1        \n",
              "82 yes        frequently       2        \n",
              "83 no         never            3        \n",
              "84 no         never            1        \n",
              "85 no         never            3        \n",
              "86 no         never            3        \n",
              "87 no         never            4        \n",
              "88 no         never            3        \n",
              "89 no         never            1        \n",
              "90 no         more_once        3        \n",
              "91 no         more_once        3        \n",
              "92 no         more_once        1        \n",
              "   items_owned                                                                                                      \n",
              "1  bicycle;television;solar_panel;table                                                                             \n",
              "2  cow_cart;bicycle;radio;cow_plough;solar_panel;solar_torch;table;mobile_phone                                     \n",
              "3  solar_torch                                                                                                      \n",
              "4  bicycle;radio;cow_plough;solar_panel;mobile_phone                                                                \n",
              "5  motorcyle;radio;cow_plough;mobile_phone                                                                          \n",
              "6  NA                                                                                                               \n",
              "7  motorcyle;cow_plough                                                                                             \n",
              "8  radio;cow_plough                                                                                                 \n",
              "9  cow_cart;bicycle;radio;cow_plough;table                                                                          \n",
              "10 bicycle;radio;cow_plough;mobile_phone                                                                            \n",
              "11 bicycle;radio;cow_plough;solar_panel;table;mobile_phone                                                          \n",
              "12 bicycle;radio;cow_plough;solar_panel;table                                                                       \n",
              "13 radio;cow_plough;solar_panel;solar_torch                                                                         \n",
              "14 mobile_phone                                                                                                     \n",
              "15 bicycle;mobile_phone                                                                                             \n",
              "16 bicycle;radio;cow_plough;solar_panel;solar_torch;mobile_phone                                                    \n",
              "17 bicycle;cow_plough;solar_torch                                                                                   \n",
              "18 NA                                                                                                               \n",
              "19 radio                                                                                                            \n",
              "20 cow_cart;bicycle;television;radio;cow_plough;solar_panel;electricity;mobile_phone                                \n",
              "21 radio;table;sofa_set;mobile_phone                                                                                \n",
              "22 cow_cart;motorcyle;television;radio;cow_plough;solar_panel;solar_torch;table;sofa_set;mobile_phone               \n",
              "23 radio;cow_plough;table;mobile_phone                                                                              \n",
              "24 bicycle;radio;cow_plough;solar_panel;solar_torch;mobile_phone                                                    \n",
              "25 NA                                                                                                               \n",
              "26 motorcyle;bicycle;radio;table;mobile_phone                                                                       \n",
              "27 bicycle;radio;mobile_phone                                                                                       \n",
              "28 NA                                                                                                               \n",
              "29 cow_cart;motorcyle;radio;cow_plough;solar_panel;mobile_phone                                                     \n",
              "30 cow_cart;lorry;motorcyle;sterio;cow_plough;solar_panel;mobile_phone                                              \n",
              "⋮  ⋮                                                                                                                \n",
              "63 cow_plough                                                                                                       \n",
              "64 cow_cart;bicycle;radio;cow_plough;solar_panel;solar_torch                                                        \n",
              "65 cow_cart;bicycle;cow_plough                                                                                      \n",
              "66 motorcyle;radio;cow_plough;solar_panel;mobile_phone                                                              \n",
              "67 cow_cart;motorcyle;bicycle;radio;sterio;cow_plough;solar_panel;solar_torch;table;mobile_phone                    \n",
              "68 cow_cart;bicycle;radio;cow_plough;table                                                                          \n",
              "69 bicycle;radio;cow_plough;table;mobile_phone                                                                      \n",
              "70 cow_cart;motorcyle;bicycle;radio;cow_plough;solar_panel;solar_torch;table;mobile_phone                           \n",
              "71 radio;solar_torch;mobile_phone                                                                                   \n",
              "72 bicycle;radio;cow_plough;solar_panel;solar_torch;mobile_phone                                                    \n",
              "73 bicycle;cow_plough;solar_panel;mobile_phone                                                                      \n",
              "74 cow_cart;motorcyle;bicycle;television;radio;cow_plough;solar_panel;solar_torch;table;mobile_phone                \n",
              "75 cow_cart;bicycle;radio;cow_plough;solar_panel;table;mobile_phone                                                 \n",
              "76 motorcyle;bicycle;television;radio;cow_plough;solar_panel;solar_torch;table;mobile_phone                         \n",
              "77 motorcyle;television;radio;solar_panel;solar_torch;table;mobile_phone                                            \n",
              "78 cow_cart;television;radio;cow_plough;solar_panel;solar_torch;table;mobile_phone                                  \n",
              "79 cow_cart;motorcyle;television;radio;cow_plough;solar_torch;table;mobile_phone                                    \n",
              "80 mobile_phone                                                                                                     \n",
              "81 radio;solar_panel;solar_torch                                                                                    \n",
              "82 cow_cart;cow_plough;solar_torch;mobile_phone                                                                     \n",
              "83 cow_cart;motorcyle;bicycle;television;radio;cow_plough;solar_torch;electricity;table;sofa_set;mobile_phone;fridge\n",
              "84 bicycle;solar_torch;mobile_phone                                                                                 \n",
              "85 motorcyle;radio;cow_plough;solar_panel;solar_torch;table;mobile_phone                                            \n",
              "86 car;lorry;motorcyle;radio;sterio;cow_plough;solar_panel;solar_torch;table;sofa_set;mobile_phone;fridge           \n",
              "87 motorcyle;bicycle;radio;sterio;cow_plough;solar_panel;table;mobile_phone                                         \n",
              "88 motorcyle;radio;sterio;cow_plough;solar_panel;table;mobile_phone                                                 \n",
              "89 radio;cow_plough;solar_panel;solar_torch;mobile_phone                                                            \n",
              "90 motorcyle;radio;solar_panel                                                                                      \n",
              "91 car;lorry;television;radio;sterio;cow_plough;solar_torch;electricity;table;sofa_set;mobile_phone;fridge          \n",
              "92 radio;solar_panel;solar_torch;mobile_phone                                                                       \n",
              "   no_meals months_lack_food                              \n",
              "1  2        Jan                                           \n",
              "2  2        Jan;Sept;Oct;Nov;Dec                          \n",
              "3  2        Jan;Feb;Mar;Oct;Nov;Dec                       \n",
              "4  2        Sept;Oct;Nov;Dec                              \n",
              "5  2        Aug;Sept;Oct;Nov                              \n",
              "6  2        Aug;Sept;Oct                                  \n",
              "7  3        Nov                                           \n",
              "8  2        Oct;Nov                                       \n",
              "9  3        Sept;Oct                                      \n",
              "10 2        Sept;Oct;Nov                                  \n",
              "11 3        June;July;Aug;Sept;Oct;Nov                    \n",
              "12 2        Jan;Feb;Mar;Apr;May;June;July;Aug;Sept;Oct;Nov\n",
              "13 3        Jan;Feb                                       \n",
              "14 2        Nov;Dec                                       \n",
              "15 2        Oct;Nov                                       \n",
              "16 3        Oct;Nov;Dec                                   \n",
              "17 2        Oct;Nov                                       \n",
              "18 2        Jan;Feb;Mar;Oct;Nov;Dec                       \n",
              "19 2        Jan;Feb;Mar;Apr;Aug;Sept;Oct;Nov;Dec          \n",
              "20 3        none                                          \n",
              "21 2        Nov;Dec                                       \n",
              "22 2        Jan;Feb;Oct                                   \n",
              "23 2        none                                          \n",
              "24 3        none                                          \n",
              "25 3        Aug;Sept;Oct                                  \n",
              "26 3        Jan;Feb                                       \n",
              "27 2        Jan;Feb                                       \n",
              "28 3        none                                          \n",
              "29 2        none                                          \n",
              "30 2        none                                          \n",
              "⋮  ⋮        ⋮                                             \n",
              "63 2        Aug;Sept;Oct                                  \n",
              "64 3        none                                          \n",
              "65 3        Jan;Feb;Dec                                   \n",
              "66 3        Jan;Feb;Dec                                   \n",
              "67 3        Oct;Nov;Dec                                   \n",
              "68 3        July;Aug;Sept;Oct;Nov                         \n",
              "69 2        none                                          \n",
              "70 3        none                                          \n",
              "71 3        Oct;Nov;Dec                                   \n",
              "72 3        Jan;Sept;Oct;Nov;Dec                          \n",
              "73 3        none                                          \n",
              "74 3        none                                          \n",
              "75 3        Aug;Sept;Oct;Nov                              \n",
              "76 3        Jan;Nov;Dec                                   \n",
              "77 3        Jan;Feb;Nov;Dec                               \n",
              "78 2        none                                          \n",
              "79 3        Jan;Dec                                       \n",
              "80 3        Sept;Oct;Nov                                  \n",
              "81 3        Sept;Oct;Nov                                  \n",
              "82 2        Nov                                           \n",
              "83 3        none                                          \n",
              "84 2        Feb;Mar                                       \n",
              "85 2        Jan;Nov;Dec                                   \n",
              "86 3        Jan;Feb;Dec                                   \n",
              "87 2        Jan;Oct;Nov;Dec                               \n",
              "88 3        Nov                                           \n",
              "89 2        Oct;Nov;Dec                                   \n",
              "90 3        Oct;Nov;Dec                                   \n",
              "91 3        none                                          \n",
              "92 3        Sept;Oct;Nov                                  \n",
              "   instanceID                               \n",
              "1  uuid:ec241f2c-0609-46ed-b5e8-fe575f6cefef\n",
              "2  uuid:099de9c9-3e5e-427b-8452-26250e840d6e\n",
              "3  uuid:193d7daf-9582-409b-bf09-027dd36f9007\n",
              "4  uuid:148d1105-778a-4755-aa71-281eadd4a973\n",
              "5  uuid:2c867811-9696-4966-9866-f35c3e97d02d\n",
              "6  uuid:daa56c91-c8e3-44c3-a663-af6a49a2ca70\n",
              "7  uuid:ae20a58d-56f4-43d7-bafa-e7963d850844\n",
              "8  uuid:d29b44e3-3348-4afc-aa4d-9eb34c89d483\n",
              "9  uuid:e6ee6269-b467-4e37-91fc-5e9eaf934557\n",
              "10 uuid:6c00c145-ee3b-409c-8c02-2c8d743b6918\n",
              "11 uuid:9b21467f-1116-4340-a3b1-1ab64f13c87d\n",
              "12 uuid:a837e545-ff86-4a1c-a1a5-6186804b985f\n",
              "13 uuid:d17db52f-4b87-4768-b534-ea8f9704c565\n",
              "14 uuid:4707f3dc-df18-4348-9c2c-eec651e89b6b\n",
              "15 uuid:7ffe7bd1-a15c-420c-a137-e1f006c317a3\n",
              "16 uuid:e32f2dc0-0d05-42fb-8e21-605757ddf07d\n",
              "17 uuid:d1005274-bf52-4e79-8380-3350dd7c2bac\n",
              "18 uuid:6570a7d0-6a0b-452c-aa2e-922500e35749\n",
              "19 uuid:a51c3006-8847-46ff-9d4e-d29919b8ecf9\n",
              "20 uuid:58b37b6d-d6cd-4414-8790-b9c68bca98de\n",
              "21 uuid:661457d3-7e61-45e8-a238-7415e7548f82\n",
              "22 uuid:45ed84c4-114e-4df0-9f5d-c800806c2bee\n",
              "23 uuid:1c54ee24-22c4-4ee9-b1ad-42d483c08e2e\n",
              "24 uuid:3197cded-1fdc-4c0c-9b10-cfcc0bf49c4d\n",
              "25 uuid:1de53318-a8cf-4736-99b1-8239f8822473\n",
              "26 uuid:adcd7463-8943-4c67-b25f-f72311409476\n",
              "27 uuid:59341ead-92be-45a9-8545-6edf9f94fdc6\n",
              "28 uuid:cb06eb49-dd39-4150-8bbe-a599e074afe8\n",
              "29 uuid:25597af3-cd79-449c-a48a-fb9aea6c48bf\n",
              "30 uuid:0fbd2df1-2640-4550-9fbd-7317feaa4758\n",
              "⋮  ⋮                                        \n",
              "63 uuid:da3fa7cc-5ce9-44fd-9a78-b8982b607515\n",
              "64 uuid:a85df6df-0336-46fa-a9f4-522bf6f8b438\n",
              "65 uuid:bb2bb365-7d7d-4fe9-9353-b21269676119\n",
              "66 uuid:af0904ee-4fdb-4090-973f-599c81ddf022\n",
              "67 uuid:468797c1-4a65-4f35-9c83-e28ce46972a2\n",
              "68 uuid:602cd3f6-4a97-49c6-80e3-bcfd5c78dfa4\n",
              "69 uuid:e7c51ac4-24e4-475e-88e7-f85e896945e3\n",
              "70 uuid:01210861-aba1-4268-98d0-0260e05f5155\n",
              "71 uuid:77335b2e-8812-4a35-b1e5-ca9ab626dfea\n",
              "72 uuid:02b05c68-302e-4e7a-b229-81cb1377fd29\n",
              "73 uuid:fa201fce-4e94-44b8-b435-c558c2e1ed55\n",
              "74 uuid:628fe23d-188f-43e4-a203-a4bf3257d461\n",
              "75 uuid:e4f4d6ba-e698-45a5-947f-ba6da88cc22b\n",
              "76 uuid:cfee6297-2c0e-4f8a-94cc-9aaee0bd64cb\n",
              "77 uuid:3fe626b3-c794-48e1-a80f-5bfe440c507b\n",
              "78 uuid:0670cef6-d233-4852-89d8-36955261b0a3\n",
              "79 uuid:9a096a12-b335-468c-b3cc-1191180d62de\n",
              "80 uuid:92613d0d-e7b1-4d62-8ea4-451d7cd0a982\n",
              "81 uuid:37577f91-d665-443e-8d70-b914954cef4b\n",
              "82 uuid:f22831ec-6bc3-4b73-9197-4b01e01abb66\n",
              "83 uuid:62f3f7af-f0f3-4f88-b9e0-acf8baa49ae4\n",
              "84 uuid:40aac732-94df-496c-97ba-5b67f59bcc7a\n",
              "85 uuid:a9d1a013-043b-475d-a71b-77ed80abe970\n",
              "86 uuid:43ec6132-478c-4f87-878d-fb3c0c4d0c74\n",
              "87 uuid:64fc743e-8176-40f6-8ae4-36ae97fac1d9\n",
              "88 uuid:c17e374c-280b-4e78-bf21-74a7c1c73492\n",
              "89 uuid:dad53aff-b520-4015-a9e3-f5fdf9168fe1\n",
              "90 uuid:69caea81-a4e5-4e8d-83cd-9c18d8e8d965\n",
              "91 uuid:5ccc2e5a-ea90-48b5-8542-69400d5334df\n",
              "92 uuid:95c11a30-d44f-40c4-8ea8-ec34fca6bbbf"
            ]
          },
          "metadata": {}
        }
      ]
    },
    {
      "cell_type": "markdown",
      "source": [
        "#### Pipes"
      ],
      "metadata": {
        "id": "GNQvQDB77Oei"
      }
    },
    {
      "cell_type": "code",
      "source": [
        "interviews2 <- filter(interviews, village == \"Chirodzo\")\n",
        "interviews_ch <- select(interviews2, village:respondent_wall_type)"
      ],
      "metadata": {
        "id": "QipgavtS7UCf"
      },
      "execution_count": null,
      "outputs": []
    },
    {
      "cell_type": "code",
      "source": [],
      "metadata": {
        "id": "BD0tI9XW7Uzt"
      },
      "execution_count": null,
      "outputs": []
    },
    {
      "cell_type": "code",
      "source": [],
      "metadata": {
        "id": "bihJY4c57fJT"
      },
      "execution_count": null,
      "outputs": []
    },
    {
      "cell_type": "code",
      "source": [],
      "metadata": {
        "id": "swtrGwrm7fFq"
      },
      "execution_count": null,
      "outputs": []
    },
    {
      "cell_type": "markdown",
      "source": [
        "Using pipes, subset the `interviews` data to include interviews where respondents were members of an irrigation association (memb_assoc) and retain only the columns `affect_conflicts`, `liv_count`, and `no_meals`."
      ],
      "metadata": {
        "id": "0T7Y8DiW7fq6"
      }
    },
    {
      "cell_type": "code",
      "source": [
        "interviews %>%\n",
        "  filter(village == \"Chirodzo\") %>%\n",
        "  select(village:respondent_wall_type)"
      ],
      "metadata": {
        "colab": {
          "base_uri": "https://localhost:8080/",
          "height": 1000
        },
        "id": "crQh9cWf7lUh",
        "outputId": "c1423abe-254b-436b-dced-e41a52122c4b"
      },
      "execution_count": null,
      "outputs": [
        {
          "output_type": "display_data",
          "data": {
            "text/html": [
              "<table class=\"dataframe\">\n",
              "<caption>A tibble: 39 × 5</caption>\n",
              "<thead>\n",
              "\t<tr><th scope=col>village</th><th scope=col>interview_date</th><th scope=col>no_membrs</th><th scope=col>years_liv</th><th scope=col>respondent_wall_type</th></tr>\n",
              "\t<tr><th scope=col>&lt;chr&gt;</th><th scope=col>&lt;dttm&gt;</th><th scope=col>&lt;dbl&gt;</th><th scope=col>&lt;dbl&gt;</th><th scope=col>&lt;chr&gt;</th></tr>\n",
              "</thead>\n",
              "<tbody>\n",
              "\t<tr><td>Chirodzo</td><td>2016-11-16</td><td>12</td><td>70</td><td>burntbricks</td></tr>\n",
              "\t<tr><td>Chirodzo</td><td>2016-11-16</td><td> 8</td><td> 6</td><td>burntbricks</td></tr>\n",
              "\t<tr><td>Chirodzo</td><td>2016-12-16</td><td>12</td><td>23</td><td>burntbricks</td></tr>\n",
              "\t<tr><td>Chirodzo</td><td>2016-11-17</td><td> 8</td><td>18</td><td>burntbricks</td></tr>\n",
              "\t<tr><td>Chirodzo</td><td>2016-11-17</td><td> 5</td><td>45</td><td>muddaub    </td></tr>\n",
              "\t<tr><td>Chirodzo</td><td>2016-11-17</td><td> 6</td><td>23</td><td>sunbricks  </td></tr>\n",
              "\t<tr><td>Chirodzo</td><td>2016-11-17</td><td> 3</td><td> 8</td><td>burntbricks</td></tr>\n",
              "\t<tr><td>Chirodzo</td><td>2016-11-17</td><td> 7</td><td>29</td><td>muddaub    </td></tr>\n",
              "\t<tr><td>Chirodzo</td><td>2016-11-17</td><td> 2</td><td> 6</td><td>muddaub    </td></tr>\n",
              "\t<tr><td>Chirodzo</td><td>2016-11-17</td><td> 9</td><td> 7</td><td>muddaub    </td></tr>\n",
              "\t<tr><td>Chirodzo</td><td>2016-11-17</td><td>10</td><td>42</td><td>burntbricks</td></tr>\n",
              "\t<tr><td>Chirodzo</td><td>2016-11-17</td><td> 2</td><td> 2</td><td>muddaub    </td></tr>\n",
              "\t<tr><td>Chirodzo</td><td>2016-11-16</td><td> 7</td><td>58</td><td>muddaub    </td></tr>\n",
              "\t<tr><td>Chirodzo</td><td>2016-11-16</td><td> 6</td><td>26</td><td>burntbricks</td></tr>\n",
              "\t<tr><td>Chirodzo</td><td>2016-11-16</td><td> 6</td><td> 7</td><td>muddaub    </td></tr>\n",
              "\t<tr><td>Chirodzo</td><td>2016-11-16</td><td> 5</td><td>30</td><td>muddaub    </td></tr>\n",
              "\t<tr><td>Chirodzo</td><td>2016-11-16</td><td>11</td><td>15</td><td>burntbricks</td></tr>\n",
              "\t<tr><td>Chirodzo</td><td>2016-11-16</td><td> 8</td><td>16</td><td>burntbricks</td></tr>\n",
              "\t<tr><td>Chirodzo</td><td>2016-11-16</td><td> 7</td><td>15</td><td>muddaub    </td></tr>\n",
              "\t<tr><td>Chirodzo</td><td>2016-11-16</td><td> 9</td><td>23</td><td>muddaub    </td></tr>\n",
              "\t<tr><td>Chirodzo</td><td>2016-11-16</td><td>12</td><td>23</td><td>burntbricks</td></tr>\n",
              "\t<tr><td>Chirodzo</td><td>2016-11-16</td><td> 4</td><td>27</td><td>burntbricks</td></tr>\n",
              "\t<tr><td>Chirodzo</td><td>2016-11-16</td><td>11</td><td>45</td><td>burntbricks</td></tr>\n",
              "\t<tr><td>Chirodzo</td><td>2016-11-16</td><td> 2</td><td>60</td><td>muddaub    </td></tr>\n",
              "\t<tr><td>Chirodzo</td><td>2016-11-16</td><td> 8</td><td>15</td><td>burntbricks</td></tr>\n",
              "\t<tr><td>Chirodzo</td><td>2016-11-16</td><td>10</td><td>14</td><td>muddaub    </td></tr>\n",
              "\t<tr><td>Chirodzo</td><td>2016-11-16</td><td> 5</td><td> 5</td><td>muddaub    </td></tr>\n",
              "\t<tr><td>Chirodzo</td><td>2016-11-16</td><td> 4</td><td>10</td><td>muddaub    </td></tr>\n",
              "\t<tr><td>Chirodzo</td><td>2016-11-16</td><td> 6</td><td> 1</td><td>muddaub    </td></tr>\n",
              "\t<tr><td>Chirodzo</td><td>2016-11-16</td><td> 8</td><td>20</td><td>burntbricks</td></tr>\n",
              "\t<tr><td>Chirodzo</td><td>2016-11-16</td><td>10</td><td>37</td><td>burntbricks</td></tr>\n",
              "\t<tr><td>Chirodzo</td><td>2016-11-16</td><td> 5</td><td>31</td><td>burntbricks</td></tr>\n",
              "\t<tr><td>Chirodzo</td><td>2016-11-16</td><td> 8</td><td>52</td><td>burntbricks</td></tr>\n",
              "\t<tr><td>Chirodzo</td><td>2016-11-16</td><td> 4</td><td>12</td><td>muddaub    </td></tr>\n",
              "\t<tr><td>Chirodzo</td><td>2016-11-16</td><td> 8</td><td>25</td><td>burntbricks</td></tr>\n",
              "\t<tr><td>Chirodzo</td><td>2016-11-16</td><td> 4</td><td>18</td><td>burntbricks</td></tr>\n",
              "\t<tr><td>Chirodzo</td><td>2017-06-03</td><td> 9</td><td>20</td><td>burntbricks</td></tr>\n",
              "\t<tr><td>Chirodzo</td><td>2017-06-04</td><td> 7</td><td>17</td><td>burntbricks</td></tr>\n",
              "\t<tr><td>Chirodzo</td><td>2017-06-04</td><td> 8</td><td>20</td><td>burntbricks</td></tr>\n",
              "</tbody>\n",
              "</table>\n"
            ],
            "text/markdown": "\nA tibble: 39 × 5\n\n| village &lt;chr&gt; | interview_date &lt;dttm&gt; | no_membrs &lt;dbl&gt; | years_liv &lt;dbl&gt; | respondent_wall_type &lt;chr&gt; |\n|---|---|---|---|---|\n| Chirodzo | 2016-11-16 | 12 | 70 | burntbricks |\n| Chirodzo | 2016-11-16 |  8 |  6 | burntbricks |\n| Chirodzo | 2016-12-16 | 12 | 23 | burntbricks |\n| Chirodzo | 2016-11-17 |  8 | 18 | burntbricks |\n| Chirodzo | 2016-11-17 |  5 | 45 | muddaub     |\n| Chirodzo | 2016-11-17 |  6 | 23 | sunbricks   |\n| Chirodzo | 2016-11-17 |  3 |  8 | burntbricks |\n| Chirodzo | 2016-11-17 |  7 | 29 | muddaub     |\n| Chirodzo | 2016-11-17 |  2 |  6 | muddaub     |\n| Chirodzo | 2016-11-17 |  9 |  7 | muddaub     |\n| Chirodzo | 2016-11-17 | 10 | 42 | burntbricks |\n| Chirodzo | 2016-11-17 |  2 |  2 | muddaub     |\n| Chirodzo | 2016-11-16 |  7 | 58 | muddaub     |\n| Chirodzo | 2016-11-16 |  6 | 26 | burntbricks |\n| Chirodzo | 2016-11-16 |  6 |  7 | muddaub     |\n| Chirodzo | 2016-11-16 |  5 | 30 | muddaub     |\n| Chirodzo | 2016-11-16 | 11 | 15 | burntbricks |\n| Chirodzo | 2016-11-16 |  8 | 16 | burntbricks |\n| Chirodzo | 2016-11-16 |  7 | 15 | muddaub     |\n| Chirodzo | 2016-11-16 |  9 | 23 | muddaub     |\n| Chirodzo | 2016-11-16 | 12 | 23 | burntbricks |\n| Chirodzo | 2016-11-16 |  4 | 27 | burntbricks |\n| Chirodzo | 2016-11-16 | 11 | 45 | burntbricks |\n| Chirodzo | 2016-11-16 |  2 | 60 | muddaub     |\n| Chirodzo | 2016-11-16 |  8 | 15 | burntbricks |\n| Chirodzo | 2016-11-16 | 10 | 14 | muddaub     |\n| Chirodzo | 2016-11-16 |  5 |  5 | muddaub     |\n| Chirodzo | 2016-11-16 |  4 | 10 | muddaub     |\n| Chirodzo | 2016-11-16 |  6 |  1 | muddaub     |\n| Chirodzo | 2016-11-16 |  8 | 20 | burntbricks |\n| Chirodzo | 2016-11-16 | 10 | 37 | burntbricks |\n| Chirodzo | 2016-11-16 |  5 | 31 | burntbricks |\n| Chirodzo | 2016-11-16 |  8 | 52 | burntbricks |\n| Chirodzo | 2016-11-16 |  4 | 12 | muddaub     |\n| Chirodzo | 2016-11-16 |  8 | 25 | burntbricks |\n| Chirodzo | 2016-11-16 |  4 | 18 | burntbricks |\n| Chirodzo | 2017-06-03 |  9 | 20 | burntbricks |\n| Chirodzo | 2017-06-04 |  7 | 17 | burntbricks |\n| Chirodzo | 2017-06-04 |  8 | 20 | burntbricks |\n\n",
            "text/latex": "A tibble: 39 × 5\n\\begin{tabular}{lllll}\n village & interview\\_date & no\\_membrs & years\\_liv & respondent\\_wall\\_type\\\\\n <chr> & <dttm> & <dbl> & <dbl> & <chr>\\\\\n\\hline\n\t Chirodzo & 2016-11-16 & 12 & 70 & burntbricks\\\\\n\t Chirodzo & 2016-11-16 &  8 &  6 & burntbricks\\\\\n\t Chirodzo & 2016-12-16 & 12 & 23 & burntbricks\\\\\n\t Chirodzo & 2016-11-17 &  8 & 18 & burntbricks\\\\\n\t Chirodzo & 2016-11-17 &  5 & 45 & muddaub    \\\\\n\t Chirodzo & 2016-11-17 &  6 & 23 & sunbricks  \\\\\n\t Chirodzo & 2016-11-17 &  3 &  8 & burntbricks\\\\\n\t Chirodzo & 2016-11-17 &  7 & 29 & muddaub    \\\\\n\t Chirodzo & 2016-11-17 &  2 &  6 & muddaub    \\\\\n\t Chirodzo & 2016-11-17 &  9 &  7 & muddaub    \\\\\n\t Chirodzo & 2016-11-17 & 10 & 42 & burntbricks\\\\\n\t Chirodzo & 2016-11-17 &  2 &  2 & muddaub    \\\\\n\t Chirodzo & 2016-11-16 &  7 & 58 & muddaub    \\\\\n\t Chirodzo & 2016-11-16 &  6 & 26 & burntbricks\\\\\n\t Chirodzo & 2016-11-16 &  6 &  7 & muddaub    \\\\\n\t Chirodzo & 2016-11-16 &  5 & 30 & muddaub    \\\\\n\t Chirodzo & 2016-11-16 & 11 & 15 & burntbricks\\\\\n\t Chirodzo & 2016-11-16 &  8 & 16 & burntbricks\\\\\n\t Chirodzo & 2016-11-16 &  7 & 15 & muddaub    \\\\\n\t Chirodzo & 2016-11-16 &  9 & 23 & muddaub    \\\\\n\t Chirodzo & 2016-11-16 & 12 & 23 & burntbricks\\\\\n\t Chirodzo & 2016-11-16 &  4 & 27 & burntbricks\\\\\n\t Chirodzo & 2016-11-16 & 11 & 45 & burntbricks\\\\\n\t Chirodzo & 2016-11-16 &  2 & 60 & muddaub    \\\\\n\t Chirodzo & 2016-11-16 &  8 & 15 & burntbricks\\\\\n\t Chirodzo & 2016-11-16 & 10 & 14 & muddaub    \\\\\n\t Chirodzo & 2016-11-16 &  5 &  5 & muddaub    \\\\\n\t Chirodzo & 2016-11-16 &  4 & 10 & muddaub    \\\\\n\t Chirodzo & 2016-11-16 &  6 &  1 & muddaub    \\\\\n\t Chirodzo & 2016-11-16 &  8 & 20 & burntbricks\\\\\n\t Chirodzo & 2016-11-16 & 10 & 37 & burntbricks\\\\\n\t Chirodzo & 2016-11-16 &  5 & 31 & burntbricks\\\\\n\t Chirodzo & 2016-11-16 &  8 & 52 & burntbricks\\\\\n\t Chirodzo & 2016-11-16 &  4 & 12 & muddaub    \\\\\n\t Chirodzo & 2016-11-16 &  8 & 25 & burntbricks\\\\\n\t Chirodzo & 2016-11-16 &  4 & 18 & burntbricks\\\\\n\t Chirodzo & 2017-06-03 &  9 & 20 & burntbricks\\\\\n\t Chirodzo & 2017-06-04 &  7 & 17 & burntbricks\\\\\n\t Chirodzo & 2017-06-04 &  8 & 20 & burntbricks\\\\\n\\end{tabular}\n",
            "text/plain": [
              "   village  interview_date no_membrs years_liv respondent_wall_type\n",
              "1  Chirodzo 2016-11-16     12        70        burntbricks         \n",
              "2  Chirodzo 2016-11-16      8         6        burntbricks         \n",
              "3  Chirodzo 2016-12-16     12        23        burntbricks         \n",
              "4  Chirodzo 2016-11-17      8        18        burntbricks         \n",
              "5  Chirodzo 2016-11-17      5        45        muddaub             \n",
              "6  Chirodzo 2016-11-17      6        23        sunbricks           \n",
              "7  Chirodzo 2016-11-17      3         8        burntbricks         \n",
              "8  Chirodzo 2016-11-17      7        29        muddaub             \n",
              "9  Chirodzo 2016-11-17      2         6        muddaub             \n",
              "10 Chirodzo 2016-11-17      9         7        muddaub             \n",
              "11 Chirodzo 2016-11-17     10        42        burntbricks         \n",
              "12 Chirodzo 2016-11-17      2         2        muddaub             \n",
              "13 Chirodzo 2016-11-16      7        58        muddaub             \n",
              "14 Chirodzo 2016-11-16      6        26        burntbricks         \n",
              "15 Chirodzo 2016-11-16      6         7        muddaub             \n",
              "16 Chirodzo 2016-11-16      5        30        muddaub             \n",
              "17 Chirodzo 2016-11-16     11        15        burntbricks         \n",
              "18 Chirodzo 2016-11-16      8        16        burntbricks         \n",
              "19 Chirodzo 2016-11-16      7        15        muddaub             \n",
              "20 Chirodzo 2016-11-16      9        23        muddaub             \n",
              "21 Chirodzo 2016-11-16     12        23        burntbricks         \n",
              "22 Chirodzo 2016-11-16      4        27        burntbricks         \n",
              "23 Chirodzo 2016-11-16     11        45        burntbricks         \n",
              "24 Chirodzo 2016-11-16      2        60        muddaub             \n",
              "25 Chirodzo 2016-11-16      8        15        burntbricks         \n",
              "26 Chirodzo 2016-11-16     10        14        muddaub             \n",
              "27 Chirodzo 2016-11-16      5         5        muddaub             \n",
              "28 Chirodzo 2016-11-16      4        10        muddaub             \n",
              "29 Chirodzo 2016-11-16      6         1        muddaub             \n",
              "30 Chirodzo 2016-11-16      8        20        burntbricks         \n",
              "31 Chirodzo 2016-11-16     10        37        burntbricks         \n",
              "32 Chirodzo 2016-11-16      5        31        burntbricks         \n",
              "33 Chirodzo 2016-11-16      8        52        burntbricks         \n",
              "34 Chirodzo 2016-11-16      4        12        muddaub             \n",
              "35 Chirodzo 2016-11-16      8        25        burntbricks         \n",
              "36 Chirodzo 2016-11-16      4        18        burntbricks         \n",
              "37 Chirodzo 2017-06-03      9        20        burntbricks         \n",
              "38 Chirodzo 2017-06-04      7        17        burntbricks         \n",
              "39 Chirodzo 2017-06-04      8        20        burntbricks         "
            ]
          },
          "metadata": {}
        }
      ]
    },
    {
      "cell_type": "code",
      "source": [
        "interviews_chir <- interviews %>%\n",
        "                      filter(village == \"Chirodzo\") %>%\n",
        "                      select(village:respondent_wall_type)"
      ],
      "metadata": {
        "id": "Yuuz3m607mtI"
      },
      "execution_count": null,
      "outputs": []
    },
    {
      "cell_type": "code",
      "source": [
        "head(interviews_chir, n = 2)"
      ],
      "metadata": {
        "colab": {
          "base_uri": "https://localhost:8080/",
          "height": 161
        },
        "id": "hOCNCW9DVjp4",
        "outputId": "43bcccda-6f10-42d0-d8df-e963c70d262c"
      },
      "execution_count": null,
      "outputs": [
        {
          "output_type": "display_data",
          "data": {
            "text/html": [
              "<table class=\"dataframe\">\n",
              "<caption>A tibble: 2 × 5</caption>\n",
              "<thead>\n",
              "\t<tr><th scope=col>village</th><th scope=col>interview_date</th><th scope=col>no_membrs</th><th scope=col>years_liv</th><th scope=col>respondent_wall_type</th></tr>\n",
              "\t<tr><th scope=col>&lt;chr&gt;</th><th scope=col>&lt;dttm&gt;</th><th scope=col>&lt;dbl&gt;</th><th scope=col>&lt;dbl&gt;</th><th scope=col>&lt;chr&gt;</th></tr>\n",
              "</thead>\n",
              "<tbody>\n",
              "\t<tr><td>Chirodzo</td><td>2016-11-16</td><td>12</td><td>70</td><td>burntbricks</td></tr>\n",
              "\t<tr><td>Chirodzo</td><td>2016-11-16</td><td> 8</td><td> 6</td><td>burntbricks</td></tr>\n",
              "</tbody>\n",
              "</table>\n"
            ],
            "text/markdown": "\nA tibble: 2 × 5\n\n| village &lt;chr&gt; | interview_date &lt;dttm&gt; | no_membrs &lt;dbl&gt; | years_liv &lt;dbl&gt; | respondent_wall_type &lt;chr&gt; |\n|---|---|---|---|---|\n| Chirodzo | 2016-11-16 | 12 | 70 | burntbricks |\n| Chirodzo | 2016-11-16 |  8 |  6 | burntbricks |\n\n",
            "text/latex": "A tibble: 2 × 5\n\\begin{tabular}{lllll}\n village & interview\\_date & no\\_membrs & years\\_liv & respondent\\_wall\\_type\\\\\n <chr> & <dttm> & <dbl> & <dbl> & <chr>\\\\\n\\hline\n\t Chirodzo & 2016-11-16 & 12 & 70 & burntbricks\\\\\n\t Chirodzo & 2016-11-16 &  8 &  6 & burntbricks\\\\\n\\end{tabular}\n",
            "text/plain": [
              "  village  interview_date no_membrs years_liv respondent_wall_type\n",
              "1 Chirodzo 2016-11-16     12        70        burntbricks         \n",
              "2 Chirodzo 2016-11-16      8         6        burntbricks         "
            ]
          },
          "metadata": {}
        }
      ]
    },
    {
      "cell_type": "markdown",
      "source": [
        "#### `mutate`"
      ],
      "metadata": {
        "id": "jvUw2qT87m99"
      }
    },
    {
      "cell_type": "code",
      "source": [
        "interviews %>%\n",
        "  mutate(people_per_room = no_membrs / rooms)"
      ],
      "metadata": {
        "colab": {
          "base_uri": "https://localhost:8080/",
          "height": 1000
        },
        "id": "n39S4ws37oSt",
        "outputId": "ca2bb25a-e351-4b8a-fd69-eed7c0034e44"
      },
      "execution_count": null,
      "outputs": [
        {
          "output_type": "display_data",
          "data": {
            "text/html": [
              "<table class=\"dataframe\">\n",
              "<caption>A tibble: 131 × 15</caption>\n",
              "<thead>\n",
              "\t<tr><th scope=col>key_ID</th><th scope=col>village</th><th scope=col>interview_date</th><th scope=col>no_membrs</th><th scope=col>years_liv</th><th scope=col>respondent_wall_type</th><th scope=col>rooms</th><th scope=col>memb_assoc</th><th scope=col>affect_conflicts</th><th scope=col>liv_count</th><th scope=col>items_owned</th><th scope=col>no_meals</th><th scope=col>months_lack_food</th><th scope=col>instanceID</th><th scope=col>people_per_room</th></tr>\n",
              "\t<tr><th scope=col>&lt;dbl&gt;</th><th scope=col>&lt;chr&gt;</th><th scope=col>&lt;dttm&gt;</th><th scope=col>&lt;dbl&gt;</th><th scope=col>&lt;dbl&gt;</th><th scope=col>&lt;chr&gt;</th><th scope=col>&lt;dbl&gt;</th><th scope=col>&lt;chr&gt;</th><th scope=col>&lt;chr&gt;</th><th scope=col>&lt;dbl&gt;</th><th scope=col>&lt;chr&gt;</th><th scope=col>&lt;dbl&gt;</th><th scope=col>&lt;chr&gt;</th><th scope=col>&lt;chr&gt;</th><th scope=col>&lt;dbl&gt;</th></tr>\n",
              "</thead>\n",
              "<tbody>\n",
              "\t<tr><td> 1</td><td>God     </td><td>2016-11-17</td><td> 3</td><td> 4</td><td>muddaub    </td><td>1</td><td>NA </td><td>NA        </td><td>1</td><td>bicycle;television;solar_panel;table                                                              </td><td>2</td><td>Jan                                           </td><td>uuid:ec241f2c-0609-46ed-b5e8-fe575f6cefef</td><td> 3.000000</td></tr>\n",
              "\t<tr><td> 1</td><td>God     </td><td>2016-11-17</td><td> 7</td><td> 9</td><td>muddaub    </td><td>1</td><td>yes</td><td>once      </td><td>3</td><td>cow_cart;bicycle;radio;cow_plough;solar_panel;solar_torch;table;mobile_phone                      </td><td>2</td><td>Jan;Sept;Oct;Nov;Dec                          </td><td>uuid:099de9c9-3e5e-427b-8452-26250e840d6e</td><td> 7.000000</td></tr>\n",
              "\t<tr><td> 3</td><td>God     </td><td>2016-11-17</td><td>10</td><td>15</td><td>burntbricks</td><td>1</td><td>NA </td><td>NA        </td><td>1</td><td>solar_torch                                                                                       </td><td>2</td><td>Jan;Feb;Mar;Oct;Nov;Dec                       </td><td>uuid:193d7daf-9582-409b-bf09-027dd36f9007</td><td>10.000000</td></tr>\n",
              "\t<tr><td> 4</td><td>God     </td><td>2016-11-17</td><td> 7</td><td> 6</td><td>burntbricks</td><td>1</td><td>NA </td><td>NA        </td><td>2</td><td>bicycle;radio;cow_plough;solar_panel;mobile_phone                                                 </td><td>2</td><td>Sept;Oct;Nov;Dec                              </td><td>uuid:148d1105-778a-4755-aa71-281eadd4a973</td><td> 7.000000</td></tr>\n",
              "\t<tr><td> 5</td><td>God     </td><td>2016-11-17</td><td> 7</td><td>40</td><td>burntbricks</td><td>1</td><td>NA </td><td>NA        </td><td>4</td><td>motorcyle;radio;cow_plough;mobile_phone                                                           </td><td>2</td><td>Aug;Sept;Oct;Nov                              </td><td>uuid:2c867811-9696-4966-9866-f35c3e97d02d</td><td> 7.000000</td></tr>\n",
              "\t<tr><td> 6</td><td>God     </td><td>2016-11-17</td><td> 3</td><td> 3</td><td>muddaub    </td><td>1</td><td>NA </td><td>NA        </td><td>1</td><td>NA                                                                                                </td><td>2</td><td>Aug;Sept;Oct                                  </td><td>uuid:daa56c91-c8e3-44c3-a663-af6a49a2ca70</td><td> 3.000000</td></tr>\n",
              "\t<tr><td> 7</td><td>God     </td><td>2016-11-17</td><td> 6</td><td>38</td><td>muddaub    </td><td>1</td><td>no </td><td>never     </td><td>1</td><td>motorcyle;cow_plough                                                                              </td><td>3</td><td>Nov                                           </td><td>uuid:ae20a58d-56f4-43d7-bafa-e7963d850844</td><td> 6.000000</td></tr>\n",
              "\t<tr><td> 8</td><td>Chirodzo</td><td>2016-11-16</td><td>12</td><td>70</td><td>burntbricks</td><td>3</td><td>yes</td><td>never     </td><td>2</td><td>motorcyle;bicycle;television;radio;cow_plough;solar_panel;solar_torch;table;fridge                </td><td>2</td><td>Jan                                           </td><td>uuid:d6cee930-7be1-4fd9-88c0-82a08f90fb5a</td><td> 4.000000</td></tr>\n",
              "\t<tr><td> 9</td><td>Chirodzo</td><td>2016-11-16</td><td> 8</td><td> 6</td><td>burntbricks</td><td>1</td><td>no </td><td>never     </td><td>3</td><td>television;solar_panel;solar_torch                                                                </td><td>3</td><td>Jan;Dec                                       </td><td>uuid:846103d2-b1db-4055-b502-9cd510bb7b37</td><td> 8.000000</td></tr>\n",
              "\t<tr><td>10</td><td>Chirodzo</td><td>2016-12-16</td><td>12</td><td>23</td><td>burntbricks</td><td>5</td><td>no </td><td>never     </td><td>2</td><td>cow_cart;motorcyle;bicycle;television;radio;cow_plough;solar_panel;solar_torch;table              </td><td>3</td><td>Jan;Oct;Nov;Dec                               </td><td>uuid:8f4e49bc-da81-4356-ae34-e0d794a23721</td><td> 2.400000</td></tr>\n",
              "\t<tr><td>11</td><td>God     </td><td>2016-11-21</td><td> 6</td><td>20</td><td>sunbricks  </td><td>1</td><td>NA </td><td>NA        </td><td>2</td><td>radio;cow_plough                                                                                  </td><td>2</td><td>Oct;Nov                                       </td><td>uuid:d29b44e3-3348-4afc-aa4d-9eb34c89d483</td><td> 6.000000</td></tr>\n",
              "\t<tr><td>12</td><td>God     </td><td>2016-11-21</td><td> 7</td><td>20</td><td>burntbricks</td><td>3</td><td>yes</td><td>never     </td><td>2</td><td>cow_cart;bicycle;radio;cow_plough;table                                                           </td><td>3</td><td>Sept;Oct                                      </td><td>uuid:e6ee6269-b467-4e37-91fc-5e9eaf934557</td><td> 2.333333</td></tr>\n",
              "\t<tr><td>13</td><td>God     </td><td>2016-11-21</td><td> 6</td><td> 8</td><td>burntbricks</td><td>1</td><td>no </td><td>never     </td><td>3</td><td>bicycle;radio;cow_plough;mobile_phone                                                             </td><td>2</td><td>Sept;Oct;Nov                                  </td><td>uuid:6c00c145-ee3b-409c-8c02-2c8d743b6918</td><td> 6.000000</td></tr>\n",
              "\t<tr><td>14</td><td>God     </td><td>2016-11-21</td><td>10</td><td>20</td><td>burntbricks</td><td>3</td><td>NA </td><td>NA        </td><td>3</td><td>bicycle;radio;cow_plough;solar_panel;table;mobile_phone                                           </td><td>3</td><td>June;July;Aug;Sept;Oct;Nov                    </td><td>uuid:9b21467f-1116-4340-a3b1-1ab64f13c87d</td><td> 3.333333</td></tr>\n",
              "\t<tr><td>15</td><td>God     </td><td>2016-11-21</td><td> 5</td><td>30</td><td>sunbricks  </td><td>2</td><td>yes</td><td>once      </td><td>3</td><td>bicycle;radio;cow_plough;solar_panel;table                                                        </td><td>2</td><td>Jan;Feb;Mar;Apr;May;June;July;Aug;Sept;Oct;Nov</td><td>uuid:a837e545-ff86-4a1c-a1a5-6186804b985f</td><td> 2.500000</td></tr>\n",
              "\t<tr><td>16</td><td>God     </td><td>2016-11-24</td><td> 6</td><td>47</td><td>muddaub    </td><td>1</td><td>NA </td><td>NA        </td><td>4</td><td>radio;cow_plough;solar_panel;solar_torch                                                          </td><td>3</td><td>Jan;Feb                                       </td><td>uuid:d17db52f-4b87-4768-b534-ea8f9704c565</td><td> 6.000000</td></tr>\n",
              "\t<tr><td>17</td><td>God     </td><td>2016-11-21</td><td> 8</td><td>20</td><td>sunbricks  </td><td>1</td><td>NA </td><td>NA        </td><td>1</td><td>mobile_phone                                                                                      </td><td>2</td><td>Nov;Dec                                       </td><td>uuid:4707f3dc-df18-4348-9c2c-eec651e89b6b</td><td> 8.000000</td></tr>\n",
              "\t<tr><td>18</td><td>God     </td><td>2016-11-21</td><td> 4</td><td>20</td><td>muddaub    </td><td>1</td><td>NA </td><td>NA        </td><td>3</td><td>bicycle;mobile_phone                                                                              </td><td>2</td><td>Oct;Nov                                       </td><td>uuid:7ffe7bd1-a15c-420c-a137-e1f006c317a3</td><td> 4.000000</td></tr>\n",
              "\t<tr><td>19</td><td>God     </td><td>2016-11-21</td><td> 9</td><td>23</td><td>burntbricks</td><td>2</td><td>NA </td><td>NA        </td><td>2</td><td>bicycle;radio;cow_plough;solar_panel;solar_torch;mobile_phone                                     </td><td>3</td><td>Oct;Nov;Dec                                   </td><td>uuid:e32f2dc0-0d05-42fb-8e21-605757ddf07d</td><td> 4.500000</td></tr>\n",
              "\t<tr><td>20</td><td>God     </td><td>2016-11-21</td><td> 6</td><td> 1</td><td>burntbricks</td><td>1</td><td>NA </td><td>NA        </td><td>1</td><td>bicycle;cow_plough;solar_torch                                                                    </td><td>2</td><td>Oct;Nov                                       </td><td>uuid:d1005274-bf52-4e79-8380-3350dd7c2bac</td><td> 6.000000</td></tr>\n",
              "\t<tr><td>21</td><td>God     </td><td>2016-11-21</td><td> 8</td><td>20</td><td>burntbricks</td><td>1</td><td>no </td><td>never     </td><td>3</td><td>NA                                                                                                </td><td>2</td><td>Jan;Feb;Mar;Oct;Nov;Dec                       </td><td>uuid:6570a7d0-6a0b-452c-aa2e-922500e35749</td><td> 8.000000</td></tr>\n",
              "\t<tr><td>22</td><td>God     </td><td>2016-11-21</td><td> 4</td><td>20</td><td>muddaub    </td><td>1</td><td>NA </td><td>NA        </td><td>1</td><td>radio                                                                                             </td><td>2</td><td>Jan;Feb;Mar;Apr;Aug;Sept;Oct;Nov;Dec          </td><td>uuid:a51c3006-8847-46ff-9d4e-d29919b8ecf9</td><td> 4.000000</td></tr>\n",
              "\t<tr><td>23</td><td>Ruaca   </td><td>2016-11-21</td><td>10</td><td>20</td><td>burntbricks</td><td>4</td><td>NA </td><td>NA        </td><td>3</td><td>cow_cart;bicycle;television;radio;cow_plough;solar_panel;electricity;mobile_phone                 </td><td>3</td><td>none                                          </td><td>uuid:58b37b6d-d6cd-4414-8790-b9c68bca98de</td><td> 2.500000</td></tr>\n",
              "\t<tr><td>24</td><td>Ruaca   </td><td>2016-11-21</td><td> 6</td><td> 4</td><td>burntbricks</td><td>2</td><td>no </td><td>never     </td><td>3</td><td>radio;table;sofa_set;mobile_phone                                                                 </td><td>2</td><td>Nov;Dec                                       </td><td>uuid:661457d3-7e61-45e8-a238-7415e7548f82</td><td> 3.000000</td></tr>\n",
              "\t<tr><td>25</td><td>Ruaca   </td><td>2016-11-21</td><td>11</td><td> 6</td><td>burntbricks</td><td>3</td><td>no </td><td>never     </td><td>2</td><td>cow_cart;motorcyle;television;radio;cow_plough;solar_panel;solar_torch;table;sofa_set;mobile_phone</td><td>2</td><td>Jan;Feb;Oct                                   </td><td>uuid:45ed84c4-114e-4df0-9f5d-c800806c2bee</td><td> 3.666667</td></tr>\n",
              "\t<tr><td>26</td><td>Ruaca   </td><td>2016-11-21</td><td> 3</td><td>20</td><td>burntbricks</td><td>2</td><td>no </td><td>never     </td><td>2</td><td>radio;cow_plough;table;mobile_phone                                                               </td><td>2</td><td>none                                          </td><td>uuid:1c54ee24-22c4-4ee9-b1ad-42d483c08e2e</td><td> 1.500000</td></tr>\n",
              "\t<tr><td>27</td><td>Ruaca   </td><td>2016-11-21</td><td> 7</td><td>36</td><td>burntbricks</td><td>2</td><td>NA </td><td>NA        </td><td>3</td><td>bicycle;radio;cow_plough;solar_panel;solar_torch;mobile_phone                                     </td><td>3</td><td>none                                          </td><td>uuid:3197cded-1fdc-4c0c-9b10-cfcc0bf49c4d</td><td> 3.500000</td></tr>\n",
              "\t<tr><td>28</td><td>Ruaca   </td><td>2016-11-21</td><td> 2</td><td> 2</td><td>muddaub    </td><td>1</td><td>no </td><td>more_once </td><td>1</td><td>NA                                                                                                </td><td>3</td><td>Aug;Sept;Oct                                  </td><td>uuid:1de53318-a8cf-4736-99b1-8239f8822473</td><td> 2.000000</td></tr>\n",
              "\t<tr><td>29</td><td>Ruaca   </td><td>2016-11-21</td><td> 7</td><td>10</td><td>burntbricks</td><td>2</td><td>yes</td><td>frequently</td><td>1</td><td>motorcyle;bicycle;radio;table;mobile_phone                                                        </td><td>3</td><td>Jan;Feb                                       </td><td>uuid:adcd7463-8943-4c67-b25f-f72311409476</td><td> 3.500000</td></tr>\n",
              "\t<tr><td>30</td><td>Ruaca   </td><td>2016-11-21</td><td> 7</td><td>22</td><td>muddaub    </td><td>2</td><td>NA </td><td>NA        </td><td>1</td><td>bicycle;radio;mobile_phone                                                                        </td><td>2</td><td>Jan;Feb                                       </td><td>uuid:59341ead-92be-45a9-8545-6edf9f94fdc6</td><td> 3.500000</td></tr>\n",
              "\t<tr><td>⋮</td><td>⋮</td><td>⋮</td><td>⋮</td><td>⋮</td><td>⋮</td><td>⋮</td><td>⋮</td><td>⋮</td><td>⋮</td><td>⋮</td><td>⋮</td><td>⋮</td><td>⋮</td><td>⋮</td></tr>\n",
              "\t<tr><td>105</td><td>Ruaca   </td><td>2017-04-28</td><td> 6</td><td>40</td><td>sunbricks  </td><td>1</td><td>yes</td><td>frequently</td><td>2</td><td>motorcyle;radio;cow_plough;solar_panel;mobile_phone                                                                  </td><td>3</td><td>Jan;Feb;Dec          </td><td>uuid:af0904ee-4fdb-4090-973f-599c81ddf022</td><td> 6.000000</td></tr>\n",
              "\t<tr><td>106</td><td>God     </td><td>2017-04-30</td><td>15</td><td>22</td><td>sunbricks  </td><td>5</td><td>no </td><td>never     </td><td>2</td><td>cow_cart;motorcyle;bicycle;radio;sterio;cow_plough;solar_panel;solar_torch;table;mobile_phone                        </td><td>3</td><td>Oct;Nov;Dec          </td><td>uuid:468797c1-4a65-4f35-9c83-e28ce46972a2</td><td> 3.000000</td></tr>\n",
              "\t<tr><td>109</td><td>God     </td><td>2017-05-03</td><td> 4</td><td>12</td><td>sunbricks  </td><td>1</td><td>NA </td><td>NA        </td><td>3</td><td>cow_cart;bicycle;radio;cow_plough;table                                                                              </td><td>3</td><td>July;Aug;Sept;Oct;Nov</td><td>uuid:602cd3f6-4a97-49c6-80e3-bcfd5c78dfa4</td><td> 4.000000</td></tr>\n",
              "\t<tr><td>110</td><td>Ruaca   </td><td>2017-05-03</td><td> 6</td><td>22</td><td>sunbricks  </td><td>3</td><td>no </td><td>never     </td><td>3</td><td>bicycle;radio;cow_plough;table;mobile_phone                                                                          </td><td>2</td><td>none                 </td><td>uuid:e7c51ac4-24e4-475e-88e7-f85e896945e3</td><td> 2.000000</td></tr>\n",
              "\t<tr><td>113</td><td>Ruaca   </td><td>2017-05-03</td><td>11</td><td>26</td><td>burntbricks</td><td>3</td><td>no </td><td>never     </td><td>4</td><td>cow_cart;motorcyle;bicycle;radio;cow_plough;solar_panel;solar_torch;table;mobile_phone                               </td><td>3</td><td>none                 </td><td>uuid:01210861-aba1-4268-98d0-0260e05f5155</td><td> 3.666667</td></tr>\n",
              "\t<tr><td>118</td><td>Ruaca   </td><td>2017-05-04</td><td> 5</td><td>25</td><td>muddaub    </td><td>1</td><td>NA </td><td>NA        </td><td>1</td><td>radio;solar_torch;mobile_phone                                                                                       </td><td>3</td><td>Oct;Nov;Dec          </td><td>uuid:77335b2e-8812-4a35-b1e5-ca9ab626dfea</td><td> 5.000000</td></tr>\n",
              "\t<tr><td>125</td><td>Ruaca   </td><td>2017-05-04</td><td> 5</td><td>14</td><td>burntbricks</td><td>1</td><td>no </td><td>more_once </td><td>2</td><td>bicycle;radio;cow_plough;solar_panel;solar_torch;mobile_phone                                                        </td><td>3</td><td>Jan;Sept;Oct;Nov;Dec </td><td>uuid:02b05c68-302e-4e7a-b229-81cb1377fd29</td><td> 5.000000</td></tr>\n",
              "\t<tr><td>119</td><td>Ruaca   </td><td>2017-05-04</td><td> 3</td><td>14</td><td>muddaub    </td><td>1</td><td>no </td><td>never     </td><td>4</td><td>bicycle;cow_plough;solar_panel;mobile_phone                                                                          </td><td>3</td><td>none                 </td><td>uuid:fa201fce-4e94-44b8-b435-c558c2e1ed55</td><td> 3.000000</td></tr>\n",
              "\t<tr><td>115</td><td>Ruaca   </td><td>2017-05-11</td><td> 4</td><td>16</td><td>sunbricks  </td><td>2</td><td>NA </td><td>NA        </td><td>3</td><td>cow_cart;motorcyle;bicycle;television;radio;cow_plough;solar_panel;solar_torch;table;mobile_phone                    </td><td>3</td><td>none                 </td><td>uuid:628fe23d-188f-43e4-a203-a4bf3257d461</td><td> 2.000000</td></tr>\n",
              "\t<tr><td>108</td><td>God     </td><td>2017-05-11</td><td>15</td><td>22</td><td>burntbricks</td><td>2</td><td>no </td><td>never     </td><td>4</td><td>cow_cart;bicycle;radio;cow_plough;solar_panel;table;mobile_phone                                                     </td><td>3</td><td>Aug;Sept;Oct;Nov     </td><td>uuid:e4f4d6ba-e698-45a5-947f-ba6da88cc22b</td><td> 7.500000</td></tr>\n",
              "\t<tr><td>116</td><td>Ruaca   </td><td>2017-05-11</td><td> 5</td><td>25</td><td>burntbricks</td><td>3</td><td>NA </td><td>NA        </td><td>3</td><td>motorcyle;bicycle;television;radio;cow_plough;solar_panel;solar_torch;table;mobile_phone                             </td><td>3</td><td>Jan;Nov;Dec          </td><td>uuid:cfee6297-2c0e-4f8a-94cc-9aaee0bd64cb</td><td> 1.666667</td></tr>\n",
              "\t<tr><td>117</td><td>Ruaca   </td><td>2017-05-11</td><td>10</td><td>28</td><td>muddaub    </td><td>4</td><td>NA </td><td>NA        </td><td>1</td><td>motorcyle;television;radio;solar_panel;solar_torch;table;mobile_phone                                                </td><td>3</td><td>Jan;Feb;Nov;Dec      </td><td>uuid:3fe626b3-c794-48e1-a80f-5bfe440c507b</td><td> 2.500000</td></tr>\n",
              "\t<tr><td>144</td><td>Ruaca   </td><td>2017-05-18</td><td> 7</td><td> 5</td><td>burntbricks</td><td>4</td><td>no </td><td>frequently</td><td>4</td><td>cow_cart;television;radio;cow_plough;solar_panel;solar_torch;table;mobile_phone                                      </td><td>2</td><td>none                 </td><td>uuid:0670cef6-d233-4852-89d8-36955261b0a3</td><td> 1.750000</td></tr>\n",
              "\t<tr><td>143</td><td>Ruaca   </td><td>2017-05-18</td><td>10</td><td>24</td><td>burntbricks</td><td>2</td><td>no </td><td>frequently</td><td>3</td><td>cow_cart;motorcyle;television;radio;cow_plough;solar_torch;table;mobile_phone                                        </td><td>3</td><td>Jan;Dec              </td><td>uuid:9a096a12-b335-468c-b3cc-1191180d62de</td><td> 5.000000</td></tr>\n",
              "\t<tr><td>150</td><td>Ruaca   </td><td>2017-05-18</td><td> 7</td><td> 8</td><td>muddaub    </td><td>1</td><td>no </td><td>never     </td><td>1</td><td>mobile_phone                                                                                                         </td><td>3</td><td>Sept;Oct;Nov         </td><td>uuid:92613d0d-e7b1-4d62-8ea4-451d7cd0a982</td><td> 7.000000</td></tr>\n",
              "\t<tr><td>159</td><td>God     </td><td>2017-05-18</td><td> 4</td><td>24</td><td>sunbricks  </td><td>1</td><td>no </td><td>never     </td><td>1</td><td>radio;solar_panel;solar_torch                                                                                        </td><td>3</td><td>Sept;Oct;Nov         </td><td>uuid:37577f91-d665-443e-8d70-b914954cef4b</td><td> 4.000000</td></tr>\n",
              "\t<tr><td>160</td><td>God     </td><td>2017-06-03</td><td> 7</td><td>13</td><td>burntbricks</td><td>2</td><td>yes</td><td>frequently</td><td>2</td><td>cow_cart;cow_plough;solar_torch;mobile_phone                                                                         </td><td>2</td><td>Nov                  </td><td>uuid:f22831ec-6bc3-4b73-9197-4b01e01abb66</td><td> 3.500000</td></tr>\n",
              "\t<tr><td>165</td><td>Ruaca   </td><td>2017-06-03</td><td> 9</td><td>14</td><td>burntbricks</td><td>1</td><td>no </td><td>never     </td><td>3</td><td>cow_cart;motorcyle;bicycle;television;radio;cow_plough;solar_torch;electricity;table;sofa_set;mobile_phone;fridge    </td><td>3</td><td>none                 </td><td>uuid:62f3f7af-f0f3-4f88-b9e0-acf8baa49ae4</td><td> 9.000000</td></tr>\n",
              "\t<tr><td>166</td><td>Ruaca   </td><td>2017-06-03</td><td>11</td><td>16</td><td>muddaub    </td><td>1</td><td>no </td><td>never     </td><td>1</td><td>bicycle;solar_torch;mobile_phone                                                                                     </td><td>2</td><td>Feb;Mar              </td><td>uuid:40aac732-94df-496c-97ba-5b67f59bcc7a</td><td>11.000000</td></tr>\n",
              "\t<tr><td>167</td><td>Ruaca   </td><td>2017-06-03</td><td> 8</td><td>24</td><td>muddaub    </td><td>1</td><td>no </td><td>never     </td><td>3</td><td>motorcyle;radio;cow_plough;solar_panel;solar_torch;table;mobile_phone                                                </td><td>2</td><td>Jan;Nov;Dec          </td><td>uuid:a9d1a013-043b-475d-a71b-77ed80abe970</td><td> 8.000000</td></tr>\n",
              "\t<tr><td>174</td><td>Ruaca   </td><td>2017-06-03</td><td>12</td><td>25</td><td>burntbricks</td><td>2</td><td>no </td><td>never     </td><td>3</td><td>car;lorry;motorcyle;radio;sterio;cow_plough;solar_panel;solar_torch;table;sofa_set;mobile_phone;fridge               </td><td>3</td><td>Jan;Feb;Dec          </td><td>uuid:43ec6132-478c-4f87-878d-fb3c0c4d0c74</td><td> 6.000000</td></tr>\n",
              "\t<tr><td>175</td><td>Ruaca   </td><td>2017-06-03</td><td> 7</td><td>36</td><td>burntbricks</td><td>1</td><td>no </td><td>never     </td><td>4</td><td>motorcyle;bicycle;radio;sterio;cow_plough;solar_panel;table;mobile_phone                                             </td><td>2</td><td>Jan;Oct;Nov;Dec      </td><td>uuid:64fc743e-8176-40f6-8ae4-36ae97fac1d9</td><td> 7.000000</td></tr>\n",
              "\t<tr><td>189</td><td>Ruaca   </td><td>2017-06-03</td><td>15</td><td>16</td><td>sunbricks  </td><td>1</td><td>no </td><td>never     </td><td>3</td><td>motorcyle;radio;sterio;cow_plough;solar_panel;table;mobile_phone                                                     </td><td>3</td><td>Nov                  </td><td>uuid:c17e374c-280b-4e78-bf21-74a7c1c73492</td><td>15.000000</td></tr>\n",
              "\t<tr><td>191</td><td>Ruaca   </td><td>2017-06-03</td><td>10</td><td> 5</td><td>burntbricks</td><td>4</td><td>no </td><td>never     </td><td>1</td><td>radio;cow_plough;solar_panel;solar_torch;mobile_phone                                                                </td><td>2</td><td>Oct;Nov;Dec          </td><td>uuid:dad53aff-b520-4015-a9e3-f5fdf9168fe1</td><td> 2.500000</td></tr>\n",
              "\t<tr><td>192</td><td>Chirodzo</td><td>2017-06-03</td><td> 9</td><td>20</td><td>burntbricks</td><td>1</td><td>no </td><td>once      </td><td>1</td><td>bicycle;television;radio;sterio;solar_panel;solar_torch;table;mobile_phone                                           </td><td>3</td><td>Jan;Nov;Dec          </td><td>uuid:f94409a6-e461-4e4c-a6fb-0072d3d58b00</td><td> 9.000000</td></tr>\n",
              "\t<tr><td>126</td><td>Ruaca   </td><td>2017-05-18</td><td> 3</td><td> 7</td><td>burntbricks</td><td>1</td><td>no </td><td>more_once </td><td>3</td><td>motorcyle;radio;solar_panel                                                                                          </td><td>3</td><td>Oct;Nov;Dec          </td><td>uuid:69caea81-a4e5-4e8d-83cd-9c18d8e8d965</td><td> 3.000000</td></tr>\n",
              "\t<tr><td>193</td><td>Ruaca   </td><td>2017-06-04</td><td> 7</td><td>10</td><td>cement     </td><td>3</td><td>no </td><td>more_once </td><td>3</td><td>car;lorry;television;radio;sterio;cow_plough;solar_torch;electricity;table;sofa_set;mobile_phone;fridge              </td><td>3</td><td>none                 </td><td>uuid:5ccc2e5a-ea90-48b5-8542-69400d5334df</td><td> 2.333333</td></tr>\n",
              "\t<tr><td>194</td><td>Ruaca   </td><td>2017-06-04</td><td> 4</td><td> 5</td><td>muddaub    </td><td>1</td><td>no </td><td>more_once </td><td>1</td><td>radio;solar_panel;solar_torch;mobile_phone                                                                           </td><td>3</td><td>Sept;Oct;Nov         </td><td>uuid:95c11a30-d44f-40c4-8ea8-ec34fca6bbbf</td><td> 4.000000</td></tr>\n",
              "\t<tr><td>199</td><td>Chirodzo</td><td>2017-06-04</td><td> 7</td><td>17</td><td>burntbricks</td><td>2</td><td>yes</td><td>more_once </td><td>2</td><td>cow_cart;lorry;motorcyle;computer;television;radio;sterio;cow_plough;solar_panel;solar_torch;electricity;mobile_phone</td><td>3</td><td>Nov;Dec              </td><td>uuid:ffc83162-ff24-4a87-8709-eff17abc0b3b</td><td> 3.500000</td></tr>\n",
              "\t<tr><td>200</td><td>Chirodzo</td><td>2017-06-04</td><td> 8</td><td>20</td><td>burntbricks</td><td>2</td><td>NA </td><td>NA        </td><td>3</td><td>radio;cow_plough;solar_panel;solar_torch;table;mobile_phone                                                          </td><td>3</td><td>Oct;Nov              </td><td>uuid:aa77a0d7-7142-41c8-b494-483a5b68d8a7</td><td> 4.000000</td></tr>\n",
              "</tbody>\n",
              "</table>\n"
            ],
            "text/markdown": "\nA tibble: 131 × 15\n\n| key_ID &lt;dbl&gt; | village &lt;chr&gt; | interview_date &lt;dttm&gt; | no_membrs &lt;dbl&gt; | years_liv &lt;dbl&gt; | respondent_wall_type &lt;chr&gt; | rooms &lt;dbl&gt; | memb_assoc &lt;chr&gt; | affect_conflicts &lt;chr&gt; | liv_count &lt;dbl&gt; | items_owned &lt;chr&gt; | no_meals &lt;dbl&gt; | months_lack_food &lt;chr&gt; | instanceID &lt;chr&gt; | people_per_room &lt;dbl&gt; |\n|---|---|---|---|---|---|---|---|---|---|---|---|---|---|---|\n|  1 | God      | 2016-11-17 |  3 |  4 | muddaub     | 1 | NA  | NA         | 1 | bicycle;television;solar_panel;table                                                               | 2 | Jan                                            | uuid:ec241f2c-0609-46ed-b5e8-fe575f6cefef |  3.000000 |\n|  1 | God      | 2016-11-17 |  7 |  9 | muddaub     | 1 | yes | once       | 3 | cow_cart;bicycle;radio;cow_plough;solar_panel;solar_torch;table;mobile_phone                       | 2 | Jan;Sept;Oct;Nov;Dec                           | uuid:099de9c9-3e5e-427b-8452-26250e840d6e |  7.000000 |\n|  3 | God      | 2016-11-17 | 10 | 15 | burntbricks | 1 | NA  | NA         | 1 | solar_torch                                                                                        | 2 | Jan;Feb;Mar;Oct;Nov;Dec                        | uuid:193d7daf-9582-409b-bf09-027dd36f9007 | 10.000000 |\n|  4 | God      | 2016-11-17 |  7 |  6 | burntbricks | 1 | NA  | NA         | 2 | bicycle;radio;cow_plough;solar_panel;mobile_phone                                                  | 2 | Sept;Oct;Nov;Dec                               | uuid:148d1105-778a-4755-aa71-281eadd4a973 |  7.000000 |\n|  5 | God      | 2016-11-17 |  7 | 40 | burntbricks | 1 | NA  | NA         | 4 | motorcyle;radio;cow_plough;mobile_phone                                                            | 2 | Aug;Sept;Oct;Nov                               | uuid:2c867811-9696-4966-9866-f35c3e97d02d |  7.000000 |\n|  6 | God      | 2016-11-17 |  3 |  3 | muddaub     | 1 | NA  | NA         | 1 | NA                                                                                                 | 2 | Aug;Sept;Oct                                   | uuid:daa56c91-c8e3-44c3-a663-af6a49a2ca70 |  3.000000 |\n|  7 | God      | 2016-11-17 |  6 | 38 | muddaub     | 1 | no  | never      | 1 | motorcyle;cow_plough                                                                               | 3 | Nov                                            | uuid:ae20a58d-56f4-43d7-bafa-e7963d850844 |  6.000000 |\n|  8 | Chirodzo | 2016-11-16 | 12 | 70 | burntbricks | 3 | yes | never      | 2 | motorcyle;bicycle;television;radio;cow_plough;solar_panel;solar_torch;table;fridge                 | 2 | Jan                                            | uuid:d6cee930-7be1-4fd9-88c0-82a08f90fb5a |  4.000000 |\n|  9 | Chirodzo | 2016-11-16 |  8 |  6 | burntbricks | 1 | no  | never      | 3 | television;solar_panel;solar_torch                                                                 | 3 | Jan;Dec                                        | uuid:846103d2-b1db-4055-b502-9cd510bb7b37 |  8.000000 |\n| 10 | Chirodzo | 2016-12-16 | 12 | 23 | burntbricks | 5 | no  | never      | 2 | cow_cart;motorcyle;bicycle;television;radio;cow_plough;solar_panel;solar_torch;table               | 3 | Jan;Oct;Nov;Dec                                | uuid:8f4e49bc-da81-4356-ae34-e0d794a23721 |  2.400000 |\n| 11 | God      | 2016-11-21 |  6 | 20 | sunbricks   | 1 | NA  | NA         | 2 | radio;cow_plough                                                                                   | 2 | Oct;Nov                                        | uuid:d29b44e3-3348-4afc-aa4d-9eb34c89d483 |  6.000000 |\n| 12 | God      | 2016-11-21 |  7 | 20 | burntbricks | 3 | yes | never      | 2 | cow_cart;bicycle;radio;cow_plough;table                                                            | 3 | Sept;Oct                                       | uuid:e6ee6269-b467-4e37-91fc-5e9eaf934557 |  2.333333 |\n| 13 | God      | 2016-11-21 |  6 |  8 | burntbricks | 1 | no  | never      | 3 | bicycle;radio;cow_plough;mobile_phone                                                              | 2 | Sept;Oct;Nov                                   | uuid:6c00c145-ee3b-409c-8c02-2c8d743b6918 |  6.000000 |\n| 14 | God      | 2016-11-21 | 10 | 20 | burntbricks | 3 | NA  | NA         | 3 | bicycle;radio;cow_plough;solar_panel;table;mobile_phone                                            | 3 | June;July;Aug;Sept;Oct;Nov                     | uuid:9b21467f-1116-4340-a3b1-1ab64f13c87d |  3.333333 |\n| 15 | God      | 2016-11-21 |  5 | 30 | sunbricks   | 2 | yes | once       | 3 | bicycle;radio;cow_plough;solar_panel;table                                                         | 2 | Jan;Feb;Mar;Apr;May;June;July;Aug;Sept;Oct;Nov | uuid:a837e545-ff86-4a1c-a1a5-6186804b985f |  2.500000 |\n| 16 | God      | 2016-11-24 |  6 | 47 | muddaub     | 1 | NA  | NA         | 4 | radio;cow_plough;solar_panel;solar_torch                                                           | 3 | Jan;Feb                                        | uuid:d17db52f-4b87-4768-b534-ea8f9704c565 |  6.000000 |\n| 17 | God      | 2016-11-21 |  8 | 20 | sunbricks   | 1 | NA  | NA         | 1 | mobile_phone                                                                                       | 2 | Nov;Dec                                        | uuid:4707f3dc-df18-4348-9c2c-eec651e89b6b |  8.000000 |\n| 18 | God      | 2016-11-21 |  4 | 20 | muddaub     | 1 | NA  | NA         | 3 | bicycle;mobile_phone                                                                               | 2 | Oct;Nov                                        | uuid:7ffe7bd1-a15c-420c-a137-e1f006c317a3 |  4.000000 |\n| 19 | God      | 2016-11-21 |  9 | 23 | burntbricks | 2 | NA  | NA         | 2 | bicycle;radio;cow_plough;solar_panel;solar_torch;mobile_phone                                      | 3 | Oct;Nov;Dec                                    | uuid:e32f2dc0-0d05-42fb-8e21-605757ddf07d |  4.500000 |\n| 20 | God      | 2016-11-21 |  6 |  1 | burntbricks | 1 | NA  | NA         | 1 | bicycle;cow_plough;solar_torch                                                                     | 2 | Oct;Nov                                        | uuid:d1005274-bf52-4e79-8380-3350dd7c2bac |  6.000000 |\n| 21 | God      | 2016-11-21 |  8 | 20 | burntbricks | 1 | no  | never      | 3 | NA                                                                                                 | 2 | Jan;Feb;Mar;Oct;Nov;Dec                        | uuid:6570a7d0-6a0b-452c-aa2e-922500e35749 |  8.000000 |\n| 22 | God      | 2016-11-21 |  4 | 20 | muddaub     | 1 | NA  | NA         | 1 | radio                                                                                              | 2 | Jan;Feb;Mar;Apr;Aug;Sept;Oct;Nov;Dec           | uuid:a51c3006-8847-46ff-9d4e-d29919b8ecf9 |  4.000000 |\n| 23 | Ruaca    | 2016-11-21 | 10 | 20 | burntbricks | 4 | NA  | NA         | 3 | cow_cart;bicycle;television;radio;cow_plough;solar_panel;electricity;mobile_phone                  | 3 | none                                           | uuid:58b37b6d-d6cd-4414-8790-b9c68bca98de |  2.500000 |\n| 24 | Ruaca    | 2016-11-21 |  6 |  4 | burntbricks | 2 | no  | never      | 3 | radio;table;sofa_set;mobile_phone                                                                  | 2 | Nov;Dec                                        | uuid:661457d3-7e61-45e8-a238-7415e7548f82 |  3.000000 |\n| 25 | Ruaca    | 2016-11-21 | 11 |  6 | burntbricks | 3 | no  | never      | 2 | cow_cart;motorcyle;television;radio;cow_plough;solar_panel;solar_torch;table;sofa_set;mobile_phone | 2 | Jan;Feb;Oct                                    | uuid:45ed84c4-114e-4df0-9f5d-c800806c2bee |  3.666667 |\n| 26 | Ruaca    | 2016-11-21 |  3 | 20 | burntbricks | 2 | no  | never      | 2 | radio;cow_plough;table;mobile_phone                                                                | 2 | none                                           | uuid:1c54ee24-22c4-4ee9-b1ad-42d483c08e2e |  1.500000 |\n| 27 | Ruaca    | 2016-11-21 |  7 | 36 | burntbricks | 2 | NA  | NA         | 3 | bicycle;radio;cow_plough;solar_panel;solar_torch;mobile_phone                                      | 3 | none                                           | uuid:3197cded-1fdc-4c0c-9b10-cfcc0bf49c4d |  3.500000 |\n| 28 | Ruaca    | 2016-11-21 |  2 |  2 | muddaub     | 1 | no  | more_once  | 1 | NA                                                                                                 | 3 | Aug;Sept;Oct                                   | uuid:1de53318-a8cf-4736-99b1-8239f8822473 |  2.000000 |\n| 29 | Ruaca    | 2016-11-21 |  7 | 10 | burntbricks | 2 | yes | frequently | 1 | motorcyle;bicycle;radio;table;mobile_phone                                                         | 3 | Jan;Feb                                        | uuid:adcd7463-8943-4c67-b25f-f72311409476 |  3.500000 |\n| 30 | Ruaca    | 2016-11-21 |  7 | 22 | muddaub     | 2 | NA  | NA         | 1 | bicycle;radio;mobile_phone                                                                         | 2 | Jan;Feb                                        | uuid:59341ead-92be-45a9-8545-6edf9f94fdc6 |  3.500000 |\n| ⋮ | ⋮ | ⋮ | ⋮ | ⋮ | ⋮ | ⋮ | ⋮ | ⋮ | ⋮ | ⋮ | ⋮ | ⋮ | ⋮ | ⋮ |\n| 105 | Ruaca    | 2017-04-28 |  6 | 40 | sunbricks   | 1 | yes | frequently | 2 | motorcyle;radio;cow_plough;solar_panel;mobile_phone                                                                   | 3 | Jan;Feb;Dec           | uuid:af0904ee-4fdb-4090-973f-599c81ddf022 |  6.000000 |\n| 106 | God      | 2017-04-30 | 15 | 22 | sunbricks   | 5 | no  | never      | 2 | cow_cart;motorcyle;bicycle;radio;sterio;cow_plough;solar_panel;solar_torch;table;mobile_phone                         | 3 | Oct;Nov;Dec           | uuid:468797c1-4a65-4f35-9c83-e28ce46972a2 |  3.000000 |\n| 109 | God      | 2017-05-03 |  4 | 12 | sunbricks   | 1 | NA  | NA         | 3 | cow_cart;bicycle;radio;cow_plough;table                                                                               | 3 | July;Aug;Sept;Oct;Nov | uuid:602cd3f6-4a97-49c6-80e3-bcfd5c78dfa4 |  4.000000 |\n| 110 | Ruaca    | 2017-05-03 |  6 | 22 | sunbricks   | 3 | no  | never      | 3 | bicycle;radio;cow_plough;table;mobile_phone                                                                           | 2 | none                  | uuid:e7c51ac4-24e4-475e-88e7-f85e896945e3 |  2.000000 |\n| 113 | Ruaca    | 2017-05-03 | 11 | 26 | burntbricks | 3 | no  | never      | 4 | cow_cart;motorcyle;bicycle;radio;cow_plough;solar_panel;solar_torch;table;mobile_phone                                | 3 | none                  | uuid:01210861-aba1-4268-98d0-0260e05f5155 |  3.666667 |\n| 118 | Ruaca    | 2017-05-04 |  5 | 25 | muddaub     | 1 | NA  | NA         | 1 | radio;solar_torch;mobile_phone                                                                                        | 3 | Oct;Nov;Dec           | uuid:77335b2e-8812-4a35-b1e5-ca9ab626dfea |  5.000000 |\n| 125 | Ruaca    | 2017-05-04 |  5 | 14 | burntbricks | 1 | no  | more_once  | 2 | bicycle;radio;cow_plough;solar_panel;solar_torch;mobile_phone                                                         | 3 | Jan;Sept;Oct;Nov;Dec  | uuid:02b05c68-302e-4e7a-b229-81cb1377fd29 |  5.000000 |\n| 119 | Ruaca    | 2017-05-04 |  3 | 14 | muddaub     | 1 | no  | never      | 4 | bicycle;cow_plough;solar_panel;mobile_phone                                                                           | 3 | none                  | uuid:fa201fce-4e94-44b8-b435-c558c2e1ed55 |  3.000000 |\n| 115 | Ruaca    | 2017-05-11 |  4 | 16 | sunbricks   | 2 | NA  | NA         | 3 | cow_cart;motorcyle;bicycle;television;radio;cow_plough;solar_panel;solar_torch;table;mobile_phone                     | 3 | none                  | uuid:628fe23d-188f-43e4-a203-a4bf3257d461 |  2.000000 |\n| 108 | God      | 2017-05-11 | 15 | 22 | burntbricks | 2 | no  | never      | 4 | cow_cart;bicycle;radio;cow_plough;solar_panel;table;mobile_phone                                                      | 3 | Aug;Sept;Oct;Nov      | uuid:e4f4d6ba-e698-45a5-947f-ba6da88cc22b |  7.500000 |\n| 116 | Ruaca    | 2017-05-11 |  5 | 25 | burntbricks | 3 | NA  | NA         | 3 | motorcyle;bicycle;television;radio;cow_plough;solar_panel;solar_torch;table;mobile_phone                              | 3 | Jan;Nov;Dec           | uuid:cfee6297-2c0e-4f8a-94cc-9aaee0bd64cb |  1.666667 |\n| 117 | Ruaca    | 2017-05-11 | 10 | 28 | muddaub     | 4 | NA  | NA         | 1 | motorcyle;television;radio;solar_panel;solar_torch;table;mobile_phone                                                 | 3 | Jan;Feb;Nov;Dec       | uuid:3fe626b3-c794-48e1-a80f-5bfe440c507b |  2.500000 |\n| 144 | Ruaca    | 2017-05-18 |  7 |  5 | burntbricks | 4 | no  | frequently | 4 | cow_cart;television;radio;cow_plough;solar_panel;solar_torch;table;mobile_phone                                       | 2 | none                  | uuid:0670cef6-d233-4852-89d8-36955261b0a3 |  1.750000 |\n| 143 | Ruaca    | 2017-05-18 | 10 | 24 | burntbricks | 2 | no  | frequently | 3 | cow_cart;motorcyle;television;radio;cow_plough;solar_torch;table;mobile_phone                                         | 3 | Jan;Dec               | uuid:9a096a12-b335-468c-b3cc-1191180d62de |  5.000000 |\n| 150 | Ruaca    | 2017-05-18 |  7 |  8 | muddaub     | 1 | no  | never      | 1 | mobile_phone                                                                                                          | 3 | Sept;Oct;Nov          | uuid:92613d0d-e7b1-4d62-8ea4-451d7cd0a982 |  7.000000 |\n| 159 | God      | 2017-05-18 |  4 | 24 | sunbricks   | 1 | no  | never      | 1 | radio;solar_panel;solar_torch                                                                                         | 3 | Sept;Oct;Nov          | uuid:37577f91-d665-443e-8d70-b914954cef4b |  4.000000 |\n| 160 | God      | 2017-06-03 |  7 | 13 | burntbricks | 2 | yes | frequently | 2 | cow_cart;cow_plough;solar_torch;mobile_phone                                                                          | 2 | Nov                   | uuid:f22831ec-6bc3-4b73-9197-4b01e01abb66 |  3.500000 |\n| 165 | Ruaca    | 2017-06-03 |  9 | 14 | burntbricks | 1 | no  | never      | 3 | cow_cart;motorcyle;bicycle;television;radio;cow_plough;solar_torch;electricity;table;sofa_set;mobile_phone;fridge     | 3 | none                  | uuid:62f3f7af-f0f3-4f88-b9e0-acf8baa49ae4 |  9.000000 |\n| 166 | Ruaca    | 2017-06-03 | 11 | 16 | muddaub     | 1 | no  | never      | 1 | bicycle;solar_torch;mobile_phone                                                                                      | 2 | Feb;Mar               | uuid:40aac732-94df-496c-97ba-5b67f59bcc7a | 11.000000 |\n| 167 | Ruaca    | 2017-06-03 |  8 | 24 | muddaub     | 1 | no  | never      | 3 | motorcyle;radio;cow_plough;solar_panel;solar_torch;table;mobile_phone                                                 | 2 | Jan;Nov;Dec           | uuid:a9d1a013-043b-475d-a71b-77ed80abe970 |  8.000000 |\n| 174 | Ruaca    | 2017-06-03 | 12 | 25 | burntbricks | 2 | no  | never      | 3 | car;lorry;motorcyle;radio;sterio;cow_plough;solar_panel;solar_torch;table;sofa_set;mobile_phone;fridge                | 3 | Jan;Feb;Dec           | uuid:43ec6132-478c-4f87-878d-fb3c0c4d0c74 |  6.000000 |\n| 175 | Ruaca    | 2017-06-03 |  7 | 36 | burntbricks | 1 | no  | never      | 4 | motorcyle;bicycle;radio;sterio;cow_plough;solar_panel;table;mobile_phone                                              | 2 | Jan;Oct;Nov;Dec       | uuid:64fc743e-8176-40f6-8ae4-36ae97fac1d9 |  7.000000 |\n| 189 | Ruaca    | 2017-06-03 | 15 | 16 | sunbricks   | 1 | no  | never      | 3 | motorcyle;radio;sterio;cow_plough;solar_panel;table;mobile_phone                                                      | 3 | Nov                   | uuid:c17e374c-280b-4e78-bf21-74a7c1c73492 | 15.000000 |\n| 191 | Ruaca    | 2017-06-03 | 10 |  5 | burntbricks | 4 | no  | never      | 1 | radio;cow_plough;solar_panel;solar_torch;mobile_phone                                                                 | 2 | Oct;Nov;Dec           | uuid:dad53aff-b520-4015-a9e3-f5fdf9168fe1 |  2.500000 |\n| 192 | Chirodzo | 2017-06-03 |  9 | 20 | burntbricks | 1 | no  | once       | 1 | bicycle;television;radio;sterio;solar_panel;solar_torch;table;mobile_phone                                            | 3 | Jan;Nov;Dec           | uuid:f94409a6-e461-4e4c-a6fb-0072d3d58b00 |  9.000000 |\n| 126 | Ruaca    | 2017-05-18 |  3 |  7 | burntbricks | 1 | no  | more_once  | 3 | motorcyle;radio;solar_panel                                                                                           | 3 | Oct;Nov;Dec           | uuid:69caea81-a4e5-4e8d-83cd-9c18d8e8d965 |  3.000000 |\n| 193 | Ruaca    | 2017-06-04 |  7 | 10 | cement      | 3 | no  | more_once  | 3 | car;lorry;television;radio;sterio;cow_plough;solar_torch;electricity;table;sofa_set;mobile_phone;fridge               | 3 | none                  | uuid:5ccc2e5a-ea90-48b5-8542-69400d5334df |  2.333333 |\n| 194 | Ruaca    | 2017-06-04 |  4 |  5 | muddaub     | 1 | no  | more_once  | 1 | radio;solar_panel;solar_torch;mobile_phone                                                                            | 3 | Sept;Oct;Nov          | uuid:95c11a30-d44f-40c4-8ea8-ec34fca6bbbf |  4.000000 |\n| 199 | Chirodzo | 2017-06-04 |  7 | 17 | burntbricks | 2 | yes | more_once  | 2 | cow_cart;lorry;motorcyle;computer;television;radio;sterio;cow_plough;solar_panel;solar_torch;electricity;mobile_phone | 3 | Nov;Dec               | uuid:ffc83162-ff24-4a87-8709-eff17abc0b3b |  3.500000 |\n| 200 | Chirodzo | 2017-06-04 |  8 | 20 | burntbricks | 2 | NA  | NA         | 3 | radio;cow_plough;solar_panel;solar_torch;table;mobile_phone                                                           | 3 | Oct;Nov               | uuid:aa77a0d7-7142-41c8-b494-483a5b68d8a7 |  4.000000 |\n\n",
            "text/latex": "A tibble: 131 × 15\n\\begin{tabular}{lllllllllllllll}\n key\\_ID & village & interview\\_date & no\\_membrs & years\\_liv & respondent\\_wall\\_type & rooms & memb\\_assoc & affect\\_conflicts & liv\\_count & items\\_owned & no\\_meals & months\\_lack\\_food & instanceID & people\\_per\\_room\\\\\n <dbl> & <chr> & <dttm> & <dbl> & <dbl> & <chr> & <dbl> & <chr> & <chr> & <dbl> & <chr> & <dbl> & <chr> & <chr> & <dbl>\\\\\n\\hline\n\t  1 & God      & 2016-11-17 &  3 &  4 & muddaub     & 1 & NA  & NA         & 1 & bicycle;television;solar\\_panel;table                                                               & 2 & Jan                                            & uuid:ec241f2c-0609-46ed-b5e8-fe575f6cefef &  3.000000\\\\\n\t  1 & God      & 2016-11-17 &  7 &  9 & muddaub     & 1 & yes & once       & 3 & cow\\_cart;bicycle;radio;cow\\_plough;solar\\_panel;solar\\_torch;table;mobile\\_phone                       & 2 & Jan;Sept;Oct;Nov;Dec                           & uuid:099de9c9-3e5e-427b-8452-26250e840d6e &  7.000000\\\\\n\t  3 & God      & 2016-11-17 & 10 & 15 & burntbricks & 1 & NA  & NA         & 1 & solar\\_torch                                                                                        & 2 & Jan;Feb;Mar;Oct;Nov;Dec                        & uuid:193d7daf-9582-409b-bf09-027dd36f9007 & 10.000000\\\\\n\t  4 & God      & 2016-11-17 &  7 &  6 & burntbricks & 1 & NA  & NA         & 2 & bicycle;radio;cow\\_plough;solar\\_panel;mobile\\_phone                                                  & 2 & Sept;Oct;Nov;Dec                               & uuid:148d1105-778a-4755-aa71-281eadd4a973 &  7.000000\\\\\n\t  5 & God      & 2016-11-17 &  7 & 40 & burntbricks & 1 & NA  & NA         & 4 & motorcyle;radio;cow\\_plough;mobile\\_phone                                                            & 2 & Aug;Sept;Oct;Nov                               & uuid:2c867811-9696-4966-9866-f35c3e97d02d &  7.000000\\\\\n\t  6 & God      & 2016-11-17 &  3 &  3 & muddaub     & 1 & NA  & NA         & 1 & NA                                                                                                 & 2 & Aug;Sept;Oct                                   & uuid:daa56c91-c8e3-44c3-a663-af6a49a2ca70 &  3.000000\\\\\n\t  7 & God      & 2016-11-17 &  6 & 38 & muddaub     & 1 & no  & never      & 1 & motorcyle;cow\\_plough                                                                               & 3 & Nov                                            & uuid:ae20a58d-56f4-43d7-bafa-e7963d850844 &  6.000000\\\\\n\t  8 & Chirodzo & 2016-11-16 & 12 & 70 & burntbricks & 3 & yes & never      & 2 & motorcyle;bicycle;television;radio;cow\\_plough;solar\\_panel;solar\\_torch;table;fridge                 & 2 & Jan                                            & uuid:d6cee930-7be1-4fd9-88c0-82a08f90fb5a &  4.000000\\\\\n\t  9 & Chirodzo & 2016-11-16 &  8 &  6 & burntbricks & 1 & no  & never      & 3 & television;solar\\_panel;solar\\_torch                                                                 & 3 & Jan;Dec                                        & uuid:846103d2-b1db-4055-b502-9cd510bb7b37 &  8.000000\\\\\n\t 10 & Chirodzo & 2016-12-16 & 12 & 23 & burntbricks & 5 & no  & never      & 2 & cow\\_cart;motorcyle;bicycle;television;radio;cow\\_plough;solar\\_panel;solar\\_torch;table               & 3 & Jan;Oct;Nov;Dec                                & uuid:8f4e49bc-da81-4356-ae34-e0d794a23721 &  2.400000\\\\\n\t 11 & God      & 2016-11-21 &  6 & 20 & sunbricks   & 1 & NA  & NA         & 2 & radio;cow\\_plough                                                                                   & 2 & Oct;Nov                                        & uuid:d29b44e3-3348-4afc-aa4d-9eb34c89d483 &  6.000000\\\\\n\t 12 & God      & 2016-11-21 &  7 & 20 & burntbricks & 3 & yes & never      & 2 & cow\\_cart;bicycle;radio;cow\\_plough;table                                                            & 3 & Sept;Oct                                       & uuid:e6ee6269-b467-4e37-91fc-5e9eaf934557 &  2.333333\\\\\n\t 13 & God      & 2016-11-21 &  6 &  8 & burntbricks & 1 & no  & never      & 3 & bicycle;radio;cow\\_plough;mobile\\_phone                                                              & 2 & Sept;Oct;Nov                                   & uuid:6c00c145-ee3b-409c-8c02-2c8d743b6918 &  6.000000\\\\\n\t 14 & God      & 2016-11-21 & 10 & 20 & burntbricks & 3 & NA  & NA         & 3 & bicycle;radio;cow\\_plough;solar\\_panel;table;mobile\\_phone                                            & 3 & June;July;Aug;Sept;Oct;Nov                     & uuid:9b21467f-1116-4340-a3b1-1ab64f13c87d &  3.333333\\\\\n\t 15 & God      & 2016-11-21 &  5 & 30 & sunbricks   & 2 & yes & once       & 3 & bicycle;radio;cow\\_plough;solar\\_panel;table                                                         & 2 & Jan;Feb;Mar;Apr;May;June;July;Aug;Sept;Oct;Nov & uuid:a837e545-ff86-4a1c-a1a5-6186804b985f &  2.500000\\\\\n\t 16 & God      & 2016-11-24 &  6 & 47 & muddaub     & 1 & NA  & NA         & 4 & radio;cow\\_plough;solar\\_panel;solar\\_torch                                                           & 3 & Jan;Feb                                        & uuid:d17db52f-4b87-4768-b534-ea8f9704c565 &  6.000000\\\\\n\t 17 & God      & 2016-11-21 &  8 & 20 & sunbricks   & 1 & NA  & NA         & 1 & mobile\\_phone                                                                                       & 2 & Nov;Dec                                        & uuid:4707f3dc-df18-4348-9c2c-eec651e89b6b &  8.000000\\\\\n\t 18 & God      & 2016-11-21 &  4 & 20 & muddaub     & 1 & NA  & NA         & 3 & bicycle;mobile\\_phone                                                                               & 2 & Oct;Nov                                        & uuid:7ffe7bd1-a15c-420c-a137-e1f006c317a3 &  4.000000\\\\\n\t 19 & God      & 2016-11-21 &  9 & 23 & burntbricks & 2 & NA  & NA         & 2 & bicycle;radio;cow\\_plough;solar\\_panel;solar\\_torch;mobile\\_phone                                      & 3 & Oct;Nov;Dec                                    & uuid:e32f2dc0-0d05-42fb-8e21-605757ddf07d &  4.500000\\\\\n\t 20 & God      & 2016-11-21 &  6 &  1 & burntbricks & 1 & NA  & NA         & 1 & bicycle;cow\\_plough;solar\\_torch                                                                     & 2 & Oct;Nov                                        & uuid:d1005274-bf52-4e79-8380-3350dd7c2bac &  6.000000\\\\\n\t 21 & God      & 2016-11-21 &  8 & 20 & burntbricks & 1 & no  & never      & 3 & NA                                                                                                 & 2 & Jan;Feb;Mar;Oct;Nov;Dec                        & uuid:6570a7d0-6a0b-452c-aa2e-922500e35749 &  8.000000\\\\\n\t 22 & God      & 2016-11-21 &  4 & 20 & muddaub     & 1 & NA  & NA         & 1 & radio                                                                                              & 2 & Jan;Feb;Mar;Apr;Aug;Sept;Oct;Nov;Dec           & uuid:a51c3006-8847-46ff-9d4e-d29919b8ecf9 &  4.000000\\\\\n\t 23 & Ruaca    & 2016-11-21 & 10 & 20 & burntbricks & 4 & NA  & NA         & 3 & cow\\_cart;bicycle;television;radio;cow\\_plough;solar\\_panel;electricity;mobile\\_phone                  & 3 & none                                           & uuid:58b37b6d-d6cd-4414-8790-b9c68bca98de &  2.500000\\\\\n\t 24 & Ruaca    & 2016-11-21 &  6 &  4 & burntbricks & 2 & no  & never      & 3 & radio;table;sofa\\_set;mobile\\_phone                                                                  & 2 & Nov;Dec                                        & uuid:661457d3-7e61-45e8-a238-7415e7548f82 &  3.000000\\\\\n\t 25 & Ruaca    & 2016-11-21 & 11 &  6 & burntbricks & 3 & no  & never      & 2 & cow\\_cart;motorcyle;television;radio;cow\\_plough;solar\\_panel;solar\\_torch;table;sofa\\_set;mobile\\_phone & 2 & Jan;Feb;Oct                                    & uuid:45ed84c4-114e-4df0-9f5d-c800806c2bee &  3.666667\\\\\n\t 26 & Ruaca    & 2016-11-21 &  3 & 20 & burntbricks & 2 & no  & never      & 2 & radio;cow\\_plough;table;mobile\\_phone                                                                & 2 & none                                           & uuid:1c54ee24-22c4-4ee9-b1ad-42d483c08e2e &  1.500000\\\\\n\t 27 & Ruaca    & 2016-11-21 &  7 & 36 & burntbricks & 2 & NA  & NA         & 3 & bicycle;radio;cow\\_plough;solar\\_panel;solar\\_torch;mobile\\_phone                                      & 3 & none                                           & uuid:3197cded-1fdc-4c0c-9b10-cfcc0bf49c4d &  3.500000\\\\\n\t 28 & Ruaca    & 2016-11-21 &  2 &  2 & muddaub     & 1 & no  & more\\_once  & 1 & NA                                                                                                 & 3 & Aug;Sept;Oct                                   & uuid:1de53318-a8cf-4736-99b1-8239f8822473 &  2.000000\\\\\n\t 29 & Ruaca    & 2016-11-21 &  7 & 10 & burntbricks & 2 & yes & frequently & 1 & motorcyle;bicycle;radio;table;mobile\\_phone                                                         & 3 & Jan;Feb                                        & uuid:adcd7463-8943-4c67-b25f-f72311409476 &  3.500000\\\\\n\t 30 & Ruaca    & 2016-11-21 &  7 & 22 & muddaub     & 2 & NA  & NA         & 1 & bicycle;radio;mobile\\_phone                                                                         & 2 & Jan;Feb                                        & uuid:59341ead-92be-45a9-8545-6edf9f94fdc6 &  3.500000\\\\\n\t ⋮ & ⋮ & ⋮ & ⋮ & ⋮ & ⋮ & ⋮ & ⋮ & ⋮ & ⋮ & ⋮ & ⋮ & ⋮ & ⋮ & ⋮\\\\\n\t 105 & Ruaca    & 2017-04-28 &  6 & 40 & sunbricks   & 1 & yes & frequently & 2 & motorcyle;radio;cow\\_plough;solar\\_panel;mobile\\_phone                                                                   & 3 & Jan;Feb;Dec           & uuid:af0904ee-4fdb-4090-973f-599c81ddf022 &  6.000000\\\\\n\t 106 & God      & 2017-04-30 & 15 & 22 & sunbricks   & 5 & no  & never      & 2 & cow\\_cart;motorcyle;bicycle;radio;sterio;cow\\_plough;solar\\_panel;solar\\_torch;table;mobile\\_phone                         & 3 & Oct;Nov;Dec           & uuid:468797c1-4a65-4f35-9c83-e28ce46972a2 &  3.000000\\\\\n\t 109 & God      & 2017-05-03 &  4 & 12 & sunbricks   & 1 & NA  & NA         & 3 & cow\\_cart;bicycle;radio;cow\\_plough;table                                                                               & 3 & July;Aug;Sept;Oct;Nov & uuid:602cd3f6-4a97-49c6-80e3-bcfd5c78dfa4 &  4.000000\\\\\n\t 110 & Ruaca    & 2017-05-03 &  6 & 22 & sunbricks   & 3 & no  & never      & 3 & bicycle;radio;cow\\_plough;table;mobile\\_phone                                                                           & 2 & none                  & uuid:e7c51ac4-24e4-475e-88e7-f85e896945e3 &  2.000000\\\\\n\t 113 & Ruaca    & 2017-05-03 & 11 & 26 & burntbricks & 3 & no  & never      & 4 & cow\\_cart;motorcyle;bicycle;radio;cow\\_plough;solar\\_panel;solar\\_torch;table;mobile\\_phone                                & 3 & none                  & uuid:01210861-aba1-4268-98d0-0260e05f5155 &  3.666667\\\\\n\t 118 & Ruaca    & 2017-05-04 &  5 & 25 & muddaub     & 1 & NA  & NA         & 1 & radio;solar\\_torch;mobile\\_phone                                                                                        & 3 & Oct;Nov;Dec           & uuid:77335b2e-8812-4a35-b1e5-ca9ab626dfea &  5.000000\\\\\n\t 125 & Ruaca    & 2017-05-04 &  5 & 14 & burntbricks & 1 & no  & more\\_once  & 2 & bicycle;radio;cow\\_plough;solar\\_panel;solar\\_torch;mobile\\_phone                                                         & 3 & Jan;Sept;Oct;Nov;Dec  & uuid:02b05c68-302e-4e7a-b229-81cb1377fd29 &  5.000000\\\\\n\t 119 & Ruaca    & 2017-05-04 &  3 & 14 & muddaub     & 1 & no  & never      & 4 & bicycle;cow\\_plough;solar\\_panel;mobile\\_phone                                                                           & 3 & none                  & uuid:fa201fce-4e94-44b8-b435-c558c2e1ed55 &  3.000000\\\\\n\t 115 & Ruaca    & 2017-05-11 &  4 & 16 & sunbricks   & 2 & NA  & NA         & 3 & cow\\_cart;motorcyle;bicycle;television;radio;cow\\_plough;solar\\_panel;solar\\_torch;table;mobile\\_phone                     & 3 & none                  & uuid:628fe23d-188f-43e4-a203-a4bf3257d461 &  2.000000\\\\\n\t 108 & God      & 2017-05-11 & 15 & 22 & burntbricks & 2 & no  & never      & 4 & cow\\_cart;bicycle;radio;cow\\_plough;solar\\_panel;table;mobile\\_phone                                                      & 3 & Aug;Sept;Oct;Nov      & uuid:e4f4d6ba-e698-45a5-947f-ba6da88cc22b &  7.500000\\\\\n\t 116 & Ruaca    & 2017-05-11 &  5 & 25 & burntbricks & 3 & NA  & NA         & 3 & motorcyle;bicycle;television;radio;cow\\_plough;solar\\_panel;solar\\_torch;table;mobile\\_phone                              & 3 & Jan;Nov;Dec           & uuid:cfee6297-2c0e-4f8a-94cc-9aaee0bd64cb &  1.666667\\\\\n\t 117 & Ruaca    & 2017-05-11 & 10 & 28 & muddaub     & 4 & NA  & NA         & 1 & motorcyle;television;radio;solar\\_panel;solar\\_torch;table;mobile\\_phone                                                 & 3 & Jan;Feb;Nov;Dec       & uuid:3fe626b3-c794-48e1-a80f-5bfe440c507b &  2.500000\\\\\n\t 144 & Ruaca    & 2017-05-18 &  7 &  5 & burntbricks & 4 & no  & frequently & 4 & cow\\_cart;television;radio;cow\\_plough;solar\\_panel;solar\\_torch;table;mobile\\_phone                                       & 2 & none                  & uuid:0670cef6-d233-4852-89d8-36955261b0a3 &  1.750000\\\\\n\t 143 & Ruaca    & 2017-05-18 & 10 & 24 & burntbricks & 2 & no  & frequently & 3 & cow\\_cart;motorcyle;television;radio;cow\\_plough;solar\\_torch;table;mobile\\_phone                                         & 3 & Jan;Dec               & uuid:9a096a12-b335-468c-b3cc-1191180d62de &  5.000000\\\\\n\t 150 & Ruaca    & 2017-05-18 &  7 &  8 & muddaub     & 1 & no  & never      & 1 & mobile\\_phone                                                                                                          & 3 & Sept;Oct;Nov          & uuid:92613d0d-e7b1-4d62-8ea4-451d7cd0a982 &  7.000000\\\\\n\t 159 & God      & 2017-05-18 &  4 & 24 & sunbricks   & 1 & no  & never      & 1 & radio;solar\\_panel;solar\\_torch                                                                                         & 3 & Sept;Oct;Nov          & uuid:37577f91-d665-443e-8d70-b914954cef4b &  4.000000\\\\\n\t 160 & God      & 2017-06-03 &  7 & 13 & burntbricks & 2 & yes & frequently & 2 & cow\\_cart;cow\\_plough;solar\\_torch;mobile\\_phone                                                                          & 2 & Nov                   & uuid:f22831ec-6bc3-4b73-9197-4b01e01abb66 &  3.500000\\\\\n\t 165 & Ruaca    & 2017-06-03 &  9 & 14 & burntbricks & 1 & no  & never      & 3 & cow\\_cart;motorcyle;bicycle;television;radio;cow\\_plough;solar\\_torch;electricity;table;sofa\\_set;mobile\\_phone;fridge     & 3 & none                  & uuid:62f3f7af-f0f3-4f88-b9e0-acf8baa49ae4 &  9.000000\\\\\n\t 166 & Ruaca    & 2017-06-03 & 11 & 16 & muddaub     & 1 & no  & never      & 1 & bicycle;solar\\_torch;mobile\\_phone                                                                                      & 2 & Feb;Mar               & uuid:40aac732-94df-496c-97ba-5b67f59bcc7a & 11.000000\\\\\n\t 167 & Ruaca    & 2017-06-03 &  8 & 24 & muddaub     & 1 & no  & never      & 3 & motorcyle;radio;cow\\_plough;solar\\_panel;solar\\_torch;table;mobile\\_phone                                                 & 2 & Jan;Nov;Dec           & uuid:a9d1a013-043b-475d-a71b-77ed80abe970 &  8.000000\\\\\n\t 174 & Ruaca    & 2017-06-03 & 12 & 25 & burntbricks & 2 & no  & never      & 3 & car;lorry;motorcyle;radio;sterio;cow\\_plough;solar\\_panel;solar\\_torch;table;sofa\\_set;mobile\\_phone;fridge                & 3 & Jan;Feb;Dec           & uuid:43ec6132-478c-4f87-878d-fb3c0c4d0c74 &  6.000000\\\\\n\t 175 & Ruaca    & 2017-06-03 &  7 & 36 & burntbricks & 1 & no  & never      & 4 & motorcyle;bicycle;radio;sterio;cow\\_plough;solar\\_panel;table;mobile\\_phone                                              & 2 & Jan;Oct;Nov;Dec       & uuid:64fc743e-8176-40f6-8ae4-36ae97fac1d9 &  7.000000\\\\\n\t 189 & Ruaca    & 2017-06-03 & 15 & 16 & sunbricks   & 1 & no  & never      & 3 & motorcyle;radio;sterio;cow\\_plough;solar\\_panel;table;mobile\\_phone                                                      & 3 & Nov                   & uuid:c17e374c-280b-4e78-bf21-74a7c1c73492 & 15.000000\\\\\n\t 191 & Ruaca    & 2017-06-03 & 10 &  5 & burntbricks & 4 & no  & never      & 1 & radio;cow\\_plough;solar\\_panel;solar\\_torch;mobile\\_phone                                                                 & 2 & Oct;Nov;Dec           & uuid:dad53aff-b520-4015-a9e3-f5fdf9168fe1 &  2.500000\\\\\n\t 192 & Chirodzo & 2017-06-03 &  9 & 20 & burntbricks & 1 & no  & once       & 1 & bicycle;television;radio;sterio;solar\\_panel;solar\\_torch;table;mobile\\_phone                                            & 3 & Jan;Nov;Dec           & uuid:f94409a6-e461-4e4c-a6fb-0072d3d58b00 &  9.000000\\\\\n\t 126 & Ruaca    & 2017-05-18 &  3 &  7 & burntbricks & 1 & no  & more\\_once  & 3 & motorcyle;radio;solar\\_panel                                                                                           & 3 & Oct;Nov;Dec           & uuid:69caea81-a4e5-4e8d-83cd-9c18d8e8d965 &  3.000000\\\\\n\t 193 & Ruaca    & 2017-06-04 &  7 & 10 & cement      & 3 & no  & more\\_once  & 3 & car;lorry;television;radio;sterio;cow\\_plough;solar\\_torch;electricity;table;sofa\\_set;mobile\\_phone;fridge               & 3 & none                  & uuid:5ccc2e5a-ea90-48b5-8542-69400d5334df &  2.333333\\\\\n\t 194 & Ruaca    & 2017-06-04 &  4 &  5 & muddaub     & 1 & no  & more\\_once  & 1 & radio;solar\\_panel;solar\\_torch;mobile\\_phone                                                                            & 3 & Sept;Oct;Nov          & uuid:95c11a30-d44f-40c4-8ea8-ec34fca6bbbf &  4.000000\\\\\n\t 199 & Chirodzo & 2017-06-04 &  7 & 17 & burntbricks & 2 & yes & more\\_once  & 2 & cow\\_cart;lorry;motorcyle;computer;television;radio;sterio;cow\\_plough;solar\\_panel;solar\\_torch;electricity;mobile\\_phone & 3 & Nov;Dec               & uuid:ffc83162-ff24-4a87-8709-eff17abc0b3b &  3.500000\\\\\n\t 200 & Chirodzo & 2017-06-04 &  8 & 20 & burntbricks & 2 & NA  & NA         & 3 & radio;cow\\_plough;solar\\_panel;solar\\_torch;table;mobile\\_phone                                                           & 3 & Oct;Nov               & uuid:aa77a0d7-7142-41c8-b494-483a5b68d8a7 &  4.000000\\\\\n\\end{tabular}\n",
            "text/plain": [
              "    key_ID village  interview_date no_membrs years_liv respondent_wall_type\n",
              "1    1     God      2016-11-17      3         4        muddaub             \n",
              "2    1     God      2016-11-17      7         9        muddaub             \n",
              "3    3     God      2016-11-17     10        15        burntbricks         \n",
              "4    4     God      2016-11-17      7         6        burntbricks         \n",
              "5    5     God      2016-11-17      7        40        burntbricks         \n",
              "6    6     God      2016-11-17      3         3        muddaub             \n",
              "7    7     God      2016-11-17      6        38        muddaub             \n",
              "8    8     Chirodzo 2016-11-16     12        70        burntbricks         \n",
              "9    9     Chirodzo 2016-11-16      8         6        burntbricks         \n",
              "10  10     Chirodzo 2016-12-16     12        23        burntbricks         \n",
              "11  11     God      2016-11-21      6        20        sunbricks           \n",
              "12  12     God      2016-11-21      7        20        burntbricks         \n",
              "13  13     God      2016-11-21      6         8        burntbricks         \n",
              "14  14     God      2016-11-21     10        20        burntbricks         \n",
              "15  15     God      2016-11-21      5        30        sunbricks           \n",
              "16  16     God      2016-11-24      6        47        muddaub             \n",
              "17  17     God      2016-11-21      8        20        sunbricks           \n",
              "18  18     God      2016-11-21      4        20        muddaub             \n",
              "19  19     God      2016-11-21      9        23        burntbricks         \n",
              "20  20     God      2016-11-21      6         1        burntbricks         \n",
              "21  21     God      2016-11-21      8        20        burntbricks         \n",
              "22  22     God      2016-11-21      4        20        muddaub             \n",
              "23  23     Ruaca    2016-11-21     10        20        burntbricks         \n",
              "24  24     Ruaca    2016-11-21      6         4        burntbricks         \n",
              "25  25     Ruaca    2016-11-21     11         6        burntbricks         \n",
              "26  26     Ruaca    2016-11-21      3        20        burntbricks         \n",
              "27  27     Ruaca    2016-11-21      7        36        burntbricks         \n",
              "28  28     Ruaca    2016-11-21      2         2        muddaub             \n",
              "29  29     Ruaca    2016-11-21      7        10        burntbricks         \n",
              "30  30     Ruaca    2016-11-21      7        22        muddaub             \n",
              "⋮   ⋮      ⋮        ⋮              ⋮         ⋮         ⋮                   \n",
              "102 105    Ruaca    2017-04-28      6        40        sunbricks           \n",
              "103 106    God      2017-04-30     15        22        sunbricks           \n",
              "104 109    God      2017-05-03      4        12        sunbricks           \n",
              "105 110    Ruaca    2017-05-03      6        22        sunbricks           \n",
              "106 113    Ruaca    2017-05-03     11        26        burntbricks         \n",
              "107 118    Ruaca    2017-05-04      5        25        muddaub             \n",
              "108 125    Ruaca    2017-05-04      5        14        burntbricks         \n",
              "109 119    Ruaca    2017-05-04      3        14        muddaub             \n",
              "110 115    Ruaca    2017-05-11      4        16        sunbricks           \n",
              "111 108    God      2017-05-11     15        22        burntbricks         \n",
              "112 116    Ruaca    2017-05-11      5        25        burntbricks         \n",
              "113 117    Ruaca    2017-05-11     10        28        muddaub             \n",
              "114 144    Ruaca    2017-05-18      7         5        burntbricks         \n",
              "115 143    Ruaca    2017-05-18     10        24        burntbricks         \n",
              "116 150    Ruaca    2017-05-18      7         8        muddaub             \n",
              "117 159    God      2017-05-18      4        24        sunbricks           \n",
              "118 160    God      2017-06-03      7        13        burntbricks         \n",
              "119 165    Ruaca    2017-06-03      9        14        burntbricks         \n",
              "120 166    Ruaca    2017-06-03     11        16        muddaub             \n",
              "121 167    Ruaca    2017-06-03      8        24        muddaub             \n",
              "122 174    Ruaca    2017-06-03     12        25        burntbricks         \n",
              "123 175    Ruaca    2017-06-03      7        36        burntbricks         \n",
              "124 189    Ruaca    2017-06-03     15        16        sunbricks           \n",
              "125 191    Ruaca    2017-06-03     10         5        burntbricks         \n",
              "126 192    Chirodzo 2017-06-03      9        20        burntbricks         \n",
              "127 126    Ruaca    2017-05-18      3         7        burntbricks         \n",
              "128 193    Ruaca    2017-06-04      7        10        cement              \n",
              "129 194    Ruaca    2017-06-04      4         5        muddaub             \n",
              "130 199    Chirodzo 2017-06-04      7        17        burntbricks         \n",
              "131 200    Chirodzo 2017-06-04      8        20        burntbricks         \n",
              "    rooms memb_assoc affect_conflicts liv_count\n",
              "1   1     NA         NA               1        \n",
              "2   1     yes        once             3        \n",
              "3   1     NA         NA               1        \n",
              "4   1     NA         NA               2        \n",
              "5   1     NA         NA               4        \n",
              "6   1     NA         NA               1        \n",
              "7   1     no         never            1        \n",
              "8   3     yes        never            2        \n",
              "9   1     no         never            3        \n",
              "10  5     no         never            2        \n",
              "11  1     NA         NA               2        \n",
              "12  3     yes        never            2        \n",
              "13  1     no         never            3        \n",
              "14  3     NA         NA               3        \n",
              "15  2     yes        once             3        \n",
              "16  1     NA         NA               4        \n",
              "17  1     NA         NA               1        \n",
              "18  1     NA         NA               3        \n",
              "19  2     NA         NA               2        \n",
              "20  1     NA         NA               1        \n",
              "21  1     no         never            3        \n",
              "22  1     NA         NA               1        \n",
              "23  4     NA         NA               3        \n",
              "24  2     no         never            3        \n",
              "25  3     no         never            2        \n",
              "26  2     no         never            2        \n",
              "27  2     NA         NA               3        \n",
              "28  1     no         more_once        1        \n",
              "29  2     yes        frequently       1        \n",
              "30  2     NA         NA               1        \n",
              "⋮   ⋮     ⋮          ⋮                ⋮        \n",
              "102 1     yes        frequently       2        \n",
              "103 5     no         never            2        \n",
              "104 1     NA         NA               3        \n",
              "105 3     no         never            3        \n",
              "106 3     no         never            4        \n",
              "107 1     NA         NA               1        \n",
              "108 1     no         more_once        2        \n",
              "109 1     no         never            4        \n",
              "110 2     NA         NA               3        \n",
              "111 2     no         never            4        \n",
              "112 3     NA         NA               3        \n",
              "113 4     NA         NA               1        \n",
              "114 4     no         frequently       4        \n",
              "115 2     no         frequently       3        \n",
              "116 1     no         never            1        \n",
              "117 1     no         never            1        \n",
              "118 2     yes        frequently       2        \n",
              "119 1     no         never            3        \n",
              "120 1     no         never            1        \n",
              "121 1     no         never            3        \n",
              "122 2     no         never            3        \n",
              "123 1     no         never            4        \n",
              "124 1     no         never            3        \n",
              "125 4     no         never            1        \n",
              "126 1     no         once             1        \n",
              "127 1     no         more_once        3        \n",
              "128 3     no         more_once        3        \n",
              "129 1     no         more_once        1        \n",
              "130 2     yes        more_once        2        \n",
              "131 2     NA         NA               3        \n",
              "    items_owned                                                                                                          \n",
              "1   bicycle;television;solar_panel;table                                                                                 \n",
              "2   cow_cart;bicycle;radio;cow_plough;solar_panel;solar_torch;table;mobile_phone                                         \n",
              "3   solar_torch                                                                                                          \n",
              "4   bicycle;radio;cow_plough;solar_panel;mobile_phone                                                                    \n",
              "5   motorcyle;radio;cow_plough;mobile_phone                                                                              \n",
              "6   NA                                                                                                                   \n",
              "7   motorcyle;cow_plough                                                                                                 \n",
              "8   motorcyle;bicycle;television;radio;cow_plough;solar_panel;solar_torch;table;fridge                                   \n",
              "9   television;solar_panel;solar_torch                                                                                   \n",
              "10  cow_cart;motorcyle;bicycle;television;radio;cow_plough;solar_panel;solar_torch;table                                 \n",
              "11  radio;cow_plough                                                                                                     \n",
              "12  cow_cart;bicycle;radio;cow_plough;table                                                                              \n",
              "13  bicycle;radio;cow_plough;mobile_phone                                                                                \n",
              "14  bicycle;radio;cow_plough;solar_panel;table;mobile_phone                                                              \n",
              "15  bicycle;radio;cow_plough;solar_panel;table                                                                           \n",
              "16  radio;cow_plough;solar_panel;solar_torch                                                                             \n",
              "17  mobile_phone                                                                                                         \n",
              "18  bicycle;mobile_phone                                                                                                 \n",
              "19  bicycle;radio;cow_plough;solar_panel;solar_torch;mobile_phone                                                        \n",
              "20  bicycle;cow_plough;solar_torch                                                                                       \n",
              "21  NA                                                                                                                   \n",
              "22  radio                                                                                                                \n",
              "23  cow_cart;bicycle;television;radio;cow_plough;solar_panel;electricity;mobile_phone                                    \n",
              "24  radio;table;sofa_set;mobile_phone                                                                                    \n",
              "25  cow_cart;motorcyle;television;radio;cow_plough;solar_panel;solar_torch;table;sofa_set;mobile_phone                   \n",
              "26  radio;cow_plough;table;mobile_phone                                                                                  \n",
              "27  bicycle;radio;cow_plough;solar_panel;solar_torch;mobile_phone                                                        \n",
              "28  NA                                                                                                                   \n",
              "29  motorcyle;bicycle;radio;table;mobile_phone                                                                           \n",
              "30  bicycle;radio;mobile_phone                                                                                           \n",
              "⋮   ⋮                                                                                                                    \n",
              "102 motorcyle;radio;cow_plough;solar_panel;mobile_phone                                                                  \n",
              "103 cow_cart;motorcyle;bicycle;radio;sterio;cow_plough;solar_panel;solar_torch;table;mobile_phone                        \n",
              "104 cow_cart;bicycle;radio;cow_plough;table                                                                              \n",
              "105 bicycle;radio;cow_plough;table;mobile_phone                                                                          \n",
              "106 cow_cart;motorcyle;bicycle;radio;cow_plough;solar_panel;solar_torch;table;mobile_phone                               \n",
              "107 radio;solar_torch;mobile_phone                                                                                       \n",
              "108 bicycle;radio;cow_plough;solar_panel;solar_torch;mobile_phone                                                        \n",
              "109 bicycle;cow_plough;solar_panel;mobile_phone                                                                          \n",
              "110 cow_cart;motorcyle;bicycle;television;radio;cow_plough;solar_panel;solar_torch;table;mobile_phone                    \n",
              "111 cow_cart;bicycle;radio;cow_plough;solar_panel;table;mobile_phone                                                     \n",
              "112 motorcyle;bicycle;television;radio;cow_plough;solar_panel;solar_torch;table;mobile_phone                             \n",
              "113 motorcyle;television;radio;solar_panel;solar_torch;table;mobile_phone                                                \n",
              "114 cow_cart;television;radio;cow_plough;solar_panel;solar_torch;table;mobile_phone                                      \n",
              "115 cow_cart;motorcyle;television;radio;cow_plough;solar_torch;table;mobile_phone                                        \n",
              "116 mobile_phone                                                                                                         \n",
              "117 radio;solar_panel;solar_torch                                                                                        \n",
              "118 cow_cart;cow_plough;solar_torch;mobile_phone                                                                         \n",
              "119 cow_cart;motorcyle;bicycle;television;radio;cow_plough;solar_torch;electricity;table;sofa_set;mobile_phone;fridge    \n",
              "120 bicycle;solar_torch;mobile_phone                                                                                     \n",
              "121 motorcyle;radio;cow_plough;solar_panel;solar_torch;table;mobile_phone                                                \n",
              "122 car;lorry;motorcyle;radio;sterio;cow_plough;solar_panel;solar_torch;table;sofa_set;mobile_phone;fridge               \n",
              "123 motorcyle;bicycle;radio;sterio;cow_plough;solar_panel;table;mobile_phone                                             \n",
              "124 motorcyle;radio;sterio;cow_plough;solar_panel;table;mobile_phone                                                     \n",
              "125 radio;cow_plough;solar_panel;solar_torch;mobile_phone                                                                \n",
              "126 bicycle;television;radio;sterio;solar_panel;solar_torch;table;mobile_phone                                           \n",
              "127 motorcyle;radio;solar_panel                                                                                          \n",
              "128 car;lorry;television;radio;sterio;cow_plough;solar_torch;electricity;table;sofa_set;mobile_phone;fridge              \n",
              "129 radio;solar_panel;solar_torch;mobile_phone                                                                           \n",
              "130 cow_cart;lorry;motorcyle;computer;television;radio;sterio;cow_plough;solar_panel;solar_torch;electricity;mobile_phone\n",
              "131 radio;cow_plough;solar_panel;solar_torch;table;mobile_phone                                                          \n",
              "    no_meals months_lack_food                              \n",
              "1   2        Jan                                           \n",
              "2   2        Jan;Sept;Oct;Nov;Dec                          \n",
              "3   2        Jan;Feb;Mar;Oct;Nov;Dec                       \n",
              "4   2        Sept;Oct;Nov;Dec                              \n",
              "5   2        Aug;Sept;Oct;Nov                              \n",
              "6   2        Aug;Sept;Oct                                  \n",
              "7   3        Nov                                           \n",
              "8   2        Jan                                           \n",
              "9   3        Jan;Dec                                       \n",
              "10  3        Jan;Oct;Nov;Dec                               \n",
              "11  2        Oct;Nov                                       \n",
              "12  3        Sept;Oct                                      \n",
              "13  2        Sept;Oct;Nov                                  \n",
              "14  3        June;July;Aug;Sept;Oct;Nov                    \n",
              "15  2        Jan;Feb;Mar;Apr;May;June;July;Aug;Sept;Oct;Nov\n",
              "16  3        Jan;Feb                                       \n",
              "17  2        Nov;Dec                                       \n",
              "18  2        Oct;Nov                                       \n",
              "19  3        Oct;Nov;Dec                                   \n",
              "20  2        Oct;Nov                                       \n",
              "21  2        Jan;Feb;Mar;Oct;Nov;Dec                       \n",
              "22  2        Jan;Feb;Mar;Apr;Aug;Sept;Oct;Nov;Dec          \n",
              "23  3        none                                          \n",
              "24  2        Nov;Dec                                       \n",
              "25  2        Jan;Feb;Oct                                   \n",
              "26  2        none                                          \n",
              "27  3        none                                          \n",
              "28  3        Aug;Sept;Oct                                  \n",
              "29  3        Jan;Feb                                       \n",
              "30  2        Jan;Feb                                       \n",
              "⋮   ⋮        ⋮                                             \n",
              "102 3        Jan;Feb;Dec                                   \n",
              "103 3        Oct;Nov;Dec                                   \n",
              "104 3        July;Aug;Sept;Oct;Nov                         \n",
              "105 2        none                                          \n",
              "106 3        none                                          \n",
              "107 3        Oct;Nov;Dec                                   \n",
              "108 3        Jan;Sept;Oct;Nov;Dec                          \n",
              "109 3        none                                          \n",
              "110 3        none                                          \n",
              "111 3        Aug;Sept;Oct;Nov                              \n",
              "112 3        Jan;Nov;Dec                                   \n",
              "113 3        Jan;Feb;Nov;Dec                               \n",
              "114 2        none                                          \n",
              "115 3        Jan;Dec                                       \n",
              "116 3        Sept;Oct;Nov                                  \n",
              "117 3        Sept;Oct;Nov                                  \n",
              "118 2        Nov                                           \n",
              "119 3        none                                          \n",
              "120 2        Feb;Mar                                       \n",
              "121 2        Jan;Nov;Dec                                   \n",
              "122 3        Jan;Feb;Dec                                   \n",
              "123 2        Jan;Oct;Nov;Dec                               \n",
              "124 3        Nov                                           \n",
              "125 2        Oct;Nov;Dec                                   \n",
              "126 3        Jan;Nov;Dec                                   \n",
              "127 3        Oct;Nov;Dec                                   \n",
              "128 3        none                                          \n",
              "129 3        Sept;Oct;Nov                                  \n",
              "130 3        Nov;Dec                                       \n",
              "131 3        Oct;Nov                                       \n",
              "    instanceID                                people_per_room\n",
              "1   uuid:ec241f2c-0609-46ed-b5e8-fe575f6cefef  3.000000      \n",
              "2   uuid:099de9c9-3e5e-427b-8452-26250e840d6e  7.000000      \n",
              "3   uuid:193d7daf-9582-409b-bf09-027dd36f9007 10.000000      \n",
              "4   uuid:148d1105-778a-4755-aa71-281eadd4a973  7.000000      \n",
              "5   uuid:2c867811-9696-4966-9866-f35c3e97d02d  7.000000      \n",
              "6   uuid:daa56c91-c8e3-44c3-a663-af6a49a2ca70  3.000000      \n",
              "7   uuid:ae20a58d-56f4-43d7-bafa-e7963d850844  6.000000      \n",
              "8   uuid:d6cee930-7be1-4fd9-88c0-82a08f90fb5a  4.000000      \n",
              "9   uuid:846103d2-b1db-4055-b502-9cd510bb7b37  8.000000      \n",
              "10  uuid:8f4e49bc-da81-4356-ae34-e0d794a23721  2.400000      \n",
              "11  uuid:d29b44e3-3348-4afc-aa4d-9eb34c89d483  6.000000      \n",
              "12  uuid:e6ee6269-b467-4e37-91fc-5e9eaf934557  2.333333      \n",
              "13  uuid:6c00c145-ee3b-409c-8c02-2c8d743b6918  6.000000      \n",
              "14  uuid:9b21467f-1116-4340-a3b1-1ab64f13c87d  3.333333      \n",
              "15  uuid:a837e545-ff86-4a1c-a1a5-6186804b985f  2.500000      \n",
              "16  uuid:d17db52f-4b87-4768-b534-ea8f9704c565  6.000000      \n",
              "17  uuid:4707f3dc-df18-4348-9c2c-eec651e89b6b  8.000000      \n",
              "18  uuid:7ffe7bd1-a15c-420c-a137-e1f006c317a3  4.000000      \n",
              "19  uuid:e32f2dc0-0d05-42fb-8e21-605757ddf07d  4.500000      \n",
              "20  uuid:d1005274-bf52-4e79-8380-3350dd7c2bac  6.000000      \n",
              "21  uuid:6570a7d0-6a0b-452c-aa2e-922500e35749  8.000000      \n",
              "22  uuid:a51c3006-8847-46ff-9d4e-d29919b8ecf9  4.000000      \n",
              "23  uuid:58b37b6d-d6cd-4414-8790-b9c68bca98de  2.500000      \n",
              "24  uuid:661457d3-7e61-45e8-a238-7415e7548f82  3.000000      \n",
              "25  uuid:45ed84c4-114e-4df0-9f5d-c800806c2bee  3.666667      \n",
              "26  uuid:1c54ee24-22c4-4ee9-b1ad-42d483c08e2e  1.500000      \n",
              "27  uuid:3197cded-1fdc-4c0c-9b10-cfcc0bf49c4d  3.500000      \n",
              "28  uuid:1de53318-a8cf-4736-99b1-8239f8822473  2.000000      \n",
              "29  uuid:adcd7463-8943-4c67-b25f-f72311409476  3.500000      \n",
              "30  uuid:59341ead-92be-45a9-8545-6edf9f94fdc6  3.500000      \n",
              "⋮   ⋮                                         ⋮              \n",
              "102 uuid:af0904ee-4fdb-4090-973f-599c81ddf022  6.000000      \n",
              "103 uuid:468797c1-4a65-4f35-9c83-e28ce46972a2  3.000000      \n",
              "104 uuid:602cd3f6-4a97-49c6-80e3-bcfd5c78dfa4  4.000000      \n",
              "105 uuid:e7c51ac4-24e4-475e-88e7-f85e896945e3  2.000000      \n",
              "106 uuid:01210861-aba1-4268-98d0-0260e05f5155  3.666667      \n",
              "107 uuid:77335b2e-8812-4a35-b1e5-ca9ab626dfea  5.000000      \n",
              "108 uuid:02b05c68-302e-4e7a-b229-81cb1377fd29  5.000000      \n",
              "109 uuid:fa201fce-4e94-44b8-b435-c558c2e1ed55  3.000000      \n",
              "110 uuid:628fe23d-188f-43e4-a203-a4bf3257d461  2.000000      \n",
              "111 uuid:e4f4d6ba-e698-45a5-947f-ba6da88cc22b  7.500000      \n",
              "112 uuid:cfee6297-2c0e-4f8a-94cc-9aaee0bd64cb  1.666667      \n",
              "113 uuid:3fe626b3-c794-48e1-a80f-5bfe440c507b  2.500000      \n",
              "114 uuid:0670cef6-d233-4852-89d8-36955261b0a3  1.750000      \n",
              "115 uuid:9a096a12-b335-468c-b3cc-1191180d62de  5.000000      \n",
              "116 uuid:92613d0d-e7b1-4d62-8ea4-451d7cd0a982  7.000000      \n",
              "117 uuid:37577f91-d665-443e-8d70-b914954cef4b  4.000000      \n",
              "118 uuid:f22831ec-6bc3-4b73-9197-4b01e01abb66  3.500000      \n",
              "119 uuid:62f3f7af-f0f3-4f88-b9e0-acf8baa49ae4  9.000000      \n",
              "120 uuid:40aac732-94df-496c-97ba-5b67f59bcc7a 11.000000      \n",
              "121 uuid:a9d1a013-043b-475d-a71b-77ed80abe970  8.000000      \n",
              "122 uuid:43ec6132-478c-4f87-878d-fb3c0c4d0c74  6.000000      \n",
              "123 uuid:64fc743e-8176-40f6-8ae4-36ae97fac1d9  7.000000      \n",
              "124 uuid:c17e374c-280b-4e78-bf21-74a7c1c73492 15.000000      \n",
              "125 uuid:dad53aff-b520-4015-a9e3-f5fdf9168fe1  2.500000      \n",
              "126 uuid:f94409a6-e461-4e4c-a6fb-0072d3d58b00  9.000000      \n",
              "127 uuid:69caea81-a4e5-4e8d-83cd-9c18d8e8d965  3.000000      \n",
              "128 uuid:5ccc2e5a-ea90-48b5-8542-69400d5334df  2.333333      \n",
              "129 uuid:95c11a30-d44f-40c4-8ea8-ec34fca6bbbf  4.000000      \n",
              "130 uuid:ffc83162-ff24-4a87-8709-eff17abc0b3b  3.500000      \n",
              "131 uuid:aa77a0d7-7142-41c8-b494-483a5b68d8a7  4.000000      "
            ]
          },
          "metadata": {}
        }
      ]
    },
    {
      "cell_type": "code",
      "source": [
        "interviews %>%\n",
        "  filter(!is.na(memb_assoc)) %>%\n",
        "  mutate(people_per_room = no_membrs / rooms)"
      ],
      "metadata": {
        "colab": {
          "base_uri": "https://localhost:8080/",
          "height": 1000
        },
        "id": "xSqpgpMZ7qOo",
        "outputId": "7784f58b-98e4-4ac8-fac0-89ce1124a810"
      },
      "execution_count": null,
      "outputs": [
        {
          "output_type": "display_data",
          "data": {
            "text/html": [
              "<table class=\"dataframe\">\n",
              "<caption>A tibble: 92 × 15</caption>\n",
              "<thead>\n",
              "\t<tr><th scope=col>key_ID</th><th scope=col>village</th><th scope=col>interview_date</th><th scope=col>no_membrs</th><th scope=col>years_liv</th><th scope=col>respondent_wall_type</th><th scope=col>rooms</th><th scope=col>memb_assoc</th><th scope=col>affect_conflicts</th><th scope=col>liv_count</th><th scope=col>items_owned</th><th scope=col>no_meals</th><th scope=col>months_lack_food</th><th scope=col>instanceID</th><th scope=col>people_per_room</th></tr>\n",
              "\t<tr><th scope=col>&lt;dbl&gt;</th><th scope=col>&lt;chr&gt;</th><th scope=col>&lt;dttm&gt;</th><th scope=col>&lt;dbl&gt;</th><th scope=col>&lt;dbl&gt;</th><th scope=col>&lt;chr&gt;</th><th scope=col>&lt;dbl&gt;</th><th scope=col>&lt;chr&gt;</th><th scope=col>&lt;chr&gt;</th><th scope=col>&lt;dbl&gt;</th><th scope=col>&lt;chr&gt;</th><th scope=col>&lt;dbl&gt;</th><th scope=col>&lt;chr&gt;</th><th scope=col>&lt;chr&gt;</th><th scope=col>&lt;dbl&gt;</th></tr>\n",
              "</thead>\n",
              "<tbody>\n",
              "\t<tr><td> 1</td><td>God     </td><td>2016-11-17</td><td> 7</td><td> 9</td><td>muddaub    </td><td>1</td><td>yes</td><td>once      </td><td>3</td><td>cow_cart;bicycle;radio;cow_plough;solar_panel;solar_torch;table;mobile_phone                      </td><td>2</td><td>Jan;Sept;Oct;Nov;Dec                          </td><td>uuid:099de9c9-3e5e-427b-8452-26250e840d6e</td><td> 7.000000</td></tr>\n",
              "\t<tr><td> 7</td><td>God     </td><td>2016-11-17</td><td> 6</td><td>38</td><td>muddaub    </td><td>1</td><td>no </td><td>never     </td><td>1</td><td>motorcyle;cow_plough                                                                              </td><td>3</td><td>Nov                                           </td><td>uuid:ae20a58d-56f4-43d7-bafa-e7963d850844</td><td> 6.000000</td></tr>\n",
              "\t<tr><td> 8</td><td>Chirodzo</td><td>2016-11-16</td><td>12</td><td>70</td><td>burntbricks</td><td>3</td><td>yes</td><td>never     </td><td>2</td><td>motorcyle;bicycle;television;radio;cow_plough;solar_panel;solar_torch;table;fridge                </td><td>2</td><td>Jan                                           </td><td>uuid:d6cee930-7be1-4fd9-88c0-82a08f90fb5a</td><td> 4.000000</td></tr>\n",
              "\t<tr><td> 9</td><td>Chirodzo</td><td>2016-11-16</td><td> 8</td><td> 6</td><td>burntbricks</td><td>1</td><td>no </td><td>never     </td><td>3</td><td>television;solar_panel;solar_torch                                                                </td><td>3</td><td>Jan;Dec                                       </td><td>uuid:846103d2-b1db-4055-b502-9cd510bb7b37</td><td> 8.000000</td></tr>\n",
              "\t<tr><td>10</td><td>Chirodzo</td><td>2016-12-16</td><td>12</td><td>23</td><td>burntbricks</td><td>5</td><td>no </td><td>never     </td><td>2</td><td>cow_cart;motorcyle;bicycle;television;radio;cow_plough;solar_panel;solar_torch;table              </td><td>3</td><td>Jan;Oct;Nov;Dec                               </td><td>uuid:8f4e49bc-da81-4356-ae34-e0d794a23721</td><td> 2.400000</td></tr>\n",
              "\t<tr><td>12</td><td>God     </td><td>2016-11-21</td><td> 7</td><td>20</td><td>burntbricks</td><td>3</td><td>yes</td><td>never     </td><td>2</td><td>cow_cart;bicycle;radio;cow_plough;table                                                           </td><td>3</td><td>Sept;Oct                                      </td><td>uuid:e6ee6269-b467-4e37-91fc-5e9eaf934557</td><td> 2.333333</td></tr>\n",
              "\t<tr><td>13</td><td>God     </td><td>2016-11-21</td><td> 6</td><td> 8</td><td>burntbricks</td><td>1</td><td>no </td><td>never     </td><td>3</td><td>bicycle;radio;cow_plough;mobile_phone                                                             </td><td>2</td><td>Sept;Oct;Nov                                  </td><td>uuid:6c00c145-ee3b-409c-8c02-2c8d743b6918</td><td> 6.000000</td></tr>\n",
              "\t<tr><td>15</td><td>God     </td><td>2016-11-21</td><td> 5</td><td>30</td><td>sunbricks  </td><td>2</td><td>yes</td><td>once      </td><td>3</td><td>bicycle;radio;cow_plough;solar_panel;table                                                        </td><td>2</td><td>Jan;Feb;Mar;Apr;May;June;July;Aug;Sept;Oct;Nov</td><td>uuid:a837e545-ff86-4a1c-a1a5-6186804b985f</td><td> 2.500000</td></tr>\n",
              "\t<tr><td>21</td><td>God     </td><td>2016-11-21</td><td> 8</td><td>20</td><td>burntbricks</td><td>1</td><td>no </td><td>never     </td><td>3</td><td>NA                                                                                                </td><td>2</td><td>Jan;Feb;Mar;Oct;Nov;Dec                       </td><td>uuid:6570a7d0-6a0b-452c-aa2e-922500e35749</td><td> 8.000000</td></tr>\n",
              "\t<tr><td>24</td><td>Ruaca   </td><td>2016-11-21</td><td> 6</td><td> 4</td><td>burntbricks</td><td>2</td><td>no </td><td>never     </td><td>3</td><td>radio;table;sofa_set;mobile_phone                                                                 </td><td>2</td><td>Nov;Dec                                       </td><td>uuid:661457d3-7e61-45e8-a238-7415e7548f82</td><td> 3.000000</td></tr>\n",
              "\t<tr><td>25</td><td>Ruaca   </td><td>2016-11-21</td><td>11</td><td> 6</td><td>burntbricks</td><td>3</td><td>no </td><td>never     </td><td>2</td><td>cow_cart;motorcyle;television;radio;cow_plough;solar_panel;solar_torch;table;sofa_set;mobile_phone</td><td>2</td><td>Jan;Feb;Oct                                   </td><td>uuid:45ed84c4-114e-4df0-9f5d-c800806c2bee</td><td> 3.666667</td></tr>\n",
              "\t<tr><td>26</td><td>Ruaca   </td><td>2016-11-21</td><td> 3</td><td>20</td><td>burntbricks</td><td>2</td><td>no </td><td>never     </td><td>2</td><td>radio;cow_plough;table;mobile_phone                                                               </td><td>2</td><td>none                                          </td><td>uuid:1c54ee24-22c4-4ee9-b1ad-42d483c08e2e</td><td> 1.500000</td></tr>\n",
              "\t<tr><td>28</td><td>Ruaca   </td><td>2016-11-21</td><td> 2</td><td> 2</td><td>muddaub    </td><td>1</td><td>no </td><td>more_once </td><td>1</td><td>NA                                                                                                </td><td>3</td><td>Aug;Sept;Oct                                  </td><td>uuid:1de53318-a8cf-4736-99b1-8239f8822473</td><td> 2.000000</td></tr>\n",
              "\t<tr><td>29</td><td>Ruaca   </td><td>2016-11-21</td><td> 7</td><td>10</td><td>burntbricks</td><td>2</td><td>yes</td><td>frequently</td><td>1</td><td>motorcyle;bicycle;radio;table;mobile_phone                                                        </td><td>3</td><td>Jan;Feb                                       </td><td>uuid:adcd7463-8943-4c67-b25f-f72311409476</td><td> 3.500000</td></tr>\n",
              "\t<tr><td>32</td><td>Ruaca   </td><td>2016-11-21</td><td>19</td><td>69</td><td>muddaub    </td><td>2</td><td>yes</td><td>more_once </td><td>5</td><td>cow_cart;motorcyle;radio;cow_plough;solar_panel;mobile_phone                                      </td><td>2</td><td>none                                          </td><td>uuid:25597af3-cd79-449c-a48a-fb9aea6c48bf</td><td> 9.500000</td></tr>\n",
              "\t<tr><td>33</td><td>Ruaca   </td><td>2016-11-21</td><td> 8</td><td>34</td><td>muddaub    </td><td>1</td><td>no </td><td>more_once </td><td>2</td><td>cow_cart;lorry;motorcyle;sterio;cow_plough;solar_panel;mobile_phone                               </td><td>2</td><td>none                                          </td><td>uuid:0fbd2df1-2640-4550-9fbd-7317feaa4758</td><td> 8.000000</td></tr>\n",
              "\t<tr><td>34</td><td>Chirodzo</td><td>2016-11-17</td><td> 8</td><td>18</td><td>burntbricks</td><td>3</td><td>yes</td><td>more_once </td><td>3</td><td>television;radio;cow_plough;solar_panel;solar_torch;table;mobile_phone                            </td><td>2</td><td>Jan;Dec                                       </td><td>uuid:14c78c45-a7cc-4b2a-b765-17c82b43feb4</td><td> 2.666667</td></tr>\n",
              "\t<tr><td>35</td><td>Chirodzo</td><td>2016-11-17</td><td> 5</td><td>45</td><td>muddaub    </td><td>1</td><td>yes</td><td>more_once </td><td>2</td><td>bicycle;cow_plough                                                                                </td><td>3</td><td>Jan;Sept;Oct;Nov;Dec                          </td><td>uuid:ff7496e7-984a-47d3-a8a1-13618b5683ce</td><td> 5.000000</td></tr>\n",
              "\t<tr><td>36</td><td>Chirodzo</td><td>2016-11-17</td><td> 6</td><td>23</td><td>sunbricks  </td><td>1</td><td>yes</td><td>once      </td><td>3</td><td>cow_cart;bicycle;radio;cow_plough;solar_panel;mobile_phone                                        </td><td>3</td><td>none                                          </td><td>uuid:c90eade0-1148-4a12-8c0e-6387a36f45b1</td><td> 6.000000</td></tr>\n",
              "\t<tr><td>38</td><td>God     </td><td>2016-11-17</td><td>10</td><td>19</td><td>muddaub    </td><td>1</td><td>yes</td><td>never     </td><td>3</td><td>bicycle;radio;cow_plough;solar_panel;table;mobile_phone                                           </td><td>3</td><td>Nov                                           </td><td>uuid:81309594-ff58-4dc1-83a7-72af5952ee08</td><td>10.000000</td></tr>\n",
              "\t<tr><td>40</td><td>God     </td><td>2016-11-17</td><td> 9</td><td>23</td><td>burntbricks</td><td>1</td><td>yes</td><td>never     </td><td>1</td><td>bicycle;radio;cow_plough;solar_panel;table;mobile_phone                                           </td><td>3</td><td>Sept;Oct;Nov                                  </td><td>uuid:c0b34854-eede-4e81-b183-ef58a45bfc34</td><td> 9.000000</td></tr>\n",
              "\t<tr><td>42</td><td>God     </td><td>2016-11-17</td><td> 8</td><td> 8</td><td>sunbricks  </td><td>1</td><td>no </td><td>never     </td><td>3</td><td>mobile_phone                                                                                      </td><td>3</td><td>Jan;Nov;Dec                                   </td><td>uuid:e3a1dd8a-1bda-428c-a014-2b527f11ae64</td><td> 8.000000</td></tr>\n",
              "\t<tr><td>43</td><td>Chirodzo</td><td>2016-11-17</td><td> 7</td><td>29</td><td>muddaub    </td><td>1</td><td>no </td><td>never     </td><td>2</td><td>cow_plough;mobile_phone                                                                           </td><td>2</td><td>Jan;Feb;Oct;Nov;Dec                           </td><td>uuid:b4dff49f-ef27-40e5-a9d1-acf287b47358</td><td> 7.000000</td></tr>\n",
              "\t<tr><td>45</td><td>Chirodzo</td><td>2016-11-17</td><td> 9</td><td> 7</td><td>muddaub    </td><td>1</td><td>no </td><td>never     </td><td>4</td><td>motorcyle;bicycle;television;radio;cow_plough;solar_panel;solar_torch;table;mobile_phone          </td><td>3</td><td>none                                          </td><td>uuid:e3554d22-35b1-4fb9-b386-dd5866ad5792</td><td> 9.000000</td></tr>\n",
              "\t<tr><td>46</td><td>Chirodzo</td><td>2016-11-17</td><td>10</td><td>42</td><td>burntbricks</td><td>2</td><td>no </td><td>once      </td><td>2</td><td>motorcyle;computer;television;sterio;solar_panel;solar_torch;table;mobile_phone                   </td><td>2</td><td>Sept;Oct;Nov                                  </td><td>uuid:35f297e0-aa5d-4149-9b7b-4965004cfc37</td><td> 5.000000</td></tr>\n",
              "\t<tr><td>47</td><td>Chirodzo</td><td>2016-11-17</td><td> 2</td><td> 2</td><td>muddaub    </td><td>1</td><td>yes</td><td>once      </td><td>1</td><td>solar_torch;mobile_phone                                                                          </td><td>3</td><td>none                                          </td><td>uuid:2d0b1936-4f82-4ec3-a3b5-7c3c8cd6cc2b</td><td> 2.000000</td></tr>\n",
              "\t<tr><td>50</td><td>Chirodzo</td><td>2016-11-16</td><td> 6</td><td> 7</td><td>muddaub    </td><td>1</td><td>yes</td><td>never     </td><td>1</td><td>solar_torch                                                                                       </td><td>2</td><td>June;July;Aug;Sept;Oct;Nov;Dec                </td><td>uuid:4267c33c-53a7-46d9-8bd6-b96f58a4f92c</td><td> 6.000000</td></tr>\n",
              "\t<tr><td>52</td><td>Chirodzo</td><td>2016-11-16</td><td>11</td><td>15</td><td>burntbricks</td><td>3</td><td>no </td><td>never     </td><td>3</td><td>motorcyle;television;radio;cow_plough;solar_panel;mobile_phone                                    </td><td>3</td><td>Aug;Sept;Oct;Nov                              </td><td>uuid:6db55cb4-a853-4000-9555-757b7fae2bcf</td><td> 3.666667</td></tr>\n",
              "\t<tr><td>21</td><td>Chirodzo</td><td>2016-11-16</td><td> 8</td><td>16</td><td>burntbricks</td><td>3</td><td>yes</td><td>frequently</td><td>2</td><td>bicycle;radio;mobile_phone                                                                        </td><td>2</td><td>Nov                                           </td><td>uuid:cc7f75c5-d13e-43f3-97e5-4f4c03cb4b12</td><td> 2.666667</td></tr>\n",
              "\t<tr><td>54</td><td>Chirodzo</td><td>2016-11-16</td><td> 7</td><td>15</td><td>muddaub    </td><td>1</td><td>no </td><td>never     </td><td>1</td><td>NA                                                                                                </td><td>2</td><td>Sept;Oct;Nov                                  </td><td>uuid:273ab27f-9be3-4f3b-83c9-d3e1592de919</td><td> 7.000000</td></tr>\n",
              "\t<tr><td>⋮</td><td>⋮</td><td>⋮</td><td>⋮</td><td>⋮</td><td>⋮</td><td>⋮</td><td>⋮</td><td>⋮</td><td>⋮</td><td>⋮</td><td>⋮</td><td>⋮</td><td>⋮</td><td>⋮</td></tr>\n",
              "\t<tr><td>101</td><td>God     </td><td>2017-04-27</td><td> 3</td><td> 4</td><td>muddaub    </td><td>1</td><td>no </td><td>never     </td><td>1</td><td>bicycle;solar_torch                                                                                                  </td><td>3</td><td>Sept;Oct;Nov        </td><td>uuid:3c174acd-e431-4523-9ad6-eb14cddca805</td><td> 3.000000</td></tr>\n",
              "\t<tr><td>103</td><td>Ruaca   </td><td>2017-04-27</td><td> 6</td><td>96</td><td>sunbricks  </td><td>1</td><td>no </td><td>never     </td><td>5</td><td>cow_cart;cow_plough;solar_panel;sofa_set;mobile_phone                                                                </td><td>3</td><td>Jan;Feb;Dec         </td><td>uuid:e9d79844-ef14-493b-bbd6-d13691cc660e</td><td> 6.000000</td></tr>\n",
              "\t<tr><td>102</td><td>Ruaca   </td><td>2017-04-28</td><td>12</td><td>15</td><td>burntbricks</td><td>2</td><td>yes</td><td>frequently</td><td>2</td><td>cow_plough;table;sofa_set;mobile_phone                                                                               </td><td>3</td><td>Jan;Feb             </td><td>uuid:76206b0b-af74-4344-b24f-81e839f0d7b0</td><td> 6.000000</td></tr>\n",
              "\t<tr><td> 78</td><td>Ruaca   </td><td>2017-04-28</td><td> 6</td><td>48</td><td>burntbricks</td><td>1</td><td>no </td><td>more_once </td><td>2</td><td>cow_plough                                                                                                           </td><td>2</td><td>Aug;Sept;Oct        </td><td>uuid:da3fa7cc-5ce9-44fd-9a78-b8982b607515</td><td> 6.000000</td></tr>\n",
              "\t<tr><td> 80</td><td>Ruaca   </td><td>2017-04-28</td><td> 5</td><td>12</td><td>muddaub    </td><td>1</td><td>no </td><td>more_once </td><td>1</td><td>cow_cart;bicycle;radio;cow_plough;solar_panel;solar_torch                                                            </td><td>3</td><td>none                </td><td>uuid:a85df6df-0336-46fa-a9f4-522bf6f8b438</td><td> 5.000000</td></tr>\n",
              "\t<tr><td>104</td><td>Ruaca   </td><td>2017-04-28</td><td>14</td><td>52</td><td>sunbricks  </td><td>1</td><td>yes</td><td>never     </td><td>4</td><td>cow_cart;bicycle;cow_plough                                                                                          </td><td>3</td><td>Jan;Feb;Dec         </td><td>uuid:bb2bb365-7d7d-4fe9-9353-b21269676119</td><td>14.000000</td></tr>\n",
              "\t<tr><td>105</td><td>Ruaca   </td><td>2017-04-28</td><td> 6</td><td>40</td><td>sunbricks  </td><td>1</td><td>yes</td><td>frequently</td><td>2</td><td>motorcyle;radio;cow_plough;solar_panel;mobile_phone                                                                  </td><td>3</td><td>Jan;Feb;Dec         </td><td>uuid:af0904ee-4fdb-4090-973f-599c81ddf022</td><td> 6.000000</td></tr>\n",
              "\t<tr><td>106</td><td>God     </td><td>2017-04-30</td><td>15</td><td>22</td><td>sunbricks  </td><td>5</td><td>no </td><td>never     </td><td>2</td><td>cow_cart;motorcyle;bicycle;radio;sterio;cow_plough;solar_panel;solar_torch;table;mobile_phone                        </td><td>3</td><td>Oct;Nov;Dec         </td><td>uuid:468797c1-4a65-4f35-9c83-e28ce46972a2</td><td> 3.000000</td></tr>\n",
              "\t<tr><td>110</td><td>Ruaca   </td><td>2017-05-03</td><td> 6</td><td>22</td><td>sunbricks  </td><td>3</td><td>no </td><td>never     </td><td>3</td><td>bicycle;radio;cow_plough;table;mobile_phone                                                                          </td><td>2</td><td>none                </td><td>uuid:e7c51ac4-24e4-475e-88e7-f85e896945e3</td><td> 2.000000</td></tr>\n",
              "\t<tr><td>113</td><td>Ruaca   </td><td>2017-05-03</td><td>11</td><td>26</td><td>burntbricks</td><td>3</td><td>no </td><td>never     </td><td>4</td><td>cow_cart;motorcyle;bicycle;radio;cow_plough;solar_panel;solar_torch;table;mobile_phone                               </td><td>3</td><td>none                </td><td>uuid:01210861-aba1-4268-98d0-0260e05f5155</td><td> 3.666667</td></tr>\n",
              "\t<tr><td>125</td><td>Ruaca   </td><td>2017-05-04</td><td> 5</td><td>14</td><td>burntbricks</td><td>1</td><td>no </td><td>more_once </td><td>2</td><td>bicycle;radio;cow_plough;solar_panel;solar_torch;mobile_phone                                                        </td><td>3</td><td>Jan;Sept;Oct;Nov;Dec</td><td>uuid:02b05c68-302e-4e7a-b229-81cb1377fd29</td><td> 5.000000</td></tr>\n",
              "\t<tr><td>119</td><td>Ruaca   </td><td>2017-05-04</td><td> 3</td><td>14</td><td>muddaub    </td><td>1</td><td>no </td><td>never     </td><td>4</td><td>bicycle;cow_plough;solar_panel;mobile_phone                                                                          </td><td>3</td><td>none                </td><td>uuid:fa201fce-4e94-44b8-b435-c558c2e1ed55</td><td> 3.000000</td></tr>\n",
              "\t<tr><td>108</td><td>God     </td><td>2017-05-11</td><td>15</td><td>22</td><td>burntbricks</td><td>2</td><td>no </td><td>never     </td><td>4</td><td>cow_cart;bicycle;radio;cow_plough;solar_panel;table;mobile_phone                                                     </td><td>3</td><td>Aug;Sept;Oct;Nov    </td><td>uuid:e4f4d6ba-e698-45a5-947f-ba6da88cc22b</td><td> 7.500000</td></tr>\n",
              "\t<tr><td>144</td><td>Ruaca   </td><td>2017-05-18</td><td> 7</td><td> 5</td><td>burntbricks</td><td>4</td><td>no </td><td>frequently</td><td>4</td><td>cow_cart;television;radio;cow_plough;solar_panel;solar_torch;table;mobile_phone                                      </td><td>2</td><td>none                </td><td>uuid:0670cef6-d233-4852-89d8-36955261b0a3</td><td> 1.750000</td></tr>\n",
              "\t<tr><td>143</td><td>Ruaca   </td><td>2017-05-18</td><td>10</td><td>24</td><td>burntbricks</td><td>2</td><td>no </td><td>frequently</td><td>3</td><td>cow_cart;motorcyle;television;radio;cow_plough;solar_torch;table;mobile_phone                                        </td><td>3</td><td>Jan;Dec             </td><td>uuid:9a096a12-b335-468c-b3cc-1191180d62de</td><td> 5.000000</td></tr>\n",
              "\t<tr><td>150</td><td>Ruaca   </td><td>2017-05-18</td><td> 7</td><td> 8</td><td>muddaub    </td><td>1</td><td>no </td><td>never     </td><td>1</td><td>mobile_phone                                                                                                         </td><td>3</td><td>Sept;Oct;Nov        </td><td>uuid:92613d0d-e7b1-4d62-8ea4-451d7cd0a982</td><td> 7.000000</td></tr>\n",
              "\t<tr><td>159</td><td>God     </td><td>2017-05-18</td><td> 4</td><td>24</td><td>sunbricks  </td><td>1</td><td>no </td><td>never     </td><td>1</td><td>radio;solar_panel;solar_torch                                                                                        </td><td>3</td><td>Sept;Oct;Nov        </td><td>uuid:37577f91-d665-443e-8d70-b914954cef4b</td><td> 4.000000</td></tr>\n",
              "\t<tr><td>160</td><td>God     </td><td>2017-06-03</td><td> 7</td><td>13</td><td>burntbricks</td><td>2</td><td>yes</td><td>frequently</td><td>2</td><td>cow_cart;cow_plough;solar_torch;mobile_phone                                                                         </td><td>2</td><td>Nov                 </td><td>uuid:f22831ec-6bc3-4b73-9197-4b01e01abb66</td><td> 3.500000</td></tr>\n",
              "\t<tr><td>165</td><td>Ruaca   </td><td>2017-06-03</td><td> 9</td><td>14</td><td>burntbricks</td><td>1</td><td>no </td><td>never     </td><td>3</td><td>cow_cart;motorcyle;bicycle;television;radio;cow_plough;solar_torch;electricity;table;sofa_set;mobile_phone;fridge    </td><td>3</td><td>none                </td><td>uuid:62f3f7af-f0f3-4f88-b9e0-acf8baa49ae4</td><td> 9.000000</td></tr>\n",
              "\t<tr><td>166</td><td>Ruaca   </td><td>2017-06-03</td><td>11</td><td>16</td><td>muddaub    </td><td>1</td><td>no </td><td>never     </td><td>1</td><td>bicycle;solar_torch;mobile_phone                                                                                     </td><td>2</td><td>Feb;Mar             </td><td>uuid:40aac732-94df-496c-97ba-5b67f59bcc7a</td><td>11.000000</td></tr>\n",
              "\t<tr><td>167</td><td>Ruaca   </td><td>2017-06-03</td><td> 8</td><td>24</td><td>muddaub    </td><td>1</td><td>no </td><td>never     </td><td>3</td><td>motorcyle;radio;cow_plough;solar_panel;solar_torch;table;mobile_phone                                                </td><td>2</td><td>Jan;Nov;Dec         </td><td>uuid:a9d1a013-043b-475d-a71b-77ed80abe970</td><td> 8.000000</td></tr>\n",
              "\t<tr><td>174</td><td>Ruaca   </td><td>2017-06-03</td><td>12</td><td>25</td><td>burntbricks</td><td>2</td><td>no </td><td>never     </td><td>3</td><td>car;lorry;motorcyle;radio;sterio;cow_plough;solar_panel;solar_torch;table;sofa_set;mobile_phone;fridge               </td><td>3</td><td>Jan;Feb;Dec         </td><td>uuid:43ec6132-478c-4f87-878d-fb3c0c4d0c74</td><td> 6.000000</td></tr>\n",
              "\t<tr><td>175</td><td>Ruaca   </td><td>2017-06-03</td><td> 7</td><td>36</td><td>burntbricks</td><td>1</td><td>no </td><td>never     </td><td>4</td><td>motorcyle;bicycle;radio;sterio;cow_plough;solar_panel;table;mobile_phone                                             </td><td>2</td><td>Jan;Oct;Nov;Dec     </td><td>uuid:64fc743e-8176-40f6-8ae4-36ae97fac1d9</td><td> 7.000000</td></tr>\n",
              "\t<tr><td>189</td><td>Ruaca   </td><td>2017-06-03</td><td>15</td><td>16</td><td>sunbricks  </td><td>1</td><td>no </td><td>never     </td><td>3</td><td>motorcyle;radio;sterio;cow_plough;solar_panel;table;mobile_phone                                                     </td><td>3</td><td>Nov                 </td><td>uuid:c17e374c-280b-4e78-bf21-74a7c1c73492</td><td>15.000000</td></tr>\n",
              "\t<tr><td>191</td><td>Ruaca   </td><td>2017-06-03</td><td>10</td><td> 5</td><td>burntbricks</td><td>4</td><td>no </td><td>never     </td><td>1</td><td>radio;cow_plough;solar_panel;solar_torch;mobile_phone                                                                </td><td>2</td><td>Oct;Nov;Dec         </td><td>uuid:dad53aff-b520-4015-a9e3-f5fdf9168fe1</td><td> 2.500000</td></tr>\n",
              "\t<tr><td>192</td><td>Chirodzo</td><td>2017-06-03</td><td> 9</td><td>20</td><td>burntbricks</td><td>1</td><td>no </td><td>once      </td><td>1</td><td>bicycle;television;radio;sterio;solar_panel;solar_torch;table;mobile_phone                                           </td><td>3</td><td>Jan;Nov;Dec         </td><td>uuid:f94409a6-e461-4e4c-a6fb-0072d3d58b00</td><td> 9.000000</td></tr>\n",
              "\t<tr><td>126</td><td>Ruaca   </td><td>2017-05-18</td><td> 3</td><td> 7</td><td>burntbricks</td><td>1</td><td>no </td><td>more_once </td><td>3</td><td>motorcyle;radio;solar_panel                                                                                          </td><td>3</td><td>Oct;Nov;Dec         </td><td>uuid:69caea81-a4e5-4e8d-83cd-9c18d8e8d965</td><td> 3.000000</td></tr>\n",
              "\t<tr><td>193</td><td>Ruaca   </td><td>2017-06-04</td><td> 7</td><td>10</td><td>cement     </td><td>3</td><td>no </td><td>more_once </td><td>3</td><td>car;lorry;television;radio;sterio;cow_plough;solar_torch;electricity;table;sofa_set;mobile_phone;fridge              </td><td>3</td><td>none                </td><td>uuid:5ccc2e5a-ea90-48b5-8542-69400d5334df</td><td> 2.333333</td></tr>\n",
              "\t<tr><td>194</td><td>Ruaca   </td><td>2017-06-04</td><td> 4</td><td> 5</td><td>muddaub    </td><td>1</td><td>no </td><td>more_once </td><td>1</td><td>radio;solar_panel;solar_torch;mobile_phone                                                                           </td><td>3</td><td>Sept;Oct;Nov        </td><td>uuid:95c11a30-d44f-40c4-8ea8-ec34fca6bbbf</td><td> 4.000000</td></tr>\n",
              "\t<tr><td>199</td><td>Chirodzo</td><td>2017-06-04</td><td> 7</td><td>17</td><td>burntbricks</td><td>2</td><td>yes</td><td>more_once </td><td>2</td><td>cow_cart;lorry;motorcyle;computer;television;radio;sterio;cow_plough;solar_panel;solar_torch;electricity;mobile_phone</td><td>3</td><td>Nov;Dec             </td><td>uuid:ffc83162-ff24-4a87-8709-eff17abc0b3b</td><td> 3.500000</td></tr>\n",
              "</tbody>\n",
              "</table>\n"
            ],
            "text/markdown": "\nA tibble: 92 × 15\n\n| key_ID &lt;dbl&gt; | village &lt;chr&gt; | interview_date &lt;dttm&gt; | no_membrs &lt;dbl&gt; | years_liv &lt;dbl&gt; | respondent_wall_type &lt;chr&gt; | rooms &lt;dbl&gt; | memb_assoc &lt;chr&gt; | affect_conflicts &lt;chr&gt; | liv_count &lt;dbl&gt; | items_owned &lt;chr&gt; | no_meals &lt;dbl&gt; | months_lack_food &lt;chr&gt; | instanceID &lt;chr&gt; | people_per_room &lt;dbl&gt; |\n|---|---|---|---|---|---|---|---|---|---|---|---|---|---|---|\n|  1 | God      | 2016-11-17 |  7 |  9 | muddaub     | 1 | yes | once       | 3 | cow_cart;bicycle;radio;cow_plough;solar_panel;solar_torch;table;mobile_phone                       | 2 | Jan;Sept;Oct;Nov;Dec                           | uuid:099de9c9-3e5e-427b-8452-26250e840d6e |  7.000000 |\n|  7 | God      | 2016-11-17 |  6 | 38 | muddaub     | 1 | no  | never      | 1 | motorcyle;cow_plough                                                                               | 3 | Nov                                            | uuid:ae20a58d-56f4-43d7-bafa-e7963d850844 |  6.000000 |\n|  8 | Chirodzo | 2016-11-16 | 12 | 70 | burntbricks | 3 | yes | never      | 2 | motorcyle;bicycle;television;radio;cow_plough;solar_panel;solar_torch;table;fridge                 | 2 | Jan                                            | uuid:d6cee930-7be1-4fd9-88c0-82a08f90fb5a |  4.000000 |\n|  9 | Chirodzo | 2016-11-16 |  8 |  6 | burntbricks | 1 | no  | never      | 3 | television;solar_panel;solar_torch                                                                 | 3 | Jan;Dec                                        | uuid:846103d2-b1db-4055-b502-9cd510bb7b37 |  8.000000 |\n| 10 | Chirodzo | 2016-12-16 | 12 | 23 | burntbricks | 5 | no  | never      | 2 | cow_cart;motorcyle;bicycle;television;radio;cow_plough;solar_panel;solar_torch;table               | 3 | Jan;Oct;Nov;Dec                                | uuid:8f4e49bc-da81-4356-ae34-e0d794a23721 |  2.400000 |\n| 12 | God      | 2016-11-21 |  7 | 20 | burntbricks | 3 | yes | never      | 2 | cow_cart;bicycle;radio;cow_plough;table                                                            | 3 | Sept;Oct                                       | uuid:e6ee6269-b467-4e37-91fc-5e9eaf934557 |  2.333333 |\n| 13 | God      | 2016-11-21 |  6 |  8 | burntbricks | 1 | no  | never      | 3 | bicycle;radio;cow_plough;mobile_phone                                                              | 2 | Sept;Oct;Nov                                   | uuid:6c00c145-ee3b-409c-8c02-2c8d743b6918 |  6.000000 |\n| 15 | God      | 2016-11-21 |  5 | 30 | sunbricks   | 2 | yes | once       | 3 | bicycle;radio;cow_plough;solar_panel;table                                                         | 2 | Jan;Feb;Mar;Apr;May;June;July;Aug;Sept;Oct;Nov | uuid:a837e545-ff86-4a1c-a1a5-6186804b985f |  2.500000 |\n| 21 | God      | 2016-11-21 |  8 | 20 | burntbricks | 1 | no  | never      | 3 | NA                                                                                                 | 2 | Jan;Feb;Mar;Oct;Nov;Dec                        | uuid:6570a7d0-6a0b-452c-aa2e-922500e35749 |  8.000000 |\n| 24 | Ruaca    | 2016-11-21 |  6 |  4 | burntbricks | 2 | no  | never      | 3 | radio;table;sofa_set;mobile_phone                                                                  | 2 | Nov;Dec                                        | uuid:661457d3-7e61-45e8-a238-7415e7548f82 |  3.000000 |\n| 25 | Ruaca    | 2016-11-21 | 11 |  6 | burntbricks | 3 | no  | never      | 2 | cow_cart;motorcyle;television;radio;cow_plough;solar_panel;solar_torch;table;sofa_set;mobile_phone | 2 | Jan;Feb;Oct                                    | uuid:45ed84c4-114e-4df0-9f5d-c800806c2bee |  3.666667 |\n| 26 | Ruaca    | 2016-11-21 |  3 | 20 | burntbricks | 2 | no  | never      | 2 | radio;cow_plough;table;mobile_phone                                                                | 2 | none                                           | uuid:1c54ee24-22c4-4ee9-b1ad-42d483c08e2e |  1.500000 |\n| 28 | Ruaca    | 2016-11-21 |  2 |  2 | muddaub     | 1 | no  | more_once  | 1 | NA                                                                                                 | 3 | Aug;Sept;Oct                                   | uuid:1de53318-a8cf-4736-99b1-8239f8822473 |  2.000000 |\n| 29 | Ruaca    | 2016-11-21 |  7 | 10 | burntbricks | 2 | yes | frequently | 1 | motorcyle;bicycle;radio;table;mobile_phone                                                         | 3 | Jan;Feb                                        | uuid:adcd7463-8943-4c67-b25f-f72311409476 |  3.500000 |\n| 32 | Ruaca    | 2016-11-21 | 19 | 69 | muddaub     | 2 | yes | more_once  | 5 | cow_cart;motorcyle;radio;cow_plough;solar_panel;mobile_phone                                       | 2 | none                                           | uuid:25597af3-cd79-449c-a48a-fb9aea6c48bf |  9.500000 |\n| 33 | Ruaca    | 2016-11-21 |  8 | 34 | muddaub     | 1 | no  | more_once  | 2 | cow_cart;lorry;motorcyle;sterio;cow_plough;solar_panel;mobile_phone                                | 2 | none                                           | uuid:0fbd2df1-2640-4550-9fbd-7317feaa4758 |  8.000000 |\n| 34 | Chirodzo | 2016-11-17 |  8 | 18 | burntbricks | 3 | yes | more_once  | 3 | television;radio;cow_plough;solar_panel;solar_torch;table;mobile_phone                             | 2 | Jan;Dec                                        | uuid:14c78c45-a7cc-4b2a-b765-17c82b43feb4 |  2.666667 |\n| 35 | Chirodzo | 2016-11-17 |  5 | 45 | muddaub     | 1 | yes | more_once  | 2 | bicycle;cow_plough                                                                                 | 3 | Jan;Sept;Oct;Nov;Dec                           | uuid:ff7496e7-984a-47d3-a8a1-13618b5683ce |  5.000000 |\n| 36 | Chirodzo | 2016-11-17 |  6 | 23 | sunbricks   | 1 | yes | once       | 3 | cow_cart;bicycle;radio;cow_plough;solar_panel;mobile_phone                                         | 3 | none                                           | uuid:c90eade0-1148-4a12-8c0e-6387a36f45b1 |  6.000000 |\n| 38 | God      | 2016-11-17 | 10 | 19 | muddaub     | 1 | yes | never      | 3 | bicycle;radio;cow_plough;solar_panel;table;mobile_phone                                            | 3 | Nov                                            | uuid:81309594-ff58-4dc1-83a7-72af5952ee08 | 10.000000 |\n| 40 | God      | 2016-11-17 |  9 | 23 | burntbricks | 1 | yes | never      | 1 | bicycle;radio;cow_plough;solar_panel;table;mobile_phone                                            | 3 | Sept;Oct;Nov                                   | uuid:c0b34854-eede-4e81-b183-ef58a45bfc34 |  9.000000 |\n| 42 | God      | 2016-11-17 |  8 |  8 | sunbricks   | 1 | no  | never      | 3 | mobile_phone                                                                                       | 3 | Jan;Nov;Dec                                    | uuid:e3a1dd8a-1bda-428c-a014-2b527f11ae64 |  8.000000 |\n| 43 | Chirodzo | 2016-11-17 |  7 | 29 | muddaub     | 1 | no  | never      | 2 | cow_plough;mobile_phone                                                                            | 2 | Jan;Feb;Oct;Nov;Dec                            | uuid:b4dff49f-ef27-40e5-a9d1-acf287b47358 |  7.000000 |\n| 45 | Chirodzo | 2016-11-17 |  9 |  7 | muddaub     | 1 | no  | never      | 4 | motorcyle;bicycle;television;radio;cow_plough;solar_panel;solar_torch;table;mobile_phone           | 3 | none                                           | uuid:e3554d22-35b1-4fb9-b386-dd5866ad5792 |  9.000000 |\n| 46 | Chirodzo | 2016-11-17 | 10 | 42 | burntbricks | 2 | no  | once       | 2 | motorcyle;computer;television;sterio;solar_panel;solar_torch;table;mobile_phone                    | 2 | Sept;Oct;Nov                                   | uuid:35f297e0-aa5d-4149-9b7b-4965004cfc37 |  5.000000 |\n| 47 | Chirodzo | 2016-11-17 |  2 |  2 | muddaub     | 1 | yes | once       | 1 | solar_torch;mobile_phone                                                                           | 3 | none                                           | uuid:2d0b1936-4f82-4ec3-a3b5-7c3c8cd6cc2b |  2.000000 |\n| 50 | Chirodzo | 2016-11-16 |  6 |  7 | muddaub     | 1 | yes | never      | 1 | solar_torch                                                                                        | 2 | June;July;Aug;Sept;Oct;Nov;Dec                 | uuid:4267c33c-53a7-46d9-8bd6-b96f58a4f92c |  6.000000 |\n| 52 | Chirodzo | 2016-11-16 | 11 | 15 | burntbricks | 3 | no  | never      | 3 | motorcyle;television;radio;cow_plough;solar_panel;mobile_phone                                     | 3 | Aug;Sept;Oct;Nov                               | uuid:6db55cb4-a853-4000-9555-757b7fae2bcf |  3.666667 |\n| 21 | Chirodzo | 2016-11-16 |  8 | 16 | burntbricks | 3 | yes | frequently | 2 | bicycle;radio;mobile_phone                                                                         | 2 | Nov                                            | uuid:cc7f75c5-d13e-43f3-97e5-4f4c03cb4b12 |  2.666667 |\n| 54 | Chirodzo | 2016-11-16 |  7 | 15 | muddaub     | 1 | no  | never      | 1 | NA                                                                                                 | 2 | Sept;Oct;Nov                                   | uuid:273ab27f-9be3-4f3b-83c9-d3e1592de919 |  7.000000 |\n| ⋮ | ⋮ | ⋮ | ⋮ | ⋮ | ⋮ | ⋮ | ⋮ | ⋮ | ⋮ | ⋮ | ⋮ | ⋮ | ⋮ | ⋮ |\n| 101 | God      | 2017-04-27 |  3 |  4 | muddaub     | 1 | no  | never      | 1 | bicycle;solar_torch                                                                                                   | 3 | Sept;Oct;Nov         | uuid:3c174acd-e431-4523-9ad6-eb14cddca805 |  3.000000 |\n| 103 | Ruaca    | 2017-04-27 |  6 | 96 | sunbricks   | 1 | no  | never      | 5 | cow_cart;cow_plough;solar_panel;sofa_set;mobile_phone                                                                 | 3 | Jan;Feb;Dec          | uuid:e9d79844-ef14-493b-bbd6-d13691cc660e |  6.000000 |\n| 102 | Ruaca    | 2017-04-28 | 12 | 15 | burntbricks | 2 | yes | frequently | 2 | cow_plough;table;sofa_set;mobile_phone                                                                                | 3 | Jan;Feb              | uuid:76206b0b-af74-4344-b24f-81e839f0d7b0 |  6.000000 |\n|  78 | Ruaca    | 2017-04-28 |  6 | 48 | burntbricks | 1 | no  | more_once  | 2 | cow_plough                                                                                                            | 2 | Aug;Sept;Oct         | uuid:da3fa7cc-5ce9-44fd-9a78-b8982b607515 |  6.000000 |\n|  80 | Ruaca    | 2017-04-28 |  5 | 12 | muddaub     | 1 | no  | more_once  | 1 | cow_cart;bicycle;radio;cow_plough;solar_panel;solar_torch                                                             | 3 | none                 | uuid:a85df6df-0336-46fa-a9f4-522bf6f8b438 |  5.000000 |\n| 104 | Ruaca    | 2017-04-28 | 14 | 52 | sunbricks   | 1 | yes | never      | 4 | cow_cart;bicycle;cow_plough                                                                                           | 3 | Jan;Feb;Dec          | uuid:bb2bb365-7d7d-4fe9-9353-b21269676119 | 14.000000 |\n| 105 | Ruaca    | 2017-04-28 |  6 | 40 | sunbricks   | 1 | yes | frequently | 2 | motorcyle;radio;cow_plough;solar_panel;mobile_phone                                                                   | 3 | Jan;Feb;Dec          | uuid:af0904ee-4fdb-4090-973f-599c81ddf022 |  6.000000 |\n| 106 | God      | 2017-04-30 | 15 | 22 | sunbricks   | 5 | no  | never      | 2 | cow_cart;motorcyle;bicycle;radio;sterio;cow_plough;solar_panel;solar_torch;table;mobile_phone                         | 3 | Oct;Nov;Dec          | uuid:468797c1-4a65-4f35-9c83-e28ce46972a2 |  3.000000 |\n| 110 | Ruaca    | 2017-05-03 |  6 | 22 | sunbricks   | 3 | no  | never      | 3 | bicycle;radio;cow_plough;table;mobile_phone                                                                           | 2 | none                 | uuid:e7c51ac4-24e4-475e-88e7-f85e896945e3 |  2.000000 |\n| 113 | Ruaca    | 2017-05-03 | 11 | 26 | burntbricks | 3 | no  | never      | 4 | cow_cart;motorcyle;bicycle;radio;cow_plough;solar_panel;solar_torch;table;mobile_phone                                | 3 | none                 | uuid:01210861-aba1-4268-98d0-0260e05f5155 |  3.666667 |\n| 125 | Ruaca    | 2017-05-04 |  5 | 14 | burntbricks | 1 | no  | more_once  | 2 | bicycle;radio;cow_plough;solar_panel;solar_torch;mobile_phone                                                         | 3 | Jan;Sept;Oct;Nov;Dec | uuid:02b05c68-302e-4e7a-b229-81cb1377fd29 |  5.000000 |\n| 119 | Ruaca    | 2017-05-04 |  3 | 14 | muddaub     | 1 | no  | never      | 4 | bicycle;cow_plough;solar_panel;mobile_phone                                                                           | 3 | none                 | uuid:fa201fce-4e94-44b8-b435-c558c2e1ed55 |  3.000000 |\n| 108 | God      | 2017-05-11 | 15 | 22 | burntbricks | 2 | no  | never      | 4 | cow_cart;bicycle;radio;cow_plough;solar_panel;table;mobile_phone                                                      | 3 | Aug;Sept;Oct;Nov     | uuid:e4f4d6ba-e698-45a5-947f-ba6da88cc22b |  7.500000 |\n| 144 | Ruaca    | 2017-05-18 |  7 |  5 | burntbricks | 4 | no  | frequently | 4 | cow_cart;television;radio;cow_plough;solar_panel;solar_torch;table;mobile_phone                                       | 2 | none                 | uuid:0670cef6-d233-4852-89d8-36955261b0a3 |  1.750000 |\n| 143 | Ruaca    | 2017-05-18 | 10 | 24 | burntbricks | 2 | no  | frequently | 3 | cow_cart;motorcyle;television;radio;cow_plough;solar_torch;table;mobile_phone                                         | 3 | Jan;Dec              | uuid:9a096a12-b335-468c-b3cc-1191180d62de |  5.000000 |\n| 150 | Ruaca    | 2017-05-18 |  7 |  8 | muddaub     | 1 | no  | never      | 1 | mobile_phone                                                                                                          | 3 | Sept;Oct;Nov         | uuid:92613d0d-e7b1-4d62-8ea4-451d7cd0a982 |  7.000000 |\n| 159 | God      | 2017-05-18 |  4 | 24 | sunbricks   | 1 | no  | never      | 1 | radio;solar_panel;solar_torch                                                                                         | 3 | Sept;Oct;Nov         | uuid:37577f91-d665-443e-8d70-b914954cef4b |  4.000000 |\n| 160 | God      | 2017-06-03 |  7 | 13 | burntbricks | 2 | yes | frequently | 2 | cow_cart;cow_plough;solar_torch;mobile_phone                                                                          | 2 | Nov                  | uuid:f22831ec-6bc3-4b73-9197-4b01e01abb66 |  3.500000 |\n| 165 | Ruaca    | 2017-06-03 |  9 | 14 | burntbricks | 1 | no  | never      | 3 | cow_cart;motorcyle;bicycle;television;radio;cow_plough;solar_torch;electricity;table;sofa_set;mobile_phone;fridge     | 3 | none                 | uuid:62f3f7af-f0f3-4f88-b9e0-acf8baa49ae4 |  9.000000 |\n| 166 | Ruaca    | 2017-06-03 | 11 | 16 | muddaub     | 1 | no  | never      | 1 | bicycle;solar_torch;mobile_phone                                                                                      | 2 | Feb;Mar              | uuid:40aac732-94df-496c-97ba-5b67f59bcc7a | 11.000000 |\n| 167 | Ruaca    | 2017-06-03 |  8 | 24 | muddaub     | 1 | no  | never      | 3 | motorcyle;radio;cow_plough;solar_panel;solar_torch;table;mobile_phone                                                 | 2 | Jan;Nov;Dec          | uuid:a9d1a013-043b-475d-a71b-77ed80abe970 |  8.000000 |\n| 174 | Ruaca    | 2017-06-03 | 12 | 25 | burntbricks | 2 | no  | never      | 3 | car;lorry;motorcyle;radio;sterio;cow_plough;solar_panel;solar_torch;table;sofa_set;mobile_phone;fridge                | 3 | Jan;Feb;Dec          | uuid:43ec6132-478c-4f87-878d-fb3c0c4d0c74 |  6.000000 |\n| 175 | Ruaca    | 2017-06-03 |  7 | 36 | burntbricks | 1 | no  | never      | 4 | motorcyle;bicycle;radio;sterio;cow_plough;solar_panel;table;mobile_phone                                              | 2 | Jan;Oct;Nov;Dec      | uuid:64fc743e-8176-40f6-8ae4-36ae97fac1d9 |  7.000000 |\n| 189 | Ruaca    | 2017-06-03 | 15 | 16 | sunbricks   | 1 | no  | never      | 3 | motorcyle;radio;sterio;cow_plough;solar_panel;table;mobile_phone                                                      | 3 | Nov                  | uuid:c17e374c-280b-4e78-bf21-74a7c1c73492 | 15.000000 |\n| 191 | Ruaca    | 2017-06-03 | 10 |  5 | burntbricks | 4 | no  | never      | 1 | radio;cow_plough;solar_panel;solar_torch;mobile_phone                                                                 | 2 | Oct;Nov;Dec          | uuid:dad53aff-b520-4015-a9e3-f5fdf9168fe1 |  2.500000 |\n| 192 | Chirodzo | 2017-06-03 |  9 | 20 | burntbricks | 1 | no  | once       | 1 | bicycle;television;radio;sterio;solar_panel;solar_torch;table;mobile_phone                                            | 3 | Jan;Nov;Dec          | uuid:f94409a6-e461-4e4c-a6fb-0072d3d58b00 |  9.000000 |\n| 126 | Ruaca    | 2017-05-18 |  3 |  7 | burntbricks | 1 | no  | more_once  | 3 | motorcyle;radio;solar_panel                                                                                           | 3 | Oct;Nov;Dec          | uuid:69caea81-a4e5-4e8d-83cd-9c18d8e8d965 |  3.000000 |\n| 193 | Ruaca    | 2017-06-04 |  7 | 10 | cement      | 3 | no  | more_once  | 3 | car;lorry;television;radio;sterio;cow_plough;solar_torch;electricity;table;sofa_set;mobile_phone;fridge               | 3 | none                 | uuid:5ccc2e5a-ea90-48b5-8542-69400d5334df |  2.333333 |\n| 194 | Ruaca    | 2017-06-04 |  4 |  5 | muddaub     | 1 | no  | more_once  | 1 | radio;solar_panel;solar_torch;mobile_phone                                                                            | 3 | Sept;Oct;Nov         | uuid:95c11a30-d44f-40c4-8ea8-ec34fca6bbbf |  4.000000 |\n| 199 | Chirodzo | 2017-06-04 |  7 | 17 | burntbricks | 2 | yes | more_once  | 2 | cow_cart;lorry;motorcyle;computer;television;radio;sterio;cow_plough;solar_panel;solar_torch;electricity;mobile_phone | 3 | Nov;Dec              | uuid:ffc83162-ff24-4a87-8709-eff17abc0b3b |  3.500000 |\n\n",
            "text/latex": "A tibble: 92 × 15\n\\begin{tabular}{lllllllllllllll}\n key\\_ID & village & interview\\_date & no\\_membrs & years\\_liv & respondent\\_wall\\_type & rooms & memb\\_assoc & affect\\_conflicts & liv\\_count & items\\_owned & no\\_meals & months\\_lack\\_food & instanceID & people\\_per\\_room\\\\\n <dbl> & <chr> & <dttm> & <dbl> & <dbl> & <chr> & <dbl> & <chr> & <chr> & <dbl> & <chr> & <dbl> & <chr> & <chr> & <dbl>\\\\\n\\hline\n\t  1 & God      & 2016-11-17 &  7 &  9 & muddaub     & 1 & yes & once       & 3 & cow\\_cart;bicycle;radio;cow\\_plough;solar\\_panel;solar\\_torch;table;mobile\\_phone                       & 2 & Jan;Sept;Oct;Nov;Dec                           & uuid:099de9c9-3e5e-427b-8452-26250e840d6e &  7.000000\\\\\n\t  7 & God      & 2016-11-17 &  6 & 38 & muddaub     & 1 & no  & never      & 1 & motorcyle;cow\\_plough                                                                               & 3 & Nov                                            & uuid:ae20a58d-56f4-43d7-bafa-e7963d850844 &  6.000000\\\\\n\t  8 & Chirodzo & 2016-11-16 & 12 & 70 & burntbricks & 3 & yes & never      & 2 & motorcyle;bicycle;television;radio;cow\\_plough;solar\\_panel;solar\\_torch;table;fridge                 & 2 & Jan                                            & uuid:d6cee930-7be1-4fd9-88c0-82a08f90fb5a &  4.000000\\\\\n\t  9 & Chirodzo & 2016-11-16 &  8 &  6 & burntbricks & 1 & no  & never      & 3 & television;solar\\_panel;solar\\_torch                                                                 & 3 & Jan;Dec                                        & uuid:846103d2-b1db-4055-b502-9cd510bb7b37 &  8.000000\\\\\n\t 10 & Chirodzo & 2016-12-16 & 12 & 23 & burntbricks & 5 & no  & never      & 2 & cow\\_cart;motorcyle;bicycle;television;radio;cow\\_plough;solar\\_panel;solar\\_torch;table               & 3 & Jan;Oct;Nov;Dec                                & uuid:8f4e49bc-da81-4356-ae34-e0d794a23721 &  2.400000\\\\\n\t 12 & God      & 2016-11-21 &  7 & 20 & burntbricks & 3 & yes & never      & 2 & cow\\_cart;bicycle;radio;cow\\_plough;table                                                            & 3 & Sept;Oct                                       & uuid:e6ee6269-b467-4e37-91fc-5e9eaf934557 &  2.333333\\\\\n\t 13 & God      & 2016-11-21 &  6 &  8 & burntbricks & 1 & no  & never      & 3 & bicycle;radio;cow\\_plough;mobile\\_phone                                                              & 2 & Sept;Oct;Nov                                   & uuid:6c00c145-ee3b-409c-8c02-2c8d743b6918 &  6.000000\\\\\n\t 15 & God      & 2016-11-21 &  5 & 30 & sunbricks   & 2 & yes & once       & 3 & bicycle;radio;cow\\_plough;solar\\_panel;table                                                         & 2 & Jan;Feb;Mar;Apr;May;June;July;Aug;Sept;Oct;Nov & uuid:a837e545-ff86-4a1c-a1a5-6186804b985f &  2.500000\\\\\n\t 21 & God      & 2016-11-21 &  8 & 20 & burntbricks & 1 & no  & never      & 3 & NA                                                                                                 & 2 & Jan;Feb;Mar;Oct;Nov;Dec                        & uuid:6570a7d0-6a0b-452c-aa2e-922500e35749 &  8.000000\\\\\n\t 24 & Ruaca    & 2016-11-21 &  6 &  4 & burntbricks & 2 & no  & never      & 3 & radio;table;sofa\\_set;mobile\\_phone                                                                  & 2 & Nov;Dec                                        & uuid:661457d3-7e61-45e8-a238-7415e7548f82 &  3.000000\\\\\n\t 25 & Ruaca    & 2016-11-21 & 11 &  6 & burntbricks & 3 & no  & never      & 2 & cow\\_cart;motorcyle;television;radio;cow\\_plough;solar\\_panel;solar\\_torch;table;sofa\\_set;mobile\\_phone & 2 & Jan;Feb;Oct                                    & uuid:45ed84c4-114e-4df0-9f5d-c800806c2bee &  3.666667\\\\\n\t 26 & Ruaca    & 2016-11-21 &  3 & 20 & burntbricks & 2 & no  & never      & 2 & radio;cow\\_plough;table;mobile\\_phone                                                                & 2 & none                                           & uuid:1c54ee24-22c4-4ee9-b1ad-42d483c08e2e &  1.500000\\\\\n\t 28 & Ruaca    & 2016-11-21 &  2 &  2 & muddaub     & 1 & no  & more\\_once  & 1 & NA                                                                                                 & 3 & Aug;Sept;Oct                                   & uuid:1de53318-a8cf-4736-99b1-8239f8822473 &  2.000000\\\\\n\t 29 & Ruaca    & 2016-11-21 &  7 & 10 & burntbricks & 2 & yes & frequently & 1 & motorcyle;bicycle;radio;table;mobile\\_phone                                                         & 3 & Jan;Feb                                        & uuid:adcd7463-8943-4c67-b25f-f72311409476 &  3.500000\\\\\n\t 32 & Ruaca    & 2016-11-21 & 19 & 69 & muddaub     & 2 & yes & more\\_once  & 5 & cow\\_cart;motorcyle;radio;cow\\_plough;solar\\_panel;mobile\\_phone                                       & 2 & none                                           & uuid:25597af3-cd79-449c-a48a-fb9aea6c48bf &  9.500000\\\\\n\t 33 & Ruaca    & 2016-11-21 &  8 & 34 & muddaub     & 1 & no  & more\\_once  & 2 & cow\\_cart;lorry;motorcyle;sterio;cow\\_plough;solar\\_panel;mobile\\_phone                                & 2 & none                                           & uuid:0fbd2df1-2640-4550-9fbd-7317feaa4758 &  8.000000\\\\\n\t 34 & Chirodzo & 2016-11-17 &  8 & 18 & burntbricks & 3 & yes & more\\_once  & 3 & television;radio;cow\\_plough;solar\\_panel;solar\\_torch;table;mobile\\_phone                             & 2 & Jan;Dec                                        & uuid:14c78c45-a7cc-4b2a-b765-17c82b43feb4 &  2.666667\\\\\n\t 35 & Chirodzo & 2016-11-17 &  5 & 45 & muddaub     & 1 & yes & more\\_once  & 2 & bicycle;cow\\_plough                                                                                 & 3 & Jan;Sept;Oct;Nov;Dec                           & uuid:ff7496e7-984a-47d3-a8a1-13618b5683ce &  5.000000\\\\\n\t 36 & Chirodzo & 2016-11-17 &  6 & 23 & sunbricks   & 1 & yes & once       & 3 & cow\\_cart;bicycle;radio;cow\\_plough;solar\\_panel;mobile\\_phone                                         & 3 & none                                           & uuid:c90eade0-1148-4a12-8c0e-6387a36f45b1 &  6.000000\\\\\n\t 38 & God      & 2016-11-17 & 10 & 19 & muddaub     & 1 & yes & never      & 3 & bicycle;radio;cow\\_plough;solar\\_panel;table;mobile\\_phone                                            & 3 & Nov                                            & uuid:81309594-ff58-4dc1-83a7-72af5952ee08 & 10.000000\\\\\n\t 40 & God      & 2016-11-17 &  9 & 23 & burntbricks & 1 & yes & never      & 1 & bicycle;radio;cow\\_plough;solar\\_panel;table;mobile\\_phone                                            & 3 & Sept;Oct;Nov                                   & uuid:c0b34854-eede-4e81-b183-ef58a45bfc34 &  9.000000\\\\\n\t 42 & God      & 2016-11-17 &  8 &  8 & sunbricks   & 1 & no  & never      & 3 & mobile\\_phone                                                                                       & 3 & Jan;Nov;Dec                                    & uuid:e3a1dd8a-1bda-428c-a014-2b527f11ae64 &  8.000000\\\\\n\t 43 & Chirodzo & 2016-11-17 &  7 & 29 & muddaub     & 1 & no  & never      & 2 & cow\\_plough;mobile\\_phone                                                                            & 2 & Jan;Feb;Oct;Nov;Dec                            & uuid:b4dff49f-ef27-40e5-a9d1-acf287b47358 &  7.000000\\\\\n\t 45 & Chirodzo & 2016-11-17 &  9 &  7 & muddaub     & 1 & no  & never      & 4 & motorcyle;bicycle;television;radio;cow\\_plough;solar\\_panel;solar\\_torch;table;mobile\\_phone           & 3 & none                                           & uuid:e3554d22-35b1-4fb9-b386-dd5866ad5792 &  9.000000\\\\\n\t 46 & Chirodzo & 2016-11-17 & 10 & 42 & burntbricks & 2 & no  & once       & 2 & motorcyle;computer;television;sterio;solar\\_panel;solar\\_torch;table;mobile\\_phone                    & 2 & Sept;Oct;Nov                                   & uuid:35f297e0-aa5d-4149-9b7b-4965004cfc37 &  5.000000\\\\\n\t 47 & Chirodzo & 2016-11-17 &  2 &  2 & muddaub     & 1 & yes & once       & 1 & solar\\_torch;mobile\\_phone                                                                           & 3 & none                                           & uuid:2d0b1936-4f82-4ec3-a3b5-7c3c8cd6cc2b &  2.000000\\\\\n\t 50 & Chirodzo & 2016-11-16 &  6 &  7 & muddaub     & 1 & yes & never      & 1 & solar\\_torch                                                                                        & 2 & June;July;Aug;Sept;Oct;Nov;Dec                 & uuid:4267c33c-53a7-46d9-8bd6-b96f58a4f92c &  6.000000\\\\\n\t 52 & Chirodzo & 2016-11-16 & 11 & 15 & burntbricks & 3 & no  & never      & 3 & motorcyle;television;radio;cow\\_plough;solar\\_panel;mobile\\_phone                                     & 3 & Aug;Sept;Oct;Nov                               & uuid:6db55cb4-a853-4000-9555-757b7fae2bcf &  3.666667\\\\\n\t 21 & Chirodzo & 2016-11-16 &  8 & 16 & burntbricks & 3 & yes & frequently & 2 & bicycle;radio;mobile\\_phone                                                                         & 2 & Nov                                            & uuid:cc7f75c5-d13e-43f3-97e5-4f4c03cb4b12 &  2.666667\\\\\n\t 54 & Chirodzo & 2016-11-16 &  7 & 15 & muddaub     & 1 & no  & never      & 1 & NA                                                                                                 & 2 & Sept;Oct;Nov                                   & uuid:273ab27f-9be3-4f3b-83c9-d3e1592de919 &  7.000000\\\\\n\t ⋮ & ⋮ & ⋮ & ⋮ & ⋮ & ⋮ & ⋮ & ⋮ & ⋮ & ⋮ & ⋮ & ⋮ & ⋮ & ⋮ & ⋮\\\\\n\t 101 & God      & 2017-04-27 &  3 &  4 & muddaub     & 1 & no  & never      & 1 & bicycle;solar\\_torch                                                                                                   & 3 & Sept;Oct;Nov         & uuid:3c174acd-e431-4523-9ad6-eb14cddca805 &  3.000000\\\\\n\t 103 & Ruaca    & 2017-04-27 &  6 & 96 & sunbricks   & 1 & no  & never      & 5 & cow\\_cart;cow\\_plough;solar\\_panel;sofa\\_set;mobile\\_phone                                                                 & 3 & Jan;Feb;Dec          & uuid:e9d79844-ef14-493b-bbd6-d13691cc660e &  6.000000\\\\\n\t 102 & Ruaca    & 2017-04-28 & 12 & 15 & burntbricks & 2 & yes & frequently & 2 & cow\\_plough;table;sofa\\_set;mobile\\_phone                                                                                & 3 & Jan;Feb              & uuid:76206b0b-af74-4344-b24f-81e839f0d7b0 &  6.000000\\\\\n\t  78 & Ruaca    & 2017-04-28 &  6 & 48 & burntbricks & 1 & no  & more\\_once  & 2 & cow\\_plough                                                                                                            & 2 & Aug;Sept;Oct         & uuid:da3fa7cc-5ce9-44fd-9a78-b8982b607515 &  6.000000\\\\\n\t  80 & Ruaca    & 2017-04-28 &  5 & 12 & muddaub     & 1 & no  & more\\_once  & 1 & cow\\_cart;bicycle;radio;cow\\_plough;solar\\_panel;solar\\_torch                                                             & 3 & none                 & uuid:a85df6df-0336-46fa-a9f4-522bf6f8b438 &  5.000000\\\\\n\t 104 & Ruaca    & 2017-04-28 & 14 & 52 & sunbricks   & 1 & yes & never      & 4 & cow\\_cart;bicycle;cow\\_plough                                                                                           & 3 & Jan;Feb;Dec          & uuid:bb2bb365-7d7d-4fe9-9353-b21269676119 & 14.000000\\\\\n\t 105 & Ruaca    & 2017-04-28 &  6 & 40 & sunbricks   & 1 & yes & frequently & 2 & motorcyle;radio;cow\\_plough;solar\\_panel;mobile\\_phone                                                                   & 3 & Jan;Feb;Dec          & uuid:af0904ee-4fdb-4090-973f-599c81ddf022 &  6.000000\\\\\n\t 106 & God      & 2017-04-30 & 15 & 22 & sunbricks   & 5 & no  & never      & 2 & cow\\_cart;motorcyle;bicycle;radio;sterio;cow\\_plough;solar\\_panel;solar\\_torch;table;mobile\\_phone                         & 3 & Oct;Nov;Dec          & uuid:468797c1-4a65-4f35-9c83-e28ce46972a2 &  3.000000\\\\\n\t 110 & Ruaca    & 2017-05-03 &  6 & 22 & sunbricks   & 3 & no  & never      & 3 & bicycle;radio;cow\\_plough;table;mobile\\_phone                                                                           & 2 & none                 & uuid:e7c51ac4-24e4-475e-88e7-f85e896945e3 &  2.000000\\\\\n\t 113 & Ruaca    & 2017-05-03 & 11 & 26 & burntbricks & 3 & no  & never      & 4 & cow\\_cart;motorcyle;bicycle;radio;cow\\_plough;solar\\_panel;solar\\_torch;table;mobile\\_phone                                & 3 & none                 & uuid:01210861-aba1-4268-98d0-0260e05f5155 &  3.666667\\\\\n\t 125 & Ruaca    & 2017-05-04 &  5 & 14 & burntbricks & 1 & no  & more\\_once  & 2 & bicycle;radio;cow\\_plough;solar\\_panel;solar\\_torch;mobile\\_phone                                                         & 3 & Jan;Sept;Oct;Nov;Dec & uuid:02b05c68-302e-4e7a-b229-81cb1377fd29 &  5.000000\\\\\n\t 119 & Ruaca    & 2017-05-04 &  3 & 14 & muddaub     & 1 & no  & never      & 4 & bicycle;cow\\_plough;solar\\_panel;mobile\\_phone                                                                           & 3 & none                 & uuid:fa201fce-4e94-44b8-b435-c558c2e1ed55 &  3.000000\\\\\n\t 108 & God      & 2017-05-11 & 15 & 22 & burntbricks & 2 & no  & never      & 4 & cow\\_cart;bicycle;radio;cow\\_plough;solar\\_panel;table;mobile\\_phone                                                      & 3 & Aug;Sept;Oct;Nov     & uuid:e4f4d6ba-e698-45a5-947f-ba6da88cc22b &  7.500000\\\\\n\t 144 & Ruaca    & 2017-05-18 &  7 &  5 & burntbricks & 4 & no  & frequently & 4 & cow\\_cart;television;radio;cow\\_plough;solar\\_panel;solar\\_torch;table;mobile\\_phone                                       & 2 & none                 & uuid:0670cef6-d233-4852-89d8-36955261b0a3 &  1.750000\\\\\n\t 143 & Ruaca    & 2017-05-18 & 10 & 24 & burntbricks & 2 & no  & frequently & 3 & cow\\_cart;motorcyle;television;radio;cow\\_plough;solar\\_torch;table;mobile\\_phone                                         & 3 & Jan;Dec              & uuid:9a096a12-b335-468c-b3cc-1191180d62de &  5.000000\\\\\n\t 150 & Ruaca    & 2017-05-18 &  7 &  8 & muddaub     & 1 & no  & never      & 1 & mobile\\_phone                                                                                                          & 3 & Sept;Oct;Nov         & uuid:92613d0d-e7b1-4d62-8ea4-451d7cd0a982 &  7.000000\\\\\n\t 159 & God      & 2017-05-18 &  4 & 24 & sunbricks   & 1 & no  & never      & 1 & radio;solar\\_panel;solar\\_torch                                                                                         & 3 & Sept;Oct;Nov         & uuid:37577f91-d665-443e-8d70-b914954cef4b &  4.000000\\\\\n\t 160 & God      & 2017-06-03 &  7 & 13 & burntbricks & 2 & yes & frequently & 2 & cow\\_cart;cow\\_plough;solar\\_torch;mobile\\_phone                                                                          & 2 & Nov                  & uuid:f22831ec-6bc3-4b73-9197-4b01e01abb66 &  3.500000\\\\\n\t 165 & Ruaca    & 2017-06-03 &  9 & 14 & burntbricks & 1 & no  & never      & 3 & cow\\_cart;motorcyle;bicycle;television;radio;cow\\_plough;solar\\_torch;electricity;table;sofa\\_set;mobile\\_phone;fridge     & 3 & none                 & uuid:62f3f7af-f0f3-4f88-b9e0-acf8baa49ae4 &  9.000000\\\\\n\t 166 & Ruaca    & 2017-06-03 & 11 & 16 & muddaub     & 1 & no  & never      & 1 & bicycle;solar\\_torch;mobile\\_phone                                                                                      & 2 & Feb;Mar              & uuid:40aac732-94df-496c-97ba-5b67f59bcc7a & 11.000000\\\\\n\t 167 & Ruaca    & 2017-06-03 &  8 & 24 & muddaub     & 1 & no  & never      & 3 & motorcyle;radio;cow\\_plough;solar\\_panel;solar\\_torch;table;mobile\\_phone                                                 & 2 & Jan;Nov;Dec          & uuid:a9d1a013-043b-475d-a71b-77ed80abe970 &  8.000000\\\\\n\t 174 & Ruaca    & 2017-06-03 & 12 & 25 & burntbricks & 2 & no  & never      & 3 & car;lorry;motorcyle;radio;sterio;cow\\_plough;solar\\_panel;solar\\_torch;table;sofa\\_set;mobile\\_phone;fridge                & 3 & Jan;Feb;Dec          & uuid:43ec6132-478c-4f87-878d-fb3c0c4d0c74 &  6.000000\\\\\n\t 175 & Ruaca    & 2017-06-03 &  7 & 36 & burntbricks & 1 & no  & never      & 4 & motorcyle;bicycle;radio;sterio;cow\\_plough;solar\\_panel;table;mobile\\_phone                                              & 2 & Jan;Oct;Nov;Dec      & uuid:64fc743e-8176-40f6-8ae4-36ae97fac1d9 &  7.000000\\\\\n\t 189 & Ruaca    & 2017-06-03 & 15 & 16 & sunbricks   & 1 & no  & never      & 3 & motorcyle;radio;sterio;cow\\_plough;solar\\_panel;table;mobile\\_phone                                                      & 3 & Nov                  & uuid:c17e374c-280b-4e78-bf21-74a7c1c73492 & 15.000000\\\\\n\t 191 & Ruaca    & 2017-06-03 & 10 &  5 & burntbricks & 4 & no  & never      & 1 & radio;cow\\_plough;solar\\_panel;solar\\_torch;mobile\\_phone                                                                 & 2 & Oct;Nov;Dec          & uuid:dad53aff-b520-4015-a9e3-f5fdf9168fe1 &  2.500000\\\\\n\t 192 & Chirodzo & 2017-06-03 &  9 & 20 & burntbricks & 1 & no  & once       & 1 & bicycle;television;radio;sterio;solar\\_panel;solar\\_torch;table;mobile\\_phone                                            & 3 & Jan;Nov;Dec          & uuid:f94409a6-e461-4e4c-a6fb-0072d3d58b00 &  9.000000\\\\\n\t 126 & Ruaca    & 2017-05-18 &  3 &  7 & burntbricks & 1 & no  & more\\_once  & 3 & motorcyle;radio;solar\\_panel                                                                                           & 3 & Oct;Nov;Dec          & uuid:69caea81-a4e5-4e8d-83cd-9c18d8e8d965 &  3.000000\\\\\n\t 193 & Ruaca    & 2017-06-04 &  7 & 10 & cement      & 3 & no  & more\\_once  & 3 & car;lorry;television;radio;sterio;cow\\_plough;solar\\_torch;electricity;table;sofa\\_set;mobile\\_phone;fridge               & 3 & none                 & uuid:5ccc2e5a-ea90-48b5-8542-69400d5334df &  2.333333\\\\\n\t 194 & Ruaca    & 2017-06-04 &  4 &  5 & muddaub     & 1 & no  & more\\_once  & 1 & radio;solar\\_panel;solar\\_torch;mobile\\_phone                                                                            & 3 & Sept;Oct;Nov         & uuid:95c11a30-d44f-40c4-8ea8-ec34fca6bbbf &  4.000000\\\\\n\t 199 & Chirodzo & 2017-06-04 &  7 & 17 & burntbricks & 2 & yes & more\\_once  & 2 & cow\\_cart;lorry;motorcyle;computer;television;radio;sterio;cow\\_plough;solar\\_panel;solar\\_torch;electricity;mobile\\_phone & 3 & Nov;Dec              & uuid:ffc83162-ff24-4a87-8709-eff17abc0b3b &  3.500000\\\\\n\\end{tabular}\n",
            "text/plain": [
              "   key_ID village  interview_date no_membrs years_liv respondent_wall_type\n",
              "1   1     God      2016-11-17      7         9        muddaub             \n",
              "2   7     God      2016-11-17      6        38        muddaub             \n",
              "3   8     Chirodzo 2016-11-16     12        70        burntbricks         \n",
              "4   9     Chirodzo 2016-11-16      8         6        burntbricks         \n",
              "5  10     Chirodzo 2016-12-16     12        23        burntbricks         \n",
              "6  12     God      2016-11-21      7        20        burntbricks         \n",
              "7  13     God      2016-11-21      6         8        burntbricks         \n",
              "8  15     God      2016-11-21      5        30        sunbricks           \n",
              "9  21     God      2016-11-21      8        20        burntbricks         \n",
              "10 24     Ruaca    2016-11-21      6         4        burntbricks         \n",
              "11 25     Ruaca    2016-11-21     11         6        burntbricks         \n",
              "12 26     Ruaca    2016-11-21      3        20        burntbricks         \n",
              "13 28     Ruaca    2016-11-21      2         2        muddaub             \n",
              "14 29     Ruaca    2016-11-21      7        10        burntbricks         \n",
              "15 32     Ruaca    2016-11-21     19        69        muddaub             \n",
              "16 33     Ruaca    2016-11-21      8        34        muddaub             \n",
              "17 34     Chirodzo 2016-11-17      8        18        burntbricks         \n",
              "18 35     Chirodzo 2016-11-17      5        45        muddaub             \n",
              "19 36     Chirodzo 2016-11-17      6        23        sunbricks           \n",
              "20 38     God      2016-11-17     10        19        muddaub             \n",
              "21 40     God      2016-11-17      9        23        burntbricks         \n",
              "22 42     God      2016-11-17      8         8        sunbricks           \n",
              "23 43     Chirodzo 2016-11-17      7        29        muddaub             \n",
              "24 45     Chirodzo 2016-11-17      9         7        muddaub             \n",
              "25 46     Chirodzo 2016-11-17     10        42        burntbricks         \n",
              "26 47     Chirodzo 2016-11-17      2         2        muddaub             \n",
              "27 50     Chirodzo 2016-11-16      6         7        muddaub             \n",
              "28 52     Chirodzo 2016-11-16     11        15        burntbricks         \n",
              "29 21     Chirodzo 2016-11-16      8        16        burntbricks         \n",
              "30 54     Chirodzo 2016-11-16      7        15        muddaub             \n",
              "⋮  ⋮      ⋮        ⋮              ⋮         ⋮         ⋮                   \n",
              "63 101    God      2017-04-27      3         4        muddaub             \n",
              "64 103    Ruaca    2017-04-27      6        96        sunbricks           \n",
              "65 102    Ruaca    2017-04-28     12        15        burntbricks         \n",
              "66  78    Ruaca    2017-04-28      6        48        burntbricks         \n",
              "67  80    Ruaca    2017-04-28      5        12        muddaub             \n",
              "68 104    Ruaca    2017-04-28     14        52        sunbricks           \n",
              "69 105    Ruaca    2017-04-28      6        40        sunbricks           \n",
              "70 106    God      2017-04-30     15        22        sunbricks           \n",
              "71 110    Ruaca    2017-05-03      6        22        sunbricks           \n",
              "72 113    Ruaca    2017-05-03     11        26        burntbricks         \n",
              "73 125    Ruaca    2017-05-04      5        14        burntbricks         \n",
              "74 119    Ruaca    2017-05-04      3        14        muddaub             \n",
              "75 108    God      2017-05-11     15        22        burntbricks         \n",
              "76 144    Ruaca    2017-05-18      7         5        burntbricks         \n",
              "77 143    Ruaca    2017-05-18     10        24        burntbricks         \n",
              "78 150    Ruaca    2017-05-18      7         8        muddaub             \n",
              "79 159    God      2017-05-18      4        24        sunbricks           \n",
              "80 160    God      2017-06-03      7        13        burntbricks         \n",
              "81 165    Ruaca    2017-06-03      9        14        burntbricks         \n",
              "82 166    Ruaca    2017-06-03     11        16        muddaub             \n",
              "83 167    Ruaca    2017-06-03      8        24        muddaub             \n",
              "84 174    Ruaca    2017-06-03     12        25        burntbricks         \n",
              "85 175    Ruaca    2017-06-03      7        36        burntbricks         \n",
              "86 189    Ruaca    2017-06-03     15        16        sunbricks           \n",
              "87 191    Ruaca    2017-06-03     10         5        burntbricks         \n",
              "88 192    Chirodzo 2017-06-03      9        20        burntbricks         \n",
              "89 126    Ruaca    2017-05-18      3         7        burntbricks         \n",
              "90 193    Ruaca    2017-06-04      7        10        cement              \n",
              "91 194    Ruaca    2017-06-04      4         5        muddaub             \n",
              "92 199    Chirodzo 2017-06-04      7        17        burntbricks         \n",
              "   rooms memb_assoc affect_conflicts liv_count\n",
              "1  1     yes        once             3        \n",
              "2  1     no         never            1        \n",
              "3  3     yes        never            2        \n",
              "4  1     no         never            3        \n",
              "5  5     no         never            2        \n",
              "6  3     yes        never            2        \n",
              "7  1     no         never            3        \n",
              "8  2     yes        once             3        \n",
              "9  1     no         never            3        \n",
              "10 2     no         never            3        \n",
              "11 3     no         never            2        \n",
              "12 2     no         never            2        \n",
              "13 1     no         more_once        1        \n",
              "14 2     yes        frequently       1        \n",
              "15 2     yes        more_once        5        \n",
              "16 1     no         more_once        2        \n",
              "17 3     yes        more_once        3        \n",
              "18 1     yes        more_once        2        \n",
              "19 1     yes        once             3        \n",
              "20 1     yes        never            3        \n",
              "21 1     yes        never            1        \n",
              "22 1     no         never            3        \n",
              "23 1     no         never            2        \n",
              "24 1     no         never            4        \n",
              "25 2     no         once             2        \n",
              "26 1     yes        once             1        \n",
              "27 1     yes        never            1        \n",
              "28 3     no         never            3        \n",
              "29 3     yes        frequently       2        \n",
              "30 1     no         never            1        \n",
              "⋮  ⋮     ⋮          ⋮                ⋮        \n",
              "63 1     no         never            1        \n",
              "64 1     no         never            5        \n",
              "65 2     yes        frequently       2        \n",
              "66 1     no         more_once        2        \n",
              "67 1     no         more_once        1        \n",
              "68 1     yes        never            4        \n",
              "69 1     yes        frequently       2        \n",
              "70 5     no         never            2        \n",
              "71 3     no         never            3        \n",
              "72 3     no         never            4        \n",
              "73 1     no         more_once        2        \n",
              "74 1     no         never            4        \n",
              "75 2     no         never            4        \n",
              "76 4     no         frequently       4        \n",
              "77 2     no         frequently       3        \n",
              "78 1     no         never            1        \n",
              "79 1     no         never            1        \n",
              "80 2     yes        frequently       2        \n",
              "81 1     no         never            3        \n",
              "82 1     no         never            1        \n",
              "83 1     no         never            3        \n",
              "84 2     no         never            3        \n",
              "85 1     no         never            4        \n",
              "86 1     no         never            3        \n",
              "87 4     no         never            1        \n",
              "88 1     no         once             1        \n",
              "89 1     no         more_once        3        \n",
              "90 3     no         more_once        3        \n",
              "91 1     no         more_once        1        \n",
              "92 2     yes        more_once        2        \n",
              "   items_owned                                                                                                          \n",
              "1  cow_cart;bicycle;radio;cow_plough;solar_panel;solar_torch;table;mobile_phone                                         \n",
              "2  motorcyle;cow_plough                                                                                                 \n",
              "3  motorcyle;bicycle;television;radio;cow_plough;solar_panel;solar_torch;table;fridge                                   \n",
              "4  television;solar_panel;solar_torch                                                                                   \n",
              "5  cow_cart;motorcyle;bicycle;television;radio;cow_plough;solar_panel;solar_torch;table                                 \n",
              "6  cow_cart;bicycle;radio;cow_plough;table                                                                              \n",
              "7  bicycle;radio;cow_plough;mobile_phone                                                                                \n",
              "8  bicycle;radio;cow_plough;solar_panel;table                                                                           \n",
              "9  NA                                                                                                                   \n",
              "10 radio;table;sofa_set;mobile_phone                                                                                    \n",
              "11 cow_cart;motorcyle;television;radio;cow_plough;solar_panel;solar_torch;table;sofa_set;mobile_phone                   \n",
              "12 radio;cow_plough;table;mobile_phone                                                                                  \n",
              "13 NA                                                                                                                   \n",
              "14 motorcyle;bicycle;radio;table;mobile_phone                                                                           \n",
              "15 cow_cart;motorcyle;radio;cow_plough;solar_panel;mobile_phone                                                         \n",
              "16 cow_cart;lorry;motorcyle;sterio;cow_plough;solar_panel;mobile_phone                                                  \n",
              "17 television;radio;cow_plough;solar_panel;solar_torch;table;mobile_phone                                               \n",
              "18 bicycle;cow_plough                                                                                                   \n",
              "19 cow_cart;bicycle;radio;cow_plough;solar_panel;mobile_phone                                                           \n",
              "20 bicycle;radio;cow_plough;solar_panel;table;mobile_phone                                                              \n",
              "21 bicycle;radio;cow_plough;solar_panel;table;mobile_phone                                                              \n",
              "22 mobile_phone                                                                                                         \n",
              "23 cow_plough;mobile_phone                                                                                              \n",
              "24 motorcyle;bicycle;television;radio;cow_plough;solar_panel;solar_torch;table;mobile_phone                             \n",
              "25 motorcyle;computer;television;sterio;solar_panel;solar_torch;table;mobile_phone                                      \n",
              "26 solar_torch;mobile_phone                                                                                             \n",
              "27 solar_torch                                                                                                          \n",
              "28 motorcyle;television;radio;cow_plough;solar_panel;mobile_phone                                                       \n",
              "29 bicycle;radio;mobile_phone                                                                                           \n",
              "30 NA                                                                                                                   \n",
              "⋮  ⋮                                                                                                                    \n",
              "63 bicycle;solar_torch                                                                                                  \n",
              "64 cow_cart;cow_plough;solar_panel;sofa_set;mobile_phone                                                                \n",
              "65 cow_plough;table;sofa_set;mobile_phone                                                                               \n",
              "66 cow_plough                                                                                                           \n",
              "67 cow_cart;bicycle;radio;cow_plough;solar_panel;solar_torch                                                            \n",
              "68 cow_cart;bicycle;cow_plough                                                                                          \n",
              "69 motorcyle;radio;cow_plough;solar_panel;mobile_phone                                                                  \n",
              "70 cow_cart;motorcyle;bicycle;radio;sterio;cow_plough;solar_panel;solar_torch;table;mobile_phone                        \n",
              "71 bicycle;radio;cow_plough;table;mobile_phone                                                                          \n",
              "72 cow_cart;motorcyle;bicycle;radio;cow_plough;solar_panel;solar_torch;table;mobile_phone                               \n",
              "73 bicycle;radio;cow_plough;solar_panel;solar_torch;mobile_phone                                                        \n",
              "74 bicycle;cow_plough;solar_panel;mobile_phone                                                                          \n",
              "75 cow_cart;bicycle;radio;cow_plough;solar_panel;table;mobile_phone                                                     \n",
              "76 cow_cart;television;radio;cow_plough;solar_panel;solar_torch;table;mobile_phone                                      \n",
              "77 cow_cart;motorcyle;television;radio;cow_plough;solar_torch;table;mobile_phone                                        \n",
              "78 mobile_phone                                                                                                         \n",
              "79 radio;solar_panel;solar_torch                                                                                        \n",
              "80 cow_cart;cow_plough;solar_torch;mobile_phone                                                                         \n",
              "81 cow_cart;motorcyle;bicycle;television;radio;cow_plough;solar_torch;electricity;table;sofa_set;mobile_phone;fridge    \n",
              "82 bicycle;solar_torch;mobile_phone                                                                                     \n",
              "83 motorcyle;radio;cow_plough;solar_panel;solar_torch;table;mobile_phone                                                \n",
              "84 car;lorry;motorcyle;radio;sterio;cow_plough;solar_panel;solar_torch;table;sofa_set;mobile_phone;fridge               \n",
              "85 motorcyle;bicycle;radio;sterio;cow_plough;solar_panel;table;mobile_phone                                             \n",
              "86 motorcyle;radio;sterio;cow_plough;solar_panel;table;mobile_phone                                                     \n",
              "87 radio;cow_plough;solar_panel;solar_torch;mobile_phone                                                                \n",
              "88 bicycle;television;radio;sterio;solar_panel;solar_torch;table;mobile_phone                                           \n",
              "89 motorcyle;radio;solar_panel                                                                                          \n",
              "90 car;lorry;television;radio;sterio;cow_plough;solar_torch;electricity;table;sofa_set;mobile_phone;fridge              \n",
              "91 radio;solar_panel;solar_torch;mobile_phone                                                                           \n",
              "92 cow_cart;lorry;motorcyle;computer;television;radio;sterio;cow_plough;solar_panel;solar_torch;electricity;mobile_phone\n",
              "   no_meals months_lack_food                              \n",
              "1  2        Jan;Sept;Oct;Nov;Dec                          \n",
              "2  3        Nov                                           \n",
              "3  2        Jan                                           \n",
              "4  3        Jan;Dec                                       \n",
              "5  3        Jan;Oct;Nov;Dec                               \n",
              "6  3        Sept;Oct                                      \n",
              "7  2        Sept;Oct;Nov                                  \n",
              "8  2        Jan;Feb;Mar;Apr;May;June;July;Aug;Sept;Oct;Nov\n",
              "9  2        Jan;Feb;Mar;Oct;Nov;Dec                       \n",
              "10 2        Nov;Dec                                       \n",
              "11 2        Jan;Feb;Oct                                   \n",
              "12 2        none                                          \n",
              "13 3        Aug;Sept;Oct                                  \n",
              "14 3        Jan;Feb                                       \n",
              "15 2        none                                          \n",
              "16 2        none                                          \n",
              "17 2        Jan;Dec                                       \n",
              "18 3        Jan;Sept;Oct;Nov;Dec                          \n",
              "19 3        none                                          \n",
              "20 3        Nov                                           \n",
              "21 3        Sept;Oct;Nov                                  \n",
              "22 3        Jan;Nov;Dec                                   \n",
              "23 2        Jan;Feb;Oct;Nov;Dec                           \n",
              "24 3        none                                          \n",
              "25 2        Sept;Oct;Nov                                  \n",
              "26 3        none                                          \n",
              "27 2        June;July;Aug;Sept;Oct;Nov;Dec                \n",
              "28 3        Aug;Sept;Oct;Nov                              \n",
              "29 2        Nov                                           \n",
              "30 2        Sept;Oct;Nov                                  \n",
              "⋮  ⋮        ⋮                                             \n",
              "63 3        Sept;Oct;Nov                                  \n",
              "64 3        Jan;Feb;Dec                                   \n",
              "65 3        Jan;Feb                                       \n",
              "66 2        Aug;Sept;Oct                                  \n",
              "67 3        none                                          \n",
              "68 3        Jan;Feb;Dec                                   \n",
              "69 3        Jan;Feb;Dec                                   \n",
              "70 3        Oct;Nov;Dec                                   \n",
              "71 2        none                                          \n",
              "72 3        none                                          \n",
              "73 3        Jan;Sept;Oct;Nov;Dec                          \n",
              "74 3        none                                          \n",
              "75 3        Aug;Sept;Oct;Nov                              \n",
              "76 2        none                                          \n",
              "77 3        Jan;Dec                                       \n",
              "78 3        Sept;Oct;Nov                                  \n",
              "79 3        Sept;Oct;Nov                                  \n",
              "80 2        Nov                                           \n",
              "81 3        none                                          \n",
              "82 2        Feb;Mar                                       \n",
              "83 2        Jan;Nov;Dec                                   \n",
              "84 3        Jan;Feb;Dec                                   \n",
              "85 2        Jan;Oct;Nov;Dec                               \n",
              "86 3        Nov                                           \n",
              "87 2        Oct;Nov;Dec                                   \n",
              "88 3        Jan;Nov;Dec                                   \n",
              "89 3        Oct;Nov;Dec                                   \n",
              "90 3        none                                          \n",
              "91 3        Sept;Oct;Nov                                  \n",
              "92 3        Nov;Dec                                       \n",
              "   instanceID                                people_per_room\n",
              "1  uuid:099de9c9-3e5e-427b-8452-26250e840d6e  7.000000      \n",
              "2  uuid:ae20a58d-56f4-43d7-bafa-e7963d850844  6.000000      \n",
              "3  uuid:d6cee930-7be1-4fd9-88c0-82a08f90fb5a  4.000000      \n",
              "4  uuid:846103d2-b1db-4055-b502-9cd510bb7b37  8.000000      \n",
              "5  uuid:8f4e49bc-da81-4356-ae34-e0d794a23721  2.400000      \n",
              "6  uuid:e6ee6269-b467-4e37-91fc-5e9eaf934557  2.333333      \n",
              "7  uuid:6c00c145-ee3b-409c-8c02-2c8d743b6918  6.000000      \n",
              "8  uuid:a837e545-ff86-4a1c-a1a5-6186804b985f  2.500000      \n",
              "9  uuid:6570a7d0-6a0b-452c-aa2e-922500e35749  8.000000      \n",
              "10 uuid:661457d3-7e61-45e8-a238-7415e7548f82  3.000000      \n",
              "11 uuid:45ed84c4-114e-4df0-9f5d-c800806c2bee  3.666667      \n",
              "12 uuid:1c54ee24-22c4-4ee9-b1ad-42d483c08e2e  1.500000      \n",
              "13 uuid:1de53318-a8cf-4736-99b1-8239f8822473  2.000000      \n",
              "14 uuid:adcd7463-8943-4c67-b25f-f72311409476  3.500000      \n",
              "15 uuid:25597af3-cd79-449c-a48a-fb9aea6c48bf  9.500000      \n",
              "16 uuid:0fbd2df1-2640-4550-9fbd-7317feaa4758  8.000000      \n",
              "17 uuid:14c78c45-a7cc-4b2a-b765-17c82b43feb4  2.666667      \n",
              "18 uuid:ff7496e7-984a-47d3-a8a1-13618b5683ce  5.000000      \n",
              "19 uuid:c90eade0-1148-4a12-8c0e-6387a36f45b1  6.000000      \n",
              "20 uuid:81309594-ff58-4dc1-83a7-72af5952ee08 10.000000      \n",
              "21 uuid:c0b34854-eede-4e81-b183-ef58a45bfc34  9.000000      \n",
              "22 uuid:e3a1dd8a-1bda-428c-a014-2b527f11ae64  8.000000      \n",
              "23 uuid:b4dff49f-ef27-40e5-a9d1-acf287b47358  7.000000      \n",
              "24 uuid:e3554d22-35b1-4fb9-b386-dd5866ad5792  9.000000      \n",
              "25 uuid:35f297e0-aa5d-4149-9b7b-4965004cfc37  5.000000      \n",
              "26 uuid:2d0b1936-4f82-4ec3-a3b5-7c3c8cd6cc2b  2.000000      \n",
              "27 uuid:4267c33c-53a7-46d9-8bd6-b96f58a4f92c  6.000000      \n",
              "28 uuid:6db55cb4-a853-4000-9555-757b7fae2bcf  3.666667      \n",
              "29 uuid:cc7f75c5-d13e-43f3-97e5-4f4c03cb4b12  2.666667      \n",
              "30 uuid:273ab27f-9be3-4f3b-83c9-d3e1592de919  7.000000      \n",
              "⋮  ⋮                                         ⋮              \n",
              "63 uuid:3c174acd-e431-4523-9ad6-eb14cddca805  3.000000      \n",
              "64 uuid:e9d79844-ef14-493b-bbd6-d13691cc660e  6.000000      \n",
              "65 uuid:76206b0b-af74-4344-b24f-81e839f0d7b0  6.000000      \n",
              "66 uuid:da3fa7cc-5ce9-44fd-9a78-b8982b607515  6.000000      \n",
              "67 uuid:a85df6df-0336-46fa-a9f4-522bf6f8b438  5.000000      \n",
              "68 uuid:bb2bb365-7d7d-4fe9-9353-b21269676119 14.000000      \n",
              "69 uuid:af0904ee-4fdb-4090-973f-599c81ddf022  6.000000      \n",
              "70 uuid:468797c1-4a65-4f35-9c83-e28ce46972a2  3.000000      \n",
              "71 uuid:e7c51ac4-24e4-475e-88e7-f85e896945e3  2.000000      \n",
              "72 uuid:01210861-aba1-4268-98d0-0260e05f5155  3.666667      \n",
              "73 uuid:02b05c68-302e-4e7a-b229-81cb1377fd29  5.000000      \n",
              "74 uuid:fa201fce-4e94-44b8-b435-c558c2e1ed55  3.000000      \n",
              "75 uuid:e4f4d6ba-e698-45a5-947f-ba6da88cc22b  7.500000      \n",
              "76 uuid:0670cef6-d233-4852-89d8-36955261b0a3  1.750000      \n",
              "77 uuid:9a096a12-b335-468c-b3cc-1191180d62de  5.000000      \n",
              "78 uuid:92613d0d-e7b1-4d62-8ea4-451d7cd0a982  7.000000      \n",
              "79 uuid:37577f91-d665-443e-8d70-b914954cef4b  4.000000      \n",
              "80 uuid:f22831ec-6bc3-4b73-9197-4b01e01abb66  3.500000      \n",
              "81 uuid:62f3f7af-f0f3-4f88-b9e0-acf8baa49ae4  9.000000      \n",
              "82 uuid:40aac732-94df-496c-97ba-5b67f59bcc7a 11.000000      \n",
              "83 uuid:a9d1a013-043b-475d-a71b-77ed80abe970  8.000000      \n",
              "84 uuid:43ec6132-478c-4f87-878d-fb3c0c4d0c74  6.000000      \n",
              "85 uuid:64fc743e-8176-40f6-8ae4-36ae97fac1d9  7.000000      \n",
              "86 uuid:c17e374c-280b-4e78-bf21-74a7c1c73492 15.000000      \n",
              "87 uuid:dad53aff-b520-4015-a9e3-f5fdf9168fe1  2.500000      \n",
              "88 uuid:f94409a6-e461-4e4c-a6fb-0072d3d58b00  9.000000      \n",
              "89 uuid:69caea81-a4e5-4e8d-83cd-9c18d8e8d965  3.000000      \n",
              "90 uuid:5ccc2e5a-ea90-48b5-8542-69400d5334df  2.333333      \n",
              "91 uuid:95c11a30-d44f-40c4-8ea8-ec34fca6bbbf  4.000000      \n",
              "92 uuid:ffc83162-ff24-4a87-8709-eff17abc0b3b  3.500000      "
            ]
          },
          "metadata": {}
        }
      ]
    },
    {
      "cell_type": "code",
      "source": [],
      "metadata": {
        "id": "XDBTiYUd7qJs"
      },
      "execution_count": null,
      "outputs": []
    },
    {
      "cell_type": "markdown",
      "source": [
        "Create a new dataframe from the `interviews` data that meets the following criteria: contains only the village column and a new column called `total_meals` containing a value that is equal to the total number of meals served in the household per day on average (no_membrs times no_meals). Only the rows where `total_meals` is greater than 20 should be shown in the final dataframe.\n",
        "\n",
        "Hint: think about how the commands should be ordered to produce this data frame!"
      ],
      "metadata": {
        "id": "4UYW6D2h7uGG"
      }
    },
    {
      "cell_type": "code",
      "source": [
        "interviews %>%\n",
        "  mutate(total_meals = no_membrs * no_meals) %>%\n",
        "  filter(total_meals > 20) %>%\n",
        "  select(village, total_meals)\n"
      ],
      "metadata": {
        "colab": {
          "base_uri": "https://localhost:8080/",
          "height": 1000
        },
        "id": "8dnEQet97ztz",
        "outputId": "03e91caf-41c7-45ca-ce15-955df5d8f3cc"
      },
      "execution_count": null,
      "outputs": [
        {
          "output_type": "display_data",
          "data": {
            "text/html": [
              "<table class=\"dataframe\">\n",
              "<caption>A tibble: 50 × 2</caption>\n",
              "<thead>\n",
              "\t<tr><th scope=col>village</th><th scope=col>total_meals</th></tr>\n",
              "\t<tr><th scope=col>&lt;chr&gt;</th><th scope=col>&lt;dbl&gt;</th></tr>\n",
              "</thead>\n",
              "<tbody>\n",
              "\t<tr><td>Chirodzo</td><td>24</td></tr>\n",
              "\t<tr><td>Chirodzo</td><td>24</td></tr>\n",
              "\t<tr><td>Chirodzo</td><td>36</td></tr>\n",
              "\t<tr><td>God     </td><td>21</td></tr>\n",
              "\t<tr><td>God     </td><td>30</td></tr>\n",
              "\t<tr><td>God     </td><td>27</td></tr>\n",
              "\t<tr><td>Ruaca   </td><td>30</td></tr>\n",
              "\t<tr><td>Ruaca   </td><td>22</td></tr>\n",
              "\t<tr><td>Ruaca   </td><td>21</td></tr>\n",
              "\t<tr><td>Ruaca   </td><td>21</td></tr>\n",
              "\t<tr><td>Ruaca   </td><td>38</td></tr>\n",
              "\t<tr><td>God     </td><td>30</td></tr>\n",
              "\t<tr><td>God     </td><td>27</td></tr>\n",
              "\t<tr><td>God     </td><td>21</td></tr>\n",
              "\t<tr><td>God     </td><td>24</td></tr>\n",
              "\t<tr><td>Chirodzo</td><td>27</td></tr>\n",
              "\t<tr><td>Chirodzo</td><td>21</td></tr>\n",
              "\t<tr><td>Chirodzo</td><td>33</td></tr>\n",
              "\t<tr><td>Chirodzo</td><td>36</td></tr>\n",
              "\t<tr><td>Chirodzo</td><td>22</td></tr>\n",
              "\t<tr><td>Chirodzo</td><td>30</td></tr>\n",
              "\t<tr><td>Chirodzo</td><td>24</td></tr>\n",
              "\t<tr><td>Chirodzo</td><td>30</td></tr>\n",
              "\t<tr><td>Chirodzo</td><td>24</td></tr>\n",
              "\t<tr><td>Ruaca   </td><td>30</td></tr>\n",
              "\t<tr><td>God     </td><td>30</td></tr>\n",
              "\t<tr><td>Ruaca   </td><td>21</td></tr>\n",
              "\t<tr><td>God     </td><td>33</td></tr>\n",
              "\t<tr><td>God     </td><td>21</td></tr>\n",
              "\t<tr><td>God     </td><td>21</td></tr>\n",
              "\t<tr><td>God     </td><td>21</td></tr>\n",
              "\t<tr><td>God     </td><td>36</td></tr>\n",
              "\t<tr><td>Ruaca   </td><td>21</td></tr>\n",
              "\t<tr><td>Ruaca   </td><td>51</td></tr>\n",
              "\t<tr><td>Ruaca   </td><td>36</td></tr>\n",
              "\t<tr><td>Ruaca   </td><td>42</td></tr>\n",
              "\t<tr><td>God     </td><td>45</td></tr>\n",
              "\t<tr><td>Ruaca   </td><td>33</td></tr>\n",
              "\t<tr><td>God     </td><td>45</td></tr>\n",
              "\t<tr><td>Ruaca   </td><td>30</td></tr>\n",
              "\t<tr><td>Ruaca   </td><td>30</td></tr>\n",
              "\t<tr><td>Ruaca   </td><td>21</td></tr>\n",
              "\t<tr><td>Ruaca   </td><td>27</td></tr>\n",
              "\t<tr><td>Ruaca   </td><td>22</td></tr>\n",
              "\t<tr><td>Ruaca   </td><td>36</td></tr>\n",
              "\t<tr><td>Ruaca   </td><td>45</td></tr>\n",
              "\t<tr><td>Chirodzo</td><td>27</td></tr>\n",
              "\t<tr><td>Ruaca   </td><td>21</td></tr>\n",
              "\t<tr><td>Chirodzo</td><td>21</td></tr>\n",
              "\t<tr><td>Chirodzo</td><td>24</td></tr>\n",
              "</tbody>\n",
              "</table>\n"
            ],
            "text/markdown": "\nA tibble: 50 × 2\n\n| village &lt;chr&gt; | total_meals &lt;dbl&gt; |\n|---|---|\n| Chirodzo | 24 |\n| Chirodzo | 24 |\n| Chirodzo | 36 |\n| God      | 21 |\n| God      | 30 |\n| God      | 27 |\n| Ruaca    | 30 |\n| Ruaca    | 22 |\n| Ruaca    | 21 |\n| Ruaca    | 21 |\n| Ruaca    | 38 |\n| God      | 30 |\n| God      | 27 |\n| God      | 21 |\n| God      | 24 |\n| Chirodzo | 27 |\n| Chirodzo | 21 |\n| Chirodzo | 33 |\n| Chirodzo | 36 |\n| Chirodzo | 22 |\n| Chirodzo | 30 |\n| Chirodzo | 24 |\n| Chirodzo | 30 |\n| Chirodzo | 24 |\n| Ruaca    | 30 |\n| God      | 30 |\n| Ruaca    | 21 |\n| God      | 33 |\n| God      | 21 |\n| God      | 21 |\n| God      | 21 |\n| God      | 36 |\n| Ruaca    | 21 |\n| Ruaca    | 51 |\n| Ruaca    | 36 |\n| Ruaca    | 42 |\n| God      | 45 |\n| Ruaca    | 33 |\n| God      | 45 |\n| Ruaca    | 30 |\n| Ruaca    | 30 |\n| Ruaca    | 21 |\n| Ruaca    | 27 |\n| Ruaca    | 22 |\n| Ruaca    | 36 |\n| Ruaca    | 45 |\n| Chirodzo | 27 |\n| Ruaca    | 21 |\n| Chirodzo | 21 |\n| Chirodzo | 24 |\n\n",
            "text/latex": "A tibble: 50 × 2\n\\begin{tabular}{ll}\n village & total\\_meals\\\\\n <chr> & <dbl>\\\\\n\\hline\n\t Chirodzo & 24\\\\\n\t Chirodzo & 24\\\\\n\t Chirodzo & 36\\\\\n\t God      & 21\\\\\n\t God      & 30\\\\\n\t God      & 27\\\\\n\t Ruaca    & 30\\\\\n\t Ruaca    & 22\\\\\n\t Ruaca    & 21\\\\\n\t Ruaca    & 21\\\\\n\t Ruaca    & 38\\\\\n\t God      & 30\\\\\n\t God      & 27\\\\\n\t God      & 21\\\\\n\t God      & 24\\\\\n\t Chirodzo & 27\\\\\n\t Chirodzo & 21\\\\\n\t Chirodzo & 33\\\\\n\t Chirodzo & 36\\\\\n\t Chirodzo & 22\\\\\n\t Chirodzo & 30\\\\\n\t Chirodzo & 24\\\\\n\t Chirodzo & 30\\\\\n\t Chirodzo & 24\\\\\n\t Ruaca    & 30\\\\\n\t God      & 30\\\\\n\t Ruaca    & 21\\\\\n\t God      & 33\\\\\n\t God      & 21\\\\\n\t God      & 21\\\\\n\t God      & 21\\\\\n\t God      & 36\\\\\n\t Ruaca    & 21\\\\\n\t Ruaca    & 51\\\\\n\t Ruaca    & 36\\\\\n\t Ruaca    & 42\\\\\n\t God      & 45\\\\\n\t Ruaca    & 33\\\\\n\t God      & 45\\\\\n\t Ruaca    & 30\\\\\n\t Ruaca    & 30\\\\\n\t Ruaca    & 21\\\\\n\t Ruaca    & 27\\\\\n\t Ruaca    & 22\\\\\n\t Ruaca    & 36\\\\\n\t Ruaca    & 45\\\\\n\t Chirodzo & 27\\\\\n\t Ruaca    & 21\\\\\n\t Chirodzo & 21\\\\\n\t Chirodzo & 24\\\\\n\\end{tabular}\n",
            "text/plain": [
              "   village  total_meals\n",
              "1  Chirodzo 24         \n",
              "2  Chirodzo 24         \n",
              "3  Chirodzo 36         \n",
              "4  God      21         \n",
              "5  God      30         \n",
              "6  God      27         \n",
              "7  Ruaca    30         \n",
              "8  Ruaca    22         \n",
              "9  Ruaca    21         \n",
              "10 Ruaca    21         \n",
              "11 Ruaca    38         \n",
              "12 God      30         \n",
              "13 God      27         \n",
              "14 God      21         \n",
              "15 God      24         \n",
              "16 Chirodzo 27         \n",
              "17 Chirodzo 21         \n",
              "18 Chirodzo 33         \n",
              "19 Chirodzo 36         \n",
              "20 Chirodzo 22         \n",
              "21 Chirodzo 30         \n",
              "22 Chirodzo 24         \n",
              "23 Chirodzo 30         \n",
              "24 Chirodzo 24         \n",
              "25 Ruaca    30         \n",
              "26 God      30         \n",
              "27 Ruaca    21         \n",
              "28 God      33         \n",
              "29 God      21         \n",
              "30 God      21         \n",
              "31 God      21         \n",
              "32 God      36         \n",
              "33 Ruaca    21         \n",
              "34 Ruaca    51         \n",
              "35 Ruaca    36         \n",
              "36 Ruaca    42         \n",
              "37 God      45         \n",
              "38 Ruaca    33         \n",
              "39 God      45         \n",
              "40 Ruaca    30         \n",
              "41 Ruaca    30         \n",
              "42 Ruaca    21         \n",
              "43 Ruaca    27         \n",
              "44 Ruaca    22         \n",
              "45 Ruaca    36         \n",
              "46 Ruaca    45         \n",
              "47 Chirodzo 27         \n",
              "48 Ruaca    21         \n",
              "49 Chirodzo 21         \n",
              "50 Chirodzo 24         "
            ]
          },
          "metadata": {}
        }
      ]
    },
    {
      "cell_type": "code",
      "source": [],
      "metadata": {
        "id": "ehjnz3xz7_s-"
      },
      "execution_count": null,
      "outputs": []
    },
    {
      "cell_type": "code",
      "source": [],
      "metadata": {
        "id": "NeTYg74m7_p2"
      },
      "execution_count": null,
      "outputs": []
    },
    {
      "cell_type": "markdown",
      "source": [
        "#### `summarize`"
      ],
      "metadata": {
        "id": "UpLshQsA8ALe"
      }
    },
    {
      "cell_type": "code",
      "source": [
        "interviews %>%\n",
        "  group_by(village) %>%\n",
        "  summarise(mean_no_members = mean(no_membrs))"
      ],
      "metadata": {
        "colab": {
          "base_uri": "https://localhost:8080/",
          "height": 192
        },
        "id": "AbpmT0OM8CXm",
        "outputId": "7c427b42-3648-4a7b-d00d-08b3db8d7ba0"
      },
      "execution_count": null,
      "outputs": [
        {
          "output_type": "display_data",
          "data": {
            "text/html": [
              "<table class=\"dataframe\">\n",
              "<caption>A tibble: 3 × 2</caption>\n",
              "<thead>\n",
              "\t<tr><th scope=col>village</th><th scope=col>mean_no_members</th></tr>\n",
              "\t<tr><th scope=col>&lt;chr&gt;</th><th scope=col>&lt;dbl&gt;</th></tr>\n",
              "</thead>\n",
              "<tbody>\n",
              "\t<tr><td>Chirodzo</td><td>7.076923</td></tr>\n",
              "\t<tr><td>God     </td><td>6.860465</td></tr>\n",
              "\t<tr><td>Ruaca   </td><td>7.571429</td></tr>\n",
              "</tbody>\n",
              "</table>\n"
            ],
            "text/markdown": "\nA tibble: 3 × 2\n\n| village &lt;chr&gt; | mean_no_members &lt;dbl&gt; |\n|---|---|\n| Chirodzo | 7.076923 |\n| God      | 6.860465 |\n| Ruaca    | 7.571429 |\n\n",
            "text/latex": "A tibble: 3 × 2\n\\begin{tabular}{ll}\n village & mean\\_no\\_members\\\\\n <chr> & <dbl>\\\\\n\\hline\n\t Chirodzo & 7.076923\\\\\n\t God      & 6.860465\\\\\n\t Ruaca    & 7.571429\\\\\n\\end{tabular}\n",
            "text/plain": [
              "  village  mean_no_members\n",
              "1 Chirodzo 7.076923       \n",
              "2 God      6.860465       \n",
              "3 Ruaca    7.571429       "
            ]
          },
          "metadata": {}
        }
      ]
    },
    {
      "cell_type": "code",
      "source": [
        "interviews %>%\n",
        "  group_by(village, memb_assoc) %>%\n",
        "  summarise(mean_no_members = mean(no_membrs), min_no_members = min(no_membrs))"
      ],
      "metadata": {
        "colab": {
          "base_uri": "https://localhost:8080/",
          "height": 416
        },
        "id": "0qptVzQL8CUN",
        "outputId": "f1214b8b-4aa6-4512-8aa1-23945171f5f7"
      },
      "execution_count": null,
      "outputs": [
        {
          "output_type": "stream",
          "name": "stderr",
          "text": [
            "\u001b[1m\u001b[22m`summarise()` has grouped output by 'village'. You can override using the\n",
            "`.groups` argument.\n"
          ]
        },
        {
          "output_type": "display_data",
          "data": {
            "text/html": [
              "<table class=\"dataframe\">\n",
              "<caption>A grouped_df: 9 × 4</caption>\n",
              "<thead>\n",
              "\t<tr><th scope=col>village</th><th scope=col>memb_assoc</th><th scope=col>mean_no_members</th><th scope=col>min_no_members</th></tr>\n",
              "\t<tr><th scope=col>&lt;chr&gt;</th><th scope=col>&lt;chr&gt;</th><th scope=col>&lt;dbl&gt;</th><th scope=col>&lt;dbl&gt;</th></tr>\n",
              "</thead>\n",
              "<tbody>\n",
              "\t<tr><td>Chirodzo</td><td>no </td><td>8.062500</td><td>4</td></tr>\n",
              "\t<tr><td>Chirodzo</td><td>yes</td><td>7.818182</td><td>2</td></tr>\n",
              "\t<tr><td>Chirodzo</td><td>NA </td><td>5.083333</td><td>2</td></tr>\n",
              "\t<tr><td>God     </td><td>no </td><td>7.133333</td><td>3</td></tr>\n",
              "\t<tr><td>God     </td><td>yes</td><td>8.000000</td><td>5</td></tr>\n",
              "\t<tr><td>God     </td><td>NA </td><td>6.000000</td><td>3</td></tr>\n",
              "\t<tr><td>Ruaca   </td><td>no </td><td>7.178571</td><td>2</td></tr>\n",
              "\t<tr><td>Ruaca   </td><td>yes</td><td>9.500000</td><td>5</td></tr>\n",
              "\t<tr><td>Ruaca   </td><td>NA </td><td>6.222222</td><td>3</td></tr>\n",
              "</tbody>\n",
              "</table>\n"
            ],
            "text/markdown": "\nA grouped_df: 9 × 4\n\n| village &lt;chr&gt; | memb_assoc &lt;chr&gt; | mean_no_members &lt;dbl&gt; | min_no_members &lt;dbl&gt; |\n|---|---|---|---|\n| Chirodzo | no  | 8.062500 | 4 |\n| Chirodzo | yes | 7.818182 | 2 |\n| Chirodzo | NA  | 5.083333 | 2 |\n| God      | no  | 7.133333 | 3 |\n| God      | yes | 8.000000 | 5 |\n| God      | NA  | 6.000000 | 3 |\n| Ruaca    | no  | 7.178571 | 2 |\n| Ruaca    | yes | 9.500000 | 5 |\n| Ruaca    | NA  | 6.222222 | 3 |\n\n",
            "text/latex": "A grouped\\_df: 9 × 4\n\\begin{tabular}{llll}\n village & memb\\_assoc & mean\\_no\\_members & min\\_no\\_members\\\\\n <chr> & <chr> & <dbl> & <dbl>\\\\\n\\hline\n\t Chirodzo & no  & 8.062500 & 4\\\\\n\t Chirodzo & yes & 7.818182 & 2\\\\\n\t Chirodzo & NA  & 5.083333 & 2\\\\\n\t God      & no  & 7.133333 & 3\\\\\n\t God      & yes & 8.000000 & 5\\\\\n\t God      & NA  & 6.000000 & 3\\\\\n\t Ruaca    & no  & 7.178571 & 2\\\\\n\t Ruaca    & yes & 9.500000 & 5\\\\\n\t Ruaca    & NA  & 6.222222 & 3\\\\\n\\end{tabular}\n",
            "text/plain": [
              "  village  memb_assoc mean_no_members min_no_members\n",
              "1 Chirodzo no         8.062500        4             \n",
              "2 Chirodzo yes        7.818182        2             \n",
              "3 Chirodzo NA         5.083333        2             \n",
              "4 God      no         7.133333        3             \n",
              "5 God      yes        8.000000        5             \n",
              "6 God      NA         6.000000        3             \n",
              "7 Ruaca    no         7.178571        2             \n",
              "8 Ruaca    yes        9.500000        5             \n",
              "9 Ruaca    NA         6.222222        3             "
            ]
          },
          "metadata": {}
        }
      ]
    },
    {
      "cell_type": "code",
      "source": [
        "interviews <- read_csv('interviews_plotting.csv')\n",
        "head(interviews, n = 2)"
      ],
      "metadata": {
        "colab": {
          "base_uri": "https://localhost:8080/",
          "height": 358
        },
        "id": "XQS5dsty8iKl",
        "outputId": "b19b3014-3f06-4ef1-c8b2-1b81480eabb0"
      },
      "execution_count": null,
      "outputs": [
        {
          "output_type": "stream",
          "name": "stderr",
          "text": [
            "\u001b[1mRows: \u001b[22m\u001b[34m131\u001b[39m \u001b[1mColumns: \u001b[22m\u001b[34m45\u001b[39m\n",
            "\u001b[36m──\u001b[39m \u001b[1mColumn specification\u001b[22m \u001b[36m────────────────────────────────────────────────────────\u001b[39m\n",
            "\u001b[1mDelimiter:\u001b[22m \",\"\n",
            "\u001b[31mchr\u001b[39m   (5): village, respondent_wall_type, memb_assoc, affect_conflicts, inst...\n",
            "\u001b[32mdbl\u001b[39m   (8): key_ID, no_membrs, years_liv, rooms, liv_count, no_meals, number_...\n",
            "\u001b[33mlgl\u001b[39m  (31): bicycle, television, solar_panel, table, cow_cart, radio, cow_plo...\n",
            "\u001b[34mdttm\u001b[39m  (1): interview_date\n",
            "\n",
            "\u001b[36mℹ\u001b[39m Use `spec()` to retrieve the full column specification for this data.\n",
            "\u001b[36mℹ\u001b[39m Specify the column types or set `show_col_types = FALSE` to quiet this message.\n"
          ]
        },
        {
          "output_type": "display_data",
          "data": {
            "text/html": [
              "<table class=\"dataframe\">\n",
              "<caption>A tibble: 2 × 45</caption>\n",
              "<thead>\n",
              "\t<tr><th scope=col>key_ID</th><th scope=col>village</th><th scope=col>interview_date</th><th scope=col>no_membrs</th><th scope=col>years_liv</th><th scope=col>respondent_wall_type</th><th scope=col>rooms</th><th scope=col>memb_assoc</th><th scope=col>affect_conflicts</th><th scope=col>liv_count</th><th scope=col>⋯</th><th scope=col>Feb</th><th scope=col>Mar</th><th scope=col>Aug</th><th scope=col>June</th><th scope=col>July</th><th scope=col>Apr</th><th scope=col>May</th><th scope=col>none</th><th scope=col>number_months_lack_food</th><th scope=col>number_items</th></tr>\n",
              "\t<tr><th scope=col>&lt;dbl&gt;</th><th scope=col>&lt;chr&gt;</th><th scope=col>&lt;dttm&gt;</th><th scope=col>&lt;dbl&gt;</th><th scope=col>&lt;dbl&gt;</th><th scope=col>&lt;chr&gt;</th><th scope=col>&lt;dbl&gt;</th><th scope=col>&lt;chr&gt;</th><th scope=col>&lt;chr&gt;</th><th scope=col>&lt;dbl&gt;</th><th scope=col>⋯</th><th scope=col>&lt;lgl&gt;</th><th scope=col>&lt;lgl&gt;</th><th scope=col>&lt;lgl&gt;</th><th scope=col>&lt;lgl&gt;</th><th scope=col>&lt;lgl&gt;</th><th scope=col>&lt;lgl&gt;</th><th scope=col>&lt;lgl&gt;</th><th scope=col>&lt;lgl&gt;</th><th scope=col>&lt;dbl&gt;</th><th scope=col>&lt;dbl&gt;</th></tr>\n",
              "</thead>\n",
              "<tbody>\n",
              "\t<tr><td>1</td><td>God</td><td>2016-11-17</td><td>3</td><td>4</td><td>muddaub</td><td>1</td><td>NULL</td><td>NULL</td><td>1</td><td>⋯</td><td>FALSE</td><td>FALSE</td><td>FALSE</td><td>FALSE</td><td>FALSE</td><td>FALSE</td><td>FALSE</td><td>FALSE</td><td>1</td><td>4</td></tr>\n",
              "\t<tr><td>1</td><td>God</td><td>2016-11-17</td><td>7</td><td>9</td><td>muddaub</td><td>1</td><td>yes </td><td>once</td><td>3</td><td>⋯</td><td>FALSE</td><td>FALSE</td><td>FALSE</td><td>FALSE</td><td>FALSE</td><td>FALSE</td><td>FALSE</td><td>FALSE</td><td>5</td><td>8</td></tr>\n",
              "</tbody>\n",
              "</table>\n"
            ],
            "text/markdown": "\nA tibble: 2 × 45\n\n| key_ID &lt;dbl&gt; | village &lt;chr&gt; | interview_date &lt;dttm&gt; | no_membrs &lt;dbl&gt; | years_liv &lt;dbl&gt; | respondent_wall_type &lt;chr&gt; | rooms &lt;dbl&gt; | memb_assoc &lt;chr&gt; | affect_conflicts &lt;chr&gt; | liv_count &lt;dbl&gt; | ⋯ ⋯ | Feb &lt;lgl&gt; | Mar &lt;lgl&gt; | Aug &lt;lgl&gt; | June &lt;lgl&gt; | July &lt;lgl&gt; | Apr &lt;lgl&gt; | May &lt;lgl&gt; | none &lt;lgl&gt; | number_months_lack_food &lt;dbl&gt; | number_items &lt;dbl&gt; |\n|---|---|---|---|---|---|---|---|---|---|---|---|---|---|---|---|---|---|---|---|---|\n| 1 | God | 2016-11-17 | 3 | 4 | muddaub | 1 | NULL | NULL | 1 | ⋯ | FALSE | FALSE | FALSE | FALSE | FALSE | FALSE | FALSE | FALSE | 1 | 4 |\n| 1 | God | 2016-11-17 | 7 | 9 | muddaub | 1 | yes  | once | 3 | ⋯ | FALSE | FALSE | FALSE | FALSE | FALSE | FALSE | FALSE | FALSE | 5 | 8 |\n\n",
            "text/latex": "A tibble: 2 × 45\n\\begin{tabular}{lllllllllllllllllllll}\n key\\_ID & village & interview\\_date & no\\_membrs & years\\_liv & respondent\\_wall\\_type & rooms & memb\\_assoc & affect\\_conflicts & liv\\_count & ⋯ & Feb & Mar & Aug & June & July & Apr & May & none & number\\_months\\_lack\\_food & number\\_items\\\\\n <dbl> & <chr> & <dttm> & <dbl> & <dbl> & <chr> & <dbl> & <chr> & <chr> & <dbl> & ⋯ & <lgl> & <lgl> & <lgl> & <lgl> & <lgl> & <lgl> & <lgl> & <lgl> & <dbl> & <dbl>\\\\\n\\hline\n\t 1 & God & 2016-11-17 & 3 & 4 & muddaub & 1 & NULL & NULL & 1 & ⋯ & FALSE & FALSE & FALSE & FALSE & FALSE & FALSE & FALSE & FALSE & 1 & 4\\\\\n\t 1 & God & 2016-11-17 & 7 & 9 & muddaub & 1 & yes  & once & 3 & ⋯ & FALSE & FALSE & FALSE & FALSE & FALSE & FALSE & FALSE & FALSE & 5 & 8\\\\\n\\end{tabular}\n",
            "text/plain": [
              "  key_ID village interview_date no_membrs years_liv respondent_wall_type rooms\n",
              "1 1      God     2016-11-17     3         4         muddaub              1    \n",
              "2 1      God     2016-11-17     7         9         muddaub              1    \n",
              "  memb_assoc affect_conflicts liv_count ⋯ Feb   Mar   Aug   June  July  Apr  \n",
              "1 NULL       NULL             1         ⋯ FALSE FALSE FALSE FALSE FALSE FALSE\n",
              "2 yes        once             3         ⋯ FALSE FALSE FALSE FALSE FALSE FALSE\n",
              "  May   none  number_months_lack_food number_items\n",
              "1 FALSE FALSE 1                       4           \n",
              "2 FALSE FALSE 5                       8           "
            ]
          },
          "metadata": {}
        }
      ]
    },
    {
      "cell_type": "markdown",
      "source": [
        "### Visualization with `ggplot`"
      ],
      "metadata": {
        "id": "i5UfZd7i8kOq"
      }
    },
    {
      "cell_type": "code",
      "source": [
        "interviews %>%\n",
        "  ggplot(aes(x = no_membrs, y = number_items)) +\n",
        "  geom_point()"
      ],
      "metadata": {
        "colab": {
          "base_uri": "https://localhost:8080/",
          "height": 437
        },
        "id": "HxMCp7Z98l5W",
        "outputId": "75e84d33-020e-431e-8c47-a22c1ef6db6a"
      },
      "execution_count": null,
      "outputs": [
        {
          "output_type": "display_data",
          "data": {
            "text/plain": [
              "plot without title"
            ],
            "image/png": "[encoded data removed]"
          },
          "metadata": {
            "image/png": {
              "width": 420,
              "height": 420
            }
          }
        }
      ]
    },
    {
      "cell_type": "code",
      "source": [
        "interviews_plot <- interviews %>%\n",
        "  ggplot(aes(x = no_membrs, y = number_items))"
      ],
      "metadata": {
        "id": "9UCVQ8Vz9HAT"
      },
      "execution_count": null,
      "outputs": []
    },
    {
      "cell_type": "code",
      "source": [
        "interviews_plot + geom_point()"
      ],
      "metadata": {
        "colab": {
          "base_uri": "https://localhost:8080/",
          "height": 437
        },
        "id": "Jb_lIVW39G8J",
        "outputId": "30f7f820-b6e4-44b0-f6e4-8bd597bdfd35"
      },
      "execution_count": null,
      "outputs": [
        {
          "output_type": "display_data",
          "data": {
            "text/plain": [
              "plot without title"
            ],
            "image/png": "[encoded data removed]"
          },
          "metadata": {
            "image/png": {
              "width": 420,
              "height": 420
            }
          }
        }
      ]
    },
    {
      "cell_type": "code",
      "source": [
        "interviews_plot + geom_point(alpha = 0.3)"
      ],
      "metadata": {
        "colab": {
          "base_uri": "https://localhost:8080/",
          "height": 437
        },
        "id": "R2cY6TdU9G5A",
        "outputId": "d9806a80-ed6b-4dcc-9c3f-b29f7bbcba75"
      },
      "execution_count": null,
      "outputs": [
        {
          "output_type": "display_data",
          "data": {
            "text/plain": [
              "plot without title"
            ],
            "image/png": "[encoded data removed]"
          },
          "metadata": {
            "image/png": {
              "width": 420,
              "height": 420
            }
          }
        }
      ]
    },
    {
      "cell_type": "code",
      "source": [
        "interviews_plot + geom_jitter()"
      ],
      "metadata": {
        "colab": {
          "base_uri": "https://localhost:8080/",
          "height": 437
        },
        "id": "iNKQ9ujZ9G2Z",
        "outputId": "1ee4c1cf-8c0d-405b-f46e-8299d793dbf7"
      },
      "execution_count": null,
      "outputs": [
        {
          "output_type": "display_data",
          "data": {
            "text/plain": [
              "plot without title"
            ],
            "image/png": "[encoded data removed]"
          },
          "metadata": {
            "image/png": {
              "width": 420,
              "height": 420
            }
          }
        }
      ]
    },
    {
      "cell_type": "code",
      "source": [
        "interviews_plot + geom_jitter(aes(color = village))"
      ],
      "metadata": {
        "colab": {
          "base_uri": "https://localhost:8080/",
          "height": 437
        },
        "id": "Uc8HwNG29Gx-",
        "outputId": "081e8d3f-5d40-467a-94c9-d65cf315d5c5"
      },
      "execution_count": null,
      "outputs": [
        {
          "output_type": "display_data",
          "data": {
            "text/plain": [
              "plot without title"
            ],
            "image/png": "[encoded data removed]"
          },
          "metadata": {
            "image/png": {
              "width": 420,
              "height": 420
            }
          }
        }
      ]
    },
    {
      "cell_type": "code",
      "source": [
        "interviews_plot +\n",
        "  geom_jitter(aes(color = village)) +\n",
        "    geom_smooth(aes(color = village))"
      ],
      "metadata": {
        "colab": {
          "base_uri": "https://localhost:8080/",
          "height": 455
        },
        "id": "q15vdh7-9Gu2",
        "outputId": "2fc4a9f1-4045-4ad6-f912-ee858c1a970a"
      },
      "execution_count": null,
      "outputs": [
        {
          "output_type": "stream",
          "name": "stderr",
          "text": [
            "\u001b[1m\u001b[22m`geom_smooth()` using method = 'loess' and formula = 'y ~ x'\n"
          ]
        },
        {
          "output_type": "display_data",
          "data": {
            "text/plain": [
              "plot without title"
            ],
            "image/png": "[encoded data removed]"
          },
          "metadata": {
            "image/png": {
              "width": 420,
              "height": 420
            }
          }
        }
      ]
    },
    {
      "cell_type": "markdown",
      "source": [
        "Use what you just learned to create a scatter plot of `rooms` by `village` with the `respondent_wall_type` showing in different colours. Does this seem like a good way to display the relationship between these variables? What other kinds of plots might you use to show this type of data?"
      ],
      "metadata": {
        "id": "yfUOT_Xd9Hn5"
      }
    },
    {
      "cell_type": "code",
      "source": [
        "interviews_plot2 <- interviews %>%\n",
        "  ggplot(aes(x = village, y = rooms))\n",
        "\n",
        "interviews_plot2  + geom_jitter(aes(color = respondent_wall_type))"
      ],
      "metadata": {
        "colab": {
          "base_uri": "https://localhost:8080/",
          "height": 437
        },
        "id": "YJoMDOOP9PtT",
        "outputId": "bb167dbb-2dc5-4f0f-f991-d37eda11de95"
      },
      "execution_count": null,
      "outputs": [
        {
          "output_type": "display_data",
          "data": {
            "text/plain": [
              "plot without title"
            ],
            "image/png": "[encoded data removed]"
          },
          "metadata": {
            "image/png": {
              "width": 420,
              "height": 420
            }
          }
        }
      ]
    },
    {
      "cell_type": "markdown",
      "source": [
        "### boxplots"
      ],
      "metadata": {
        "id": "7bs5fmMb9Vhu"
      }
    },
    {
      "cell_type": "code",
      "source": [
        "interviews_plot2 + geom_boxplot()"
      ],
      "metadata": {
        "colab": {
          "base_uri": "https://localhost:8080/",
          "height": 437
        },
        "id": "3gHD8DhC9Vem",
        "outputId": "14bdf827-d417-47ef-a37f-90cdfe2435e6"
      },
      "execution_count": null,
      "outputs": [
        {
          "output_type": "display_data",
          "data": {
            "text/plain": [
              "plot without title"
            ],
            "image/png": "[encoded data removed]"
          },
          "metadata": {
            "image/png": {
              "width": 420,
              "height": 420
            }
          }
        }
      ]
    },
    {
      "cell_type": "code",
      "source": [
        "interviews_plot2 +\n",
        "  geom_boxplot() +\n",
        "  geom_jitter(color = 'tomato')"
      ],
      "metadata": {
        "colab": {
          "base_uri": "https://localhost:8080/",
          "height": 437
        },
        "id": "8DAPnwOD9VaL",
        "outputId": "3b553771-c091-49d6-d787-75a34b06fcc6"
      },
      "execution_count": null,
      "outputs": [
        {
          "output_type": "display_data",
          "data": {
            "text/plain": [
              "plot without title"
            ],
            "image/png": "[encoded data removed]"
          },
          "metadata": {
            "image/png": {
              "width": 420,
              "height": 420
            }
          }
        }
      ]
    },
    {
      "cell_type": "code",
      "source": [],
      "metadata": {
        "id": "PVf27-Hs9VXU"
      },
      "execution_count": null,
      "outputs": []
    },
    {
      "cell_type": "code",
      "source": [],
      "metadata": {
        "id": "RSb_GLgL9VUc"
      },
      "execution_count": null,
      "outputs": []
    },
    {
      "cell_type": "code",
      "source": [],
      "metadata": {
        "id": "qiRZwawa9VRl"
      },
      "execution_count": null,
      "outputs": []
    },
    {
      "cell_type": "code",
      "source": [],
      "metadata": {
        "id": "INiAJKL09VOe"
      },
      "execution_count": null,
      "outputs": []
    },
    {
      "cell_type": "markdown",
      "source": [
        "Boxplots are useful summaries, but hide the shape of the distribution. For example, if the distribution is bimodal, we would not see it in a boxplot. An alternative to the boxplot is the violin plot, where the shape (of the density of points) is drawn.\n",
        "\n",
        "Replace the box plot with a violin plot; see `geom_violin()`."
      ],
      "metadata": {
        "id": "n6nxO-JP9VEk"
      }
    },
    {
      "cell_type": "code",
      "source": [
        "interviews_plot2 + geom_violin() + geom_jitter(color = 'tomato')"
      ],
      "metadata": {
        "colab": {
          "base_uri": "https://localhost:8080/",
          "height": 437
        },
        "id": "G9YvcSnj9U_n",
        "outputId": "acad5e92-703c-4e3e-fa8a-37b59fe16c67"
      },
      "execution_count": null,
      "outputs": [
        {
          "output_type": "display_data",
          "data": {
            "text/plain": [
              "plot without title"
            ],
            "image/png": "[encoded data removed]"
          },
          "metadata": {
            "image/png": {
              "width": 420,
              "height": 420
            }
          }
        }
      ]
    },
    {
      "cell_type": "code",
      "source": [],
      "metadata": {
        "id": "_PP_0gRf9U07"
      },
      "execution_count": null,
      "outputs": []
    },
    {
      "cell_type": "markdown",
      "source": [
        "So far, we’ve looked at the distribution of room number within wall type. Try making a new plot to explore the distribution of another variable within wall type.\n",
        "\n",
        "- Create a boxplot for `liv_count` for each wall type. Overlay the boxplot layer on a jitter layer to show actual measurements."
      ],
      "metadata": {
        "id": "yr-6peJm9UyV"
      }
    },
    {
      "cell_type": "code",
      "source": [],
      "metadata": {
        "id": "9-3BQClc9Uvu"
      },
      "execution_count": null,
      "outputs": []
    },
    {
      "cell_type": "markdown",
      "source": [
        "#### barplots"
      ],
      "metadata": {
        "id": "5EhUPHV49UtI"
      }
    },
    {
      "cell_type": "code",
      "source": [],
      "metadata": {
        "id": "4Tn2KBwY9tmV"
      },
      "execution_count": null,
      "outputs": []
    },
    {
      "cell_type": "code",
      "source": [],
      "metadata": {
        "id": "XoMCXdhb9uMl"
      },
      "execution_count": null,
      "outputs": []
    },
    {
      "cell_type": "code",
      "source": [],
      "metadata": {
        "id": "gGpk72LJ9uJu"
      },
      "execution_count": null,
      "outputs": []
    },
    {
      "cell_type": "code",
      "source": [],
      "metadata": {
        "id": "Vl9gjhct9uEh"
      },
      "execution_count": null,
      "outputs": []
    },
    {
      "cell_type": "code",
      "source": [],
      "metadata": {
        "id": "OJuR39SJ9uCb"
      },
      "execution_count": null,
      "outputs": []
    },
    {
      "cell_type": "code",
      "source": [],
      "metadata": {
        "id": "jhbWPqRu9uAG"
      },
      "execution_count": null,
      "outputs": []
    },
    {
      "cell_type": "markdown",
      "source": [
        "#### labels and titles"
      ],
      "metadata": {
        "id": "ayH3vVn69wjb"
      }
    },
    {
      "cell_type": "code",
      "source": [],
      "metadata": {
        "id": "aPOGmkUZ9x91"
      },
      "execution_count": null,
      "outputs": []
    },
    {
      "cell_type": "code",
      "source": [],
      "metadata": {
        "id": "u_5JZF2l9yrY"
      },
      "execution_count": null,
      "outputs": []
    },
    {
      "cell_type": "code",
      "source": [],
      "metadata": {
        "id": "xKvYglXo9yoA"
      },
      "execution_count": null,
      "outputs": []
    },
    {
      "cell_type": "code",
      "source": [],
      "metadata": {
        "id": "UklwFCyX9yjD"
      },
      "execution_count": null,
      "outputs": []
    },
    {
      "cell_type": "code",
      "source": [],
      "metadata": {
        "id": "XOGakt5v9ygd"
      },
      "execution_count": null,
      "outputs": []
    },
    {
      "cell_type": "code",
      "source": [],
      "metadata": {
        "id": "CUCAovgo9ydl"
      },
      "execution_count": null,
      "outputs": []
    },
    {
      "cell_type": "markdown",
      "source": [
        "#### faceting"
      ],
      "metadata": {
        "id": "ADPc7lbX90Tm"
      }
    },
    {
      "cell_type": "code",
      "source": [],
      "metadata": {
        "id": "687FHL2792TO"
      },
      "execution_count": null,
      "outputs": []
    },
    {
      "cell_type": "code",
      "source": [],
      "metadata": {
        "id": "G62vGKuM92Qn"
      },
      "execution_count": null,
      "outputs": []
    },
    {
      "cell_type": "code",
      "source": [],
      "metadata": {
        "id": "EwtQYf3192OS"
      },
      "execution_count": null,
      "outputs": []
    },
    {
      "cell_type": "code",
      "source": [],
      "metadata": {
        "id": "6H_N5Z6z92Lr"
      },
      "execution_count": null,
      "outputs": []
    },
    {
      "cell_type": "code",
      "source": [],
      "metadata": {
        "id": "NKcMlrrS91e5"
      },
      "execution_count": null,
      "outputs": []
    }
  ]
}