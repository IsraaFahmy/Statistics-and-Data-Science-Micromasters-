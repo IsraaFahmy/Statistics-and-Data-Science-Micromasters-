{
  "nbformat": 4,
  "nbformat_minor": 0,
  "metadata": {
    "colab": {
      "provenance": [],
      "include_colab_link": true
    },
    "kernelspec": {
      "name": "ir",
      "display_name": "R"
    },
    "language_info": {
      "name": "R"
    }
  },
  "cells": [
    {
      "cell_type": "markdown",
      "metadata": {
        "id": "view-in-github",
        "colab_type": "text"
      },
      "source": [
        "<a href=\"https://colab.research.google.com/github/IsraaFahmy/Statistics-and-Data-Science-Micromasters-/blob/main/MITx%2018.6501x/Notebooks/stats_w8.ipynb\" target=\"_parent\"><img src=\"https://colab.research.google.com/assets/colab-badge.svg\" alt=\"Open In Colab\"/></a>"
      ]
    },
    {
      "cell_type": "markdown",
      "source": [
        "#### Hypothesis tests and ml with R\n",
        "\n",
        "**Objectives**\n",
        "\n",
        "- Review hypothesis tests for proportions and means\n",
        "- Review hypothesis tests for regression models\n",
        "- Review hypothesis tests for logistic regression\n",
        "- Introduce machine learning models with the `caret` package"
      ],
      "metadata": {
        "id": "PbJHn_r2FxYb"
      }
    },
    {
      "cell_type": "code",
      "source": [
        "library(tidyverse)"
      ],
      "metadata": {
        "colab": {
          "base_uri": "https://localhost:8080/"
        },
        "id": "xoaiQINhHIoI",
        "outputId": "3b602921-6337-403e-ea49-ed3cd3a544c4"
      },
      "execution_count": null,
      "outputs": [
        {
          "output_type": "stream",
          "name": "stderr",
          "text": [
            "── \u001b[1mAttaching packages\u001b[22m ─────────────────────────────────────── tidyverse 1.3.1 ──\n",
            "\n",
            "\u001b[32m✔\u001b[39m \u001b[34mggplot2\u001b[39m 3.4.2     \u001b[32m✔\u001b[39m \u001b[34mpurrr  \u001b[39m 1.0.1\n",
            "\u001b[32m✔\u001b[39m \u001b[34mtibble \u001b[39m 3.2.1     \u001b[32m✔\u001b[39m \u001b[34mdplyr  \u001b[39m 1.1.2\n",
            "\u001b[32m✔\u001b[39m \u001b[34mtidyr  \u001b[39m 1.3.0     \u001b[32m✔\u001b[39m \u001b[34mstringr\u001b[39m 1.5.0\n",
            "\u001b[32m✔\u001b[39m \u001b[34mreadr  \u001b[39m 2.1.4     \u001b[32m✔\u001b[39m \u001b[34mforcats\u001b[39m 1.0.0\n",
            "\n",
            "── \u001b[1mConflicts\u001b[22m ────────────────────────────────────────── tidyverse_conflicts() ──\n",
            "\u001b[31m✖\u001b[39m \u001b[34mdplyr\u001b[39m::\u001b[32mfilter()\u001b[39m masks \u001b[34mstats\u001b[39m::filter()\n",
            "\u001b[31m✖\u001b[39m \u001b[34mdplyr\u001b[39m::\u001b[32mlag()\u001b[39m    masks \u001b[34mstats\u001b[39m::lag()\n",
            "\n"
          ]
        }
      ]
    },
    {
      "cell_type": "code",
      "source": [
        "?rbinom"
      ],
      "metadata": {
        "id": "kPerpniTTlEV"
      },
      "execution_count": null,
      "outputs": []
    },
    {
      "cell_type": "code",
      "source": [
        "#random binomial data -- 100 trials of 20 coin tosses with p = .3\n",
        "x <- rbinom(100, 20, .3)\n",
        "x"
      ],
      "metadata": {
        "colab": {
          "base_uri": "https://localhost:8080/",
          "height": 69
        },
        "id": "4i5rVzAjIeGw",
        "outputId": "acd026a7-9184-4aeb-d919-9adde4b4025e"
      },
      "execution_count": null,
      "outputs": [
        {
          "output_type": "display_data",
          "data": {
            "text/html": [
              "<style>\n",
              ".list-inline {list-style: none; margin:0; padding: 0}\n",
              ".list-inline>li {display: inline-block}\n",
              ".list-inline>li:not(:last-child)::after {content: \"\\00b7\"; padding: 0 .5ex}\n",
              "</style>\n",
              "<ol class=list-inline><li>6</li><li>4</li><li>8</li><li>9</li><li>9</li><li>4</li><li>6</li><li>5</li><li>5</li><li>9</li><li>4</li><li>7</li><li>5</li><li>5</li><li>9</li><li>5</li><li>9</li><li>6</li><li>6</li><li>6</li><li>4</li><li>6</li><li>10</li><li>8</li><li>8</li><li>6</li><li>3</li><li>2</li><li>11</li><li>5</li><li>5</li><li>3</li><li>4</li><li>3</li><li>5</li><li>6</li><li>8</li><li>4</li><li>6</li><li>5</li><li>5</li><li>4</li><li>6</li><li>7</li><li>6</li><li>5</li><li>4</li><li>6</li><li>6</li><li>3</li><li>8</li><li>6</li><li>6</li><li>4</li><li>7</li><li>4</li><li>9</li><li>9</li><li>4</li><li>5</li><li>5</li><li>5</li><li>6</li><li>6</li><li>6</li><li>6</li><li>2</li><li>8</li><li>7</li><li>7</li><li>5</li><li>9</li><li>8</li><li>6</li><li>6</li><li>9</li><li>7</li><li>11</li><li>6</li><li>9</li><li>7</li><li>5</li><li>4</li><li>8</li><li>6</li><li>5</li><li>6</li><li>7</li><li>8</li><li>3</li><li>8</li><li>8</li><li>6</li><li>6</li><li>7</li><li>10</li><li>6</li><li>6</li><li>5</li><li>5</li></ol>\n"
            ],
            "text/markdown": "1. 6\n2. 4\n3. 8\n4. 9\n5. 9\n6. 4\n7. 6\n8. 5\n9. 5\n10. 9\n11. 4\n12. 7\n13. 5\n14. 5\n15. 9\n16. 5\n17. 9\n18. 6\n19. 6\n20. 6\n21. 4\n22. 6\n23. 10\n24. 8\n25. 8\n26. 6\n27. 3\n28. 2\n29. 11\n30. 5\n31. 5\n32. 3\n33. 4\n34. 3\n35. 5\n36. 6\n37. 8\n38. 4\n39. 6\n40. 5\n41. 5\n42. 4\n43. 6\n44. 7\n45. 6\n46. 5\n47. 4\n48. 6\n49. 6\n50. 3\n51. 8\n52. 6\n53. 6\n54. 4\n55. 7\n56. 4\n57. 9\n58. 9\n59. 4\n60. 5\n61. 5\n62. 5\n63. 6\n64. 6\n65. 6\n66. 6\n67. 2\n68. 8\n69. 7\n70. 7\n71. 5\n72. 9\n73. 8\n74. 6\n75. 6\n76. 9\n77. 7\n78. 11\n79. 6\n80. 9\n81. 7\n82. 5\n83. 4\n84. 8\n85. 6\n86. 5\n87. 6\n88. 7\n89. 8\n90. 3\n91. 8\n92. 8\n93. 6\n94. 6\n95. 7\n96. 10\n97. 6\n98. 6\n99. 5\n100. 5\n\n\n",
            "text/latex": "\\begin{enumerate*}\n\\item 6\n\\item 4\n\\item 8\n\\item 9\n\\item 9\n\\item 4\n\\item 6\n\\item 5\n\\item 5\n\\item 9\n\\item 4\n\\item 7\n\\item 5\n\\item 5\n\\item 9\n\\item 5\n\\item 9\n\\item 6\n\\item 6\n\\item 6\n\\item 4\n\\item 6\n\\item 10\n\\item 8\n\\item 8\n\\item 6\n\\item 3\n\\item 2\n\\item 11\n\\item 5\n\\item 5\n\\item 3\n\\item 4\n\\item 3\n\\item 5\n\\item 6\n\\item 8\n\\item 4\n\\item 6\n\\item 5\n\\item 5\n\\item 4\n\\item 6\n\\item 7\n\\item 6\n\\item 5\n\\item 4\n\\item 6\n\\item 6\n\\item 3\n\\item 8\n\\item 6\n\\item 6\n\\item 4\n\\item 7\n\\item 4\n\\item 9\n\\item 9\n\\item 4\n\\item 5\n\\item 5\n\\item 5\n\\item 6\n\\item 6\n\\item 6\n\\item 6\n\\item 2\n\\item 8\n\\item 7\n\\item 7\n\\item 5\n\\item 9\n\\item 8\n\\item 6\n\\item 6\n\\item 9\n\\item 7\n\\item 11\n\\item 6\n\\item 9\n\\item 7\n\\item 5\n\\item 4\n\\item 8\n\\item 6\n\\item 5\n\\item 6\n\\item 7\n\\item 8\n\\item 3\n\\item 8\n\\item 8\n\\item 6\n\\item 6\n\\item 7\n\\item 10\n\\item 6\n\\item 6\n\\item 5\n\\item 5\n\\end{enumerate*}\n",
            "text/plain": [
              "  [1]  6  4  8  9  9  4  6  5  5  9  4  7  5  5  9  5  9  6  6  6  4  6 10  8  8\n",
              " [26]  6  3  2 11  5  5  3  4  3  5  6  8  4  6  5  5  4  6  7  6  5  4  6  6  3\n",
              " [51]  8  6  6  4  7  4  9  9  4  5  5  5  6  6  6  6  2  8  7  7  5  9  8  6  6\n",
              " [76]  9  7 11  6  9  7  5  4  8  6  5  6  7  8  3  8  8  6  6  7 10  6  6  5  5"
            ]
          },
          "metadata": {}
        }
      ]
    },
    {
      "cell_type": "code",
      "source": [
        "#histogram of results???\n",
        "hist(x)"
      ],
      "metadata": {
        "colab": {
          "base_uri": "https://localhost:8080/",
          "height": 437
        },
        "id": "sco-ayIiUXmv",
        "outputId": "631b32a4-1114-40ae-8f99-6b9b4cd6f081"
      },
      "execution_count": null,
      "outputs": [
        {
          "output_type": "display_data",
          "data": {
            "text/plain": [
              "Plot with title “Histogram of x”"
            ],
            "image/png": "[encoded data removed]"
          },
          "metadata": {
            "image/png": {
              "width": 420,
              "height": 420
            }
          }
        }
      ]
    },
    {
      "cell_type": "markdown",
      "source": [
        "- Hypotheses for proportions"
      ],
      "metadata": {
        "id": "5KLuyAeTIxYj"
      }
    },
    {
      "cell_type": "code",
      "source": [
        "x/20"
      ],
      "metadata": {
        "colab": {
          "base_uri": "https://localhost:8080/",
          "height": 104
        },
        "id": "XehP5tOmVfwD",
        "outputId": "008d9f8a-49e5-4f97-ac9f-e525270c4edc"
      },
      "execution_count": null,
      "outputs": [
        {
          "output_type": "display_data",
          "data": {
            "text/html": [
              "<style>\n",
              ".list-inline {list-style: none; margin:0; padding: 0}\n",
              ".list-inline>li {display: inline-block}\n",
              ".list-inline>li:not(:last-child)::after {content: \"\\00b7\"; padding: 0 .5ex}\n",
              "</style>\n",
              "<ol class=list-inline><li>0.3</li><li>0.2</li><li>0.4</li><li>0.45</li><li>0.45</li><li>0.2</li><li>0.3</li><li>0.25</li><li>0.25</li><li>0.45</li><li>0.2</li><li>0.35</li><li>0.25</li><li>0.25</li><li>0.45</li><li>0.25</li><li>0.45</li><li>0.3</li><li>0.3</li><li>0.3</li><li>0.2</li><li>0.3</li><li>0.5</li><li>0.4</li><li>0.4</li><li>0.3</li><li>0.15</li><li>0.1</li><li>0.55</li><li>0.25</li><li>0.25</li><li>0.15</li><li>0.2</li><li>0.15</li><li>0.25</li><li>0.3</li><li>0.4</li><li>0.2</li><li>0.3</li><li>0.25</li><li>0.25</li><li>0.2</li><li>0.3</li><li>0.35</li><li>0.3</li><li>0.25</li><li>0.2</li><li>0.3</li><li>0.3</li><li>0.15</li><li>0.4</li><li>0.3</li><li>0.3</li><li>0.2</li><li>0.35</li><li>0.2</li><li>0.45</li><li>0.45</li><li>0.2</li><li>0.25</li><li>0.25</li><li>0.25</li><li>0.3</li><li>0.3</li><li>0.3</li><li>0.3</li><li>0.1</li><li>0.4</li><li>0.35</li><li>0.35</li><li>0.25</li><li>0.45</li><li>0.4</li><li>0.3</li><li>0.3</li><li>0.45</li><li>0.35</li><li>0.55</li><li>0.3</li><li>0.45</li><li>0.35</li><li>0.25</li><li>0.2</li><li>0.4</li><li>0.3</li><li>0.25</li><li>0.3</li><li>0.35</li><li>0.4</li><li>0.15</li><li>0.4</li><li>0.4</li><li>0.3</li><li>0.3</li><li>0.35</li><li>0.5</li><li>0.3</li><li>0.3</li><li>0.25</li><li>0.25</li></ol>\n"
            ],
            "text/markdown": "1. 0.3\n2. 0.2\n3. 0.4\n4. 0.45\n5. 0.45\n6. 0.2\n7. 0.3\n8. 0.25\n9. 0.25\n10. 0.45\n11. 0.2\n12. 0.35\n13. 0.25\n14. 0.25\n15. 0.45\n16. 0.25\n17. 0.45\n18. 0.3\n19. 0.3\n20. 0.3\n21. 0.2\n22. 0.3\n23. 0.5\n24. 0.4\n25. 0.4\n26. 0.3\n27. 0.15\n28. 0.1\n29. 0.55\n30. 0.25\n31. 0.25\n32. 0.15\n33. 0.2\n34. 0.15\n35. 0.25\n36. 0.3\n37. 0.4\n38. 0.2\n39. 0.3\n40. 0.25\n41. 0.25\n42. 0.2\n43. 0.3\n44. 0.35\n45. 0.3\n46. 0.25\n47. 0.2\n48. 0.3\n49. 0.3\n50. 0.15\n51. 0.4\n52. 0.3\n53. 0.3\n54. 0.2\n55. 0.35\n56. 0.2\n57. 0.45\n58. 0.45\n59. 0.2\n60. 0.25\n61. 0.25\n62. 0.25\n63. 0.3\n64. 0.3\n65. 0.3\n66. 0.3\n67. 0.1\n68. 0.4\n69. 0.35\n70. 0.35\n71. 0.25\n72. 0.45\n73. 0.4\n74. 0.3\n75. 0.3\n76. 0.45\n77. 0.35\n78. 0.55\n79. 0.3\n80. 0.45\n81. 0.35\n82. 0.25\n83. 0.2\n84. 0.4\n85. 0.3\n86. 0.25\n87. 0.3\n88. 0.35\n89. 0.4\n90. 0.15\n91. 0.4\n92. 0.4\n93. 0.3\n94. 0.3\n95. 0.35\n96. 0.5\n97. 0.3\n98. 0.3\n99. 0.25\n100. 0.25\n\n\n",
            "text/latex": "\\begin{enumerate*}\n\\item 0.3\n\\item 0.2\n\\item 0.4\n\\item 0.45\n\\item 0.45\n\\item 0.2\n\\item 0.3\n\\item 0.25\n\\item 0.25\n\\item 0.45\n\\item 0.2\n\\item 0.35\n\\item 0.25\n\\item 0.25\n\\item 0.45\n\\item 0.25\n\\item 0.45\n\\item 0.3\n\\item 0.3\n\\item 0.3\n\\item 0.2\n\\item 0.3\n\\item 0.5\n\\item 0.4\n\\item 0.4\n\\item 0.3\n\\item 0.15\n\\item 0.1\n\\item 0.55\n\\item 0.25\n\\item 0.25\n\\item 0.15\n\\item 0.2\n\\item 0.15\n\\item 0.25\n\\item 0.3\n\\item 0.4\n\\item 0.2\n\\item 0.3\n\\item 0.25\n\\item 0.25\n\\item 0.2\n\\item 0.3\n\\item 0.35\n\\item 0.3\n\\item 0.25\n\\item 0.2\n\\item 0.3\n\\item 0.3\n\\item 0.15\n\\item 0.4\n\\item 0.3\n\\item 0.3\n\\item 0.2\n\\item 0.35\n\\item 0.2\n\\item 0.45\n\\item 0.45\n\\item 0.2\n\\item 0.25\n\\item 0.25\n\\item 0.25\n\\item 0.3\n\\item 0.3\n\\item 0.3\n\\item 0.3\n\\item 0.1\n\\item 0.4\n\\item 0.35\n\\item 0.35\n\\item 0.25\n\\item 0.45\n\\item 0.4\n\\item 0.3\n\\item 0.3\n\\item 0.45\n\\item 0.35\n\\item 0.55\n\\item 0.3\n\\item 0.45\n\\item 0.35\n\\item 0.25\n\\item 0.2\n\\item 0.4\n\\item 0.3\n\\item 0.25\n\\item 0.3\n\\item 0.35\n\\item 0.4\n\\item 0.15\n\\item 0.4\n\\item 0.4\n\\item 0.3\n\\item 0.3\n\\item 0.35\n\\item 0.5\n\\item 0.3\n\\item 0.3\n\\item 0.25\n\\item 0.25\n\\end{enumerate*}\n",
            "text/plain": [
              "  [1] 0.30 0.20 0.40 0.45 0.45 0.20 0.30 0.25 0.25 0.45 0.20 0.35 0.25 0.25 0.45\n",
              " [16] 0.25 0.45 0.30 0.30 0.30 0.20 0.30 0.50 0.40 0.40 0.30 0.15 0.10 0.55 0.25\n",
              " [31] 0.25 0.15 0.20 0.15 0.25 0.30 0.40 0.20 0.30 0.25 0.25 0.20 0.30 0.35 0.30\n",
              " [46] 0.25 0.20 0.30 0.30 0.15 0.40 0.30 0.30 0.20 0.35 0.20 0.45 0.45 0.20 0.25\n",
              " [61] 0.25 0.25 0.30 0.30 0.30 0.30 0.10 0.40 0.35 0.35 0.25 0.45 0.40 0.30 0.30\n",
              " [76] 0.45 0.35 0.55 0.30 0.45 0.35 0.25 0.20 0.40 0.30 0.25 0.30 0.35 0.40 0.15\n",
              " [91] 0.40 0.40 0.30 0.30 0.35 0.50 0.30 0.30 0.25 0.25"
            ]
          },
          "metadata": {}
        }
      ]
    },
    {
      "cell_type": "code",
      "source": [
        "#test whether proportion is different than .5 --> Interpretation???\n",
        "prop.test(32, 100, p = .5)"
      ],
      "metadata": {
        "colab": {
          "base_uri": "https://localhost:8080/",
          "height": 208
        },
        "id": "TkunrtP7IeEr",
        "outputId": "4e65dd4d-5256-41cf-d0bb-aea75faed479"
      },
      "execution_count": null,
      "outputs": [
        {
          "output_type": "display_data",
          "data": {
            "text/plain": [
              "\n",
              "\t1-sample proportions test with continuity correction\n",
              "\n",
              "data:  32 out of 100, null probability 0.5\n",
              "X-squared = 12.25, df = 1, p-value = 0.0004653\n",
              "alternative hypothesis: true p is not equal to 0.5\n",
              "95 percent confidence interval:\n",
              " 0.2322385 0.4217920\n",
              "sample estimates:\n",
              "   p \n",
              "0.32 \n"
            ]
          },
          "metadata": {}
        }
      ]
    },
    {
      "cell_type": "markdown",
      "source": [
        "- Hypothesis for less than .5"
      ],
      "metadata": {
        "id": "M0YdDdU1I2lU"
      }
    },
    {
      "cell_type": "code",
      "source": [
        "#test less than\n",
        "prop.test(x = 1, n = 20, p = 0.5, alternative = 'less')"
      ],
      "metadata": {
        "colab": {
          "base_uri": "https://localhost:8080/",
          "height": 208
        },
        "id": "7iQ7LCFuIeCV",
        "outputId": "f896625d-cf8d-438e-de63-30e5bf11a686"
      },
      "execution_count": null,
      "outputs": [
        {
          "output_type": "display_data",
          "data": {
            "text/plain": [
              "\n",
              "\t1-sample proportions test with continuity correction\n",
              "\n",
              "data:  1 out of 20, null probability 0.5\n",
              "X-squared = 14.45, df = 1, p-value = 7.196e-05\n",
              "alternative hypothesis: true p is less than 0.5\n",
              "95 percent confidence interval:\n",
              " 0.0000000 0.2297151\n",
              "sample estimates:\n",
              "   p \n",
              "0.05 \n"
            ]
          },
          "metadata": {}
        }
      ]
    },
    {
      "cell_type": "markdown",
      "source": [
        "- Hypothesis test for more than .1"
      ],
      "metadata": {
        "id": "k3JIm-TLJW_A"
      }
    },
    {
      "cell_type": "code",
      "source": [
        "#test more\n",
        "prop.test(x = 1, n = 20, p = 0.5, alternative = 'greater')"
      ],
      "metadata": {
        "colab": {
          "base_uri": "https://localhost:8080/",
          "height": 208
        },
        "id": "eocu6v8_IeAQ",
        "outputId": "906a60c8-906b-4c46-b09b-5d1f5b1a7281"
      },
      "execution_count": null,
      "outputs": [
        {
          "output_type": "display_data",
          "data": {
            "text/plain": [
              "\n",
              "\t1-sample proportions test with continuity correction\n",
              "\n",
              "data:  1 out of 20, null probability 0.5\n",
              "X-squared = 14.45, df = 1, p-value = 0.9999\n",
              "alternative hypothesis: true p is greater than 0.5\n",
              "95 percent confidence interval:\n",
              " 0.003446091 1.000000000\n",
              "sample estimates:\n",
              "   p \n",
              "0.05 \n"
            ]
          },
          "metadata": {}
        }
      ]
    },
    {
      "cell_type": "markdown",
      "source": [
        "Create two datasets `class_a` and `class_b` from random normal distributions with $\\mu = 80, 83$ and $\\sigma = 6, 7$."
      ],
      "metadata": {
        "id": "oVJ9qsg-KAPP"
      }
    },
    {
      "cell_type": "code",
      "source": [
        "?rnorm"
      ],
      "metadata": {
        "id": "TcmsZ049Y5np"
      },
      "execution_count": null,
      "outputs": []
    },
    {
      "cell_type": "code",
      "source": [
        "#data\n",
        "class_a <- rnorm(mean = 80, sd = 6, n = 100)\n",
        "class_b <- rnorm(mean = 83, sd = 7, n = 100)"
      ],
      "metadata": {
        "id": "54yYypvAId96"
      },
      "execution_count": null,
      "outputs": []
    },
    {
      "cell_type": "markdown",
      "source": [
        "- test for `class_a` that $\\mu = 90$"
      ],
      "metadata": {
        "id": "i5poiRIHKS8t"
      }
    },
    {
      "cell_type": "code",
      "source": [
        "t.test(class_a, mu = 90)"
      ],
      "metadata": {
        "colab": {
          "base_uri": "https://localhost:8080/",
          "height": 208
        },
        "id": "kR3vrO_-Id8G",
        "outputId": "f0538cc3-a558-4eda-8f8c-68afd3552d49"
      },
      "execution_count": null,
      "outputs": [
        {
          "output_type": "display_data",
          "data": {
            "text/plain": [
              "\n",
              "\tOne Sample t-test\n",
              "\n",
              "data:  class_a\n",
              "t = -18.034, df = 99, p-value < 2.2e-16\n",
              "alternative hypothesis: true mean is not equal to 90\n",
              "95 percent confidence interval:\n",
              " 78.75948 80.98779\n",
              "sample estimates:\n",
              "mean of x \n",
              " 79.87363 \n"
            ]
          },
          "metadata": {}
        }
      ]
    },
    {
      "cell_type": "markdown",
      "source": [
        "- test for `class_a` that $\\mu < 90$"
      ],
      "metadata": {
        "id": "R9SLd4xxKag7"
      }
    },
    {
      "cell_type": "code",
      "source": [
        "t.test(class_a, mu = 90, alternative = 'less')"
      ],
      "metadata": {
        "colab": {
          "base_uri": "https://localhost:8080/",
          "height": 208
        },
        "id": "SYsMMBM3Id5f",
        "outputId": "4f7f8303-ecf6-4960-bfeb-646222e7c5fb"
      },
      "execution_count": null,
      "outputs": [
        {
          "output_type": "display_data",
          "data": {
            "text/plain": [
              "\n",
              "\tOne Sample t-test\n",
              "\n",
              "data:  class_a\n",
              "t = -18.034, df = 99, p-value < 2.2e-16\n",
              "alternative hypothesis: true mean is less than 90\n",
              "95 percent confidence interval:\n",
              "     -Inf 80.80596\n",
              "sample estimates:\n",
              "mean of x \n",
              " 79.87363 \n"
            ]
          },
          "metadata": {}
        }
      ]
    },
    {
      "cell_type": "code",
      "source": [
        "t.test(class_a, mu = 90, alternative = 'greater')"
      ],
      "metadata": {
        "colab": {
          "base_uri": "https://localhost:8080/",
          "height": 208
        },
        "id": "XiI482Y2Z7s0",
        "outputId": "792268f7-540d-403c-b606-1baaa4796f67"
      },
      "execution_count": null,
      "outputs": [
        {
          "output_type": "display_data",
          "data": {
            "text/plain": [
              "\n",
              "\tOne Sample t-test\n",
              "\n",
              "data:  class_a\n",
              "t = -18.034, df = 99, p-value = 1\n",
              "alternative hypothesis: true mean is greater than 90\n",
              "95 percent confidence interval:\n",
              " 78.94131      Inf\n",
              "sample estimates:\n",
              "mean of x \n",
              " 79.87363 \n"
            ]
          },
          "metadata": {}
        }
      ]
    },
    {
      "cell_type": "markdown",
      "source": [
        "- test that `class_a` is different than `class_b`"
      ],
      "metadata": {
        "id": "pG82Xh6wKgub"
      }
    },
    {
      "cell_type": "code",
      "source": [
        "t.test(class_a, class_b)"
      ],
      "metadata": {
        "colab": {
          "base_uri": "https://localhost:8080/",
          "height": 208
        },
        "id": "dqPhUWS0E4Ye",
        "outputId": "1dbc3547-92aa-459c-d7ee-fc65affc35ee"
      },
      "execution_count": null,
      "outputs": [
        {
          "output_type": "display_data",
          "data": {
            "text/plain": [
              "\n",
              "\tWelch Two Sample t-test\n",
              "\n",
              "data:  class_a and class_b\n",
              "t = -4.0548, df = 183.48, p-value = 7.408e-05\n",
              "alternative hypothesis: true difference in means is not equal to 0\n",
              "95 percent confidence interval:\n",
              " -5.646441 -1.950144\n",
              "sample estimates:\n",
              "mean of x mean of y \n",
              " 79.87363  83.67193 \n"
            ]
          },
          "metadata": {}
        }
      ]
    },
    {
      "cell_type": "markdown",
      "source": [
        "- test that `class_a` is greater than `class_b`"
      ],
      "metadata": {
        "id": "0k_yXUNuKs3-"
      }
    },
    {
      "cell_type": "code",
      "source": [
        "t.test(class_a, class_b, alternative = 'greater')"
      ],
      "metadata": {
        "colab": {
          "base_uri": "https://localhost:8080/",
          "height": 208
        },
        "id": "JC6uHL0uKyAv",
        "outputId": "77321970-ef37-4579-b662-5a8eb7ed01c4"
      },
      "execution_count": null,
      "outputs": [
        {
          "output_type": "display_data",
          "data": {
            "text/plain": [
              "\n",
              "\tWelch Two Sample t-test\n",
              "\n",
              "data:  class_a and class_b\n",
              "t = -4.0548, df = 183.48, p-value = 1\n",
              "alternative hypothesis: true difference in means is greater than 0\n",
              "95 percent confidence interval:\n",
              " -5.346896       Inf\n",
              "sample estimates:\n",
              "mean of x mean of y \n",
              " 79.87363  83.67193 \n"
            ]
          },
          "metadata": {}
        }
      ]
    },
    {
      "cell_type": "code",
      "source": [
        "t.test(class_a, class_b, alternative = 'less')"
      ],
      "metadata": {
        "colab": {
          "base_uri": "https://localhost:8080/",
          "height": 208
        },
        "id": "WglrXGgBam6p",
        "outputId": "d8beb2df-d568-4b39-a1ae-3f27f050dafe"
      },
      "execution_count": null,
      "outputs": [
        {
          "output_type": "display_data",
          "data": {
            "text/plain": [
              "\n",
              "\tWelch Two Sample t-test\n",
              "\n",
              "data:  class_a and class_b\n",
              "t = -4.0548, df = 183.48, p-value = 3.704e-05\n",
              "alternative hypothesis: true difference in means is less than 0\n",
              "95 percent confidence interval:\n",
              "      -Inf -2.249689\n",
              "sample estimates:\n",
              "mean of x mean of y \n",
              " 79.87363  83.67193 \n"
            ]
          },
          "metadata": {}
        }
      ]
    },
    {
      "cell_type": "markdown",
      "source": [
        "Load in the `loan_approval` data.  Set up and carry out a one sample and two sample test of proportions and means.  Interpret the results."
      ],
      "metadata": {
        "id": "Vze7h_WELUBj"
      }
    },
    {
      "cell_type": "code",
      "source": [
        "loans <- read_csv('loan_approval.csv')\n",
        "head(loans)"
      ],
      "metadata": {
        "colab": {
          "base_uri": "https://localhost:8080/",
          "height": 462
        },
        "id": "15JBXUhOLev6",
        "outputId": "e90b3033-ed7e-4f9c-dae8-cc0e1ba19efb"
      },
      "execution_count": null,
      "outputs": [
        {
          "output_type": "stream",
          "name": "stderr",
          "text": [
            "\u001b[1mRows: \u001b[22m\u001b[34m614\u001b[39m \u001b[1mColumns: \u001b[22m\u001b[34m13\u001b[39m\n",
            "\u001b[36m──\u001b[39m \u001b[1mColumn specification\u001b[22m \u001b[36m────────────────────────────────────────────────────────\u001b[39m\n",
            "\u001b[1mDelimiter:\u001b[22m \",\"\n",
            "\u001b[31mchr\u001b[39m (8): Loan_ID, Gender, Married, Dependents, Education, Self_Employed, Pro...\n",
            "\u001b[32mdbl\u001b[39m (5): ApplicantIncome, CoapplicantIncome, LoanAmount, Loan_Amount_Term, C...\n",
            "\n",
            "\u001b[36mℹ\u001b[39m Use `spec()` to retrieve the full column specification for this data.\n",
            "\u001b[36mℹ\u001b[39m Specify the column types or set `show_col_types = FALSE` to quiet this message.\n"
          ]
        },
        {
          "output_type": "display_data",
          "data": {
            "text/html": [
              "<table class=\"dataframe\">\n",
              "<caption>A tibble: 6 × 13</caption>\n",
              "<thead>\n",
              "\t<tr><th scope=col>Loan_ID</th><th scope=col>Gender</th><th scope=col>Married</th><th scope=col>Dependents</th><th scope=col>Education</th><th scope=col>Self_Employed</th><th scope=col>ApplicantIncome</th><th scope=col>CoapplicantIncome</th><th scope=col>LoanAmount</th><th scope=col>Loan_Amount_Term</th><th scope=col>Credit_History</th><th scope=col>Property_Area</th><th scope=col>Loan_Status</th></tr>\n",
              "\t<tr><th scope=col>&lt;chr&gt;</th><th scope=col>&lt;chr&gt;</th><th scope=col>&lt;chr&gt;</th><th scope=col>&lt;chr&gt;</th><th scope=col>&lt;chr&gt;</th><th scope=col>&lt;chr&gt;</th><th scope=col>&lt;dbl&gt;</th><th scope=col>&lt;dbl&gt;</th><th scope=col>&lt;dbl&gt;</th><th scope=col>&lt;dbl&gt;</th><th scope=col>&lt;dbl&gt;</th><th scope=col>&lt;chr&gt;</th><th scope=col>&lt;chr&gt;</th></tr>\n",
              "</thead>\n",
              "<tbody>\n",
              "\t<tr><td>LP001002</td><td>Male</td><td>No </td><td>0</td><td>Graduate    </td><td>No </td><td>5849</td><td>   0</td><td> NA</td><td>360</td><td>1</td><td>Urban</td><td>Y</td></tr>\n",
              "\t<tr><td>LP001003</td><td>Male</td><td>Yes</td><td>1</td><td>Graduate    </td><td>No </td><td>4583</td><td>1508</td><td>128</td><td>360</td><td>1</td><td>Rural</td><td>N</td></tr>\n",
              "\t<tr><td>LP001005</td><td>Male</td><td>Yes</td><td>0</td><td>Graduate    </td><td>Yes</td><td>3000</td><td>   0</td><td> 66</td><td>360</td><td>1</td><td>Urban</td><td>Y</td></tr>\n",
              "\t<tr><td>LP001006</td><td>Male</td><td>Yes</td><td>0</td><td>Not Graduate</td><td>No </td><td>2583</td><td>2358</td><td>120</td><td>360</td><td>1</td><td>Urban</td><td>Y</td></tr>\n",
              "\t<tr><td>LP001008</td><td>Male</td><td>No </td><td>0</td><td>Graduate    </td><td>No </td><td>6000</td><td>   0</td><td>141</td><td>360</td><td>1</td><td>Urban</td><td>Y</td></tr>\n",
              "\t<tr><td>LP001011</td><td>Male</td><td>Yes</td><td>2</td><td>Graduate    </td><td>Yes</td><td>5417</td><td>4196</td><td>267</td><td>360</td><td>1</td><td>Urban</td><td>Y</td></tr>\n",
              "</tbody>\n",
              "</table>\n"
            ],
            "text/markdown": "\nA tibble: 6 × 13\n\n| Loan_ID &lt;chr&gt; | Gender &lt;chr&gt; | Married &lt;chr&gt; | Dependents &lt;chr&gt; | Education &lt;chr&gt; | Self_Employed &lt;chr&gt; | ApplicantIncome &lt;dbl&gt; | CoapplicantIncome &lt;dbl&gt; | LoanAmount &lt;dbl&gt; | Loan_Amount_Term &lt;dbl&gt; | Credit_History &lt;dbl&gt; | Property_Area &lt;chr&gt; | Loan_Status &lt;chr&gt; |\n|---|---|---|---|---|---|---|---|---|---|---|---|---|\n| LP001002 | Male | No  | 0 | Graduate     | No  | 5849 |    0 |  NA | 360 | 1 | Urban | Y |\n| LP001003 | Male | Yes | 1 | Graduate     | No  | 4583 | 1508 | 128 | 360 | 1 | Rural | N |\n| LP001005 | Male | Yes | 0 | Graduate     | Yes | 3000 |    0 |  66 | 360 | 1 | Urban | Y |\n| LP001006 | Male | Yes | 0 | Not Graduate | No  | 2583 | 2358 | 120 | 360 | 1 | Urban | Y |\n| LP001008 | Male | No  | 0 | Graduate     | No  | 6000 |    0 | 141 | 360 | 1 | Urban | Y |\n| LP001011 | Male | Yes | 2 | Graduate     | Yes | 5417 | 4196 | 267 | 360 | 1 | Urban | Y |\n\n",
            "text/latex": "A tibble: 6 × 13\n\\begin{tabular}{lllllllllllll}\n Loan\\_ID & Gender & Married & Dependents & Education & Self\\_Employed & ApplicantIncome & CoapplicantIncome & LoanAmount & Loan\\_Amount\\_Term & Credit\\_History & Property\\_Area & Loan\\_Status\\\\\n <chr> & <chr> & <chr> & <chr> & <chr> & <chr> & <dbl> & <dbl> & <dbl> & <dbl> & <dbl> & <chr> & <chr>\\\\\n\\hline\n\t LP001002 & Male & No  & 0 & Graduate     & No  & 5849 &    0 &  NA & 360 & 1 & Urban & Y\\\\\n\t LP001003 & Male & Yes & 1 & Graduate     & No  & 4583 & 1508 & 128 & 360 & 1 & Rural & N\\\\\n\t LP001005 & Male & Yes & 0 & Graduate     & Yes & 3000 &    0 &  66 & 360 & 1 & Urban & Y\\\\\n\t LP001006 & Male & Yes & 0 & Not Graduate & No  & 2583 & 2358 & 120 & 360 & 1 & Urban & Y\\\\\n\t LP001008 & Male & No  & 0 & Graduate     & No  & 6000 &    0 & 141 & 360 & 1 & Urban & Y\\\\\n\t LP001011 & Male & Yes & 2 & Graduate     & Yes & 5417 & 4196 & 267 & 360 & 1 & Urban & Y\\\\\n\\end{tabular}\n",
            "text/plain": [
              "  Loan_ID  Gender Married Dependents Education    Self_Employed ApplicantIncome\n",
              "1 LP001002 Male   No      0          Graduate     No            5849           \n",
              "2 LP001003 Male   Yes     1          Graduate     No            4583           \n",
              "3 LP001005 Male   Yes     0          Graduate     Yes           3000           \n",
              "4 LP001006 Male   Yes     0          Not Graduate No            2583           \n",
              "5 LP001008 Male   No      0          Graduate     No            6000           \n",
              "6 LP001011 Male   Yes     2          Graduate     Yes           5417           \n",
              "  CoapplicantIncome LoanAmount Loan_Amount_Term Credit_History Property_Area\n",
              "1    0               NA        360              1              Urban        \n",
              "2 1508              128        360              1              Rural        \n",
              "3    0               66        360              1              Urban        \n",
              "4 2358              120        360              1              Urban        \n",
              "5    0              141        360              1              Urban        \n",
              "6 4196              267        360              1              Urban        \n",
              "  Loan_Status\n",
              "1 Y          \n",
              "2 N          \n",
              "3 Y          \n",
              "4 Y          \n",
              "5 Y          \n",
              "6 Y          "
            ]
          },
          "metadata": {}
        }
      ]
    },
    {
      "cell_type": "code",
      "source": [
        "table(loans$Gender, loans$Loan_Status)"
      ],
      "metadata": {
        "colab": {
          "base_uri": "https://localhost:8080/",
          "height": 86
        },
        "id": "hBa_AC8ti7PJ",
        "outputId": "9c6769b8-e439-482e-b07f-d6c1d14fe980"
      },
      "execution_count": null,
      "outputs": [
        {
          "output_type": "display_data",
          "data": {
            "text/plain": [
              "        \n",
              "           N   Y\n",
              "  Female  37  75\n",
              "  Male   150 339"
            ]
          },
          "metadata": {}
        }
      ]
    },
    {
      "cell_type": "code",
      "source": [
        "#test for one proportion\n",
        "prop.test(75, 75+37, p = .5, alternative = 'greater')"
      ],
      "metadata": {
        "colab": {
          "base_uri": "https://localhost:8080/",
          "height": 208
        },
        "id": "mwAYHxF5c7Ee",
        "outputId": "a909abd1-8b9d-481a-fad5-c51dcf4e921d"
      },
      "execution_count": null,
      "outputs": [
        {
          "output_type": "display_data",
          "data": {
            "text/plain": [
              "\n",
              "\t1-sample proportions test with continuity correction\n",
              "\n",
              "data:  75 out of 75 + 37, null probability 0.5\n",
              "X-squared = 12.223, df = 1, p-value = 0.000236\n",
              "alternative hypothesis: true p is greater than 0.5\n",
              "95 percent confidence interval:\n",
              " 0.5886991 1.0000000\n",
              "sample estimates:\n",
              "        p \n",
              "0.6696429 \n"
            ]
          },
          "metadata": {}
        }
      ]
    },
    {
      "cell_type": "code",
      "source": [
        "#test for two proportions\n"
      ],
      "metadata": {
        "id": "AZ_3IO54c6ea"
      },
      "execution_count": null,
      "outputs": []
    },
    {
      "cell_type": "code",
      "source": [
        "#null hypothesis income = 5000\n",
        "t.test(loans$ApplicantIncome, mu = 5000)"
      ],
      "metadata": {
        "colab": {
          "base_uri": "https://localhost:8080/",
          "height": 208
        },
        "id": "rCmWsC1VLesz",
        "outputId": "d316823a-372a-42ff-8fcf-ad62227f4ebd"
      },
      "execution_count": null,
      "outputs": [
        {
          "output_type": "display_data",
          "data": {
            "text/plain": [
              "\n",
              "\tOne Sample t-test\n",
              "\n",
              "data:  loans$ApplicantIncome\n",
              "t = 1.6365, df = 613, p-value = 0.1023\n",
              "alternative hypothesis: true mean is not equal to 5000\n",
              "95 percent confidence interval:\n",
              " 4919.292 5887.626\n",
              "sample estimates:\n",
              "mean of x \n",
              " 5403.459 \n"
            ]
          },
          "metadata": {}
        }
      ]
    },
    {
      "cell_type": "code",
      "source": [
        "t.test(loans$ApplicantIncome, mu = 5000, alternative = 'greater')"
      ],
      "metadata": {
        "colab": {
          "base_uri": "https://localhost:8080/",
          "height": 208
        },
        "id": "IzsSCkN2Lep8",
        "outputId": "03d37a28-8af7-4b1a-d36f-f445769f02b4"
      },
      "execution_count": null,
      "outputs": [
        {
          "output_type": "display_data",
          "data": {
            "text/plain": [
              "\n",
              "\tOne Sample t-test\n",
              "\n",
              "data:  loans$ApplicantIncome\n",
              "t = 1.6365, df = 613, p-value = 0.05113\n",
              "alternative hypothesis: true mean is greater than 5000\n",
              "95 percent confidence interval:\n",
              " 4997.322      Inf\n",
              "sample estimates:\n",
              "mean of x \n",
              " 5403.459 \n"
            ]
          },
          "metadata": {}
        }
      ]
    },
    {
      "cell_type": "code",
      "source": [
        "t.test(ApplicantIncome ~ Loan_Status, data = loans)"
      ],
      "metadata": {
        "colab": {
          "base_uri": "https://localhost:8080/",
          "height": 225
        },
        "id": "uLe1Y8lKLenV",
        "outputId": "7268b4fe-82d9-432a-ec8c-61bf0dc83076"
      },
      "execution_count": null,
      "outputs": [
        {
          "output_type": "display_data",
          "data": {
            "text/plain": [
              "\n",
              "\tWelch Two Sample t-test\n",
              "\n",
              "data:  ApplicantIncome by Loan_Status\n",
              "t = 0.10945, df = 320.07, p-value = 0.9129\n",
              "alternative hypothesis: true difference in means between group N and group Y is not equal to 0\n",
              "95 percent confidence interval:\n",
              " -1052.641  1176.660\n",
              "sample estimates:\n",
              "mean in group N mean in group Y \n",
              "       5446.078        5384.069 \n"
            ]
          },
          "metadata": {}
        }
      ]
    },
    {
      "cell_type": "code",
      "source": [
        "loans %>%\n",
        "  group_by(Loan_Status) %>%\n",
        "  summarise(mean(ApplicantIncome))"
      ],
      "metadata": {
        "colab": {
          "base_uri": "https://localhost:8080/",
          "height": 161
        },
        "id": "dDsXE6KkLeiY",
        "outputId": "9edd54e2-0f10-4107-8571-4e0c875b3eda"
      },
      "execution_count": null,
      "outputs": [
        {
          "output_type": "display_data",
          "data": {
            "text/html": [
              "<table class=\"dataframe\">\n",
              "<caption>A tibble: 2 × 2</caption>\n",
              "<thead>\n",
              "\t<tr><th scope=col>Loan_Status</th><th scope=col>mean(ApplicantIncome)</th></tr>\n",
              "\t<tr><th scope=col>&lt;chr&gt;</th><th scope=col>&lt;dbl&gt;</th></tr>\n",
              "</thead>\n",
              "<tbody>\n",
              "\t<tr><td>N</td><td>5446.078</td></tr>\n",
              "\t<tr><td>Y</td><td>5384.069</td></tr>\n",
              "</tbody>\n",
              "</table>\n"
            ],
            "text/markdown": "\nA tibble: 2 × 2\n\n| Loan_Status &lt;chr&gt; | mean(ApplicantIncome) &lt;dbl&gt; |\n|---|---|\n| N | 5446.078 |\n| Y | 5384.069 |\n\n",
            "text/latex": "A tibble: 2 × 2\n\\begin{tabular}{ll}\n Loan\\_Status & mean(ApplicantIncome)\\\\\n <chr> & <dbl>\\\\\n\\hline\n\t N & 5446.078\\\\\n\t Y & 5384.069\\\\\n\\end{tabular}\n",
            "text/plain": [
              "  Loan_Status mean(ApplicantIncome)\n",
              "1 N           5446.078             \n",
              "2 Y           5384.069             "
            ]
          },
          "metadata": {}
        }
      ]
    },
    {
      "cell_type": "code",
      "source": [],
      "metadata": {
        "id": "sbKfoW56Lefx"
      },
      "execution_count": null,
      "outputs": []
    },
    {
      "cell_type": "code",
      "source": [],
      "metadata": {
        "id": "g-gLD0q2Ldry"
      },
      "execution_count": null,
      "outputs": []
    },
    {
      "cell_type": "markdown",
      "source": [
        "#### Regression"
      ],
      "metadata": {
        "id": "_LH06mOPLfUp"
      }
    },
    {
      "cell_type": "code",
      "source": [
        "head(diamonds)"
      ],
      "metadata": {
        "colab": {
          "base_uri": "https://localhost:8080/",
          "height": 286
        },
        "id": "Yc8H4uF8LhUt",
        "outputId": "039145c2-0b5e-4647-a95a-fea3bc20f1b2"
      },
      "execution_count": null,
      "outputs": [
        {
          "output_type": "display_data",
          "data": {
            "text/html": [
              "<table class=\"dataframe\">\n",
              "<caption>A tibble: 6 × 10</caption>\n",
              "<thead>\n",
              "\t<tr><th scope=col>carat</th><th scope=col>cut</th><th scope=col>color</th><th scope=col>clarity</th><th scope=col>depth</th><th scope=col>table</th><th scope=col>price</th><th scope=col>x</th><th scope=col>y</th><th scope=col>z</th></tr>\n",
              "\t<tr><th scope=col>&lt;dbl&gt;</th><th scope=col>&lt;ord&gt;</th><th scope=col>&lt;ord&gt;</th><th scope=col>&lt;ord&gt;</th><th scope=col>&lt;dbl&gt;</th><th scope=col>&lt;dbl&gt;</th><th scope=col>&lt;int&gt;</th><th scope=col>&lt;dbl&gt;</th><th scope=col>&lt;dbl&gt;</th><th scope=col>&lt;dbl&gt;</th></tr>\n",
              "</thead>\n",
              "<tbody>\n",
              "\t<tr><td>0.23</td><td>Ideal    </td><td>E</td><td>SI2 </td><td>61.5</td><td>55</td><td>326</td><td>3.95</td><td>3.98</td><td>2.43</td></tr>\n",
              "\t<tr><td>0.21</td><td>Premium  </td><td>E</td><td>SI1 </td><td>59.8</td><td>61</td><td>326</td><td>3.89</td><td>3.84</td><td>2.31</td></tr>\n",
              "\t<tr><td>0.23</td><td>Good     </td><td>E</td><td>VS1 </td><td>56.9</td><td>65</td><td>327</td><td>4.05</td><td>4.07</td><td>2.31</td></tr>\n",
              "\t<tr><td>0.29</td><td>Premium  </td><td>I</td><td>VS2 </td><td>62.4</td><td>58</td><td>334</td><td>4.20</td><td>4.23</td><td>2.63</td></tr>\n",
              "\t<tr><td>0.31</td><td>Good     </td><td>J</td><td>SI2 </td><td>63.3</td><td>58</td><td>335</td><td>4.34</td><td>4.35</td><td>2.75</td></tr>\n",
              "\t<tr><td>0.24</td><td>Very Good</td><td>J</td><td>VVS2</td><td>62.8</td><td>57</td><td>336</td><td>3.94</td><td>3.96</td><td>2.48</td></tr>\n",
              "</tbody>\n",
              "</table>\n"
            ],
            "text/markdown": "\nA tibble: 6 × 10\n\n| carat &lt;dbl&gt; | cut &lt;ord&gt; | color &lt;ord&gt; | clarity &lt;ord&gt; | depth &lt;dbl&gt; | table &lt;dbl&gt; | price &lt;int&gt; | x &lt;dbl&gt; | y &lt;dbl&gt; | z &lt;dbl&gt; |\n|---|---|---|---|---|---|---|---|---|---|\n| 0.23 | Ideal     | E | SI2  | 61.5 | 55 | 326 | 3.95 | 3.98 | 2.43 |\n| 0.21 | Premium   | E | SI1  | 59.8 | 61 | 326 | 3.89 | 3.84 | 2.31 |\n| 0.23 | Good      | E | VS1  | 56.9 | 65 | 327 | 4.05 | 4.07 | 2.31 |\n| 0.29 | Premium   | I | VS2  | 62.4 | 58 | 334 | 4.20 | 4.23 | 2.63 |\n| 0.31 | Good      | J | SI2  | 63.3 | 58 | 335 | 4.34 | 4.35 | 2.75 |\n| 0.24 | Very Good | J | VVS2 | 62.8 | 57 | 336 | 3.94 | 3.96 | 2.48 |\n\n",
            "text/latex": "A tibble: 6 × 10\n\\begin{tabular}{llllllllll}\n carat & cut & color & clarity & depth & table & price & x & y & z\\\\\n <dbl> & <ord> & <ord> & <ord> & <dbl> & <dbl> & <int> & <dbl> & <dbl> & <dbl>\\\\\n\\hline\n\t 0.23 & Ideal     & E & SI2  & 61.5 & 55 & 326 & 3.95 & 3.98 & 2.43\\\\\n\t 0.21 & Premium   & E & SI1  & 59.8 & 61 & 326 & 3.89 & 3.84 & 2.31\\\\\n\t 0.23 & Good      & E & VS1  & 56.9 & 65 & 327 & 4.05 & 4.07 & 2.31\\\\\n\t 0.29 & Premium   & I & VS2  & 62.4 & 58 & 334 & 4.20 & 4.23 & 2.63\\\\\n\t 0.31 & Good      & J & SI2  & 63.3 & 58 & 335 & 4.34 & 4.35 & 2.75\\\\\n\t 0.24 & Very Good & J & VVS2 & 62.8 & 57 & 336 & 3.94 & 3.96 & 2.48\\\\\n\\end{tabular}\n",
            "text/plain": [
              "  carat cut       color clarity depth table price x    y    z   \n",
              "1 0.23  Ideal     E     SI2     61.5  55    326   3.95 3.98 2.43\n",
              "2 0.21  Premium   E     SI1     59.8  61    326   3.89 3.84 2.31\n",
              "3 0.23  Good      E     VS1     56.9  65    327   4.05 4.07 2.31\n",
              "4 0.29  Premium   I     VS2     62.4  58    334   4.20 4.23 2.63\n",
              "5 0.31  Good      J     SI2     63.3  58    335   4.34 4.35 2.75\n",
              "6 0.24  Very Good J     VVS2    62.8  57    336   3.94 3.96 2.48"
            ]
          },
          "metadata": {}
        }
      ]
    },
    {
      "cell_type": "code",
      "source": [
        "#carat vs. price\n",
        "lm(price ~ carat, data = diamonds)"
      ],
      "metadata": {
        "colab": {
          "base_uri": "https://localhost:8080/",
          "height": 139
        },
        "id": "rast10UdMFE6",
        "outputId": "bf4362c0-1054-4dee-a624-e1e2bdbba181"
      },
      "execution_count": null,
      "outputs": [
        {
          "output_type": "display_data",
          "data": {
            "text/plain": [
              "\n",
              "Call:\n",
              "lm(formula = price ~ carat, data = diamonds)\n",
              "\n",
              "Coefficients:\n",
              "(Intercept)        carat  \n",
              "      -2256         7756  \n"
            ]
          },
          "metadata": {}
        }
      ]
    },
    {
      "cell_type": "code",
      "source": [
        "#regression model\n",
        "regression_model <- lm(price ~ carat, data = diamonds)"
      ],
      "metadata": {
        "id": "aBZj78g3MLpL"
      },
      "execution_count": null,
      "outputs": []
    },
    {
      "cell_type": "code",
      "source": [
        "#hypothesis test\n",
        "summary(regression_model)"
      ],
      "metadata": {
        "colab": {
          "base_uri": "https://localhost:8080/",
          "height": 329
        },
        "id": "09LsgsArMN22",
        "outputId": "32991832-a5c5-4a6c-c0ab-466821933809"
      },
      "execution_count": null,
      "outputs": [
        {
          "output_type": "display_data",
          "data": {
            "text/plain": [
              "\n",
              "Call:\n",
              "lm(formula = price ~ carat, data = diamonds)\n",
              "\n",
              "Residuals:\n",
              "     Min       1Q   Median       3Q      Max \n",
              "-18585.3   -804.8    -18.9    537.4  12731.7 \n",
              "\n",
              "Coefficients:\n",
              "            Estimate Std. Error t value Pr(>|t|)    \n",
              "(Intercept) -2256.36      13.06  -172.8   <2e-16 ***\n",
              "carat        7756.43      14.07   551.4   <2e-16 ***\n",
              "---\n",
              "Signif. codes:  0 ‘***’ 0.001 ‘**’ 0.01 ‘*’ 0.05 ‘.’ 0.1 ‘ ’ 1\n",
              "\n",
              "Residual standard error: 1549 on 53938 degrees of freedom\n",
              "Multiple R-squared:  0.8493,\tAdjusted R-squared:  0.8493 \n",
              "F-statistic: 3.041e+05 on 1 and 53938 DF,  p-value: < 2.2e-16\n"
            ]
          },
          "metadata": {}
        }
      ]
    },
    {
      "cell_type": "code",
      "source": [
        "ggplot(diamonds, aes(x = carat, y = price)) +\n",
        "  geom_point() +\n",
        "    geom_smooth(method = 'lm')"
      ],
      "metadata": {
        "colab": {
          "base_uri": "https://localhost:8080/",
          "height": 454
        },
        "id": "d13AhQ_ooGMk",
        "outputId": "1d523438-5a69-45c3-8d59-7744bfb51146"
      },
      "execution_count": null,
      "outputs": [
        {
          "output_type": "stream",
          "name": "stderr",
          "text": [
            "\u001b[1m\u001b[22m`geom_smooth()` using formula = 'y ~ x'\n"
          ]
        },
        {
          "output_type": "display_data",
          "data": {
            "text/plain": [
              "plot without title"
            ],
            "image/png": "[encoded data removed]"
          },
          "metadata": {
            "image/png": {
              "width": 420,
              "height": 420
            }
          }
        }
      ]
    },
    {
      "cell_type": "code",
      "source": [
        "regression_model <- lm(price ~ 0 + carat, data = diamonds)\n",
        "summary(regression_model)"
      ],
      "metadata": {
        "colab": {
          "base_uri": "https://localhost:8080/",
          "height": 312
        },
        "id": "e8vO-S1OoseX",
        "outputId": "df0b58d6-f95f-49fb-b5b3-3b74d12ea12f"
      },
      "execution_count": null,
      "outputs": [
        {
          "output_type": "display_data",
          "data": {
            "text/plain": [
              "\n",
              "Call:\n",
              "lm(formula = price ~ 0 + carat, data = diamonds)\n",
              "\n",
              "Residuals:\n",
              "     Min       1Q   Median       3Q      Max \n",
              "-10486.8  -1473.9  -1136.2   -674.9  12649.1 \n",
              "\n",
              "Coefficients:\n",
              "      Estimate Std. Error t value Pr(>|t|)    \n",
              "carat 5666.270      8.955   632.8   <2e-16 ***\n",
              "---\n",
              "Signif. codes:  0 ‘***’ 0.001 ‘**’ 0.01 ‘*’ 0.05 ‘.’ 0.1 ‘ ’ 1\n",
              "\n",
              "Residual standard error: 1930 on 53939 degrees of freedom\n",
              "Multiple R-squared:  0.8813,\tAdjusted R-squared:  0.8813 \n",
              "F-statistic: 4.004e+05 on 1 and 53939 DF,  p-value: < 2.2e-16\n"
            ]
          },
          "metadata": {}
        }
      ]
    },
    {
      "cell_type": "markdown",
      "source": [
        "Subset to Ideal and Fair cut, use carat to predict with logistic model."
      ],
      "metadata": {
        "id": "3KhDWM9aMPyb"
      }
    },
    {
      "cell_type": "code",
      "source": [
        "#subset the data -- only contain Ideal or Fair cuts???\n",
        "# diamonds %>%\n",
        "#   filter(cut %in% c('Ideal', 'Fair'))\n",
        "\n",
        "# data=filter(diamonds,diamonds$cut==c('Ideal','Fair'))\n",
        "\n",
        "log_reg_diamond <- subset(diamonds, cut %in% c(\"Fair\", \"Ideal\"))"
      ],
      "metadata": {
        "id": "yy_cbWvrMjkA"
      },
      "execution_count": null,
      "outputs": []
    },
    {
      "cell_type": "code",
      "source": [],
      "metadata": {
        "id": "MmFk1tH3rZ7G"
      },
      "execution_count": null,
      "outputs": []
    },
    {
      "cell_type": "code",
      "source": [
        "#build model\n",
        "# X = diamonds$cut\n",
        "# y = diamonds$carat\n",
        "\n",
        "lgr_model <- glm(cut ~ carat, data = log_reg_diamond, family = 'binomial')"
      ],
      "metadata": {
        "id": "Yj0luLxOM1HM"
      },
      "execution_count": null,
      "outputs": []
    },
    {
      "cell_type": "code",
      "source": [
        "#examine results\n",
        "summary(lgr_model)"
      ],
      "metadata": {
        "colab": {
          "base_uri": "https://localhost:8080/",
          "height": 329
        },
        "id": "OsWjoqkpNFOz",
        "outputId": "6e185eb4-6a87-4cae-9827-ea4cf2f5535c"
      },
      "execution_count": null,
      "outputs": [
        {
          "output_type": "display_data",
          "data": {
            "text/plain": [
              "\n",
              "Call:\n",
              "glm(formula = cut ~ carat, family = \"binomial\", data = log_reg_diamond)\n",
              "\n",
              "Coefficients:\n",
              "            Estimate Std. Error z value Pr(>|z|)    \n",
              "(Intercept)  3.70507    0.05341   69.37   <2e-16 ***\n",
              "carat       -1.30101    0.04709  -27.63   <2e-16 ***\n",
              "---\n",
              "Signif. codes:  0 ‘***’ 0.001 ‘**’ 0.01 ‘*’ 0.05 ‘.’ 0.1 ‘ ’ 1\n",
              "\n",
              "(Dispersion parameter for binomial family taken to be 1)\n",
              "\n",
              "    Null deviance: 11691  on 23160  degrees of freedom\n",
              "Residual deviance: 10976  on 23159  degrees of freedom\n",
              "AIC: 10980\n",
              "\n",
              "Number of Fisher Scoring iterations: 5\n"
            ]
          },
          "metadata": {}
        }
      ]
    },
    {
      "cell_type": "markdown",
      "source": [
        "Return to the `loan_approval` data.  Build a logistic model and discuss the results of hypothesis tests on your features."
      ],
      "metadata": {
        "id": "d1nGtBpFNJNn"
      }
    },
    {
      "cell_type": "code",
      "source": [
        "#build model and discuss what features were/were not significant\n",
        "# in predicting loan approval\n",
        "head(loans)"
      ],
      "metadata": {
        "colab": {
          "base_uri": "https://localhost:8080/",
          "height": 324
        },
        "id": "4juUc12YNQvP",
        "outputId": "f2ff3d5e-3d55-4c55-959f-4a29f976c041"
      },
      "execution_count": null,
      "outputs": [
        {
          "output_type": "display_data",
          "data": {
            "text/html": [
              "<table class=\"dataframe\">\n",
              "<caption>A tibble: 6 × 13</caption>\n",
              "<thead>\n",
              "\t<tr><th scope=col>Loan_ID</th><th scope=col>Gender</th><th scope=col>Married</th><th scope=col>Dependents</th><th scope=col>Education</th><th scope=col>Self_Employed</th><th scope=col>ApplicantIncome</th><th scope=col>CoapplicantIncome</th><th scope=col>LoanAmount</th><th scope=col>Loan_Amount_Term</th><th scope=col>Credit_History</th><th scope=col>Property_Area</th><th scope=col>Loan_Status</th></tr>\n",
              "\t<tr><th scope=col>&lt;chr&gt;</th><th scope=col>&lt;chr&gt;</th><th scope=col>&lt;chr&gt;</th><th scope=col>&lt;chr&gt;</th><th scope=col>&lt;chr&gt;</th><th scope=col>&lt;chr&gt;</th><th scope=col>&lt;dbl&gt;</th><th scope=col>&lt;dbl&gt;</th><th scope=col>&lt;dbl&gt;</th><th scope=col>&lt;dbl&gt;</th><th scope=col>&lt;dbl&gt;</th><th scope=col>&lt;chr&gt;</th><th scope=col>&lt;chr&gt;</th></tr>\n",
              "</thead>\n",
              "<tbody>\n",
              "\t<tr><td>LP001002</td><td>Male</td><td>No </td><td>0</td><td>Graduate    </td><td>No </td><td>5849</td><td>   0</td><td> NA</td><td>360</td><td>1</td><td>Urban</td><td>Y</td></tr>\n",
              "\t<tr><td>LP001003</td><td>Male</td><td>Yes</td><td>1</td><td>Graduate    </td><td>No </td><td>4583</td><td>1508</td><td>128</td><td>360</td><td>1</td><td>Rural</td><td>N</td></tr>\n",
              "\t<tr><td>LP001005</td><td>Male</td><td>Yes</td><td>0</td><td>Graduate    </td><td>Yes</td><td>3000</td><td>   0</td><td> 66</td><td>360</td><td>1</td><td>Urban</td><td>Y</td></tr>\n",
              "\t<tr><td>LP001006</td><td>Male</td><td>Yes</td><td>0</td><td>Not Graduate</td><td>No </td><td>2583</td><td>2358</td><td>120</td><td>360</td><td>1</td><td>Urban</td><td>Y</td></tr>\n",
              "\t<tr><td>LP001008</td><td>Male</td><td>No </td><td>0</td><td>Graduate    </td><td>No </td><td>6000</td><td>   0</td><td>141</td><td>360</td><td>1</td><td>Urban</td><td>Y</td></tr>\n",
              "\t<tr><td>LP001011</td><td>Male</td><td>Yes</td><td>2</td><td>Graduate    </td><td>Yes</td><td>5417</td><td>4196</td><td>267</td><td>360</td><td>1</td><td>Urban</td><td>Y</td></tr>\n",
              "</tbody>\n",
              "</table>\n"
            ],
            "text/markdown": "\nA tibble: 6 × 13\n\n| Loan_ID &lt;chr&gt; | Gender &lt;chr&gt; | Married &lt;chr&gt; | Dependents &lt;chr&gt; | Education &lt;chr&gt; | Self_Employed &lt;chr&gt; | ApplicantIncome &lt;dbl&gt; | CoapplicantIncome &lt;dbl&gt; | LoanAmount &lt;dbl&gt; | Loan_Amount_Term &lt;dbl&gt; | Credit_History &lt;dbl&gt; | Property_Area &lt;chr&gt; | Loan_Status &lt;chr&gt; |\n|---|---|---|---|---|---|---|---|---|---|---|---|---|\n| LP001002 | Male | No  | 0 | Graduate     | No  | 5849 |    0 |  NA | 360 | 1 | Urban | Y |\n| LP001003 | Male | Yes | 1 | Graduate     | No  | 4583 | 1508 | 128 | 360 | 1 | Rural | N |\n| LP001005 | Male | Yes | 0 | Graduate     | Yes | 3000 |    0 |  66 | 360 | 1 | Urban | Y |\n| LP001006 | Male | Yes | 0 | Not Graduate | No  | 2583 | 2358 | 120 | 360 | 1 | Urban | Y |\n| LP001008 | Male | No  | 0 | Graduate     | No  | 6000 |    0 | 141 | 360 | 1 | Urban | Y |\n| LP001011 | Male | Yes | 2 | Graduate     | Yes | 5417 | 4196 | 267 | 360 | 1 | Urban | Y |\n\n",
            "text/latex": "A tibble: 6 × 13\n\\begin{tabular}{lllllllllllll}\n Loan\\_ID & Gender & Married & Dependents & Education & Self\\_Employed & ApplicantIncome & CoapplicantIncome & LoanAmount & Loan\\_Amount\\_Term & Credit\\_History & Property\\_Area & Loan\\_Status\\\\\n <chr> & <chr> & <chr> & <chr> & <chr> & <chr> & <dbl> & <dbl> & <dbl> & <dbl> & <dbl> & <chr> & <chr>\\\\\n\\hline\n\t LP001002 & Male & No  & 0 & Graduate     & No  & 5849 &    0 &  NA & 360 & 1 & Urban & Y\\\\\n\t LP001003 & Male & Yes & 1 & Graduate     & No  & 4583 & 1508 & 128 & 360 & 1 & Rural & N\\\\\n\t LP001005 & Male & Yes & 0 & Graduate     & Yes & 3000 &    0 &  66 & 360 & 1 & Urban & Y\\\\\n\t LP001006 & Male & Yes & 0 & Not Graduate & No  & 2583 & 2358 & 120 & 360 & 1 & Urban & Y\\\\\n\t LP001008 & Male & No  & 0 & Graduate     & No  & 6000 &    0 & 141 & 360 & 1 & Urban & Y\\\\\n\t LP001011 & Male & Yes & 2 & Graduate     & Yes & 5417 & 4196 & 267 & 360 & 1 & Urban & Y\\\\\n\\end{tabular}\n",
            "text/plain": [
              "  Loan_ID  Gender Married Dependents Education    Self_Employed ApplicantIncome\n",
              "1 LP001002 Male   No      0          Graduate     No            5849           \n",
              "2 LP001003 Male   Yes     1          Graduate     No            4583           \n",
              "3 LP001005 Male   Yes     0          Graduate     Yes           3000           \n",
              "4 LP001006 Male   Yes     0          Not Graduate No            2583           \n",
              "5 LP001008 Male   No      0          Graduate     No            6000           \n",
              "6 LP001011 Male   Yes     2          Graduate     Yes           5417           \n",
              "  CoapplicantIncome LoanAmount Loan_Amount_Term Credit_History Property_Area\n",
              "1    0               NA        360              1              Urban        \n",
              "2 1508              128        360              1              Rural        \n",
              "3    0               66        360              1              Urban        \n",
              "4 2358              120        360              1              Urban        \n",
              "5    0              141        360              1              Urban        \n",
              "6 4196              267        360              1              Urban        \n",
              "  Loan_Status\n",
              "1 Y          \n",
              "2 N          \n",
              "3 Y          \n",
              "4 Y          \n",
              "5 Y          \n",
              "6 Y          "
            ]
          },
          "metadata": {}
        }
      ]
    },
    {
      "cell_type": "code",
      "source": [
        "loans$loan_status_3 <- ifelse(loans$Loan_Status == 'Y',1, 0)"
      ],
      "metadata": {
        "id": "IXakJHW6tAF3"
      },
      "execution_count": null,
      "outputs": []
    },
    {
      "cell_type": "code",
      "source": [
        "clf <- glm(loan_status_3 ~ ApplicantIncome + LoanAmount, data = loans, family = 'binomial')"
      ],
      "metadata": {
        "id": "2sgGAeFjNQpP"
      },
      "execution_count": null,
      "outputs": []
    },
    {
      "cell_type": "code",
      "source": [
        "summary(clf)"
      ],
      "metadata": {
        "colab": {
          "base_uri": "https://localhost:8080/",
          "height": 382
        },
        "id": "wfjz6qvmNQma",
        "outputId": "c6038e89-62d5-4c63-d2ec-af0ca88cdf42"
      },
      "execution_count": null,
      "outputs": [
        {
          "output_type": "display_data",
          "data": {
            "text/plain": [
              "\n",
              "Call:\n",
              "glm(formula = loan_status_3 ~ ApplicantIncome + LoanAmount, family = \"binomial\", \n",
              "    data = loans)\n",
              "\n",
              "Coefficients:\n",
              "                  Estimate Std. Error z value Pr(>|z|)    \n",
              "(Intercept)      9.609e-01  1.756e-01   5.471 4.47e-08 ***\n",
              "ApplicantIncome  8.948e-06  1.828e-05   0.489    0.625    \n",
              "LoanAmount      -1.282e-03  1.253e-03  -1.023    0.306    \n",
              "---\n",
              "Signif. codes:  0 ‘***’ 0.001 ‘**’ 0.01 ‘*’ 0.05 ‘.’ 0.1 ‘ ’ 1\n",
              "\n",
              "(Dispersion parameter for binomial family taken to be 1)\n",
              "\n",
              "    Null deviance: 728.93  on 591  degrees of freedom\n",
              "Residual deviance: 727.88  on 589  degrees of freedom\n",
              "  (22 observations deleted due to missingness)\n",
              "AIC: 733.88\n",
              "\n",
              "Number of Fisher Scoring iterations: 4\n"
            ]
          },
          "metadata": {}
        }
      ]
    },
    {
      "cell_type": "code",
      "source": [],
      "metadata": {
        "id": "FqXppyAINQjy"
      },
      "execution_count": null,
      "outputs": []
    },
    {
      "cell_type": "code",
      "source": [],
      "metadata": {
        "id": "k_x3DV5bNGUO"
      },
      "execution_count": null,
      "outputs": []
    },
    {
      "cell_type": "markdown",
      "source": [
        "#### Machine Learning with R\n",
        "\n",
        "Using the [caret](https://topepo.github.io/caret/) package.\n",
        "\n",
        "- Create data split\n",
        "- Cross validation\n",
        "- Model building"
      ],
      "metadata": {
        "id": "T5N_HmFPNRbB"
      }
    },
    {
      "cell_type": "code",
      "source": [
        "install.packages('caret')"
      ],
      "metadata": {
        "colab": {
          "base_uri": "https://localhost:8080/"
        },
        "id": "VLdeOk1jNSx5",
        "outputId": "ae034d5f-7d61-4ff6-8eca-41889b77ad62"
      },
      "execution_count": null,
      "outputs": [
        {
          "output_type": "stream",
          "name": "stderr",
          "text": [
            "Installing package into ‘/usr/local/lib/R/site-library’\n",
            "(as ‘lib’ is unspecified)\n",
            "\n",
            "also installing the dependencies ‘listenv’, ‘parallelly’, ‘future’, ‘globals’, ‘shape’, ‘future.apply’, ‘numDeriv’, ‘progressr’, ‘SQUAREM’, ‘diagram’, ‘lava’, ‘prodlim’, ‘proxy’, ‘iterators’, ‘clock’, ‘gower’, ‘hardhat’, ‘ipred’, ‘timeDate’, ‘e1071’, ‘foreach’, ‘ModelMetrics’, ‘plyr’, ‘pROC’, ‘recipes’, ‘reshape2’\n",
            "\n",
            "\n"
          ]
        }
      ]
    },
    {
      "cell_type": "code",
      "source": [
        "install.packages('mlbench')"
      ],
      "metadata": {
        "colab": {
          "base_uri": "https://localhost:8080/"
        },
        "id": "9wweSfaPNUNT",
        "outputId": "9bc9d162-b263-4980-80dc-5dfea11d6245"
      },
      "execution_count": null,
      "outputs": [
        {
          "output_type": "stream",
          "name": "stderr",
          "text": [
            "Installing package into ‘/usr/local/lib/R/site-library’\n",
            "(as ‘lib’ is unspecified)\n",
            "\n"
          ]
        }
      ]
    },
    {
      "cell_type": "code",
      "source": [],
      "metadata": {
        "id": "rDyNxVM3trnU"
      },
      "execution_count": null,
      "outputs": []
    },
    {
      "cell_type": "code",
      "source": [],
      "metadata": {
        "id": "EKlu0ynUtriY"
      },
      "execution_count": null,
      "outputs": []
    },
    {
      "cell_type": "code",
      "source": [],
      "metadata": {
        "id": "3ao2Y40etree"
      },
      "execution_count": null,
      "outputs": []
    },
    {
      "cell_type": "code",
      "source": [],
      "metadata": {
        "id": "59-8bKRAtrbW"
      },
      "execution_count": null,
      "outputs": []
    },
    {
      "cell_type": "code",
      "source": [],
      "metadata": {
        "id": "wQiuIVm3trXc"
      },
      "execution_count": null,
      "outputs": []
    },
    {
      "cell_type": "code",
      "source": [],
      "metadata": {
        "id": "kLPGyu4PtrSw"
      },
      "execution_count": null,
      "outputs": []
    },
    {
      "cell_type": "code",
      "source": [],
      "metadata": {
        "id": "H0CZYqchR6nI"
      },
      "execution_count": null,
      "outputs": []
    }
  ]
}