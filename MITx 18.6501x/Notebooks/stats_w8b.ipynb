{
  "nbformat": 4,
  "nbformat_minor": 0,
  "metadata": {
    "colab": {
      "provenance": [],
      "include_colab_link": true
    },
    "kernelspec": {
      "name": "ir",
      "display_name": "R"
    },
    "language_info": {
      "name": "R"
    }
  },
  "cells": [
    {
      "cell_type": "markdown",
      "metadata": {
        "id": "view-in-github",
        "colab_type": "text"
      },
      "source": [
        "<a href=\"https://colab.research.google.com/github/IsraaFahmy/Statistics-and-Data-Science-Micromasters-/blob/main/MITx%2018.6501x/Notebooks/stats_w8b.ipynb\" target=\"_parent\"><img src=\"https://colab.research.google.com/assets/colab-badge.svg\" alt=\"Open In Colab\"/></a>"
      ]
    },
    {
      "cell_type": "markdown",
      "source": [
        "### Regression Analysis with R\n",
        "\n",
        "- Perform linear regression analysis using R\n",
        "- Use R to build logistic regression models"
      ],
      "metadata": {
        "id": "Q73sNAk4LlmO"
      }
    },
    {
      "cell_type": "code",
      "source": [
        "library(tidyverse)"
      ],
      "metadata": {
        "colab": {
          "base_uri": "https://localhost:8080/"
        },
        "id": "GRUdQthgL50Y",
        "outputId": "92b1f395-51e2-4900-cb20-7b6bd4b93ce7"
      },
      "execution_count": null,
      "outputs": [
        {
          "output_type": "stream",
          "name": "stderr",
          "text": [
            "── \u001b[1mAttaching packages\u001b[22m ─────────────────────────────────────── tidyverse 1.3.1 ──\n",
            "\n",
            "\u001b[32m✔\u001b[39m \u001b[34mggplot2\u001b[39m 3.4.2     \u001b[32m✔\u001b[39m \u001b[34mpurrr  \u001b[39m 1.0.1\n",
            "\u001b[32m✔\u001b[39m \u001b[34mtibble \u001b[39m 3.2.1     \u001b[32m✔\u001b[39m \u001b[34mdplyr  \u001b[39m 1.1.2\n",
            "\u001b[32m✔\u001b[39m \u001b[34mtidyr  \u001b[39m 1.3.0     \u001b[32m✔\u001b[39m \u001b[34mstringr\u001b[39m 1.5.0\n",
            "\u001b[32m✔\u001b[39m \u001b[34mreadr  \u001b[39m 2.1.4     \u001b[32m✔\u001b[39m \u001b[34mforcats\u001b[39m 1.0.0\n",
            "\n",
            "── \u001b[1mConflicts\u001b[22m ────────────────────────────────────────── tidyverse_conflicts() ──\n",
            "\u001b[31m✖\u001b[39m \u001b[34mdplyr\u001b[39m::\u001b[32mfilter()\u001b[39m masks \u001b[34mstats\u001b[39m::filter()\n",
            "\u001b[31m✖\u001b[39m \u001b[34mdplyr\u001b[39m::\u001b[32mlag()\u001b[39m    masks \u001b[34mstats\u001b[39m::lag()\n",
            "\n"
          ]
        }
      ]
    },
    {
      "cell_type": "code",
      "source": [
        "head(pressure)"
      ],
      "metadata": {
        "colab": {
          "base_uri": "https://localhost:8080/",
          "height": 286
        },
        "id": "xxgc36i2Zv3m",
        "outputId": "d1f5da02-7bd7-423a-e97a-41e582179677"
      },
      "execution_count": null,
      "outputs": [
        {
          "output_type": "display_data",
          "data": {
            "text/html": [
              "<table class=\"dataframe\">\n",
              "<caption>A data.frame: 6 × 2</caption>\n",
              "<thead>\n",
              "\t<tr><th></th><th scope=col>temperature</th><th scope=col>pressure</th></tr>\n",
              "\t<tr><th></th><th scope=col>&lt;dbl&gt;</th><th scope=col>&lt;dbl&gt;</th></tr>\n",
              "</thead>\n",
              "<tbody>\n",
              "\t<tr><th scope=row>1</th><td>  0</td><td>0.0002</td></tr>\n",
              "\t<tr><th scope=row>2</th><td> 20</td><td>0.0012</td></tr>\n",
              "\t<tr><th scope=row>3</th><td> 40</td><td>0.0060</td></tr>\n",
              "\t<tr><th scope=row>4</th><td> 60</td><td>0.0300</td></tr>\n",
              "\t<tr><th scope=row>5</th><td> 80</td><td>0.0900</td></tr>\n",
              "\t<tr><th scope=row>6</th><td>100</td><td>0.2700</td></tr>\n",
              "</tbody>\n",
              "</table>\n"
            ],
            "text/markdown": "\nA data.frame: 6 × 2\n\n| <!--/--> | temperature &lt;dbl&gt; | pressure &lt;dbl&gt; |\n|---|---|---|\n| 1 |   0 | 0.0002 |\n| 2 |  20 | 0.0012 |\n| 3 |  40 | 0.0060 |\n| 4 |  60 | 0.0300 |\n| 5 |  80 | 0.0900 |\n| 6 | 100 | 0.2700 |\n\n",
            "text/latex": "A data.frame: 6 × 2\n\\begin{tabular}{r|ll}\n  & temperature & pressure\\\\\n  & <dbl> & <dbl>\\\\\n\\hline\n\t1 &   0 & 0.0002\\\\\n\t2 &  20 & 0.0012\\\\\n\t3 &  40 & 0.0060\\\\\n\t4 &  60 & 0.0300\\\\\n\t5 &  80 & 0.0900\\\\\n\t6 & 100 & 0.2700\\\\\n\\end{tabular}\n",
            "text/plain": [
              "  temperature pressure\n",
              "1   0         0.0002  \n",
              "2  20         0.0012  \n",
              "3  40         0.0060  \n",
              "4  60         0.0300  \n",
              "5  80         0.0900  \n",
              "6 100         0.2700  "
            ]
          },
          "metadata": {}
        }
      ]
    },
    {
      "cell_type": "code",
      "source": [
        "ggplot(pressure, aes(x = temperature, y = pressure)) +\n",
        "  geom_point() +\n",
        "  geom_smooth(method = 'lm')"
      ],
      "metadata": {
        "colab": {
          "base_uri": "https://localhost:8080/",
          "height": 455
        },
        "id": "AtRcB6cpb7QO",
        "outputId": "535982fa-b4b4-4a01-b59d-1ca484034c11"
      },
      "execution_count": null,
      "outputs": [
        {
          "output_type": "stream",
          "name": "stderr",
          "text": [
            "\u001b[1m\u001b[22m`geom_smooth()` using formula = 'y ~ x'\n"
          ]
        },
        {
          "output_type": "display_data",
          "data": {
            "text/plain": [
              "plot without title"
            ],
            "image/png": "[encoded data removed]"
          },
          "metadata": {
            "image/png": {
              "width": 420,
              "height": 420
            }
          }
        }
      ]
    },
    {
      "cell_type": "code",
      "source": [
        "model <- lm(pressure ~ temperature, data = pressure)"
      ],
      "metadata": {
        "id": "7K88e3-pb7Hr"
      },
      "execution_count": null,
      "outputs": []
    },
    {
      "cell_type": "code",
      "source": [
        "summary(model)"
      ],
      "metadata": {
        "colab": {
          "base_uri": "https://localhost:8080/",
          "height": 341
        },
        "id": "YUWJUxEDb7Dg",
        "outputId": "288b5f3b-3971-452c-bea5-2662b257a1e7"
      },
      "execution_count": null,
      "outputs": [
        {
          "output_type": "display_data",
          "data": {
            "text/plain": [
              "\n",
              "Call:\n",
              "lm(formula = pressure ~ temperature, data = pressure)\n",
              "\n",
              "Residuals:\n",
              "    Min      1Q  Median      3Q     Max \n",
              "-158.08 -117.06  -32.84   72.30  409.43 \n",
              "\n",
              "Coefficients:\n",
              "             Estimate Std. Error t value Pr(>|t|)    \n",
              "(Intercept) -147.8989    66.5529  -2.222 0.040124 *  \n",
              "temperature    1.5124     0.3158   4.788 0.000171 ***\n",
              "---\n",
              "Signif. codes:  0 ‘***’ 0.001 ‘**’ 0.01 ‘*’ 0.05 ‘.’ 0.1 ‘ ’ 1\n",
              "\n",
              "Residual standard error: 150.8 on 17 degrees of freedom\n",
              "Multiple R-squared:  0.5742,\tAdjusted R-squared:  0.5492 \n",
              "F-statistic: 22.93 on 1 and 17 DF,  p-value: 0.000171\n"
            ]
          },
          "metadata": {}
        }
      ]
    },
    {
      "cell_type": "code",
      "source": [
        "pressure$temp2 <- pressure$temperature * pressure$temperature"
      ],
      "metadata": {
        "id": "saU5Y4fzjfB2"
      },
      "execution_count": null,
      "outputs": []
    },
    {
      "cell_type": "code",
      "source": [
        "model2 <- lm(pressure ~ temperature + temp2, data = pressure)"
      ],
      "metadata": {
        "id": "k3eCT_AgZvoh"
      },
      "execution_count": null,
      "outputs": []
    },
    {
      "cell_type": "code",
      "source": [
        "summary(model2)"
      ],
      "metadata": {
        "colab": {
          "base_uri": "https://localhost:8080/",
          "height": 359
        },
        "id": "T5OmRZNrZvhr",
        "outputId": "44bfc7bd-8d12-4e91-ebb8-d40235ddc4cd"
      },
      "execution_count": null,
      "outputs": [
        {
          "output_type": "display_data",
          "data": {
            "text/plain": [
              "\n",
              "Call:\n",
              "lm(formula = pressure ~ temperature + temp2, data = pressure)\n",
              "\n",
              "Residuals:\n",
              "    Min      1Q  Median      3Q     Max \n",
              "-95.142 -54.391  -1.353  48.238 170.374 \n",
              "\n",
              "Coefficients:\n",
              "             Estimate Std. Error t value Pr(>|t|)    \n",
              "(Intercept) 91.154379  46.262513   1.970 0.066354 .  \n",
              "temperature -2.706167   0.595775  -4.542 0.000333 ***\n",
              "temp2        0.011718   0.001597   7.336 1.67e-06 ***\n",
              "---\n",
              "Signif. codes:  0 ‘***’ 0.001 ‘**’ 0.01 ‘*’ 0.05 ‘.’ 0.1 ‘ ’ 1\n",
              "\n",
              "Residual standard error: 74.42 on 16 degrees of freedom\n",
              "Multiple R-squared:  0.9024,\tAdjusted R-squared:  0.8902 \n",
              "F-statistic:    74 on 2 and 16 DF,  p-value: 8.209e-09\n"
            ]
          },
          "metadata": {}
        }
      ]
    },
    {
      "cell_type": "markdown",
      "source": [
        "### Logistic Regression"
      ],
      "metadata": {
        "id": "LTRXPmrOj9km"
      }
    },
    {
      "cell_type": "code",
      "source": [
        "df <- read_csv('grad.csv')"
      ],
      "metadata": {
        "colab": {
          "base_uri": "https://localhost:8080/"
        },
        "id": "RzZxNJbeL7cO",
        "outputId": "17781e62-d33a-4254-fa22-6a3a09ef4843"
      },
      "execution_count": null,
      "outputs": [
        {
          "output_type": "stream",
          "name": "stderr",
          "text": [
            "\u001b[1mRows: \u001b[22m\u001b[34m400\u001b[39m \u001b[1mColumns: \u001b[22m\u001b[34m4\u001b[39m\n",
            "\u001b[36m──\u001b[39m \u001b[1mColumn specification\u001b[22m \u001b[36m────────────────────────────────────────────────────────\u001b[39m\n",
            "\u001b[1mDelimiter:\u001b[22m \",\"\n",
            "\u001b[32mdbl\u001b[39m (4): admit, gre, gpa, rank\n",
            "\n",
            "\u001b[36mℹ\u001b[39m Use `spec()` to retrieve the full column specification for this data.\n",
            "\u001b[36mℹ\u001b[39m Specify the column types or set `show_col_types = FALSE` to quiet this message.\n"
          ]
        }
      ]
    },
    {
      "cell_type": "code",
      "source": [
        "head(df)"
      ],
      "metadata": {
        "colab": {
          "base_uri": "https://localhost:8080/",
          "height": 286
        },
        "id": "6sZILCePMTRZ",
        "outputId": "a421d9dd-65a1-4ce4-e5f2-78f4d3a02219"
      },
      "execution_count": null,
      "outputs": [
        {
          "output_type": "display_data",
          "data": {
            "text/html": [
              "<table class=\"dataframe\">\n",
              "<caption>A tibble: 6 × 4</caption>\n",
              "<thead>\n",
              "\t<tr><th scope=col>admit</th><th scope=col>gre</th><th scope=col>gpa</th><th scope=col>rank</th></tr>\n",
              "\t<tr><th scope=col>&lt;dbl&gt;</th><th scope=col>&lt;dbl&gt;</th><th scope=col>&lt;dbl&gt;</th><th scope=col>&lt;dbl&gt;</th></tr>\n",
              "</thead>\n",
              "<tbody>\n",
              "\t<tr><td>0</td><td>380</td><td>3.61</td><td>3</td></tr>\n",
              "\t<tr><td>1</td><td>660</td><td>3.67</td><td>3</td></tr>\n",
              "\t<tr><td>1</td><td>800</td><td>4.00</td><td>1</td></tr>\n",
              "\t<tr><td>1</td><td>640</td><td>3.19</td><td>4</td></tr>\n",
              "\t<tr><td>0</td><td>520</td><td>2.93</td><td>4</td></tr>\n",
              "\t<tr><td>1</td><td>760</td><td>3.00</td><td>2</td></tr>\n",
              "</tbody>\n",
              "</table>\n"
            ],
            "text/markdown": "\nA tibble: 6 × 4\n\n| admit &lt;dbl&gt; | gre &lt;dbl&gt; | gpa &lt;dbl&gt; | rank &lt;dbl&gt; |\n|---|---|---|---|\n| 0 | 380 | 3.61 | 3 |\n| 1 | 660 | 3.67 | 3 |\n| 1 | 800 | 4.00 | 1 |\n| 1 | 640 | 3.19 | 4 |\n| 0 | 520 | 2.93 | 4 |\n| 1 | 760 | 3.00 | 2 |\n\n",
            "text/latex": "A tibble: 6 × 4\n\\begin{tabular}{llll}\n admit & gre & gpa & rank\\\\\n <dbl> & <dbl> & <dbl> & <dbl>\\\\\n\\hline\n\t 0 & 380 & 3.61 & 3\\\\\n\t 1 & 660 & 3.67 & 3\\\\\n\t 1 & 800 & 4.00 & 1\\\\\n\t 1 & 640 & 3.19 & 4\\\\\n\t 0 & 520 & 2.93 & 4\\\\\n\t 1 & 760 & 3.00 & 2\\\\\n\\end{tabular}\n",
            "text/plain": [
              "  admit gre gpa  rank\n",
              "1 0     380 3.61 3   \n",
              "2 1     660 3.67 3   \n",
              "3 1     800 4.00 1   \n",
              "4 1     640 3.19 4   \n",
              "5 0     520 2.93 4   \n",
              "6 1     760 3.00 2   "
            ]
          },
          "metadata": {}
        }
      ]
    },
    {
      "cell_type": "code",
      "source": [
        "log_model <- glm(admit ~ gre + gpa + rank, data = df, family = 'binomial')"
      ],
      "metadata": {
        "id": "Ct6ZNX1dMUr4"
      },
      "execution_count": null,
      "outputs": []
    },
    {
      "cell_type": "code",
      "source": [
        "summary(log_model)"
      ],
      "metadata": {
        "colab": {
          "base_uri": "https://localhost:8080/",
          "height": 395
        },
        "id": "e1UlYDZAkgvE",
        "outputId": "089a4269-32e2-437c-f155-622c460708d6"
      },
      "execution_count": null,
      "outputs": [
        {
          "output_type": "display_data",
          "data": {
            "text/plain": [
              "\n",
              "Call:\n",
              "glm(formula = admit ~ gre + gpa + rank, family = \"binomial\", \n",
              "    data = df)\n",
              "\n",
              "Coefficients:\n",
              "             Estimate Std. Error z value Pr(>|z|)    \n",
              "(Intercept) -3.449548   1.132846  -3.045  0.00233 ** \n",
              "gre          0.002294   0.001092   2.101  0.03564 *  \n",
              "gpa          0.777014   0.327484   2.373  0.01766 *  \n",
              "rank        -0.560031   0.127137  -4.405 1.06e-05 ***\n",
              "---\n",
              "Signif. codes:  0 ‘***’ 0.001 ‘**’ 0.01 ‘*’ 0.05 ‘.’ 0.1 ‘ ’ 1\n",
              "\n",
              "(Dispersion parameter for binomial family taken to be 1)\n",
              "\n",
              "    Null deviance: 499.98  on 399  degrees of freedom\n",
              "Residual deviance: 459.44  on 396  degrees of freedom\n",
              "AIC: 467.44\n",
              "\n",
              "Number of Fisher Scoring iterations: 4\n"
            ]
          },
          "metadata": {}
        }
      ]
    },
    {
      "cell_type": "code",
      "source": [
        "coef(log_model)"
      ],
      "metadata": {
        "colab": {
          "base_uri": "https://localhost:8080/",
          "height": 34
        },
        "id": "UIIqne6Kkw_s",
        "outputId": "8e94fdb9-bc0c-41c1-c753-10b607f6d6bf"
      },
      "execution_count": null,
      "outputs": [
        {
          "output_type": "display_data",
          "data": {
            "text/html": [
              "<style>\n",
              ".dl-inline {width: auto; margin:0; padding: 0}\n",
              ".dl-inline>dt, .dl-inline>dd {float: none; width: auto; display: inline-block}\n",
              ".dl-inline>dt::after {content: \":\\0020\"; padding-right: .5ex}\n",
              ".dl-inline>dt:not(:first-of-type) {padding-left: .5ex}\n",
              "</style><dl class=dl-inline><dt>(Intercept)</dt><dd>-3.44954839766847</dd><dt>gre</dt><dd>0.00229395950444332</dd><dt>gpa</dt><dd>0.777013573719854</dd><dt>rank</dt><dd>-0.560031386849989</dd></dl>\n"
            ],
            "text/markdown": "(Intercept)\n:   -3.44954839766847gre\n:   0.00229395950444332gpa\n:   0.777013573719854rank\n:   -0.560031386849989\n\n",
            "text/latex": "\\begin{description*}\n\\item[(Intercept)] -3.44954839766847\n\\item[gre] 0.00229395950444332\n\\item[gpa] 0.777013573719854\n\\item[rank] -0.560031386849989\n\\end{description*}\n",
            "text/plain": [
              "(Intercept)         gre         gpa        rank \n",
              "-3.44954840  0.00229396  0.77701357 -0.56003139 "
            ]
          },
          "metadata": {}
        }
      ]
    },
    {
      "cell_type": "code",
      "source": [
        "head(df)"
      ],
      "metadata": {
        "colab": {
          "base_uri": "https://localhost:8080/",
          "height": 286
        },
        "id": "LZrJXYdeoNYX",
        "outputId": "6b5de0ac-abde-40d1-d0a2-0119aea6a668"
      },
      "execution_count": null,
      "outputs": [
        {
          "output_type": "display_data",
          "data": {
            "text/html": [
              "<table class=\"dataframe\">\n",
              "<caption>A tibble: 6 × 4</caption>\n",
              "<thead>\n",
              "\t<tr><th scope=col>admit</th><th scope=col>gre</th><th scope=col>gpa</th><th scope=col>rank</th></tr>\n",
              "\t<tr><th scope=col>&lt;dbl&gt;</th><th scope=col>&lt;dbl&gt;</th><th scope=col>&lt;dbl&gt;</th><th scope=col>&lt;dbl&gt;</th></tr>\n",
              "</thead>\n",
              "<tbody>\n",
              "\t<tr><td>0</td><td>380</td><td>3.61</td><td>3</td></tr>\n",
              "\t<tr><td>1</td><td>660</td><td>3.67</td><td>3</td></tr>\n",
              "\t<tr><td>1</td><td>800</td><td>4.00</td><td>1</td></tr>\n",
              "\t<tr><td>1</td><td>640</td><td>3.19</td><td>4</td></tr>\n",
              "\t<tr><td>0</td><td>520</td><td>2.93</td><td>4</td></tr>\n",
              "\t<tr><td>1</td><td>760</td><td>3.00</td><td>2</td></tr>\n",
              "</tbody>\n",
              "</table>\n"
            ],
            "text/markdown": "\nA tibble: 6 × 4\n\n| admit &lt;dbl&gt; | gre &lt;dbl&gt; | gpa &lt;dbl&gt; | rank &lt;dbl&gt; |\n|---|---|---|---|\n| 0 | 380 | 3.61 | 3 |\n| 1 | 660 | 3.67 | 3 |\n| 1 | 800 | 4.00 | 1 |\n| 1 | 640 | 3.19 | 4 |\n| 0 | 520 | 2.93 | 4 |\n| 1 | 760 | 3.00 | 2 |\n\n",
            "text/latex": "A tibble: 6 × 4\n\\begin{tabular}{llll}\n admit & gre & gpa & rank\\\\\n <dbl> & <dbl> & <dbl> & <dbl>\\\\\n\\hline\n\t 0 & 380 & 3.61 & 3\\\\\n\t 1 & 660 & 3.67 & 3\\\\\n\t 1 & 800 & 4.00 & 1\\\\\n\t 1 & 640 & 3.19 & 4\\\\\n\t 0 & 520 & 2.93 & 4\\\\\n\t 1 & 760 & 3.00 & 2\\\\\n\\end{tabular}\n",
            "text/plain": [
              "  admit gre gpa  rank\n",
              "1 0     380 3.61 3   \n",
              "2 1     660 3.67 3   \n",
              "3 1     800 4.00 1   \n",
              "4 1     640 3.19 4   \n",
              "5 0     520 2.93 4   \n",
              "6 1     760 3.00 2   "
            ]
          },
          "metadata": {}
        }
      ]
    },
    {
      "cell_type": "code",
      "source": [
        "coef<- 0.002294"
      ],
      "metadata": {
        "id": "ex21nR5Fo9yv"
      },
      "execution_count": null,
      "outputs": []
    },
    {
      "cell_type": "code",
      "source": [
        "1/(1 + exp(-(coef*380 - 3.45)))"
      ],
      "metadata": {
        "colab": {
          "base_uri": "https://localhost:8080/",
          "height": 34
        },
        "id": "nsdy4dLFpF6L",
        "outputId": "81c789fa-be43-4ced-807c-24786f76be2f"
      },
      "execution_count": null,
      "outputs": [
        {
          "output_type": "display_data",
          "data": {
            "text/html": [
              "0.070549431818253"
            ],
            "text/markdown": "0.070549431818253",
            "text/latex": "0.070549431818253",
            "text/plain": [
              "[1] 0.07054943"
            ]
          },
          "metadata": {}
        }
      ]
    },
    {
      "cell_type": "code",
      "source": [
        "1/(1 + exp(-(coef*660 - 3.45)))"
      ],
      "metadata": {
        "colab": {
          "base_uri": "https://localhost:8080/",
          "height": 34
        },
        "id": "B1mS-jknpPZg",
        "outputId": "2334192f-e463-4c63-c7f1-13b59fff1e59"
      },
      "execution_count": null,
      "outputs": [
        {
          "output_type": "display_data",
          "data": {
            "text/html": [
              "0.126092364486484"
            ],
            "text/markdown": "0.126092364486484",
            "text/latex": "0.126092364486484",
            "text/plain": [
              "[1] 0.1260924"
            ]
          },
          "metadata": {}
        }
      ]
    },
    {
      "cell_type": "code",
      "source": [
        "1/(1 + exp(-(coef*800 - 3.45)))"
      ],
      "metadata": {
        "colab": {
          "base_uri": "https://localhost:8080/",
          "height": 34
        },
        "id": "O8B93sRhpgg6",
        "outputId": "57e593d1-7cd3-44f9-f76e-5b068786c4e6"
      },
      "execution_count": null,
      "outputs": [
        {
          "output_type": "display_data",
          "data": {
            "text/html": [
              "0.165923262795925"
            ],
            "text/markdown": "0.165923262795925",
            "text/latex": "0.165923262795925",
            "text/plain": [
              "[1] 0.1659233"
            ]
          },
          "metadata": {}
        }
      ]
    },
    {
      "cell_type": "code",
      "source": [
        "f <- function(x){1/1 + exp(-(coef*x - 3.45))}"
      ],
      "metadata": {
        "id": "btUGviYMpktf"
      },
      "execution_count": null,
      "outputs": []
    },
    {
      "cell_type": "code",
      "source": [
        "f(df$gre)"
      ],
      "metadata": {
        "colab": {
          "base_uri": "https://localhost:8080/",
          "height": 712
        },
        "id": "Jgtk8AkJqCyc",
        "outputId": "066f61cb-fd84-4907-bfe8-14b6fd5dda47"
      },
      "execution_count": null,
      "outputs": [
        {
          "output_type": "display_data",
          "data": {
            "text/html": [
              "<style>\n",
              ".list-inline {list-style: none; margin:0; padding: 0}\n",
              ".list-inline>li {display: inline-block}\n",
              ".list-inline>li:not(:last-child)::after {content: \"\\00b7\"; padding: 0 .5ex}\n",
              "</style>\n",
              "<ol class=list-inline><li>14.1744585920432</li><li>7.93069432929218</li><li>6.02688244643511</li><li>8.25608190029228</li><li>10.5555295748257</li><li>6.50997452642071</li><li>9.71773973831528</li><li>13.5836707344345</li><li>10.127026892428</li><li>7.32303933502179</li><li>6.02688244643511</li><li>12.4803858390503</li><li>6.50997452642071</li><li>7.32303933502179</li><li>7.32303933502179</li><li>11.4738324607307</li><li>6.26288839204945</li><li>14.7929832126412</li><li>6.02688244643511</li><li>10.127026892428</li><li>11.0041499309177</li><li>7.93069432929218</li><li>8.95340389560647</li><li>7.61989825172011</li><li>6.50997452642071</li><li>6.02688244643511</li><li>8.59674601738299</li><li>10.5555295748257</li><li>6.26288839204945</li><li>10.5555295748257</li><li>10.127026892428</li><li>6.50997452642071</li><li>8.95340389560647</li><li>6.02688244643511</li><li>14.7929832126412</li><li>13.5836707344345</li><li>9.32680642236867</li><li>10.5555295748257</li><li>11.0041499309177</li><li>10.5555295748257</li><li>9.71773973831528</li><li>9.32680642236867</li><li>8.95340389560647</li><li>11.0041499309177</li><li>7.32303933502179</li><li>11.9655660074051</li><li>9.32680642236867</li><li>11.0041499309177</li><li>12.4803858390503</li><li>13.5836707344345</li><li>8.25608190029228</li><li>12.4803858390503</li><li>6.76866105077758</li><li>7.61989825172011</li><li>7.93069432929218</li><li>6.76866105077758</li><li>9.71773973831528</li><li>14.1744585920432</li><li>13.5836707344345</li><li>8.95340389560647</li><li>8.59674601738299</li><li>9.71773973831528</li><li>8.25608190029228</li><li>7.61989825172011</li><li>9.32680642236867</li><li>8.95340389560647</li><li>6.76866105077758</li><li>8.59674601738299</li><li>9.32680642236867</li><li>6.02688244643511</li><li>8.25608190029228</li><li>16.8283082766772</li><li>11.4738324607307</li><li>9.32680642236867</li><li>7.03949258915638</li><li>7.03949258915638</li><li>9.71773973831528</li><li>6.02688244643511</li><li>10.127026892428</li><li>8.59674601738299</li><li>7.32303933502179</li><li>8.59674601738299</li><li>11.0041499309177</li><li>14.1744585920432</li><li>11.0041499309177</li><li>10.5555295748257</li><li>8.95340389560647</li><li>8.95340389560647</li><li>7.32303933502179</li><li>7.93069432929218</li><li>7.32303933502179</li><li>7.03949258915638</li><li>6.02688244643511</li><li>9.32680642236867</li><li>7.93069432929218</li><li>7.93069432929218</li><li>8.25608190029228</li><li>11.4738324607307</li><li>7.32303933502179</li><li>13.5836707344345</li><li>15.4405468031227</li><li>9.32680642236867</li><li>14.1744585920432</li><li>10.127026892428</li><li>7.93069432929218</li><li>6.76866105077758</li><li>7.32303933502179</li><li>11.4738324607307</li><li>13.5836707344345</li><li>11.4738324607307</li><li>7.61989825172011</li><li>13.0193758283396</li><li>14.7929832126412</li><li>8.95340389560647</li><li>7.03949258915638</li><li>8.59674601738299</li><li>12.4803858390503</li><li>7.32303933502179</li><li>6.02688244643511</li><li>15.4405468031227</li><li>10.5555295748257</li><li>11.4738324607307</li><li>10.5555295748257</li><li>11.0041499309177</li><li>7.03949258915638</li><li>10.127026892428</li><li>8.95340389560647</li><li>6.76866105077758</li><li>10.127026892428</li><li>11.9655660074051</li><li>8.59674601738299</li><li>8.25608190029228</li><li>9.32680642236867</li><li>11.0041499309177</li><li>9.71773973831528</li><li>11.0041499309177</li><li>9.71773973831528</li><li>7.32303933502179</li><li>8.59674601738299</li><li>8.95340389560647</li><li>8.25608190029228</li><li>7.32303933502179</li><li>8.59674601738299</li><li>9.32680642236867</li><li>9.32680642236867</li><li>14.1744585920432</li><li>11.4738324607307</li><li>9.71773973831528</li><li>11.4738324607307</li><li>6.76866105077758</li><li>6.02688244643511</li><li>13.5836707344345</li><li>8.25608190029228</li><li>9.32680642236867</li><li>8.59674601738299</li><li>9.32680642236867</li><li>9.71773973831528</li><li>11.4738324607307</li><li>7.93069432929218</li><li>7.32303933502179</li><li>8.95340389560647</li><li>8.25608190029228</li><li>7.32303933502179</li><li>10.5555295748257</li><li>9.32680642236867</li><li>7.32303933502179</li><li>12.4803858390503</li><li>7.03949258915638</li><li>11.0041499309177</li><li>8.95340389560647</li><li>13.5836707344345</li><li>10.127026892428</li><li>7.61989825172011</li><li>6.02688244643511</li><li>11.0041499309177</li><li>8.59674601738299</li><li>10.5555295748257</li><li>8.59674601738299</li><li>8.59674601738299</li><li>16.8283082766772</li><li>8.59674601738299</li><li>11.0041499309177</li><li>7.32303933502179</li><li>10.127026892428</li><li>11.0041499309177</li><li>6.02688244643511</li><li>9.71773973831528</li><li>9.32680642236867</li><li>9.71773973831528</li><li>11.0041499309177</li><li>8.25608190029228</li><li>6.02688244643511</li><li>8.25608190029228</li><li>14.1744585920432</li><li>8.95340389560647</li><li>9.71773973831528</li><li>7.93069432929218</li><li>13.5836707344345</li><li>8.95340389560647</li><li>9.32680642236867</li><li>6.02688244643511</li><li>9.32680642236867</li><li>7.32303933502179</li><li>13.0193758283396</li><li>8.95340389560647</li><li>6.26288839204945</li><li>6.76866105077758</li><li>8.25608190029228</li><li>10.127026892428</li><li>9.32680642236867</li><li>6.76866105077758</li><li>9.32680642236867</li><li>11.9655660074051</li><li>8.25608190029228</li><li>8.95340389560647</li><li>7.93069432929218</li><li>15.4405468031227</li><li>11.9655660074051</li><li>11.9655660074051</li><li>9.71773973831528</li><li>10.127026892428</li><li>7.61989825172011</li><li>11.4738324607307</li><li>6.02688244643511</li><li>6.02688244643511</li><li>7.03949258915638</li><li>8.59674601738299</li><li>10.127026892428</li><li>11.4738324607307</li><li>7.03949258915638</li><li>9.32680642236867</li><li>8.95340389560647</li><li>14.1744585920432</li><li>13.0193758283396</li><li>6.02688244643511</li><li>8.59674601738299</li><li>7.93069432929218</li><li>11.4738324607307</li><li>11.0041499309177</li><li>7.32303933502179</li><li>12.4803858390503</li><li>10.5555295748257</li><li>7.61989825172011</li><li>8.59674601738299</li><li>10.127026892428</li><li>6.02688244643511</li><li>7.61989825172011</li><li>12.4803858390503</li><li>7.61989825172011</li><li>8.25608190029228</li><li>7.93069432929218</li><li>8.59674601738299</li><li>10.5555295748257</li><li>10.127026892428</li><li>6.76866105077758</li><li>8.25608190029228</li><li>10.5555295748257</li><li>8.59674601738299</li><li>10.5555295748257</li><li>8.25608190029228</li><li>7.61989825172011</li><li>12.4803858390503</li><li>10.5555295748257</li><li>8.59674601738299</li><li>10.5555295748257</li><li>14.1744585920432</li><li>9.71773973831528</li><li>8.95340389560647</li><li>7.61989825172011</li><li>11.0041499309177</li><li>8.25608190029228</li><li>10.127026892428</li><li>7.61989825172011</li><li>7.93069432929218</li><li>10.5555295748257</li><li>8.95340389560647</li><li>11.9655660074051</li><li>9.32680642236867</li><li>7.61989825172011</li><li>7.93069432929218</li><li>7.93069432929218</li><li>14.7929832126412</li><li>7.93069432929218</li><li>10.5555295748257</li><li>12.4803858390503</li><li>8.95340389560647</li><li>6.02688244643511</li><li>7.93069432929218</li><li>6.02688244643511</li><li>13.0193758283396</li><li>8.59674601738299</li><li>6.02688244643511</li><li>7.61989825172011</li><li>6.02688244643511</li><li>11.4738324607307</li><li>10.5555295748257</li><li>9.71773973831528</li><li>11.9655660074051</li><li>10.127026892428</li><li>7.03949258915638</li><li>8.25608190029228</li><li>7.93069432929218</li><li>13.5836707344345</li><li>7.61989825172011</li><li>20.0167467718819</li><li>9.32680642236867</li><li>10.127026892428</li><li>9.32680642236867</li><li>10.127026892428</li><li>12.4803858390503</li><li>9.71773973831528</li><li>7.93069432929218</li><li>7.93069432929218</li><li>10.5555295748257</li><li>10.127026892428</li><li>16.8283082766772</li><li>15.4405468031227</li><li>6.26288839204945</li><li>11.4738324607307</li><li>10.127026892428</li><li>11.9655660074051</li><li>11.9655660074051</li><li>11.0041499309177</li><li>13.0193758283396</li><li>10.5555295748257</li><li>7.61989825172011</li><li>7.61989825172011</li><li>9.71773973831528</li><li>9.32680642236867</li><li>11.0041499309177</li><li>6.76866105077758</li><li>7.93069432929218</li><li>13.0193758283396</li><li>9.71773973831528</li><li>11.9655660074051</li><li>8.59674601738299</li><li>10.5555295748257</li><li>8.59674601738299</li><li>10.127026892428</li><li>7.93069432929218</li><li>11.0041499309177</li><li>9.71773973831528</li><li>11.0041499309177</li><li>9.32680642236867</li><li>10.5555295748257</li><li>11.0041499309177</li><li>8.95340389560647</li><li>9.32680642236867</li><li>13.5836707344345</li><li>8.59674601738299</li><li>6.26288839204945</li><li>8.59674601738299</li><li>9.32680642236867</li><li>7.32303933502179</li><li>10.127026892428</li><li>6.50997452642071</li><li>7.32303933502179</li><li>7.03949258915638</li><li>9.71773973831528</li><li>7.03949258915638</li><li>10.5555295748257</li><li>10.127026892428</li><li>7.61989825172011</li><li>11.9655660074051</li><li>9.71773973831528</li><li>11.4738324607307</li><li>11.9655660074051</li><li>8.59674601738299</li><li>9.32680642236867</li><li>6.02688244643511</li><li>10.127026892428</li><li>7.61989825172011</li><li>7.61989825172011</li><li>8.59674601738299</li><li>9.71773973831528</li><li>9.71773973831528</li><li>8.59674601738299</li><li>6.02688244643511</li><li>8.25608190029228</li><li>10.127026892428</li><li>7.32303933502179</li><li>10.127026892428</li><li>10.127026892428</li><li>7.93069432929218</li><li>11.4738324607307</li><li>13.0193758283396</li><li>6.76866105077758</li><li>9.32680642236867</li><li>8.25608190029228</li><li>8.25608190029228</li><li>6.02688244643511</li><li>7.93069432929218</li><li>8.95340389560647</li><li>8.59674601738299</li><li>11.9655660074051</li><li>8.59674601738299</li><li>9.71773973831528</li><li>11.9655660074051</li><li>7.32303933502179</li><li>8.95340389560647</li></ol>\n"
            ],
            "text/markdown": "1. 14.1744585920432\n2. 7.93069432929218\n3. 6.02688244643511\n4. 8.25608190029228\n5. 10.5555295748257\n6. 6.50997452642071\n7. 9.71773973831528\n8. 13.5836707344345\n9. 10.127026892428\n10. 7.32303933502179\n11. 6.02688244643511\n12. 12.4803858390503\n13. 6.50997452642071\n14. 7.32303933502179\n15. 7.32303933502179\n16. 11.4738324607307\n17. 6.26288839204945\n18. 14.7929832126412\n19. 6.02688244643511\n20. 10.127026892428\n21. 11.0041499309177\n22. 7.93069432929218\n23. 8.95340389560647\n24. 7.61989825172011\n25. 6.50997452642071\n26. 6.02688244643511\n27. 8.59674601738299\n28. 10.5555295748257\n29. 6.26288839204945\n30. 10.5555295748257\n31. 10.127026892428\n32. 6.50997452642071\n33. 8.95340389560647\n34. 6.02688244643511\n35. 14.7929832126412\n36. 13.5836707344345\n37. 9.32680642236867\n38. 10.5555295748257\n39. 11.0041499309177\n40. 10.5555295748257\n41. 9.71773973831528\n42. 9.32680642236867\n43. 8.95340389560647\n44. 11.0041499309177\n45. 7.32303933502179\n46. 11.9655660074051\n47. 9.32680642236867\n48. 11.0041499309177\n49. 12.4803858390503\n50. 13.5836707344345\n51. 8.25608190029228\n52. 12.4803858390503\n53. 6.76866105077758\n54. 7.61989825172011\n55. 7.93069432929218\n56. 6.76866105077758\n57. 9.71773973831528\n58. 14.1744585920432\n59. 13.5836707344345\n60. 8.95340389560647\n61. 8.59674601738299\n62. 9.71773973831528\n63. 8.25608190029228\n64. 7.61989825172011\n65. 9.32680642236867\n66. 8.95340389560647\n67. 6.76866105077758\n68. 8.59674601738299\n69. 9.32680642236867\n70. 6.02688244643511\n71. 8.25608190029228\n72. 16.8283082766772\n73. 11.4738324607307\n74. 9.32680642236867\n75. 7.03949258915638\n76. 7.03949258915638\n77. 9.71773973831528\n78. 6.02688244643511\n79. 10.127026892428\n80. 8.59674601738299\n81. 7.32303933502179\n82. 8.59674601738299\n83. 11.0041499309177\n84. 14.1744585920432\n85. 11.0041499309177\n86. 10.5555295748257\n87. 8.95340389560647\n88. 8.95340389560647\n89. 7.32303933502179\n90. 7.93069432929218\n91. 7.32303933502179\n92. 7.03949258915638\n93. 6.02688244643511\n94. 9.32680642236867\n95. 7.93069432929218\n96. 7.93069432929218\n97. 8.25608190029228\n98. 11.4738324607307\n99. 7.32303933502179\n100. 13.5836707344345\n101. 15.4405468031227\n102. 9.32680642236867\n103. 14.1744585920432\n104. 10.127026892428\n105. 7.93069432929218\n106. 6.76866105077758\n107. 7.32303933502179\n108. 11.4738324607307\n109. 13.5836707344345\n110. 11.4738324607307\n111. 7.61989825172011\n112. 13.0193758283396\n113. 14.7929832126412\n114. 8.95340389560647\n115. 7.03949258915638\n116. 8.59674601738299\n117. 12.4803858390503\n118. 7.32303933502179\n119. 6.02688244643511\n120. 15.4405468031227\n121. 10.5555295748257\n122. 11.4738324607307\n123. 10.5555295748257\n124. 11.0041499309177\n125. 7.03949258915638\n126. 10.127026892428\n127. 8.95340389560647\n128. 6.76866105077758\n129. 10.127026892428\n130. 11.9655660074051\n131. 8.59674601738299\n132. 8.25608190029228\n133. 9.32680642236867\n134. 11.0041499309177\n135. 9.71773973831528\n136. 11.0041499309177\n137. 9.71773973831528\n138. 7.32303933502179\n139. 8.59674601738299\n140. 8.95340389560647\n141. 8.25608190029228\n142. 7.32303933502179\n143. 8.59674601738299\n144. 9.32680642236867\n145. 9.32680642236867\n146. 14.1744585920432\n147. 11.4738324607307\n148. 9.71773973831528\n149. 11.4738324607307\n150. 6.76866105077758\n151. 6.02688244643511\n152. 13.5836707344345\n153. 8.25608190029228\n154. 9.32680642236867\n155. 8.59674601738299\n156. 9.32680642236867\n157. 9.71773973831528\n158. 11.4738324607307\n159. 7.93069432929218\n160. 7.32303933502179\n161. 8.95340389560647\n162. 8.25608190029228\n163. 7.32303933502179\n164. 10.5555295748257\n165. 9.32680642236867\n166. 7.32303933502179\n167. 12.4803858390503\n168. 7.03949258915638\n169. 11.0041499309177\n170. 8.95340389560647\n171. 13.5836707344345\n172. 10.127026892428\n173. 7.61989825172011\n174. 6.02688244643511\n175. 11.0041499309177\n176. 8.59674601738299\n177. 10.5555295748257\n178. 8.59674601738299\n179. 8.59674601738299\n180. 16.8283082766772\n181. 8.59674601738299\n182. 11.0041499309177\n183. 7.32303933502179\n184. 10.127026892428\n185. 11.0041499309177\n186. 6.02688244643511\n187. 9.71773973831528\n188. 9.32680642236867\n189. 9.71773973831528\n190. 11.0041499309177\n191. 8.25608190029228\n192. 6.02688244643511\n193. 8.25608190029228\n194. 14.1744585920432\n195. 8.95340389560647\n196. 9.71773973831528\n197. 7.93069432929218\n198. 13.5836707344345\n199. 8.95340389560647\n200. 9.32680642236867\n201. 6.02688244643511\n202. 9.32680642236867\n203. 7.32303933502179\n204. 13.0193758283396\n205. 8.95340389560647\n206. 6.26288839204945\n207. 6.76866105077758\n208. 8.25608190029228\n209. 10.127026892428\n210. 9.32680642236867\n211. 6.76866105077758\n212. 9.32680642236867\n213. 11.9655660074051\n214. 8.25608190029228\n215. 8.95340389560647\n216. 7.93069432929218\n217. 15.4405468031227\n218. 11.9655660074051\n219. 11.9655660074051\n220. 9.71773973831528\n221. 10.127026892428\n222. 7.61989825172011\n223. 11.4738324607307\n224. 6.02688244643511\n225. 6.02688244643511\n226. 7.03949258915638\n227. 8.59674601738299\n228. 10.127026892428\n229. 11.4738324607307\n230. 7.03949258915638\n231. 9.32680642236867\n232. 8.95340389560647\n233. 14.1744585920432\n234. 13.0193758283396\n235. 6.02688244643511\n236. 8.59674601738299\n237. 7.93069432929218\n238. 11.4738324607307\n239. 11.0041499309177\n240. 7.32303933502179\n241. 12.4803858390503\n242. 10.5555295748257\n243. 7.61989825172011\n244. 8.59674601738299\n245. 10.127026892428\n246. 6.02688244643511\n247. 7.61989825172011\n248. 12.4803858390503\n249. 7.61989825172011\n250. 8.25608190029228\n251. 7.93069432929218\n252. 8.59674601738299\n253. 10.5555295748257\n254. 10.127026892428\n255. 6.76866105077758\n256. 8.25608190029228\n257. 10.5555295748257\n258. 8.59674601738299\n259. 10.5555295748257\n260. 8.25608190029228\n261. 7.61989825172011\n262. 12.4803858390503\n263. 10.5555295748257\n264. 8.59674601738299\n265. 10.5555295748257\n266. 14.1744585920432\n267. 9.71773973831528\n268. 8.95340389560647\n269. 7.61989825172011\n270. 11.0041499309177\n271. 8.25608190029228\n272. 10.127026892428\n273. 7.61989825172011\n274. 7.93069432929218\n275. 10.5555295748257\n276. 8.95340389560647\n277. 11.9655660074051\n278. 9.32680642236867\n279. 7.61989825172011\n280. 7.93069432929218\n281. 7.93069432929218\n282. 14.7929832126412\n283. 7.93069432929218\n284. 10.5555295748257\n285. 12.4803858390503\n286. 8.95340389560647\n287. 6.02688244643511\n288. 7.93069432929218\n289. 6.02688244643511\n290. 13.0193758283396\n291. 8.59674601738299\n292. 6.02688244643511\n293. 7.61989825172011\n294. 6.02688244643511\n295. 11.4738324607307\n296. 10.5555295748257\n297. 9.71773973831528\n298. 11.9655660074051\n299. 10.127026892428\n300. 7.03949258915638\n301. 8.25608190029228\n302. 7.93069432929218\n303. 13.5836707344345\n304. 7.61989825172011\n305. 20.0167467718819\n306. 9.32680642236867\n307. 10.127026892428\n308. 9.32680642236867\n309. 10.127026892428\n310. 12.4803858390503\n311. 9.71773973831528\n312. 7.93069432929218\n313. 7.93069432929218\n314. 10.5555295748257\n315. 10.127026892428\n316. 16.8283082766772\n317. 15.4405468031227\n318. 6.26288839204945\n319. 11.4738324607307\n320. 10.127026892428\n321. 11.9655660074051\n322. 11.9655660074051\n323. 11.0041499309177\n324. 13.0193758283396\n325. 10.5555295748257\n326. 7.61989825172011\n327. 7.61989825172011\n328. 9.71773973831528\n329. 9.32680642236867\n330. 11.0041499309177\n331. 6.76866105077758\n332. 7.93069432929218\n333. 13.0193758283396\n334. 9.71773973831528\n335. 11.9655660074051\n336. 8.59674601738299\n337. 10.5555295748257\n338. 8.59674601738299\n339. 10.127026892428\n340. 7.93069432929218\n341. 11.0041499309177\n342. 9.71773973831528\n343. 11.0041499309177\n344. 9.32680642236867\n345. 10.5555295748257\n346. 11.0041499309177\n347. 8.95340389560647\n348. 9.32680642236867\n349. 13.5836707344345\n350. 8.59674601738299\n351. 6.26288839204945\n352. 8.59674601738299\n353. 9.32680642236867\n354. 7.32303933502179\n355. 10.127026892428\n356. 6.50997452642071\n357. 7.32303933502179\n358. 7.03949258915638\n359. 9.71773973831528\n360. 7.03949258915638\n361. 10.5555295748257\n362. 10.127026892428\n363. 7.61989825172011\n364. 11.9655660074051\n365. 9.71773973831528\n366. 11.4738324607307\n367. 11.9655660074051\n368. 8.59674601738299\n369. 9.32680642236867\n370. 6.02688244643511\n371. 10.127026892428\n372. 7.61989825172011\n373. 7.61989825172011\n374. 8.59674601738299\n375. 9.71773973831528\n376. 9.71773973831528\n377. 8.59674601738299\n378. 6.02688244643511\n379. 8.25608190029228\n380. 10.127026892428\n381. 7.32303933502179\n382. 10.127026892428\n383. 10.127026892428\n384. 7.93069432929218\n385. 11.4738324607307\n386. 13.0193758283396\n387. 6.76866105077758\n388. 9.32680642236867\n389. 8.25608190029228\n390. 8.25608190029228\n391. 6.02688244643511\n392. 7.93069432929218\n393. 8.95340389560647\n394. 8.59674601738299\n395. 11.9655660074051\n396. 8.59674601738299\n397. 9.71773973831528\n398. 11.9655660074051\n399. 7.32303933502179\n400. 8.95340389560647\n\n\n",
            "text/latex": "\\begin{enumerate*}\n\\item 14.1744585920432\n\\item 7.93069432929218\n\\item 6.02688244643511\n\\item 8.25608190029228\n\\item 10.5555295748257\n\\item 6.50997452642071\n\\item 9.71773973831528\n\\item 13.5836707344345\n\\item 10.127026892428\n\\item 7.32303933502179\n\\item 6.02688244643511\n\\item 12.4803858390503\n\\item 6.50997452642071\n\\item 7.32303933502179\n\\item 7.32303933502179\n\\item 11.4738324607307\n\\item 6.26288839204945\n\\item 14.7929832126412\n\\item 6.02688244643511\n\\item 10.127026892428\n\\item 11.0041499309177\n\\item 7.93069432929218\n\\item 8.95340389560647\n\\item 7.61989825172011\n\\item 6.50997452642071\n\\item 6.02688244643511\n\\item 8.59674601738299\n\\item 10.5555295748257\n\\item 6.26288839204945\n\\item 10.5555295748257\n\\item 10.127026892428\n\\item 6.50997452642071\n\\item 8.95340389560647\n\\item 6.02688244643511\n\\item 14.7929832126412\n\\item 13.5836707344345\n\\item 9.32680642236867\n\\item 10.5555295748257\n\\item 11.0041499309177\n\\item 10.5555295748257\n\\item 9.71773973831528\n\\item 9.32680642236867\n\\item 8.95340389560647\n\\item 11.0041499309177\n\\item 7.32303933502179\n\\item 11.9655660074051\n\\item 9.32680642236867\n\\item 11.0041499309177\n\\item 12.4803858390503\n\\item 13.5836707344345\n\\item 8.25608190029228\n\\item 12.4803858390503\n\\item 6.76866105077758\n\\item 7.61989825172011\n\\item 7.93069432929218\n\\item 6.76866105077758\n\\item 9.71773973831528\n\\item 14.1744585920432\n\\item 13.5836707344345\n\\item 8.95340389560647\n\\item 8.59674601738299\n\\item 9.71773973831528\n\\item 8.25608190029228\n\\item 7.61989825172011\n\\item 9.32680642236867\n\\item 8.95340389560647\n\\item 6.76866105077758\n\\item 8.59674601738299\n\\item 9.32680642236867\n\\item 6.02688244643511\n\\item 8.25608190029228\n\\item 16.8283082766772\n\\item 11.4738324607307\n\\item 9.32680642236867\n\\item 7.03949258915638\n\\item 7.03949258915638\n\\item 9.71773973831528\n\\item 6.02688244643511\n\\item 10.127026892428\n\\item 8.59674601738299\n\\item 7.32303933502179\n\\item 8.59674601738299\n\\item 11.0041499309177\n\\item 14.1744585920432\n\\item 11.0041499309177\n\\item 10.5555295748257\n\\item 8.95340389560647\n\\item 8.95340389560647\n\\item 7.32303933502179\n\\item 7.93069432929218\n\\item 7.32303933502179\n\\item 7.03949258915638\n\\item 6.02688244643511\n\\item 9.32680642236867\n\\item 7.93069432929218\n\\item 7.93069432929218\n\\item 8.25608190029228\n\\item 11.4738324607307\n\\item 7.32303933502179\n\\item 13.5836707344345\n\\item 15.4405468031227\n\\item 9.32680642236867\n\\item 14.1744585920432\n\\item 10.127026892428\n\\item 7.93069432929218\n\\item 6.76866105077758\n\\item 7.32303933502179\n\\item 11.4738324607307\n\\item 13.5836707344345\n\\item 11.4738324607307\n\\item 7.61989825172011\n\\item 13.0193758283396\n\\item 14.7929832126412\n\\item 8.95340389560647\n\\item 7.03949258915638\n\\item 8.59674601738299\n\\item 12.4803858390503\n\\item 7.32303933502179\n\\item 6.02688244643511\n\\item 15.4405468031227\n\\item 10.5555295748257\n\\item 11.4738324607307\n\\item 10.5555295748257\n\\item 11.0041499309177\n\\item 7.03949258915638\n\\item 10.127026892428\n\\item 8.95340389560647\n\\item 6.76866105077758\n\\item 10.127026892428\n\\item 11.9655660074051\n\\item 8.59674601738299\n\\item 8.25608190029228\n\\item 9.32680642236867\n\\item 11.0041499309177\n\\item 9.71773973831528\n\\item 11.0041499309177\n\\item 9.71773973831528\n\\item 7.32303933502179\n\\item 8.59674601738299\n\\item 8.95340389560647\n\\item 8.25608190029228\n\\item 7.32303933502179\n\\item 8.59674601738299\n\\item 9.32680642236867\n\\item 9.32680642236867\n\\item 14.1744585920432\n\\item 11.4738324607307\n\\item 9.71773973831528\n\\item 11.4738324607307\n\\item 6.76866105077758\n\\item 6.02688244643511\n\\item 13.5836707344345\n\\item 8.25608190029228\n\\item 9.32680642236867\n\\item 8.59674601738299\n\\item 9.32680642236867\n\\item 9.71773973831528\n\\item 11.4738324607307\n\\item 7.93069432929218\n\\item 7.32303933502179\n\\item 8.95340389560647\n\\item 8.25608190029228\n\\item 7.32303933502179\n\\item 10.5555295748257\n\\item 9.32680642236867\n\\item 7.32303933502179\n\\item 12.4803858390503\n\\item 7.03949258915638\n\\item 11.0041499309177\n\\item 8.95340389560647\n\\item 13.5836707344345\n\\item 10.127026892428\n\\item 7.61989825172011\n\\item 6.02688244643511\n\\item 11.0041499309177\n\\item 8.59674601738299\n\\item 10.5555295748257\n\\item 8.59674601738299\n\\item 8.59674601738299\n\\item 16.8283082766772\n\\item 8.59674601738299\n\\item 11.0041499309177\n\\item 7.32303933502179\n\\item 10.127026892428\n\\item 11.0041499309177\n\\item 6.02688244643511\n\\item 9.71773973831528\n\\item 9.32680642236867\n\\item 9.71773973831528\n\\item 11.0041499309177\n\\item 8.25608190029228\n\\item 6.02688244643511\n\\item 8.25608190029228\n\\item 14.1744585920432\n\\item 8.95340389560647\n\\item 9.71773973831528\n\\item 7.93069432929218\n\\item 13.5836707344345\n\\item 8.95340389560647\n\\item 9.32680642236867\n\\item 6.02688244643511\n\\item 9.32680642236867\n\\item 7.32303933502179\n\\item 13.0193758283396\n\\item 8.95340389560647\n\\item 6.26288839204945\n\\item 6.76866105077758\n\\item 8.25608190029228\n\\item 10.127026892428\n\\item 9.32680642236867\n\\item 6.76866105077758\n\\item 9.32680642236867\n\\item 11.9655660074051\n\\item 8.25608190029228\n\\item 8.95340389560647\n\\item 7.93069432929218\n\\item 15.4405468031227\n\\item 11.9655660074051\n\\item 11.9655660074051\n\\item 9.71773973831528\n\\item 10.127026892428\n\\item 7.61989825172011\n\\item 11.4738324607307\n\\item 6.02688244643511\n\\item 6.02688244643511\n\\item 7.03949258915638\n\\item 8.59674601738299\n\\item 10.127026892428\n\\item 11.4738324607307\n\\item 7.03949258915638\n\\item 9.32680642236867\n\\item 8.95340389560647\n\\item 14.1744585920432\n\\item 13.0193758283396\n\\item 6.02688244643511\n\\item 8.59674601738299\n\\item 7.93069432929218\n\\item 11.4738324607307\n\\item 11.0041499309177\n\\item 7.32303933502179\n\\item 12.4803858390503\n\\item 10.5555295748257\n\\item 7.61989825172011\n\\item 8.59674601738299\n\\item 10.127026892428\n\\item 6.02688244643511\n\\item 7.61989825172011\n\\item 12.4803858390503\n\\item 7.61989825172011\n\\item 8.25608190029228\n\\item 7.93069432929218\n\\item 8.59674601738299\n\\item 10.5555295748257\n\\item 10.127026892428\n\\item 6.76866105077758\n\\item 8.25608190029228\n\\item 10.5555295748257\n\\item 8.59674601738299\n\\item 10.5555295748257\n\\item 8.25608190029228\n\\item 7.61989825172011\n\\item 12.4803858390503\n\\item 10.5555295748257\n\\item 8.59674601738299\n\\item 10.5555295748257\n\\item 14.1744585920432\n\\item 9.71773973831528\n\\item 8.95340389560647\n\\item 7.61989825172011\n\\item 11.0041499309177\n\\item 8.25608190029228\n\\item 10.127026892428\n\\item 7.61989825172011\n\\item 7.93069432929218\n\\item 10.5555295748257\n\\item 8.95340389560647\n\\item 11.9655660074051\n\\item 9.32680642236867\n\\item 7.61989825172011\n\\item 7.93069432929218\n\\item 7.93069432929218\n\\item 14.7929832126412\n\\item 7.93069432929218\n\\item 10.5555295748257\n\\item 12.4803858390503\n\\item 8.95340389560647\n\\item 6.02688244643511\n\\item 7.93069432929218\n\\item 6.02688244643511\n\\item 13.0193758283396\n\\item 8.59674601738299\n\\item 6.02688244643511\n\\item 7.61989825172011\n\\item 6.02688244643511\n\\item 11.4738324607307\n\\item 10.5555295748257\n\\item 9.71773973831528\n\\item 11.9655660074051\n\\item 10.127026892428\n\\item 7.03949258915638\n\\item 8.25608190029228\n\\item 7.93069432929218\n\\item 13.5836707344345\n\\item 7.61989825172011\n\\item 20.0167467718819\n\\item 9.32680642236867\n\\item 10.127026892428\n\\item 9.32680642236867\n\\item 10.127026892428\n\\item 12.4803858390503\n\\item 9.71773973831528\n\\item 7.93069432929218\n\\item 7.93069432929218\n\\item 10.5555295748257\n\\item 10.127026892428\n\\item 16.8283082766772\n\\item 15.4405468031227\n\\item 6.26288839204945\n\\item 11.4738324607307\n\\item 10.127026892428\n\\item 11.9655660074051\n\\item 11.9655660074051\n\\item 11.0041499309177\n\\item 13.0193758283396\n\\item 10.5555295748257\n\\item 7.61989825172011\n\\item 7.61989825172011\n\\item 9.71773973831528\n\\item 9.32680642236867\n\\item 11.0041499309177\n\\item 6.76866105077758\n\\item 7.93069432929218\n\\item 13.0193758283396\n\\item 9.71773973831528\n\\item 11.9655660074051\n\\item 8.59674601738299\n\\item 10.5555295748257\n\\item 8.59674601738299\n\\item 10.127026892428\n\\item 7.93069432929218\n\\item 11.0041499309177\n\\item 9.71773973831528\n\\item 11.0041499309177\n\\item 9.32680642236867\n\\item 10.5555295748257\n\\item 11.0041499309177\n\\item 8.95340389560647\n\\item 9.32680642236867\n\\item 13.5836707344345\n\\item 8.59674601738299\n\\item 6.26288839204945\n\\item 8.59674601738299\n\\item 9.32680642236867\n\\item 7.32303933502179\n\\item 10.127026892428\n\\item 6.50997452642071\n\\item 7.32303933502179\n\\item 7.03949258915638\n\\item 9.71773973831528\n\\item 7.03949258915638\n\\item 10.5555295748257\n\\item 10.127026892428\n\\item 7.61989825172011\n\\item 11.9655660074051\n\\item 9.71773973831528\n\\item 11.4738324607307\n\\item 11.9655660074051\n\\item 8.59674601738299\n\\item 9.32680642236867\n\\item 6.02688244643511\n\\item 10.127026892428\n\\item 7.61989825172011\n\\item 7.61989825172011\n\\item 8.59674601738299\n\\item 9.71773973831528\n\\item 9.71773973831528\n\\item 8.59674601738299\n\\item 6.02688244643511\n\\item 8.25608190029228\n\\item 10.127026892428\n\\item 7.32303933502179\n\\item 10.127026892428\n\\item 10.127026892428\n\\item 7.93069432929218\n\\item 11.4738324607307\n\\item 13.0193758283396\n\\item 6.76866105077758\n\\item 9.32680642236867\n\\item 8.25608190029228\n\\item 8.25608190029228\n\\item 6.02688244643511\n\\item 7.93069432929218\n\\item 8.95340389560647\n\\item 8.59674601738299\n\\item 11.9655660074051\n\\item 8.59674601738299\n\\item 9.71773973831528\n\\item 11.9655660074051\n\\item 7.32303933502179\n\\item 8.95340389560647\n\\end{enumerate*}\n",
            "text/plain": [
              "  [1] 14.174459  7.930694  6.026882  8.256082 10.555530  6.509975  9.717740\n",
              "  [8] 13.583671 10.127027  7.323039  6.026882 12.480386  6.509975  7.323039\n",
              " [15]  7.323039 11.473832  6.262888 14.792983  6.026882 10.127027 11.004150\n",
              " [22]  7.930694  8.953404  7.619898  6.509975  6.026882  8.596746 10.555530\n",
              " [29]  6.262888 10.555530 10.127027  6.509975  8.953404  6.026882 14.792983\n",
              " [36] 13.583671  9.326806 10.555530 11.004150 10.555530  9.717740  9.326806\n",
              " [43]  8.953404 11.004150  7.323039 11.965566  9.326806 11.004150 12.480386\n",
              " [50] 13.583671  8.256082 12.480386  6.768661  7.619898  7.930694  6.768661\n",
              " [57]  9.717740 14.174459 13.583671  8.953404  8.596746  9.717740  8.256082\n",
              " [64]  7.619898  9.326806  8.953404  6.768661  8.596746  9.326806  6.026882\n",
              " [71]  8.256082 16.828308 11.473832  9.326806  7.039493  7.039493  9.717740\n",
              " [78]  6.026882 10.127027  8.596746  7.323039  8.596746 11.004150 14.174459\n",
              " [85] 11.004150 10.555530  8.953404  8.953404  7.323039  7.930694  7.323039\n",
              " [92]  7.039493  6.026882  9.326806  7.930694  7.930694  8.256082 11.473832\n",
              " [99]  7.323039 13.583671 15.440547  9.326806 14.174459 10.127027  7.930694\n",
              "[106]  6.768661  7.323039 11.473832 13.583671 11.473832  7.619898 13.019376\n",
              "[113] 14.792983  8.953404  7.039493  8.596746 12.480386  7.323039  6.026882\n",
              "[120] 15.440547 10.555530 11.473832 10.555530 11.004150  7.039493 10.127027\n",
              "[127]  8.953404  6.768661 10.127027 11.965566  8.596746  8.256082  9.326806\n",
              "[134] 11.004150  9.717740 11.004150  9.717740  7.323039  8.596746  8.953404\n",
              "[141]  8.256082  7.323039  8.596746  9.326806  9.326806 14.174459 11.473832\n",
              "[148]  9.717740 11.473832  6.768661  6.026882 13.583671  8.256082  9.326806\n",
              "[155]  8.596746  9.326806  9.717740 11.473832  7.930694  7.323039  8.953404\n",
              "[162]  8.256082  7.323039 10.555530  9.326806  7.323039 12.480386  7.039493\n",
              "[169] 11.004150  8.953404 13.583671 10.127027  7.619898  6.026882 11.004150\n",
              "[176]  8.596746 10.555530  8.596746  8.596746 16.828308  8.596746 11.004150\n",
              "[183]  7.323039 10.127027 11.004150  6.026882  9.717740  9.326806  9.717740\n",
              "[190] 11.004150  8.256082  6.026882  8.256082 14.174459  8.953404  9.717740\n",
              "[197]  7.930694 13.583671  8.953404  9.326806  6.026882  9.326806  7.323039\n",
              "[204] 13.019376  8.953404  6.262888  6.768661  8.256082 10.127027  9.326806\n",
              "[211]  6.768661  9.326806 11.965566  8.256082  8.953404  7.930694 15.440547\n",
              "[218] 11.965566 11.965566  9.717740 10.127027  7.619898 11.473832  6.026882\n",
              "[225]  6.026882  7.039493  8.596746 10.127027 11.473832  7.039493  9.326806\n",
              "[232]  8.953404 14.174459 13.019376  6.026882  8.596746  7.930694 11.473832\n",
              "[239] 11.004150  7.323039 12.480386 10.555530  7.619898  8.596746 10.127027\n",
              "[246]  6.026882  7.619898 12.480386  7.619898  8.256082  7.930694  8.596746\n",
              "[253] 10.555530 10.127027  6.768661  8.256082 10.555530  8.596746 10.555530\n",
              "[260]  8.256082  7.619898 12.480386 10.555530  8.596746 10.555530 14.174459\n",
              "[267]  9.717740  8.953404  7.619898 11.004150  8.256082 10.127027  7.619898\n",
              "[274]  7.930694 10.555530  8.953404 11.965566  9.326806  7.619898  7.930694\n",
              "[281]  7.930694 14.792983  7.930694 10.555530 12.480386  8.953404  6.026882\n",
              "[288]  7.930694  6.026882 13.019376  8.596746  6.026882  7.619898  6.026882\n",
              "[295] 11.473832 10.555530  9.717740 11.965566 10.127027  7.039493  8.256082\n",
              "[302]  7.930694 13.583671  7.619898 20.016747  9.326806 10.127027  9.326806\n",
              "[309] 10.127027 12.480386  9.717740  7.930694  7.930694 10.555530 10.127027\n",
              "[316] 16.828308 15.440547  6.262888 11.473832 10.127027 11.965566 11.965566\n",
              "[323] 11.004150 13.019376 10.555530  7.619898  7.619898  9.717740  9.326806\n",
              "[330] 11.004150  6.768661  7.930694 13.019376  9.717740 11.965566  8.596746\n",
              "[337] 10.555530  8.596746 10.127027  7.930694 11.004150  9.717740 11.004150\n",
              "[344]  9.326806 10.555530 11.004150  8.953404  9.326806 13.583671  8.596746\n",
              "[351]  6.262888  8.596746  9.326806  7.323039 10.127027  6.509975  7.323039\n",
              "[358]  7.039493  9.717740  7.039493 10.555530 10.127027  7.619898 11.965566\n",
              "[365]  9.717740 11.473832 11.965566  8.596746  9.326806  6.026882 10.127027\n",
              "[372]  7.619898  7.619898  8.596746  9.717740  9.717740  8.596746  6.026882\n",
              "[379]  8.256082 10.127027  7.323039 10.127027 10.127027  7.930694 11.473832\n",
              "[386] 13.019376  6.768661  9.326806  8.256082  8.256082  6.026882  7.930694\n",
              "[393]  8.953404  8.596746 11.965566  8.596746  9.717740 11.965566  7.323039\n",
              "[400]  8.953404"
            ]
          },
          "metadata": {}
        }
      ]
    },
    {
      "cell_type": "code",
      "source": [
        "cluster_data <- read_csv('credit_clusters.csv')"
      ],
      "metadata": {
        "colab": {
          "base_uri": "https://localhost:8080/"
        },
        "id": "YRf-dlLsqFHa",
        "outputId": "396d55cd-264a-463d-bb15-e38efd97309a"
      },
      "execution_count": null,
      "outputs": [
        {
          "output_type": "stream",
          "name": "stderr",
          "text": [
            "\u001b[1m\u001b[22mNew names:\n",
            "\u001b[36m•\u001b[39m `` -> `...1`\n",
            "\u001b[1mRows: \u001b[22m\u001b[34m8636\u001b[39m \u001b[1mColumns: \u001b[22m\u001b[34m19\u001b[39m\n",
            "\u001b[36m──\u001b[39m \u001b[1mColumn specification\u001b[22m \u001b[36m────────────────────────────────────────────────────────\u001b[39m\n",
            "\u001b[1mDelimiter:\u001b[22m \",\"\n",
            "\u001b[32mdbl\u001b[39m (19): ...1, BALANCE, BALANCE_FREQUENCY, PURCHASES, ONEOFF_PURCHASES, INS...\n",
            "\n",
            "\u001b[36mℹ\u001b[39m Use `spec()` to retrieve the full column specification for this data.\n",
            "\u001b[36mℹ\u001b[39m Specify the column types or set `show_col_types = FALSE` to quiet this message.\n"
          ]
        }
      ]
    },
    {
      "cell_type": "code",
      "source": [
        "model <- glm(label ~ ., data = cluster_data, family = 'binomial')"
      ],
      "metadata": {
        "colab": {
          "base_uri": "https://localhost:8080/"
        },
        "id": "k0Y-0ucfqf8J",
        "outputId": "5368ead1-feae-405d-ab80-52ab9e35650c"
      },
      "execution_count": null,
      "outputs": [
        {
          "output_type": "stream",
          "name": "stderr",
          "text": [
            "Warning message:\n",
            "“glm.fit: fitted probabilities numerically 0 or 1 occurred”\n"
          ]
        }
      ]
    },
    {
      "cell_type": "code",
      "source": [
        "summary(model)"
      ],
      "metadata": {
        "colab": {
          "base_uri": "https://localhost:8080/",
          "height": 647
        },
        "id": "PZV9muXFqqVM",
        "outputId": "3b636960-9997-4e73-832c-08f60ed1a0c2"
      },
      "execution_count": null,
      "outputs": [
        {
          "output_type": "display_data",
          "data": {
            "text/plain": [
              "\n",
              "Call:\n",
              "glm(formula = label ~ ., family = \"binomial\", data = cluster_data)\n",
              "\n",
              "Coefficients:\n",
              "                                   Estimate Std. Error z value Pr(>|z|)    \n",
              "(Intercept)                      -1.050e+01  8.107e-01 -12.949  < 2e-16 ***\n",
              "...1                              4.698e-05  2.457e-05   1.912 0.055856 .  \n",
              "BALANCE                          -6.569e-04  6.373e-05 -10.308  < 2e-16 ***\n",
              "BALANCE_FREQUENCY                 1.493e+00  4.139e-01   3.608 0.000309 ***\n",
              "PURCHASES                        -9.686e-01  1.578e+01  -0.061 0.951061    \n",
              "ONEOFF_PURCHASES                  9.710e-01  1.578e+01   0.062 0.950941    \n",
              "INSTALLMENTS_PURCHASES            9.727e-01  1.578e+01   0.062 0.950854    \n",
              "CASH_ADVANCE                     -3.060e-05  4.630e-05  -0.661 0.508738    \n",
              "PURCHASES_FREQUENCY              -2.884e+00  7.397e-01  -3.899 9.66e-05 ***\n",
              "ONEOFF_PURCHASES_FREQUENCY        6.934e+00  7.068e-01   9.810  < 2e-16 ***\n",
              "PURCHASES_INSTALLMENTS_FREQUENCY  1.128e+00  6.914e-01   1.632 0.102775    \n",
              "CASH_ADVANCE_FREQUENCY            3.328e-01  6.743e-01   0.494 0.621611    \n",
              "CASH_ADVANCE_TRX                 -1.377e-01  2.404e-02  -5.730 1.00e-08 ***\n",
              "PURCHASES_TRX                     2.027e-01  1.268e-02  15.986  < 2e-16 ***\n",
              "CREDIT_LIMIT                      6.889e-05  2.138e-05   3.222 0.001273 ** \n",
              "PAYMENTS                          6.016e-04  4.043e-05  14.881  < 2e-16 ***\n",
              "MINIMUM_PAYMENTS                  3.515e-03  1.727e-04  20.355  < 2e-16 ***\n",
              "PRC_FULL_PAYMENT                  3.455e-01  2.154e-01   1.605 0.108595    \n",
              "TENURE                            7.200e-02  5.821e-02   1.237 0.216087    \n",
              "---\n",
              "Signif. codes:  0 ‘***’ 0.001 ‘**’ 0.01 ‘*’ 0.05 ‘.’ 0.1 ‘ ’ 1\n",
              "\n",
              "(Dispersion parameter for binomial family taken to be 1)\n",
              "\n",
              "    Null deviance: 11237.9  on 8635  degrees of freedom\n",
              "Residual deviance:  2085.8  on 8617  degrees of freedom\n",
              "AIC: 2123.8\n",
              "\n",
              "Number of Fisher Scoring iterations: 18\n"
            ]
          },
          "metadata": {}
        }
      ]
    },
    {
      "cell_type": "code",
      "source": [],
      "metadata": {
        "id": "aPQHLsmLqtCz"
      },
      "execution_count": null,
      "outputs": []
    }
  ]
}