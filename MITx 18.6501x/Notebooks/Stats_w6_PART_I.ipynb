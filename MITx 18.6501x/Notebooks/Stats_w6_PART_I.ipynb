{
  "nbformat": 4,
  "nbformat_minor": 0,
  "metadata": {
    "colab": {
      "provenance": [],
      "include_colab_link": true
    },
    "kernelspec": {
      "name": "ir",
      "display_name": "R"
    },
    "language_info": {
      "name": "R"
    }
  },
  "cells": [
    {
      "cell_type": "markdown",
      "metadata": {
        "id": "view-in-github",
        "colab_type": "text"
      },
      "source": [
        "<a href=\"https://colab.research.google.com/github/IsraaFahmy/Statistics-and-Data-Science-Micromasters-/blob/main/MITx%2018.6501x/Notebooks/Stats_w6_PART_I.ipynb\" target=\"_parent\"><img src=\"https://colab.research.google.com/assets/colab-badge.svg\" alt=\"Open In Colab\"/></a>"
      ]
    },
    {
      "cell_type": "markdown",
      "source": [
        "#### Maximum Likelihood Estimation"
      ],
      "metadata": {
        "id": "FgxPxV1hBAh0"
      }
    },
    {
      "cell_type": "code",
      "source": [
        "library(tidyverse)"
      ],
      "metadata": {
        "id": "07MGTMUrBWoC"
      },
      "execution_count": null,
      "outputs": []
    },
    {
      "cell_type": "markdown",
      "source": [
        "#### EDA Practice\n",
        "\n",
        "Data: https://www.kaggle.com/c/titanic/data\n",
        "\n",
        "\n",
        "1. What was the survival rate overall?\n",
        "2. Which gender fared the worst? What was their survival rate?\n",
        "3. What was the survival rate for each Pclass?\n",
        "4. Did any reverends survive? How many?\n",
        "5. What is the survival rate for people whose Age is empty?\n",
        "What is the survival rate for each port of embarkation?\n",
        "6. What is the survival rate for children (under 12) in each Pclass?\n",
        "7. Of all the people that died, who had the most expensive ticket? How much did it cost?\n",
        "8. Does having family on the boat help or hurt your chances of survival?"
      ],
      "metadata": {
        "id": "kIwkeRdWHcv3"
      }
    },
    {
      "cell_type": "code",
      "source": [
        "titanic <- read_csv(\"train.csv\")\n",
        "head(titanic)"
      ],
      "metadata": {
        "id": "OsJ81CQLHcgv",
        "colab": {
          "base_uri": "https://localhost:8080/",
          "height": 728
        },
        "outputId": "44779ce9-9f7c-4517-d644-0b70496087dd"
      },
      "execution_count": null,
      "outputs": [
        {
          "output_type": "stream",
          "name": "stderr",
          "text": [
            "\u001b[1mRows: \u001b[22m\u001b[34m891\u001b[39m \u001b[1mColumns: \u001b[22m\u001b[34m12\u001b[39m\n",
            "\u001b[36m──\u001b[39m \u001b[1mColumn specification\u001b[22m \u001b[36m────────────────────────────────────────────────────────\u001b[39m\n",
            "\u001b[1mDelimiter:\u001b[22m \",\"\n",
            "\u001b[31mchr\u001b[39m (5): Name, Sex, Ticket, Cabin, Embarked\n",
            "\u001b[32mdbl\u001b[39m (7): PassengerId, Survived, Pclass, Age, SibSp, Parch, Fare\n",
            "\n",
            "\u001b[36mℹ\u001b[39m Use `spec()` to retrieve the full column specification for this data.\n",
            "\u001b[36mℹ\u001b[39m Specify the column types or set `show_col_types = FALSE` to quiet this message.\n"
          ]
        },
        {
          "output_type": "display_data",
          "data": {
            "text/html": [
              "<table class=\"dataframe\">\n",
              "<caption>A tibble: 6 × 12</caption>\n",
              "<thead>\n",
              "\t<tr><th scope=col>PassengerId</th><th scope=col>Survived</th><th scope=col>Pclass</th><th scope=col>Name</th><th scope=col>Sex</th><th scope=col>Age</th><th scope=col>SibSp</th><th scope=col>Parch</th><th scope=col>Ticket</th><th scope=col>Fare</th><th scope=col>Cabin</th><th scope=col>Embarked</th></tr>\n",
              "\t<tr><th scope=col>&lt;dbl&gt;</th><th scope=col>&lt;dbl&gt;</th><th scope=col>&lt;dbl&gt;</th><th scope=col>&lt;chr&gt;</th><th scope=col>&lt;chr&gt;</th><th scope=col>&lt;dbl&gt;</th><th scope=col>&lt;dbl&gt;</th><th scope=col>&lt;dbl&gt;</th><th scope=col>&lt;chr&gt;</th><th scope=col>&lt;dbl&gt;</th><th scope=col>&lt;chr&gt;</th><th scope=col>&lt;chr&gt;</th></tr>\n",
              "</thead>\n",
              "<tbody>\n",
              "\t<tr><td>1</td><td>0</td><td>3</td><td>Braund, Mr. Owen Harris                            </td><td>male  </td><td>22</td><td>1</td><td>0</td><td>A/5 21171       </td><td> 7.2500</td><td>NA  </td><td>S</td></tr>\n",
              "\t<tr><td>2</td><td>1</td><td>1</td><td>Cumings, Mrs. John Bradley (Florence Briggs Thayer)</td><td>female</td><td>38</td><td>1</td><td>0</td><td>PC 17599        </td><td>71.2833</td><td>C85 </td><td>C</td></tr>\n",
              "\t<tr><td>3</td><td>1</td><td>3</td><td>Heikkinen, Miss. Laina                             </td><td>female</td><td>26</td><td>0</td><td>0</td><td>STON/O2. 3101282</td><td> 7.9250</td><td>NA  </td><td>S</td></tr>\n",
              "\t<tr><td>4</td><td>1</td><td>1</td><td>Futrelle, Mrs. Jacques Heath (Lily May Peel)       </td><td>female</td><td>35</td><td>1</td><td>0</td><td>113803          </td><td>53.1000</td><td>C123</td><td>S</td></tr>\n",
              "\t<tr><td>5</td><td>0</td><td>3</td><td>Allen, Mr. William Henry                           </td><td>male  </td><td>35</td><td>0</td><td>0</td><td>373450          </td><td> 8.0500</td><td>NA  </td><td>S</td></tr>\n",
              "\t<tr><td>6</td><td>0</td><td>3</td><td>Moran, Mr. James                                   </td><td>male  </td><td>NA</td><td>0</td><td>0</td><td>330877          </td><td> 8.4583</td><td>NA  </td><td>Q</td></tr>\n",
              "</tbody>\n",
              "</table>\n"
            ],
            "text/markdown": "\nA tibble: 6 × 12\n\n| PassengerId &lt;dbl&gt; | Survived &lt;dbl&gt; | Pclass &lt;dbl&gt; | Name &lt;chr&gt; | Sex &lt;chr&gt; | Age &lt;dbl&gt; | SibSp &lt;dbl&gt; | Parch &lt;dbl&gt; | Ticket &lt;chr&gt; | Fare &lt;dbl&gt; | Cabin &lt;chr&gt; | Embarked &lt;chr&gt; |\n|---|---|---|---|---|---|---|---|---|---|---|---|\n| 1 | 0 | 3 | Braund, Mr. Owen Harris                             | male   | 22 | 1 | 0 | A/5 21171        |  7.2500 | NA   | S |\n| 2 | 1 | 1 | Cumings, Mrs. John Bradley (Florence Briggs Thayer) | female | 38 | 1 | 0 | PC 17599         | 71.2833 | C85  | C |\n| 3 | 1 | 3 | Heikkinen, Miss. Laina                              | female | 26 | 0 | 0 | STON/O2. 3101282 |  7.9250 | NA   | S |\n| 4 | 1 | 1 | Futrelle, Mrs. Jacques Heath (Lily May Peel)        | female | 35 | 1 | 0 | 113803           | 53.1000 | C123 | S |\n| 5 | 0 | 3 | Allen, Mr. William Henry                            | male   | 35 | 0 | 0 | 373450           |  8.0500 | NA   | S |\n| 6 | 0 | 3 | Moran, Mr. James                                    | male   | NA | 0 | 0 | 330877           |  8.4583 | NA   | Q |\n\n",
            "text/latex": "A tibble: 6 × 12\n\\begin{tabular}{llllllllllll}\n PassengerId & Survived & Pclass & Name & Sex & Age & SibSp & Parch & Ticket & Fare & Cabin & Embarked\\\\\n <dbl> & <dbl> & <dbl> & <chr> & <chr> & <dbl> & <dbl> & <dbl> & <chr> & <dbl> & <chr> & <chr>\\\\\n\\hline\n\t 1 & 0 & 3 & Braund, Mr. Owen Harris                             & male   & 22 & 1 & 0 & A/5 21171        &  7.2500 & NA   & S\\\\\n\t 2 & 1 & 1 & Cumings, Mrs. John Bradley (Florence Briggs Thayer) & female & 38 & 1 & 0 & PC 17599         & 71.2833 & C85  & C\\\\\n\t 3 & 1 & 3 & Heikkinen, Miss. Laina                              & female & 26 & 0 & 0 & STON/O2. 3101282 &  7.9250 & NA   & S\\\\\n\t 4 & 1 & 1 & Futrelle, Mrs. Jacques Heath (Lily May Peel)        & female & 35 & 1 & 0 & 113803           & 53.1000 & C123 & S\\\\\n\t 5 & 0 & 3 & Allen, Mr. William Henry                            & male   & 35 & 0 & 0 & 373450           &  8.0500 & NA   & S\\\\\n\t 6 & 0 & 3 & Moran, Mr. James                                    & male   & NA & 0 & 0 & 330877           &  8.4583 & NA   & Q\\\\\n\\end{tabular}\n",
            "text/plain": [
              "  PassengerId Survived Pclass\n",
              "1 1           0        3     \n",
              "2 2           1        1     \n",
              "3 3           1        3     \n",
              "4 4           1        1     \n",
              "5 5           0        3     \n",
              "6 6           0        3     \n",
              "  Name                                                Sex    Age SibSp Parch\n",
              "1 Braund, Mr. Owen Harris                             male   22  1     0    \n",
              "2 Cumings, Mrs. John Bradley (Florence Briggs Thayer) female 38  1     0    \n",
              "3 Heikkinen, Miss. Laina                              female 26  0     0    \n",
              "4 Futrelle, Mrs. Jacques Heath (Lily May Peel)        female 35  1     0    \n",
              "5 Allen, Mr. William Henry                            male   35  0     0    \n",
              "6 Moran, Mr. James                                    male   NA  0     0    \n",
              "  Ticket           Fare    Cabin Embarked\n",
              "1 A/5 21171         7.2500 NA    S       \n",
              "2 PC 17599         71.2833 C85   C       \n",
              "3 STON/O2. 3101282  7.9250 NA    S       \n",
              "4 113803           53.1000 C123  S       \n",
              "5 373450            8.0500 NA    S       \n",
              "6 330877            8.4583 NA    Q       "
            ]
          },
          "metadata": {}
        }
      ]
    },
    {
      "cell_type": "code",
      "source": [
        "# What was the survival rate overall?\n",
        "overall_survival_rate <- mean(titanic$Survived) * 100\n",
        "cat(\"Survival rate overall: \", overall_survival_rate, \"%\\n\")"
      ],
      "metadata": {
        "id": "RlS0-nPkHcd3",
        "colab": {
          "base_uri": "https://localhost:8080/"
        },
        "outputId": "bbf99407-e41e-47d4-9937-168efbf62f48"
      },
      "execution_count": null,
      "outputs": [
        {
          "output_type": "stream",
          "name": "stdout",
          "text": [
            "Survival rate overall:  38.38384 %\n"
          ]
        }
      ]
    },
    {
      "cell_type": "code",
      "source": [
        "#Which gender fared the worst? What was their survival rate?\n",
        "gender_survival <- titanic %>%\n",
        "  group_by(Sex) %>%\n",
        "  summarize(survived = sum(Survived), survival_rate = mean(Survived) * 100)\n",
        "\n",
        "print(gender_survival)"
      ],
      "metadata": {
        "id": "thNInHM_Hcav",
        "colab": {
          "base_uri": "https://localhost:8080/"
        },
        "outputId": "366097e5-c9d5-401e-df6e-f0fb7772dc8f"
      },
      "execution_count": null,
      "outputs": [
        {
          "output_type": "stream",
          "name": "stdout",
          "text": [
            "\u001b[90m# A tibble: 2 × 3\u001b[39m\n",
            "  Sex    survived survival_rate\n",
            "  \u001b[3m\u001b[90m<chr>\u001b[39m\u001b[23m     \u001b[3m\u001b[90m<dbl>\u001b[39m\u001b[23m         \u001b[3m\u001b[90m<dbl>\u001b[39m\u001b[23m\n",
            "\u001b[90m1\u001b[39m female      233          74.2\n",
            "\u001b[90m2\u001b[39m male        109          18.9\n"
          ]
        }
      ]
    },
    {
      "cell_type": "code",
      "source": [
        "#What was the survival rate for each Pclass?\n",
        "pclass_survival <- titanic %>%\n",
        "  group_by(Pclass) %>%\n",
        "  summarize(survival_rate = mean(Survived) * 100)\n",
        "print(pclass_survival)"
      ],
      "metadata": {
        "id": "z2hF387qHcXn",
        "colab": {
          "base_uri": "https://localhost:8080/"
        },
        "outputId": "44f31e94-3f97-4d2c-8b30-5239e4a56331"
      },
      "execution_count": null,
      "outputs": [
        {
          "output_type": "stream",
          "name": "stdout",
          "text": [
            "\u001b[90m# A tibble: 3 × 2\u001b[39m\n",
            "  Pclass survival_rate\n",
            "   \u001b[3m\u001b[90m<dbl>\u001b[39m\u001b[23m         \u001b[3m\u001b[90m<dbl>\u001b[39m\u001b[23m\n",
            "\u001b[90m1\u001b[39m      1          63.0\n",
            "\u001b[90m2\u001b[39m      2          47.3\n",
            "\u001b[90m3\u001b[39m      3          24.2\n"
          ]
        }
      ]
    },
    {
      "cell_type": "code",
      "source": [],
      "metadata": {
        "id": "ngTWZooPHcUw"
      },
      "execution_count": null,
      "outputs": []
    },
    {
      "cell_type": "code",
      "source": [],
      "metadata": {
        "id": "UFYaRoKBHcRp"
      },
      "execution_count": null,
      "outputs": []
    },
    {
      "cell_type": "markdown",
      "source": [
        "#### Functions in R"
      ],
      "metadata": {
        "id": "bQVeN2jcBjiD"
      }
    },
    {
      "cell_type": "code",
      "source": [
        "f <- function(x){\n",
        "  output <- x^2\n",
        "  return(output)\n",
        "}"
      ],
      "metadata": {
        "id": "4xQseYMUCWlP"
      },
      "execution_count": null,
      "outputs": []
    },
    {
      "cell_type": "code",
      "source": [
        "f(8)"
      ],
      "metadata": {
        "id": "ffIdKhojCWh3",
        "colab": {
          "base_uri": "https://localhost:8080/",
          "height": 34
        },
        "outputId": "3a96a0ab-db23-435e-f247-155c976ecc61"
      },
      "execution_count": null,
      "outputs": [
        {
          "output_type": "display_data",
          "data": {
            "text/html": [
              "64"
            ],
            "text/markdown": "64",
            "text/latex": "64",
            "text/plain": [
              "[1] 64"
            ]
          },
          "metadata": {}
        }
      ]
    },
    {
      "cell_type": "code",
      "source": [
        "#like linspace numpy , from start to end with increment\n",
        "x <- seq(-2, 2, 0.2)"
      ],
      "metadata": {
        "id": "Lf02bjQNCWcH"
      },
      "execution_count": null,
      "outputs": []
    },
    {
      "cell_type": "markdown",
      "source": [
        "- $f(x) = x^2$\n",
        "- $g(x) = sin(x)$"
      ],
      "metadata": {
        "id": "9K5QUxR8CWZQ"
      }
    },
    {
      "cell_type": "code",
      "source": [
        "f(x)"
      ],
      "metadata": {
        "id": "dfo8xpfeCWWp",
        "colab": {
          "base_uri": "https://localhost:8080/",
          "height": 51
        },
        "outputId": "516ef681-f326-4b7b-d7b4-ffa19ea63da9"
      },
      "execution_count": null,
      "outputs": [
        {
          "output_type": "display_data",
          "data": {
            "text/html": [
              "<style>\n",
              ".list-inline {list-style: none; margin:0; padding: 0}\n",
              ".list-inline>li {display: inline-block}\n",
              ".list-inline>li:not(:last-child)::after {content: \"\\00b7\"; padding: 0 .5ex}\n",
              "</style>\n",
              "<ol class=list-inline><li>4</li><li>3.24</li><li>2.56</li><li>1.96</li><li>1.44</li><li>1</li><li>0.64</li><li>0.36</li><li>0.16</li><li>0.04</li><li>0</li><li>0.0400000000000001</li><li>0.16</li><li>0.36</li><li>0.64</li><li>1</li><li>1.44</li><li>1.96</li><li>2.56</li><li>3.24</li><li>4</li></ol>\n"
            ],
            "text/markdown": "1. 4\n2. 3.24\n3. 2.56\n4. 1.96\n5. 1.44\n6. 1\n7. 0.64\n8. 0.36\n9. 0.16\n10. 0.04\n11. 0\n12. 0.0400000000000001\n13. 0.16\n14. 0.36\n15. 0.64\n16. 1\n17. 1.44\n18. 1.96\n19. 2.56\n20. 3.24\n21. 4\n\n\n",
            "text/latex": "\\begin{enumerate*}\n\\item 4\n\\item 3.24\n\\item 2.56\n\\item 1.96\n\\item 1.44\n\\item 1\n\\item 0.64\n\\item 0.36\n\\item 0.16\n\\item 0.04\n\\item 0\n\\item 0.0400000000000001\n\\item 0.16\n\\item 0.36\n\\item 0.64\n\\item 1\n\\item 1.44\n\\item 1.96\n\\item 2.56\n\\item 3.24\n\\item 4\n\\end{enumerate*}\n",
            "text/plain": [
              " [1] 4.00 3.24 2.56 1.96 1.44 1.00 0.64 0.36 0.16 0.04 0.00 0.04 0.16 0.36 0.64\n",
              "[16] 1.00 1.44 1.96 2.56 3.24 4.00"
            ]
          },
          "metadata": {}
        }
      ]
    },
    {
      "cell_type": "code",
      "source": [
        "plot(x, f(x), type = 'l')"
      ],
      "metadata": {
        "id": "_eDf4ajYCWTy",
        "colab": {
          "base_uri": "https://localhost:8080/",
          "height": 437
        },
        "outputId": "b8d0b573-72ff-407f-dcb8-f68dc7bbb1e5"
      },
      "execution_count": null,
      "outputs": [
        {
          "output_type": "display_data",
          "data": {
            "text/plain": [
              "plot without title"
            ],
            "image/png": "[encoded data removed]"
          },
          "metadata": {
            "image/png": {
              "width": 420,
              "height": 420
            }
          }
        }
      ]
    },
    {
      "cell_type": "code",
      "source": [
        "sin_function <- function(x) {\n",
        "  sin(x)\n",
        "}"
      ],
      "metadata": {
        "id": "7B2Kqz_MCWRM"
      },
      "execution_count": null,
      "outputs": []
    },
    {
      "cell_type": "code",
      "source": [
        "x <- seq(-2 * pi, 2 * pi, length.out = 100)"
      ],
      "metadata": {
        "id": "26wXnLqLBofx"
      },
      "execution_count": null,
      "outputs": []
    },
    {
      "cell_type": "code",
      "source": [
        "y <- sin_function(x)"
      ],
      "metadata": {
        "id": "CDbWxgMWTGbb"
      },
      "execution_count": null,
      "outputs": []
    },
    {
      "cell_type": "code",
      "source": [
        "plot(x, y , type = 'l')"
      ],
      "metadata": {
        "colab": {
          "base_uri": "https://localhost:8080/",
          "height": 437
        },
        "id": "lbpOuq0HTKNF",
        "outputId": "09a872d4-7fc4-4679-c536-4c4d2a0fb9d3"
      },
      "execution_count": null,
      "outputs": [
        {
          "output_type": "display_data",
          "data": {
            "text/plain": [
              "plot without title"
            ],
            "image/png": "[encoded data removed]"
          },
          "metadata": {
            "image/png": {
              "width": 420,
              "height": 420
            }
          }
        }
      ]
    },
    {
      "cell_type": "code",
      "source": [
        "f <- function(x){\n",
        "  output <- x^2\n",
        "  return(output)\n",
        "}"
      ],
      "metadata": {
        "id": "y_aVhowSUVYR"
      },
      "execution_count": null,
      "outputs": []
    },
    {
      "cell_type": "code",
      "source": [
        "x <-seq(-2, 2, 0.1)"
      ],
      "metadata": {
        "id": "Ws8tVhWIUanB"
      },
      "execution_count": null,
      "outputs": []
    },
    {
      "cell_type": "code",
      "source": [
        "plot (x, f(x), type='l')"
      ],
      "metadata": {
        "colab": {
          "base_uri": "https://localhost:8080/",
          "height": 437
        },
        "id": "zuW4iD-GUfuE",
        "outputId": "0e8d0bac-ce8f-411a-ae00-ada1c3aae33b"
      },
      "execution_count": null,
      "outputs": [
        {
          "output_type": "display_data",
          "data": {
            "text/plain": [
              "plot without title"
            ],
            "image/png": "[encoded data removed]"
          },
          "metadata": {
            "image/png": {
              "width": 420,
              "height": 420
            }
          }
        }
      ]
    },
    {
      "cell_type": "code",
      "source": [
        "# give it function to get you the max and the min\n",
        "optim(par = 1, fn = f)"
      ],
      "metadata": {
        "colab": {
          "base_uri": "https://localhost:8080/",
          "height": 266
        },
        "id": "u2UMTi4ZUVMH",
        "outputId": "91c14452-2c6c-42ba-9247-6ec9d1a98cab"
      },
      "execution_count": null,
      "outputs": [
        {
          "output_type": "stream",
          "name": "stderr",
          "text": [
            "Warning message in optim(par = 1, fn = f):\n",
            "“one-dimensional optimization by Nelder-Mead is unreliable:\n",
            "use \"Brent\" or optimize() directly”\n"
          ]
        },
        {
          "output_type": "display_data",
          "data": {
            "text/html": [
              "<dl>\n",
              "\t<dt>$par</dt>\n",
              "\t\t<dd>-8.88178419700125e-16</dd>\n",
              "\t<dt>$value</dt>\n",
              "\t\t<dd>7.88860905221012e-31</dd>\n",
              "\t<dt>$counts</dt>\n",
              "\t\t<dd><style>\n",
              ".dl-inline {width: auto; margin:0; padding: 0}\n",
              ".dl-inline>dt, .dl-inline>dd {float: none; width: auto; display: inline-block}\n",
              ".dl-inline>dt::after {content: \":\\0020\"; padding-right: .5ex}\n",
              ".dl-inline>dt:not(:first-of-type) {padding-left: .5ex}\n",
              "</style><dl class=dl-inline><dt>function</dt><dd>32</dd><dt>gradient</dt><dd>&lt;NA&gt;</dd></dl>\n",
              "</dd>\n",
              "\t<dt>$convergence</dt>\n",
              "\t\t<dd>0</dd>\n",
              "\t<dt>$message</dt>\n",
              "\t\t<dd>NULL</dd>\n",
              "</dl>\n"
            ],
            "text/markdown": "$par\n:   -8.88178419700125e-16\n$value\n:   7.88860905221012e-31\n$counts\n:   function\n:   32gradient\n:   &lt;NA&gt;\n\n\n$convergence\n:   0\n$message\n:   NULL\n\n\n",
            "text/latex": "\\begin{description}\n\\item[\\$par] -8.88178419700125e-16\n\\item[\\$value] 7.88860905221012e-31\n\\item[\\$counts] \\begin{description*}\n\\item[function] 32\n\\item[gradient] <NA>\n\\end{description*}\n\n\\item[\\$convergence] 0\n\\item[\\$message] NULL\n\\end{description}\n",
            "text/plain": [
              "$par\n",
              "[1] -8.881784e-16\n",
              "\n",
              "$value\n",
              "[1] 7.888609e-31\n",
              "\n",
              "$counts\n",
              "function gradient \n",
              "      32       NA \n",
              "\n",
              "$convergence\n",
              "[1] 0\n",
              "\n",
              "$message\n",
              "NULL\n"
            ]
          },
          "metadata": {}
        }
      ]
    },
    {
      "cell_type": "code",
      "source": [
        "f <- function (x) {\n",
        "\n",
        "  return (-(x - 2)^2+4)\n",
        "}"
      ],
      "metadata": {
        "id": "mQOJgsEOVzho"
      },
      "execution_count": null,
      "outputs": []
    },
    {
      "cell_type": "code",
      "source": [
        "x <- seq(0, 10, 0.1)\n",
        "plot(x, f(x), type = 'l')"
      ],
      "metadata": {
        "colab": {
          "base_uri": "https://localhost:8080/",
          "height": 437
        },
        "id": "Md2zf7jCVzV_",
        "outputId": "64796003-2f44-4f55-b6e5-1e3dd07213a1"
      },
      "execution_count": null,
      "outputs": [
        {
          "output_type": "display_data",
          "data": {
            "text/plain": [
              "plot without title"
            ],
            "image/png": "[encoded data removed]"
          },
          "metadata": {
            "image/png": {
              "width": 420,
              "height": 420
            }
          }
        }
      ]
    },
    {
      "cell_type": "code",
      "source": [
        "optimize(f, c(0,4), maximum = TRUE)"
      ],
      "metadata": {
        "colab": {
          "base_uri": "https://localhost:8080/",
          "height": 113
        },
        "id": "l9x5d4jnXACp",
        "outputId": "852258c8-3b2f-4371-b903-9efe01e6d0e5"
      },
      "execution_count": null,
      "outputs": [
        {
          "output_type": "display_data",
          "data": {
            "text/html": [
              "<dl>\n",
              "\t<dt>$maximum</dt>\n",
              "\t\t<dd>2</dd>\n",
              "\t<dt>$objective</dt>\n",
              "\t\t<dd>4</dd>\n",
              "</dl>\n"
            ],
            "text/markdown": "$maximum\n:   2\n$objective\n:   4\n\n\n",
            "text/latex": "\\begin{description}\n\\item[\\$maximum] 2\n\\item[\\$objective] 4\n\\end{description}\n",
            "text/plain": [
              "$maximum\n",
              "[1] 2\n",
              "\n",
              "$objective\n",
              "[1] 4\n"
            ]
          },
          "metadata": {}
        }
      ]
    },
    {
      "cell_type": "code",
      "source": [
        "f2 <- function(x){\n",
        "\n",
        "  return (-f(x))\n",
        "}"
      ],
      "metadata": {
        "id": "aS0s1E8GX_n8"
      },
      "execution_count": null,
      "outputs": []
    },
    {
      "cell_type": "code",
      "source": [
        "plot(x, f2(x), type = 'l')"
      ],
      "metadata": {
        "colab": {
          "base_uri": "https://localhost:8080/",
          "height": 437
        },
        "id": "0I-pijZqYGEq",
        "outputId": "e84867a1-4559-4292-88d5-6fd393ecc4ae"
      },
      "execution_count": null,
      "outputs": [
        {
          "output_type": "display_data",
          "data": {
            "text/plain": [
              "plot without title"
            ],
            "image/png": "[encoded data removed]"
          },
          "metadata": {
            "image/png": {
              "width": 420,
              "height": 420
            }
          }
        }
      ]
    },
    {
      "cell_type": "code",
      "source": [
        "optim(par = 10, fn = f2)"
      ],
      "metadata": {
        "colab": {
          "base_uri": "https://localhost:8080/",
          "height": 266
        },
        "id": "9dh6XT5QYao9",
        "outputId": "2660270f-4161-4ec9-cb05-2dbf0b834ec7"
      },
      "execution_count": null,
      "outputs": [
        {
          "output_type": "stream",
          "name": "stderr",
          "text": [
            "Warning message in optim(par = 10, fn = f2):\n",
            "“one-dimensional optimization by Nelder-Mead is unreliable:\n",
            "use \"Brent\" or optimize() directly”\n"
          ]
        },
        {
          "output_type": "display_data",
          "data": {
            "text/html": [
              "<dl>\n",
              "\t<dt>$par</dt>\n",
              "\t\t<dd>2</dd>\n",
              "\t<dt>$value</dt>\n",
              "\t\t<dd>-4</dd>\n",
              "\t<dt>$counts</dt>\n",
              "\t\t<dd><style>\n",
              ".dl-inline {width: auto; margin:0; padding: 0}\n",
              ".dl-inline>dt, .dl-inline>dd {float: none; width: auto; display: inline-block}\n",
              ".dl-inline>dt::after {content: \":\\0020\"; padding-right: .5ex}\n",
              ".dl-inline>dt:not(:first-of-type) {padding-left: .5ex}\n",
              "</style><dl class=dl-inline><dt>function</dt><dd>32</dd><dt>gradient</dt><dd>&lt;NA&gt;</dd></dl>\n",
              "</dd>\n",
              "\t<dt>$convergence</dt>\n",
              "\t\t<dd>0</dd>\n",
              "\t<dt>$message</dt>\n",
              "\t\t<dd>NULL</dd>\n",
              "</dl>\n"
            ],
            "text/markdown": "$par\n:   2\n$value\n:   -4\n$counts\n:   function\n:   32gradient\n:   &lt;NA&gt;\n\n\n$convergence\n:   0\n$message\n:   NULL\n\n\n",
            "text/latex": "\\begin{description}\n\\item[\\$par] 2\n\\item[\\$value] -4\n\\item[\\$counts] \\begin{description*}\n\\item[function] 32\n\\item[gradient] <NA>\n\\end{description*}\n\n\\item[\\$convergence] 0\n\\item[\\$message] NULL\n\\end{description}\n",
            "text/plain": [
              "$par\n",
              "[1] 2\n",
              "\n",
              "$value\n",
              "[1] -4\n",
              "\n",
              "$counts\n",
              "function gradient \n",
              "      32       NA \n",
              "\n",
              "$convergence\n",
              "[1] 0\n",
              "\n",
              "$message\n",
              "NULL\n"
            ]
          },
          "metadata": {}
        }
      ]
    },
    {
      "cell_type": "markdown",
      "source": [
        "#### Likelihood"
      ],
      "metadata": {
        "id": "jMjf-0p5FPol"
      }
    },
    {
      "cell_type": "code",
      "source": [
        "# reminder of binomial dist\n"
      ],
      "metadata": {
        "id": "ot1KIHf7FSUw"
      },
      "execution_count": null,
      "outputs": []
    },
    {
      "cell_type": "code",
      "source": [
        "x <-seq(0,20,1)\n",
        "y <- dbinom(x , size=20, p = 0.5)"
      ],
      "metadata": {
        "id": "wUTgvQUKFSRc"
      },
      "execution_count": null,
      "outputs": []
    },
    {
      "cell_type": "code",
      "source": [
        "plot(x, y, type = 'l')"
      ],
      "metadata": {
        "id": "2JSAABhmFSOx",
        "colab": {
          "base_uri": "https://localhost:8080/",
          "height": 437
        },
        "outputId": "7173efd4-8be9-430c-974b-fd2bd29ddfa9"
      },
      "execution_count": null,
      "outputs": [
        {
          "output_type": "display_data",
          "data": {
            "text/plain": [
              "plot without title"
            ],
            "image/png": "[encoded data removed]"
          },
          "metadata": {
            "image/png": {
              "width": 420,
              "height": 420
            }
          }
        }
      ]
    },
    {
      "cell_type": "code",
      "source": [],
      "metadata": {
        "id": "z5cyfqUmFRYs"
      },
      "execution_count": null,
      "outputs": []
    },
    {
      "cell_type": "markdown",
      "source": [
        "#### Likelihood function"
      ],
      "metadata": {
        "id": "hR3DEIfUFSzg"
      }
    },
    {
      "cell_type": "code",
      "source": [
        "x <-c(12, 13)\n",
        "y <- dbinom(x , size=20, p = 0.5)\n",
        "y"
      ],
      "metadata": {
        "id": "_MSOWuF2GhHw",
        "colab": {
          "base_uri": "https://localhost:8080/",
          "height": 34
        },
        "outputId": "42ae111f-18b9-4a7d-ddd2-5214241702e5"
      },
      "execution_count": null,
      "outputs": [
        {
          "output_type": "display_data",
          "data": {
            "text/html": [
              "<style>\n",
              ".list-inline {list-style: none; margin:0; padding: 0}\n",
              ".list-inline>li {display: inline-block}\n",
              ".list-inline>li:not(:last-child)::after {content: \"\\00b7\"; padding: 0 .5ex}\n",
              "</style>\n",
              "<ol class=list-inline><li>0.120134353637695</li><li>0.0739288330078124</li></ol>\n"
            ],
            "text/markdown": "1. 0.120134353637695\n2. 0.0739288330078124\n\n\n",
            "text/latex": "\\begin{enumerate*}\n\\item 0.120134353637695\n\\item 0.0739288330078124\n\\end{enumerate*}\n",
            "text/plain": [
              "[1] 0.12013435 0.07392883"
            ]
          },
          "metadata": {}
        }
      ]
    },
    {
      "cell_type": "code",
      "source": [
        "y <- dbinom(x , size=20, p = 0.6)\n",
        "y\n",
        "# WE NEED TO KNOW WHAT IS THE RIGHT PARAMETER FOR THE RIGHT DATA"
      ],
      "metadata": {
        "id": "jIRBOAQQGiPR",
        "colab": {
          "base_uri": "https://localhost:8080/",
          "height": 34
        },
        "outputId": "ea443a40-fccd-4051-931a-2fe3fa4cb63c"
      },
      "execution_count": null,
      "outputs": [
        {
          "output_type": "display_data",
          "data": {
            "text/html": [
              "<style>\n",
              ".list-inline {list-style: none; margin:0; padding: 0}\n",
              ".list-inline>li {display: inline-block}\n",
              ".list-inline>li:not(:last-child)::after {content: \"\\00b7\"; padding: 0 .5ex}\n",
              "</style>\n",
              "<ol class=list-inline><li>0.179705787754689</li><li>0.165882265619713</li></ol>\n"
            ],
            "text/markdown": "1. 0.179705787754689\n2. 0.165882265619713\n\n\n",
            "text/latex": "\\begin{enumerate*}\n\\item 0.179705787754689\n\\item 0.165882265619713\n\\end{enumerate*}\n",
            "text/plain": [
              "[1] 0.1797058 0.1658823"
            ]
          },
          "metadata": {}
        }
      ]
    },
    {
      "cell_type": "code",
      "source": [
        "NGE_LOG_LIK <- function(data, p){\n",
        "  return (-log(dbinom(data , size=20, prob= p)))\n",
        "}"
      ],
      "metadata": {
        "id": "UjcaQv7HGiMa"
      },
      "execution_count": null,
      "outputs": []
    },
    {
      "cell_type": "code",
      "source": [],
      "metadata": {
        "id": "TO0u8aNRfXji"
      },
      "execution_count": null,
      "outputs": []
    },
    {
      "cell_type": "code",
      "source": [
        "optim(par = 0.5, fn = NGE_LOG_LIK, data = 3 )"
      ],
      "metadata": {
        "id": "qMp4hZFPGiJC",
        "colab": {
          "base_uri": "https://localhost:8080/",
          "height": 300
        },
        "outputId": "d0411be9-0e93-4b70-f3c2-4ab44f427bd0"
      },
      "execution_count": null,
      "outputs": [
        {
          "output_type": "stream",
          "name": "stderr",
          "text": [
            "Warning message in optim(par = 0.5, fn = NGE_LOG_LIK, data = 3):\n",
            "“one-dimensional optimization by Nelder-Mead is unreliable:\n",
            "use \"Brent\" or optimize() directly”\n",
            "Warning message in dbinom(data, size = 20, prob = p):\n",
            "“NaNs produced”\n"
          ]
        },
        {
          "output_type": "display_data",
          "data": {
            "text/html": [
              "<dl>\n",
              "\t<dt>$par</dt>\n",
              "\t\t<dd>0.15</dd>\n",
              "\t<dt>$value</dt>\n",
              "\t\t<dd>1.41539821473128</dd>\n",
              "\t<dt>$counts</dt>\n",
              "\t\t<dd><style>\n",
              ".dl-inline {width: auto; margin:0; padding: 0}\n",
              ".dl-inline>dt, .dl-inline>dd {float: none; width: auto; display: inline-block}\n",
              ".dl-inline>dt::after {content: \":\\0020\"; padding-right: .5ex}\n",
              ".dl-inline>dt:not(:first-of-type) {padding-left: .5ex}\n",
              "</style><dl class=dl-inline><dt>function</dt><dd>32</dd><dt>gradient</dt><dd>&lt;NA&gt;</dd></dl>\n",
              "</dd>\n",
              "\t<dt>$convergence</dt>\n",
              "\t\t<dd>0</dd>\n",
              "\t<dt>$message</dt>\n",
              "\t\t<dd>NULL</dd>\n",
              "</dl>\n"
            ],
            "text/markdown": "$par\n:   0.15\n$value\n:   1.41539821473128\n$counts\n:   function\n:   32gradient\n:   &lt;NA&gt;\n\n\n$convergence\n:   0\n$message\n:   NULL\n\n\n",
            "text/latex": "\\begin{description}\n\\item[\\$par] 0.15\n\\item[\\$value] 1.41539821473128\n\\item[\\$counts] \\begin{description*}\n\\item[function] 32\n\\item[gradient] <NA>\n\\end{description*}\n\n\\item[\\$convergence] 0\n\\item[\\$message] NULL\n\\end{description}\n",
            "text/plain": [
              "$par\n",
              "[1] 0.15\n",
              "\n",
              "$value\n",
              "[1] 1.415398\n",
              "\n",
              "$counts\n",
              "function gradient \n",
              "      32       NA \n",
              "\n",
              "$convergence\n",
              "[1] 0\n",
              "\n",
              "$message\n",
              "NULL\n"
            ]
          },
          "metadata": {}
        }
      ]
    },
    {
      "cell_type": "markdown",
      "source": [
        "#### Normal Distribution"
      ],
      "metadata": {
        "id": "2wDbSsMEH4_R"
      }
    },
    {
      "cell_type": "code",
      "source": [
        "#given input it gives probapility , this has two parameters mean and stand ved\n",
        "\n",
        "?dnorm"
      ],
      "metadata": {
        "id": "wkdVHhi3fY83"
      },
      "execution_count": null,
      "outputs": []
    },
    {
      "cell_type": "code",
      "source": [
        "negative_log_normal <- function(data, params){\n",
        "  return(-sum(log(dnorm(data, mean = params[1], sd = params[2]))))\n",
        "}"
      ],
      "metadata": {
        "id": "XaCQR27zGiGa"
      },
      "execution_count": null,
      "outputs": []
    },
    {
      "cell_type": "code",
      "source": [
        "Ssample_data <- rnorm(200)\n",
        "sample_data"
      ],
      "metadata": {
        "id": "_Yji8A7gg72a"
      },
      "execution_count": null,
      "outputs": []
    },
    {
      "cell_type": "markdown",
      "source": [
        "#### Optimizer"
      ],
      "metadata": {
        "id": "xfYGP2CIGjNz"
      }
    },
    {
      "cell_type": "code",
      "source": [
        "optim(par = c(0, 1), fn = negative_log_normal, data = sample_data)"
      ],
      "metadata": {
        "id": "lKKOCcfqGiDo",
        "colab": {
          "base_uri": "https://localhost:8080/",
          "height": 198
        },
        "outputId": "4c657ab9-a3de-4d94-9368-7f379809b689"
      },
      "execution_count": null,
      "outputs": [
        {
          "output_type": "error",
          "ename": "ERROR",
          "evalue": "ignored",
          "traceback": [
            "Error in summ(log(dnorm(data, mean = params[1], sd = params[2]))): could not find function \"summ\"\nTraceback:\n",
            "1. optim(par = c(0, 1), fn = NGE_LOG_NORM, data = SAM_DATA)",
            "2. (function (par) \n . fn(par, ...))(c(0, 1))",
            "3. fn(par, ...)"
          ]
        }
      ]
    },
    {
      "cell_type": "code",
      "source": [],
      "metadata": {
        "id": "owriK0ZOGnIZ"
      },
      "execution_count": null,
      "outputs": []
    },
    {
      "cell_type": "code",
      "source": [],
      "metadata": {
        "id": "_cseyvaqGnGC"
      },
      "execution_count": null,
      "outputs": []
    },
    {
      "cell_type": "code",
      "source": [],
      "metadata": {
        "id": "dMOdm_4uGnDM"
      },
      "execution_count": null,
      "outputs": []
    },
    {
      "cell_type": "code",
      "source": [],
      "metadata": {
        "id": "ZtBRszuMGnAl"
      },
      "execution_count": null,
      "outputs": []
    },
    {
      "cell_type": "code",
      "source": [],
      "metadata": {
        "id": "Ic0wEMqpGlFE"
      },
      "execution_count": null,
      "outputs": []
    },
    {
      "cell_type": "code",
      "source": [],
      "metadata": {
        "id": "gyb5MIvtGmet"
      },
      "execution_count": null,
      "outputs": []
    },
    {
      "cell_type": "code",
      "source": [],
      "metadata": {
        "id": "IPiyYpCzH7Wx"
      },
      "execution_count": null,
      "outputs": []
    },
    {
      "cell_type": "code",
      "source": [],
      "metadata": {
        "id": "w_7CX0FAH7S2"
      },
      "execution_count": null,
      "outputs": []
    },
    {
      "cell_type": "code",
      "source": [],
      "metadata": {
        "id": "Ua89hUVpH7Pu"
      },
      "execution_count": null,
      "outputs": []
    },
    {
      "cell_type": "code",
      "source": [],
      "metadata": {
        "id": "fLd4iu_0H7LU"
      },
      "execution_count": null,
      "outputs": []
    },
    {
      "cell_type": "code",
      "source": [],
      "metadata": {
        "id": "LJ3Mtzj6H7Ic"
      },
      "execution_count": null,
      "outputs": []
    },
    {
      "cell_type": "code",
      "source": [],
      "metadata": {
        "id": "hAkNwnN4H6nJ"
      },
      "execution_count": null,
      "outputs": []
    }
  ]
}