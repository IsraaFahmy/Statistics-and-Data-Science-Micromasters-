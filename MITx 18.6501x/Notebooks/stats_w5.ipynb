{
  "nbformat": 4,
  "nbformat_minor": 0,
  "metadata": {
    "colab": {
      "provenance": [],
      "include_colab_link": true
    },
    "kernelspec": {
      "name": "ir",
      "display_name": "R"
    },
    "language_info": {
      "name": "R"
    }
  },
  "cells": [
    {
      "cell_type": "markdown",
      "metadata": {
        "id": "view-in-github",
        "colab_type": "text"
      },
      "source": [
        "<a href=\"https://colab.research.google.com/github/IsraaFahmy/Statistics-and-Data-Science-Micromasters-/blob/main/MITx%2018.6501x/Notebooks/stats_w5.ipynb\" target=\"_parent\"><img src=\"https://colab.research.google.com/assets/colab-badge.svg\" alt=\"Open In Colab\"/></a>"
      ]
    },
    {
      "cell_type": "markdown",
      "source": [
        "# Hypothesis Testing with R\n",
        "\n"
      ],
      "metadata": {
        "id": "-xelwROF1O8i"
      }
    },
    {
      "cell_type": "markdown",
      "source": [
        "#DATASETS:\n",
        "subscriber_data - https://drive.google.com/file/d/1dMT4KPU5FxJjLsXZl8cRTDdY8jmxrQxE/view?usp=sharing\n",
        "\n",
        "email_small - https://drive.google.com/file/d/1XfAts8TvnF48CZqjF9iKyL7Bq2Q7rSBN/view?usp=sharing\n",
        "\n",
        "reading_protocol - https://drive.google.com/file/d/1wriN-af6SQFrAzczOqeu2VagS3wuEhal/view?usp=sharing"
      ],
      "metadata": {
        "id": "KY4GFqzDadnR"
      }
    },
    {
      "cell_type": "code",
      "execution_count": null,
      "metadata": {
        "id": "9RzARnUn09-O",
        "colab": {
          "base_uri": "https://localhost:8080/"
        },
        "outputId": "0d6c7122-81a6-4650-a1ee-1b2e841ecae3"
      },
      "outputs": [
        {
          "output_type": "stream",
          "name": "stderr",
          "text": [
            "── \u001b[1mAttaching packages\u001b[22m ─────────────────────────────────────── tidyverse 1.3.1 ──\n",
            "\n",
            "\u001b[32m✔\u001b[39m \u001b[34mggplot2\u001b[39m 3.4.2     \u001b[32m✔\u001b[39m \u001b[34mpurrr  \u001b[39m 1.0.1\n",
            "\u001b[32m✔\u001b[39m \u001b[34mtibble \u001b[39m 3.2.1     \u001b[32m✔\u001b[39m \u001b[34mdplyr  \u001b[39m 1.1.2\n",
            "\u001b[32m✔\u001b[39m \u001b[34mtidyr  \u001b[39m 1.3.0     \u001b[32m✔\u001b[39m \u001b[34mstringr\u001b[39m 1.5.0\n",
            "\u001b[32m✔\u001b[39m \u001b[34mreadr  \u001b[39m 2.1.4     \u001b[32m✔\u001b[39m \u001b[34mforcats\u001b[39m 1.0.0\n",
            "\n",
            "── \u001b[1mConflicts\u001b[22m ────────────────────────────────────────── tidyverse_conflicts() ──\n",
            "\u001b[31m✖\u001b[39m \u001b[34mdplyr\u001b[39m::\u001b[32mfilter()\u001b[39m masks \u001b[34mstats\u001b[39m::filter()\n",
            "\u001b[31m✖\u001b[39m \u001b[34mdplyr\u001b[39m::\u001b[32mlag()\u001b[39m    masks \u001b[34mstats\u001b[39m::lag()\n",
            "\n"
          ]
        }
      ],
      "source": [
        "library(tidyverse)"
      ]
    },
    {
      "cell_type": "markdown",
      "source": [
        "#### Difference in Proportions\n",
        "\n",
        "Visually assessing the difference in proportions is equivalent to looking at a bar plot.  To test the difference in proportions we use the `prop.test` function.  You can either enter the counts directly of use `xtabs` to create the cross-tabulated data from a DataFrame.  "
      ],
      "metadata": {
        "id": "EfrgP0mAmmGK"
      }
    },
    {
      "cell_type": "code",
      "source": [
        "#dataframe with clicks\n",
        "dataframe <-data.frame(page= c('original', 'new'), clicks=c(0.8, 0.82))\n",
        "dataframe\n"
      ],
      "metadata": {
        "id": "TeQEkNDqdiuk",
        "colab": {
          "base_uri": "https://localhost:8080/",
          "height": 159
        },
        "outputId": "d0d0add7-45d1-457b-ecc3-452ddb758c0a"
      },
      "execution_count": null,
      "outputs": [
        {
          "output_type": "display_data",
          "data": {
            "text/html": [
              "<table class=\"dataframe\">\n",
              "<caption>A data.frame: 2 × 2</caption>\n",
              "<thead>\n",
              "\t<tr><th scope=col>page</th><th scope=col>clicks</th></tr>\n",
              "\t<tr><th scope=col>&lt;chr&gt;</th><th scope=col>&lt;dbl&gt;</th></tr>\n",
              "</thead>\n",
              "<tbody>\n",
              "\t<tr><td>original</td><td>0.80</td></tr>\n",
              "\t<tr><td>new     </td><td>0.82</td></tr>\n",
              "</tbody>\n",
              "</table>\n"
            ],
            "text/markdown": "\nA data.frame: 2 × 2\n\n| page &lt;chr&gt; | clicks &lt;dbl&gt; |\n|---|---|\n| original | 0.80 |\n| new      | 0.82 |\n\n",
            "text/latex": "A data.frame: 2 × 2\n\\begin{tabular}{ll}\n page & clicks\\\\\n <chr> & <dbl>\\\\\n\\hline\n\t original & 0.80\\\\\n\t new      & 0.82\\\\\n\\end{tabular}\n",
            "text/plain": [
              "  page     clicks\n",
              "1 original 0.80  \n",
              "2 new      0.82  "
            ]
          },
          "metadata": {}
        }
      ]
    },
    {
      "cell_type": "code",
      "source": [
        "#barplot of click rates\n",
        "ggplot(dataframe, aes(x = page, y = clicks)) +\n",
        "  geom_bar(stat = 'identity') +\n",
        "  labs(title = 'New vs. Old Homepage and Clicks')"
      ],
      "metadata": {
        "id": "E3tpsT32dta6",
        "colab": {
          "base_uri": "https://localhost:8080/",
          "height": 437
        },
        "outputId": "01b138b3-6aa5-48f1-f546-7704981ee15d"
      },
      "execution_count": null,
      "outputs": [
        {
          "output_type": "display_data",
          "data": {
            "text/plain": [
              "plot without title"
            ],
            "image/png": "[encoded data removed]"
          },
          "metadata": {
            "image/png": {
              "width": 420,
              "height": 420
            }
          }
        }
      ]
    },
    {
      "cell_type": "markdown",
      "source": [
        "**Version 1**\n",
        "\n",
        "| page | click  | total |\n",
        "| ------ | ------- | ----- |\n",
        "| Old | 400 | 500 |\n",
        "| New | 410 | 500 |\n",
        "\n",
        "**Version 2**\n",
        "\n",
        "| page | click  | total |\n",
        "| ------ | ------- | ----- |\n",
        "| Old | 300 | 500 |\n",
        "| New | 450 | 500 |"
      ],
      "metadata": {
        "id": "c2ZpwNw2JTvP"
      }
    },
    {
      "cell_type": "code",
      "source": [
        "df <- data.frame(page = c(\"original\", \"clicks\"),\n",
        "                 clicks = c(0.6, 0.9))\n",
        "\n",
        "\n",
        "ggplot(df, aes(x = page, y = clicks)) +\n",
        "  geom_bar(stat = 'identity') +\n",
        "  labs(title = 'New vs. Old Homepage and Clicks')"
      ],
      "metadata": {
        "id": "EuZqjVp7T8mL",
        "colab": {
          "base_uri": "https://localhost:8080/",
          "height": 437
        },
        "outputId": "b1a2171b-cde2-45c8-a7b4-6120e70fe913"
      },
      "execution_count": null,
      "outputs": [
        {
          "output_type": "display_data",
          "data": {
            "text/plain": [
              "plot without title"
            ],
            "image/png": "[encoded data removed]"
          },
          "metadata": {
            "image/png": {
              "width": 420,
              "height": 420
            }
          }
        }
      ]
    },
    {
      "cell_type": "markdown",
      "source": [
        "### Datasets\n",
        "\n",
        "- Load in data\n",
        "- Explore features\n",
        "- Opportunities for tests of proportions?"
      ],
      "metadata": {
        "id": "itbBEjo99k-D"
      }
    },
    {
      "cell_type": "code",
      "source": [
        "# Load data from csv\n",
        "email_data <- read_csv(\"email_small.csv\")\n",
        "subscriber_data <- read_csv(\"subscriber_data.csv\")"
      ],
      "metadata": {
        "id": "cMAtL4bf9uwl",
        "colab": {
          "base_uri": "https://localhost:8080/"
        },
        "outputId": "dfafe3b4-1806-476d-ab7d-29f2ca92dc04"
      },
      "execution_count": null,
      "outputs": [
        {
          "output_type": "stream",
          "name": "stderr",
          "text": [
            "\u001b[1mRows: \u001b[22m\u001b[34m37196\u001b[39m \u001b[1mColumns: \u001b[22m\u001b[34m14\u001b[39m\n",
            "\u001b[36m──\u001b[39m \u001b[1mColumn specification\u001b[22m \u001b[36m────────────────────────────────────────────────────────\u001b[39m\n",
            "\u001b[1mDelimiter:\u001b[22m \",\"\n",
            "\u001b[31mchr\u001b[39m  (2): cpgn_id, group\n",
            "\u001b[32mdbl\u001b[39m (11): user_id, open, click, purch, chard, sav_blanc, syrah, cab, past_pu...\n",
            "\u001b[33mlgl\u001b[39m  (1): email\n",
            "\n",
            "\u001b[36mℹ\u001b[39m Use `spec()` to retrieve the full column specification for this data.\n",
            "\u001b[36mℹ\u001b[39m Specify the column types or set `show_col_types = FALSE` to quiet this message.\n",
            "\u001b[1mRows: \u001b[22m\u001b[34m300\u001b[39m \u001b[1mColumns: \u001b[22m\u001b[34m7\u001b[39m\n",
            "\u001b[36m──\u001b[39m \u001b[1mColumn specification\u001b[22m \u001b[36m────────────────────────────────────────────────────────\u001b[39m\n",
            "\u001b[1mDelimiter:\u001b[22m \",\"\n",
            "\u001b[31mchr\u001b[39m (4): gender, ownHome, subscribe, Segment\n",
            "\u001b[32mdbl\u001b[39m (3): age, income, kids\n",
            "\n",
            "\u001b[36mℹ\u001b[39m Use `spec()` to retrieve the full column specification for this data.\n",
            "\u001b[36mℹ\u001b[39m Specify the column types or set `show_col_types = FALSE` to quiet this message.\n"
          ]
        }
      ]
    },
    {
      "cell_type": "code",
      "source": [
        "glimpse(email_data)\n",
        "#email_data"
      ],
      "metadata": {
        "id": "S-PDSg2g9uEy",
        "colab": {
          "base_uri": "https://localhost:8080/"
        },
        "outputId": "1648edef-a8b7-4818-a747-cd1c3f3310d5"
      },
      "execution_count": null,
      "outputs": [
        {
          "output_type": "stream",
          "name": "stdout",
          "text": [
            "Rows: 37,196\n",
            "Columns: 14\n",
            "$ user_id    \u001b[3m\u001b[90m<dbl>\u001b[39m\u001b[23m 1058220, 1122167, 1003710, 1079666, 1100384, 1054148, 10657…\n",
            "$ cpgn_id    \u001b[3m\u001b[90m<chr>\u001b[39m\u001b[23m \"1901Email\", \"1901Email\", \"1901Email\", \"1901Email\", \"1901Em…\n",
            "$ group      \u001b[3m\u001b[90m<chr>\u001b[39m\u001b[23m \"email_B\", \"ctrl\", \"ctrl\", \"ctrl\", \"email_A\", \"ctrl\", \"emai…\n",
            "$ email      \u001b[3m\u001b[90m<lgl>\u001b[39m\u001b[23m TRUE, FALSE, FALSE, FALSE, TRUE, FALSE, TRUE, TRUE, FALSE, …\n",
            "$ open       \u001b[3m\u001b[90m<dbl>\u001b[39m\u001b[23m 0, 0, 0, 0, 0, 0, 1, 1, 0, 1, 1, 0, 0, 1, 0, 0, 1, 0, 0, 0,…\n",
            "$ click      \u001b[3m\u001b[90m<dbl>\u001b[39m\u001b[23m 0, 0, 0, 0, 0, 0, 0, 0, 0, 0, 0, 0, 0, 0, 0, 0, 1, 0, 0, 0,…\n",
            "$ purch      \u001b[3m\u001b[90m<dbl>\u001b[39m\u001b[23m 0.00, 0.00, 0.00, 0.00, 88.00, 0.00, 18.41, 0.00, 0.00, 0.0…\n",
            "$ chard      \u001b[3m\u001b[90m<dbl>\u001b[39m\u001b[23m 0.00, 0.00, 0.00, 0.00, 0.00, 0.00, 146.13, 0.00, 0.00, 112…\n",
            "$ sav_blanc  \u001b[3m\u001b[90m<dbl>\u001b[39m\u001b[23m 0.00, 678.61, 0.00, 0.00, 0.00, 0.00, 0.00, 0.00, 0.00, 0.0…\n",
            "$ syrah      \u001b[3m\u001b[90m<dbl>\u001b[39m\u001b[23m 0.00, 0.00, 0.00, 25.64, 0.00, 407.96, 0.00, 24.48, 0.00, 0…\n",
            "$ cab        \u001b[3m\u001b[90m<dbl>\u001b[39m\u001b[23m 0.00, 0.00, 0.00, 0.00, 0.00, 0.00, 15.81, 102.39, 13.13, 0…\n",
            "$ past_purch \u001b[3m\u001b[90m<dbl>\u001b[39m\u001b[23m 0.00, 678.61, 0.00, 25.64, 0.00, 407.96, 161.94, 126.87, 13…\n",
            "$ days_since \u001b[3m\u001b[90m<dbl>\u001b[39m\u001b[23m 289, 163, 72, 122, 187, 278, 76, 103, 371, 219, 204, 11, 38…\n",
            "$ visits     \u001b[3m\u001b[90m<dbl>\u001b[39m\u001b[23m 4, 5, 6, 5, 4, 8, 6, 6, 6, 5, 7, 2, 7, 6, 8, 5, 1, 3, 2, 5,…\n"
          ]
        }
      ]
    },
    {
      "cell_type": "code",
      "source": [
        "ggplot(email_data, aes(x = group, y = open)) + geom_bar(stat = 'identity')"
      ],
      "metadata": {
        "colab": {
          "base_uri": "https://localhost:8080/",
          "height": 437
        },
        "id": "-oF_psWhT1pz",
        "outputId": "22a3d2fc-2dd1-434e-8c1c-77034875cfa2"
      },
      "execution_count": null,
      "outputs": [
        {
          "output_type": "display_data",
          "data": {
            "text/plain": [
              "plot without title"
            ],
            "image/png": "[encoded data removed]"
          },
          "metadata": {
            "image/png": {
              "width": 420,
              "height": 420
            }
          }
        }
      ]
    },
    {
      "cell_type": "code",
      "source": [
        "glimpse(subscriber_data)"
      ],
      "metadata": {
        "id": "Tev6cyIY9uBJ",
        "colab": {
          "base_uri": "https://localhost:8080/"
        },
        "outputId": "84f66e93-2563-40d0-820b-61a12f2d7f30"
      },
      "execution_count": null,
      "outputs": [
        {
          "output_type": "stream",
          "name": "stdout",
          "text": [
            "Rows: 300\n",
            "Columns: 7\n",
            "$ age       \u001b[3m\u001b[90m<dbl>\u001b[39m\u001b[23m 47.31613, 31.38684, 43.20034, 37.31700, 40.95439, 43.03387, …\n",
            "$ gender    \u001b[3m\u001b[90m<chr>\u001b[39m\u001b[23m \"Male\", \"Male\", \"Male\", \"Female\", \"Female\", \"Male\", \"Male\", …\n",
            "$ income    \u001b[3m\u001b[90m<dbl>\u001b[39m\u001b[23m 49482.81, 35546.29, 44169.19, 81041.99, 79353.01, 58143.36, …\n",
            "$ kids      \u001b[3m\u001b[90m<dbl>\u001b[39m\u001b[23m 2, 1, 0, 1, 3, 4, 3, 0, 1, 0, 0, 0, 2, 3, 1, 3, 0, 0, 1, 2, …\n",
            "$ ownHome   \u001b[3m\u001b[90m<chr>\u001b[39m\u001b[23m \"ownNo\", \"ownYes\", \"ownYes\", \"ownNo\", \"ownYes\", \"ownYes\", \"o…\n",
            "$ subscribe \u001b[3m\u001b[90m<chr>\u001b[39m\u001b[23m \"subNo\", \"subNo\", \"subNo\", \"subNo\", \"subNo\", \"subNo\", \"subNo…\n",
            "$ Segment   \u001b[3m\u001b[90m<chr>\u001b[39m\u001b[23m \"Suburb mix\", \"Suburb mix\", \"Suburb mix\", \"Suburb mix\", \"Sub…\n"
          ]
        }
      ]
    },
    {
      "cell_type": "code",
      "source": [
        "email_data <- email_data %>%\n",
        "  mutate(\n",
        "    click = ifelse(click == 1, \"Clicked\", \"Not Clicked\"),\n",
        "    open = ifelse(open == 1, \"Opened\", \"Not Opened\"),\n",
        "    chard = ifelse(chard == 1, \"Charded\", \"Not Charded\")\n",
        "  )\n",
        "\n",
        "email_data %>% ggplot(aes(x = click, fill = click)) +\n",
        "  geom_bar(aes(y = (..count..)/sum(..count..))) +\n",
        "  scale_y_continuous(labels = scales::percent) +\n",
        "  labs(title = \"Proportion of Clicked Emails\", y = \"Proportion\", x = \"\", fill = \"\")\n"
      ],
      "metadata": {
        "id": "DPjOXaTq9t9w",
        "colab": {
          "base_uri": "https://localhost:8080/",
          "height": 437
        },
        "outputId": "3e8b5bef-eae8-4368-d674-f2bc8869762c"
      },
      "execution_count": null,
      "outputs": [
        {
          "output_type": "display_data",
          "data": {
            "text/plain": [
              "plot without title"
            ],
            "image/png": "[encoded data removed]"
          },
          "metadata": {
            "image/png": {
              "width": 420,
              "height": 420
            }
          }
        }
      ]
    },
    {
      "cell_type": "code",
      "source": [
        "# Plot proportion of opened emails\n",
        "email_data %>%\n",
        "  ggplot(aes(x = open, fill = open)) +\n",
        "  geom_bar(aes(y = (..count..)/sum(..count..))) +\n",
        "  scale_y_continuous(labels = scales::percent) +\n",
        "  labs(title = \"Proportion of Opened Emails\", y = \"Proportion\", x = \"\", fill = \"\")\n"
      ],
      "metadata": {
        "id": "_c_bYIa49t64",
        "colab": {
          "base_uri": "https://localhost:8080/",
          "height": 437
        },
        "outputId": "7f4e35f7-c58a-40f1-c9a1-3b2e0e6386c2"
      },
      "execution_count": null,
      "outputs": [
        {
          "output_type": "display_data",
          "data": {
            "text/plain": [
              "plot without title"
            ],
            "image/png": "[encoded data removed]"
          },
          "metadata": {
            "image/png": {
              "width": 420,
              "height": 420
            }
          }
        }
      ]
    },
    {
      "cell_type": "code",
      "source": [
        "email_data %>%\n",
        "  ggplot(aes(x = chard, fill = chard)) +\n",
        "  geom_bar(aes(y = (..count..)/sum(..count..))) +\n",
        "  scale_y_continuous(labels = scales::percent) +\n",
        "  labs(title = \"Proportion of Charded Emails\", y = \"Proportion\", x = \"\", fill = \"\")"
      ],
      "metadata": {
        "id": "W4ERzpHJ9t3w",
        "colab": {
          "base_uri": "https://localhost:8080/",
          "height": 437
        },
        "outputId": "1f2f6833-a486-479c-b033-bc1262d5b40f"
      },
      "execution_count": null,
      "outputs": [
        {
          "output_type": "display_data",
          "data": {
            "text/plain": [
              "plot without title"
            ],
            "image/png": "[encoded data removed]"
          },
          "metadata": {
            "image/png": {
              "width": 420,
              "height": 420
            }
          }
        }
      ]
    },
    {
      "cell_type": "code",
      "source": [
        "email_data_grouped <- email_data %>%\n",
        "  count(group, click) %>%\n",
        "  group_by(group) %>%\n",
        "  mutate(prop = n / sum(n))"
      ],
      "metadata": {
        "id": "fFnvpwH_9t0o"
      },
      "execution_count": null,
      "outputs": []
    },
    {
      "cell_type": "code",
      "source": [
        "ggplot(email_data_grouped, aes(x = group, y = prop, fill = click)) +\n",
        "  geom_bar(stat = \"identity\", position = \"dodge\") +\n",
        "  scale_y_continuous(labels = scales::percent) +\n",
        "  labs(title = \"Proportion of Clicked Emails by Group\", y = \"Proportion\", x = \"Group\", fill = \"Click status\")"
      ],
      "metadata": {
        "id": "9AkdLYQE9txw",
        "colab": {
          "base_uri": "https://localhost:8080/",
          "height": 437
        },
        "outputId": "8c5ee5e7-5362-475f-a296-caa71e266ece"
      },
      "execution_count": null,
      "outputs": [
        {
          "output_type": "display_data",
          "data": {
            "text/plain": [
              "plot without title"
            ],
            "image/png": "[encoded data removed]"
          },
          "metadata": {
            "image/png": {
              "width": 420,
              "height": 420
            }
          }
        }
      ]
    },
    {
      "cell_type": "code",
      "source": [
        "email_data_grouped <- email_data %>%\n",
        "  count(group, open) %>%\n",
        "  group_by(group) %>%\n",
        "  mutate(prop = n / sum(n))\n"
      ],
      "metadata": {
        "id": "Qb3vicRj9tup"
      },
      "execution_count": null,
      "outputs": []
    },
    {
      "cell_type": "code",
      "source": [
        "ggplot(email_data_grouped, aes(x = group, y = prop, fill = open)) +\n",
        "  geom_bar(stat = \"identity\", position = \"dodge\") +\n",
        "  scale_y_continuous(labels = scales::percent) +\n",
        "  labs(title = \"Proportion of Opened Emails by Group\", y = \"Proportion\", x = \"Group\", fill = \"Open status\")"
      ],
      "metadata": {
        "id": "AhgNWYOq9trh",
        "colab": {
          "base_uri": "https://localhost:8080/",
          "height": 437
        },
        "outputId": "0957c98b-3022-4f83-9ac0-fe00fbfe5d3b"
      },
      "execution_count": null,
      "outputs": [
        {
          "output_type": "display_data",
          "data": {
            "text/plain": [
              "plot without title"
            ],
            "image/png": "[encoded data removed]"
          },
          "metadata": {
            "image/png": {
              "width": 420,
              "height": 420
            }
          }
        }
      ]
    },
    {
      "cell_type": "code",
      "source": [],
      "metadata": {
        "id": "avJm8DB99tnm"
      },
      "execution_count": null,
      "outputs": []
    },
    {
      "cell_type": "markdown",
      "source": [
        "### Hypothesis Testing\n",
        "\n",
        "> The alternative hypothesis and null hypothesis are types of conjectures used in statistical tests, which are formal methods of reaching conclusions or making judgments on the basis of data. In statistical hypothesis testing, the null hypothesis and alternative hypothesis are two mutually exclusive statements.\n",
        "\n",
        "> \"The statement being tested in a test of statistical significance is called the null hypothesis. The test of significance is designed to assess the strength of the evidence against the null hypothesis. Usually, the null hypothesis is a statement of 'no effect' or 'no difference'.\"[2] Null hypothesis is often denoted as H0.\n",
        "\n",
        "> The statement that is being tested against the null hypothesis is the alternative hypothesis[2]. Alternative hypothesis is often denoted as $H_a$ or $H_1$.\n",
        "\n",
        "> In statistical hypothesis testing, to prove the alternative hypothesis is true, it should be shown that the data is contradictory to the null hypothesis. Namely, there is sufficient evidence against null hypothesis to demonstrate that the alternative hypothesis is true. -- from [wikipedia](https://en.wikipedia.org/wiki/Alternative_hypothesis)"
      ],
      "metadata": {
        "id": "lKQNwbanW68l"
      }
    },
    {
      "cell_type": "code",
      "source": [
        "clicks <- c(400, 410)         #number of clicks by version\n",
        "totals <- c(500, 500)         #number of total visits to site\n",
        "prop.test(clicks, totals)     #test for difference in proportions"
      ],
      "metadata": {
        "id": "viF8MG4H1AK-",
        "colab": {
          "base_uri": "https://localhost:8080/",
          "height": 204
        },
        "outputId": "c3524e62-1f21-4674-9476-391987039aa3"
      },
      "execution_count": null,
      "outputs": [
        {
          "output_type": "display_data",
          "data": {
            "text/plain": [
              "\n",
              "\t2-sample test for equality of proportions with continuity correction\n",
              "\n",
              "data:  clicks out of totals\n",
              "X-squared = 0.52632, df = 1, p-value = 0.4682\n",
              "alternative hypothesis: two.sided\n",
              "95 percent confidence interval:\n",
              " -0.07061343  0.03061343\n",
              "sample estimates:\n",
              "prop 1 prop 2 \n",
              "  0.80   0.82 \n"
            ]
          },
          "metadata": {}
        }
      ]
    },
    {
      "cell_type": "code",
      "source": [
        "res1 <- prop.test(clicks, totals)\n",
        "res1"
      ],
      "metadata": {
        "colab": {
          "base_uri": "https://localhost:8080/",
          "height": 204
        },
        "id": "Veq3_B2MU_Sh",
        "outputId": "e37becd6-341c-4db3-862b-5d3ab0338073"
      },
      "execution_count": null,
      "outputs": [
        {
          "output_type": "display_data",
          "data": {
            "text/plain": [
              "\n",
              "\t2-sample test for equality of proportions with continuity correction\n",
              "\n",
              "data:  clicks out of totals\n",
              "X-squared = 0.52632, df = 1, p-value = 0.4682\n",
              "alternative hypothesis: two.sided\n",
              "95 percent confidence interval:\n",
              " -0.07061343  0.03061343\n",
              "sample estimates:\n",
              "prop 1 prop 2 \n",
              "  0.80   0.82 \n"
            ]
          },
          "metadata": {}
        }
      ]
    },
    {
      "cell_type": "markdown",
      "source": [
        "**Version 2**\n",
        "\n",
        "| page | click  | total |\n",
        "| ------ | ------- | ----- |\n",
        "| Old | 300 | 500 |\n",
        "| New | 450 | 500 |"
      ],
      "metadata": {
        "id": "FWHBbogwJQQo"
      }
    },
    {
      "cell_type": "code",
      "source": [
        "clicks2 <- c(300, 450)        #number of clicks by version\n",
        "totals <- c(500, 500)         #number of total visits to site\n",
        "prop.test(clicks2, totals)    #testing the difference"
      ],
      "metadata": {
        "id": "CY5ALQ6MwPfv",
        "colab": {
          "base_uri": "https://localhost:8080/",
          "height": 204
        },
        "outputId": "c5cab435-08ff-4a13-f48f-c7a0168e124b"
      },
      "execution_count": null,
      "outputs": [
        {
          "output_type": "display_data",
          "data": {
            "text/plain": [
              "\n",
              "\t2-sample test for equality of proportions with continuity correction\n",
              "\n",
              "data:  clicks2 out of totals\n",
              "X-squared = 118.41, df = 1, p-value < 2.2e-16\n",
              "alternative hypothesis: two.sided\n",
              "95 percent confidence interval:\n",
              " -0.3523524 -0.2476476\n",
              "sample estimates:\n",
              "prop 1 prop 2 \n",
              "   0.6    0.9 \n"
            ]
          },
          "metadata": {}
        }
      ]
    },
    {
      "cell_type": "code",
      "source": [
        "#extract specific elements\n",
        "results <- prop.test(clicks2, totals)"
      ],
      "metadata": {
        "id": "6Hvlk3GY58bi"
      },
      "execution_count": null,
      "outputs": []
    },
    {
      "cell_type": "code",
      "source": [
        "##cnfidence intervals\n",
        "results$conf.int"
      ],
      "metadata": {
        "id": "99VcRY4C58Ga",
        "colab": {
          "base_uri": "https://localhost:8080/",
          "height": 34
        },
        "outputId": "29f0606f-084e-4398-a767-9945943d6ee8"
      },
      "execution_count": null,
      "outputs": [
        {
          "output_type": "display_data",
          "data": {
            "text/html": [
              "<style>\n",
              ".list-inline {list-style: none; margin:0; padding: 0}\n",
              ".list-inline>li {display: inline-block}\n",
              ".list-inline>li:not(:last-child)::after {content: \"\\00b7\"; padding: 0 .5ex}\n",
              "</style>\n",
              "<ol class=list-inline><li>-0.352352386454448</li><li>-0.247647613545552</li></ol>\n"
            ],
            "text/markdown": "1. -0.352352386454448\n2. -0.247647613545552\n\n\n",
            "text/latex": "\\begin{enumerate*}\n\\item -0.352352386454448\n\\item -0.247647613545552\n\\end{enumerate*}\n",
            "text/plain": [
              "[1] -0.3523524 -0.2476476\n",
              "attr(,\"conf.level\")\n",
              "[1] 0.95"
            ]
          },
          "metadata": {}
        }
      ]
    },
    {
      "cell_type": "code",
      "source": [],
      "metadata": {
        "id": "rioCrzvD58A9"
      },
      "execution_count": null,
      "outputs": []
    },
    {
      "cell_type": "markdown",
      "source": [
        "#### Example: Product Recommendations\n",
        "\n",
        "| page | click  | total |\n",
        "| ------ | ------- | ----- |\n",
        "| Old Algorithm | 420 | 1000 |\n",
        "| New Algorithm | 510 | 1000 |"
      ],
      "metadata": {
        "id": "y8mAEPCwIEzm"
      }
    },
    {
      "cell_type": "code",
      "source": [
        "#example 2 -- recommended product algorithms\n",
        "clicks3 <- c(420, 510)        #number of clicks by version\n",
        "totals3 <- c(1000, 1000)         #number of total visits to site\n",
        "prop.test(clicks3, totals3)\n",
        "#We reject the null hypothesis if it is smaller than a certain threshhold"
      ],
      "metadata": {
        "id": "b8Hg-UABIEwM",
        "colab": {
          "base_uri": "https://localhost:8080/",
          "height": 204
        },
        "outputId": "96d48415-38de-4763-9b8d-df3993010d20"
      },
      "execution_count": null,
      "outputs": [
        {
          "output_type": "display_data",
          "data": {
            "text/plain": [
              "\n",
              "\t2-sample test for equality of proportions with continuity correction\n",
              "\n",
              "data:  clicks3 out of totals3\n",
              "X-squared = 15.92, df = 1, p-value = 6.608e-05\n",
              "alternative hypothesis: two.sided\n",
              "95 percent confidence interval:\n",
              " -0.13454033 -0.04545967\n",
              "sample estimates:\n",
              "prop 1 prop 2 \n",
              "  0.42   0.51 \n"
            ]
          },
          "metadata": {}
        }
      ]
    },
    {
      "cell_type": "markdown",
      "source": [
        "**Instagram Advertising**"
      ],
      "metadata": {
        "id": "emIF3p9eKT1z"
      }
    },
    {
      "cell_type": "code",
      "source": [
        "#creating a dataframe\n",
        "#creating a dataframe\n",
        "group <- c('women', 'men')\n",
        "clicks <- c(328, 234)\n",
        "totals <- c(537, 532)\n",
        "insta <- data.frame(group, clicks, totals)\n",
        "insta"
      ],
      "metadata": {
        "id": "_VGC2xHPIEtU",
        "colab": {
          "base_uri": "https://localhost:8080/",
          "height": 159
        },
        "outputId": "52386d6c-5447-4179-c001-e05740ded429"
      },
      "execution_count": null,
      "outputs": [
        {
          "output_type": "display_data",
          "data": {
            "text/html": [
              "<table class=\"dataframe\">\n",
              "<caption>A data.frame: 2 × 3</caption>\n",
              "<thead>\n",
              "\t<tr><th scope=col>group</th><th scope=col>clicks</th><th scope=col>totals</th></tr>\n",
              "\t<tr><th scope=col>&lt;chr&gt;</th><th scope=col>&lt;dbl&gt;</th><th scope=col>&lt;dbl&gt;</th></tr>\n",
              "</thead>\n",
              "<tbody>\n",
              "\t<tr><td>women</td><td>328</td><td>537</td></tr>\n",
              "\t<tr><td>men  </td><td>234</td><td>532</td></tr>\n",
              "</tbody>\n",
              "</table>\n"
            ],
            "text/markdown": "\nA data.frame: 2 × 3\n\n| group &lt;chr&gt; | clicks &lt;dbl&gt; | totals &lt;dbl&gt; |\n|---|---|---|\n| women | 328 | 537 |\n| men   | 234 | 532 |\n\n",
            "text/latex": "A data.frame: 2 × 3\n\\begin{tabular}{lll}\n group & clicks & totals\\\\\n <chr> & <dbl> & <dbl>\\\\\n\\hline\n\t women & 328 & 537\\\\\n\t men   & 234 & 532\\\\\n\\end{tabular}\n",
            "text/plain": [
              "  group clicks totals\n",
              "1 women 328    537   \n",
              "2 men   234    532   "
            ]
          },
          "metadata": {}
        }
      ]
    },
    {
      "cell_type": "code",
      "source": [
        "#proportion test\n",
        "prop.test(clicks, totals)\n",
        "##We reject the null hypothsis"
      ],
      "metadata": {
        "id": "EI2_RVuPIEnm",
        "colab": {
          "base_uri": "https://localhost:8080/",
          "height": 204
        },
        "outputId": "0b809548-7fa3-4b73-9204-6dfa5c43a72d"
      },
      "execution_count": null,
      "outputs": [
        {
          "output_type": "display_data",
          "data": {
            "text/plain": [
              "\n",
              "\t2-sample test for equality of proportions with continuity correction\n",
              "\n",
              "data:  clicks out of totals\n",
              "X-squared = 30.641, df = 1, p-value = 3.104e-08\n",
              "alternative hypothesis: two.sided\n",
              "95 percent confidence interval:\n",
              " 0.1100917 0.2318105\n",
              "sample estimates:\n",
              "   prop 1    prop 2 \n",
              "0.6108007 0.4398496 \n"
            ]
          },
          "metadata": {}
        }
      ]
    },
    {
      "cell_type": "markdown",
      "source": [
        "#### Example 2: Wine Sales Data\n",
        "\n",
        "Typically, rather than having a total count example we are provided a dataframe that contains the variable of interest alongside additional data on the customer or transaction."
      ],
      "metadata": {
        "id": "SuFqP5UuAhSV"
      }
    },
    {
      "cell_type": "code",
      "source": [
        "#email data\n",
        "email_data %>%\n",
        "  group_by(group) %>%\n",
        "    summarise(mean(open))\n",
        "\n",
        "\n",
        "emailed <- email_data[email_data$group != 'ctrl',]\n",
        "head(emailed)"
      ],
      "metadata": {
        "id": "b7TwgPta3KlD",
        "colab": {
          "base_uri": "https://localhost:8080/",
          "height": 476
        },
        "outputId": "37bed8b1-29be-4cad-d649-a2123a0e93ad"
      },
      "execution_count": null,
      "outputs": [
        {
          "output_type": "display_data",
          "data": {
            "text/html": [
              "<table class=\"dataframe\">\n",
              "<caption>A tibble: 3 × 2</caption>\n",
              "<thead>\n",
              "\t<tr><th scope=col>group</th><th scope=col>mean(open)</th></tr>\n",
              "\t<tr><th scope=col>&lt;chr&gt;</th><th scope=col>&lt;dbl&gt;</th></tr>\n",
              "</thead>\n",
              "<tbody>\n",
              "\t<tr><td>ctrl   </td><td>0.0000000</td></tr>\n",
              "\t<tr><td>email_A</td><td>0.7133675</td></tr>\n",
              "\t<tr><td>email_B</td><td>0.6516269</td></tr>\n",
              "</tbody>\n",
              "</table>\n"
            ],
            "text/markdown": "\nA tibble: 3 × 2\n\n| group &lt;chr&gt; | mean(open) &lt;dbl&gt; |\n|---|---|\n| ctrl    | 0.0000000 |\n| email_A | 0.7133675 |\n| email_B | 0.6516269 |\n\n",
            "text/latex": "A tibble: 3 × 2\n\\begin{tabular}{ll}\n group & mean(open)\\\\\n <chr> & <dbl>\\\\\n\\hline\n\t ctrl    & 0.0000000\\\\\n\t email\\_A & 0.7133675\\\\\n\t email\\_B & 0.6516269\\\\\n\\end{tabular}\n",
            "text/plain": [
              "  group   mean(open)\n",
              "1 ctrl    0.0000000 \n",
              "2 email_A 0.7133675 \n",
              "3 email_B 0.6516269 "
            ]
          },
          "metadata": {}
        },
        {
          "output_type": "display_data",
          "data": {
            "text/html": [
              "<table class=\"dataframe\">\n",
              "<caption>A tibble: 6 × 14</caption>\n",
              "<thead>\n",
              "\t<tr><th scope=col>user_id</th><th scope=col>cpgn_id</th><th scope=col>group</th><th scope=col>email</th><th scope=col>open</th><th scope=col>click</th><th scope=col>purch</th><th scope=col>chard</th><th scope=col>sav_blanc</th><th scope=col>syrah</th><th scope=col>cab</th><th scope=col>past_purch</th><th scope=col>days_since</th><th scope=col>visits</th></tr>\n",
              "\t<tr><th scope=col>&lt;dbl&gt;</th><th scope=col>&lt;chr&gt;</th><th scope=col>&lt;chr&gt;</th><th scope=col>&lt;lgl&gt;</th><th scope=col>&lt;dbl&gt;</th><th scope=col>&lt;dbl&gt;</th><th scope=col>&lt;dbl&gt;</th><th scope=col>&lt;dbl&gt;</th><th scope=col>&lt;dbl&gt;</th><th scope=col>&lt;dbl&gt;</th><th scope=col>&lt;dbl&gt;</th><th scope=col>&lt;dbl&gt;</th><th scope=col>&lt;dbl&gt;</th><th scope=col>&lt;dbl&gt;</th></tr>\n",
              "</thead>\n",
              "<tbody>\n",
              "\t<tr><td>1058220</td><td>1901Email</td><td>email_B</td><td>TRUE</td><td>0</td><td>0</td><td> 0.00</td><td>  0.00</td><td>0</td><td>  0.00</td><td>  0.00</td><td>  0.00</td><td>289</td><td>4</td></tr>\n",
              "\t<tr><td>1100384</td><td>1901Email</td><td>email_A</td><td>TRUE</td><td>0</td><td>0</td><td>88.00</td><td>  0.00</td><td>0</td><td>  0.00</td><td>  0.00</td><td>  0.00</td><td>187</td><td>4</td></tr>\n",
              "\t<tr><td>1065703</td><td>1901Email</td><td>email_A</td><td>TRUE</td><td>1</td><td>0</td><td>18.41</td><td>146.13</td><td>0</td><td>  0.00</td><td> 15.81</td><td>161.94</td><td> 76</td><td>6</td></tr>\n",
              "\t<tr><td>1097281</td><td>1901Email</td><td>email_A</td><td>TRUE</td><td>1</td><td>0</td><td> 0.00</td><td>  0.00</td><td>0</td><td> 24.48</td><td>102.39</td><td>126.87</td><td>103</td><td>6</td></tr>\n",
              "\t<tr><td>1010272</td><td>1901Email</td><td>email_A</td><td>TRUE</td><td>1</td><td>0</td><td> 0.00</td><td>112.08</td><td>0</td><td>  0.00</td><td>  0.00</td><td>112.08</td><td>219</td><td>5</td></tr>\n",
              "\t<tr><td>1098389</td><td>1901Email</td><td>email_A</td><td>TRUE</td><td>1</td><td>0</td><td> 0.00</td><td>  0.00</td><td>0</td><td>309.69</td><td>  0.00</td><td>309.69</td><td>204</td><td>7</td></tr>\n",
              "</tbody>\n",
              "</table>\n"
            ],
            "text/markdown": "\nA tibble: 6 × 14\n\n| user_id &lt;dbl&gt; | cpgn_id &lt;chr&gt; | group &lt;chr&gt; | email &lt;lgl&gt; | open &lt;dbl&gt; | click &lt;dbl&gt; | purch &lt;dbl&gt; | chard &lt;dbl&gt; | sav_blanc &lt;dbl&gt; | syrah &lt;dbl&gt; | cab &lt;dbl&gt; | past_purch &lt;dbl&gt; | days_since &lt;dbl&gt; | visits &lt;dbl&gt; |\n|---|---|---|---|---|---|---|---|---|---|---|---|---|---|\n| 1058220 | 1901Email | email_B | TRUE | 0 | 0 |  0.00 |   0.00 | 0 |   0.00 |   0.00 |   0.00 | 289 | 4 |\n| 1100384 | 1901Email | email_A | TRUE | 0 | 0 | 88.00 |   0.00 | 0 |   0.00 |   0.00 |   0.00 | 187 | 4 |\n| 1065703 | 1901Email | email_A | TRUE | 1 | 0 | 18.41 | 146.13 | 0 |   0.00 |  15.81 | 161.94 |  76 | 6 |\n| 1097281 | 1901Email | email_A | TRUE | 1 | 0 |  0.00 |   0.00 | 0 |  24.48 | 102.39 | 126.87 | 103 | 6 |\n| 1010272 | 1901Email | email_A | TRUE | 1 | 0 |  0.00 | 112.08 | 0 |   0.00 |   0.00 | 112.08 | 219 | 5 |\n| 1098389 | 1901Email | email_A | TRUE | 1 | 0 |  0.00 |   0.00 | 0 | 309.69 |   0.00 | 309.69 | 204 | 7 |\n\n",
            "text/latex": "A tibble: 6 × 14\n\\begin{tabular}{llllllllllllll}\n user\\_id & cpgn\\_id & group & email & open & click & purch & chard & sav\\_blanc & syrah & cab & past\\_purch & days\\_since & visits\\\\\n <dbl> & <chr> & <chr> & <lgl> & <dbl> & <dbl> & <dbl> & <dbl> & <dbl> & <dbl> & <dbl> & <dbl> & <dbl> & <dbl>\\\\\n\\hline\n\t 1058220 & 1901Email & email\\_B & TRUE & 0 & 0 &  0.00 &   0.00 & 0 &   0.00 &   0.00 &   0.00 & 289 & 4\\\\\n\t 1100384 & 1901Email & email\\_A & TRUE & 0 & 0 & 88.00 &   0.00 & 0 &   0.00 &   0.00 &   0.00 & 187 & 4\\\\\n\t 1065703 & 1901Email & email\\_A & TRUE & 1 & 0 & 18.41 & 146.13 & 0 &   0.00 &  15.81 & 161.94 &  76 & 6\\\\\n\t 1097281 & 1901Email & email\\_A & TRUE & 1 & 0 &  0.00 &   0.00 & 0 &  24.48 & 102.39 & 126.87 & 103 & 6\\\\\n\t 1010272 & 1901Email & email\\_A & TRUE & 1 & 0 &  0.00 & 112.08 & 0 &   0.00 &   0.00 & 112.08 & 219 & 5\\\\\n\t 1098389 & 1901Email & email\\_A & TRUE & 1 & 0 &  0.00 &   0.00 & 0 & 309.69 &   0.00 & 309.69 & 204 & 7\\\\\n\\end{tabular}\n",
            "text/plain": [
              "  user_id cpgn_id   group   email open click purch chard  sav_blanc syrah \n",
              "1 1058220 1901Email email_B TRUE  0    0      0.00   0.00 0           0.00\n",
              "2 1100384 1901Email email_A TRUE  0    0     88.00   0.00 0           0.00\n",
              "3 1065703 1901Email email_A TRUE  1    0     18.41 146.13 0           0.00\n",
              "4 1097281 1901Email email_A TRUE  1    0      0.00   0.00 0          24.48\n",
              "5 1010272 1901Email email_A TRUE  1    0      0.00 112.08 0           0.00\n",
              "6 1098389 1901Email email_A TRUE  1    0      0.00   0.00 0         309.69\n",
              "  cab    past_purch days_since visits\n",
              "1   0.00   0.00     289        4     \n",
              "2   0.00   0.00     187        4     \n",
              "3  15.81 161.94      76        6     \n",
              "4 102.39 126.87     103        6     \n",
              "5   0.00 112.08     219        5     \n",
              "6   0.00 309.69     204        7     "
            ]
          },
          "metadata": {}
        }
      ]
    },
    {
      "cell_type": "code",
      "source": [
        "#calculate proportions in each group\n",
        "ctabs <- xtabs(~group + open, data = emailed)\n",
        "prop.test(ctabs)\n",
        "#Null hypothesis assumes there is no difference\n",
        "#we can look at p value ot conf interval\n",
        "#If the p-value is less than or equal to the specified significance level α, the null hypothesis is rejected; otherwise, the null hypothesis is not rejected\n",
        "#So can we  always conclude the rejecting of H0 with confidence interval ? like the zero being included or not ?  we might be  just lucky to get a confidence interval such that zero is not included in it?"
      ],
      "metadata": {
        "id": "rmRQMGIG3Kh7",
        "colab": {
          "base_uri": "https://localhost:8080/",
          "height": 204
        },
        "outputId": "3946de66-4f68-4551-80c0-00ba586bd7a8"
      },
      "execution_count": null,
      "outputs": [
        {
          "output_type": "display_data",
          "data": {
            "text/plain": [
              "\n",
              "\t2-sample test for equality of proportions with continuity correction\n",
              "\n",
              "data:  ctabs\n",
              "X-squared = 108.6, df = 1, p-value < 2.2e-16\n",
              "alternative hypothesis: two.sided\n",
              "95 percent confidence interval:\n",
              " -0.07338831 -0.05009297\n",
              "sample estimates:\n",
              "   prop 1    prop 2 \n",
              "0.2866325 0.3483731 \n"
            ]
          },
          "metadata": {}
        }
      ]
    },
    {
      "cell_type": "code",
      "source": [
        "###limit data to only those emailed\n",
        "ctab2 <- xtabs(~group + click, data = emailed)\n",
        "\n",
        "prop.test(ctab2)"
      ],
      "metadata": {
        "id": "3c7lf5kODitV",
        "colab": {
          "base_uri": "https://localhost:8080/",
          "height": 204
        },
        "outputId": "a96742bb-e574-4046-8e7f-aff573748c9d"
      },
      "execution_count": null,
      "outputs": [
        {
          "output_type": "display_data",
          "data": {
            "text/plain": [
              "\n",
              "\t2-sample test for equality of proportions with continuity correction\n",
              "\n",
              "data:  ctab2\n",
              "X-squared = 78.033, df = 1, p-value < 2.2e-16\n",
              "alternative hypothesis: two.sided\n",
              "95 percent confidence interval:\n",
              " -0.04314090 -0.02737724\n",
              "sample estimates:\n",
              "   prop 1    prop 2 \n",
              "0.8718575 0.9071165 \n"
            ]
          },
          "metadata": {}
        }
      ]
    },
    {
      "cell_type": "code",
      "source": [
        "#use xtabs to cross-tabulate email groups and open\n",
        "#data with successes as first column and failures as second\n",
        "\n",
        ""
      ],
      "metadata": {
        "id": "c5meMeGfLUQA"
      },
      "execution_count": null,
      "outputs": []
    },
    {
      "cell_type": "code",
      "source": [
        "#run test on proportions\n",
        "\n"
      ],
      "metadata": {
        "id": "H0_gLVWmDATW"
      },
      "execution_count": null,
      "outputs": []
    },
    {
      "cell_type": "code",
      "source": [
        "#clicks by email\n",
        "\n"
      ],
      "metadata": {
        "id": "aKbayMl5DAPt"
      },
      "execution_count": null,
      "outputs": []
    },
    {
      "cell_type": "markdown",
      "source": [
        "What would your final recommendations based on this experiment be?"
      ],
      "metadata": {
        "id": "IBtnWPpWK968"
      }
    },
    {
      "cell_type": "markdown",
      "source": [
        "#### Differences in Means\n",
        "\n",
        "Rather than comparing a column of binary variables we may be interested in comparing continuous values in columns.  We can again look at numeric summaries using the `group_by` function and perform a hypothesis test using the `t.test` function."
      ],
      "metadata": {
        "id": "w4Mvbxd8oIUj"
      }
    },
    {
      "cell_type": "code",
      "source": [
        "#average purchase\n",
        "head(emailed)\n",
        "emailed %>%\n",
        "  group_by(group) %>%\n",
        "    summarise(mean(purch))"
      ],
      "metadata": {
        "id": "WNDdTDkSjedr",
        "colab": {
          "base_uri": "https://localhost:8080/",
          "height": 445
        },
        "outputId": "25fb7d7a-616c-4496-b421-dd810d7f2c90"
      },
      "execution_count": null,
      "outputs": [
        {
          "output_type": "display_data",
          "data": {
            "text/html": [
              "<table class=\"dataframe\">\n",
              "<caption>A tibble: 6 × 14</caption>\n",
              "<thead>\n",
              "\t<tr><th scope=col>user_id</th><th scope=col>cpgn_id</th><th scope=col>group</th><th scope=col>email</th><th scope=col>open</th><th scope=col>click</th><th scope=col>purch</th><th scope=col>chard</th><th scope=col>sav_blanc</th><th scope=col>syrah</th><th scope=col>cab</th><th scope=col>past_purch</th><th scope=col>days_since</th><th scope=col>visits</th></tr>\n",
              "\t<tr><th scope=col>&lt;dbl&gt;</th><th scope=col>&lt;chr&gt;</th><th scope=col>&lt;chr&gt;</th><th scope=col>&lt;lgl&gt;</th><th scope=col>&lt;dbl&gt;</th><th scope=col>&lt;dbl&gt;</th><th scope=col>&lt;dbl&gt;</th><th scope=col>&lt;dbl&gt;</th><th scope=col>&lt;dbl&gt;</th><th scope=col>&lt;dbl&gt;</th><th scope=col>&lt;dbl&gt;</th><th scope=col>&lt;dbl&gt;</th><th scope=col>&lt;dbl&gt;</th><th scope=col>&lt;dbl&gt;</th></tr>\n",
              "</thead>\n",
              "<tbody>\n",
              "\t<tr><td>1058220</td><td>1901Email</td><td>email_B</td><td>TRUE</td><td>0</td><td>0</td><td> 0.00</td><td>  0.00</td><td>0</td><td>  0.00</td><td>  0.00</td><td>  0.00</td><td>289</td><td>4</td></tr>\n",
              "\t<tr><td>1100384</td><td>1901Email</td><td>email_A</td><td>TRUE</td><td>0</td><td>0</td><td>88.00</td><td>  0.00</td><td>0</td><td>  0.00</td><td>  0.00</td><td>  0.00</td><td>187</td><td>4</td></tr>\n",
              "\t<tr><td>1065703</td><td>1901Email</td><td>email_A</td><td>TRUE</td><td>1</td><td>0</td><td>18.41</td><td>146.13</td><td>0</td><td>  0.00</td><td> 15.81</td><td>161.94</td><td> 76</td><td>6</td></tr>\n",
              "\t<tr><td>1097281</td><td>1901Email</td><td>email_A</td><td>TRUE</td><td>1</td><td>0</td><td> 0.00</td><td>  0.00</td><td>0</td><td> 24.48</td><td>102.39</td><td>126.87</td><td>103</td><td>6</td></tr>\n",
              "\t<tr><td>1010272</td><td>1901Email</td><td>email_A</td><td>TRUE</td><td>1</td><td>0</td><td> 0.00</td><td>112.08</td><td>0</td><td>  0.00</td><td>  0.00</td><td>112.08</td><td>219</td><td>5</td></tr>\n",
              "\t<tr><td>1098389</td><td>1901Email</td><td>email_A</td><td>TRUE</td><td>1</td><td>0</td><td> 0.00</td><td>  0.00</td><td>0</td><td>309.69</td><td>  0.00</td><td>309.69</td><td>204</td><td>7</td></tr>\n",
              "</tbody>\n",
              "</table>\n"
            ],
            "text/markdown": "\nA tibble: 6 × 14\n\n| user_id &lt;dbl&gt; | cpgn_id &lt;chr&gt; | group &lt;chr&gt; | email &lt;lgl&gt; | open &lt;dbl&gt; | click &lt;dbl&gt; | purch &lt;dbl&gt; | chard &lt;dbl&gt; | sav_blanc &lt;dbl&gt; | syrah &lt;dbl&gt; | cab &lt;dbl&gt; | past_purch &lt;dbl&gt; | days_since &lt;dbl&gt; | visits &lt;dbl&gt; |\n|---|---|---|---|---|---|---|---|---|---|---|---|---|---|\n| 1058220 | 1901Email | email_B | TRUE | 0 | 0 |  0.00 |   0.00 | 0 |   0.00 |   0.00 |   0.00 | 289 | 4 |\n| 1100384 | 1901Email | email_A | TRUE | 0 | 0 | 88.00 |   0.00 | 0 |   0.00 |   0.00 |   0.00 | 187 | 4 |\n| 1065703 | 1901Email | email_A | TRUE | 1 | 0 | 18.41 | 146.13 | 0 |   0.00 |  15.81 | 161.94 |  76 | 6 |\n| 1097281 | 1901Email | email_A | TRUE | 1 | 0 |  0.00 |   0.00 | 0 |  24.48 | 102.39 | 126.87 | 103 | 6 |\n| 1010272 | 1901Email | email_A | TRUE | 1 | 0 |  0.00 | 112.08 | 0 |   0.00 |   0.00 | 112.08 | 219 | 5 |\n| 1098389 | 1901Email | email_A | TRUE | 1 | 0 |  0.00 |   0.00 | 0 | 309.69 |   0.00 | 309.69 | 204 | 7 |\n\n",
            "text/latex": "A tibble: 6 × 14\n\\begin{tabular}{llllllllllllll}\n user\\_id & cpgn\\_id & group & email & open & click & purch & chard & sav\\_blanc & syrah & cab & past\\_purch & days\\_since & visits\\\\\n <dbl> & <chr> & <chr> & <lgl> & <dbl> & <dbl> & <dbl> & <dbl> & <dbl> & <dbl> & <dbl> & <dbl> & <dbl> & <dbl>\\\\\n\\hline\n\t 1058220 & 1901Email & email\\_B & TRUE & 0 & 0 &  0.00 &   0.00 & 0 &   0.00 &   0.00 &   0.00 & 289 & 4\\\\\n\t 1100384 & 1901Email & email\\_A & TRUE & 0 & 0 & 88.00 &   0.00 & 0 &   0.00 &   0.00 &   0.00 & 187 & 4\\\\\n\t 1065703 & 1901Email & email\\_A & TRUE & 1 & 0 & 18.41 & 146.13 & 0 &   0.00 &  15.81 & 161.94 &  76 & 6\\\\\n\t 1097281 & 1901Email & email\\_A & TRUE & 1 & 0 &  0.00 &   0.00 & 0 &  24.48 & 102.39 & 126.87 & 103 & 6\\\\\n\t 1010272 & 1901Email & email\\_A & TRUE & 1 & 0 &  0.00 & 112.08 & 0 &   0.00 &   0.00 & 112.08 & 219 & 5\\\\\n\t 1098389 & 1901Email & email\\_A & TRUE & 1 & 0 &  0.00 &   0.00 & 0 & 309.69 &   0.00 & 309.69 & 204 & 7\\\\\n\\end{tabular}\n",
            "text/plain": [
              "  user_id cpgn_id   group   email open click purch chard  sav_blanc syrah \n",
              "1 1058220 1901Email email_B TRUE  0    0      0.00   0.00 0           0.00\n",
              "2 1100384 1901Email email_A TRUE  0    0     88.00   0.00 0           0.00\n",
              "3 1065703 1901Email email_A TRUE  1    0     18.41 146.13 0           0.00\n",
              "4 1097281 1901Email email_A TRUE  1    0      0.00   0.00 0          24.48\n",
              "5 1010272 1901Email email_A TRUE  1    0      0.00 112.08 0           0.00\n",
              "6 1098389 1901Email email_A TRUE  1    0      0.00   0.00 0         309.69\n",
              "  cab    past_purch days_since visits\n",
              "1   0.00   0.00     289        4     \n",
              "2   0.00   0.00     187        4     \n",
              "3  15.81 161.94      76        6     \n",
              "4 102.39 126.87     103        6     \n",
              "5   0.00 112.08     219        5     \n",
              "6   0.00 309.69     204        7     "
            ]
          },
          "metadata": {}
        },
        {
          "output_type": "display_data",
          "data": {
            "text/html": [
              "<table class=\"dataframe\">\n",
              "<caption>A tibble: 2 × 2</caption>\n",
              "<thead>\n",
              "\t<tr><th scope=col>group</th><th scope=col>mean(purch)</th></tr>\n",
              "\t<tr><th scope=col>&lt;chr&gt;</th><th scope=col>&lt;dbl&gt;</th></tr>\n",
              "</thead>\n",
              "<tbody>\n",
              "\t<tr><td>email_A</td><td>24.63317</td></tr>\n",
              "\t<tr><td>email_B</td><td>25.99362</td></tr>\n",
              "</tbody>\n",
              "</table>\n"
            ],
            "text/markdown": "\nA tibble: 2 × 2\n\n| group &lt;chr&gt; | mean(purch) &lt;dbl&gt; |\n|---|---|\n| email_A | 24.63317 |\n| email_B | 25.99362 |\n\n",
            "text/latex": "A tibble: 2 × 2\n\\begin{tabular}{ll}\n group & mean(purch)\\\\\n <chr> & <dbl>\\\\\n\\hline\n\t email\\_A & 24.63317\\\\\n\t email\\_B & 25.99362\\\\\n\\end{tabular}\n",
            "text/plain": [
              "  group   mean(purch)\n",
              "1 email_A 24.63317   \n",
              "2 email_B 25.99362   "
            ]
          },
          "metadata": {}
        }
      ]
    },
    {
      "cell_type": "code",
      "source": [
        "#violin plot of log purchases\n",
        "ggplot (emailed, aes(x=group, y=purch, fill = group))+\n",
        "  geom_violin()+\n",
        "  scale_y_log10()"
      ],
      "metadata": {
        "id": "ZwrBYG1Cjsn7",
        "colab": {
          "base_uri": "https://localhost:8080/",
          "height": 573
        },
        "outputId": "fae49177-c4fb-4c29-b07c-d9d95421ea0f"
      },
      "execution_count": null,
      "outputs": [
        {
          "output_type": "stream",
          "name": "stderr",
          "text": [
            "Warning message:\n",
            "“\u001b[1m\u001b[22mTransformation introduced infinite values in continuous y-axis”\n",
            "Warning message:\n",
            "“\u001b[1m\u001b[22mTransformation introduced infinite values in continuous y-axis”\n",
            "Warning message:\n",
            "“\u001b[1m\u001b[22mRemoved 15550 rows containing non-finite values (`stat_ydensity()`).”\n",
            "Warning message:\n",
            "“\u001b[1m\u001b[22mRemoved 15550 rows containing non-finite values (`stat_ydensity()`).”\n"
          ]
        },
        {
          "output_type": "display_data",
          "data": {
            "text/plain": [
              "plot without title"
            ],
            "image/png": "[encoded data removed]"
          },
          "metadata": {
            "image/png": {
              "width": 420,
              "height": 420
            }
          }
        }
      ]
    },
    {
      "cell_type": "code",
      "source": [
        "#t.test\n",
        "t.test(purch ~ group, data = emailed)"
      ],
      "metadata": {
        "id": "AwPRWFYu5mD7",
        "colab": {
          "base_uri": "https://localhost:8080/",
          "height": 221
        },
        "outputId": "d1f9a7f8-e1c2-47a7-b88c-4e86176721e2"
      },
      "execution_count": null,
      "outputs": [
        {
          "output_type": "display_data",
          "data": {
            "text/plain": [
              "\n",
              "\tWelch Two Sample t-test\n",
              "\n",
              "data:  purch by group\n",
              "t = -1.8429, df = 24568, p-value = 0.06536\n",
              "alternative hypothesis: true difference in means between group email_A and group email_B is not equal to 0\n",
              "95 percent confidence interval:\n",
              " -2.80739713  0.08648704\n",
              "sample estimates:\n",
              "mean in group email_A mean in group email_B \n",
              "             24.63317              25.99362 \n"
            ]
          },
          "metadata": {}
        }
      ]
    },
    {
      "cell_type": "markdown",
      "source": [
        "**PROBLEM**: Reading protocol"
      ],
      "metadata": {
        "id": "10wHF2wA6v5v"
      }
    },
    {
      "cell_type": "code",
      "source": [
        "#read in and inspect\n",
        "reading_data <- read_csv(\"reading_protocol.csv\")\n"
      ],
      "metadata": {
        "id": "VtnShdgJw1Ge",
        "colab": {
          "base_uri": "https://localhost:8080/"
        },
        "outputId": "3f2388c4-2bbb-4471-a16d-b4997a73008f"
      },
      "execution_count": null,
      "outputs": [
        {
          "output_type": "stream",
          "name": "stderr",
          "text": [
            "\u001b[1mRows: \u001b[22m\u001b[34m44\u001b[39m \u001b[1mColumns: \u001b[22m\u001b[34m4\u001b[39m\n",
            "\u001b[36m──\u001b[39m \u001b[1mColumn specification\u001b[22m \u001b[36m────────────────────────────────────────────────────────\u001b[39m\n",
            "\u001b[1mDelimiter:\u001b[22m \",\"\n",
            "\u001b[31mchr\u001b[39m (1): group\n",
            "\u001b[32mdbl\u001b[39m (3): id, g, drp\n",
            "\n",
            "\u001b[36mℹ\u001b[39m Use `spec()` to retrieve the full column specification for this data.\n",
            "\u001b[36mℹ\u001b[39m Specify the column types or set `show_col_types = FALSE` to quiet this message.\n"
          ]
        }
      ]
    },
    {
      "cell_type": "code",
      "source": [
        "#group summaries\n",
        "head(reading_data)"
      ],
      "metadata": {
        "id": "vu8u9hFFw1CT",
        "colab": {
          "base_uri": "https://localhost:8080/",
          "height": 283
        },
        "outputId": "845327d8-8507-48f8-aa39-b510dc2fb233"
      },
      "execution_count": null,
      "outputs": [
        {
          "output_type": "display_data",
          "data": {
            "text/html": [
              "<table class=\"dataframe\">\n",
              "<caption>A tibble: 6 × 4</caption>\n",
              "<thead>\n",
              "\t<tr><th scope=col>id</th><th scope=col>group</th><th scope=col>g</th><th scope=col>drp</th></tr>\n",
              "\t<tr><th scope=col>&lt;dbl&gt;</th><th scope=col>&lt;chr&gt;</th><th scope=col>&lt;dbl&gt;</th><th scope=col>&lt;dbl&gt;</th></tr>\n",
              "</thead>\n",
              "<tbody>\n",
              "\t<tr><td>1</td><td>Treat</td><td>0</td><td>24</td></tr>\n",
              "\t<tr><td>2</td><td>Treat</td><td>0</td><td>56</td></tr>\n",
              "\t<tr><td>3</td><td>Treat</td><td>0</td><td>43</td></tr>\n",
              "\t<tr><td>4</td><td>Treat</td><td>0</td><td>59</td></tr>\n",
              "\t<tr><td>5</td><td>Treat</td><td>0</td><td>58</td></tr>\n",
              "\t<tr><td>6</td><td>Treat</td><td>0</td><td>52</td></tr>\n",
              "</tbody>\n",
              "</table>\n"
            ],
            "text/markdown": "\nA tibble: 6 × 4\n\n| id &lt;dbl&gt; | group &lt;chr&gt; | g &lt;dbl&gt; | drp &lt;dbl&gt; |\n|---|---|---|---|\n| 1 | Treat | 0 | 24 |\n| 2 | Treat | 0 | 56 |\n| 3 | Treat | 0 | 43 |\n| 4 | Treat | 0 | 59 |\n| 5 | Treat | 0 | 58 |\n| 6 | Treat | 0 | 52 |\n\n",
            "text/latex": "A tibble: 6 × 4\n\\begin{tabular}{llll}\n id & group & g & drp\\\\\n <dbl> & <chr> & <dbl> & <dbl>\\\\\n\\hline\n\t 1 & Treat & 0 & 24\\\\\n\t 2 & Treat & 0 & 56\\\\\n\t 3 & Treat & 0 & 43\\\\\n\t 4 & Treat & 0 & 59\\\\\n\t 5 & Treat & 0 & 58\\\\\n\t 6 & Treat & 0 & 52\\\\\n\\end{tabular}\n",
            "text/plain": [
              "  id group g drp\n",
              "1 1  Treat 0 24 \n",
              "2 2  Treat 0 56 \n",
              "3 3  Treat 0 43 \n",
              "4 4  Treat 0 59 \n",
              "5 5  Treat 0 58 \n",
              "6 6  Treat 0 52 "
            ]
          },
          "metadata": {}
        }
      ]
    },
    {
      "cell_type": "code",
      "source": [
        "#t.test\n",
        "reading_data %>%\n",
        "  group_by(group) %>%\n",
        "    summarise(mean(drp))"
      ],
      "metadata": {
        "id": "irVgdEFcw0_L",
        "colab": {
          "base_uri": "https://localhost:8080/",
          "height": 159
        },
        "outputId": "843ae354-7aa5-4af3-8f0b-5254893cce4d"
      },
      "execution_count": null,
      "outputs": [
        {
          "output_type": "display_data",
          "data": {
            "text/html": [
              "<table class=\"dataframe\">\n",
              "<caption>A tibble: 2 × 2</caption>\n",
              "<thead>\n",
              "\t<tr><th scope=col>group</th><th scope=col>mean(drp)</th></tr>\n",
              "\t<tr><th scope=col>&lt;chr&gt;</th><th scope=col>&lt;dbl&gt;</th></tr>\n",
              "</thead>\n",
              "<tbody>\n",
              "\t<tr><td>Control</td><td>41.52174</td></tr>\n",
              "\t<tr><td>Treat  </td><td>51.47619</td></tr>\n",
              "</tbody>\n",
              "</table>\n"
            ],
            "text/markdown": "\nA tibble: 2 × 2\n\n| group &lt;chr&gt; | mean(drp) &lt;dbl&gt; |\n|---|---|\n| Control | 41.52174 |\n| Treat   | 51.47619 |\n\n",
            "text/latex": "A tibble: 2 × 2\n\\begin{tabular}{ll}\n group & mean(drp)\\\\\n <chr> & <dbl>\\\\\n\\hline\n\t Control & 41.52174\\\\\n\t Treat   & 51.47619\\\\\n\\end{tabular}\n",
            "text/plain": [
              "  group   mean(drp)\n",
              "1 Control 41.52174 \n",
              "2 Treat   51.47619 "
            ]
          },
          "metadata": {}
        }
      ]
    },
    {
      "cell_type": "code",
      "source": [
        "t.test(drp ~ group, data = reading_data)"
      ],
      "metadata": {
        "colab": {
          "base_uri": "https://localhost:8080/",
          "height": 221
        },
        "id": "xO2zE6b6fCKP",
        "outputId": "f2dd5657-cd84-408c-d2ce-144b0a32ee3b"
      },
      "execution_count": null,
      "outputs": [
        {
          "output_type": "display_data",
          "data": {
            "text/plain": [
              "\n",
              "\tWelch Two Sample t-test\n",
              "\n",
              "data:  drp by group\n",
              "t = -2.3109, df = 37.855, p-value = 0.02638\n",
              "alternative hypothesis: true difference in means between group Control and group Treat is not equal to 0\n",
              "95 percent confidence interval:\n",
              " -18.67588  -1.23302\n",
              "sample estimates:\n",
              "mean in group Control   mean in group Treat \n",
              "             41.52174              51.47619 \n"
            ]
          },
          "metadata": {}
        }
      ]
    },
    {
      "cell_type": "markdown",
      "source": [
        "#### Subscription Dataset"
      ],
      "metadata": {
        "id": "LZi6gZJRyO83"
      }
    },
    {
      "cell_type": "code",
      "source": [
        "#subscriber data\n",
        "sub <- read_csv(\"subscriber_data.csv\")\n"
      ],
      "metadata": {
        "id": "dlI2lXs83Ke0",
        "colab": {
          "base_uri": "https://localhost:8080/"
        },
        "outputId": "7ed163e1-b2d1-4df4-fa48-8a804653eef5"
      },
      "execution_count": null,
      "outputs": [
        {
          "output_type": "stream",
          "name": "stderr",
          "text": [
            "\u001b[1mRows: \u001b[22m\u001b[34m300\u001b[39m \u001b[1mColumns: \u001b[22m\u001b[34m7\u001b[39m\n",
            "\u001b[36m──\u001b[39m \u001b[1mColumn specification\u001b[22m \u001b[36m────────────────────────────────────────────────────────\u001b[39m\n",
            "\u001b[1mDelimiter:\u001b[22m \",\"\n",
            "\u001b[31mchr\u001b[39m (4): gender, ownHome, subscribe, Segment\n",
            "\u001b[32mdbl\u001b[39m (3): age, income, kids\n",
            "\n",
            "\u001b[36mℹ\u001b[39m Use `spec()` to retrieve the full column specification for this data.\n",
            "\u001b[36mℹ\u001b[39m Specify the column types or set `show_col_types = FALSE` to quiet this message.\n"
          ]
        }
      ]
    },
    {
      "cell_type": "code",
      "source": [
        "#group summaries\n",
        "sub %>%\n",
        "  group_by(ownHome) %>%\n",
        "    summarise(mean(income))"
      ],
      "metadata": {
        "id": "zAdpg_3OyhHt",
        "colab": {
          "base_uri": "https://localhost:8080/",
          "height": 159
        },
        "outputId": "f88a4193-ff84-450a-aac0-7dd792cd47bf"
      },
      "execution_count": null,
      "outputs": [
        {
          "output_type": "display_data",
          "data": {
            "text/html": [
              "<table class=\"dataframe\">\n",
              "<caption>A tibble: 2 × 2</caption>\n",
              "<thead>\n",
              "\t<tr><th scope=col>ownHome</th><th scope=col>mean(income)</th></tr>\n",
              "\t<tr><th scope=col>&lt;chr&gt;</th><th scope=col>&lt;dbl&gt;</th></tr>\n",
              "</thead>\n",
              "<tbody>\n",
              "\t<tr><td>ownNo </td><td>47391.01</td></tr>\n",
              "\t<tr><td>ownYes</td><td>54934.68</td></tr>\n",
              "</tbody>\n",
              "</table>\n"
            ],
            "text/markdown": "\nA tibble: 2 × 2\n\n| ownHome &lt;chr&gt; | mean(income) &lt;dbl&gt; |\n|---|---|\n| ownNo  | 47391.01 |\n| ownYes | 54934.68 |\n\n",
            "text/latex": "A tibble: 2 × 2\n\\begin{tabular}{ll}\n ownHome & mean(income)\\\\\n <chr> & <dbl>\\\\\n\\hline\n\t ownNo  & 47391.01\\\\\n\t ownYes & 54934.68\\\\\n\\end{tabular}\n",
            "text/plain": [
              "  ownHome mean(income)\n",
              "1 ownNo   47391.01    \n",
              "2 ownYes  54934.68    "
            ]
          },
          "metadata": {}
        }
      ]
    },
    {
      "cell_type": "code",
      "source": [
        "#visualizations\n",
        "ggplot(sub, aes(x= income, fill = ownHome)) +\n",
        "  geom_histogram(alpha = 0.2)"
      ],
      "metadata": {
        "id": "qrL2QRD28LU5",
        "colab": {
          "base_uri": "https://localhost:8080/",
          "height": 454
        },
        "outputId": "956dac12-2963-4a48-fa6b-24a22e658399"
      },
      "execution_count": null,
      "outputs": [
        {
          "output_type": "stream",
          "name": "stderr",
          "text": [
            "\u001b[1m\u001b[22m`stat_bin()` using `bins = 30`. Pick better value with `binwidth`.\n"
          ]
        },
        {
          "output_type": "display_data",
          "data": {
            "text/plain": [
              "plot without title"
            ],
            "image/png": "[encoded data removed]"
          },
          "metadata": {
            "image/png": {
              "width": 420,
              "height": 420
            }
          }
        }
      ]
    },
    {
      "cell_type": "code",
      "source": [
        "#hypothesis tests\n",
        "t.test(income ~ ownHome, data = sub)\n",
        "#t test actually print if there is a difference ort not"
      ],
      "metadata": {
        "id": "tAZ4mYHZ37Xz",
        "colab": {
          "base_uri": "https://localhost:8080/",
          "height": 221
        },
        "outputId": "48795bdd-04fc-4de0-b1b6-7fc18d707fc4"
      },
      "execution_count": null,
      "outputs": [
        {
          "output_type": "display_data",
          "data": {
            "text/plain": [
              "\n",
              "\tWelch Two Sample t-test\n",
              "\n",
              "data:  income by ownHome\n",
              "t = -3.2731, df = 285.25, p-value = 0.001195\n",
              "alternative hypothesis: true difference in means between group ownNo and group ownYes is not equal to 0\n",
              "95 percent confidence interval:\n",
              " -12080.155  -3007.193\n",
              "sample estimates:\n",
              " mean in group ownNo mean in group ownYes \n",
              "            47391.01             54934.68 \n"
            ]
          },
          "metadata": {}
        }
      ]
    },
    {
      "cell_type": "markdown",
      "source": [
        "#### Logistic Model\n",
        "\n",
        "Using other information to predict proportions aka binomial target.  Below, we create a logistic model to predict whether a customer will open the email.\n",
        "\n",
        "The null hypothesis here is that past purchases do not effect whether someone opens the email."
      ],
      "metadata": {
        "id": "xaqcWdI92pd9"
      }
    },
    {
      "cell_type": "code",
      "source": [
        "head(beaver1)"
      ],
      "metadata": {
        "id": "-VSROAqTCf6X"
      },
      "execution_count": null,
      "outputs": []
    },
    {
      "cell_type": "code",
      "source": [
        "#plot temperature vs. activity\n"
      ],
      "metadata": {
        "id": "xlrkVU1pBpjw"
      },
      "execution_count": null,
      "outputs": []
    },
    {
      "cell_type": "code",
      "source": [
        "#build logistic model\n"
      ],
      "metadata": {
        "id": "rG7VXu0LDcee"
      },
      "execution_count": null,
      "outputs": []
    },
    {
      "cell_type": "code",
      "source": [
        "#summary\n"
      ],
      "metadata": {
        "id": "9XfssagfEmxg"
      },
      "execution_count": null,
      "outputs": []
    },
    {
      "cell_type": "code",
      "source": [
        "#confint\n"
      ],
      "metadata": {
        "id": "UJ2Dsy8lDJbX"
      },
      "execution_count": null,
      "outputs": []
    },
    {
      "cell_type": "markdown",
      "source": [
        "#### Linear Regression\n",
        "\n",
        "Now, the object predicted is continuous in nature -- similar to the example of a single observable variable and the difference in means.  We assume there is no relationship, test the significance of age on income."
      ],
      "metadata": {
        "id": "QN2OXcfXIwlR"
      }
    },
    {
      "cell_type": "code",
      "source": [
        "#age vs income\n"
      ],
      "metadata": {
        "id": "MsDA7gQT7WJg"
      },
      "execution_count": null,
      "outputs": []
    },
    {
      "cell_type": "code",
      "source": [
        "#regression model\n"
      ],
      "metadata": {
        "id": "LYjTS7hU7WGp"
      },
      "execution_count": null,
      "outputs": []
    },
    {
      "cell_type": "code",
      "source": [
        "#summarise\n"
      ],
      "metadata": {
        "id": "Zgy1gfGU7WDy"
      },
      "execution_count": null,
      "outputs": []
    },
    {
      "cell_type": "code",
      "source": [
        "#confidence interval\n"
      ],
      "metadata": {
        "id": "RvSM3ZMD7WA6"
      },
      "execution_count": null,
      "outputs": []
    },
    {
      "cell_type": "markdown",
      "source": [
        "We interpret this confidence interval in a similar way -- we would expect a one year increase in age to effect income by somewhere in the 657.22 to 967.45 range.  This range does not include 0 -- but also helps to understand what values are possible rather than a single point value like the coefficient."
      ],
      "metadata": {
        "id": "YGw32-sAMx75"
      }
    },
    {
      "cell_type": "code",
      "source": [],
      "metadata": {
        "id": "X73w5AMY8HpM"
      },
      "execution_count": null,
      "outputs": []
    },
    {
      "cell_type": "code",
      "source": [],
      "metadata": {
        "id": "flr19Pn28HJL"
      },
      "execution_count": null,
      "outputs": []
    },
    {
      "cell_type": "code",
      "source": [],
      "metadata": {
        "id": "Tq5HzTjN8HGC"
      },
      "execution_count": null,
      "outputs": []
    },
    {
      "cell_type": "code",
      "source": [],
      "metadata": {
        "id": "YKsj2kAF8HCJ"
      },
      "execution_count": null,
      "outputs": []
    },
    {
      "cell_type": "code",
      "source": [],
      "metadata": {
        "id": "-HKBRrlw8G-w"
      },
      "execution_count": null,
      "outputs": []
    },
    {
      "cell_type": "code",
      "source": [],
      "metadata": {
        "id": "eIE1wiVM8G7n"
      },
      "execution_count": null,
      "outputs": []
    },
    {
      "cell_type": "code",
      "source": [],
      "metadata": {
        "id": "mMIU4jTV8G39"
      },
      "execution_count": null,
      "outputs": []
    },
    {
      "cell_type": "code",
      "source": [],
      "metadata": {
        "id": "G8HwOOHj8GoF"
      },
      "execution_count": null,
      "outputs": []
    }
  ]
}