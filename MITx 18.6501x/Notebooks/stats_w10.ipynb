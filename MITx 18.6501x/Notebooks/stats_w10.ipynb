{
  "nbformat": 4,
  "nbformat_minor": 0,
  "metadata": {
    "colab": {
      "provenance": [],
      "include_colab_link": true
    },
    "kernelspec": {
      "name": "ir",
      "display_name": "R"
    },
    "language_info": {
      "name": "R"
    }
  },
  "cells": [
    {
      "cell_type": "markdown",
      "metadata": {
        "id": "view-in-github",
        "colab_type": "text"
      },
      "source": [
        "<a href=\"https://colab.research.google.com/github/IsraaFahmy/Statistics-and-Data-Science-Micromasters-/blob/main/MITx%2018.6501x/Notebooks/stats_w10.ipynb\" target=\"_parent\"><img src=\"https://colab.research.google.com/assets/colab-badge.svg\" alt=\"Open In Colab\"/></a>"
      ]
    },
    {
      "cell_type": "markdown",
      "source": [
        "### More with hypothesis tests and modeling"
      ],
      "metadata": {
        "id": "Li0VrPPuP0_J"
      }
    },
    {
      "cell_type": "code",
      "source": [
        "library(tidyverse)"
      ],
      "metadata": {
        "id": "XO3qfVjKRB3M"
      },
      "execution_count": null,
      "outputs": []
    },
    {
      "cell_type": "code",
      "source": [
        "df <- read_csv('GRADES.csv')"
      ],
      "metadata": {
        "colab": {
          "base_uri": "https://localhost:8080/"
        },
        "id": "Ah5jFn7jRDwn",
        "outputId": "92e91c79-5ec9-4bb7-ff64-3330e6931452"
      },
      "execution_count": null,
      "outputs": [
        {
          "output_type": "stream",
          "name": "stderr",
          "text": [
            "\u001b[1mRows: \u001b[22m\u001b[34m78\u001b[39m \u001b[1mColumns: \u001b[22m\u001b[34m5\u001b[39m\n",
            "\u001b[36m──\u001b[39m \u001b[1mColumn specification\u001b[22m \u001b[36m────────────────────────────────────────────────────────\u001b[39m\n",
            "\u001b[1mDelimiter:\u001b[22m \",\"\n",
            "\u001b[32mdbl\u001b[39m (5): ID, GPA, IQ, Gender, SelfConcept\n",
            "\n",
            "\u001b[36mℹ\u001b[39m Use `spec()` to retrieve the full column specification for this data.\n",
            "\u001b[36mℹ\u001b[39m Specify the column types or set `show_col_types = FALSE` to quiet this message.\n"
          ]
        }
      ]
    },
    {
      "cell_type": "code",
      "source": [
        "head(df)"
      ],
      "metadata": {
        "colab": {
          "base_uri": "https://localhost:8080/",
          "height": 286
        },
        "id": "k6Wwq5zmRHb7",
        "outputId": "52610030-8300-4296-8cbf-c647ced4a01e"
      },
      "execution_count": null,
      "outputs": [
        {
          "output_type": "display_data",
          "data": {
            "text/html": [
              "<table class=\"dataframe\">\n",
              "<caption>A tibble: 6 × 5</caption>\n",
              "<thead>\n",
              "\t<tr><th scope=col>ID</th><th scope=col>GPA</th><th scope=col>IQ</th><th scope=col>Gender</th><th scope=col>SelfConcept</th></tr>\n",
              "\t<tr><th scope=col>&lt;dbl&gt;</th><th scope=col>&lt;dbl&gt;</th><th scope=col>&lt;dbl&gt;</th><th scope=col>&lt;dbl&gt;</th><th scope=col>&lt;dbl&gt;</th></tr>\n",
              "</thead>\n",
              "<tbody>\n",
              "\t<tr><td>1</td><td>7.940</td><td>111</td><td>2</td><td>67</td></tr>\n",
              "\t<tr><td>2</td><td>8.292</td><td>107</td><td>2</td><td>43</td></tr>\n",
              "\t<tr><td>3</td><td>4.643</td><td>100</td><td>2</td><td>52</td></tr>\n",
              "\t<tr><td>4</td><td>7.470</td><td>107</td><td>2</td><td>66</td></tr>\n",
              "\t<tr><td>5</td><td>8.882</td><td>114</td><td>1</td><td>58</td></tr>\n",
              "\t<tr><td>6</td><td>7.585</td><td>115</td><td>2</td><td>51</td></tr>\n",
              "</tbody>\n",
              "</table>\n"
            ],
            "text/markdown": "\nA tibble: 6 × 5\n\n| ID &lt;dbl&gt; | GPA &lt;dbl&gt; | IQ &lt;dbl&gt; | Gender &lt;dbl&gt; | SelfConcept &lt;dbl&gt; |\n|---|---|---|---|---|\n| 1 | 7.940 | 111 | 2 | 67 |\n| 2 | 8.292 | 107 | 2 | 43 |\n| 3 | 4.643 | 100 | 2 | 52 |\n| 4 | 7.470 | 107 | 2 | 66 |\n| 5 | 8.882 | 114 | 1 | 58 |\n| 6 | 7.585 | 115 | 2 | 51 |\n\n",
            "text/latex": "A tibble: 6 × 5\n\\begin{tabular}{lllll}\n ID & GPA & IQ & Gender & SelfConcept\\\\\n <dbl> & <dbl> & <dbl> & <dbl> & <dbl>\\\\\n\\hline\n\t 1 & 7.940 & 111 & 2 & 67\\\\\n\t 2 & 8.292 & 107 & 2 & 43\\\\\n\t 3 & 4.643 & 100 & 2 & 52\\\\\n\t 4 & 7.470 & 107 & 2 & 66\\\\\n\t 5 & 8.882 & 114 & 1 & 58\\\\\n\t 6 & 7.585 & 115 & 2 & 51\\\\\n\\end{tabular}\n",
            "text/plain": [
              "  ID GPA   IQ  Gender SelfConcept\n",
              "1 1  7.940 111 2      67         \n",
              "2 2  8.292 107 2      43         \n",
              "3 3  4.643 100 2      52         \n",
              "4 4  7.470 107 2      66         \n",
              "5 5  8.882 114 1      58         \n",
              "6 6  7.585 115 2      51         "
            ]
          },
          "metadata": {}
        }
      ]
    },
    {
      "cell_type": "markdown",
      "source": [
        "What hypothesis tests are possible with the data?  List out different ideas and perform these tests, clearly stating the null hypothesis."
      ],
      "metadata": {
        "id": "J7pMXp1SR7zk"
      }
    },
    {
      "cell_type": "code",
      "source": [
        "t.test(GPA ~ Gender, data = df)"
      ],
      "metadata": {
        "colab": {
          "base_uri": "https://localhost:8080/",
          "height": 215
        },
        "id": "v8e2ZIYeRIwT",
        "outputId": "9c1e51c8-05b8-466b-8b51-ac595acc13eb"
      },
      "execution_count": null,
      "outputs": [
        {
          "output_type": "display_data",
          "data": {
            "text/plain": [
              "\n",
              "\tWelch Two Sample t-test\n",
              "\n",
              "data:  GPA by Gender\n",
              "t = 0.90553, df = 74.862, p-value = 0.3681\n",
              "alternative hypothesis: true difference in means between group 1 and group 2 is not equal to 0\n",
              "95 percent confidence interval:\n",
              " -0.4978876  1.3277078\n",
              "sample estimates:\n",
              "mean in group 1 mean in group 2 \n",
              "       7.696548        7.281638 \n"
            ]
          },
          "metadata": {}
        }
      ]
    },
    {
      "cell_type": "code",
      "source": [
        "lm_model <- lm(GPA ~ IQ + factor(Gender), data = df)\n",
        "summary(lm_model)"
      ],
      "metadata": {
        "colab": {
          "base_uri": "https://localhost:8080/",
          "height": 359
        },
        "id": "aUGVjWtZSImv",
        "outputId": "277f68f8-18a5-43d8-fb6a-887caad1fc01"
      },
      "execution_count": null,
      "outputs": [
        {
          "output_type": "display_data",
          "data": {
            "text/plain": [
              "\n",
              "Call:\n",
              "lm(formula = GPA ~ IQ + factor(Gender), data = df)\n",
              "\n",
              "Residuals:\n",
              "    Min      1Q  Median      3Q     Max \n",
              "-5.8927 -0.7413  0.2966  0.9560  3.2512 \n",
              "\n",
              "Coefficients:\n",
              "                Estimate Std. Error t value Pr(>|t|)    \n",
              "(Intercept)     -3.72842    1.49735  -2.490   0.0150 *  \n",
              "IQ               0.10795    0.01389   7.770 3.26e-11 ***\n",
              "factor(Gender)2 -0.96746    0.37150  -2.604   0.0111 *  \n",
              "---\n",
              "Signif. codes:  0 ‘***’ 0.001 ‘**’ 0.01 ‘*’ 0.05 ‘.’ 0.1 ‘ ’ 1\n",
              "\n",
              "Residual standard error: 1.576 on 75 degrees of freedom\n",
              "Multiple R-squared:  0.4512,\tAdjusted R-squared:  0.4366 \n",
              "F-statistic: 30.84 on 2 and 75 DF,  p-value: 1.686e-10\n"
            ]
          },
          "metadata": {}
        }
      ]
    },
    {
      "cell_type": "code",
      "source": [
        "ggplot(df, aes(x = IQ, y = GPA)) +\n",
        "  geom_point()"
      ],
      "metadata": {
        "colab": {
          "base_uri": "https://localhost:8080/",
          "height": 437
        },
        "id": "rofMJXcdSIi2",
        "outputId": "4de65c0a-e702-459d-cc77-1c1d3e42ec63"
      },
      "execution_count": null,
      "outputs": [
        {
          "output_type": "display_data",
          "data": {
            "text/plain": [
              "plot without title"
            ],
            "image/png": "[encoded data removed]"
          },
          "metadata": {
            "image/png": {
              "width": 420,
              "height": 420
            }
          }
        }
      ]
    },
    {
      "cell_type": "code",
      "source": [
        "t.test(SelfConcept ~ Gender, data = df, var.equal = FALSE)"
      ],
      "metadata": {
        "colab": {
          "base_uri": "https://localhost:8080/",
          "height": 215
        },
        "id": "XXYMaySPSIfb",
        "outputId": "d9003eda-a40c-4df5-dd04-9603056c7157"
      },
      "execution_count": null,
      "outputs": [
        {
          "output_type": "display_data",
          "data": {
            "text/plain": [
              "\n",
              "\tWelch Two Sample t-test\n",
              "\n",
              "data:  SelfConcept by Gender\n",
              "t = -0.82764, df = 62.784, p-value = 0.411\n",
              "alternative hypothesis: true difference in means between group 1 and group 2 is not equal to 0\n",
              "95 percent confidence interval:\n",
              " -8.191000  3.393471\n",
              "sample estimates:\n",
              "mean in group 1 mean in group 2 \n",
              "       55.51613        57.91489 \n"
            ]
          },
          "metadata": {}
        }
      ]
    },
    {
      "cell_type": "code",
      "source": [
        "t.test(GPA ~ Gender, data = df, alternative = 'greater')"
      ],
      "metadata": {
        "colab": {
          "base_uri": "https://localhost:8080/",
          "height": 215
        },
        "id": "buz4vovpSIb-",
        "outputId": "9c6ed6ea-ced8-4766-8c50-85c8b97d1917"
      },
      "execution_count": null,
      "outputs": [
        {
          "output_type": "display_data",
          "data": {
            "text/plain": [
              "\n",
              "\tWelch Two Sample t-test\n",
              "\n",
              "data:  GPA by Gender\n",
              "t = 0.90553, df = 74.862, p-value = 0.184\n",
              "alternative hypothesis: true difference in means between group 1 and group 2 is greater than 0\n",
              "95 percent confidence interval:\n",
              " -0.3481962        Inf\n",
              "sample estimates:\n",
              "mean in group 1 mean in group 2 \n",
              "       7.696548        7.281638 \n"
            ]
          },
          "metadata": {}
        }
      ]
    },
    {
      "cell_type": "markdown",
      "source": [
        "#### Predicting Dropout\n",
        "\n",
        "Below, a dataset containing information on college dropouts is loaded and displayed.  Your goal is to predict whether or a student will dropout or graduate.  First, you will use logistic regression and interpret the results of hypothesis tests on the coefficients.  Next, you will use `carat` to build a model that is most accurate."
      ],
      "metadata": {
        "id": "MCRkdXtGSUHC"
      }
    },
    {
      "cell_type": "code",
      "source": [
        "dropout <- read.csv('college_dropout.csv', sep = ';')"
      ],
      "metadata": {
        "id": "JwU_98b7SXLZ"
      },
      "execution_count": null,
      "outputs": []
    },
    {
      "cell_type": "code",
      "source": [
        "head(dropout)"
      ],
      "metadata": {
        "colab": {
          "base_uri": "https://localhost:8080/",
          "height": 306
        },
        "id": "MBKo8IN0SXIA",
        "outputId": "b509b3d5-3af4-4b38-bff2-5a246129380c"
      },
      "execution_count": null,
      "outputs": [
        {
          "output_type": "display_data",
          "data": {
            "text/html": [
              "<table class=\"dataframe\">\n",
              "<caption>A data.frame: 6 × 37</caption>\n",
              "<thead>\n",
              "\t<tr><th></th><th scope=col>Marital.status</th><th scope=col>Application.mode</th><th scope=col>Application.order</th><th scope=col>Course</th><th scope=col>Daytime.evening.attendance.</th><th scope=col>Previous.qualification</th><th scope=col>Previous.qualification..grade.</th><th scope=col>Nacionality</th><th scope=col>Mother.s.qualification</th><th scope=col>Father.s.qualification</th><th scope=col>⋯</th><th scope=col>Curricular.units.2nd.sem..credited.</th><th scope=col>Curricular.units.2nd.sem..enrolled.</th><th scope=col>Curricular.units.2nd.sem..evaluations.</th><th scope=col>Curricular.units.2nd.sem..approved.</th><th scope=col>Curricular.units.2nd.sem..grade.</th><th scope=col>Curricular.units.2nd.sem..without.evaluations.</th><th scope=col>Unemployment.rate</th><th scope=col>Inflation.rate</th><th scope=col>GDP</th><th scope=col>Target</th></tr>\n",
              "\t<tr><th></th><th scope=col>&lt;int&gt;</th><th scope=col>&lt;int&gt;</th><th scope=col>&lt;int&gt;</th><th scope=col>&lt;int&gt;</th><th scope=col>&lt;int&gt;</th><th scope=col>&lt;int&gt;</th><th scope=col>&lt;dbl&gt;</th><th scope=col>&lt;int&gt;</th><th scope=col>&lt;int&gt;</th><th scope=col>&lt;int&gt;</th><th scope=col>⋯</th><th scope=col>&lt;int&gt;</th><th scope=col>&lt;int&gt;</th><th scope=col>&lt;int&gt;</th><th scope=col>&lt;int&gt;</th><th scope=col>&lt;dbl&gt;</th><th scope=col>&lt;int&gt;</th><th scope=col>&lt;dbl&gt;</th><th scope=col>&lt;dbl&gt;</th><th scope=col>&lt;dbl&gt;</th><th scope=col>&lt;chr&gt;</th></tr>\n",
              "</thead>\n",
              "<tbody>\n",
              "\t<tr><th scope=row>1</th><td>1</td><td>17</td><td>5</td><td> 171</td><td>1</td><td> 1</td><td>122.0</td><td>1</td><td>19</td><td>12</td><td>⋯</td><td>0</td><td>0</td><td> 0</td><td>0</td><td> 0.00000</td><td>0</td><td>10.8</td><td> 1.4</td><td> 1.74</td><td>Dropout </td></tr>\n",
              "\t<tr><th scope=row>2</th><td>1</td><td>15</td><td>1</td><td>9254</td><td>1</td><td> 1</td><td>160.0</td><td>1</td><td> 1</td><td> 3</td><td>⋯</td><td>0</td><td>6</td><td> 6</td><td>6</td><td>13.66667</td><td>0</td><td>13.9</td><td>-0.3</td><td> 0.79</td><td>Graduate</td></tr>\n",
              "\t<tr><th scope=row>3</th><td>1</td><td> 1</td><td>5</td><td>9070</td><td>1</td><td> 1</td><td>122.0</td><td>1</td><td>37</td><td>37</td><td>⋯</td><td>0</td><td>6</td><td> 0</td><td>0</td><td> 0.00000</td><td>0</td><td>10.8</td><td> 1.4</td><td> 1.74</td><td>Dropout </td></tr>\n",
              "\t<tr><th scope=row>4</th><td>1</td><td>17</td><td>2</td><td>9773</td><td>1</td><td> 1</td><td>122.0</td><td>1</td><td>38</td><td>37</td><td>⋯</td><td>0</td><td>6</td><td>10</td><td>5</td><td>12.40000</td><td>0</td><td> 9.4</td><td>-0.8</td><td>-3.12</td><td>Graduate</td></tr>\n",
              "\t<tr><th scope=row>5</th><td>2</td><td>39</td><td>1</td><td>8014</td><td>0</td><td> 1</td><td>100.0</td><td>1</td><td>37</td><td>38</td><td>⋯</td><td>0</td><td>6</td><td> 6</td><td>6</td><td>13.00000</td><td>0</td><td>13.9</td><td>-0.3</td><td> 0.79</td><td>Graduate</td></tr>\n",
              "\t<tr><th scope=row>6</th><td>2</td><td>39</td><td>1</td><td>9991</td><td>0</td><td>19</td><td>133.1</td><td>1</td><td>37</td><td>37</td><td>⋯</td><td>0</td><td>5</td><td>17</td><td>5</td><td>11.50000</td><td>5</td><td>16.2</td><td> 0.3</td><td>-0.92</td><td>Graduate</td></tr>\n",
              "</tbody>\n",
              "</table>\n"
            ],
            "text/markdown": "\nA data.frame: 6 × 37\n\n| <!--/--> | Marital.status &lt;int&gt; | Application.mode &lt;int&gt; | Application.order &lt;int&gt; | Course &lt;int&gt; | Daytime.evening.attendance. &lt;int&gt; | Previous.qualification &lt;int&gt; | Previous.qualification..grade. &lt;dbl&gt; | Nacionality &lt;int&gt; | Mother.s.qualification &lt;int&gt; | Father.s.qualification &lt;int&gt; | ⋯ ⋯ | Curricular.units.2nd.sem..credited. &lt;int&gt; | Curricular.units.2nd.sem..enrolled. &lt;int&gt; | Curricular.units.2nd.sem..evaluations. &lt;int&gt; | Curricular.units.2nd.sem..approved. &lt;int&gt; | Curricular.units.2nd.sem..grade. &lt;dbl&gt; | Curricular.units.2nd.sem..without.evaluations. &lt;int&gt; | Unemployment.rate &lt;dbl&gt; | Inflation.rate &lt;dbl&gt; | GDP &lt;dbl&gt; | Target &lt;chr&gt; |\n|---|---|---|---|---|---|---|---|---|---|---|---|---|---|---|---|---|---|---|---|---|---|\n| 1 | 1 | 17 | 5 |  171 | 1 |  1 | 122.0 | 1 | 19 | 12 | ⋯ | 0 | 0 |  0 | 0 |  0.00000 | 0 | 10.8 |  1.4 |  1.74 | Dropout  |\n| 2 | 1 | 15 | 1 | 9254 | 1 |  1 | 160.0 | 1 |  1 |  3 | ⋯ | 0 | 6 |  6 | 6 | 13.66667 | 0 | 13.9 | -0.3 |  0.79 | Graduate |\n| 3 | 1 |  1 | 5 | 9070 | 1 |  1 | 122.0 | 1 | 37 | 37 | ⋯ | 0 | 6 |  0 | 0 |  0.00000 | 0 | 10.8 |  1.4 |  1.74 | Dropout  |\n| 4 | 1 | 17 | 2 | 9773 | 1 |  1 | 122.0 | 1 | 38 | 37 | ⋯ | 0 | 6 | 10 | 5 | 12.40000 | 0 |  9.4 | -0.8 | -3.12 | Graduate |\n| 5 | 2 | 39 | 1 | 8014 | 0 |  1 | 100.0 | 1 | 37 | 38 | ⋯ | 0 | 6 |  6 | 6 | 13.00000 | 0 | 13.9 | -0.3 |  0.79 | Graduate |\n| 6 | 2 | 39 | 1 | 9991 | 0 | 19 | 133.1 | 1 | 37 | 37 | ⋯ | 0 | 5 | 17 | 5 | 11.50000 | 5 | 16.2 |  0.3 | -0.92 | Graduate |\n\n",
            "text/latex": "A data.frame: 6 × 37\n\\begin{tabular}{r|lllllllllllllllllllll}\n  & Marital.status & Application.mode & Application.order & Course & Daytime.evening.attendance. & Previous.qualification & Previous.qualification..grade. & Nacionality & Mother.s.qualification & Father.s.qualification & ⋯ & Curricular.units.2nd.sem..credited. & Curricular.units.2nd.sem..enrolled. & Curricular.units.2nd.sem..evaluations. & Curricular.units.2nd.sem..approved. & Curricular.units.2nd.sem..grade. & Curricular.units.2nd.sem..without.evaluations. & Unemployment.rate & Inflation.rate & GDP & Target\\\\\n  & <int> & <int> & <int> & <int> & <int> & <int> & <dbl> & <int> & <int> & <int> & ⋯ & <int> & <int> & <int> & <int> & <dbl> & <int> & <dbl> & <dbl> & <dbl> & <chr>\\\\\n\\hline\n\t1 & 1 & 17 & 5 &  171 & 1 &  1 & 122.0 & 1 & 19 & 12 & ⋯ & 0 & 0 &  0 & 0 &  0.00000 & 0 & 10.8 &  1.4 &  1.74 & Dropout \\\\\n\t2 & 1 & 15 & 1 & 9254 & 1 &  1 & 160.0 & 1 &  1 &  3 & ⋯ & 0 & 6 &  6 & 6 & 13.66667 & 0 & 13.9 & -0.3 &  0.79 & Graduate\\\\\n\t3 & 1 &  1 & 5 & 9070 & 1 &  1 & 122.0 & 1 & 37 & 37 & ⋯ & 0 & 6 &  0 & 0 &  0.00000 & 0 & 10.8 &  1.4 &  1.74 & Dropout \\\\\n\t4 & 1 & 17 & 2 & 9773 & 1 &  1 & 122.0 & 1 & 38 & 37 & ⋯ & 0 & 6 & 10 & 5 & 12.40000 & 0 &  9.4 & -0.8 & -3.12 & Graduate\\\\\n\t5 & 2 & 39 & 1 & 8014 & 0 &  1 & 100.0 & 1 & 37 & 38 & ⋯ & 0 & 6 &  6 & 6 & 13.00000 & 0 & 13.9 & -0.3 &  0.79 & Graduate\\\\\n\t6 & 2 & 39 & 1 & 9991 & 0 & 19 & 133.1 & 1 & 37 & 37 & ⋯ & 0 & 5 & 17 & 5 & 11.50000 & 5 & 16.2 &  0.3 & -0.92 & Graduate\\\\\n\\end{tabular}\n",
            "text/plain": [
              "  Marital.status Application.mode Application.order Course\n",
              "1 1              17               5                  171  \n",
              "2 1              15               1                 9254  \n",
              "3 1               1               5                 9070  \n",
              "4 1              17               2                 9773  \n",
              "5 2              39               1                 8014  \n",
              "6 2              39               1                 9991  \n",
              "  Daytime.evening.attendance. Previous.qualification\n",
              "1 1                            1                    \n",
              "2 1                            1                    \n",
              "3 1                            1                    \n",
              "4 1                            1                    \n",
              "5 0                            1                    \n",
              "6 0                           19                    \n",
              "  Previous.qualification..grade. Nacionality Mother.s.qualification\n",
              "1 122.0                          1           19                    \n",
              "2 160.0                          1            1                    \n",
              "3 122.0                          1           37                    \n",
              "4 122.0                          1           38                    \n",
              "5 100.0                          1           37                    \n",
              "6 133.1                          1           37                    \n",
              "  Father.s.qualification ⋯ Curricular.units.2nd.sem..credited.\n",
              "1 12                     ⋯ 0                                  \n",
              "2  3                     ⋯ 0                                  \n",
              "3 37                     ⋯ 0                                  \n",
              "4 37                     ⋯ 0                                  \n",
              "5 38                     ⋯ 0                                  \n",
              "6 37                     ⋯ 0                                  \n",
              "  Curricular.units.2nd.sem..enrolled. Curricular.units.2nd.sem..evaluations.\n",
              "1 0                                    0                                    \n",
              "2 6                                    6                                    \n",
              "3 6                                    0                                    \n",
              "4 6                                   10                                    \n",
              "5 6                                    6                                    \n",
              "6 5                                   17                                    \n",
              "  Curricular.units.2nd.sem..approved. Curricular.units.2nd.sem..grade.\n",
              "1 0                                    0.00000                        \n",
              "2 6                                   13.66667                        \n",
              "3 0                                    0.00000                        \n",
              "4 5                                   12.40000                        \n",
              "5 6                                   13.00000                        \n",
              "6 5                                   11.50000                        \n",
              "  Curricular.units.2nd.sem..without.evaluations. Unemployment.rate\n",
              "1 0                                              10.8             \n",
              "2 0                                              13.9             \n",
              "3 0                                              10.8             \n",
              "4 0                                               9.4             \n",
              "5 0                                              13.9             \n",
              "6 5                                              16.2             \n",
              "  Inflation.rate GDP   Target  \n",
              "1  1.4            1.74 Dropout \n",
              "2 -0.3            0.79 Graduate\n",
              "3  1.4            1.74 Dropout \n",
              "4 -0.8           -3.12 Graduate\n",
              "5 -0.3            0.79 Graduate\n",
              "6  0.3           -0.92 Graduate"
            ]
          },
          "metadata": {}
        }
      ]
    },
    {
      "cell_type": "code",
      "source": [
        "unique(dropout$Target)"
      ],
      "metadata": {
        "colab": {
          "base_uri": "https://localhost:8080/",
          "height": 34
        },
        "id": "p1pTHIrjSXE7",
        "outputId": "d5e35d22-ca38-400b-c349-c01cfb1adad2"
      },
      "execution_count": null,
      "outputs": [
        {
          "output_type": "display_data",
          "data": {
            "text/html": [
              "<style>\n",
              ".list-inline {list-style: none; margin:0; padding: 0}\n",
              ".list-inline>li {display: inline-block}\n",
              ".list-inline>li:not(:last-child)::after {content: \"\\00b7\"; padding: 0 .5ex}\n",
              "</style>\n",
              "<ol class=list-inline><li>'Dropout'</li><li>'Graduate'</li><li>'Enrolled'</li></ol>\n"
            ],
            "text/markdown": "1. 'Dropout'\n2. 'Graduate'\n3. 'Enrolled'\n\n\n",
            "text/latex": "\\begin{enumerate*}\n\\item 'Dropout'\n\\item 'Graduate'\n\\item 'Enrolled'\n\\end{enumerate*}\n",
            "text/plain": [
              "[1] \"Dropout\"  \"Graduate\" \"Enrolled\""
            ]
          },
          "metadata": {}
        }
      ]
    },
    {
      "cell_type": "code",
      "source": [
        "clean_df <- filter(dropout, Target != 'Enrolled')"
      ],
      "metadata": {
        "id": "LiSBA51zmVHD"
      },
      "execution_count": null,
      "outputs": []
    },
    {
      "cell_type": "code",
      "source": [
        "# dropout %>%\n",
        "#   filter(Target != 'Enrolled')"
      ],
      "metadata": {
        "id": "kbUxU6gZSXBf"
      },
      "execution_count": null,
      "outputs": []
    },
    {
      "cell_type": "code",
      "source": [
        "t.test(GDP ~ Target, data = clean_df)"
      ],
      "metadata": {
        "colab": {
          "base_uri": "https://localhost:8080/",
          "height": 215
        },
        "id": "kn4e1vANS15R",
        "outputId": "fc83f0e2-86b8-4c79-b403-2fc9c5bf4495"
      },
      "execution_count": null,
      "outputs": [
        {
          "output_type": "display_data",
          "data": {
            "text/plain": [
              "\n",
              "\tWelch Two Sample t-test\n",
              "\n",
              "data:  GDP by Target\n",
              "t = -3.0339, df = 3037.6, p-value = 0.002435\n",
              "alternative hypothesis: true difference in means between group Dropout and group Graduate is not equal to 0\n",
              "95 percent confidence interval:\n",
              " -0.3830777 -0.0823062\n",
              "sample estimates:\n",
              " mean in group Dropout mean in group Graduate \n",
              "           -0.15085855             0.08183341 \n"
            ]
          },
          "metadata": {}
        }
      ]
    },
    {
      "cell_type": "code",
      "source": [
        "clean_df$num_target <- ifelse(clean_df$Target == 'Dropout', 1, 0)"
      ],
      "metadata": {
        "id": "RLPWcD_Xp4Bs"
      },
      "execution_count": null,
      "outputs": []
    },
    {
      "cell_type": "code",
      "source": [
        "model1 <- glm(num_target ~ GDP, data = clean_df, family = 'binomial')"
      ],
      "metadata": {
        "id": "diLKt9_oS11p"
      },
      "execution_count": null,
      "outputs": []
    },
    {
      "cell_type": "code",
      "source": [
        "summary(model1)"
      ],
      "metadata": {
        "colab": {
          "base_uri": "https://localhost:8080/",
          "height": 341
        },
        "id": "NyaqDZRkSVyU",
        "outputId": "684e3212-dc61-4b60-b789-243aa4cc20a2"
      },
      "execution_count": null,
      "outputs": [
        {
          "output_type": "display_data",
          "data": {
            "text/plain": [
              "\n",
              "Call:\n",
              "glm(formula = num_target ~ GDP, family = \"binomial\", data = clean_df)\n",
              "\n",
              "Coefficients:\n",
              "            Estimate Std. Error z value Pr(>|z|)    \n",
              "(Intercept) -0.44271    0.03406 -12.998  < 2e-16 ***\n",
              "GDP         -0.04545    0.01502  -3.025  0.00248 ** \n",
              "---\n",
              "Signif. codes:  0 ‘***’ 0.001 ‘**’ 0.01 ‘*’ 0.05 ‘.’ 0.1 ‘ ’ 1\n",
              "\n",
              "(Dispersion parameter for binomial family taken to be 1)\n",
              "\n",
              "    Null deviance: 4859.8  on 3629  degrees of freedom\n",
              "Residual deviance: 4850.7  on 3628  degrees of freedom\n",
              "AIC: 4854.7\n",
              "\n",
              "Number of Fisher Scoring iterations: 4\n"
            ]
          },
          "metadata": {}
        }
      ]
    },
    {
      "cell_type": "code",
      "source": [
        "model2 <- glm(num_target ~ GDP + Daytime.evening.attendance.  + Inflation.rate , data = clean_df, family = 'binomial')\n",
        "summary(model2)"
      ],
      "metadata": {
        "colab": {
          "base_uri": "https://localhost:8080/",
          "height": 395
        },
        "id": "78R5-0InqObX",
        "outputId": "c8d7fe62-d17e-4abb-9c22-47628fea2846"
      },
      "execution_count": null,
      "outputs": [
        {
          "output_type": "display_data",
          "data": {
            "text/plain": [
              "\n",
              "Call:\n",
              "glm(formula = num_target ~ GDP + Daytime.evening.attendance. + \n",
              "    Inflation.rate, family = \"binomial\", data = clean_df)\n",
              "\n",
              "Coefficients:\n",
              "                            Estimate Std. Error z value Pr(>|z|)    \n",
              "(Intercept)                 -0.01619    0.10417  -0.155  0.87648    \n",
              "GDP                         -0.04278    0.01521  -2.813  0.00491 ** \n",
              "Daytime.evening.attendance. -0.53018    0.10563  -5.019 5.19e-07 ***\n",
              "Inflation.rate               0.03384    0.02469   1.371  0.17044    \n",
              "---\n",
              "Signif. codes:  0 ‘***’ 0.001 ‘**’ 0.01 ‘*’ 0.05 ‘.’ 0.1 ‘ ’ 1\n",
              "\n",
              "(Dispersion parameter for binomial family taken to be 1)\n",
              "\n",
              "    Null deviance: 4859.8  on 3629  degrees of freedom\n",
              "Residual deviance: 4823.5  on 3626  degrees of freedom\n",
              "AIC: 4831.5\n",
              "\n",
              "Number of Fisher Scoring iterations: 4\n"
            ]
          },
          "metadata": {}
        }
      ]
    },
    {
      "cell_type": "code",
      "source": [],
      "metadata": {
        "id": "Mdncjggsw7FU"
      },
      "execution_count": null,
      "outputs": []
    }
  ]
}