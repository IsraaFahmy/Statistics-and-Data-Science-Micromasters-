{
  "nbformat": 4,
  "nbformat_minor": 0,
  "metadata": {
    "colab": {
      "provenance": [],
      "include_colab_link": true
    },
    "kernelspec": {
      "name": "ir",
      "display_name": "R"
    },
    "language_info": {
      "name": "R"
    }
  },
  "cells": [
    {
      "cell_type": "markdown",
      "metadata": {
        "id": "view-in-github",
        "colab_type": "text"
      },
      "source": [
        "<a href=\"https://colab.research.google.com/github/IsraaFahmy/Statistics-and-Data-Science-Micromasters-/blob/main/MITxT%2014.310xDASS/Notebooks/social_w7.ipynb\" target=\"_parent\"><img src=\"https://colab.research.google.com/assets/colab-badge.svg\" alt=\"Open In Colab\"/></a>"
      ]
    },
    {
      "cell_type": "markdown",
      "source": [
        "### Revisiting Regression Models\n",
        "\n",
        "- Where the model comes from\n",
        "- Reporting $r^2$\n",
        "- Connections to Maximum Likelihood\n",
        "- Building and interpreting linear models with R\n",
        "- Comparing to our machine learning models using `caret`"
      ],
      "metadata": {
        "id": "6WYMmw-9f7XE"
      }
    },
    {
      "cell_type": "code",
      "execution_count": null,
      "metadata": {
        "colab": {
          "base_uri": "https://localhost:8080/"
        },
        "id": "3vt-tH-ZdXLe",
        "outputId": "cdc9d23f-fe98-4639-9e7e-21403135b23e"
      },
      "outputs": [
        {
          "output_type": "stream",
          "name": "stderr",
          "text": [
            "── \u001b[1mAttaching core tidyverse packages\u001b[22m ──────────────────────── tidyverse 2.0.0 ──\n",
            "\u001b[32m✔\u001b[39m \u001b[34mdplyr    \u001b[39m 1.1.2     \u001b[32m✔\u001b[39m \u001b[34mreadr    \u001b[39m 2.1.4\n",
            "\u001b[32m✔\u001b[39m \u001b[34mforcats  \u001b[39m 1.0.0     \u001b[32m✔\u001b[39m \u001b[34mstringr  \u001b[39m 1.5.0\n",
            "\u001b[32m✔\u001b[39m \u001b[34mggplot2  \u001b[39m 3.4.2     \u001b[32m✔\u001b[39m \u001b[34mtibble   \u001b[39m 3.2.1\n",
            "\u001b[32m✔\u001b[39m \u001b[34mlubridate\u001b[39m 1.9.2     \u001b[32m✔\u001b[39m \u001b[34mtidyr    \u001b[39m 1.3.0\n",
            "\u001b[32m✔\u001b[39m \u001b[34mpurrr    \u001b[39m 1.0.1     \n",
            "── \u001b[1mConflicts\u001b[22m ────────────────────────────────────────── tidyverse_conflicts() ──\n",
            "\u001b[31m✖\u001b[39m \u001b[34mdplyr\u001b[39m::\u001b[32mfilter()\u001b[39m masks \u001b[34mstats\u001b[39m::filter()\n",
            "\u001b[31m✖\u001b[39m \u001b[34mdplyr\u001b[39m::\u001b[32mlag()\u001b[39m    masks \u001b[34mstats\u001b[39m::lag()\n",
            "\u001b[36mℹ\u001b[39m Use the conflicted package (\u001b[3m\u001b[34m<http://conflicted.r-lib.org/>\u001b[39m\u001b[23m) to force all conflicts to become errors\n"
          ]
        }
      ],
      "source": [
        "library(tidyverse)"
      ]
    },
    {
      "cell_type": "code",
      "source": [
        "wage_1 <- read_csv('census_wages.csv')\n",
        "head(wage_1, 3)"
      ],
      "metadata": {
        "colab": {
          "base_uri": "https://localhost:8080/",
          "height": 372
        },
        "id": "StyY2nVsgBx5",
        "outputId": "951f6dc1-d718-4c3d-e8b4-7807b87f9898"
      },
      "execution_count": null,
      "outputs": [
        {
          "output_type": "stream",
          "name": "stderr",
          "text": [
            "\u001b[1m\u001b[22mNew names:\n",
            "\u001b[36m•\u001b[39m `` -> `...1`\n",
            "\u001b[1mRows: \u001b[22m\u001b[34m534\u001b[39m \u001b[1mColumns: \u001b[22m\u001b[34m12\u001b[39m\n",
            "\u001b[36m──\u001b[39m \u001b[1mColumn specification\u001b[22m \u001b[36m────────────────────────────────────────────────────────\u001b[39m\n",
            "\u001b[1mDelimiter:\u001b[22m \",\"\n",
            "\u001b[31mchr\u001b[39m (7): SOUTH, SEX, UNION, RACE, OCCUPATION, SECTOR, MARR\n",
            "\u001b[32mdbl\u001b[39m (5): ...1, EDUCATION, EXPERIENCE, WAGE, AGE\n",
            "\n",
            "\u001b[36mℹ\u001b[39m Use `spec()` to retrieve the full column specification for this data.\n",
            "\u001b[36mℹ\u001b[39m Specify the column types or set `show_col_types = FALSE` to quiet this message.\n"
          ]
        },
        {
          "output_type": "display_data",
          "data": {
            "text/html": [
              "<table class=\"dataframe\">\n",
              "<caption>A tibble: 3 × 12</caption>\n",
              "<thead>\n",
              "\t<tr><th scope=col>...1</th><th scope=col>EDUCATION</th><th scope=col>SOUTH</th><th scope=col>SEX</th><th scope=col>EXPERIENCE</th><th scope=col>UNION</th><th scope=col>WAGE</th><th scope=col>AGE</th><th scope=col>RACE</th><th scope=col>OCCUPATION</th><th scope=col>SECTOR</th><th scope=col>MARR</th></tr>\n",
              "\t<tr><th scope=col>&lt;dbl&gt;</th><th scope=col>&lt;dbl&gt;</th><th scope=col>&lt;chr&gt;</th><th scope=col>&lt;chr&gt;</th><th scope=col>&lt;dbl&gt;</th><th scope=col>&lt;chr&gt;</th><th scope=col>&lt;dbl&gt;</th><th scope=col>&lt;dbl&gt;</th><th scope=col>&lt;chr&gt;</th><th scope=col>&lt;chr&gt;</th><th scope=col>&lt;chr&gt;</th><th scope=col>&lt;chr&gt;</th></tr>\n",
              "</thead>\n",
              "<tbody>\n",
              "\t<tr><td>0</td><td> 8</td><td>no</td><td>female</td><td>21</td><td>not_member</td><td>5.10</td><td>35</td><td>Hispanic</td><td>Other</td><td>Manufacturing</td><td>Married  </td></tr>\n",
              "\t<tr><td>1</td><td> 9</td><td>no</td><td>female</td><td>42</td><td>not_member</td><td>4.95</td><td>57</td><td>White   </td><td>Other</td><td>Manufacturing</td><td>Married  </td></tr>\n",
              "\t<tr><td>2</td><td>12</td><td>no</td><td>male  </td><td> 1</td><td>not_member</td><td>6.67</td><td>19</td><td>White   </td><td>Other</td><td>Manufacturing</td><td>Unmarried</td></tr>\n",
              "</tbody>\n",
              "</table>\n"
            ],
            "text/markdown": "\nA tibble: 3 × 12\n\n| ...1 &lt;dbl&gt; | EDUCATION &lt;dbl&gt; | SOUTH &lt;chr&gt; | SEX &lt;chr&gt; | EXPERIENCE &lt;dbl&gt; | UNION &lt;chr&gt; | WAGE &lt;dbl&gt; | AGE &lt;dbl&gt; | RACE &lt;chr&gt; | OCCUPATION &lt;chr&gt; | SECTOR &lt;chr&gt; | MARR &lt;chr&gt; |\n|---|---|---|---|---|---|---|---|---|---|---|---|\n| 0 |  8 | no | female | 21 | not_member | 5.10 | 35 | Hispanic | Other | Manufacturing | Married   |\n| 1 |  9 | no | female | 42 | not_member | 4.95 | 57 | White    | Other | Manufacturing | Married   |\n| 2 | 12 | no | male   |  1 | not_member | 6.67 | 19 | White    | Other | Manufacturing | Unmarried |\n\n",
            "text/latex": "A tibble: 3 × 12\n\\begin{tabular}{llllllllllll}\n ...1 & EDUCATION & SOUTH & SEX & EXPERIENCE & UNION & WAGE & AGE & RACE & OCCUPATION & SECTOR & MARR\\\\\n <dbl> & <dbl> & <chr> & <chr> & <dbl> & <chr> & <dbl> & <dbl> & <chr> & <chr> & <chr> & <chr>\\\\\n\\hline\n\t 0 &  8 & no & female & 21 & not\\_member & 5.10 & 35 & Hispanic & Other & Manufacturing & Married  \\\\\n\t 1 &  9 & no & female & 42 & not\\_member & 4.95 & 57 & White    & Other & Manufacturing & Married  \\\\\n\t 2 & 12 & no & male   &  1 & not\\_member & 6.67 & 19 & White    & Other & Manufacturing & Unmarried\\\\\n\\end{tabular}\n",
            "text/plain": [
              "  ...1 EDUCATION SOUTH SEX    EXPERIENCE UNION      WAGE AGE RACE    \n",
              "1 0     8        no    female 21         not_member 5.10 35  Hispanic\n",
              "2 1     9        no    female 42         not_member 4.95 57  White   \n",
              "3 2    12        no    male    1         not_member 6.67 19  White   \n",
              "  OCCUPATION SECTOR        MARR     \n",
              "1 Other      Manufacturing Married  \n",
              "2 Other      Manufacturing Married  \n",
              "3 Other      Manufacturing Unmarried"
            ]
          },
          "metadata": {}
        }
      ]
    },
    {
      "cell_type": "code",
      "source": [
        "model1 <- lm(WAGE ~ AGE, data = wage_1)\n",
        "model1"
      ],
      "metadata": {
        "colab": {
          "base_uri": "https://localhost:8080/",
          "height": 143
        },
        "id": "YdLuMsDMgBu1",
        "outputId": "f776ce9c-ed78-46f6-a316-cc3ddc3d425a"
      },
      "execution_count": null,
      "outputs": [
        {
          "output_type": "display_data",
          "data": {
            "text/plain": [
              "\n",
              "Call:\n",
              "lm(formula = WAGE ~ AGE, data = wage_1)\n",
              "\n",
              "Coefficients:\n",
              "(Intercept)          AGE  \n",
              "    6.16747      0.07755  \n"
            ]
          },
          "metadata": {}
        }
      ]
    },
    {
      "cell_type": "code",
      "source": [
        "summary(model1)"
      ],
      "metadata": {
        "colab": {
          "base_uri": "https://localhost:8080/",
          "height": 341
        },
        "id": "NRc3mSGayICJ",
        "outputId": "f668ba69-b173-4a9a-f29f-d60afc91d7cf"
      },
      "execution_count": null,
      "outputs": [
        {
          "output_type": "display_data",
          "data": {
            "text/plain": [
              "\n",
              "Call:\n",
              "lm(formula = WAGE ~ AGE, data = wage_1)\n",
              "\n",
              "Residuals:\n",
              "   Min     1Q Median     3Q    Max \n",
              "-8.425 -3.503 -1.106  2.276 36.704 \n",
              "\n",
              "Coefficients:\n",
              "            Estimate Std. Error t value Pr(>|t|)    \n",
              "(Intercept)  6.16747    0.72280   8.533  < 2e-16 ***\n",
              "AGE          0.07755    0.01870   4.147 3.92e-05 ***\n",
              "---\n",
              "Signif. codes:  0 ‘***’ 0.001 ‘**’ 0.01 ‘*’ 0.05 ‘.’ 0.1 ‘ ’ 1\n",
              "\n",
              "Residual standard error: 5.063 on 532 degrees of freedom\n",
              "Multiple R-squared:  0.03132,\tAdjusted R-squared:  0.0295 \n",
              "F-statistic:  17.2 on 1 and 532 DF,  p-value: 3.917e-05\n"
            ]
          },
          "metadata": {}
        }
      ]
    },
    {
      "cell_type": "code",
      "source": [
        "#model predicts with 20 year old?\n",
        "20*.07755 + 6.16747"
      ],
      "metadata": {
        "colab": {
          "base_uri": "https://localhost:8080/",
          "height": 34
        },
        "id": "7cfd2hEegBsU",
        "outputId": "7ae0319e-d71e-44fc-bb25-a469c53329d2"
      },
      "execution_count": null,
      "outputs": [
        {
          "output_type": "display_data",
          "data": {
            "text/html": [
              "7.71847"
            ],
            "text/markdown": "7.71847",
            "text/latex": "7.71847",
            "text/plain": [
              "[1] 7.71847"
            ]
          },
          "metadata": {}
        }
      ]
    },
    {
      "cell_type": "code",
      "source": [
        "30*.07755 + 6.16747"
      ],
      "metadata": {
        "colab": {
          "base_uri": "https://localhost:8080/",
          "height": 34
        },
        "id": "URuzYTxWgBo9",
        "outputId": "d13e1de6-f8af-48bc-9b0f-beb802d2e7f7"
      },
      "execution_count": null,
      "outputs": [
        {
          "output_type": "display_data",
          "data": {
            "text/html": [
              "8.49397"
            ],
            "text/markdown": "8.49397",
            "text/latex": "8.49397",
            "text/plain": [
              "[1] 8.49397"
            ]
          },
          "metadata": {}
        }
      ]
    },
    {
      "cell_type": "code",
      "source": [
        "40*.07755 + 6.16747"
      ],
      "metadata": {
        "colab": {
          "base_uri": "https://localhost:8080/",
          "height": 34
        },
        "id": "hxHvxeIqf_BN",
        "outputId": "9e200d69-8d8a-4331-8c82-1ff88a04de46"
      },
      "execution_count": null,
      "outputs": [
        {
          "output_type": "display_data",
          "data": {
            "text/html": [
              "9.26947"
            ],
            "text/markdown": "9.26947",
            "text/latex": "9.26947",
            "text/plain": [
              "[1] 9.26947"
            ]
          },
          "metadata": {}
        }
      ]
    },
    {
      "cell_type": "code",
      "source": [
        "9.26947 - 8.49397"
      ],
      "metadata": {
        "colab": {
          "base_uri": "https://localhost:8080/",
          "height": 34
        },
        "id": "EhYWWPYYtJex",
        "outputId": "f59dc660-2a82-485d-e53c-bff811be3b2c"
      },
      "execution_count": null,
      "outputs": [
        {
          "output_type": "display_data",
          "data": {
            "text/html": [
              "0.775500000000001"
            ],
            "text/markdown": "0.775500000000001",
            "text/latex": "0.775500000000001",
            "text/plain": [
              "[1] 0.7755"
            ]
          },
          "metadata": {}
        }
      ]
    },
    {
      "cell_type": "code",
      "source": [
        "model2 <- lm(WAGE ~ AGE + RACE, data = wage_1)"
      ],
      "metadata": {
        "id": "Mgduf9F5tsKG"
      },
      "execution_count": null,
      "outputs": []
    },
    {
      "cell_type": "code",
      "source": [
        "model2"
      ],
      "metadata": {
        "colab": {
          "base_uri": "https://localhost:8080/",
          "height": 143
        },
        "id": "K2i6fPWYtrnK",
        "outputId": "2f685800-aa26-48a9-f9cd-aaffd018c762"
      },
      "execution_count": null,
      "outputs": [
        {
          "output_type": "display_data",
          "data": {
            "text/plain": [
              "\n",
              "Call:\n",
              "lm(formula = WAGE ~ AGE + RACE, data = wage_1)\n",
              "\n",
              "Coefficients:\n",
              "(Intercept)          AGE    RACEOther    RACEWhite  \n",
              "     4.6358       0.0767       0.5515       1.8132  \n"
            ]
          },
          "metadata": {}
        }
      ]
    },
    {
      "cell_type": "code",
      "source": [
        "summary(model2)"
      ],
      "metadata": {
        "colab": {
          "base_uri": "https://localhost:8080/",
          "height": 377
        },
        "id": "5iOmTXnNtrhL",
        "outputId": "b370a04f-53d4-4b3e-b24f-f6c6f5de4e91"
      },
      "execution_count": null,
      "outputs": [
        {
          "output_type": "display_data",
          "data": {
            "text/plain": [
              "\n",
              "Call:\n",
              "lm(formula = WAGE ~ AGE + RACE, data = wage_1)\n",
              "\n",
              "Residuals:\n",
              "   Min     1Q Median     3Q    Max \n",
              "-8.670 -3.357 -1.075  2.163 36.440 \n",
              "\n",
              "Coefficients:\n",
              "            Estimate Std. Error t value Pr(>|t|)    \n",
              "(Intercept)  4.63577    1.16440   3.981 7.81e-05 ***\n",
              "AGE          0.07670    0.01865   4.114 4.52e-05 ***\n",
              "RACEOther    0.55150    1.15064   0.479   0.6319    \n",
              "RACEWhite    1.81316    1.00065   1.812   0.0706 .  \n",
              "---\n",
              "Signif. codes:  0 ‘***’ 0.001 ‘**’ 0.01 ‘*’ 0.05 ‘.’ 0.1 ‘ ’ 1\n",
              "\n",
              "Residual standard error: 5.042 on 530 degrees of freedom\n",
              "Multiple R-squared:  0.04283,\tAdjusted R-squared:  0.03741 \n",
              "F-statistic: 7.904 on 3 and 530 DF,  p-value: 3.635e-05\n"
            ]
          },
          "metadata": {}
        }
      ]
    },
    {
      "cell_type": "code",
      "source": [],
      "metadata": {
        "id": "UejYukpftrdE"
      },
      "execution_count": null,
      "outputs": []
    },
    {
      "cell_type": "code",
      "source": [],
      "metadata": {
        "id": "-Qw59aAdtrZd"
      },
      "execution_count": null,
      "outputs": []
    },
    {
      "cell_type": "code",
      "source": [],
      "metadata": {
        "id": "g5AYD8PMtrWG"
      },
      "execution_count": null,
      "outputs": []
    },
    {
      "cell_type": "code",
      "source": [],
      "metadata": {
        "id": "v5n50cyHtrQ4"
      },
      "execution_count": null,
      "outputs": []
    },
    {
      "cell_type": "markdown",
      "source": [
        "### Employee Wages"
      ],
      "metadata": {
        "id": "3oYlHNp5gnjc"
      }
    },
    {
      "cell_type": "code",
      "source": [
        "employees <- read_csv('employee_salaries.csv')\n",
        "head(employees, 3)"
      ],
      "metadata": {
        "colab": {
          "base_uri": "https://localhost:8080/",
          "height": 652
        },
        "id": "rIEjwb_sgnPR",
        "outputId": "8ab95ca8-b3d3-43b7-872d-d82e48906409"
      },
      "execution_count": null,
      "outputs": [
        {
          "output_type": "stream",
          "name": "stderr",
          "text": [
            "\u001b[1m\u001b[22mNew names:\n",
            "\u001b[36m•\u001b[39m `` -> `...1`\n",
            "\u001b[1mRows: \u001b[22m\u001b[34m9228\u001b[39m \u001b[1mColumns: \u001b[22m\u001b[34m14\u001b[39m\n",
            "\u001b[36m──\u001b[39m \u001b[1mColumn specification\u001b[22m \u001b[36m────────────────────────────────────────────────────────\u001b[39m\n",
            "\u001b[1mDelimiter:\u001b[22m \",\"\n",
            "\u001b[31mchr\u001b[39m (9): full_name, gender, department, department_name, division, assignmen...\n",
            "\u001b[32mdbl\u001b[39m (5): ...1, current_annual_salary, 2016_gross_pay_received, 2016_overtime...\n",
            "\n",
            "\u001b[36mℹ\u001b[39m Use `spec()` to retrieve the full column specification for this data.\n",
            "\u001b[36mℹ\u001b[39m Specify the column types or set `show_col_types = FALSE` to quiet this message.\n"
          ]
        },
        {
          "output_type": "display_data",
          "data": {
            "text/html": [
              "<table class=\"dataframe\">\n",
              "<caption>A tibble: 3 × 14</caption>\n",
              "<thead>\n",
              "\t<tr><th scope=col>...1</th><th scope=col>full_name</th><th scope=col>gender</th><th scope=col>current_annual_salary</th><th scope=col>2016_gross_pay_received</th><th scope=col>2016_overtime_pay</th><th scope=col>department</th><th scope=col>department_name</th><th scope=col>division</th><th scope=col>assignment_category</th><th scope=col>employee_position_title</th><th scope=col>underfilled_job_title</th><th scope=col>date_first_hired</th><th scope=col>year_first_hired</th></tr>\n",
              "\t<tr><th scope=col>&lt;dbl&gt;</th><th scope=col>&lt;chr&gt;</th><th scope=col>&lt;chr&gt;</th><th scope=col>&lt;dbl&gt;</th><th scope=col>&lt;dbl&gt;</th><th scope=col>&lt;dbl&gt;</th><th scope=col>&lt;chr&gt;</th><th scope=col>&lt;chr&gt;</th><th scope=col>&lt;chr&gt;</th><th scope=col>&lt;chr&gt;</th><th scope=col>&lt;chr&gt;</th><th scope=col>&lt;chr&gt;</th><th scope=col>&lt;chr&gt;</th><th scope=col>&lt;dbl&gt;</th></tr>\n",
              "</thead>\n",
              "<tbody>\n",
              "\t<tr><td>0</td><td>Aarhus, Pam J.  </td><td>F</td><td> 69222.18</td><td> 71225.98</td><td> 416.10</td><td>POL</td><td>Department of Police                   </td><td>MSB Information Mgmt and Tech Division Records Management Section</td><td>Fulltime-Regular</td><td>Office Services Coordinator</td><td>NA</td><td>09/22/1986</td><td>1986</td></tr>\n",
              "\t<tr><td>1</td><td>Aaron, David J. </td><td>M</td><td> 97392.47</td><td>103088.48</td><td>3326.19</td><td>POL</td><td>Department of Police                   </td><td>ISB Major Crimes Division Fugitive Section                       </td><td>Fulltime-Regular</td><td>Master Police Officer      </td><td>NA</td><td>09/12/1988</td><td>1988</td></tr>\n",
              "\t<tr><td>2</td><td>Aaron, Marsha M.</td><td>F</td><td>104717.28</td><td>107000.24</td><td>1353.32</td><td>HHS</td><td>Department of Health and Human Services</td><td>Adult Protective and Case Management Services                    </td><td>Fulltime-Regular</td><td>Social Worker IV           </td><td>NA</td><td>11/19/1989</td><td>1989</td></tr>\n",
              "</tbody>\n",
              "</table>\n"
            ],
            "text/markdown": "\nA tibble: 3 × 14\n\n| ...1 &lt;dbl&gt; | full_name &lt;chr&gt; | gender &lt;chr&gt; | current_annual_salary &lt;dbl&gt; | 2016_gross_pay_received &lt;dbl&gt; | 2016_overtime_pay &lt;dbl&gt; | department &lt;chr&gt; | department_name &lt;chr&gt; | division &lt;chr&gt; | assignment_category &lt;chr&gt; | employee_position_title &lt;chr&gt; | underfilled_job_title &lt;chr&gt; | date_first_hired &lt;chr&gt; | year_first_hired &lt;dbl&gt; |\n|---|---|---|---|---|---|---|---|---|---|---|---|---|---|\n| 0 | Aarhus, Pam J.   | F |  69222.18 |  71225.98 |  416.10 | POL | Department of Police                    | MSB Information Mgmt and Tech Division Records Management Section | Fulltime-Regular | Office Services Coordinator | NA | 09/22/1986 | 1986 |\n| 1 | Aaron, David J.  | M |  97392.47 | 103088.48 | 3326.19 | POL | Department of Police                    | ISB Major Crimes Division Fugitive Section                        | Fulltime-Regular | Master Police Officer       | NA | 09/12/1988 | 1988 |\n| 2 | Aaron, Marsha M. | F | 104717.28 | 107000.24 | 1353.32 | HHS | Department of Health and Human Services | Adult Protective and Case Management Services                     | Fulltime-Regular | Social Worker IV            | NA | 11/19/1989 | 1989 |\n\n",
            "text/latex": "A tibble: 3 × 14\n\\begin{tabular}{llllllllllllll}\n ...1 & full\\_name & gender & current\\_annual\\_salary & 2016\\_gross\\_pay\\_received & 2016\\_overtime\\_pay & department & department\\_name & division & assignment\\_category & employee\\_position\\_title & underfilled\\_job\\_title & date\\_first\\_hired & year\\_first\\_hired\\\\\n <dbl> & <chr> & <chr> & <dbl> & <dbl> & <dbl> & <chr> & <chr> & <chr> & <chr> & <chr> & <chr> & <chr> & <dbl>\\\\\n\\hline\n\t 0 & Aarhus, Pam J.   & F &  69222.18 &  71225.98 &  416.10 & POL & Department of Police                    & MSB Information Mgmt and Tech Division Records Management Section & Fulltime-Regular & Office Services Coordinator & NA & 09/22/1986 & 1986\\\\\n\t 1 & Aaron, David J.  & M &  97392.47 & 103088.48 & 3326.19 & POL & Department of Police                    & ISB Major Crimes Division Fugitive Section                        & Fulltime-Regular & Master Police Officer       & NA & 09/12/1988 & 1988\\\\\n\t 2 & Aaron, Marsha M. & F & 104717.28 & 107000.24 & 1353.32 & HHS & Department of Health and Human Services & Adult Protective and Case Management Services                     & Fulltime-Regular & Social Worker IV            & NA & 11/19/1989 & 1989\\\\\n\\end{tabular}\n",
            "text/plain": [
              "  ...1 full_name        gender current_annual_salary 2016_gross_pay_received\n",
              "1 0    Aarhus, Pam J.   F       69222.18              71225.98              \n",
              "2 1    Aaron, David J.  M       97392.47             103088.48              \n",
              "3 2    Aaron, Marsha M. F      104717.28             107000.24              \n",
              "  2016_overtime_pay department department_name                        \n",
              "1  416.10           POL        Department of Police                   \n",
              "2 3326.19           POL        Department of Police                   \n",
              "3 1353.32           HHS        Department of Health and Human Services\n",
              "  division                                                         \n",
              "1 MSB Information Mgmt and Tech Division Records Management Section\n",
              "2 ISB Major Crimes Division Fugitive Section                       \n",
              "3 Adult Protective and Case Management Services                    \n",
              "  assignment_category employee_position_title     underfilled_job_title\n",
              "1 Fulltime-Regular    Office Services Coordinator NA                   \n",
              "2 Fulltime-Regular    Master Police Officer       NA                   \n",
              "3 Fulltime-Regular    Social Worker IV            NA                   \n",
              "  date_first_hired year_first_hired\n",
              "1 09/22/1986       1986            \n",
              "2 09/12/1988       1988            \n",
              "3 11/19/1989       1989            "
            ]
          },
          "metadata": {}
        }
      ]
    },
    {
      "cell_type": "code",
      "source": [
        "sum(is.na(employees$gender))"
      ],
      "metadata": {
        "colab": {
          "base_uri": "https://localhost:8080/",
          "height": 34
        },
        "id": "8IkesCCGgnNO",
        "outputId": "0600a496-9820-4315-d457-576e8165c390"
      },
      "execution_count": null,
      "outputs": [
        {
          "output_type": "display_data",
          "data": {
            "text/html": [
              "17"
            ],
            "text/markdown": "17",
            "text/latex": "17",
            "text/plain": [
              "[1] 17"
            ]
          },
          "metadata": {}
        }
      ]
    },
    {
      "cell_type": "code",
      "source": [
        "?replace_na"
      ],
      "metadata": {
        "id": "5_iDvuWVgnLH"
      },
      "execution_count": null,
      "outputs": []
    },
    {
      "cell_type": "code",
      "source": [
        "employees$gender <- replace_na(employees$gender, 'unknown')"
      ],
      "metadata": {
        "id": "kGCKL-VhgnIj"
      },
      "execution_count": null,
      "outputs": []
    },
    {
      "cell_type": "code",
      "source": [
        "model <- lm(current_annual_salary ~ gender, data = employees)"
      ],
      "metadata": {
        "id": "q5zQzzIUgnGd"
      },
      "execution_count": null,
      "outputs": []
    },
    {
      "cell_type": "code",
      "source": [
        "summary(model)"
      ],
      "metadata": {
        "colab": {
          "base_uri": "https://localhost:8080/",
          "height": 359
        },
        "id": "s4NuerHggrEi",
        "outputId": "adf77748-760f-4a72-fca7-c5228bc62a9f"
      },
      "execution_count": null,
      "outputs": [
        {
          "output_type": "display_data",
          "data": {
            "text/plain": [
              "\n",
              "Call:\n",
              "lm(formula = current_annual_salary ~ gender, data = employees)\n",
              "\n",
              "Residuals:\n",
              "   Min     1Q Median     3Q    Max \n",
              "-63924 -21033  -3622  17686 228020 \n",
              "\n",
              "Coefficients:\n",
              "              Estimate Std. Error t value Pr(>|t|)    \n",
              "(Intercept)    71028.4      475.4 149.395  < 2e-16 ***\n",
              "genderM         4042.4      616.3   6.559 5.72e-11 ***\n",
              "genderunknown -21298.6     7058.5  -3.017  0.00256 ** \n",
              "---\n",
              "Signif. codes:  0 ‘***’ 0.001 ‘**’ 0.01 ‘*’ 0.05 ‘.’ 0.1 ‘ ’ 1\n",
              "\n",
              "Residual standard error: 29040 on 9225 degrees of freedom\n",
              "Multiple R-squared:  0.005854,\tAdjusted R-squared:  0.005639 \n",
              "F-statistic: 27.16 on 2 and 9225 DF,  p-value: 1.731e-12\n"
            ]
          },
          "metadata": {}
        }
      ]
    },
    {
      "cell_type": "code",
      "source": [
        "ggplot(employees, aes(x = current_annual_salary, color = gender)) +\n",
        "  geom_histogram()"
      ],
      "metadata": {
        "colab": {
          "base_uri": "https://localhost:8080/",
          "height": 455
        },
        "id": "6oRujOf4grAS",
        "outputId": "39090900-51da-4679-bfcc-71cdf9ea0498"
      },
      "execution_count": null,
      "outputs": [
        {
          "output_type": "stream",
          "name": "stderr",
          "text": [
            "\u001b[1m\u001b[22m`stat_bin()` using `bins = 30`. Pick better value with `binwidth`.\n"
          ]
        },
        {
          "output_type": "display_data",
          "data": {
            "text/plain": [
              "plot without title"
            ],
            "image/png": "[encoded data removed]"
          },
          "metadata": {
            "image/png": {
              "width": 420,
              "height": 420
            }
          }
        }
      ]
    },
    {
      "cell_type": "code",
      "source": [
        "employees %>%\n",
        "  group_by(gender) %>%\n",
        "  summarise(mean(current_annual_salary))"
      ],
      "metadata": {
        "colab": {
          "base_uri": "https://localhost:8080/",
          "height": 192
        },
        "id": "2SW1B9pk6CkA",
        "outputId": "c9b56daa-ea56-46b1-bd93-1cbd72d5bb16"
      },
      "execution_count": null,
      "outputs": [
        {
          "output_type": "display_data",
          "data": {
            "text/html": [
              "<table class=\"dataframe\">\n",
              "<caption>A tibble: 3 × 2</caption>\n",
              "<thead>\n",
              "\t<tr><th scope=col>gender</th><th scope=col>mean(current_annual_salary)</th></tr>\n",
              "\t<tr><th scope=col>&lt;chr&gt;</th><th scope=col>&lt;dbl&gt;</th></tr>\n",
              "</thead>\n",
              "<tbody>\n",
              "\t<tr><td>F      </td><td>71028.44</td></tr>\n",
              "\t<tr><td>M      </td><td>75070.80</td></tr>\n",
              "\t<tr><td>unknown</td><td>49729.82</td></tr>\n",
              "</tbody>\n",
              "</table>\n"
            ],
            "text/markdown": "\nA tibble: 3 × 2\n\n| gender &lt;chr&gt; | mean(current_annual_salary) &lt;dbl&gt; |\n|---|---|\n| F       | 71028.44 |\n| M       | 75070.80 |\n| unknown | 49729.82 |\n\n",
            "text/latex": "A tibble: 3 × 2\n\\begin{tabular}{ll}\n gender & mean(current\\_annual\\_salary)\\\\\n <chr> & <dbl>\\\\\n\\hline\n\t F       & 71028.44\\\\\n\t M       & 75070.80\\\\\n\t unknown & 49729.82\\\\\n\\end{tabular}\n",
            "text/plain": [
              "  gender  mean(current_annual_salary)\n",
              "1 F       71028.44                   \n",
              "2 M       75070.80                   \n",
              "3 unknown 49729.82                   "
            ]
          },
          "metadata": {}
        }
      ]
    },
    {
      "cell_type": "code",
      "source": [
        "filter(employees, gender == 'unknown')"
      ],
      "metadata": {
        "colab": {
          "base_uri": "https://localhost:8080/",
          "height": 1000
        },
        "id": "i2Mh2Z4y6Cfw",
        "outputId": "6830e64e-f241-48bf-b4ed-d0abd45b8c62"
      },
      "execution_count": null,
      "outputs": [
        {
          "output_type": "display_data",
          "data": {
            "text/html": [
              "<table class=\"dataframe\">\n",
              "<caption>A spec_tbl_df: 17 × 14</caption>\n",
              "<thead>\n",
              "\t<tr><th scope=col>...1</th><th scope=col>full_name</th><th scope=col>gender</th><th scope=col>current_annual_salary</th><th scope=col>2016_gross_pay_received</th><th scope=col>2016_overtime_pay</th><th scope=col>department</th><th scope=col>department_name</th><th scope=col>division</th><th scope=col>assignment_category</th><th scope=col>employee_position_title</th><th scope=col>underfilled_job_title</th><th scope=col>date_first_hired</th><th scope=col>year_first_hired</th></tr>\n",
              "\t<tr><th scope=col>&lt;dbl&gt;</th><th scope=col>&lt;chr&gt;</th><th scope=col>&lt;chr&gt;</th><th scope=col>&lt;dbl&gt;</th><th scope=col>&lt;dbl&gt;</th><th scope=col>&lt;dbl&gt;</th><th scope=col>&lt;chr&gt;</th><th scope=col>&lt;chr&gt;</th><th scope=col>&lt;chr&gt;</th><th scope=col>&lt;chr&gt;</th><th scope=col>&lt;chr&gt;</th><th scope=col>&lt;chr&gt;</th><th scope=col>&lt;chr&gt;</th><th scope=col>&lt;dbl&gt;</th></tr>\n",
              "</thead>\n",
              "<tbody>\n",
              "\t<tr><td>  23</td><td>Abraham, Teanna M.        </td><td>unknown</td><td>58000</td><td>      NA</td><td>      NA</td><td>REC</td><td>Department of Recreation               </td><td>Neighborhood Senior Centers - Northern                </td><td>Fulltime-Regular</td><td>Recreation Specialist                      </td><td>NA                                       </td><td>12/27/2016</td><td>2016</td></tr>\n",
              "\t<tr><td>2043</td><td>Delos Reyes, Edwin John J.</td><td>unknown</td><td>42000</td><td>      NA</td><td>      NA</td><td>DGS</td><td>Department of General Services         </td><td>Central Duplicating                                   </td><td>Fulltime-Regular</td><td>Printing Technician III                    </td><td>Printing Technician I                    </td><td>12/27/2016</td><td>2016</td></tr>\n",
              "\t<tr><td>2322</td><td>Dunkes, Christopher B.    </td><td>unknown</td><td>53788</td><td>33038.59</td><td> 3042.66</td><td>POL</td><td>Department of Police                   </td><td>PSB 2nd District Patrol                               </td><td>Fulltime-Regular</td><td>Police Officer III                         </td><td>Police Officer I                         </td><td>02/24/2014</td><td>2014</td></tr>\n",
              "\t<tr><td>4283</td><td>Jones, Jacqueline A.      </td><td>unknown</td><td>44175</td><td>      NA</td><td>      NA</td><td>HHS</td><td>Department of Health and Human Services</td><td>Infants and Toddlers                                  </td><td>Fulltime-Regular</td><td>Program Aide                               </td><td>NA                                       </td><td>12/27/2016</td><td>2016</td></tr>\n",
              "\t<tr><td>4666</td><td>Kranking, Stephen N.      </td><td>unknown</td><td>39257</td><td>      NA</td><td>      NA</td><td>POL</td><td>Department of Police                   </td><td>MSB Communications Division                           </td><td>Fulltime-Regular</td><td>Public Safety Communications Specialist III</td><td>Public Safety Communications Specialist I</td><td>12/27/2016</td><td>2016</td></tr>\n",
              "\t<tr><td>4886</td><td>Lee, Robert S.            </td><td>unknown</td><td>86225</td><td>      NA</td><td>      NA</td><td>DOT</td><td>Department of Transportation           </td><td>Traffic Engineering and Operations Management Services</td><td>Fulltime-Regular</td><td>Information Technology Specialist III      </td><td>NA                                       </td><td>12/27/2016</td><td>2016</td></tr>\n",
              "\t<tr><td>5352</td><td>Martinez, Pahola S.       </td><td>unknown</td><td>23920</td><td>      NA</td><td>      NA</td><td>CUS</td><td>Community Use of Public Facilities     </td><td>Community Use of Public Facilities                    </td><td>Parttime-Regular</td><td>Principal Administrative Aide              </td><td>NA                                       </td><td>12/27/2016</td><td>2016</td></tr>\n",
              "\t<tr><td>5373</td><td>Martins, Diana S.         </td><td>unknown</td><td>57230</td><td>      NA</td><td>      NA</td><td>HHS</td><td>Department of Health and Human Services</td><td>Emergency Housing Assistance                          </td><td>Fulltime-Regular</td><td>Social Worker II                           </td><td>NA                                       </td><td>12/27/2016</td><td>2016</td></tr>\n",
              "\t<tr><td>6497</td><td>Patterson, D'Tanyon L.    </td><td>unknown</td><td>56733</td><td>38407.14</td><td> 4364.51</td><td>COR</td><td>Correction and Rehabilitation          </td><td>DS MCCF Unit 1 Security                               </td><td>Fulltime-Regular</td><td>Correctional Officer III (Corporal)        </td><td>NA                                       </td><td>08/26/2013</td><td>2013</td></tr>\n",
              "\t<tr><td>7425</td><td>Sanusi, Omotunde R.       </td><td>unknown</td><td>65105</td><td>41346.23</td><td>12123.62</td><td>COR</td><td>Correction and Rehabilitation          </td><td>DS MCDC Custody and Security                          </td><td>Fulltime-Regular</td><td>Correctional Officer III (Corporal)        </td><td>NA                                       </td><td>04/17/2006</td><td>2006</td></tr>\n",
              "\t<tr><td>8108</td><td>Sullivan, Eric V.         </td><td>unknown</td><td>39257</td><td>      NA</td><td>      NA</td><td>POL</td><td>Department of Police                   </td><td>MSB Communications Division                           </td><td>Fulltime-Regular</td><td>Public Safety Communications Specialist III</td><td>Public Safety Communications Specialist I</td><td>12/27/2016</td><td>2016</td></tr>\n",
              "\t<tr><td>8333</td><td>Timm, Alexander J.        </td><td>unknown</td><td>39257</td><td>      NA</td><td>      NA</td><td>POL</td><td>Department of Police                   </td><td>MSB Communications Division                           </td><td>Fulltime-Regular</td><td>Public Safety Communications Specialist III</td><td>Public Safety Communications Specialist I</td><td>12/27/2016</td><td>2016</td></tr>\n",
              "\t<tr><td>8480</td><td>Tyre, Iasia A.            </td><td>unknown</td><td>74000</td><td>      NA</td><td>      NA</td><td>HHS</td><td>Department of Health and Human Services</td><td>Child Welfare Services                                </td><td>Fulltime-Regular</td><td>Social Worker II                           </td><td>NA                                       </td><td>12/27/2016</td><td>2016</td></tr>\n",
              "\t<tr><td>8487</td><td>Umanzor-Lopez, Jessica E. </td><td>unknown</td><td>41900</td><td>      NA</td><td>      NA</td><td>HHS</td><td>Department of Health and Human Services</td><td>Infants and Toddlers                                  </td><td>Fulltime-Regular</td><td>Program Aide                               </td><td>NA                                       </td><td>12/27/2016</td><td>2016</td></tr>\n",
              "\t<tr><td>8808</td><td>Wells, Brenda R.          </td><td>unknown</td><td>41200</td><td>      NA</td><td>      NA</td><td>HHS</td><td>Department of Health and Human Services</td><td>Infants and Toddlers                                  </td><td>Fulltime-Regular</td><td>Program Aide                               </td><td>NA                                       </td><td>12/27/2016</td><td>2016</td></tr>\n",
              "\t<tr><td>8965</td><td>Willis, Naketa E.         </td><td>unknown</td><td>42425</td><td>      NA</td><td>      NA</td><td>HHS</td><td>Department of Health and Human Services</td><td>Infants and Toddlers                                  </td><td>Fulltime-Regular</td><td>Program Aide                               </td><td>NA                                       </td><td>12/27/2016</td><td>2016</td></tr>\n",
              "\t<tr><td>9098</td><td>Yaftali, Sarah            </td><td>unknown</td><td>40935</td><td>      NA</td><td>      NA</td><td>HHS</td><td>Department of Health and Human Services</td><td>Planning, Accountability and Customer Service         </td><td>Fulltime-Regular</td><td>Office Services Coordinator                </td><td>NA                                       </td><td>12/27/2016</td><td>2016</td></tr>\n",
              "</tbody>\n",
              "</table>\n"
            ],
            "text/markdown": "\nA spec_tbl_df: 17 × 14\n\n| ...1 &lt;dbl&gt; | full_name &lt;chr&gt; | gender &lt;chr&gt; | current_annual_salary &lt;dbl&gt; | 2016_gross_pay_received &lt;dbl&gt; | 2016_overtime_pay &lt;dbl&gt; | department &lt;chr&gt; | department_name &lt;chr&gt; | division &lt;chr&gt; | assignment_category &lt;chr&gt; | employee_position_title &lt;chr&gt; | underfilled_job_title &lt;chr&gt; | date_first_hired &lt;chr&gt; | year_first_hired &lt;dbl&gt; |\n|---|---|---|---|---|---|---|---|---|---|---|---|---|---|\n|   23 | Abraham, Teanna M.         | unknown | 58000 |       NA |       NA | REC | Department of Recreation                | Neighborhood Senior Centers - Northern                 | Fulltime-Regular | Recreation Specialist                       | NA                                        | 12/27/2016 | 2016 |\n| 2043 | Delos Reyes, Edwin John J. | unknown | 42000 |       NA |       NA | DGS | Department of General Services          | Central Duplicating                                    | Fulltime-Regular | Printing Technician III                     | Printing Technician I                     | 12/27/2016 | 2016 |\n| 2322 | Dunkes, Christopher B.     | unknown | 53788 | 33038.59 |  3042.66 | POL | Department of Police                    | PSB 2nd District Patrol                                | Fulltime-Regular | Police Officer III                          | Police Officer I                          | 02/24/2014 | 2014 |\n| 4283 | Jones, Jacqueline A.       | unknown | 44175 |       NA |       NA | HHS | Department of Health and Human Services | Infants and Toddlers                                   | Fulltime-Regular | Program Aide                                | NA                                        | 12/27/2016 | 2016 |\n| 4666 | Kranking, Stephen N.       | unknown | 39257 |       NA |       NA | POL | Department of Police                    | MSB Communications Division                            | Fulltime-Regular | Public Safety Communications Specialist III | Public Safety Communications Specialist I | 12/27/2016 | 2016 |\n| 4886 | Lee, Robert S.             | unknown | 86225 |       NA |       NA | DOT | Department of Transportation            | Traffic Engineering and Operations Management Services | Fulltime-Regular | Information Technology Specialist III       | NA                                        | 12/27/2016 | 2016 |\n| 5352 | Martinez, Pahola S.        | unknown | 23920 |       NA |       NA | CUS | Community Use of Public Facilities      | Community Use of Public Facilities                     | Parttime-Regular | Principal Administrative Aide               | NA                                        | 12/27/2016 | 2016 |\n| 5373 | Martins, Diana S.          | unknown | 57230 |       NA |       NA | HHS | Department of Health and Human Services | Emergency Housing Assistance                           | Fulltime-Regular | Social Worker II                            | NA                                        | 12/27/2016 | 2016 |\n| 6497 | Patterson, D'Tanyon L.     | unknown | 56733 | 38407.14 |  4364.51 | COR | Correction and Rehabilitation           | DS MCCF Unit 1 Security                                | Fulltime-Regular | Correctional Officer III (Corporal)         | NA                                        | 08/26/2013 | 2013 |\n| 7425 | Sanusi, Omotunde R.        | unknown | 65105 | 41346.23 | 12123.62 | COR | Correction and Rehabilitation           | DS MCDC Custody and Security                           | Fulltime-Regular | Correctional Officer III (Corporal)         | NA                                        | 04/17/2006 | 2006 |\n| 8108 | Sullivan, Eric V.          | unknown | 39257 |       NA |       NA | POL | Department of Police                    | MSB Communications Division                            | Fulltime-Regular | Public Safety Communications Specialist III | Public Safety Communications Specialist I | 12/27/2016 | 2016 |\n| 8333 | Timm, Alexander J.         | unknown | 39257 |       NA |       NA | POL | Department of Police                    | MSB Communications Division                            | Fulltime-Regular | Public Safety Communications Specialist III | Public Safety Communications Specialist I | 12/27/2016 | 2016 |\n| 8480 | Tyre, Iasia A.             | unknown | 74000 |       NA |       NA | HHS | Department of Health and Human Services | Child Welfare Services                                 | Fulltime-Regular | Social Worker II                            | NA                                        | 12/27/2016 | 2016 |\n| 8487 | Umanzor-Lopez, Jessica E.  | unknown | 41900 |       NA |       NA | HHS | Department of Health and Human Services | Infants and Toddlers                                   | Fulltime-Regular | Program Aide                                | NA                                        | 12/27/2016 | 2016 |\n| 8808 | Wells, Brenda R.           | unknown | 41200 |       NA |       NA | HHS | Department of Health and Human Services | Infants and Toddlers                                   | Fulltime-Regular | Program Aide                                | NA                                        | 12/27/2016 | 2016 |\n| 8965 | Willis, Naketa E.          | unknown | 42425 |       NA |       NA | HHS | Department of Health and Human Services | Infants and Toddlers                                   | Fulltime-Regular | Program Aide                                | NA                                        | 12/27/2016 | 2016 |\n| 9098 | Yaftali, Sarah             | unknown | 40935 |       NA |       NA | HHS | Department of Health and Human Services | Planning, Accountability and Customer Service          | Fulltime-Regular | Office Services Coordinator                 | NA                                        | 12/27/2016 | 2016 |\n\n",
            "text/latex": "A spec\\_tbl\\_df: 17 × 14\n\\begin{tabular}{llllllllllllll}\n ...1 & full\\_name & gender & current\\_annual\\_salary & 2016\\_gross\\_pay\\_received & 2016\\_overtime\\_pay & department & department\\_name & division & assignment\\_category & employee\\_position\\_title & underfilled\\_job\\_title & date\\_first\\_hired & year\\_first\\_hired\\\\\n <dbl> & <chr> & <chr> & <dbl> & <dbl> & <dbl> & <chr> & <chr> & <chr> & <chr> & <chr> & <chr> & <chr> & <dbl>\\\\\n\\hline\n\t   23 & Abraham, Teanna M.         & unknown & 58000 &       NA &       NA & REC & Department of Recreation                & Neighborhood Senior Centers - Northern                 & Fulltime-Regular & Recreation Specialist                       & NA                                        & 12/27/2016 & 2016\\\\\n\t 2043 & Delos Reyes, Edwin John J. & unknown & 42000 &       NA &       NA & DGS & Department of General Services          & Central Duplicating                                    & Fulltime-Regular & Printing Technician III                     & Printing Technician I                     & 12/27/2016 & 2016\\\\\n\t 2322 & Dunkes, Christopher B.     & unknown & 53788 & 33038.59 &  3042.66 & POL & Department of Police                    & PSB 2nd District Patrol                                & Fulltime-Regular & Police Officer III                          & Police Officer I                          & 02/24/2014 & 2014\\\\\n\t 4283 & Jones, Jacqueline A.       & unknown & 44175 &       NA &       NA & HHS & Department of Health and Human Services & Infants and Toddlers                                   & Fulltime-Regular & Program Aide                                & NA                                        & 12/27/2016 & 2016\\\\\n\t 4666 & Kranking, Stephen N.       & unknown & 39257 &       NA &       NA & POL & Department of Police                    & MSB Communications Division                            & Fulltime-Regular & Public Safety Communications Specialist III & Public Safety Communications Specialist I & 12/27/2016 & 2016\\\\\n\t 4886 & Lee, Robert S.             & unknown & 86225 &       NA &       NA & DOT & Department of Transportation            & Traffic Engineering and Operations Management Services & Fulltime-Regular & Information Technology Specialist III       & NA                                        & 12/27/2016 & 2016\\\\\n\t 5352 & Martinez, Pahola S.        & unknown & 23920 &       NA &       NA & CUS & Community Use of Public Facilities      & Community Use of Public Facilities                     & Parttime-Regular & Principal Administrative Aide               & NA                                        & 12/27/2016 & 2016\\\\\n\t 5373 & Martins, Diana S.          & unknown & 57230 &       NA &       NA & HHS & Department of Health and Human Services & Emergency Housing Assistance                           & Fulltime-Regular & Social Worker II                            & NA                                        & 12/27/2016 & 2016\\\\\n\t 6497 & Patterson, D'Tanyon L.     & unknown & 56733 & 38407.14 &  4364.51 & COR & Correction and Rehabilitation           & DS MCCF Unit 1 Security                                & Fulltime-Regular & Correctional Officer III (Corporal)         & NA                                        & 08/26/2013 & 2013\\\\\n\t 7425 & Sanusi, Omotunde R.        & unknown & 65105 & 41346.23 & 12123.62 & COR & Correction and Rehabilitation           & DS MCDC Custody and Security                           & Fulltime-Regular & Correctional Officer III (Corporal)         & NA                                        & 04/17/2006 & 2006\\\\\n\t 8108 & Sullivan, Eric V.          & unknown & 39257 &       NA &       NA & POL & Department of Police                    & MSB Communications Division                            & Fulltime-Regular & Public Safety Communications Specialist III & Public Safety Communications Specialist I & 12/27/2016 & 2016\\\\\n\t 8333 & Timm, Alexander J.         & unknown & 39257 &       NA &       NA & POL & Department of Police                    & MSB Communications Division                            & Fulltime-Regular & Public Safety Communications Specialist III & Public Safety Communications Specialist I & 12/27/2016 & 2016\\\\\n\t 8480 & Tyre, Iasia A.             & unknown & 74000 &       NA &       NA & HHS & Department of Health and Human Services & Child Welfare Services                                 & Fulltime-Regular & Social Worker II                            & NA                                        & 12/27/2016 & 2016\\\\\n\t 8487 & Umanzor-Lopez, Jessica E.  & unknown & 41900 &       NA &       NA & HHS & Department of Health and Human Services & Infants and Toddlers                                   & Fulltime-Regular & Program Aide                                & NA                                        & 12/27/2016 & 2016\\\\\n\t 8808 & Wells, Brenda R.           & unknown & 41200 &       NA &       NA & HHS & Department of Health and Human Services & Infants and Toddlers                                   & Fulltime-Regular & Program Aide                                & NA                                        & 12/27/2016 & 2016\\\\\n\t 8965 & Willis, Naketa E.          & unknown & 42425 &       NA &       NA & HHS & Department of Health and Human Services & Infants and Toddlers                                   & Fulltime-Regular & Program Aide                                & NA                                        & 12/27/2016 & 2016\\\\\n\t 9098 & Yaftali, Sarah             & unknown & 40935 &       NA &       NA & HHS & Department of Health and Human Services & Planning, Accountability and Customer Service          & Fulltime-Regular & Office Services Coordinator                 & NA                                        & 12/27/2016 & 2016\\\\\n\\end{tabular}\n",
            "text/plain": [
              "   ...1 full_name                  gender  current_annual_salary\n",
              "1    23 Abraham, Teanna M.         unknown 58000                \n",
              "2  2043 Delos Reyes, Edwin John J. unknown 42000                \n",
              "3  2322 Dunkes, Christopher B.     unknown 53788                \n",
              "4  4283 Jones, Jacqueline A.       unknown 44175                \n",
              "5  4666 Kranking, Stephen N.       unknown 39257                \n",
              "6  4886 Lee, Robert S.             unknown 86225                \n",
              "7  5352 Martinez, Pahola S.        unknown 23920                \n",
              "8  5373 Martins, Diana S.          unknown 57230                \n",
              "9  6497 Patterson, D'Tanyon L.     unknown 56733                \n",
              "10 7425 Sanusi, Omotunde R.        unknown 65105                \n",
              "11 8108 Sullivan, Eric V.          unknown 39257                \n",
              "12 8333 Timm, Alexander J.         unknown 39257                \n",
              "13 8480 Tyre, Iasia A.             unknown 74000                \n",
              "14 8487 Umanzor-Lopez, Jessica E.  unknown 41900                \n",
              "15 8808 Wells, Brenda R.           unknown 41200                \n",
              "16 8965 Willis, Naketa E.          unknown 42425                \n",
              "17 9098 Yaftali, Sarah             unknown 40935                \n",
              "   2016_gross_pay_received 2016_overtime_pay department\n",
              "1        NA                      NA          REC       \n",
              "2        NA                      NA          DGS       \n",
              "3  33038.59                 3042.66          POL       \n",
              "4        NA                      NA          HHS       \n",
              "5        NA                      NA          POL       \n",
              "6        NA                      NA          DOT       \n",
              "7        NA                      NA          CUS       \n",
              "8        NA                      NA          HHS       \n",
              "9  38407.14                 4364.51          COR       \n",
              "10 41346.23                12123.62          COR       \n",
              "11       NA                      NA          POL       \n",
              "12       NA                      NA          POL       \n",
              "13       NA                      NA          HHS       \n",
              "14       NA                      NA          HHS       \n",
              "15       NA                      NA          HHS       \n",
              "16       NA                      NA          HHS       \n",
              "17       NA                      NA          HHS       \n",
              "   department_name                        \n",
              "1  Department of Recreation               \n",
              "2  Department of General Services         \n",
              "3  Department of Police                   \n",
              "4  Department of Health and Human Services\n",
              "5  Department of Police                   \n",
              "6  Department of Transportation           \n",
              "7  Community Use of Public Facilities     \n",
              "8  Department of Health and Human Services\n",
              "9  Correction and Rehabilitation          \n",
              "10 Correction and Rehabilitation          \n",
              "11 Department of Police                   \n",
              "12 Department of Police                   \n",
              "13 Department of Health and Human Services\n",
              "14 Department of Health and Human Services\n",
              "15 Department of Health and Human Services\n",
              "16 Department of Health and Human Services\n",
              "17 Department of Health and Human Services\n",
              "   division                                               assignment_category\n",
              "1  Neighborhood Senior Centers - Northern                 Fulltime-Regular   \n",
              "2  Central Duplicating                                    Fulltime-Regular   \n",
              "3  PSB 2nd District Patrol                                Fulltime-Regular   \n",
              "4  Infants and Toddlers                                   Fulltime-Regular   \n",
              "5  MSB Communications Division                            Fulltime-Regular   \n",
              "6  Traffic Engineering and Operations Management Services Fulltime-Regular   \n",
              "7  Community Use of Public Facilities                     Parttime-Regular   \n",
              "8  Emergency Housing Assistance                           Fulltime-Regular   \n",
              "9  DS MCCF Unit 1 Security                                Fulltime-Regular   \n",
              "10 DS MCDC Custody and Security                           Fulltime-Regular   \n",
              "11 MSB Communications Division                            Fulltime-Regular   \n",
              "12 MSB Communications Division                            Fulltime-Regular   \n",
              "13 Child Welfare Services                                 Fulltime-Regular   \n",
              "14 Infants and Toddlers                                   Fulltime-Regular   \n",
              "15 Infants and Toddlers                                   Fulltime-Regular   \n",
              "16 Infants and Toddlers                                   Fulltime-Regular   \n",
              "17 Planning, Accountability and Customer Service          Fulltime-Regular   \n",
              "   employee_position_title                    \n",
              "1  Recreation Specialist                      \n",
              "2  Printing Technician III                    \n",
              "3  Police Officer III                         \n",
              "4  Program Aide                               \n",
              "5  Public Safety Communications Specialist III\n",
              "6  Information Technology Specialist III      \n",
              "7  Principal Administrative Aide              \n",
              "8  Social Worker II                           \n",
              "9  Correctional Officer III (Corporal)        \n",
              "10 Correctional Officer III (Corporal)        \n",
              "11 Public Safety Communications Specialist III\n",
              "12 Public Safety Communications Specialist III\n",
              "13 Social Worker II                           \n",
              "14 Program Aide                               \n",
              "15 Program Aide                               \n",
              "16 Program Aide                               \n",
              "17 Office Services Coordinator                \n",
              "   underfilled_job_title                     date_first_hired year_first_hired\n",
              "1  NA                                        12/27/2016       2016            \n",
              "2  Printing Technician I                     12/27/2016       2016            \n",
              "3  Police Officer I                          02/24/2014       2014            \n",
              "4  NA                                        12/27/2016       2016            \n",
              "5  Public Safety Communications Specialist I 12/27/2016       2016            \n",
              "6  NA                                        12/27/2016       2016            \n",
              "7  NA                                        12/27/2016       2016            \n",
              "8  NA                                        12/27/2016       2016            \n",
              "9  NA                                        08/26/2013       2013            \n",
              "10 NA                                        04/17/2006       2006            \n",
              "11 Public Safety Communications Specialist I 12/27/2016       2016            \n",
              "12 Public Safety Communications Specialist I 12/27/2016       2016            \n",
              "13 NA                                        12/27/2016       2016            \n",
              "14 NA                                        12/27/2016       2016            \n",
              "15 NA                                        12/27/2016       2016            \n",
              "16 NA                                        12/27/2016       2016            \n",
              "17 NA                                        12/27/2016       2016            "
            ]
          },
          "metadata": {}
        }
      ]
    },
    {
      "cell_type": "code",
      "source": [],
      "metadata": {
        "id": "hOJaDB_y6CbV"
      },
      "execution_count": null,
      "outputs": []
    },
    {
      "cell_type": "code",
      "source": [],
      "metadata": {
        "id": "EOc52G-j6CXh"
      },
      "execution_count": null,
      "outputs": []
    },
    {
      "cell_type": "markdown",
      "source": [
        "#### Citizens Wages"
      ],
      "metadata": {
        "id": "i5Wl3xjzgr1C"
      }
    },
    {
      "cell_type": "code",
      "source": [],
      "metadata": {
        "id": "hDs1GkcIgui1"
      },
      "execution_count": null,
      "outputs": []
    },
    {
      "cell_type": "code",
      "source": [],
      "metadata": {
        "id": "5FTZSn9Tgviw"
      },
      "execution_count": null,
      "outputs": []
    },
    {
      "cell_type": "code",
      "source": [],
      "metadata": {
        "id": "Z-3hQX_7gvfn"
      },
      "execution_count": null,
      "outputs": []
    },
    {
      "cell_type": "code",
      "source": [],
      "metadata": {
        "id": "We888Bn1gvcz"
      },
      "execution_count": null,
      "outputs": []
    },
    {
      "cell_type": "code",
      "source": [],
      "metadata": {
        "id": "Wt-munhcgvaJ"
      },
      "execution_count": null,
      "outputs": []
    },
    {
      "cell_type": "code",
      "source": [],
      "metadata": {
        "id": "uWbryZ8pgvXk"
      },
      "execution_count": null,
      "outputs": []
    },
    {
      "cell_type": "code",
      "source": [],
      "metadata": {
        "id": "zdXi3VXxgvUN"
      },
      "execution_count": null,
      "outputs": []
    }
  ]
}