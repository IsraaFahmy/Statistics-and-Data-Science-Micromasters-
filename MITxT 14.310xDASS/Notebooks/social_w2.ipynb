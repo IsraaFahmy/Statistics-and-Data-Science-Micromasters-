{
  "nbformat": 4,
  "nbformat_minor": 0,
  "metadata": {
    "colab": {
      "provenance": [],
      "include_colab_link": true
    },
    "kernelspec": {
      "name": "python3",
      "display_name": "Python 3"
    },
    "language_info": {
      "name": "python"
    }
  },
  "cells": [
    {
      "cell_type": "markdown",
      "metadata": {
        "id": "view-in-github",
        "colab_type": "text"
      },
      "source": [
        "<a href=\"https://colab.research.google.com/github/IsraaFahmy/Statistics-and-Data-Science-Micromasters-/blob/main/MITxT%2014.310xDASS/Notebooks/social_w2.ipynb\" target=\"_parent\"><img src=\"https://colab.research.google.com/assets/colab-badge.svg\" alt=\"Open In Colab\"/></a>"
      ]
    },
    {
      "cell_type": "markdown",
      "source": [
        "#### Getting Web Data\n",
        "\n",
        "**OBJECTIVES**\n",
        "\n",
        "- Use an API to extract data\n",
        "- Use `pandas` to extract tabular data\n",
        "- Use `requests` and `bs4` to scrape data from webpages"
      ],
      "metadata": {
        "id": "UeG9SFY-NCuw"
      }
    },
    {
      "cell_type": "code",
      "source": [
        "import requests\n",
        "from bs4 import BeautifulSoup\n",
        "import pandas as pd\n",
        "import numpy as np\n",
        "import matplotlib.pyplot as plt"
      ],
      "metadata": {
        "id": "ZrpehC9cNall"
      },
      "execution_count": null,
      "outputs": []
    },
    {
      "cell_type": "markdown",
      "source": [
        "#### Tables with `pandas`"
      ],
      "metadata": {
        "id": "0jTgkJiSNkWJ"
      }
    },
    {
      "cell_type": "code",
      "source": [
        "url = 'https://projects.fivethirtyeight.com/soccer-predictions/champions-league/'\n"
      ],
      "metadata": {
        "id": "oS7c1smxNqoR"
      },
      "execution_count": null,
      "outputs": []
    },
    {
      "cell_type": "code",
      "source": [
        "table = pd.read_html(url)"
      ],
      "metadata": {
        "id": "-IpPhq_qNqlZ"
      },
      "execution_count": null,
      "outputs": []
    },
    {
      "cell_type": "code",
      "source": [
        "type(table)"
      ],
      "metadata": {
        "id": "O2ax4GF7NqjC",
        "colab": {
          "base_uri": "https://localhost:8080/"
        },
        "outputId": "21405327-edb1-4b4d-906e-c698dc55a234"
      },
      "execution_count": null,
      "outputs": [
        {
          "output_type": "execute_result",
          "data": {
            "text/plain": [
              "list"
            ]
          },
          "metadata": {},
          "execution_count": 4
        }
      ]
    },
    {
      "cell_type": "code",
      "source": [
        "df = table[0]"
      ],
      "metadata": {
        "id": "46_3MzE-NqgM"
      },
      "execution_count": null,
      "outputs": []
    },
    {
      "cell_type": "code",
      "source": [
        "url2 = 'https://en.wikipedia.org/wiki/List_of_Veronica_Mars_episodes'"
      ],
      "metadata": {
        "id": "7uvQL-NMNp-N"
      },
      "execution_count": null,
      "outputs": []
    },
    {
      "cell_type": "code",
      "source": [
        "vmars = pd.read_html(url2)"
      ],
      "metadata": {
        "id": "aptj7XFnVgJQ"
      },
      "execution_count": null,
      "outputs": []
    },
    {
      "cell_type": "code",
      "source": [
        "vm = vmars[0]\n",
        "vm"
      ],
      "metadata": {
        "colab": {
          "base_uri": "https://localhost:8080/",
          "height": 235
        },
        "id": "hgE4DCYAVmi4",
        "outputId": "ed2ac299-1586-4467-a72b-1b50c4b58719"
      },
      "execution_count": null,
      "outputs": [
        {
          "output_type": "execute_result",
          "data": {
            "text/plain": [
              "  Season Episodes            Originally released                        \n",
              "  Season Episodes Episodes.1      First released   Last released Network\n",
              "0      1       22         22  September 22, 2004    May 10, 2005     UPN\n",
              "1      2       22         22  September 28, 2005     May 9, 2006     UPN\n",
              "2      3       20         20     October 3, 2006    May 22, 2007  The CW\n",
              "3   Film     Film       Film      March 14, 2014  March 14, 2014       —\n",
              "4      4        8          8       July 19, 2019   July 19, 2019    Hulu"
            ],
            "text/html": [
              "\n",
              "  <div id=\"df-441f659a-b6bd-41ea-b608-fb014dccbf20\">\n",
              "    <div class=\"colab-df-container\">\n",
              "      <div>\n",
              "<style scoped>\n",
              "    .dataframe tbody tr th:only-of-type {\n",
              "        vertical-align: middle;\n",
              "    }\n",
              "\n",
              "    .dataframe tbody tr th {\n",
              "        vertical-align: top;\n",
              "    }\n",
              "\n",
              "    .dataframe thead tr th {\n",
              "        text-align: left;\n",
              "    }\n",
              "</style>\n",
              "<table border=\"1\" class=\"dataframe\">\n",
              "  <thead>\n",
              "    <tr>\n",
              "      <th></th>\n",
              "      <th>Season</th>\n",
              "      <th colspan=\"2\" halign=\"left\">Episodes</th>\n",
              "      <th colspan=\"3\" halign=\"left\">Originally released</th>\n",
              "    </tr>\n",
              "    <tr>\n",
              "      <th></th>\n",
              "      <th>Season</th>\n",
              "      <th>Episodes</th>\n",
              "      <th>Episodes.1</th>\n",
              "      <th>First released</th>\n",
              "      <th>Last released</th>\n",
              "      <th>Network</th>\n",
              "    </tr>\n",
              "  </thead>\n",
              "  <tbody>\n",
              "    <tr>\n",
              "      <th>0</th>\n",
              "      <td>1</td>\n",
              "      <td>22</td>\n",
              "      <td>22</td>\n",
              "      <td>September 22, 2004</td>\n",
              "      <td>May 10, 2005</td>\n",
              "      <td>UPN</td>\n",
              "    </tr>\n",
              "    <tr>\n",
              "      <th>1</th>\n",
              "      <td>2</td>\n",
              "      <td>22</td>\n",
              "      <td>22</td>\n",
              "      <td>September 28, 2005</td>\n",
              "      <td>May 9, 2006</td>\n",
              "      <td>UPN</td>\n",
              "    </tr>\n",
              "    <tr>\n",
              "      <th>2</th>\n",
              "      <td>3</td>\n",
              "      <td>20</td>\n",
              "      <td>20</td>\n",
              "      <td>October 3, 2006</td>\n",
              "      <td>May 22, 2007</td>\n",
              "      <td>The CW</td>\n",
              "    </tr>\n",
              "    <tr>\n",
              "      <th>3</th>\n",
              "      <td>Film</td>\n",
              "      <td>Film</td>\n",
              "      <td>Film</td>\n",
              "      <td>March 14, 2014</td>\n",
              "      <td>March 14, 2014</td>\n",
              "      <td>—</td>\n",
              "    </tr>\n",
              "    <tr>\n",
              "      <th>4</th>\n",
              "      <td>4</td>\n",
              "      <td>8</td>\n",
              "      <td>8</td>\n",
              "      <td>July 19, 2019</td>\n",
              "      <td>July 19, 2019</td>\n",
              "      <td>Hulu</td>\n",
              "    </tr>\n",
              "  </tbody>\n",
              "</table>\n",
              "</div>\n",
              "      <button class=\"colab-df-convert\" onclick=\"convertToInteractive('df-441f659a-b6bd-41ea-b608-fb014dccbf20')\"\n",
              "              title=\"Convert this dataframe to an interactive table.\"\n",
              "              style=\"display:none;\">\n",
              "        \n",
              "  <svg xmlns=\"http://www.w3.org/2000/svg\" height=\"24px\"viewBox=\"0 0 24 24\"\n",
              "       width=\"24px\">\n",
              "    <path d=\"M0 0h24v24H0V0z\" fill=\"none\"/>\n",
              "    <path d=\"M18.56 5.44l.94 2.06.94-2.06 2.06-.94-2.06-.94-.94-2.06-.94 2.06-2.06.94zm-11 1L8.5 8.5l.94-2.06 2.06-.94-2.06-.94L8.5 2.5l-.94 2.06-2.06.94zm10 10l.94 2.06.94-2.06 2.06-.94-2.06-.94-.94-2.06-.94 2.06-2.06.94z\"/><path d=\"M17.41 7.96l-1.37-1.37c-.4-.4-.92-.59-1.43-.59-.52 0-1.04.2-1.43.59L10.3 9.45l-7.72 7.72c-.78.78-.78 2.05 0 2.83L4 21.41c.39.39.9.59 1.41.59.51 0 1.02-.2 1.41-.59l7.78-7.78 2.81-2.81c.8-.78.8-2.07 0-2.86zM5.41 20L4 18.59l7.72-7.72 1.47 1.35L5.41 20z\"/>\n",
              "  </svg>\n",
              "      </button>\n",
              "      \n",
              "  <style>\n",
              "    .colab-df-container {\n",
              "      display:flex;\n",
              "      flex-wrap:wrap;\n",
              "      gap: 12px;\n",
              "    }\n",
              "\n",
              "    .colab-df-convert {\n",
              "      background-color: #E8F0FE;\n",
              "      border: none;\n",
              "      border-radius: 50%;\n",
              "      cursor: pointer;\n",
              "      display: none;\n",
              "      fill: #1967D2;\n",
              "      height: 32px;\n",
              "      padding: 0 0 0 0;\n",
              "      width: 32px;\n",
              "    }\n",
              "\n",
              "    .colab-df-convert:hover {\n",
              "      background-color: #E2EBFA;\n",
              "      box-shadow: 0px 1px 2px rgba(60, 64, 67, 0.3), 0px 1px 3px 1px rgba(60, 64, 67, 0.15);\n",
              "      fill: #174EA6;\n",
              "    }\n",
              "\n",
              "    [theme=dark] .colab-df-convert {\n",
              "      background-color: #3B4455;\n",
              "      fill: #D2E3FC;\n",
              "    }\n",
              "\n",
              "    [theme=dark] .colab-df-convert:hover {\n",
              "      background-color: #434B5C;\n",
              "      box-shadow: 0px 1px 3px 1px rgba(0, 0, 0, 0.15);\n",
              "      filter: drop-shadow(0px 1px 2px rgba(0, 0, 0, 0.3));\n",
              "      fill: #FFFFFF;\n",
              "    }\n",
              "  </style>\n",
              "\n",
              "      <script>\n",
              "        const buttonEl =\n",
              "          document.querySelector('#df-441f659a-b6bd-41ea-b608-fb014dccbf20 button.colab-df-convert');\n",
              "        buttonEl.style.display =\n",
              "          google.colab.kernel.accessAllowed ? 'block' : 'none';\n",
              "\n",
              "        async function convertToInteractive(key) {\n",
              "          const element = document.querySelector('#df-441f659a-b6bd-41ea-b608-fb014dccbf20');\n",
              "          const dataTable =\n",
              "            await google.colab.kernel.invokeFunction('convertToInteractive',\n",
              "                                                     [key], {});\n",
              "          if (!dataTable) return;\n",
              "\n",
              "          const docLinkHtml = 'Like what you see? Visit the ' +\n",
              "            '<a target=\"_blank\" href=https://colab.research.google.com/notebooks/data_table.ipynb>data table notebook</a>'\n",
              "            + ' to learn more about interactive tables.';\n",
              "          element.innerHTML = '';\n",
              "          dataTable['output_type'] = 'display_data';\n",
              "          await google.colab.output.renderOutput(dataTable, element);\n",
              "          const docLink = document.createElement('div');\n",
              "          docLink.innerHTML = docLinkHtml;\n",
              "          element.appendChild(docLink);\n",
              "        }\n",
              "      </script>\n",
              "    </div>\n",
              "  </div>\n",
              "  "
            ]
          },
          "metadata": {},
          "execution_count": 9
        }
      ]
    },
    {
      "cell_type": "markdown",
      "source": [
        "#### Scraping Data"
      ],
      "metadata": {
        "id": "Ifx0d9BGNrOS"
      }
    },
    {
      "cell_type": "code",
      "source": [
        "pitch_url = 'https://pitchfork.com/reviews/albums/'"
      ],
      "metadata": {
        "id": "mPV5HbvNP9OQ"
      },
      "execution_count": null,
      "outputs": []
    },
    {
      "cell_type": "code",
      "source": [
        "r = requests.get(pitch_url) #request get the jason data"
      ],
      "metadata": {
        "id": "JTZuQY79P9LY"
      },
      "execution_count": null,
      "outputs": []
    },
    {
      "cell_type": "code",
      "source": [
        "r.text"
      ],
      "metadata": {
        "id": "LucZYQiMP9IQ",
        "colab": {
          "base_uri": "https://localhost:8080/",
          "height": 208
        },
        "outputId": "9bc23a49-d91e-480e-9f75-c0ae9700c0e4"
      },
      "execution_count": null,
      "outputs": [
        {
          "output_type": "execute_result",
          "data": {
            "text/plain": [
              "'<!DOCTYPE html><html lang=\"en\"><head><title data-react-helmet=\"true\">New Albums &amp; Music Reviews | Pitchfork</title><meta data-react-helmet=\"true\" name=\"viewport\" content=\"width=device-width, initial-scale=1.0, user-scalable=no\"/><meta data-react-helmet=\"true\" name=\"og:type\" content=\"website\"/><meta data-react-helmet=\"true\" name=\"og:site_name\" content=\"Pitchfork\"/><meta data-react-helmet=\"true\" name=\"og:title\" content=\"Pitchfork\"/><meta data-react-helmet=\"true\" name=\"og:url\" content=\"https://pitchfork.com\"/><meta data-react-helmet=\"true\" name=\"description\" content=\"Daily reviews of every important album in music\"/><meta data-react-helmet=\"true\" name=\"og:description\" content=\"Daily reviews of every important album in music\"/><script async=\"\" src=\"/fonts-css/load-fonts.min.js\"></script><link data-react-helmet=\"true\" rel=\"shortcut icon\" type=\"image/png\" href=\"https://cdn.pitchfork.com/assets/misc/favicon-32.png\"/><link data-react-helmet=\"true\" rel=\"icon\" type=\"image/png\" href=\"https://cdn.pitchfork.com/assets/misc/favicon-32.png\" sizes=\"32x32\"/><link data-react-helmet=\"true\" rel=\"apple-touch-icon-precomposed\" href=\"https://cdn.pitchfork.com/assets/misc/favicon-57-v2.png\" sizes=\"57x57\"/><link data-react-helmet=\"true\" rel=\"apple-touch-icon-precomposed\" href=\"https://cdn.pitchfork.com/assets/misc/favicon-152-v2.png\" sizes=\"152x152\"/><link data-react-helmet=\"true\" rel=\"apple-touch-icon-precomposed\" href=\"https://cdn.pitchfork.com/assets/misc/favicon-144-v2.png\" sizes=\"144x144\"/><link data-react-helmet=\"true\" rel=\"apple-touch-icon-precomposed\" href=\"https://cdn.pitchfork.com/assets/misc/favicon-120-v2.png\" sizes=\"120x120\"/><link data-react-helmet=\"true\" rel=\"apple-touch-icon-precomposed\" href=\"https://cdn.pitchfork.com/assets/misc/favicon-114-v2.png\" sizes=\"114x114\"/><link data-react-helmet=\"true\" rel=\"apple-touch-icon-precomposed\" href=\"https://cdn.pitchfork.com/assets/misc/favicon-72-v2.png\" sizes=\"72x72\"/><link data-react-helmet=\"true\" rel=\"canonical\" href=\"https://pitchfork.com/reviews/albums/\"/><link data-react-helmet=\"true\" rel=\"next\" href=\"https://pitchfork.com/reviews/albums/?page=2\"/><link data-react-helmet=\"true\" rel=\"alternate\" type=\"application/rss+xml\" title=\"RSS\" href=\"https://pitchfork.com/rss/reviews/albums/\"/><script data-react-helmet=\"true\" type=\"application/ld+json\">{\"@context\":\"http://schema.org\",\"@type\":\"WebPage\",\"headline\":\"New Albums & Music Reviews\",\"url\":\"https://pitchfork.com/reviews/albums/\",\"articleSection\":\"reviews\"}</script><link rel=\"stylesheet\" type=\"text/css\" href=\"/assets/main-70fb925c51f55d31c304.css\"/><script>(function(w,d,s,l,i){w[l]=w[l]||[];w[l].push({\\'gtm.start\\':\\n    new Date().getTime(),event:\\'gtm.js\\'});var f=d.getElementsByTagName(s)[0],\\n    j=d.createElement(s),dl=l!=\\'dataLayer\\'?\\'&l=\\'+l:\\'\\';j.async=true;j.src=\\n    \\'https://www.googletagmanager.com/gtm.js?id=\\'+i+dl;f.parentNode.insertBefore(j,f);\\n    })(window,document,\\'script\\',\\'dataLayer\\',\\'GTM-MMFBX2W\\');</script><script>\\n    var _qevents = _qevents || [];\\n    (function() {\\n        var elem = document.createElement(\\'script\\');\\n        elem.src = (document.location.protocol == \"https:\" ? \"https://secure\" : \"http://edge\") + \".quantserve.com/quant.js\";\\n        elem.async = true;\\n        elem.type = \"text/javascript\";\\n        var scpt = document.getElementsByTagName(\\'script\\')[0];\\n        scpt.parentNode.insertBefore(elem, scpt);\\n    })();\\n\\n    _qevents.push(\\n        {qacct:\"p-70RhgKmunzjBs\",\\n         labels:\"Music,Pop Culture\"},\\n        {qacct:\"p-d5PgAY9MthZsM\"}\\n    );\\n</script><script type=\"text/javascript\">window.DEPLOYMENT_CONTEXT=\"production\"</script><script type=\"text/javascript\" src=\"//assets.adobedtm.com/6372cf21ef88ee60bc2977a4898dcb5c7945a212/satelliteLib-db38f058255bb4dd2252e85fb3a91ae2af7c2087.js\"></script><script>window.cns=window.cns||{};window.cns.pageContext={\"slug\":\"reviews\",\"templateType\":\"album_reviews\",\"channel\":\"reviews\",\"subChannel\":\"albums\",\"keywords\":{\"copilotid\":[\"\"],\"tags\":[\"queens-of-the-stone-age\",\"asake\",\"caterina-barbieri\",\"greg-foat\",\"gigi-masin\",\"feeble-little-horse\",\"sexyy-red\",\"babytron\",\"christine-and-the-queens\",\"jess-williamson\",\"jenny-lewis\",\"youth-lagoon\",\"kassa-overall\"],\"platform\":[\"autopilot\"]},\"server\":\"production\"};</script><script></script><link rel=\"preload\" href=\"https://cdn.cookielaw.org/scripttemplates/otSDKStub.js\" as=\"script\"><link rel=\"preload\" href=\"https://cdn.cookielaw.org/opt-out/otCCPAiab.js\" as=\"script\">\\n    <script async src=\"https://cdn.cookielaw.org/scripttemplates/otSDKStub.js\" data-domain-script=\"2a450e87-540d-4b45-abf5-4f2247e3826c\"></script><script>window.OptanonWrapper=function(){var CCPAButton=document.getElementById(\"ot-sdk-btn\");CCPAButton&&CCPAButton.classList.add(\"ot-sdk-btn--visible\");window.dataLayer&&window.dataLayer.push({event:\"OneTrustGroupsUpdated\"});window.cnBus&&window.cnBus.emit(\"onetrust.OneTrustGroupsUpdated\")};function getCookie(name){var parts=(\"; \"+document.cookie).split(\"; \"+name+\"=\");if(2==parts.length)return parts.pop().split(\";\").shift()}function setCookie(cname,cvalue,exdays){var d=new Date;d.setTime(d.getTime()+24*exdays*60*60*1e3);var expires=\"expires=\"+d.toUTCString();document.cookie=cname+\"=\"+cvalue+\";\"+expires+\";path=/\"}function setGPC(){var gpcValue=navigator.globalPrivacyControl;if(null==getCookie(\"OptanonAlertBoxClosed\")&&gpcValue){console.log(\"First visit & GPC enabled; setting targeting group to 0\");setCookie(\"OptanonConsent\",encodeURIComponent(\"groups=C0003:0,C0004:0,C0005:0\"),365)}}setGPC();</script><script async src=\"https://cdn.cookielaw.org/opt-out/otCCPAiab.js\" ccpa-opt-out-ids=\"C0002, C0003, C0004, C0005\" ccpa-opt-out-lspa=false ccpa-opt-out-geo=\"ca\"></script><link rel=\"preconnect\" href=\"https://securepubads.g.doubleclick.net\"><script src=\"https://securepubads.g.doubleclick.net/tag/js/gpt.js\" id=\"gpt-script\" async></script><script>window.googletag = window.googletag || {cmd: []}</script><script>window.cns=window.cns||{};window.cns.queue=window.cns.queue||[];window.cns.async=function(s,c){cns.queue.push({service:s,callback:c})};window.sparrowQueue=window.sparrowQueue||[];</script><script id=\"cns-head-include\">!function(){\"use strict\";var n={exports:{}};!function(n,t){var r=function(){var n=0;function t(n){var t=[],r=0,i=0;this.push=function(s){r-i>=n&&++i>=n&&(i=0,r=n-1),t[r%n]=s,r++},this.asArray=function(){var s=t.slice(i,Math.min(r,n)),u=t.slice(0,Math.max(r-n,0));return s.concat(u)},this.list=t}function r(t,r){for(var i=r,s=0;s<t.length;s++){var u=t[s],a=i.r;a[u]||(a[u]={w:u,r:{},i:n++}),i=a[u]}return i}function i(n,t,r){var i;return r[n]?i=r[n]:(i=function(n,t){for(var r=[[t,0]],i={},s=[];r.length;){var u=r.shift(),a=u[0],o=u[1],e=a.r,f=n[o];if(void 0===f&&a.fn&&!i[a.i]?(i[a.i]=1,s.push(a.fn)):e[f]&&r.push([e[f],o+1]),e[\"#\"])for(var h=o;h<=n.length;h++)r.push([e[\"#\"],h]);f&&e[\"*\"]&&r.push([e[\"*\"],o+1])}return s}(n.split(\".\"),t),r[n]=i),i}var s=function(){var s={w:\"\",r:{},i:n++},u={},a=new t(9999);function o(n,t){var i=r(n.split(\".\"),s),a=i.fn||[];return a.push(t),i.fn=a,u={},function(){var n=a.indexOf(t);n>-1&&a.splice(n,1)}}function e(n,t){var r=Date.now();a.push([n,r]);for(var o=i(n,s,u),e={topic:n},f=0;f<o.length;f++)for(var h=o[f],c=0;c<h.length;c++)h[c](t,e)}this.emit=e,this.on=o,this.history=function(t){var s={w:\"\",r:{},i:n++};r(t.split(\".\"),s).fn=1;for(var u=[],o={},e=a.asArray(),f=0;f<e.length;f++){var h=e[f];i(h[0],s,o).length&&u.push(h)}return u},this.publish=e,this.subscribe=o};return s.Ring=t,s}();n.exports=r}(n);var t=n.exports;window.cnBus=window.cnBus||new t,window.cns=window.cns||{};const r=window.cns;r.fastAdsHead=\"6.70.0\",r.timing=r.timing||{},r.timing.headerStart=Date.now(),r.queue=r.queue||[],r.flags={}}();\\n</script><script></script><meta name=\"msvalidate.01\" content=\"2E96EF3F0014FF765EEE9A9CE8B22E64\"/><meta property=\"fb:app_id\" content=\"207089362687909\"/><meta property=\"fb:pages\" content=\"28015075999\"/></head><body><div class=\"ad__slot ad__slot--out-of-page\"></div><noscript><iframe src=\"https://www.googletagmanager.com/ns.html?id=GTM-MMFBX2W\" height=\"0\" width=\"0\" style=\"display:none;visibility:hidden\"></iframe></noscript><div id=\"fb-root\"></div><div id=\"root\"><div data-reactroot=\"\"><div class=\"page page-ff-desktop\"><a href=\"#site-content\" class=\"sr-only sr-only-focusable skip-to-content\">Skip to content</a><div id=\"search-module\" class=\"search-module\"><div id=\"input-container\" class=\"search-module__input-container\"><div class=\"container-fluid\"><button class=\"close-btn\"><svg class=\"close\" viewBox=\"0 0 21.3 19.5\"><g><path d=\"M17.8,3.7L4.6,16.9c-0.3,0.3-0.8,0.3-1.1,0c-0.3-0.3-0.3-0.8,0-1.1L16.7,2.6c0.3-0.3,0.8-0.3,1.1,0C18.1,2.9,18.1,3.4,17.8,3.7z\"></path><path d=\"M16.7,16.9L3.5,3.7c-0.3-0.3-0.3-0.8,0-1.1s0.8-0.3,1.1,0l13.2,13.2c0.3,0.3,0.3,0.8,0,1.1C17.5,17.2,17,17.2,16.7,16.9z\"></path></g></svg></button><div id=\"search-input\" class=\"search-input\"><span class=\"search-input__highlight\"></span><form class=\"search-form search-input__form\"><input type=\"text\" placeholder=\"Search\" id=\"search-module-input\" class=\"search-input__input\" maxLength=\"40\" autoComplete=\"off\"/><label for=\"search-module-input\" class=\"sr-only\">Search query</label><button class=\"search-input__all\"><a class=\"search-input__all-link\" href=\"/search/?query=\">All Results</a><svg class=\"search-input__all-svg\"><g><line x1=\"0\" y1=\"0\" x2=\"6\" y2=\"6\" class=\"search-input__all-svg-line\"></line><line x1=\"0\" y1=\"12\" x2=\"6\" y2=\"6\" class=\"search-input__all-svg-line\"></line></g></svg></button></form></div></div></div></div><div id=\"full-menu\" class=\"\"><button class=\"close-btn\"><svg class=\"close\" viewBox=\"0 0 21.3 19.5\"><g><path d=\"M17.8,3.7L4.6,16.9c-0.3,0.3-0.8,0.3-1.1,0c-0.3-0.3-0.3-0.8,0-1.1L16.7,2.6c0.3-0.3,0.8-0.3,1.1,0C18.1,2.9,18.1,3.4,17.8,3.7z\"></path><path d=\"M16.7,16.9L3.5,3.7c-0.3-0.3-0.3-0.8,0-1.1s0.8-0.3,1.1,0l13.2,13.2c0.3,0.3,0.3,0.8,0,1.1C17.5,17.2,17,17.2,16.7,16.9z\"></path></g></svg></button><div class=\"container-fluid\"><div class=\"row\"><div class=\"tagline\">Pitchfork is the most trusted voice in music.</div><div class=\"links-column\"><ul><li><a class=\"title mobile-only\" rel=\"\" target=\"_self\" href=\"/\"><span>Home</span></a></li><li><a class=\"title top\" rel=\"\" target=\"_self\" href=\"/news/\"><span>News</span></a></li><li><a class=\"title\" rel=\"\" target=\"_self\" href=\"/reviews/albums/\"><span>Reviews</span></a></li><li><a class=\"hide-mobile\" rel=\"\" target=\"_self\" href=\"/reviews/best/albums/\"><span>Albums</span></a></li><li><a class=\"hide-mobile\" rel=\"\" target=\"_self\" href=\"/reviews/best/tracks/\"><span>Tracks</span></a></li><li><a class=\"hide-mobile\" rel=\"\" target=\"_self\" href=\"/reviews/sunday/\"><span>Sunday Reviews</span></a></li><li><a class=\"hide-mobile\" rel=\"\" target=\"_self\" href=\"/best/high-scoring-albums/\"><span>8.0+ Reviews</span></a></li><li><a class=\"hide-mobile\" rel=\"\" target=\"_self\" href=\"/features/interactives/reviews-explorer/\"><span>Reviews Explorer</span></a></li><li><a class=\"title solo\" rel=\"\" target=\"_self\" href=\"/best/\"><span>Best New Music</span></a></li><li><a class=\"title\" rel=\"\" target=\"_self\" href=\"/features/\"><span>Features</span></a></li><li><a class=\"hide-mobile\" rel=\"\" target=\"_self\" href=\"/features/lists-and-guides/\"><span>Lists & Guides</span></a></li><li><a class=\"hide-mobile\" rel=\"\" target=\"_self\" href=\"/features/article/\"><span>Longform</span></a></li><li><a class=\"hide-mobile\" rel=\"\" target=\"_self\" href=\"/features/rising/\"><span>Rising</span></a></li><li><a class=\"hide-mobile\" rel=\"\" target=\"_self\" href=\"/features/photo-gallery/\"><span>Photo Galleries</span></a></li></ul></div><div class=\"links-column\"><ul><li><a class=\"title top\" rel=\"\" target=\"_self\" href=\"/thepitch/\"><span>The Pitch</span></a></li><li><a class=\"title\" rel=\"\" target=\"_self\" href=\"/tv/\"><span>Video</span></a></li><li><a class=\"hide-mobile\" rel=\"\" target=\"_self\" href=\"/tv/22-over-under/\"><span>Over/Under</span></a></li><li><a class=\"hide-mobile\" rel=\"\" target=\"_self\" href=\"/tv/56-liner-notes/\"><span>Liner Notes</span></a></li><li><a class=\"hide-mobile\" rel=\"\" target=\"_self\" href=\"/tv/under-the-influences/\"><span>Under the Influences</span></a></li><li><a class=\"hide-mobile\" rel=\"\" target=\"_self\" href=\"/tv/on-the-records/\"><span>On the Records</span></a></li><li><a class=\"hide-mobile\" rel=\"\" target=\"_self\" href=\"/tv/critical-breakthroughs/\"><span>Critical Breakthroughs</span></a></li><li><a class=\"title solo\" rel=\"\" target=\"_self\" href=\"/newsletter\"><span>Newsletter</span></a></li><li><a class=\"hide-mobile\" rel=\"\" target=\"_self\" href=\"/ad/\"><span>Advertising</span></a></li><li><a class=\"hide-mobile\" rel=\"\" target=\"_self\" href=\"/masthead/\"><span>Masthead</span></a></li><li><a class=\"hide-mobile\" rel=\"noopener noreferrer\" target=\"_blank\" href=\"https://www.condenast.com/careers/\"><span>Careers</span></a></li><li><a class=\"hide-mobile\" rel=\"\" target=\"_self\" href=\"/contact/\"><span>Contact</span></a></li><li><a class=\"\" rel=\"\" target=\"_self\" href=\"/accessibility-help/\"><span>Accessibility Help</span></a></li></ul></div><div class=\"links-column\"><ul><li><a class=\"title top hide-mobile inactive\" rel=\"\" target=\"_self\" href=\"#\"><span>More Pitchfork</span></a></li><li><a class=\"\" rel=\"noopener noreferrer\" target=\"_blank\" href=\"https://pitchforkmusicfestival.com?utm_source=p4k-full\"><span>Pitchfork Music Festival Chicago</span></a></li><li><a class=\"\" rel=\"noopener noreferrer\" target=\"_blank\" href=\"https://www.pitchforkmusicfestival.co.uk/\"><span>Pitchfork Music Festival London</span></a></li><li><a class=\"\" rel=\"noopener noreferrer\" target=\"_blank\" href=\"https://pitchforkmusicfestival.fr/?mbid=fest-2016-paris-nav\"><span>Pitchfork Music Festival Paris</span></a></li><li><a class=\"\" rel=\"noopener noreferrer\" target=\"_blank\" href=\"https://www.pitchforkmusicfestival.de/\"><span>Pitchfork Music Festival Berlin</span></a></li><li><a class=\"\" rel=\"noopener noreferrer\" target=\"_blank\" href=\"https://pitchfork.com/radio/\"><span>Pitchfork Radio</span></a></li><li><a class=\"\" rel=\"noopener noreferrer\" target=\"_blank\" href=\"https://pitchfork.com/podcast/the-pitchfork-review/\"><span>Podcast</span></a></li></ul></div></div></div></div><header id=\"page-header\" class=\"\"><div class=\"site-nav\"><div class=\"nav-container nav-container--standard nav-container--in-place nav-container--spacer\"><a class=\"nav-container__logo\" href=\"/\"><div class=\"sr-only\">Home</div><svg version=\"1.1\" x=\"0px\" y=\"0px\" viewBox=\"0 0 115.1 20\"><g><path d=\"M0,18.1c1.5,0,2.1-0.7,2.1-2.3V4.2c0-1.6-0.5-2.3-2.1-2.3V0.3h8.6c4.7,0,7.8,2.1,7.8,5.8 c0,3.4-2.8,5.8-7.9,5.8H7.1v3.8c0,1.8,0.9,2.3,3.4,2.3v1.6H0V18.1z M7.1,1.8v8.7h0.8c2.4,0,3.7-1.8,3.7-4.4c0-2.7-1.3-4.3-3.8-4.3 H7.1z\"></path><path d=\"M16.6,18.1c1.4,0,1.9-0.6,1.9-2.1v-5.4c0-0.8-0.6-1.3-1.4-1.2l-0.5,0V7.7l5.3-1.6h1.3v9.8 c0,1.5,0.5,2.1,1.9,2.1v1.6h-8.6V18.1z M20.9,0.5c1.4,0,2.6,1.2,2.6,2.6c0,1.4-1.2,2.6-2.6,2.6c-1.4,0-2.6-1.2-2.6-2.6 C18.3,1.7,19.4,0.5,20.9,0.5\"></path><path d=\"M26.4,8.7h-1.8V7.6c2.1-0.6,4.7-2.3,5.5-4.8h1v4.2h3.3v1.7h-3.3v6.5c0,1.6,0.9,2.1,1.8,2.1 c0.6,0,1.3-0.2,1.7-0.5l0.5,0.9C34.3,19,32.4,20,30.5,20c-2.8,0-4.1-1.7-4.1-4.5V8.7z\"></path><path d=\"M41.9,6.1c1.8,0,3.4,0.5,4.9,1.3L45.1,12H44c-0.3-2.8-1.6-3.9-3-3.9c-1.7,0-2.7,1.5-2.7,3.5 c0,3,2.1,4.5,4.3,4.5c1.7,0,2.6-0.7,3.2-2l1,0.4C46.2,17.6,44.8,20,41,20c-3.5,0-6-2.5-6-6.4C35.1,9,37.8,6.1,41.9,6.1\"></path> <path d=\"M46.4,18.1c1.4,0,1.9-0.6,1.9-2.1V4.4c0-0.8-0.6-1.2-1.4-1.2h-0.6V1.4L52,0h1v8.9c0.7-1.9,2.1-2.8,4-2.8 c2.5,0,4.2,1.4,4.2,4.3v5.5c0,1.5,0.5,2.1,1.9,2.1v1.6h-7.9v-1.6c1.2,0,1.2-0.7,1.2-2v-5.5c0-1.2-0.6-1.8-1.7-1.8 c-0.9,0-1.6,0.6-1.8,1.5V16c0,1.3,0.1,2,1.2,2v1.6h-7.9V18.1z\"></path> <path d=\"M63.9,18.1c1.4,0,1.9-0.6,1.9-2.1V8.7h-1.9V7.6c1.5,0,2-0.4,2-1.5c0-2.6,2.3-6.1,7-6.1 c1.5,0,3.1,0.5,4.5,1.1l-2,5l-1-0.2c0.1-2.7-0.8-4.4-2.4-4.4c-1.3,0-2,1.1-2,2.5c0,1.2,0.3,2.2,0.5,3h2.8v1.7h-2.7v7.2 c0,1.5,0.5,2.1,1.9,2.1v1.6h-8.6V18.1z\"></path> <path d=\"M73.2,13c0-4.5,3.2-7,6.9-7c3.7,0,6.9,2.5,6.9,7c0,4.5-3.2,7-6.9,7C76.4,20,73.2,17.5,73.2,13 M78.5,13 c0,4.4,0.4,5.7,1.6,5.7c1.2,0,1.6-1.3,1.6-5.7c0-4.4-0.4-5.7-1.6-5.7C78.9,7.4,78.5,8.7,78.5,13\"></path> <path d=\"M87.3,18.1c1.4,0,1.9-0.6,1.9-2.1v-5.2c0-0.8-0.6-1.3-1.4-1.3h-0.6V7.8l5-1.5h1.4v2.1 c0,1.1-0.1,2.7-0.1,3.3l0.1,0c0.4-4,2.2-5.7,4.3-5.7c0.4,0,0.5,0,0.8,0.1v4.6C97,10.4,94,10.5,94,13.6v2.3c0,1.5,0.5,2.1,1.9,2.1 v1.6h-8.6V18.1z\"></path> <path d=\"M98.3,18.1c1.4,0,1.9-0.6,1.9-2.1V4.4c0-0.8-0.6-1.2-1.4-1.2h-0.6V1.4L104,0h1v12.2h0.2l2.3-1.1 c1.1-0.5,1.3-1,1.3-1.7c0-0.9-0.7-1.4-1.8-1.4V6.4h7v1.4c-1.5,1.8-2.9,2.5-4.5,3.3l3.1,4.2c1,1.3,1.6,2.7,2.6,2.7v1.6h-5.9 l-4.1-6.6H105v3.3c0,1.1,0.1,1.6,1.2,1.6v1.6h-7.9V18.1z\"></path></g></svg></a><nav class=\"primary-nav\"><ul class=\"primary-nav__list\"><li class=\"primary-nav__item\"><a class=\"primary-nav__link\" href=\"/news/\">News</a></li><li class=\"primary-nav__item\"><a class=\"primary-nav__link primary-nav__link--active primary-nav__link--active\" href=\"/reviews/albums/\">Reviews</a></li><li class=\"primary-nav__item\"><a class=\"primary-nav__link\" href=\"/best/\">Best New Music</a></li><li class=\"primary-nav__item\"><a class=\"primary-nav__link\" href=\"/features/\">Features</a></li><li class=\"primary-nav__item\"><a href=\"/features/lists-and-guides/\" class=\"primary-nav__link\">Lists</a></li><li class=\"primary-nav__item\"><a class=\"primary-nav__link\" href=\"/thepitch/\">The Pitch</a></li><li class=\"primary-nav__item\"><a class=\"primary-nav__link\" href=\"/tv/\">Video</a></li><li class=\"primary-nav__item\"><a href=\"/podcast/the-pitchfork-review/\" class=\"primary-nav__link\">Podcast</a></li><li class=\"primary-nav__item\"><a href=\"https://pitchforkmusicfestival.com/\" class=\"primary-nav__link\">Festival</a></li></ul></nav><ul class=\"subpanel-triggers\"><li class=\"menu-trigger subpanel-triggers__item\"><button class=\"menu-trigger-button subpanel-triggers__button\"><span class=\"sr-only\">Toggle main navigation menu</span><svg class=\"menu-icon\" x=\"0px\" y=\"0px\" viewBox=\"0 0 21.3 19.5\"><g><path d=\"M20,10.6H1.3c-0.4,0-0.8-0.3-0.8-0.8s0.3-0.8,0.8-0.8H20c0.4,0,0.8,0.3,0.8,0.8S20.4,10.6,20,10.6z\"></path><path d=\"M20,18.9H1.3c-0.4,0-0.8-0.3-0.8-0.8s0.3-0.8,0.8-0.8H20c0.4,0,0.8,0.3,0.8,0.8S20.4,18.9,20,18.9z\"></path><path d=\"M20,2.2H1.3c-0.4,0-0.8-0.3-0.8-0.8s0.3-0.8,0.8-0.8H20c0.4,0,0.8,0.3,0.8,0.8S20.4,2.2,20,2.2z\"></path></g></svg></button></li><li class=\"subpanel-triggers__item\"><button class=\"subpanel-triggers__button\"><span class=\"sr-only\">Open search module</span><svg class=\"search-icon\" x=\"0px\" y=\"0px\" viewBox=\"0 0 20.2 20.6\"><path d=\"M19.5,18.8l-6-6c1.1-1.3,1.8-3,1.8-4.8c0-4.1-3.3-7.4-7.4-7.4S0.6,4,0.6,8s3.3,7.4,7.4,7.4 c1.7,0,3.3-0.6,4.5-1.6l6,6c0.1,0.1,0.3,0.2,0.5,0.2s0.4-0.1,0.5-0.2C19.8,19.6,19.8,19.1,19.5,18.8z M8,14c-0.1,0-0.2,0-0.3,0 l3.1-3.1c0.3-0.3,0.3-0.8,0-1.1s-0.8-0.3-1.1,0l-3.8,3.8c-0.6-0.2-1.1-0.5-1.6-0.9L10,7.1c0.3-0.3,0.3-0.8,0-1.1S9.2,5.7,8.9,6 l-5.6,5.6c-0.4-0.5-0.7-1-0.9-1.6l3.8-3.8c0.3-0.3,0.3-0.8,0-1.1s-0.8-0.3-1.1,0L2.1,8.3c0-0.1,0-0.2,0-0.3c0-3.3,2.7-5.9,5.9-5.9 s5.9,2.7,5.9,5.9S11.2,14,8,14z\"></path></svg></button></li><li class=\"subpanel-triggers__item subpanel-triggers__item--player\"><button class=\"player-trigger-button subpanel-triggers__button\"><span class=\"sr-only\">Expand audio player</span><svg class=\"player-icon\" x=\"0px\" y=\"0px\" viewBox=\"22.7 152.8 566.6 486.4\"><path class=\"headband\" d=\"M481,369.3c10.7,0,21.4-8,21.4-21.4c0-106.9-88.2-195.1-195.1-195.1S109.6,241,109.6,347.9c0,10.7,8,21.4,21.4,21.4c13.4,0,21.4-8,21.4-21.4c0-85.5,69.5-155,155-155s155,69.5,155,155C462.3,358.6,470.4,369.3,481,369.3z\"></path><g><path class=\"button-fg\" d=\"M159,422.7c0-10.7-10.7-18.7-18.7-18.7c-64.1,0-117.6,53.4-117.6,117.6s53.4,117.6,117.6,117.6h24.1l0,0c10.7,0,21.4-8,21.4-21.4c0-2.7,0-5.3,0-8L159,422.7z\"></path><path class=\"button-bg\" d=\"M137.6,599.1c-42.8,0-77.5-34.7-77.5-77.5c0-37.4,26.7-66.8,58.8-74.8L137.6,599.1L137.6,599.1z\"></path><path class=\"button-fg\" d=\"M471.7,404c-10.7,0-18.7,8-18.7,18.7l-26.7,192.4c0,5.3,0,10.7,5.3,16c5.3,5.3,8,8,16,8h24.1c64.1,0,117.6-53.4,117.6-117.6C586.6,457.4,535.8,404,471.7,404z\"></path><path class=\"button-bg\" d=\"M471.7,599.1L471.7,599.1l18.7-152.3c34.7,8,58.8,37.4,58.8,74.8C546.5,564.3,511.8,599.1,471.7,599.1z\"></path></g></svg></button></li></ul></div><div class=\"nav-container nav-container--standard nav-container--in-place\"><a class=\"nav-container__logo\" href=\"/\"><div class=\"sr-only\">Home</div><svg version=\"1.1\" x=\"0px\" y=\"0px\" viewBox=\"0 0 115.1 20\"><g><path d=\"M0,18.1c1.5,0,2.1-0.7,2.1-2.3V4.2c0-1.6-0.5-2.3-2.1-2.3V0.3h8.6c4.7,0,7.8,2.1,7.8,5.8 c0,3.4-2.8,5.8-7.9,5.8H7.1v3.8c0,1.8,0.9,2.3,3.4,2.3v1.6H0V18.1z M7.1,1.8v8.7h0.8c2.4,0,3.7-1.8,3.7-4.4c0-2.7-1.3-4.3-3.8-4.3 H7.1z\"></path><path d=\"M16.6,18.1c1.4,0,1.9-0.6,1.9-2.1v-5.4c0-0.8-0.6-1.3-1.4-1.2l-0.5,0V7.7l5.3-1.6h1.3v9.8 c0,1.5,0.5,2.1,1.9,2.1v1.6h-8.6V18.1z M20.9,0.5c1.4,0,2.6,1.2,2.6,2.6c0,1.4-1.2,2.6-2.6,2.6c-1.4,0-2.6-1.2-2.6-2.6 C18.3,1.7,19.4,0.5,20.9,0.5\"></path><path d=\"M26.4,8.7h-1.8V7.6c2.1-0.6,4.7-2.3,5.5-4.8h1v4.2h3.3v1.7h-3.3v6.5c0,1.6,0.9,2.1,1.8,2.1 c0.6,0,1.3-0.2,1.7-0.5l0.5,0.9C34.3,19,32.4,20,30.5,20c-2.8,0-4.1-1.7-4.1-4.5V8.7z\"></path><path d=\"M41.9,6.1c1.8,0,3.4,0.5,4.9,1.3L45.1,12H44c-0.3-2.8-1.6-3.9-3-3.9c-1.7,0-2.7,1.5-2.7,3.5 c0,3,2.1,4.5,4.3,4.5c1.7,0,2.6-0.7,3.2-2l1,0.4C46.2,17.6,44.8,20,41,20c-3.5,0-6-2.5-6-6.4C35.1,9,37.8,6.1,41.9,6.1\"></path> <path d=\"M46.4,18.1c1.4,0,1.9-0.6,1.9-2.1V4.4c0-0.8-0.6-1.2-1.4-1.2h-0.6V1.4L52,0h1v8.9c0.7-1.9,2.1-2.8,4-2.8 c2.5,0,4.2,1.4,4.2,4.3v5.5c0,1.5,0.5,2.1,1.9,2.1v1.6h-7.9v-1.6c1.2,0,1.2-0.7,1.2-2v-5.5c0-1.2-0.6-1.8-1.7-1.8 c-0.9,0-1.6,0.6-1.8,1.5V16c0,1.3,0.1,2,1.2,2v1.6h-7.9V18.1z\"></path> <path d=\"M63.9,18.1c1.4,0,1.9-0.6,1.9-2.1V8.7h-1.9V7.6c1.5,0,2-0.4,2-1.5c0-2.6,2.3-6.1,7-6.1 c1.5,0,3.1,0.5,4.5,1.1l-2,5l-1-0.2c0.1-2.7-0.8-4.4-2.4-4.4c-1.3,0-2,1.1-2,2.5c0,1.2,0.3,2.2,0.5,3h2.8v1.7h-2.7v7.2 c0,1.5,0.5,2.1,1.9,2.1v1.6h-8.6V18.1z\"></path> <path d=\"M73.2,13c0-4.5,3.2-7,6.9-7c3.7,0,6.9,2.5,6.9,7c0,4.5-3.2,7-6.9,7C76.4,20,73.2,17.5,73.2,13 M78.5,13 c0,4.4,0.4,5.7,1.6,5.7c1.2,0,1.6-1.3,1.6-5.7c0-4.4-0.4-5.7-1.6-5.7C78.9,7.4,78.5,8.7,78.5,13\"></path> <path d=\"M87.3,18.1c1.4,0,1.9-0.6,1.9-2.1v-5.2c0-0.8-0.6-1.3-1.4-1.3h-0.6V7.8l5-1.5h1.4v2.1 c0,1.1-0.1,2.7-0.1,3.3l0.1,0c0.4-4,2.2-5.7,4.3-5.7c0.4,0,0.5,0,0.8,0.1v4.6C97,10.4,94,10.5,94,13.6v2.3c0,1.5,0.5,2.1,1.9,2.1 v1.6h-8.6V18.1z\"></path> <path d=\"M98.3,18.1c1.4,0,1.9-0.6,1.9-2.1V4.4c0-0.8-0.6-1.2-1.4-1.2h-0.6V1.4L104,0h1v12.2h0.2l2.3-1.1 c1.1-0.5,1.3-1,1.3-1.7c0-0.9-0.7-1.4-1.8-1.4V6.4h7v1.4c-1.5,1.8-2.9,2.5-4.5,3.3l3.1,4.2c1,1.3,1.6,2.7,2.6,2.7v1.6h-5.9 l-4.1-6.6H105v3.3c0,1.1,0.1,1.6,1.2,1.6v1.6h-7.9V18.1z\"></path></g></svg></a><nav class=\"primary-nav\"><ul class=\"primary-nav__list\"><li class=\"primary-nav__item\"><a class=\"primary-nav__link\" href=\"/news/\">News</a></li><li class=\"primary-nav__item\"><a class=\"primary-nav__link primary-nav__link--active primary-nav__link--active\" href=\"/reviews/albums/\">Reviews</a></li><li class=\"primary-nav__item\"><a class=\"primary-nav__link\" href=\"/best/\">Best New Music</a></li><li class=\"primary-nav__item\"><a class=\"primary-nav__link\" href=\"/features/\">Features</a></li><li class=\"primary-nav__item\"><a href=\"/features/lists-and-guides/\" class=\"primary-nav__link\">Lists</a></li><li class=\"primary-nav__item\"><a class=\"primary-nav__link\" href=\"/thepitch/\">The Pitch</a></li><li class=\"primary-nav__item\"><a class=\"primary-nav__link\" href=\"/tv/\">Video</a></li><li class=\"primary-nav__item\"><a href=\"/podcast/the-pitchfork-review/\" class=\"primary-nav__link\">Podcast</a></li><li class=\"primary-nav__item\"><a href=\"https://pitchforkmusicfestival.com/\" class=\"primary-nav__link\">Festival</a></li></ul></nav><ul class=\"subpanel-triggers\"><li class=\"menu-trigger subpanel-triggers__item\"><button class=\"menu-trigger-button subpanel-triggers__button\"><span class=\"sr-only\">Toggle main navigation menu</span><svg class=\"menu-icon\" x=\"0px\" y=\"0px\" viewBox=\"0 0 21.3 19.5\"><g><path d=\"M20,10.6H1.3c-0.4,0-0.8-0.3-0.8-0.8s0.3-0.8,0.8-0.8H20c0.4,0,0.8,0.3,0.8,0.8S20.4,10.6,20,10.6z\"></path><path d=\"M20,18.9H1.3c-0.4,0-0.8-0.3-0.8-0.8s0.3-0.8,0.8-0.8H20c0.4,0,0.8,0.3,0.8,0.8S20.4,18.9,20,18.9z\"></path><path d=\"M20,2.2H1.3c-0.4,0-0.8-0.3-0.8-0.8s0.3-0.8,0.8-0.8H20c0.4,0,0.8,0.3,0.8,0.8S20.4,2.2,20,2.2z\"></path></g></svg></button></li><li class=\"subpanel-triggers__item\"><button class=\"subpanel-triggers__button\"><span class=\"sr-only\">Open search module</span><svg class=\"search-icon\" x=\"0px\" y=\"0px\" viewBox=\"0 0 20.2 20.6\"><path d=\"M19.5,18.8l-6-6c1.1-1.3,1.8-3,1.8-4.8c0-4.1-3.3-7.4-7.4-7.4S0.6,4,0.6,8s3.3,7.4,7.4,7.4 c1.7,0,3.3-0.6,4.5-1.6l6,6c0.1,0.1,0.3,0.2,0.5,0.2s0.4-0.1,0.5-0.2C19.8,19.6,19.8,19.1,19.5,18.8z M8,14c-0.1,0-0.2,0-0.3,0 l3.1-3.1c0.3-0.3,0.3-0.8,0-1.1s-0.8-0.3-1.1,0l-3.8,3.8c-0.6-0.2-1.1-0.5-1.6-0.9L10,7.1c0.3-0.3,0.3-0.8,0-1.1S9.2,5.7,8.9,6 l-5.6,5.6c-0.4-0.5-0.7-1-0.9-1.6l3.8-3.8c0.3-0.3,0.3-0.8,0-1.1s-0.8-0.3-1.1,0L2.1,8.3c0-0.1,0-0.2,0-0.3c0-3.3,2.7-5.9,5.9-5.9 s5.9,2.7,5.9,5.9S11.2,14,8,14z\"></path></svg></button></li><li class=\"subpanel-triggers__item subpanel-triggers__item--player\"><button class=\"player-trigger-button subpanel-triggers__button\"><span class=\"sr-only\">Expand audio player</span><svg class=\"player-icon\" x=\"0px\" y=\"0px\" viewBox=\"22.7 152.8 566.6 486.4\"><path class=\"headband\" d=\"M481,369.3c10.7,0,21.4-8,21.4-21.4c0-106.9-88.2-195.1-195.1-195.1S109.6,241,109.6,347.9c0,10.7,8,21.4,21.4,21.4c13.4,0,21.4-8,21.4-21.4c0-85.5,69.5-155,155-155s155,69.5,155,155C462.3,358.6,470.4,369.3,481,369.3z\"></path><g><path class=\"button-fg\" d=\"M159,422.7c0-10.7-10.7-18.7-18.7-18.7c-64.1,0-117.6,53.4-117.6,117.6s53.4,117.6,117.6,117.6h24.1l0,0c10.7,0,21.4-8,21.4-21.4c0-2.7,0-5.3,0-8L159,422.7z\"></path><path class=\"button-bg\" d=\"M137.6,599.1c-42.8,0-77.5-34.7-77.5-77.5c0-37.4,26.7-66.8,58.8-74.8L137.6,599.1L137.6,599.1z\"></path><path class=\"button-fg\" d=\"M471.7,404c-10.7,0-18.7,8-18.7,18.7l-26.7,192.4c0,5.3,0,10.7,5.3,16c5.3,5.3,8,8,16,8h24.1c64.1,0,117.6-53.4,117.6-117.6C586.6,457.4,535.8,404,471.7,404z\"></path><path class=\"button-bg\" d=\"M471.7,599.1L471.7,599.1l18.7-152.3c34.7,8,58.8,37.4,58.8,74.8C546.5,564.3,511.8,599.1,471.7,599.1z\"></path></g></svg></button></li></ul></div><span></span></div></header><div id=\"site-content\"><div id=\"reviews\" class=\"reviews-page\"><div id=\"reviews-nav\" class=\"section-nav \"><div class=\"container-fluid\"><div class=\"border-container clearfix\"><nav class=\"latest-navigation section-nav__menu\"><ul><a component=\"li\" class=\"section-nav__menu-item section-nav__menu-item--active\" href=\"/reviews/albums/\">Albums</a><a component=\"li\" class=\"section-nav__menu-item\" href=\"/reviews/best/albums/\">Best New Albums</a><a component=\"li\" class=\"section-nav__menu-item\" href=\"/reviews/best/reissues/\">Best New Reissues</a><a component=\"li\" class=\"section-nav__menu-item\" href=\"/best/high-scoring-albums/\">8.0+ Reviews</a><a component=\"li\" class=\"section-nav__menu-item\" href=\"/reviews/sunday/\">Sunday Reviews</a><a component=\"li\" class=\"section-nav__menu-item\" href=\"/reviews/tracks/\">Tracks</a></ul></nav><div class=\"filters\"><div class=\"genre-menu\"><button class=\"genre-menu__trigger\"><svg class=\"arrow down-arrow\" x=\"0px\" y=\"0px\" viewBox=\"0 0 10 5.7\" enable-background=\"new 0 0 10 5.7\"><path fill-rule=\"evenodd\" clip-rule=\"evenodd\" d=\"M1.3,0.2L5,4l3.8-3.8l0,0C8.9,0.1,9.1,0,9.3,0 C9.7,0,10,0.3,10,0.7c0,0.2-0.1,0.4-0.2,0.5l0,0L5.5,5.5l0,0C5.4,5.6,5.2,5.7,5,5.7l0,0c0,0,0,0,0,0c-0.2,0-0.4-0.1-0.5-0.2l0,0 L0.2,1.2l0,0C0.1,1.1,0,0.9,0,0.7C0,0.3,0.3,0,0.7,0C0.9,0,1.1,0.1,1.3,0.2z\"></path></svg><span>Genres</span></button></div></div></div></div></div><div class=\"reviews-page__contents\"><div class=\"infinite-container\"><div class=\"clearfix\"><div class=\"review-collection-fragment\"><h1 class=\"page-title\"><span>Latest Reviews</span></h1><div class=\"container-fluid\"><div class=\"fragment-list\"><div class=\"review\"><a href=\"/reviews/albums/queens-of-the-stone-age-in-times-new-roman/\" class=\"review__link\"><div class=\"review__artwork artwork\"><div class=\"\"><img src=\"https://media.pitchfork.com/photos/645ceaf64a67dfa0db7ad010/1:1/w_160/Queens-of-the-Stone-Age-In-Times-New-Roman.jpg\" alt=\"Queens of the Stone Age: In Times New Roman...\"/></div></div><div class=\"review__title\"><ul class=\"artist-list review__title-artist\"><li>Queens of the Stone Age</li></ul><h2 class=\"review__title-album\"><em>In Times New Roman...</em></h2></div></a><div class=\"review__meta\"><ul class=\"genre-list genre-list--inline review__genre-list\"><li class=\"genre-list__item\"><a href=\"/reviews/albums/?genre=rock\" class=\"genre-list__link\">Rock</a></li></ul><ul class=\"authors\"><li><a href=\"/staff/zach-schonfeld/\" class=\"linked display-name display-name--linked\"><span class=\"by\">by: </span>Zach Schonfeld</a></li></ul><time class=\"pub-date\" dateTime=\"2023-06-16T04:03:00\" title=\"Fri, 16 Jun 2023 04:03:00 GMT\">9 hrs ago</time></div></div><div class=\"review\"><a href=\"/reviews/albums/asake-work-of-art/\" class=\"review__link\"><div class=\"review__artwork artwork\"><div class=\"\"><img src=\"https://media.pitchfork.com/photos/648a0b39482bce6a0f832185/1:1/w_160/Asake-Work-of-Art.jpg\" alt=\"Asake: Work of Art\"/></div></div><div class=\"review__title\"><ul class=\"artist-list review__title-artist\"><li>Asake</li></ul><h2 class=\"review__title-album\"><em>Work of Art</em></h2></div></a><div class=\"review__meta\"><ul class=\"genre-list genre-list--inline review__genre-list\"><li class=\"genre-list__item\"><a href=\"/reviews/albums/?genre=pop\" class=\"genre-list__link\">Pop/R&amp;B</a></li></ul><ul class=\"authors\"><li><a href=\"/staff/joshuaminsookim/\" class=\"linked display-name display-name--linked\"><span class=\"by\">by: </span>Joshua Minsoo Kim</a></li></ul><time class=\"pub-date\" dateTime=\"2023-06-16T04:02:00\" title=\"Fri, 16 Jun 2023 04:02:00 GMT\">9 hrs ago</time></div></div><div class=\"review\"><a href=\"/reviews/albums/caterina-barbieri-myuthafoo/\" class=\"review__link\"><div class=\"review__artwork artwork\"><div class=\"\"><img src=\"https://media.pitchfork.com/photos/6489cf93b9ec4da09fa9d8fe/1:1/w_160/Caterina%20Barbieri-%20Myuthafoo.jpeg\" alt=\"Caterina Barbieri: Myuthafoo\"/></div></div><div class=\"review__title\"><ul class=\"artist-list review__title-artist\"><li>Caterina Barbieri</li></ul><h2 class=\"review__title-album\"><em>Myuthafoo</em></h2></div></a><div class=\"review__meta\"><ul class=\"genre-list genre-list--inline review__genre-list\"><li class=\"genre-list__item\"><a href=\"/reviews/albums/?genre=experimental\" class=\"genre-list__link\">Experimental</a></li></ul><ul class=\"authors\"><li><a href=\"/staff/marc-weidenbaum/\" class=\"linked display-name display-name--linked\"><span class=\"by\">by: </span>Marc Weidenbaum </a></li></ul><time class=\"pub-date\" dateTime=\"2023-06-16T04:01:00\" title=\"Fri, 16 Jun 2023 04:01:00 GMT\">9 hrs ago</time></div></div><div class=\"review\"><a href=\"/reviews/albums/greg-foat-dolphin/\" class=\"review__link\"><div class=\"review__artwork artwork\"><div class=\"\"><img src=\"https://media.pitchfork.com/photos/6489d0d8693ba71b769db581/1:1/w_160/Greg%20Foat%20&amp;%20Gigi%20Masin-%20Dolphin%20.jpeg\" alt=\"Greg Foat &amp; Gigi Masin: Dolphin \"/></div></div><div class=\"review__title\"><ul class=\"artist-list review__title-artist\"><li>Greg Foat</li><li>Gigi Masin</li></ul><h2 class=\"review__title-album\"><em>Dolphin</em></h2></div></a><div class=\"review__meta\"><ul class=\"genre-list genre-list--inline review__genre-list\"><li class=\"genre-list__item\"><a href=\"/reviews/albums/?genre=jazz\" class=\"genre-list__link\">Jazz</a></li><li class=\"genre-list__item\"><a href=\"/reviews/albums/?genre=electronic\" class=\"genre-list__link\">Electronic</a></li></ul><ul class=\"authors\"><li><a href=\"/staff/daniel-bromfield/\" class=\"linked display-name display-name--linked\"><span class=\"by\">by: </span>Daniel Bromfield</a></li></ul><time class=\"pub-date\" dateTime=\"2023-06-16T04:00:00\" title=\"Fri, 16 Jun 2023 04:00:00 GMT\">9 hrs ago</time></div></div><div class=\"review\"><a href=\"/reviews/albums/feeble-little-horse-girl-with-fish/\" class=\"review__link\"><div class=\"review__artwork artwork\"><div class=\" review__artwork--with-notch\"><img src=\"https://media.pitchfork.com/photos/63fcc11e03155138a97842da/1:1/w_160/Feeble-Little-Horse-Girl-With-Fish.jpg\" alt=\"Feeble Little Horse: Girl With Fish\"/></div></div><div class=\"review__title\"><ul class=\"artist-list review__title-artist\"><li>Feeble Little Horse</li></ul><h2 class=\"review__title-album\"><em>Girl With Fish</em></h2></div></a><div class=\"review__meta\"><a class=\"review__meta-bnm\" href=\"/reviews/best/albums/\">Best New Album</a><ul class=\"genre-list genre-list--inline review__genre-list\"><li class=\"genre-list__item\"><a href=\"/reviews/albums/?genre=rock\" class=\"genre-list__link\">Rock</a></li></ul><ul class=\"authors\"><li><a href=\"/staff/quinn-moreland/\" class=\"linked display-name display-name--linked\"><span class=\"by\">by: </span>Quinn Moreland</a></li></ul><time class=\"pub-date\" dateTime=\"2023-06-15T04:02:00\" title=\"Thu, 15 Jun 2023 04:02:00 GMT\">June 15 2023</time></div></div><div class=\"review\"><a href=\"/reviews/albums/sexyy-red-hood-hottest-princess/\" class=\"review__link\"><div class=\"review__artwork artwork\"><div class=\"\"><img src=\"https://media.pitchfork.com/photos/6481cbaffc45260b78876574/1:1/w_160/Sexyy-Red-Hood-Hottest-Princess.jpg\" alt=\"Sexyy Red: Hood Hottest Princess\"/></div></div><div class=\"review__title\"><ul class=\"artist-list review__title-artist\"><li>Sexyy Red</li></ul><h2 class=\"review__title-album\"><em>Hood Hottest Princess</em></h2></div></a><div class=\"review__meta\"><ul class=\"genre-list genre-list--inline review__genre-list\"><li class=\"genre-list__item\"><a href=\"/reviews/albums/?genre=rap\" class=\"genre-list__link\">Rap</a></li></ul><ul class=\"authors\"><li><a href=\"/staff/alphonse-pierre/\" class=\"linked display-name display-name--linked\"><span class=\"by\">by: </span>Alphonse Pierre</a></li></ul><time class=\"pub-date\" dateTime=\"2023-06-15T04:01:00\" title=\"Thu, 15 Jun 2023 04:01:00 GMT\">June 15 2023</time></div></div><div class=\"review\"><a href=\"/reviews/albums/babytron-6/\" class=\"review__link\"><div class=\"review__artwork artwork\"><div class=\"\"><img src=\"https://media.pitchfork.com/photos/6489cc3513de5a28c002f0a3/1:1/w_160/BabyTron-%206.jpeg\" alt=\"BabyTron: 6\"/></div></div><div class=\"review__title\"><ul class=\"artist-list review__title-artist\"><li>BabyTron</li></ul><h2 class=\"review__title-album\"><em>6</em></h2></div></a><div class=\"review__meta\"><ul class=\"genre-list genre-list--inline review__genre-list\"><li class=\"genre-list__item\"><a href=\"/reviews/albums/?genre=rap\" class=\"genre-list__link\">Rap</a></li></ul><ul class=\"authors\"><li><a href=\"/staff/dylan-green/\" class=\"linked display-name display-name--linked\"><span class=\"by\">by: </span>Dylan Green</a></li></ul><time class=\"pub-date\" dateTime=\"2023-06-15T04:00:00\" title=\"Thu, 15 Jun 2023 04:00:00 GMT\">June 15 2023</time></div></div><div class=\"review\"><a href=\"/reviews/albums/christine-and-the-queens-paranoia-angels-true-love/\" class=\"review__link\"><div class=\"review__artwork artwork\"><div class=\"\"><img src=\"https://media.pitchfork.com/photos/6408b273632b87694bd03e49/1:1/w_160/Christine-and-the-Queens.jpg\" alt=\"Christine and the Queens: Paranoïa, Angels, True Love\"/></div></div><div class=\"review__title\"><ul class=\"artist-list review__title-artist\"><li>Christine and the Queens</li></ul><h2 class=\"review__title-album\"><em>Paranoïa, Angels, True Love</em></h2></div></a><div class=\"review__meta\"><ul class=\"genre-list genre-list--inline review__genre-list\"><li class=\"genre-list__item\"><a href=\"/reviews/albums/?genre=pop\" class=\"genre-list__link\">Pop/R&amp;B</a></li></ul><ul class=\"authors\"><li><a href=\"/staff/peyton-thomas/\" class=\"linked display-name display-name--linked\"><span class=\"by\">by: </span>Peyton Thomas</a></li></ul><time class=\"pub-date\" dateTime=\"2023-06-14T04:02:00\" title=\"Wed, 14 Jun 2023 04:02:00 GMT\">June 14 2023</time></div></div><div class=\"review\"><a href=\"/reviews/albums/jess-williamson-time-aint-accidental/\" class=\"review__link\"><div class=\"review__artwork artwork\"><div class=\"\"><img src=\"https://media.pitchfork.com/photos/6421e5c88d090ba076117057/1:1/w_160/Jess-Williamson-Time-Aint-Accidental.jpg\" alt=\"Jess Williamson: Time Ain’t Accidental\"/></div></div><div class=\"review__title\"><ul class=\"artist-list review__title-artist\"><li>Jess Williamson</li></ul><h2 class=\"review__title-album\"><em>Time Ain’t Accidental</em></h2></div></a><div class=\"review__meta\"><ul class=\"genre-list genre-list--inline review__genre-list\"><li class=\"genre-list__item\"><a href=\"/reviews/albums/?genre=folk\" class=\"genre-list__link\">Folk/Country</a></li></ul><ul class=\"authors\"><li><a href=\"/staff/shaad-dsouza/\" class=\"linked display-name display-name--linked\"><span class=\"by\">by: </span>Shaad D’Souza</a></li></ul><time class=\"pub-date\" dateTime=\"2023-06-14T04:01:00\" title=\"Wed, 14 Jun 2023 04:01:00 GMT\">June 14 2023</time></div></div><div class=\"review\"><a href=\"/reviews/albums/jenny-lewis-joyall/\" class=\"review__link\"><div class=\"review__artwork artwork\"><div class=\"\"><img src=\"https://media.pitchfork.com/photos/642436a630ed99f1750eee03/1:1/w_160/Jenny-Lewis.jpg\" alt=\"Jenny Lewis: Joy’all\"/></div></div><div class=\"review__title\"><ul class=\"artist-list review__title-artist\"><li>Jenny Lewis</li></ul><h2 class=\"review__title-album\"><em>Joy’all</em></h2></div></a><div class=\"review__meta\"><ul class=\"genre-list genre-list--inline review__genre-list\"><li class=\"genre-list__item\"><a href=\"/reviews/albums/?genre=rock\" class=\"genre-list__link\">Rock</a></li></ul><ul class=\"authors\"><li><a href=\"/staff/alfred-soto/\" class=\"linked display-name display-name--linked\"><span class=\"by\">by: </span>Alfred Soto</a></li></ul><time class=\"pub-date\" dateTime=\"2023-06-14T04:00:00\" title=\"Wed, 14 Jun 2023 04:00:00 GMT\">June 14 2023</time></div></div><div class=\"review\"><a href=\"/reviews/albums/youth-lagoon-heaven-is-a-junkyard/\" class=\"review__link\"><div class=\"review__artwork artwork\"><div class=\" review__artwork--with-notch\"><img src=\"https://media.pitchfork.com/photos/63fe065a91f5aaca85d72d7e/1:1/w_160/Youth-Lagoon-Heaven-Is-a-Junkyard.jpg\" alt=\"Youth Lagoon: Heaven Is a Junkyard\"/></div></div><div class=\"review__title\"><ul class=\"artist-list review__title-artist\"><li>Youth Lagoon</li></ul><h2 class=\"review__title-album\"><em>Heaven Is a Junkyard</em></h2></div></a><div class=\"review__meta\"><a class=\"review__meta-bnm\" href=\"/reviews/best/albums/\">Best New Album</a><ul class=\"genre-list genre-list--inline review__genre-list\"><li class=\"genre-list__item\"><a href=\"/reviews/albums/?genre=rock\" class=\"genre-list__link\">Rock</a></li></ul><ul class=\"authors\"><li><a href=\"/staff/marc-hogan/\" class=\"linked display-name display-name--linked\"><span class=\"by\">by: </span>Marc Hogan</a></li></ul><time class=\"pub-date\" dateTime=\"2023-06-13T04:03:00\" title=\"Tue, 13 Jun 2023 04:03:00 GMT\">June 13 2023</time></div></div><div class=\"review\"><a href=\"/reviews/albums/kassa-overall-animals/\" class=\"review__link\"><div class=\"review__artwork artwork\"><div class=\"\"><img src=\"https://media.pitchfork.com/photos/64259162a992f931af6d50f7/1:1/w_160/Kassa-Overall-Animals.jpg\" alt=\"Kassa Overall: Animals\"/></div></div><div class=\"review__title\"><ul class=\"artist-list review__title-artist\"><li>Kassa Overall</li></ul><h2 class=\"review__title-album\"><em>Animals</em></h2></div></a><div class=\"review__meta\"><ul class=\"genre-list genre-list--inline review__genre-list\"><li class=\"genre-list__item\"><a href=\"/reviews/albums/?genre=jazz\" class=\"genre-list__link\">Jazz</a></li><li class=\"genre-list__item\"><a href=\"/reviews/albums/?genre=rap\" class=\"genre-list__link\">Rap</a></li></ul><ul class=\"authors\"><li><a href=\"/staff/marc-hogan/\" class=\"linked display-name display-name--linked\"><span class=\"by\">by: </span>Marc Hogan</a></li></ul><time class=\"pub-date\" dateTime=\"2023-06-13T04:02:00\" title=\"Tue, 13 Jun 2023 04:02:00 GMT\">June 13 2023</time></div></div></div></div><div class=\"ad ad--inline-index\"><div class=\"ad__slot ad__slot--inline-index\"></div></div></div></div><div class=\"scroll-boundary\"></div></div></div></div><script type=\"text/javascript\">window.digitalData={\"display\":\"New Albums & Music Reviews\",\"length\":\"all\",\"pageValue\":\"all\",\"subsection\":\"reviews\\\\u002FAlbums\",\"canonical\":\"https:\\\\u002F\\\\u002Fpitchfork.com\\\\u002Freviews\\\\u002Falbums\\\\u002F\",\"section\":\"reviews\",\"pageType\":\"album-reviews\"}</script><div><div id=\"amzn-assoc-ad-1e34470c-00d3-44b1-bc00-97cb0dd07678\"></div></div></div><div id=\"modal-portal\"></div></div></div></div><script>window.App={\"context\":{\"dispatcher\":{\"stores\":{\"WindowStore\":{\"formFactor\":\"desktop\"},\"RouteStore\":{\"routes\":null,\"currentNavigate\":{\"transactionId\":4245009518159674,\"url\":\"\\\\u002Freviews\\\\u002Falbums\\\\u002F\",\"error\":null,\"isComplete\":true}},\"ReviewsStore\":{\"items\":{\"6489db43b9ec4da09fa9d930\":{\"tombstone\":{\"bnm\":false,\"bnr\":false,\"albums\":[{\"id\":\"6489d9c18e9d2b61421d45ea\",\"album\":{\"artists\":[{\"id\":\"59299638c0084474cd0bf00e\",\"display_name\":\"Queens of the Stone Age\",\"url\":\"\\\\u002Fartists\\\\u002F3494-queens-of-the-stone-age\\\\u002F\",\"genres\":[{\"display_name\":\"Rock\",\"slug\":\"rock\"}],\"slug\":\"59299638c0084474cd0bf00e\",\"photos\":{}}],\"display_name\":\"In Times New Roman... \",\"labels\":[{\"id\":\"5926086793405b3cd7615f2e\",\"name\":\"Matador\",\"display_name\":\"Matador\"}],\"release_year\":2023,\"photos\":{\"tout\":{\"width\":6000,\"height\":6000,\"credit\":\"\",\"caption\":\"\",\"altText\":\"Queens of the Stone Age: In Times New Roman...\",\"title\":\"Queens of the Stone Age: In Times New Roman...\",\"sizes\":{\"list\":\"https:\\\\u002F\\\\u002Fmedia.pitchfork.com\\\\u002Fphotos\\\\u002F645ceaf64a67dfa0db7ad010\\\\u002F1:1\\\\u002Fw_160\\\\u002FQueens-of-the-Stone-Age-In-Times-New-Roman.jpg\",\"standard\":\"https:\\\\u002F\\\\u002Fmedia.pitchfork.com\\\\u002Fphotos\\\\u002F645ceaf64a67dfa0db7ad010\\\\u002F1:1\\\\u002Fw_600\\\\u002FQueens-of-the-Stone-Age-In-Times-New-Roman.jpg\",\"homepageSmall\":\"https:\\\\u002F\\\\u002Fmedia.pitchfork.com\\\\u002Fphotos\\\\u002F645ceaf64a67dfa0db7ad010\\\\u002F1:1\\\\u002Fw_55\\\\u002FQueens-of-the-Stone-Age-In-Times-New-Roman.jpg\",\"homepageLarge\":\"https:\\\\u002F\\\\u002Fmedia.pitchfork.com\\\\u002Fphotos\\\\u002F645ceaf64a67dfa0db7ad010\\\\u002F1:1\\\\u002Fw_320\\\\u002FQueens-of-the-Stone-Age-In-Times-New-Roman.jpg\"}},\"lede\":false,\"social\":false}},\"rating\":{\"display_rating\":\"6.8\",\"rating\":\"6.8\",\"bnm\":false,\"bnr\":false},\"labels_and_years\":[{\"labels\":[{\"id\":\"5926086793405b3cd7615f2e\",\"name\":\"Matador\",\"display_name\":\"Matador\"}],\"year\":2023}]}]},\"artists\":[{\"id\":\"59299638c0084474cd0bf00e\",\"display_name\":\"Queens of the Stone Age\",\"url\":\"\\\\u002Fartists\\\\u002F3494-queens-of-the-stone-age\\\\u002F\",\"genres\":[{\"display_name\":\"Rock\",\"slug\":\"rock\"}],\"slug\":\"59299638c0084474cd0bf00e\",\"photos\":{}}],\"genres\":[{\"display_name\":\"Rock\",\"slug\":\"rock\"}],\"channel\":\"\",\"subChannel\":\"\",\"position\":0,\"id\":\"6489db43b9ec4da09fa9d930\",\"url\":\"\\\\u002Freviews\\\\u002Falbums\\\\u002Fqueens-of-the-stone-age-in-times-new-roman\\\\u002F\",\"contentType\":\"albumreview\",\"title\":\"\\\\u003Cem\\\\u003EIn Times New Roman...\\\\u003C\\\\u002Fem\\\\u003E\",\"seoTitle\":\"In Times New Roman...\",\"socialTitle\":\"Queens of the Stone Age: In Times New Roman...\",\"promoTitle\":\"\\\\u003Cem\\\\u003EIn Times New Roman...\\\\u003C\\\\u002Fem\\\\u003E\",\"authors\":[{\"id\":\"5a84ad515114010ab1e692a7\",\"name\":\"Zach Schonfeld\",\"title\":\"Contributor\",\"url\":\"\\\\u002Fstaff\\\\u002Fzach-schonfeld\\\\u002F\",\"slug\":\"staff\\\\u002Fzach-schonfeld\"}],\"pubDate\":\"2023-06-16T04:03:00.000Z\",\"timestamp\":1686888180000,\"modifiedAt\":\"2023-06-16T00:38:01.010Z\",\"dek\":\"\\\\u003Cp\\\\u003EOn its angriest and heaviest record in years, the rock band restores its bluesy, primitive sound as Joshua Homme confronts his recent turmoil\\\\u003C\\\\u002Fp\\\\u003E\\\\n\",\"seoDescription\":\"On its angriest and heaviest record in years, the rock band restores its bluesy, primitive sound as Joshua Homme confronts his recent turmoil\",\"promoDescription\":\"\\\\u003Cp\\\\u003EOn its angriest and heaviest record in years, the rock band restores its bluesy, primitive sound as Joshua Homme confronts his recent turmoil\\\\u003C\\\\u002Fp\\\\u003E\\\\n\",\"socialDescription\":\"Read Zach Schonfeld’s review of the album.\",\"privateTags\":[\"_ft:opinion\"],\"tags\":[]},\"648b3d17e7a8aa8db8026c97\":{\"tombstone\":{\"bnm\":false,\"bnr\":false,\"albums\":[{\"id\":\"648b3ba7b9ec4da09fa9d97b\",\"album\":{\"artists\":[{\"id\":\"636aac571d9a56f08b9ceed3\",\"display_name\":\"Asake\",\"url\":\"\\\\u002Fartists\\\\u002Fasake\\\\u002F\",\"genres\":[{\"display_name\":\"Pop\\\\u002FR&B\",\"slug\":\"pop\"}],\"slug\":\"636aac571d9a56f08b9ceed3\",\"photos\":{}}],\"display_name\":\"Work of Art\",\"labels\":[{\"id\":\"5f3d661b964e52d86381c4ad\",\"name\":\"YBNL Nation\",\"display_name\":\"YBNL Nation\"},{\"id\":\"592608bdc31f3f3472b1d795\",\"name\":\"Empire\",\"display_name\":\"Empire\"}],\"release_year\":2023,\"photos\":{\"tout\":{\"width\":3000,\"height\":3000,\"credit\":\"\",\"caption\":\"\",\"altText\":\"Asake: Work of Art\",\"title\":\"Asake: Work of Art\",\"sizes\":{\"list\":\"https:\\\\u002F\\\\u002Fmedia.pitchfork.com\\\\u002Fphotos\\\\u002F648a0b39482bce6a0f832185\\\\u002F1:1\\\\u002Fw_160\\\\u002FAsake-Work-of-Art.jpg\",\"standard\":\"https:\\\\u002F\\\\u002Fmedia.pitchfork.com\\\\u002Fphotos\\\\u002F648a0b39482bce6a0f832185\\\\u002F1:1\\\\u002Fw_600\\\\u002FAsake-Work-of-Art.jpg\",\"homepageSmall\":\"https:\\\\u002F\\\\u002Fmedia.pitchfork.com\\\\u002Fphotos\\\\u002F648a0b39482bce6a0f832185\\\\u002F1:1\\\\u002Fw_55\\\\u002FAsake-Work-of-Art.jpg\",\"homepageLarge\":\"https:\\\\u002F\\\\u002Fmedia.pitchfork.com\\\\u002Fphotos\\\\u002F648a0b39482bce6a0f832185\\\\u002F1:1\\\\u002Fw_320\\\\u002FAsake-Work-of-Art.jpg\"}},\"lede\":false,\"social\":false}},\"rating\":{\"display_rating\":\"8.0\",\"rating\":\"8.0\",\"bnm\":false,\"bnr\":false},\"labels_and_years\":[{\"labels\":[{\"id\":\"5f3d661b964e52d86381c4ad\",\"name\":\"YBNL Nation\",\"display_name\":\"YBNL Nation\"},{\"id\":\"592608bdc31f3f3472b1d795\",\"name\":\"Empire\",\"display_name\":\"Empire\"}],\"year\":2023}]}]},\"artists\":[{\"id\":\"636aac571d9a56f08b9ceed3\",\"display_name\":\"Asake\",\"url\":\"\\\\u002Fartists\\\\u002Fasake\\\\u002F\",\"genres\":[{\"display_name\":\"Pop\\\\u002FR&B\",\"slug\":\"pop\"}],\"slug\":\"636aac571d9a56f08b9ceed3\",\"photos\":{}}],\"genres\":[{\"display_name\":\"Pop\\\\u002FR&B\",\"slug\":\"pop\"}],\"channel\":\"\",\"subChannel\":\"\",\"position\":0,\"id\":\"648b3d17e7a8aa8db8026c97\",\"url\":\"\\\\u002Freviews\\\\u002Falbums\\\\u002Fasake-work-of-art\\\\u002F\",\"contentType\":\"albumreview\",\"title\":\"\\\\u003Cem\\\\u003EWork of Art\\\\u003C\\\\u002Fem\\\\u003E\",\"seoTitle\":\"Work of Art\",\"socialTitle\":\"Asake: Work of Art\",\"promoTitle\":\"\\\\u003Cem\\\\u003EWork of Art\\\\u003C\\\\u002Fem\\\\u003E\",\"authors\":[{\"id\":\"5c6da75e00e95045ca3f4125\",\"name\":\"Joshua Minsoo Kim\",\"title\":\"Contributor\",\"url\":\"\\\\u002Fstaff\\\\u002Fjoshuaminsookim\\\\u002F\",\"slug\":\"staff\\\\u002Fjoshuaminsookim\"}],\"pubDate\":\"2023-06-16T04:02:00.000Z\",\"timestamp\":1686888120000,\"modifiedAt\":\"2023-06-16T00:36:07.214Z\",\"dek\":\"\\\\u003Cp\\\\u003EThe Nigerian singer-songwriter’s second album is in constant search of innovation, fusing traditional and contemporary African music into a celebration of success and community.\\\\u003C\\\\u002Fp\\\\u003E\\\\n\",\"seoDescription\":\"The Nigerian singer-songwriter’s second album is in constant search of innovation, fusing traditional and contemporary African music into a celebration of success and community.\",\"promoDescription\":\"\\\\u003Cp\\\\u003EThe Nigerian singer-songwriter’s second album is in constant search of innovation, fusing traditional and contemporary African music into a celebration of success and community.\\\\u003C\\\\u002Fp\\\\u003E\\\\n\",\"socialDescription\":\"Read Joshua Minsoo Kim’s review of the album.\",\"privateTags\":[\"_ft:opinion\"],\"tags\":[]},\"6489cfe9c789a3a5fc5f479e\":{\"tombstone\":{\"bnm\":false,\"bnr\":false,\"albums\":[{\"id\":\"6489cfc513de5a28c002f0a6\",\"album\":{\"artists\":[{\"id\":\"5b63222fbd15e70edbb72845\",\"display_name\":\"Caterina Barbieri\",\"url\":\"\\\\u002Fartists\\\\u002Fcaterina-barbieri\\\\u002F\",\"genres\":[{\"display_name\":\"Experimental\",\"slug\":\"experimental\"}],\"slug\":\"5b63222fbd15e70edbb72845\",\"photos\":{\"tout\":{\"width\":4095,\"height\":4095,\"credit\":\"\\\\u003Ca href=\\\\\"http:\\\\u002F\\\\u002Fwww.visvaldas.com\\\\u002F\\\\\"\\\\u003EVisvaldas Morkevicius\\\\u003C\\\\u002Fa\\\\u003E\",\"caption\":\"\",\"altText\":\"Image may contain: Human, Person, Clothing, Apparel, Face, Coat, Suit, Overcoat, and Smoke\",\"modelName\":\"photo\",\"title\":\"Caterina Barbieri\",\"sizes\":{\"sm\":\"https:\\\\u002F\\\\u002Fmedia.pitchfork.com\\\\u002Fphotos\\\\u002F5b6d9e86bd15e70edbb72e2f\\\\u002F1:1\\\\u002Fw_150\\\\u002FCaterina-Barbieri.JPG\",\"m\":\"https:\\\\u002F\\\\u002Fmedia.pitchfork.com\\\\u002Fphotos\\\\u002F5b6d9e86bd15e70edbb72e2f\\\\u002F1:1\\\\u002Fw_300\\\\u002FCaterina-Barbieri.JPG\"}},\"lede\":false,\"social\":false}}],\"display_name\":\"Myuthafoo\",\"labels\":[{\"id\":\"62ac8f8f193095dd0c59c73f\",\"name\":\"Light-Years\",\"display_name\":\"Light-Years\"}],\"release_year\":2023,\"photos\":{\"tout\":{\"width\":700,\"height\":700,\"credit\":\"\",\"caption\":\"\",\"altText\":\"Caterina Barbieri: Myuthafoo\",\"title\":\"Caterina Barbieri- Myuthafoo.jpeg\",\"sizes\":{\"list\":\"https:\\\\u002F\\\\u002Fmedia.pitchfork.com\\\\u002Fphotos\\\\u002F6489cf93b9ec4da09fa9d8fe\\\\u002F1:1\\\\u002Fw_160\\\\u002FCaterina%20Barbieri-%20Myuthafoo.jpeg\",\"standard\":\"https:\\\\u002F\\\\u002Fmedia.pitchfork.com\\\\u002Fphotos\\\\u002F6489cf93b9ec4da09fa9d8fe\\\\u002F1:1\\\\u002Fw_600\\\\u002FCaterina%20Barbieri-%20Myuthafoo.jpeg\",\"homepageSmall\":\"https:\\\\u002F\\\\u002Fmedia.pitchfork.com\\\\u002Fphotos\\\\u002F6489cf93b9ec4da09fa9d8fe\\\\u002F1:1\\\\u002Fw_55\\\\u002FCaterina%20Barbieri-%20Myuthafoo.jpeg\",\"homepageLarge\":\"https:\\\\u002F\\\\u002Fmedia.pitchfork.com\\\\u002Fphotos\\\\u002F6489cf93b9ec4da09fa9d8fe\\\\u002F1:1\\\\u002Fw_320\\\\u002FCaterina%20Barbieri-%20Myuthafoo.jpeg\"}},\"lede\":false,\"social\":false}},\"rating\":{\"display_rating\":\"7.1\",\"rating\":\"7.1\",\"bnm\":false,\"bnr\":false},\"labels_and_years\":[{\"labels\":[{\"id\":\"62ac8f8f193095dd0c59c73f\",\"name\":\"Light-Years\",\"display_name\":\"Light-Years\"}],\"year\":2023}]}]},\"artists\":[{\"id\":\"5b63222fbd15e70edbb72845\",\"display_name\":\"Caterina Barbieri\",\"url\":\"\\\\u002Fartists\\\\u002Fcaterina-barbieri\\\\u002F\",\"genres\":[{\"display_name\":\"Experimental\",\"slug\":\"experimental\"}],\"slug\":\"5b63222fbd15e70edbb72845\",\"photos\":{\"tout\":{\"width\":4095,\"height\":4095,\"credit\":\"\\\\u003Ca href=\\\\\"http:\\\\u002F\\\\u002Fwww.visvaldas.com\\\\u002F\\\\\"\\\\u003EVisvaldas Morkevicius\\\\u003C\\\\u002Fa\\\\u003E\",\"caption\":\"\",\"altText\":\"Image may contain: Human, Person, Clothing, Apparel, Face, Coat, Suit, Overcoat, and Smoke\",\"modelName\":\"photo\",\"title\":\"Caterina Barbieri\",\"sizes\":{\"sm\":\"https:\\\\u002F\\\\u002Fmedia.pitchfork.com\\\\u002Fphotos\\\\u002F5b6d9e86bd15e70edbb72e2f\\\\u002F1:1\\\\u002Fw_150\\\\u002FCaterina-Barbieri.JPG\",\"m\":\"https:\\\\u002F\\\\u002Fmedia.pitchfork.com\\\\u002Fphotos\\\\u002F5b6d9e86bd15e70edbb72e2f\\\\u002F1:1\\\\u002Fw_300\\\\u002FCaterina-Barbieri.JPG\"}},\"lede\":false,\"social\":false}}],\"genres\":[{\"display_name\":\"Experimental\",\"slug\":\"experimental\"}],\"channel\":\"\",\"subChannel\":\"\",\"position\":0,\"id\":\"6489cfe9c789a3a5fc5f479e\",\"url\":\"\\\\u002Freviews\\\\u002Falbums\\\\u002Fcaterina-barbieri-myuthafoo\\\\u002F\",\"contentType\":\"albumreview\",\"title\":\"\\\\u003Cem\\\\u003EMyuthafoo\\\\u003C\\\\u002Fem\\\\u003E\",\"seoTitle\":\"Myuthafoo\",\"socialTitle\":\"Caterina Barbieri: Myuthafoo\",\"promoTitle\":\"\\\\u003Cem\\\\u003EMyuthafoo\\\\u003C\\\\u002Fem\\\\u003E\",\"authors\":[{\"id\":\"646263c4de6af9bca838ce90\",\"name\":\"Marc Weidenbaum \",\"title\":null,\"url\":\"\\\\u002Fstaff\\\\u002Fmarc-weidenbaum\\\\u002F\",\"slug\":\"staff\\\\u002Fmarc-weidenbaum\"}],\"pubDate\":\"2023-06-16T04:01:00.000Z\",\"timestamp\":1686888060000,\"modifiedAt\":\"2023-06-15T18:59:47.493Z\",\"dek\":\"\\\\u003Cp\\\\u003EThe Italian synthesizer wizard follows up her 2019 album\\xa0\\\\u003Cem\\\\u003EEcstatic Computation\\\\u003C\\\\u002Fem\\\\u003E with an instrumental set of controlled abandon and rapturous minimalism.\\\\u003C\\\\u002Fp\\\\u003E\\\\n\",\"seoDescription\":\"The Italian synthesizer wizard follows up her 2019 album\\xa0Ecstatic Computation with an instrumental set of controlled abandon and rapturous minimalism.\",\"promoDescription\":\"\\\\u003Cp\\\\u003EThe Italian synthesizer wizard follows up her 2019 album\\xa0\\\\u003Cem\\\\u003EEcstatic Computation\\\\u003C\\\\u002Fem\\\\u003E with an instrumental set of controlled abandon and rapturous minimalism.\\\\u003C\\\\u002Fp\\\\u003E\\\\n\",\"socialDescription\":\"Read Marc Weidenbaum’s review of the album.\",\"privateTags\":[\"_ft:opinion\"],\"tags\":[]},\"6489d1f7355b07b01885e050\":{\"tombstone\":{\"bnm\":false,\"bnr\":false,\"albums\":[{\"id\":\"6489d129b9ec4da09fa9d8ff\",\"album\":{\"artists\":[{\"id\":\"5efcdd8a464fe661509aaf87\",\"display_name\":\"Greg Foat\",\"url\":\"\\\\u002Fartists\\\\u002Fgreg-foat\\\\u002F\",\"genres\":[{\"display_name\":\"Jazz\",\"slug\":\"jazz\"}],\"slug\":\"5efcdd8a464fe661509aaf87\",\"photos\":{}},{\"id\":\"5e56b1900e27b00008f7b808\",\"display_name\":\"Gigi Masin\",\"url\":\"\\\\u002Fartists\\\\u002Fgigi-masin\\\\u002F\",\"genres\":[{\"display_name\":\"Electronic\",\"slug\":\"electronic\"}],\"slug\":\"5e56b1900e27b00008f7b808\",\"photos\":{}}],\"display_name\":\"Dolphin\",\"labels\":[{\"id\":\"592608b717cea934e4daf817\",\"name\":\"Strut\",\"display_name\":\"Strut\"}],\"release_year\":2023,\"photos\":{\"tout\":{\"width\":700,\"height\":700,\"credit\":\"\",\"caption\":\"\",\"altText\":\"Greg Foat & Gigi Masin: Dolphin \",\"title\":\"Greg Foat & Gigi Masin- Dolphin .jpeg\",\"sizes\":{\"list\":\"https:\\\\u002F\\\\u002Fmedia.pitchfork.com\\\\u002Fphotos\\\\u002F6489d0d8693ba71b769db581\\\\u002F1:1\\\\u002Fw_160\\\\u002FGreg%20Foat%20&%20Gigi%20Masin-%20Dolphin%20.jpeg\",\"standard\":\"https:\\\\u002F\\\\u002Fmedia.pitchfork.com\\\\u002Fphotos\\\\u002F6489d0d8693ba71b769db581\\\\u002F1:1\\\\u002Fw_600\\\\u002FGreg%20Foat%20&%20Gigi%20Masin-%20Dolphin%20.jpeg\",\"homepageSmall\":\"https:\\\\u002F\\\\u002Fmedia.pitchfork.com\\\\u002Fphotos\\\\u002F6489d0d8693ba71b769db581\\\\u002F1:1\\\\u002Fw_55\\\\u002FGreg%20Foat%20&%20Gigi%20Masin-%20Dolphin%20.jpeg\",\"homepageLarge\":\"https:\\\\u002F\\\\u002Fmedia.pitchfork.com\\\\u002Fphotos\\\\u002F6489d0d8693ba71b769db581\\\\u002F1:1\\\\u002Fw_320\\\\u002FGreg%20Foat%20&%20Gigi%20Masin-%20Dolphin%20.jpeg\"}},\"lede\":false,\"social\":false}},\"rating\":{\"display_rating\":\"7.4\",\"rating\":\"7.4\",\"bnm\":false,\"bnr\":false},\"labels_and_years\":[{\"labels\":[{\"id\":\"592608b717cea934e4daf817\",\"name\":\"Strut\",\"display_name\":\"Strut\"}],\"year\":2023}]}]},\"artists\":[{\"id\":\"5efcdd8a464fe661509aaf87\",\"display_name\":\"Greg Foat\",\"url\":\"\\\\u002Fartists\\\\u002Fgreg-foat\\\\u002F\",\"genres\":[{\"display_name\":\"Jazz\",\"slug\":\"jazz\"}],\"slug\":\"5efcdd8a464fe661509aaf87\",\"photos\":{}},{\"id\":\"5e56b1900e27b00008f7b808\",\"display_name\":\"Gigi Masin\",\"url\":\"\\\\u002Fartists\\\\u002Fgigi-masin\\\\u002F\",\"genres\":[{\"display_name\":\"Electronic\",\"slug\":\"electronic\"}],\"slug\":\"5e56b1900e27b00008f7b808\",\"photos\":{}}],\"genres\":[{\"display_name\":\"Jazz\",\"slug\":\"jazz\"},{\"display_name\":\"Electronic\",\"slug\":\"electronic\"}],\"channel\":\"\",\"subChannel\":\"\",\"position\":0,\"id\":\"6489d1f7355b07b01885e050\",\"url\":\"\\\\u002Freviews\\\\u002Falbums\\\\u002Fgreg-foat-dolphin\\\\u002F\",\"contentType\":\"albumreview\",\"title\":\"\\\\u003Cem\\\\u003EDolphin\\\\u003C\\\\u002Fem\\\\u003E\",\"seoTitle\":\"Dolphin\",\"socialTitle\":\"Greg Foat \\\\u002F Gigi Masin: Dolphin\",\"promoTitle\":\"\\\\u003Cem\\\\u003EDolphin\\\\u003C\\\\u002Fem\\\\u003E\",\"authors\":[{\"id\":\"60bfbe7750a3305e87b06bb9\",\"name\":\"Daniel Bromfield\",\"title\":\"Contributor\",\"url\":\"\\\\u002Fstaff\\\\u002Fdaniel-bromfield\\\\u002F\",\"slug\":\"staff\\\\u002Fdaniel-bromfield\"}],\"pubDate\":\"2023-06-16T04:00:00.000Z\",\"timestamp\":1686888000000,\"modifiedAt\":\"2023-06-15T19:53:52.932Z\",\"dek\":\"\\\\u003Cp\\\\u003EThe UK jazz pianist Greg Foat deftly balances the rhythmic and ambient poles of his sound on his collaborative album with veteran Italian artist Gigi Masin.\\\\u003C\\\\u002Fp\\\\u003E\\\\n\",\"seoDescription\":\"The UK jazz pianist Greg Foat deftly balances the rhythmic and ambient poles of his sound on his collaborative album with veteran Italian artist Gigi Masin.\",\"promoDescription\":\"\\\\u003Cp\\\\u003EThe UK jazz pianist Greg Foat deftly balances the rhythmic and ambient poles of his sound on his collaborative album with veteran Italian artist Gigi Masin.\\\\u003C\\\\u002Fp\\\\u003E\\\\n\",\"socialDescription\":\"Read Daniel Bromfield’s review of the album.\",\"privateTags\":[\"_ft:opinion\"],\"tags\":[]},\"648888eac789a3a5fc5f473b\":{\"tombstone\":{\"bnm\":true,\"bnr\":false,\"albums\":[{\"id\":\"648888c161f08c20acc07c9a\",\"album\":{\"artists\":[{\"id\":\"63581702d47437f38fa90c8f\",\"display_name\":\"Feeble Little Horse\",\"url\":\"\\\\u002Fartists\\\\u002Ffeeble-little-horse\\\\u002F\",\"genres\":[{\"display_name\":\"Rock\",\"slug\":\"rock\"}],\"slug\":\"63581702d47437f38fa90c8f\",\"photos\":{}}],\"display_name\":\"Girl With Fish \",\"labels\":[{\"id\":\"5926087fd82c58364dc33682\",\"name\":\"Saddle Creek\",\"display_name\":\"Saddle Creek\"}],\"release_year\":2023,\"photos\":{\"tout\":{\"width\":3000,\"height\":3000,\"credit\":\"\",\"caption\":\"\",\"altText\":\"Feeble Little Horse: Girl With Fish\",\"title\":\"Feeble Little Horse: Girl With Fish\",\"sizes\":{\"list\":\"https:\\\\u002F\\\\u002Fmedia.pitchfork.com\\\\u002Fphotos\\\\u002F63fcc11e03155138a97842da\\\\u002F1:1\\\\u002Fw_160\\\\u002FFeeble-Little-Horse-Girl-With-Fish.jpg\",\"standard\":\"https:\\\\u002F\\\\u002Fmedia.pitchfork.com\\\\u002Fphotos\\\\u002F63fcc11e03155138a97842da\\\\u002F1:1\\\\u002Fw_600\\\\u002FFeeble-Little-Horse-Girl-With-Fish.jpg\",\"homepageSmall\":\"https:\\\\u002F\\\\u002Fmedia.pitchfork.com\\\\u002Fphotos\\\\u002F63fcc11e03155138a97842da\\\\u002F1:1\\\\u002Fw_55\\\\u002FFeeble-Little-Horse-Girl-With-Fish.jpg\",\"homepageLarge\":\"https:\\\\u002F\\\\u002Fmedia.pitchfork.com\\\\u002Fphotos\\\\u002F63fcc11e03155138a97842da\\\\u002F1:1\\\\u002Fw_320\\\\u002FFeeble-Little-Horse-Girl-With-Fish.jpg\"}},\"lede\":false,\"social\":false}},\"rating\":{\"display_rating\":\"8.2\",\"rating\":\"8.2\",\"bnm\":true,\"bnr\":false},\"labels_and_years\":[{\"labels\":[{\"id\":\"5926087fd82c58364dc33682\",\"name\":\"Saddle Creek\",\"display_name\":\"Saddle Creek\"}],\"year\":2023}]}]},\"artists\":[{\"id\":\"63581702d47437f38fa90c8f\",\"display_name\":\"Feeble Little Horse\",\"url\":\"\\\\u002Fartists\\\\u002Ffeeble-little-horse\\\\u002F\",\"genres\":[{\"display_name\":\"Rock\",\"slug\":\"rock\"}],\"slug\":\"63581702d47437f38fa90c8f\",\"photos\":{}}],\"genres\":[{\"display_name\":\"Rock\",\"slug\":\"rock\"}],\"channel\":\"\",\"subChannel\":\"\",\"position\":0,\"id\":\"648888eac789a3a5fc5f473b\",\"url\":\"\\\\u002Freviews\\\\u002Falbums\\\\u002Ffeeble-little-horse-girl-with-fish\\\\u002F\",\"contentType\":\"albumreview\",\"title\":\"\\\\u003Cem\\\\u003EGirl With Fish\\\\u003C\\\\u002Fem\\\\u003E\",\"seoTitle\":\"Girl With Fish\",\"socialTitle\":\"Feeble Little Horse: Girl With Fish\",\"promoTitle\":\"\\\\u003Cem\\\\u003EGirl With Fish\\\\u003C\\\\u002Fem\\\\u003E\",\"authors\":[{\"id\":\"592604b2c31f3f3472b1d551\",\"name\":\"Quinn Moreland\",\"title\":\"Contributor\",\"url\":\"\\\\u002Fstaff\\\\u002Fquinn-moreland\\\\u002F\",\"slug\":\"staff\\\\u002Fquinn-moreland\"}],\"pubDate\":\"2023-06-15T04:02:00.000Z\",\"timestamp\":1686801720000,\"modifiedAt\":\"2023-06-14T22:22:00.539Z\",\"dek\":\"\\\\u003Cp\\\\u003EThe Pittsburgh noise-pop experimentalists come into their own on a short yet richly textured album full of fuzzy melodic hooks and beguiling left turns.\\\\u003C\\\\u002Fp\\\\u003E\\\\n\",\"seoDescription\":\"The Pittsburgh noise-pop experimentalists come into their own on a short yet richly textured album full of fuzzy melodic hooks and beguiling left turns.\",\"promoDescription\":\"\\\\u003Cp\\\\u003EThe Pittsburgh noise-pop experimentalists come into their own on a short yet richly textured album full of fuzzy melodic hooks and beguiling left turns.\\\\u003C\\\\u002Fp\\\\u003E\\\\n\",\"socialDescription\":\"Read Quinn Moreland’s review of the album.\",\"privateTags\":[\"_ft:opinion\"],\"tags\":[]},\"648889d9693ba71b769db54b\":{\"tombstone\":{\"bnm\":false,\"bnr\":false,\"albums\":[{\"id\":\"648889999e7664d62c7facf3\",\"album\":{\"artists\":[{\"id\":\"62fe612cc31942669633829a\",\"display_name\":\"Sexyy Red\",\"url\":\"\\\\u002Fartists\\\\u002Fsexyy-red\\\\u002F\",\"genres\":[{\"display_name\":\"Rap\",\"slug\":\"rap\"}],\"slug\":\"62fe612cc31942669633829a\",\"photos\":{}}],\"display_name\":\"Hood Hottest Princess\",\"labels\":[{\"id\":\"5ef2422f464fe661509aa534\",\"name\":\"Open Shift Distribution\",\"display_name\":\"Open Shift Distribution\"},{\"id\":\"5ee7a3c4ca5f171c3b76fed1\",\"name\":\"Gamma\",\"display_name\":\"Gamma\"}],\"release_year\":2023,\"photos\":{\"tout\":{\"width\":3000,\"height\":3000,\"credit\":\"\",\"caption\":\"\",\"altText\":\"Sexyy Red: Hood Hottest Princess\",\"title\":\"Sexyy Red: Hood Hottest Princess\",\"sizes\":{\"list\":\"https:\\\\u002F\\\\u002Fmedia.pitchfork.com\\\\u002Fphotos\\\\u002F6481cbaffc45260b78876574\\\\u002F1:1\\\\u002Fw_160\\\\u002FSexyy-Red-Hood-Hottest-Princess.jpg\",\"standard\":\"https:\\\\u002F\\\\u002Fmedia.pitchfork.com\\\\u002Fphotos\\\\u002F6481cbaffc45260b78876574\\\\u002F1:1\\\\u002Fw_600\\\\u002FSexyy-Red-Hood-Hottest-Princess.jpg\",\"homepageSmall\":\"https:\\\\u002F\\\\u002Fmedia.pitchfork.com\\\\u002Fphotos\\\\u002F6481cbaffc45260b78876574\\\\u002F1:1\\\\u002Fw_55\\\\u002FSexyy-Red-Hood-Hottest-Princess.jpg\",\"homepageLarge\":\"https:\\\\u002F\\\\u002Fmedia.pitchfork.com\\\\u002Fphotos\\\\u002F6481cbaffc45260b78876574\\\\u002F1:1\\\\u002Fw_320\\\\u002FSexyy-Red-Hood-Hottest-Princess.jpg\"}},\"lede\":false,\"social\":false}},\"rating\":{\"display_rating\":\"8.0\",\"rating\":\"8.0\",\"bnm\":false,\"bnr\":false},\"labels_and_years\":[{\"labels\":[{\"id\":\"5ef2422f464fe661509aa534\",\"name\":\"Open Shift Distribution\",\"display_name\":\"Open Shift Distribution\"},{\"id\":\"5ee7a3c4ca5f171c3b76fed1\",\"name\":\"Gamma\",\"display_name\":\"Gamma\"}],\"year\":2023}]}]},\"artists\":[{\"id\":\"62fe612cc31942669633829a\",\"display_name\":\"Sexyy Red\",\"url\":\"\\\\u002Fartists\\\\u002Fsexyy-red\\\\u002F\",\"genres\":[{\"display_name\":\"Rap\",\"slug\":\"rap\"}],\"slug\":\"62fe612cc31942669633829a\",\"photos\":{}}],\"genres\":[{\"display_name\":\"Rap\",\"slug\":\"rap\"}],\"channel\":\"\",\"subChannel\":\"\",\"position\":0,\"id\":\"648889d9693ba71b769db54b\",\"url\":\"\\\\u002Freviews\\\\u002Falbums\\\\u002Fsexyy-red-hood-hottest-princess\\\\u002F\",\"contentType\":\"albumreview\",\"title\":\"\\\\u003Cem\\\\u003EHood Hottest Princess\\\\u003C\\\\u002Fem\\\\u003E\",\"seoTitle\":\"Hood Hottest Princess\",\"socialTitle\":\"Sexyy Red: Hood Hottest Princess\",\"promoTitle\":\"\\\\u003Cem\\\\u003EHood Hottest Princess\\\\u003C\\\\u002Fem\\\\u003E\",\"authors\":[{\"id\":\"5b02c8bbbeaae61a3a85248b\",\"name\":\"Alphonse Pierre\",\"title\":\"Staff Writer\",\"url\":\"\\\\u002Fstaff\\\\u002Falphonse-pierre\\\\u002F\",\"slug\":\"staff\\\\u002Falphonse-pierre\"}],\"pubDate\":\"2023-06-15T04:01:00.000Z\",\"timestamp\":1686801660000,\"modifiedAt\":\"2023-06-14T19:18:51.497Z\",\"dek\":\"\\\\u003Cp\\\\u003EThe St. Louis rapper’s new mixtape channels Gucci Mane and Trina, delivering filthy, laugh-out-loud punchlines and setting the tone for the freakiest summer since the advent of the smartphone.\\\\u003C\\\\u002Fp\\\\u003E\\\\n\",\"seoDescription\":\"The St. Louis rapper’s new mixtape channels Gucci Mane and Trina, delivering filthy, laugh-out-loud punchlines and setting the tone for the freakiest summer since the advent of the smartphone.\",\"promoDescription\":\"\\\\u003Cp\\\\u003EThe St. Louis rapper’s new mixtape channels Gucci Mane and Trina, delivering filthy, laugh-out-loud punchlines and setting the tone for the freakiest summer since the advent of the smartphone.\\\\u003C\\\\u002Fp\\\\u003E\\\\n\",\"socialDescription\":\"Read Alphonse Pierre’s review of the album.\",\"privateTags\":[\"_ft:opinion\"],\"tags\":[]},\"6489ccbe13de5a28c002f0a4\":{\"tombstone\":{\"bnm\":false,\"bnr\":false,\"albums\":[{\"id\":\"6489cc843a4e400bc3c5afb6\",\"album\":{\"artists\":[{\"id\":\"5d5d5b59c7e6ee0009d81cb7\",\"display_name\":\"BabyTron\",\"url\":\"\\\\u002Fartists\\\\u002Fshittyboyz-babytron\\\\u002F\",\"genres\":[{\"display_name\":\"Rap\",\"slug\":\"rap\"}],\"slug\":\"5d5d5b59c7e6ee0009d81cb7\",\"photos\":{}}],\"display_name\":\"6\",\"labels\":[{\"id\":\"6180f296ea5378e6d80bd1b6\",\"name\":\"The Hip Hop Lab\",\"display_name\":\"The Hip Hop Lab\"},{\"id\":\"592608bdc31f3f3472b1d795\",\"name\":\"Empire\",\"display_name\":\"Empire\"}],\"release_year\":2023,\"photos\":{\"tout\":{\"width\":1000,\"height\":1000,\"credit\":\"\",\"caption\":\"\",\"altText\":\"BabyTron: 6\",\"title\":\"BabyTron- 6.jpeg\",\"sizes\":{\"list\":\"https:\\\\u002F\\\\u002Fmedia.pitchfork.com\\\\u002Fphotos\\\\u002F6489cc3513de5a28c002f0a3\\\\u002F1:1\\\\u002Fw_160\\\\u002FBabyTron-%206.jpeg\",\"standard\":\"https:\\\\u002F\\\\u002Fmedia.pitchfork.com\\\\u002Fphotos\\\\u002F6489cc3513de5a28c002f0a3\\\\u002F1:1\\\\u002Fw_600\\\\u002FBabyTron-%206.jpeg\",\"homepageSmall\":\"https:\\\\u002F\\\\u002Fmedia.pitchfork.com\\\\u002Fphotos\\\\u002F6489cc3513de5a28c002f0a3\\\\u002F1:1\\\\u002Fw_55\\\\u002FBabyTron-%206.jpeg\",\"homepageLarge\":\"https:\\\\u002F\\\\u002Fmedia.pitchfork.com\\\\u002Fphotos\\\\u002F6489cc3513de5a28c002f0a3\\\\u002F1:1\\\\u002Fw_320\\\\u002FBabyTron-%206.jpeg\"}},\"lede\":false,\"social\":false}},\"rating\":{\"display_rating\":\"6.8\",\"rating\":\"6.8\",\"bnm\":false,\"bnr\":false},\"labels_and_years\":[{\"labels\":[{\"id\":\"6180f296ea5378e6d80bd1b6\",\"name\":\"The Hip Hop Lab\",\"display_name\":\"The Hip Hop Lab\"},{\"id\":\"592608bdc31f3f3472b1d795\",\"name\":\"Empire\",\"display_name\":\"Empire\"}],\"year\":2023}]}]},\"artists\":[{\"id\":\"5d5d5b59c7e6ee0009d81cb7\",\"display_name\":\"BabyTron\",\"url\":\"\\\\u002Fartists\\\\u002Fshittyboyz-babytron\\\\u002F\",\"genres\":[{\"display_name\":\"Rap\",\"slug\":\"rap\"}],\"slug\":\"5d5d5b59c7e6ee0009d81cb7\",\"photos\":{}}],\"genres\":[{\"display_name\":\"Rap\",\"slug\":\"rap\"}],\"channel\":\"\",\"subChannel\":\"\",\"position\":0,\"id\":\"6489ccbe13de5a28c002f0a4\",\"url\":\"\\\\u002Freviews\\\\u002Falbums\\\\u002Fbabytron-6\\\\u002F\",\"contentType\":\"albumreview\",\"title\":\"\\\\u003Cem\\\\u003E6\\\\u003C\\\\u002Fem\\\\u003E\",\"seoTitle\":\"6\",\"socialTitle\":\"BabyTron: 6\",\"promoTitle\":\"\\\\u003Cem\\\\u003E6\\\\u003C\\\\u002Fem\\\\u003E\",\"authors\":[{\"id\":\"5f52627e7b657428acd20034\",\"name\":\"Dylan Green\",\"title\":\"Contributing Writer\",\"url\":\"\\\\u002Fstaff\\\\u002Fdylan-green\\\\u002F\",\"slug\":\"staff\\\\u002Fdylan-green\"}],\"pubDate\":\"2023-06-15T04:00:00.000Z\",\"timestamp\":1686801600000,\"modifiedAt\":\"2023-06-14T21:09:35.613Z\",\"dek\":\"\\\\u003Cp\\\\u003EThe irreverent Detroit rapper’s latest album reaches toward seriousness with traditional song structures and slower, more menacing production.\\\\u003C\\\\u002Fp\\\\u003E\\\\n\",\"seoDescription\":\"The irreverent Detroit rapper’s latest album reaches toward seriousness with traditional song structures and slower, more menacing production.\",\"promoDescription\":\"\\\\u003Cp\\\\u003EThe irreverent Detroit rapper’s latest album reaches toward seriousness with traditional song structures and slower, more menacing production.\\\\u003C\\\\u002Fp\\\\u003E\\\\n\",\"socialDescription\":\"Read Dylan Green’s review of the album.\",\"privateTags\":[\"_ft:opinion\"],\"tags\":[]},\"64872cc061f08c20acc07c25\":{\"tombstone\":{\"bnm\":false,\"bnr\":false,\"albums\":[{\"id\":\"64872c8961f08c20acc07c24\",\"album\":{\"artists\":[{\"id\":\"5929938313d197565213733d\",\"display_name\":\"Christine and the Queens\",\"url\":\"\\\\u002Fartists\\\\u002F32933-christine-and-the-queens\\\\u002F\",\"genres\":[{\"display_name\":\"Pop\\\\u002FR&B\",\"slug\":\"pop\"}],\"slug\":\"5929938313d197565213733d\",\"photos\":{}}],\"display_name\":\"Paranoïa, Angels, True Love\",\"labels\":[{\"id\":\"592608b7d82c58364dc337cd\",\"name\":\"Because Music\",\"display_name\":\"Because Music\"}],\"release_year\":2023,\"photos\":{\"tout\":{\"width\":3200,\"height\":3200,\"credit\":\"\",\"caption\":\"\",\"altText\":\"Christine and the Queens: Paranoïa, Angels, True Love\",\"title\":\"Christine and the Queens: Paranoïa, Angels, True Love\",\"sizes\":{\"list\":\"https:\\\\u002F\\\\u002Fmedia.pitchfork.com\\\\u002Fphotos\\\\u002F6408b273632b87694bd03e49\\\\u002F1:1\\\\u002Fw_160\\\\u002FChristine-and-the-Queens.jpg\",\"standard\":\"https:\\\\u002F\\\\u002Fmedia.pitchfork.com\\\\u002Fphotos\\\\u002F6408b273632b87694bd03e49\\\\u002F1:1\\\\u002Fw_600\\\\u002FChristine-and-the-Queens.jpg\",\"homepageSmall\":\"https:\\\\u002F\\\\u002Fmedia.pitchfork.com\\\\u002Fphotos\\\\u002F6408b273632b87694bd03e49\\\\u002F1:1\\\\u002Fw_55\\\\u002FChristine-and-the-Queens.jpg\",\"homepageLarge\":\"https:\\\\u002F\\\\u002Fmedia.pitchfork.com\\\\u002Fphotos\\\\u002F6408b273632b87694bd03e49\\\\u002F1:1\\\\u002Fw_320\\\\u002FChristine-and-the-Queens.jpg\"}},\"lede\":false,\"social\":false}},\"rating\":{\"display_rating\":\"6.8\",\"rating\":\"6.8\",\"bnm\":false,\"bnr\":false},\"labels_and_years\":[{\"labels\":[{\"id\":\"592608b7d82c58364dc337cd\",\"name\":\"Because Music\",\"display_name\":\"Because Music\"}],\"year\":2023}]}]},\"artists\":[{\"id\":\"5929938313d197565213733d\",\"display_name\":\"Christine and the Queens\",\"url\":\"\\\\u002Fartists\\\\u002F32933-christine-and-the-queens\\\\u002F\",\"genres\":[{\"display_name\":\"Pop\\\\u002FR&B\",\"slug\":\"pop\"}],\"slug\":\"5929938313d197565213733d\",\"photos\":{}}],\"genres\":[{\"display_name\":\"Pop\\\\u002FR&B\",\"slug\":\"pop\"}],\"channel\":\"\",\"subChannel\":\"\",\"position\":0,\"id\":\"64872cc061f08c20acc07c25\",\"url\":\"\\\\u002Freviews\\\\u002Falbums\\\\u002Fchristine-and-the-queens-paranoia-angels-true-love\\\\u002F\",\"contentType\":\"albumreview\",\"title\":\"\\\\u003Cem\\\\u003EParanoïa, Angels, True Love\\\\u003C\\\\u002Fem\\\\u003E\",\"seoTitle\":\"Paranoïa, Angels, True Love\",\"socialTitle\":\"Christine and the Queens: Paranoïa, Angels, True Love\",\"promoTitle\":\"\\\\u003Cem\\\\u003EParanoïa, Angels, True Love\\\\u003C\\\\u002Fem\\\\u003E\",\"authors\":[{\"id\":\"5c6dadbcdc02d63ea9dd2ae3\",\"name\":\"Peyton Thomas\",\"title\":\"Contributor\",\"url\":\"\\\\u002Fstaff\\\\u002Fpeyton-thomas\\\\u002F\",\"slug\":\"staff\\\\u002Fpeyton-thomas\"}],\"pubDate\":\"2023-06-14T04:02:00.000Z\",\"timestamp\":1686715320000,\"modifiedAt\":\"2023-06-14T18:56:28.557Z\",\"dek\":\"\\\\u003Cp\\\\u003EInspired by \\\\u003Cem\\\\u003EAngels in America\\\\u003C\\\\u002Fem\\\\u003E, the French artist’s latest album is a raw, dreamlike, 20-song epic that still feels like a first draft.\\\\u003C\\\\u002Fp\\\\u003E\\\\n\",\"seoDescription\":\"Inspired by Angels in America, the French artist’s latest album is a raw, dreamlike, 20-song epic that still feels like a first draft.\",\"promoDescription\":\"\\\\u003Cp\\\\u003EInspired by \\\\u003Cem\\\\u003EAngels in America\\\\u003C\\\\u002Fem\\\\u003E, the French artist’s latest album is a raw, dreamlike, 20-song epic that still feels like a first draft.\\\\u003C\\\\u002Fp\\\\u003E\\\\n\",\"socialDescription\":\"Read Peyton Thomas’ review of the album.\",\"privateTags\":[\"_ft:opinion\"],\"tags\":[]},\"64872febf5286b93bb1a27b1\":{\"tombstone\":{\"bnm\":false,\"bnr\":false,\"albums\":[{\"id\":\"64872fbf693ba71b769db53a\",\"album\":{\"artists\":[{\"id\":\"5929913c9d034d5c69bf1188\",\"display_name\":\"Jess Williamson\",\"url\":\"\\\\u002Fartists\\\\u002F31910-jess-williamson\\\\u002F\",\"genres\":[{\"display_name\":\"Folk\\\\u002FCountry\",\"slug\":\"folk\"}],\"slug\":\"5929913c9d034d5c69bf1188\",\"photos\":{}}],\"display_name\":\"Time Ain’t Accidental\",\"labels\":[{\"id\":\"592608f017cea934e4daf984\",\"name\":\"Mexican Summer\",\"display_name\":\"Mexican Summer\"}],\"release_year\":2023,\"photos\":{\"tout\":{\"width\":3000,\"height\":3000,\"credit\":\"\",\"caption\":\"\",\"altText\":\"Jess Williamson: Time Ain’t Accidental\",\"title\":\"Jess Williamson: Time Ain’t Accidental\",\"sizes\":{\"list\":\"https:\\\\u002F\\\\u002Fmedia.pitchfork.com\\\\u002Fphotos\\\\u002F6421e5c88d090ba076117057\\\\u002F1:1\\\\u002Fw_160\\\\u002FJess-Williamson-Time-Aint-Accidental.jpg\",\"standard\":\"https:\\\\u002F\\\\u002Fmedia.pitchfork.com\\\\u002Fphotos\\\\u002F6421e5c88d090ba076117057\\\\u002F1:1\\\\u002Fw_600\\\\u002FJess-Williamson-Time-Aint-Accidental.jpg\",\"homepageSmall\":\"https:\\\\u002F\\\\u002Fmedia.pitchfork.com\\\\u002Fphotos\\\\u002F6421e5c88d090ba076117057\\\\u002F1:1\\\\u002Fw_55\\\\u002FJess-Williamson-Time-Aint-Accidental.jpg\",\"homepageLarge\":\"https:\\\\u002F\\\\u002Fmedia.pitchfork.com\\\\u002Fphotos\\\\u002F6421e5c88d090ba076117057\\\\u002F1:1\\\\u002Fw_320\\\\u002FJess-Williamson-Time-Aint-Accidental.jpg\"}},\"lede\":false,\"social\":false}},\"rating\":{\"display_rating\":\"8.0\",\"rating\":\"8.0\",\"bnm\":false,\"bnr\":false},\"labels_and_years\":[{\"labels\":[{\"id\":\"592608f017cea934e4daf984\",\"name\":\"Mexican Summer\",\"display_name\":\"Mexican Summer\"}],\"year\":2023}]}]},\"artists\":[{\"id\":\"5929913c9d034d5c69bf1188\",\"display_name\":\"Jess Williamson\",\"url\":\"\\\\u002Fartists\\\\u002F31910-jess-williamson\\\\u002F\",\"genres\":[{\"display_name\":\"Folk\\\\u002FCountry\",\"slug\":\"folk\"}],\"slug\":\"5929913c9d034d5c69bf1188\",\"photos\":{}}],\"genres\":[{\"display_name\":\"Folk\\\\u002FCountry\",\"slug\":\"folk\"}],\"channel\":\"\",\"subChannel\":\"\",\"position\":0,\"id\":\"64872febf5286b93bb1a27b1\",\"url\":\"\\\\u002Freviews\\\\u002Falbums\\\\u002Fjess-williamson-time-aint-accidental\\\\u002F\",\"contentType\":\"albumreview\",\"title\":\"\\\\u003Cem\\\\u003ETime Ain’t Accidental\\\\u003C\\\\u002Fem\\\\u003E\",\"seoTitle\":\"Time Ain’t Accidental\",\"socialTitle\":\"Jess Williamson: Time Ain’t Accidental\",\"promoTitle\":\"\\\\u003Cem\\\\u003ETime Ain’t Accidental\\\\u003C\\\\u002Fem\\\\u003E\",\"authors\":[{\"id\":\"5952ad93d85e91330e43ed39\",\"name\":\"Shaad D’Souza\",\"title\":\"Contributor\",\"url\":\"\\\\u002Fstaff\\\\u002Fshaad-dsouza\\\\u002F\",\"slug\":\"staff\\\\u002Fshaad-dsouza\"}],\"pubDate\":\"2023-06-14T04:01:00.000Z\",\"timestamp\":1686715260000,\"modifiedAt\":\"2023-06-13T19:46:27.508Z\",\"dek\":\"\\\\u003Cp\\\\u003EWith understated production and forceful vocal performances, the Los Angeles songwriter crafts a heartbroken road-trip record that feels like a breakthrough.\\\\u003C\\\\u002Fp\\\\u003E\\\\n\",\"seoDescription\":\"With understated production and forceful vocal performances, the Los Angeles songwriter crafts a heartbroken road-trip record that feels like a breakthrough.\",\"promoDescription\":\"\\\\u003Cp\\\\u003EWith understated production and forceful vocal performances, the Los Angeles songwriter crafts a heartbroken road-trip record that feels like a breakthrough.\\\\u003C\\\\u002Fp\\\\u003E\\\\n\",\"socialDescription\":\"Read Shaad D’Souza’s review of the album.\",\"privateTags\":[\"_ft:opinion\"],\"tags\":[]},\"64872df25185b039bca7c851\":{\"tombstone\":{\"bnm\":false,\"bnr\":false,\"albums\":[{\"id\":\"64872da261f08c20acc07c2a\",\"album\":{\"artists\":[{\"id\":\"592991db13d1975652137011\",\"display_name\":\"Jenny Lewis\",\"url\":\"\\\\u002Fartists\\\\u002F6113-jenny-lewis\\\\u002F\",\"genres\":[{\"display_name\":\"Rock\",\"slug\":\"rock\"}],\"slug\":\"592991db13d1975652137011\",\"photos\":{\"tout\":{\"width\":400,\"height\":400,\"credit\":\"\",\"caption\":\"\",\"altText\":\"Image may contain: Clothing, Apparel, Sunglasses, Accessories, Accessory, Human, Person, and Female\",\"modelName\":\"photo\",\"title\":\"Jenny Lewis artist image\",\"sizes\":{\"sm\":\"https:\\\\u002F\\\\u002Fmedia.pitchfork.com\\\\u002Fphotos\\\\u002F592991dc13d1975652137013\\\\u002F1:1\\\\u002Fw_150\\\\u002F5db64fee.jpg\",\"m\":\"https:\\\\u002F\\\\u002Fmedia.pitchfork.com\\\\u002Fphotos\\\\u002F592991dc13d1975652137013\\\\u002F1:1\\\\u002Fw_300\\\\u002F5db64fee.jpg\"}},\"lede\":false,\"social\":false}}],\"display_name\":\"Joy’all\",\"labels\":[{\"id\":\"5926087fd82c58364dc33680\",\"name\":\"Blue Note\",\"display_name\":\"Blue Note\"},{\"id\":\"59260889d82c58364dc336bc\",\"name\":\"Capitol\",\"display_name\":\"Capitol\"}],\"release_year\":2023,\"photos\":{\"tout\":{\"width\":3702,\"height\":3702,\"credit\":\"\",\"caption\":\"\",\"altText\":\"Jenny Lewis: Joy’all\",\"title\":\"Jenny Lewis: Joy’all\",\"sizes\":{\"list\":\"https:\\\\u002F\\\\u002Fmedia.pitchfork.com\\\\u002Fphotos\\\\u002F642436a630ed99f1750eee03\\\\u002F1:1\\\\u002Fw_160\\\\u002FJenny-Lewis.jpg\",\"standard\":\"https:\\\\u002F\\\\u002Fmedia.pitchfork.com\\\\u002Fphotos\\\\u002F642436a630ed99f1750eee03\\\\u002F1:1\\\\u002Fw_600\\\\u002FJenny-Lewis.jpg\",\"homepageSmall\":\"https:\\\\u002F\\\\u002Fmedia.pitchfork.com\\\\u002Fphotos\\\\u002F642436a630ed99f1750eee03\\\\u002F1:1\\\\u002Fw_55\\\\u002FJenny-Lewis.jpg\",\"homepageLarge\":\"https:\\\\u002F\\\\u002Fmedia.pitchfork.com\\\\u002Fphotos\\\\u002F642436a630ed99f1750eee03\\\\u002F1:1\\\\u002Fw_320\\\\u002FJenny-Lewis.jpg\"}},\"lede\":false,\"social\":false}},\"rating\":{\"display_rating\":\"6.7\",\"rating\":\"6.7\",\"bnm\":false,\"bnr\":false},\"labels_and_years\":[{\"labels\":[{\"id\":\"5926087fd82c58364dc33680\",\"name\":\"Blue Note\",\"display_name\":\"Blue Note\"},{\"id\":\"59260889d82c58364dc336bc\",\"name\":\"Capitol\",\"display_name\":\"Capitol\"}],\"year\":2023}]}]},\"artists\":[{\"id\":\"592991db13d1975652137011\",\"display_name\":\"Jenny Lewis\",\"url\":\"\\\\u002Fartists\\\\u002F6113-jenny-lewis\\\\u002F\",\"genres\":[{\"display_name\":\"Rock\",\"slug\":\"rock\"}],\"slug\":\"592991db13d1975652137011\",\"photos\":{\"tout\":{\"width\":400,\"height\":400,\"credit\":\"\",\"caption\":\"\",\"altText\":\"Image may contain: Clothing, Apparel, Sunglasses, Accessories, Accessory, Human, Person, and Female\",\"modelName\":\"photo\",\"title\":\"Jenny Lewis artist image\",\"sizes\":{\"sm\":\"https:\\\\u002F\\\\u002Fmedia.pitchfork.com\\\\u002Fphotos\\\\u002F592991dc13d1975652137013\\\\u002F1:1\\\\u002Fw_150\\\\u002F5db64fee.jpg\",\"m\":\"https:\\\\u002F\\\\u002Fmedia.pitchfork.com\\\\u002Fphotos\\\\u002F592991dc13d1975652137013\\\\u002F1:1\\\\u002Fw_300\\\\u002F5db64fee.jpg\"}},\"lede\":false,\"social\":false}}],\"genres\":[{\"display_name\":\"Rock\",\"slug\":\"rock\"}],\"channel\":\"\",\"subChannel\":\"\",\"position\":0,\"id\":\"64872df25185b039bca7c851\",\"url\":\"\\\\u002Freviews\\\\u002Falbums\\\\u002Fjenny-lewis-joyall\\\\u002F\",\"contentType\":\"albumreview\",\"title\":\"\\\\u003Cem\\\\u003EJoy’all\\\\u003C\\\\u002Fem\\\\u003E\",\"seoTitle\":\"Joy’all\",\"socialTitle\":\"Jenny Lewis: Joy’all\",\"promoTitle\":\"\\\\u003Cem\\\\u003EJoy’all\\\\u003C\\\\u002Fem\\\\u003E\",\"authors\":[{\"id\":\"592604b1c31f3f3472b1d54d\",\"name\":\"Alfred Soto\",\"title\":\"Contributor\",\"url\":\"\\\\u002Fstaff\\\\u002Falfred-soto\\\\u002F\",\"slug\":\"staff\\\\u002Falfred-soto\"}],\"pubDate\":\"2023-06-14T04:00:00.000Z\",\"timestamp\":1686715200000,\"modifiedAt\":\"2023-06-13T19:12:58.879Z\",\"dek\":\"\\\\u003Cp\\\\u003EThe veteran singer-songwriter takes inspiration from classic country on an album full of barbed wit and insight, but the music could use more of the genre’s bite.\\\\u003C\\\\u002Fp\\\\u003E\\\\n\",\"seoDescription\":\"The veteran singer-songwriter takes inspiration from classic country on an album full of barbed wit and insight, but the music could use more of the genre’s bite.\",\"promoDescription\":\"\\\\u003Cp\\\\u003EThe veteran singer-songwriter takes inspiration from classic country on an album full of barbed wit and insight, but the music could use more of the genre’s bite.\\\\u003C\\\\u002Fp\\\\u003E\\\\n\",\"socialDescription\":\"Read Alfred Soto’s review of the album.\",\"privateTags\":[\"_ft:opinion\"],\"tags\":[]},\"6481daa55185b039bca7c7e1\":{\"tombstone\":{\"bnm\":true,\"bnr\":false,\"albums\":[{\"id\":\"6481da65c789a3a5fc5f465f\",\"album\":{\"artists\":[{\"id\":\"592995e15e6ef9596931f336\",\"display_name\":\"Youth Lagoon\",\"url\":\"\\\\u002Fartists\\\\u002F29667-youth-lagoon\\\\u002F\",\"genres\":[{\"display_name\":\"Rock\",\"slug\":\"rock\"}],\"slug\":\"592995e15e6ef9596931f336\",\"photos\":{\"tout\":{\"width\":300,\"height\":300,\"credit\":\"\",\"caption\":\"\",\"altText\":\"Image may contain: Face, Human, Person, and Hair\",\"modelName\":\"photo\",\"title\":\"Youth Lagoon artist image\",\"sizes\":{\"sm\":\"https:\\\\u002F\\\\u002Fmedia.pitchfork.com\\\\u002Fphotos\\\\u002F592995e29d034d5c69bf1a8f\\\\u002F1:1\\\\u002Fw_150\\\\u002F43bede8d.jpg\",\"m\":\"https:\\\\u002F\\\\u002Fmedia.pitchfork.com\\\\u002Fphotos\\\\u002F592995e29d034d5c69bf1a8f\\\\u002F1:1\\\\u002Fw_300\\\\u002F43bede8d.jpg\"}},\"lede\":false,\"social\":false}}],\"display_name\":\"Heaven Is a Junkyard\",\"labels\":[{\"id\":\"5926086717cea934e4daf65e\",\"name\":\"Fat Possum\",\"display_name\":\"Fat Possum\"}],\"release_year\":2023,\"photos\":{\"tout\":{\"width\":3000,\"height\":3000,\"credit\":\"\",\"caption\":\"\",\"altText\":\"Youth Lagoon: Heaven Is a Junkyard\",\"title\":\"Youth Lagoon: Heaven Is a Junkyard\",\"sizes\":{\"list\":\"https:\\\\u002F\\\\u002Fmedia.pitchfork.com\\\\u002Fphotos\\\\u002F63fe065a91f5aaca85d72d7e\\\\u002F1:1\\\\u002Fw_160\\\\u002FYouth-Lagoon-Heaven-Is-a-Junkyard.jpg\",\"standard\":\"https:\\\\u002F\\\\u002Fmedia.pitchfork.com\\\\u002Fphotos\\\\u002F63fe065a91f5aaca85d72d7e\\\\u002F1:1\\\\u002Fw_600\\\\u002FYouth-Lagoon-Heaven-Is-a-Junkyard.jpg\",\"homepageSmall\":\"https:\\\\u002F\\\\u002Fmedia.pitchfork.com\\\\u002Fphotos\\\\u002F63fe065a91f5aaca85d72d7e\\\\u002F1:1\\\\u002Fw_55\\\\u002FYouth-Lagoon-Heaven-Is-a-Junkyard.jpg\",\"homepageLarge\":\"https:\\\\u002F\\\\u002Fmedia.pitchfork.com\\\\u002Fphotos\\\\u002F63fe065a91f5aaca85d72d7e\\\\u002F1:1\\\\u002Fw_320\\\\u002FYouth-Lagoon-Heaven-Is-a-Junkyard.jpg\"}},\"lede\":false,\"social\":false}},\"rating\":{\"display_rating\":\"8.3\",\"rating\":\"8.3\",\"bnm\":true,\"bnr\":false},\"labels_and_years\":[{\"labels\":[{\"id\":\"5926086717cea934e4daf65e\",\"name\":\"Fat Possum\",\"display_name\":\"Fat Possum\"}],\"year\":2023}]}]},\"artists\":[{\"id\":\"592995e15e6ef9596931f336\",\"display_name\":\"Youth Lagoon\",\"url\":\"\\\\u002Fartists\\\\u002F29667-youth-lagoon\\\\u002F\",\"genres\":[{\"display_name\":\"Rock\",\"slug\":\"rock\"}],\"slug\":\"592995e15e6ef9596931f336\",\"photos\":{\"tout\":{\"width\":300,\"height\":300,\"credit\":\"\",\"caption\":\"\",\"altText\":\"Image may contain: Face, Human, Person, and Hair\",\"modelName\":\"photo\",\"title\":\"Youth Lagoon artist image\",\"sizes\":{\"sm\":\"https:\\\\u002F\\\\u002Fmedia.pitchfork.com\\\\u002Fphotos\\\\u002F592995e29d034d5c69bf1a8f\\\\u002F1:1\\\\u002Fw_150\\\\u002F43bede8d.jpg\",\"m\":\"https:\\\\u002F\\\\u002Fmedia.pitchfork.com\\\\u002Fphotos\\\\u002F592995e29d034d5c69bf1a8f\\\\u002F1:1\\\\u002Fw_300\\\\u002F43bede8d.jpg\"}},\"lede\":false,\"social\":false}}],\"genres\":[{\"display_name\":\"Rock\",\"slug\":\"rock\"}],\"channel\":\"\",\"subChannel\":\"\",\"position\":0,\"id\":\"6481daa55185b039bca7c7e1\",\"url\":\"\\\\u002Freviews\\\\u002Falbums\\\\u002Fyouth-lagoon-heaven-is-a-junkyard\\\\u002F\",\"contentType\":\"albumreview\",\"title\":\"\\\\u003Cem\\\\u003EHeaven Is a Junkyard\\\\u003C\\\\u002Fem\\\\u003E\",\"seoTitle\":\"Heaven Is a Junkyard\",\"socialTitle\":\"Youth Lagoon: Heaven Is a Junkyard\",\"promoTitle\":\"\\\\u003Cem\\\\u003EHeaven Is a Junkyard\\\\u003C\\\\u002Fem\\\\u003E\",\"authors\":[{\"id\":\"592604b793405b3cd7615ee1\",\"name\":\"Marc Hogan\",\"title\":\"Senior Staff Writer\",\"url\":\"\\\\u002Fstaff\\\\u002Fmarc-hogan\\\\u002F\",\"slug\":\"staff\\\\u002Fmarc-hogan\"}],\"pubDate\":\"2023-06-13T04:03:00.000Z\",\"timestamp\":1686628980000,\"modifiedAt\":\"2023-06-12T19:23:01.099Z\",\"dek\":\"\\\\u003Cp\\\\u003ETrevor Powers has long shown a penchant for reinvention, but his first album as Youth Lagoon in eight years feels like a homecoming; he’s never sounded so confident or at peace with himself.\\\\u003C\\\\u002Fp\\\\u003E\\\\n\",\"seoDescription\":\"Trevor Powers has long shown a penchant for reinvention, but his first album as Youth Lagoon in eight years feels like a homecoming; he’s never sounded so confident or at peace with himself.\",\"promoDescription\":\"\\\\u003Cp\\\\u003ETrevor Powers has long shown a penchant for reinvention, but his first album as Youth Lagoon in eight years feels like a homecoming; he’s never sounded so confident or at peace with himself.\\\\u003C\\\\u002Fp\\\\u003E\\\\n\",\"socialDescription\":\"Read Marc Hogan’s review of the album.\",\"privateTags\":[\"_ft:opinion\"],\"tags\":[]},\"648727ae61f08c20acc07c22\":{\"tombstone\":{\"bnm\":false,\"bnr\":false,\"albums\":[{\"id\":\"6487275e13de5a28c002ef9e\",\"album\":{\"artists\":[{\"id\":\"5e5803cb0db1200009923a23\",\"display_name\":\"Kassa Overall\",\"url\":\"\\\\u002Fartists\\\\u002Fkassa-overall\\\\u002F\",\"genres\":[{\"display_name\":\"Jazz\",\"slug\":\"jazz\"},{\"display_name\":\"Rap\",\"slug\":\"rap\"}],\"slug\":\"5e5803cb0db1200009923a23\",\"photos\":{}}],\"display_name\":\"Animals\",\"labels\":[{\"id\":\"59260874c31f3f3472b1d5ed\",\"name\":\"Warp\",\"display_name\":\"Warp\"}],\"release_year\":2023,\"photos\":{\"tout\":{\"width\":3000,\"height\":3000,\"credit\":\"\",\"caption\":\"\",\"altText\":\"Kassa Overall: Animals\",\"title\":\"Kassa Overall: Animals\",\"sizes\":{\"list\":\"https:\\\\u002F\\\\u002Fmedia.pitchfork.com\\\\u002Fphotos\\\\u002F64259162a992f931af6d50f7\\\\u002F1:1\\\\u002Fw_160\\\\u002FKassa-Overall-Animals.jpg\",\"standard\":\"https:\\\\u002F\\\\u002Fmedia.pitchfork.com\\\\u002Fphotos\\\\u002F64259162a992f931af6d50f7\\\\u002F1:1\\\\u002Fw_600\\\\u002FKassa-Overall-Animals.jpg\",\"homepageSmall\":\"https:\\\\u002F\\\\u002Fmedia.pitchfork.com\\\\u002Fphotos\\\\u002F64259162a992f931af6d50f7\\\\u002F1:1\\\\u002Fw_55\\\\u002FKassa-Overall-Animals.jpg\",\"homepageLarge\":\"https:\\\\u002F\\\\u002Fmedia.pitchfork.com\\\\u002Fphotos\\\\u002F64259162a992f931af6d50f7\\\\u002F1:1\\\\u002Fw_320\\\\u002FKassa-Overall-Animals.jpg\"}},\"lede\":false,\"social\":false}},\"rating\":{\"display_rating\":\"6.7\",\"rating\":\"6.7\",\"bnm\":false,\"bnr\":false},\"labels_and_years\":[{\"labels\":[{\"id\":\"59260874c31f3f3472b1d5ed\",\"name\":\"Warp\",\"display_name\":\"Warp\"}],\"year\":2023}]}]},\"artists\":[{\"id\":\"5e5803cb0db1200009923a23\",\"display_name\":\"Kassa Overall\",\"url\":\"\\\\u002Fartists\\\\u002Fkassa-overall\\\\u002F\",\"genres\":[{\"display_name\":\"Jazz\",\"slug\":\"jazz\"},{\"display_name\":\"Rap\",\"slug\":\"rap\"}],\"slug\":\"5e5803cb0db1200009923a23\",\"photos\":{}}],\"genres\":[{\"display_name\":\"Jazz\",\"slug\":\"jazz\"},{\"display_name\":\"Rap\",\"slug\":\"rap\"}],\"channel\":\"\",\"subChannel\":\"\",\"position\":0,\"id\":\"648727ae61f08c20acc07c22\",\"url\":\"\\\\u002Freviews\\\\u002Falbums\\\\u002Fkassa-overall-animals\\\\u002F\",\"contentType\":\"albumreview\",\"title\":\"\\\\u003Cem\\\\u003EAnimals\\\\u003C\\\\u002Fem\\\\u003E\",\"seoTitle\":\"Animals\",\"socialTitle\":\"Kassa Overall: Animals\",\"promoTitle\":\"\\\\u003Cem\\\\u003EAnimals\\\\u003C\\\\u002Fem\\\\u003E\",\"authors\":[{\"id\":\"592604b793405b3cd7615ee1\",\"name\":\"Marc Hogan\",\"title\":\"Senior Staff Writer\",\"url\":\"\\\\u002Fstaff\\\\u002Fmarc-hogan\\\\u002F\",\"slug\":\"staff\\\\u002Fmarc-hogan\"}],\"pubDate\":\"2023-06-13T04:02:00.000Z\",\"timestamp\":1686628920000,\"modifiedAt\":\"2023-06-13T19:19:05.492Z\",\"dek\":\"\\\\u003Cp\\\\u003ELike his last LP, the drummer-producer’s Warp debut rejects false dichotomies like jazz vs. hip-hop. But sometimes, his freeform style is too scattered for its own good.\\\\u003C\\\\u002Fp\\\\u003E\\\\n\",\"seoDescription\":\"Like his last LP, the drummer-producer’s Warp debut rejects false dichotomies like jazz vs. hip-hop. But sometimes, his freeform style is too haphazard for its own good.\",\"promoDescription\":\"\\\\u003Cp\\\\u003ELike his last LP, the drummer-producer’s Warp debut rejects false dichotomies like jazz vs. hip-hop. But sometimes, his freeform style is too haphazard for its own good.\\\\u003C\\\\u002Fp\\\\u003E\\\\n\",\"socialDescription\":\"Read Marc Hogan’s review of the album.\",\"privateTags\":[\"_ft:opinion\"],\"tags\":[]}},\"itemPages\":[\"6489db43b9ec4da09fa9d930\",\"648b3d17e7a8aa8db8026c97\",\"6489cfe9c789a3a5fc5f479e\",\"6489d1f7355b07b01885e050\",\"648888eac789a3a5fc5f473b\",\"648889d9693ba71b769db54b\",\"6489ccbe13de5a28c002f0a4\",\"64872cc061f08c20acc07c25\",\"64872febf5286b93bb1a27b1\",\"64872df25185b039bca7c851\",\"6481daa55185b039bca7c7e1\",\"648727ae61f08c20acc07c22\"],\"pagination\":{\"current\":1,\"start\":1,\"end\":1,\"total\":834},\"category\":{\"header\":\"\",\"id\":null,\"name\":\"albums\",\"bio\":\"\",\"mobile_header\":\"\",\"social_title\":\"\",\"social_description\":\"\",\"social_image\":\"\",\"url\":\"\\\\u002Freviews\\\\u002Falbums\\\\u002F\"},\"genres\":[]},\"TrackerStore\":{\"storeName\":\"ReviewsStore\",\"pageType\":\"collection\",\"url\":\"\\\\u002Freviews\\\\u002Falbums\\\\u002F\",\"dd\":{\"display\":\"New Albums & Music Reviews\",\"length\":\"all\",\"pageValue\":\"all\",\"subsection\":\"reviews\\\\u002FAlbums\",\"canonical\":\"https:\\\\u002F\\\\u002Fpitchfork.com\\\\u002Freviews\\\\u002Falbums\\\\u002F\",\"section\":\"reviews\",\"pageType\":\"album-reviews\"},\"section\":\"reviews\",\"pageTitle\":\"New Albums & Music Reviews\",\"query\":{\"types\":\"reviews\",\"hierarchy\":\"sections\\\\u002Freviews\\\\u002Falbums,channels\\\\u002Freviews\\\\u002Falbums\",\"sort\":\"publishdate desc,position asc\",\"size\":12,\"start\":0},\"params\":{},\"parselyData\":{\"@context\":\"http:\\\\u002F\\\\u002Fschema.org\",\"@type\":\"WebPage\",\"headline\":\"New Albums & Music Reviews\",\"url\":\"https:\\\\u002F\\\\u002Fpitchfork.com\\\\u002Freviews\\\\u002Falbums\\\\u002F\",\"articleSection\":\"reviews\"},\"gtmContent\":{\"contentSource\":\"web\",\"contentLength\":\"all\",\"section\":\"reviews\",\"subsection\":\"albums\",\"display\":\"New Albums & Music Reviews\"},\"gtmSearch\":{},\"gtmUser\":{},\"canonical\":\"https:\\\\u002F\\\\u002Fpitchfork.com\\\\u002Freviews\\\\u002Falbums\\\\u002F\"}}},\"options\":{\"optimizePromiseCallback\":false},\"plugins\":{}},\"plugins\":{}};</script><script src=\"/assets/manifest-8e045d5bb6dfde68089b.js\"></script><script src=\"/assets/vendor-16a4e39cb87bc80a239c.js\"></script><script src=\"/assets/main-70fb925c51f55d31c304.js\"></script><script type=\"text/javascript\"></script><script id=\"esi-1\">window.CN_STACK_TEMP=\"unknown\";</script><script id=\"cns-config-include\">window.cns = window.cns || {}; window.cns.config = {\"config\":{\"ad_unit\":{\"generate_path\":\"function(opts) { return \\\\\"3379/\\\\\" + opts.suffix + \\\\\"/\\\\\" + opts.position + \\\\\"/\\\\\" + opts.category + \\\\\"/\\\\\" + opts.contentType + \\\\\"/\\\\\" + opts.instance; }\",\"map\":{\"content_type\":{\"article\":[\"artist_detail\",\"features_detail\",\"levels_detail\",\"news_detail\",\"pitch_detail\",\"sunday_reviews\",\"review_detail\",\"track_reviews\",\"tracks_detail\",\"video_detail\",\"video_show\"],\"bundle\":[\"album_reviews\",\"artists\",\"best\",\"events\",\"features_type\",\"features\",\"features_popular\",\"festivals\",\"home\",\"levels\",\"levels_tag\",\"news\",\"news_popular\",\"news_tag\",\"pitch\",\"pitch_popular\",\"pitch_tag\",\"reviews_popular\",\"the_latest\",\"the_latest_popular\",\"topicsandtags\",\"tracks_popular\",\"tv\",\"video_popular\"],\"contributor\":[],\"gallery\":[],\"search\":[],\"site-info\":[]}}},\"request_vp_range\":{\"_default\":{\"desktop\":100,\"tablet\":150,\"mobile\":200}},\"brandSlug\":\"pitchfork\",\"domain\":\"pitchfork.com\",\"network\":3379,\"slot\":{\"__auid_one\":\"pitchfork\",\"sets\":{\"_default\":[\"_out_of_page\",\"post_nav\",\"siderail\",\"native_home\",\"inline_index\"],\"noslots\":[],\"the_latest\":[\"_out_of_page\",\"post_nav\",\"siderail\",\"native_index\",\"inline_index\"],\"tv\":[\"_out_of_page\",\"post_nav\",\"siderail\",\"inline_index\"],\"events\":[\"_out_of_page\",\"post_nav\",\"siderail\",\"inline_index\"],\"news\":[\"_out_of_page\",\"post_nav\",\"siderail\",\"native_index\",\"inline_index\"],\"news_detail\":[\"_out_of_page\",\"post_nav\",\"siderail\",\"inline_index\"],\"features\":[\"_out_of_page\",\"post_nav\",\"siderail\",\"native_features\",\"inline_index\"],\"pitch\":[\"_out_of_page\",\"post_nav\",\"siderail\",\"inline_index\"],\"album_reviews\":[\"_out_of_page\",\"post_nav\",\"inline_index\"],\"track_reviews\":[\"_out_of_page\",\"post_nav\",\"inline_index\"],\"best\":[\"_out_of_page\",\"post_nav\",\"inline_index\"],\"artists\":[\"_out_of_page\",\"post_nav\"],\"artist_detail\":[\"_out_of_page\",\"post_nav\"],\"features_detail\":[\"_out_of_page\",\"post_nav\",\"gallery_box\",\"inline_index\",\"footer\"],\"features_type\":[\"_out_of_page\",\"post_nav\",\"siderail\",\"inline_index\"],\"review_detail\":[\"_out_of_page\",\"post_nav\",\"siderail\"],\"tracks_detail\":[\"_out_of_page\",\"post_nav\",\"inline_index\"],\"video_detail\":[\"_out_of_page\",\"post_nav\",\"inline_index\"],\"festivals\":[\"_out_of_page\",\"post_nav\",\"inline_index\"]},\"types\":{\"_default\":{\"suffix\":\"conde.pitchfork\",\"render\":{\"slot\":{\"top\":\"body\"}}},\"_out_of_page\":{\"_default\":{\"position\":\"interstitial\",\"refresh\":false,\"isOutOfPage\":true,\"can_be_hidden\":true,\"render\":{\"slot\":{\"top\":\".ad__slot--out-of-page\"}}}},\"post_nav\":{\"_default\":{\"position\":\"hero\",\"static_refresh_size\":true,\"sizes\":{\"desktop\":[\"728x90\",\"970x66\",\"970x250\",\"970x400\",\"970x90\",\"970x125\",\"9x1\",\"9x3\",\"10x1\"],\"tablet\":[\"728x90\",\"970x66\",\"970x250\",\"970x400\",\"970x90\",\"970x125\",\"9x1\",\"9x3\",\"8x1\"],\"mobile\":[\"300x50\",\"320x50\",\"9x1\",\"3x1\"]},\"render\":{\"slot\":{\"after\":\".site-nav, .mobile-masthead\"}},\"data\":{\"jivox-ad-id\":\"constellation-crown\"},\"mods\":{\"sizes|970x250,9x3\":{\"refresh\":false}}}},\"gallery_box\":{\"_default\":{\"position\":\"mid-gallery\",\"sizes\":{\"desktop\":[\"300x250\"],\"tablet\":[\"300x250\"],\"mobile\":[\"300x250\"]},\"render\":{\"slot\":{\"top\":\".gallery-ad\"}}}},\"siderail\":{\"_default\":{\"position\":\"rail\",\"sizes\":{\"desktop\":[\"300x250\",\"300x600\"],\"tablet\":[\"300x250\",\"300x600\"],\"mobile\":false},\"render\":{\"slot\":{\"top\":\".sticky\"}}},\"tv\":{\"render\":{\"slot\":{\"top\":\".sidebar\"}}},\"events\":{\"render\":{\"slot\":{\"top\":\".ad-sidebar\"}}}},\"inline_index\":{\"_default\":{\"position\":\"mid-content\",\"static_refresh_size\":true,\"sizes\":{\"desktop\":[\"728x90\",\"970x250\",\"970x400\",\"970x125\",\"1440x520\",\"4x1\",\"2x1\"],\"tablet\":[\"728x90\",\"970x250\",\"970x400\",\"970x125\",\"1440x520\",\"4x1\",\"2x1\"],\"mobile\":[\"300x50\",\"320x50\",\"320x250\",\"300x250\",\"9x3\",\"16x9\",\"2x1\"]},\"render\":{\"slot\":{\"top\":\".ad__slot--inline-index\"}}}},\"native_home\":{\"_default\":{\"position\":\"legacy\",\"suffix\":\"conde.pitchfork.native\",\"can_be_hidden\":true,\"refresh\":false,\"sizes\":{\"desktop\":[\"165x307\",\"2x2\"],\"tablet\":[\"165x307\",\"2x2\"],\"mobile\":[\"165x307\",\"2x2\"]},\"render\":{\"slot\":{\"top\":\".module-row:nth-of-type(1) .module:nth-of-type(1)\"}}}},\"native_index\":{\"_default\":{\"position\":\"legacy\",\"suffix\":\"conde.pitchfork.native\",\"can_be_hidden\":true,\"refresh\":false,\"sizes\":{\"desktop\":[\"165x307\",\"2x2\"],\"tablet\":[\"165x307\",\"2x2\"],\"mobile\":[\"165x307\",\"2x2\"]},\"render\":{\"slot\":{\"top\":\"section.second-tier.module-row .collection-module:nth-of-type(4)\"}}}},\"native_features\":{\"_default\":{\"position\":\"legacy\",\"suffix\":\"conde.pitchfork.native\",\"can_be_hidden\":true,\"refresh\":false,\"sizes\":{\"desktop\":[\"320x320\",\"2x2\"],\"tablet\":[\"320x320\",\"2x2\"],\"mobile\":[\"320x320\",\"2x2\"]},\"render\":{\"slot\":{\"before\":\".container-fluid:nth-of-type(2) .feature-module.module.module--with-abstract:nth-of-type(2)\"}}}},\"hero\":{\"_default\":{\"position\":\"hero\",\"static_refresh_size\":true,\"sizes\":{\"desktop\":[\"728x90\",\"970x250\",\"1600x400\",\"970x90\",\"9x1\",\"10x1\"],\"tablet\":[\"728x90\",\"1600x400\",\"9x1\",\"8x1\"],\"mobile\":[\"300x50\",\"320x50\",\"600x300\",\"9x1\",\"3x1\"]},\"render\":{\"slot\":{\"top\":\".ad__slot--hero\"}}}},\"rail\":{\"_default\":{\"position\":\"rail\",\"sizes\":{\"desktop\":[\"250x250\",\"300x250\",\"300x600\"],\"tablet\":[\"250x250\",\"300x250\",\"300x600\"],\"mobile\":[\"250x250\",\"300x250\"]},\"render\":{\"slot\":{\"top\":\".ad__slot--rail\"}}}},\"footer\":{\"_default\":{\"position\":\"footer\",\"sizes\":{\"desktop\":[\"728x90\",\"1600x400\",\"970x250\",\"970x90\",\"9x1\",\"4x1\"],\"tablet\":[\"728x90\",\"970x250\",\"970x90\",\"9x1\",\"4x1\"],\"mobile\":[\"300x50\",\"320x50\",\"9x1\",\"16x9\"]},\"render\":{\"slot\":{\"bottom\":\"#feature-detail\"}},\"request_vp_range\":{\"desktop\":50,\"tablet\":50,\"mobile\":100}}}}}},\"plugins\":{\"amazon_match_buy\":{\"enabled\":true},\"prebid\":{\"enabled\":true,\"params\":{\"ix_identity\":true}},\"aam\":{\"enabled\":true},\"proximic\":{\"enabled\":true},\"4d_xid_pixels\":{\"enabled\":true},\"ias\":{\"enabled\":true,\"params\":{\"id\":931565}},\"moat\":{\"enabled\":true,\"params\":{\"id\":\"condenastprebidheader987326845656\"}}},\"buildDate\":\"2023-06-14T17:12:45.734Z\"}</script><script id=\"cns-footer-include\">(function(){\"use strict\";var commonjsGlobal=\"undefined\"!=typeof globalThis?globalThis:\"undefined\"!=typeof window?window:\"undefined\"!=typeof global?global:\"undefined\"!=typeof self?self:{},usertiming={exports:{}},module;function pathToArray(e){return e.split?e.split(\".\"):e}function get$1(e,t){t=pathToArray(t);for(let n=0;e&&n<t.length;n++)e=e[t[n]];return e}function set$1(e,t,n){const r=(t=pathToArray(t)).length-1,o=t[r];for(let n=0;n<r;n++){const o=t[n];!e[o]&&n<r&&(e[o]={}),e=e[t[n]]}return{oldValue:e&&e[o],newValue:e&&(e[o]=n)}}function pick(e,t){const n={};return t.forEach((t=>{const r=get$1(e,t);r&&set$1(n,t,r)})),n}function ownKeys$2(e,t){var n=Object.keys(e);if(Object.getOwnPropertySymbols){var r=Object.getOwnPropertySymbols(e);t&&(r=r.filter((function(t){return Object.getOwnPropertyDescriptor(e,t).enumerable}))),n.push.apply(n,r)}return n}function _objectSpread2(e){for(var t=1;t<arguments.length;t++){var n=null!=arguments[t]?arguments[t]:{};t%2?ownKeys$2(Object(n),!0).forEach((function(t){_defineProperty(e,t,n[t])})):Object.getOwnPropertyDescriptors?Object.defineProperties(e,Object.getOwnPropertyDescriptors(n)):ownKeys$2(Object(n)).forEach((function(t){Object.defineProperty(e,t,Object.getOwnPropertyDescriptor(n,t))}))}return e}function _defineProperty(e,t,n){return t in e?Object.defineProperty(e,t,{value:n,enumerable:!0,configurable:!0,writable:!0}):e[t]=n,e}module=usertiming,function(e){void 0===e&&(e={}),void 0===e.performance&&(e.performance={}),e._perfRefForUserTimingPolyfill=e.performance,e.performance.userTimingJsNow=!1,e.performance.userTimingJsNowPrefixed=!1,e.performance.userTimingJsUserTiming=!1,e.performance.userTimingJsUserTimingPrefixed=!1,e.performance.userTimingJsPerformanceTimeline=!1,e.performance.userTimingJsPerformanceTimelinePrefixed=!1;var t,n,r=[],o=[],i=null;if(\"function\"!=typeof e.performance.now){for(e.performance.userTimingJsNow=!0,o=[\"webkitNow\",\"msNow\",\"mozNow\"],t=0;t<o.length;t++)if(\"function\"==typeof e.performance[o[t]]){e.performance.now=e.performance[o[t]],e.performance.userTimingJsNowPrefixed=!0;break}var s=+new Date;e.performance.timing&&e.performance.timing.navigationStart?s=e.performance.timing.navigationStart:\"undefined\"!=typeof process&&\"function\"==typeof process.hrtime&&(s=process.hrtime(),e.performance.now=function(){var e=process.hrtime(s);return 1e3*e[0]+1e-6*e[1]}),\"function\"!=typeof e.performance.now&&(Date.now?e.performance.now=function(){return Date.now()-s}:e.performance.now=function(){return+new Date-s})}var a=function(){},c=function(){},l=[],d=!1,u=!1;if(\"function\"!=typeof e.performance.getEntries||\"function\"!=typeof e.performance.mark){for(\"function\"==typeof e.performance.getEntries&&\"function\"!=typeof e.performance.mark&&(u=!0),e.performance.userTimingJsPerformanceTimeline=!0,r=[\"webkit\",\"moz\"],o=[\"getEntries\",\"getEntriesByName\",\"getEntriesByType\"],t=0;t<o.length;t++)for(n=0;n<r.length;n++)i=r[n]+o[t].substr(0,1).toUpperCase()+o[t].substr(1),\"function\"==typeof e.performance[i]&&(e.performance[o[t]]=e.performance[i],e.performance.userTimingJsPerformanceTimelinePrefixed=!0);a=function(e){l.push(e),\"measure\"===e.entryType&&(d=!0)};var g=function(){d&&(l.sort((function(e,t){return e.startTime-t.startTime})),d=!1)};if(c=function(e,n){for(t=0;t<l.length;)l[t].entryType!==e||void 0!==n&&l[t].name!==n?t++:l.splice(t,1)},\"function\"!=typeof e.performance.getEntries||u){var p=e.performance.getEntries;e.performance.getEntries=function(){g();var t=l.slice(0);return u&&p&&(Array.prototype.push.apply(t,p.call(e.performance)),t.sort((function(e,t){return e.startTime-t.startTime}))),t}}if(\"function\"!=typeof e.performance.getEntriesByType||u){var f=e.performance.getEntriesByType;e.performance.getEntriesByType=function(n){if(void 0===n||\"mark\"!==n&&\"measure\"!==n)return u&&f?f.call(e.performance,n):[];\"measure\"===n&&g();var r=[];for(t=0;t<l.length;t++)l[t].entryType===n&&r.push(l[t]);return r}}if(\"function\"!=typeof e.performance.getEntriesByName||u){var m=e.performance.getEntriesByName;e.performance.getEntriesByName=function(n,r){if(r&&\"mark\"!==r&&\"measure\"!==r)return u&&m?m.call(e.performance,n,r):[];void 0!==r&&\"measure\"===r&&g();var o=[];for(t=0;t<l.length;t++)void 0!==r&&l[t].entryType!==r||l[t].name===n&&o.push(l[t]);return u&&m&&(Array.prototype.push.apply(o,m.call(e.performance,n,r)),o.sort((function(e,t){return e.startTime-t.startTime}))),o}}}if(\"function\"!=typeof e.performance.mark){for(e.performance.userTimingJsUserTiming=!0,r=[\"webkit\",\"moz\",\"ms\"],o=[\"mark\",\"measure\",\"clearMarks\",\"clearMeasures\"],t=0;t<o.length;t++)for(n=0;n<r.length;n++)i=r[n]+o[t].substr(0,1).toUpperCase()+o[t].substr(1),\"function\"==typeof e.performance[i]&&(e.performance[o[t]]=e.performance[i],e.performance.userTimingJsUserTimingPrefixed=!0);var y={};\"function\"!=typeof e.performance.mark&&(e.performance.mark=function(t){var n=e.performance.now();if(void 0===t)throw new SyntaxError(\"Mark name must be specified\");if(e.performance.timing&&t in e.performance.timing)throw new SyntaxError(\"Mark name is not allowed\");y[t]||(y[t]=[]),y[t].push(n),a({entryType:\"mark\",name:t,startTime:n,duration:0})}),\"function\"!=typeof e.performance.clearMarks&&(e.performance.clearMarks=function(e){e?y[e]=[]:y={},c(\"mark\",e)}),\"function\"!=typeof e.performance.measure&&(e.performance.measure=function(t,n,r){var o=e.performance.now();if(void 0===t)throw new SyntaxError(\"Measure must be specified\");if(n){var i=0;if(e.performance.timing&&n in e.performance.timing){if(\"navigationStart\"!==n&&0===e.performance.timing[n])throw new Error(n+\" has a timing of 0\");i=e.performance.timing[n]-e.performance.timing.navigationStart}else{if(!(n in y))throw new Error(n+\" mark not found\");i=y[n][y[n].length-1]}var s=o;if(r)if(s=0,e.performance.timing&&r in e.performance.timing){if(\"navigationStart\"!==r&&0===e.performance.timing[r])throw new Error(r+\" has a timing of 0\");s=e.performance.timing[r]-e.performance.timing.navigationStart}else{if(!(r in y))throw new Error(r+\" mark not found\");s=y[r][y[r].length-1]}a({entryType:\"measure\",name:t,startTime:i,duration:s-i})}else a({entryType:\"measure\",name:t,startTime:0,duration:o})}),\"function\"!=typeof e.performance.clearMeasures&&(e.performance.clearMeasures=function(e){c(\"measure\",e)})}module.exports=e.performance}(\"undefined\"!=typeof window?window:void 0);const prefix=\"ads.\";function emitEvent(e,t,n){window.cnBus.emit(prefix+t+\".\"+e,n)}const levels={debug:emitEvent.bind(null,\"debug\"),info:emitEvent.bind(null,\"info\"),warn:emitEvent.bind(null,\"warn\"),error:emitEvent.bind(null,\"error\")},debug$1=levels.debug,error$1=levels.error,warn=levels.warn,styling={debug:\"color:darkgreen\",info:\"color:darkblue\"};function EventEmitter(e){return Object.keys(levels).reduce(((t,n)=>(t[n]=(t,r)=>levels[n](e+\".\"+t,r),t)),{})}function addStyling(e,t){styling[e]&&(t[1]&&(t[2]=t[1]),t[0]=\"%c\"+t[0],t[1]=styling[e])}function render(e,t){let n=t.topic;const r=n.split(\".\"),o=r[r.length-1],i=console[o],s=[n];e&&s.push(e),addStyling(o,s),i.apply(console,s)}function addDefaultSubscriptions(e,t){t&&e.on(\"ads.#.debug\",render),e.on(\"ads.#.info\",render),e.on(\"ads.#.warn\",render),e.on(\"ads.#.error\",render)}function handlePromiseError(e){return t=>emitEvent(\"error\",e,t)}_objectSpread2(_objectSpread2({emitEvent:emitEvent,EventEmitter:EventEmitter,handlePromiseError:handlePromiseError},levels),{},{addDefaultSubscriptions:addDefaultSubscriptions});const minInterval=50;function deprecated(e){let t=arguments.length>1&&void 0!==arguments[1]?arguments[1]:\"unnamed\";return function(){warn(`function ${t} is deprecated`);for(var n=arguments.length,r=new Array(n),o=0;o<n;o++)r[o]=arguments[o];return e.apply(null,r)}}function til(e,t,n){let r;n=Math.max(n||minInterval,minInterval);try{if(r=e(),r)try{return t()}catch(e){error$1(\"til\",e)}}catch(e){}setTimeout(til.bind(null,e,t,n),n)}function find$1(e,t){for(let n=0;n<e.length;n++)if(t(e[n]))return e[n]}function any(e,t){return!!find$1(e,t)}function all(e,t){for(let n=0;n<e.length;n++)if(!t(e[n]))return!1;return!0}function uniq(e){return Array.from(new Set(e))}function difference(e,t){return e.filter((e=>-1===t.indexOf(e)))}function getConfig$1(e){return e.cns&&e.cns.config}function getViewportTemplate(){const e=window.innerWidth;return e<768?\"mobile\":e<1024?\"tablet\":\"desktop\"}var check=function(e){return e&&e.Math==Math&&e},global$u=check(\"object\"==typeof globalThis&&globalThis)||check(\"object\"==typeof window&&window)||check(\"object\"==typeof self&&self)||check(\"object\"==typeof commonjsGlobal&&commonjsGlobal)||function(){return this}()||Function(\"return this\")(),objectGetOwnPropertyDescriptor={},fails$a=function(e){try{return!!e()}catch(e){return!0}},fails$9=fails$a,descriptors=!fails$9((function(){return 7!=Object.defineProperty({},1,{get:function(){return 7}})[1]})),fails$8=fails$a,functionBindNative=!fails$8((function(){var e=function(){}.bind();return\"function\"!=typeof e||e.hasOwnProperty(\"prototype\")})),NATIVE_BIND$2=functionBindNative,call$6=Function.prototype.call,functionCall=NATIVE_BIND$2?call$6.bind(call$6):function(){return call$6.apply(call$6,arguments)},objectPropertyIsEnumerable={},$propertyIsEnumerable={}.propertyIsEnumerable,getOwnPropertyDescriptor$1=Object.getOwnPropertyDescriptor,NASHORN_BUG=getOwnPropertyDescriptor$1&&!$propertyIsEnumerable.call({1:2},1);objectPropertyIsEnumerable.f=NASHORN_BUG?function(e){var t=getOwnPropertyDescriptor$1(this,e);return!!t&&t.enumerable}:$propertyIsEnumerable;var createPropertyDescriptor$3=function(e,t){return{enumerable:!(1&e),configurable:!(2&e),writable:!(4&e),value:t}},NATIVE_BIND$1=functionBindNative,FunctionPrototype$2=Function.prototype,bind=FunctionPrototype$2.bind,call$5=FunctionPrototype$2.call,uncurryThis$b=NATIVE_BIND$1&&bind.bind(call$5,call$5),functionUncurryThis=NATIVE_BIND$1?function(e){return e&&uncurryThis$b(e)}:function(e){return e&&function(){return call$5.apply(e,arguments)}},uncurryThis$a=functionUncurryThis,toString$3=uncurryThis$a({}.toString),stringSlice=uncurryThis$a(\"\".slice),classofRaw$1=function(e){return stringSlice(toString$3(e),8,-1)},global$t=global$u,uncurryThis$9=functionUncurryThis,fails$7=fails$a,classof$3=classofRaw$1,Object$5=global$t.Object,split=uncurryThis$9(\"\".split),indexedObject=fails$7((function(){return!Object$5(\"z\").propertyIsEnumerable(0)}))?function(e){return\"String\"==classof$3(e)?split(e,\"\"):Object$5(e)}:Object$5,global$s=global$u,TypeError$9=global$s.TypeError,requireObjectCoercible$2=function(e){if(null==e)throw TypeError$9(\"Can\\'t call method on \"+e);return e},IndexedObject=indexedObject,requireObjectCoercible$1=requireObjectCoercible$2,toIndexedObject$4=function(e){return IndexedObject(requireObjectCoercible$1(e))},isCallable$e=function(e){return\"function\"==typeof e},isCallable$d=isCallable$e,isObject$9=function(e){return\"object\"==typeof e?null!==e:isCallable$d(e)},global$r=global$u,isCallable$c=isCallable$e,aFunction=function(e){return isCallable$c(e)?e:void 0},getBuiltIn$4=function(e,t){return arguments.length<2?aFunction(global$r[e]):global$r[e]&&global$r[e][t]},uncurryThis$8=functionUncurryThis,objectIsPrototypeOf=uncurryThis$8({}.isPrototypeOf),getBuiltIn$3=getBuiltIn$4,engineUserAgent=getBuiltIn$3(\"navigator\",\"userAgent\")||\"\",global$q=global$u,userAgent=engineUserAgent,process$1=global$q.process,Deno=global$q.Deno,versions=process$1&&process$1.versions||Deno&&Deno.version,v8=versions&&versions.v8,match,version$1;v8&&(match=v8.split(\".\"),version$1=match[0]>0&&match[0]<4?1:+(match[0]+match[1])),!version$1&&userAgent&&(match=userAgent.match(/Edge\\\\/(\\\\d+)/),(!match||match[1]>=74)&&(match=userAgent.match(/Chrome\\\\/(\\\\d+)/),match&&(version$1=+match[1])));var engineV8Version=version$1,V8_VERSION=engineV8Version,fails$6=fails$a,nativeSymbol=!!Object.getOwnPropertySymbols&&!fails$6((function(){var e=Symbol();return!String(e)||!(Object(e)instanceof Symbol)||!Symbol.sham&&V8_VERSION&&V8_VERSION<41})),NATIVE_SYMBOL$1=nativeSymbol,useSymbolAsUid=NATIVE_SYMBOL$1&&!Symbol.sham&&\"symbol\"==typeof Symbol.iterator,global$p=global$u,getBuiltIn$2=getBuiltIn$4,isCallable$b=isCallable$e,isPrototypeOf$2=objectIsPrototypeOf,USE_SYMBOL_AS_UID$1=useSymbolAsUid,Object$4=global$p.Object,isSymbol$2=USE_SYMBOL_AS_UID$1?function(e){return\"symbol\"==typeof e}:function(e){var t=getBuiltIn$2(\"Symbol\");return isCallable$b(t)&&isPrototypeOf$2(t.prototype,Object$4(e))},global$o=global$u,String$4=global$o.String,tryToString$2=function(e){try{return String$4(e)}catch(e){return\"Object\"}},global$n=global$u,isCallable$a=isCallable$e,tryToString$1=tryToString$2,TypeError$8=global$n.TypeError,aCallable$1=function(e){if(isCallable$a(e))return e;throw TypeError$8(tryToString$1(e)+\" is not a function\")},aCallable=aCallable$1,getMethod$1=function(e,t){var n=e[t];return null==n?void 0:aCallable(n)},global$m=global$u,call$4=functionCall,isCallable$9=isCallable$e,isObject$8=isObject$9,TypeError$7=global$m.TypeError,ordinaryToPrimitive$1=function(e,t){var n,r;if(\"string\"===t&&isCallable$9(n=e.toString)&&!isObject$8(r=call$4(n,e)))return r;if(isCallable$9(n=e.valueOf)&&!isObject$8(r=call$4(n,e)))return r;if(\"string\"!==t&&isCallable$9(n=e.toString)&&!isObject$8(r=call$4(n,e)))return r;throw TypeError$7(\"Can\\'t convert object to primitive value\")},shared$3={exports:{}},global$l=global$u,defineProperty$1=Object.defineProperty,setGlobal$3=function(e,t){try{defineProperty$1(global$l,e,{value:t,configurable:!0,writable:!0})}catch(n){global$l[e]=t}return t},global$k=global$u,setGlobal$2=setGlobal$3,SHARED=\"__core-js_shared__\",store$3=global$k[SHARED]||setGlobal$2(SHARED,{}),sharedStore=store$3,store$2=sharedStore;(shared$3.exports=function(e,t){return store$2[e]||(store$2[e]=void 0!==t?t:{})})(\"versions\",[]).push({version:\"3.21.1\",mode:\"global\",copyright:\"© 2014-2022 Denis Pushkarev (zloirock.ru)\",license:\"https://github.com/zloirock/core-js/blob/v3.21.1/LICENSE\",source:\"https://github.com/zloirock/core-js\"});var global$j=global$u,requireObjectCoercible=requireObjectCoercible$2,Object$3=global$j.Object,toObject$2=function(e){return Object$3(requireObjectCoercible(e))},uncurryThis$7=functionUncurryThis,toObject$1=toObject$2,hasOwnProperty=uncurryThis$7({}.hasOwnProperty),hasOwnProperty_1=Object.hasOwn||function(e,t){return hasOwnProperty(toObject$1(e),t)},uncurryThis$6=functionUncurryThis,id=0,postfix=Math.random(),toString$2=uncurryThis$6(1..toString),uid$3=function(e){return\"Symbol(\"+(void 0===e?\"\":e)+\")_\"+toString$2(++id+postfix,36)},global$i=global$u,shared$2=shared$3.exports,hasOwn$9=hasOwnProperty_1,uid$2=uid$3,NATIVE_SYMBOL=nativeSymbol,USE_SYMBOL_AS_UID=useSymbolAsUid,WellKnownSymbolsStore=shared$2(\"wks\"),Symbol$1=global$i.Symbol,symbolFor=Symbol$1&&Symbol$1.for,createWellKnownSymbol=USE_SYMBOL_AS_UID?Symbol$1:Symbol$1&&Symbol$1.withoutSetter||uid$2,wellKnownSymbol$4=function(e){if(!hasOwn$9(WellKnownSymbolsStore,e)||!NATIVE_SYMBOL&&\"string\"!=typeof WellKnownSymbolsStore[e]){var t=\"Symbol.\"+e;NATIVE_SYMBOL&&hasOwn$9(Symbol$1,e)?WellKnownSymbolsStore[e]=Symbol$1[e]:WellKnownSymbolsStore[e]=USE_SYMBOL_AS_UID&&symbolFor?symbolFor(t):createWellKnownSymbol(t)}return WellKnownSymbolsStore[e]},global$h=global$u,call$3=functionCall,isObject$7=isObject$9,isSymbol$1=isSymbol$2,getMethod=getMethod$1,ordinaryToPrimitive=ordinaryToPrimitive$1,wellKnownSymbol$3=wellKnownSymbol$4,TypeError$6=global$h.TypeError,TO_PRIMITIVE=wellKnownSymbol$3(\"toPrimitive\"),toPrimitive$1=function(e,t){if(!isObject$7(e)||isSymbol$1(e))return e;var n,r=getMethod(e,TO_PRIMITIVE);if(r){if(void 0===t&&(t=\"default\"),n=call$3(r,e,t),!isObject$7(n)||isSymbol$1(n))return n;throw TypeError$6(\"Can\\'t convert object to primitive value\")}return void 0===t&&(t=\"number\"),ordinaryToPrimitive(e,t)},toPrimitive=toPrimitive$1,isSymbol=isSymbol$2,toPropertyKey$2=function(e){var t=toPrimitive(e,\"string\");return isSymbol(t)?t:t+\"\"},global$g=global$u,isObject$6=isObject$9,document$1=global$g.document,EXISTS$1=isObject$6(document$1)&&isObject$6(document$1.createElement),documentCreateElement=function(e){return EXISTS$1?document$1.createElement(e):{}},DESCRIPTORS$6=descriptors,fails$5=fails$a,createElement$1=documentCreateElement,ie8DomDefine=!DESCRIPTORS$6&&!fails$5((function(){return 7!=Object.defineProperty(createElement$1(\"div\"),\"a\",{get:function(){return 7}}).a})),DESCRIPTORS$5=descriptors,call$2=functionCall,propertyIsEnumerableModule=objectPropertyIsEnumerable,createPropertyDescriptor$2=createPropertyDescriptor$3,toIndexedObject$3=toIndexedObject$4,toPropertyKey$1=toPropertyKey$2,hasOwn$8=hasOwnProperty_1,IE8_DOM_DEFINE$1=ie8DomDefine,$getOwnPropertyDescriptor$1=Object.getOwnPropertyDescriptor;objectGetOwnPropertyDescriptor.f=DESCRIPTORS$5?$getOwnPropertyDescriptor$1:function(e,t){if(e=toIndexedObject$3(e),t=toPropertyKey$1(t),IE8_DOM_DEFINE$1)try{return $getOwnPropertyDescriptor$1(e,t)}catch(e){}if(hasOwn$8(e,t))return createPropertyDescriptor$2(!call$2(propertyIsEnumerableModule.f,e,t),e[t])};var objectDefineProperty={},DESCRIPTORS$4=descriptors,fails$4=fails$a,v8PrototypeDefineBug=DESCRIPTORS$4&&fails$4((function(){return 42!=Object.defineProperty((function(){}),\"prototype\",{value:42,writable:!1}).prototype})),global$f=global$u,isObject$5=isObject$9,String$3=global$f.String,TypeError$5=global$f.TypeError,anObject$3=function(e){if(isObject$5(e))return e;throw TypeError$5(String$3(e)+\" is not an object\")},global$e=global$u,DESCRIPTORS$3=descriptors,IE8_DOM_DEFINE=ie8DomDefine,V8_PROTOTYPE_DEFINE_BUG=v8PrototypeDefineBug,anObject$2=anObject$3,toPropertyKey=toPropertyKey$2,TypeError$4=global$e.TypeError,$defineProperty=Object.defineProperty,$getOwnPropertyDescriptor=Object.getOwnPropertyDescriptor,ENUMERABLE=\"enumerable\",CONFIGURABLE$1=\"configurable\",WRITABLE=\"writable\";objectDefineProperty.f=DESCRIPTORS$3?V8_PROTOTYPE_DEFINE_BUG?function(e,t,n){if(anObject$2(e),t=toPropertyKey(t),anObject$2(n),\"function\"==typeof e&&\"prototype\"===t&&\"value\"in n&&WRITABLE in n&&!n[WRITABLE]){var r=$getOwnPropertyDescriptor(e,t);r&&r[WRITABLE]&&(e[t]=n.value,n={configurable:CONFIGURABLE$1 in n?n[CONFIGURABLE$1]:r[CONFIGURABLE$1],enumerable:ENUMERABLE in n?n[ENUMERABLE]:r[ENUMERABLE],writable:!1})}return $defineProperty(e,t,n)}:$defineProperty:function(e,t,n){if(anObject$2(e),t=toPropertyKey(t),anObject$2(n),IE8_DOM_DEFINE)try{return $defineProperty(e,t,n)}catch(e){}if(\"get\"in n||\"set\"in n)throw TypeError$4(\"Accessors not supported\");return\"value\"in n&&(e[t]=n.value),e};var DESCRIPTORS$2=descriptors,definePropertyModule$1=objectDefineProperty,createPropertyDescriptor$1=createPropertyDescriptor$3,createNonEnumerableProperty$6=DESCRIPTORS$2?function(e,t,n){return definePropertyModule$1.f(e,t,createPropertyDescriptor$1(1,n))}:function(e,t,n){return e[t]=n,e},redefine$2={exports:{}},uncurryThis$5=functionUncurryThis,isCallable$8=isCallable$e,store$1=sharedStore,functionToString=uncurryThis$5(Function.toString);isCallable$8(store$1.inspectSource)||(store$1.inspectSource=function(e){return functionToString(e)});var inspectSource$2=store$1.inspectSource,global$d=global$u,isCallable$7=isCallable$e,inspectSource$1=inspectSource$2,WeakMap$1=global$d.WeakMap,nativeWeakMap=isCallable$7(WeakMap$1)&&/native code/.test(inspectSource$1(WeakMap$1)),shared$1=shared$3.exports,uid$1=uid$3,keys=shared$1(\"keys\"),sharedKey$2=function(e){return keys[e]||(keys[e]=uid$1(e))},hiddenKeys$3={},NATIVE_WEAK_MAP=nativeWeakMap,global$c=global$u,uncurryThis$4=functionUncurryThis,isObject$4=isObject$9,createNonEnumerableProperty$5=createNonEnumerableProperty$6,hasOwn$7=hasOwnProperty_1,shared=sharedStore,sharedKey$1=sharedKey$2,hiddenKeys$2=hiddenKeys$3,OBJECT_ALREADY_INITIALIZED=\"Object already initialized\",TypeError$3=global$c.TypeError,WeakMap=global$c.WeakMap,set,get,has,enforce=function(e){return has(e)?get(e):set(e,{})},getterFor=function(e){return function(t){var n;if(!isObject$4(t)||(n=get(t)).type!==e)throw TypeError$3(\"Incompatible receiver, \"+e+\" required\");return n}};if(NATIVE_WEAK_MAP||shared.state){var store=shared.state||(shared.state=new WeakMap),wmget=uncurryThis$4(store.get),wmhas=uncurryThis$4(store.has),wmset=uncurryThis$4(store.set);set=function(e,t){if(wmhas(store,e))throw new TypeError$3(OBJECT_ALREADY_INITIALIZED);return t.facade=e,wmset(store,e,t),t},get=function(e){return wmget(store,e)||{}},has=function(e){return wmhas(store,e)}}else{var STATE=sharedKey$1(\"state\");hiddenKeys$2[STATE]=!0,set=function(e,t){if(hasOwn$7(e,STATE))throw new TypeError$3(OBJECT_ALREADY_INITIALIZED);return t.facade=e,createNonEnumerableProperty$5(e,STATE,t),t},get=function(e){return hasOwn$7(e,STATE)?e[STATE]:{}},has=function(e){return hasOwn$7(e,STATE)}}var internalState={set:set,get:get,has:has,enforce:enforce,getterFor:getterFor},DESCRIPTORS$1=descriptors,hasOwn$6=hasOwnProperty_1,FunctionPrototype$1=Function.prototype,getDescriptor=DESCRIPTORS$1&&Object.getOwnPropertyDescriptor,EXISTS=hasOwn$6(FunctionPrototype$1,\"name\"),PROPER=EXISTS&&\"something\"===function(){}.name,CONFIGURABLE=EXISTS&&(!DESCRIPTORS$1||DESCRIPTORS$1&&getDescriptor(FunctionPrototype$1,\"name\").configurable),functionName={EXISTS:EXISTS,PROPER:PROPER,CONFIGURABLE:CONFIGURABLE},global$b=global$u,isCallable$6=isCallable$e,hasOwn$5=hasOwnProperty_1,createNonEnumerableProperty$4=createNonEnumerableProperty$6,setGlobal$1=setGlobal$3,inspectSource=inspectSource$2,InternalStateModule=internalState,CONFIGURABLE_FUNCTION_NAME=functionName.CONFIGURABLE,getInternalState=InternalStateModule.get,enforceInternalState=InternalStateModule.enforce,TEMPLATE=String(String).split(\"String\");(redefine$2.exports=function(e,t,n,r){var o,i=!!r&&!!r.unsafe,s=!!r&&!!r.enumerable,a=!!r&&!!r.noTargetGet,c=r&&void 0!==r.name?r.name:t;isCallable$6(n)&&(\"Symbol(\"===String(c).slice(0,7)&&(c=\"[\"+String(c).replace(/^Symbol\\\\(([^)]*)\\\\)/,\"$1\")+\"]\"),(!hasOwn$5(n,\"name\")||CONFIGURABLE_FUNCTION_NAME&&n.name!==c)&&createNonEnumerableProperty$4(n,\"name\",c),(o=enforceInternalState(n)).source||(o.source=TEMPLATE.join(\"string\"==typeof c?c:\"\"))),e!==global$b?(i?!a&&e[t]&&(s=!0):delete e[t],s?e[t]=n:createNonEnumerableProperty$4(e,t,n)):s?e[t]=n:setGlobal$1(t,n)})(Function.prototype,\"toString\",(function(){return isCallable$6(this)&&getInternalState(this).source||inspectSource(this)}));var objectGetOwnPropertyNames={},ceil=Math.ceil,floor=Math.floor,toIntegerOrInfinity$4=function(e){var t=+e;return t!=t||0===t?0:(t>0?floor:ceil)(t)},toIntegerOrInfinity$3=toIntegerOrInfinity$4,max=Math.max,min$1=Math.min,toAbsoluteIndex$1=function(e,t){var n=toIntegerOrInfinity$3(e);return n<0?max(n+t,0):min$1(n,t)},toIntegerOrInfinity$2=toIntegerOrInfinity$4,min=Math.min,toLength$1=function(e){return e>0?min(toIntegerOrInfinity$2(e),9007199254740991):0},toLength=toLength$1,lengthOfArrayLike$3=function(e){return toLength(e.length)},toIndexedObject$2=toIndexedObject$4,toAbsoluteIndex=toAbsoluteIndex$1,lengthOfArrayLike$2=lengthOfArrayLike$3,createMethod=function(e){return function(t,n,r){var o,i=toIndexedObject$2(t),s=lengthOfArrayLike$2(i),a=toAbsoluteIndex(r,s);if(e&&n!=n){for(;s>a;)if((o=i[a++])!=o)return!0}else for(;s>a;a++)if((e||a in i)&&i[a]===n)return e||a||0;return!e&&-1}},arrayIncludes={includes:createMethod(!0),indexOf:createMethod(!1)},uncurryThis$3=functionUncurryThis,hasOwn$4=hasOwnProperty_1,toIndexedObject$1=toIndexedObject$4,indexOf=arrayIncludes.indexOf,hiddenKeys$1=hiddenKeys$3,push$1=uncurryThis$3([].push),objectKeysInternal=function(e,t){var n,r=toIndexedObject$1(e),o=0,i=[];for(n in r)!hasOwn$4(hiddenKeys$1,n)&&hasOwn$4(r,n)&&push$1(i,n);for(;t.length>o;)hasOwn$4(r,n=t[o++])&&(~indexOf(i,n)||push$1(i,n));return i},enumBugKeys$1=[\"constructor\",\"hasOwnProperty\",\"isPrototypeOf\",\"propertyIsEnumerable\",\"toLocaleString\",\"toString\",\"valueOf\"],internalObjectKeys=objectKeysInternal,enumBugKeys=enumBugKeys$1,hiddenKeys=enumBugKeys.concat(\"length\",\"prototype\");objectGetOwnPropertyNames.f=Object.getOwnPropertyNames||function(e){return internalObjectKeys(e,hiddenKeys)};var objectGetOwnPropertySymbols={};objectGetOwnPropertySymbols.f=Object.getOwnPropertySymbols;var getBuiltIn$1=getBuiltIn$4,uncurryThis$2=functionUncurryThis,getOwnPropertyNamesModule=objectGetOwnPropertyNames,getOwnPropertySymbolsModule=objectGetOwnPropertySymbols,anObject$1=anObject$3,concat=uncurryThis$2([].concat),ownKeys$1=getBuiltIn$1(\"Reflect\",\"ownKeys\")||function(e){var t=getOwnPropertyNamesModule.f(anObject$1(e)),n=getOwnPropertySymbolsModule.f;return n?concat(t,n(e)):t},hasOwn$3=hasOwnProperty_1,ownKeys=ownKeys$1,getOwnPropertyDescriptorModule=objectGetOwnPropertyDescriptor,definePropertyModule=objectDefineProperty,copyConstructorProperties$2=function(e,t,n){for(var r=ownKeys(t),o=definePropertyModule.f,i=getOwnPropertyDescriptorModule.f,s=0;s<r.length;s++){var a=r[s];hasOwn$3(e,a)||n&&hasOwn$3(n,a)||o(e,a,i(t,a))}},fails$3=fails$a,isCallable$5=isCallable$e,replacement=/#|\\\\.prototype\\\\./,isForced$1=function(e,t){var n=data[normalize(e)];return n==POLYFILL||n!=NATIVE&&(isCallable$5(t)?fails$3(t):!!t)},normalize=isForced$1.normalize=function(e){return String(e).replace(replacement,\".\").toLowerCase()},data=isForced$1.data={},NATIVE=isForced$1.NATIVE=\"N\",POLYFILL=isForced$1.POLYFILL=\"P\",isForced_1=isForced$1,global$a=global$u,getOwnPropertyDescriptor=objectGetOwnPropertyDescriptor.f,createNonEnumerableProperty$3=createNonEnumerableProperty$6,redefine$1=redefine$2.exports,setGlobal=setGlobal$3,copyConstructorProperties$1=copyConstructorProperties$2,isForced=isForced_1,_export=function(e,t){var n,r,o,i,s,a=e.target,c=e.global,l=e.stat;if(n=c?global$a:l?global$a[a]||setGlobal(a,{}):(global$a[a]||{}).prototype)for(r in t){if(i=t[r],o=e.noTargetGet?(s=getOwnPropertyDescriptor(n,r))&&s.value:n[r],!isForced(c?r:a+(l?\".\":\"#\")+r,e.forced)&&void 0!==o){if(typeof i==typeof o)continue;copyConstructorProperties$1(i,o)}(e.sham||o&&o.sham)&&createNonEnumerableProperty$3(i,\"sham\",!0),redefine$1(n,r,i,e)}},NATIVE_BIND=functionBindNative,FunctionPrototype=Function.prototype,apply$1=FunctionPrototype.apply,call$1=FunctionPrototype.call,functionApply=\"object\"==typeof Reflect&&Reflect.apply||(NATIVE_BIND?call$1.bind(apply$1):function(){return call$1.apply(apply$1,arguments)}),global$9=global$u,isCallable$4=isCallable$e,String$2=global$9.String,TypeError$2=global$9.TypeError,aPossiblePrototype$1=function(e){if(\"object\"==typeof e||isCallable$4(e))return e;throw TypeError$2(\"Can\\'t set \"+String$2(e)+\" as a prototype\")},uncurryThis$1=functionUncurryThis,anObject=anObject$3,aPossiblePrototype=aPossiblePrototype$1,objectSetPrototypeOf=Object.setPrototypeOf||(\"__proto__\"in{}?function(){var e,t=!1,n={};try{(e=uncurryThis$1(Object.getOwnPropertyDescriptor(Object.prototype,\"__proto__\").set))(n,[]),t=n instanceof Array}catch(e){}return function(n,r){return anObject(n),aPossiblePrototype(r),t?e(n,r):n.__proto__=r,n}}():void 0),isCallable$3=isCallable$e,isObject$3=isObject$9,setPrototypeOf$2=objectSetPrototypeOf,inheritIfRequired$1=function(e,t,n){var r,o;return setPrototypeOf$2&&isCallable$3(r=t.constructor)&&r!==n&&isObject$3(o=r.prototype)&&o!==n.prototype&&setPrototypeOf$2(e,o),e},wellKnownSymbol$2=wellKnownSymbol$4,TO_STRING_TAG$2=wellKnownSymbol$2(\"toStringTag\"),test={};test[TO_STRING_TAG$2]=\"z\";var toStringTagSupport=\"[object z]\"===String(test),global$8=global$u,TO_STRING_TAG_SUPPORT=toStringTagSupport,isCallable$2=isCallable$e,classofRaw=classofRaw$1,wellKnownSymbol$1=wellKnownSymbol$4,TO_STRING_TAG$1=wellKnownSymbol$1(\"toStringTag\"),Object$2=global$8.Object,CORRECT_ARGUMENTS=\"Arguments\"==classofRaw(function(){return arguments}()),tryGet=function(e,t){try{return e[t]}catch(e){}},classof$2=TO_STRING_TAG_SUPPORT?classofRaw:function(e){var t,n,r;return void 0===e?\"Undefined\":null===e?\"Null\":\"string\"==typeof(n=tryGet(t=Object$2(e),TO_STRING_TAG$1))?n:CORRECT_ARGUMENTS?classofRaw(t):\"Object\"==(r=classofRaw(t))&&isCallable$2(t.callee)?\"Arguments\":r},global$7=global$u,classof$1=classof$2,String$1=global$7.String,toString$1=function(e){if(\"Symbol\"===classof$1(e))throw TypeError(\"Cannot convert a Symbol value to a string\");return String$1(e)},toString=toString$1,normalizeStringArgument$1=function(e,t){return void 0===e?arguments.length<2?\"\":t:toString(e)},isObject$2=isObject$9,createNonEnumerableProperty$2=createNonEnumerableProperty$6,installErrorCause$1=function(e,t){isObject$2(t)&&\"cause\"in t&&createNonEnumerableProperty$2(e,\"cause\",t.cause)},uncurryThis=functionUncurryThis,replace=uncurryThis(\"\".replace),TEST=String(Error(\"zxcasd\").stack),V8_OR_CHAKRA_STACK_ENTRY=/\\\\n\\\\s*at [^:]*:[^\\\\n]*/,IS_V8_OR_CHAKRA_STACK=V8_OR_CHAKRA_STACK_ENTRY.test(TEST),clearErrorStack$1=function(e,t){if(IS_V8_OR_CHAKRA_STACK&&\"string\"==typeof e)for(;t--;)e=replace(e,V8_OR_CHAKRA_STACK_ENTRY,\"\");return e},fails$2=fails$a,createPropertyDescriptor=createPropertyDescriptor$3,errorStackInstallable=!fails$2((function(){var e=Error(\"a\");return!(\"stack\"in e)||(Object.defineProperty(e,\"stack\",createPropertyDescriptor(1,7)),7!==e.stack)})),getBuiltIn=getBuiltIn$4,hasOwn$2=hasOwnProperty_1,createNonEnumerableProperty$1=createNonEnumerableProperty$6,isPrototypeOf$1=objectIsPrototypeOf,setPrototypeOf$1=objectSetPrototypeOf,copyConstructorProperties=copyConstructorProperties$2,inheritIfRequired=inheritIfRequired$1,normalizeStringArgument=normalizeStringArgument$1,installErrorCause=installErrorCause$1,clearErrorStack=clearErrorStack$1,ERROR_STACK_INSTALLABLE=errorStackInstallable,wrapErrorConstructorWithCause$1=function(e,t,n,r){var o=r?2:1,i=e.split(\".\"),s=i[i.length-1],a=getBuiltIn.apply(null,i);if(a){var c=a.prototype;if(hasOwn$2(c,\"cause\")&&delete c.cause,!n)return a;var l=getBuiltIn(\"Error\"),d=t((function(e,t){var n=normalizeStringArgument(r?t:e,void 0),i=r?new a(e):new a;return void 0!==n&&createNonEnumerableProperty$1(i,\"message\",n),ERROR_STACK_INSTALLABLE&&createNonEnumerableProperty$1(i,\"stack\",clearErrorStack(i.stack,2)),this&&isPrototypeOf$1(c,this)&&inheritIfRequired(i,this,d),arguments.length>o&&installErrorCause(i,arguments[o]),i}));d.prototype=c,\"Error\"!==s&&(setPrototypeOf$1?setPrototypeOf$1(d,l):copyConstructorProperties(d,l,{name:!0})),copyConstructorProperties(d,a);try{c.name!==s&&createNonEnumerableProperty$1(c,\"name\",s),c.constructor=d}catch(e){}return d}},$=_export,global$6=global$u,apply=functionApply,wrapErrorConstructorWithCause=wrapErrorConstructorWithCause$1,WEB_ASSEMBLY=\"WebAssembly\",WebAssembly=global$6[WEB_ASSEMBLY],FORCED=7!==Error(\"e\",{cause:7}).cause,exportGlobalErrorCauseWrapper=function(e,t){var n={};n[e]=wrapErrorConstructorWithCause(e,t,FORCED),$({global:!0,forced:FORCED},n)},exportWebAssemblyErrorCauseWrapper=function(e,t){if(WebAssembly&&WebAssembly[e]){var n={};n[e]=wrapErrorConstructorWithCause(WEB_ASSEMBLY+\".\"+e,t,FORCED),$({target:WEB_ASSEMBLY,stat:!0,forced:FORCED},n)}};exportGlobalErrorCauseWrapper(\"Error\",(function(e){return function(t){return apply(e,this,arguments)}})),exportGlobalErrorCauseWrapper(\"EvalError\",(function(e){return function(t){return apply(e,this,arguments)}})),exportGlobalErrorCauseWrapper(\"RangeError\",(function(e){return function(t){return apply(e,this,arguments)}})),exportGlobalErrorCauseWrapper(\"ReferenceError\",(function(e){return function(t){return apply(e,this,arguments)}})),exportGlobalErrorCauseWrapper(\"SyntaxError\",(function(e){return function(t){return apply(e,this,arguments)}})),exportGlobalErrorCauseWrapper(\"TypeError\",(function(e){return function(t){return apply(e,this,arguments)}})),exportGlobalErrorCauseWrapper(\"URIError\",(function(e){return function(t){return apply(e,this,arguments)}})),exportWebAssemblyErrorCauseWrapper(\"CompileError\",(function(e){return function(t){return apply(e,this,arguments)}})),exportWebAssemblyErrorCauseWrapper(\"LinkError\",(function(e){return function(t){return apply(e,this,arguments)}})),exportWebAssemblyErrorCauseWrapper(\"RuntimeError\",(function(e){return function(t){return apply(e,this,arguments)}}));const always=()=>!0;function LifecycleRegistrar(e){const t=new EventEmitter(\"LifecycleRegistrar\").warn,n={};function r(e){return e&&\"object\"==typeof e&&\"function\"==typeof e.then}function o(e){const n={};e.unshift({});for(let r=0;r<e.length;r++){let o=e[r];\"object\"!=typeof o&&(t(\"Callback should return object, instead found \"+typeof o),o={}),Object.assign(n,o)}return n}e.forEach((e=>{n[e]=[]})),this.register=function(t,r,o){if(o||(o=r,r=always),!e.includes(t))throw new Error(`${t} not registered in LifeCycle`);n[t].push({when:r,fn:o})},this.apply=function(e){for(var t=arguments.length,i=new Array(t>1?t-1:0),s=1;s<t;s++)i[s-1]=arguments[s];const a=[];e.forEach((e=>{n[e].forEach((e=>{let t=e.when,n=e.fn;t(...i)&&a.push(n)}))}));let c=a.map((e=>e(...i)));return any(c,r)?Promise.all(c).then(o):o(c)}}const validSizes=[\"300x250\",\"300x600\",\"320x50\",\"300x50\",\"728x90\",\"970x250\"];function clearTargetingByKey(e,t){e.getTargetingKeys().forEach((n=>{n===t&&e.clearTargeting(n)}))}function clearTargetingByPrefix(e,t){e.getTargetingKeys().forEach((n=>{0===n.indexOf(t)&&e.clearTargeting(n)}))}function intersect(){let e=arguments.length>0&&void 0!==arguments[0]?arguments[0]:[],t=arguments.length>1&&void 0!==arguments[1]?arguments[1]:[];return e.filter((e=>t.indexOf(e)>-1))}function getSizesFromSlot$1(e){return e.getSizes(window.innerWidth,window.innerHeight).map((e=>\"fluid\"!==e&&`${e.getWidth()}x${e.getHeight()}`))}function getValidSizesFromSlot(e,t){return intersect(getSizesFromSlot$1(e),t)}function hasValidSize(e,t){return e.getSizes&&getValidSizesFromSlot(e,t).length>0}function isSlotEligible(e){return hasValidSize(e,validSizes)}const errorMessage$1=\"Ads -- Missing page context\",errorParamMessage=`${errorMessage$1} parameter : `,requiredKeys=[\"templateType\"],expectedKeys=[\"channel\",\"server\"];function validate(e){requiredKeys.forEach((t=>{!e.templateType&&error$1(`${errorParamMessage}${t}`)})),expectedKeys.forEach((t=>{!e[t]&&warn(`${errorParamMessage}${t}`)}))}function getPageContext(e){let t=e.cns&&e.cns.pageContext;return t?(t.templateType=t.templateType||t.template_type,t.subChannel=t.subChannel||t.sub_channel,validate(t),t):(error$1(errorMessage$1),{})}function getCookie(e,t){const n=(t=t||document.cookie).split(\";\"),r=RegExp(\"^\\\\\\\\s*\"+e+\"=\\\\\\\\s*(.*?)\\\\\\\\s*$\");for(let e=0;e<n.length;e++){const t=n[e].match(r);if(t)return t[1]}}const euCountryCodes=[\"AT\",\"BE\",\"BG\",\"CY\",\"CZ\",\"DE\",\"DK\",\"EE\",\"ES\",\"FI\",\"FR\",\"GB\",\"GR\",\"HR\",\"HU\",\"IE\",\"IS\",\"IT\",\"LI\",\"LT\",\"LU\",\"LV\",\"MT\",\"NL\",\"NO\",\"PL\",\"PT\",\"RO\",\"SE\",\"SI\",\"SK\"];var version=\"6.70.0\";function domCall(e,t,n){return n||(n=e,e=document),e[t](n)}function getElementById(e,t){return domCall(e,\"getElementById\",t)}function find(e,t){return domCall(e,\"querySelector\",t)}function findAll(e,t){return Array.prototype.slice.call(domCall(e,\"querySelectorAll\",t))}function setStyle(e,t){let n=Object.keys(t);for(let r=0;r<n.length;r++){const o=n[r];e.style[o]=t[o]}}function addClasses(e,t){const n=Object.keys(t);for(let r=0;r<n.length;r++)e.classList.add(t[n[r]])}function setElementData(e,t){const n=Object.keys(t);for(let r=0;r<n.length;r++){const o=n[r];e.setAttribute(\"data-\"+o,t[o])}}function createElement(e,t){const n=document.createElement(e);return t&&Object.keys(t).forEach((e=>{n[e]=t[e]})),n}function addBoomerangVariable(e,t){e&&t&&(window.BOOMR_mq=window.BOOMR_mq||[],window.BOOMR_mq.push([\"addVar\",e,t]))}function sendBoomerangAdLibraryInformation(){addBoomerangVariable(\"cnsLib\",version)}function setPubadsReadyMetric(){performance.mark(\"GPT-Init\")}function setAdsReadyMetric(){performance.mark(\"ATP-Init\")}function setFirstImpressionMetric(){performance.mark(\"ATP-First-Impression\"),performance.measure(\"ATP-Init-To-First-Impression\",\"ATP-Init\",\"ATP-First-Impression\")}function setFirstMoneyImpressionMetric(){performance.mark(\"ATP-First-Money-Impression\"),performance.measure(\"ATP-Init-To-First-Money-Impression\",\"ATP-Init\",\"ATP-First-Money-Impression\")}function setFirstViewableMetric(){performance.mark(\"ATP-First-Viewable-Impression\"),performance.measure(\"ATP-Init-To-Viewable-Impression\",\"ATP-Init\",\"ATP-First-Viewable-Impression\")}function setFirstNativeRequestedMetric(){performance.mark(\"ATP-First-Native-Request\"),performance.measure(\"ATP-Init-To-Native-Request\",\"ATP-Init\",\"ATP-First-Native-Request\")}function setFirstNativeResponseReceivedMetric(){performance.mark(\"ATP-First-Native-Response-Received\"),performance.measure(\"ATP-Init-To-Native-Response-Received\",\"ATP-Init\",\"ATP-First-Native-Response-Received\")}function setFirstNativeRenderEndedMetric(){performance.mark(\"ATP-First-Native-Render-Ended\"),performance.measure(\"ATP-Init-To-Native-Render-Ended\",\"ATP-Init\",\"ATP-First-Native-Render-Ended\")}function setFirstNativeOnLoadMetric(){performance.mark(\"ATP-First-Native-On-Load\"),performance.measure(\"ATP-Init-To-Native-On-Load\",\"ATP-Init\",\"ATP-First-Native-On-Load\")}function setFirstNativeViewableMetric(){performance.mark(\"ATP-First-Native-Viewable-Impression\"),performance.measure(\"ATP-Init-To-Native-Viewable-Impression\",\"ATP-Init\",\"ATP-First-Native-Viewable-Impression\")}function setFirstMoneyViewableMetric(){performance.mark(\"ATP-First-Money-Viewable-Impression\"),performance.measure(\"ATP-Init-To-Money-Viewable-Impression\",\"ATP-Init\",\"ATP-First-Money-Viewable-Impression\")}function setFirstPrebidAuction(){performance.mark(\"ATP-First-Prebid-Auction\"),performance.measure(\"ATP-Init-To-First-Prebid-Auction\",\"ATP-Init\",\"ATP-First-Prebid-Auction\")}function setFirstA9Auction(){performance.mark(\"ATP-First-A9-Auction\"),performance.measure(\"ATP-Init-To-First-A9-Auction\",\"ATP-Init\",\"ATP-First-A9-Auction\")}function setAmazonLoad(){performance.mark(\"ATP-Amazon-Load\"),performance.measure(\"ATP-Init-To-Amazon-Load\",\"ATP-Init\",\"ATP-Amazon-Load\")}function setFirstOnLoad(){performance.mark(\"ATP-First-On-Load\"),performance.measure(\"ATP-Init-To-First-On-Load\",\"ATP-Init\",\"ATP-First-On-Load\")}function setFirstMoneyOnLoad(){performance.mark(\"ATP-First-Money-On-Load\"),performance.measure(\"ATP-Init-To-First-Money-On-Load\",\"ATP-Init\",\"ATP-First-Money-On-Load\")}function setFirstRenderEndedMetric(){performance.mark(\"ATP-First-Render-Ended\"),performance.measure(\"ATP-Init-To-First-Render-Ended\",\"ATP-Init\",\"ATP-First-Render-Ended\")}function setFirstMoneyRenderEndedMetric(){performance.mark(\"ATP-First-Money-Render-Ended\"),performance.measure(\"ATP-Init-To-First-Money-Render-Ended\",\"ATP-Init\",\"ATP-First-Money-Render-Ended\")}function setFirstRequestedMetric(){performance.mark(\"ATP-First-Request\"),performance.measure(\"ATP-Init-To-First-Request\",\"ATP-Init\",\"ATP-First-Request\")}function setFirstMoneyRequestedMetric(){performance.mark(\"ATP-First-Money-Request\"),performance.measure(\"ATP-Init-To-First-Money-Request\",\"ATP-Init\",\"ATP-First-Money-Request\")}function setFirstResponseReceivedMetric(){performance.mark(\"ATP-First-Response-Received\"),performance.measure(\"ATP-Init-To-First-Response-Received\",\"ATP-Init\",\"ATP-First-Response-Received\")}function setFirstMoneyResponseReceivedMetric(){performance.mark(\"ATP-First-Money-Response-Received\"),performance.measure(\"ATP-Init-To-First-Money-Response-Received\",\"ATP-Init\",\"ATP-First-Money-Response-Received\")}function setMoatLoad(){performance.mark(\"ATP-Moat-Load\")}function setPrebidLoad(){performance.mark(\"ATP-Prebid-Load\"),performance.measure(\"ATP-Init-To-Prebid-Load\",\"ATP-Init\",\"ATP-Prebid-Load\")}function setConsentRequested(){performance.mark(\"ATP-Consent-Requested\"),performance.measure(\"ATP-Init-To-Consent-Requested\",\"ATP-Init\",\"ATP-Consent-Requested\")}function setConsentChosen(){performance.mark(\"ATP-Consent-Chosen\"),performance.measure(\"ATP-Init-To-Consent-Chosen\",\"ATP-Init\",\"ATP-Consent-Chosen\")}function setPermutiveLoad(){window.performance.mark(\"ATP-Permutive-Loaded\"),window.performance.measure(\"ATP-Init-To-Permutive-Loaded\",\"ATP-Init\",\"ATP-Permutive-Loaded\")}const events={adsReady:setAdsReadyMetric,amazonLoad:setAmazonLoad,pubadsReady:setPubadsReadyMetric,firstRequested:setFirstRequestedMetric,firstMoneyRequested:setFirstMoneyRequestedMetric,firstImpression:setFirstImpressionMetric,firstMoneyImpression:setFirstMoneyImpressionMetric,firstImpressionViewable:setFirstViewableMetric,firstMoneyImpressionViewable:setFirstMoneyViewableMetric,firstPrebidAuction:setFirstPrebidAuction,firstA9Auction:setFirstA9Auction,firstOnload:setFirstOnLoad,firstMoneyOnload:setFirstMoneyOnLoad,firstRenderEnded:setFirstRenderEndedMetric,firstMoneyRenderEnded:setFirstMoneyRenderEndedMetric,firstResponseReceived:setFirstResponseReceivedMetric,firstMoneyResponseReceived:setFirstMoneyResponseReceivedMetric,firstNativeRequested:setFirstNativeRequestedMetric,firstNativeResponseReceived:setFirstNativeResponseReceivedMetric,firstNativeRenderEnded:setFirstNativeRenderEndedMetric,firstNativeOnload:setFirstNativeOnLoadMetric,firstNativeImpressionViewable:setFirstNativeViewableMetric,moatLoad:setMoatLoad,permutiveLoad:setPermutiveLoad,prebidLoad:setPrebidLoad,consentRequested:setConsentRequested,consentChosen:setConsentChosen};function updateBOOMRvarWithAdEventValues(e,t){setTimeout((()=>{const n=find(document,\"#hero_0 iframe\");addBoomerangVariable(\"ad.hero_size_rendered\",t),addBoomerangVariable(\"ad.hero_creative_id\",e.creativeId),addBoomerangVariable(\"ad.hero_line_id\",e.lineItemId),addBoomerangVariable(\"ad.hero_campaign_id\",e.campaignId),addBoomerangVariable(\"ad.hero_height\",null==n?void 0:n.clientHeight),addBoomerangVariable(\"ad.hero_width\",null==n?void 0:n.clientWidth)}),2e3)}function emitBoomPixel(e){events[e]?events[e]():error$1(\"boomerang-rum-collector.eventNotDefined\")}function isEU(){const e=getCookie(\"CN_geo_country_code\")||\"\";return!!(e&&euCountryCodes.indexOf(e)>-1)}function shouldApplyGDPR(){let e=!1;return window.__tcfapi&&window.__tcfapi(\"ping\",2,(t=>{t.gdprApplies&&(e=!0)})),e}function isTCFLoaded(){let e=!1;return window.__tcfapi&&window.__tcfapi(\"ping\",2,(t=>{t.cmpLoaded&&(e=!0)})),e}function shouldWaitForConsent(){const e=getConfig$1(window).config.consentRequired;return void 0!==e&&e||isEU()}function restrictDataProcessing(){window.googletag.pubads().setPrivacySettings({restrictDataProcessing:!0})}function setRequestNonPersonalizedAds(e){window.googletag.pubads().setPrivacySettings({nonPersonalizedAds:e})}function getPrivacyString(){return getCookie(\"usprivacy\")||\"1---\"}function getConsentString(){let e=\"\";return isTCFLoaded()&&window.__tcfapi(\"getTCData\",2,((t,n)=>{if(n){const n=t.tcString;n&&(e=n)}})),e}function getPurposes(){let e={};return isTCFLoaded()&&window.__tcfapi(\"getTCData\",2,((t,n)=>{n&&(e=get$1(t,\"purpose.consents\")||{})})),e}function shouldRestrictDataProcessing(){const e=getPrivacyString();return e&&4===e.length&&\"1\"===e[0]&&\"y\"===e[2].toLowerCase()}function shouldSetNonPersonalizedAds(){return shouldApplyGDPR()&&window.OnetrustActiveGroups&&-1===window.OnetrustActiveGroups.indexOf(\"C0004\")}function shouldReadAndWriteCookies(){return!shouldApplyGDPR()||window.OnetrustActiveGroups&&window.OnetrustActiveGroups.indexOf(\"C0004\")>-1}function checkPrivacySettings(){shouldRestrictDataProcessing()&&restrictDataProcessing(),shouldSetNonPersonalizedAds()?setRequestNonPersonalizedAds(!0):setRequestNonPersonalizedAds(!1)}function oneTrustGroupsUpdated(e){return window.cnBus.on(\"onetrust.OneTrustGroupsUpdated\",e)}function onConsentListener(e){const t=window.__tcfapi;t(\"addEventListener\",2,((n,r)=>{r&&0===n.listenerId&&\"cmpuishown\"===n.eventStatus&&emitBoomPixel(\"consentRequested\"),r&&n.listenerId>0&&\"useractioncomplete\"===n.eventStatus&&emitBoomPixel(\"consentChosen\"),!r||\"tcloaded\"!==n.eventStatus&&\"useractioncomplete\"!==n.eventStatus||t(\"removeEventListener\",2,(()=>{setTimeout(e,0)}),n.listenerId)}))}function onConsent(e,t){let n=!1;function r(){n||(n=!0,setTimeout(e,0))}if(isTCFLoaded())onConsentListener(r);else{const e=oneTrustGroupsUpdated((()=>{e(),isTCFLoaded()?onConsentListener(r):r()}))}t&&setTimeout(r,t)}function hasConsentToAuction(){if(shouldApplyGDPR()){return getPurposes()[1]||!1}return!0}function append(e){return new Promise(((t,n)=>{const r=document.createElement(\"script\");[\"src\",\"targ\"].forEach((t=>!e[t]&&n(new Error(`Missing required parameter: ${t}`)))),[\"src\",\"targ\",\"async\",\"defer\"].forEach((t=>{r[t]=e[t]})),r.onload=function(){t()},r.onerror=function(e){n(e)},e.targ.appendChild(r)}))}function isAppended(e){return document.querySelectorAll(`script[src=\\'${e}\\']`).length>0}const market=\"a9\",apstagConfig={pubID:\"3035\",adServer:\"googletag\",bidTimeout:1e3,deals:!0,params:{}};let isFirstAuction=!0,timeoutLength=1e3;function AmazonMatchBuy(){const e=new EventEmitter(market),t=e.debug,n=e.warn;function r(e){const t=e.getSlotElementId(),n=function(e){return`${getPositionFromSlot(e)}/${getViewportTemplate()}`}(e);return{slotID:t,slotName:n,sizes:getValidSizesFromSlot(e,validSizes).map((e=>getSizeStringAsArray(e)))}}function o(e,t){window.apstag._Q.push([e,t])}!function(){const e=\"https://c.amazon-adsystem.com/aax2/apstag.js\";isAppended(e)||append({src:e,targ:document.head,async:!0}).then((()=>{emitBoomPixel(\"amazonLoad\")}))}(),window.apstag=window.apstag||{init:function(){o(\"i\",arguments)},fetchBids:function(){o(\"f\",arguments)},_Q:[]},apstagConfig.params.si_section=getPageContext(window).channel||\"\",apstagConfig.params.us_privacy=getPrivacyString(),window.apstag.init(apstagConfig),this.startAuction=function(e){return t(\"startAuction\",e.map((e=>e.getSlotElementId()))),setInitialMaxBid(e),new Promise((o=>{window.apstag.fetchBids({slots:e.map(r),bidTimeout:timeoutLength},(r=>{isFirstAuction&&(isFirstAuction=!1,timeoutLength=2e3,emitBoomPixel(\"firstA9Auction\")),t(\"complete\",r);try{window.apstag.setDisplayBids(),o(e.map((()=>({}))))}catch(t){n(\"cannotHandleBidsBack\",t),o(e.map((()=>({}))))}}))}))},this.isSlotEligible=isSlotEligible,this.market=market}function decode(e){try{return decodeURIComponent(e.replace(/\\\\+/g,\" \"))}catch(e){return null}}function querystring(e){for(var t,n=/([^=?#&]+)=?([^&]*)/g,r={};t=n.exec(e);){var o=decode(t[1]),i=decode(t[2]);null===o||null===i||o in r||(r[o]=i)}return r}var parse=querystring;function getFeatures(e){return e&&\"string\"==typeof e?e.split(\",\").reduce(((e,t)=>(e[t]=!0,e)),{}):{}}const queryParameters=parse(document.location.search)||{},featureFlags=getFeatures(queryParameters.feature_flags);featureFlags.ao_norefresh&&(window.cns.flags.shouldNotRefresh=!0);const invalidSpecialCharacters=new RegExp(\"[\\\\\"\\',=!#~;<>\\\\\\\\]+*^()[\\\\\\\\s]\",\"g\"),consecutiveUnderscores=/_+/g,consecutiveDashes=/-+/g,leadingTrailingUnderscores=/(^_|_$)/g,leadingTrailingDashes=/(^-|-$)/g,leadingNumbers=/^[0-9]/,allowedTypes=[\"string\",\"number\"],isAllowedType=e=>allowedTypes.indexOf(typeof e)>=0,isValidValue=e=>isAllowedType(e);function toArray(e){return Array.isArray(e)?e:[e]}function isValidKey(e){return(e=e.toString().trim()).length&&!e.match(invalidSpecialCharacters)&&e.length<=20&&!e.match(leadingNumbers)}function applyGPTLimits(e){return e.toString().toLowerCase().replace(invalidSpecialCharacters,\"_\").replace(consecutiveUnderscores,\"_\").replace(leadingTrailingUnderscores,\"\")}function push(e,t,n){e[t]=e[t]||[],e[t].push(n)}function sanitizeWithDashes(e){return e.toString().toLowerCase().replace(invalidSpecialCharacters,\"-\").replace(consecutiveDashes,\"-\").replace(leadingTrailingDashes,\"\")}function sanitize(e){const t={},n={},r=Object.keys(e);for(let o=0;o<r.length;o++){const i=r[o];if(isValidKey(i)){const r=toArray(e[i]);for(let e=0;e<r.length;e++){const o=r[e];isValidValue(o)?push(t,i,applyGPTLimits(o)):push(n,i,o)}}else n[i]=e[i]}return Object.keys(t).forEach((e=>{Array.isArray(t[e])&&(t[e]=Array.from(new Set(t[e])).filter((e=>e)))})),{sanitized:t,errors:n}}function prebidRenderEnded(e){setTimeout((()=>{clearTargetingByPrefix(e.slot,\"hb_\")}),1e3)}function Prebid(e){const t=\"prebid\";let n=1e3,r=!0;const o=new EventEmitter(t).debug,i={filterSettings:{iframe:{bidders:\"*\",filter:\"include\"}},userIds:[{name:\"unifiedId\",params:{url:\"//match.adsrvr.org/track/rid?ttd_pid=3egfyfq&fmt=json\"},storage:{type:\"cookie\",name:\"pbjs-unifiedid\",expires:60,refreshInSeconds:1800}},{name:\"pubCommonId\",storage:{type:\"cookie\",name:\"_pubcid\",expires:60,refreshInSeconds:1800}}],syncDelay:3e3},s={standard:{storageAllowed:!0}};function a(){if(document.querySelectorAll(\\'script[src*=\"prebid.min.js\"]\\').length>0)return;append({async:!0,src:function(){const e=get$1(getConfig$1(window),\"config.brandSlug\");let t=\"production\",n=queryParameters.pbjs_sandbox||\"\";return n&&(t=\"sandbox\",n+=\"/\"),`https://ads-static.conde.digital/${t}/cns/builds/${e}/${n}prebid.min.js`}(),targ:document.head}).then((()=>{emitBoomPixel(\"prebidLoad\")}))}function c(e,t){const n=get$1(window,\"cns.prebid.sequence\")||[];return n.indexOf(e.bidder)-n.indexOf(t.bidder)}function l(e){return new Promise((t=>{const i=getValidSizesFromSlot(e,validSizes);i.length||t();let s=setTimeout((()=>{t()}),n);window.pbjs.que.push((()=>{clearTimeout(s);const a=getPositionFromSlot(e),l=e.getSlotElementId(),d=l;window.pbjs.adUnits.filter((e=>e.code===d)).length<1&&window.pbjs.addAdUnits(function(e,t,n){const r=getViewportTemplate(),o=get$1(window,`cns.prebid.adunits.${e}.${r}`)||{bids:[],mediaType:\"banner\"},i=o.bids,s=o.mediaType;return i.sort(c),{code:n,mediaTypes:{[s]:{sizes:sizesToArray(t)}},bids:i}}(a,i,d));const u=function(e,t,r){return{timeout:n,adUnitCodes:[e],bidsBackHandler:r,labels:t}}(d,i,(e=>{o(`complete.${l}`,e),window.pbjs.setTargetingForGPTAsync([d],(e=>()=>e.getSlotElementId()===l)),t()}));window.pbjs.requestBids(u),r&&(r=!1,n=2e3,emitBoomPixel(\"firstPrebidAuction\"))}))}))}function d(e){const t=e.adUnitCode;\"rubicon\"===e.bidder&&function(e){const t=3e4;window.postMessage({cnsAdEvent:\"updateRefresh\",payload:{refresh:t,slotName:e}},\"*\")}(t)}function u(){const t=get$1(e,\"plugins.lr.params.pid\");if(t&&pbjs.installedModules.includes(\"atsAnalyticsAdapter\"))return{provider:\"atsAnalytics\",options:{pid:t}}}function g(){if(pbjs.installedModules.includes(\"medianetBidAdapter\"))return{provider:\"medianetAnalytics\",options:{cid:\"8CU65UN7R\"}}}function p(){if(!shouldApplyGDPR()||getConsentString())return function(){const t=get$1(e,\"plugins.lr.params.pid\");if(!t)return;const n={name:\"identityLink\",params:{pid:t},storage:{type:\"cookie\",name:\"idl_env\",expires:30,refreshInSeconds:1800}};i.userIds.push(n)}(),{userSync:i}}function f(){const e=function(){const e=sanitize({tags:get$1(window,\"cns.pageContext.keywords.tags\")}).sanitized;return(void 0===e?{}:e).tags||[]}();return{ortb2:{site:{ext:{data:{cnt_tags:e}}}},ix:{firstPartyData:{cnt_tags:e}}}}!function(){a(),function(){if(!get$1(getConfig$1(window),\"plugins.prebid.params.ix_identity\"))return;const e=\"https://js-sec.indexww.com/ht/p/183973-93942139695505.js\";document.querySelectorAll(`script[src=\"${e}\"]`).length>0||append({defer:!0,src:e,targ:document.head})}();const e=window;e.pbjs=e.pbjs||{que:[]};const t=e.pbjs;t.que.push((()=>{queryParameters.bidders&&function(){const e=(get$1(window,\"cns.prebid\")||{}).adunits,t=queryParameters.bidders.split(\",\");Object.keys(e).forEach((n=>{Object.keys(e[n]).forEach((r=>{e[n][r].bids=e[n][r].bids.filter((e=>t.indexOf(e.bidder)>-1))}))}))}(),function(){const e=get$1(window,\"cns.prebid\"),t=e.adunits,n=e.adunit_default;n&&Object.keys(t).forEach((e=>{Object.keys(t[e]).forEach((r=>{t[e][r].bids.forEach((e=>{const t=e.bidder;n[t]&&Object.assign(e.params,n[t])}))}))}))}();const n=get$1(e,\"cns.prebid.config\")||{};Object.assign(n,function(){const e={usp:{cmpApi:\"static\",consentData:{getUSPData:{uspString:getPrivacyString()}},timeout:50}};if(shouldApplyGDPR()){const t=shouldReadAndWriteCookies();e.gdpr={cmpApi:\"iab\",timeout:1e4,deviceAccess:t}}return{consentManagement:e}}()),Object.assign(n,p()),Object.assign(n,f()),t.setConfig(n),t.bidderSettings=t.bidderSettings||{},Object.assign(t.bidderSettings,s),function(e){e.onEvent(\"bidWon\",d)}(t),function(e){const t=[u(),g()].filter((e=>e));t.length&&e.enableAnalytics(t)}(t)}))}(),this.startAuction=function(e){return o(\"startAuction\",e.map((e=>e.getSlotElementId()))),setInitialMaxBid(e),Promise.all(e.map(l)).then((()=>e.map((()=>({})))))},this.isSlotEligible=isSlotEligible,this.market=t}const cloneArray=e=>Array.prototype.slice.apply(e),debounce=(e,t)=>{let n;return function(){const r=this,o=arguments;clearTimeout(n),n=setTimeout((()=>e.apply(r,o)),t)}},cumulativeArgumentDebounce=(e,t)=>{let n;const r=[];return function(){const o=this;r.push(cloneArray(arguments)),clearTimeout(n),n=setTimeout((()=>{e.apply(o,[cloneArray(r)]),r.length=0}),t)}};function collectPromises(e){let t=arguments.length>1&&void 0!==arguments[1]?arguments[1]:0;const n=cumulativeArgumentDebounce((t=>{const n=[],r=[],o=[],i=e=>o.forEach((t=>t(e)));t.forEach((e=>{r.push(e[0]),o.push(e[1]),n.push(e[2])})),e(n).then((e=>e?e.length!==n.length?i(new Error(\"collectPromises: Number of results must equal number of original items\")):e.forEach(((e,t)=>r[t](e))):r.forEach((e=>e())))).catch(i)}),t);return e=>new Promise(((t,r)=>n((e=>{t(e)}),r,e)))}function isHostWhitelisted(e){const t=get$1(e,\"config.domain\");return window.location.host.indexOf(t)>-1}function areAuctionsEnabled(e){return!!isHostWhitelisted(e)&&(!!hasConsentToAuction()&&!featureFlags.ads_disable_auctions)}function createSlotAuctionEligible(e){return t=>{let n=t.slotDefinition,r=t.slot;const o=get$1(window,\"cns.flags.shouldNotAuction\"),i=e.market;return!(\"prebid\"===i&&!get$1(window,\"pbjs.libLoaded\"))&&(!(\"a9\"===i&&!window.apstagLOADED)&&(!o&&!n.isOutOfPage&&e.isSlotEligible(r)))}}function createStartAuction(e){return collectPromises((t=>e.startAuction(t.map((e=>e.slot)))))}var auctioneer={areAuctionsEnabled:areAuctionsEnabled,createSlotAuctionEligible:createSlotAuctionEligible,createStartAuction:createStartAuction};const cookieCacheName=\"cn_4dsgcache\";function gather4dValues(e,t){const n=(get$1(window,e)||[]).map((e=>e[t]));return n.length&&n||\"\"}function get4Dsg(e){let t=[],n=\"0\";if(e){t=e;const n=new Date;n.setTime(n.getTime()+6048e5),document.cookie=`${cookieCacheName}=${t.join(\":\")}; expires=${n.toGMTString()}; path=/;SameSite=Lax;Secure`}else{const e=getCookie(cookieCacheName);e&&(t=e.split(\":\"),n=\"1\")}return{sgData:t,isCached:n}}function get4DTargeting(){const e=window,t=\"_4d.context\",n=\"_4d.user\",r=\"name\",o=`${t}.keywords.list`,i=`${t}.entities`,s=\"SparrowCache.event\",a=get4Dsg(get$1(e,`${n}.sg`));return{vnd_4d_sg:a.sgData,vnd_4d_cached:a.isCached,vnd_4d_ctx_sg:get$1(e,`${t}.sg`)||\"\",vnd_4d_ctx_topics:gather4dValues(i,r),vnd_4d_ctx_entities:gather4dValues(i,r),vnd_4d_ctx_keywords:gather4dValues(o,\"keyword\"),vnd_4d_sid:get$1(e,`${s}.sID`)||getCookie(\"sID\"),vnd_4d_pid:get$1(e,`${s}.pID`)||getCookie(\"pID\"),vnd_4d_usr_topics:gather4dValues(`${n}.topics`,r),vnd_4d_usr_wt:get$1(e,`${n}.wt`)||\"\",vnd_4d_xid:get$1(e,`${n}.xid`)||getCookie(\"CN_xid\")||\"\"}}function getUserSegments(){let e=getCookie(\"CN_segments\");return{usr_segments:e?e.split(\"|\"):[]}}function getReferrer(e){let t;try{t=new URL(e).hostname}catch(e){t=\"none\"}let n=\"none\",r=sessionStorage.getItem(\"ctx_ses_soc\")||\"none\";const o={fb:\"facebook.com\",tw:\"t.co\",rd:\"reddit.com\",pn:\"pinterest.com\",ig:\"instagram.com\",glp:\"plus.url.google.com\",tbl:\"t.umblr.com\",qq:\"qzone.qq.com\",we:\"weibo.com\",hb:\"habbo.com\",vk:\"vk.com\",rr:\"renren.com\",or:\"orkut.google.com\",sn:\"snapchat.com\"};return Object.keys(o).forEach((t=>{const i=o[t];e.includes(i)&&(n=t,r=t,sessionStorage.setItem(\"ctx_ses_soc\",t))})),{ctx_ses_soc:r,ctx_ref_soc:n,ctx_ref_url:t}}var crc32={},exports,factory;\\n/*! crc32.js (C) 2014-present SheetJS -- http://sheetjs.com */function generateEva(e){if(!e)return 100;try{const t=crc32.str(e);return Math.abs(t%100)+1}catch(e){return 100}}function findOrCreateEva(e){let t=arguments.length>1&&void 0!==arguments[1]?arguments[1]:{};const n=t.storage.getItem(\"usr_bkt_eva\"),r=generateEva(e).toString();return n!==r&&t.storage.setItem(\"usr_bkt_eva\",r),parseInt(r,10)}function isStorageEnabled(){try{return window.localStorage.setItem(\"testKey\",\"1\"),window.localStorage.removeItem(\"testKey\"),!0}catch(e){return!1}}function checkDate(e,t){return t>e}function trimDate(e,t){if(!e)return[];return e.toString().split(\",\").filter((e=>{const n=parseInt(e,10);return checkDate(t,n)}))}function timeTravel(e,t){const n=new Date(e).getDate()-t;return new Date(e).setDate(n)}function getSessionData(){const e=(new Date).getTime(),t=timeTravel(e,1),n=timeTravel(e,30),r=parseInt(sessionStorage.getItem(\"session-visits\"),10)||0;sessionStorage.setItem(\"session-visits\",(r+1).toString());const o=sessionStorage.getItem(\"session-visits\");let i=localStorage.getItem(\"session-visit-dates\");const s=localStorage.getItem(\"total-visits\");r||(i=i?`${i},${e}`:e);const a=s?`${s},${e}`:e,c=trimDate(a,t),l=trimDate(a,n),d=trimDate(i,n);return localStorage.setItem(\"total-visits\",l.join(\",\")),localStorage.setItem(\"session-visit-dates\",d.join(\",\")),{usr_pvc_bs:o,usr_pvc_24hr:c.length,usr_pvc_30d:l.length,usr_svc_30d:d.length}}function getUserBuckets(){let e=sessionStorage.getItem(\"usr_bkt_ses\");const t=findOrCreateEva(getCookie(\"CN_xid\"),{storage:localStorage});return e||(e=Math.floor(100*Math.random())+1,sessionStorage.setItem(\"usr_bkt_ses\",e)),{usr_bkt_eva:t,usr_bkt_ses:e,usr_bkt_pv:Math.floor(100*Math.random())+1}}function getMediaBuy(){return{mbid:(parse(document.location.search)||{}).mbid}}function getUserAuth(){let e=[\"false\"];return(getCookie(\"CN_userAuth\")||getCookie(\"CN_token_id\"))&&(e=[\"true\",\"authenticated\"]),(getCookie(\"pay_ent_sub\")||getCookie(\"pay_ent_pass\"))&&(e=[\"true\",\"entitled\"]),{usr_auth:e}}let userData;function resetUserData(){userData=!1}function getUserGid(){let e;const t=getCookie(\"_ga\");return new RegExp(/^GA1.2./).test(t)&&(e=t.split(\"GA1.2.\")[1]),{usr_gid:e}}function getUserDataPageTargeting(){if(!isStorageEnabled())return{};if(userData)return userData;const e=document.referrer;return userData=_objectSpread2(_objectSpread2(_objectSpread2(_objectSpread2(_objectSpread2(_objectSpread2({},getUserBuckets()),getSessionData()),getReferrer(e)),getMediaBuy()),getUserAuth()),getUserGid()),userData}exports=crc32,factory=function(e){e.version=\"1.2.2\";var t=function(){for(var e=0,t=new Array(256),n=0;256!=n;++n)e=1&(e=1&(e=1&(e=1&(e=1&(e=1&(e=1&(e=1&(e=n)?-306674912^e>>>1:e>>>1)?-306674912^e>>>1:e>>>1)?-306674912^e>>>1:e>>>1)?-306674912^e>>>1:e>>>1)?-306674912^e>>>1:e>>>1)?-306674912^e>>>1:e>>>1)?-306674912^e>>>1:e>>>1)?-306674912^e>>>1:e>>>1,t[n]=e;return\"undefined\"!=typeof Int32Array?new Int32Array(t):t}(),n=function(e){var t=0,n=0,r=0,o=\"undefined\"!=typeof Int32Array?new Int32Array(4096):new Array(4096);for(r=0;256!=r;++r)o[r]=e[r];for(r=0;256!=r;++r)for(n=e[r],t=256+r;t<4096;t+=256)n=o[t]=n>>>8^e[255&n];var i=[];for(r=1;16!=r;++r)i[r-1]=\"undefined\"!=typeof Int32Array?o.subarray(256*r,256*r+256):o.slice(256*r,256*r+256);return i}(t),r=n[0],o=n[1],i=n[2],s=n[3],a=n[4],c=n[5],l=n[6],d=n[7],u=n[8],g=n[9],p=n[10],f=n[11],m=n[12],y=n[13],b=n[14];e.table=t,e.bstr=function(e,n){for(var r=-1^n,o=0,i=e.length;o<i;)r=r>>>8^t[255&(r^e.charCodeAt(o++))];return~r},e.buf=function(e,n){for(var h=-1^n,w=e.length-15,$=0;$<w;)h=b[e[$++]^255&h]^y[e[$++]^h>>8&255]^m[e[$++]^h>>16&255]^f[e[$++]^h>>>24]^p[e[$++]]^g[e[$++]]^u[e[$++]]^d[e[$++]]^l[e[$++]]^c[e[$++]]^a[e[$++]]^s[e[$++]]^i[e[$++]]^o[e[$++]]^r[e[$++]]^t[e[$++]];for(w+=15;$<w;)h=h>>>8^t[255&(h^e[$++])];return~h},e.str=function(e,n){for(var r=-1^n,o=0,i=e.length,s=0,a=0;o<i;)(s=e.charCodeAt(o++))<128?r=r>>>8^t[255&(r^s)]:s<2048?r=(r=r>>>8^t[255&(r^(192|s>>6&31))])>>>8^t[255&(r^(128|63&s))]:s>=55296&&s<57344?(s=64+(1023&s),a=1023&e.charCodeAt(o++),r=(r=(r=(r=r>>>8^t[255&(r^(240|s>>8&7))])>>>8^t[255&(r^(128|s>>2&63))])>>>8^t[255&(r^(128|a>>6&15|(3&s)<<4))])>>>8^t[255&(r^(128|63&a))]):r=(r=(r=r>>>8^t[255&(r^(224|s>>12&15))])>>>8^t[255&(r^(128|s>>6&63))])>>>8^t[255&(r^(128|63&s))];return~r}},\"undefined\"==typeof DO_NOT_EXPORT_CRC?factory(exports):factory({});const isStickyEligible=function(e){return e.isSticky?\"sticky-eligible\":null},getFlagTargeting=function(e){let t=e.slotTypeDefinition;return{\"feature-flags\":[isStickyEligible(t)]}},getGeoTargeting=()=>{const e=getCookie(\"CN_geo_country_code\");return e?{fastly_geo:e}:{}};function createUniqueUserId(){return\"xxxxxxxxxx\".replace(/[x]/g,(e=>{const t=10*Math.random()|0;return(\"x\"==e?t:3&t|8).toString(10)}))}const runtimeId=createUniqueUserId();var runtimeId$1={runtimeId:runtimeId};function getPageViewTargeting(){const e=get$1(window,\"cns.runtimeId\")||\"\";let t=\"\";return window.snowplowQueue.push((()=>{window.snowplowCN((function(){const e=this.sp;t=e.getPageViewId()}))})),{pageview_id:e,sp_pageview_id:t}}function AdobeAudienceManager(){function e(e,t){const n=t[0],r=t[1],o=\"vnd_aam_\"+n.toLowerCase(),i=e[o]||[];return i.push(r),e[o]=i,e}this.getTargeting=function(){const t=getCookie(\"aamconde\"),n=getCookie(\"aam_uuid\"),r=t&&function(t){return decodeURIComponent(t).split(\";\").map((e=>e.split(\"=\"))).reduce(e,{})}(t);return _objectSpread2(_objectSpread2({},n&&{vnd_aam_uuid:[decodeURIComponent(n)]}),r)}}function Proximic(){let e={vnd_prx_segments:[]};const t=`https://segment-data.zqtk.net/condenast-amp?url=${encodeURIComponent(window.location.href)}`,n=new EventEmitter(\"Proximic\").warn,r=new XMLHttpRequest;r.addEventListener(\"load\",(function(){if(200===this.status){const t=JSON.parse(this.response);e=t&&t.targeting}else n(\"serverError\",this.status)})),r.open(\"GET\",t),r.send(),this.getTargeting=function(){return e}}window.snowplowQueue=window.snowplowQueue||[];const v6ToBlueprintKeys=new Map([[\"ctx_page_channel\",\"channel\"],[\"cnt_copilotid\",\"content_id\"],[\"ctx_page_slug\",\"page_slug\"],[\"cnt_platform\",\"platform\"],[\"ctx_slot_instance\",\"slot_instance\"],[\"pos\",\"slot_position\"],[\"ctx_slot_rn\",\"slot_refresh\"],[\"ctx_page_sub_channel\",\"subchannel\"],[\"cnt_tags\",\"tags\"],[\"ctx_template\",\"template_name\"]]),getTargetingKeyTranslator=e=>e?e=>v6ToBlueprintKeys.has(e)?v6ToBlueprintKeys.get(e):e:e=>e,getTargetingObjectTranslator=e=>t=>{const n=getTargetingKeyTranslator(e);return Object.keys(t).reduce(((e,r)=>(e[n(r)]=t[r],e)),{})};function getMetrics(){const e=get$1(window,\"cns.pageContext.content.ratio\")||\"\";if(e){return{cn_metrics:e>=200?\"cmr_high\":\"cmr_low\"}}return{}}function isEmptyObject(e){for(const t in e)return!1;return!0}function truncateText(e,t){if(!e)return\"\";if(e.length>t){return e.substring(0,t)}return e}function concatBucketLabel(e){return`${truncateText(e.experimentLabel,126)}_${truncateText(e.bucketLabel,126)}`}function getLabels(e,t,n){const r=[];if(e.length>0&&e.forEach((e=>{e.bucketLabel&&(\"bucketLabel\"===n?r.push(concatBucketLabel(e)):r.push(truncateText(e[n],254)))})),!isEmptyObject(t)){const e=get$1(t,\"experimentLabel\")||[];if(0===e.length)return r;e.forEach(((e,o)=>{\"bucketLabel\"===n?r.push(concatBucketLabel({experimentLabel:e,bucketLabel:t.bucketLabel[o]})):r.push(truncateText(e,254))}))}return r}function getExperiments(){const e=get$1(window,\"cns.pageContext.experiments\"),t=get$1(window,\"experiments.assignments\")||[];return isEmptyObject(e)&&0===t.length?{}:{experiments:getLabels(t,e,\"experimentLabel\"),buckets:getLabels(t,e,\"bucketLabel\")}}function getTargetingFromUrlParams(){return{bxid:queryParameters.bxid,esrc:queryParameters.esrc,cndid:queryParameters.cndid}}const social=[{key:\"facebook\",label:\"facebook\"},{key:\"twitter\",label:\"twitter\"},{key:\"t.co/\",label:\"twitter\"},{key:\"instagram\",label:\"instagram\"},{key:\"pinterest\",label:\"pinterest\"},{key:\"reddit\",label:\"reddit\"},{key:\"tumblr\",label:\"tumblr\"},{key:\"linkedin\",label:\"linkedin\"},{key:\"snapchat\",label:\"snapchat\"}],search=[{key:\"www.google\",label:\"google\"},{key:\"yahoo.\",label:\"yahoo\"},{key:\"bing.\",label:\"bing\"},{key:\"duckduckgo.\",label:\"duckduckgo\"}];function checkForDirect(e,t){if(t&&e===t.href)return\"direct\"}function checkForInternal(e,t){if(t&&e.host===t.host&&e.pathname!==t.pathname)return\"internal\"}function checkForEmail(){if(Object.keys(queryParameters).length&&\"email\"===queryParameters.utm_medium)return\"email\"}function checkForSocial(e){if(Object.keys(queryParameters).length&&\"social\"===queryParameters.utm_medium||e&&social.find((t=>e.href.includes(t.key))))return\"social\"}function checkForSearch(e){if(e&&search.find((t=>e.href.includes(t.key))))return\"search\"}function getTrafficSource(){let e;if(document.referrer)try{e=new URL(document.referrer)}catch(e){}return e||queryParameters.utm_medium?{traffic_source:checkForDirect(window.location.href,e)||checkForInternal(window.location,e)||checkForSocial(e)||checkForSearch(e)||checkForEmail()||\"referral\"}:{}}const setupIAS=()=>{const e=isPluginEnabled(getConfig$1(window),\"ias\"),t=(get$1(window,\"cns.config.plugins.ias.params\")||{}).id,n=void 0!==t&&t;e&&n&&(window.__iasPET={},window.__iasPET.queue=[],window.__iasPET.pubId=n,append({src:\"//static.adsafeprotected.com/iasPET.1.js\",targ:document.head,async:!0}).catch((e=>{})))};function IAS(){this.hasRunOnce={},this.shouldRunIas=e=>{const t=e.slot.getSlotElementId();return!this.hasRunOnce[t]},this.runIas=e=>{let t=e.slot;return new Promise((e=>{const n=t.getSlotElementId();this.hasRunOnce[n]=!0;const r=setTimeout((()=>{e({})}),1e3),o=t.getSizes().map((e=>e.getWidth&&e.getHeight?[e.getWidth(),e.getHeight()]:[1,1]));window.__iasPET.queue.push({adSlots:{adSlotId:n,size:o,adUnitPath:t.getAdUnitPath()},dataHandler:()=>{clearTimeout(r),window.__iasPET.setTargetingForGPT(),e({})}})})).catch((e=>{resolve({})}))}}function handleMoatYieldReady(){var e,t;window.cnBus.emit(\"ads.moat.yield-ready\"),null===(e=window.moatPrebidApi)||void 0===e||null===(t=e.setMoatTargetingForAllSlots)||void 0===t||t.call(e)}function setupMoat(){get$1(getConfig$1(window),\"plugins.moat.enabled\")&&(window.moatYieldReady=handleMoatYieldReady,appendScript$1())}function appendScript$1(){if(document.querySelectorAll(\\'script[src*=\"moatheader.js\"]\\').length>0)return;append({async:!0,src:`https://z.moatads.com/${get$1(getConfig$1(window),\"plugins.moat.params.id\")}/moatheader.js`,targ:document.head}).then((()=>{emitBoomPixel(\"moatLoad\")})).catch((e=>{(0,new EventEmitter(\"Moat\").debug)(\"appendScript\",{error:e})}))}function slotDataAvailable(){var e,t;return null===(e=window.moatPrebidApi)||void 0===e||null===(t=e.slotDataAvailable)||void 0===t?void 0:t.call(e)}function setMoatTargetingForSlot(e){let t=e.slot;var n,r;slotDataAvailable()&&(null===(n=window.moatPrebidApi)||void 0===n||null===(r=n.setMoatTargetingForSlot)||void 0===r||r.call(n,t));return{}}var moat={setMoatTargetingForSlot:setMoatTargetingForSlot,setupMoat:setupMoat};function getAllKeywordTargeting(){let e=arguments.length>0&&void 0!==arguments[0]?arguments[0]:{};const t={};return Object.keys(e).forEach((n=>{t[`cnt_${n}`]=e[n]})),t}function getGeneralServiceTargeting(e){let t=e.pageDefinition;return _objectSpread2(_objectSpread2(_objectSpread2(_objectSpread2({env_device_type:t.device,ctx_template:t.templateType,content_type:t.contentType,ctx_page_channel:sanitizeWithDashes(t.channel),ctx_page_sub_channel:t.subChannel,sub_sub_channel:t.subSubChannel,env_server:t.server,ctx_cns_version:version,ctx_page_slug:t.slug},getAllKeywordTargeting(t.keywords)),getGeoTargeting()),getPageViewTargeting()),t.clientPageTargeting)}function isPluginEnabled(e,t){return!!get$1(e,`plugins.${t}.enabled`)}function getServiceTargetingOverrides(){const e=queryParameters.ao_test,t=queryParameters.service_targeting,n=queryParameters.adtest,r={};if(e&&(r.ao_test=e.split(\",\")),n&&(r.adtest=n.split(\",\")),t){const e=JSON.parse(t);Object.keys(e).forEach((t=>{r[t]=e[t]}))}return r}function getSlotInstanceTargeting(e){let t=e.slotDefinition;return{pos_instance:t.positionCount,ctx_slot_instance:t.slotCount,ctx_slot_name:t.id,slot_name:t.positionId}}function sanitizeTargetingSafely(e){if(!1===e)return e;const t=sanitize(e),n=t.errors,r=t.sanitized;return n&&Object.keys(n).length&&debug$1(\"targetingSanitizationErrors\",{errors:n,sanitized:r}),r}function getGeneralSlotTargeting(e){let t=e.slotTypeDefinition;return{pos:t.position,ctx_slot_type:t.slotName,ctx_slot_rn:0}}function registerServices(e,t,n){if(e.register(\"service\",getGeneralServiceTargeting),e.register(\"service\",t.getTargeting),e.register(\"service\",getUserDataPageTargeting),e.register(\"service\",getUserSegments),e.register(\"service\",getMetrics),e.register(\"service\",getExperiments),e.register(\"service\",getTrafficSource),isPluginEnabled(n,\"aam\")){const t=new AdobeAudienceManager;e.register(\"service\",t.getTargeting)}if(isPluginEnabled(n,\"proximic\")){const t=new Proximic;e.register(\"service\",t.getTargeting)}return isPluginEnabled(n,\"4d_xid_pixels\")&&e.register(\"refreshLC-serviceLT\",get4DTargeting),Object.keys(queryParameters).length&&(e.register(\"service\",getTargetingFromUrlParams),e.register(\"service\",getServiceTargetingOverrides)),e}function registerSlot(e){return e.register(\"slot\",getGeneralSlotTargeting),e.register(\"slot\",getFlagTargeting),e}function registerRefreshes(e,t){if(isPluginEnabled(t,\"ias\")){const t=new IAS;e.register(\"refresh\",t.shouldRunIas,t.runIas)}if(auctioneer.areAuctionsEnabled(t)){if(isPluginEnabled(t,\"amazon_match_buy\")){const t=new AmazonMatchBuy;e.register(\"refresh\",auctioneer.createSlotAuctionEligible(t),auctioneer.createStartAuction(t))}if(isPluginEnabled(t,\"prebid\")){const n=new Prebid(t);e.register(\"refresh\",auctioneer.createSlotAuctionEligible(n),auctioneer.createStartAuction(n))}}return e}function TargetingLifecycle(e,t){const n=new LifecycleRegistrar([\"service\",\"slot\",\"define\",\"refresh\",\"refreshLC-serviceLT\"]);registerServices(n,t,e),registerSlot(n),n.register(\"define\",getSlotInstanceTargeting),n.register(\"define\",moat.setMoatTargetingForSlot),registerRefreshes(n,e),this.register=n.register,this.withTargeting=function(t,r,o){const i=(get$1(e,\"config\")||{}).useBlueprintTargeting,s=getTargetingObjectTranslator(void 0!==i&&i);return Promise.resolve(n.apply(t,r)).then(sanitizeTargetingSafely).then(s).then(o)}}const priceMap={\"9gr5ds\":.06,\"18zb6dc\":.07,ms7nr4:.08,\"1maroqo\":.09,\"50xn9c\":.1,\"14jho8w\":.11,vnuo00:.12,\"1v6eozk\":.13,dwkni8:.14,\"1df4ohs\":.15,kkawow:.16,\"1k2uxog\":.17,\"2t0w74\":.18,\"12bkx6o\":.19,tfxwxs:.2,\"1syhxxc\":.21,bonwg0:.22,\"1b77xfk\":.23,p04etc:.24,\"1oiofsw\":.25,\"78uebk\":.26,\"16refb4\":.27,xvrf28:.28,\"1xebg1s\":.29,g4hekg:.3,\"1fn1fk0\":.31,jgcj5s:.32,\"1iywk5c\":.33,\"1p2io0\":.34,\"117mjnk\":.35,sbzjeo:.36,\"1rujke8\":.37,akpiww:.38,\"1a39jwg\":.39,nw61a8:.4,\"1neq29s\":.41,\"64w0sg\":.42,\"15ng1s0\":.43,wrt1j4:.44,\"1wad2io\":.45,f0j11c:.46,\"1ej320w\":.47,lo9a80:.48,\"1l6tb7k\":.49,\"3wz9q8\":.5,\"13fjaps\":.51,ujwagw:.52,\"1u2gbgg\":.53,csm9z4:.54,\"1cb6ayo\":.55,q42scg:.56,\"1pmmtc0\":.57,\"8csruo\":.58,\"17vcsu8\":.59,yzpslc:.6,\"1yi9tkw\":.61,h8fs3k:.62,\"1gqzt34\":.63,hseyv4:.64,\"1hayzuo\":.65,\"14ydc\":.66,zjozcw:.67,qo1z40:.68,\"1q6m03k\":.69,\"8wrym8\":.7,\"18fbzls\":.71,m88gzk:.72,\"1lqshz4\":.73,\"4gyghs\":.74,\"13zihhc\":.75,v3vh8g:.76,\"1umfi80\":.77,dclgqo:.78,\"1cv5hq8\":.79,k0bpxc:.8,\"1jivqww\":.81,\"291pfk\":.82,\"11rlqf4\":.83,svyq68:.84,\"1seir5s\":.85,b4opog:.86,\"1an8qo0\":.87,og581s:.88,\"1nyp91c\":.89,\"6ov7k0\":.9,\"167f8jk\":.91,xbs8ao:.92,\"1wuc9a8\":.93,fki7sw:.94,\"1f328sg\":.95,iwdce8:.96,\"1iexdds\":.97,\"153bwg\":.98,\"10nncw0\":.99,rs0cn4:1,\"1rakdmo\":1.01,a0qc5c:1.02,\"19jad4w\":1.03,nc6uio:1.04,\"1muqvi8\":1.05,\"5kwu0w\":1.06,\"153gv0g\":1.07,w7turk:1.08,\"1vqdvr4\":1.09,egju9s:1.1,\"1dz3v9c\":1.11,l4a3gg:1.12,\"1kmu4g0\":1.13,\"3d02yo\":1.14,\"12vk3y8\":1.15,tzx3pc:1.16,\"1tih4ow\":1.17,c8n37k:1.18,\"1br7474\":1.19,pk3lkw:1.2,\"1p2nmkg\":1.21,\"7stl34\":1.22,\"17bdm2o\":1.23,yfqlts:1.24,\"1xyamtc\":1.25,goglc0:1.26,\"1g70mbk\":1.27,imdr0g:1.28,\"1i4xs00\":1.29,v3qio:1.3,\"10dnri8\":1.31,ri0r9c:1.32,\"1r0ks8w\":1.33,\"9qqqrk\":1.34,\"199arr4\":1.35,n2794w:1.36,\"1mkra4g\":1.37,\"5ax8n4\":1.38,\"14th9mo\":1.39,vxu9ds:1.4,\"1vgeadc\":1.41,e6k8w0:1.42,\"1dp49vk\":1.43,kuai2o:1.44,\"1kcuj28\":1.45,\"330hkw\":1.46,\"12lkikg\":1.47,tpxibk:1.48,\"1t8hjb4\":1.49,bynhts:1.5,\"1bh7itc\":1.51,pa4074:1.52,\"1oso16o\":1.53,\"7itzpc\":1.54,\"171e0ow\":1.55,y5r0g0:1.56,\"1xob1fk\":1.57,gegzy8:1.58,\"1fx10xs\":1.59,jqc4jk:1.6,\"1j8w5j4\":1.61,\"1z241s\":1.62,\"11hm51c\":1.63,slz4sg:1.64,\"1s4j5s0\":1.65,aup4ao:1.66,\"1ad95a8\":1.67,o65mo0:1.68,\"1nopnnk\":1.69,\"6evm68\":1.7,\"15xfn5s\":1.71,x1smww:1.72,\"1wkcnwg\":1.73,faimf4:1.74,\"1et2neo\":1.75,ly8vls:1.76,\"1lgswlc\":1.77,\"46yv40\":1.78,\"13piw3k\":1.79,utvvuo:1.8,\"1ucfwu8\":1.81,d2lvcw:1.82,\"1cl5wcg\":1.83,qe2dq8:1.84,\"1pwmeps\":1.85,\"8msd8g\":1.86,\"185ce80\":1.87,z9pdz4:1.88,\"1ys9eyo\":1.89,hifdhc:1.9,\"1h0zegw\":1.91,i2ek8w:1.92,\"1hkyl8g\":1.93,b4jr4:1.94,ztokqo:1.95,qy1khs:1.96,\"1qgllhc\":1.97,\"96rk00\":1.98,\"18pbkzk\":1.99,mi82dc:2,\"1m0s3cw\":2.01,\"4qy1vk\":2.02,\"149i2v4\":2.03,vdv2m8:2.04,\"1uwf3ls\":2.05,dml24g:2.06,\"1d55340\":2.07,kabbb4:2.08,\"1jsvcao\":2.09,\"2j1atc\":2.1,\"121lbsw\":2.11,t5ybk0:2.12,\"1soicjk\":2.13,beob28:2.14,\"1ax8c1s\":2.15,oq4tfk:2.16,\"1o8ouf4\":2.17,\"6yusxs\":2.18,\"16hetxc\":2.19,xlrtog:2.2,\"1x4buo0\":2.21,fuht6o:2.22,\"1fd1u68\":2.23,j6cxs0:2.24,\"1iowyrk\":2.25,\"1f2xa8\":2.26,\"10xmy9s\":2.27,s1zy0w:2.28,\"1rkjz0g\":2.29,aapxj4:2.3,\"19t9yio\":2.31,nm6fwg:2.32,\"1n4qgw0\":2.33,\"5uwfeo\":2.34,\"15dgge8\":2.35,whtg5c:2.36,\"1w0dh4w\":2.37,eqjfnk:2.38,\"1e93gn4\":2.39,le9ou8:2.4,\"1kwtpts\":2.41,\"3mzocg\":2.42,\"135jpc0\":2.43,u9wp34:2.44,\"1tsgq2o\":2.45,cimolc:2.46,\"1c16pkw\":2.47,pu36yo:2.48,\"1pcn7y8\":2.49,\"82t6gw\":2.5,\"17ld7gg\":2.51,ypq77k:2.52,\"1y8a874\":2.53,gyg6ps:2.54,\"1gh07pc\":2.55,ihdybk:2.56,\"1hzxzb4\":2.57,q3xts:2.58,\"108nytc\":2.59,rd0ykg:2.6,\"1qvkzk0\":2.61,\"9lqy2o\":2.62,\"194az28\":2.63,mx7gg0:2.64,\"1mfrhfk\":2.65,\"55xfy8\":2.66,\"14ohgxs\":2.67,vsugow:2.68,\"1vbehog\":2.69,e1kg74:2.7,\"1dk4h6o\":2.71,kpapds:2.72,\"1k7uqdc\":2.73,\"2y0ow0\":2.74,\"12gkpvk\":2.75,tkxpmo:2.76,\"1t3hqm8\":2.77,btnp4w:2.78,\"1bc7q4g\":2.79,p547i8:2.8,\"1ono8hs\":2.81,\"7du70g\":2.82,\"16we800\":2.83,y0r7r4:2.84,\"1xjb8qo\":2.85,g9h79c:2.86,\"1fs188w\":2.87,jlcbuo:2.88,\"1j3wcu8\":2.89,\"1u2bcw\":2.9,\"11cmccg\":2.91,sgzc3k:2.92,\"1rzjd34\":2.93,appbls:2.94,\"1a89clc\":2.95,o15tz4:2.96,\"1njpuyo\":2.97,\"69vthc\":2.98,\"15sfugw\":2.99,wwsu80:3,\"1lbt3wg\":3.05,cxm2o0:3.1,\"180clj4\":3.15,hxerk0:3.2,\"1qblssg\":3.25,\"4ly96o\":3.3,\"1d05af4\":3.35,t0yiv4:3.4,\"1o3p1q8\":3.45,fpi0hs:3.5,\"10sn5kw\":3.55,nh6n7k:3.6,\"1vvdog0\":3.65,\"3hzvnk\":3.7,\"1bw6ww0\":3.75,ykqeio:3.8,\"1i9xkow\":3.85,\"9vqjgg\":3.9,\"14yh2bk\":3.95,kzaark:4,\"1tdhc00\":4.05,\"7ntse8\":4.1,\"1g20tmo\":4.15,sqyxhc:4.2,\"1ntpgcg\":4.25,ffif40:4.3,\"13uiosg\":4.35,qj26f4:4.4,\"1yx97nk\":4.45,g4cg0:4.5,\"18ubdog\":4.55,viuvb4:4.6,\"1jxv4zk\":4.65,bjo3r4:4.7,\"16memm8\":4.75,jbcqgw:4.8,\"1rpjrpc\":4.85,\"5zw83k\":4.9,\"1ee39c0\":4.95,uewhs0:5,\"1phn0n4\":5.05,h3fzeo:5.1,\"10662gw\":5.15,mupk3k:5.2,\"1v8wlc0\":5.25,\"2visjk\":5.3,\"1b9pts0\":5.35,xy9beo:5.4,\"1j1eghs\":5.45,an7f9c:5.5,\"15pxy4g\":5.55,lqr6kg:5.6,\"1u4y7sw\":5.65,\"8fao74\":5.7,\"1gthpfk\":5.75,qqjvgg:5.8,\"1ltaebk\":5.85,df3d34:5.9,\"11u3mrk\":5.95,oin4e8:6,\"1wwu5mo\":6.05,\"17l88w\":6.1,\"19ls9hc\":6.15,wabr40:6.2,\"1kpc0sg\":6.25,cb4zk0:6.3,\"17dvif4\":6.35,iovncw:6.4,\"1r32olc\":6.45,\"5df4zk\":6.5,\"1drm680\":6.55,tsfeo0:6.6,\"1ov5xj4\":6.65,ggywao:6.7,\"11k41ds\":6.75,o8nj0g:6.8,\"1wmuk8w\":6.85,\"49grgg\":6.9,\"1cnnsow\":6.95,zc7abk:7,\"1hnghkw\":7.05,\"999gcg\":7.1,\"14bzz7k\":7.15,kct7nk:7.2,\"1sr08w0\":7.25,\"71cpa8\":7.3,\"1ffjqio\":7.35,s4hudc:7.4,\"1n78d8g\":7.45,et1c00:7.5,\"1381log\":7.55,pwl3b4:7.6,\"1yas4jk\":7.65,slu68:7.7,\"196sveo\":7.75,vvcd1c:7.8,\"1kacmps\":7.85,bw5lhc:7.9,\"16yw4cg\":7.95,jnu874:8,\"2gjegw\":8.5,rpigao:9,da3ke8:9.5,nto4xs:10,\"7a3chs\":10.5,v54feo:11,gppji8:11.5,lzhts0:12,\"1gbvgg\":12.5,tm6nsw:13,\"930phc\":13.5,pqccg0:14,\"6l4d1c\":14.5,xs0kjk:15,e0bi0w:15.5,hw5tds:16,\"3gqxhc\":16.5,sppzb4:17,bif5kw:17.5,n0yayo:18,\"8ljf28\":18.5,wgkhz4:19,gn7n5s:19.5,kj1yio:20,uj9tds:21,p9hj40:22,yp3q4g:23,j0qo00:24,r2ew3k:25,ny1gjk:26,vzpon4:27,lg543k:28,t2ty4g:29,qkxlog:30,xwdw5c:31,in083k:32,s2mf40:33,mduqrk:34,x7ewow:35,knfa4g:36,u31h4w:37,ot96v4:38,z7typs:39,jygao0:40,r7pxc0:41,nbvlz4:42,vdju2o:43,lsxudc:44,tum2gw:45,pyrr40:46,xdyw3k:47,i4l81s:48,sj5zwg:49,n9dpmo:50};function setInitialMaxBid(e){e.forEach((e=>e.setTargeting(\"maxbid\",[\"0\"])))}function calculateBidType(e,t,n){return e>=t?\"high\":e<=n?\"low\":\"mid\"}function getRange(e){return get$1(getConfig$1(window),e)}function setMaxBid(e){const t=e.getTargeting(\"hb_pb\")[0],n=e.getTargeting(\"amznbid\")[0];let r=0;if(t||n){if(t){const e=parseFloat(t);e>r&&(r=e)}if(n){const e=priceMap[n]||0;e>r&&(r=e)}return e.setTargeting(\"maxbid\",[r.toString()]),r}}function setBidType(e,t){const n=getRange(`plugins.bidRange.params.${\"mobile\"===getViewportTemplate()?\"mobile\":\"desktop\"}`),r=calculateBidType(e,null==n?void 0:n.max,null==n?void 0:n.min);t.setTargeting(\"bidType\",r)}function resetMaxBid(e){clearTargetingByKey(e.slot,\"maxbid\"),clearTargetingByKey(e.slot,\"bidType\")}function setBidOptimization(e){if(e.getTargetingKeys().includes(\"maxbid\")&&e.getSlotId){const t=setMaxBid(e);isPluginEnabled(getConfig$1(window),\"bidRange\")&&setBidType(t,e)}}function applyTargeting(){let e=arguments.length>0&&void 0!==arguments[0]?arguments[0]:{},t=arguments.length>1?arguments[1]:void 0;Object.keys(t).forEach((n=>e.setTargeting(n,t[n]))),setBidOptimization(e)}const isValidCreativeSize=e=>!!e&&Array.isArray(e)&&2===e.length,isSpacerCreative=e=>{let t=e.size;return!e.isEmpty&&isValidCreativeSize(t)&&1===t[0]&&1===t[1]};function shouldSetSlotSize(e,t,n){return n.hasStaticRefreshSize&&!t&&isValidCreativeSize(e)&&!isSpacerCreative({size:e,isEmpty:t})}function setSlotSize(e,t,n){t.defineSizeMapping(e.sizeMapping().addSize([0,0],n).build())}function getSizeStringAsArray(e){return\"fluid\"===e?e:e.split(\"x\").map((e=>parseInt(e,10)))}function sizesToArray(e){return e?e.map(getSizeStringAsArray):[]}function getSlotById(e){return find$1(window.googletag.pubads().getSlots(),(t=>t.getSlotElementId()===e))}function getPositionFromSlot(e){return e.getTargeting(\"pos\")[0]||e.getTargeting(\"slot_position\")[0]||\"\"}function getSizeFromSlotRenderEnded(e){const t=e.size;return Array.isArray(t)&&2===t.length?`${t[0]}x${t[1]}`:\"string\"==typeof t?t:\"\"}function getSizesFromSlot(e){return e.getSizes().map((e=>\"string\"==typeof e?e:`${e.width}x${e.height}`))}function isSizeOverride(e,t){return\"0x0\"!==e&&!getSizesFromSlot(t).includes(e)}var fastdom$1={exports:{}};!function(e){!function(t){var n=t.requestAnimationFrame||t.webkitRequestAnimationFrame||t.mozRequestAnimationFrame||t.msRequestAnimationFrame||function(e){return setTimeout(e,16)};function r(){var e=this;e.reads=[],e.writes=[],e.raf=n.bind(t)}function o(e){e.scheduled||(e.scheduled=!0,e.raf(i.bind(null,e)))}function i(e){var t,n=e.writes,r=e.reads;try{r.length,e.runTasks(r),n.length,e.runTasks(n)}catch(e){t=e}if(e.scheduled=!1,(r.length||n.length)&&o(e),t){if(!e.catch)throw t;e.catch(t)}}function s(e,t){var n=e.indexOf(t);return!!~n&&!!e.splice(n,1)}r.prototype={constructor:r,runTasks:function(e){for(var t;t=e.shift();)t()},measure:function(e,t){var n=t?e.bind(t):e;return this.reads.push(n),o(this),n},mutate:function(e,t){var n=t?e.bind(t):e;return this.writes.push(n),o(this),n},clear:function(e){return s(this.reads,e)||s(this.writes,e)},extend:function(e){if(\"object\"!=typeof e)throw new Error(\"expected object\");var t=Object.create(this);return function(e,t){for(var n in t)t.hasOwnProperty(n)&&(e[n]=t[n])}(t,e),t.fastdom=this,t.initialize&&t.initialize(),t},catch:null};var a=t.fastdom=t.fastdom||new r;e.exports=a}(\"undefined\"!=typeof window?window:commonjsGlobal)}(fastdom$1);var fastdom=fastdom$1.exports;const defaultStyles=\\'.cns-ads-stage {margin: 0 auto;padding: 0;position: relative;width: 100%;z-index: 1;}[data-slot-type=\"_out_of_page\"] {position: absolute;z-index: -1;}.cns-ads-flex-sizer {display: none;}\\',flexStyles=\\'.cns-ads-stage.cns-ads-flex {display: block;position: relative;}.cns-ads-flex .cns-ads-flex-sizer {display: block;width: 100%;}.cns-ads-flex .cns-ads-container,.cns-ads-flex iframe[id^=\"google_ads_iframe\"],.cns-ads-flex div[id*=\"google_ads_iframe\"] {position: absolute;left: 0;top: 0;right: 0;bottom: 0;height: 100% !important;width: 100% !important;}.full-screen .cns-ads-container,.full-screen iframe[id^=\"google_ads_iframe\"],.full-screen div[id*=\"google_ads_iframe\"] {height: 100vh !important;width: 100vw !important;}\\',versoStyles=\\'iframe[id^=\"google_ads_iframe\"],div[id*=\"google_ads_iframe\"] {margin: 0 auto;padding: 0;}.cns-ads-slot-size-9x1 iframe[id^=\"google_ads_iframe\"],.cns-ads-slot-size-9x1 div[id*=\"google_ads_iframe\"] {height: 0;width: 100%;min-width: 100%;}\\',legacyStyles=\\'iframe[id^=\"google_ads_iframe\"],div[id*=\"google_ads_iframe\"] {margin: 0 auto;padding: 0;height: 0;width: 100%;min-width: 100%;}\\',isCNSAdsSlotSizeClassRegex=new RegExp(/^cns-ads-slot-size-/);function ContainerStyler(e){const t=new EventEmitter(\"ContainerStyler\").debug,n=[\"3x1\",\"4x1\",\"8x1\",\"10x1\",\"16x9\"],r=[\"2x1\"],o=[\"9x1\"];function i(e,t){setStyle(e,{height:`${t[1]}px`,minHeight:`${t[1]}px`,width:`${t[0]}px`,minWidth:`${t[0]}px`})}function s(e,t){return e&&2===e.length&&t.indexOf(`${e[0]}x${e[1]}`)>-1}function a(e,t){const n=t.classList;n.remove(\"cns-ads-slot-state-filled\"),n.add(\"cns-ads-slot-state-empty\"),setStyle(e,{height:\"0px\",width:\"0px\",minWidth:\"0px\",minHeight:\"0px\"})}function c(e,t){const n=t.parentNode;n.classList.add(\"cns-ads-flex\");n.querySelector(\".cns-ads-flex-sizer\").style.paddingTop=`${e}%`}!function(){const t=createElement(\"style\"),n=t.styleSheet;t.classList.add(\"cns-ads-iframe-styles\"),t.type=\"text/css\";let r=defaultStyles+flexStyles;r+=e?versoStyles:legacyStyles,n?n.cssText=r:t.appendChild(document.createTextNode(r)),fastdom.mutate((()=>{document.head.appendChild(t)}))}(),this.updateContainer=function(l,d){let u=d.isEmpty,g=d.size,p=d.slot;const f=l.parentNode;if(t(\"ContainerStyler\",{container:l,stage:f,isEmpty:u,size:g,id:p.getSlotElementId()}),function(e){const t=e.classList;t.remove(\"cns-ads-slot-state-empty\");for(let e=0;e<t.length;e++)isCNSAdsSlotSizeClassRegex.test(t[e])&&t.remove(t[e])}(f),u)return void a(l,f);!function(e,t){addClasses(e,[\"cns-ads-slot-state-filled\",`cns-ads-slot-size-${t&&t[0]&&t[1]&&`${t[0]}x${t[1]}`}`])}(f,g);const m=getConfig$1(window),y=(null==m?void 0:m.config).shouldAddFlexStyleToCrownAds,b=void 0!==y&&y;if(s(g,n)){c(parseFloat(g[1])/parseFloat(g[0])*100,l)}else if(s(g,r))!function(e){e.parentNode.classList.add(\"full-screen\")}(l);else if(b&&s(g,o)){c(100*(\"desktop\"===getViewportTemplate()?1/3.69:9/16),l)}e||(function(e){const t=[\"height\",\"width\",\"padding\",\"margin\"];e.forEach((e=>{t.forEach((t=>{e.removeAttribute(t)}))}))}([l,f]),function(e){return 9===e[0]}(g)||function(e,t,n){const r=\\'[id^=\"google_ads_iframe\"]:not([id$=\"to_be_removed__\"]):not([id$=\"hidden__\"])\\',o=find(t,`iframe${r}`),s=find(t,`div${r}`);i(e,n),i(o,n),i(s,n)}(l,f,g))}}const alphanumeric=new RegExp(/[^a-zA-Z0-9]/g),cookieKey=\"CN_xid\",isValidLength=e=>e.length>=32&&e.length<=150;function getPPID(){const e=getCookie(cookieKey);if(!e)return!1;const t=e.replace(alphanumeric,\"\");return isValidLength(t)&&t}function setPPID(e){const t=getPPID();t&&e.setPublisherProvidedId(t)}function updateCorrelatorInterval(){set$1(window,\"cns.flags.shouldCorrelatorUpdate\",!0);const e=setInterval((()=>{get$1(window,\"cns.flags.shouldCorrelatorUpdate\")?get$1(window,\"cns.config.config.useRoadblock\")||window.googletag.pubads().updateCorrelator():clearInterval(e)}),3e4)}function PubadsCollector(){const e={},t={isFirstMoneyRequested:!1,isFirstMoneyRenderEnded:!1,isFirstMoneyImpression:!1,isFirstMoneyImpressionViewable:!1,isFirstMoneyResponseReceived:!1},n={isFirstNativeOnload:!0,isFirstNativeRequested:!0,isFirstNativeResponseReceived:!0,isFirstNativeImpressionViewable:!0,isFirstNativeRenderEnded:!0};let r=!0,o=!0,i=!0,s=!0,a=!0;function c(e,n,r,o){const i=n.slot,s=i.getOutOfPage(),a=i.getAdUnitPath().includes(\".native\"),c=n.isEmpty;return s||c||a||(t[e]=t[e]?t[e]:r+o),t[e]&&t[e]===r+o}function l(e,t){const r=t.slot.getAdUnitPath().includes(\".native\");return!(t.isEmpty||!r||!n[e])&&(n[e]=!1,!0)}this.emitReady=function(){emitBoomPixel(\"pubadsReady\")},this.onSlotRenderEnded=function(t){const n=t.slot.getSlotElementId(),r=e[n]||{},i=r&&r.requestNumber>=0?r.requestNumber+1:0,s=c(\"isFirstMoneyRenderEnded\",t,n,i),a={requestNumber:i},d=Object.assign(r,a);e[n]=d,o&&(emitBoomPixel(\"firstRenderEnded\"),o=!1),l(\"isFirstNativeRenderEnded\",t)&&emitBoomPixel(\"firstNativeRenderEnded\"),s&&emitBoomPixel(\"firstMoneyRenderEnded\")},this.onSlotOnload=function(t){const n=t.slot.getSlotElementId(),r=e[n];r&&(r.isFirstMoneyImpression=c(\"isFirstMoneyImpression\",t,n,r.requestNumber),r.isFirstImpression=i,r.impression=r.impression||Date.now(),r.isFirstMoneyImpression&&(emitBoomPixel(\"firstMoneyImpression\"),emitBoomPixel(\"firstMoneyOnload\")),l(\"isFirstNativeOnload\",t)&&emitBoomPixel(\"firstNativeOnload\"),i&&(emitBoomPixel(\"firstImpression\"),emitBoomPixel(\"firstOnload\"),i=!1))},this.onSlotRequested=function(t){const n=t.slot.getSlotElementId(),o=e[n]||{},i=o&&o.requestNumber>=0?o.requestNumber+1:0,s=c(\"isFirstMoneyRequested\",t,n,i),a={requestNumber:i},d=Object.assign(o,a);e[n]=d,r&&(emitBoomPixel(\"firstRequested\"),r=!1),l(\"isFirstNativeRequested\",t)&&emitBoomPixel(\"firstNativeRequested\"),s&&emitBoomPixel(\"firstMoneyRequested\")},this.onSlotResponseReceived=function(t){const n=t.slot.getSlotElementId(),r=e[n]||{},o=r&&r.requestNumber>=0?r.requestNumber+1:0,i=c(\"isFirstMoneyResponseReceived\",t,n,o),s={requestNumber:o},d=Object.assign(r,s);e[n]=d,a&&(emitBoomPixel(\"firstResponseReceived\"),a=!1),l(\"isFirstNativeResponseReceived\",t)&&emitBoomPixel(\"firstNativeResponseReceived\"),i&&emitBoomPixel(\"firstMoneyResponseReceived\")},this.onImpressionViewable=function(t){const n=t.slot.getSlotElementId(),r=e[n]||{};r.isFirstMoneyImpressionViewable=c(\"isFirstMoneyImpressionViewable\",t,n,r.requestNumber),r.isFirstImpressionViewable=s,r.isFirstMoneyImpressionViewable&&emitBoomPixel(\"firstMoneyImpressionViewable\"),l(\"isFirstNativeImpressionViewable\",t)&&emitBoomPixel(\"firstNativeImpressionViewable\"),s&&(emitBoomPixel(\"firstImpressionViewable\"),s=!1)}}const stickySizes=[\"728x90\",\"970x90\",\"300x50\",\"320x50\",\"320x100\",\"10x1\",\"8x1\",\"3x1\"],stickyIsSize=e=>stickySizes.includes(e);function stickyIsEligible(e,t,n){return\"hero_0\"===e&&!!t.isSticky&&Array.isArray(n)&&stickyIsSize(n.join(\"x\"))}function isStickyDeviceEnabled(e,t){return!0===e||!!e&&!!e[t]}function pixel(e){let t=e.campaign,n=e.name,r=e.meta;window.sparrowQueue.push((()=>{window.sparrow.track(t,n,r)}))}function getBase(){const e=getPageContext(window)||{},t=e.templateType||\"\";let n=get$1(e,\"keywords.platform\")||[];n=n[0]||\"\";return{channel:get$1(e,\"channel\")||\"\",platform:n,template:t,viewport:getViewportTemplate()}}function onPubadsReady$2(){const e=_objectSpread2(_objectSpread2({},getBase()),{},{pageContext:getPageContext(window),version:version});pixel({campaign:\"ad_metrics\",meta:{dim1:JSON.stringify(e)},name:\"pubadsReady\"})}function onImpressionViewable$1(e,t){const n=getPositionFromSlot(t.slot),r=t.slot.getSlotElementId(),o=e.getSingleInstance().getSlotStateStore().getSlotState(r).renderedSize,i=isSizeOverride(o,t.slot),s=_objectSpread2(_objectSpread2({},getBase()),{},{isOverride:i,position:n,size:o});pixel({campaign:\"ad_metrics\",meta:{dim1:JSON.stringify(s)},name:\"impressionViewable\"})}function onSlotRenderEnded$1(e){const t=getPositionFromSlot(e.slot),n=getSizeFromSlotRenderEnded(e),r=e.isEmpty,o=!r&&isSizeOverride(n,e.slot),i=_objectSpread2(_objectSpread2({},getBase()),{},{isEmpty:r,isOverride:o,position:t,size:n});pixel({campaign:\"ad_metrics\",meta:{dim1:JSON.stringify(i)},name:\"renderEnded\"})}function onAdBlockDetected$1(e){const t={device:getViewportTemplate(),pageContext:getPageContext(window),adBlock:e};pixel({campaign:\"ad_metrics\",meta:{dim1:JSON.stringify(t)},name:\"adBlock\"})}function onPIIDetected$1(){pixel({campaign:\"ad_metrics\",name:\"pii\",meta:{dim1:JSON.stringify({search:window.location.search,ref:document.referrer})}})}function onRoadblockRendered(e){e.on(\"ads.roadblock.#\",(e=>{const t=e.lineItemId,n=void 0===t?\"\":t;pixel({campaign:\"ad_metrics\",name:\"roadblockRendered\",meta:{dim1:_objectSpread2(_objectSpread2({},getBase()),{},{runtimeId:runtimeId$1,lineItemId:n})}})}))}window.sparrowQueue=window.sparrowQueue||[];var sparrowCollector={onImpressionViewable:onImpressionViewable$1,onPubadsReady:onPubadsReady$2,onSlotRenderEnded:onSlotRenderEnded$1,onAdBlockDetected:onAdBlockDetected$1,onPIIDetected:onPIIDetected$1,onRoadblockRendered:onRoadblockRendered};window.snowplowQueue=window.snowplowQueue||[];const snowplowNamespace=\"sp\";function trackSnowplowEvent(e,t){const n=(new Date).getTime();window.snowplowQueue.push((()=>{window.snowplowCN(`trackSelfDescribingEvent:${snowplowNamespace}`,{event:e,context:t,timestamp:n})}))}function buildEventPayload(e){return{schema:\"iglu:com.condenast/display_ad_event/jsonschema/1-0-1\",data:{type:e}}}function buildPageAdsEntity(){var e;let t=arguments.length>0&&void 0!==arguments[0]?arguments[0]:{},n=t.adblock_status,r=void 0===n?null:n,o=t.pii_status,i=void 0===o?null:o,s=t.is_roadblock,a=void 0===s?null:s;const c=getPageContext(window);return{schema:\"iglu:com.condenast/page_ads/jsonschema/2-0-1\",data:{ads_library_version:version,adblock_status:r,is_roadblock:a,pii_status:i,page_structure:null==c||null===(e=c.content)||void 0===e?void 0:e.pageStructure}}}function buildAdEntity(e){let t=e.slot,n=e.slotResponseInformation,r=e.adSizeRendered,o=e.advertiserId,i=e.isEmpty,s=e.isBackfill;const a=getPositionFromSlot(t),c=isSizeOverride(r,t),l=t.getAdUnitPath(),d=l.includes(\"native\")?\"native\":\"display\",u=n||{},g=u.lineItemId,p=u.creativeId,f=u.campaignId;return{schema:\"iglu:com.condenast/ad/jsonschema/2-0-0\",data:{request_type:d,position:a,ad_size_delivered:r,ad_unit_path:l,line_item_id:g?g.toString():\"\",creative_id:p?p.toString():\"\",order_id:f?f.toString():\"\",advertiser_id:o?o.toString():\"\",is_backfill:s,is_override:c,is_empty:i}}}function onPubadsReady$1(){trackSnowplowEvent(buildEventPayload(\"pubads_ready\"),[buildPageAdsEntity()])}function onImpressionViewable(e,t){const n=t.slot,r=n.getResponseInformation(),o=n.getSlotElementId(),i=e.getSingleInstance().getSlotStateStore().getSlotState(o).renderedSize;trackSnowplowEvent(buildEventPayload(\"viewable\"),[buildPageAdsEntity(),buildAdEntity({slot:n,slotResponseInformation:r,adSizeRendered:i})])}function onSlotRenderEnded(e,t){const n=t.slot,r=n.getResponseInformation(),o=n.getSlotElementId(),i=e.getSingleInstance().getSlotStateStore().getSlotState(o).renderedSize,s=t.advertiserId,a=t.isEmpty;trackSnowplowEvent(buildEventPayload(\"rendered\"),[buildPageAdsEntity(),buildAdEntity({slot:n,slotResponseInformation:r,adSizeRendered:i,advertiserId:s,isEmpty:a})])}function onAdBlockDetected(e){trackSnowplowEvent(buildEventPayload(\"adblock\"),[buildPageAdsEntity({adblock_status:e})])}function onPIIDetected(){trackSnowplowEvent(buildEventPayload(\"pii\"),[buildPageAdsEntity()])}function onRoadblockDetected(e){const t=\"ads.roadblock.#\",n=buildEventPayload(\"roadblock\"),r=[buildPageAdsEntity({is_roadblock:!0})];e.history(t).length?trackSnowplowEvent(n,r):e.on(t,(()=>{trackSnowplowEvent(n,r)}))}var snowplowCollector={onImpressionViewable:onImpressionViewable,onPubadsReady:onPubadsReady$1,onSlotRenderEnded:onSlotRenderEnded,onAdBlockDetected:onAdBlockDetected,onPIIDetected:onPIIDetected,onRoadblockDetected:onRoadblockDetected};let hasInitialized=!1;function startDatadog(){append({src:\"https://www.datadoghq-browser-agent.com/datadog-logs-v4.js\",targ:document.head,async:!0}).then(),window.DD_LOGS=window.DD_LOGS||{},window.DD_LOGS.q=[],window.DD_LOGS.onReady=e=>{window.DD_LOGS.q.push(e)},window.DD_LOGS&&DD_LOGS.onReady((()=>{DD_LOGS.init({clientToken:\"pub5c874fda7aa219f0f5b1852c420b3788\",forwardErrorsToLogs:!1,sessionSampleRate:50})}))}function init(){const e=(get$1(window,\"cns.config.plugins.datadog\")||{}).enabled;!hasInitialized&&(void 0!==e&&e)&&(hasInitialized=!0,shouldWaitForConsent()?onConsent(startDatadog()):startDatadog())}function onPubadsReady(){hasInitialized||init(),window.DD_LOGS&&DD_LOGS.onReady((()=>{const e=getMetadata(\"pubadsReady\");DD_LOGS.logger.info(\"pubadsReady\",e)}))}function getMetadata(e){return _objectSpread2(_objectSpread2({},getBase()),{},{event:e||\"na\",team:\"ads-tech\"})}var datadogCollector={onPubadsReady:onPubadsReady};function GPTRouter(e,t,n,r){const o=e.getSingleInstance().getPageDefinition(),i=new ContainerStyler(o.isVerso);window.googletag=window.googletag||{},window.googletag.cmd=window.googletag.cmd||[];const s=window.googletag,a=new PubadsCollector(e),c=e.getSingleInstance().getSlotStateStore();let l=!0;const d={slotRenderEnded:[function(t){try{const n=t.slot.getSlotElementId(),o=t.size,a=t.isEmpty,l=t.slot,d=t.creativeId,u=getSizeFromSlotRenderEnded(t);c.setSlotState(n,{creativeId:d,renderedSize:u});const g=e.getSingleInstance().getSlotDefinitionFromGPTSlot(t.slot),p=document.getElementById(n),f=c.getSlotState(n).nodeId;isSpacerCreative(t)&&c.setSpacerCreativeId(d);const m={nodeId:f,size:o,isSpacer:c.isSpacerCreative(d),slotElementId:n};p&&i.updateContainer(p,t),shouldSetSlotSize(o,a,g)&&setSlotSize(s,l,o),stickyIsEligible(n,g,o)&&r.emit(\"ads.stickyBanner.hero.slotRenderEnded.\"+o.join(\"x\")),a?(r.emit(`ads.slotRenderEnded.${n}.empty`),f&&r.emit(`ads.slotRenderEnded.${f}.empty`,m)):(r.emit(`ads.slotRenderEnded.${n}.filled`),f&&r.emit(`ads.slotRenderEnded.${f}.filled`,m))}catch(e){error$1(\"onSlotRenderEnded\",{event:t,ex:e})}},t.onSlotRenderEnded,n.onSlotRenderEnded,sparrowCollector.onSlotRenderEnded,snowplowCollector.onSlotRenderEnded.bind(null,e),a.onSlotRenderEnded,function(e){if(!e.isEmpty){const t=e.slot.getSlotElementId(),n=getSizeFromSlotRenderEnded(e);\"hero_0\"===t&&l&&(l=!1,updateBOOMRvarWithAdEventValues(e,n))}},resetMaxBid],impressionViewable:[function(t){try{const n=t.slot.getSlotElementId(),o=e.getSingleInstance().getSlotDefinitionFromGPTSlot(t.slot);\"hero_0\"===n&&o.isSticky&&r.emit(\"ads.stickyBanner.hero.impressionViewable\",t)}catch(e){error$1(\"onImpressionViewable\",{event:t,ex:e})}},t.onImpressionViewable,sparrowCollector.onImpressionViewable.bind(null,e),snowplowCollector.onImpressionViewable.bind(null,e),a.onImpressionViewable],slotOnload:[prebidRenderEnded,a.onSlotOnload],slotResponseReceived:[a.onSlotResponseReceived],slotRequested:[a.onSlotRequested]};s.cmd.push((()=>{const e=s.pubads();setPPID(e),e.enableSingleRequest();const t=get$1(window,\"cns.config.config.useRoadblock\");if(t||e.disableInitialLoad(),e.setCentering(!0),function(e,t){Object.keys(e).forEach((n=>{e[n].forEach((e=>t.addEventListener(n,e)))}))}(d,e),o.forChildren&&e.setPrivacySettings({childDirectedTreatment:!0}),updateCorrelatorInterval(),checkPrivacySettings(),oneTrustGroupsUpdated(checkPrivacySettings),t){const t=o.lazyloadSettings;e.enableLazyLoad(t)}e.enableVideoAds(),s.enableServices(),sparrowCollector.onPubadsReady(),snowplowCollector.onPubadsReady(),datadogCollector.onPubadsReady(),a.emitReady(),r.emit(\"ads.pubadsReady\")}))}function hasEmail(e){return new RegExp(\"([a-zA-Z0-9._+-]+(@|%40|%2540)[a-zA-Z0-9._-]+.[a-zA-Z0-9._-]+)\",\"gi\").test(e)}function hasPII(){return any([document.referrer,document.location.href],(e=>hasEmail(e)))}function checkBait(e,t,n){if([null!==window.document.body.getAttribute(\"abp\"),null===t.offsetParent,0===t.offsetHeight,0===t.offsetLeft,0===t.offsetTop,0===t.offsetWidth,0===t.clientHeight,0===t.clientWidth].some((e=>!0===e)))return e(!0);if(window.getComputedStyle){const n=window.getComputedStyle(t,null);if(\"none\"===n.getPropertyValue(\"display\")||\"hidden\"===n.getPropertyValue(\"visibility\"))return e(!0)}n.cosmetic=setTimeout((()=>{checkBait(e,t,n)}),25)}function cosmeticBait(e,t,n){t.cosmetic=document.createElement(\"div\"),t.cosmetic.setAttribute(\"class\",\"pub_300x250 pub_300x250m pub_728x90 text-ad textAd text_ad text_ads text-ads text-ad-links\"),t.cosmetic.setAttribute(\"style\",\"width: 1px !important; height: 1px !important; position: absolute !important; left: -10000px !important; top: -1000px !important;\"),window.document.body.appendChild(t.cosmetic),checkBait(e,t.cosmetic,n)}function cleanUp(e,t){Object.keys(e).forEach((t=>{clearTimeout(e[t])})),Object.keys(t).forEach((e=>{window.document.body.removeChild(t[e])}))}function adServerLoaded(e,t){const n=document.querySelectorAll(\"div[id*=\\'google_ads_iframe\\'] > iframe\");t&&!n.length&&e(!0),n.length&&e(!1)}function connectionBait(e,t){const n=new XMLHttpRequest;n.open(\"GET\",\"https://pagead2.googlesyndication.com/pagead/js/adsbygoogle.js\",!0),n.onreadystatechange=function(){4===n.readyState&&0===n.status&&e(!0),4===n.readyState&&200===n.status&&(t||e(!1))},n.send()}function detect(e,t){let n=!1;const r={},o={};function i(){return function(t){n||(n=!0,cleanUp(o,r),e(t))}}function s(){setTimeout((()=>{cosmeticBait(i(),r,o)}),1)}function a(){setTimeout((()=>{adServerLoaded(i(),t)}),4e3)}connectionBait(i(),t),\"complete\"===document.readyState?(s(),a()):\"interactive\"===document.readyState?(s(),window.addEventListener(\"load\",a,!1)):(window.addEventListener(\"DOMContentLoaded\",s,!1),window.addEventListener(\"load\",a,!1))}function AdBlockDetect(e,t){const n=t.getSingleInstance().getPageDefinition().slotNames;detect((t=>{t?e.emit(\"ads.environment.adblock.detected\"):e.emit(\"ads.environment.adblock.notdetected\"),set$1(window,\"cns.pageContext.adBlock\",t),sparrowCollector.onAdBlockDetected(t),snowplowCollector.onAdBlockDetected(t)}),(null==n?void 0:n.length)>0)}function isPlainObject(e){return!!e&&e.constructor===Object}function concatUniques(e){if(!(e=e.filter(Array.isArray)).length)return[];const t=e.shift();return Array.from(new Set(t.concat.apply(t,e)))}function mergeBase(e,t,n,r){let o;if(isPlainObject(t)?o=e.filter((e=>isPlainObject(e[n]))):Array.isArray(t)&&(o=e.filter((e=>Array.isArray(e[n])))),o&&o.length){t=merge(o.map((e=>e[n])),r)}return t}function merge(e,t){const n=e.filter((e=>!!e));if(n<2)return e[0];const r=concatUniques(n.filter((e=>!!e)).map(Object.keys)),o=n[0];return r.reduce(((e,r)=>{let o=n.filter((e=>void 0!==e[r]));if(t){let n=!1,i=o[0][r];for(let e=1;e<o.length;e++){const s=t(i,o[e][r],r);void 0!==s&&(i=s,n=!0)}if(n)return e[r]=i,e}for(let o=n.length-1;o>=0;o--){let i=n[o][r];if(void 0!==i)return e[r]=mergeBase(n,i,r,t),e}return e}),o)}function mergeViewportSizes(e,t){const n={};return Object.keys(e).forEach((r=>{if(n[r]=e[r]||[],t&&void 0!==t[r])if(!1===t[r]||!t[r]&&!1===e[r])n[r]=!1;else{n[r]=concatUniques([e[r],t[r]]);const o=n[r].filter((e=>e&&\"-\"===e[0])),i=o.map((e=>e.slice(1))),s=o.concat(i);n[r]=difference(n[r],s)}})),n}function mergeObjectsOfArrays(e){return concatUniques(e.map(Object.keys)).reduce(((t,n)=>{const r=e.map((e=>e[n])).filter(Array.isArray);return r.length&&(t[n]=concatUniques(r)),t}),{})}const isRunningOnClient=\"undefined\"!=typeof window;function isObject$1(e){return\"object\"==typeof e&&e.constructor===Object}function getRender(e){return pick(e,[\"desktop\",\"tablet\",\"mobile\",\"constellation\",\"slot\"])}function stringToFunction(string){return eval(\"(\"+string+\")\")}function updateSlotBlock(e){e.when&&(e.when=isRunningOnClient&&stringToFunction(e.when)||e.when.toString()),e.in&&e.in.el&&e.in.when&&(e.in.when=isRunningOnClient&&stringToFunction(e.in.when)||e.in.when.toString())}function slotComplexRenderPreProcessor(e){Object.values(e||{}).forEach((e=>{isObject$1(e)&&e.every&&e.el&&updateSlotBlock(e)}))}function slotComplexRenderProcessor(e){e&&(e.slot?slotComplexRenderPreProcessor(e.slot):Object.values(e).forEach((e=>{slotComplexRenderPreProcessor(e.slot)})))}function mergePlugins(e,t){return Object.keys(t).reduce(((n,r)=>{const o=merge([{},e[r],t[r]],((e,t)=>{if(!1!==e&&!0===t)return e}));return o&&(n[r]=o),n}),{})}function mergeSlotTypeDefinitions(e,t){return Object.keys(t).reduce(((n,r)=>{const o=mergeAdTechConfigs(e[r],t[r]);return o&&(n[r]=o),n}),{})}const specialKeys={types:(e,t)=>{if(isObject$1(e))return mergeSlotTypeDefinitions(e,t)},groups:(e,t)=>e?isObject$1(e)?concatUniques([e,t]):void 0:t,targeting:(e,t)=>e?isObject$1(e)?mergeObjectsOfArrays([e,t]):void 0:t,position:(e,t)=>e?isObject$1(e)?mergeObjectsOfArrays([e,t]):void 0:t,content_type:(e,t)=>e?isObject$1(e)?mergeObjectsOfArrays([e,t]):void 0:t,sizes:(e,t)=>{if(isObject$1(e))return mergeViewportSizes(e,t)},render:(e,t)=>(slotComplexRenderProcessor(e),slotComplexRenderProcessor(t),getRender(e?t||e:t)),plugins:mergePlugins};function adConfigMerger(e,t,n){let r;return specialKeys[n]?r=specialKeys[n](e,t):Array.isArray(e)&&Array.isArray(t)&&(r=t),r}function mergeAdTechConfigs(e,t){return merge([{},e,t],adConfigMerger)}const errorMessage=\"Ads -- Ad unit path generation error : \",matcher$1=\"[^A-Za-z0-9]\";function dashSlugify(e){const t=new RegExp(matcher$1,\"g\");return e&&e.toString().toLowerCase().replace(t,\"-\").replace(/-+/g,\"-\").replace(/(^-|-$)/g,\"\")}function evalPath(fnString,options){try{const pathFn=eval(\"(\"+fnString+\")\");if(\"function\"==typeof pathFn)return pathFn(options);error$1(`${errorMessage} generation function is not a function`)}catch(e){error$1(`${errorMessage} generation function cannot be evaluated`)}}function searchMap(e,t){return Object.keys(e).reduce(((n,r)=>find$1(e[r],(e=>e===t))?r:n),!1)}function findCategory(e){let t=e.channel,n=t?dashSlugify(t):\"misc\";return n=\"home\"===n?\"homepage\":n,n}function findContentType(e){const t=get$1(e,\"adUnit.map.contentType\");t||error$1(`${errorMessage} Content type map is missing in the config`);const n=searchMap(t,e.templateType);return n||error$1(`${errorMessage} contentType is undefined`),n}function matchAdUnitPathComponent(e){let t=arguments.length>1&&void 0!==arguments[1]?arguments[1]:[],n=arguments.length>2&&void 0!==arguments[2]?arguments[2]:\"\";t.sort(((e,t)=>{const n=Array.isArray(e)?e[0].length:e.length;return(Array.isArray(t)?t[0].length:t.length)-n}));for(let n=0;n<t.length;n+=1){const r=Array.isArray(t[n]),o=r?t[n][0]:t[n];if(e.startsWith(o))return r?t[n][1]:o}return n||e}function buildMatchedAdUnitPath(e,t){let n=e.categoryMatch,r=void 0===n?[]:n,o=e.contentTypeMatch,i=void 0===o?[]:o;const s=matchAdUnitPathComponent(t.category,r),a=matchAdUnitPathComponent(s,[matchAdUnitPathComponent(t.contentType,i)],t.contentType);return`${t.network}/${t.suffix}/${t.position}/${s}/${a}/${t.instance}`}function buildOrEvalPath(e,t){return Array.isArray(e.categoryMatch)?buildMatchedAdUnitPath(e,t):evalPath(e.generatePath,t)}function buildAdUnitPath(e){const t=e.position,n=e.network,r=e.positionCount,o=e.suffix,i=e.subChannel,s=e.contentType||findContentType(e),a=findCategory(e),c={network:n,position:t,category:a,contentType:s,instance:r,suffix:o,subChannel:i};set$1(window,\"cns.adUnit.contentType\",s),set$1(window,\"cns.adUnit.category\",a);return buildOrEvalPath({generatePath:get$1(e,\"adUnit.generatePath\"),categoryMatch:get$1(e,\"adUnit.categoryMatch\"),contentTypeMatch:get$1(e,\"adUnit.contentTypeMatch\")},c)}function buildOverridePath(e){return`${e.network}/${e.override.replace(/,/g,\"/\")}`}function slugifyChannels(e){let t=e.channel,n=e.subChannel;return{channel:dashSlugify(t)||\"\",subChannel:dashSlugify(n)||\"\"}}function generatePathOptions(e,t){const n=e.positionCount,r=e.network,o=e.override,i=e.suffix,s=e.templateType,a=e.slotName,c=e.position,l=slugifyChannels(e),d=l.channel,u=l.subChannel;return{adUnit:t.adUnit,network:r,override:o,templateType:s,positionCount:n,slotName:a,channel:d,subChannel:u,suffix:i,contentType:t.contentType,position:c}}function getAdUnitPath(e,t){const n=generatePathOptions(e,t);let r;return r=n.override?buildOverridePath(n):buildAdUnitPath(n),r||error$1(errorMessage),debug$1(`${e.slotName}.adUnitPathGenerated`,r),r}const SlotCounter=function(){let e={};this.next=t=>{e[t]=e[t]||0;const n=e[t];return e[t]++,n},this.current=t=>e[t]||0},PositionCounter=function(){let e={};this.next=t=>{e[t]=e[t]||1;const n=e[t];return e[t]++,n}},Store=function(){let e=arguments.length>0&&void 0!==arguments[0]?arguments[0]:{};const t=new Map(Object.entries(e));this.getState=e=>t.has(e)?t.get(e):{},this.setState=function(e){let n=arguments.length>1&&void 0!==arguments[1]?arguments[1]:{};const r=t.has(e)?t.get(e):{},o=Object.freeze(_objectSpread2(_objectSpread2({},r),n));return t.set(e,o),o},this.getStore=()=>t},SlotStore=function(){const e=new Store,t=new Set;this.getSlotState=t=>e.getState(t),this.setSlotState=(t,n)=>e.setState(t,n),this.isSpacerCreative=e=>t.has(e),this.setSpacerCreativeId=e=>{t.add(e)},this.getStore=()=>e.getStore()},matcher=\"[^A-Za-z0-9]\";function slugify(e){const t=new RegExp(matcher,\"g\");return e.toString().toLowerCase().replace(t,\"_\").replace(/_+/g,\"_\").replace(/(^_|_$)/g,\"\")}function defineReadOnlyProperties(e,t){const n=Object.keys(t),r={};for(let e=0;e<n.length;e++){const o=n[e];r[o]={value:t[o],writable:!1,enumerable:!0}}return Object.defineProperties(e,r)}function freeze(e){try{return Object.freeze(e)}catch(e){throw new Error(\\'Must use \"new\" keyword to instantiate, must support Object.freeze.\\')}}function matchVariantPattern(e,t){let n=!1;return t.forEach((t=>{!n&&e[t]&&(n=e[t])})),n||e._default||e.__default}function getSpecificityPattern(e){let t=e.slug,n=e.channel,r=e.subChannel,o=e.templateType;return[t,`${n}_${r}_${o}`,`${n}_${o}`,`${o}`]}function getSlotNamesForPage(e,t){const n=getSpecificityPattern(e);return matchVariantPattern(get$1(t,\"slot.sets\"),n)}function getConfig(){return get$1(window,\"cns.config.config\")}function getBrandAdUnitId(){return get$1(getConfig(),\"slot.__auid_one\")}function getAdUnit(){const e=get$1(window,\"cns.config.config.ad_unit\")||{};return{generatePath:e.generate_path,categoryMatch:e.category_match,contentTypeMatch:e.content_type_match,map:{contentType:get$1(e,\"map.content_type\")}}}function getNetwork(){return get$1(window,\"cns.config.config.network\")}function getViewportRange(e,t,n){const r=getConfig()[n],o=r&&matchVariantPattern(r,e);return o&&o[t]||o||0}function getPathOverride(){return queryParameters&&queryParameters.ao_iu}function getVersoFlag(e){const t=get$1(e,\"keywords.platform\")||[];return!!(t.length&&\"verso\"===t[0])}function getOverrideVpRange(e,t){return get$1(t,`request_vp_range.${e}`)}function getPageRefreshTime(){return getConfig().refresh}function CompleteDefiner(e,t,n){const r=new SlotCounter,o=new PositionCounter,i=new SlotStore,s=getSpecificityPattern(e),a=getConfig(),c=a.slot.types,l=getSlotNamesForPage(e,a),d=c._default||{},u=(a||{}).useBlueprintTargeting,g=getTargetingKeyTranslator(void 0!==u&&u),p=\"for_children\",f=\"static_refresh_size\",m=\"can_be_hidden\",y=\"insert_after_react_ready\",b=\"is_sticky\",h=\"required_targeting\",w=\"wait_for_oop\";function $(e){const t=e.render;return t&&(t.slot||t[n]&&t[n].slot)}function S(e,t,r,o){e||warn(`Invalid sizes: unable to define \\'${r}\\' on ${n}.`,{definition:o,slotName:r}),t||warn(`Invalid render: unable to define: \\'${r}\\' on ${n}`,{definition:o,slotName:r})}const v=freeze(l.reduce(((e,r)=>{const o=mergeAdTechConfigs(d,c[r]._default),i=function(e){const n=matchVariantPattern(c[e],s);return t?mergeAdTechConfigs(n,t):n}(r),a=mergeAdTechConfigs(o,i);return function(e,t,n){const r=t.sizes,o=r&&r[n]&&r[n].length,i=r&&!1===r[n],s=$(t),a=o&&!i;return!!t.isOutOfPage||(S(a,s,e,t),o&&!i&&s)}(r,a,n)&&(e[r]=freeze(a)),e}),{})),T=freeze(Object.keys(v));const A=new function(){defineReadOnlyProperties(this,{slug:e.slug,server:e.server,keywords:e.keywords,channel:e.channel||\"misc\",subChannel:e.subChannel,subSubChannel:e.subSubChannel,device:n,templateType:e.templateType,contentType:e.contentType,forChildren:e[p],slotNames:T,network:getNetwork(),brand:getBrandAdUnitId(),requestViewportRange:getViewportRange(s,n,\"request_vp_range\"),adUnit:getAdUnit(),isVerso:getVersoFlag(e),useRoadblock:getConfig().useRoadblock,lazyloadSettings:getViewportRange(s,n,\"lazyload_settings\"),pageRefresh:getPageRefreshTime()}),freeze(this)};function P(t){const i=v[t]?v[t]:{sizes:{}};function s(e,n){let i=arguments.length>2&&void 0!==arguments[2]?arguments[2]:{};e=void 0!==e?e:r.next(t);const s=`${t}_${e}`;n=void 0!==n?n:o.next(this.position);const a=this.position&&slugify(this.position),c=`${a}_${n}`;defineReadOnlyProperties(this,{id:s,slotCount:e,positionCount:n,positionId:c,data:i}),this.getAdUnitPath=()=>getAdUnitPath(this,A),freeze(this)}this.getRenderBlock=()=>$(i),this.getSizes=()=>i.sizes[n],this.getSizesArray=()=>sizesToArray(i.sizes[n]),this.getSizeMapping=()=>{const e=window.googletag.sizeMapping();return e.addSize([1024,0],sizesToArray(i.sizes.desktop)).addSize([768,0],sizesToArray(i.sizes.tablet)).addSize([0,0],sizesToArray(i.sizes.mobile)),e.build()},this.shouldWaitUntilVisibleBeforeDisplay=()=>!i[m],this.getCustomData=()=>i.data,s.prototype=this,this.getSlotDefinition=function(){for(var e=arguments.length,t=new Array(e),n=0;n<e;n++)t[n]=arguments[n];return new s(...t)},this.getSlotDefinitionFromGPTSlot=e=>{const t=g(\"pos_instance\"),n=g(\"ctx_slot_instance\"),r=parseInt(e.getTargeting(t)[0],10);return new s(parseInt(e.getTargeting(n)[0],10),r)},this.getSlotRefreshTime=(e,t,n)=>{let r;return r=void 0!==t?t:e,r&&r[n]&&(r=r[n]),r},defineReadOnlyProperties(this,{slotName:t,isOutOfPage:!!i.isOutOfPage,refresh:this.getSlotRefreshTime(A.pageRefresh,i.refresh,n),isSticky:isStickyDeviceEnabled(i[b],n),hasStaticRefreshSize:!!i[f],suffix:i.suffix,channel:e.channel,subChannel:e.subChannel,subSubChannel:e.subSubChannel,templateType:e.templateType,override:getPathOverride(),brand:getBrandAdUnitId(),network:getNetwork(),shouldWaitForOOP:i[w],shouldWaitForReact:!!i[y],requiredTargeting:i[h]||[],position:i.position,overrideRequestViewportRange:getOverrideVpRange(n,i)}),freeze(this)}this.getSlotTypeDefinition=e=>new P(e),this.getSlotDefinitionFromGPTSlot=e=>{const t=e.getSlotElementId().split(\"_\");t.pop();return new P(t.join(\"_\")).getSlotDefinitionFromGPTSlot(e)},this.getSlotStateStore=()=>i,this.getPageDefinition=()=>A,freeze(this)}const reactReadyEvent=\"react.ready\";function onReactReady(){set$1(window,\"_cne.pageCreated\",!0)}function enableCNE(e){if(e.history(reactReadyEvent).length)return onReactReady();e.on(reactReadyEvent,onReactReady)}const eval2=eval;function getText(e){let t=\"\";const n=e.childNodes;for(let e=0;e<n.length;e++){let r=n[e];8!==r.nodeType&&(t+=1!==r.nodeType?r.nodeValue:getText(r))}return t}function setMeta(e,t,n){const r=getText(n[t]);return{index:t,isOdd:!!(t%2),isEven:!(t%2),isFirst:0===t,isLast:t===e-1,characterCount:r.split(\"\").length,wordCount:r.split(\" \").length}}function isValidComplexInjection(e){return\"string\"==typeof e.el&&\"number\"==typeof e.every&&(\"object\"==typeof e.in&&\"string\"==typeof e.in.el||\"string\"==typeof e.in)}const insertionMethodMap={top:\"prepend\",bottom:\"append\",after:\"after\"};function normalizeMethod(e){return insertionMethodMap[e]||e}const insertionMethods={before:e=>e.previousSibling,above:e=>e.previousSibling,after:e=>e.nextSibling,below:e=>e.nextSibling,prepend:e=>e.firstElementChild,append:e=>e.lastElementChild};function getInsertionTarget(e,t){if(insertionMethods[t])return insertionMethods[t](e)}function alreadyExists(e,t){const n=getInsertionTarget(e,t),r=n&&n.classList&&n.classList.contains(\"cns-ads-stage\"),o=n&&n.firstChild,i=o&&o.classList&&o.classList.contains(\"cns-ads-stage\");return!(!r&&!i)}function checkEvery(e){let t=e.injectionBlock,n=e.index;return\"number\"==typeof t.every&&!!t.every&&\"number\"==typeof n}function checkCustomCondition(e){return\"function\"==typeof e.customConditionFn}const shouldAddSlotConditions=[{name:\"every\",check:checkEvery,fn:e=>(e.index+1)%e.injectionBlock.every==0},{name:\"custom condition\",check:checkCustomCondition,fn:e=>(0,e.customConditionFn)(e.domNode,e.meta)}];function shouldAddSlot(e){for(let t=0;t<shouldAddSlotConditions.length;t++){const n=`shouldAddSlot.${shouldAddSlotConditions[t].name}`;if(shouldAddSlotConditions[t].check(e)){let r;try{r=shouldAddSlotConditions[t].fn(e)}catch(t){debug$1(`${n}.conditionThrew`,{ex:t,facts:e})}if(!r)return debug$1(`${n}.conditionNotMet`,e),r;debug$1(`${n}.conditionFalse`,e)}else debug$1(`${n}.checkFailed`,e)}return!0}function getParentSelector(e){return\"string\"==typeof e?e:e.el}function getEvalResult(e){if(e)try{return eval2(`(${e})`)}catch(e){error$1(\"seriesInjection\",e)}}function getDomNodesForInjectionBlock(e){let t=0,n=0;const r=find(getParentSelector(e.in));if(!r)return[];const o=findAll(r,e.el),i=o.length,s=getEvalResult(e.when),a=[];for(let r=0;r<i;r++){const c=o[r],l=setMeta(i,r,o);t+=l.characterCount,n+=l.wordCount,l.accumulatedCharacterCount=t,l.accumulatedWordCount=n,shouldAddSlot({index:r,domNode:c,meta:l,customConditionFn:s,injectionBlock:e})&&a.push(c)}return a}function getCandidateElementsFromRenderBlock(e){return Object.keys(e).reduce(((t,n)=>{const r=e[n];let o;return\"string\"==typeof r?o=findAll(r):isValidComplexInjection(r)?o=getDomNodesForInjectionBlock(r):(o=[],error$1(\"invalid\",r)),n=normalizeMethod(n),o=o.filter((e=>!alreadyExists(e,n))),o&&o.length&&(t[n]=o),t}),{})}const PromiseLock=function(){let e;return function(t){return function(){for(var n=arguments.length,r=new Array(n),o=0;o<n;o++)r[o]=arguments[o];if(e){const n=e.then((()=>t(...r)));return e=n.then((()=>{})),n}return e=t(...r),e}}};function createContainerEl(e,t,n){const r=createElement(\"div\",{id:`${e}_${t}`});return addClasses(r,[\"cns-ads-container\"]),setStyle(r,{margin:\"0px auto\",boxSizing:\"content-box\"}),n&&setElementData(r,n),r}function createAdDivs(e,t,n,r){const o=\"cns-ads-slot-type-\",i=e.replace(new RegExp(\"_\",\"g\"),\"-\").toLowerCase(),s=createElement(\"div\",{id:`${o}${i}-${t}`});addClasses(s,[\"cns-ads-stage\",o+i,`${o+i}-${t}`]),setElementData(s,{name:`${e}_${t}`,\"slot-type\":e}),r||setStyle(s,{fontSize:0,lineHeight:0,overflow:\"hidden\"}),\"_out_of_page\"===e&&addClasses(s,[\"cns-ads-slot-type-out-of-page\"]);const a=createElement(\"div\");return addClasses(a,[\"cns-ads-flex-sizer\"]),s.appendChild(a),s.appendChild(createContainerEl(e,t,n)),s}function InjectRefreshDisplayInjectionStrategy(e,t,n,r){window.googletag=window.googletag||{};const o=window.googletag,i={after:(e,t)=>e.parentNode.insertBefore(t,e.nextSibling),prepend:(e,t)=>e.insertBefore(t,e.children[0]),append:(e,t)=>e.appendChild(t),before:(e,t)=>e.parentNode.insertBefore(t,e)};this.insertSlot=function(s,a,c,l,d){fastdom.mutate((()=>{const u=createAdDivs(a.slotName,a.slotCount,_objectSpread2(_objectSpread2({},a.getCustomData()),a.data),r);!function(e,t,n){i[t]?i[t](e,n):e[t](n)}(c,l,u),d(u,a,(()=>{((r,i)=>{const s=t.getSingleInstance().getPageDefinition();e([\"refreshLC-serviceLT\"],{pageDefinition:s},(t=>(applyTargeting(o.pubads(),t),e([\"refresh\"],{slotDefinition:i,slot:r,pageDefinition:s},(e=>{e?(applyTargeting(r,e),n.reset(i),get$1(window,\"cns.config.config.useRoadblock\")||o.pubads().refresh([r],{changeCorrelator:!1}),debug$1(`refreshing.${r.getSlotElementId()}`)):error$1(\"slot targeting is missing\",s,i)})))))})(s,a)}))}))}}const allowedIntersectionOptions=[\"threshold\",\"rootMargin\"],defaultIntersectionObserverOptions={threshold:0,rootMargin:\"0px 0px\"},_EventEmitter=new EventEmitter(\"VisibilityObserver\"),debug=_EventEmitter.debug,error=_EventEmitter.error;function isIntersecting(e){return any(e,(e=>e.isIntersecting))}function hasHigherIntersectionRatio(e,t){return void 0===e||any(t,(t=>t.intersectionRatio>=(e||0)))}function getIntersectionObserverOptions(e){return Object.assign({},defaultIntersectionObserverOptions,pick(e,allowedIntersectionOptions))}function observeEvents(e,t,n,r){fastdom.measure((()=>{try{const r=new IntersectionObserver((o=>{hasHigherIntersectionRatio(t.intersectionRatio,o)&&isIntersecting(o)?(debug(\"visible\",{el:e,entries:o}),n(!0,r)):(debug(\"notVisible\",{el:e,entries:o}),n(!1,r))}),getIntersectionObserverOptions(t));r.observe(e)}catch(e){r(e)}}))}function onIntersection(e,t,n){observeEvents(e,t,(e=>n(e)),(e=>error(\"onIntersection\",e)))}function onceVisible(e,t){return new Promise(((n,r)=>{observeEvents(e,t,((e,t)=>{e&&(n(),t.disconnect())}),r)}))}function reactRule(e,t){return!e||t}function targetingRule(){let e=arguments.length>0&&void 0!==arguments[0]?arguments[0]:[],t=arguments.length>1?arguments[1]:void 0,n=arguments.length>2&&void 0!==arguments[2]?arguments[2]:[];const r=Object.keys(t);return all(e,(e=>find$1(n,(t=>t===e))||find$1(r,(t=>t===e))))}function canRequest(e){let t=e.slotTypeDefinition,n=e.pageTargeting,r=e.slotTargeting,o=e.reactReady,i=e.oopHasRendered,s=e.excludedPositions;const a=!!r,c=targetingRule(t.requiredTargeting,r,n),l=reactRule(t.shouldWaitForReact,o),d=t.shouldWaitForOOP,u=t.position,g=s.has(u);let p=a&&c&&l&&!g&&!(d&&!i);return debug$1(`canRequest.${t.slotName}.${p}`,{slotTypeDefinition:t,pageTargeting:n,slotTargeting:r,reactReady:o,oopHasRendered:i,excludedPositions:s}),p}function UnassumingInsert(e,t,n,r){window.googletag=window.googletag||{};const o=window.googletag,i=t.withTargeting,s=r.getSingleInstance().getPageDefinition().isVerso,a=new InjectRefreshDisplayInjectionStrategy(i,r,n,s),c=new Set;let l=!1,d=!1;function u(e,t){let n;return r.getSingleInstance().getSlotStateStore().setSlotState(e.id,{nodeId:e.data&&e.data[\"node-id\"]}),n=t?o.defineOutOfPageSlot(e.getAdUnitPath(),e.id):o.defineSlot(e.getAdUnitPath(),e.getSizesArray(),e.id).defineSizeMapping(e.getSizeMapping()),n}function g(e,t){return(n,r,i)=>{const s=function(e){if(e.shouldWaitUntilVisibleBeforeDisplay())return onceVisible}(r),a=()=>{const e=r.id;debug$1(\"insert.display\",e),o.display(e),i()},c=e.requestViewportRange,l=t.overrideRequestViewportRange;if(s)return s(n,{rootMargin:`${void 0!==l?l:c}% 0%`}).then(a);a()}}const p=(new PromiseLock)((e=>{const t=e.getSingleInstance().getPageDefinition();return i([\"service\"],{pageDefinition:t},(n=>{if(n)return applyTargeting(o.pubads(),n),Promise.all(t.slotNames.map((r=>{const s=e.getSingleInstance().getSlotTypeDefinition(r);return function(e,t){let n;const r=e.getRenderBlock();return n=getCandidateElementsFromRenderBlock(r),Promise.all(Object.keys(n).map((r=>(debug$1(\"candidatesByMethod.\"+e.slotName,{method:r,els:n[r],definition:e}),Promise.all(n[r].map((e=>t(e,r))))))))}(s,((e,r)=>i([\"slot\"],{pageTargeting:n,slotTypeDefinition:s,reactReady:d,el:e},(p=>{if(!p)return void error$1(\"slot type targeting is missing\",t,s);const f=o.pubads().getTargetingKeys();if(!canRequest({slotTypeDefinition:s,pageTargeting:f,slotTargeting:p,reactReady:d,oopHasRendered:l,excludedPositions:c}))return void debug$1(`${s.slotName}.notRequestable`,s,d,n,p);const m=e.dataset.nodeId,y=s.getSlotDefinition(void 0,void 0,_objectSpread2({},m&&{\"node-id\":m})),b=y.isOutOfPage,h=u(y,b);if(!h)return void error$1(\"the slot cannot be defined\",y,h);h.addService(window.googletag.pubads()),b&&h.addService(window.googletag.companionAds());const w=_objectSpread2({},p);h.updateTargetingFromMap(w),i([\"define\"],{slot:h,slotDefinition:y},(e=>{applyTargeting(h,e)})),a.insertSlot(h,y,e,r,g(t,s))}))))})));error$1(\"page targeting is missing\",t)})).catch(handlePromiseError(\"insert error\")).then((()=>new Promise((e=>fastdom.mutate((()=>setTimeout(e,1e3))))))).catch(handlePromiseError(\"impossible mutate error\"))}));var f;f=()=>{d=!0},e.history(\"react.ready\").length?f():e.on(\"react.ready\",f),function(){const t=e.on(\"#.slotRenderEnded.#\",((n,r)=>{r.topic&&r.topic.includes(\"out_of_page\")&&(l=!0,t(),e.emit(\"ads.componentDidUpdate\"))}))}(),e.on(\"ads.excludePositions\",(e=>{e.forEach(c.add,c)})),this.insert=t=>{!function(t){o.pubadsReady?t():e.on(\"ads.pubadsReady\",t)}((()=>{p(t),function(t){e.on(\"react.ready\",t),e.on(\"#.componentDidMount.#\",t),e.on(\"#.componentDidUpdate.#\",t)}(debounce((()=>p(t)),500))}))}}function UniqueTimerStore(){const e={};function t(t){const n=e[t];n&&(clearTimeout(n),e[t]=null)}this.startTimer=function(n,r,o){t(n),e[n]=setTimeout((()=>{t(n),r()}),o)},this.endTimer=t}function KeyCounter(){let e={};this.increment=t=>{e[t]||(e[t]=0),e[t]+=1},this.remove=t=>{e[t]&&delete e[t]},this.getCount=t=>e[t]||0}function RefreshControl(e,t){const n=t.withTargeting,r=new EventEmitter(\"RefreshControl\").debug,o=new KeyCounter,i=new KeyCounter,s=new Set,a=new Set,c=new Set,l=new UniqueTimerStore,d=[[\"aged\",e=>s.has(e)],[\"impressions\",e=>i.getCount(e)],[\"visible\",e=>c.has(e)]],u=e=>`${e}.refresh_${o.getCount(e)}`,g=t=>e.getSingleInstance().getSlotDefinitionFromGPTSlot(t);function p(t){const i=e.getSingleInstance().getPageDefinition(),s=getSlotById(t),a=g(s);r(`setTargeting.${u(t)}`);const c=getConfig$1(window).config.useBlueprintTargeting,l=getTargetingKeyTranslator(void 0!==c&&c)(\"ctx_slot_rn\");return s.setTargeting(l,o.getCount(t)),n([\"refreshLC-serviceLT\"],{pageDefinition:i},(e=>(applyTargeting(window.googletag.pubads(),e),n([\"refresh\"],{pageDefinition:i,slotDefinition:a,slot:s},(e=>{applyTargeting(s,e)})))))}function f(e){return void 0===e?3e4:!Number.isNaN(parseInt(e,10))&&e>0?e:0}const m=cumulativeArgumentDebounce((e=>{const t=uniq(e.map((e=>e[0])));if(window.cns.flags.shouldNotRefresh)r(\"window.cns.flags.shouldNotRefresh\");else if(r(`refreshing.${t.map((e=>u(e))).join(\",\")}`),t.forEach((e=>h(g(getSlotById(e))))),!get$1(window,\"cns.config.config.useRoadblock\")){const e=t.map(getSlotById);window.googletag.pubads().refresh(e,{changeCorrelator:!1})}}),100);function y(e){r(`onChange.${e}.(${d.map((t=>t[0]+\":\"+t[1](e))).join(\",\")})`),all(d,(t=>t[1](e)))&&p(e).then((()=>{m(e)}))}function b(e,t){0===(t=f(t))?y(e):l.startTimer(e,(()=>{s.add(e),y(e)}),t),r(`willRefreshIn.${e}.${t}`)}function h(e){const t=e.id;i.remove(t),s.delete(t),b(t,e.refresh)}function w(e){return!e.isOutOfPage&&!window.cns.flags.shouldNotRefresh&&!1!==e.refresh}this.reset=function(e){w(e)?h(e):r(`slotNotRefreshable.${e.id}`)},this.onSlotRenderEnded=function(e){const t=e.slot,n=g(t).id;o.increment(n)},this.onImpressionViewable=function(e){const t=e.slot.getSlotElementId();i.increment(t),r(`${t}.impressionIncremented`),y(t),w(g(e.slot))&&function(e){if(!a.has(e)){const t=getElementById(e);a.add(e),onIntersection(t,{},(t=>{t?(c.add(e),y(e)):c.delete(e)}))}}(t)},this.disableRefresh=function(e){l.endTimer(e)},this.delayRefresh=b,this.normalizeRefreshTimeout=f}function ShareOfVoice(){let e=!1,t=\"\";this.getTargeting=function(){const e={};return t&&(e.ctx_line_items=[t]),e},this.onSlotRenderEnded=function(n){e||(e=!0,t=n.lineItemId)}}function cnsMetricsApi(){return e=>{e({emit:pixel})}}var updateRefresh=e=>{let t=e.refreshControl;return e=>{let n=e.slotName,r=e.refresh;\"number\"==typeof r&&r>0?t.delayRefresh(n,r):t.disableRefresh(n)}};function CNSAdsAPI(e,t,n,r){function o(e){let t=e.device,n=void 0===t?\"desktop\":t,r=e.server,o=void 0===r?\"staging\":r;return new Promise(((e,t)=>{o&&n||t(),e()}))}function i(){return!0===get$1(window,\"cns.pageContext.adBlock\")}const s=updateRefresh({refreshControl:t});function a(e,t){const n=e.frameElement.parentElement.parentElement.id;s({slotName:n,refresh:t})}function c(e){const t=window.cns.pageContext,o=new CompleteDefiner(Object.assign({},t,e),null,getViewportTemplate());n.reset((()=>o)),r.insert(n)}function l(){resetUserData(),window.googletag.cmd.push((()=>{window.googletag.pubads().clear(),window.googletag.destroySlots()})),fastdom.mutate((()=>{const e=document.querySelectorAll(\".cns-ads-stage\");for(let t=0;t<e.length;t++){e[t].remove()}}))}function d(e){r.insert(n)}this.executeCallback=function(e){e({environment:o,setRefreshFor:a,adBlock:{installed:deprecated((()=>{}),\"adblock.installed\"),blocked:deprecated(i,\"adblock.blocked\")},pages:{create:c,destroy:l,get:()=>({slots:{add:deprecated(d,\"slots.add\"),get:deprecated((()=>{}),\"slots.get\"),refresh:deprecated((()=>{}),\"slots.refresh\"),destroy:deprecated((()=>{}),\"slots.destroy\")}})}})}}function CNSShim(e,t,n,r){const o=new CNSAdsAPI(e,t,n,r);var i;i={ads:o.executeCallback,metrics:cnsMetricsApi()},window.cns.async=function(e,t){i[e](t)},window.cns.queue.forEach((e=>{let t=e.service,n=e.callback;window.cns.async(t,n)})),delete window.cns.queue}var spacerCreative=e=>{let t=e.definer;return e=>{let n=e.creativeId;const r=t.getSingleInstance().getSlotStateStore();r.setSpacerCreativeId(n);const o=r.getStore();window.cnBus&&Array.from(o.values()).forEach((e=>{let t=e.creativeId,r=e.nodeId;r&&t&&n===t&&window.cnBus.emit(`ads.creative.${r}.spacer`,{})}))}};function SafeFrameMessageListener(e){const t=function(t){const n=new Map(Object.keys(t).map((n=>[n,t[n](e)])));return e=>{const t=e.data,r=t.cnsAdEvent,o=t.payload;if(r&&n.has(r)){return n.get(r)(o,e)}}}({updateRefresh:updateRefresh,\"ads.creative.spacer\":spacerCreative});window.addEventListener(\"message\",t)}function SourceOfTruth(e){let t;this.getSingleInstance=function(){return t||(t=e()),t},this.reset=function(n){t=n?n():e()}}var arrayBufferNative=\"undefined\"!=typeof ArrayBuffer&&\"undefined\"!=typeof DataView,fails$1=fails$a,correctPrototypeGetter=!fails$1((function(){function e(){}return e.prototype.constructor=null,Object.getPrototypeOf(new e)!==e.prototype})),global$5=global$u,hasOwn$1=hasOwnProperty_1,isCallable$1=isCallable$e,toObject=toObject$2,sharedKey=sharedKey$2,CORRECT_PROTOTYPE_GETTER=correctPrototypeGetter,IE_PROTO=sharedKey(\"IE_PROTO\"),Object$1=global$5.Object,ObjectPrototype$1=Object$1.prototype,objectGetPrototypeOf=CORRECT_PROTOTYPE_GETTER?Object$1.getPrototypeOf:function(e){var t=toObject(e);if(hasOwn$1(t,IE_PROTO))return t[IE_PROTO];var n=t.constructor;return isCallable$1(n)&&t instanceof n?n.prototype:t instanceof Object$1?ObjectPrototype$1:null},NATIVE_ARRAY_BUFFER=arrayBufferNative,DESCRIPTORS=descriptors,global$4=global$u,isCallable=isCallable$e,isObject=isObject$9,hasOwn=hasOwnProperty_1,classof=classof$2,tryToString=tryToString$2,createNonEnumerableProperty=createNonEnumerableProperty$6,redefine=redefine$2.exports,defineProperty=objectDefineProperty.f,isPrototypeOf=objectIsPrototypeOf,getPrototypeOf=objectGetPrototypeOf,setPrototypeOf=objectSetPrototypeOf,wellKnownSymbol=wellKnownSymbol$4,uid=uid$3,Int8Array$1=global$4.Int8Array,Int8ArrayPrototype$1=Int8Array$1&&Int8Array$1.prototype,Uint8ClampedArray$1=global$4.Uint8ClampedArray,Uint8ClampedArrayPrototype=Uint8ClampedArray$1&&Uint8ClampedArray$1.prototype,TypedArray=Int8Array$1&&getPrototypeOf(Int8Array$1),TypedArrayPrototype=Int8ArrayPrototype$1&&getPrototypeOf(Int8ArrayPrototype$1),ObjectPrototype=Object.prototype,TypeError$1=global$4.TypeError,TO_STRING_TAG=wellKnownSymbol(\"toStringTag\"),TYPED_ARRAY_TAG=uid(\"TYPED_ARRAY_TAG\"),TYPED_ARRAY_CONSTRUCTOR=uid(\"TYPED_ARRAY_CONSTRUCTOR\"),NATIVE_ARRAY_BUFFER_VIEWS=NATIVE_ARRAY_BUFFER&&!!setPrototypeOf&&\"Opera\"!==classof(global$4.opera),TYPED_ARRAY_TAG_REQUIRED=!1,NAME,Constructor,Prototype,TypedArrayConstructorsList={Int8Array:1,Uint8Array:1,Uint8ClampedArray:1,Int16Array:2,Uint16Array:2,Int32Array:4,Uint32Array:4,Float32Array:4,Float64Array:8},BigIntArrayConstructorsList={BigInt64Array:8,BigUint64Array:8},isView=function(e){if(!isObject(e))return!1;var t=classof(e);return\"DataView\"===t||hasOwn(TypedArrayConstructorsList,t)||hasOwn(BigIntArrayConstructorsList,t)},isTypedArray=function(e){if(!isObject(e))return!1;var t=classof(e);return hasOwn(TypedArrayConstructorsList,t)||hasOwn(BigIntArrayConstructorsList,t)},aTypedArray$2=function(e){if(isTypedArray(e))return e;throw TypeError$1(\"Target is not a typed array\")},aTypedArrayConstructor=function(e){if(isCallable(e)&&(!setPrototypeOf||isPrototypeOf(TypedArray,e)))return e;throw TypeError$1(tryToString(e)+\" is not a typed array constructor\")},exportTypedArrayMethod$2=function(e,t,n,r){if(DESCRIPTORS){if(n)for(var o in TypedArrayConstructorsList){var i=global$4[o];if(i&&hasOwn(i.prototype,e))try{delete i.prototype[e]}catch(n){try{i.prototype[e]=t}catch(e){}}}TypedArrayPrototype[e]&&!n||redefine(TypedArrayPrototype,e,n?t:NATIVE_ARRAY_BUFFER_VIEWS&&Int8ArrayPrototype$1[e]||t,r)}},exportTypedArrayStaticMethod=function(e,t,n){var r,o;if(DESCRIPTORS){if(setPrototypeOf){if(n)for(r in TypedArrayConstructorsList)if((o=global$4[r])&&hasOwn(o,e))try{delete o[e]}catch(e){}if(TypedArray[e]&&!n)return;try{return redefine(TypedArray,e,n?t:NATIVE_ARRAY_BUFFER_VIEWS&&TypedArray[e]||t)}catch(e){}}for(r in TypedArrayConstructorsList)!(o=global$4[r])||o[e]&&!n||redefine(o,e,t)}};for(NAME in TypedArrayConstructorsList)Constructor=global$4[NAME],Prototype=Constructor&&Constructor.prototype,Prototype?createNonEnumerableProperty(Prototype,TYPED_ARRAY_CONSTRUCTOR,Constructor):NATIVE_ARRAY_BUFFER_VIEWS=!1;for(NAME in BigIntArrayConstructorsList)Constructor=global$4[NAME],Prototype=Constructor&&Constructor.prototype,Prototype&&createNonEnumerableProperty(Prototype,TYPED_ARRAY_CONSTRUCTOR,Constructor);if((!NATIVE_ARRAY_BUFFER_VIEWS||!isCallable(TypedArray)||TypedArray===Function.prototype)&&(TypedArray=function(){throw TypeError$1(\"Incorrect invocation\")},NATIVE_ARRAY_BUFFER_VIEWS))for(NAME in TypedArrayConstructorsList)global$4[NAME]&&setPrototypeOf(global$4[NAME],TypedArray);if((!NATIVE_ARRAY_BUFFER_VIEWS||!TypedArrayPrototype||TypedArrayPrototype===ObjectPrototype)&&(TypedArrayPrototype=TypedArray.prototype,NATIVE_ARRAY_BUFFER_VIEWS))for(NAME in TypedArrayConstructorsList)global$4[NAME]&&setPrototypeOf(global$4[NAME].prototype,TypedArrayPrototype);if(NATIVE_ARRAY_BUFFER_VIEWS&&getPrototypeOf(Uint8ClampedArrayPrototype)!==TypedArrayPrototype&&setPrototypeOf(Uint8ClampedArrayPrototype,TypedArrayPrototype),DESCRIPTORS&&!hasOwn(TypedArrayPrototype,TO_STRING_TAG))for(NAME in TYPED_ARRAY_TAG_REQUIRED=!0,defineProperty(TypedArrayPrototype,TO_STRING_TAG,{get:function(){return isObject(this)?this[TYPED_ARRAY_TAG]:void 0}}),TypedArrayConstructorsList)global$4[NAME]&&createNonEnumerableProperty(global$4[NAME],TYPED_ARRAY_TAG,NAME);var arrayBufferViewCore={NATIVE_ARRAY_BUFFER_VIEWS:NATIVE_ARRAY_BUFFER_VIEWS,TYPED_ARRAY_CONSTRUCTOR:TYPED_ARRAY_CONSTRUCTOR,TYPED_ARRAY_TAG:TYPED_ARRAY_TAG_REQUIRED&&TYPED_ARRAY_TAG,aTypedArray:aTypedArray$2,aTypedArrayConstructor:aTypedArrayConstructor,exportTypedArrayMethod:exportTypedArrayMethod$2,exportTypedArrayStaticMethod:exportTypedArrayStaticMethod,isView:isView,isTypedArray:isTypedArray,TypedArray:TypedArray,TypedArrayPrototype:TypedArrayPrototype},ArrayBufferViewCore$1=arrayBufferViewCore,lengthOfArrayLike$1=lengthOfArrayLike$3,toIntegerOrInfinity$1=toIntegerOrInfinity$4,aTypedArray$1=ArrayBufferViewCore$1.aTypedArray,exportTypedArrayMethod$1=ArrayBufferViewCore$1.exportTypedArrayMethod;exportTypedArrayMethod$1(\"at\",(function(e){var t=aTypedArray$1(this),n=lengthOfArrayLike$1(t),r=toIntegerOrInfinity$1(e),o=r>=0?r:n+r;return o<0||o>=n?void 0:t[o]}));var global$3=global$u,toIntegerOrInfinity=toIntegerOrInfinity$4,RangeError$2=global$3.RangeError,toPositiveInteger$1=function(e){var t=toIntegerOrInfinity(e);if(t<0)throw RangeError$2(\"The argument can\\'t be less than 0\");return t},global$2=global$u,toPositiveInteger=toPositiveInteger$1,RangeError$1=global$2.RangeError,toOffset$1=function(e,t){var n=toPositiveInteger(e);if(n%t)throw RangeError$1(\"Wrong offset\");return n},global$1=global$u,call=functionCall,ArrayBufferViewCore=arrayBufferViewCore,lengthOfArrayLike=lengthOfArrayLike$3,toOffset=toOffset$1,toIndexedObject=toObject$2,fails=fails$a,RangeError=global$1.RangeError,Int8Array=global$1.Int8Array,Int8ArrayPrototype=Int8Array&&Int8Array.prototype,$set=Int8ArrayPrototype&&Int8ArrayPrototype.set,aTypedArray=ArrayBufferViewCore.aTypedArray,exportTypedArrayMethod=ArrayBufferViewCore.exportTypedArrayMethod,WORKS_WITH_OBJECTS_AND_GEERIC_ON_TYPED_ARRAYS=!fails((function(){var e=new Uint8ClampedArray(2);return call($set,e,{length:1,0:3},1),3!==e[1]})),TO_OBJECT_BUG=WORKS_WITH_OBJECTS_AND_GEERIC_ON_TYPED_ARRAYS&&ArrayBufferViewCore.NATIVE_ARRAY_BUFFER_VIEWS&&fails((function(){var e=new Int8Array(2);return e.set(1),e.set(\"2\",1),0!==e[0]||2!==e[1]}));function setupPermutive(){var e,t;if(!get$1(getConfig$1(window),\"plugins.permutive.enabled\"))return;document.querySelectorAll(\\'script[src*=\"cdn.permutive.app\"]\\').length>0||(runPermutiveProvidedScript(),readyWithTimeout(),identifyUser(),setData(),setConsent(),null===(e=window.permutive)||void 0===e||null===(t=e.ready)||void 0===t||t.call(e,handlePermutiveReady),appendScript())}function setConsent(){var e,t;const n=shouldReadAndWriteCookies(),r=getCookie(\"OptanonConsent\")||\"CONSENT_CAPTURED\",o=_objectSpread2({opt_in:n},n&&{token:r});null===(e=window.permutive)||void 0===e||null===(t=e.consent)||void 0===t||t.call(e,o)}function appendScript(){append({async:!0,src:`https://cdn.permutive.app/${get$1(getConfig$1(window),\"plugins.permutive.params\").workspaceId}-web.js`,targ:document.head}).catch((e=>{(0,new EventEmitter(\"Permutive\").debug)(\"appendScript\",{error:e})}))}function identifyUser(){const e=getCookie(\"CN_xid\");var t,n;e&&(null===(t=window.permutive)||void 0===t||null===(n=t.identify)||void 0===n||n.call(t,[{id:e,tag:\"xid\"}]))}function setData(){const e=getPageContext(window),t=e.contentType,n=e.keywords,r=e.channel,o=e.subChannel,i=e.slug,s=window._4d&&window._4d.context||null,a=n.copilotid||[];permutive.addon(\"web\",{page:{type:t,article:{id:a[0],category:r,subcategory:o,title:i&&i.replace(/-/g,\" \"),tags:n.tags},context:s}})}function handlePermutiveReady(){emitBoomPixel(\"permutiveLoad\")}function runPermutiveProvidedScript(){const e=get$1(getConfig$1(window),\"plugins.permutive.params\"),t=e.apiHost,n=e.apiKey,r=e.workspaceId,o={apiHost:t,consentRequired:!0};!function(e,t,n,r){if(!e){e=e||{},window.permutive=e,e.q=[];e.config=r||{},e.config.apiKey=t,e.config.workspaceId=n,e.config.environment=e.config.environment||\"production\",(window.crypto||window.msCrypto)&&(e.config.viewId=([1e7]+-1e3+-4e3+-8e3+-1e11).replace(/[018]/g,(e=>(e^(window.crypto||window.msCrypto).getRandomValues(new Uint8Array(1))[0]&15>>e/4).toString(16))));for(var o=[\"addon\",\"identify\",\"track\",\"trigger\",\"query\",\"segment\",\"segments\",\"ready\",\"on\",\"once\",\"user\",\"consent\"],i=0;i<o.length;i++){var s=o[i];e[s]=function(t){return function(){var n=Array.prototype.slice.call(arguments,0);e.q.push({functionName:t,arguments:n})}}(s)}}}(window.permutive,n,r,o),window.googletag=window.googletag||{},window.googletag.cmd=window.googletag.cmd||[],window.googletag.cmd.push((()=>{if(0===window.googletag.pubads().getTargeting(\"permutive\").length){var e=window.localStorage.getItem(\"_pdfps\");window.googletag.pubads().setTargeting(\"permutive\",e?JSON.parse(e):[]);var t=window.localStorage.getItem(\"permutive-id\");t&&(window.googletag.pubads().setTargeting(\"puid\",t),window.googletag.pubads().setTargeting(\"ptime\",Date.now().toString())),window.permutive.config.viewId&&window.googletag.pubads().setTargeting(\"prmtvvid\",window.permutive.config.viewId),window.permutive.config.workspaceId&&window.googletag.pubads().setTargeting(\"prmtvwid\",window.permutive.config.workspaceId)}}))}function readyWithTimeout(){window.permutive.readyWithTimeout=function(e,t,n){var r=!1,o=function(){r||(e(),r=!0)};(n=n||1/0)!==1/0&&window.setTimeout(o,n),permutive.ready(o,t)}}exportTypedArrayMethod(\"set\",(function(e){aTypedArray(this);var t=toOffset(arguments.length>1?arguments[1]:void 0,1),n=toIndexedObject(e);if(WORKS_WITH_OBJECTS_AND_GEERIC_ON_TYPED_ARRAYS)return call($set,this,n,t);var r=this.length,o=lengthOfArrayLike(n),i=0;if(o+t>r)throw RangeError(\"Wrong length\");for(;i<o;)this[t+i]=n[i++]}),!WORKS_WITH_OBJECTS_AND_GEERIC_ON_TYPED_ARRAYS||TO_OBJECT_BUG);const _window=window,cns=_window.cns,cnBus=_window.cnBus;function about(){return{buildDate:cns.buildDate,fastAdsHead:cns.fastAdsHead,fastAdsFooter:cns.fastAdsFooter,runtimeId:queryParameters.runtimeId||runtimeId}}function attachListeners(e,t){const n=getConfig$1(window),r=new ShareOfVoice,o=new TargetingLifecycle(n,r),i=new RefreshControl(t,o),s=new UnassumingInsert(e,o,i,t);new CNSShim(e,i,t,s),new GPTRouter(t,i,r,e),new SafeFrameMessageListener({refreshControl:i,definer:t}),emitBoomPixel(\"adsReady\"),cns.addTargeting=o.register,AdBlockDetect(e,t);const a=()=>s.insert(t);var c,l;window.permutive?null===(c=window.permutive)||void 0===c||null===(l=c.readyWithTimeout)||void 0===l||l.call(c,a,\"realtime\",1500):a();sparrowCollector.onRoadblockRendered(cnBus),snowplowCollector.onRoadblockDetected(cnBus)}function initAdsLibrary(){sendBoomerangAdLibraryInformation();const e=new SourceOfTruth((()=>{const e=getViewportTemplate();return new CompleteDefiner(getPageContext(window),null,e)}));setupPermutive(),attachListeners(cnBus,e),enableCNE(cnBus)}function startFooter(){if(addDefaultSubscriptions(cnBus,featureFlags.bus_log),\"info\"===queryParameters.ao_tools&&append({src:`https://ad-tools.condenastdigital.com/ads-${queryParameters.ao_tools}/prod/index.js`,targ:document.head}),!queryParameters.ap_noads){if(hasPII())return sparrowCollector.onPIIDetected(),void snowplowCollector.onPIIDetected();setupIAS(),setupMoat(),til((()=>cns.pageContext),(()=>{shouldWaitForConsent()?onConsent(initAdsLibrary):initAdsLibrary()}))}}set$1(window,\"cns.buildDate\",getConfig$1(window).buildDate),set$1(window,\"cns.fastAdsFooter\",version),set$1(window,\"cns.runtimeId\",queryParameters.runtimeId||runtimeId),set$1(window,\"cns.about\",about),set$1(window,\"cns.timing.footerStart\",Date.now()),set$1(window,\"cns.addTargeting\",(()=>{})),startFooter()})();\\n</script><script src=\"/hotzones/src/pixelpropagate.js?cb=10265\" async></script><script>(function (verso) {\\n  var hasScriptBeenInjected = false;\\n\\n  var hasConsentedToPerformanceCookies = function () {\\n    return window.OnetrustActiveGroups.indexOf(\\'C0002\\') > -1;\\n  };\\n\\n  var appendScript = function (src) {\\n    var s = document.createElement(\\'script\\');\\n    s.src = src;\\n    s.async = true;\\n    document.body.appendChild(s);\\n  };\\n\\n  var callUserContext = function (verso) {\\n    if (!hasConsentedToPerformanceCookies()) return;\\n    if (hasScriptBeenInjected) return;\\n\\n    var encodedReferrer = encodeURIComponent(document.referrer);\\n    var encodedLocation = encodeURIComponent(window.location.href);\\n\\n    appendScript(\\'/user-context\\' + \\'?referrer=\\' + encodedReferrer + \\'&verso=\\' + verso + \\'&location=\\' + encodedLocation);\\n    hasScriptBeenInjected = true;\\n  };\\n\\n  if (window.cnBus) {\\n    // without binding this empty function to the event, call to user-context is not being made for some unknown reason\\n    window.cnBus.on(\\'onetrust.OneTrustGroupsUpdated\\', function () {});\\n    window.cnBus.on(\\'onetrust.OneTrustGroupsUpdated\\', function () {\\n      // wait till the CN_xid cookie is set before calling \\'callUserContext\\'\\n      var THIRTY_SECONDS = 60;\\n      var HALF_SECOND = 500;\\n      var i = 0;\\n      var timer = setInterval(function () {\\n        i++;\\n        if (document.cookie && document.cookie.includes(\\'CN_xid\\')) {\\n          callUserContext(verso);\\n          clearInterval(timer);\\n        }\\n        if (i === THIRTY_SECONDS) clearInterval(timer);\\n      }, HALF_SECOND);\\n    });\\n  }\\n\\n  return {\\n    callUserContext,\\n  };\\n})(false)</script><script id=\"cne-interlude-script\">(function insertInterlude(brand, domain) {\\n    var src = \\'https://\\' + domain + \\'/interlude/\\' + brand + \\'.js\\';\\n\\n    var s = document.createElement(\\'script\\');\\n    s.src = src;\\n    s.async = true;\\n    document.head.appendChild(s);\\n  })(\\'pitchfork\\', \\'player.cnevids.com\\');</script><script>(function() {\\nfunction DQ() {\\n  var queue = window.sparrowQueue;\\n  this.push = fn => fn();\\n  window.sparrowQueue = this;\\n  while (queue.length) {\\n    queue.shift()();\\n  }\\n}\\nfunction e(t, e) {\\n  var n, a, o;\\n  a = !1, n = document.createElement(\"script\"), n.type = \"text/javascript\", n.src = t, n.onload = n.onreadystatechange = function() {\\n    a || this.readyState && \"complete\" != this.readyState || (a = !0, e ? e() : !0)\\n  }, o = document.getElementsByTagName(\"script\")[0], o.parentNode.insertBefore(n, o)\\n}\\nif(location.search.indexOf(\\'no_sparrow\\')<0){\\ne(\"https://pixel.condenastdigital.com/config/v2/production/pitchfork.config.js\", function() {\\n  e(\"https://pixel.condenastdigital.com/sparrow.min.js\", function() {\\n    if (window.SparrowConfigV2) {\\n      window.sparrow = new window.Sparrow(window.SparrowConfigV2);\\n      new DQ();\\n    }\\n  })\\n})}\\n})()</script><script></script><script type=\"text/javascript\">_satellite.pageBottom();</script><script type=\"text/javascript\">\\n        PARSELY = {\\n            autotrack: false,\\n            onload: function() {\\n              if(window.DEPLOYMENT_CONTEXT != \\'cms\\') {\\n                PARSELY.beacon.trackPageView({\\n                    url: window.location.href,\\n                    urlref: document.referrer,\\n                    js: 1,\\n                });\\n              }\\n            }\\n        };</script><div id=\"parsely-root\" style=\"display:none\"><span id=\"parsely-cfg\" data-parsely-site=\"pitchfork.com\"></span></div><script type=\"text/javascript\">\\n        (function(s, p, d) {\\n          var h=d.location.protocol, i=p+\"-\"+s,\\n              e=d.getElementById(i), r=d.getElementById(p+\"-root\"),\\n              u=h===\"https:\"?\"d1z2jf7jlzjs58.cloudfront.net\"\\n              :\"static.\"+p+\".com\";\\n          if (e) return;\\n          e = d.createElement(s); e.id = i; e.async = true;\\n          e.src = h+\"//\"+u+\"/p.js\"; r.appendChild(e);\\n        })(\"script\", \"parsely\", document);</script></body></html>'"
            ],
            "application/vnd.google.colaboratory.intrinsic+json": {
              "type": "string"
            }
          },
          "metadata": {},
          "execution_count": 12
        }
      ]
    },
    {
      "cell_type": "code",
      "source": [
        "#take the html and turn into beautiful soap object to extract info\n",
        "soup = BeautifulSoup( r.text )"
      ],
      "metadata": {
        "id": "IErpvkrfP9FZ"
      },
      "execution_count": null,
      "outputs": []
    },
    {
      "cell_type": "code",
      "source": [
        "#soup"
      ],
      "metadata": {
        "id": "shvnG2oiP9Ch"
      },
      "execution_count": null,
      "outputs": []
    },
    {
      "cell_type": "code",
      "source": [
        "li = soup.find('li')"
      ],
      "metadata": {
        "id": "SAKftB4IP8_Z"
      },
      "execution_count": null,
      "outputs": []
    },
    {
      "cell_type": "code",
      "source": [
        "type(li)"
      ],
      "metadata": {
        "id": "vFwLYn_VP88i",
        "colab": {
          "base_uri": "https://localhost:8080/"
        },
        "outputId": "32271172-4e69-4a62-ff1b-7dc57bfdfc1e"
      },
      "execution_count": null,
      "outputs": [
        {
          "output_type": "execute_result",
          "data": {
            "text/plain": [
              "bs4.element.Tag"
            ]
          },
          "metadata": {},
          "execution_count": 18
        }
      ]
    },
    {
      "cell_type": "code",
      "source": [
        "all_ils = soup.find_all('li')"
      ],
      "metadata": {
        "id": "D42ewQuNP857"
      },
      "execution_count": null,
      "outputs": []
    },
    {
      "cell_type": "code",
      "source": [
        "all_ils[0]"
      ],
      "metadata": {
        "id": "4RbaFcSyP83E",
        "colab": {
          "base_uri": "https://localhost:8080/"
        },
        "outputId": "04cbf579-b3ee-40df-df52-4fea27845457"
      },
      "execution_count": null,
      "outputs": [
        {
          "output_type": "execute_result",
          "data": {
            "text/plain": [
              "<li><a class=\"title mobile-only\" href=\"/\" rel=\"\" target=\"_self\"><span>Home</span></a></li>"
            ]
          },
          "metadata": {},
          "execution_count": 23
        }
      ]
    },
    {
      "cell_type": "code",
      "source": [
        "soup.find('ul', 'artist-list review__title-artist')"
      ],
      "metadata": {
        "id": "hhWRRWZWP8z8",
        "colab": {
          "base_uri": "https://localhost:8080/"
        },
        "outputId": "ba2f1211-3c1c-4cb6-cc4f-ea6971b8d1b8"
      },
      "execution_count": null,
      "outputs": [
        {
          "output_type": "execute_result",
          "data": {
            "text/plain": [
              "<ul class=\"artist-list review__title-artist\"><li>Queens of the Stone Age</li></ul>"
            ]
          },
          "metadata": {},
          "execution_count": 24
        }
      ]
    },
    {
      "cell_type": "code",
      "source": [
        "artists_tags = soup.find_all('ul', {'class': 'artist-list review__title-artist'})"
      ],
      "metadata": {
        "id": "qWm7lk_GP8w0"
      },
      "execution_count": null,
      "outputs": []
    },
    {
      "cell_type": "code",
      "source": [
        "artists_tags"
      ],
      "metadata": {
        "id": "6NYRVdgmP8ts",
        "colab": {
          "base_uri": "https://localhost:8080/"
        },
        "outputId": "f5069462-d169-4cf6-80e4-558b29497fb7"
      },
      "execution_count": null,
      "outputs": [
        {
          "output_type": "execute_result",
          "data": {
            "text/plain": [
              "[<ul class=\"artist-list review__title-artist\"><li>Queens of the Stone Age</li></ul>,\n",
              " <ul class=\"artist-list review__title-artist\"><li>Asake</li></ul>,\n",
              " <ul class=\"artist-list review__title-artist\"><li>Caterina Barbieri</li></ul>,\n",
              " <ul class=\"artist-list review__title-artist\"><li>Greg Foat</li><li>Gigi Masin</li></ul>,\n",
              " <ul class=\"artist-list review__title-artist\"><li>Feeble Little Horse</li></ul>,\n",
              " <ul class=\"artist-list review__title-artist\"><li>Sexyy Red</li></ul>,\n",
              " <ul class=\"artist-list review__title-artist\"><li>BabyTron</li></ul>,\n",
              " <ul class=\"artist-list review__title-artist\"><li>Christine and the Queens</li></ul>,\n",
              " <ul class=\"artist-list review__title-artist\"><li>Jess Williamson</li></ul>,\n",
              " <ul class=\"artist-list review__title-artist\"><li>Jenny Lewis</li></ul>,\n",
              " <ul class=\"artist-list review__title-artist\"><li>Youth Lagoon</li></ul>,\n",
              " <ul class=\"artist-list review__title-artist\"><li>Kassa Overall</li></ul>]"
            ]
          },
          "metadata": {},
          "execution_count": 26
        }
      ]
    },
    {
      "cell_type": "code",
      "source": [
        "artists = [artist.text for artist in artists_tags ]"
      ],
      "metadata": {
        "id": "msahVmaIP8pA"
      },
      "execution_count": null,
      "outputs": []
    },
    {
      "cell_type": "code",
      "source": [
        "artists"
      ],
      "metadata": {
        "id": "7D9xBBaCP8mJ",
        "colab": {
          "base_uri": "https://localhost:8080/"
        },
        "outputId": "8490369f-4ee8-4d89-da95-120da967a67c"
      },
      "execution_count": null,
      "outputs": [
        {
          "output_type": "execute_result",
          "data": {
            "text/plain": [
              "['Queens of the Stone Age',\n",
              " 'Asake',\n",
              " 'Caterina Barbieri',\n",
              " 'Greg FoatGigi Masin',\n",
              " 'Feeble Little Horse',\n",
              " 'Sexyy Red',\n",
              " 'BabyTron',\n",
              " 'Christine and the Queens',\n",
              " 'Jess Williamson',\n",
              " 'Jenny Lewis',\n",
              " 'Youth Lagoon',\n",
              " 'Kassa Overall']"
            ]
          },
          "metadata": {},
          "execution_count": 28
        }
      ]
    },
    {
      "cell_type": "code",
      "source": [
        "album_names = soup.find_all('h2', {'class': 'review__title-album'})"
      ],
      "metadata": {
        "id": "hobDzVBbcCYT"
      },
      "execution_count": null,
      "outputs": []
    },
    {
      "cell_type": "code",
      "source": [
        "album_names"
      ],
      "metadata": {
        "id": "TeRgqdGEP8jA",
        "colab": {
          "base_uri": "https://localhost:8080/"
        },
        "outputId": "b6d41635-58a0-4560-e416-44df96d62d57"
      },
      "execution_count": null,
      "outputs": [
        {
          "output_type": "execute_result",
          "data": {
            "text/plain": [
              "[<h2 class=\"review__title-album\"><em>In Times New Roman...</em></h2>,\n",
              " <h2 class=\"review__title-album\"><em>Work of Art</em></h2>,\n",
              " <h2 class=\"review__title-album\"><em>Myuthafoo</em></h2>,\n",
              " <h2 class=\"review__title-album\"><em>Dolphin</em></h2>,\n",
              " <h2 class=\"review__title-album\"><em>Girl With Fish</em></h2>,\n",
              " <h2 class=\"review__title-album\"><em>Hood Hottest Princess</em></h2>,\n",
              " <h2 class=\"review__title-album\"><em>6</em></h2>,\n",
              " <h2 class=\"review__title-album\"><em>Paranoïa, Angels, True Love</em></h2>,\n",
              " <h2 class=\"review__title-album\"><em>Time Ain’t Accidental</em></h2>,\n",
              " <h2 class=\"review__title-album\"><em>Joy’all</em></h2>,\n",
              " <h2 class=\"review__title-album\"><em>Heaven Is a Junkyard</em></h2>,\n",
              " <h2 class=\"review__title-album\"><em>Animals</em></h2>]"
            ]
          },
          "metadata": {},
          "execution_count": 30
        }
      ]
    },
    {
      "cell_type": "code",
      "source": [
        "albums = [album.text for album in album_names ]"
      ],
      "metadata": {
        "id": "8LzJlmkvP7yk"
      },
      "execution_count": null,
      "outputs": []
    },
    {
      "cell_type": "code",
      "source": [
        "albums"
      ],
      "metadata": {
        "colab": {
          "base_uri": "https://localhost:8080/"
        },
        "id": "q08heuEfcV8J",
        "outputId": "8a771c0d-c55e-4e24-996b-44cb98b4f5c1"
      },
      "execution_count": null,
      "outputs": [
        {
          "output_type": "execute_result",
          "data": {
            "text/plain": [
              "['In Times New Roman...',\n",
              " 'Work of Art',\n",
              " 'Myuthafoo',\n",
              " 'Dolphin',\n",
              " 'Girl With Fish',\n",
              " 'Hood Hottest Princess',\n",
              " '6',\n",
              " 'Paranoïa, Angels, True Love',\n",
              " 'Time Ain’t Accidental',\n",
              " 'Joy’all',\n",
              " 'Heaven Is a Junkyard',\n",
              " 'Animals']"
            ]
          },
          "metadata": {},
          "execution_count": 32
        }
      ]
    },
    {
      "cell_type": "code",
      "source": [
        "pd.DataFrame({'artist': artists, 'albums': albums})"
      ],
      "metadata": {
        "colab": {
          "base_uri": "https://localhost:8080/",
          "height": 421
        },
        "id": "kUgZBarZcW0B",
        "outputId": "f514c813-0e76-4bb9-9964-1c0ebed2b9c6"
      },
      "execution_count": null,
      "outputs": [
        {
          "output_type": "execute_result",
          "data": {
            "text/plain": [
              "                      artist                       albums\n",
              "0    Queens of the Stone Age        In Times New Roman...\n",
              "1                      Asake                  Work of Art\n",
              "2          Caterina Barbieri                    Myuthafoo\n",
              "3        Greg FoatGigi Masin                      Dolphin\n",
              "4        Feeble Little Horse               Girl With Fish\n",
              "5                  Sexyy Red        Hood Hottest Princess\n",
              "6                   BabyTron                            6\n",
              "7   Christine and the Queens  Paranoïa, Angels, True Love\n",
              "8            Jess Williamson        Time Ain’t Accidental\n",
              "9                Jenny Lewis                      Joy’all\n",
              "10              Youth Lagoon         Heaven Is a Junkyard\n",
              "11             Kassa Overall                      Animals"
            ],
            "text/html": [
              "\n",
              "  <div id=\"df-729e110d-619a-4985-85c6-a7b19249ac2f\">\n",
              "    <div class=\"colab-df-container\">\n",
              "      <div>\n",
              "<style scoped>\n",
              "    .dataframe tbody tr th:only-of-type {\n",
              "        vertical-align: middle;\n",
              "    }\n",
              "\n",
              "    .dataframe tbody tr th {\n",
              "        vertical-align: top;\n",
              "    }\n",
              "\n",
              "    .dataframe thead th {\n",
              "        text-align: right;\n",
              "    }\n",
              "</style>\n",
              "<table border=\"1\" class=\"dataframe\">\n",
              "  <thead>\n",
              "    <tr style=\"text-align: right;\">\n",
              "      <th></th>\n",
              "      <th>artist</th>\n",
              "      <th>albums</th>\n",
              "    </tr>\n",
              "  </thead>\n",
              "  <tbody>\n",
              "    <tr>\n",
              "      <th>0</th>\n",
              "      <td>Queens of the Stone Age</td>\n",
              "      <td>In Times New Roman...</td>\n",
              "    </tr>\n",
              "    <tr>\n",
              "      <th>1</th>\n",
              "      <td>Asake</td>\n",
              "      <td>Work of Art</td>\n",
              "    </tr>\n",
              "    <tr>\n",
              "      <th>2</th>\n",
              "      <td>Caterina Barbieri</td>\n",
              "      <td>Myuthafoo</td>\n",
              "    </tr>\n",
              "    <tr>\n",
              "      <th>3</th>\n",
              "      <td>Greg FoatGigi Masin</td>\n",
              "      <td>Dolphin</td>\n",
              "    </tr>\n",
              "    <tr>\n",
              "      <th>4</th>\n",
              "      <td>Feeble Little Horse</td>\n",
              "      <td>Girl With Fish</td>\n",
              "    </tr>\n",
              "    <tr>\n",
              "      <th>5</th>\n",
              "      <td>Sexyy Red</td>\n",
              "      <td>Hood Hottest Princess</td>\n",
              "    </tr>\n",
              "    <tr>\n",
              "      <th>6</th>\n",
              "      <td>BabyTron</td>\n",
              "      <td>6</td>\n",
              "    </tr>\n",
              "    <tr>\n",
              "      <th>7</th>\n",
              "      <td>Christine and the Queens</td>\n",
              "      <td>Paranoïa, Angels, True Love</td>\n",
              "    </tr>\n",
              "    <tr>\n",
              "      <th>8</th>\n",
              "      <td>Jess Williamson</td>\n",
              "      <td>Time Ain’t Accidental</td>\n",
              "    </tr>\n",
              "    <tr>\n",
              "      <th>9</th>\n",
              "      <td>Jenny Lewis</td>\n",
              "      <td>Joy’all</td>\n",
              "    </tr>\n",
              "    <tr>\n",
              "      <th>10</th>\n",
              "      <td>Youth Lagoon</td>\n",
              "      <td>Heaven Is a Junkyard</td>\n",
              "    </tr>\n",
              "    <tr>\n",
              "      <th>11</th>\n",
              "      <td>Kassa Overall</td>\n",
              "      <td>Animals</td>\n",
              "    </tr>\n",
              "  </tbody>\n",
              "</table>\n",
              "</div>\n",
              "      <button class=\"colab-df-convert\" onclick=\"convertToInteractive('df-729e110d-619a-4985-85c6-a7b19249ac2f')\"\n",
              "              title=\"Convert this dataframe to an interactive table.\"\n",
              "              style=\"display:none;\">\n",
              "        \n",
              "  <svg xmlns=\"http://www.w3.org/2000/svg\" height=\"24px\"viewBox=\"0 0 24 24\"\n",
              "       width=\"24px\">\n",
              "    <path d=\"M0 0h24v24H0V0z\" fill=\"none\"/>\n",
              "    <path d=\"M18.56 5.44l.94 2.06.94-2.06 2.06-.94-2.06-.94-.94-2.06-.94 2.06-2.06.94zm-11 1L8.5 8.5l.94-2.06 2.06-.94-2.06-.94L8.5 2.5l-.94 2.06-2.06.94zm10 10l.94 2.06.94-2.06 2.06-.94-2.06-.94-.94-2.06-.94 2.06-2.06.94z\"/><path d=\"M17.41 7.96l-1.37-1.37c-.4-.4-.92-.59-1.43-.59-.52 0-1.04.2-1.43.59L10.3 9.45l-7.72 7.72c-.78.78-.78 2.05 0 2.83L4 21.41c.39.39.9.59 1.41.59.51 0 1.02-.2 1.41-.59l7.78-7.78 2.81-2.81c.8-.78.8-2.07 0-2.86zM5.41 20L4 18.59l7.72-7.72 1.47 1.35L5.41 20z\"/>\n",
              "  </svg>\n",
              "      </button>\n",
              "      \n",
              "  <style>\n",
              "    .colab-df-container {\n",
              "      display:flex;\n",
              "      flex-wrap:wrap;\n",
              "      gap: 12px;\n",
              "    }\n",
              "\n",
              "    .colab-df-convert {\n",
              "      background-color: #E8F0FE;\n",
              "      border: none;\n",
              "      border-radius: 50%;\n",
              "      cursor: pointer;\n",
              "      display: none;\n",
              "      fill: #1967D2;\n",
              "      height: 32px;\n",
              "      padding: 0 0 0 0;\n",
              "      width: 32px;\n",
              "    }\n",
              "\n",
              "    .colab-df-convert:hover {\n",
              "      background-color: #E2EBFA;\n",
              "      box-shadow: 0px 1px 2px rgba(60, 64, 67, 0.3), 0px 1px 3px 1px rgba(60, 64, 67, 0.15);\n",
              "      fill: #174EA6;\n",
              "    }\n",
              "\n",
              "    [theme=dark] .colab-df-convert {\n",
              "      background-color: #3B4455;\n",
              "      fill: #D2E3FC;\n",
              "    }\n",
              "\n",
              "    [theme=dark] .colab-df-convert:hover {\n",
              "      background-color: #434B5C;\n",
              "      box-shadow: 0px 1px 3px 1px rgba(0, 0, 0, 0.15);\n",
              "      filter: drop-shadow(0px 1px 2px rgba(0, 0, 0, 0.3));\n",
              "      fill: #FFFFFF;\n",
              "    }\n",
              "  </style>\n",
              "\n",
              "      <script>\n",
              "        const buttonEl =\n",
              "          document.querySelector('#df-729e110d-619a-4985-85c6-a7b19249ac2f button.colab-df-convert');\n",
              "        buttonEl.style.display =\n",
              "          google.colab.kernel.accessAllowed ? 'block' : 'none';\n",
              "\n",
              "        async function convertToInteractive(key) {\n",
              "          const element = document.querySelector('#df-729e110d-619a-4985-85c6-a7b19249ac2f');\n",
              "          const dataTable =\n",
              "            await google.colab.kernel.invokeFunction('convertToInteractive',\n",
              "                                                     [key], {});\n",
              "          if (!dataTable) return;\n",
              "\n",
              "          const docLinkHtml = 'Like what you see? Visit the ' +\n",
              "            '<a target=\"_blank\" href=https://colab.research.google.com/notebooks/data_table.ipynb>data table notebook</a>'\n",
              "            + ' to learn more about interactive tables.';\n",
              "          element.innerHTML = '';\n",
              "          dataTable['output_type'] = 'display_data';\n",
              "          await google.colab.output.renderOutput(dataTable, element);\n",
              "          const docLink = document.createElement('div');\n",
              "          docLink.innerHTML = docLinkHtml;\n",
              "          element.appendChild(docLink);\n",
              "        }\n",
              "      </script>\n",
              "    </div>\n",
              "  </div>\n",
              "  "
            ]
          },
          "metadata": {},
          "execution_count": 33
        }
      ]
    },
    {
      "cell_type": "code",
      "source": [
        "artists =[]\n",
        "albums = []\n",
        "for i in range (1,11):\n",
        "  url = f'https://pitchfork.com/reviews/albums/?page{i}'\n",
        "  r = requests.get(url)\n",
        "  bs = BeautifulSoup(r.text)\n",
        "  artists_tags = soup.find_all('ul', {'class': 'artist-list review__title-artist'})\n",
        "  artists = [artist.text for artist in artists_tags ]\n",
        "  album_names = soup.find_all('h2', {'class': 'review__title-album'})\n",
        "  albums = [album.text for album in album_names ]\n"
      ],
      "metadata": {
        "id": "-_-1AGU6dIL2"
      },
      "execution_count": null,
      "outputs": []
    },
    {
      "cell_type": "code",
      "source": [
        "pd.DataFrame({'artist': artists, 'albums': albums})"
      ],
      "metadata": {
        "colab": {
          "base_uri": "https://localhost:8080/",
          "height": 421
        },
        "id": "H_oVJMw6enqK",
        "outputId": "a8d4adaa-522d-45d9-e359-a448774e26f6"
      },
      "execution_count": null,
      "outputs": [
        {
          "output_type": "execute_result",
          "data": {
            "text/plain": [
              "                      artist                       albums\n",
              "0    Queens of the Stone Age        In Times New Roman...\n",
              "1                      Asake                  Work of Art\n",
              "2          Caterina Barbieri                    Myuthafoo\n",
              "3        Greg FoatGigi Masin                      Dolphin\n",
              "4        Feeble Little Horse               Girl With Fish\n",
              "5                  Sexyy Red        Hood Hottest Princess\n",
              "6                   BabyTron                            6\n",
              "7   Christine and the Queens  Paranoïa, Angels, True Love\n",
              "8            Jess Williamson        Time Ain’t Accidental\n",
              "9                Jenny Lewis                      Joy’all\n",
              "10              Youth Lagoon         Heaven Is a Junkyard\n",
              "11             Kassa Overall                      Animals"
            ],
            "text/html": [
              "\n",
              "  <div id=\"df-9d5bfd5f-8eb4-47d2-89d7-bdf099613dbc\">\n",
              "    <div class=\"colab-df-container\">\n",
              "      <div>\n",
              "<style scoped>\n",
              "    .dataframe tbody tr th:only-of-type {\n",
              "        vertical-align: middle;\n",
              "    }\n",
              "\n",
              "    .dataframe tbody tr th {\n",
              "        vertical-align: top;\n",
              "    }\n",
              "\n",
              "    .dataframe thead th {\n",
              "        text-align: right;\n",
              "    }\n",
              "</style>\n",
              "<table border=\"1\" class=\"dataframe\">\n",
              "  <thead>\n",
              "    <tr style=\"text-align: right;\">\n",
              "      <th></th>\n",
              "      <th>artist</th>\n",
              "      <th>albums</th>\n",
              "    </tr>\n",
              "  </thead>\n",
              "  <tbody>\n",
              "    <tr>\n",
              "      <th>0</th>\n",
              "      <td>Queens of the Stone Age</td>\n",
              "      <td>In Times New Roman...</td>\n",
              "    </tr>\n",
              "    <tr>\n",
              "      <th>1</th>\n",
              "      <td>Asake</td>\n",
              "      <td>Work of Art</td>\n",
              "    </tr>\n",
              "    <tr>\n",
              "      <th>2</th>\n",
              "      <td>Caterina Barbieri</td>\n",
              "      <td>Myuthafoo</td>\n",
              "    </tr>\n",
              "    <tr>\n",
              "      <th>3</th>\n",
              "      <td>Greg FoatGigi Masin</td>\n",
              "      <td>Dolphin</td>\n",
              "    </tr>\n",
              "    <tr>\n",
              "      <th>4</th>\n",
              "      <td>Feeble Little Horse</td>\n",
              "      <td>Girl With Fish</td>\n",
              "    </tr>\n",
              "    <tr>\n",
              "      <th>5</th>\n",
              "      <td>Sexyy Red</td>\n",
              "      <td>Hood Hottest Princess</td>\n",
              "    </tr>\n",
              "    <tr>\n",
              "      <th>6</th>\n",
              "      <td>BabyTron</td>\n",
              "      <td>6</td>\n",
              "    </tr>\n",
              "    <tr>\n",
              "      <th>7</th>\n",
              "      <td>Christine and the Queens</td>\n",
              "      <td>Paranoïa, Angels, True Love</td>\n",
              "    </tr>\n",
              "    <tr>\n",
              "      <th>8</th>\n",
              "      <td>Jess Williamson</td>\n",
              "      <td>Time Ain’t Accidental</td>\n",
              "    </tr>\n",
              "    <tr>\n",
              "      <th>9</th>\n",
              "      <td>Jenny Lewis</td>\n",
              "      <td>Joy’all</td>\n",
              "    </tr>\n",
              "    <tr>\n",
              "      <th>10</th>\n",
              "      <td>Youth Lagoon</td>\n",
              "      <td>Heaven Is a Junkyard</td>\n",
              "    </tr>\n",
              "    <tr>\n",
              "      <th>11</th>\n",
              "      <td>Kassa Overall</td>\n",
              "      <td>Animals</td>\n",
              "    </tr>\n",
              "  </tbody>\n",
              "</table>\n",
              "</div>\n",
              "      <button class=\"colab-df-convert\" onclick=\"convertToInteractive('df-9d5bfd5f-8eb4-47d2-89d7-bdf099613dbc')\"\n",
              "              title=\"Convert this dataframe to an interactive table.\"\n",
              "              style=\"display:none;\">\n",
              "        \n",
              "  <svg xmlns=\"http://www.w3.org/2000/svg\" height=\"24px\"viewBox=\"0 0 24 24\"\n",
              "       width=\"24px\">\n",
              "    <path d=\"M0 0h24v24H0V0z\" fill=\"none\"/>\n",
              "    <path d=\"M18.56 5.44l.94 2.06.94-2.06 2.06-.94-2.06-.94-.94-2.06-.94 2.06-2.06.94zm-11 1L8.5 8.5l.94-2.06 2.06-.94-2.06-.94L8.5 2.5l-.94 2.06-2.06.94zm10 10l.94 2.06.94-2.06 2.06-.94-2.06-.94-.94-2.06-.94 2.06-2.06.94z\"/><path d=\"M17.41 7.96l-1.37-1.37c-.4-.4-.92-.59-1.43-.59-.52 0-1.04.2-1.43.59L10.3 9.45l-7.72 7.72c-.78.78-.78 2.05 0 2.83L4 21.41c.39.39.9.59 1.41.59.51 0 1.02-.2 1.41-.59l7.78-7.78 2.81-2.81c.8-.78.8-2.07 0-2.86zM5.41 20L4 18.59l7.72-7.72 1.47 1.35L5.41 20z\"/>\n",
              "  </svg>\n",
              "      </button>\n",
              "      \n",
              "  <style>\n",
              "    .colab-df-container {\n",
              "      display:flex;\n",
              "      flex-wrap:wrap;\n",
              "      gap: 12px;\n",
              "    }\n",
              "\n",
              "    .colab-df-convert {\n",
              "      background-color: #E8F0FE;\n",
              "      border: none;\n",
              "      border-radius: 50%;\n",
              "      cursor: pointer;\n",
              "      display: none;\n",
              "      fill: #1967D2;\n",
              "      height: 32px;\n",
              "      padding: 0 0 0 0;\n",
              "      width: 32px;\n",
              "    }\n",
              "\n",
              "    .colab-df-convert:hover {\n",
              "      background-color: #E2EBFA;\n",
              "      box-shadow: 0px 1px 2px rgba(60, 64, 67, 0.3), 0px 1px 3px 1px rgba(60, 64, 67, 0.15);\n",
              "      fill: #174EA6;\n",
              "    }\n",
              "\n",
              "    [theme=dark] .colab-df-convert {\n",
              "      background-color: #3B4455;\n",
              "      fill: #D2E3FC;\n",
              "    }\n",
              "\n",
              "    [theme=dark] .colab-df-convert:hover {\n",
              "      background-color: #434B5C;\n",
              "      box-shadow: 0px 1px 3px 1px rgba(0, 0, 0, 0.15);\n",
              "      filter: drop-shadow(0px 1px 2px rgba(0, 0, 0, 0.3));\n",
              "      fill: #FFFFFF;\n",
              "    }\n",
              "  </style>\n",
              "\n",
              "      <script>\n",
              "        const buttonEl =\n",
              "          document.querySelector('#df-9d5bfd5f-8eb4-47d2-89d7-bdf099613dbc button.colab-df-convert');\n",
              "        buttonEl.style.display =\n",
              "          google.colab.kernel.accessAllowed ? 'block' : 'none';\n",
              "\n",
              "        async function convertToInteractive(key) {\n",
              "          const element = document.querySelector('#df-9d5bfd5f-8eb4-47d2-89d7-bdf099613dbc');\n",
              "          const dataTable =\n",
              "            await google.colab.kernel.invokeFunction('convertToInteractive',\n",
              "                                                     [key], {});\n",
              "          if (!dataTable) return;\n",
              "\n",
              "          const docLinkHtml = 'Like what you see? Visit the ' +\n",
              "            '<a target=\"_blank\" href=https://colab.research.google.com/notebooks/data_table.ipynb>data table notebook</a>'\n",
              "            + ' to learn more about interactive tables.';\n",
              "          element.innerHTML = '';\n",
              "          dataTable['output_type'] = 'display_data';\n",
              "          await google.colab.output.renderOutput(dataTable, element);\n",
              "          const docLink = document.createElement('div');\n",
              "          docLink.innerHTML = docLinkHtml;\n",
              "          element.appendChild(docLink);\n",
              "        }\n",
              "      </script>\n",
              "    </div>\n",
              "  </div>\n",
              "  "
            ]
          },
          "metadata": {},
          "execution_count": 36
        }
      ]
    },
    {
      "cell_type": "code",
      "source": [
        "#album image\n",
        "#genre\n",
        "#author\n",
        "#date of review"
      ],
      "metadata": {
        "id": "GDIfDsRIenoA"
      },
      "execution_count": null,
      "outputs": []
    },
    {
      "cell_type": "code",
      "source": [
        "\n",
        "genres =[]\n",
        "authors = []\n",
        "times = []\n",
        "for i in range (1,11):\n",
        "  url = f'https://pitchfork.com/reviews/albums/?page{i}'\n",
        "  r = requests.get(url)\n",
        "  bs = BeautifulSoup(r.text)\n",
        "  genres = soup.find_all('li', {'class': 'genre-list__item'})\n",
        "  genres = [genre.text for genre in genres ]\n",
        "  authors = soup.find_all('a', {'class': 'linked display-name display-name--linked'})\n",
        "  authors = [author.text for author in authors ]\n",
        "  times_tags = soup.find_all('time', {'class': 'pub-date'})\n",
        "  times = times + [times.text for times in times_tags]"
      ],
      "metadata": {
        "id": "sRwmEvsjenlu"
      },
      "execution_count": null,
      "outputs": []
    },
    {
      "cell_type": "code",
      "source": [
        "pd.DataFrame({'Reviews dates': times})"
      ],
      "metadata": {
        "colab": {
          "base_uri": "https://localhost:8080/",
          "height": 419
        },
        "id": "AAJtK3_fhDoC",
        "outputId": "9b35a691-fdbf-440c-bf00-db0721d5471b"
      },
      "execution_count": null,
      "outputs": [
        {
          "output_type": "execute_result",
          "data": {
            "text/plain": [
              "    Reviews dates\n",
              "0       9 hrs ago\n",
              "1       9 hrs ago\n",
              "2       9 hrs ago\n",
              "3       9 hrs ago\n",
              "4    June 15 2023\n",
              "..            ...\n",
              "115  June 14 2023\n",
              "116  June 14 2023\n",
              "117  June 14 2023\n",
              "118  June 13 2023\n",
              "119  June 13 2023\n",
              "\n",
              "[120 rows x 1 columns]"
            ],
            "text/html": [
              "\n",
              "  <div id=\"df-afefcfb3-c20f-4003-903e-0c91d0716608\">\n",
              "    <div class=\"colab-df-container\">\n",
              "      <div>\n",
              "<style scoped>\n",
              "    .dataframe tbody tr th:only-of-type {\n",
              "        vertical-align: middle;\n",
              "    }\n",
              "\n",
              "    .dataframe tbody tr th {\n",
              "        vertical-align: top;\n",
              "    }\n",
              "\n",
              "    .dataframe thead th {\n",
              "        text-align: right;\n",
              "    }\n",
              "</style>\n",
              "<table border=\"1\" class=\"dataframe\">\n",
              "  <thead>\n",
              "    <tr style=\"text-align: right;\">\n",
              "      <th></th>\n",
              "      <th>Reviews dates</th>\n",
              "    </tr>\n",
              "  </thead>\n",
              "  <tbody>\n",
              "    <tr>\n",
              "      <th>0</th>\n",
              "      <td>9 hrs ago</td>\n",
              "    </tr>\n",
              "    <tr>\n",
              "      <th>1</th>\n",
              "      <td>9 hrs ago</td>\n",
              "    </tr>\n",
              "    <tr>\n",
              "      <th>2</th>\n",
              "      <td>9 hrs ago</td>\n",
              "    </tr>\n",
              "    <tr>\n",
              "      <th>3</th>\n",
              "      <td>9 hrs ago</td>\n",
              "    </tr>\n",
              "    <tr>\n",
              "      <th>4</th>\n",
              "      <td>June 15 2023</td>\n",
              "    </tr>\n",
              "    <tr>\n",
              "      <th>...</th>\n",
              "      <td>...</td>\n",
              "    </tr>\n",
              "    <tr>\n",
              "      <th>115</th>\n",
              "      <td>June 14 2023</td>\n",
              "    </tr>\n",
              "    <tr>\n",
              "      <th>116</th>\n",
              "      <td>June 14 2023</td>\n",
              "    </tr>\n",
              "    <tr>\n",
              "      <th>117</th>\n",
              "      <td>June 14 2023</td>\n",
              "    </tr>\n",
              "    <tr>\n",
              "      <th>118</th>\n",
              "      <td>June 13 2023</td>\n",
              "    </tr>\n",
              "    <tr>\n",
              "      <th>119</th>\n",
              "      <td>June 13 2023</td>\n",
              "    </tr>\n",
              "  </tbody>\n",
              "</table>\n",
              "<p>120 rows × 1 columns</p>\n",
              "</div>\n",
              "      <button class=\"colab-df-convert\" onclick=\"convertToInteractive('df-afefcfb3-c20f-4003-903e-0c91d0716608')\"\n",
              "              title=\"Convert this dataframe to an interactive table.\"\n",
              "              style=\"display:none;\">\n",
              "        \n",
              "  <svg xmlns=\"http://www.w3.org/2000/svg\" height=\"24px\"viewBox=\"0 0 24 24\"\n",
              "       width=\"24px\">\n",
              "    <path d=\"M0 0h24v24H0V0z\" fill=\"none\"/>\n",
              "    <path d=\"M18.56 5.44l.94 2.06.94-2.06 2.06-.94-2.06-.94-.94-2.06-.94 2.06-2.06.94zm-11 1L8.5 8.5l.94-2.06 2.06-.94-2.06-.94L8.5 2.5l-.94 2.06-2.06.94zm10 10l.94 2.06.94-2.06 2.06-.94-2.06-.94-.94-2.06-.94 2.06-2.06.94z\"/><path d=\"M17.41 7.96l-1.37-1.37c-.4-.4-.92-.59-1.43-.59-.52 0-1.04.2-1.43.59L10.3 9.45l-7.72 7.72c-.78.78-.78 2.05 0 2.83L4 21.41c.39.39.9.59 1.41.59.51 0 1.02-.2 1.41-.59l7.78-7.78 2.81-2.81c.8-.78.8-2.07 0-2.86zM5.41 20L4 18.59l7.72-7.72 1.47 1.35L5.41 20z\"/>\n",
              "  </svg>\n",
              "      </button>\n",
              "      \n",
              "  <style>\n",
              "    .colab-df-container {\n",
              "      display:flex;\n",
              "      flex-wrap:wrap;\n",
              "      gap: 12px;\n",
              "    }\n",
              "\n",
              "    .colab-df-convert {\n",
              "      background-color: #E8F0FE;\n",
              "      border: none;\n",
              "      border-radius: 50%;\n",
              "      cursor: pointer;\n",
              "      display: none;\n",
              "      fill: #1967D2;\n",
              "      height: 32px;\n",
              "      padding: 0 0 0 0;\n",
              "      width: 32px;\n",
              "    }\n",
              "\n",
              "    .colab-df-convert:hover {\n",
              "      background-color: #E2EBFA;\n",
              "      box-shadow: 0px 1px 2px rgba(60, 64, 67, 0.3), 0px 1px 3px 1px rgba(60, 64, 67, 0.15);\n",
              "      fill: #174EA6;\n",
              "    }\n",
              "\n",
              "    [theme=dark] .colab-df-convert {\n",
              "      background-color: #3B4455;\n",
              "      fill: #D2E3FC;\n",
              "    }\n",
              "\n",
              "    [theme=dark] .colab-df-convert:hover {\n",
              "      background-color: #434B5C;\n",
              "      box-shadow: 0px 1px 3px 1px rgba(0, 0, 0, 0.15);\n",
              "      filter: drop-shadow(0px 1px 2px rgba(0, 0, 0, 0.3));\n",
              "      fill: #FFFFFF;\n",
              "    }\n",
              "  </style>\n",
              "\n",
              "      <script>\n",
              "        const buttonEl =\n",
              "          document.querySelector('#df-afefcfb3-c20f-4003-903e-0c91d0716608 button.colab-df-convert');\n",
              "        buttonEl.style.display =\n",
              "          google.colab.kernel.accessAllowed ? 'block' : 'none';\n",
              "\n",
              "        async function convertToInteractive(key) {\n",
              "          const element = document.querySelector('#df-afefcfb3-c20f-4003-903e-0c91d0716608');\n",
              "          const dataTable =\n",
              "            await google.colab.kernel.invokeFunction('convertToInteractive',\n",
              "                                                     [key], {});\n",
              "          if (!dataTable) return;\n",
              "\n",
              "          const docLinkHtml = 'Like what you see? Visit the ' +\n",
              "            '<a target=\"_blank\" href=https://colab.research.google.com/notebooks/data_table.ipynb>data table notebook</a>'\n",
              "            + ' to learn more about interactive tables.';\n",
              "          element.innerHTML = '';\n",
              "          dataTable['output_type'] = 'display_data';\n",
              "          await google.colab.output.renderOutput(dataTable, element);\n",
              "          const docLink = document.createElement('div');\n",
              "          docLink.innerHTML = docLinkHtml;\n",
              "          element.appendChild(docLink);\n",
              "        }\n",
              "      </script>\n",
              "    </div>\n",
              "  </div>\n",
              "  "
            ]
          },
          "metadata": {},
          "execution_count": 53
        }
      ]
    },
    {
      "cell_type": "code",
      "source": [
        "pd.DataFrame({'genres': genres})\n"
      ],
      "metadata": {
        "colab": {
          "base_uri": "https://localhost:8080/",
          "height": 483
        },
        "id": "y6n_xWiienjU",
        "outputId": "aa7ed09d-51bc-427c-bf7d-977b3b812e51"
      },
      "execution_count": null,
      "outputs": [
        {
          "output_type": "execute_result",
          "data": {
            "text/plain": [
              "          genres\n",
              "0           Rock\n",
              "1        Pop/R&B\n",
              "2   Experimental\n",
              "3           Jazz\n",
              "4     Electronic\n",
              "5           Rock\n",
              "6            Rap\n",
              "7            Rap\n",
              "8        Pop/R&B\n",
              "9   Folk/Country\n",
              "10          Rock\n",
              "11          Rock\n",
              "12          Jazz\n",
              "13           Rap"
            ],
            "text/html": [
              "\n",
              "  <div id=\"df-eff8dccd-0a8d-4298-8e7a-9e93ef4daf43\">\n",
              "    <div class=\"colab-df-container\">\n",
              "      <div>\n",
              "<style scoped>\n",
              "    .dataframe tbody tr th:only-of-type {\n",
              "        vertical-align: middle;\n",
              "    }\n",
              "\n",
              "    .dataframe tbody tr th {\n",
              "        vertical-align: top;\n",
              "    }\n",
              "\n",
              "    .dataframe thead th {\n",
              "        text-align: right;\n",
              "    }\n",
              "</style>\n",
              "<table border=\"1\" class=\"dataframe\">\n",
              "  <thead>\n",
              "    <tr style=\"text-align: right;\">\n",
              "      <th></th>\n",
              "      <th>genres</th>\n",
              "    </tr>\n",
              "  </thead>\n",
              "  <tbody>\n",
              "    <tr>\n",
              "      <th>0</th>\n",
              "      <td>Rock</td>\n",
              "    </tr>\n",
              "    <tr>\n",
              "      <th>1</th>\n",
              "      <td>Pop/R&amp;B</td>\n",
              "    </tr>\n",
              "    <tr>\n",
              "      <th>2</th>\n",
              "      <td>Experimental</td>\n",
              "    </tr>\n",
              "    <tr>\n",
              "      <th>3</th>\n",
              "      <td>Jazz</td>\n",
              "    </tr>\n",
              "    <tr>\n",
              "      <th>4</th>\n",
              "      <td>Electronic</td>\n",
              "    </tr>\n",
              "    <tr>\n",
              "      <th>5</th>\n",
              "      <td>Rock</td>\n",
              "    </tr>\n",
              "    <tr>\n",
              "      <th>6</th>\n",
              "      <td>Rap</td>\n",
              "    </tr>\n",
              "    <tr>\n",
              "      <th>7</th>\n",
              "      <td>Rap</td>\n",
              "    </tr>\n",
              "    <tr>\n",
              "      <th>8</th>\n",
              "      <td>Pop/R&amp;B</td>\n",
              "    </tr>\n",
              "    <tr>\n",
              "      <th>9</th>\n",
              "      <td>Folk/Country</td>\n",
              "    </tr>\n",
              "    <tr>\n",
              "      <th>10</th>\n",
              "      <td>Rock</td>\n",
              "    </tr>\n",
              "    <tr>\n",
              "      <th>11</th>\n",
              "      <td>Rock</td>\n",
              "    </tr>\n",
              "    <tr>\n",
              "      <th>12</th>\n",
              "      <td>Jazz</td>\n",
              "    </tr>\n",
              "    <tr>\n",
              "      <th>13</th>\n",
              "      <td>Rap</td>\n",
              "    </tr>\n",
              "  </tbody>\n",
              "</table>\n",
              "</div>\n",
              "      <button class=\"colab-df-convert\" onclick=\"convertToInteractive('df-eff8dccd-0a8d-4298-8e7a-9e93ef4daf43')\"\n",
              "              title=\"Convert this dataframe to an interactive table.\"\n",
              "              style=\"display:none;\">\n",
              "        \n",
              "  <svg xmlns=\"http://www.w3.org/2000/svg\" height=\"24px\"viewBox=\"0 0 24 24\"\n",
              "       width=\"24px\">\n",
              "    <path d=\"M0 0h24v24H0V0z\" fill=\"none\"/>\n",
              "    <path d=\"M18.56 5.44l.94 2.06.94-2.06 2.06-.94-2.06-.94-.94-2.06-.94 2.06-2.06.94zm-11 1L8.5 8.5l.94-2.06 2.06-.94-2.06-.94L8.5 2.5l-.94 2.06-2.06.94zm10 10l.94 2.06.94-2.06 2.06-.94-2.06-.94-.94-2.06-.94 2.06-2.06.94z\"/><path d=\"M17.41 7.96l-1.37-1.37c-.4-.4-.92-.59-1.43-.59-.52 0-1.04.2-1.43.59L10.3 9.45l-7.72 7.72c-.78.78-.78 2.05 0 2.83L4 21.41c.39.39.9.59 1.41.59.51 0 1.02-.2 1.41-.59l7.78-7.78 2.81-2.81c.8-.78.8-2.07 0-2.86zM5.41 20L4 18.59l7.72-7.72 1.47 1.35L5.41 20z\"/>\n",
              "  </svg>\n",
              "      </button>\n",
              "      \n",
              "  <style>\n",
              "    .colab-df-container {\n",
              "      display:flex;\n",
              "      flex-wrap:wrap;\n",
              "      gap: 12px;\n",
              "    }\n",
              "\n",
              "    .colab-df-convert {\n",
              "      background-color: #E8F0FE;\n",
              "      border: none;\n",
              "      border-radius: 50%;\n",
              "      cursor: pointer;\n",
              "      display: none;\n",
              "      fill: #1967D2;\n",
              "      height: 32px;\n",
              "      padding: 0 0 0 0;\n",
              "      width: 32px;\n",
              "    }\n",
              "\n",
              "    .colab-df-convert:hover {\n",
              "      background-color: #E2EBFA;\n",
              "      box-shadow: 0px 1px 2px rgba(60, 64, 67, 0.3), 0px 1px 3px 1px rgba(60, 64, 67, 0.15);\n",
              "      fill: #174EA6;\n",
              "    }\n",
              "\n",
              "    [theme=dark] .colab-df-convert {\n",
              "      background-color: #3B4455;\n",
              "      fill: #D2E3FC;\n",
              "    }\n",
              "\n",
              "    [theme=dark] .colab-df-convert:hover {\n",
              "      background-color: #434B5C;\n",
              "      box-shadow: 0px 1px 3px 1px rgba(0, 0, 0, 0.15);\n",
              "      filter: drop-shadow(0px 1px 2px rgba(0, 0, 0, 0.3));\n",
              "      fill: #FFFFFF;\n",
              "    }\n",
              "  </style>\n",
              "\n",
              "      <script>\n",
              "        const buttonEl =\n",
              "          document.querySelector('#df-eff8dccd-0a8d-4298-8e7a-9e93ef4daf43 button.colab-df-convert');\n",
              "        buttonEl.style.display =\n",
              "          google.colab.kernel.accessAllowed ? 'block' : 'none';\n",
              "\n",
              "        async function convertToInteractive(key) {\n",
              "          const element = document.querySelector('#df-eff8dccd-0a8d-4298-8e7a-9e93ef4daf43');\n",
              "          const dataTable =\n",
              "            await google.colab.kernel.invokeFunction('convertToInteractive',\n",
              "                                                     [key], {});\n",
              "          if (!dataTable) return;\n",
              "\n",
              "          const docLinkHtml = 'Like what you see? Visit the ' +\n",
              "            '<a target=\"_blank\" href=https://colab.research.google.com/notebooks/data_table.ipynb>data table notebook</a>'\n",
              "            + ' to learn more about interactive tables.';\n",
              "          element.innerHTML = '';\n",
              "          dataTable['output_type'] = 'display_data';\n",
              "          await google.colab.output.renderOutput(dataTable, element);\n",
              "          const docLink = document.createElement('div');\n",
              "          docLink.innerHTML = docLinkHtml;\n",
              "          element.appendChild(docLink);\n",
              "        }\n",
              "      </script>\n",
              "    </div>\n",
              "  </div>\n",
              "  "
            ]
          },
          "metadata": {},
          "execution_count": 46
        }
      ]
    },
    {
      "cell_type": "code",
      "source": [
        "pd.DataFrame({'authors': authors})\n",
        "\n"
      ],
      "metadata": {
        "colab": {
          "base_uri": "https://localhost:8080/",
          "height": 421
        },
        "id": "Xp7XOdz5enhK",
        "outputId": "fbc1ad16-8e91-4653-f2de-5683b7d9faad"
      },
      "execution_count": null,
      "outputs": [
        {
          "output_type": "execute_result",
          "data": {
            "text/plain": [
              "                  authors\n",
              "0      by: Zach Schonfeld\n",
              "1   by: Joshua Minsoo Kim\n",
              "2    by: Marc Weidenbaum \n",
              "3    by: Daniel Bromfield\n",
              "4      by: Quinn Moreland\n",
              "5     by: Alphonse Pierre\n",
              "6         by: Dylan Green\n",
              "7       by: Peyton Thomas\n",
              "8       by: Shaad D’Souza\n",
              "9         by: Alfred Soto\n",
              "10         by: Marc Hogan\n",
              "11         by: Marc Hogan"
            ],
            "text/html": [
              "\n",
              "  <div id=\"df-53e9b77c-a33e-48a6-8f76-e85b59f23c6e\">\n",
              "    <div class=\"colab-df-container\">\n",
              "      <div>\n",
              "<style scoped>\n",
              "    .dataframe tbody tr th:only-of-type {\n",
              "        vertical-align: middle;\n",
              "    }\n",
              "\n",
              "    .dataframe tbody tr th {\n",
              "        vertical-align: top;\n",
              "    }\n",
              "\n",
              "    .dataframe thead th {\n",
              "        text-align: right;\n",
              "    }\n",
              "</style>\n",
              "<table border=\"1\" class=\"dataframe\">\n",
              "  <thead>\n",
              "    <tr style=\"text-align: right;\">\n",
              "      <th></th>\n",
              "      <th>authors</th>\n",
              "    </tr>\n",
              "  </thead>\n",
              "  <tbody>\n",
              "    <tr>\n",
              "      <th>0</th>\n",
              "      <td>by: Zach Schonfeld</td>\n",
              "    </tr>\n",
              "    <tr>\n",
              "      <th>1</th>\n",
              "      <td>by: Joshua Minsoo Kim</td>\n",
              "    </tr>\n",
              "    <tr>\n",
              "      <th>2</th>\n",
              "      <td>by: Marc Weidenbaum</td>\n",
              "    </tr>\n",
              "    <tr>\n",
              "      <th>3</th>\n",
              "      <td>by: Daniel Bromfield</td>\n",
              "    </tr>\n",
              "    <tr>\n",
              "      <th>4</th>\n",
              "      <td>by: Quinn Moreland</td>\n",
              "    </tr>\n",
              "    <tr>\n",
              "      <th>5</th>\n",
              "      <td>by: Alphonse Pierre</td>\n",
              "    </tr>\n",
              "    <tr>\n",
              "      <th>6</th>\n",
              "      <td>by: Dylan Green</td>\n",
              "    </tr>\n",
              "    <tr>\n",
              "      <th>7</th>\n",
              "      <td>by: Peyton Thomas</td>\n",
              "    </tr>\n",
              "    <tr>\n",
              "      <th>8</th>\n",
              "      <td>by: Shaad D’Souza</td>\n",
              "    </tr>\n",
              "    <tr>\n",
              "      <th>9</th>\n",
              "      <td>by: Alfred Soto</td>\n",
              "    </tr>\n",
              "    <tr>\n",
              "      <th>10</th>\n",
              "      <td>by: Marc Hogan</td>\n",
              "    </tr>\n",
              "    <tr>\n",
              "      <th>11</th>\n",
              "      <td>by: Marc Hogan</td>\n",
              "    </tr>\n",
              "  </tbody>\n",
              "</table>\n",
              "</div>\n",
              "      <button class=\"colab-df-convert\" onclick=\"convertToInteractive('df-53e9b77c-a33e-48a6-8f76-e85b59f23c6e')\"\n",
              "              title=\"Convert this dataframe to an interactive table.\"\n",
              "              style=\"display:none;\">\n",
              "        \n",
              "  <svg xmlns=\"http://www.w3.org/2000/svg\" height=\"24px\"viewBox=\"0 0 24 24\"\n",
              "       width=\"24px\">\n",
              "    <path d=\"M0 0h24v24H0V0z\" fill=\"none\"/>\n",
              "    <path d=\"M18.56 5.44l.94 2.06.94-2.06 2.06-.94-2.06-.94-.94-2.06-.94 2.06-2.06.94zm-11 1L8.5 8.5l.94-2.06 2.06-.94-2.06-.94L8.5 2.5l-.94 2.06-2.06.94zm10 10l.94 2.06.94-2.06 2.06-.94-2.06-.94-.94-2.06-.94 2.06-2.06.94z\"/><path d=\"M17.41 7.96l-1.37-1.37c-.4-.4-.92-.59-1.43-.59-.52 0-1.04.2-1.43.59L10.3 9.45l-7.72 7.72c-.78.78-.78 2.05 0 2.83L4 21.41c.39.39.9.59 1.41.59.51 0 1.02-.2 1.41-.59l7.78-7.78 2.81-2.81c.8-.78.8-2.07 0-2.86zM5.41 20L4 18.59l7.72-7.72 1.47 1.35L5.41 20z\"/>\n",
              "  </svg>\n",
              "      </button>\n",
              "      \n",
              "  <style>\n",
              "    .colab-df-container {\n",
              "      display:flex;\n",
              "      flex-wrap:wrap;\n",
              "      gap: 12px;\n",
              "    }\n",
              "\n",
              "    .colab-df-convert {\n",
              "      background-color: #E8F0FE;\n",
              "      border: none;\n",
              "      border-radius: 50%;\n",
              "      cursor: pointer;\n",
              "      display: none;\n",
              "      fill: #1967D2;\n",
              "      height: 32px;\n",
              "      padding: 0 0 0 0;\n",
              "      width: 32px;\n",
              "    }\n",
              "\n",
              "    .colab-df-convert:hover {\n",
              "      background-color: #E2EBFA;\n",
              "      box-shadow: 0px 1px 2px rgba(60, 64, 67, 0.3), 0px 1px 3px 1px rgba(60, 64, 67, 0.15);\n",
              "      fill: #174EA6;\n",
              "    }\n",
              "\n",
              "    [theme=dark] .colab-df-convert {\n",
              "      background-color: #3B4455;\n",
              "      fill: #D2E3FC;\n",
              "    }\n",
              "\n",
              "    [theme=dark] .colab-df-convert:hover {\n",
              "      background-color: #434B5C;\n",
              "      box-shadow: 0px 1px 3px 1px rgba(0, 0, 0, 0.15);\n",
              "      filter: drop-shadow(0px 1px 2px rgba(0, 0, 0, 0.3));\n",
              "      fill: #FFFFFF;\n",
              "    }\n",
              "  </style>\n",
              "\n",
              "      <script>\n",
              "        const buttonEl =\n",
              "          document.querySelector('#df-53e9b77c-a33e-48a6-8f76-e85b59f23c6e button.colab-df-convert');\n",
              "        buttonEl.style.display =\n",
              "          google.colab.kernel.accessAllowed ? 'block' : 'none';\n",
              "\n",
              "        async function convertToInteractive(key) {\n",
              "          const element = document.querySelector('#df-53e9b77c-a33e-48a6-8f76-e85b59f23c6e');\n",
              "          const dataTable =\n",
              "            await google.colab.kernel.invokeFunction('convertToInteractive',\n",
              "                                                     [key], {});\n",
              "          if (!dataTable) return;\n",
              "\n",
              "          const docLinkHtml = 'Like what you see? Visit the ' +\n",
              "            '<a target=\"_blank\" href=https://colab.research.google.com/notebooks/data_table.ipynb>data table notebook</a>'\n",
              "            + ' to learn more about interactive tables.';\n",
              "          element.innerHTML = '';\n",
              "          dataTable['output_type'] = 'display_data';\n",
              "          await google.colab.output.renderOutput(dataTable, element);\n",
              "          const docLink = document.createElement('div');\n",
              "          docLink.innerHTML = docLinkHtml;\n",
              "          element.appendChild(docLink);\n",
              "        }\n",
              "      </script>\n",
              "    </div>\n",
              "  </div>\n",
              "  "
            ]
          },
          "metadata": {},
          "execution_count": 47
        }
      ]
    },
    {
      "cell_type": "code",
      "source": [
        "\n",
        "pub-date"
      ],
      "metadata": {
        "colab": {
          "base_uri": "https://localhost:8080/"
        },
        "id": "Un8C_okGenew",
        "outputId": "75efd753-7fce-450b-e86b-23d76c1607de"
      },
      "execution_count": null,
      "outputs": [
        {
          "output_type": "execute_result",
          "data": {
            "text/plain": [
              "['by: Zach Schonfeld',\n",
              " 'by: Joshua Minsoo Kim',\n",
              " 'by: Marc Weidenbaum ',\n",
              " 'by: Daniel Bromfield',\n",
              " 'by: Quinn Moreland',\n",
              " 'by: Alphonse Pierre',\n",
              " 'by: Dylan Green',\n",
              " 'by: Peyton Thomas',\n",
              " 'by: Shaad D’Souza',\n",
              " 'by: Alfred Soto',\n",
              " 'by: Marc Hogan',\n",
              " 'by: Marc Hogan']"
            ]
          },
          "metadata": {},
          "execution_count": 41
        }
      ]
    },
    {
      "cell_type": "code",
      "source": [
        "#get reviews\n",
        "url = 'https://pitchfork.com/reviews/albums/'\n",
        "r = requests.get(url)\n",
        "soup = BeautifulSoup(r.text)\n",
        "first_review = soup.find('div', {'class': 'review'})"
      ],
      "metadata": {
        "id": "SFti_xkxencV"
      },
      "execution_count": null,
      "outputs": []
    },
    {
      "cell_type": "code",
      "source": [
        "#link for review\n",
        "first_review.find('a').attrs['href']"
      ],
      "metadata": {
        "id": "XF0JMoxOenaH",
        "colab": {
          "base_uri": "https://localhost:8080/",
          "height": 37
        },
        "outputId": "1f2cb37b-5e50-4151-9e42-f6f82c3fb39e"
      },
      "execution_count": null,
      "outputs": [
        {
          "output_type": "execute_result",
          "data": {
            "text/plain": [
              "'/reviews/albums/queens-of-the-stone-age-in-times-new-roman/'"
            ],
            "application/vnd.google.colaboratory.intrinsic+json": {
              "type": "string"
            }
          },
          "metadata": {},
          "execution_count": 57
        }
      ]
    },
    {
      "cell_type": "code",
      "source": [
        "new_url = 'https://pitchfork.com'+ first_review.find('a').attrs['href']"
      ],
      "metadata": {
        "id": "3-aEMeaGj5fX"
      },
      "execution_count": null,
      "outputs": []
    },
    {
      "cell_type": "code",
      "source": [
        "r = requests.get(new_url)"
      ],
      "metadata": {
        "colab": {
          "base_uri": "https://localhost:8080/",
          "height": 54
        },
        "id": "KUdt39X7kISd",
        "outputId": "1eba2bcd-a754-412b-f047-5a17bf0047d6"
      },
      "execution_count": null,
      "outputs": [
        {
          "output_type": "execute_result",
          "data": {
            "text/plain": [
              "'https://pitchfork.com/reviews/albums/queens-of-the-stone-age-in-times-new-roman/'"
            ],
            "application/vnd.google.colaboratory.intrinsic+json": {
              "type": "string"
            }
          },
          "metadata": {},
          "execution_count": 59
        }
      ]
    },
    {
      "cell_type": "code",
      "source": [
        "#get reviews\n",
        "url = 'https://pitchfork.com/reviews/albums/'\n",
        "r = requests.get(url)\n",
        "soup = BeautifulSoup(r.text)\n",
        "reviews = soup.find_all('div', {'class': 'review'})\n",
        "\n",
        "base_url = 'https://pitchfork.com'\n",
        "urls = []\n",
        "for review in reviews:\n",
        "  new_url = base_url + review.find('a').attrs['href']\n",
        "  urls.append(new_url)\n"
      ],
      "metadata": {
        "id": "YJz-7TUWkJQN"
      },
      "execution_count": null,
      "outputs": []
    },
    {
      "cell_type": "code",
      "source": [
        "scores = []\n",
        "for url in urls:\n",
        "  r = requests.get(url)\n",
        "  soup = BeautifulSoup(r.text)\n",
        "  score = soup.find('div', {'class': 'ScoreCircle-jAxRuP'})\n",
        "  scores.append(score.text)\n",
        "### extract the score"
      ],
      "metadata": {
        "id": "dUTmnzQAlH8k"
      },
      "execution_count": null,
      "outputs": []
    },
    {
      "cell_type": "code",
      "source": [
        "#to manage the inconsistency in the dataframes sizes we use try except staments to account for any missing data"
      ],
      "metadata": {
        "id": "I1qMI1dRmCTH"
      },
      "execution_count": null,
      "outputs": []
    },
    {
      "cell_type": "code",
      "source": [
        "####"
      ],
      "metadata": {
        "id": "sscL4oNupHVg"
      },
      "execution_count": null,
      "outputs": []
    },
    {
      "cell_type": "code",
      "source": [
        "quotes = []\n",
        "authors = []\n",
        "tags = []\n",
        "url = 'https://quotes.toscrape.com/'\n",
        "r = requests.get(url)\n",
        "soup = BeautifulSoup(r.text)\n",
        "quots = soup.find_all('span', {'class': 'text'})\n",
        "authors = soup.find_all('small', {'class': 'author'})\n",
        "tags = soup.find_all('div', {'class': 'tags'})\n",
        "#for i in tags:\n",
        "#  tags[i] = tags.find_all(('a').attrs['href'])\n",
        "#  print(tags[i])"
      ],
      "metadata": {
        "id": "Paq4oWqypHSt"
      },
      "execution_count": null,
      "outputs": []
    },
    {
      "cell_type": "code",
      "source": [
        "pd.DataFrame({'quots': quots, 'author': authors, 'tags': tags})\n"
      ],
      "metadata": {
        "colab": {
          "base_uri": "https://localhost:8080/",
          "height": 454
        },
        "id": "kGgoJdhUpHQa",
        "outputId": "2b876206-f792-489a-8628-9ea731c2e1c7"
      },
      "execution_count": null,
      "outputs": [
        {
          "output_type": "execute_result",
          "data": {
            "text/plain": [
              "                                               quots               author  \\\n",
              "0  [“The world as we have created it is a process...    [Albert Einstein]   \n",
              "1  [“It is our choices, Harry, that show what we ...       [J.K. Rowling]   \n",
              "2  [“There are only two ways to live your life. O...    [Albert Einstein]   \n",
              "3  [“The person, be it gentleman or lady, who has...        [Jane Austen]   \n",
              "4  [“Imperfection is beauty, madness is genius an...     [Marilyn Monroe]   \n",
              "5  [“Try not to become a man of success. Rather b...    [Albert Einstein]   \n",
              "6  [“It is better to be hated for what you are th...         [André Gide]   \n",
              "7  [“I have not failed. I've just found 10,000 wa...   [Thomas A. Edison]   \n",
              "8  [“A woman is like a tea bag; you never know ho...  [Eleanor Roosevelt]   \n",
              "9  [“A day without sunshine is like, you know, ni...       [Steve Martin]   \n",
              "\n",
              "                                                tags  \n",
              "0  [\\n            Tags:\\n            , [], \\n, [c...  \n",
              "1  [\\n            Tags:\\n            , [], \\n, [a...  \n",
              "2  [\\n            Tags:\\n            , [], \\n, [i...  \n",
              "3  [\\n            Tags:\\n            , [], \\n, [a...  \n",
              "4  [\\n            Tags:\\n            , [], \\n, [b...  \n",
              "5  [\\n            Tags:\\n            , [], \\n, [a...  \n",
              "6  [\\n            Tags:\\n            , [], \\n, [l...  \n",
              "7  [\\n            Tags:\\n            , [], \\n, [e...  \n",
              "8  [\\n            Tags:\\n            , [], \\n, [m...  \n",
              "9  [\\n            Tags:\\n            , [], \\n, [h...  "
            ],
            "text/html": [
              "\n",
              "  <div id=\"df-1a61e841-19eb-4836-8449-d66dda36437e\">\n",
              "    <div class=\"colab-df-container\">\n",
              "      <div>\n",
              "<style scoped>\n",
              "    .dataframe tbody tr th:only-of-type {\n",
              "        vertical-align: middle;\n",
              "    }\n",
              "\n",
              "    .dataframe tbody tr th {\n",
              "        vertical-align: top;\n",
              "    }\n",
              "\n",
              "    .dataframe thead th {\n",
              "        text-align: right;\n",
              "    }\n",
              "</style>\n",
              "<table border=\"1\" class=\"dataframe\">\n",
              "  <thead>\n",
              "    <tr style=\"text-align: right;\">\n",
              "      <th></th>\n",
              "      <th>quots</th>\n",
              "      <th>author</th>\n",
              "      <th>tags</th>\n",
              "    </tr>\n",
              "  </thead>\n",
              "  <tbody>\n",
              "    <tr>\n",
              "      <th>0</th>\n",
              "      <td>[“The world as we have created it is a process...</td>\n",
              "      <td>[Albert Einstein]</td>\n",
              "      <td>[\\n            Tags:\\n            , [], \\n, [c...</td>\n",
              "    </tr>\n",
              "    <tr>\n",
              "      <th>1</th>\n",
              "      <td>[“It is our choices, Harry, that show what we ...</td>\n",
              "      <td>[J.K. Rowling]</td>\n",
              "      <td>[\\n            Tags:\\n            , [], \\n, [a...</td>\n",
              "    </tr>\n",
              "    <tr>\n",
              "      <th>2</th>\n",
              "      <td>[“There are only two ways to live your life. O...</td>\n",
              "      <td>[Albert Einstein]</td>\n",
              "      <td>[\\n            Tags:\\n            , [], \\n, [i...</td>\n",
              "    </tr>\n",
              "    <tr>\n",
              "      <th>3</th>\n",
              "      <td>[“The person, be it gentleman or lady, who has...</td>\n",
              "      <td>[Jane Austen]</td>\n",
              "      <td>[\\n            Tags:\\n            , [], \\n, [a...</td>\n",
              "    </tr>\n",
              "    <tr>\n",
              "      <th>4</th>\n",
              "      <td>[“Imperfection is beauty, madness is genius an...</td>\n",
              "      <td>[Marilyn Monroe]</td>\n",
              "      <td>[\\n            Tags:\\n            , [], \\n, [b...</td>\n",
              "    </tr>\n",
              "    <tr>\n",
              "      <th>5</th>\n",
              "      <td>[“Try not to become a man of success. Rather b...</td>\n",
              "      <td>[Albert Einstein]</td>\n",
              "      <td>[\\n            Tags:\\n            , [], \\n, [a...</td>\n",
              "    </tr>\n",
              "    <tr>\n",
              "      <th>6</th>\n",
              "      <td>[“It is better to be hated for what you are th...</td>\n",
              "      <td>[André Gide]</td>\n",
              "      <td>[\\n            Tags:\\n            , [], \\n, [l...</td>\n",
              "    </tr>\n",
              "    <tr>\n",
              "      <th>7</th>\n",
              "      <td>[“I have not failed. I've just found 10,000 wa...</td>\n",
              "      <td>[Thomas A. Edison]</td>\n",
              "      <td>[\\n            Tags:\\n            , [], \\n, [e...</td>\n",
              "    </tr>\n",
              "    <tr>\n",
              "      <th>8</th>\n",
              "      <td>[“A woman is like a tea bag; you never know ho...</td>\n",
              "      <td>[Eleanor Roosevelt]</td>\n",
              "      <td>[\\n            Tags:\\n            , [], \\n, [m...</td>\n",
              "    </tr>\n",
              "    <tr>\n",
              "      <th>9</th>\n",
              "      <td>[“A day without sunshine is like, you know, ni...</td>\n",
              "      <td>[Steve Martin]</td>\n",
              "      <td>[\\n            Tags:\\n            , [], \\n, [h...</td>\n",
              "    </tr>\n",
              "  </tbody>\n",
              "</table>\n",
              "</div>\n",
              "      <button class=\"colab-df-convert\" onclick=\"convertToInteractive('df-1a61e841-19eb-4836-8449-d66dda36437e')\"\n",
              "              title=\"Convert this dataframe to an interactive table.\"\n",
              "              style=\"display:none;\">\n",
              "        \n",
              "  <svg xmlns=\"http://www.w3.org/2000/svg\" height=\"24px\"viewBox=\"0 0 24 24\"\n",
              "       width=\"24px\">\n",
              "    <path d=\"M0 0h24v24H0V0z\" fill=\"none\"/>\n",
              "    <path d=\"M18.56 5.44l.94 2.06.94-2.06 2.06-.94-2.06-.94-.94-2.06-.94 2.06-2.06.94zm-11 1L8.5 8.5l.94-2.06 2.06-.94-2.06-.94L8.5 2.5l-.94 2.06-2.06.94zm10 10l.94 2.06.94-2.06 2.06-.94-2.06-.94-.94-2.06-.94 2.06-2.06.94z\"/><path d=\"M17.41 7.96l-1.37-1.37c-.4-.4-.92-.59-1.43-.59-.52 0-1.04.2-1.43.59L10.3 9.45l-7.72 7.72c-.78.78-.78 2.05 0 2.83L4 21.41c.39.39.9.59 1.41.59.51 0 1.02-.2 1.41-.59l7.78-7.78 2.81-2.81c.8-.78.8-2.07 0-2.86zM5.41 20L4 18.59l7.72-7.72 1.47 1.35L5.41 20z\"/>\n",
              "  </svg>\n",
              "      </button>\n",
              "      \n",
              "  <style>\n",
              "    .colab-df-container {\n",
              "      display:flex;\n",
              "      flex-wrap:wrap;\n",
              "      gap: 12px;\n",
              "    }\n",
              "\n",
              "    .colab-df-convert {\n",
              "      background-color: #E8F0FE;\n",
              "      border: none;\n",
              "      border-radius: 50%;\n",
              "      cursor: pointer;\n",
              "      display: none;\n",
              "      fill: #1967D2;\n",
              "      height: 32px;\n",
              "      padding: 0 0 0 0;\n",
              "      width: 32px;\n",
              "    }\n",
              "\n",
              "    .colab-df-convert:hover {\n",
              "      background-color: #E2EBFA;\n",
              "      box-shadow: 0px 1px 2px rgba(60, 64, 67, 0.3), 0px 1px 3px 1px rgba(60, 64, 67, 0.15);\n",
              "      fill: #174EA6;\n",
              "    }\n",
              "\n",
              "    [theme=dark] .colab-df-convert {\n",
              "      background-color: #3B4455;\n",
              "      fill: #D2E3FC;\n",
              "    }\n",
              "\n",
              "    [theme=dark] .colab-df-convert:hover {\n",
              "      background-color: #434B5C;\n",
              "      box-shadow: 0px 1px 3px 1px rgba(0, 0, 0, 0.15);\n",
              "      filter: drop-shadow(0px 1px 2px rgba(0, 0, 0, 0.3));\n",
              "      fill: #FFFFFF;\n",
              "    }\n",
              "  </style>\n",
              "\n",
              "      <script>\n",
              "        const buttonEl =\n",
              "          document.querySelector('#df-1a61e841-19eb-4836-8449-d66dda36437e button.colab-df-convert');\n",
              "        buttonEl.style.display =\n",
              "          google.colab.kernel.accessAllowed ? 'block' : 'none';\n",
              "\n",
              "        async function convertToInteractive(key) {\n",
              "          const element = document.querySelector('#df-1a61e841-19eb-4836-8449-d66dda36437e');\n",
              "          const dataTable =\n",
              "            await google.colab.kernel.invokeFunction('convertToInteractive',\n",
              "                                                     [key], {});\n",
              "          if (!dataTable) return;\n",
              "\n",
              "          const docLinkHtml = 'Like what you see? Visit the ' +\n",
              "            '<a target=\"_blank\" href=https://colab.research.google.com/notebooks/data_table.ipynb>data table notebook</a>'\n",
              "            + ' to learn more about interactive tables.';\n",
              "          element.innerHTML = '';\n",
              "          dataTable['output_type'] = 'display_data';\n",
              "          await google.colab.output.renderOutput(dataTable, element);\n",
              "          const docLink = document.createElement('div');\n",
              "          docLink.innerHTML = docLinkHtml;\n",
              "          element.appendChild(docLink);\n",
              "        }\n",
              "      </script>\n",
              "    </div>\n",
              "  </div>\n",
              "  "
            ]
          },
          "metadata": {},
          "execution_count": 99
        }
      ]
    },
    {
      "cell_type": "code",
      "source": [
        "url = \"https://quotes.toscrape.com\"\n",
        "\n",
        "response = requests.get(url)\n",
        "soup = BeautifulSoup(response.text, 'html.parser')\n",
        "\n",
        "# All quotes are under the 'quote' class\n",
        "quotes = soup.find_all('div', class_='quote')\n",
        "\n",
        "for quote in quotes:\n",
        "    # The quote text is in the 'text' class\n",
        "    quote_text = quote.find('span', class_='text').text\n",
        "\n",
        "    # The author is in the 'author' class\n",
        "    author = quote.find('small', class_='author').text\n",
        "\n",
        "    # The tags are in the 'tag' class\n",
        "    tags = [tag.text for tag in quote.find_all('a', class_='tag')]\n",
        "\n",
        "    quote_url = url + quote.find('a')['href']"
      ],
      "metadata": {
        "id": "GiJ8JOMApHOA"
      },
      "execution_count": null,
      "outputs": []
    },
    {
      "cell_type": "code",
      "source": [
        "pd.DataFrame({'quots': quote_text, 'author': authors,'tags': tags, 'URL': quote_url })\n"
      ],
      "metadata": {
        "colab": {
          "base_uri": "https://localhost:8080/",
          "height": 743
        },
        "id": "WoyhhzExq0dE",
        "outputId": "4f1df304-8629-44d9-89d6-25a6f519c3c1"
      },
      "execution_count": null,
      "outputs": [
        {
          "output_type": "execute_result",
          "data": {
            "text/plain": [
              "                                               quots               author  \\\n",
              "0  “A day without sunshine is like, you know, nig...    [Albert Einstein]   \n",
              "1  “A day without sunshine is like, you know, nig...       [J.K. Rowling]   \n",
              "2  “A day without sunshine is like, you know, nig...    [Albert Einstein]   \n",
              "3  “A day without sunshine is like, you know, nig...        [Jane Austen]   \n",
              "4  “A day without sunshine is like, you know, nig...     [Marilyn Monroe]   \n",
              "5  “A day without sunshine is like, you know, nig...    [Albert Einstein]   \n",
              "6  “A day without sunshine is like, you know, nig...         [André Gide]   \n",
              "7  “A day without sunshine is like, you know, nig...   [Thomas A. Edison]   \n",
              "8  “A day without sunshine is like, you know, nig...  [Eleanor Roosevelt]   \n",
              "9  “A day without sunshine is like, you know, nig...       [Steve Martin]   \n",
              "\n",
              "                                                tags  \\\n",
              "0  [\\n            Tags:\\n            , [], \\n, [c...   \n",
              "1  [\\n            Tags:\\n            , [], \\n, [a...   \n",
              "2  [\\n            Tags:\\n            , [], \\n, [i...   \n",
              "3  [\\n            Tags:\\n            , [], \\n, [a...   \n",
              "4  [\\n            Tags:\\n            , [], \\n, [b...   \n",
              "5  [\\n            Tags:\\n            , [], \\n, [a...   \n",
              "6  [\\n            Tags:\\n            , [], \\n, [l...   \n",
              "7  [\\n            Tags:\\n            , [], \\n, [e...   \n",
              "8  [\\n            Tags:\\n            , [], \\n, [m...   \n",
              "9  [\\n            Tags:\\n            , [], \\n, [h...   \n",
              "\n",
              "                                               URL  \n",
              "0  https://quotes.toscrape.com/author/Steve-Martin  \n",
              "1  https://quotes.toscrape.com/author/Steve-Martin  \n",
              "2  https://quotes.toscrape.com/author/Steve-Martin  \n",
              "3  https://quotes.toscrape.com/author/Steve-Martin  \n",
              "4  https://quotes.toscrape.com/author/Steve-Martin  \n",
              "5  https://quotes.toscrape.com/author/Steve-Martin  \n",
              "6  https://quotes.toscrape.com/author/Steve-Martin  \n",
              "7  https://quotes.toscrape.com/author/Steve-Martin  \n",
              "8  https://quotes.toscrape.com/author/Steve-Martin  \n",
              "9  https://quotes.toscrape.com/author/Steve-Martin  "
            ],
            "text/html": [
              "\n",
              "  <div id=\"df-082f04f1-da2d-43d8-9112-774e452a3110\">\n",
              "    <div class=\"colab-df-container\">\n",
              "      <div>\n",
              "<style scoped>\n",
              "    .dataframe tbody tr th:only-of-type {\n",
              "        vertical-align: middle;\n",
              "    }\n",
              "\n",
              "    .dataframe tbody tr th {\n",
              "        vertical-align: top;\n",
              "    }\n",
              "\n",
              "    .dataframe thead th {\n",
              "        text-align: right;\n",
              "    }\n",
              "</style>\n",
              "<table border=\"1\" class=\"dataframe\">\n",
              "  <thead>\n",
              "    <tr style=\"text-align: right;\">\n",
              "      <th></th>\n",
              "      <th>quots</th>\n",
              "      <th>author</th>\n",
              "      <th>tags</th>\n",
              "      <th>URL</th>\n",
              "    </tr>\n",
              "  </thead>\n",
              "  <tbody>\n",
              "    <tr>\n",
              "      <th>0</th>\n",
              "      <td>“A day without sunshine is like, you know, nig...</td>\n",
              "      <td>[Albert Einstein]</td>\n",
              "      <td>[\\n            Tags:\\n            , [], \\n, [c...</td>\n",
              "      <td>https://quotes.toscrape.com/author/Steve-Martin</td>\n",
              "    </tr>\n",
              "    <tr>\n",
              "      <th>1</th>\n",
              "      <td>“A day without sunshine is like, you know, nig...</td>\n",
              "      <td>[J.K. Rowling]</td>\n",
              "      <td>[\\n            Tags:\\n            , [], \\n, [a...</td>\n",
              "      <td>https://quotes.toscrape.com/author/Steve-Martin</td>\n",
              "    </tr>\n",
              "    <tr>\n",
              "      <th>2</th>\n",
              "      <td>“A day without sunshine is like, you know, nig...</td>\n",
              "      <td>[Albert Einstein]</td>\n",
              "      <td>[\\n            Tags:\\n            , [], \\n, [i...</td>\n",
              "      <td>https://quotes.toscrape.com/author/Steve-Martin</td>\n",
              "    </tr>\n",
              "    <tr>\n",
              "      <th>3</th>\n",
              "      <td>“A day without sunshine is like, you know, nig...</td>\n",
              "      <td>[Jane Austen]</td>\n",
              "      <td>[\\n            Tags:\\n            , [], \\n, [a...</td>\n",
              "      <td>https://quotes.toscrape.com/author/Steve-Martin</td>\n",
              "    </tr>\n",
              "    <tr>\n",
              "      <th>4</th>\n",
              "      <td>“A day without sunshine is like, you know, nig...</td>\n",
              "      <td>[Marilyn Monroe]</td>\n",
              "      <td>[\\n            Tags:\\n            , [], \\n, [b...</td>\n",
              "      <td>https://quotes.toscrape.com/author/Steve-Martin</td>\n",
              "    </tr>\n",
              "    <tr>\n",
              "      <th>5</th>\n",
              "      <td>“A day without sunshine is like, you know, nig...</td>\n",
              "      <td>[Albert Einstein]</td>\n",
              "      <td>[\\n            Tags:\\n            , [], \\n, [a...</td>\n",
              "      <td>https://quotes.toscrape.com/author/Steve-Martin</td>\n",
              "    </tr>\n",
              "    <tr>\n",
              "      <th>6</th>\n",
              "      <td>“A day without sunshine is like, you know, nig...</td>\n",
              "      <td>[André Gide]</td>\n",
              "      <td>[\\n            Tags:\\n            , [], \\n, [l...</td>\n",
              "      <td>https://quotes.toscrape.com/author/Steve-Martin</td>\n",
              "    </tr>\n",
              "    <tr>\n",
              "      <th>7</th>\n",
              "      <td>“A day without sunshine is like, you know, nig...</td>\n",
              "      <td>[Thomas A. Edison]</td>\n",
              "      <td>[\\n            Tags:\\n            , [], \\n, [e...</td>\n",
              "      <td>https://quotes.toscrape.com/author/Steve-Martin</td>\n",
              "    </tr>\n",
              "    <tr>\n",
              "      <th>8</th>\n",
              "      <td>“A day without sunshine is like, you know, nig...</td>\n",
              "      <td>[Eleanor Roosevelt]</td>\n",
              "      <td>[\\n            Tags:\\n            , [], \\n, [m...</td>\n",
              "      <td>https://quotes.toscrape.com/author/Steve-Martin</td>\n",
              "    </tr>\n",
              "    <tr>\n",
              "      <th>9</th>\n",
              "      <td>“A day without sunshine is like, you know, nig...</td>\n",
              "      <td>[Steve Martin]</td>\n",
              "      <td>[\\n            Tags:\\n            , [], \\n, [h...</td>\n",
              "      <td>https://quotes.toscrape.com/author/Steve-Martin</td>\n",
              "    </tr>\n",
              "  </tbody>\n",
              "</table>\n",
              "</div>\n",
              "      <button class=\"colab-df-convert\" onclick=\"convertToInteractive('df-082f04f1-da2d-43d8-9112-774e452a3110')\"\n",
              "              title=\"Convert this dataframe to an interactive table.\"\n",
              "              style=\"display:none;\">\n",
              "        \n",
              "  <svg xmlns=\"http://www.w3.org/2000/svg\" height=\"24px\"viewBox=\"0 0 24 24\"\n",
              "       width=\"24px\">\n",
              "    <path d=\"M0 0h24v24H0V0z\" fill=\"none\"/>\n",
              "    <path d=\"M18.56 5.44l.94 2.06.94-2.06 2.06-.94-2.06-.94-.94-2.06-.94 2.06-2.06.94zm-11 1L8.5 8.5l.94-2.06 2.06-.94-2.06-.94L8.5 2.5l-.94 2.06-2.06.94zm10 10l.94 2.06.94-2.06 2.06-.94-2.06-.94-.94-2.06-.94 2.06-2.06.94z\"/><path d=\"M17.41 7.96l-1.37-1.37c-.4-.4-.92-.59-1.43-.59-.52 0-1.04.2-1.43.59L10.3 9.45l-7.72 7.72c-.78.78-.78 2.05 0 2.83L4 21.41c.39.39.9.59 1.41.59.51 0 1.02-.2 1.41-.59l7.78-7.78 2.81-2.81c.8-.78.8-2.07 0-2.86zM5.41 20L4 18.59l7.72-7.72 1.47 1.35L5.41 20z\"/>\n",
              "  </svg>\n",
              "      </button>\n",
              "      \n",
              "  <style>\n",
              "    .colab-df-container {\n",
              "      display:flex;\n",
              "      flex-wrap:wrap;\n",
              "      gap: 12px;\n",
              "    }\n",
              "\n",
              "    .colab-df-convert {\n",
              "      background-color: #E8F0FE;\n",
              "      border: none;\n",
              "      border-radius: 50%;\n",
              "      cursor: pointer;\n",
              "      display: none;\n",
              "      fill: #1967D2;\n",
              "      height: 32px;\n",
              "      padding: 0 0 0 0;\n",
              "      width: 32px;\n",
              "    }\n",
              "\n",
              "    .colab-df-convert:hover {\n",
              "      background-color: #E2EBFA;\n",
              "      box-shadow: 0px 1px 2px rgba(60, 64, 67, 0.3), 0px 1px 3px 1px rgba(60, 64, 67, 0.15);\n",
              "      fill: #174EA6;\n",
              "    }\n",
              "\n",
              "    [theme=dark] .colab-df-convert {\n",
              "      background-color: #3B4455;\n",
              "      fill: #D2E3FC;\n",
              "    }\n",
              "\n",
              "    [theme=dark] .colab-df-convert:hover {\n",
              "      background-color: #434B5C;\n",
              "      box-shadow: 0px 1px 3px 1px rgba(0, 0, 0, 0.15);\n",
              "      filter: drop-shadow(0px 1px 2px rgba(0, 0, 0, 0.3));\n",
              "      fill: #FFFFFF;\n",
              "    }\n",
              "  </style>\n",
              "\n",
              "      <script>\n",
              "        const buttonEl =\n",
              "          document.querySelector('#df-082f04f1-da2d-43d8-9112-774e452a3110 button.colab-df-convert');\n",
              "        buttonEl.style.display =\n",
              "          google.colab.kernel.accessAllowed ? 'block' : 'none';\n",
              "\n",
              "        async function convertToInteractive(key) {\n",
              "          const element = document.querySelector('#df-082f04f1-da2d-43d8-9112-774e452a3110');\n",
              "          const dataTable =\n",
              "            await google.colab.kernel.invokeFunction('convertToInteractive',\n",
              "                                                     [key], {});\n",
              "          if (!dataTable) return;\n",
              "\n",
              "          const docLinkHtml = 'Like what you see? Visit the ' +\n",
              "            '<a target=\"_blank\" href=https://colab.research.google.com/notebooks/data_table.ipynb>data table notebook</a>'\n",
              "            + ' to learn more about interactive tables.';\n",
              "          element.innerHTML = '';\n",
              "          dataTable['output_type'] = 'display_data';\n",
              "          await google.colab.output.renderOutput(dataTable, element);\n",
              "          const docLink = document.createElement('div');\n",
              "          docLink.innerHTML = docLinkHtml;\n",
              "          element.appendChild(docLink);\n",
              "        }\n",
              "      </script>\n",
              "    </div>\n",
              "  </div>\n",
              "  "
            ]
          },
          "metadata": {},
          "execution_count": 92
        }
      ]
    },
    {
      "cell_type": "code",
      "source": [
        "\n"
      ],
      "metadata": {
        "id": "mcG0RNZts615"
      },
      "execution_count": null,
      "outputs": []
    },
    {
      "cell_type": "code",
      "source": [
        "url = 'https://quotes.toscrape.com/'\n",
        "r = requests.get(url)\n",
        "soup = BeautifulSoup(r.text)\n",
        "quotes = soup.find_all('div', {'class': 'quote'})\n",
        "quotes[0].find('span').text\n",
        "new_url = url + soup.find('li', {'class': 'next'}).find('a').attrs['href']\n",
        "r = requests.get(new_url)\n",
        "soup = BeautifulSoup(r.text)\n",
        "quotes = soup.find_all('div', {'class': 'quote'})"
      ],
      "metadata": {
        "id": "5vbvwCcNtXMx"
      },
      "execution_count": null,
      "outputs": []
    },
    {
      "cell_type": "code",
      "source": [],
      "metadata": {
        "id": "BNEmsELxvbzH"
      },
      "execution_count": null,
      "outputs": []
    }
  ]
}