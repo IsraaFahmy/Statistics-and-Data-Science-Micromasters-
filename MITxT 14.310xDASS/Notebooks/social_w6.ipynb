{
  "nbformat": 4,
  "nbformat_minor": 0,
  "metadata": {
    "colab": {
      "provenance": [],
      "include_colab_link": true
    },
    "kernelspec": {
      "name": "ir",
      "display_name": "R"
    },
    "language_info": {
      "name": "R"
    }
  },
  "cells": [
    {
      "cell_type": "markdown",
      "metadata": {
        "id": "view-in-github",
        "colab_type": "text"
      },
      "source": [
        "<a href=\"https://colab.research.google.com/github/IsraaFahmy/Statistics-and-Data-Science-Micromasters-/blob/main/MITxT%2014.310xDASS/Notebooks/social_w6.ipynb\" target=\"_parent\"><img src=\"https://colab.research.google.com/assets/colab-badge.svg\" alt=\"Open In Colab\"/></a>"
      ]
    },
    {
      "cell_type": "markdown",
      "source": [
        "#### Bias/Variance Tradeoff\n",
        "\n"
      ],
      "metadata": {
        "id": "xFzR0_29bjER"
      }
    },
    {
      "cell_type": "code",
      "source": [
        "library(tidyverse)"
      ],
      "metadata": {
        "colab": {
          "base_uri": "https://localhost:8080/"
        },
        "id": "j4uqyKGMcKE_",
        "outputId": "7c555950-3f4b-4fcb-f8d7-e8e4006f4337"
      },
      "execution_count": null,
      "outputs": [
        {
          "output_type": "stream",
          "name": "stderr",
          "text": [
            "── \u001b[1mAttaching packages\u001b[22m ─────────────────────────────────────── tidyverse 1.3.1 ──\n",
            "\n",
            "\u001b[32m✔\u001b[39m \u001b[34mggplot2\u001b[39m 3.4.2     \u001b[32m✔\u001b[39m \u001b[34mpurrr  \u001b[39m 1.0.1\n",
            "\u001b[32m✔\u001b[39m \u001b[34mtibble \u001b[39m 3.2.1     \u001b[32m✔\u001b[39m \u001b[34mdplyr  \u001b[39m 1.1.2\n",
            "\u001b[32m✔\u001b[39m \u001b[34mtidyr  \u001b[39m 1.3.0     \u001b[32m✔\u001b[39m \u001b[34mstringr\u001b[39m 1.5.0\n",
            "\u001b[32m✔\u001b[39m \u001b[34mreadr  \u001b[39m 2.1.4     \u001b[32m✔\u001b[39m \u001b[34mforcats\u001b[39m 1.0.0\n",
            "\n",
            "── \u001b[1mConflicts\u001b[22m ────────────────────────────────────────── tidyverse_conflicts() ──\n",
            "\u001b[31m✖\u001b[39m \u001b[34mdplyr\u001b[39m::\u001b[32mfilter()\u001b[39m masks \u001b[34mstats\u001b[39m::filter()\n",
            "\u001b[31m✖\u001b[39m \u001b[34mdplyr\u001b[39m::\u001b[32mlag()\u001b[39m    masks \u001b[34mstats\u001b[39m::lag()\n",
            "\n"
          ]
        }
      ]
    },
    {
      "cell_type": "code",
      "source": [
        "#make synthetic regression data\n",
        "x <- c(1:100)/10\n",
        "x"
      ],
      "metadata": {
        "colab": {
          "base_uri": "https://localhost:8080/",
          "height": 69
        },
        "id": "cGtTjHgRcLKn",
        "outputId": "4a2bad42-c379-4d4b-d1d9-436571387935"
      },
      "execution_count": null,
      "outputs": [
        {
          "output_type": "display_data",
          "data": {
            "text/html": [
              "<style>\n",
              ".list-inline {list-style: none; margin:0; padding: 0}\n",
              ".list-inline>li {display: inline-block}\n",
              ".list-inline>li:not(:last-child)::after {content: \"\\00b7\"; padding: 0 .5ex}\n",
              "</style>\n",
              "<ol class=list-inline><li>0.1</li><li>0.2</li><li>0.3</li><li>0.4</li><li>0.5</li><li>0.6</li><li>0.7</li><li>0.8</li><li>0.9</li><li>1</li><li>1.1</li><li>1.2</li><li>1.3</li><li>1.4</li><li>1.5</li><li>1.6</li><li>1.7</li><li>1.8</li><li>1.9</li><li>2</li><li>2.1</li><li>2.2</li><li>2.3</li><li>2.4</li><li>2.5</li><li>2.6</li><li>2.7</li><li>2.8</li><li>2.9</li><li>3</li><li>3.1</li><li>3.2</li><li>3.3</li><li>3.4</li><li>3.5</li><li>3.6</li><li>3.7</li><li>3.8</li><li>3.9</li><li>4</li><li>4.1</li><li>4.2</li><li>4.3</li><li>4.4</li><li>4.5</li><li>4.6</li><li>4.7</li><li>4.8</li><li>4.9</li><li>5</li><li>5.1</li><li>5.2</li><li>5.3</li><li>5.4</li><li>5.5</li><li>5.6</li><li>5.7</li><li>5.8</li><li>5.9</li><li>6</li><li>6.1</li><li>6.2</li><li>6.3</li><li>6.4</li><li>6.5</li><li>6.6</li><li>6.7</li><li>6.8</li><li>6.9</li><li>7</li><li>7.1</li><li>7.2</li><li>7.3</li><li>7.4</li><li>7.5</li><li>7.6</li><li>7.7</li><li>7.8</li><li>7.9</li><li>8</li><li>8.1</li><li>8.2</li><li>8.3</li><li>8.4</li><li>8.5</li><li>8.6</li><li>8.7</li><li>8.8</li><li>8.9</li><li>9</li><li>9.1</li><li>9.2</li><li>9.3</li><li>9.4</li><li>9.5</li><li>9.6</li><li>9.7</li><li>9.8</li><li>9.9</li><li>10</li></ol>\n"
            ],
            "text/markdown": "1. 0.1\n2. 0.2\n3. 0.3\n4. 0.4\n5. 0.5\n6. 0.6\n7. 0.7\n8. 0.8\n9. 0.9\n10. 1\n11. 1.1\n12. 1.2\n13. 1.3\n14. 1.4\n15. 1.5\n16. 1.6\n17. 1.7\n18. 1.8\n19. 1.9\n20. 2\n21. 2.1\n22. 2.2\n23. 2.3\n24. 2.4\n25. 2.5\n26. 2.6\n27. 2.7\n28. 2.8\n29. 2.9\n30. 3\n31. 3.1\n32. 3.2\n33. 3.3\n34. 3.4\n35. 3.5\n36. 3.6\n37. 3.7\n38. 3.8\n39. 3.9\n40. 4\n41. 4.1\n42. 4.2\n43. 4.3\n44. 4.4\n45. 4.5\n46. 4.6\n47. 4.7\n48. 4.8\n49. 4.9\n50. 5\n51. 5.1\n52. 5.2\n53. 5.3\n54. 5.4\n55. 5.5\n56. 5.6\n57. 5.7\n58. 5.8\n59. 5.9\n60. 6\n61. 6.1\n62. 6.2\n63. 6.3\n64. 6.4\n65. 6.5\n66. 6.6\n67. 6.7\n68. 6.8\n69. 6.9\n70. 7\n71. 7.1\n72. 7.2\n73. 7.3\n74. 7.4\n75. 7.5\n76. 7.6\n77. 7.7\n78. 7.8\n79. 7.9\n80. 8\n81. 8.1\n82. 8.2\n83. 8.3\n84. 8.4\n85. 8.5\n86. 8.6\n87. 8.7\n88. 8.8\n89. 8.9\n90. 9\n91. 9.1\n92. 9.2\n93. 9.3\n94. 9.4\n95. 9.5\n96. 9.6\n97. 9.7\n98. 9.8\n99. 9.9\n100. 10\n\n\n",
            "text/latex": "\\begin{enumerate*}\n\\item 0.1\n\\item 0.2\n\\item 0.3\n\\item 0.4\n\\item 0.5\n\\item 0.6\n\\item 0.7\n\\item 0.8\n\\item 0.9\n\\item 1\n\\item 1.1\n\\item 1.2\n\\item 1.3\n\\item 1.4\n\\item 1.5\n\\item 1.6\n\\item 1.7\n\\item 1.8\n\\item 1.9\n\\item 2\n\\item 2.1\n\\item 2.2\n\\item 2.3\n\\item 2.4\n\\item 2.5\n\\item 2.6\n\\item 2.7\n\\item 2.8\n\\item 2.9\n\\item 3\n\\item 3.1\n\\item 3.2\n\\item 3.3\n\\item 3.4\n\\item 3.5\n\\item 3.6\n\\item 3.7\n\\item 3.8\n\\item 3.9\n\\item 4\n\\item 4.1\n\\item 4.2\n\\item 4.3\n\\item 4.4\n\\item 4.5\n\\item 4.6\n\\item 4.7\n\\item 4.8\n\\item 4.9\n\\item 5\n\\item 5.1\n\\item 5.2\n\\item 5.3\n\\item 5.4\n\\item 5.5\n\\item 5.6\n\\item 5.7\n\\item 5.8\n\\item 5.9\n\\item 6\n\\item 6.1\n\\item 6.2\n\\item 6.3\n\\item 6.4\n\\item 6.5\n\\item 6.6\n\\item 6.7\n\\item 6.8\n\\item 6.9\n\\item 7\n\\item 7.1\n\\item 7.2\n\\item 7.3\n\\item 7.4\n\\item 7.5\n\\item 7.6\n\\item 7.7\n\\item 7.8\n\\item 7.9\n\\item 8\n\\item 8.1\n\\item 8.2\n\\item 8.3\n\\item 8.4\n\\item 8.5\n\\item 8.6\n\\item 8.7\n\\item 8.8\n\\item 8.9\n\\item 9\n\\item 9.1\n\\item 9.2\n\\item 9.3\n\\item 9.4\n\\item 9.5\n\\item 9.6\n\\item 9.7\n\\item 9.8\n\\item 9.9\n\\item 10\n\\end{enumerate*}\n",
            "text/plain": [
              "  [1]  0.1  0.2  0.3  0.4  0.5  0.6  0.7  0.8  0.9  1.0  1.1  1.2  1.3  1.4  1.5\n",
              " [16]  1.6  1.7  1.8  1.9  2.0  2.1  2.2  2.3  2.4  2.5  2.6  2.7  2.8  2.9  3.0\n",
              " [31]  3.1  3.2  3.3  3.4  3.5  3.6  3.7  3.8  3.9  4.0  4.1  4.2  4.3  4.4  4.5\n",
              " [46]  4.6  4.7  4.8  4.9  5.0  5.1  5.2  5.3  5.4  5.5  5.6  5.7  5.8  5.9  6.0\n",
              " [61]  6.1  6.2  6.3  6.4  6.5  6.6  6.7  6.8  6.9  7.0  7.1  7.2  7.3  7.4  7.5\n",
              " [76]  7.6  7.7  7.8  7.9  8.0  8.1  8.2  8.3  8.4  8.5  8.6  8.7  8.8  8.9  9.0\n",
              " [91]  9.1  9.2  9.3  9.4  9.5  9.6  9.7  9.8  9.9 10.0"
            ]
          },
          "metadata": {}
        }
      ]
    },
    {
      "cell_type": "code",
      "source": [
        "y <- 3*x^2 - 2*x + 4 + rnorm(100, sd = 5)"
      ],
      "metadata": {
        "id": "bB2LjSq1gUV0"
      },
      "execution_count": null,
      "outputs": []
    },
    {
      "cell_type": "code",
      "source": [
        "#plot it\n",
        "plot(x, y)"
      ],
      "metadata": {
        "colab": {
          "base_uri": "https://localhost:8080/",
          "height": 437
        },
        "id": "OgrQP69EcOrE",
        "outputId": "6f4553e7-8a22-42b3-cebb-28b37e9957b8"
      },
      "execution_count": null,
      "outputs": [
        {
          "output_type": "display_data",
          "data": {
            "text/plain": [
              "plot without title"
            ],
            "image/png": "[encoded data removed]"
          },
          "metadata": {
            "image/png": {
              "width": 420,
              "height": 420
            }
          }
        }
      ]
    },
    {
      "cell_type": "code",
      "source": [
        "#build regression model\n",
        "model1 <- lm(y ~ x)\n",
        "summary(model1)"
      ],
      "metadata": {
        "colab": {
          "base_uri": "https://localhost:8080/",
          "height": 341
        },
        "id": "qeohLhS2cPs1",
        "outputId": "c0539025-f515-4de1-f2f0-7e51fdfebf03"
      },
      "execution_count": null,
      "outputs": [
        {
          "output_type": "display_data",
          "data": {
            "text/plain": [
              "\n",
              "Call:\n",
              "lm(formula = y ~ x)\n",
              "\n",
              "Residuals:\n",
              "    Min      1Q  Median      3Q     Max \n",
              "-36.966 -19.232  -7.555  16.941  57.605 \n",
              "\n",
              "Coefficients:\n",
              "            Estimate Std. Error t value Pr(>|t|)    \n",
              "(Intercept) -49.2632     4.6064  -10.69   <2e-16 ***\n",
              "x            28.5030     0.7919   35.99   <2e-16 ***\n",
              "---\n",
              "Signif. codes:  0 ‘***’ 0.001 ‘**’ 0.01 ‘*’ 0.05 ‘.’ 0.1 ‘ ’ 1\n",
              "\n",
              "Residual standard error: 22.86 on 98 degrees of freedom\n",
              "Multiple R-squared:  0.9297,\tAdjusted R-squared:  0.929 \n",
              "F-statistic:  1295 on 1 and 98 DF,  p-value: < 2.2e-16\n"
            ]
          },
          "metadata": {}
        }
      ]
    },
    {
      "cell_type": "code",
      "source": [
        "yhat <- predict(model1, newdata = data.frame(x))\n",
        "yhat"
      ],
      "metadata": {
        "colab": {
          "base_uri": "https://localhost:8080/",
          "height": 312
        },
        "id": "EQal0UMIh4J0",
        "outputId": "9c92b032-97f9-4c3c-9ee1-cf0fd623be36"
      },
      "execution_count": null,
      "outputs": [
        {
          "output_type": "display_data",
          "data": {
            "text/html": [
              "<style>\n",
              ".dl-inline {width: auto; margin:0; padding: 0}\n",
              ".dl-inline>dt, .dl-inline>dd {float: none; width: auto; display: inline-block}\n",
              ".dl-inline>dt::after {content: \":\\0020\"; padding-right: .5ex}\n",
              ".dl-inline>dt:not(:first-of-type) {padding-left: .5ex}\n",
              "</style><dl class=dl-inline><dt>1</dt><dd>-46.4129191075701</dd><dt>2</dt><dd>-43.562616203614</dd><dt>3</dt><dd>-40.7123132996579</dd><dt>4</dt><dd>-37.8620103957017</dd><dt>5</dt><dd>-35.0117074917456</dd><dt>6</dt><dd>-32.1614045877894</dd><dt>7</dt><dd>-29.3111016838333</dd><dt>8</dt><dd>-26.4607987798772</dd><dt>9</dt><dd>-23.610495875921</dd><dt>10</dt><dd>-20.7601929719649</dd><dt>11</dt><dd>-17.9098900680088</dd><dt>12</dt><dd>-15.0595871640526</dd><dt>13</dt><dd>-12.2092842600965</dd><dt>14</dt><dd>-9.35898135614037</dd><dt>15</dt><dd>-6.50867845218423</dd><dt>16</dt><dd>-3.65837554822809</dd><dt>17</dt><dd>-0.808072644271959</dd><dt>18</dt><dd>2.04223025968418</dd><dt>19</dt><dd>4.89253316364031</dd><dt>20</dt><dd>7.74283606759645</dd><dt>21</dt><dd>10.5931389715526</dd><dt>22</dt><dd>13.4434418755087</dd><dt>23</dt><dd>16.2937447794649</dd><dt>24</dt><dd>19.144047683421</dd><dt>25</dt><dd>21.9943505873771</dd><dt>26</dt><dd>24.8446534913333</dd><dt>27</dt><dd>27.6949563952894</dd><dt>28</dt><dd>30.5452592992455</dd><dt>29</dt><dd>33.3955622032017</dd><dt>30</dt><dd>36.2458651071578</dd><dt>31</dt><dd>39.0961680111139</dd><dt>32</dt><dd>41.9464709150701</dd><dt>33</dt><dd>44.7967738190262</dd><dt>34</dt><dd>47.6470767229823</dd><dt>35</dt><dd>50.4973796269385</dd><dt>36</dt><dd>53.3476825308946</dd><dt>37</dt><dd>56.1979854348508</dd><dt>38</dt><dd>59.0482883388069</dd><dt>39</dt><dd>61.898591242763</dd><dt>40</dt><dd>64.7488941467192</dd><dt>41</dt><dd>67.5991970506753</dd><dt>42</dt><dd>70.4494999546314</dd><dt>43</dt><dd>73.2998028585876</dd><dt>44</dt><dd>76.1501057625437</dd><dt>45</dt><dd>79.0004086664998</dd><dt>46</dt><dd>81.850711570456</dd><dt>47</dt><dd>84.7010144744121</dd><dt>48</dt><dd>87.5513173783682</dd><dt>49</dt><dd>90.4016202823244</dd><dt>50</dt><dd>93.2519231862805</dd><dt>51</dt><dd>96.1022260902366</dd><dt>52</dt><dd>98.9525289941928</dd><dt>53</dt><dd>101.802831898149</dd><dt>54</dt><dd>104.653134802105</dd><dt>55</dt><dd>107.503437706061</dd><dt>56</dt><dd>110.353740610017</dd><dt>57</dt><dd>113.204043513973</dd><dt>58</dt><dd>116.05434641793</dd><dt>59</dt><dd>118.904649321886</dd><dt>60</dt><dd>121.754952225842</dd><dt>61</dt><dd>124.605255129798</dd><dt>62</dt><dd>127.455558033754</dd><dt>63</dt><dd>130.30586093771</dd><dt>64</dt><dd>133.156163841666</dd><dt>65</dt><dd>136.006466745623</dd><dt>66</dt><dd>138.856769649579</dd><dt>67</dt><dd>141.707072553535</dd><dt>68</dt><dd>144.557375457491</dd><dt>69</dt><dd>147.407678361447</dd><dt>70</dt><dd>150.257981265403</dd><dt>71</dt><dd>153.108284169359</dd><dt>72</dt><dd>155.958587073315</dd><dt>73</dt><dd>158.808889977272</dd><dt>74</dt><dd>161.659192881228</dd><dt>75</dt><dd>164.509495785184</dd><dt>76</dt><dd>167.35979868914</dd><dt>77</dt><dd>170.210101593096</dd><dt>78</dt><dd>173.060404497052</dd><dt>79</dt><dd>175.910707401008</dd><dt>80</dt><dd>178.761010304965</dd><dt>81</dt><dd>181.611313208921</dd><dt>82</dt><dd>184.461616112877</dd><dt>83</dt><dd>187.311919016833</dd><dt>84</dt><dd>190.162221920789</dd><dt>85</dt><dd>193.012524824745</dd><dt>86</dt><dd>195.862827728701</dd><dt>87</dt><dd>198.713130632658</dd><dt>88</dt><dd>201.563433536614</dd><dt>89</dt><dd>204.41373644057</dd><dt>90</dt><dd>207.264039344526</dd><dt>91</dt><dd>210.114342248482</dd><dt>92</dt><dd>212.964645152438</dd><dt>93</dt><dd>215.814948056394</dd><dt>94</dt><dd>218.665250960351</dd><dt>95</dt><dd>221.515553864307</dd><dt>96</dt><dd>224.365856768263</dd><dt>97</dt><dd>227.216159672219</dd><dt>98</dt><dd>230.066462576175</dd><dt>99</dt><dd>232.916765480131</dd><dt>100</dt><dd>235.767068384087</dd></dl>\n"
            ],
            "text/markdown": "1\n:   -46.41291910757012\n:   -43.5626162036143\n:   -40.71231329965794\n:   -37.86201039570175\n:   -35.01170749174566\n:   -32.16140458778947\n:   -29.31110168383338\n:   -26.46079877987729\n:   -23.61049587592110\n:   -20.760192971964911\n:   -17.909890068008812\n:   -15.059587164052613\n:   -12.209284260096514\n:   -9.3589813561403715\n:   -6.5086784521842316\n:   -3.6583755482280917\n:   -0.80807264427195918\n:   2.0422302596841819\n:   4.8925331636403120\n:   7.7428360675964521\n:   10.593138971552622\n:   13.443441875508723\n:   16.293744779464924\n:   19.14404768342125\n:   21.994350587377126\n:   24.844653491333327\n:   27.694956395289428\n:   30.545259299245529\n:   33.395562203201730\n:   36.245865107157831\n:   39.096168011113932\n:   41.946470915070133\n:   44.796773819026234\n:   47.647076722982335\n:   50.497379626938536\n:   53.347682530894637\n:   56.197985434850838\n:   59.048288338806939\n:   61.89859124276340\n:   64.748894146719241\n:   67.599197050675342\n:   70.449499954631443\n:   73.299802858587644\n:   76.150105762543745\n:   79.000408666499846\n:   81.85071157045647\n:   84.701014474412148\n:   87.551317378368249\n:   90.401620282324450\n:   93.251923186280551\n:   96.102226090236652\n:   98.952528994192853\n:   101.80283189814954\n:   104.65313480210555\n:   107.50343770606156\n:   110.35374061001757\n:   113.20404351397358\n:   116.0543464179359\n:   118.90464932188660\n:   121.75495222584261\n:   124.60525512979862\n:   127.45555803375463\n:   130.3058609377164\n:   133.15616384166665\n:   136.00646674562366\n:   138.85676964957967\n:   141.70707255353568\n:   144.55737545749169\n:   147.40767836144770\n:   150.25798126540371\n:   153.10828416935972\n:   155.95858707331573\n:   158.80888997727274\n:   161.65919288122875\n:   164.50949578518476\n:   167.3597986891477\n:   170.21010159309678\n:   173.06040449705279\n:   175.91070740100880\n:   178.76101030496581\n:   181.61131320892182\n:   184.46161611287783\n:   187.31191901683384\n:   190.16222192078985\n:   193.01252482474586\n:   195.86282772870187\n:   198.71313063265888\n:   201.56343353661489\n:   204.4137364405790\n:   207.26403934452691\n:   210.11434224848292\n:   212.96464515243893\n:   215.81494805639494\n:   218.66525096035195\n:   221.51555386430796\n:   224.36585676826397\n:   227.21615967221998\n:   230.06646257617599\n:   232.916765480131100\n:   235.767068384087\n\n",
            "text/latex": "\\begin{description*}\n\\item[1] -46.4129191075701\n\\item[2] -43.562616203614\n\\item[3] -40.7123132996579\n\\item[4] -37.8620103957017\n\\item[5] -35.0117074917456\n\\item[6] -32.1614045877894\n\\item[7] -29.3111016838333\n\\item[8] -26.4607987798772\n\\item[9] -23.610495875921\n\\item[10] -20.7601929719649\n\\item[11] -17.9098900680088\n\\item[12] -15.0595871640526\n\\item[13] -12.2092842600965\n\\item[14] -9.35898135614037\n\\item[15] -6.50867845218423\n\\item[16] -3.65837554822809\n\\item[17] -0.808072644271959\n\\item[18] 2.04223025968418\n\\item[19] 4.89253316364031\n\\item[20] 7.74283606759645\n\\item[21] 10.5931389715526\n\\item[22] 13.4434418755087\n\\item[23] 16.2937447794649\n\\item[24] 19.144047683421\n\\item[25] 21.9943505873771\n\\item[26] 24.8446534913333\n\\item[27] 27.6949563952894\n\\item[28] 30.5452592992455\n\\item[29] 33.3955622032017\n\\item[30] 36.2458651071578\n\\item[31] 39.0961680111139\n\\item[32] 41.9464709150701\n\\item[33] 44.7967738190262\n\\item[34] 47.6470767229823\n\\item[35] 50.4973796269385\n\\item[36] 53.3476825308946\n\\item[37] 56.1979854348508\n\\item[38] 59.0482883388069\n\\item[39] 61.898591242763\n\\item[40] 64.7488941467192\n\\item[41] 67.5991970506753\n\\item[42] 70.4494999546314\n\\item[43] 73.2998028585876\n\\item[44] 76.1501057625437\n\\item[45] 79.0004086664998\n\\item[46] 81.850711570456\n\\item[47] 84.7010144744121\n\\item[48] 87.5513173783682\n\\item[49] 90.4016202823244\n\\item[50] 93.2519231862805\n\\item[51] 96.1022260902366\n\\item[52] 98.9525289941928\n\\item[53] 101.802831898149\n\\item[54] 104.653134802105\n\\item[55] 107.503437706061\n\\item[56] 110.353740610017\n\\item[57] 113.204043513973\n\\item[58] 116.05434641793\n\\item[59] 118.904649321886\n\\item[60] 121.754952225842\n\\item[61] 124.605255129798\n\\item[62] 127.455558033754\n\\item[63] 130.30586093771\n\\item[64] 133.156163841666\n\\item[65] 136.006466745623\n\\item[66] 138.856769649579\n\\item[67] 141.707072553535\n\\item[68] 144.557375457491\n\\item[69] 147.407678361447\n\\item[70] 150.257981265403\n\\item[71] 153.108284169359\n\\item[72] 155.958587073315\n\\item[73] 158.808889977272\n\\item[74] 161.659192881228\n\\item[75] 164.509495785184\n\\item[76] 167.35979868914\n\\item[77] 170.210101593096\n\\item[78] 173.060404497052\n\\item[79] 175.910707401008\n\\item[80] 178.761010304965\n\\item[81] 181.611313208921\n\\item[82] 184.461616112877\n\\item[83] 187.311919016833\n\\item[84] 190.162221920789\n\\item[85] 193.012524824745\n\\item[86] 195.862827728701\n\\item[87] 198.713130632658\n\\item[88] 201.563433536614\n\\item[89] 204.41373644057\n\\item[90] 207.264039344526\n\\item[91] 210.114342248482\n\\item[92] 212.964645152438\n\\item[93] 215.814948056394\n\\item[94] 218.665250960351\n\\item[95] 221.515553864307\n\\item[96] 224.365856768263\n\\item[97] 227.216159672219\n\\item[98] 230.066462576175\n\\item[99] 232.916765480131\n\\item[100] 235.767068384087\n\\end{description*}\n",
            "text/plain": [
              "          1           2           3           4           5           6 \n",
              "-46.4129191 -43.5626162 -40.7123133 -37.8620104 -35.0117075 -32.1614046 \n",
              "          7           8           9          10          11          12 \n",
              "-29.3111017 -26.4607988 -23.6104959 -20.7601930 -17.9098901 -15.0595872 \n",
              "         13          14          15          16          17          18 \n",
              "-12.2092843  -9.3589814  -6.5086785  -3.6583755  -0.8080726   2.0422303 \n",
              "         19          20          21          22          23          24 \n",
              "  4.8925332   7.7428361  10.5931390  13.4434419  16.2937448  19.1440477 \n",
              "         25          26          27          28          29          30 \n",
              " 21.9943506  24.8446535  27.6949564  30.5452593  33.3955622  36.2458651 \n",
              "         31          32          33          34          35          36 \n",
              " 39.0961680  41.9464709  44.7967738  47.6470767  50.4973796  53.3476825 \n",
              "         37          38          39          40          41          42 \n",
              " 56.1979854  59.0482883  61.8985912  64.7488941  67.5991971  70.4495000 \n",
              "         43          44          45          46          47          48 \n",
              " 73.2998029  76.1501058  79.0004087  81.8507116  84.7010145  87.5513174 \n",
              "         49          50          51          52          53          54 \n",
              " 90.4016203  93.2519232  96.1022261  98.9525290 101.8028319 104.6531348 \n",
              "         55          56          57          58          59          60 \n",
              "107.5034377 110.3537406 113.2040435 116.0543464 118.9046493 121.7549522 \n",
              "         61          62          63          64          65          66 \n",
              "124.6052551 127.4555580 130.3058609 133.1561638 136.0064667 138.8567696 \n",
              "         67          68          69          70          71          72 \n",
              "141.7070726 144.5573755 147.4076784 150.2579813 153.1082842 155.9585871 \n",
              "         73          74          75          76          77          78 \n",
              "158.8088900 161.6591929 164.5094958 167.3597987 170.2101016 173.0604045 \n",
              "         79          80          81          82          83          84 \n",
              "175.9107074 178.7610103 181.6113132 184.4616161 187.3119190 190.1622219 \n",
              "         85          86          87          88          89          90 \n",
              "193.0125248 195.8628277 198.7131306 201.5634335 204.4137364 207.2640393 \n",
              "         91          92          93          94          95          96 \n",
              "210.1143422 212.9646452 215.8149481 218.6652510 221.5155539 224.3658568 \n",
              "         97          98          99         100 \n",
              "227.2161597 230.0664626 232.9167655 235.7670684 "
            ]
          },
          "metadata": {}
        }
      ]
    },
    {
      "cell_type": "code",
      "source": [
        "#evaluate RMSE\n",
        "sqrt(mean((y - yhat)^2))"
      ],
      "metadata": {
        "colab": {
          "base_uri": "https://localhost:8080/",
          "height": 34
        },
        "id": "aQKOzs8BcSbp",
        "outputId": "ec373e5b-5cd9-402c-a5df-704fbbfafdc1"
      },
      "execution_count": null,
      "outputs": [
        {
          "output_type": "display_data",
          "data": {
            "text/html": [
              "22.6299473833432"
            ],
            "text/markdown": "22.6299473833432",
            "text/latex": "22.6299473833432",
            "text/plain": [
              "[1] 22.62995"
            ]
          },
          "metadata": {}
        }
      ]
    },
    {
      "cell_type": "code",
      "source": [
        "model1"
      ],
      "metadata": {
        "colab": {
          "base_uri": "https://localhost:8080/",
          "height": 143
        },
        "id": "EDmg4XK0jSwO",
        "outputId": "232d2f14-1ab2-4d3b-8cc4-c902a32883dd"
      },
      "execution_count": null,
      "outputs": [
        {
          "output_type": "display_data",
          "data": {
            "text/plain": [
              "\n",
              "Call:\n",
              "lm(formula = y ~ x)\n",
              "\n",
              "Coefficients:\n",
              "(Intercept)            x  \n",
              "     -49.26        28.50  \n"
            ]
          },
          "metadata": {}
        }
      ]
    },
    {
      "cell_type": "code",
      "source": [
        "f <- function (x){\n",
        "  return (28.5*x - 49.26)\n",
        "}\n",
        "#data frame with column x, y, yhat\n",
        "df <- data.frame(x = x, y = y, yhat = f(x))\n",
        "ggplot(df) +\n",
        "  geom_point(aes(x, y)) +\n",
        "  geom_line(aes(x, yhat))"
      ],
      "metadata": {
        "colab": {
          "base_uri": "https://localhost:8080/",
          "height": 437
        },
        "id": "8hVoZwELjU8p",
        "outputId": "d0f029f9-026f-4980-9ee4-7b382382ab45"
      },
      "execution_count": null,
      "outputs": [
        {
          "output_type": "display_data",
          "data": {
            "text/plain": [
              "plot without title"
            ],
            "image/png": "[encoded data removed]"
          },
          "metadata": {
            "image/png": {
              "width": 420,
              "height": 420
            }
          }
        }
      ]
    },
    {
      "cell_type": "code",
      "source": [
        "plot(x, y - yhat)"
      ],
      "metadata": {
        "colab": {
          "base_uri": "https://localhost:8080/",
          "height": 437
        },
        "id": "Cjdvm26NleYg",
        "outputId": "71f8c11b-f4e5-46f4-ead8-92938400e043"
      },
      "execution_count": null,
      "outputs": [
        {
          "output_type": "display_data",
          "data": {
            "text/plain": [
              "plot without title"
            ],
            "image/png": "[encoded data removed]"
          },
          "metadata": {
            "image/png": {
              "width": 420,
              "height": 420
            }
          }
        }
      ]
    },
    {
      "cell_type": "code",
      "source": [
        "sample_n(df, 10)"
      ],
      "metadata": {
        "colab": {
          "base_uri": "https://localhost:8080/",
          "height": 411
        },
        "id": "deDYt9LxnVrU",
        "outputId": "14402a28-fb8b-43a6-f5c4-a1d91c0453bf"
      },
      "execution_count": null,
      "outputs": [
        {
          "output_type": "display_data",
          "data": {
            "text/html": [
              "<table class=\"dataframe\">\n",
              "<caption>A data.frame: 10 × 3</caption>\n",
              "<thead>\n",
              "\t<tr><th scope=col>x</th><th scope=col>y</th><th scope=col>yhat</th></tr>\n",
              "\t<tr><th scope=col>&lt;dbl&gt;</th><th scope=col>&lt;dbl&gt;</th><th scope=col>&lt;dbl&gt;</th></tr>\n",
              "</thead>\n",
              "<tbody>\n",
              "\t<tr><td>1.5</td><td>  4.917613</td><td> -6.51</td></tr>\n",
              "\t<tr><td>5.9</td><td> 90.292120</td><td>118.89</td></tr>\n",
              "\t<tr><td>3.3</td><td> 29.831125</td><td> 44.79</td></tr>\n",
              "\t<tr><td>5.2</td><td> 74.841745</td><td> 98.94</td></tr>\n",
              "\t<tr><td>9.0</td><td>233.918712</td><td>207.24</td></tr>\n",
              "\t<tr><td>9.2</td><td>234.649470</td><td>212.94</td></tr>\n",
              "\t<tr><td>6.9</td><td>132.228506</td><td>147.39</td></tr>\n",
              "\t<tr><td>4.3</td><td> 43.947927</td><td> 73.29</td></tr>\n",
              "\t<tr><td>0.6</td><td> -1.755441</td><td>-32.16</td></tr>\n",
              "\t<tr><td>5.1</td><td> 59.136322</td><td> 96.09</td></tr>\n",
              "</tbody>\n",
              "</table>\n"
            ],
            "text/markdown": "\nA data.frame: 10 × 3\n\n| x &lt;dbl&gt; | y &lt;dbl&gt; | yhat &lt;dbl&gt; |\n|---|---|---|\n| 1.5 |   4.917613 |  -6.51 |\n| 5.9 |  90.292120 | 118.89 |\n| 3.3 |  29.831125 |  44.79 |\n| 5.2 |  74.841745 |  98.94 |\n| 9.0 | 233.918712 | 207.24 |\n| 9.2 | 234.649470 | 212.94 |\n| 6.9 | 132.228506 | 147.39 |\n| 4.3 |  43.947927 |  73.29 |\n| 0.6 |  -1.755441 | -32.16 |\n| 5.1 |  59.136322 |  96.09 |\n\n",
            "text/latex": "A data.frame: 10 × 3\n\\begin{tabular}{lll}\n x & y & yhat\\\\\n <dbl> & <dbl> & <dbl>\\\\\n\\hline\n\t 1.5 &   4.917613 &  -6.51\\\\\n\t 5.9 &  90.292120 & 118.89\\\\\n\t 3.3 &  29.831125 &  44.79\\\\\n\t 5.2 &  74.841745 &  98.94\\\\\n\t 9.0 & 233.918712 & 207.24\\\\\n\t 9.2 & 234.649470 & 212.94\\\\\n\t 6.9 & 132.228506 & 147.39\\\\\n\t 4.3 &  43.947927 &  73.29\\\\\n\t 0.6 &  -1.755441 & -32.16\\\\\n\t 5.1 &  59.136322 &  96.09\\\\\n\\end{tabular}\n",
            "text/plain": [
              "   x   y          yhat  \n",
              "1  1.5   4.917613  -6.51\n",
              "2  5.9  90.292120 118.89\n",
              "3  3.3  29.831125  44.79\n",
              "4  5.2  74.841745  98.94\n",
              "5  9.0 233.918712 207.24\n",
              "6  9.2 234.649470 212.94\n",
              "7  6.9 132.228506 147.39\n",
              "8  4.3  43.947927  73.29\n",
              "9  0.6  -1.755441 -32.16\n",
              "10 5.1  59.136322  96.09"
            ]
          },
          "metadata": {}
        }
      ]
    },
    {
      "cell_type": "code",
      "source": [
        "xsamp <- sample_n(df, 30)"
      ],
      "metadata": {
        "id": "Ou8jPxN9ooT6"
      },
      "execution_count": null,
      "outputs": []
    },
    {
      "cell_type": "code",
      "source": [
        "lm(y ~ x, data = xsamp)"
      ],
      "metadata": {
        "colab": {
          "base_uri": "https://localhost:8080/",
          "height": 143
        },
        "id": "R3vbZ_nXpCJe",
        "outputId": "cc158cc3-3dc0-42a7-aa0e-b9c8e5225d3d"
      },
      "execution_count": null,
      "outputs": [
        {
          "output_type": "display_data",
          "data": {
            "text/plain": [
              "\n",
              "Call:\n",
              "lm(formula = y ~ x, data = xsamp)\n",
              "\n",
              "Coefficients:\n",
              "(Intercept)            x  \n",
              "     -52.57        29.89  \n"
            ]
          },
          "metadata": {}
        }
      ]
    },
    {
      "cell_type": "code",
      "source": [
        "#repeat on five samples\n",
        "rmses <- c(0, 0, 0, 0, 0)\n",
        "for (i in 1:5){\n",
        "  xsamp <- sample_n(df, 30)\n",
        "  samp_model <- lm(xsamp$y ~ xsamp$x)\n",
        "  yhat <- predict(samp_model, newdata = data.frame(xsamp$x))\n",
        "  rmse <- sqrt(mean((xsamp$y - yhat)^2))\n",
        "  rmses[i] = rmse\n",
        "}"
      ],
      "metadata": {
        "id": "Ft1DH7locU0n"
      },
      "execution_count": null,
      "outputs": []
    },
    {
      "cell_type": "code",
      "source": [
        "rmses"
      ],
      "metadata": {
        "colab": {
          "base_uri": "https://localhost:8080/",
          "height": 34
        },
        "id": "uWntpM5lpXs7",
        "outputId": "b98900e0-6b48-4ae7-a8f6-5ca0303e29a0"
      },
      "execution_count": null,
      "outputs": [
        {
          "output_type": "display_data",
          "data": {
            "text/html": [
              "<style>\n",
              ".list-inline {list-style: none; margin:0; padding: 0}\n",
              ".list-inline>li {display: inline-block}\n",
              ".list-inline>li:not(:last-child)::after {content: \"\\00b7\"; padding: 0 .5ex}\n",
              "</style>\n",
              "<ol class=list-inline><li>22.5652197450544</li><li>21.4284719528037</li><li>21.8066303227065</li><li>23.6932379726966</li><li>24.039179000287</li></ol>\n"
            ],
            "text/markdown": "1. 22.5652197450544\n2. 21.4284719528037\n3. 21.8066303227065\n4. 23.6932379726966\n5. 24.039179000287\n\n\n",
            "text/latex": "\\begin{enumerate*}\n\\item 22.5652197450544\n\\item 21.4284719528037\n\\item 21.8066303227065\n\\item 23.6932379726966\n\\item 24.039179000287\n\\end{enumerate*}\n",
            "text/plain": [
              "[1] 22.56522 21.42847 21.80663 23.69324 24.03918"
            ]
          },
          "metadata": {}
        }
      ]
    },
    {
      "cell_type": "code",
      "source": [
        "#try quadratic model\n",
        "rmses <- c(0, 0, 0, 0, 0)\n",
        "for (i in 1:5){\n",
        "  xsamp <- sample_n(df, 30)\n",
        "  samp_model <- lm(xsamp$y ~ poly(xsamp$x, 2, raw = TRUE))\n",
        "  yhat <- predict(samp_model, newdata = data.frame(xsamp$x))\n",
        "  rmse <- sqrt(mean((xsamp$y - yhat)^2))\n",
        "  rmses[i] = rmse\n",
        "}"
      ],
      "metadata": {
        "id": "9fOxRJMMcYLt"
      },
      "execution_count": null,
      "outputs": []
    },
    {
      "cell_type": "code",
      "source": [
        "rmses"
      ],
      "metadata": {
        "colab": {
          "base_uri": "https://localhost:8080/",
          "height": 34
        },
        "id": "7lPzrk7UrJ2r",
        "outputId": "3af53dc0-90ca-49ff-9321-d038ee8ea770"
      },
      "execution_count": null,
      "outputs": [
        {
          "output_type": "display_data",
          "data": {
            "text/html": [
              "<style>\n",
              ".list-inline {list-style: none; margin:0; padding: 0}\n",
              ".list-inline>li {display: inline-block}\n",
              ".list-inline>li:not(:last-child)::after {content: \"\\00b7\"; padding: 0 .5ex}\n",
              "</style>\n",
              "<ol class=list-inline><li>4.9014052797474</li><li>4.27842428664354</li><li>3.83157642975098</li><li>4.28597143854582</li><li>5.70984494510167</li></ol>\n"
            ],
            "text/markdown": "1. 4.9014052797474\n2. 4.27842428664354\n3. 3.83157642975098\n4. 4.28597143854582\n5. 5.70984494510167\n\n\n",
            "text/latex": "\\begin{enumerate*}\n\\item 4.9014052797474\n\\item 4.27842428664354\n\\item 3.83157642975098\n\\item 4.28597143854582\n\\item 5.70984494510167\n\\end{enumerate*}\n",
            "text/plain": [
              "[1] 4.901405 4.278424 3.831576 4.285971 5.709845"
            ]
          },
          "metadata": {}
        }
      ]
    },
    {
      "cell_type": "code",
      "source": [
        "yhat"
      ],
      "metadata": {
        "colab": {
          "base_uri": "https://localhost:8080/",
          "height": 104
        },
        "id": "zg5PBdhxvgHl",
        "outputId": "5f546337-8db9-4723-906f-88d60b88d7b6"
      },
      "execution_count": null,
      "outputs": [
        {
          "output_type": "display_data",
          "data": {
            "text/html": [
              "<style>\n",
              ".dl-inline {width: auto; margin:0; padding: 0}\n",
              ".dl-inline>dt, .dl-inline>dd {float: none; width: auto; display: inline-block}\n",
              ".dl-inline>dt::after {content: \":\\0020\"; padding-right: .5ex}\n",
              ".dl-inline>dt:not(:first-of-type) {padding-left: .5ex}\n",
              "</style><dl class=dl-inline><dt>1</dt><dd>248.143765567464</dd><dt>2</dt><dd>164.947295545789</dd><dt>3</dt><dd>227.044313314162</dd><dt>4</dt><dd>143.710176330251</dd><dt>5</dt><dd>237.477095289915</dd><dt>6</dt><dd>4.02110509896542</dd><dt>7</dt><dd>216.845637380915</dd><dt>8</dt><dd>25.5262838665199</dd><dt>9</dt><dd>275.832273658293</dd><dt>10</dt><dd>182.997000330772</dd><dt>11</dt><dd>20.8246630663708</dd><dt>12</dt><dd>281.5449288038</dd><dt>13</dt><dd>2.83714366099706</dd><dt>14</dt><dd>109.203682934726</dd><dt>15</dt><dd>2.78276252003419</dd><dt>16</dt><dd>22.3316922887492</dd><dt>17</dt><dd>42.8753535786639</dd><dt>18</dt><dd>120.173474763412</dd><dt>19</dt><dd>105.665572139419</dd><dt>20</dt><dd>65.0753018855876</dd><dt>21</dt><dd>264.581835241855</dd><dt>22</dt><dd>2.98493130700294</dd><dt>23</dt><dd>59.7237844325011</dd><dt>24</dt><dd>19.3778478451152</dd><dt>25</dt><dd>127.782613342288</dd><dt>26</dt><dd>30.7690958018808</dd><dt>27</dt><dd>9.07063180646943</dd><dt>28</dt><dd>152.02816525792</dd><dt>29</dt><dd>135.62825311147</dd><dt>30</dt><dd>79.4973617663224</dd></dl>\n"
            ],
            "text/markdown": "1\n:   248.1437655674642\n:   164.9472955457893\n:   227.0443133141624\n:   143.7101763302515\n:   237.4770952899156\n:   4.021105098965427\n:   216.8456373809158\n:   25.52628386651999\n:   275.83227365829310\n:   182.99700033077211\n:   20.824663066370812\n:   281.544928803813\n:   2.8371436609970614\n:   109.20368293472615\n:   2.7827625200341916\n:   22.331692288749217\n:   42.875353578663918\n:   120.17347476341219\n:   105.66557213941920\n:   65.075301885587621\n:   264.58183524185522\n:   2.9849313070029423\n:   59.723784432501124\n:   19.377847845115225\n:   127.78261334228826\n:   30.769095801880827\n:   9.0706318064694328\n:   152.0281652579229\n:   135.6282531114730\n:   79.4973617663224\n\n",
            "text/latex": "\\begin{description*}\n\\item[1] 248.143765567464\n\\item[2] 164.947295545789\n\\item[3] 227.044313314162\n\\item[4] 143.710176330251\n\\item[5] 237.477095289915\n\\item[6] 4.02110509896542\n\\item[7] 216.845637380915\n\\item[8] 25.5262838665199\n\\item[9] 275.832273658293\n\\item[10] 182.997000330772\n\\item[11] 20.8246630663708\n\\item[12] 281.5449288038\n\\item[13] 2.83714366099706\n\\item[14] 109.203682934726\n\\item[15] 2.78276252003419\n\\item[16] 22.3316922887492\n\\item[17] 42.8753535786639\n\\item[18] 120.173474763412\n\\item[19] 105.665572139419\n\\item[20] 65.0753018855876\n\\item[21] 264.581835241855\n\\item[22] 2.98493130700294\n\\item[23] 59.7237844325011\n\\item[24] 19.3778478451152\n\\item[25] 127.782613342288\n\\item[26] 30.7690958018808\n\\item[27] 9.07063180646943\n\\item[28] 152.02816525792\n\\item[29] 135.62825311147\n\\item[30] 79.4973617663224\n\\end{description*}\n",
            "text/plain": [
              "         1          2          3          4          5          6          7 \n",
              "248.143766 164.947296 227.044313 143.710176 237.477095   4.021105 216.845637 \n",
              "         8          9         10         11         12         13         14 \n",
              " 25.526284 275.832274 182.997000  20.824663 281.544929   2.837144 109.203683 \n",
              "        15         16         17         18         19         20         21 \n",
              "  2.782763  22.331692  42.875354 120.173475 105.665572  65.075302 264.581835 \n",
              "        22         23         24         25         26         27         28 \n",
              "  2.984931  59.723784  19.377848 127.782613  30.769096   9.070632 152.028165 \n",
              "        29         30 \n",
              "135.628253  79.497362 "
            ]
          },
          "metadata": {}
        }
      ]
    },
    {
      "cell_type": "code",
      "source": [
        "predict(samp_model, newdata = out_sample)"
      ],
      "metadata": {
        "colab": {
          "base_uri": "https://localhost:8080/",
          "height": 140
        },
        "id": "GjmX87e_vnvV",
        "outputId": "0daa6600-105c-4ed6-f698-2b355706d062"
      },
      "execution_count": null,
      "outputs": [
        {
          "output_type": "stream",
          "name": "stderr",
          "text": [
            "Warning message:\n",
            "“'newdata' had 70 rows but variables found have 30 rows”\n"
          ]
        },
        {
          "output_type": "display_data",
          "data": {
            "text/html": [
              "<style>\n",
              ".dl-inline {width: auto; margin:0; padding: 0}\n",
              ".dl-inline>dt, .dl-inline>dd {float: none; width: auto; display: inline-block}\n",
              ".dl-inline>dt::after {content: \":\\0020\"; padding-right: .5ex}\n",
              ".dl-inline>dt:not(:first-of-type) {padding-left: .5ex}\n",
              "</style><dl class=dl-inline><dt>1</dt><dd>248.143765567464</dd><dt>2</dt><dd>164.947295545789</dd><dt>3</dt><dd>227.044313314162</dd><dt>4</dt><dd>143.710176330251</dd><dt>5</dt><dd>237.477095289915</dd><dt>6</dt><dd>4.02110509896542</dd><dt>7</dt><dd>216.845637380915</dd><dt>8</dt><dd>25.5262838665199</dd><dt>9</dt><dd>275.832273658293</dd><dt>10</dt><dd>182.997000330772</dd><dt>11</dt><dd>20.8246630663708</dd><dt>12</dt><dd>281.5449288038</dd><dt>13</dt><dd>2.83714366099706</dd><dt>14</dt><dd>109.203682934726</dd><dt>15</dt><dd>2.78276252003419</dd><dt>16</dt><dd>22.3316922887492</dd><dt>17</dt><dd>42.8753535786639</dd><dt>18</dt><dd>120.173474763412</dd><dt>19</dt><dd>105.665572139419</dd><dt>20</dt><dd>65.0753018855876</dd><dt>21</dt><dd>264.581835241855</dd><dt>22</dt><dd>2.98493130700294</dd><dt>23</dt><dd>59.7237844325011</dd><dt>24</dt><dd>19.3778478451152</dd><dt>25</dt><dd>127.782613342288</dd><dt>26</dt><dd>30.7690958018808</dd><dt>27</dt><dd>9.07063180646943</dd><dt>28</dt><dd>152.02816525792</dd><dt>29</dt><dd>135.62825311147</dd><dt>30</dt><dd>79.4973617663224</dd></dl>\n"
            ],
            "text/markdown": "1\n:   248.1437655674642\n:   164.9472955457893\n:   227.0443133141624\n:   143.7101763302515\n:   237.4770952899156\n:   4.021105098965427\n:   216.8456373809158\n:   25.52628386651999\n:   275.83227365829310\n:   182.99700033077211\n:   20.824663066370812\n:   281.544928803813\n:   2.8371436609970614\n:   109.20368293472615\n:   2.7827625200341916\n:   22.331692288749217\n:   42.875353578663918\n:   120.17347476341219\n:   105.66557213941920\n:   65.075301885587621\n:   264.58183524185522\n:   2.9849313070029423\n:   59.723784432501124\n:   19.377847845115225\n:   127.78261334228826\n:   30.769095801880827\n:   9.0706318064694328\n:   152.0281652579229\n:   135.6282531114730\n:   79.4973617663224\n\n",
            "text/latex": "\\begin{description*}\n\\item[1] 248.143765567464\n\\item[2] 164.947295545789\n\\item[3] 227.044313314162\n\\item[4] 143.710176330251\n\\item[5] 237.477095289915\n\\item[6] 4.02110509896542\n\\item[7] 216.845637380915\n\\item[8] 25.5262838665199\n\\item[9] 275.832273658293\n\\item[10] 182.997000330772\n\\item[11] 20.8246630663708\n\\item[12] 281.5449288038\n\\item[13] 2.83714366099706\n\\item[14] 109.203682934726\n\\item[15] 2.78276252003419\n\\item[16] 22.3316922887492\n\\item[17] 42.8753535786639\n\\item[18] 120.173474763412\n\\item[19] 105.665572139419\n\\item[20] 65.0753018855876\n\\item[21] 264.581835241855\n\\item[22] 2.98493130700294\n\\item[23] 59.7237844325011\n\\item[24] 19.3778478451152\n\\item[25] 127.782613342288\n\\item[26] 30.7690958018808\n\\item[27] 9.07063180646943\n\\item[28] 152.02816525792\n\\item[29] 135.62825311147\n\\item[30] 79.4973617663224\n\\end{description*}\n",
            "text/plain": [
              "         1          2          3          4          5          6          7 \n",
              "248.143766 164.947296 227.044313 143.710176 237.477095   4.021105 216.845637 \n",
              "         8          9         10         11         12         13         14 \n",
              " 25.526284 275.832274 182.997000  20.824663 281.544929   2.837144 109.203683 \n",
              "        15         16         17         18         19         20         21 \n",
              "  2.782763  22.331692  42.875354 120.173475 105.665572  65.075302 264.581835 \n",
              "        22         23         24         25         26         27         28 \n",
              "  2.984931  59.723784  19.377848 127.782613  30.769096   9.070632 152.028165 \n",
              "        29         30 \n",
              "135.628253  79.497362 "
            ]
          },
          "metadata": {}
        }
      ]
    },
    {
      "cell_type": "code",
      "source": [
        "xsamp <- sample_n(df, 30)\n",
        "samp_model <- lm(xsamp$y ~ poly(xsamp$x, 3, raw = TRUE))\n",
        "newy <- filter(df, !x %in% xsamp$x)\n",
        "yhat <- predict(samp_model, newdata = newy)"
      ],
      "metadata": {
        "colab": {
          "base_uri": "https://localhost:8080/"
        },
        "id": "K2QqILlHwTa3",
        "outputId": "0f672ebd-2482-44a1-e52d-e15994030d5b"
      },
      "execution_count": null,
      "outputs": [
        {
          "output_type": "stream",
          "name": "stderr",
          "text": [
            "Warning message:\n",
            "“'newdata' had 70 rows but variables found have 30 rows”\n"
          ]
        }
      ]
    },
    {
      "cell_type": "code",
      "source": [],
      "metadata": {
        "id": "e7EiqL7xwTQ-"
      },
      "execution_count": null,
      "outputs": []
    },
    {
      "cell_type": "code",
      "source": [],
      "metadata": {
        "id": "OqGhlkEowTK8"
      },
      "execution_count": null,
      "outputs": []
    },
    {
      "cell_type": "code",
      "source": [
        "rmses <- c(0, 0, 0, 0, 0)\n",
        "for (i in 1:5){\n",
        "  xsamp <- sample_n(df, 30)\n",
        "  samp_model <- lm(xsamp$y ~ poly(xsamp$x, 3, raw = TRUE))\n",
        "  # out_sample <- filter(df, !x %in% xsamp$x)\n",
        "  yhat <- predict(samp_model, newdata = df)\n",
        "  rmse <- sqrt(mean((df$y - yhat)^2))\n",
        "  rmses[i] = rmse\n",
        "}\n",
        "rmses"
      ],
      "metadata": {
        "colab": {
          "base_uri": "https://localhost:8080/",
          "height": 394
        },
        "id": "AX8193H4rft1",
        "outputId": "341ac76a-6a82-4600-b1bb-0add964f04c0"
      },
      "execution_count": null,
      "outputs": [
        {
          "output_type": "stream",
          "name": "stderr",
          "text": [
            "Warning message:\n",
            "“'newdata' had 100 rows but variables found have 30 rows”\n",
            "Warning message in df$y - yhat:\n",
            "“longer object length is not a multiple of shorter object length”\n",
            "Warning message:\n",
            "“'newdata' had 100 rows but variables found have 30 rows”\n",
            "Warning message in df$y - yhat:\n",
            "“longer object length is not a multiple of shorter object length”\n",
            "Warning message:\n",
            "“'newdata' had 100 rows but variables found have 30 rows”\n",
            "Warning message in df$y - yhat:\n",
            "“longer object length is not a multiple of shorter object length”\n",
            "Warning message:\n",
            "“'newdata' had 100 rows but variables found have 30 rows”\n",
            "Warning message in df$y - yhat:\n",
            "“longer object length is not a multiple of shorter object length”\n",
            "Warning message:\n",
            "“'newdata' had 100 rows but variables found have 30 rows”\n",
            "Warning message in df$y - yhat:\n",
            "“longer object length is not a multiple of shorter object length”\n"
          ]
        },
        {
          "output_type": "display_data",
          "data": {
            "text/html": [
              "<style>\n",
              ".list-inline {list-style: none; margin:0; padding: 0}\n",
              ".list-inline>li {display: inline-block}\n",
              ".list-inline>li:not(:last-child)::after {content: \"\\00b7\"; padding: 0 .5ex}\n",
              "</style>\n",
              "<ol class=list-inline><li>125.918376542373</li><li>128.880976968377</li><li>112.661724234602</li><li>131.605668375062</li><li>122.077566599618</li></ol>\n"
            ],
            "text/markdown": "1. 125.918376542373\n2. 128.880976968377\n3. 112.661724234602\n4. 131.605668375062\n5. 122.077566599618\n\n\n",
            "text/latex": "\\begin{enumerate*}\n\\item 125.918376542373\n\\item 128.880976968377\n\\item 112.661724234602\n\\item 131.605668375062\n\\item 122.077566599618\n\\end{enumerate*}\n",
            "text/plain": [
              "[1] 125.9184 128.8810 112.6617 131.6057 122.0776"
            ]
          },
          "metadata": {}
        }
      ]
    },
    {
      "cell_type": "code",
      "source": [
        "filter(df, !x %in% xsamp$x)"
      ],
      "metadata": {
        "colab": {
          "base_uri": "https://localhost:8080/",
          "height": 1000
        },
        "id": "9JYJDasOs9AR",
        "outputId": "e13cc338-f4ad-41c2-e1f6-543e10a81e64"
      },
      "execution_count": null,
      "outputs": [
        {
          "output_type": "display_data",
          "data": {
            "text/html": [
              "<table class=\"dataframe\">\n",
              "<caption>A data.frame: 80 × 3</caption>\n",
              "<thead>\n",
              "\t<tr><th scope=col>x</th><th scope=col>y</th><th scope=col>yhat</th></tr>\n",
              "\t<tr><th scope=col>&lt;dbl&gt;</th><th scope=col>&lt;dbl&gt;</th><th scope=col>&lt;dbl&gt;</th></tr>\n",
              "</thead>\n",
              "<tbody>\n",
              "\t<tr><td>0.1</td><td>11.1917754</td><td>-46.41</td></tr>\n",
              "\t<tr><td>0.3</td><td>-3.8554512</td><td>-40.71</td></tr>\n",
              "\t<tr><td>0.4</td><td>-1.1484573</td><td>-37.86</td></tr>\n",
              "\t<tr><td>0.5</td><td>-0.7128059</td><td>-35.01</td></tr>\n",
              "\t<tr><td>0.6</td><td>-1.7554407</td><td>-32.16</td></tr>\n",
              "\t<tr><td>0.7</td><td> 2.0354362</td><td>-29.31</td></tr>\n",
              "\t<tr><td>0.8</td><td> 2.2118888</td><td>-26.46</td></tr>\n",
              "\t<tr><td>0.9</td><td> 7.9471430</td><td>-23.61</td></tr>\n",
              "\t<tr><td>1.0</td><td>-3.4701625</td><td>-20.76</td></tr>\n",
              "\t<tr><td>1.2</td><td>10.0276893</td><td>-15.06</td></tr>\n",
              "\t<tr><td>1.3</td><td> 4.6149714</td><td>-12.21</td></tr>\n",
              "\t<tr><td>1.5</td><td> 4.9176132</td><td> -6.51</td></tr>\n",
              "\t<tr><td>1.7</td><td> 6.4613796</td><td> -0.81</td></tr>\n",
              "\t<tr><td>1.8</td><td>12.9051530</td><td>  2.04</td></tr>\n",
              "\t<tr><td>1.9</td><td>17.7954643</td><td>  4.89</td></tr>\n",
              "\t<tr><td>2.0</td><td> 6.9351766</td><td>  7.74</td></tr>\n",
              "\t<tr><td>2.3</td><td> 5.2164835</td><td> 16.29</td></tr>\n",
              "\t<tr><td>2.6</td><td>16.5262128</td><td> 24.84</td></tr>\n",
              "\t<tr><td>2.7</td><td>17.4280470</td><td> 27.69</td></tr>\n",
              "\t<tr><td>2.8</td><td>22.0767763</td><td> 30.54</td></tr>\n",
              "\t<tr><td>2.9</td><td>24.7403088</td><td> 33.39</td></tr>\n",
              "\t<tr><td>3.0</td><td>34.5257201</td><td> 36.24</td></tr>\n",
              "\t<tr><td>3.1</td><td>31.8559426</td><td> 39.09</td></tr>\n",
              "\t<tr><td>3.2</td><td>22.2239834</td><td> 41.94</td></tr>\n",
              "\t<tr><td>3.3</td><td>29.8311245</td><td> 44.79</td></tr>\n",
              "\t<tr><td>3.4</td><td>32.1285495</td><td> 47.64</td></tr>\n",
              "\t<tr><td>3.5</td><td>36.2669756</td><td> 50.49</td></tr>\n",
              "\t<tr><td>3.6</td><td>30.8308671</td><td> 53.34</td></tr>\n",
              "\t<tr><td>3.7</td><td>38.4503723</td><td> 56.19</td></tr>\n",
              "\t<tr><td>3.9</td><td>35.6730004</td><td> 61.89</td></tr>\n",
              "\t<tr><td>⋮</td><td>⋮</td><td>⋮</td></tr>\n",
              "\t<tr><td> 6.3</td><td>113.5388</td><td>130.29</td></tr>\n",
              "\t<tr><td> 6.4</td><td>129.7194</td><td>133.14</td></tr>\n",
              "\t<tr><td> 6.5</td><td>120.2752</td><td>135.99</td></tr>\n",
              "\t<tr><td> 6.6</td><td>119.7061</td><td>138.84</td></tr>\n",
              "\t<tr><td> 6.7</td><td>129.6231</td><td>141.69</td></tr>\n",
              "\t<tr><td> 6.9</td><td>132.2285</td><td>147.39</td></tr>\n",
              "\t<tr><td> 7.0</td><td>137.2779</td><td>150.24</td></tr>\n",
              "\t<tr><td> 7.1</td><td>143.4519</td><td>153.09</td></tr>\n",
              "\t<tr><td> 7.2</td><td>148.0892</td><td>155.94</td></tr>\n",
              "\t<tr><td> 7.5</td><td>154.4026</td><td>164.49</td></tr>\n",
              "\t<tr><td> 7.6</td><td>163.0364</td><td>167.34</td></tr>\n",
              "\t<tr><td> 7.7</td><td>158.5906</td><td>170.19</td></tr>\n",
              "\t<tr><td> 7.8</td><td>171.1860</td><td>173.04</td></tr>\n",
              "\t<tr><td> 7.9</td><td>170.9061</td><td>175.89</td></tr>\n",
              "\t<tr><td> 8.0</td><td>187.5506</td><td>178.74</td></tr>\n",
              "\t<tr><td> 8.3</td><td>186.8442</td><td>187.29</td></tr>\n",
              "\t<tr><td> 8.4</td><td>197.1353</td><td>190.14</td></tr>\n",
              "\t<tr><td> 8.6</td><td>217.1901</td><td>195.84</td></tr>\n",
              "\t<tr><td> 8.7</td><td>211.5163</td><td>198.69</td></tr>\n",
              "\t<tr><td> 8.8</td><td>214.0969</td><td>201.54</td></tr>\n",
              "\t<tr><td> 8.9</td><td>222.1835</td><td>204.39</td></tr>\n",
              "\t<tr><td> 9.0</td><td>233.9187</td><td>207.24</td></tr>\n",
              "\t<tr><td> 9.2</td><td>234.6495</td><td>212.94</td></tr>\n",
              "\t<tr><td> 9.3</td><td>247.6158</td><td>215.79</td></tr>\n",
              "\t<tr><td> 9.5</td><td>254.5558</td><td>221.49</td></tr>\n",
              "\t<tr><td> 9.6</td><td>265.7053</td><td>224.34</td></tr>\n",
              "\t<tr><td> 9.7</td><td>263.4533</td><td>227.19</td></tr>\n",
              "\t<tr><td> 9.8</td><td>271.1469</td><td>230.04</td></tr>\n",
              "\t<tr><td> 9.9</td><td>273.1337</td><td>232.89</td></tr>\n",
              "\t<tr><td>10.0</td><td>280.6185</td><td>235.74</td></tr>\n",
              "</tbody>\n",
              "</table>\n"
            ],
            "text/markdown": "\nA data.frame: 80 × 3\n\n| x &lt;dbl&gt; | y &lt;dbl&gt; | yhat &lt;dbl&gt; |\n|---|---|---|\n| 0.1 | 11.1917754 | -46.41 |\n| 0.3 | -3.8554512 | -40.71 |\n| 0.4 | -1.1484573 | -37.86 |\n| 0.5 | -0.7128059 | -35.01 |\n| 0.6 | -1.7554407 | -32.16 |\n| 0.7 |  2.0354362 | -29.31 |\n| 0.8 |  2.2118888 | -26.46 |\n| 0.9 |  7.9471430 | -23.61 |\n| 1.0 | -3.4701625 | -20.76 |\n| 1.2 | 10.0276893 | -15.06 |\n| 1.3 |  4.6149714 | -12.21 |\n| 1.5 |  4.9176132 |  -6.51 |\n| 1.7 |  6.4613796 |  -0.81 |\n| 1.8 | 12.9051530 |   2.04 |\n| 1.9 | 17.7954643 |   4.89 |\n| 2.0 |  6.9351766 |   7.74 |\n| 2.3 |  5.2164835 |  16.29 |\n| 2.6 | 16.5262128 |  24.84 |\n| 2.7 | 17.4280470 |  27.69 |\n| 2.8 | 22.0767763 |  30.54 |\n| 2.9 | 24.7403088 |  33.39 |\n| 3.0 | 34.5257201 |  36.24 |\n| 3.1 | 31.8559426 |  39.09 |\n| 3.2 | 22.2239834 |  41.94 |\n| 3.3 | 29.8311245 |  44.79 |\n| 3.4 | 32.1285495 |  47.64 |\n| 3.5 | 36.2669756 |  50.49 |\n| 3.6 | 30.8308671 |  53.34 |\n| 3.7 | 38.4503723 |  56.19 |\n| 3.9 | 35.6730004 |  61.89 |\n| ⋮ | ⋮ | ⋮ |\n|  6.3 | 113.5388 | 130.29 |\n|  6.4 | 129.7194 | 133.14 |\n|  6.5 | 120.2752 | 135.99 |\n|  6.6 | 119.7061 | 138.84 |\n|  6.7 | 129.6231 | 141.69 |\n|  6.9 | 132.2285 | 147.39 |\n|  7.0 | 137.2779 | 150.24 |\n|  7.1 | 143.4519 | 153.09 |\n|  7.2 | 148.0892 | 155.94 |\n|  7.5 | 154.4026 | 164.49 |\n|  7.6 | 163.0364 | 167.34 |\n|  7.7 | 158.5906 | 170.19 |\n|  7.8 | 171.1860 | 173.04 |\n|  7.9 | 170.9061 | 175.89 |\n|  8.0 | 187.5506 | 178.74 |\n|  8.3 | 186.8442 | 187.29 |\n|  8.4 | 197.1353 | 190.14 |\n|  8.6 | 217.1901 | 195.84 |\n|  8.7 | 211.5163 | 198.69 |\n|  8.8 | 214.0969 | 201.54 |\n|  8.9 | 222.1835 | 204.39 |\n|  9.0 | 233.9187 | 207.24 |\n|  9.2 | 234.6495 | 212.94 |\n|  9.3 | 247.6158 | 215.79 |\n|  9.5 | 254.5558 | 221.49 |\n|  9.6 | 265.7053 | 224.34 |\n|  9.7 | 263.4533 | 227.19 |\n|  9.8 | 271.1469 | 230.04 |\n|  9.9 | 273.1337 | 232.89 |\n| 10.0 | 280.6185 | 235.74 |\n\n",
            "text/latex": "A data.frame: 80 × 3\n\\begin{tabular}{lll}\n x & y & yhat\\\\\n <dbl> & <dbl> & <dbl>\\\\\n\\hline\n\t 0.1 & 11.1917754 & -46.41\\\\\n\t 0.3 & -3.8554512 & -40.71\\\\\n\t 0.4 & -1.1484573 & -37.86\\\\\n\t 0.5 & -0.7128059 & -35.01\\\\\n\t 0.6 & -1.7554407 & -32.16\\\\\n\t 0.7 &  2.0354362 & -29.31\\\\\n\t 0.8 &  2.2118888 & -26.46\\\\\n\t 0.9 &  7.9471430 & -23.61\\\\\n\t 1.0 & -3.4701625 & -20.76\\\\\n\t 1.2 & 10.0276893 & -15.06\\\\\n\t 1.3 &  4.6149714 & -12.21\\\\\n\t 1.5 &  4.9176132 &  -6.51\\\\\n\t 1.7 &  6.4613796 &  -0.81\\\\\n\t 1.8 & 12.9051530 &   2.04\\\\\n\t 1.9 & 17.7954643 &   4.89\\\\\n\t 2.0 &  6.9351766 &   7.74\\\\\n\t 2.3 &  5.2164835 &  16.29\\\\\n\t 2.6 & 16.5262128 &  24.84\\\\\n\t 2.7 & 17.4280470 &  27.69\\\\\n\t 2.8 & 22.0767763 &  30.54\\\\\n\t 2.9 & 24.7403088 &  33.39\\\\\n\t 3.0 & 34.5257201 &  36.24\\\\\n\t 3.1 & 31.8559426 &  39.09\\\\\n\t 3.2 & 22.2239834 &  41.94\\\\\n\t 3.3 & 29.8311245 &  44.79\\\\\n\t 3.4 & 32.1285495 &  47.64\\\\\n\t 3.5 & 36.2669756 &  50.49\\\\\n\t 3.6 & 30.8308671 &  53.34\\\\\n\t 3.7 & 38.4503723 &  56.19\\\\\n\t 3.9 & 35.6730004 &  61.89\\\\\n\t ⋮ & ⋮ & ⋮\\\\\n\t  6.3 & 113.5388 & 130.29\\\\\n\t  6.4 & 129.7194 & 133.14\\\\\n\t  6.5 & 120.2752 & 135.99\\\\\n\t  6.6 & 119.7061 & 138.84\\\\\n\t  6.7 & 129.6231 & 141.69\\\\\n\t  6.9 & 132.2285 & 147.39\\\\\n\t  7.0 & 137.2779 & 150.24\\\\\n\t  7.1 & 143.4519 & 153.09\\\\\n\t  7.2 & 148.0892 & 155.94\\\\\n\t  7.5 & 154.4026 & 164.49\\\\\n\t  7.6 & 163.0364 & 167.34\\\\\n\t  7.7 & 158.5906 & 170.19\\\\\n\t  7.8 & 171.1860 & 173.04\\\\\n\t  7.9 & 170.9061 & 175.89\\\\\n\t  8.0 & 187.5506 & 178.74\\\\\n\t  8.3 & 186.8442 & 187.29\\\\\n\t  8.4 & 197.1353 & 190.14\\\\\n\t  8.6 & 217.1901 & 195.84\\\\\n\t  8.7 & 211.5163 & 198.69\\\\\n\t  8.8 & 214.0969 & 201.54\\\\\n\t  8.9 & 222.1835 & 204.39\\\\\n\t  9.0 & 233.9187 & 207.24\\\\\n\t  9.2 & 234.6495 & 212.94\\\\\n\t  9.3 & 247.6158 & 215.79\\\\\n\t  9.5 & 254.5558 & 221.49\\\\\n\t  9.6 & 265.7053 & 224.34\\\\\n\t  9.7 & 263.4533 & 227.19\\\\\n\t  9.8 & 271.1469 & 230.04\\\\\n\t  9.9 & 273.1337 & 232.89\\\\\n\t 10.0 & 280.6185 & 235.74\\\\\n\\end{tabular}\n",
            "text/plain": [
              "   x    y          yhat  \n",
              "1  0.1  11.1917754 -46.41\n",
              "2  0.3  -3.8554512 -40.71\n",
              "3  0.4  -1.1484573 -37.86\n",
              "4  0.5  -0.7128059 -35.01\n",
              "5  0.6  -1.7554407 -32.16\n",
              "6  0.7   2.0354362 -29.31\n",
              "7  0.8   2.2118888 -26.46\n",
              "8  0.9   7.9471430 -23.61\n",
              "9  1.0  -3.4701625 -20.76\n",
              "10 1.2  10.0276893 -15.06\n",
              "11 1.3   4.6149714 -12.21\n",
              "12 1.5   4.9176132  -6.51\n",
              "13 1.7   6.4613796  -0.81\n",
              "14 1.8  12.9051530   2.04\n",
              "15 1.9  17.7954643   4.89\n",
              "16 2.0   6.9351766   7.74\n",
              "17 2.3   5.2164835  16.29\n",
              "18 2.6  16.5262128  24.84\n",
              "19 2.7  17.4280470  27.69\n",
              "20 2.8  22.0767763  30.54\n",
              "21 2.9  24.7403088  33.39\n",
              "22 3.0  34.5257201  36.24\n",
              "23 3.1  31.8559426  39.09\n",
              "24 3.2  22.2239834  41.94\n",
              "25 3.3  29.8311245  44.79\n",
              "26 3.4  32.1285495  47.64\n",
              "27 3.5  36.2669756  50.49\n",
              "28 3.6  30.8308671  53.34\n",
              "29 3.7  38.4503723  56.19\n",
              "30 3.9  35.6730004  61.89\n",
              "⋮  ⋮    ⋮          ⋮     \n",
              "51  6.3 113.5388   130.29\n",
              "52  6.4 129.7194   133.14\n",
              "53  6.5 120.2752   135.99\n",
              "54  6.6 119.7061   138.84\n",
              "55  6.7 129.6231   141.69\n",
              "56  6.9 132.2285   147.39\n",
              "57  7.0 137.2779   150.24\n",
              "58  7.1 143.4519   153.09\n",
              "59  7.2 148.0892   155.94\n",
              "60  7.5 154.4026   164.49\n",
              "61  7.6 163.0364   167.34\n",
              "62  7.7 158.5906   170.19\n",
              "63  7.8 171.1860   173.04\n",
              "64  7.9 170.9061   175.89\n",
              "65  8.0 187.5506   178.74\n",
              "66  8.3 186.8442   187.29\n",
              "67  8.4 197.1353   190.14\n",
              "68  8.6 217.1901   195.84\n",
              "69  8.7 211.5163   198.69\n",
              "70  8.8 214.0969   201.54\n",
              "71  8.9 222.1835   204.39\n",
              "72  9.0 233.9187   207.24\n",
              "73  9.2 234.6495   212.94\n",
              "74  9.3 247.6158   215.79\n",
              "75  9.5 254.5558   221.49\n",
              "76  9.6 265.7053   224.34\n",
              "77  9.7 263.4533   227.19\n",
              "78  9.8 271.1469   230.04\n",
              "79  9.9 273.1337   232.89\n",
              "80 10.0 280.6185   235.74"
            ]
          },
          "metadata": {}
        }
      ]
    },
    {
      "cell_type": "code",
      "source": [
        "rmses <- c(0, 0, 0, 0, 0)\n",
        "for (i in 1:5){\n",
        "  xsamp <- sample_n(df, 20)\n",
        "  samp_model <- lm(xsamp$y ~ poly(xsamp$x, 11, raw = TRUE))\n",
        "  yhat <- predict(samp_model, newdata = data.frame(xsamp$x))\n",
        "  rmse <- sqrt(mean((xsamp$y - yhat)^2))\n",
        "  rmses[i] = rmse\n",
        "}\n",
        "rmses"
      ],
      "metadata": {
        "colab": {
          "base_uri": "https://localhost:8080/",
          "height": 34
        },
        "id": "1Q9n_uatrvzB",
        "outputId": "e2b0d1e2-71d3-47d2-bf1d-c3ee09bf8a5a"
      },
      "execution_count": null,
      "outputs": [
        {
          "output_type": "display_data",
          "data": {
            "text/html": [
              "<style>\n",
              ".list-inline {list-style: none; margin:0; padding: 0}\n",
              ".list-inline>li {display: inline-block}\n",
              ".list-inline>li:not(:last-child)::after {content: \"\\00b7\"; padding: 0 .5ex}\n",
              "</style>\n",
              "<ol class=list-inline><li>3.11126758837514</li><li>3.66256078987028</li><li>3.15839760144573</li><li>3.94293627226995</li><li>3.63171601930523</li></ol>\n"
            ],
            "text/markdown": "1. 3.11126758837514\n2. 3.66256078987028\n3. 3.15839760144573\n4. 3.94293627226995\n5. 3.63171601930523\n\n\n",
            "text/latex": "\\begin{enumerate*}\n\\item 3.11126758837514\n\\item 3.66256078987028\n\\item 3.15839760144573\n\\item 3.94293627226995\n\\item 3.63171601930523\n\\end{enumerate*}\n",
            "text/plain": [
              "[1] 3.111268 3.662561 3.158398 3.942936 3.631716"
            ]
          },
          "metadata": {}
        }
      ]
    },
    {
      "cell_type": "code",
      "source": [
        "#evaluate\n"
      ],
      "metadata": {
        "id": "dvS-CfdXcbTB"
      },
      "execution_count": null,
      "outputs": []
    },
    {
      "cell_type": "code",
      "source": [
        "#repeat on five samples of the data\n"
      ],
      "metadata": {
        "id": "DCxbPY-eceZz"
      },
      "execution_count": null,
      "outputs": []
    },
    {
      "cell_type": "markdown",
      "source": [
        "#### Finding the sweet spot\n",
        "\n",
        "Experiment with degree 1 - 10 on diamonds data to predict price using carat.  What degree complexity is ideal?"
      ],
      "metadata": {
        "id": "H4CiaGCodIzV"
      }
    },
    {
      "cell_type": "code",
      "source": [
        "head(diamonds)"
      ],
      "metadata": {
        "colab": {
          "base_uri": "https://localhost:8080/",
          "height": 286
        },
        "id": "ISalY8sidSQi",
        "outputId": "67e6eebd-7641-4927-acaf-d0d629581951"
      },
      "execution_count": null,
      "outputs": [
        {
          "output_type": "display_data",
          "data": {
            "text/html": [
              "<table class=\"dataframe\">\n",
              "<caption>A tibble: 6 × 10</caption>\n",
              "<thead>\n",
              "\t<tr><th scope=col>carat</th><th scope=col>cut</th><th scope=col>color</th><th scope=col>clarity</th><th scope=col>depth</th><th scope=col>table</th><th scope=col>price</th><th scope=col>x</th><th scope=col>y</th><th scope=col>z</th></tr>\n",
              "\t<tr><th scope=col>&lt;dbl&gt;</th><th scope=col>&lt;ord&gt;</th><th scope=col>&lt;ord&gt;</th><th scope=col>&lt;ord&gt;</th><th scope=col>&lt;dbl&gt;</th><th scope=col>&lt;dbl&gt;</th><th scope=col>&lt;int&gt;</th><th scope=col>&lt;dbl&gt;</th><th scope=col>&lt;dbl&gt;</th><th scope=col>&lt;dbl&gt;</th></tr>\n",
              "</thead>\n",
              "<tbody>\n",
              "\t<tr><td>0.23</td><td>Ideal    </td><td>E</td><td>SI2 </td><td>61.5</td><td>55</td><td>326</td><td>3.95</td><td>3.98</td><td>2.43</td></tr>\n",
              "\t<tr><td>0.21</td><td>Premium  </td><td>E</td><td>SI1 </td><td>59.8</td><td>61</td><td>326</td><td>3.89</td><td>3.84</td><td>2.31</td></tr>\n",
              "\t<tr><td>0.23</td><td>Good     </td><td>E</td><td>VS1 </td><td>56.9</td><td>65</td><td>327</td><td>4.05</td><td>4.07</td><td>2.31</td></tr>\n",
              "\t<tr><td>0.29</td><td>Premium  </td><td>I</td><td>VS2 </td><td>62.4</td><td>58</td><td>334</td><td>4.20</td><td>4.23</td><td>2.63</td></tr>\n",
              "\t<tr><td>0.31</td><td>Good     </td><td>J</td><td>SI2 </td><td>63.3</td><td>58</td><td>335</td><td>4.34</td><td>4.35</td><td>2.75</td></tr>\n",
              "\t<tr><td>0.24</td><td>Very Good</td><td>J</td><td>VVS2</td><td>62.8</td><td>57</td><td>336</td><td>3.94</td><td>3.96</td><td>2.48</td></tr>\n",
              "</tbody>\n",
              "</table>\n"
            ],
            "text/markdown": "\nA tibble: 6 × 10\n\n| carat &lt;dbl&gt; | cut &lt;ord&gt; | color &lt;ord&gt; | clarity &lt;ord&gt; | depth &lt;dbl&gt; | table &lt;dbl&gt; | price &lt;int&gt; | x &lt;dbl&gt; | y &lt;dbl&gt; | z &lt;dbl&gt; |\n|---|---|---|---|---|---|---|---|---|---|\n| 0.23 | Ideal     | E | SI2  | 61.5 | 55 | 326 | 3.95 | 3.98 | 2.43 |\n| 0.21 | Premium   | E | SI1  | 59.8 | 61 | 326 | 3.89 | 3.84 | 2.31 |\n| 0.23 | Good      | E | VS1  | 56.9 | 65 | 327 | 4.05 | 4.07 | 2.31 |\n| 0.29 | Premium   | I | VS2  | 62.4 | 58 | 334 | 4.20 | 4.23 | 2.63 |\n| 0.31 | Good      | J | SI2  | 63.3 | 58 | 335 | 4.34 | 4.35 | 2.75 |\n| 0.24 | Very Good | J | VVS2 | 62.8 | 57 | 336 | 3.94 | 3.96 | 2.48 |\n\n",
            "text/latex": "A tibble: 6 × 10\n\\begin{tabular}{llllllllll}\n carat & cut & color & clarity & depth & table & price & x & y & z\\\\\n <dbl> & <ord> & <ord> & <ord> & <dbl> & <dbl> & <int> & <dbl> & <dbl> & <dbl>\\\\\n\\hline\n\t 0.23 & Ideal     & E & SI2  & 61.5 & 55 & 326 & 3.95 & 3.98 & 2.43\\\\\n\t 0.21 & Premium   & E & SI1  & 59.8 & 61 & 326 & 3.89 & 3.84 & 2.31\\\\\n\t 0.23 & Good      & E & VS1  & 56.9 & 65 & 327 & 4.05 & 4.07 & 2.31\\\\\n\t 0.29 & Premium   & I & VS2  & 62.4 & 58 & 334 & 4.20 & 4.23 & 2.63\\\\\n\t 0.31 & Good      & J & SI2  & 63.3 & 58 & 335 & 4.34 & 4.35 & 2.75\\\\\n\t 0.24 & Very Good & J & VVS2 & 62.8 & 57 & 336 & 3.94 & 3.96 & 2.48\\\\\n\\end{tabular}\n",
            "text/plain": [
              "  carat cut       color clarity depth table price x    y    z   \n",
              "1 0.23  Ideal     E     SI2     61.5  55    326   3.95 3.98 2.43\n",
              "2 0.21  Premium   E     SI1     59.8  61    326   3.89 3.84 2.31\n",
              "3 0.23  Good      E     VS1     56.9  65    327   4.05 4.07 2.31\n",
              "4 0.29  Premium   I     VS2     62.4  58    334   4.20 4.23 2.63\n",
              "5 0.31  Good      J     SI2     63.3  58    335   4.34 4.35 2.75\n",
              "6 0.24  Very Good J     VVS2    62.8  57    336   3.94 3.96 2.48"
            ]
          },
          "metadata": {}
        }
      ]
    },
    {
      "cell_type": "code",
      "source": [],
      "metadata": {
        "id": "6P4oeOApdSOc"
      },
      "execution_count": null,
      "outputs": []
    },
    {
      "cell_type": "code",
      "source": [],
      "metadata": {
        "id": "maXZ_SspdSMF"
      },
      "execution_count": null,
      "outputs": []
    },
    {
      "cell_type": "code",
      "source": [],
      "metadata": {
        "id": "pOiB8AhCdSJP"
      },
      "execution_count": null,
      "outputs": []
    },
    {
      "cell_type": "code",
      "source": [],
      "metadata": {
        "id": "7sKvKFGDciwQ"
      },
      "execution_count": null,
      "outputs": []
    },
    {
      "cell_type": "markdown",
      "source": [
        "#### Bias Variance tradeoff"
      ],
      "metadata": {
        "id": "lJn1bFWBdSqT"
      }
    },
    {
      "cell_type": "code",
      "source": [],
      "metadata": {
        "id": "FIyuuoFEdbpC"
      },
      "execution_count": null,
      "outputs": []
    },
    {
      "cell_type": "code",
      "source": [],
      "metadata": {
        "id": "dR2qZLjrdczS"
      },
      "execution_count": null,
      "outputs": []
    },
    {
      "cell_type": "code",
      "source": [],
      "metadata": {
        "id": "_IVUWh6adcu0"
      },
      "execution_count": null,
      "outputs": []
    },
    {
      "cell_type": "code",
      "source": [],
      "metadata": {
        "id": "dPXApEbodcqs"
      },
      "execution_count": null,
      "outputs": []
    },
    {
      "cell_type": "code",
      "source": [],
      "metadata": {
        "id": "bOGNB9lTdcnA"
      },
      "execution_count": null,
      "outputs": []
    },
    {
      "cell_type": "code",
      "source": [],
      "metadata": {
        "id": "hBjjbYh4dcjX"
      },
      "execution_count": null,
      "outputs": []
    },
    {
      "cell_type": "markdown",
      "source": [
        "#### Building Regression Models\n",
        "\n",
        "- Build simple regression models of different complexity and explore the performance.\n",
        "\n",
        "- Compare to complex regression models from the `carat` library.  Which models do you prefer and why?"
      ],
      "metadata": {
        "id": "Z56pOqjxddtT"
      }
    },
    {
      "cell_type": "code",
      "source": [],
      "metadata": {
        "id": "wAHtwVkaeFI0"
      },
      "execution_count": null,
      "outputs": []
    },
    {
      "cell_type": "code",
      "source": [],
      "metadata": {
        "id": "xHBo49oreFGf"
      },
      "execution_count": null,
      "outputs": []
    },
    {
      "cell_type": "code",
      "source": [],
      "metadata": {
        "id": "Nsp_kk9weFEa"
      },
      "execution_count": null,
      "outputs": []
    },
    {
      "cell_type": "code",
      "source": [],
      "metadata": {
        "id": "hLHNrbHIeFCC"
      },
      "execution_count": null,
      "outputs": []
    },
    {
      "cell_type": "code",
      "source": [],
      "metadata": {
        "id": "FpDDWX4PeE_s"
      },
      "execution_count": null,
      "outputs": []
    },
    {
      "cell_type": "code",
      "source": [],
      "metadata": {
        "id": "lj0yvi3WeE9Y"
      },
      "execution_count": null,
      "outputs": []
    },
    {
      "cell_type": "code",
      "source": [],
      "metadata": {
        "id": "NeW3PqVoeE7D"
      },
      "execution_count": null,
      "outputs": []
    },
    {
      "cell_type": "code",
      "source": [],
      "metadata": {
        "id": "eredmqVreE47"
      },
      "execution_count": null,
      "outputs": []
    },
    {
      "cell_type": "code",
      "source": [],
      "metadata": {
        "id": "AMEnIulIeE2a"
      },
      "execution_count": null,
      "outputs": []
    },
    {
      "cell_type": "code",
      "source": [],
      "metadata": {
        "id": "S2z6lHgzdgaG"
      },
      "execution_count": null,
      "outputs": []
    }
  ]
}