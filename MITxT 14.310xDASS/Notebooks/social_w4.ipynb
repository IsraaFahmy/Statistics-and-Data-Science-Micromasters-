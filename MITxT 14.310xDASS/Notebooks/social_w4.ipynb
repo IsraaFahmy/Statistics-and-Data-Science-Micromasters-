{
  "nbformat": 4,
  "nbformat_minor": 0,
  "metadata": {
    "colab": {
      "provenance": [],
      "include_colab_link": true
    },
    "kernelspec": {
      "name": "ir",
      "display_name": "R"
    },
    "language_info": {
      "name": "R"
    }
  },
  "cells": [
    {
      "cell_type": "markdown",
      "metadata": {
        "id": "view-in-github",
        "colab_type": "text"
      },
      "source": [
        "<a href=\"https://colab.research.google.com/github/IsraaFahmy/Statistics-and-Data-Science-Micromasters-/blob/main/MITxT%2014.310xDASS/Notebooks/social_w4.ipynb\" target=\"_parent\"><img src=\"https://colab.research.google.com/assets/colab-badge.svg\" alt=\"Open In Colab\"/></a>"
      ]
    },
    {
      "cell_type": "markdown",
      "source": [
        "### Sampling and Estimators"
      ],
      "metadata": {
        "id": "yFs_YCTJN40Q"
      }
    },
    {
      "cell_type": "code",
      "source": [
        "library(tidyverse)"
      ],
      "metadata": {
        "id": "HRMG5J7NOPjM",
        "colab": {
          "base_uri": "https://localhost:8080/"
        },
        "outputId": "1e24790b-e404-4e09-8eac-820ae56dd389"
      },
      "execution_count": null,
      "outputs": [
        {
          "output_type": "stream",
          "name": "stderr",
          "text": [
            "── \u001b[1mAttaching packages\u001b[22m ─────────────────────────────────────── tidyverse 1.3.1 ──\n",
            "\n",
            "\u001b[32m✔\u001b[39m \u001b[34mggplot2\u001b[39m 3.4.2     \u001b[32m✔\u001b[39m \u001b[34mpurrr  \u001b[39m 1.0.1\n",
            "\u001b[32m✔\u001b[39m \u001b[34mtibble \u001b[39m 3.2.1     \u001b[32m✔\u001b[39m \u001b[34mdplyr  \u001b[39m 1.1.2\n",
            "\u001b[32m✔\u001b[39m \u001b[34mtidyr  \u001b[39m 1.3.0     \u001b[32m✔\u001b[39m \u001b[34mstringr\u001b[39m 1.5.0\n",
            "\u001b[32m✔\u001b[39m \u001b[34mreadr  \u001b[39m 2.1.4     \u001b[32m✔\u001b[39m \u001b[34mforcats\u001b[39m 1.0.0\n",
            "\n",
            "── \u001b[1mConflicts\u001b[22m ────────────────────────────────────────── tidyverse_conflicts() ──\n",
            "\u001b[31m✖\u001b[39m \u001b[34mdplyr\u001b[39m::\u001b[32mfilter()\u001b[39m masks \u001b[34mstats\u001b[39m::filter()\n",
            "\u001b[31m✖\u001b[39m \u001b[34mdplyr\u001b[39m::\u001b[32mlag()\u001b[39m    masks \u001b[34mstats\u001b[39m::lag()\n",
            "\n"
          ]
        }
      ]
    },
    {
      "cell_type": "markdown",
      "source": [
        "<div class = \"alert alert-info\">\n",
        "   You are standing in the rain trying to hail a cab in a large city.  While waiting, seven cabs pass by that already have a passenger.  The number on the cabs are:\n",
        "    \n",
        "<center>\n",
        "    <strong>\n",
        "    405 , 73 , 280,  179 , 440 , 301  ,218\n",
        "    </strong>\n",
        "    </center>\n",
        "   Suppose you want to estimate the number of taxis in the city while we are waiting.  Assume these taxis are numbered sequentially from 1 to <strong>N</strong> and all are still in service.\n",
        "\n",
        "</div>"
      ],
      "metadata": {
        "id": "fqjut61ROQuf"
      }
    },
    {
      "cell_type": "markdown",
      "source": [
        "Our goals follow:\n",
        "    \n",
        "- Come up with several methods for approximating the population size.\n",
        "- Determine which of these methods is the \"BEST\" by simulations on a population size 342."
      ],
      "metadata": {
        "id": "DsNIB7jvOnDC"
      }
    },
    {
      "cell_type": "code",
      "source": [],
      "metadata": {
        "id": "t7S-2lzDOsEN"
      },
      "execution_count": null,
      "outputs": []
    },
    {
      "cell_type": "code",
      "source": [
        "# mean and median\n",
        "taxi_numbers <- c(405, 73, 280, 179, 440, 301, 218)\n",
        "mean_taxi_number <- mean(taxi_numbers)\n",
        "median_taxi_number <- median(taxi_numbers)\n",
        "estimate <- 2 * mean_taxi_number\n",
        "estimate2 <- 2*median_taxi_number\n",
        "print(estimate)\n",
        "print(estimate2)"
      ],
      "metadata": {
        "id": "uFsQ15X-OsAk",
        "colab": {
          "base_uri": "https://localhost:8080/"
        },
        "outputId": "9b585bf5-79f3-4254-ecef-bd58d7b6fbf1"
      },
      "execution_count": null,
      "outputs": [
        {
          "output_type": "stream",
          "name": "stdout",
          "text": [
            "[1] 541.7143\n",
            "[1] 560\n"
          ]
        }
      ]
    },
    {
      "cell_type": "code",
      "source": [
        "\n",
        "passenger_cabs <- c(405, 73, 280, 179, 440, 301, 218)\n",
        "population_size <- max(passenger_cabs)\n",
        "print(paste(population_size)"
      ],
      "metadata": {
        "id": "OKA_APKlOr9-",
        "colab": {
          "base_uri": "https://localhost:8080/"
        },
        "outputId": "de697627-2c15-431a-ddb6-8858895365a0"
      },
      "execution_count": null,
      "outputs": [
        {
          "output_type": "stream",
          "name": "stdout",
          "text": [
            "[1] \"Estimated population size: 440\"\n"
          ]
        }
      ]
    },
    {
      "cell_type": "code",
      "source": [],
      "metadata": {
        "id": "3Ezjqvy8Or6l"
      },
      "execution_count": null,
      "outputs": []
    },
    {
      "cell_type": "code",
      "source": [],
      "metadata": {
        "id": "hXem_5S0OrSc"
      },
      "execution_count": null,
      "outputs": []
    },
    {
      "cell_type": "markdown",
      "source": [
        "### Confidence Interval Example\n",
        "\n",
        "Sample of 1000 students -- average score was 82%.  Is that the population average?\n",
        "\n",
        "Go test another 1000 students -- average an 82%?\n",
        "\n",
        "Normal distribution captured 66 - 95 -- 99 % of the data within 1, 2, and 3 standard deviations.\n",
        "\n",
        "- Distribution of scores is normal\n",
        "- Standard Deviation is 10.  \n",
        "\n",
        "**EX**: Sample of students on SAT math.\n",
        "\n",
        "Sample Size = 500\n",
        "\n",
        "Standard Deviation of Scores is 100.\n",
        "\n",
        "The scores will be distributed according to a Normal Distribution with mean = sample mean and standard deviation;\n",
        "\n",
        "$$\\sigma/\\sqrt{n}$$\n",
        "$\\mu = 480$?"
      ],
      "metadata": {
        "id": "g6UN0otOO46t"
      }
    },
    {
      "cell_type": "code",
      "source": [
        "upper <- 480 + 2*(100/sqrt(2000))\n",
        "lower <- 480 - 2*(100/sqrt(2000))\n",
        "upper"
      ],
      "metadata": {
        "id": "FaZCwz4tO5rS"
      },
      "execution_count": null,
      "outputs": []
    },
    {
      "cell_type": "markdown",
      "source": [
        "1. The American Psychological Association has conducted a survey of stress levels across the United States.  This year, 720 millenials indicated stress level on a 0 - 10 scale with a mean value of 5.5 and population standard deviation of 2.8.\n",
        "\n",
        "  - Find the margin of error and 95% confidence interval\n",
        "  - Repeat for a 99% confidence interval.\n",
        "\n"
      ],
      "metadata": {
        "id": "uILY71cGO6MW"
      }
    },
    {
      "cell_type": "code",
      "source": [],
      "metadata": {
        "id": "LLm-pff4O6Ic"
      },
      "execution_count": null,
      "outputs": []
    },
    {
      "cell_type": "code",
      "source": [],
      "metadata": {
        "id": "D0108HslO6Ei"
      },
      "execution_count": null,
      "outputs": []
    },
    {
      "cell_type": "code",
      "source": [],
      "metadata": {
        "id": "vtNj5XBAO6A5"
      },
      "execution_count": null,
      "outputs": []
    },
    {
      "cell_type": "code",
      "source": [],
      "metadata": {
        "id": "vNTjbktHPx-6"
      },
      "execution_count": null,
      "outputs": []
    },
    {
      "cell_type": "code",
      "source": [],
      "metadata": {
        "id": "TiNZGuL3Sj0d"
      },
      "execution_count": null,
      "outputs": []
    },
    {
      "cell_type": "code",
      "source": [],
      "metadata": {
        "id": "bLEZbEZQSjvx"
      },
      "execution_count": null,
      "outputs": []
    },
    {
      "cell_type": "markdown",
      "source": [
        "### Control Flow with R"
      ],
      "metadata": {
        "id": "nnv2S3fUSkJk"
      }
    },
    {
      "cell_type": "markdown",
      "source": [
        "```r\n",
        "# if\n",
        "if (condition is true) {\n",
        "  perform action\n",
        "}\n",
        "\n",
        "# if ... else\n",
        "if (condition is true) {\n",
        "  perform action\n",
        "} else {  # that is, if the condition is false,\n",
        "  perform alternative action\n",
        "}\n",
        "```"
      ],
      "metadata": {
        "id": "gcC9lEo6SmUE"
      }
    },
    {
      "cell_type": "code",
      "source": [
        "x <- 8"
      ],
      "metadata": {
        "id": "rENYMiJvSq3q"
      },
      "execution_count": null,
      "outputs": []
    },
    {
      "cell_type": "code",
      "source": [
        "#if x >= 10 print something\n"
      ],
      "metadata": {
        "id": "YkbdzszJSvoT"
      },
      "execution_count": null,
      "outputs": []
    },
    {
      "cell_type": "code",
      "source": [
        "#if/else\n"
      ],
      "metadata": {
        "id": "Kigh29JwS74h"
      },
      "execution_count": null,
      "outputs": []
    },
    {
      "cell_type": "code",
      "source": [
        "#if/else if/else\n"
      ],
      "metadata": {
        "id": "jfLDTQecTETI"
      },
      "execution_count": null,
      "outputs": []
    },
    {
      "cell_type": "code",
      "source": [],
      "metadata": {
        "id": "vcPtaIkaTHli"
      },
      "execution_count": null,
      "outputs": []
    },
    {
      "cell_type": "code",
      "source": [],
      "metadata": {
        "id": "O3TjtNIbTOh_"
      },
      "execution_count": null,
      "outputs": []
    },
    {
      "cell_type": "code",
      "source": [],
      "metadata": {
        "id": "vEcziRTwTOem"
      },
      "execution_count": null,
      "outputs": []
    },
    {
      "cell_type": "markdown",
      "source": [
        "Use an `if()` statement to print a suitable message reporting whether there are any records from 2002 in the gapminder dataset. Now do the same for 2012."
      ],
      "metadata": {
        "id": "hRGustklTPCz"
      }
    },
    {
      "cell_type": "code",
      "source": [
        "install.packages('gapminder')"
      ],
      "metadata": {
        "id": "SxVtd_A2TTIF",
        "colab": {
          "base_uri": "https://localhost:8080/"
        },
        "outputId": "dd828386-ed00-48ee-d238-a70eb74687da"
      },
      "execution_count": null,
      "outputs": [
        {
          "output_type": "stream",
          "name": "stderr",
          "text": [
            "Installing package into ‘/usr/local/lib/R/site-library’\n",
            "(as ‘lib’ is unspecified)\n",
            "\n"
          ]
        }
      ]
    },
    {
      "cell_type": "code",
      "source": [
        "library(gapminder)"
      ],
      "metadata": {
        "id": "0WwdayeVTRMl"
      },
      "execution_count": null,
      "outputs": []
    },
    {
      "cell_type": "code",
      "source": [
        "head(gapminder)"
      ],
      "metadata": {
        "id": "pddt0uUKTSOg",
        "colab": {
          "base_uri": "https://localhost:8080/",
          "height": 283
        },
        "outputId": "11eb73fe-3c09-45cc-c2c2-b4b159aab195"
      },
      "execution_count": null,
      "outputs": [
        {
          "output_type": "display_data",
          "data": {
            "text/html": [
              "<table class=\"dataframe\">\n",
              "<caption>A tibble: 6 × 6</caption>\n",
              "<thead>\n",
              "\t<tr><th scope=col>country</th><th scope=col>continent</th><th scope=col>year</th><th scope=col>lifeExp</th><th scope=col>pop</th><th scope=col>gdpPercap</th></tr>\n",
              "\t<tr><th scope=col>&lt;fct&gt;</th><th scope=col>&lt;fct&gt;</th><th scope=col>&lt;int&gt;</th><th scope=col>&lt;dbl&gt;</th><th scope=col>&lt;int&gt;</th><th scope=col>&lt;dbl&gt;</th></tr>\n",
              "</thead>\n",
              "<tbody>\n",
              "\t<tr><td>Afghanistan</td><td>Asia</td><td>1952</td><td>28.801</td><td> 8425333</td><td>779.4453</td></tr>\n",
              "\t<tr><td>Afghanistan</td><td>Asia</td><td>1957</td><td>30.332</td><td> 9240934</td><td>820.8530</td></tr>\n",
              "\t<tr><td>Afghanistan</td><td>Asia</td><td>1962</td><td>31.997</td><td>10267083</td><td>853.1007</td></tr>\n",
              "\t<tr><td>Afghanistan</td><td>Asia</td><td>1967</td><td>34.020</td><td>11537966</td><td>836.1971</td></tr>\n",
              "\t<tr><td>Afghanistan</td><td>Asia</td><td>1972</td><td>36.088</td><td>13079460</td><td>739.9811</td></tr>\n",
              "\t<tr><td>Afghanistan</td><td>Asia</td><td>1977</td><td>38.438</td><td>14880372</td><td>786.1134</td></tr>\n",
              "</tbody>\n",
              "</table>\n"
            ],
            "text/markdown": "\nA tibble: 6 × 6\n\n| country &lt;fct&gt; | continent &lt;fct&gt; | year &lt;int&gt; | lifeExp &lt;dbl&gt; | pop &lt;int&gt; | gdpPercap &lt;dbl&gt; |\n|---|---|---|---|---|---|\n| Afghanistan | Asia | 1952 | 28.801 |  8425333 | 779.4453 |\n| Afghanistan | Asia | 1957 | 30.332 |  9240934 | 820.8530 |\n| Afghanistan | Asia | 1962 | 31.997 | 10267083 | 853.1007 |\n| Afghanistan | Asia | 1967 | 34.020 | 11537966 | 836.1971 |\n| Afghanistan | Asia | 1972 | 36.088 | 13079460 | 739.9811 |\n| Afghanistan | Asia | 1977 | 38.438 | 14880372 | 786.1134 |\n\n",
            "text/latex": "A tibble: 6 × 6\n\\begin{tabular}{llllll}\n country & continent & year & lifeExp & pop & gdpPercap\\\\\n <fct> & <fct> & <int> & <dbl> & <int> & <dbl>\\\\\n\\hline\n\t Afghanistan & Asia & 1952 & 28.801 &  8425333 & 779.4453\\\\\n\t Afghanistan & Asia & 1957 & 30.332 &  9240934 & 820.8530\\\\\n\t Afghanistan & Asia & 1962 & 31.997 & 10267083 & 853.1007\\\\\n\t Afghanistan & Asia & 1967 & 34.020 & 11537966 & 836.1971\\\\\n\t Afghanistan & Asia & 1972 & 36.088 & 13079460 & 739.9811\\\\\n\t Afghanistan & Asia & 1977 & 38.438 & 14880372 & 786.1134\\\\\n\\end{tabular}\n",
            "text/plain": [
              "  country     continent year lifeExp pop      gdpPercap\n",
              "1 Afghanistan Asia      1952 28.801   8425333 779.4453 \n",
              "2 Afghanistan Asia      1957 30.332   9240934 820.8530 \n",
              "3 Afghanistan Asia      1962 31.997  10267083 853.1007 \n",
              "4 Afghanistan Asia      1967 34.020  11537966 836.1971 \n",
              "5 Afghanistan Asia      1972 36.088  13079460 739.9811 \n",
              "6 Afghanistan Asia      1977 38.438  14880372 786.1134 "
            ]
          },
          "metadata": {}
        }
      ]
    },
    {
      "cell_type": "code",
      "source": [
        "if (gapminder$year == 2002){\n",
        "  print('Yes its in there')\n",
        "}"
      ],
      "metadata": {
        "id": "Ji0saWFyTaCx",
        "colab": {
          "base_uri": "https://localhost:8080/",
          "height": 96
        },
        "outputId": "16f8cc42-d7fe-4952-b51f-3e6484779ffc"
      },
      "execution_count": null,
      "outputs": [
        {
          "output_type": "error",
          "ename": "ERROR",
          "evalue": "ignored",
          "traceback": [
            "Error in if (gapminder$year == 2002) {: the condition has length > 1\nTraceback:\n"
          ]
        }
      ]
    },
    {
      "cell_type": "markdown",
      "source": [
        "```r\n",
        "# ifelse function\n",
        "ifelse(condition is true, perform action, perform alternative action)\n",
        "```"
      ],
      "metadata": {
        "id": "Q2JRPtnxTljl"
      }
    },
    {
      "cell_type": "code",
      "source": [
        "#ifelse example\n",
        "x <- 8\n",
        "ifelse( x >= 10, 'yeah its bigger', 'nah its smaller')"
      ],
      "metadata": {
        "id": "ftkWVcpWTm4A",
        "colab": {
          "base_uri": "https://localhost:8080/",
          "height": 34
        },
        "outputId": "0521dd32-f16a-42a3-c650-328adbb00313"
      },
      "execution_count": null,
      "outputs": [
        {
          "output_type": "display_data",
          "data": {
            "text/html": [
              "'nah its smaller'"
            ],
            "text/markdown": "'nah its smaller'",
            "text/latex": "'nah its smaller'",
            "text/plain": [
              "[1] \"nah its smaller\""
            ]
          },
          "metadata": {}
        }
      ]
    },
    {
      "cell_type": "code",
      "source": [
        "#any()\n",
        "#any()\n",
        "any(gapminder$year == 2002)"
      ],
      "metadata": {
        "id": "FJ_M_76CTvIB",
        "colab": {
          "base_uri": "https://localhost:8080/",
          "height": 34
        },
        "outputId": "39b9b453-6f08-4aad-cd32-2e88a83bc8b6"
      },
      "execution_count": null,
      "outputs": [
        {
          "output_type": "display_data",
          "data": {
            "text/html": [
              "TRUE"
            ],
            "text/markdown": "TRUE",
            "text/latex": "TRUE",
            "text/plain": [
              "[1] TRUE"
            ]
          },
          "metadata": {}
        }
      ]
    },
    {
      "cell_type": "code",
      "source": [
        "#all()\n",
        "all(gapminder$year == 2002)"
      ],
      "metadata": {
        "id": "5Rp0lrcsTz99",
        "colab": {
          "base_uri": "https://localhost:8080/",
          "height": 34
        },
        "outputId": "f9ddf05d-ab3a-4cdc-8ae4-294c5a9832b1"
      },
      "execution_count": null,
      "outputs": [
        {
          "output_type": "display_data",
          "data": {
            "text/html": [
              "FALSE"
            ],
            "text/markdown": "FALSE",
            "text/latex": "FALSE",
            "text/plain": [
              "[1] FALSE"
            ]
          },
          "metadata": {}
        }
      ]
    },
    {
      "cell_type": "code",
      "source": [],
      "metadata": {
        "id": "3IjEi2vwT6Z_"
      },
      "execution_count": null,
      "outputs": []
    },
    {
      "cell_type": "markdown",
      "source": [
        "#### `for()`\n",
        "\n",
        "```r\n",
        "for (iterator in set of values) {\n",
        "  do a thing\n",
        "}\n",
        "```"
      ],
      "metadata": {
        "id": "T-GZwJApT8bT"
      }
    },
    {
      "cell_type": "code",
      "source": [
        "#print 10 digits\n",
        "#print 10 digits\n",
        "for (i in 1:10){\n",
        "  print(i)\n",
        "}"
      ],
      "metadata": {
        "id": "qRm8jW6ST-li",
        "colab": {
          "base_uri": "https://localhost:8080/"
        },
        "outputId": "91a74930-69a3-42bb-e5a6-16f9cfe6fcb3"
      },
      "execution_count": null,
      "outputs": [
        {
          "output_type": "stream",
          "name": "stdout",
          "text": [
            "[1] 1\n",
            "[1] 2\n",
            "[1] 3\n",
            "[1] 4\n",
            "[1] 5\n",
            "[1] 6\n",
            "[1] 7\n",
            "[1] 8\n",
            "[1] 9\n",
            "[1] 10\n"
          ]
        }
      ]
    },
    {
      "cell_type": "code",
      "source": [
        "#nested loop\n",
        "for (i in 1:4){\n",
        "  for (j in c('a', 'b', 'c')) {\n",
        "    print(paste(i, j))\n",
        "  }\n",
        "}"
      ],
      "metadata": {
        "id": "FzR1FZ0AUE3i",
        "colab": {
          "base_uri": "https://localhost:8080/"
        },
        "outputId": "b407e879-b824-41f1-8271-8627ead53465"
      },
      "execution_count": null,
      "outputs": [
        {
          "output_type": "stream",
          "name": "stdout",
          "text": [
            "[1] \"1 a\"\n",
            "[1] \"1 b\"\n",
            "[1] \"1 c\"\n",
            "[1] \"2 a\"\n",
            "[1] \"2 b\"\n",
            "[1] \"2 c\"\n",
            "[1] \"3 a\"\n",
            "[1] \"3 b\"\n",
            "[1] \"3 c\"\n",
            "[1] \"4 a\"\n",
            "[1] \"4 b\"\n",
            "[1] \"4 c\"\n"
          ]
        }
      ]
    },
    {
      "cell_type": "code",
      "source": [
        "#create a new object\n",
        "output_vector <- c()\n",
        "for (i in 1:4){\n",
        "  for (j in c('a', 'b', 'c')){\n",
        "    temp_output <- paste(i, j)\n",
        "    output_vector <- c(output_vector, temp_output)\n",
        "  }\n",
        "}"
      ],
      "metadata": {
        "id": "D4ceDUnJUI1j"
      },
      "execution_count": null,
      "outputs": []
    },
    {
      "cell_type": "code",
      "source": [
        "output_vector"
      ],
      "metadata": {
        "id": "xqSB9HICUwMQ",
        "colab": {
          "base_uri": "https://localhost:8080/",
          "height": 34
        },
        "outputId": "0a4276ad-92c7-4098-91e4-154a7cc33e6c"
      },
      "execution_count": null,
      "outputs": [
        {
          "output_type": "display_data",
          "data": {
            "text/html": [
              "<style>\n",
              ".list-inline {list-style: none; margin:0; padding: 0}\n",
              ".list-inline>li {display: inline-block}\n",
              ".list-inline>li:not(:last-child)::after {content: \"\\00b7\"; padding: 0 .5ex}\n",
              "</style>\n",
              "<ol class=list-inline><li>'1 a'</li><li>'1 b'</li><li>'1 c'</li><li>'2 a'</li><li>'2 b'</li><li>'2 c'</li><li>'3 a'</li><li>'3 b'</li><li>'3 c'</li><li>'4 a'</li><li>'4 b'</li><li>'4 c'</li></ol>\n"
            ],
            "text/markdown": "1. '1 a'\n2. '1 b'\n3. '1 c'\n4. '2 a'\n5. '2 b'\n6. '2 c'\n7. '3 a'\n8. '3 b'\n9. '3 c'\n10. '4 a'\n11. '4 b'\n12. '4 c'\n\n\n",
            "text/latex": "\\begin{enumerate*}\n\\item '1 a'\n\\item '1 b'\n\\item '1 c'\n\\item '2 a'\n\\item '2 b'\n\\item '2 c'\n\\item '3 a'\n\\item '3 b'\n\\item '3 c'\n\\item '4 a'\n\\item '4 b'\n\\item '4 c'\n\\end{enumerate*}\n",
            "text/plain": [
              " [1] \"1 a\" \"1 b\" \"1 c\" \"2 a\" \"2 b\" \"2 c\" \"3 a\" \"3 b\" \"3 c\" \"4 a\" \"4 b\" \"4 c\""
            ]
          },
          "metadata": {}
        }
      ]
    },
    {
      "cell_type": "markdown",
      "source": [
        "#### A Note on Efficiency"
      ],
      "metadata": {
        "id": "E3hOX1XUUbIu"
      }
    },
    {
      "cell_type": "code",
      "source": [
        "output_matrix <- matrix(nrow = 4, ncol = 3)\n",
        "letter_vals <- c('a', 'b', 'c')\n",
        "for (i in 1:4){\n",
        "  for (j in 1:3){\n",
        "    temp_output <- paste(i, letter_vals[j])\n",
        "    output_matrix[i, j] = temp_output\n",
        "  }\n",
        "}"
      ],
      "metadata": {
        "id": "eqFna1fyUdMm"
      },
      "execution_count": null,
      "outputs": []
    },
    {
      "cell_type": "code",
      "source": [
        "output_matrix"
      ],
      "metadata": {
        "id": "g5bl2_ywUgrQ",
        "colab": {
          "base_uri": "https://localhost:8080/",
          "height": 175
        },
        "outputId": "a10ad160-db16-4e5f-8617-7ebf0e1f55b2"
      },
      "execution_count": null,
      "outputs": [
        {
          "output_type": "display_data",
          "data": {
            "text/html": [
              "<table class=\"dataframe\">\n",
              "<caption>A matrix: 4 × 3 of type chr</caption>\n",
              "<tbody>\n",
              "\t<tr><td>1 a</td><td>1 b</td><td>1 c</td></tr>\n",
              "\t<tr><td>2 a</td><td>2 b</td><td>2 c</td></tr>\n",
              "\t<tr><td>3 a</td><td>3 b</td><td>3 c</td></tr>\n",
              "\t<tr><td>4 a</td><td>4 b</td><td>4 c</td></tr>\n",
              "</tbody>\n",
              "</table>\n"
            ],
            "text/markdown": "\nA matrix: 4 × 3 of type chr\n\n| 1 a | 1 b | 1 c |\n| 2 a | 2 b | 2 c |\n| 3 a | 3 b | 3 c |\n| 4 a | 4 b | 4 c |\n\n",
            "text/latex": "A matrix: 4 × 3 of type chr\n\\begin{tabular}{lll}\n\t 1 a & 1 b & 1 c\\\\\n\t 2 a & 2 b & 2 c\\\\\n\t 3 a & 3 b & 3 c\\\\\n\t 4 a & 4 b & 4 c\\\\\n\\end{tabular}\n",
            "text/plain": [
              "     [,1] [,2] [,3]\n",
              "[1,] 1 a  1 b  1 c \n",
              "[2,] 2 a  2 b  2 c \n",
              "[3,] 3 a  3 b  3 c \n",
              "[4,] 4 a  4 b  4 c "
            ]
          },
          "metadata": {}
        }
      ]
    },
    {
      "cell_type": "code",
      "source": [],
      "metadata": {
        "id": "fr2B4hQHUgm0"
      },
      "execution_count": null,
      "outputs": []
    },
    {
      "cell_type": "markdown",
      "source": [
        "#### `while()`"
      ],
      "metadata": {
        "id": "QC9I1_zBU01v"
      }
    },
    {
      "cell_type": "markdown",
      "source": [
        "```r\n",
        "while(this condition is true){\n",
        "  do a thing\n",
        "}\n",
        "```"
      ],
      "metadata": {
        "id": "oox_S286Uhen"
      }
    },
    {
      "cell_type": "code",
      "source": [
        "number <- 1\n",
        "while (number < 10){\n",
        "  print(number)\n",
        "  number <- number + 1\n",
        "}"
      ],
      "metadata": {
        "id": "tPYMgymAUknk",
        "colab": {
          "base_uri": "https://localhost:8080/"
        },
        "outputId": "a5f98c98-26e6-45c5-95c9-9187001adb65"
      },
      "execution_count": null,
      "outputs": [
        {
          "output_type": "stream",
          "name": "stdout",
          "text": [
            "[1] 1\n",
            "[1] 2\n",
            "[1] 3\n",
            "[1] 4\n",
            "[1] 5\n",
            "[1] 6\n",
            "[1] 7\n",
            "[1] 8\n",
            "[1] 9\n"
          ]
        }
      ]
    },
    {
      "cell_type": "markdown",
      "source": [
        "1. Compare the objects output_vector and output_vector2. Are they the same? If not, why not? How would you change the last block of code to make output_vector2 the same as output_vector?"
      ],
      "metadata": {
        "id": "9Fdj6O_jU4mL"
      }
    },
    {
      "cell_type": "code",
      "source": [
        "output_vector2 <- as.vector(output_matrix)\n",
        "output_vector2"
      ],
      "metadata": {
        "id": "gOYlY9sFU8nB",
        "colab": {
          "base_uri": "https://localhost:8080/",
          "height": 34
        },
        "outputId": "d305bfee-46cf-4a96-8f8e-5b29002338bf"
      },
      "execution_count": null,
      "outputs": [
        {
          "output_type": "display_data",
          "data": {
            "text/html": [
              "<style>\n",
              ".list-inline {list-style: none; margin:0; padding: 0}\n",
              ".list-inline>li {display: inline-block}\n",
              ".list-inline>li:not(:last-child)::after {content: \"\\00b7\"; padding: 0 .5ex}\n",
              "</style>\n",
              "<ol class=list-inline><li>'1 a'</li><li>'2 a'</li><li>'3 a'</li><li>'4 a'</li><li>'1 b'</li><li>'2 b'</li><li>'3 b'</li><li>'4 b'</li><li>'1 c'</li><li>'2 c'</li><li>'3 c'</li><li>'4 c'</li></ol>\n"
            ],
            "text/markdown": "1. '1 a'\n2. '2 a'\n3. '3 a'\n4. '4 a'\n5. '1 b'\n6. '2 b'\n7. '3 b'\n8. '4 b'\n9. '1 c'\n10. '2 c'\n11. '3 c'\n12. '4 c'\n\n\n",
            "text/latex": "\\begin{enumerate*}\n\\item '1 a'\n\\item '2 a'\n\\item '3 a'\n\\item '4 a'\n\\item '1 b'\n\\item '2 b'\n\\item '3 b'\n\\item '4 b'\n\\item '1 c'\n\\item '2 c'\n\\item '3 c'\n\\item '4 c'\n\\end{enumerate*}\n",
            "text/plain": [
              " [1] \"1 a\" \"2 a\" \"3 a\" \"4 a\" \"1 b\" \"2 b\" \"3 b\" \"4 b\" \"1 c\" \"2 c\" \"3 c\" \"4 c\""
            ]
          },
          "metadata": {}
        }
      ]
    },
    {
      "cell_type": "code",
      "source": [
        "output_vector"
      ],
      "metadata": {
        "id": "ufCOewbgVAYy",
        "colab": {
          "base_uri": "https://localhost:8080/",
          "height": 34
        },
        "outputId": "1823fd2c-329d-4c61-b4fb-34a77bf4213c"
      },
      "execution_count": null,
      "outputs": [
        {
          "output_type": "display_data",
          "data": {
            "text/html": [
              "<style>\n",
              ".list-inline {list-style: none; margin:0; padding: 0}\n",
              ".list-inline>li {display: inline-block}\n",
              ".list-inline>li:not(:last-child)::after {content: \"\\00b7\"; padding: 0 .5ex}\n",
              "</style>\n",
              "<ol class=list-inline><li>'1 a'</li><li>'1 b'</li><li>'1 c'</li><li>'2 a'</li><li>'2 b'</li><li>'2 c'</li><li>'3 a'</li><li>'3 b'</li><li>'3 c'</li><li>'4 a'</li><li>'4 b'</li><li>'4 c'</li></ol>\n"
            ],
            "text/markdown": "1. '1 a'\n2. '1 b'\n3. '1 c'\n4. '2 a'\n5. '2 b'\n6. '2 c'\n7. '3 a'\n8. '3 b'\n9. '3 c'\n10. '4 a'\n11. '4 b'\n12. '4 c'\n\n\n",
            "text/latex": "\\begin{enumerate*}\n\\item '1 a'\n\\item '1 b'\n\\item '1 c'\n\\item '2 a'\n\\item '2 b'\n\\item '2 c'\n\\item '3 a'\n\\item '3 b'\n\\item '3 c'\n\\item '4 a'\n\\item '4 b'\n\\item '4 c'\n\\end{enumerate*}\n",
            "text/plain": [
              " [1] \"1 a\" \"1 b\" \"1 c\" \"2 a\" \"2 b\" \"2 c\" \"3 a\" \"3 b\" \"3 c\" \"4 a\" \"4 b\" \"4 c\""
            ]
          },
          "metadata": {}
        }
      ]
    },
    {
      "cell_type": "code",
      "source": [
        "output_vector2 <- as.vector(t(output_matrix))\n",
        "output_vector2"
      ],
      "metadata": {
        "colab": {
          "base_uri": "https://localhost:8080/",
          "height": 34
        },
        "id": "NBNkTtvOrTL_",
        "outputId": "f18d3d7a-7a90-470f-d742-794c6ddde1e2"
      },
      "execution_count": null,
      "outputs": [
        {
          "output_type": "display_data",
          "data": {
            "text/html": [
              "<style>\n",
              ".list-inline {list-style: none; margin:0; padding: 0}\n",
              ".list-inline>li {display: inline-block}\n",
              ".list-inline>li:not(:last-child)::after {content: \"\\00b7\"; padding: 0 .5ex}\n",
              "</style>\n",
              "<ol class=list-inline><li>'1 a'</li><li>'1 b'</li><li>'1 c'</li><li>'2 a'</li><li>'2 b'</li><li>'2 c'</li><li>'3 a'</li><li>'3 b'</li><li>'3 c'</li><li>'4 a'</li><li>'4 b'</li><li>'4 c'</li></ol>\n"
            ],
            "text/markdown": "1. '1 a'\n2. '1 b'\n3. '1 c'\n4. '2 a'\n5. '2 b'\n6. '2 c'\n7. '3 a'\n8. '3 b'\n9. '3 c'\n10. '4 a'\n11. '4 b'\n12. '4 c'\n\n\n",
            "text/latex": "\\begin{enumerate*}\n\\item '1 a'\n\\item '1 b'\n\\item '1 c'\n\\item '2 a'\n\\item '2 b'\n\\item '2 c'\n\\item '3 a'\n\\item '3 b'\n\\item '3 c'\n\\item '4 a'\n\\item '4 b'\n\\item '4 c'\n\\end{enumerate*}\n",
            "text/plain": [
              " [1] \"1 a\" \"1 b\" \"1 c\" \"2 a\" \"2 b\" \"2 c\" \"3 a\" \"3 b\" \"3 c\" \"4 a\" \"4 b\" \"4 c\""
            ]
          },
          "metadata": {}
        }
      ]
    },
    {
      "cell_type": "markdown",
      "source": [
        "2. Write a script that loops through the gapminder data by continent and prints out whether the mean life expectancy is smaller or larger than 50 years."
      ],
      "metadata": {
        "id": "ETTTPaFjU9N1"
      }
    },
    {
      "cell_type": "code",
      "source": [
        "continents <- unique(gapminder$continent)\n",
        "for(continent in continents) {\n",
        "  data_sub <- subset(gapminder, continent == continent)\n",
        "  mean_lifeExp <- mean(data_sub$lifeExp)\n",
        "  if(mean_lifeExp > 50) {\n",
        "    print(paste(continent, \": MLE is larger than 50 years\"))\n",
        "  } else {\n",
        "    print(paste(continent, \": MLE is smaller than 50 years\"))\n",
        "  }\n",
        "}"
      ],
      "metadata": {
        "id": "wqDTcAMZU_j-",
        "colab": {
          "base_uri": "https://localhost:8080/"
        },
        "outputId": "a386b9f5-e881-4102-b81a-13df0fbe1587"
      },
      "execution_count": null,
      "outputs": [
        {
          "output_type": "stream",
          "name": "stdout",
          "text": [
            "[1] \"Asia : MLE is larger than 50 years\"\n",
            "[1] \"Europe : MLE is larger than 50 years\"\n",
            "[1] \"Africa : MLE is larger than 50 years\"\n",
            "[1] \"Americas : MLE is larger than 50 years\"\n",
            "[1] \"Oceania : MLE is larger than 50 years\"\n"
          ]
        }
      ]
    },
    {
      "cell_type": "code",
      "source": [],
      "metadata": {
        "id": "-7zHh1DfVA0I"
      },
      "execution_count": null,
      "outputs": []
    },
    {
      "cell_type": "markdown",
      "source": [
        "3. Modify the script from Challenge 3 to loop over each country. This time print out whether the life expectancy is smaller than 50, between 50 and 70, or greater than 70."
      ],
      "metadata": {
        "id": "No1zN4GyVBel"
      }
    },
    {
      "cell_type": "code",
      "source": [
        "countries <- unique(gapminder$country)"
      ],
      "metadata": {
        "id": "snZLkygKsz6t"
      },
      "execution_count": null,
      "outputs": []
    },
    {
      "cell_type": "code",
      "source": [
        "\n",
        "for(country in countries) {\n",
        "  data_sub <- subset(gapminder, country == countries)\n",
        "  mean_lifeExp <- mean(data_sub$lifeExp)\n",
        "  if(mean_lifeExp < 50) {\n",
        "    print(paste(country, \": MLE is smaller than 50\"))\n",
        "  } else if(mean_lifeExp >= 50 & mean_lifeExp <= 70) {\n",
        "    print(paste(country, \": MLE is between 50 and 70\"))\n",
        "  } else {\n",
        "    print(paste(country, \": MLE is greater than 70\"))\n",
        "  }\n",
        "}"
      ],
      "metadata": {
        "id": "ijtstS4rVJUy",
        "colab": {
          "base_uri": "https://localhost:8080/"
        },
        "outputId": "204ffbf4-e937-41a8-aeec-a5ff74cde896"
      },
      "execution_count": null,
      "outputs": [
        {
          "output_type": "stream",
          "name": "stdout",
          "text": [
            "[1] \"Afghanistan : MLE is between 50 and 70\"\n",
            "[1] \"Albania : MLE is between 50 and 70\"\n",
            "[1] \"Algeria : MLE is between 50 and 70\"\n",
            "[1] \"Angola : MLE is between 50 and 70\"\n",
            "[1] \"Argentina : MLE is between 50 and 70\"\n",
            "[1] \"Australia : MLE is between 50 and 70\"\n",
            "[1] \"Austria : MLE is between 50 and 70\"\n",
            "[1] \"Bahrain : MLE is between 50 and 70\"\n",
            "[1] \"Bangladesh : MLE is between 50 and 70\"\n",
            "[1] \"Belgium : MLE is between 50 and 70\"\n",
            "[1] \"Benin : MLE is between 50 and 70\"\n",
            "[1] \"Bolivia : MLE is between 50 and 70\"\n",
            "[1] \"Bosnia and Herzegovina : MLE is between 50 and 70\"\n",
            "[1] \"Botswana : MLE is between 50 and 70\"\n",
            "[1] \"Brazil : MLE is between 50 and 70\"\n",
            "[1] \"Bulgaria : MLE is between 50 and 70\"\n",
            "[1] \"Burkina Faso : MLE is between 50 and 70\"\n",
            "[1] \"Burundi : MLE is between 50 and 70\"\n",
            "[1] \"Cambodia : MLE is between 50 and 70\"\n",
            "[1] \"Cameroon : MLE is between 50 and 70\"\n",
            "[1] \"Canada : MLE is between 50 and 70\"\n",
            "[1] \"Central African Republic : MLE is between 50 and 70\"\n",
            "[1] \"Chad : MLE is between 50 and 70\"\n",
            "[1] \"Chile : MLE is between 50 and 70\"\n",
            "[1] \"China : MLE is between 50 and 70\"\n",
            "[1] \"Colombia : MLE is between 50 and 70\"\n",
            "[1] \"Comoros : MLE is between 50 and 70\"\n",
            "[1] \"Congo, Dem. Rep. : MLE is between 50 and 70\"\n",
            "[1] \"Congo, Rep. : MLE is between 50 and 70\"\n",
            "[1] \"Costa Rica : MLE is between 50 and 70\"\n",
            "[1] \"Cote d'Ivoire : MLE is between 50 and 70\"\n",
            "[1] \"Croatia : MLE is between 50 and 70\"\n",
            "[1] \"Cuba : MLE is between 50 and 70\"\n",
            "[1] \"Czech Republic : MLE is between 50 and 70\"\n",
            "[1] \"Denmark : MLE is between 50 and 70\"\n",
            "[1] \"Djibouti : MLE is between 50 and 70\"\n",
            "[1] \"Dominican Republic : MLE is between 50 and 70\"\n",
            "[1] \"Ecuador : MLE is between 50 and 70\"\n",
            "[1] \"Egypt : MLE is between 50 and 70\"\n",
            "[1] \"El Salvador : MLE is between 50 and 70\"\n",
            "[1] \"Equatorial Guinea : MLE is between 50 and 70\"\n",
            "[1] \"Eritrea : MLE is between 50 and 70\"\n",
            "[1] \"Ethiopia : MLE is between 50 and 70\"\n",
            "[1] \"Finland : MLE is between 50 and 70\"\n",
            "[1] \"France : MLE is between 50 and 70\"\n",
            "[1] \"Gabon : MLE is between 50 and 70\"\n",
            "[1] \"Gambia : MLE is between 50 and 70\"\n",
            "[1] \"Germany : MLE is between 50 and 70\"\n",
            "[1] \"Ghana : MLE is between 50 and 70\"\n",
            "[1] \"Greece : MLE is between 50 and 70\"\n",
            "[1] \"Guatemala : MLE is between 50 and 70\"\n",
            "[1] \"Guinea : MLE is between 50 and 70\"\n",
            "[1] \"Guinea-Bissau : MLE is between 50 and 70\"\n",
            "[1] \"Haiti : MLE is between 50 and 70\"\n",
            "[1] \"Honduras : MLE is between 50 and 70\"\n",
            "[1] \"Hong Kong, China : MLE is between 50 and 70\"\n",
            "[1] \"Hungary : MLE is between 50 and 70\"\n",
            "[1] \"Iceland : MLE is between 50 and 70\"\n",
            "[1] \"India : MLE is between 50 and 70\"\n",
            "[1] \"Indonesia : MLE is between 50 and 70\"\n",
            "[1] \"Iran : MLE is between 50 and 70\"\n",
            "[1] \"Iraq : MLE is between 50 and 70\"\n",
            "[1] \"Ireland : MLE is between 50 and 70\"\n",
            "[1] \"Israel : MLE is between 50 and 70\"\n",
            "[1] \"Italy : MLE is between 50 and 70\"\n",
            "[1] \"Jamaica : MLE is between 50 and 70\"\n",
            "[1] \"Japan : MLE is between 50 and 70\"\n",
            "[1] \"Jordan : MLE is between 50 and 70\"\n",
            "[1] \"Kenya : MLE is between 50 and 70\"\n",
            "[1] \"Korea, Dem. Rep. : MLE is between 50 and 70\"\n",
            "[1] \"Korea, Rep. : MLE is between 50 and 70\"\n",
            "[1] \"Kuwait : MLE is between 50 and 70\"\n",
            "[1] \"Lebanon : MLE is between 50 and 70\"\n",
            "[1] \"Lesotho : MLE is between 50 and 70\"\n",
            "[1] \"Liberia : MLE is between 50 and 70\"\n",
            "[1] \"Libya : MLE is between 50 and 70\"\n",
            "[1] \"Madagascar : MLE is between 50 and 70\"\n",
            "[1] \"Malawi : MLE is between 50 and 70\"\n",
            "[1] \"Malaysia : MLE is between 50 and 70\"\n",
            "[1] \"Mali : MLE is between 50 and 70\"\n",
            "[1] \"Mauritania : MLE is between 50 and 70\"\n",
            "[1] \"Mauritius : MLE is between 50 and 70\"\n",
            "[1] \"Mexico : MLE is between 50 and 70\"\n",
            "[1] \"Mongolia : MLE is between 50 and 70\"\n",
            "[1] \"Montenegro : MLE is between 50 and 70\"\n",
            "[1] \"Morocco : MLE is between 50 and 70\"\n",
            "[1] \"Mozambique : MLE is between 50 and 70\"\n",
            "[1] \"Myanmar : MLE is between 50 and 70\"\n",
            "[1] \"Namibia : MLE is between 50 and 70\"\n",
            "[1] \"Nepal : MLE is between 50 and 70\"\n",
            "[1] \"Netherlands : MLE is between 50 and 70\"\n",
            "[1] \"New Zealand : MLE is between 50 and 70\"\n",
            "[1] \"Nicaragua : MLE is between 50 and 70\"\n",
            "[1] \"Niger : MLE is between 50 and 70\"\n",
            "[1] \"Nigeria : MLE is between 50 and 70\"\n",
            "[1] \"Norway : MLE is between 50 and 70\"\n",
            "[1] \"Oman : MLE is between 50 and 70\"\n",
            "[1] \"Pakistan : MLE is between 50 and 70\"\n",
            "[1] \"Panama : MLE is between 50 and 70\"\n",
            "[1] \"Paraguay : MLE is between 50 and 70\"\n",
            "[1] \"Peru : MLE is between 50 and 70\"\n",
            "[1] \"Philippines : MLE is between 50 and 70\"\n",
            "[1] \"Poland : MLE is between 50 and 70\"\n",
            "[1] \"Portugal : MLE is between 50 and 70\"\n",
            "[1] \"Puerto Rico : MLE is between 50 and 70\"\n",
            "[1] \"Reunion : MLE is between 50 and 70\"\n",
            "[1] \"Romania : MLE is between 50 and 70\"\n",
            "[1] \"Rwanda : MLE is between 50 and 70\"\n",
            "[1] \"Sao Tome and Principe : MLE is between 50 and 70\"\n",
            "[1] \"Saudi Arabia : MLE is between 50 and 70\"\n",
            "[1] \"Senegal : MLE is between 50 and 70\"\n",
            "[1] \"Serbia : MLE is between 50 and 70\"\n",
            "[1] \"Sierra Leone : MLE is between 50 and 70\"\n",
            "[1] \"Singapore : MLE is between 50 and 70\"\n",
            "[1] \"Slovak Republic : MLE is between 50 and 70\"\n",
            "[1] \"Slovenia : MLE is between 50 and 70\"\n",
            "[1] \"Somalia : MLE is between 50 and 70\"\n",
            "[1] \"South Africa : MLE is between 50 and 70\"\n",
            "[1] \"Spain : MLE is between 50 and 70\"\n",
            "[1] \"Sri Lanka : MLE is between 50 and 70\"\n",
            "[1] \"Sudan : MLE is between 50 and 70\"\n",
            "[1] \"Swaziland : MLE is between 50 and 70\"\n",
            "[1] \"Sweden : MLE is between 50 and 70\"\n",
            "[1] \"Switzerland : MLE is between 50 and 70\"\n",
            "[1] \"Syria : MLE is between 50 and 70\"\n",
            "[1] \"Taiwan : MLE is between 50 and 70\"\n",
            "[1] \"Tanzania : MLE is between 50 and 70\"\n",
            "[1] \"Thailand : MLE is between 50 and 70\"\n",
            "[1] \"Togo : MLE is between 50 and 70\"\n",
            "[1] \"Trinidad and Tobago : MLE is between 50 and 70\"\n",
            "[1] \"Tunisia : MLE is between 50 and 70\"\n",
            "[1] \"Turkey : MLE is between 50 and 70\"\n",
            "[1] \"Uganda : MLE is between 50 and 70\"\n",
            "[1] \"United Kingdom : MLE is between 50 and 70\"\n",
            "[1] \"United States : MLE is between 50 and 70\"\n",
            "[1] \"Uruguay : MLE is between 50 and 70\"\n",
            "[1] \"Venezuela : MLE is between 50 and 70\"\n",
            "[1] \"Vietnam : MLE is between 50 and 70\"\n",
            "[1] \"West Bank and Gaza : MLE is between 50 and 70\"\n",
            "[1] \"Yemen, Rep. : MLE is between 50 and 70\"\n",
            "[1] \"Zambia : MLE is between 50 and 70\"\n",
            "[1] \"Zimbabwe : MLE is between 50 and 70\"\n"
          ]
        }
      ]
    },
    {
      "cell_type": "code",
      "source": [],
      "metadata": {
        "id": "AVCA58k6VEMK"
      },
      "execution_count": null,
      "outputs": []
    },
    {
      "cell_type": "markdown",
      "source": [
        "4. Write a script that loops over each country in the gapminder dataset, tests whether the country starts with a ‘B’, and graphs life expectancy against time as a line graph if the mean life expectancy is under 50 years."
      ],
      "metadata": {
        "id": "DBknOb68VGyh"
      }
    },
    {
      "cell_type": "code",
      "source": [
        "countries <- unique(gapminder$country)"
      ],
      "metadata": {
        "id": "hWVpROtqvYiw"
      },
      "execution_count": null,
      "outputs": []
    },
    {
      "cell_type": "code",
      "source": [
        "for(country in countries) {\n",
        "  if(str_detect(country, \"^B\")) {\n",
        "    data_sub <- subset(gapminder, country == country)\n",
        "    mean_lifeExp <- mean(data_sub$lifeExp)\n",
        "    if(mean_lifeExp < 50) {\n",
        "      print(\n",
        "        ggplot(data_sub, aes(x = year, y = lifeExp)) +\n",
        "        geom_line() +\n",
        "        labs(title = paste(\"Life expectancy over time in\", country),\n",
        "             x = \"Year\", y = \"Life expectancy\") +\n",
        "        theme_minimal()\n",
        "      )\n",
        "    }\n",
        "  }\n",
        "}"
      ],
      "metadata": {
        "id": "LNQwDU5DVHse"
      },
      "execution_count": null,
      "outputs": []
    },
    {
      "cell_type": "code",
      "source": [],
      "metadata": {
        "id": "UByqlylPVIxX"
      },
      "execution_count": null,
      "outputs": []
    },
    {
      "cell_type": "markdown",
      "source": [
        "#### sample()"
      ],
      "metadata": {
        "id": "swfP3M86VRvP"
      }
    },
    {
      "cell_type": "code",
      "source": [
        "#basic usage\n",
        "#basic usage\n",
        "a <- c(1:10)\n",
        "a"
      ],
      "metadata": {
        "id": "yOn23uuEVThu",
        "colab": {
          "base_uri": "https://localhost:8080/",
          "height": 34
        },
        "outputId": "58624271-7576-4347-94de-1a3f5162c1e1"
      },
      "execution_count": null,
      "outputs": [
        {
          "output_type": "display_data",
          "data": {
            "text/html": [
              "<style>\n",
              ".list-inline {list-style: none; margin:0; padding: 0}\n",
              ".list-inline>li {display: inline-block}\n",
              ".list-inline>li:not(:last-child)::after {content: \"\\00b7\"; padding: 0 .5ex}\n",
              "</style>\n",
              "<ol class=list-inline><li>1</li><li>2</li><li>3</li><li>4</li><li>5</li><li>6</li><li>7</li><li>8</li><li>9</li><li>10</li></ol>\n"
            ],
            "text/markdown": "1. 1\n2. 2\n3. 3\n4. 4\n5. 5\n6. 6\n7. 7\n8. 8\n9. 9\n10. 10\n\n\n",
            "text/latex": "\\begin{enumerate*}\n\\item 1\n\\item 2\n\\item 3\n\\item 4\n\\item 5\n\\item 6\n\\item 7\n\\item 8\n\\item 9\n\\item 10\n\\end{enumerate*}\n",
            "text/plain": [
              " [1]  1  2  3  4  5  6  7  8  9 10"
            ]
          },
          "metadata": {}
        }
      ]
    },
    {
      "cell_type": "code",
      "source": [
        "#coin example\n",
        "sample(a, 3, replace = TRUE)"
      ],
      "metadata": {
        "id": "PCmSBAbeVXZV",
        "colab": {
          "base_uri": "https://localhost:8080/",
          "height": 34
        },
        "outputId": "053dc978-24d3-4b4e-866e-562f9879f74b"
      },
      "execution_count": null,
      "outputs": [
        {
          "output_type": "display_data",
          "data": {
            "text/html": [
              "<style>\n",
              ".list-inline {list-style: none; margin:0; padding: 0}\n",
              ".list-inline>li {display: inline-block}\n",
              ".list-inline>li:not(:last-child)::after {content: \"\\00b7\"; padding: 0 .5ex}\n",
              "</style>\n",
              "<ol class=list-inline><li>8</li><li>7</li><li>9</li></ol>\n"
            ],
            "text/markdown": "1. 8\n2. 7\n3. 9\n\n\n",
            "text/latex": "\\begin{enumerate*}\n\\item 8\n\\item 7\n\\item 9\n\\end{enumerate*}\n",
            "text/plain": [
              "[1] 8 7 9"
            ]
          },
          "metadata": {}
        }
      ]
    },
    {
      "cell_type": "code",
      "source": [
        "coin <- c('head', 'tail')\n",
        "flips <- c()\n",
        "for (i in 1:100){\n",
        "  flip <- sample(coin, 1, replace = TRUE)\n",
        "  flips <- c(flips, flip)\n",
        "}"
      ],
      "metadata": {
        "id": "ikiuGzJAWgkG"
      },
      "execution_count": null,
      "outputs": []
    },
    {
      "cell_type": "code",
      "source": [
        "#replacement or not\n",
        "sample(gapminder$lifeExp, 2)"
      ],
      "metadata": {
        "id": "N8cYqr5MWjhm",
        "colab": {
          "base_uri": "https://localhost:8080/",
          "height": 34
        },
        "outputId": "2729395d-5a99-489a-9d0a-5fb4f0bebaa5"
      },
      "execution_count": null,
      "outputs": [
        {
          "output_type": "display_data",
          "data": {
            "text/html": [
              "<style>\n",
              ".list-inline {list-style: none; margin:0; padding: 0}\n",
              ".list-inline>li {display: inline-block}\n",
              ".list-inline>li:not(:last-child)::after {content: \"\\00b7\"; padding: 0 .5ex}\n",
              "</style>\n",
              "<ol class=list-inline><li>68.29</li><li>45.053</li></ol>\n"
            ],
            "text/markdown": "1. 68.29\n2. 45.053\n\n\n",
            "text/latex": "\\begin{enumerate*}\n\\item 68.29\n\\item 45.053\n\\end{enumerate*}\n",
            "text/plain": [
              "[1] 68.290 45.053"
            ]
          },
          "metadata": {}
        }
      ]
    },
    {
      "cell_type": "markdown",
      "source": [
        "1. Gapminder -- take samples of size 10 and compute average GDP.  Plot the distribution."
      ],
      "metadata": {
        "id": "fO_vnC4XVXVt"
      }
    },
    {
      "cell_type": "code",
      "source": [],
      "metadata": {
        "id": "OPOX2r1dVXSC"
      },
      "execution_count": null,
      "outputs": []
    },
    {
      "cell_type": "markdown",
      "source": [],
      "metadata": {
        "id": "Z9_ZBWeMyCtJ"
      }
    },
    {
      "cell_type": "code",
      "source": [],
      "metadata": {
        "id": "8h4KzV3xVXOq"
      },
      "execution_count": null,
      "outputs": []
    },
    {
      "cell_type": "markdown",
      "source": [
        "2. Return to the german tank problem.  Imagine an army of 500 tanks.  Compare at least 4 different methods by sampling the population and computing suggested statistics.  Plot the distribution."
      ],
      "metadata": {
        "id": "p1DBpXnhWQ5U"
      }
    },
    {
      "cell_type": "code",
      "source": [
        "tanks <- c(1:500)\n",
        "samp_estimate <- c()\n",
        "for (i in 1:100){\n",
        "  #sample of size 10\n",
        "  s <- sample(tanks, 10, replace = TRUE)\n",
        "  #compute the estimate -- mean x 2\n",
        "  estimate <- mean(s)*2\n",
        "  #tack that on to samp_estimate\n",
        "  samp_estimate <- c(samp_estimate, estimate)\n",
        "}"
      ],
      "metadata": {
        "id": "UiFNYtXCVXKv"
      },
      "execution_count": null,
      "outputs": []
    },
    {
      "cell_type": "code",
      "source": [
        "hist(samp_estimate)"
      ],
      "metadata": {
        "id": "e68duREOVXHW",
        "colab": {
          "base_uri": "https://localhost:8080/",
          "height": 437
        },
        "outputId": "1a031d09-eefb-442c-bceb-c1b96129990c"
      },
      "execution_count": null,
      "outputs": [
        {
          "output_type": "display_data",
          "data": {
            "text/plain": [
              "Plot with title “Histogram of samp_estimate”"
            ],
            "image/png": "[encoded data removed]"
          },
          "metadata": {
            "image/png": {
              "width": 420,
              "height": 420
            }
          }
        }
      ]
    },
    {
      "cell_type": "code",
      "source": [
        "tanks <- c(1:500)\n",
        "samp_estimate <- c()\n",
        "for (i in 1:100){\n",
        "  #sample of size 10\n",
        "  s <- sample(tanks, 10, replace = TRUE)\n",
        "  #compute the estimate -- mean x 2\n",
        "  estimate <- median(s)*2\n",
        "  #tack that on to samp_estimate\n",
        "  samp_estimate <- c(samp_estimate, estimate)\n",
        "}"
      ],
      "metadata": {
        "id": "azj9-3Vj1T5H"
      },
      "execution_count": null,
      "outputs": []
    },
    {
      "cell_type": "code",
      "source": [
        "hist(samp_estimate)"
      ],
      "metadata": {
        "colab": {
          "base_uri": "https://localhost:8080/",
          "height": 437
        },
        "id": "XJ6ylmsE1V6A",
        "outputId": "228c12b7-e79a-4348-88e9-fc074d481d3c"
      },
      "execution_count": null,
      "outputs": [
        {
          "output_type": "display_data",
          "data": {
            "text/plain": [
              "Plot with title “Histogram of samp_estimate”"
            ],
            "image/png": "[encoded data removed]"
          },
          "metadata": {
            "image/png": {
              "width": 420,
              "height": 420
            }
          }
        }
      ]
    },
    {
      "cell_type": "code",
      "source": [
        "tanks <- c(1:500)\n",
        "samp_estimate <- c()\n",
        "for (i in 1:100){\n",
        "  #sample of size 10\n",
        "  s <- sample(tanks, 10, replace = TRUE)\n",
        "  #compute the estimate -- mean x 2\n",
        "  estimate <- (max(s) - min(s)) + max(s)\n",
        "  #tack that on to samp_estimate\n",
        "  samp_estimate <- c(samp_estimate, estimate)\n",
        "}"
      ],
      "metadata": {
        "id": "bZot4Nxv1XKZ"
      },
      "execution_count": null,
      "outputs": []
    },
    {
      "cell_type": "code",
      "source": [
        "hist(samp_estimate)"
      ],
      "metadata": {
        "colab": {
          "base_uri": "https://localhost:8080/",
          "height": 437
        },
        "id": "GNHe8ZX01ZnC",
        "outputId": "0a335525-8f27-4c3a-dc90-a9102b716417"
      },
      "execution_count": null,
      "outputs": [
        {
          "output_type": "display_data",
          "data": {
            "text/plain": [
              "Plot with title “Histogram of samp_estimate”"
            ],
            "image/png": "[encoded data removed]"
          },
          "metadata": {
            "image/png": {
              "width": 420,
              "height": 420
            }
          }
        }
      ]
    },
    {
      "cell_type": "code",
      "source": [],
      "metadata": {
        "id": "hEfq4wDu1bV7"
      },
      "execution_count": null,
      "outputs": []
    }
  ]
}